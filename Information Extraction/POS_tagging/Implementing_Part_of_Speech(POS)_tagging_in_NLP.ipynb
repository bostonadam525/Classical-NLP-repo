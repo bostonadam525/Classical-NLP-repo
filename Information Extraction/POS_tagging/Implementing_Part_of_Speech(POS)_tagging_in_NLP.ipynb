{
  "nbformat": 4,
  "nbformat_minor": 0,
  "metadata": {
    "colab": {
      "provenance": []
    },
    "kernelspec": {
      "name": "python3",
      "display_name": "Python 3"
    },
    "language_info": {
      "name": "python"
    }
  },
  "cells": [
    {
      "cell_type": "markdown",
      "source": [
        "# Implementing Part of Speech (POS) Tagging in NLP\n",
        "* Notebook by Adam Lang\n",
        "* Date: 3/26/2024\n",
        "* In this notebook we will demonstrate implementation and use cases of part of speech tagging in NLP in Python.\n"
      ],
      "metadata": {
        "id": "A-vBQYNt2cZP"
      }
    },
    {
      "cell_type": "code",
      "execution_count": 1,
      "metadata": {
        "id": "qk2IMAzQ2QZr"
      },
      "outputs": [],
      "source": [
        "# import spacy library\n",
        "import spacy"
      ]
    },
    {
      "cell_type": "code",
      "source": [
        "# define a string to parse\n",
        "text = \"With great power comes great responsibility.\""
      ],
      "metadata": {
        "id": "Pg4TkTc82vMt"
      },
      "execution_count": 2,
      "outputs": []
    },
    {
      "cell_type": "code",
      "source": [
        "# load a spacy language model\n",
        "nlp = spacy.load('en_core_web_sm')"
      ],
      "metadata": {
        "id": "FFZOwdVl2zwD"
      },
      "execution_count": 3,
      "outputs": []
    },
    {
      "cell_type": "code",
      "source": [
        "# create spacy doc object\n",
        "doc = nlp(text)"
      ],
      "metadata": {
        "id": "kuDaQNmL242M"
      },
      "execution_count": 4,
      "outputs": []
    },
    {
      "cell_type": "code",
      "source": [
        "# parse for POS tags\n",
        "for token in doc:\n",
        "  print(token.text, '=>', token.pos_, '=>', token.tag_)"
      ],
      "metadata": {
        "colab": {
          "base_uri": "https://localhost:8080/"
        },
        "id": "W5U9cFpZ27_O",
        "outputId": "ecbf9656-2535-44dd-a63e-82863960b4ac"
      },
      "execution_count": 6,
      "outputs": [
        {
          "output_type": "stream",
          "name": "stdout",
          "text": [
            "With => ADP => IN\n",
            "great => ADJ => JJ\n",
            "power => NOUN => NN\n",
            "comes => VERB => VBZ\n",
            "great => ADJ => JJ\n",
            "responsibility => NOUN => NN\n",
            ". => PUNCT => .\n"
          ]
        }
      ]
    },
    {
      "cell_type": "markdown",
      "source": [
        "Summary of the output:\n",
        "* spacy gives 2 methods for analyzing POS\n",
        "\n",
        "1. `.pos_` - returns the 'universal POS tags'\n",
        "2. `.tag_` - returns 'detailed POS tags'(more granular version of POS)"
      ],
      "metadata": {
        "id": "7uXAr2Tn3Sg_"
      }
    },
    {
      "cell_type": "code",
      "source": [
        "## define another string to test\n",
        "text = \"The teacher reads a book to her students then asks them questions about the story.\""
      ],
      "metadata": {
        "id": "MKx3aGQV3F4B"
      },
      "execution_count": 7,
      "outputs": []
    },
    {
      "cell_type": "code",
      "source": [
        "# create spacy doc object\n",
        "doc=nlp(text)"
      ],
      "metadata": {
        "id": "Nuu-IJvy3y4E"
      },
      "execution_count": 8,
      "outputs": []
    },
    {
      "cell_type": "code",
      "source": [
        "# parse text for POS tags\n",
        "for token in doc:\n",
        "  print(token.text,'=>',token.pos_,'=>',token.tag_,'=>')"
      ],
      "metadata": {
        "colab": {
          "base_uri": "https://localhost:8080/"
        },
        "id": "RYsWB6cr32Eg",
        "outputId": "a5c1a495-1d43-498a-a44a-a9dd6b03e47f"
      },
      "execution_count": 9,
      "outputs": [
        {
          "output_type": "stream",
          "name": "stdout",
          "text": [
            "The => DET => DT =>\n",
            "teacher => NOUN => NN =>\n",
            "reads => VERB => VBZ =>\n",
            "a => DET => DT =>\n",
            "book => NOUN => NN =>\n",
            "to => ADP => IN =>\n",
            "her => PRON => PRP$ =>\n",
            "students => NOUN => NNS =>\n",
            "then => ADV => RB =>\n",
            "asks => VERB => VBZ =>\n",
            "them => PRON => PRP =>\n",
            "questions => NOUN => NNS =>\n",
            "about => ADP => IN =>\n",
            "the => DET => DT =>\n",
            "story => NOUN => NN =>\n",
            ". => PUNCT => . =>\n"
          ]
        }
      ]
    },
    {
      "cell_type": "markdown",
      "source": [
        "summary of above:\n",
        "* Again we can see the standard POS tag and the detailed tag for each part of the sentence in the text variable."
      ],
      "metadata": {
        "id": "_zgFmV1U4TiR"
      }
    },
    {
      "cell_type": "markdown",
      "source": [
        "## Parsing for words based on POS tags\n",
        "* Rather than tagging or labeling, we can search text based on predicted POS tags."
      ],
      "metadata": {
        "id": "RAsrl5j24d55"
      }
    },
    {
      "cell_type": "code",
      "source": [
        "# extract verbs from a sentence\n",
        "[token.text for token in doc if(token.pos_ == 'VERB')]"
      ],
      "metadata": {
        "colab": {
          "base_uri": "https://localhost:8080/"
        },
        "id": "CdgH4jei4DvM",
        "outputId": "f1089c6c-82ce-4e40-d69c-fd08a3b8c4ee"
      },
      "execution_count": 10,
      "outputs": [
        {
          "output_type": "execute_result",
          "data": {
            "text/plain": [
              "['reads', 'asks']"
            ]
          },
          "metadata": {},
          "execution_count": 10
        }
      ]
    },
    {
      "cell_type": "code",
      "source": [
        "# extract nouns from sentence\n",
        "[token.text for token in doc if(token.pos_ == 'NOUN')]"
      ],
      "metadata": {
        "colab": {
          "base_uri": "https://localhost:8080/"
        },
        "id": "cTUPUtWU41ZE",
        "outputId": "dde08d81-519d-4d73-bcfe-d76f2d70c700"
      },
      "execution_count": 11,
      "outputs": [
        {
          "output_type": "execute_result",
          "data": {
            "text/plain": [
              "['teacher', 'book', 'students', 'questions', 'story']"
            ]
          },
          "metadata": {},
          "execution_count": 11
        }
      ]
    },
    {
      "cell_type": "markdown",
      "source": [
        "# Exercise using POS tagging\n",
        "* In this exercise we will use a text file 'moon.txt' to perform POS tagging.\n",
        "* We will do the following:\n",
        "\n",
        "1. Read file into notebook.\n",
        "2. Annotate POS tags.\n",
        "3. Count number of nouns and verbs seen in the file."
      ],
      "metadata": {
        "id": "Ffv7HKJz5J08"
      }
    },
    {
      "cell_type": "code",
      "source": [
        "# open file\n",
        "file = open('/content/drive/MyDrive/Colab Notebooks/Classical NLP/moon.txt','r',encoding='utf-8')\n",
        "\n",
        "# read file as strings\n",
        "text = file.readline()\n",
        "\n",
        "\n",
        "# close file\n",
        "file.close()\n",
        "\n"
      ],
      "metadata": {
        "id": "VTK5mtHk48Xf"
      },
      "execution_count": 17,
      "outputs": []
    },
    {
      "cell_type": "code",
      "source": [
        "# view text file\n",
        "print(file)"
      ],
      "metadata": {
        "colab": {
          "base_uri": "https://localhost:8080/"
        },
        "id": "u-posh6-6Al5",
        "outputId": "ef473cf9-c757-431b-ed7e-89a9dfed93c6"
      },
      "execution_count": 18,
      "outputs": [
        {
          "output_type": "stream",
          "name": "stdout",
          "text": [
            "<_io.TextIOWrapper name='/content/drive/MyDrive/Colab Notebooks/Classical NLP/moon.txt' mode='r' encoding='utf-8'>\n"
          ]
        }
      ]
    },
    {
      "cell_type": "code",
      "source": [
        "# import spacy\n",
        "import spacy"
      ],
      "metadata": {
        "id": "Dwv2eqbq6EXt"
      },
      "execution_count": 16,
      "outputs": []
    },
    {
      "cell_type": "code",
      "source": [
        "# load language model\n",
        "nlp = spacy.load('en_core_web_sm')"
      ],
      "metadata": {
        "id": "CSumc6rJ6dDx"
      },
      "execution_count": 19,
      "outputs": []
    },
    {
      "cell_type": "code",
      "source": [
        "# create doc object\n",
        "doc = nlp(text)"
      ],
      "metadata": {
        "id": "ZZXoZBvW6pGg"
      },
      "execution_count": 20,
      "outputs": []
    },
    {
      "cell_type": "markdown",
      "source": [
        "## Parse for POS tags"
      ],
      "metadata": {
        "id": "8b5cijdQ7ASr"
      }
    },
    {
      "cell_type": "code",
      "source": [
        "# parse for POS tags:\n",
        "for token in doc:\n",
        "  print(token.text,'=>',token.pos_,'=>',token.tag_,'=>')"
      ],
      "metadata": {
        "colab": {
          "base_uri": "https://localhost:8080/"
        },
        "id": "r2i7HdAa6tlU",
        "outputId": "d4ab6ae0-cdf5-42b8-f1cf-84bafd3d6b1b"
      },
      "execution_count": 21,
      "outputs": [
        {
          "output_type": "stream",
          "name": "stdout",
          "text": [
            "The => DET => DT =>\n",
            "moon => NOUN => NN =>\n",
            "is => AUX => VBZ =>\n",
            "the => DET => DT =>\n",
            "satellite => NOUN => NN =>\n",
            "of => ADP => IN =>\n",
            "the => DET => DT =>\n",
            "earth => NOUN => NN =>\n",
            ". => PUNCT => . =>\n",
            "It => PRON => PRP =>\n",
            "moves => VERB => VBZ =>\n",
            "round => ADP => IN =>\n",
            "the => DET => DT =>\n",
            "earth => NOUN => NN =>\n",
            ". => PUNCT => . =>\n",
            "It => PRON => PRP =>\n",
            "shines => VERB => VBZ =>\n",
            "at => ADP => IN =>\n",
            "night => NOUN => NN =>\n",
            "by => ADP => IN =>\n",
            "light => NOUN => NN =>\n",
            "reflected => VERB => VBN =>\n",
            "from => ADP => IN =>\n",
            "the => DET => DT =>\n",
            "Sun => PROPN => NNP =>\n",
            ". => PUNCT => . =>\n",
            "It => PRON => PRP =>\n",
            "looks => VERB => VBZ =>\n",
            "beautiful => ADJ => JJ =>\n",
            ". => PUNCT => . =>\n",
            "The => DET => DT =>\n",
            "bright => ADJ => JJ =>\n",
            "Moonlight => PROPN => NNP =>\n",
            "is => AUX => VBZ =>\n",
            "very => ADV => RB =>\n",
            "soothing => ADJ => JJ =>\n",
            ". => PUNCT => . =>\n",
            "The => DET => DT =>\n",
            "earthly => ADJ => JJ =>\n",
            "objects => NOUN => NNS =>\n",
            "shine => VERB => VBP =>\n",
            "like => ADP => IN =>\n",
            "silver => NOUN => NN =>\n",
            "in => ADP => IN =>\n",
            "the => DET => DT =>\n",
            "moonlight => NOUN => NN =>\n",
            ". => PUNCT => . =>\n",
            "We => PRON => PRP =>\n",
            "are => AUX => VBP =>\n",
            "fascinated => VERB => VBN =>\n",
            "by => ADP => IN =>\n",
            "the => DET => DT =>\n",
            "enchanting => ADJ => JJ =>\n",
            "beauty => NOUN => NN =>\n",
            "of => ADP => IN =>\n",
            "the => DET => DT =>\n",
            "Moon => PROPN => NNP =>\n",
            ". => PUNCT => . =>\n",
            "The => DET => DT =>\n",
            "moon => NOUN => NN =>\n",
            "is => AUX => VBZ =>\n",
            "not => PART => RB =>\n",
            "as => ADV => RB =>\n",
            "beautiful => ADJ => JJ =>\n",
            "as => SCONJ => IN =>\n",
            "it => PRON => PRP =>\n",
            "looks => VERB => VBZ =>\n",
            ". => PUNCT => . =>\n",
            "It => PRON => PRP =>\n",
            "seems => VERB => VBZ =>\n",
            "to => PART => TO =>\n",
            "be => AUX => VB =>\n",
            "lovely => ADJ => JJ =>\n",
            "when => SCONJ => WRB =>\n",
            "it => PRON => PRP =>\n",
            "shines => VERB => VBZ =>\n",
            "in => ADP => IN =>\n",
            "the => DET => DT =>\n",
            "sky => NOUN => NN =>\n",
            "at => ADP => IN =>\n",
            "night => NOUN => NN =>\n",
            ". => PUNCT => . =>\n",
            "As => ADP => IN =>\n",
            "a => DET => DT =>\n",
            "matter => NOUN => NN =>\n",
            "of => ADP => IN =>\n",
            "fact => NOUN => NN =>\n",
            "it => PRON => PRP =>\n",
            "is => AUX => VBZ =>\n",
            "devoid => ADJ => JJ =>\n",
            "of => ADP => IN =>\n",
            "plants => NOUN => NNS =>\n",
            "and => CCONJ => CC =>\n",
            "animals => NOUN => NNS =>\n",
            ". => PUNCT => . =>\n",
            "The => DET => DT =>\n",
            "moon => NOUN => NN =>\n",
            "is => AUX => VBZ =>\n",
            "not => PART => RB =>\n",
            "a => DET => DT =>\n",
            "suitable => ADJ => JJ =>\n",
            "place => NOUN => NN =>\n",
            "for => ADP => IN =>\n",
            "plants => NOUN => NNS =>\n",
            "and => CCONJ => CC =>\n",
            "animals => NOUN => NNS =>\n",
            ". => PUNCT => . =>\n",
            "Therefore => ADV => RB =>\n",
            ", => PUNCT => , =>\n",
            "no => DET => DT =>\n",
            "form => NOUN => NN =>\n",
            "of => ADP => IN =>\n",
            "life => NOUN => NN =>\n",
            "can => AUX => MD =>\n",
            "be => AUX => VB =>\n",
            "found => VERB => VBN =>\n",
            "on => ADP => IN =>\n",
            "the => DET => DT =>\n",
            "moon => NOUN => NN =>\n",
            ". => PUNCT => . =>\n",
            "Unlike => ADP => IN =>\n",
            "the => DET => DT =>\n",
            "earth => NOUN => NN =>\n",
            ", => PUNCT => , =>\n",
            "the => DET => DT =>\n",
            "moon => NOUN => NN =>\n",
            "has => AUX => VBZ =>\n",
            "got => VERB => VBN =>\n",
            "no => DET => DT =>\n",
            "atmosphere => NOUN => NN =>\n",
            ". => PUNCT => . =>\n",
            "Therefore => ADV => RB =>\n",
            ", => PUNCT => , =>\n",
            "the => DET => DT =>\n",
            "lunar => ADJ => JJ =>\n",
            "days => NOUN => NNS =>\n",
            "are => AUX => VBP =>\n",
            "very => ADV => RB =>\n",
            "hot => ADJ => JJ =>\n",
            "and => CCONJ => CC =>\n",
            "the => DET => DT =>\n",
            "lunar => ADJ => JJ =>\n",
            "nights => NOUN => NNS =>\n",
            "are => AUX => VBP =>\n",
            "intensely => ADV => RB =>\n",
            "cold => ADJ => JJ =>\n",
            ". => PUNCT => . =>\n",
            "The => DET => DT =>\n",
            "moon => NOUN => NN =>\n",
            "looks => VERB => VBZ =>\n",
            "beautiful => ADJ => JJ =>\n",
            "from => ADP => IN =>\n",
            "the => DET => DT =>\n",
            "earth => NOUN => NN =>\n",
            "but => CCONJ => CC =>\n",
            "in => ADP => IN =>\n",
            "fact => NOUN => NN =>\n",
            "it => PRON => PRP =>\n",
            "has => VERB => VBZ =>\n",
            "up => ADP => RP =>\n",
            "forbidding => VERB => VBG =>\n",
            "appearance => NOUN => NN =>\n",
            ". => PUNCT => . =>\n",
            "It => PRON => PRP =>\n",
            "is => AUX => VBZ =>\n",
            "full => ADJ => JJ =>\n",
            "of => ADP => IN =>\n",
            "rocks => NOUN => NNS =>\n",
            "and => CCONJ => CC =>\n",
            "craters => NOUN => NNS =>\n",
            ". => PUNCT => . =>\n",
            "When => SCONJ => WRB =>\n",
            "we => PRON => PRP =>\n",
            "look => VERB => VBP =>\n",
            "at => ADP => IN =>\n",
            "the => DET => DT =>\n",
            "moon => NOUN => NN =>\n",
            "at => ADP => IN =>\n",
            "night => NOUN => NN =>\n",
            "we => PRON => PRP =>\n",
            "see => VERB => VBP =>\n",
            "some => DET => DT =>\n",
            "dark => ADJ => JJ =>\n",
            "spots => NOUN => NNS =>\n",
            "on => ADP => IN =>\n",
            "it => PRON => PRP =>\n",
            ". => PUNCT => . =>\n",
            "These => DET => DT =>\n",
            "dark => ADJ => JJ =>\n",
            "spots => NOUN => NNS =>\n",
            "are => AUX => VBP =>\n",
            "dangerous => ADJ => JJ =>\n",
            "rocks => NOUN => NNS =>\n",
            "and => CCONJ => CC =>\n",
            "craters => NOUN => NNS =>\n",
            ". => PUNCT => . =>\n",
            "The => DET => DT =>\n",
            "gravitational => ADJ => JJ =>\n",
            "pull => NOUN => NN =>\n",
            "of => ADP => IN =>\n",
            "the => DET => DT =>\n",
            "moon => NOUN => NN =>\n",
            "is => AUX => VBZ =>\n",
            "less => ADJ => JJR =>\n",
            "than => ADP => IN =>\n",
            "that => PRON => DT =>\n",
            "of => ADP => IN =>\n",
            "the => DET => DT =>\n",
            "earth => NOUN => NN =>\n",
            ", => PUNCT => , =>\n",
            "so => SCONJ => IN =>\n",
            "it => PRON => PRP =>\n",
            "is => AUX => VBZ =>\n",
            "difficult => ADJ => JJ =>\n",
            "to => PART => TO =>\n",
            "walk => VERB => VB =>\n",
            "on => ADP => IN =>\n",
            "the => DET => DT =>\n",
            "surface => NOUN => NN =>\n",
            "of => ADP => IN =>\n",
            "the => DET => DT =>\n",
            "Moon => PROPN => NNP =>\n",
            ". => PUNCT => . =>\n",
            "The => DET => DT =>\n",
            "moon => NOUN => NN =>\n",
            "has => VERB => VBZ =>\n",
            "fascinated => VERB => VBN =>\n",
            "man => NOUN => NN =>\n",
            "since => SCONJ => IN =>\n",
            "the => DET => DT =>\n",
            "beginning => NOUN => NN =>\n",
            "of => ADP => IN =>\n",
            "his => PRON => PRP$ =>\n",
            "life => NOUN => NN =>\n",
            "on => ADP => IN =>\n",
            "the => DET => DT =>\n",
            "earth => NOUN => NN =>\n",
            ". => PUNCT => . =>\n",
            "He => PRON => PRP =>\n",
            "has => AUX => VBZ =>\n",
            "looked => VERB => VBN =>\n",
            "at => ADP => IN =>\n",
            "it => PRON => PRP =>\n",
            "with => ADP => IN =>\n",
            "wonder => NOUN => NN =>\n",
            ". => PUNCT => . =>\n",
            "Many => ADJ => JJ =>\n",
            "poets => NOUN => NNS =>\n",
            "have => AUX => VBP =>\n",
            "composed => VERB => VBN =>\n",
            "beautiful => ADJ => JJ =>\n",
            "poems => NOUN => NNS =>\n",
            "on => ADP => IN =>\n",
            "the => DET => DT =>\n",
            "moon => NOUN => NN =>\n",
            ". => PUNCT => . =>\n",
            "Scientists => NOUN => NNS =>\n",
            "tried => VERB => VBD =>\n",
            "to => PART => TO =>\n",
            "reveal => VERB => VB =>\n",
            "the => DET => DT =>\n",
            "mystery => NOUN => NN =>\n",
            "of => ADP => IN =>\n",
            "the => DET => DT =>\n",
            "moon => NOUN => NN =>\n",
            ". => PUNCT => . =>\n",
            "They => PRON => PRP =>\n",
            "wanted => VERB => VBD =>\n",
            "to => PART => TO =>\n",
            "send => VERB => VB =>\n",
            "human => NOUN => NN =>\n",
            "to => ADP => IN =>\n",
            "the => DET => DT =>\n",
            "moon => NOUN => NN =>\n",
            ". => PUNCT => . =>\n",
            "Several => ADJ => JJ =>\n",
            "attempts => NOUN => NNS =>\n",
            "were => AUX => VBD =>\n",
            "made => VERB => VBN =>\n",
            "to => PART => TO =>\n",
            "place => VERB => VB =>\n",
            "man => NOUN => NN =>\n",
            "on => ADP => IN =>\n",
            "the => DET => DT =>\n",
            "moon => NOUN => NN =>\n",
            ". => PUNCT => . =>\n",
            "At => ADP => IN =>\n",
            "last => ADJ => JJ =>\n",
            "two => NUM => CD =>\n",
            "Americans => PROPN => NNPS =>\n",
            "- => PUNCT => : =>\n",
            "Neil => PROPN => NNP =>\n",
            "Armstrong => PROPN => NNP =>\n",
            "and => CCONJ => CC =>\n",
            "Edwin => PROPN => NNP =>\n",
            "Aldrin => PROPN => NNP =>\n",
            "- => PUNCT => HYPH =>\n",
            "reached => VERB => VBD =>\n",
            "the => DET => DT =>\n",
            "moon => NOUN => NN =>\n",
            "on => ADP => IN =>\n",
            "July => PROPN => NNP =>\n",
            "21 => NUM => CD =>\n",
            ", => PUNCT => , =>\n",
            "1969 => NUM => CD =>\n",
            ". => PUNCT => . =>\n",
            "They => PRON => PRP =>\n",
            "walked => VERB => VBD =>\n",
            "on => ADP => IN =>\n",
            "the => DET => DT =>\n",
            "surface => NOUN => NN =>\n",
            "of => ADP => IN =>\n",
            "the => DET => DT =>\n",
            "moon => NOUN => NN =>\n",
            "and => CCONJ => CC =>\n",
            "collected => VERB => VBD =>\n",
            "the => DET => DT =>\n",
            "lunar => ADJ => JJ =>\n",
            "rocks => NOUN => NNS =>\n",
            ". => PUNCT => . =>\n",
            "They => PRON => PRP =>\n",
            "returned => VERB => VBD =>\n",
            "to => ADP => IN =>\n",
            "the => DET => DT =>\n",
            "earth => NOUN => NN =>\n",
            "safely => ADV => RB =>\n",
            ". => PUNCT => . =>\n",
            "The => DET => DT =>\n",
            "American => ADJ => JJ =>\n",
            "scientists => NOUN => NNS =>\n",
            "have => AUX => VBP =>\n",
            "sent => VERB => VBN =>\n",
            "men => NOUN => NNS =>\n",
            "to => ADP => IN =>\n",
            "the => DET => DT =>\n",
            "moon => NOUN => NN =>\n",
            "several => ADJ => JJ =>\n",
            "times => NOUN => NNS =>\n",
            ". => PUNCT => . =>\n",
            "Now => ADV => RB =>\n",
            "the => DET => DT =>\n",
            "moon => NOUN => NN =>\n",
            "has => AUX => VBZ =>\n",
            "been => AUX => VBN =>\n",
            "conquered => VERB => VBN =>\n",
            "by => ADP => IN =>\n",
            "man => NOUN => NN =>\n",
            ". => PUNCT => . =>\n",
            "It => PRON => PRP =>\n",
            "is => AUX => VBZ =>\n",
            "no => ADV => RB =>\n",
            "longer => ADV => RBR =>\n",
            "a => DET => DT =>\n",
            "mysterious => ADJ => JJ =>\n",
            "object => NOUN => NN =>\n",
            ". => PUNCT => . =>\n",
            "The => DET => DT =>\n",
            "journey => NOUN => NN =>\n",
            "of => ADP => IN =>\n",
            "the => DET => DT =>\n",
            "moon => NOUN => NN =>\n",
            "may => AUX => MD =>\n",
            "be => AUX => VB =>\n",
            "thrilling => VERB => VBG =>\n",
            "but => CCONJ => CC =>\n",
            "it => PRON => PRP =>\n",
            "can => AUX => MD =>\n",
            "not => PART => RB =>\n",
            "make => VERB => VB =>\n",
            "our => PRON => PRP$ =>\n",
            "life => NOUN => NN =>\n",
            "on => ADP => IN =>\n",
            "the => DET => DT =>\n",
            "earth => NOUN => NN =>\n",
            "happy => ADJ => JJ =>\n",
            ". => PUNCT => . =>\n",
            "It => PRON => PRP =>\n",
            "is => AUX => VBZ =>\n",
            "better => ADJ => JJR =>\n",
            "to => PART => TO =>\n",
            "have => VERB => VB =>\n",
            "a => DET => DT =>\n",
            "happy => ADJ => JJ =>\n",
            "life => NOUN => NN =>\n",
            "on => ADP => IN =>\n",
            "the => DET => DT =>\n",
            "earth => NOUN => NN =>\n",
            "then => ADV => RB =>\n",
            "to => PART => TO =>\n",
            "go => VERB => VB =>\n",
            "to => ADP => IN =>\n",
            "the => DET => DT =>\n",
            "moon => NOUN => NN =>\n",
            ". => PUNCT => . =>\n",
            "\n",
            " => SPACE => _SP =>\n"
          ]
        }
      ]
    },
    {
      "cell_type": "markdown",
      "source": [
        "## Parse for verbs"
      ],
      "metadata": {
        "id": "j1JgIuIv7Dn2"
      }
    },
    {
      "cell_type": "code",
      "source": [
        "# create list comprehension for verb parsing\n",
        "[token.text for token in doc if(token.pos_ == 'VERB')]"
      ],
      "metadata": {
        "colab": {
          "base_uri": "https://localhost:8080/"
        },
        "id": "dmqri4a668kS",
        "outputId": "f160053f-2c7a-450e-d1dc-f35b28f3a900"
      },
      "execution_count": 22,
      "outputs": [
        {
          "output_type": "execute_result",
          "data": {
            "text/plain": [
              "['moves',\n",
              " 'shines',\n",
              " 'reflected',\n",
              " 'looks',\n",
              " 'shine',\n",
              " 'fascinated',\n",
              " 'looks',\n",
              " 'seems',\n",
              " 'shines',\n",
              " 'found',\n",
              " 'got',\n",
              " 'looks',\n",
              " 'has',\n",
              " 'forbidding',\n",
              " 'look',\n",
              " 'see',\n",
              " 'walk',\n",
              " 'has',\n",
              " 'fascinated',\n",
              " 'looked',\n",
              " 'composed',\n",
              " 'tried',\n",
              " 'reveal',\n",
              " 'wanted',\n",
              " 'send',\n",
              " 'made',\n",
              " 'place',\n",
              " 'reached',\n",
              " 'walked',\n",
              " 'collected',\n",
              " 'returned',\n",
              " 'sent',\n",
              " 'conquered',\n",
              " 'thrilling',\n",
              " 'make',\n",
              " 'have',\n",
              " 'go']"
            ]
          },
          "metadata": {},
          "execution_count": 22
        }
      ]
    },
    {
      "cell_type": "markdown",
      "source": [
        "## Parse for NOUNs"
      ],
      "metadata": {
        "id": "VvqLOJfU7XBW"
      }
    },
    {
      "cell_type": "code",
      "source": [
        "# extract nouns using list comprehension\n",
        "[token.text for token in doc if(token.pos_ == 'NOUN')]"
      ],
      "metadata": {
        "colab": {
          "base_uri": "https://localhost:8080/"
        },
        "id": "fRXHtf-x7Tw0",
        "outputId": "af874825-ef3b-48bc-8b73-a492ee2acb41"
      },
      "execution_count": 23,
      "outputs": [
        {
          "output_type": "execute_result",
          "data": {
            "text/plain": [
              "['moon',\n",
              " 'satellite',\n",
              " 'earth',\n",
              " 'earth',\n",
              " 'night',\n",
              " 'light',\n",
              " 'objects',\n",
              " 'silver',\n",
              " 'moonlight',\n",
              " 'beauty',\n",
              " 'moon',\n",
              " 'sky',\n",
              " 'night',\n",
              " 'matter',\n",
              " 'fact',\n",
              " 'plants',\n",
              " 'animals',\n",
              " 'moon',\n",
              " 'place',\n",
              " 'plants',\n",
              " 'animals',\n",
              " 'form',\n",
              " 'life',\n",
              " 'moon',\n",
              " 'earth',\n",
              " 'moon',\n",
              " 'atmosphere',\n",
              " 'days',\n",
              " 'nights',\n",
              " 'moon',\n",
              " 'earth',\n",
              " 'fact',\n",
              " 'appearance',\n",
              " 'rocks',\n",
              " 'craters',\n",
              " 'moon',\n",
              " 'night',\n",
              " 'spots',\n",
              " 'spots',\n",
              " 'rocks',\n",
              " 'craters',\n",
              " 'pull',\n",
              " 'moon',\n",
              " 'earth',\n",
              " 'surface',\n",
              " 'moon',\n",
              " 'man',\n",
              " 'beginning',\n",
              " 'life',\n",
              " 'earth',\n",
              " 'wonder',\n",
              " 'poets',\n",
              " 'poems',\n",
              " 'moon',\n",
              " 'Scientists',\n",
              " 'mystery',\n",
              " 'moon',\n",
              " 'human',\n",
              " 'moon',\n",
              " 'attempts',\n",
              " 'man',\n",
              " 'moon',\n",
              " 'moon',\n",
              " 'surface',\n",
              " 'moon',\n",
              " 'rocks',\n",
              " 'earth',\n",
              " 'scientists',\n",
              " 'men',\n",
              " 'moon',\n",
              " 'times',\n",
              " 'moon',\n",
              " 'man',\n",
              " 'object',\n",
              " 'journey',\n",
              " 'moon',\n",
              " 'life',\n",
              " 'earth',\n",
              " 'life',\n",
              " 'earth',\n",
              " 'moon']"
            ]
          },
          "metadata": {},
          "execution_count": 23
        }
      ]
    },
    {
      "cell_type": "markdown",
      "source": [
        "## What are the most frequent Verbs and Nouns in the text?\n"
      ],
      "metadata": {
        "id": "xwQro4lo7-0U"
      }
    },
    {
      "cell_type": "code",
      "source": [
        "# need to import pandas\n",
        "import pandas as pd\n",
        "\n",
        "## write a function\n",
        "def word_freq(tokens):\n",
        "  # use list comprehension in series - count verbs\n",
        "  freq_verb = pd.Series([token.text for token in doc if(token.pos_ == 'VERB')]).value_counts()\n",
        "\n",
        "  # use list comprehension in series - count nouns\n",
        "  freq_nouns = pd.Series([token.text for token in doc if(token.pos_ == 'NOUN')]).value_counts()\n",
        "\n",
        "  # print out results\n",
        "  print(f\"Top 20 most frequent verbs in moon.txt file are:\\n {freq_verb[:20]}\")\n",
        "  print(\"\\n\")\n",
        "  print(f\"Top 20 most frequent nouns in moon.txt file are:\\n {freq_nouns[:20]}\")\n",
        "\n",
        "  #return freq_verb, freq_nouns\n"
      ],
      "metadata": {
        "id": "le7_4aS27lDY"
      },
      "execution_count": 30,
      "outputs": []
    },
    {
      "cell_type": "code",
      "source": [
        "# get the POS word frequencies for the text file\n",
        "word_freq(doc)"
      ],
      "metadata": {
        "colab": {
          "base_uri": "https://localhost:8080/"
        },
        "id": "KWh2dp5d9NZS",
        "outputId": "41040d3a-3663-4108-c9d5-f7dadd06aaaf"
      },
      "execution_count": 31,
      "outputs": [
        {
          "output_type": "stream",
          "name": "stdout",
          "text": [
            "Top 20 most frequent verbs in moon.txt file are:\n",
            " looks         3\n",
            "has           2\n",
            "shines        2\n",
            "fascinated    2\n",
            "returned      1\n",
            "made          1\n",
            "place         1\n",
            "reached       1\n",
            "walked        1\n",
            "collected     1\n",
            "moves         1\n",
            "wanted        1\n",
            "sent          1\n",
            "conquered     1\n",
            "thrilling     1\n",
            "make          1\n",
            "have          1\n",
            "send          1\n",
            "tried         1\n",
            "reveal        1\n",
            "dtype: int64\n",
            "\n",
            "\n",
            "Top 20 most frequent nouns in moon.txt file are:\n",
            " moon          19\n",
            "earth          9\n",
            "life           4\n",
            "night          3\n",
            "rocks          3\n",
            "man            3\n",
            "fact           2\n",
            "craters        2\n",
            "animals        2\n",
            "surface        2\n",
            "plants         2\n",
            "spots          2\n",
            "mystery        1\n",
            "human          1\n",
            "attempts       1\n",
            "Scientists     1\n",
            "poems          1\n",
            "scientists     1\n",
            "poets          1\n",
            "wonder         1\n",
            "dtype: int64\n"
          ]
        }
      ]
    },
    {
      "cell_type": "code",
      "source": [],
      "metadata": {
        "id": "yLyIEbEL9Xbx"
      },
      "execution_count": null,
      "outputs": []
    }
  ]
}