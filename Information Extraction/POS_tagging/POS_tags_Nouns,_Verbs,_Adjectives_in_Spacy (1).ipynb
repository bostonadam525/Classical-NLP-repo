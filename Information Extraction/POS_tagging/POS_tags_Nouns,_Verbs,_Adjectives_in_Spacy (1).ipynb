{
  "nbformat": 4,
  "nbformat_minor": 0,
  "metadata": {
    "colab": {
      "provenance": []
    },
    "kernelspec": {
      "name": "python3",
      "display_name": "Python 3"
    },
    "language_info": {
      "name": "python"
    }
  },
  "cells": [
    {
      "cell_type": "markdown",
      "source": [
        "# POS tags - Nouns, Verbs, Adjectives in Spacy\n",
        "* Notebook by Adam Lang\n",
        "* Date: 8/8/2024\n",
        "\n",
        "# Overview\n",
        "* In this notebook we will go over POS tags and ways to find the most common words in Spacy."
      ],
      "metadata": {
        "id": "ELbzIYES7j83"
      }
    },
    {
      "cell_type": "code",
      "execution_count": 1,
      "metadata": {
        "id": "K2pgH4GS7Wqq"
      },
      "outputs": [],
      "source": [
        "## imports\n",
        "import spacy\n",
        "from collections import Counter"
      ]
    },
    {
      "cell_type": "code",
      "source": [
        "## load spacy language model\n",
        "nlp = spacy.load('en_core_web_sm')"
      ],
      "metadata": {
        "id": "OwDX9Cwk8HOR"
      },
      "execution_count": 3,
      "outputs": []
    },
    {
      "cell_type": "code",
      "source": [
        "## load data file path\n",
        "data_path = '/content/drive/MyDrive/Colab Notebooks/Classical NLP/moon.txt'"
      ],
      "metadata": {
        "id": "DyFZdAER8VFc"
      },
      "execution_count": 4,
      "outputs": []
    },
    {
      "cell_type": "code",
      "source": [
        "# load spacy doc object\n",
        "doc = nlp(open(data_path).read())"
      ],
      "metadata": {
        "id": "YmYntmLK9NYp"
      },
      "execution_count": 5,
      "outputs": []
    },
    {
      "cell_type": "code",
      "source": [
        "# print doc\n",
        "doc"
      ],
      "metadata": {
        "colab": {
          "base_uri": "https://localhost:8080/"
        },
        "id": "SWJycfnn9c3J",
        "outputId": "fa78857a-258c-4857-a93a-59e75e62ebac"
      },
      "execution_count": 7,
      "outputs": [
        {
          "output_type": "execute_result",
          "data": {
            "text/plain": [
              "The moon is the satellite of the earth. It moves round the earth. It shines at night by light reflected from the Sun. It looks beautiful. The bright Moonlight is very soothing. The earthly objects shine like silver in the moonlight. We are fascinated by the enchanting beauty of the Moon. The moon is not as beautiful as it looks. It seems to be lovely when it shines in the sky at night. As a matter of fact it is devoid of plants and animals. The moon is not a suitable place for plants and animals. Therefore, no form of life can be found on the moon. Unlike the earth, the moon has got no atmosphere. Therefore, the lunar days are very hot and the lunar nights are intensely cold. The moon looks beautiful from the earth but in fact it has up forbidding appearance. It is full of rocks and craters. When we look at the moon at night we see some dark spots on it. These dark spots are dangerous rocks and craters. The gravitational pull of the moon is less than that of the earth, so it is difficult to walk on the surface of the Moon. The moon has fascinated man since the beginning of his life on the earth. He has looked at it with wonder. Many poets have composed beautiful poems on the moon. Scientists tried to reveal the mystery of the moon. They wanted to send human to the moon. Several attempts were made to place man on the moon. At last two Americans-Neil Armstrong and Edwin Aldrin-reached the moon on July 21, 1969. They walked on the surface of the moon and collected the lunar rocks. They returned to the earth safely. The American scientists have sent men to the moon several times. Now the moon has been conquered by man. It is no longer a mysterious object. The journey of the moon may be thrilling but it cannot make our life on the earth happy. It is better to have a happy life on the earth then to go to the moon."
            ]
          },
          "metadata": {},
          "execution_count": 7
        }
      ]
    },
    {
      "cell_type": "markdown",
      "source": [
        "## Most Common NOUNs\n",
        "* First we want to preprocess the text and remove stop words and punctuation.\n",
        "* Then we will have the nouns and we can utilize the Counter."
      ],
      "metadata": {
        "id": "SL4bmyW_9tyU"
      }
    },
    {
      "cell_type": "code",
      "source": [
        "# remove punctuation, stop words --> nouns\n",
        "nouns = [token.text for token in doc if token.is_stop != True and token.is_punct != True and token.pos_ == 'NOUN']"
      ],
      "metadata": {
        "id": "ISAPTWqk9iVr"
      },
      "execution_count": 13,
      "outputs": []
    },
    {
      "cell_type": "code",
      "source": [
        "## now this will extract ONLY the nouns\n",
        "nouns"
      ],
      "metadata": {
        "colab": {
          "base_uri": "https://localhost:8080/"
        },
        "id": "wwStT6ZO-HjJ",
        "outputId": "8129c851-ef4e-49b7-834c-32de3f073447"
      },
      "execution_count": 14,
      "outputs": [
        {
          "output_type": "execute_result",
          "data": {
            "text/plain": [
              "['moon',\n",
              " 'satellite',\n",
              " 'earth',\n",
              " 'earth',\n",
              " 'night',\n",
              " 'light',\n",
              " 'objects',\n",
              " 'silver',\n",
              " 'moonlight',\n",
              " 'beauty',\n",
              " 'moon',\n",
              " 'sky',\n",
              " 'night',\n",
              " 'matter',\n",
              " 'fact',\n",
              " 'plants',\n",
              " 'animals',\n",
              " 'moon',\n",
              " 'place',\n",
              " 'plants',\n",
              " 'animals',\n",
              " 'form',\n",
              " 'life',\n",
              " 'moon',\n",
              " 'earth',\n",
              " 'moon',\n",
              " 'atmosphere',\n",
              " 'days',\n",
              " 'nights',\n",
              " 'moon',\n",
              " 'earth',\n",
              " 'fact',\n",
              " 'appearance',\n",
              " 'rocks',\n",
              " 'craters',\n",
              " 'moon',\n",
              " 'night',\n",
              " 'spots',\n",
              " 'spots',\n",
              " 'rocks',\n",
              " 'craters',\n",
              " 'pull',\n",
              " 'moon',\n",
              " 'earth',\n",
              " 'surface',\n",
              " 'moon',\n",
              " 'man',\n",
              " 'beginning',\n",
              " 'life',\n",
              " 'earth',\n",
              " 'wonder',\n",
              " 'poets',\n",
              " 'poems',\n",
              " 'moon',\n",
              " 'Scientists',\n",
              " 'mystery',\n",
              " 'moon',\n",
              " 'human',\n",
              " 'moon',\n",
              " 'attempts',\n",
              " 'man',\n",
              " 'moon',\n",
              " 'moon',\n",
              " 'surface',\n",
              " 'moon',\n",
              " 'rocks',\n",
              " 'earth',\n",
              " 'scientists',\n",
              " 'men',\n",
              " 'moon',\n",
              " 'times',\n",
              " 'moon',\n",
              " 'man',\n",
              " 'object',\n",
              " 'journey',\n",
              " 'moon',\n",
              " 'life',\n",
              " 'earth',\n",
              " 'life',\n",
              " 'earth',\n",
              " 'moon']"
            ]
          },
          "metadata": {},
          "execution_count": 14
        }
      ]
    },
    {
      "cell_type": "markdown",
      "source": [
        "## Word Frequency of NOUNs"
      ],
      "metadata": {
        "id": "v_NacIMu-_lD"
      }
    },
    {
      "cell_type": "code",
      "source": [
        "# setup counter\n",
        "word_freq = Counter(nouns)\n",
        "\n",
        "## extract top 10 most common nouns\n",
        "common_nouns = word_freq.most_common(10)\n",
        "\n",
        "## output top 10 most common nouns\n",
        "common_nouns"
      ],
      "metadata": {
        "colab": {
          "base_uri": "https://localhost:8080/"
        },
        "id": "ZXTnGkcw-K0d",
        "outputId": "970bacca-101f-4ffb-e6f6-a97c98a7225d"
      },
      "execution_count": 15,
      "outputs": [
        {
          "output_type": "execute_result",
          "data": {
            "text/plain": [
              "[('moon', 19),\n",
              " ('earth', 9),\n",
              " ('life', 4),\n",
              " ('night', 3),\n",
              " ('rocks', 3),\n",
              " ('man', 3),\n",
              " ('fact', 2),\n",
              " ('plants', 2),\n",
              " ('animals', 2),\n",
              " ('craters', 2)]"
            ]
          },
          "metadata": {},
          "execution_count": 15
        }
      ]
    },
    {
      "cell_type": "markdown",
      "source": [
        "## Most Common Verbs\n",
        "* We will follow the same process as above but we will leave the stop words in at first.\n",
        "* Use the python counter to find the frequencies."
      ],
      "metadata": {
        "id": "a55YIEjHAB58"
      }
    },
    {
      "cell_type": "code",
      "source": [
        "verbs = [token.text for token in doc if token.is_punct != True and token.is_stop == True and token.pos_ == 'VERB']"
      ],
      "metadata": {
        "id": "sbzbxLp7_l8P"
      },
      "execution_count": 21,
      "outputs": []
    },
    {
      "cell_type": "code",
      "source": [
        "verb_freq = Counter(verbs)\n",
        "\n",
        "## get most common\n",
        "common_verbs = verb_freq.most_common(10)\n",
        "\n",
        "# print common_verbs\n",
        "common_verbs"
      ],
      "metadata": {
        "colab": {
          "base_uri": "https://localhost:8080/"
        },
        "id": "eUfXfc9hAiwF",
        "outputId": "2406fae5-11cc-4d4e-9d66-47d15d3d2bc4"
      },
      "execution_count": 22,
      "outputs": [
        {
          "output_type": "execute_result",
          "data": {
            "text/plain": [
              "[('has', 2),\n",
              " ('seems', 1),\n",
              " ('see', 1),\n",
              " ('made', 1),\n",
              " ('make', 1),\n",
              " ('have', 1),\n",
              " ('go', 1)]"
            ]
          },
          "metadata": {},
          "execution_count": 22
        }
      ]
    },
    {
      "cell_type": "markdown",
      "source": [
        "## Verbs without stop words\n",
        "* Lets see what the differences are if we remove the stop words."
      ],
      "metadata": {
        "id": "pAYljQY4A5A9"
      }
    },
    {
      "cell_type": "code",
      "source": [
        "verb_no_stop = [token.text for token in doc if token.is_punct != True and token.is_stop !=True and token.pos_ == 'VERB']\n",
        "\n",
        "\n",
        "## counter\n",
        "verb_no_stop_freq = Counter(verb_no_stop).most_common(10)\n",
        "\n",
        "# output most common\n",
        "verb_no_stop_freq"
      ],
      "metadata": {
        "colab": {
          "base_uri": "https://localhost:8080/"
        },
        "id": "PB7cp7EWAs-z",
        "outputId": "1f70785c-f797-4d8a-8fff-dac1850ff16d"
      },
      "execution_count": 23,
      "outputs": [
        {
          "output_type": "execute_result",
          "data": {
            "text/plain": [
              "[('looks', 3),\n",
              " ('shines', 2),\n",
              " ('fascinated', 2),\n",
              " ('moves', 1),\n",
              " ('reflected', 1),\n",
              " ('shine', 1),\n",
              " ('found', 1),\n",
              " ('got', 1),\n",
              " ('forbidding', 1),\n",
              " ('look', 1)]"
            ]
          },
          "metadata": {},
          "execution_count": 23
        }
      ]
    },
    {
      "cell_type": "markdown",
      "source": [
        "Summary:\n",
        "* Clearly removing the stop words allows us to see the actual most common verbs, whereas if we leave the stop words then it will count those that are verbs as verbs."
      ],
      "metadata": {
        "id": "390fTiliCgu_"
      }
    },
    {
      "cell_type": "markdown",
      "source": [
        "## Most Common Adjectives\n",
        "* We will follow the same process above but remove the stop words."
      ],
      "metadata": {
        "id": "mIptbyG4C86t"
      }
    },
    {
      "cell_type": "code",
      "source": [
        "## adjectives\n",
        "adj = [token.text for token in doc if token.is_punct != True and token.is_stop != True and token.pos_ == 'ADJ']\n",
        "\n",
        "# count most common adjectives\n",
        "adj_freq = Counter(adj).most_common(10)\n",
        "\n",
        "# output most common adjectives\n",
        "adj_freq"
      ],
      "metadata": {
        "colab": {
          "base_uri": "https://localhost:8080/"
        },
        "id": "tDvOz8p4Cd65",
        "outputId": "56c4323f-0106-49af-fe5d-28e99439a434"
      },
      "execution_count": 24,
      "outputs": [
        {
          "output_type": "execute_result",
          "data": {
            "text/plain": [
              "[('beautiful', 4),\n",
              " ('lunar', 3),\n",
              " ('dark', 2),\n",
              " ('happy', 2),\n",
              " ('bright', 1),\n",
              " ('soothing', 1),\n",
              " ('earthly', 1),\n",
              " ('enchanting', 1),\n",
              " ('lovely', 1),\n",
              " ('devoid', 1)]"
            ]
          },
          "metadata": {},
          "execution_count": 24
        }
      ]
    },
    {
      "cell_type": "markdown",
      "source": [
        "## Most common Adverbs\n"
      ],
      "metadata": {
        "id": "xD8nxDBsDqJC"
      }
    },
    {
      "cell_type": "code",
      "source": [
        "adverbs = [token.text for token in doc if token.is_punct != True and token.is_stop != True and token.pos_ == 'ADV']\n",
        "\n",
        "# counter\n",
        "adverb_freq = Counter(adverbs).most_common(10)\n",
        "\n",
        "# output\n",
        "adverb_freq"
      ],
      "metadata": {
        "colab": {
          "base_uri": "https://localhost:8080/"
        },
        "id": "2cECLe6gDlF3",
        "outputId": "4467bc93-a969-4b78-ebb2-93ef6acf51b9"
      },
      "execution_count": 25,
      "outputs": [
        {
          "output_type": "execute_result",
          "data": {
            "text/plain": [
              "[('intensely', 1), ('safely', 1), ('longer', 1)]"
            ]
          },
          "metadata": {},
          "execution_count": 25
        }
      ]
    },
    {
      "cell_type": "markdown",
      "source": [
        "## Most common lemma?\n"
      ],
      "metadata": {
        "id": "ZGFVcyEXErc4"
      }
    },
    {
      "cell_type": "code",
      "source": [
        "lemma = [token.lemma_ for token in doc if token.is_punct != True and token.is_stop != True]\n",
        "\n",
        "lemma_freq = Counter(lemma).most_common(10)\n",
        "\n",
        "lemma_freq"
      ],
      "metadata": {
        "colab": {
          "base_uri": "https://localhost:8080/"
        },
        "id": "zwPD0lrIEDDq",
        "outputId": "bdde41fb-4d9f-4351-a96b-64eaaf1ce1c0"
      },
      "execution_count": 27,
      "outputs": [
        {
          "output_type": "execute_result",
          "data": {
            "text/plain": [
              "[('moon', 19),\n",
              " ('earth', 9),\n",
              " ('look', 5),\n",
              " ('night', 4),\n",
              " ('beautiful', 4),\n",
              " ('life', 4),\n",
              " ('man', 4),\n",
              " ('shine', 3),\n",
              " ('lunar', 3),\n",
              " ('rock', 3)]"
            ]
          },
          "metadata": {},
          "execution_count": 27
        }
      ]
    },
    {
      "cell_type": "markdown",
      "source": [
        "## Functionizing these processes"
      ],
      "metadata": {
        "id": "g260K5PMGIeB"
      }
    },
    {
      "cell_type": "code",
      "source": [
        "# need to import pandas\n",
        "import pandas as pd\n",
        "\n",
        "## write a function\n",
        "def pos_freq(tokens):\n",
        "\n",
        "  # use list comprehension in series - count verbs\n",
        "  freq_noun = pd.Series([token.text for token in doc if token.is_punct != True and token.is_stop != True and token.pos_ == 'NOUN']).value_counts()\n",
        "\n",
        "  # use list comprehension in series - count nouns\n",
        "  freq_verbs = pd.Series([token.text for token in doc if token.is_punct != True and token.is_stop != True and token.pos_ == 'VERB']).value_counts()\n",
        "\n",
        "  # use list comprehension in series - count adjectives\n",
        "  freq_adj = pd.Series([token.text for token in doc if token.is_punct != True and token.is_stop != True and token.pos_ == 'ADJ']).value_counts()\n",
        "\n",
        "  # print out results\n",
        "  print(f\"Top 10 most frequent nouns in moon.txt file are:\\n {freq_noun[:9]}\")\n",
        "  print(\"\\n\")\n",
        "  print(f\"Top 10 most frequent verbs in moon.txt file are:\\n {freq_verbs[:9]}\")\n",
        "  print(\"\\n\")\n",
        "  print(f\"Top 10 most frequent adjectives in moon.text file are:\\n {freq_adj[:9]}\")\n",
        "\n",
        "  #return freq_verb, freq_nouns"
      ],
      "metadata": {
        "id": "eV1-uuLFE2tk"
      },
      "execution_count": 43,
      "outputs": []
    },
    {
      "cell_type": "code",
      "source": [
        "## lets test it out\n",
        "pos_freq(doc)"
      ],
      "metadata": {
        "colab": {
          "base_uri": "https://localhost:8080/"
        },
        "id": "PNYWDCJtGxnt",
        "outputId": "cfdc954f-b495-4f65-bee5-ef05611121d7"
      },
      "execution_count": 44,
      "outputs": [
        {
          "output_type": "stream",
          "name": "stdout",
          "text": [
            "Top 10 most frequent nouns in moon.txt file are:\n",
            " moon       19\n",
            "earth       9\n",
            "life        4\n",
            "night       3\n",
            "rocks       3\n",
            "man         3\n",
            "fact        2\n",
            "craters     2\n",
            "animals     2\n",
            "Name: count, dtype: int64\n",
            "\n",
            "\n",
            "Top 10 most frequent verbs in moon.txt file are:\n",
            " looks         3\n",
            "fascinated    2\n",
            "shines        2\n",
            "moves         1\n",
            "reveal        1\n",
            "conquered     1\n",
            "sent          1\n",
            "returned      1\n",
            "collected     1\n",
            "Name: count, dtype: int64\n",
            "\n",
            "\n",
            "Top 10 most frequent adjectives in moon.text file are:\n",
            " beautiful        4\n",
            "lunar            3\n",
            "happy            2\n",
            "dark             2\n",
            "cold             1\n",
            "mysterious       1\n",
            "American         1\n",
            "difficult        1\n",
            "gravitational    1\n",
            "Name: count, dtype: int64\n"
          ]
        }
      ]
    },
    {
      "cell_type": "code",
      "source": [
        "adj_freq"
      ],
      "metadata": {
        "colab": {
          "base_uri": "https://localhost:8080/"
        },
        "id": "ofUqegvsG2t4",
        "outputId": "44c43b96-e380-43c2-e8d9-36218eb624cf"
      },
      "execution_count": 45,
      "outputs": [
        {
          "output_type": "execute_result",
          "data": {
            "text/plain": [
              "[('beautiful', 4),\n",
              " ('lunar', 3),\n",
              " ('dark', 2),\n",
              " ('happy', 2),\n",
              " ('bright', 1),\n",
              " ('soothing', 1),\n",
              " ('earthly', 1),\n",
              " ('enchanting', 1),\n",
              " ('lovely', 1),\n",
              " ('devoid', 1)]"
            ]
          },
          "metadata": {},
          "execution_count": 45
        }
      ]
    },
    {
      "cell_type": "code",
      "source": [],
      "metadata": {
        "id": "w4FbwhVsIf7K"
      },
      "execution_count": null,
      "outputs": []
    }
  ]
}