{
  "nbformat": 4,
  "nbformat_minor": 0,
  "metadata": {
    "colab": {
      "provenance": []
    },
    "kernelspec": {
      "name": "python3",
      "display_name": "Python 3"
    },
    "language_info": {
      "name": "python"
    },
    "widgets": {
      "application/vnd.jupyter.widget-state+json": {
        "c4e02a38b29e4b2eaecfde22db150e7d": {
          "model_module": "@jupyter-widgets/controls",
          "model_name": "HBoxModel",
          "model_module_version": "1.5.0",
          "state": {
            "_dom_classes": [],
            "_model_module": "@jupyter-widgets/controls",
            "_model_module_version": "1.5.0",
            "_model_name": "HBoxModel",
            "_view_count": null,
            "_view_module": "@jupyter-widgets/controls",
            "_view_module_version": "1.5.0",
            "_view_name": "HBoxView",
            "box_style": "",
            "children": [
              "IPY_MODEL_65023aeaa8854dc1b1573fe0d7e57f63",
              "IPY_MODEL_d033b67c345f4cc9a5f8f71de7a0d636",
              "IPY_MODEL_1df25cf8e52a4e1e9fd7d0c8678261dc"
            ],
            "layout": "IPY_MODEL_22fdf86007d14a3b93f3505f97d15ce8"
          }
        },
        "65023aeaa8854dc1b1573fe0d7e57f63": {
          "model_module": "@jupyter-widgets/controls",
          "model_name": "HTMLModel",
          "model_module_version": "1.5.0",
          "state": {
            "_dom_classes": [],
            "_model_module": "@jupyter-widgets/controls",
            "_model_module_version": "1.5.0",
            "_model_name": "HTMLModel",
            "_view_count": null,
            "_view_module": "@jupyter-widgets/controls",
            "_view_module_version": "1.5.0",
            "_view_name": "HTMLView",
            "description": "",
            "description_tooltip": null,
            "layout": "IPY_MODEL_86c5220d1c484673a7b400eff5747a44",
            "placeholder": "​",
            "style": "IPY_MODEL_a922063493cf4d2f960330f2ed7b445c",
            "value": "modules.json: 100%"
          }
        },
        "d033b67c345f4cc9a5f8f71de7a0d636": {
          "model_module": "@jupyter-widgets/controls",
          "model_name": "FloatProgressModel",
          "model_module_version": "1.5.0",
          "state": {
            "_dom_classes": [],
            "_model_module": "@jupyter-widgets/controls",
            "_model_module_version": "1.5.0",
            "_model_name": "FloatProgressModel",
            "_view_count": null,
            "_view_module": "@jupyter-widgets/controls",
            "_view_module_version": "1.5.0",
            "_view_name": "ProgressView",
            "bar_style": "success",
            "description": "",
            "description_tooltip": null,
            "layout": "IPY_MODEL_c914011d5b6846168615edffffd48f79",
            "max": 229,
            "min": 0,
            "orientation": "horizontal",
            "style": "IPY_MODEL_b5ab20c8a9e34b9089e5403106ff899d",
            "value": 229
          }
        },
        "1df25cf8e52a4e1e9fd7d0c8678261dc": {
          "model_module": "@jupyter-widgets/controls",
          "model_name": "HTMLModel",
          "model_module_version": "1.5.0",
          "state": {
            "_dom_classes": [],
            "_model_module": "@jupyter-widgets/controls",
            "_model_module_version": "1.5.0",
            "_model_name": "HTMLModel",
            "_view_count": null,
            "_view_module": "@jupyter-widgets/controls",
            "_view_module_version": "1.5.0",
            "_view_name": "HTMLView",
            "description": "",
            "description_tooltip": null,
            "layout": "IPY_MODEL_82c7ec500d4842a8b963dcce2d3f467b",
            "placeholder": "​",
            "style": "IPY_MODEL_3109e1a564b544e9ad01bf473cb1a90d",
            "value": " 229/229 [00:00&lt;00:00, 6.35kB/s]"
          }
        },
        "22fdf86007d14a3b93f3505f97d15ce8": {
          "model_module": "@jupyter-widgets/base",
          "model_name": "LayoutModel",
          "model_module_version": "1.2.0",
          "state": {
            "_model_module": "@jupyter-widgets/base",
            "_model_module_version": "1.2.0",
            "_model_name": "LayoutModel",
            "_view_count": null,
            "_view_module": "@jupyter-widgets/base",
            "_view_module_version": "1.2.0",
            "_view_name": "LayoutView",
            "align_content": null,
            "align_items": null,
            "align_self": null,
            "border": null,
            "bottom": null,
            "display": null,
            "flex": null,
            "flex_flow": null,
            "grid_area": null,
            "grid_auto_columns": null,
            "grid_auto_flow": null,
            "grid_auto_rows": null,
            "grid_column": null,
            "grid_gap": null,
            "grid_row": null,
            "grid_template_areas": null,
            "grid_template_columns": null,
            "grid_template_rows": null,
            "height": null,
            "justify_content": null,
            "justify_items": null,
            "left": null,
            "margin": null,
            "max_height": null,
            "max_width": null,
            "min_height": null,
            "min_width": null,
            "object_fit": null,
            "object_position": null,
            "order": null,
            "overflow": null,
            "overflow_x": null,
            "overflow_y": null,
            "padding": null,
            "right": null,
            "top": null,
            "visibility": null,
            "width": null
          }
        },
        "86c5220d1c484673a7b400eff5747a44": {
          "model_module": "@jupyter-widgets/base",
          "model_name": "LayoutModel",
          "model_module_version": "1.2.0",
          "state": {
            "_model_module": "@jupyter-widgets/base",
            "_model_module_version": "1.2.0",
            "_model_name": "LayoutModel",
            "_view_count": null,
            "_view_module": "@jupyter-widgets/base",
            "_view_module_version": "1.2.0",
            "_view_name": "LayoutView",
            "align_content": null,
            "align_items": null,
            "align_self": null,
            "border": null,
            "bottom": null,
            "display": null,
            "flex": null,
            "flex_flow": null,
            "grid_area": null,
            "grid_auto_columns": null,
            "grid_auto_flow": null,
            "grid_auto_rows": null,
            "grid_column": null,
            "grid_gap": null,
            "grid_row": null,
            "grid_template_areas": null,
            "grid_template_columns": null,
            "grid_template_rows": null,
            "height": null,
            "justify_content": null,
            "justify_items": null,
            "left": null,
            "margin": null,
            "max_height": null,
            "max_width": null,
            "min_height": null,
            "min_width": null,
            "object_fit": null,
            "object_position": null,
            "order": null,
            "overflow": null,
            "overflow_x": null,
            "overflow_y": null,
            "padding": null,
            "right": null,
            "top": null,
            "visibility": null,
            "width": null
          }
        },
        "a922063493cf4d2f960330f2ed7b445c": {
          "model_module": "@jupyter-widgets/controls",
          "model_name": "DescriptionStyleModel",
          "model_module_version": "1.5.0",
          "state": {
            "_model_module": "@jupyter-widgets/controls",
            "_model_module_version": "1.5.0",
            "_model_name": "DescriptionStyleModel",
            "_view_count": null,
            "_view_module": "@jupyter-widgets/base",
            "_view_module_version": "1.2.0",
            "_view_name": "StyleView",
            "description_width": ""
          }
        },
        "c914011d5b6846168615edffffd48f79": {
          "model_module": "@jupyter-widgets/base",
          "model_name": "LayoutModel",
          "model_module_version": "1.2.0",
          "state": {
            "_model_module": "@jupyter-widgets/base",
            "_model_module_version": "1.2.0",
            "_model_name": "LayoutModel",
            "_view_count": null,
            "_view_module": "@jupyter-widgets/base",
            "_view_module_version": "1.2.0",
            "_view_name": "LayoutView",
            "align_content": null,
            "align_items": null,
            "align_self": null,
            "border": null,
            "bottom": null,
            "display": null,
            "flex": null,
            "flex_flow": null,
            "grid_area": null,
            "grid_auto_columns": null,
            "grid_auto_flow": null,
            "grid_auto_rows": null,
            "grid_column": null,
            "grid_gap": null,
            "grid_row": null,
            "grid_template_areas": null,
            "grid_template_columns": null,
            "grid_template_rows": null,
            "height": null,
            "justify_content": null,
            "justify_items": null,
            "left": null,
            "margin": null,
            "max_height": null,
            "max_width": null,
            "min_height": null,
            "min_width": null,
            "object_fit": null,
            "object_position": null,
            "order": null,
            "overflow": null,
            "overflow_x": null,
            "overflow_y": null,
            "padding": null,
            "right": null,
            "top": null,
            "visibility": null,
            "width": null
          }
        },
        "b5ab20c8a9e34b9089e5403106ff899d": {
          "model_module": "@jupyter-widgets/controls",
          "model_name": "ProgressStyleModel",
          "model_module_version": "1.5.0",
          "state": {
            "_model_module": "@jupyter-widgets/controls",
            "_model_module_version": "1.5.0",
            "_model_name": "ProgressStyleModel",
            "_view_count": null,
            "_view_module": "@jupyter-widgets/base",
            "_view_module_version": "1.2.0",
            "_view_name": "StyleView",
            "bar_color": null,
            "description_width": ""
          }
        },
        "82c7ec500d4842a8b963dcce2d3f467b": {
          "model_module": "@jupyter-widgets/base",
          "model_name": "LayoutModel",
          "model_module_version": "1.2.0",
          "state": {
            "_model_module": "@jupyter-widgets/base",
            "_model_module_version": "1.2.0",
            "_model_name": "LayoutModel",
            "_view_count": null,
            "_view_module": "@jupyter-widgets/base",
            "_view_module_version": "1.2.0",
            "_view_name": "LayoutView",
            "align_content": null,
            "align_items": null,
            "align_self": null,
            "border": null,
            "bottom": null,
            "display": null,
            "flex": null,
            "flex_flow": null,
            "grid_area": null,
            "grid_auto_columns": null,
            "grid_auto_flow": null,
            "grid_auto_rows": null,
            "grid_column": null,
            "grid_gap": null,
            "grid_row": null,
            "grid_template_areas": null,
            "grid_template_columns": null,
            "grid_template_rows": null,
            "height": null,
            "justify_content": null,
            "justify_items": null,
            "left": null,
            "margin": null,
            "max_height": null,
            "max_width": null,
            "min_height": null,
            "min_width": null,
            "object_fit": null,
            "object_position": null,
            "order": null,
            "overflow": null,
            "overflow_x": null,
            "overflow_y": null,
            "padding": null,
            "right": null,
            "top": null,
            "visibility": null,
            "width": null
          }
        },
        "3109e1a564b544e9ad01bf473cb1a90d": {
          "model_module": "@jupyter-widgets/controls",
          "model_name": "DescriptionStyleModel",
          "model_module_version": "1.5.0",
          "state": {
            "_model_module": "@jupyter-widgets/controls",
            "_model_module_version": "1.5.0",
            "_model_name": "DescriptionStyleModel",
            "_view_count": null,
            "_view_module": "@jupyter-widgets/base",
            "_view_module_version": "1.2.0",
            "_view_name": "StyleView",
            "description_width": ""
          }
        },
        "bce7f1e199d44578aaeee8ccb38fde30": {
          "model_module": "@jupyter-widgets/controls",
          "model_name": "HBoxModel",
          "model_module_version": "1.5.0",
          "state": {
            "_dom_classes": [],
            "_model_module": "@jupyter-widgets/controls",
            "_model_module_version": "1.5.0",
            "_model_name": "HBoxModel",
            "_view_count": null,
            "_view_module": "@jupyter-widgets/controls",
            "_view_module_version": "1.5.0",
            "_view_name": "HBoxView",
            "box_style": "",
            "children": [
              "IPY_MODEL_7b002a4aa2944a4697a5c69fcb0f20f6",
              "IPY_MODEL_0acd2a3d3f904c12bb4f35935b27f7f6",
              "IPY_MODEL_1473e5d64c064dc3bc316a4bb9768d83"
            ],
            "layout": "IPY_MODEL_b34f1e0051064d9685db947d87c90f46"
          }
        },
        "7b002a4aa2944a4697a5c69fcb0f20f6": {
          "model_module": "@jupyter-widgets/controls",
          "model_name": "HTMLModel",
          "model_module_version": "1.5.0",
          "state": {
            "_dom_classes": [],
            "_model_module": "@jupyter-widgets/controls",
            "_model_module_version": "1.5.0",
            "_model_name": "HTMLModel",
            "_view_count": null,
            "_view_module": "@jupyter-widgets/controls",
            "_view_module_version": "1.5.0",
            "_view_name": "HTMLView",
            "description": "",
            "description_tooltip": null,
            "layout": "IPY_MODEL_928c2312bed24bd6ae3eafa7d349d072",
            "placeholder": "​",
            "style": "IPY_MODEL_b3a372b6b476493fb1e777fe524a3fba",
            "value": "config_sentence_transformers.json: 100%"
          }
        },
        "0acd2a3d3f904c12bb4f35935b27f7f6": {
          "model_module": "@jupyter-widgets/controls",
          "model_name": "FloatProgressModel",
          "model_module_version": "1.5.0",
          "state": {
            "_dom_classes": [],
            "_model_module": "@jupyter-widgets/controls",
            "_model_module_version": "1.5.0",
            "_model_name": "FloatProgressModel",
            "_view_count": null,
            "_view_module": "@jupyter-widgets/controls",
            "_view_module_version": "1.5.0",
            "_view_name": "ProgressView",
            "bar_style": "success",
            "description": "",
            "description_tooltip": null,
            "layout": "IPY_MODEL_a4e5307944ed4e3fb5082b329d2105b4",
            "max": 122,
            "min": 0,
            "orientation": "horizontal",
            "style": "IPY_MODEL_3df1245308144d76a4f3df33319aa776",
            "value": 122
          }
        },
        "1473e5d64c064dc3bc316a4bb9768d83": {
          "model_module": "@jupyter-widgets/controls",
          "model_name": "HTMLModel",
          "model_module_version": "1.5.0",
          "state": {
            "_dom_classes": [],
            "_model_module": "@jupyter-widgets/controls",
            "_model_module_version": "1.5.0",
            "_model_name": "HTMLModel",
            "_view_count": null,
            "_view_module": "@jupyter-widgets/controls",
            "_view_module_version": "1.5.0",
            "_view_name": "HTMLView",
            "description": "",
            "description_tooltip": null,
            "layout": "IPY_MODEL_b02e4fb975544512a27ebf32088a8e9c",
            "placeholder": "​",
            "style": "IPY_MODEL_3e817bea98f448bcb3c72d0ddc7cd0db",
            "value": " 122/122 [00:00&lt;00:00, 4.31kB/s]"
          }
        },
        "b34f1e0051064d9685db947d87c90f46": {
          "model_module": "@jupyter-widgets/base",
          "model_name": "LayoutModel",
          "model_module_version": "1.2.0",
          "state": {
            "_model_module": "@jupyter-widgets/base",
            "_model_module_version": "1.2.0",
            "_model_name": "LayoutModel",
            "_view_count": null,
            "_view_module": "@jupyter-widgets/base",
            "_view_module_version": "1.2.0",
            "_view_name": "LayoutView",
            "align_content": null,
            "align_items": null,
            "align_self": null,
            "border": null,
            "bottom": null,
            "display": null,
            "flex": null,
            "flex_flow": null,
            "grid_area": null,
            "grid_auto_columns": null,
            "grid_auto_flow": null,
            "grid_auto_rows": null,
            "grid_column": null,
            "grid_gap": null,
            "grid_row": null,
            "grid_template_areas": null,
            "grid_template_columns": null,
            "grid_template_rows": null,
            "height": null,
            "justify_content": null,
            "justify_items": null,
            "left": null,
            "margin": null,
            "max_height": null,
            "max_width": null,
            "min_height": null,
            "min_width": null,
            "object_fit": null,
            "object_position": null,
            "order": null,
            "overflow": null,
            "overflow_x": null,
            "overflow_y": null,
            "padding": null,
            "right": null,
            "top": null,
            "visibility": null,
            "width": null
          }
        },
        "928c2312bed24bd6ae3eafa7d349d072": {
          "model_module": "@jupyter-widgets/base",
          "model_name": "LayoutModel",
          "model_module_version": "1.2.0",
          "state": {
            "_model_module": "@jupyter-widgets/base",
            "_model_module_version": "1.2.0",
            "_model_name": "LayoutModel",
            "_view_count": null,
            "_view_module": "@jupyter-widgets/base",
            "_view_module_version": "1.2.0",
            "_view_name": "LayoutView",
            "align_content": null,
            "align_items": null,
            "align_self": null,
            "border": null,
            "bottom": null,
            "display": null,
            "flex": null,
            "flex_flow": null,
            "grid_area": null,
            "grid_auto_columns": null,
            "grid_auto_flow": null,
            "grid_auto_rows": null,
            "grid_column": null,
            "grid_gap": null,
            "grid_row": null,
            "grid_template_areas": null,
            "grid_template_columns": null,
            "grid_template_rows": null,
            "height": null,
            "justify_content": null,
            "justify_items": null,
            "left": null,
            "margin": null,
            "max_height": null,
            "max_width": null,
            "min_height": null,
            "min_width": null,
            "object_fit": null,
            "object_position": null,
            "order": null,
            "overflow": null,
            "overflow_x": null,
            "overflow_y": null,
            "padding": null,
            "right": null,
            "top": null,
            "visibility": null,
            "width": null
          }
        },
        "b3a372b6b476493fb1e777fe524a3fba": {
          "model_module": "@jupyter-widgets/controls",
          "model_name": "DescriptionStyleModel",
          "model_module_version": "1.5.0",
          "state": {
            "_model_module": "@jupyter-widgets/controls",
            "_model_module_version": "1.5.0",
            "_model_name": "DescriptionStyleModel",
            "_view_count": null,
            "_view_module": "@jupyter-widgets/base",
            "_view_module_version": "1.2.0",
            "_view_name": "StyleView",
            "description_width": ""
          }
        },
        "a4e5307944ed4e3fb5082b329d2105b4": {
          "model_module": "@jupyter-widgets/base",
          "model_name": "LayoutModel",
          "model_module_version": "1.2.0",
          "state": {
            "_model_module": "@jupyter-widgets/base",
            "_model_module_version": "1.2.0",
            "_model_name": "LayoutModel",
            "_view_count": null,
            "_view_module": "@jupyter-widgets/base",
            "_view_module_version": "1.2.0",
            "_view_name": "LayoutView",
            "align_content": null,
            "align_items": null,
            "align_self": null,
            "border": null,
            "bottom": null,
            "display": null,
            "flex": null,
            "flex_flow": null,
            "grid_area": null,
            "grid_auto_columns": null,
            "grid_auto_flow": null,
            "grid_auto_rows": null,
            "grid_column": null,
            "grid_gap": null,
            "grid_row": null,
            "grid_template_areas": null,
            "grid_template_columns": null,
            "grid_template_rows": null,
            "height": null,
            "justify_content": null,
            "justify_items": null,
            "left": null,
            "margin": null,
            "max_height": null,
            "max_width": null,
            "min_height": null,
            "min_width": null,
            "object_fit": null,
            "object_position": null,
            "order": null,
            "overflow": null,
            "overflow_x": null,
            "overflow_y": null,
            "padding": null,
            "right": null,
            "top": null,
            "visibility": null,
            "width": null
          }
        },
        "3df1245308144d76a4f3df33319aa776": {
          "model_module": "@jupyter-widgets/controls",
          "model_name": "ProgressStyleModel",
          "model_module_version": "1.5.0",
          "state": {
            "_model_module": "@jupyter-widgets/controls",
            "_model_module_version": "1.5.0",
            "_model_name": "ProgressStyleModel",
            "_view_count": null,
            "_view_module": "@jupyter-widgets/base",
            "_view_module_version": "1.2.0",
            "_view_name": "StyleView",
            "bar_color": null,
            "description_width": ""
          }
        },
        "b02e4fb975544512a27ebf32088a8e9c": {
          "model_module": "@jupyter-widgets/base",
          "model_name": "LayoutModel",
          "model_module_version": "1.2.0",
          "state": {
            "_model_module": "@jupyter-widgets/base",
            "_model_module_version": "1.2.0",
            "_model_name": "LayoutModel",
            "_view_count": null,
            "_view_module": "@jupyter-widgets/base",
            "_view_module_version": "1.2.0",
            "_view_name": "LayoutView",
            "align_content": null,
            "align_items": null,
            "align_self": null,
            "border": null,
            "bottom": null,
            "display": null,
            "flex": null,
            "flex_flow": null,
            "grid_area": null,
            "grid_auto_columns": null,
            "grid_auto_flow": null,
            "grid_auto_rows": null,
            "grid_column": null,
            "grid_gap": null,
            "grid_row": null,
            "grid_template_areas": null,
            "grid_template_columns": null,
            "grid_template_rows": null,
            "height": null,
            "justify_content": null,
            "justify_items": null,
            "left": null,
            "margin": null,
            "max_height": null,
            "max_width": null,
            "min_height": null,
            "min_width": null,
            "object_fit": null,
            "object_position": null,
            "order": null,
            "overflow": null,
            "overflow_x": null,
            "overflow_y": null,
            "padding": null,
            "right": null,
            "top": null,
            "visibility": null,
            "width": null
          }
        },
        "3e817bea98f448bcb3c72d0ddc7cd0db": {
          "model_module": "@jupyter-widgets/controls",
          "model_name": "DescriptionStyleModel",
          "model_module_version": "1.5.0",
          "state": {
            "_model_module": "@jupyter-widgets/controls",
            "_model_module_version": "1.5.0",
            "_model_name": "DescriptionStyleModel",
            "_view_count": null,
            "_view_module": "@jupyter-widgets/base",
            "_view_module_version": "1.2.0",
            "_view_name": "StyleView",
            "description_width": ""
          }
        },
        "765fba5c3ddd4ccea548d02414091565": {
          "model_module": "@jupyter-widgets/controls",
          "model_name": "HBoxModel",
          "model_module_version": "1.5.0",
          "state": {
            "_dom_classes": [],
            "_model_module": "@jupyter-widgets/controls",
            "_model_module_version": "1.5.0",
            "_model_name": "HBoxModel",
            "_view_count": null,
            "_view_module": "@jupyter-widgets/controls",
            "_view_module_version": "1.5.0",
            "_view_name": "HBoxView",
            "box_style": "",
            "children": [
              "IPY_MODEL_5e32cf8f3a8c4f30b0ca618d804a77d2",
              "IPY_MODEL_ff6a62421d154aeaa738ec2fe12071bb",
              "IPY_MODEL_08d4e0a0cef34c0781d9bc40d3735b45"
            ],
            "layout": "IPY_MODEL_7f62c92095674b93ab28e28b7acf6fbc"
          }
        },
        "5e32cf8f3a8c4f30b0ca618d804a77d2": {
          "model_module": "@jupyter-widgets/controls",
          "model_name": "HTMLModel",
          "model_module_version": "1.5.0",
          "state": {
            "_dom_classes": [],
            "_model_module": "@jupyter-widgets/controls",
            "_model_module_version": "1.5.0",
            "_model_name": "HTMLModel",
            "_view_count": null,
            "_view_module": "@jupyter-widgets/controls",
            "_view_module_version": "1.5.0",
            "_view_name": "HTMLView",
            "description": "",
            "description_tooltip": null,
            "layout": "IPY_MODEL_0337f40ac6bd429a8b0fc23cc0a76acc",
            "placeholder": "​",
            "style": "IPY_MODEL_24a0f5c8cab14070ab3bf161d6275a08",
            "value": "README.md: 100%"
          }
        },
        "ff6a62421d154aeaa738ec2fe12071bb": {
          "model_module": "@jupyter-widgets/controls",
          "model_name": "FloatProgressModel",
          "model_module_version": "1.5.0",
          "state": {
            "_dom_classes": [],
            "_model_module": "@jupyter-widgets/controls",
            "_model_module_version": "1.5.0",
            "_model_name": "FloatProgressModel",
            "_view_count": null,
            "_view_module": "@jupyter-widgets/controls",
            "_view_module_version": "1.5.0",
            "_view_name": "ProgressView",
            "bar_style": "success",
            "description": "",
            "description_tooltip": null,
            "layout": "IPY_MODEL_e0ec42e8443f45b8bd6d8b9be1aecfee",
            "max": 3729,
            "min": 0,
            "orientation": "horizontal",
            "style": "IPY_MODEL_b6854c7412564566a4cbc52815f07c83",
            "value": 3729
          }
        },
        "08d4e0a0cef34c0781d9bc40d3735b45": {
          "model_module": "@jupyter-widgets/controls",
          "model_name": "HTMLModel",
          "model_module_version": "1.5.0",
          "state": {
            "_dom_classes": [],
            "_model_module": "@jupyter-widgets/controls",
            "_model_module_version": "1.5.0",
            "_model_name": "HTMLModel",
            "_view_count": null,
            "_view_module": "@jupyter-widgets/controls",
            "_view_module_version": "1.5.0",
            "_view_name": "HTMLView",
            "description": "",
            "description_tooltip": null,
            "layout": "IPY_MODEL_72a9d1d1b8ca42a9810f71431c43350c",
            "placeholder": "​",
            "style": "IPY_MODEL_be346b1db6464226980fb6a6cb31393a",
            "value": " 3.73k/3.73k [00:00&lt;00:00, 106kB/s]"
          }
        },
        "7f62c92095674b93ab28e28b7acf6fbc": {
          "model_module": "@jupyter-widgets/base",
          "model_name": "LayoutModel",
          "model_module_version": "1.2.0",
          "state": {
            "_model_module": "@jupyter-widgets/base",
            "_model_module_version": "1.2.0",
            "_model_name": "LayoutModel",
            "_view_count": null,
            "_view_module": "@jupyter-widgets/base",
            "_view_module_version": "1.2.0",
            "_view_name": "LayoutView",
            "align_content": null,
            "align_items": null,
            "align_self": null,
            "border": null,
            "bottom": null,
            "display": null,
            "flex": null,
            "flex_flow": null,
            "grid_area": null,
            "grid_auto_columns": null,
            "grid_auto_flow": null,
            "grid_auto_rows": null,
            "grid_column": null,
            "grid_gap": null,
            "grid_row": null,
            "grid_template_areas": null,
            "grid_template_columns": null,
            "grid_template_rows": null,
            "height": null,
            "justify_content": null,
            "justify_items": null,
            "left": null,
            "margin": null,
            "max_height": null,
            "max_width": null,
            "min_height": null,
            "min_width": null,
            "object_fit": null,
            "object_position": null,
            "order": null,
            "overflow": null,
            "overflow_x": null,
            "overflow_y": null,
            "padding": null,
            "right": null,
            "top": null,
            "visibility": null,
            "width": null
          }
        },
        "0337f40ac6bd429a8b0fc23cc0a76acc": {
          "model_module": "@jupyter-widgets/base",
          "model_name": "LayoutModel",
          "model_module_version": "1.2.0",
          "state": {
            "_model_module": "@jupyter-widgets/base",
            "_model_module_version": "1.2.0",
            "_model_name": "LayoutModel",
            "_view_count": null,
            "_view_module": "@jupyter-widgets/base",
            "_view_module_version": "1.2.0",
            "_view_name": "LayoutView",
            "align_content": null,
            "align_items": null,
            "align_self": null,
            "border": null,
            "bottom": null,
            "display": null,
            "flex": null,
            "flex_flow": null,
            "grid_area": null,
            "grid_auto_columns": null,
            "grid_auto_flow": null,
            "grid_auto_rows": null,
            "grid_column": null,
            "grid_gap": null,
            "grid_row": null,
            "grid_template_areas": null,
            "grid_template_columns": null,
            "grid_template_rows": null,
            "height": null,
            "justify_content": null,
            "justify_items": null,
            "left": null,
            "margin": null,
            "max_height": null,
            "max_width": null,
            "min_height": null,
            "min_width": null,
            "object_fit": null,
            "object_position": null,
            "order": null,
            "overflow": null,
            "overflow_x": null,
            "overflow_y": null,
            "padding": null,
            "right": null,
            "top": null,
            "visibility": null,
            "width": null
          }
        },
        "24a0f5c8cab14070ab3bf161d6275a08": {
          "model_module": "@jupyter-widgets/controls",
          "model_name": "DescriptionStyleModel",
          "model_module_version": "1.5.0",
          "state": {
            "_model_module": "@jupyter-widgets/controls",
            "_model_module_version": "1.5.0",
            "_model_name": "DescriptionStyleModel",
            "_view_count": null,
            "_view_module": "@jupyter-widgets/base",
            "_view_module_version": "1.2.0",
            "_view_name": "StyleView",
            "description_width": ""
          }
        },
        "e0ec42e8443f45b8bd6d8b9be1aecfee": {
          "model_module": "@jupyter-widgets/base",
          "model_name": "LayoutModel",
          "model_module_version": "1.2.0",
          "state": {
            "_model_module": "@jupyter-widgets/base",
            "_model_module_version": "1.2.0",
            "_model_name": "LayoutModel",
            "_view_count": null,
            "_view_module": "@jupyter-widgets/base",
            "_view_module_version": "1.2.0",
            "_view_name": "LayoutView",
            "align_content": null,
            "align_items": null,
            "align_self": null,
            "border": null,
            "bottom": null,
            "display": null,
            "flex": null,
            "flex_flow": null,
            "grid_area": null,
            "grid_auto_columns": null,
            "grid_auto_flow": null,
            "grid_auto_rows": null,
            "grid_column": null,
            "grid_gap": null,
            "grid_row": null,
            "grid_template_areas": null,
            "grid_template_columns": null,
            "grid_template_rows": null,
            "height": null,
            "justify_content": null,
            "justify_items": null,
            "left": null,
            "margin": null,
            "max_height": null,
            "max_width": null,
            "min_height": null,
            "min_width": null,
            "object_fit": null,
            "object_position": null,
            "order": null,
            "overflow": null,
            "overflow_x": null,
            "overflow_y": null,
            "padding": null,
            "right": null,
            "top": null,
            "visibility": null,
            "width": null
          }
        },
        "b6854c7412564566a4cbc52815f07c83": {
          "model_module": "@jupyter-widgets/controls",
          "model_name": "ProgressStyleModel",
          "model_module_version": "1.5.0",
          "state": {
            "_model_module": "@jupyter-widgets/controls",
            "_model_module_version": "1.5.0",
            "_model_name": "ProgressStyleModel",
            "_view_count": null,
            "_view_module": "@jupyter-widgets/base",
            "_view_module_version": "1.2.0",
            "_view_name": "StyleView",
            "bar_color": null,
            "description_width": ""
          }
        },
        "72a9d1d1b8ca42a9810f71431c43350c": {
          "model_module": "@jupyter-widgets/base",
          "model_name": "LayoutModel",
          "model_module_version": "1.2.0",
          "state": {
            "_model_module": "@jupyter-widgets/base",
            "_model_module_version": "1.2.0",
            "_model_name": "LayoutModel",
            "_view_count": null,
            "_view_module": "@jupyter-widgets/base",
            "_view_module_version": "1.2.0",
            "_view_name": "LayoutView",
            "align_content": null,
            "align_items": null,
            "align_self": null,
            "border": null,
            "bottom": null,
            "display": null,
            "flex": null,
            "flex_flow": null,
            "grid_area": null,
            "grid_auto_columns": null,
            "grid_auto_flow": null,
            "grid_auto_rows": null,
            "grid_column": null,
            "grid_gap": null,
            "grid_row": null,
            "grid_template_areas": null,
            "grid_template_columns": null,
            "grid_template_rows": null,
            "height": null,
            "justify_content": null,
            "justify_items": null,
            "left": null,
            "margin": null,
            "max_height": null,
            "max_width": null,
            "min_height": null,
            "min_width": null,
            "object_fit": null,
            "object_position": null,
            "order": null,
            "overflow": null,
            "overflow_x": null,
            "overflow_y": null,
            "padding": null,
            "right": null,
            "top": null,
            "visibility": null,
            "width": null
          }
        },
        "be346b1db6464226980fb6a6cb31393a": {
          "model_module": "@jupyter-widgets/controls",
          "model_name": "DescriptionStyleModel",
          "model_module_version": "1.5.0",
          "state": {
            "_model_module": "@jupyter-widgets/controls",
            "_model_module_version": "1.5.0",
            "_model_name": "DescriptionStyleModel",
            "_view_count": null,
            "_view_module": "@jupyter-widgets/base",
            "_view_module_version": "1.2.0",
            "_view_name": "StyleView",
            "description_width": ""
          }
        },
        "650c3c5b29494da49a7e1364181ded26": {
          "model_module": "@jupyter-widgets/controls",
          "model_name": "HBoxModel",
          "model_module_version": "1.5.0",
          "state": {
            "_dom_classes": [],
            "_model_module": "@jupyter-widgets/controls",
            "_model_module_version": "1.5.0",
            "_model_name": "HBoxModel",
            "_view_count": null,
            "_view_module": "@jupyter-widgets/controls",
            "_view_module_version": "1.5.0",
            "_view_name": "HBoxView",
            "box_style": "",
            "children": [
              "IPY_MODEL_a3043b8bcae94972be7d6a9d595fa905",
              "IPY_MODEL_a2dcd1e6ae7847d0a959ae47697a0da4",
              "IPY_MODEL_7f47209274f54202af16b41f3f1dfc06"
            ],
            "layout": "IPY_MODEL_503417adce1944b7a12a3834e47af1b7"
          }
        },
        "a3043b8bcae94972be7d6a9d595fa905": {
          "model_module": "@jupyter-widgets/controls",
          "model_name": "HTMLModel",
          "model_module_version": "1.5.0",
          "state": {
            "_dom_classes": [],
            "_model_module": "@jupyter-widgets/controls",
            "_model_module_version": "1.5.0",
            "_model_name": "HTMLModel",
            "_view_count": null,
            "_view_module": "@jupyter-widgets/controls",
            "_view_module_version": "1.5.0",
            "_view_name": "HTMLView",
            "description": "",
            "description_tooltip": null,
            "layout": "IPY_MODEL_e42ac585a353474096ccdfb67a9131ae",
            "placeholder": "​",
            "style": "IPY_MODEL_34375b529d7a4764b0d6f660a0cbef50",
            "value": "sentence_bert_config.json: 100%"
          }
        },
        "a2dcd1e6ae7847d0a959ae47697a0da4": {
          "model_module": "@jupyter-widgets/controls",
          "model_name": "FloatProgressModel",
          "model_module_version": "1.5.0",
          "state": {
            "_dom_classes": [],
            "_model_module": "@jupyter-widgets/controls",
            "_model_module_version": "1.5.0",
            "_model_name": "FloatProgressModel",
            "_view_count": null,
            "_view_module": "@jupyter-widgets/controls",
            "_view_module_version": "1.5.0",
            "_view_name": "ProgressView",
            "bar_style": "success",
            "description": "",
            "description_tooltip": null,
            "layout": "IPY_MODEL_b4872a37c875472ba6ea662468d1c83f",
            "max": 53,
            "min": 0,
            "orientation": "horizontal",
            "style": "IPY_MODEL_3cdecad020454a359ef7d7770e586d7c",
            "value": 53
          }
        },
        "7f47209274f54202af16b41f3f1dfc06": {
          "model_module": "@jupyter-widgets/controls",
          "model_name": "HTMLModel",
          "model_module_version": "1.5.0",
          "state": {
            "_dom_classes": [],
            "_model_module": "@jupyter-widgets/controls",
            "_model_module_version": "1.5.0",
            "_model_name": "HTMLModel",
            "_view_count": null,
            "_view_module": "@jupyter-widgets/controls",
            "_view_module_version": "1.5.0",
            "_view_name": "HTMLView",
            "description": "",
            "description_tooltip": null,
            "layout": "IPY_MODEL_41157412566146c28b0827f28f9c4aa2",
            "placeholder": "​",
            "style": "IPY_MODEL_4817244d5ca54e28903ad262ea388e76",
            "value": " 53.0/53.0 [00:00&lt;00:00, 1.83kB/s]"
          }
        },
        "503417adce1944b7a12a3834e47af1b7": {
          "model_module": "@jupyter-widgets/base",
          "model_name": "LayoutModel",
          "model_module_version": "1.2.0",
          "state": {
            "_model_module": "@jupyter-widgets/base",
            "_model_module_version": "1.2.0",
            "_model_name": "LayoutModel",
            "_view_count": null,
            "_view_module": "@jupyter-widgets/base",
            "_view_module_version": "1.2.0",
            "_view_name": "LayoutView",
            "align_content": null,
            "align_items": null,
            "align_self": null,
            "border": null,
            "bottom": null,
            "display": null,
            "flex": null,
            "flex_flow": null,
            "grid_area": null,
            "grid_auto_columns": null,
            "grid_auto_flow": null,
            "grid_auto_rows": null,
            "grid_column": null,
            "grid_gap": null,
            "grid_row": null,
            "grid_template_areas": null,
            "grid_template_columns": null,
            "grid_template_rows": null,
            "height": null,
            "justify_content": null,
            "justify_items": null,
            "left": null,
            "margin": null,
            "max_height": null,
            "max_width": null,
            "min_height": null,
            "min_width": null,
            "object_fit": null,
            "object_position": null,
            "order": null,
            "overflow": null,
            "overflow_x": null,
            "overflow_y": null,
            "padding": null,
            "right": null,
            "top": null,
            "visibility": null,
            "width": null
          }
        },
        "e42ac585a353474096ccdfb67a9131ae": {
          "model_module": "@jupyter-widgets/base",
          "model_name": "LayoutModel",
          "model_module_version": "1.2.0",
          "state": {
            "_model_module": "@jupyter-widgets/base",
            "_model_module_version": "1.2.0",
            "_model_name": "LayoutModel",
            "_view_count": null,
            "_view_module": "@jupyter-widgets/base",
            "_view_module_version": "1.2.0",
            "_view_name": "LayoutView",
            "align_content": null,
            "align_items": null,
            "align_self": null,
            "border": null,
            "bottom": null,
            "display": null,
            "flex": null,
            "flex_flow": null,
            "grid_area": null,
            "grid_auto_columns": null,
            "grid_auto_flow": null,
            "grid_auto_rows": null,
            "grid_column": null,
            "grid_gap": null,
            "grid_row": null,
            "grid_template_areas": null,
            "grid_template_columns": null,
            "grid_template_rows": null,
            "height": null,
            "justify_content": null,
            "justify_items": null,
            "left": null,
            "margin": null,
            "max_height": null,
            "max_width": null,
            "min_height": null,
            "min_width": null,
            "object_fit": null,
            "object_position": null,
            "order": null,
            "overflow": null,
            "overflow_x": null,
            "overflow_y": null,
            "padding": null,
            "right": null,
            "top": null,
            "visibility": null,
            "width": null
          }
        },
        "34375b529d7a4764b0d6f660a0cbef50": {
          "model_module": "@jupyter-widgets/controls",
          "model_name": "DescriptionStyleModel",
          "model_module_version": "1.5.0",
          "state": {
            "_model_module": "@jupyter-widgets/controls",
            "_model_module_version": "1.5.0",
            "_model_name": "DescriptionStyleModel",
            "_view_count": null,
            "_view_module": "@jupyter-widgets/base",
            "_view_module_version": "1.2.0",
            "_view_name": "StyleView",
            "description_width": ""
          }
        },
        "b4872a37c875472ba6ea662468d1c83f": {
          "model_module": "@jupyter-widgets/base",
          "model_name": "LayoutModel",
          "model_module_version": "1.2.0",
          "state": {
            "_model_module": "@jupyter-widgets/base",
            "_model_module_version": "1.2.0",
            "_model_name": "LayoutModel",
            "_view_count": null,
            "_view_module": "@jupyter-widgets/base",
            "_view_module_version": "1.2.0",
            "_view_name": "LayoutView",
            "align_content": null,
            "align_items": null,
            "align_self": null,
            "border": null,
            "bottom": null,
            "display": null,
            "flex": null,
            "flex_flow": null,
            "grid_area": null,
            "grid_auto_columns": null,
            "grid_auto_flow": null,
            "grid_auto_rows": null,
            "grid_column": null,
            "grid_gap": null,
            "grid_row": null,
            "grid_template_areas": null,
            "grid_template_columns": null,
            "grid_template_rows": null,
            "height": null,
            "justify_content": null,
            "justify_items": null,
            "left": null,
            "margin": null,
            "max_height": null,
            "max_width": null,
            "min_height": null,
            "min_width": null,
            "object_fit": null,
            "object_position": null,
            "order": null,
            "overflow": null,
            "overflow_x": null,
            "overflow_y": null,
            "padding": null,
            "right": null,
            "top": null,
            "visibility": null,
            "width": null
          }
        },
        "3cdecad020454a359ef7d7770e586d7c": {
          "model_module": "@jupyter-widgets/controls",
          "model_name": "ProgressStyleModel",
          "model_module_version": "1.5.0",
          "state": {
            "_model_module": "@jupyter-widgets/controls",
            "_model_module_version": "1.5.0",
            "_model_name": "ProgressStyleModel",
            "_view_count": null,
            "_view_module": "@jupyter-widgets/base",
            "_view_module_version": "1.2.0",
            "_view_name": "StyleView",
            "bar_color": null,
            "description_width": ""
          }
        },
        "41157412566146c28b0827f28f9c4aa2": {
          "model_module": "@jupyter-widgets/base",
          "model_name": "LayoutModel",
          "model_module_version": "1.2.0",
          "state": {
            "_model_module": "@jupyter-widgets/base",
            "_model_module_version": "1.2.0",
            "_model_name": "LayoutModel",
            "_view_count": null,
            "_view_module": "@jupyter-widgets/base",
            "_view_module_version": "1.2.0",
            "_view_name": "LayoutView",
            "align_content": null,
            "align_items": null,
            "align_self": null,
            "border": null,
            "bottom": null,
            "display": null,
            "flex": null,
            "flex_flow": null,
            "grid_area": null,
            "grid_auto_columns": null,
            "grid_auto_flow": null,
            "grid_auto_rows": null,
            "grid_column": null,
            "grid_gap": null,
            "grid_row": null,
            "grid_template_areas": null,
            "grid_template_columns": null,
            "grid_template_rows": null,
            "height": null,
            "justify_content": null,
            "justify_items": null,
            "left": null,
            "margin": null,
            "max_height": null,
            "max_width": null,
            "min_height": null,
            "min_width": null,
            "object_fit": null,
            "object_position": null,
            "order": null,
            "overflow": null,
            "overflow_x": null,
            "overflow_y": null,
            "padding": null,
            "right": null,
            "top": null,
            "visibility": null,
            "width": null
          }
        },
        "4817244d5ca54e28903ad262ea388e76": {
          "model_module": "@jupyter-widgets/controls",
          "model_name": "DescriptionStyleModel",
          "model_module_version": "1.5.0",
          "state": {
            "_model_module": "@jupyter-widgets/controls",
            "_model_module_version": "1.5.0",
            "_model_name": "DescriptionStyleModel",
            "_view_count": null,
            "_view_module": "@jupyter-widgets/base",
            "_view_module_version": "1.2.0",
            "_view_name": "StyleView",
            "description_width": ""
          }
        },
        "32e1a6c3e4dd48da9087590e32368606": {
          "model_module": "@jupyter-widgets/controls",
          "model_name": "HBoxModel",
          "model_module_version": "1.5.0",
          "state": {
            "_dom_classes": [],
            "_model_module": "@jupyter-widgets/controls",
            "_model_module_version": "1.5.0",
            "_model_name": "HBoxModel",
            "_view_count": null,
            "_view_module": "@jupyter-widgets/controls",
            "_view_module_version": "1.5.0",
            "_view_name": "HBoxView",
            "box_style": "",
            "children": [
              "IPY_MODEL_58b71f35d31f476081a32b5d03bd2d52",
              "IPY_MODEL_7a8fa8ea72e642b79efbec0ba484a362",
              "IPY_MODEL_ce442768d3c041608fae441a2abfe434"
            ],
            "layout": "IPY_MODEL_73e242d224134a339aaa36af398bf651"
          }
        },
        "58b71f35d31f476081a32b5d03bd2d52": {
          "model_module": "@jupyter-widgets/controls",
          "model_name": "HTMLModel",
          "model_module_version": "1.5.0",
          "state": {
            "_dom_classes": [],
            "_model_module": "@jupyter-widgets/controls",
            "_model_module_version": "1.5.0",
            "_model_name": "HTMLModel",
            "_view_count": null,
            "_view_module": "@jupyter-widgets/controls",
            "_view_module_version": "1.5.0",
            "_view_name": "HTMLView",
            "description": "",
            "description_tooltip": null,
            "layout": "IPY_MODEL_94bd4a046f004bf0ab817f17df5bbab7",
            "placeholder": "​",
            "style": "IPY_MODEL_437994d284fe42e58655f82ae67c2453",
            "value": "config.json: 100%"
          }
        },
        "7a8fa8ea72e642b79efbec0ba484a362": {
          "model_module": "@jupyter-widgets/controls",
          "model_name": "FloatProgressModel",
          "model_module_version": "1.5.0",
          "state": {
            "_dom_classes": [],
            "_model_module": "@jupyter-widgets/controls",
            "_model_module_version": "1.5.0",
            "_model_name": "FloatProgressModel",
            "_view_count": null,
            "_view_module": "@jupyter-widgets/controls",
            "_view_module_version": "1.5.0",
            "_view_name": "ProgressView",
            "bar_style": "success",
            "description": "",
            "description_tooltip": null,
            "layout": "IPY_MODEL_b75808c7f47a4c51bc2337a42f876e67",
            "max": 629,
            "min": 0,
            "orientation": "horizontal",
            "style": "IPY_MODEL_84640cb1315f4ad4b4db2da3a3a377ca",
            "value": 629
          }
        },
        "ce442768d3c041608fae441a2abfe434": {
          "model_module": "@jupyter-widgets/controls",
          "model_name": "HTMLModel",
          "model_module_version": "1.5.0",
          "state": {
            "_dom_classes": [],
            "_model_module": "@jupyter-widgets/controls",
            "_model_module_version": "1.5.0",
            "_model_name": "HTMLModel",
            "_view_count": null,
            "_view_module": "@jupyter-widgets/controls",
            "_view_module_version": "1.5.0",
            "_view_name": "HTMLView",
            "description": "",
            "description_tooltip": null,
            "layout": "IPY_MODEL_1ac3720baf5945b185e73a608ba27c76",
            "placeholder": "​",
            "style": "IPY_MODEL_eef6fcfc1bd6413489617b7b35c51ae8",
            "value": " 629/629 [00:00&lt;00:00, 17.0kB/s]"
          }
        },
        "73e242d224134a339aaa36af398bf651": {
          "model_module": "@jupyter-widgets/base",
          "model_name": "LayoutModel",
          "model_module_version": "1.2.0",
          "state": {
            "_model_module": "@jupyter-widgets/base",
            "_model_module_version": "1.2.0",
            "_model_name": "LayoutModel",
            "_view_count": null,
            "_view_module": "@jupyter-widgets/base",
            "_view_module_version": "1.2.0",
            "_view_name": "LayoutView",
            "align_content": null,
            "align_items": null,
            "align_self": null,
            "border": null,
            "bottom": null,
            "display": null,
            "flex": null,
            "flex_flow": null,
            "grid_area": null,
            "grid_auto_columns": null,
            "grid_auto_flow": null,
            "grid_auto_rows": null,
            "grid_column": null,
            "grid_gap": null,
            "grid_row": null,
            "grid_template_areas": null,
            "grid_template_columns": null,
            "grid_template_rows": null,
            "height": null,
            "justify_content": null,
            "justify_items": null,
            "left": null,
            "margin": null,
            "max_height": null,
            "max_width": null,
            "min_height": null,
            "min_width": null,
            "object_fit": null,
            "object_position": null,
            "order": null,
            "overflow": null,
            "overflow_x": null,
            "overflow_y": null,
            "padding": null,
            "right": null,
            "top": null,
            "visibility": null,
            "width": null
          }
        },
        "94bd4a046f004bf0ab817f17df5bbab7": {
          "model_module": "@jupyter-widgets/base",
          "model_name": "LayoutModel",
          "model_module_version": "1.2.0",
          "state": {
            "_model_module": "@jupyter-widgets/base",
            "_model_module_version": "1.2.0",
            "_model_name": "LayoutModel",
            "_view_count": null,
            "_view_module": "@jupyter-widgets/base",
            "_view_module_version": "1.2.0",
            "_view_name": "LayoutView",
            "align_content": null,
            "align_items": null,
            "align_self": null,
            "border": null,
            "bottom": null,
            "display": null,
            "flex": null,
            "flex_flow": null,
            "grid_area": null,
            "grid_auto_columns": null,
            "grid_auto_flow": null,
            "grid_auto_rows": null,
            "grid_column": null,
            "grid_gap": null,
            "grid_row": null,
            "grid_template_areas": null,
            "grid_template_columns": null,
            "grid_template_rows": null,
            "height": null,
            "justify_content": null,
            "justify_items": null,
            "left": null,
            "margin": null,
            "max_height": null,
            "max_width": null,
            "min_height": null,
            "min_width": null,
            "object_fit": null,
            "object_position": null,
            "order": null,
            "overflow": null,
            "overflow_x": null,
            "overflow_y": null,
            "padding": null,
            "right": null,
            "top": null,
            "visibility": null,
            "width": null
          }
        },
        "437994d284fe42e58655f82ae67c2453": {
          "model_module": "@jupyter-widgets/controls",
          "model_name": "DescriptionStyleModel",
          "model_module_version": "1.5.0",
          "state": {
            "_model_module": "@jupyter-widgets/controls",
            "_model_module_version": "1.5.0",
            "_model_name": "DescriptionStyleModel",
            "_view_count": null,
            "_view_module": "@jupyter-widgets/base",
            "_view_module_version": "1.2.0",
            "_view_name": "StyleView",
            "description_width": ""
          }
        },
        "b75808c7f47a4c51bc2337a42f876e67": {
          "model_module": "@jupyter-widgets/base",
          "model_name": "LayoutModel",
          "model_module_version": "1.2.0",
          "state": {
            "_model_module": "@jupyter-widgets/base",
            "_model_module_version": "1.2.0",
            "_model_name": "LayoutModel",
            "_view_count": null,
            "_view_module": "@jupyter-widgets/base",
            "_view_module_version": "1.2.0",
            "_view_name": "LayoutView",
            "align_content": null,
            "align_items": null,
            "align_self": null,
            "border": null,
            "bottom": null,
            "display": null,
            "flex": null,
            "flex_flow": null,
            "grid_area": null,
            "grid_auto_columns": null,
            "grid_auto_flow": null,
            "grid_auto_rows": null,
            "grid_column": null,
            "grid_gap": null,
            "grid_row": null,
            "grid_template_areas": null,
            "grid_template_columns": null,
            "grid_template_rows": null,
            "height": null,
            "justify_content": null,
            "justify_items": null,
            "left": null,
            "margin": null,
            "max_height": null,
            "max_width": null,
            "min_height": null,
            "min_width": null,
            "object_fit": null,
            "object_position": null,
            "order": null,
            "overflow": null,
            "overflow_x": null,
            "overflow_y": null,
            "padding": null,
            "right": null,
            "top": null,
            "visibility": null,
            "width": null
          }
        },
        "84640cb1315f4ad4b4db2da3a3a377ca": {
          "model_module": "@jupyter-widgets/controls",
          "model_name": "ProgressStyleModel",
          "model_module_version": "1.5.0",
          "state": {
            "_model_module": "@jupyter-widgets/controls",
            "_model_module_version": "1.5.0",
            "_model_name": "ProgressStyleModel",
            "_view_count": null,
            "_view_module": "@jupyter-widgets/base",
            "_view_module_version": "1.2.0",
            "_view_name": "StyleView",
            "bar_color": null,
            "description_width": ""
          }
        },
        "1ac3720baf5945b185e73a608ba27c76": {
          "model_module": "@jupyter-widgets/base",
          "model_name": "LayoutModel",
          "model_module_version": "1.2.0",
          "state": {
            "_model_module": "@jupyter-widgets/base",
            "_model_module_version": "1.2.0",
            "_model_name": "LayoutModel",
            "_view_count": null,
            "_view_module": "@jupyter-widgets/base",
            "_view_module_version": "1.2.0",
            "_view_name": "LayoutView",
            "align_content": null,
            "align_items": null,
            "align_self": null,
            "border": null,
            "bottom": null,
            "display": null,
            "flex": null,
            "flex_flow": null,
            "grid_area": null,
            "grid_auto_columns": null,
            "grid_auto_flow": null,
            "grid_auto_rows": null,
            "grid_column": null,
            "grid_gap": null,
            "grid_row": null,
            "grid_template_areas": null,
            "grid_template_columns": null,
            "grid_template_rows": null,
            "height": null,
            "justify_content": null,
            "justify_items": null,
            "left": null,
            "margin": null,
            "max_height": null,
            "max_width": null,
            "min_height": null,
            "min_width": null,
            "object_fit": null,
            "object_position": null,
            "order": null,
            "overflow": null,
            "overflow_x": null,
            "overflow_y": null,
            "padding": null,
            "right": null,
            "top": null,
            "visibility": null,
            "width": null
          }
        },
        "eef6fcfc1bd6413489617b7b35c51ae8": {
          "model_module": "@jupyter-widgets/controls",
          "model_name": "DescriptionStyleModel",
          "model_module_version": "1.5.0",
          "state": {
            "_model_module": "@jupyter-widgets/controls",
            "_model_module_version": "1.5.0",
            "_model_name": "DescriptionStyleModel",
            "_view_count": null,
            "_view_module": "@jupyter-widgets/base",
            "_view_module_version": "1.2.0",
            "_view_name": "StyleView",
            "description_width": ""
          }
        },
        "6a29954eb4ef44918864654417b5c2d2": {
          "model_module": "@jupyter-widgets/controls",
          "model_name": "HBoxModel",
          "model_module_version": "1.5.0",
          "state": {
            "_dom_classes": [],
            "_model_module": "@jupyter-widgets/controls",
            "_model_module_version": "1.5.0",
            "_model_name": "HBoxModel",
            "_view_count": null,
            "_view_module": "@jupyter-widgets/controls",
            "_view_module_version": "1.5.0",
            "_view_name": "HBoxView",
            "box_style": "",
            "children": [
              "IPY_MODEL_dc67a57d447e43ef86fdd027bb9c911b",
              "IPY_MODEL_012e3d38c41d41cea2a94d67435b396c",
              "IPY_MODEL_87d494e194d74c61a4f8b5b5d5b7b29d"
            ],
            "layout": "IPY_MODEL_f56c82a35560466881f81b4cd6dc0ef6"
          }
        },
        "dc67a57d447e43ef86fdd027bb9c911b": {
          "model_module": "@jupyter-widgets/controls",
          "model_name": "HTMLModel",
          "model_module_version": "1.5.0",
          "state": {
            "_dom_classes": [],
            "_model_module": "@jupyter-widgets/controls",
            "_model_module_version": "1.5.0",
            "_model_name": "HTMLModel",
            "_view_count": null,
            "_view_module": "@jupyter-widgets/controls",
            "_view_module_version": "1.5.0",
            "_view_name": "HTMLView",
            "description": "",
            "description_tooltip": null,
            "layout": "IPY_MODEL_11174db3c0a14108bafe6ea6ee1af761",
            "placeholder": "​",
            "style": "IPY_MODEL_b5240d9b85d34fb69ef84575f7c1a281",
            "value": "model.safetensors: 100%"
          }
        },
        "012e3d38c41d41cea2a94d67435b396c": {
          "model_module": "@jupyter-widgets/controls",
          "model_name": "FloatProgressModel",
          "model_module_version": "1.5.0",
          "state": {
            "_dom_classes": [],
            "_model_module": "@jupyter-widgets/controls",
            "_model_module_version": "1.5.0",
            "_model_name": "FloatProgressModel",
            "_view_count": null,
            "_view_module": "@jupyter-widgets/controls",
            "_view_module_version": "1.5.0",
            "_view_name": "ProgressView",
            "bar_style": "success",
            "description": "",
            "description_tooltip": null,
            "layout": "IPY_MODEL_32abaa6c8f844639beffa512a4448e95",
            "max": 90868373,
            "min": 0,
            "orientation": "horizontal",
            "style": "IPY_MODEL_8837dd20ee0d44fca54d20298bee97a3",
            "value": 90868373
          }
        },
        "87d494e194d74c61a4f8b5b5d5b7b29d": {
          "model_module": "@jupyter-widgets/controls",
          "model_name": "HTMLModel",
          "model_module_version": "1.5.0",
          "state": {
            "_dom_classes": [],
            "_model_module": "@jupyter-widgets/controls",
            "_model_module_version": "1.5.0",
            "_model_name": "HTMLModel",
            "_view_count": null,
            "_view_module": "@jupyter-widgets/controls",
            "_view_module_version": "1.5.0",
            "_view_name": "HTMLView",
            "description": "",
            "description_tooltip": null,
            "layout": "IPY_MODEL_4121fccecbad4a558fdb39df12fdccff",
            "placeholder": "​",
            "style": "IPY_MODEL_c82bee433eb44965b929557ea70c7111",
            "value": " 90.9M/90.9M [00:01&lt;00:00, 43.2MB/s]"
          }
        },
        "f56c82a35560466881f81b4cd6dc0ef6": {
          "model_module": "@jupyter-widgets/base",
          "model_name": "LayoutModel",
          "model_module_version": "1.2.0",
          "state": {
            "_model_module": "@jupyter-widgets/base",
            "_model_module_version": "1.2.0",
            "_model_name": "LayoutModel",
            "_view_count": null,
            "_view_module": "@jupyter-widgets/base",
            "_view_module_version": "1.2.0",
            "_view_name": "LayoutView",
            "align_content": null,
            "align_items": null,
            "align_self": null,
            "border": null,
            "bottom": null,
            "display": null,
            "flex": null,
            "flex_flow": null,
            "grid_area": null,
            "grid_auto_columns": null,
            "grid_auto_flow": null,
            "grid_auto_rows": null,
            "grid_column": null,
            "grid_gap": null,
            "grid_row": null,
            "grid_template_areas": null,
            "grid_template_columns": null,
            "grid_template_rows": null,
            "height": null,
            "justify_content": null,
            "justify_items": null,
            "left": null,
            "margin": null,
            "max_height": null,
            "max_width": null,
            "min_height": null,
            "min_width": null,
            "object_fit": null,
            "object_position": null,
            "order": null,
            "overflow": null,
            "overflow_x": null,
            "overflow_y": null,
            "padding": null,
            "right": null,
            "top": null,
            "visibility": null,
            "width": null
          }
        },
        "11174db3c0a14108bafe6ea6ee1af761": {
          "model_module": "@jupyter-widgets/base",
          "model_name": "LayoutModel",
          "model_module_version": "1.2.0",
          "state": {
            "_model_module": "@jupyter-widgets/base",
            "_model_module_version": "1.2.0",
            "_model_name": "LayoutModel",
            "_view_count": null,
            "_view_module": "@jupyter-widgets/base",
            "_view_module_version": "1.2.0",
            "_view_name": "LayoutView",
            "align_content": null,
            "align_items": null,
            "align_self": null,
            "border": null,
            "bottom": null,
            "display": null,
            "flex": null,
            "flex_flow": null,
            "grid_area": null,
            "grid_auto_columns": null,
            "grid_auto_flow": null,
            "grid_auto_rows": null,
            "grid_column": null,
            "grid_gap": null,
            "grid_row": null,
            "grid_template_areas": null,
            "grid_template_columns": null,
            "grid_template_rows": null,
            "height": null,
            "justify_content": null,
            "justify_items": null,
            "left": null,
            "margin": null,
            "max_height": null,
            "max_width": null,
            "min_height": null,
            "min_width": null,
            "object_fit": null,
            "object_position": null,
            "order": null,
            "overflow": null,
            "overflow_x": null,
            "overflow_y": null,
            "padding": null,
            "right": null,
            "top": null,
            "visibility": null,
            "width": null
          }
        },
        "b5240d9b85d34fb69ef84575f7c1a281": {
          "model_module": "@jupyter-widgets/controls",
          "model_name": "DescriptionStyleModel",
          "model_module_version": "1.5.0",
          "state": {
            "_model_module": "@jupyter-widgets/controls",
            "_model_module_version": "1.5.0",
            "_model_name": "DescriptionStyleModel",
            "_view_count": null,
            "_view_module": "@jupyter-widgets/base",
            "_view_module_version": "1.2.0",
            "_view_name": "StyleView",
            "description_width": ""
          }
        },
        "32abaa6c8f844639beffa512a4448e95": {
          "model_module": "@jupyter-widgets/base",
          "model_name": "LayoutModel",
          "model_module_version": "1.2.0",
          "state": {
            "_model_module": "@jupyter-widgets/base",
            "_model_module_version": "1.2.0",
            "_model_name": "LayoutModel",
            "_view_count": null,
            "_view_module": "@jupyter-widgets/base",
            "_view_module_version": "1.2.0",
            "_view_name": "LayoutView",
            "align_content": null,
            "align_items": null,
            "align_self": null,
            "border": null,
            "bottom": null,
            "display": null,
            "flex": null,
            "flex_flow": null,
            "grid_area": null,
            "grid_auto_columns": null,
            "grid_auto_flow": null,
            "grid_auto_rows": null,
            "grid_column": null,
            "grid_gap": null,
            "grid_row": null,
            "grid_template_areas": null,
            "grid_template_columns": null,
            "grid_template_rows": null,
            "height": null,
            "justify_content": null,
            "justify_items": null,
            "left": null,
            "margin": null,
            "max_height": null,
            "max_width": null,
            "min_height": null,
            "min_width": null,
            "object_fit": null,
            "object_position": null,
            "order": null,
            "overflow": null,
            "overflow_x": null,
            "overflow_y": null,
            "padding": null,
            "right": null,
            "top": null,
            "visibility": null,
            "width": null
          }
        },
        "8837dd20ee0d44fca54d20298bee97a3": {
          "model_module": "@jupyter-widgets/controls",
          "model_name": "ProgressStyleModel",
          "model_module_version": "1.5.0",
          "state": {
            "_model_module": "@jupyter-widgets/controls",
            "_model_module_version": "1.5.0",
            "_model_name": "ProgressStyleModel",
            "_view_count": null,
            "_view_module": "@jupyter-widgets/base",
            "_view_module_version": "1.2.0",
            "_view_name": "StyleView",
            "bar_color": null,
            "description_width": ""
          }
        },
        "4121fccecbad4a558fdb39df12fdccff": {
          "model_module": "@jupyter-widgets/base",
          "model_name": "LayoutModel",
          "model_module_version": "1.2.0",
          "state": {
            "_model_module": "@jupyter-widgets/base",
            "_model_module_version": "1.2.0",
            "_model_name": "LayoutModel",
            "_view_count": null,
            "_view_module": "@jupyter-widgets/base",
            "_view_module_version": "1.2.0",
            "_view_name": "LayoutView",
            "align_content": null,
            "align_items": null,
            "align_self": null,
            "border": null,
            "bottom": null,
            "display": null,
            "flex": null,
            "flex_flow": null,
            "grid_area": null,
            "grid_auto_columns": null,
            "grid_auto_flow": null,
            "grid_auto_rows": null,
            "grid_column": null,
            "grid_gap": null,
            "grid_row": null,
            "grid_template_areas": null,
            "grid_template_columns": null,
            "grid_template_rows": null,
            "height": null,
            "justify_content": null,
            "justify_items": null,
            "left": null,
            "margin": null,
            "max_height": null,
            "max_width": null,
            "min_height": null,
            "min_width": null,
            "object_fit": null,
            "object_position": null,
            "order": null,
            "overflow": null,
            "overflow_x": null,
            "overflow_y": null,
            "padding": null,
            "right": null,
            "top": null,
            "visibility": null,
            "width": null
          }
        },
        "c82bee433eb44965b929557ea70c7111": {
          "model_module": "@jupyter-widgets/controls",
          "model_name": "DescriptionStyleModel",
          "model_module_version": "1.5.0",
          "state": {
            "_model_module": "@jupyter-widgets/controls",
            "_model_module_version": "1.5.0",
            "_model_name": "DescriptionStyleModel",
            "_view_count": null,
            "_view_module": "@jupyter-widgets/base",
            "_view_module_version": "1.2.0",
            "_view_name": "StyleView",
            "description_width": ""
          }
        },
        "411d1d9690894ffaa161b2fccc97f331": {
          "model_module": "@jupyter-widgets/controls",
          "model_name": "HBoxModel",
          "model_module_version": "1.5.0",
          "state": {
            "_dom_classes": [],
            "_model_module": "@jupyter-widgets/controls",
            "_model_module_version": "1.5.0",
            "_model_name": "HBoxModel",
            "_view_count": null,
            "_view_module": "@jupyter-widgets/controls",
            "_view_module_version": "1.5.0",
            "_view_name": "HBoxView",
            "box_style": "",
            "children": [
              "IPY_MODEL_421cdf2448ce4fed8d44582ac8bcf29d",
              "IPY_MODEL_6c0d93143c7f4cbaa2f2e98116e924a9",
              "IPY_MODEL_f054d1ec69d047f582843b5c9a4ed596"
            ],
            "layout": "IPY_MODEL_8fcddb7ffa5247f1992b3d1d84c790ef"
          }
        },
        "421cdf2448ce4fed8d44582ac8bcf29d": {
          "model_module": "@jupyter-widgets/controls",
          "model_name": "HTMLModel",
          "model_module_version": "1.5.0",
          "state": {
            "_dom_classes": [],
            "_model_module": "@jupyter-widgets/controls",
            "_model_module_version": "1.5.0",
            "_model_name": "HTMLModel",
            "_view_count": null,
            "_view_module": "@jupyter-widgets/controls",
            "_view_module_version": "1.5.0",
            "_view_name": "HTMLView",
            "description": "",
            "description_tooltip": null,
            "layout": "IPY_MODEL_70e9fc6a63be4aacab7c5846fdc998b4",
            "placeholder": "​",
            "style": "IPY_MODEL_f37da9ffdc2940f49c4e4729e1373798",
            "value": "tokenizer_config.json: 100%"
          }
        },
        "6c0d93143c7f4cbaa2f2e98116e924a9": {
          "model_module": "@jupyter-widgets/controls",
          "model_name": "FloatProgressModel",
          "model_module_version": "1.5.0",
          "state": {
            "_dom_classes": [],
            "_model_module": "@jupyter-widgets/controls",
            "_model_module_version": "1.5.0",
            "_model_name": "FloatProgressModel",
            "_view_count": null,
            "_view_module": "@jupyter-widgets/controls",
            "_view_module_version": "1.5.0",
            "_view_name": "ProgressView",
            "bar_style": "success",
            "description": "",
            "description_tooltip": null,
            "layout": "IPY_MODEL_c7bd96ff3f07468299d887a99b85b5d2",
            "max": 314,
            "min": 0,
            "orientation": "horizontal",
            "style": "IPY_MODEL_34d115075e97495184cd40f39e9efd9b",
            "value": 314
          }
        },
        "f054d1ec69d047f582843b5c9a4ed596": {
          "model_module": "@jupyter-widgets/controls",
          "model_name": "HTMLModel",
          "model_module_version": "1.5.0",
          "state": {
            "_dom_classes": [],
            "_model_module": "@jupyter-widgets/controls",
            "_model_module_version": "1.5.0",
            "_model_name": "HTMLModel",
            "_view_count": null,
            "_view_module": "@jupyter-widgets/controls",
            "_view_module_version": "1.5.0",
            "_view_name": "HTMLView",
            "description": "",
            "description_tooltip": null,
            "layout": "IPY_MODEL_1bae6abd632c41c29cd36958a1d8c0b8",
            "placeholder": "​",
            "style": "IPY_MODEL_be22948c0d004f309dcf93152eb537bf",
            "value": " 314/314 [00:00&lt;00:00, 15.0kB/s]"
          }
        },
        "8fcddb7ffa5247f1992b3d1d84c790ef": {
          "model_module": "@jupyter-widgets/base",
          "model_name": "LayoutModel",
          "model_module_version": "1.2.0",
          "state": {
            "_model_module": "@jupyter-widgets/base",
            "_model_module_version": "1.2.0",
            "_model_name": "LayoutModel",
            "_view_count": null,
            "_view_module": "@jupyter-widgets/base",
            "_view_module_version": "1.2.0",
            "_view_name": "LayoutView",
            "align_content": null,
            "align_items": null,
            "align_self": null,
            "border": null,
            "bottom": null,
            "display": null,
            "flex": null,
            "flex_flow": null,
            "grid_area": null,
            "grid_auto_columns": null,
            "grid_auto_flow": null,
            "grid_auto_rows": null,
            "grid_column": null,
            "grid_gap": null,
            "grid_row": null,
            "grid_template_areas": null,
            "grid_template_columns": null,
            "grid_template_rows": null,
            "height": null,
            "justify_content": null,
            "justify_items": null,
            "left": null,
            "margin": null,
            "max_height": null,
            "max_width": null,
            "min_height": null,
            "min_width": null,
            "object_fit": null,
            "object_position": null,
            "order": null,
            "overflow": null,
            "overflow_x": null,
            "overflow_y": null,
            "padding": null,
            "right": null,
            "top": null,
            "visibility": null,
            "width": null
          }
        },
        "70e9fc6a63be4aacab7c5846fdc998b4": {
          "model_module": "@jupyter-widgets/base",
          "model_name": "LayoutModel",
          "model_module_version": "1.2.0",
          "state": {
            "_model_module": "@jupyter-widgets/base",
            "_model_module_version": "1.2.0",
            "_model_name": "LayoutModel",
            "_view_count": null,
            "_view_module": "@jupyter-widgets/base",
            "_view_module_version": "1.2.0",
            "_view_name": "LayoutView",
            "align_content": null,
            "align_items": null,
            "align_self": null,
            "border": null,
            "bottom": null,
            "display": null,
            "flex": null,
            "flex_flow": null,
            "grid_area": null,
            "grid_auto_columns": null,
            "grid_auto_flow": null,
            "grid_auto_rows": null,
            "grid_column": null,
            "grid_gap": null,
            "grid_row": null,
            "grid_template_areas": null,
            "grid_template_columns": null,
            "grid_template_rows": null,
            "height": null,
            "justify_content": null,
            "justify_items": null,
            "left": null,
            "margin": null,
            "max_height": null,
            "max_width": null,
            "min_height": null,
            "min_width": null,
            "object_fit": null,
            "object_position": null,
            "order": null,
            "overflow": null,
            "overflow_x": null,
            "overflow_y": null,
            "padding": null,
            "right": null,
            "top": null,
            "visibility": null,
            "width": null
          }
        },
        "f37da9ffdc2940f49c4e4729e1373798": {
          "model_module": "@jupyter-widgets/controls",
          "model_name": "DescriptionStyleModel",
          "model_module_version": "1.5.0",
          "state": {
            "_model_module": "@jupyter-widgets/controls",
            "_model_module_version": "1.5.0",
            "_model_name": "DescriptionStyleModel",
            "_view_count": null,
            "_view_module": "@jupyter-widgets/base",
            "_view_module_version": "1.2.0",
            "_view_name": "StyleView",
            "description_width": ""
          }
        },
        "c7bd96ff3f07468299d887a99b85b5d2": {
          "model_module": "@jupyter-widgets/base",
          "model_name": "LayoutModel",
          "model_module_version": "1.2.0",
          "state": {
            "_model_module": "@jupyter-widgets/base",
            "_model_module_version": "1.2.0",
            "_model_name": "LayoutModel",
            "_view_count": null,
            "_view_module": "@jupyter-widgets/base",
            "_view_module_version": "1.2.0",
            "_view_name": "LayoutView",
            "align_content": null,
            "align_items": null,
            "align_self": null,
            "border": null,
            "bottom": null,
            "display": null,
            "flex": null,
            "flex_flow": null,
            "grid_area": null,
            "grid_auto_columns": null,
            "grid_auto_flow": null,
            "grid_auto_rows": null,
            "grid_column": null,
            "grid_gap": null,
            "grid_row": null,
            "grid_template_areas": null,
            "grid_template_columns": null,
            "grid_template_rows": null,
            "height": null,
            "justify_content": null,
            "justify_items": null,
            "left": null,
            "margin": null,
            "max_height": null,
            "max_width": null,
            "min_height": null,
            "min_width": null,
            "object_fit": null,
            "object_position": null,
            "order": null,
            "overflow": null,
            "overflow_x": null,
            "overflow_y": null,
            "padding": null,
            "right": null,
            "top": null,
            "visibility": null,
            "width": null
          }
        },
        "34d115075e97495184cd40f39e9efd9b": {
          "model_module": "@jupyter-widgets/controls",
          "model_name": "ProgressStyleModel",
          "model_module_version": "1.5.0",
          "state": {
            "_model_module": "@jupyter-widgets/controls",
            "_model_module_version": "1.5.0",
            "_model_name": "ProgressStyleModel",
            "_view_count": null,
            "_view_module": "@jupyter-widgets/base",
            "_view_module_version": "1.2.0",
            "_view_name": "StyleView",
            "bar_color": null,
            "description_width": ""
          }
        },
        "1bae6abd632c41c29cd36958a1d8c0b8": {
          "model_module": "@jupyter-widgets/base",
          "model_name": "LayoutModel",
          "model_module_version": "1.2.0",
          "state": {
            "_model_module": "@jupyter-widgets/base",
            "_model_module_version": "1.2.0",
            "_model_name": "LayoutModel",
            "_view_count": null,
            "_view_module": "@jupyter-widgets/base",
            "_view_module_version": "1.2.0",
            "_view_name": "LayoutView",
            "align_content": null,
            "align_items": null,
            "align_self": null,
            "border": null,
            "bottom": null,
            "display": null,
            "flex": null,
            "flex_flow": null,
            "grid_area": null,
            "grid_auto_columns": null,
            "grid_auto_flow": null,
            "grid_auto_rows": null,
            "grid_column": null,
            "grid_gap": null,
            "grid_row": null,
            "grid_template_areas": null,
            "grid_template_columns": null,
            "grid_template_rows": null,
            "height": null,
            "justify_content": null,
            "justify_items": null,
            "left": null,
            "margin": null,
            "max_height": null,
            "max_width": null,
            "min_height": null,
            "min_width": null,
            "object_fit": null,
            "object_position": null,
            "order": null,
            "overflow": null,
            "overflow_x": null,
            "overflow_y": null,
            "padding": null,
            "right": null,
            "top": null,
            "visibility": null,
            "width": null
          }
        },
        "be22948c0d004f309dcf93152eb537bf": {
          "model_module": "@jupyter-widgets/controls",
          "model_name": "DescriptionStyleModel",
          "model_module_version": "1.5.0",
          "state": {
            "_model_module": "@jupyter-widgets/controls",
            "_model_module_version": "1.5.0",
            "_model_name": "DescriptionStyleModel",
            "_view_count": null,
            "_view_module": "@jupyter-widgets/base",
            "_view_module_version": "1.2.0",
            "_view_name": "StyleView",
            "description_width": ""
          }
        },
        "1e5ae7bf2c9c4e36a38d00058680ef4a": {
          "model_module": "@jupyter-widgets/controls",
          "model_name": "HBoxModel",
          "model_module_version": "1.5.0",
          "state": {
            "_dom_classes": [],
            "_model_module": "@jupyter-widgets/controls",
            "_model_module_version": "1.5.0",
            "_model_name": "HBoxModel",
            "_view_count": null,
            "_view_module": "@jupyter-widgets/controls",
            "_view_module_version": "1.5.0",
            "_view_name": "HBoxView",
            "box_style": "",
            "children": [
              "IPY_MODEL_85e94720bf9a459c84f6628e4b1b2edb",
              "IPY_MODEL_937924de189b44f3a782f47bae6a6c3c",
              "IPY_MODEL_6619da53d8b648dabe3178595fbb4b0a"
            ],
            "layout": "IPY_MODEL_be01ff61623048c59de351fbbe312504"
          }
        },
        "85e94720bf9a459c84f6628e4b1b2edb": {
          "model_module": "@jupyter-widgets/controls",
          "model_name": "HTMLModel",
          "model_module_version": "1.5.0",
          "state": {
            "_dom_classes": [],
            "_model_module": "@jupyter-widgets/controls",
            "_model_module_version": "1.5.0",
            "_model_name": "HTMLModel",
            "_view_count": null,
            "_view_module": "@jupyter-widgets/controls",
            "_view_module_version": "1.5.0",
            "_view_name": "HTMLView",
            "description": "",
            "description_tooltip": null,
            "layout": "IPY_MODEL_c4d79af4023a4e1ea238bb55eab0121e",
            "placeholder": "​",
            "style": "IPY_MODEL_fd31614adf6f46e2983083cb729f2b7b",
            "value": "vocab.txt: 100%"
          }
        },
        "937924de189b44f3a782f47bae6a6c3c": {
          "model_module": "@jupyter-widgets/controls",
          "model_name": "FloatProgressModel",
          "model_module_version": "1.5.0",
          "state": {
            "_dom_classes": [],
            "_model_module": "@jupyter-widgets/controls",
            "_model_module_version": "1.5.0",
            "_model_name": "FloatProgressModel",
            "_view_count": null,
            "_view_module": "@jupyter-widgets/controls",
            "_view_module_version": "1.5.0",
            "_view_name": "ProgressView",
            "bar_style": "success",
            "description": "",
            "description_tooltip": null,
            "layout": "IPY_MODEL_b2ece5497b294a3a8044f396a1ca48e1",
            "max": 231508,
            "min": 0,
            "orientation": "horizontal",
            "style": "IPY_MODEL_ad84d8c917d047ffb8a946e5a5f5df9d",
            "value": 231508
          }
        },
        "6619da53d8b648dabe3178595fbb4b0a": {
          "model_module": "@jupyter-widgets/controls",
          "model_name": "HTMLModel",
          "model_module_version": "1.5.0",
          "state": {
            "_dom_classes": [],
            "_model_module": "@jupyter-widgets/controls",
            "_model_module_version": "1.5.0",
            "_model_name": "HTMLModel",
            "_view_count": null,
            "_view_module": "@jupyter-widgets/controls",
            "_view_module_version": "1.5.0",
            "_view_name": "HTMLView",
            "description": "",
            "description_tooltip": null,
            "layout": "IPY_MODEL_574878426f194b67b0b6c82932e88355",
            "placeholder": "​",
            "style": "IPY_MODEL_bc3a661381344e5084697ae22e4fd1fd",
            "value": " 232k/232k [00:00&lt;00:00, 3.51MB/s]"
          }
        },
        "be01ff61623048c59de351fbbe312504": {
          "model_module": "@jupyter-widgets/base",
          "model_name": "LayoutModel",
          "model_module_version": "1.2.0",
          "state": {
            "_model_module": "@jupyter-widgets/base",
            "_model_module_version": "1.2.0",
            "_model_name": "LayoutModel",
            "_view_count": null,
            "_view_module": "@jupyter-widgets/base",
            "_view_module_version": "1.2.0",
            "_view_name": "LayoutView",
            "align_content": null,
            "align_items": null,
            "align_self": null,
            "border": null,
            "bottom": null,
            "display": null,
            "flex": null,
            "flex_flow": null,
            "grid_area": null,
            "grid_auto_columns": null,
            "grid_auto_flow": null,
            "grid_auto_rows": null,
            "grid_column": null,
            "grid_gap": null,
            "grid_row": null,
            "grid_template_areas": null,
            "grid_template_columns": null,
            "grid_template_rows": null,
            "height": null,
            "justify_content": null,
            "justify_items": null,
            "left": null,
            "margin": null,
            "max_height": null,
            "max_width": null,
            "min_height": null,
            "min_width": null,
            "object_fit": null,
            "object_position": null,
            "order": null,
            "overflow": null,
            "overflow_x": null,
            "overflow_y": null,
            "padding": null,
            "right": null,
            "top": null,
            "visibility": null,
            "width": null
          }
        },
        "c4d79af4023a4e1ea238bb55eab0121e": {
          "model_module": "@jupyter-widgets/base",
          "model_name": "LayoutModel",
          "model_module_version": "1.2.0",
          "state": {
            "_model_module": "@jupyter-widgets/base",
            "_model_module_version": "1.2.0",
            "_model_name": "LayoutModel",
            "_view_count": null,
            "_view_module": "@jupyter-widgets/base",
            "_view_module_version": "1.2.0",
            "_view_name": "LayoutView",
            "align_content": null,
            "align_items": null,
            "align_self": null,
            "border": null,
            "bottom": null,
            "display": null,
            "flex": null,
            "flex_flow": null,
            "grid_area": null,
            "grid_auto_columns": null,
            "grid_auto_flow": null,
            "grid_auto_rows": null,
            "grid_column": null,
            "grid_gap": null,
            "grid_row": null,
            "grid_template_areas": null,
            "grid_template_columns": null,
            "grid_template_rows": null,
            "height": null,
            "justify_content": null,
            "justify_items": null,
            "left": null,
            "margin": null,
            "max_height": null,
            "max_width": null,
            "min_height": null,
            "min_width": null,
            "object_fit": null,
            "object_position": null,
            "order": null,
            "overflow": null,
            "overflow_x": null,
            "overflow_y": null,
            "padding": null,
            "right": null,
            "top": null,
            "visibility": null,
            "width": null
          }
        },
        "fd31614adf6f46e2983083cb729f2b7b": {
          "model_module": "@jupyter-widgets/controls",
          "model_name": "DescriptionStyleModel",
          "model_module_version": "1.5.0",
          "state": {
            "_model_module": "@jupyter-widgets/controls",
            "_model_module_version": "1.5.0",
            "_model_name": "DescriptionStyleModel",
            "_view_count": null,
            "_view_module": "@jupyter-widgets/base",
            "_view_module_version": "1.2.0",
            "_view_name": "StyleView",
            "description_width": ""
          }
        },
        "b2ece5497b294a3a8044f396a1ca48e1": {
          "model_module": "@jupyter-widgets/base",
          "model_name": "LayoutModel",
          "model_module_version": "1.2.0",
          "state": {
            "_model_module": "@jupyter-widgets/base",
            "_model_module_version": "1.2.0",
            "_model_name": "LayoutModel",
            "_view_count": null,
            "_view_module": "@jupyter-widgets/base",
            "_view_module_version": "1.2.0",
            "_view_name": "LayoutView",
            "align_content": null,
            "align_items": null,
            "align_self": null,
            "border": null,
            "bottom": null,
            "display": null,
            "flex": null,
            "flex_flow": null,
            "grid_area": null,
            "grid_auto_columns": null,
            "grid_auto_flow": null,
            "grid_auto_rows": null,
            "grid_column": null,
            "grid_gap": null,
            "grid_row": null,
            "grid_template_areas": null,
            "grid_template_columns": null,
            "grid_template_rows": null,
            "height": null,
            "justify_content": null,
            "justify_items": null,
            "left": null,
            "margin": null,
            "max_height": null,
            "max_width": null,
            "min_height": null,
            "min_width": null,
            "object_fit": null,
            "object_position": null,
            "order": null,
            "overflow": null,
            "overflow_x": null,
            "overflow_y": null,
            "padding": null,
            "right": null,
            "top": null,
            "visibility": null,
            "width": null
          }
        },
        "ad84d8c917d047ffb8a946e5a5f5df9d": {
          "model_module": "@jupyter-widgets/controls",
          "model_name": "ProgressStyleModel",
          "model_module_version": "1.5.0",
          "state": {
            "_model_module": "@jupyter-widgets/controls",
            "_model_module_version": "1.5.0",
            "_model_name": "ProgressStyleModel",
            "_view_count": null,
            "_view_module": "@jupyter-widgets/base",
            "_view_module_version": "1.2.0",
            "_view_name": "StyleView",
            "bar_color": null,
            "description_width": ""
          }
        },
        "574878426f194b67b0b6c82932e88355": {
          "model_module": "@jupyter-widgets/base",
          "model_name": "LayoutModel",
          "model_module_version": "1.2.0",
          "state": {
            "_model_module": "@jupyter-widgets/base",
            "_model_module_version": "1.2.0",
            "_model_name": "LayoutModel",
            "_view_count": null,
            "_view_module": "@jupyter-widgets/base",
            "_view_module_version": "1.2.0",
            "_view_name": "LayoutView",
            "align_content": null,
            "align_items": null,
            "align_self": null,
            "border": null,
            "bottom": null,
            "display": null,
            "flex": null,
            "flex_flow": null,
            "grid_area": null,
            "grid_auto_columns": null,
            "grid_auto_flow": null,
            "grid_auto_rows": null,
            "grid_column": null,
            "grid_gap": null,
            "grid_row": null,
            "grid_template_areas": null,
            "grid_template_columns": null,
            "grid_template_rows": null,
            "height": null,
            "justify_content": null,
            "justify_items": null,
            "left": null,
            "margin": null,
            "max_height": null,
            "max_width": null,
            "min_height": null,
            "min_width": null,
            "object_fit": null,
            "object_position": null,
            "order": null,
            "overflow": null,
            "overflow_x": null,
            "overflow_y": null,
            "padding": null,
            "right": null,
            "top": null,
            "visibility": null,
            "width": null
          }
        },
        "bc3a661381344e5084697ae22e4fd1fd": {
          "model_module": "@jupyter-widgets/controls",
          "model_name": "DescriptionStyleModel",
          "model_module_version": "1.5.0",
          "state": {
            "_model_module": "@jupyter-widgets/controls",
            "_model_module_version": "1.5.0",
            "_model_name": "DescriptionStyleModel",
            "_view_count": null,
            "_view_module": "@jupyter-widgets/base",
            "_view_module_version": "1.2.0",
            "_view_name": "StyleView",
            "description_width": ""
          }
        },
        "70ad66b6ec364f3d8b0a84dd17b15e7f": {
          "model_module": "@jupyter-widgets/controls",
          "model_name": "HBoxModel",
          "model_module_version": "1.5.0",
          "state": {
            "_dom_classes": [],
            "_model_module": "@jupyter-widgets/controls",
            "_model_module_version": "1.5.0",
            "_model_name": "HBoxModel",
            "_view_count": null,
            "_view_module": "@jupyter-widgets/controls",
            "_view_module_version": "1.5.0",
            "_view_name": "HBoxView",
            "box_style": "",
            "children": [
              "IPY_MODEL_474bfea822024b11b85677591b5a9786",
              "IPY_MODEL_7da89fab6acd4675858d56e3bde55be8",
              "IPY_MODEL_7bf2b72720694324b5f6b3167c464c9e"
            ],
            "layout": "IPY_MODEL_9ad5bdb7799a4687a98bfbdf471cd925"
          }
        },
        "474bfea822024b11b85677591b5a9786": {
          "model_module": "@jupyter-widgets/controls",
          "model_name": "HTMLModel",
          "model_module_version": "1.5.0",
          "state": {
            "_dom_classes": [],
            "_model_module": "@jupyter-widgets/controls",
            "_model_module_version": "1.5.0",
            "_model_name": "HTMLModel",
            "_view_count": null,
            "_view_module": "@jupyter-widgets/controls",
            "_view_module_version": "1.5.0",
            "_view_name": "HTMLView",
            "description": "",
            "description_tooltip": null,
            "layout": "IPY_MODEL_2d87559063d54815948ab137d7ac0218",
            "placeholder": "​",
            "style": "IPY_MODEL_755eaa83603c4c0d8e1c3ed504a94720",
            "value": "tokenizer.json: 100%"
          }
        },
        "7da89fab6acd4675858d56e3bde55be8": {
          "model_module": "@jupyter-widgets/controls",
          "model_name": "FloatProgressModel",
          "model_module_version": "1.5.0",
          "state": {
            "_dom_classes": [],
            "_model_module": "@jupyter-widgets/controls",
            "_model_module_version": "1.5.0",
            "_model_name": "FloatProgressModel",
            "_view_count": null,
            "_view_module": "@jupyter-widgets/controls",
            "_view_module_version": "1.5.0",
            "_view_name": "ProgressView",
            "bar_style": "success",
            "description": "",
            "description_tooltip": null,
            "layout": "IPY_MODEL_d40281bab0dc478bafb447f3315e58b3",
            "max": 466081,
            "min": 0,
            "orientation": "horizontal",
            "style": "IPY_MODEL_cdee89064c8a4cbd9e0a6a45bc9390b1",
            "value": 466081
          }
        },
        "7bf2b72720694324b5f6b3167c464c9e": {
          "model_module": "@jupyter-widgets/controls",
          "model_name": "HTMLModel",
          "model_module_version": "1.5.0",
          "state": {
            "_dom_classes": [],
            "_model_module": "@jupyter-widgets/controls",
            "_model_module_version": "1.5.0",
            "_model_name": "HTMLModel",
            "_view_count": null,
            "_view_module": "@jupyter-widgets/controls",
            "_view_module_version": "1.5.0",
            "_view_name": "HTMLView",
            "description": "",
            "description_tooltip": null,
            "layout": "IPY_MODEL_6c7d7338266e41a199c58d10ad348113",
            "placeholder": "​",
            "style": "IPY_MODEL_22ff27ee29eb44859aa0d216a7382be3",
            "value": " 466k/466k [00:00&lt;00:00, 22.5MB/s]"
          }
        },
        "9ad5bdb7799a4687a98bfbdf471cd925": {
          "model_module": "@jupyter-widgets/base",
          "model_name": "LayoutModel",
          "model_module_version": "1.2.0",
          "state": {
            "_model_module": "@jupyter-widgets/base",
            "_model_module_version": "1.2.0",
            "_model_name": "LayoutModel",
            "_view_count": null,
            "_view_module": "@jupyter-widgets/base",
            "_view_module_version": "1.2.0",
            "_view_name": "LayoutView",
            "align_content": null,
            "align_items": null,
            "align_self": null,
            "border": null,
            "bottom": null,
            "display": null,
            "flex": null,
            "flex_flow": null,
            "grid_area": null,
            "grid_auto_columns": null,
            "grid_auto_flow": null,
            "grid_auto_rows": null,
            "grid_column": null,
            "grid_gap": null,
            "grid_row": null,
            "grid_template_areas": null,
            "grid_template_columns": null,
            "grid_template_rows": null,
            "height": null,
            "justify_content": null,
            "justify_items": null,
            "left": null,
            "margin": null,
            "max_height": null,
            "max_width": null,
            "min_height": null,
            "min_width": null,
            "object_fit": null,
            "object_position": null,
            "order": null,
            "overflow": null,
            "overflow_x": null,
            "overflow_y": null,
            "padding": null,
            "right": null,
            "top": null,
            "visibility": null,
            "width": null
          }
        },
        "2d87559063d54815948ab137d7ac0218": {
          "model_module": "@jupyter-widgets/base",
          "model_name": "LayoutModel",
          "model_module_version": "1.2.0",
          "state": {
            "_model_module": "@jupyter-widgets/base",
            "_model_module_version": "1.2.0",
            "_model_name": "LayoutModel",
            "_view_count": null,
            "_view_module": "@jupyter-widgets/base",
            "_view_module_version": "1.2.0",
            "_view_name": "LayoutView",
            "align_content": null,
            "align_items": null,
            "align_self": null,
            "border": null,
            "bottom": null,
            "display": null,
            "flex": null,
            "flex_flow": null,
            "grid_area": null,
            "grid_auto_columns": null,
            "grid_auto_flow": null,
            "grid_auto_rows": null,
            "grid_column": null,
            "grid_gap": null,
            "grid_row": null,
            "grid_template_areas": null,
            "grid_template_columns": null,
            "grid_template_rows": null,
            "height": null,
            "justify_content": null,
            "justify_items": null,
            "left": null,
            "margin": null,
            "max_height": null,
            "max_width": null,
            "min_height": null,
            "min_width": null,
            "object_fit": null,
            "object_position": null,
            "order": null,
            "overflow": null,
            "overflow_x": null,
            "overflow_y": null,
            "padding": null,
            "right": null,
            "top": null,
            "visibility": null,
            "width": null
          }
        },
        "755eaa83603c4c0d8e1c3ed504a94720": {
          "model_module": "@jupyter-widgets/controls",
          "model_name": "DescriptionStyleModel",
          "model_module_version": "1.5.0",
          "state": {
            "_model_module": "@jupyter-widgets/controls",
            "_model_module_version": "1.5.0",
            "_model_name": "DescriptionStyleModel",
            "_view_count": null,
            "_view_module": "@jupyter-widgets/base",
            "_view_module_version": "1.2.0",
            "_view_name": "StyleView",
            "description_width": ""
          }
        },
        "d40281bab0dc478bafb447f3315e58b3": {
          "model_module": "@jupyter-widgets/base",
          "model_name": "LayoutModel",
          "model_module_version": "1.2.0",
          "state": {
            "_model_module": "@jupyter-widgets/base",
            "_model_module_version": "1.2.0",
            "_model_name": "LayoutModel",
            "_view_count": null,
            "_view_module": "@jupyter-widgets/base",
            "_view_module_version": "1.2.0",
            "_view_name": "LayoutView",
            "align_content": null,
            "align_items": null,
            "align_self": null,
            "border": null,
            "bottom": null,
            "display": null,
            "flex": null,
            "flex_flow": null,
            "grid_area": null,
            "grid_auto_columns": null,
            "grid_auto_flow": null,
            "grid_auto_rows": null,
            "grid_column": null,
            "grid_gap": null,
            "grid_row": null,
            "grid_template_areas": null,
            "grid_template_columns": null,
            "grid_template_rows": null,
            "height": null,
            "justify_content": null,
            "justify_items": null,
            "left": null,
            "margin": null,
            "max_height": null,
            "max_width": null,
            "min_height": null,
            "min_width": null,
            "object_fit": null,
            "object_position": null,
            "order": null,
            "overflow": null,
            "overflow_x": null,
            "overflow_y": null,
            "padding": null,
            "right": null,
            "top": null,
            "visibility": null,
            "width": null
          }
        },
        "cdee89064c8a4cbd9e0a6a45bc9390b1": {
          "model_module": "@jupyter-widgets/controls",
          "model_name": "ProgressStyleModel",
          "model_module_version": "1.5.0",
          "state": {
            "_model_module": "@jupyter-widgets/controls",
            "_model_module_version": "1.5.0",
            "_model_name": "ProgressStyleModel",
            "_view_count": null,
            "_view_module": "@jupyter-widgets/base",
            "_view_module_version": "1.2.0",
            "_view_name": "StyleView",
            "bar_color": null,
            "description_width": ""
          }
        },
        "6c7d7338266e41a199c58d10ad348113": {
          "model_module": "@jupyter-widgets/base",
          "model_name": "LayoutModel",
          "model_module_version": "1.2.0",
          "state": {
            "_model_module": "@jupyter-widgets/base",
            "_model_module_version": "1.2.0",
            "_model_name": "LayoutModel",
            "_view_count": null,
            "_view_module": "@jupyter-widgets/base",
            "_view_module_version": "1.2.0",
            "_view_name": "LayoutView",
            "align_content": null,
            "align_items": null,
            "align_self": null,
            "border": null,
            "bottom": null,
            "display": null,
            "flex": null,
            "flex_flow": null,
            "grid_area": null,
            "grid_auto_columns": null,
            "grid_auto_flow": null,
            "grid_auto_rows": null,
            "grid_column": null,
            "grid_gap": null,
            "grid_row": null,
            "grid_template_areas": null,
            "grid_template_columns": null,
            "grid_template_rows": null,
            "height": null,
            "justify_content": null,
            "justify_items": null,
            "left": null,
            "margin": null,
            "max_height": null,
            "max_width": null,
            "min_height": null,
            "min_width": null,
            "object_fit": null,
            "object_position": null,
            "order": null,
            "overflow": null,
            "overflow_x": null,
            "overflow_y": null,
            "padding": null,
            "right": null,
            "top": null,
            "visibility": null,
            "width": null
          }
        },
        "22ff27ee29eb44859aa0d216a7382be3": {
          "model_module": "@jupyter-widgets/controls",
          "model_name": "DescriptionStyleModel",
          "model_module_version": "1.5.0",
          "state": {
            "_model_module": "@jupyter-widgets/controls",
            "_model_module_version": "1.5.0",
            "_model_name": "DescriptionStyleModel",
            "_view_count": null,
            "_view_module": "@jupyter-widgets/base",
            "_view_module_version": "1.2.0",
            "_view_name": "StyleView",
            "description_width": ""
          }
        },
        "b178eb9e9ad448b6a2324dafc9f76bb8": {
          "model_module": "@jupyter-widgets/controls",
          "model_name": "HBoxModel",
          "model_module_version": "1.5.0",
          "state": {
            "_dom_classes": [],
            "_model_module": "@jupyter-widgets/controls",
            "_model_module_version": "1.5.0",
            "_model_name": "HBoxModel",
            "_view_count": null,
            "_view_module": "@jupyter-widgets/controls",
            "_view_module_version": "1.5.0",
            "_view_name": "HBoxView",
            "box_style": "",
            "children": [
              "IPY_MODEL_512fbb2ef18046faa28b684370c69b5c",
              "IPY_MODEL_f8907374016f4ff3b4a837ab6dcb79a7",
              "IPY_MODEL_80d644ec9d0143a997f1088c4f7b6791"
            ],
            "layout": "IPY_MODEL_7870e1f878f14555acaefaad67eb5542"
          }
        },
        "512fbb2ef18046faa28b684370c69b5c": {
          "model_module": "@jupyter-widgets/controls",
          "model_name": "HTMLModel",
          "model_module_version": "1.5.0",
          "state": {
            "_dom_classes": [],
            "_model_module": "@jupyter-widgets/controls",
            "_model_module_version": "1.5.0",
            "_model_name": "HTMLModel",
            "_view_count": null,
            "_view_module": "@jupyter-widgets/controls",
            "_view_module_version": "1.5.0",
            "_view_name": "HTMLView",
            "description": "",
            "description_tooltip": null,
            "layout": "IPY_MODEL_1b2709d831da476faebc5d7103ce954e",
            "placeholder": "​",
            "style": "IPY_MODEL_387705a123d34c58b974e9101c9eaf7e",
            "value": "special_tokens_map.json: 100%"
          }
        },
        "f8907374016f4ff3b4a837ab6dcb79a7": {
          "model_module": "@jupyter-widgets/controls",
          "model_name": "FloatProgressModel",
          "model_module_version": "1.5.0",
          "state": {
            "_dom_classes": [],
            "_model_module": "@jupyter-widgets/controls",
            "_model_module_version": "1.5.0",
            "_model_name": "FloatProgressModel",
            "_view_count": null,
            "_view_module": "@jupyter-widgets/controls",
            "_view_module_version": "1.5.0",
            "_view_name": "ProgressView",
            "bar_style": "success",
            "description": "",
            "description_tooltip": null,
            "layout": "IPY_MODEL_aa7c18dc804340a6aae3ce936cab66e7",
            "max": 112,
            "min": 0,
            "orientation": "horizontal",
            "style": "IPY_MODEL_cc2ee5b9ac5b461a8cf48e0d39478f95",
            "value": 112
          }
        },
        "80d644ec9d0143a997f1088c4f7b6791": {
          "model_module": "@jupyter-widgets/controls",
          "model_name": "HTMLModel",
          "model_module_version": "1.5.0",
          "state": {
            "_dom_classes": [],
            "_model_module": "@jupyter-widgets/controls",
            "_model_module_version": "1.5.0",
            "_model_name": "HTMLModel",
            "_view_count": null,
            "_view_module": "@jupyter-widgets/controls",
            "_view_module_version": "1.5.0",
            "_view_name": "HTMLView",
            "description": "",
            "description_tooltip": null,
            "layout": "IPY_MODEL_12a50f9419984989983d59b1d5086db3",
            "placeholder": "​",
            "style": "IPY_MODEL_4017e453a6904f42a4f7b18e70405486",
            "value": " 112/112 [00:00&lt;00:00, 6.49kB/s]"
          }
        },
        "7870e1f878f14555acaefaad67eb5542": {
          "model_module": "@jupyter-widgets/base",
          "model_name": "LayoutModel",
          "model_module_version": "1.2.0",
          "state": {
            "_model_module": "@jupyter-widgets/base",
            "_model_module_version": "1.2.0",
            "_model_name": "LayoutModel",
            "_view_count": null,
            "_view_module": "@jupyter-widgets/base",
            "_view_module_version": "1.2.0",
            "_view_name": "LayoutView",
            "align_content": null,
            "align_items": null,
            "align_self": null,
            "border": null,
            "bottom": null,
            "display": null,
            "flex": null,
            "flex_flow": null,
            "grid_area": null,
            "grid_auto_columns": null,
            "grid_auto_flow": null,
            "grid_auto_rows": null,
            "grid_column": null,
            "grid_gap": null,
            "grid_row": null,
            "grid_template_areas": null,
            "grid_template_columns": null,
            "grid_template_rows": null,
            "height": null,
            "justify_content": null,
            "justify_items": null,
            "left": null,
            "margin": null,
            "max_height": null,
            "max_width": null,
            "min_height": null,
            "min_width": null,
            "object_fit": null,
            "object_position": null,
            "order": null,
            "overflow": null,
            "overflow_x": null,
            "overflow_y": null,
            "padding": null,
            "right": null,
            "top": null,
            "visibility": null,
            "width": null
          }
        },
        "1b2709d831da476faebc5d7103ce954e": {
          "model_module": "@jupyter-widgets/base",
          "model_name": "LayoutModel",
          "model_module_version": "1.2.0",
          "state": {
            "_model_module": "@jupyter-widgets/base",
            "_model_module_version": "1.2.0",
            "_model_name": "LayoutModel",
            "_view_count": null,
            "_view_module": "@jupyter-widgets/base",
            "_view_module_version": "1.2.0",
            "_view_name": "LayoutView",
            "align_content": null,
            "align_items": null,
            "align_self": null,
            "border": null,
            "bottom": null,
            "display": null,
            "flex": null,
            "flex_flow": null,
            "grid_area": null,
            "grid_auto_columns": null,
            "grid_auto_flow": null,
            "grid_auto_rows": null,
            "grid_column": null,
            "grid_gap": null,
            "grid_row": null,
            "grid_template_areas": null,
            "grid_template_columns": null,
            "grid_template_rows": null,
            "height": null,
            "justify_content": null,
            "justify_items": null,
            "left": null,
            "margin": null,
            "max_height": null,
            "max_width": null,
            "min_height": null,
            "min_width": null,
            "object_fit": null,
            "object_position": null,
            "order": null,
            "overflow": null,
            "overflow_x": null,
            "overflow_y": null,
            "padding": null,
            "right": null,
            "top": null,
            "visibility": null,
            "width": null
          }
        },
        "387705a123d34c58b974e9101c9eaf7e": {
          "model_module": "@jupyter-widgets/controls",
          "model_name": "DescriptionStyleModel",
          "model_module_version": "1.5.0",
          "state": {
            "_model_module": "@jupyter-widgets/controls",
            "_model_module_version": "1.5.0",
            "_model_name": "DescriptionStyleModel",
            "_view_count": null,
            "_view_module": "@jupyter-widgets/base",
            "_view_module_version": "1.2.0",
            "_view_name": "StyleView",
            "description_width": ""
          }
        },
        "aa7c18dc804340a6aae3ce936cab66e7": {
          "model_module": "@jupyter-widgets/base",
          "model_name": "LayoutModel",
          "model_module_version": "1.2.0",
          "state": {
            "_model_module": "@jupyter-widgets/base",
            "_model_module_version": "1.2.0",
            "_model_name": "LayoutModel",
            "_view_count": null,
            "_view_module": "@jupyter-widgets/base",
            "_view_module_version": "1.2.0",
            "_view_name": "LayoutView",
            "align_content": null,
            "align_items": null,
            "align_self": null,
            "border": null,
            "bottom": null,
            "display": null,
            "flex": null,
            "flex_flow": null,
            "grid_area": null,
            "grid_auto_columns": null,
            "grid_auto_flow": null,
            "grid_auto_rows": null,
            "grid_column": null,
            "grid_gap": null,
            "grid_row": null,
            "grid_template_areas": null,
            "grid_template_columns": null,
            "grid_template_rows": null,
            "height": null,
            "justify_content": null,
            "justify_items": null,
            "left": null,
            "margin": null,
            "max_height": null,
            "max_width": null,
            "min_height": null,
            "min_width": null,
            "object_fit": null,
            "object_position": null,
            "order": null,
            "overflow": null,
            "overflow_x": null,
            "overflow_y": null,
            "padding": null,
            "right": null,
            "top": null,
            "visibility": null,
            "width": null
          }
        },
        "cc2ee5b9ac5b461a8cf48e0d39478f95": {
          "model_module": "@jupyter-widgets/controls",
          "model_name": "ProgressStyleModel",
          "model_module_version": "1.5.0",
          "state": {
            "_model_module": "@jupyter-widgets/controls",
            "_model_module_version": "1.5.0",
            "_model_name": "ProgressStyleModel",
            "_view_count": null,
            "_view_module": "@jupyter-widgets/base",
            "_view_module_version": "1.2.0",
            "_view_name": "StyleView",
            "bar_color": null,
            "description_width": ""
          }
        },
        "12a50f9419984989983d59b1d5086db3": {
          "model_module": "@jupyter-widgets/base",
          "model_name": "LayoutModel",
          "model_module_version": "1.2.0",
          "state": {
            "_model_module": "@jupyter-widgets/base",
            "_model_module_version": "1.2.0",
            "_model_name": "LayoutModel",
            "_view_count": null,
            "_view_module": "@jupyter-widgets/base",
            "_view_module_version": "1.2.0",
            "_view_name": "LayoutView",
            "align_content": null,
            "align_items": null,
            "align_self": null,
            "border": null,
            "bottom": null,
            "display": null,
            "flex": null,
            "flex_flow": null,
            "grid_area": null,
            "grid_auto_columns": null,
            "grid_auto_flow": null,
            "grid_auto_rows": null,
            "grid_column": null,
            "grid_gap": null,
            "grid_row": null,
            "grid_template_areas": null,
            "grid_template_columns": null,
            "grid_template_rows": null,
            "height": null,
            "justify_content": null,
            "justify_items": null,
            "left": null,
            "margin": null,
            "max_height": null,
            "max_width": null,
            "min_height": null,
            "min_width": null,
            "object_fit": null,
            "object_position": null,
            "order": null,
            "overflow": null,
            "overflow_x": null,
            "overflow_y": null,
            "padding": null,
            "right": null,
            "top": null,
            "visibility": null,
            "width": null
          }
        },
        "4017e453a6904f42a4f7b18e70405486": {
          "model_module": "@jupyter-widgets/controls",
          "model_name": "DescriptionStyleModel",
          "model_module_version": "1.5.0",
          "state": {
            "_model_module": "@jupyter-widgets/controls",
            "_model_module_version": "1.5.0",
            "_model_name": "DescriptionStyleModel",
            "_view_count": null,
            "_view_module": "@jupyter-widgets/base",
            "_view_module_version": "1.2.0",
            "_view_name": "StyleView",
            "description_width": ""
          }
        },
        "294be26f34624b7a8814839863db6277": {
          "model_module": "@jupyter-widgets/controls",
          "model_name": "HBoxModel",
          "model_module_version": "1.5.0",
          "state": {
            "_dom_classes": [],
            "_model_module": "@jupyter-widgets/controls",
            "_model_module_version": "1.5.0",
            "_model_name": "HBoxModel",
            "_view_count": null,
            "_view_module": "@jupyter-widgets/controls",
            "_view_module_version": "1.5.0",
            "_view_name": "HBoxView",
            "box_style": "",
            "children": [
              "IPY_MODEL_201d0bfb490441f781a549bc2fa86c5a",
              "IPY_MODEL_55b52409ce28449497e828ea021583fd",
              "IPY_MODEL_4e5f9343739a44f5bed1f4aa5bf4a101"
            ],
            "layout": "IPY_MODEL_24e23c79a5a943c983f86efef16f98a6"
          }
        },
        "201d0bfb490441f781a549bc2fa86c5a": {
          "model_module": "@jupyter-widgets/controls",
          "model_name": "HTMLModel",
          "model_module_version": "1.5.0",
          "state": {
            "_dom_classes": [],
            "_model_module": "@jupyter-widgets/controls",
            "_model_module_version": "1.5.0",
            "_model_name": "HTMLModel",
            "_view_count": null,
            "_view_module": "@jupyter-widgets/controls",
            "_view_module_version": "1.5.0",
            "_view_name": "HTMLView",
            "description": "",
            "description_tooltip": null,
            "layout": "IPY_MODEL_d93dc141d9154292bf7359c2a87b1aa4",
            "placeholder": "​",
            "style": "IPY_MODEL_37a491be4bf04dcda63e12a2eac3a90f",
            "value": "1_Pooling/config.json: 100%"
          }
        },
        "55b52409ce28449497e828ea021583fd": {
          "model_module": "@jupyter-widgets/controls",
          "model_name": "FloatProgressModel",
          "model_module_version": "1.5.0",
          "state": {
            "_dom_classes": [],
            "_model_module": "@jupyter-widgets/controls",
            "_model_module_version": "1.5.0",
            "_model_name": "FloatProgressModel",
            "_view_count": null,
            "_view_module": "@jupyter-widgets/controls",
            "_view_module_version": "1.5.0",
            "_view_name": "ProgressView",
            "bar_style": "success",
            "description": "",
            "description_tooltip": null,
            "layout": "IPY_MODEL_9a5233e084e7471f8d944c15436f0315",
            "max": 190,
            "min": 0,
            "orientation": "horizontal",
            "style": "IPY_MODEL_6717a86434aa4d0f96bb5c68e14c72b6",
            "value": 190
          }
        },
        "4e5f9343739a44f5bed1f4aa5bf4a101": {
          "model_module": "@jupyter-widgets/controls",
          "model_name": "HTMLModel",
          "model_module_version": "1.5.0",
          "state": {
            "_dom_classes": [],
            "_model_module": "@jupyter-widgets/controls",
            "_model_module_version": "1.5.0",
            "_model_name": "HTMLModel",
            "_view_count": null,
            "_view_module": "@jupyter-widgets/controls",
            "_view_module_version": "1.5.0",
            "_view_name": "HTMLView",
            "description": "",
            "description_tooltip": null,
            "layout": "IPY_MODEL_90e4634cf65147cf8ec2678ff35f1ac9",
            "placeholder": "​",
            "style": "IPY_MODEL_cae0d883d7bb4c3aad601eeeb3928ab1",
            "value": " 190/190 [00:00&lt;00:00, 7.46kB/s]"
          }
        },
        "24e23c79a5a943c983f86efef16f98a6": {
          "model_module": "@jupyter-widgets/base",
          "model_name": "LayoutModel",
          "model_module_version": "1.2.0",
          "state": {
            "_model_module": "@jupyter-widgets/base",
            "_model_module_version": "1.2.0",
            "_model_name": "LayoutModel",
            "_view_count": null,
            "_view_module": "@jupyter-widgets/base",
            "_view_module_version": "1.2.0",
            "_view_name": "LayoutView",
            "align_content": null,
            "align_items": null,
            "align_self": null,
            "border": null,
            "bottom": null,
            "display": null,
            "flex": null,
            "flex_flow": null,
            "grid_area": null,
            "grid_auto_columns": null,
            "grid_auto_flow": null,
            "grid_auto_rows": null,
            "grid_column": null,
            "grid_gap": null,
            "grid_row": null,
            "grid_template_areas": null,
            "grid_template_columns": null,
            "grid_template_rows": null,
            "height": null,
            "justify_content": null,
            "justify_items": null,
            "left": null,
            "margin": null,
            "max_height": null,
            "max_width": null,
            "min_height": null,
            "min_width": null,
            "object_fit": null,
            "object_position": null,
            "order": null,
            "overflow": null,
            "overflow_x": null,
            "overflow_y": null,
            "padding": null,
            "right": null,
            "top": null,
            "visibility": null,
            "width": null
          }
        },
        "d93dc141d9154292bf7359c2a87b1aa4": {
          "model_module": "@jupyter-widgets/base",
          "model_name": "LayoutModel",
          "model_module_version": "1.2.0",
          "state": {
            "_model_module": "@jupyter-widgets/base",
            "_model_module_version": "1.2.0",
            "_model_name": "LayoutModel",
            "_view_count": null,
            "_view_module": "@jupyter-widgets/base",
            "_view_module_version": "1.2.0",
            "_view_name": "LayoutView",
            "align_content": null,
            "align_items": null,
            "align_self": null,
            "border": null,
            "bottom": null,
            "display": null,
            "flex": null,
            "flex_flow": null,
            "grid_area": null,
            "grid_auto_columns": null,
            "grid_auto_flow": null,
            "grid_auto_rows": null,
            "grid_column": null,
            "grid_gap": null,
            "grid_row": null,
            "grid_template_areas": null,
            "grid_template_columns": null,
            "grid_template_rows": null,
            "height": null,
            "justify_content": null,
            "justify_items": null,
            "left": null,
            "margin": null,
            "max_height": null,
            "max_width": null,
            "min_height": null,
            "min_width": null,
            "object_fit": null,
            "object_position": null,
            "order": null,
            "overflow": null,
            "overflow_x": null,
            "overflow_y": null,
            "padding": null,
            "right": null,
            "top": null,
            "visibility": null,
            "width": null
          }
        },
        "37a491be4bf04dcda63e12a2eac3a90f": {
          "model_module": "@jupyter-widgets/controls",
          "model_name": "DescriptionStyleModel",
          "model_module_version": "1.5.0",
          "state": {
            "_model_module": "@jupyter-widgets/controls",
            "_model_module_version": "1.5.0",
            "_model_name": "DescriptionStyleModel",
            "_view_count": null,
            "_view_module": "@jupyter-widgets/base",
            "_view_module_version": "1.2.0",
            "_view_name": "StyleView",
            "description_width": ""
          }
        },
        "9a5233e084e7471f8d944c15436f0315": {
          "model_module": "@jupyter-widgets/base",
          "model_name": "LayoutModel",
          "model_module_version": "1.2.0",
          "state": {
            "_model_module": "@jupyter-widgets/base",
            "_model_module_version": "1.2.0",
            "_model_name": "LayoutModel",
            "_view_count": null,
            "_view_module": "@jupyter-widgets/base",
            "_view_module_version": "1.2.0",
            "_view_name": "LayoutView",
            "align_content": null,
            "align_items": null,
            "align_self": null,
            "border": null,
            "bottom": null,
            "display": null,
            "flex": null,
            "flex_flow": null,
            "grid_area": null,
            "grid_auto_columns": null,
            "grid_auto_flow": null,
            "grid_auto_rows": null,
            "grid_column": null,
            "grid_gap": null,
            "grid_row": null,
            "grid_template_areas": null,
            "grid_template_columns": null,
            "grid_template_rows": null,
            "height": null,
            "justify_content": null,
            "justify_items": null,
            "left": null,
            "margin": null,
            "max_height": null,
            "max_width": null,
            "min_height": null,
            "min_width": null,
            "object_fit": null,
            "object_position": null,
            "order": null,
            "overflow": null,
            "overflow_x": null,
            "overflow_y": null,
            "padding": null,
            "right": null,
            "top": null,
            "visibility": null,
            "width": null
          }
        },
        "6717a86434aa4d0f96bb5c68e14c72b6": {
          "model_module": "@jupyter-widgets/controls",
          "model_name": "ProgressStyleModel",
          "model_module_version": "1.5.0",
          "state": {
            "_model_module": "@jupyter-widgets/controls",
            "_model_module_version": "1.5.0",
            "_model_name": "ProgressStyleModel",
            "_view_count": null,
            "_view_module": "@jupyter-widgets/base",
            "_view_module_version": "1.2.0",
            "_view_name": "StyleView",
            "bar_color": null,
            "description_width": ""
          }
        },
        "90e4634cf65147cf8ec2678ff35f1ac9": {
          "model_module": "@jupyter-widgets/base",
          "model_name": "LayoutModel",
          "model_module_version": "1.2.0",
          "state": {
            "_model_module": "@jupyter-widgets/base",
            "_model_module_version": "1.2.0",
            "_model_name": "LayoutModel",
            "_view_count": null,
            "_view_module": "@jupyter-widgets/base",
            "_view_module_version": "1.2.0",
            "_view_name": "LayoutView",
            "align_content": null,
            "align_items": null,
            "align_self": null,
            "border": null,
            "bottom": null,
            "display": null,
            "flex": null,
            "flex_flow": null,
            "grid_area": null,
            "grid_auto_columns": null,
            "grid_auto_flow": null,
            "grid_auto_rows": null,
            "grid_column": null,
            "grid_gap": null,
            "grid_row": null,
            "grid_template_areas": null,
            "grid_template_columns": null,
            "grid_template_rows": null,
            "height": null,
            "justify_content": null,
            "justify_items": null,
            "left": null,
            "margin": null,
            "max_height": null,
            "max_width": null,
            "min_height": null,
            "min_width": null,
            "object_fit": null,
            "object_position": null,
            "order": null,
            "overflow": null,
            "overflow_x": null,
            "overflow_y": null,
            "padding": null,
            "right": null,
            "top": null,
            "visibility": null,
            "width": null
          }
        },
        "cae0d883d7bb4c3aad601eeeb3928ab1": {
          "model_module": "@jupyter-widgets/controls",
          "model_name": "DescriptionStyleModel",
          "model_module_version": "1.5.0",
          "state": {
            "_model_module": "@jupyter-widgets/controls",
            "_model_module_version": "1.5.0",
            "_model_name": "DescriptionStyleModel",
            "_view_count": null,
            "_view_module": "@jupyter-widgets/base",
            "_view_module_version": "1.2.0",
            "_view_name": "StyleView",
            "description_width": ""
          }
        }
      }
    }
  },
  "cells": [
    {
      "cell_type": "markdown",
      "source": [
        "# NLP Keyword Extraction in Text using KeyBERT and Machine Learning\n",
        "* Notebook by Adam Lang\n",
        "* Date: 7/15/2024\n",
        "\n",
        "# Overview\n",
        "* We will go over how to use KeyBERT and briefly explain how this compares to other NLP extraction methods.\n",
        "* KeyBERT is an efficient keyword extraction library that leverages BERT embeddings.\n",
        "* It can be leveraged to extract keywords from text and is particularly useful for summarizing and categorizing large datasets.\n",
        "\n",
        "## What is KeyBERT?\n",
        "* KeyBERT vectorizes input text using a BERT model of your choice.\n",
        "* Next, it compares the vector of each word in the text to the vector of the document as a whole.\n",
        "  * KeyBERT effectively has a measure of how similar each individual word is to the document; in other words, it knows the relevance of each word to the document as whole.\n",
        "  * Like other keyword extraction methods, this works with the presumption that the words that are most similar to the document are the keywords, or potential subjects of the text.\n",
        "\n",
        "\n",
        "## How is KeyBERT different from BERTopic?\n",
        "* KeyBERT github: https://maartengr.github.io/KeyBERT/\n",
        "\n",
        "### BERTopic Workflow\n",
        "1. Embedding documents using BERT transformer encoder.\n",
        "2. Clustering documents\n",
        "3. Creating a topic representation.\n",
        "\n",
        "The main output of BERTopic is a set of words per topic. Thus, multiple documents have the same topic representation.\n",
        "\n",
        "### **KeyBERT Workflow**\n",
        "1. Embedding documents using BERT transformer encoder.\n",
        "2. Creating candidate keywords\n",
        "2. Calculating best keywords through either MMR, Max Sum Similarity, or Cosine Similarity.\n",
        "\n",
        "* The main output of KeyBERT is a set of words per document. Thus, each document is expected to have **different** keywords.\n",
        "* Algorithmic model for keybert:\n",
        "\n",
        "![image.png](data:image/png;base64,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)\n",
        "\n",
        "\n",
        "\n",
        "### So how are they the same?\n",
        "* Both embed documents and leverage MMR (although both models may opt not to).\n",
        "\n",
        "### The Difference(s)?\n",
        "* The main difference is everything that happens between embedding documents and, in some cases, leveraging MMR.\n",
        "   * For example, BERTopic aims to cluster documents and create a broad representation of multiple documents whereas **KeyBERT does not.**\n",
        "   \n",
        "   * Also the BERTopic algorithmic implementation (UMAP/HDBSCAN/c-TF-IDF) is quite different from generating candidate keywords in KeyBERT and comparing them to the individual documents.\n",
        "\n",
        "\n",
        "## What are some other NLP extraction or tokenization methods?\n",
        "1. **CountVectorizer**\n",
        "   * Note: While this is an efficent way to count words in a corpus, it is not as \"quick\" as using the **Counter** from Python.\n",
        "   * A CountVectorizer converts text documents into matrix of token frequencies or occurrences.\n",
        "   * Text is transformed into a sparse matrix and stored in a vocabulary.\n",
        "   * The default tokenization in CountVectorizer removes all special characters, punctuation and single characters.\n",
        "   * The CountVectorize also allows you to work with n-grams, stop words, and other text preprocessing steps.\n",
        "         * Excellent resource:  https://kavita-ganesan.com/how-to-use-countvectorizer/\n",
        "\n",
        "   * Note: There is also the HashingVectorizer which does the same thing as the CountVectorizer but the HashingVectorizer does not store a vocabulary.\n",
        "       * Positives: eliminates large memory storage of tokens for large datasets.\n",
        "       * Cons: Not possible to lookup or retrieve token position in matrix.\n",
        "         * Resource: https://kavita-ganesan.com/hashingvectorizer-vs-countvectorizer/#:~:text=HashingVectorizer%20and%20CountVectorizer%20are%20meant,(i.e.%20the%20unique%20tokens).\n",
        "2.  **TF-IDF**\n",
        "      * Determines how significant a term is to a text in a series or a corpus.\n",
        "      * tf-idf is a weighting system that assigns a weight to each word in a document based on its term frequency (tf) and the reciprocal document frequency (tf) (idf).\n",
        "      * The words with higher scores of weight are deemed to be more significant.\n",
        "      * Usually, the tf-idf weight consists of two terms-\n",
        "         * 1. Normalized Term Frequency (tf)\n",
        "         * 2. Inverse Document Frequency (idf)\n",
        "\n",
        "3. YAKE!\n",
        "* Unsupervised automatic keyword extraction method that relies on statistical text features extracted from individual documents to identify the most relevant keywords in the text.\n",
        "* Yake does not need to be trained on a particular set of documents, nor does it depend on dictionaries, text size, domain, or language.\n",
        "* Yake defines a set of five features capturing keyword characteristics which are heuristically combined to assign a single score to every keyword.\n",
        "   * The lower the score, the more significant the keyword will be.\n",
        "\n",
        "\n",
        "4. Rake\n",
        "*  \"Rapid Automatic Keyword Extraction\".\n",
        "* This is a method of extracting keywords from individual documents. It can also be applied to new fields very easily and is very effective in dealing with multiple types of documents, especially text that requires specific grammatical conventions.\n",
        "* Rake identifies key phrases in a text by analyzing the occurrence of a word and its compatibility with other words in the text (co-occurrence).\n",
        "\n",
        "\n",
        "5. TextRank\n",
        "* Unsupervised method for extracting keywords and sentences.\n",
        "* Based on a graph where each node is a word, and edges represent relationships between words which are formed by defining the co-occurrence of words within a moving window of a predetermined size.\n",
        "* The algorithm is inspired by **PageRank** which was used by Google to rank websites.\n",
        "    * It first Tokenizes and annotates text with Part of Speech (PoS).\n",
        "    * It only considers single words.\n",
        "    * No n-grams are used, multi-words are reconstructed later.\n",
        "    * An edge is created if lexical units co-occur within a window of N-words to obtain an unweighted undirected graph.\n",
        "    * Then it runs the text rank algorithm to rank the words.\n",
        "    * The most important lexical words are selected and then adjacent keywords are folded into a multi-word keyword.\n",
        "\n",
        "6. Keyword spaCy\n",
        "* a spaCy pipeline component for extracting keywords from text using cosine similarity based on the KeyBERT algorithm.\n",
        "   * Source: https://pypi.org/project/keyword-spacy/\n",
        "\n",
        "* spaCy note: There are other algorithm implementations in spaCY including TextRank above as **PyTextRank**.\n",
        "    * Source: https://spacy.io/universe/project/spacy-pytextrank"
      ],
      "metadata": {
        "id": "kogLJO07wk1d"
      }
    },
    {
      "cell_type": "markdown",
      "source": [
        "# KeyBERT implementation\n",
        "* You can use language models from spacy, gensim and flare but we will use out of the box models from KeyBERT."
      ],
      "metadata": {
        "id": "yG4p48vD41WZ"
      }
    },
    {
      "cell_type": "code",
      "execution_count": 1,
      "metadata": {
        "colab": {
          "base_uri": "https://localhost:8080/"
        },
        "id": "0SxGYctpwak3",
        "outputId": "39e7e8cb-b4e1-4e89-85c6-0c582ce80ea9"
      },
      "outputs": [
        {
          "output_type": "stream",
          "name": "stdout",
          "text": [
            "Collecting keybert\n",
            "  Downloading keybert-0.8.5-py3-none-any.whl (37 kB)\n",
            "Requirement already satisfied: numpy>=1.18.5 in /usr/local/lib/python3.10/dist-packages (from keybert) (1.25.2)\n",
            "Requirement already satisfied: rich>=10.4.0 in /usr/local/lib/python3.10/dist-packages (from keybert) (13.7.1)\n",
            "Requirement already satisfied: scikit-learn>=0.22.2 in /usr/local/lib/python3.10/dist-packages (from keybert) (1.2.2)\n",
            "Collecting sentence-transformers>=0.3.8 (from keybert)\n",
            "  Downloading sentence_transformers-3.0.1-py3-none-any.whl (227 kB)\n",
            "\u001b[2K     \u001b[90m━━━━━━━━━━━━━━━━━━━━━━━━━━━━━━━━━━━━━━━━\u001b[0m \u001b[32m227.1/227.1 kB\u001b[0m \u001b[31m5.7 MB/s\u001b[0m eta \u001b[36m0:00:00\u001b[0m\n",
            "\u001b[?25hRequirement already satisfied: markdown-it-py>=2.2.0 in /usr/local/lib/python3.10/dist-packages (from rich>=10.4.0->keybert) (3.0.0)\n",
            "Requirement already satisfied: pygments<3.0.0,>=2.13.0 in /usr/local/lib/python3.10/dist-packages (from rich>=10.4.0->keybert) (2.16.1)\n",
            "Requirement already satisfied: scipy>=1.3.2 in /usr/local/lib/python3.10/dist-packages (from scikit-learn>=0.22.2->keybert) (1.11.4)\n",
            "Requirement already satisfied: joblib>=1.1.1 in /usr/local/lib/python3.10/dist-packages (from scikit-learn>=0.22.2->keybert) (1.4.2)\n",
            "Requirement already satisfied: threadpoolctl>=2.0.0 in /usr/local/lib/python3.10/dist-packages (from scikit-learn>=0.22.2->keybert) (3.5.0)\n",
            "Requirement already satisfied: transformers<5.0.0,>=4.34.0 in /usr/local/lib/python3.10/dist-packages (from sentence-transformers>=0.3.8->keybert) (4.41.2)\n",
            "Requirement already satisfied: tqdm in /usr/local/lib/python3.10/dist-packages (from sentence-transformers>=0.3.8->keybert) (4.66.4)\n",
            "Requirement already satisfied: torch>=1.11.0 in /usr/local/lib/python3.10/dist-packages (from sentence-transformers>=0.3.8->keybert) (2.3.0+cu121)\n",
            "Requirement already satisfied: huggingface-hub>=0.15.1 in /usr/local/lib/python3.10/dist-packages (from sentence-transformers>=0.3.8->keybert) (0.23.4)\n",
            "Requirement already satisfied: Pillow in /usr/local/lib/python3.10/dist-packages (from sentence-transformers>=0.3.8->keybert) (9.4.0)\n",
            "Requirement already satisfied: filelock in /usr/local/lib/python3.10/dist-packages (from huggingface-hub>=0.15.1->sentence-transformers>=0.3.8->keybert) (3.15.4)\n",
            "Requirement already satisfied: fsspec>=2023.5.0 in /usr/local/lib/python3.10/dist-packages (from huggingface-hub>=0.15.1->sentence-transformers>=0.3.8->keybert) (2023.6.0)\n",
            "Requirement already satisfied: packaging>=20.9 in /usr/local/lib/python3.10/dist-packages (from huggingface-hub>=0.15.1->sentence-transformers>=0.3.8->keybert) (24.1)\n",
            "Requirement already satisfied: pyyaml>=5.1 in /usr/local/lib/python3.10/dist-packages (from huggingface-hub>=0.15.1->sentence-transformers>=0.3.8->keybert) (6.0.1)\n",
            "Requirement already satisfied: requests in /usr/local/lib/python3.10/dist-packages (from huggingface-hub>=0.15.1->sentence-transformers>=0.3.8->keybert) (2.31.0)\n",
            "Requirement already satisfied: typing-extensions>=3.7.4.3 in /usr/local/lib/python3.10/dist-packages (from huggingface-hub>=0.15.1->sentence-transformers>=0.3.8->keybert) (4.12.2)\n",
            "Requirement already satisfied: mdurl~=0.1 in /usr/local/lib/python3.10/dist-packages (from markdown-it-py>=2.2.0->rich>=10.4.0->keybert) (0.1.2)\n",
            "Requirement already satisfied: sympy in /usr/local/lib/python3.10/dist-packages (from torch>=1.11.0->sentence-transformers>=0.3.8->keybert) (1.13.0)\n",
            "Requirement already satisfied: networkx in /usr/local/lib/python3.10/dist-packages (from torch>=1.11.0->sentence-transformers>=0.3.8->keybert) (3.3)\n",
            "Requirement already satisfied: jinja2 in /usr/local/lib/python3.10/dist-packages (from torch>=1.11.0->sentence-transformers>=0.3.8->keybert) (3.1.4)\n",
            "Collecting nvidia-cuda-nvrtc-cu12==12.1.105 (from torch>=1.11.0->sentence-transformers>=0.3.8->keybert)\n",
            "  Using cached nvidia_cuda_nvrtc_cu12-12.1.105-py3-none-manylinux1_x86_64.whl (23.7 MB)\n",
            "Collecting nvidia-cuda-runtime-cu12==12.1.105 (from torch>=1.11.0->sentence-transformers>=0.3.8->keybert)\n",
            "  Using cached nvidia_cuda_runtime_cu12-12.1.105-py3-none-manylinux1_x86_64.whl (823 kB)\n",
            "Collecting nvidia-cuda-cupti-cu12==12.1.105 (from torch>=1.11.0->sentence-transformers>=0.3.8->keybert)\n",
            "  Using cached nvidia_cuda_cupti_cu12-12.1.105-py3-none-manylinux1_x86_64.whl (14.1 MB)\n",
            "Collecting nvidia-cudnn-cu12==8.9.2.26 (from torch>=1.11.0->sentence-transformers>=0.3.8->keybert)\n",
            "  Using cached nvidia_cudnn_cu12-8.9.2.26-py3-none-manylinux1_x86_64.whl (731.7 MB)\n",
            "Collecting nvidia-cublas-cu12==12.1.3.1 (from torch>=1.11.0->sentence-transformers>=0.3.8->keybert)\n",
            "  Using cached nvidia_cublas_cu12-12.1.3.1-py3-none-manylinux1_x86_64.whl (410.6 MB)\n",
            "Collecting nvidia-cufft-cu12==11.0.2.54 (from torch>=1.11.0->sentence-transformers>=0.3.8->keybert)\n",
            "  Using cached nvidia_cufft_cu12-11.0.2.54-py3-none-manylinux1_x86_64.whl (121.6 MB)\n",
            "Collecting nvidia-curand-cu12==10.3.2.106 (from torch>=1.11.0->sentence-transformers>=0.3.8->keybert)\n",
            "  Using cached nvidia_curand_cu12-10.3.2.106-py3-none-manylinux1_x86_64.whl (56.5 MB)\n",
            "Collecting nvidia-cusolver-cu12==11.4.5.107 (from torch>=1.11.0->sentence-transformers>=0.3.8->keybert)\n",
            "  Using cached nvidia_cusolver_cu12-11.4.5.107-py3-none-manylinux1_x86_64.whl (124.2 MB)\n",
            "Collecting nvidia-cusparse-cu12==12.1.0.106 (from torch>=1.11.0->sentence-transformers>=0.3.8->keybert)\n",
            "  Using cached nvidia_cusparse_cu12-12.1.0.106-py3-none-manylinux1_x86_64.whl (196.0 MB)\n",
            "Collecting nvidia-nccl-cu12==2.20.5 (from torch>=1.11.0->sentence-transformers>=0.3.8->keybert)\n",
            "  Using cached nvidia_nccl_cu12-2.20.5-py3-none-manylinux2014_x86_64.whl (176.2 MB)\n",
            "Collecting nvidia-nvtx-cu12==12.1.105 (from torch>=1.11.0->sentence-transformers>=0.3.8->keybert)\n",
            "  Using cached nvidia_nvtx_cu12-12.1.105-py3-none-manylinux1_x86_64.whl (99 kB)\n",
            "Requirement already satisfied: triton==2.3.0 in /usr/local/lib/python3.10/dist-packages (from torch>=1.11.0->sentence-transformers>=0.3.8->keybert) (2.3.0)\n",
            "Collecting nvidia-nvjitlink-cu12 (from nvidia-cusolver-cu12==11.4.5.107->torch>=1.11.0->sentence-transformers>=0.3.8->keybert)\n",
            "  Downloading nvidia_nvjitlink_cu12-12.5.82-py3-none-manylinux2014_x86_64.whl (21.3 MB)\n",
            "\u001b[2K     \u001b[90m━━━━━━━━━━━━━━━━━━━━━━━━━━━━━━━━━━━━━━━━\u001b[0m \u001b[32m21.3/21.3 MB\u001b[0m \u001b[31m40.5 MB/s\u001b[0m eta \u001b[36m0:00:00\u001b[0m\n",
            "\u001b[?25hRequirement already satisfied: regex!=2019.12.17 in /usr/local/lib/python3.10/dist-packages (from transformers<5.0.0,>=4.34.0->sentence-transformers>=0.3.8->keybert) (2024.5.15)\n",
            "Requirement already satisfied: tokenizers<0.20,>=0.19 in /usr/local/lib/python3.10/dist-packages (from transformers<5.0.0,>=4.34.0->sentence-transformers>=0.3.8->keybert) (0.19.1)\n",
            "Requirement already satisfied: safetensors>=0.4.1 in /usr/local/lib/python3.10/dist-packages (from transformers<5.0.0,>=4.34.0->sentence-transformers>=0.3.8->keybert) (0.4.3)\n",
            "Requirement already satisfied: MarkupSafe>=2.0 in /usr/local/lib/python3.10/dist-packages (from jinja2->torch>=1.11.0->sentence-transformers>=0.3.8->keybert) (2.1.5)\n",
            "Requirement already satisfied: charset-normalizer<4,>=2 in /usr/local/lib/python3.10/dist-packages (from requests->huggingface-hub>=0.15.1->sentence-transformers>=0.3.8->keybert) (3.3.2)\n",
            "Requirement already satisfied: idna<4,>=2.5 in /usr/local/lib/python3.10/dist-packages (from requests->huggingface-hub>=0.15.1->sentence-transformers>=0.3.8->keybert) (3.7)\n",
            "Requirement already satisfied: urllib3<3,>=1.21.1 in /usr/local/lib/python3.10/dist-packages (from requests->huggingface-hub>=0.15.1->sentence-transformers>=0.3.8->keybert) (2.0.7)\n",
            "Requirement already satisfied: certifi>=2017.4.17 in /usr/local/lib/python3.10/dist-packages (from requests->huggingface-hub>=0.15.1->sentence-transformers>=0.3.8->keybert) (2024.7.4)\n",
            "Requirement already satisfied: mpmath<1.4,>=1.1.0 in /usr/local/lib/python3.10/dist-packages (from sympy->torch>=1.11.0->sentence-transformers>=0.3.8->keybert) (1.3.0)\n",
            "Installing collected packages: nvidia-nvtx-cu12, nvidia-nvjitlink-cu12, nvidia-nccl-cu12, nvidia-curand-cu12, nvidia-cufft-cu12, nvidia-cuda-runtime-cu12, nvidia-cuda-nvrtc-cu12, nvidia-cuda-cupti-cu12, nvidia-cublas-cu12, nvidia-cusparse-cu12, nvidia-cudnn-cu12, nvidia-cusolver-cu12, sentence-transformers, keybert\n",
            "Successfully installed keybert-0.8.5 nvidia-cublas-cu12-12.1.3.1 nvidia-cuda-cupti-cu12-12.1.105 nvidia-cuda-nvrtc-cu12-12.1.105 nvidia-cuda-runtime-cu12-12.1.105 nvidia-cudnn-cu12-8.9.2.26 nvidia-cufft-cu12-11.0.2.54 nvidia-curand-cu12-10.3.2.106 nvidia-cusolver-cu12-11.4.5.107 nvidia-cusparse-cu12-12.1.0.106 nvidia-nccl-cu12-2.20.5 nvidia-nvjitlink-cu12-12.5.82 nvidia-nvtx-cu12-12.1.105 sentence-transformers-3.0.1\n"
          ]
        }
      ],
      "source": [
        "# install\n",
        "!pip install keybert"
      ]
    },
    {
      "cell_type": "markdown",
      "source": [
        "## Data\n",
        "* We will use random text data from the book `Dracula` by Bram Stoker.\n",
        "* Why is it good to test this on random documents that you have never read? Well thats the point, we assume that as a Data Scientist you are tasked with pulling the information from the document!\n"
      ],
      "metadata": {
        "id": "1y0egqqC5GMs"
      }
    },
    {
      "cell_type": "code",
      "source": [
        "text1 = \"\"\"\"\n",
        "Presently the horses began to scream, and tore at their tethers till I\n",
        "came to them and quieted them. When they did feel my hands on them, they\n",
        "whinnied low as in joy, and licked at my hands and were quiet for a\n",
        "time. Many times through the night did I come to them, till it arrive to\n",
        "the cold hour when all nature is at lowest; and every time my coming was\n",
        "with quiet of them. In the cold hour the fire began to die, and I was\n",
        "about stepping forth to replenish it, for now the snow came in flying\n",
        "sweeps and with it a chill mist. Even in the dark there was a light of\n",
        "some kind, as there ever is over snow; and it seemed as though the\n",
        "snow-flurries and the wreaths of mist took shape as of women with\n",
        "trailing garments. All was in dead, grim silence only that the horses\n",
        "whinnied and cowered, as if in terror of the worst. I began to\n",
        "fear--horrible fears; but then came to me the sense of safety in that\n",
        "ring wherein I stood. I began, too, to think that my imaginings were of\n",
        "the night, and the gloom, and the unrest that I have gone through, and\n",
        "all the terrible anxiety. It was as though my memories of all Jonathan’s\n",
        "horrid experience were befooling me; for the snow flakes and the mist\n",
        "began to wheel and circle round, till I could get as though a shadowy\n",
        "glimpse of those women that would have kissed him. And then the horses\n",
        "cowered lower and lower, and moaned in terror as men do in pain. Even\n",
        "the madness of fright was not to them, so that they could break away. I\n",
        "feared for my dear Madam Mina when these weird figures drew near and\n",
        "circled round. I looked at her, but she sat calm, and smiled at me; when\n",
        "I would have stepped to the fire to replenish it, she caught me and held\n",
        "me back, and whispered, like a voice that one hears in a dream, so low\n",
        "it was:--\n",
        "\"\"\"\n",
        "\n",
        "text2 = \"\"\"\"\n",
        "I only slept a few hours when I went to bed, and feeling that I could\n",
        "not sleep any more, got up. I had hung my shaving glass by the window,\n",
        "and was just beginning to shave. Suddenly I felt a hand on my shoulder,\n",
        "and heard the Count’s voice saying to me, “Good-morning.” I started, for\n",
        "it amazed me that I had not seen him, since the reflection of the glass\n",
        "covered the whole room behind me. In starting I had cut myself slightly,\n",
        "but did not notice it at the moment. Having answered the Count’s\n",
        "salutation, I turned to the glass again to see how I had been mistaken.\n",
        "This time there could be no error, for the man was close to me, and I\n",
        "could see him over my shoulder. But there was no reflection of him in\n",
        "the mirror! The whole room behind me was displayed; but there was no\n",
        "sign of a man in it, except myself. This was startling, and, coming on\n",
        "the top of so many strange things, was beginning to increase that vague\n",
        "feeling of uneasiness which I always have when the Count is near; but at\n",
        "the instant I saw that the cut had bled a little, and the blood was\n",
        "trickling over my chin. I laid down the razor, turning as I did so half\n",
        "round to look for some sticking plaster. When the Count saw my face, his\n",
        "eyes blazed with a sort of demoniac fury, and he suddenly made a grab at\n",
        "my throat. I drew away, and his hand touched the string of beads which\n",
        "held the crucifix. It made an instant change in him, for the fury passed\n",
        "so quickly that I could hardly believe that it was ever there.\n",
        "\"\"\"\n",
        "\n",
        "text3 = \"\"\"\"\n",
        "I knew that there were at least three graves to find--graves that are\n",
        "inhabit; so I search, and search, and I find one of them. She lay in her\n",
        "Vampire sleep, so full of life and voluptuous beauty that I shudder as\n",
        "though I have come to do murder. Ah, I doubt not that in old time, when\n",
        "such things were, many a man who set forth to do such a task as mine,\n",
        "found at the last his heart fail him, and then his nerve. So he delay,\n",
        "and delay, and delay, till the mere beauty and the fascination of the\n",
        "wanton Un-Dead have hypnotise him; and he remain on and on, till sunset\n",
        "come, and the Vampire sleep be over. Then the beautiful eyes of the fair\n",
        "woman open and look love, and the voluptuous mouth present to a\n",
        "kiss--and man is weak. And there remain one more victim in the Vampire\n",
        "fold; one more to swell the grim and grisly ranks of the Un-Dead!...\n",
        "\"\"\"\n",
        "\n",
        "text4 = \"\"\"\n",
        "         Supervised learning is the machine learning task of learning a function that\n",
        "         maps an input to an output based on example input-output pairs. It infers a\n",
        "         function from labeled training data consisting of a set of training examples.\n",
        "         In supervised learning, each example is a pair consisting of an input object\n",
        "         (typically a vector) and a desired output value (also called the supervisory signal).\n",
        "         A supervised learning algorithm analyzes the training data and produces an inferred function,\n",
        "         which can be used for mapping new examples. An optimal scenario will allow for the\n",
        "         algorithm to correctly determine the class labels for unseen instances. This requires\n",
        "         the learning algorithm to generalize from the training data to unseen situations in a\n",
        "         'reasonable' way (see inductive bias).\n",
        "      \"\"\""
      ],
      "metadata": {
        "id": "9HbZE02644aK"
      },
      "execution_count": 14,
      "outputs": []
    },
    {
      "cell_type": "markdown",
      "source": [
        "## Imports"
      ],
      "metadata": {
        "id": "aUwT6kxt6CYu"
      }
    },
    {
      "cell_type": "code",
      "source": [
        "## import keybert\n",
        "from keybert import KeyBERT"
      ],
      "metadata": {
        "colab": {
          "base_uri": "https://localhost:8080/"
        },
        "id": "y6voTFrN5YNS",
        "outputId": "acd8a68e-fd6b-44ae-ff18-5ed9a4cc0c5d"
      },
      "execution_count": 3,
      "outputs": [
        {
          "output_type": "stream",
          "name": "stderr",
          "text": [
            "/usr/local/lib/python3.10/dist-packages/sentence_transformers/cross_encoder/CrossEncoder.py:11: TqdmExperimentalWarning: Using `tqdm.autonotebook.tqdm` in notebook mode. Use `tqdm.tqdm` instead to force console mode (e.g. in jupyter console)\n",
            "  from tqdm.autonotebook import tqdm, trange\n"
          ]
        }
      ]
    },
    {
      "cell_type": "markdown",
      "source": [
        "## Embedding Models\n",
        "* KeyBERT supports numerous embedding models including:\n",
        "   * Sentence-Transformers\n",
        "   * Flair\n",
        "   * Spacy\n",
        "   * Gensim\n",
        "   * USE\n",
        "   * Full list: https://maartengr.github.io/KeyBERT/guides/embeddings.html\n",
        "\n",
        "* Instantiation of an embedding model.\n",
        "   * Here we will use the default SentenceTransformer and most popular model `all-MiniLM-L6-v2` transformer.\n",
        "\n"
      ],
      "metadata": {
        "id": "sb9fdk776lza"
      }
    },
    {
      "cell_type": "code",
      "source": [
        "## load default model\n",
        "kw_model = KeyBERT(model='all-MiniLM-L6-v2')"
      ],
      "metadata": {
        "id": "rHQ1dfBU6KI5"
      },
      "execution_count": 15,
      "outputs": []
    },
    {
      "cell_type": "markdown",
      "source": [
        "## Keyword Extraction\n",
        "* We can now extract keywords using the transformer model from our documents."
      ],
      "metadata": {
        "id": "MJ5YyOBn7mqM"
      }
    },
    {
      "cell_type": "code",
      "source": [
        "## extract keywords\n",
        "keywords = kw_model.extract_keywords(text4)\n",
        "keywords"
      ],
      "metadata": {
        "colab": {
          "base_uri": "https://localhost:8080/"
        },
        "id": "pot5C-337Wah",
        "outputId": "d0dfcc6c-02e7-488c-d59d-483610aa0534"
      },
      "execution_count": 18,
      "outputs": [
        {
          "output_type": "execute_result",
          "data": {
            "text/plain": [
              "[('supervised', 0.6676),\n",
              " ('labeled', 0.4896),\n",
              " ('learning', 0.4813),\n",
              " ('training', 0.4134),\n",
              " ('labels', 0.3947)]"
            ]
          },
          "metadata": {},
          "execution_count": 18
        }
      ]
    },
    {
      "cell_type": "markdown",
      "source": [
        "### N-gram extraction\n",
        "* Range extraction"
      ],
      "metadata": {
        "id": "V33Zz1ld8MG_"
      }
    },
    {
      "cell_type": "code",
      "source": [
        "## n-gram extraction (lower range, higher range)\n",
        "kw_model.extract_keywords(text4, keyphrase_ngram_range=(2,3), stop_words=None)"
      ],
      "metadata": {
        "colab": {
          "base_uri": "https://localhost:8080/"
        },
        "id": "qt1CAYIP7ufo",
        "outputId": "2ce02c08-5998-4a24-e16a-1027b8c2dc92"
      },
      "execution_count": 19,
      "outputs": [
        {
          "output_type": "execute_result",
          "data": {
            "text/plain": [
              "[('supervised learning is', 0.72),\n",
              " ('supervised learning algorithm', 0.6992),\n",
              " ('supervised learning', 0.6779),\n",
              " ('in supervised learning', 0.6624),\n",
              " ('signal supervised', 0.6152)]"
            ]
          },
          "metadata": {},
          "execution_count": 19
        }
      ]
    },
    {
      "cell_type": "code",
      "source": [
        "## n-grams\n",
        "kw_model.extract_keywords(text3, keyphrase_ngram_range=(1,2),stop_words=None)"
      ],
      "metadata": {
        "colab": {
          "base_uri": "https://localhost:8080/"
        },
        "id": "8z8AwdRd-OEZ",
        "outputId": "fc064fe4-1fd7-406b-947f-488e3282ee9b"
      },
      "execution_count": 21,
      "outputs": [
        {
          "output_type": "execute_result",
          "data": {
            "text/plain": [
              "[('the vampire', 0.5339),\n",
              " ('vampire sleep', 0.5125),\n",
              " ('vampire', 0.4996),\n",
              " ('vampire fold', 0.4741),\n",
              " ('her vampire', 0.4552)]"
            ]
          },
          "metadata": {},
          "execution_count": 21
        }
      ]
    },
    {
      "cell_type": "markdown",
      "source": [
        "### Stop Words\n",
        "* We can remove stop words as well."
      ],
      "metadata": {
        "id": "MenC5Sz98UA_"
      }
    },
    {
      "cell_type": "code",
      "source": [
        "# stop word removal\n",
        "kw_model.extract_keywords(text4, keyphrase_ngram_range=(3,3), stop_words=\"english\",\n",
        "                       use_maxsum=True, nr_candidates=20, top_n=5)"
      ],
      "metadata": {
        "colab": {
          "base_uri": "https://localhost:8080/"
        },
        "id": "psG0LpTX8QC4",
        "outputId": "02065ddb-b3ce-4055-dc9a-f98508affebe"
      },
      "execution_count": 22,
      "outputs": [
        {
          "output_type": "execute_result",
          "data": {
            "text/plain": [
              "[('learning function maps', 0.5178),\n",
              " ('training data unseen', 0.5194),\n",
              " ('learning algorithm analyzes', 0.5208),\n",
              " ('machine learning task', 0.5628),\n",
              " ('supervisory signal supervised', 0.5802)]"
            ]
          },
          "metadata": {},
          "execution_count": 22
        }
      ]
    },
    {
      "cell_type": "markdown",
      "source": [
        "### Highlight Keywords"
      ],
      "metadata": {
        "id": "OpyOmB8N8kqs"
      }
    },
    {
      "cell_type": "code",
      "source": [
        "model.extract_keywords(text2, highlight=True)"
      ],
      "metadata": {
        "colab": {
          "base_uri": "https://localhost:8080/",
          "height": 312
        },
        "id": "vT4KGCda8e2U",
        "outputId": "4c12f7cc-c885-4f3e-c2dc-346342ff3c9e"
      },
      "execution_count": 13,
      "outputs": [
        {
          "output_type": "display_data",
          "data": {
            "text/plain": [
              "only \u001b[30;48;2;255;255;0mslept\u001b[0m few hours when went to bed and feeling that could not sleep any more got up had hung my \u001b[30;48;2;255;255;0mshaving\u001b[0m glass by\n",
              "the window and was just beginning to \u001b[30;48;2;255;255;0mshave\u001b[0m Suddenly felt hand on my shoulder and heard the Count voice saying to me\n",
              "Good morning started for it amazed me that had not seen him since the reflection of the glass covered the whole \n",
              "room behind me In starting had cut myself slightly but did not notice it at the moment Having answered the Count \n",
              "salutation turned to the glass again to see how had been mistaken This time there could be no error for the man was\n",
              "close to me and could see him over my shoulder But there was no reflection of him in the mirror The whole room \n",
              "behind me was displayed but there was no sign of man in it except myself This was \u001b[30;48;2;255;255;0mstartling\u001b[0m and coming on the top \n",
              "of so many strange things was beginning to increase that vague feeling of uneasiness which always have when the \n",
              "Count is near but at the instant \u001b[30;48;2;255;255;0msaw\u001b[0m that the cut had bled little and the blood was trickling over my chin laid \n",
              "down the razor turning as did so half round to look for some sticking plaster When the Count \u001b[30;48;2;255;255;0msaw\u001b[0m my face his eyes \n",
              "blazed with sort of demoniac fury and he suddenly made grab at my throat drew away and his hand touched the string \n",
              "of beads which held the crucifix It made an instant change in him for the fury passed so quickly that could hardly \n",
              "believe that it was ever there\n"
            ],
            "text/html": [
              "<pre style=\"white-space:pre;overflow-x:auto;line-height:normal;font-family:Menlo,'DejaVu Sans Mono',consolas,'Courier New',monospace\">only <span style=\"color: #000000; text-decoration-color: #000000; background-color: #ffff00\">slept</span> few hours when went to bed and feeling that could not sleep any more got up had hung my <span style=\"color: #000000; text-decoration-color: #000000; background-color: #ffff00\">shaving</span> glass by\n",
              "the window and was just beginning to <span style=\"color: #000000; text-decoration-color: #000000; background-color: #ffff00\">shave</span> Suddenly felt hand on my shoulder and heard the Count voice saying to me\n",
              "Good morning started for it amazed me that had not seen him since the reflection of the glass covered the whole \n",
              "room behind me In starting had cut myself slightly but did not notice it at the moment Having answered the Count \n",
              "salutation turned to the glass again to see how had been mistaken This time there could be no error for the man was\n",
              "close to me and could see him over my shoulder But there was no reflection of him in the mirror The whole room \n",
              "behind me was displayed but there was no sign of man in it except myself This was <span style=\"color: #000000; text-decoration-color: #000000; background-color: #ffff00\">startling</span> and coming on the top \n",
              "of so many strange things was beginning to increase that vague feeling of uneasiness which always have when the \n",
              "Count is near but at the instant <span style=\"color: #000000; text-decoration-color: #000000; background-color: #ffff00\">saw</span> that the cut had bled little and the blood was trickling over my chin laid \n",
              "down the razor turning as did so half round to look for some sticking plaster When the Count <span style=\"color: #000000; text-decoration-color: #000000; background-color: #ffff00\">saw</span> my face his eyes \n",
              "blazed with sort of demoniac fury and he suddenly made grab at my throat drew away and his hand touched the string \n",
              "of beads which held the crucifix It made an instant change in him for the fury passed so quickly that could hardly \n",
              "believe that it was ever there\n",
              "</pre>\n"
            ]
          },
          "metadata": {}
        },
        {
          "output_type": "execute_result",
          "data": {
            "text/plain": [
              "[('shave', 0.3691),\n",
              " ('shaving', 0.3665),\n",
              " ('startling', 0.3437),\n",
              " ('slept', 0.3282),\n",
              " ('saw', 0.2966)]"
            ]
          },
          "metadata": {},
          "execution_count": 13
        }
      ]
    },
    {
      "cell_type": "markdown",
      "source": [
        "## Other parameters for extraction\n",
        "* `use_maxsum`\n",
        "   * max sum distance between pairs of data is the pairs of data for which the distance between them is maximized.\n",
        "   * Maximize the candidate similarity to the document while minimizing similarity between candidates."
      ],
      "metadata": {
        "id": "Ee9XdjAj-vp9"
      }
    },
    {
      "cell_type": "code",
      "source": [
        "## this extracts 20 phrases and selects the top 5 that are least similar to one another\n",
        "kw_model.extract_keywords(text4, keyphrase_ngram_range=(3,3), stop_words='english',\n",
        "                          use_maxsum=True, nr_candidates=20, top_n=5)"
      ],
      "metadata": {
        "colab": {
          "base_uri": "https://localhost:8080/"
        },
        "id": "wfX_jjKj8ozq",
        "outputId": "14664629-ca43-41a2-d3f1-84db7902666b"
      },
      "execution_count": 25,
      "outputs": [
        {
          "output_type": "execute_result",
          "data": {
            "text/plain": [
              "[('learning function maps', 0.5178),\n",
              " ('training data unseen', 0.5194),\n",
              " ('learning algorithm analyzes', 0.5208),\n",
              " ('machine learning task', 0.5628),\n",
              " ('supervisory signal supervised', 0.5802)]"
            ]
          },
          "metadata": {},
          "execution_count": 25
        }
      ]
    },
    {
      "cell_type": "markdown",
      "source": [
        "* Maximal Marginal Relevance (MMR)\n",
        "   * minimizes redundancy and maximize diversity of results in text summarization tasks.\n",
        "   * There is a keyword extraction algorithm called `EmbedRank` that allows us to do that.\n",
        "\n",
        "* Diversity\n",
        "   * diversity of the words/n-grams selected."
      ],
      "metadata": {
        "id": "mvlcCHo8_8WS"
      }
    },
    {
      "cell_type": "code",
      "source": [
        "## MMR with high diversity\n",
        "kw_model.extract_keywords(text4, keyphrase_ngram_range=(3,3), stop_words='english',\n",
        "                          use_mmr=True, diversity=0.7)"
      ],
      "metadata": {
        "colab": {
          "base_uri": "https://localhost:8080/"
        },
        "id": "8FxnVnhn_A7X",
        "outputId": "d2060d94-d791-49c1-ac8a-227810e753e3"
      },
      "execution_count": 28,
      "outputs": [
        {
          "output_type": "execute_result",
          "data": {
            "text/plain": [
              "[('supervised learning algorithm', 0.6992),\n",
              " ('class labels unseen', 0.3469),\n",
              " ('value called supervisory', 0.2895),\n",
              " ('unseen situations reasonable', 0.2142),\n",
              " ('pairs infers function', 0.1981)]"
            ]
          },
          "metadata": {},
          "execution_count": 28
        }
      ]
    },
    {
      "cell_type": "code",
      "source": [
        "## MMR with low diversity\n",
        "kw_model.extract_keywords(text4, keyphrase_ngram_range=(3,3), stop_words='english',\n",
        "                          use_mmr=True, diversity=0.1)"
      ],
      "metadata": {
        "colab": {
          "base_uri": "https://localhost:8080/"
        },
        "id": "UgGwZzeRAU8m",
        "outputId": "61bf8abb-9fa8-4ac9-a510-ec977793a7cc"
      },
      "execution_count": 29,
      "outputs": [
        {
          "output_type": "execute_result",
          "data": {
            "text/plain": [
              "[('supervised learning algorithm', 0.6992),\n",
              " ('supervised learning example', 0.6807),\n",
              " ('supervised learning machine', 0.6706),\n",
              " ('function labeled training', 0.663),\n",
              " ('training examples supervised', 0.625)]"
            ]
          },
          "metadata": {},
          "execution_count": 29
        }
      ]
    },
    {
      "cell_type": "markdown",
      "source": [
        "We can see the low diversity difference in the 2nd example vs. the first."
      ],
      "metadata": {
        "id": "MUhs3umRArKz"
      }
    },
    {
      "cell_type": "markdown",
      "source": [
        "## Lets try this on another new article document - Trumps VP pick\n",
        "* source: https://apnews.com/article/trump-vice-president-vance-rubio-burgum-rnc-6cc438a8370a21b2631f5a53b06b71d0"
      ],
      "metadata": {
        "id": "wM3CanN_BKVL"
      }
    },
    {
      "cell_type": "code",
      "source": [
        "doc = \"\"\"\n",
        "MILWAUKEE (AP) — Former President Donald Trump chose Sen. JD Vance of Ohio as his running mate on Monday, picking a onetime critic who became a loyal ally and is now the first millennial to join a major-party ticket at a time of deep concern about the advanced age of America’s political leaders.\n",
        "\n",
        "“After lengthy deliberation and thought, and considering the tremendous talents of many others, I have decided that the person best suited to assume the position of Vice President of the United States is Senator J.D. Vance of the Great State of Ohio,” Trump said in a post on his Truth Social network as the Republican National Convention got underway in Milwaukee.\n",
        "\n",
        "The 39-year-old Vance rose to national fame with the 2016 publication of his memoir, “Hillbilly Elegy.” He was elected to the Senate in 2022 and has become one of the staunchest champions of the former president’s “Make America Great Again” agenda, particularly on trade, foreign policy and immigration.\n",
        "\n",
        "But he is largely untested in national politics and is joining the Trump ticket at an extraordinary moment. An attempted assassination of Trump at a rally Saturday has shaken the campaign, bringing new attention to the nation’s coarse political rhetoric and reinforcing the importance of those who are one heartbeat away from the presidency.\n",
        "\n",
        "Why Vance was chosen over the other finalists\n",
        "Vance, Trump said, “will be strongly focused on the people he fought so brilliantly for, the American Workers and Farmers in Pennsylvania, Michigan, Wisconsin, Ohio, Minnesota, and far beyond.” Several of those Midwestern states are expected to play a critical role in November’s election.\n",
        "\n",
        "The pick is sure to energize Trump’s loyal base. Vance has become a fixture on the conservative media circuit and frequently spars with reporters on Capitol Hill, helping establish him as the kind of leader who could carry Trump’s mantle into the future, beginning with the next presidential election in 2028.\n",
        "\n",
        "But the pick also means that two white men will now lead the Republican ticket at a time when Trump has sought to make inroads with Black and Latino voters.\n",
        "\n",
        "In “Hillbilly Elegy,” Vance detailed life in Appalachian communities that drifted from a Democratic Party many residents found disconnected from their daily travails. While the book was a bestseller, it was also criticized for sometimes oversimplifying rural life and ignoring the role of racism in modern politics.\n",
        "\"\"\""
      ],
      "metadata": {
        "id": "z2j4QItAAoJO"
      },
      "execution_count": 30,
      "outputs": []
    },
    {
      "cell_type": "code",
      "source": [
        "kw_model.extract_keywords(doc, keyphrase_ngram_range=(1,3), stop_words=None)\n"
      ],
      "metadata": {
        "colab": {
          "base_uri": "https://localhost:8080/"
        },
        "id": "4MtIbMXWBo0h",
        "outputId": "d7ad85d6-4f25-4f5d-b489-7a4253106838"
      },
      "execution_count": 31,
      "outputs": [
        {
          "output_type": "execute_result",
          "data": {
            "text/plain": [
              "[('is senator vance', 0.6799),\n",
              " ('senator vance of', 0.6669),\n",
              " ('vance trump', 0.6622),\n",
              " ('sen jd vance', 0.6549),\n",
              " ('senator vance', 0.6547)]"
            ]
          },
          "metadata": {},
          "execution_count": 31
        }
      ]
    },
    {
      "cell_type": "markdown",
      "source": [
        "We can see above how without eliminating the stop words they are included in the top keywords (e.g. is, of)"
      ],
      "metadata": {
        "id": "kSaFPTfrB8kL"
      }
    },
    {
      "cell_type": "code",
      "source": [
        "kw_model.extract_keywords(doc, keyphrase_ngram_range=(1,3), stop_words='english',\n",
        "                          use_maxsum=True, nr_candidates=20, top_n=5)"
      ],
      "metadata": {
        "colab": {
          "base_uri": "https://localhost:8080/"
        },
        "id": "c3Tz5-9JBwlZ",
        "outputId": "23a9e05c-cc4a-4ad9-d16b-44475204d02f"
      },
      "execution_count": 32,
      "outputs": [
        {
          "output_type": "execute_result",
          "data": {
            "text/plain": [
              "[('hillbilly elegy elected', 0.5552),\n",
              " ('voters hillbilly elegy', 0.5689),\n",
              " ('vance ohio running', 0.5893),\n",
              " ('vance trump said', 0.5905),\n",
              " ('jd vance', 0.6177)]"
            ]
          },
          "metadata": {},
          "execution_count": 32
        }
      ]
    },
    {
      "cell_type": "markdown",
      "source": [
        "We can see above how the algorithn normalizes the text to lowercase using the CountVectorizer under the hood."
      ],
      "metadata": {
        "id": "8-gbiNYACBk6"
      }
    },
    {
      "cell_type": "code",
      "source": [
        "kw_model.extract_keywords(doc, keyphrase_ngram_range=(3,3), stop_words='english',\n",
        "                          use_mmr=True, diversity=0.7)"
      ],
      "metadata": {
        "colab": {
          "base_uri": "https://localhost:8080/"
        },
        "id": "HxEnlMlRB4mQ",
        "outputId": "24e065ff-e026-4439-968a-c85d87389193"
      },
      "execution_count": 34,
      "outputs": [
        {
          "output_type": "execute_result",
          "data": {
            "text/plain": [
              "[('states senator vance', 0.6639),\n",
              " ('carry trump mantle', 0.2876),\n",
              " ('book bestseller criticized', 0.1216),\n",
              " ('concern advanced age', 0.0842),\n",
              " ('party residents disconnected', 0.0548)]"
            ]
          },
          "metadata": {},
          "execution_count": 34
        }
      ]
    },
    {
      "cell_type": "code",
      "source": [
        "kw_model.extract_keywords(doc, keyphrase_ngram_range=(3,3), stop_words='english',\n",
        "                          use_mmr=True, diversity=0.1)"
      ],
      "metadata": {
        "colab": {
          "base_uri": "https://localhost:8080/"
        },
        "id": "QCmMzwfqCQwI",
        "outputId": "636d36fd-6545-4fc2-c0c1-59441c8ccb11"
      },
      "execution_count": 35,
      "outputs": [
        {
          "output_type": "execute_result",
          "data": {
            "text/plain": [
              "[('states senator vance', 0.6639),\n",
              " ('sen jd vance', 0.6549),\n",
              " ('senator vance great', 0.65),\n",
              " ('jd vance ohio', 0.6329),\n",
              " ('hillbilly elegy vance', 0.6048)]"
            ]
          },
          "metadata": {},
          "execution_count": 35
        }
      ]
    },
    {
      "cell_type": "markdown",
      "source": [
        "# Another implementation of KeyBERT using SentenceTransformers"
      ],
      "metadata": {
        "id": "sr6QahwtCdMB"
      }
    },
    {
      "cell_type": "code",
      "source": [
        "from keybert import KeyBERT\n",
        "from sentence_transformers import SentenceTransformer\n",
        "\n",
        "# model\n",
        "sent_model = SentenceTransformer('paraphrase-MiniLM-L6-v2')\n",
        "kw_model = KeyBERT(model=sent_model)"
      ],
      "metadata": {
        "colab": {
          "base_uri": "https://localhost:8080/",
          "height": 369,
          "referenced_widgets": [
            "c4e02a38b29e4b2eaecfde22db150e7d",
            "65023aeaa8854dc1b1573fe0d7e57f63",
            "d033b67c345f4cc9a5f8f71de7a0d636",
            "1df25cf8e52a4e1e9fd7d0c8678261dc",
            "22fdf86007d14a3b93f3505f97d15ce8",
            "86c5220d1c484673a7b400eff5747a44",
            "a922063493cf4d2f960330f2ed7b445c",
            "c914011d5b6846168615edffffd48f79",
            "b5ab20c8a9e34b9089e5403106ff899d",
            "82c7ec500d4842a8b963dcce2d3f467b",
            "3109e1a564b544e9ad01bf473cb1a90d",
            "bce7f1e199d44578aaeee8ccb38fde30",
            "7b002a4aa2944a4697a5c69fcb0f20f6",
            "0acd2a3d3f904c12bb4f35935b27f7f6",
            "1473e5d64c064dc3bc316a4bb9768d83",
            "b34f1e0051064d9685db947d87c90f46",
            "928c2312bed24bd6ae3eafa7d349d072",
            "b3a372b6b476493fb1e777fe524a3fba",
            "a4e5307944ed4e3fb5082b329d2105b4",
            "3df1245308144d76a4f3df33319aa776",
            "b02e4fb975544512a27ebf32088a8e9c",
            "3e817bea98f448bcb3c72d0ddc7cd0db",
            "765fba5c3ddd4ccea548d02414091565",
            "5e32cf8f3a8c4f30b0ca618d804a77d2",
            "ff6a62421d154aeaa738ec2fe12071bb",
            "08d4e0a0cef34c0781d9bc40d3735b45",
            "7f62c92095674b93ab28e28b7acf6fbc",
            "0337f40ac6bd429a8b0fc23cc0a76acc",
            "24a0f5c8cab14070ab3bf161d6275a08",
            "e0ec42e8443f45b8bd6d8b9be1aecfee",
            "b6854c7412564566a4cbc52815f07c83",
            "72a9d1d1b8ca42a9810f71431c43350c",
            "be346b1db6464226980fb6a6cb31393a",
            "650c3c5b29494da49a7e1364181ded26",
            "a3043b8bcae94972be7d6a9d595fa905",
            "a2dcd1e6ae7847d0a959ae47697a0da4",
            "7f47209274f54202af16b41f3f1dfc06",
            "503417adce1944b7a12a3834e47af1b7",
            "e42ac585a353474096ccdfb67a9131ae",
            "34375b529d7a4764b0d6f660a0cbef50",
            "b4872a37c875472ba6ea662468d1c83f",
            "3cdecad020454a359ef7d7770e586d7c",
            "41157412566146c28b0827f28f9c4aa2",
            "4817244d5ca54e28903ad262ea388e76",
            "32e1a6c3e4dd48da9087590e32368606",
            "58b71f35d31f476081a32b5d03bd2d52",
            "7a8fa8ea72e642b79efbec0ba484a362",
            "ce442768d3c041608fae441a2abfe434",
            "73e242d224134a339aaa36af398bf651",
            "94bd4a046f004bf0ab817f17df5bbab7",
            "437994d284fe42e58655f82ae67c2453",
            "b75808c7f47a4c51bc2337a42f876e67",
            "84640cb1315f4ad4b4db2da3a3a377ca",
            "1ac3720baf5945b185e73a608ba27c76",
            "eef6fcfc1bd6413489617b7b35c51ae8",
            "6a29954eb4ef44918864654417b5c2d2",
            "dc67a57d447e43ef86fdd027bb9c911b",
            "012e3d38c41d41cea2a94d67435b396c",
            "87d494e194d74c61a4f8b5b5d5b7b29d",
            "f56c82a35560466881f81b4cd6dc0ef6",
            "11174db3c0a14108bafe6ea6ee1af761",
            "b5240d9b85d34fb69ef84575f7c1a281",
            "32abaa6c8f844639beffa512a4448e95",
            "8837dd20ee0d44fca54d20298bee97a3",
            "4121fccecbad4a558fdb39df12fdccff",
            "c82bee433eb44965b929557ea70c7111",
            "411d1d9690894ffaa161b2fccc97f331",
            "421cdf2448ce4fed8d44582ac8bcf29d",
            "6c0d93143c7f4cbaa2f2e98116e924a9",
            "f054d1ec69d047f582843b5c9a4ed596",
            "8fcddb7ffa5247f1992b3d1d84c790ef",
            "70e9fc6a63be4aacab7c5846fdc998b4",
            "f37da9ffdc2940f49c4e4729e1373798",
            "c7bd96ff3f07468299d887a99b85b5d2",
            "34d115075e97495184cd40f39e9efd9b",
            "1bae6abd632c41c29cd36958a1d8c0b8",
            "be22948c0d004f309dcf93152eb537bf",
            "1e5ae7bf2c9c4e36a38d00058680ef4a",
            "85e94720bf9a459c84f6628e4b1b2edb",
            "937924de189b44f3a782f47bae6a6c3c",
            "6619da53d8b648dabe3178595fbb4b0a",
            "be01ff61623048c59de351fbbe312504",
            "c4d79af4023a4e1ea238bb55eab0121e",
            "fd31614adf6f46e2983083cb729f2b7b",
            "b2ece5497b294a3a8044f396a1ca48e1",
            "ad84d8c917d047ffb8a946e5a5f5df9d",
            "574878426f194b67b0b6c82932e88355",
            "bc3a661381344e5084697ae22e4fd1fd",
            "70ad66b6ec364f3d8b0a84dd17b15e7f",
            "474bfea822024b11b85677591b5a9786",
            "7da89fab6acd4675858d56e3bde55be8",
            "7bf2b72720694324b5f6b3167c464c9e",
            "9ad5bdb7799a4687a98bfbdf471cd925",
            "2d87559063d54815948ab137d7ac0218",
            "755eaa83603c4c0d8e1c3ed504a94720",
            "d40281bab0dc478bafb447f3315e58b3",
            "cdee89064c8a4cbd9e0a6a45bc9390b1",
            "6c7d7338266e41a199c58d10ad348113",
            "22ff27ee29eb44859aa0d216a7382be3",
            "b178eb9e9ad448b6a2324dafc9f76bb8",
            "512fbb2ef18046faa28b684370c69b5c",
            "f8907374016f4ff3b4a837ab6dcb79a7",
            "80d644ec9d0143a997f1088c4f7b6791",
            "7870e1f878f14555acaefaad67eb5542",
            "1b2709d831da476faebc5d7103ce954e",
            "387705a123d34c58b974e9101c9eaf7e",
            "aa7c18dc804340a6aae3ce936cab66e7",
            "cc2ee5b9ac5b461a8cf48e0d39478f95",
            "12a50f9419984989983d59b1d5086db3",
            "4017e453a6904f42a4f7b18e70405486",
            "294be26f34624b7a8814839863db6277",
            "201d0bfb490441f781a549bc2fa86c5a",
            "55b52409ce28449497e828ea021583fd",
            "4e5f9343739a44f5bed1f4aa5bf4a101",
            "24e23c79a5a943c983f86efef16f98a6",
            "d93dc141d9154292bf7359c2a87b1aa4",
            "37a491be4bf04dcda63e12a2eac3a90f",
            "9a5233e084e7471f8d944c15436f0315",
            "6717a86434aa4d0f96bb5c68e14c72b6",
            "90e4634cf65147cf8ec2678ff35f1ac9",
            "cae0d883d7bb4c3aad601eeeb3928ab1"
          ]
        },
        "id": "YwJ1klpJCWsQ",
        "outputId": "990d6c5c-bd34-45f0-e9df-7d10aac6c82f"
      },
      "execution_count": 36,
      "outputs": [
        {
          "output_type": "display_data",
          "data": {
            "text/plain": [
              "modules.json:   0%|          | 0.00/229 [00:00<?, ?B/s]"
            ],
            "application/vnd.jupyter.widget-view+json": {
              "version_major": 2,
              "version_minor": 0,
              "model_id": "c4e02a38b29e4b2eaecfde22db150e7d"
            }
          },
          "metadata": {}
        },
        {
          "output_type": "display_data",
          "data": {
            "text/plain": [
              "config_sentence_transformers.json:   0%|          | 0.00/122 [00:00<?, ?B/s]"
            ],
            "application/vnd.jupyter.widget-view+json": {
              "version_major": 2,
              "version_minor": 0,
              "model_id": "bce7f1e199d44578aaeee8ccb38fde30"
            }
          },
          "metadata": {}
        },
        {
          "output_type": "display_data",
          "data": {
            "text/plain": [
              "README.md:   0%|          | 0.00/3.73k [00:00<?, ?B/s]"
            ],
            "application/vnd.jupyter.widget-view+json": {
              "version_major": 2,
              "version_minor": 0,
              "model_id": "765fba5c3ddd4ccea548d02414091565"
            }
          },
          "metadata": {}
        },
        {
          "output_type": "display_data",
          "data": {
            "text/plain": [
              "sentence_bert_config.json:   0%|          | 0.00/53.0 [00:00<?, ?B/s]"
            ],
            "application/vnd.jupyter.widget-view+json": {
              "version_major": 2,
              "version_minor": 0,
              "model_id": "650c3c5b29494da49a7e1364181ded26"
            }
          },
          "metadata": {}
        },
        {
          "output_type": "display_data",
          "data": {
            "text/plain": [
              "config.json:   0%|          | 0.00/629 [00:00<?, ?B/s]"
            ],
            "application/vnd.jupyter.widget-view+json": {
              "version_major": 2,
              "version_minor": 0,
              "model_id": "32e1a6c3e4dd48da9087590e32368606"
            }
          },
          "metadata": {}
        },
        {
          "output_type": "display_data",
          "data": {
            "text/plain": [
              "model.safetensors:   0%|          | 0.00/90.9M [00:00<?, ?B/s]"
            ],
            "application/vnd.jupyter.widget-view+json": {
              "version_major": 2,
              "version_minor": 0,
              "model_id": "6a29954eb4ef44918864654417b5c2d2"
            }
          },
          "metadata": {}
        },
        {
          "output_type": "display_data",
          "data": {
            "text/plain": [
              "tokenizer_config.json:   0%|          | 0.00/314 [00:00<?, ?B/s]"
            ],
            "application/vnd.jupyter.widget-view+json": {
              "version_major": 2,
              "version_minor": 0,
              "model_id": "411d1d9690894ffaa161b2fccc97f331"
            }
          },
          "metadata": {}
        },
        {
          "output_type": "display_data",
          "data": {
            "text/plain": [
              "vocab.txt:   0%|          | 0.00/232k [00:00<?, ?B/s]"
            ],
            "application/vnd.jupyter.widget-view+json": {
              "version_major": 2,
              "version_minor": 0,
              "model_id": "1e5ae7bf2c9c4e36a38d00058680ef4a"
            }
          },
          "metadata": {}
        },
        {
          "output_type": "display_data",
          "data": {
            "text/plain": [
              "tokenizer.json:   0%|          | 0.00/466k [00:00<?, ?B/s]"
            ],
            "application/vnd.jupyter.widget-view+json": {
              "version_major": 2,
              "version_minor": 0,
              "model_id": "70ad66b6ec364f3d8b0a84dd17b15e7f"
            }
          },
          "metadata": {}
        },
        {
          "output_type": "display_data",
          "data": {
            "text/plain": [
              "special_tokens_map.json:   0%|          | 0.00/112 [00:00<?, ?B/s]"
            ],
            "application/vnd.jupyter.widget-view+json": {
              "version_major": 2,
              "version_minor": 0,
              "model_id": "b178eb9e9ad448b6a2324dafc9f76bb8"
            }
          },
          "metadata": {}
        },
        {
          "output_type": "display_data",
          "data": {
            "text/plain": [
              "1_Pooling/config.json:   0%|          | 0.00/190 [00:00<?, ?B/s]"
            ],
            "application/vnd.jupyter.widget-view+json": {
              "version_major": 2,
              "version_minor": 0,
              "model_id": "294be26f34624b7a8814839863db6277"
            }
          },
          "metadata": {}
        }
      ]
    },
    {
      "cell_type": "code",
      "source": [
        "kw_model.extract_keywords(doc, keyphrase_ngram_range=(1,3), stop_words=None)"
      ],
      "metadata": {
        "colab": {
          "base_uri": "https://localhost:8080/"
        },
        "id": "dzK_G0DuDDq6",
        "outputId": "0e05476a-a51b-41b9-95b4-e7d048d0e262"
      },
      "execution_count": 38,
      "outputs": [
        {
          "output_type": "execute_result",
          "data": {
            "text/plain": [
              "[('vance trump', 0.6825),\n",
              " ('is senator vance', 0.6719),\n",
              " ('presidency why vance', 0.6571),\n",
              " ('senator vance of', 0.6569),\n",
              " ('sen jd vance', 0.6554)]"
            ]
          },
          "metadata": {},
          "execution_count": 38
        }
      ]
    },
    {
      "cell_type": "code",
      "source": [
        "kw_model.extract_keywords(doc, keyphrase_ngram_range=(1,3), stop_words='english',\n",
        "                          use_maxsum=True, nr_candidates=20, top_n=5)"
      ],
      "metadata": {
        "colab": {
          "base_uri": "https://localhost:8080/"
        },
        "id": "v5BJxaPNCrvB",
        "outputId": "162f3cb5-4a36-4ebe-e4ba-4d3976f86e56"
      },
      "execution_count": 37,
      "outputs": [
        {
          "output_type": "execute_result",
          "data": {
            "text/plain": [
              "[('trump chose sen', 0.4981),\n",
              " ('vice president united', 0.5001),\n",
              " ('vance ohio', 0.5063),\n",
              " ('vance chosen finalists', 0.5155),\n",
              " ('loyal base vance', 0.5209)]"
            ]
          },
          "metadata": {},
          "execution_count": 37
        }
      ]
    },
    {
      "cell_type": "markdown",
      "source": [
        "Summary:\n",
        "* The results are different than using the default keybert model above. So this is interesting because you can finetune the keybert model using huggingface."
      ],
      "metadata": {
        "id": "xYOmpd1mC49M"
      }
    },
    {
      "cell_type": "code",
      "source": [
        "kw_model.extract_keywords(doc, keyphrase_ngram_range=(2,5), stop_words='english',\n",
        "                          use_mmr=True, diversity=0.8)"
      ],
      "metadata": {
        "colab": {
          "base_uri": "https://localhost:8080/"
        },
        "id": "yZAcZP3dCyrr",
        "outputId": "f04791ff-9056-4560-8c2f-c56ee86b489e"
      },
      "execution_count": 39,
      "outputs": [
        {
          "output_type": "execute_result",
          "data": {
            "text/plain": [
              "[('trump chose sen jd vance', 0.7825),\n",
              " ('means white men', 0.1681),\n",
              " ('great state ohio', 0.0932),\n",
              " ('frequently spars reporters', 0.0197),\n",
              " ('mantle future beginning', -0.0738)]"
            ]
          },
          "metadata": {},
          "execution_count": 39
        }
      ]
    },
    {
      "cell_type": "code",
      "source": [
        "kw_model.extract_keywords(doc, keyphrase_ngram_range=(2,5), stop_words='english',\n",
        "                          use_mmr=True, diversity=0.2)"
      ],
      "metadata": {
        "colab": {
          "base_uri": "https://localhost:8080/"
        },
        "id": "l1XRODYqDcr6",
        "outputId": "e2270cb9-944d-4e3d-cf87-9af43623ce00"
      },
      "execution_count": 40,
      "outputs": [
        {
          "output_type": "execute_result",
          "data": {
            "text/plain": [
              "[('trump chose sen jd vance', 0.7825),\n",
              " ('chose sen jd vance ohio', 0.7076),\n",
              " ('presidency vance chosen', 0.7034),\n",
              " ('president united states senator vance', 0.6865),\n",
              " ('vance trump', 0.6825)]"
            ]
          },
          "metadata": {},
          "execution_count": 40
        }
      ]
    },
    {
      "cell_type": "markdown",
      "source": [
        "Summary\n",
        "* Overall this is a very simple library that utilizes SentenceTransformers to embed the text and utilize cosine similarity and other distance comparison metrics to extract keywords from text.\n",
        "* If we wanted to do a more in depth NLP analysis we may consider another library mentioned above or use BERTopic which has all the nuts and bolts.\n",
        "* However, compared to classical NLP techniques such as CountVectorizer and TF-IDF, this is more modern persay leveraging BERT."
      ],
      "metadata": {
        "id": "avPPlPpzDkCa"
      }
    },
    {
      "cell_type": "code",
      "source": [],
      "metadata": {
        "id": "j-38W1xPDgJo"
      },
      "execution_count": null,
      "outputs": []
    }
  ]
}