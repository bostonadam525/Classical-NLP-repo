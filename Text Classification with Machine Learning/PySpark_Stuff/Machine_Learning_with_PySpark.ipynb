{
  "nbformat": 4,
  "nbformat_minor": 0,
  "metadata": {
    "colab": {
      "provenance": []
    },
    "kernelspec": {
      "name": "python3",
      "display_name": "Python 3"
    },
    "language_info": {
      "name": "python"
    }
  },
  "cells": [
    {
      "cell_type": "markdown",
      "source": [
        "# Machine Learning with PySpark\n",
        "* Notebook by Adam Lang\n",
        "* Date: 12/19/2024\n",
        "\n",
        "# Overview\n",
        "* This notebook demonstrates basic machine learning example using linear regression in PySpark."
      ],
      "metadata": {
        "id": "GnrvYLp0jil4"
      }
    },
    {
      "cell_type": "markdown",
      "source": [
        "# Create Spark session"
      ],
      "metadata": {
        "id": "gXiZRtHujsN4"
      }
    },
    {
      "cell_type": "code",
      "execution_count": 1,
      "metadata": {
        "id": "oZBil0TQjb4Z"
      },
      "outputs": [],
      "source": [
        "%%capture\n",
        "!pip install pyspark"
      ]
    },
    {
      "cell_type": "code",
      "source": [
        "## spark session\n",
        "from pyspark.sql import SparkSession\n",
        "spark = SparkSession.builder.appName('Missing').getOrCreate()"
      ],
      "metadata": {
        "id": "Vwm3rVurjvjB"
      },
      "execution_count": 4,
      "outputs": []
    },
    {
      "cell_type": "markdown",
      "source": [
        "# Read the Data"
      ],
      "metadata": {
        "id": "bCwesay6kItW"
      }
    },
    {
      "cell_type": "code",
      "source": [
        "## data path\n",
        "data_path= '/content/drive/MyDrive/Colab Notebooks/Deep Learning Notebooks/test1.csv'"
      ],
      "metadata": {
        "id": "kxGsL40Yj8b1"
      },
      "execution_count": 5,
      "outputs": []
    },
    {
      "cell_type": "code",
      "source": [
        "## training data\n",
        "train = spark.read.csv(data_path,\n",
        "                       header=True,\n",
        "                       inferSchema=True)"
      ],
      "metadata": {
        "id": "q-3TdWYHkKkQ"
      },
      "execution_count": 6,
      "outputs": []
    },
    {
      "cell_type": "code",
      "source": [
        "## view data\n",
        "train.show()"
      ],
      "metadata": {
        "colab": {
          "base_uri": "https://localhost:8080/"
        },
        "id": "CIVumGrnkKiQ",
        "outputId": "b9fd599a-b3e7-4515-b53c-c2745d001d6f"
      },
      "execution_count": 7,
      "outputs": [
        {
          "output_type": "stream",
          "name": "stdout",
          "text": [
            "+-------+---+----------+------+\n",
            "|   name|age|experience|salary|\n",
            "+-------+---+----------+------+\n",
            "|  Alice| 25|         3| 60000|\n",
            "|    Bob| 30|         5| 75000|\n",
            "|Charlie| 28|         4| 70000|\n",
            "|  David| 35|         8| 90000|\n",
            "|    Eve| 22|         1| 50000|\n",
            "|  Frank| 40|        12|110000|\n",
            "|  Grace| 27|         3| 65000|\n",
            "|  Helen| 32|         6| 80000|\n",
            "+-------+---+----------+------+\n",
            "\n"
          ]
        }
      ]
    },
    {
      "cell_type": "code",
      "source": [
        "## print schema\n",
        "train.printSchema()"
      ],
      "metadata": {
        "colab": {
          "base_uri": "https://localhost:8080/"
        },
        "id": "5i1hR2aBks2l",
        "outputId": "e18cac45-42b0-4c17-89c9-a9683a3a0c41"
      },
      "execution_count": 8,
      "outputs": [
        {
          "output_type": "stream",
          "name": "stdout",
          "text": [
            "root\n",
            " |-- name: string (nullable = true)\n",
            " |-- age: integer (nullable = true)\n",
            " |-- experience: integer (nullable = true)\n",
            " |-- salary: integer (nullable = true)\n",
            "\n"
          ]
        }
      ]
    },
    {
      "cell_type": "code",
      "source": [
        "## columns\n",
        "train.columns"
      ],
      "metadata": {
        "colab": {
          "base_uri": "https://localhost:8080/"
        },
        "id": "2Ng8maLOk560",
        "outputId": "ff9bcf1b-3719-4d53-fbb6-bf16d18ac64b"
      },
      "execution_count": 9,
      "outputs": [
        {
          "output_type": "execute_result",
          "data": {
            "text/plain": [
              "['name', 'age', 'experience', 'salary']"
            ]
          },
          "metadata": {},
          "execution_count": 9
        }
      ]
    },
    {
      "cell_type": "markdown",
      "source": [
        "# Machine Learning with PySpark\n",
        "* There are some different methods that are used in pyspark as compared to sklearn or other python libraries.\n",
        "* We will use the `VectorAssembler`:https://api-docs.databricks.com/python/pyspark/latest/api/pyspark.ml.feature.VectorAssembler.html\n",
        "  * What this does is group features together to create vectors.\n",
        "  * In this dataset we will use this on:\n",
        "    * `[Age, Experience]` --> these will be grouped as\n",
        "    * `[new features]` -->\n",
        "    * Which are an `independent feature`\n",
        "\n",
        "## VectorAssembler - Feature Engineering\n",
        "* VectorAssembler is a transformer that combines a given list of columns into a **single vector column.**\n",
        "  * It is very useful for combining raw features and features generated by different feature transformers into a **single feature vector**, in order to train ML models like logistic regression and decision trees.\n",
        "  * VectorAssembler accepts the following input column types:\n",
        "    * all numeric types\n",
        "    * boolean type, and\n",
        "    * vector type.\n",
        "* In each row, the values of the input columns will be concatenated into a vector in the specified order.\n",
        "* Source: https://george-jen.gitbook.io/data-science-and-apache-spark/vectorassembler"
      ],
      "metadata": {
        "id": "S9gJeClglSM3"
      }
    },
    {
      "cell_type": "code",
      "source": [
        "## load the VectorAssembler\n",
        "from pyspark.ml.feature import VectorAssembler\n",
        "\n",
        "## init assembler\n",
        "feature_assembler = VectorAssembler(inputCols=['age', 'experience'], ## input columns list to be transformed into Vectors\n",
        "                                   outputCol='Independent Features') ## new combined column"
      ],
      "metadata": {
        "id": "-uiZ4ZpwlFRh"
      },
      "execution_count": 12,
      "outputs": []
    },
    {
      "cell_type": "code",
      "source": [
        "## now apply the feature_assembler\n",
        "output = feature_assembler.transform(train)"
      ],
      "metadata": {
        "id": "BUz_tV6OnEIb"
      },
      "execution_count": 13,
      "outputs": []
    },
    {
      "cell_type": "code",
      "source": [
        "## show output\n",
        "output.show()"
      ],
      "metadata": {
        "colab": {
          "base_uri": "https://localhost:8080/"
        },
        "id": "Iw1Ch96RnKdD",
        "outputId": "c7eb0c21-48f1-47a8-c28a-13964de2be07"
      },
      "execution_count": 14,
      "outputs": [
        {
          "output_type": "stream",
          "name": "stdout",
          "text": [
            "+-------+---+----------+------+--------------------+\n",
            "|   name|age|experience|salary|Independent Features|\n",
            "+-------+---+----------+------+--------------------+\n",
            "|  Alice| 25|         3| 60000|          [25.0,3.0]|\n",
            "|    Bob| 30|         5| 75000|          [30.0,5.0]|\n",
            "|Charlie| 28|         4| 70000|          [28.0,4.0]|\n",
            "|  David| 35|         8| 90000|          [35.0,8.0]|\n",
            "|    Eve| 22|         1| 50000|          [22.0,1.0]|\n",
            "|  Frank| 40|        12|110000|         [40.0,12.0]|\n",
            "|  Grace| 27|         3| 65000|          [27.0,3.0]|\n",
            "|  Helen| 32|         6| 80000|          [32.0,6.0]|\n",
            "+-------+---+----------+------+--------------------+\n",
            "\n"
          ]
        }
      ]
    },
    {
      "cell_type": "markdown",
      "source": [
        "Summary\n",
        "* We can see the input feature will now be `age` and `experience` as 1 input vector in the new column `Independent Features`.\n",
        "* The output feature will be `salary`."
      ],
      "metadata": {
        "id": "ZfPLbenonhSB"
      }
    },
    {
      "cell_type": "code",
      "source": [
        "## output columns\n",
        "output.columns"
      ],
      "metadata": {
        "colab": {
          "base_uri": "https://localhost:8080/"
        },
        "id": "kDTKFpx9nPD0",
        "outputId": "ddf16cb7-00bc-4922-9406-81cd359e06b3"
      },
      "execution_count": 15,
      "outputs": [
        {
          "output_type": "execute_result",
          "data": {
            "text/plain": [
              "['name', 'age', 'experience', 'salary', 'Independent Features']"
            ]
          },
          "metadata": {},
          "execution_count": 15
        }
      ]
    },
    {
      "cell_type": "markdown",
      "source": [
        "## Final Feature Engineering\n",
        "* We need to create a filtered dataset with the features we want to predict on."
      ],
      "metadata": {
        "id": "EvegRee-n1fI"
      }
    },
    {
      "cell_type": "code",
      "source": [
        "## final dataset\n",
        "final_data = output.select(\"Independent Features\", \"salary\")\n",
        "\n",
        "## show final_data\n",
        "final_data.show()"
      ],
      "metadata": {
        "colab": {
          "base_uri": "https://localhost:8080/"
        },
        "id": "MjzmZb09nuvI",
        "outputId": "b901cf80-a722-4928-8ddf-5b5e9545e34b"
      },
      "execution_count": 16,
      "outputs": [
        {
          "output_type": "stream",
          "name": "stdout",
          "text": [
            "+--------------------+------+\n",
            "|Independent Features|salary|\n",
            "+--------------------+------+\n",
            "|          [25.0,3.0]| 60000|\n",
            "|          [30.0,5.0]| 75000|\n",
            "|          [28.0,4.0]| 70000|\n",
            "|          [35.0,8.0]| 90000|\n",
            "|          [22.0,1.0]| 50000|\n",
            "|         [40.0,12.0]|110000|\n",
            "|          [27.0,3.0]| 65000|\n",
            "|          [32.0,6.0]| 80000|\n",
            "+--------------------+------+\n",
            "\n"
          ]
        }
      ]
    },
    {
      "cell_type": "markdown",
      "source": [
        "# Train/Test Split\n",
        "* Similar to sklearn"
      ],
      "metadata": {
        "id": "srrgQ6ENoLv7"
      }
    },
    {
      "cell_type": "code",
      "source": [
        "from pyspark.ml.regression import LinearRegression\n",
        "\n",
        "## train/test split\n",
        "train_data, test_data = final_data.randomSplit([0.75,0.25])"
      ],
      "metadata": {
        "id": "vlIVIZvmoE-q"
      },
      "execution_count": 17,
      "outputs": []
    },
    {
      "cell_type": "markdown",
      "source": [
        "# Build Regression Model"
      ],
      "metadata": {
        "id": "um1uNLdVoa5q"
      }
    },
    {
      "cell_type": "code",
      "source": [
        "## setup regression\n",
        "regressor = LinearRegression(featuresCol='Independent Features',\n",
        "                             labelCol='salary')\n",
        "\n",
        "\n",
        "## fit model\n",
        "regressor = regressor.fit(train_data)"
      ],
      "metadata": {
        "id": "zhKK3HfGoZGk"
      },
      "execution_count": 18,
      "outputs": []
    },
    {
      "cell_type": "code",
      "source": [
        "## coefficents\n",
        "regressor.coefficients"
      ],
      "metadata": {
        "colab": {
          "base_uri": "https://localhost:8080/"
        },
        "id": "kp-pebV4o8AW",
        "outputId": "2912d687-1738-42a4-d287-8f1b9b2100bd"
      },
      "execution_count": 19,
      "outputs": [
        {
          "output_type": "execute_result",
          "data": {
            "text/plain": [
              "DenseVector([2389.9371, 1257.8616])"
            ]
          },
          "metadata": {},
          "execution_count": 19
        }
      ]
    },
    {
      "cell_type": "code",
      "source": [
        "## intercepts\n",
        "regressor.intercept"
      ],
      "metadata": {
        "colab": {
          "base_uri": "https://localhost:8080/"
        },
        "id": "dJVzj3jwpBHI",
        "outputId": "3d78fc80-1790-40e5-d7fe-b765263e024f"
      },
      "execution_count": 20,
      "outputs": [
        {
          "output_type": "execute_result",
          "data": {
            "text/plain": [
              "-3616.352201246163"
            ]
          },
          "metadata": {},
          "execution_count": 20
        }
      ]
    },
    {
      "cell_type": "markdown",
      "source": [
        "# Predictions"
      ],
      "metadata": {
        "id": "i2kuGnptpThu"
      }
    },
    {
      "cell_type": "code",
      "source": [
        "## predict on test set\n",
        "pred_results = regressor.evaluate(test_data)\n",
        "\n",
        "## show predictions\n",
        "pred_results.predictions.show()"
      ],
      "metadata": {
        "colab": {
          "base_uri": "https://localhost:8080/"
        },
        "id": "aSRPQprupL0O",
        "outputId": "814a47e9-167f-459e-b80c-576ac0cb9b56"
      },
      "execution_count": 21,
      "outputs": [
        {
          "output_type": "stream",
          "name": "stdout",
          "text": [
            "+--------------------+------+------------------+\n",
            "|Independent Features|salary|        prediction|\n",
            "+--------------------+------+------------------+\n",
            "|          [27.0,3.0]| 65000| 64685.53459119421|\n",
            "|          [28.0,4.0]| 70000| 68333.33333333312|\n",
            "|         [40.0,12.0]|110000|107075.47169811501|\n",
            "+--------------------+------+------------------+\n",
            "\n"
          ]
        }
      ]
    },
    {
      "cell_type": "code",
      "source": [
        "## other metrics\n",
        "pred_results.meanAbsoluteError, pred_results.meanSquaredError"
      ],
      "metadata": {
        "colab": {
          "base_uri": "https://localhost:8080/"
        },
        "id": "Liy5qoSQpccu",
        "outputId": "76c7a873-fa7f-4070-96ab-ba7920b948f1"
      },
      "execution_count": 22,
      "outputs": [
        {
          "output_type": "execute_result",
          "data": {
            "text/plain": [
              "(1635.2201257858833, 3809844.0198800503)"
            ]
          },
          "metadata": {},
          "execution_count": 22
        }
      ]
    },
    {
      "cell_type": "markdown",
      "source": [
        "# Summary:\n",
        "1. Coefficients: `DenseVector([2389.9371, 1257.8616])`\n",
        "* The first coefficient (2389.9371) corresponds to age.\n",
        "* The second coefficient (1257.8616) corresponds to experience.\n",
        "* This means that, on average:\n",
        "  * For each year increase in age, the salary increases by $2,389.94\n",
        "  * For each year increase in experience, the salary increases by $1,257.86\n",
        "\n",
        "2. Intercept: `-3616.352201246163`\n",
        "\n",
        "* This is the **expected salary when both age and experience are 0** (which doesn't make practical sense in this context, but it's part of the mathematical model).\n",
        "\n",
        "3. Predictions: The model seems to be predicting salaries quite close to the actual values. For example:\n",
        "\n",
        "* For age 27 and 3 years experience, it predicts $64,685.53 (actual: $65,000)\n",
        "* For age 28 and 4 years experience, it predicts $68,333.33 (actual: $70,000)\n",
        "* For age 40 and 12 years experience, it predicts $107,075.47 (actual: $110,000)\n",
        "\n",
        "4. Error Metrics:\n",
        "  * Mean Absolute Error (MAE): 1635.2201257858833\n",
        "    * On average, the model's predictions are off by about $1,635.22\n",
        "  * Mean Squared Error (MSE): 3809844.0198800503\n",
        "    * This is the average of the squared differences between predicted and actual values.\n",
        "    * The Root Mean Squared Error (RMSE) would be sqrt(MSE) ≈ $1,951.88\n",
        "\n",
        "* Interpretation:\n",
        "\n",
        "1. The model shows a **positive relationship between both age and experience with salary.***\n",
        "\n",
        "2. Age seems to have a stronger impact on salary than experience in this model.\n",
        "\n",
        "3. The predictions are reasonably close to the actual values, with an average error of about $1,635.\n",
        "\n",
        "4. The model explains some of the variation in salary, but there might be other factors influencing salary that aren't captured in this model.\n",
        "\n",
        "5. The negative intercept suggests that the model might not be suitable for very low values of age and experience.\n",
        "\n",
        "\n",
        "6. To improve the model, since this was just a dummy example, we might consider:\n",
        "\n",
        "  * Adding more relevant features if available\n",
        "  * Exploring non-linear relationships in the data\n",
        "  * Check for multi-collinearity in the features\n",
        "  * Check for feature importance (e.g. permutation feature importance)\n",
        "  * Explore feature weighting and scaling using lasso or ridge regression.\n",
        "  * Checking for and handling outliers\n",
        "  * And lastly, this was a toy example, so obviously we want to ensure we have a sufficiently large and representative dataset which we dont.\n",
        "\n"
      ],
      "metadata": {
        "id": "-kZ60KOcrDYT"
      }
    },
    {
      "cell_type": "code",
      "source": [],
      "metadata": {
        "id": "XcbDEKarpyGb"
      },
      "execution_count": null,
      "outputs": []
    }
  ]
}