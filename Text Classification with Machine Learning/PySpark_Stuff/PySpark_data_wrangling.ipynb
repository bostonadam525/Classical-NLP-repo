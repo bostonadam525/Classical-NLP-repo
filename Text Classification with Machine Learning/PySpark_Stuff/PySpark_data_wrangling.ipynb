{
  "nbformat": 4,
  "nbformat_minor": 0,
  "metadata": {
    "colab": {
      "provenance": []
    },
    "kernelspec": {
      "name": "python3",
      "display_name": "Python 3"
    },
    "language_info": {
      "name": "python"
    }
  },
  "cells": [
    {
      "cell_type": "markdown",
      "source": [
        "# PySpark Data Wrangling\n",
        "* Notebook by Adam Lang\n",
        "* Date: 12/17/24\n",
        "\n",
        "# Overview\n",
        "* This notebook goes through some basic data wrangling techniques in PySpark."
      ],
      "metadata": {
        "id": "zGd7UsmThsHU"
      }
    },
    {
      "cell_type": "code",
      "execution_count": 1,
      "metadata": {
        "colab": {
          "base_uri": "https://localhost:8080/"
        },
        "id": "WdJWFqL7hnIz",
        "outputId": "0ddc4a13-75c6-4dd9-de32-6458e27cf0c3"
      },
      "outputs": [
        {
          "output_type": "stream",
          "name": "stdout",
          "text": [
            "Requirement already satisfied: pyspark in /usr/local/lib/python3.10/dist-packages (3.5.3)\n",
            "Requirement already satisfied: py4j==0.10.9.7 in /usr/local/lib/python3.10/dist-packages (from pyspark) (0.10.9.7)\n"
          ]
        }
      ],
      "source": [
        "## install\n",
        "!pip install pyspark"
      ]
    },
    {
      "cell_type": "code",
      "source": [
        "## import\n",
        "import pyspark"
      ],
      "metadata": {
        "id": "69dHtZyqhzZf"
      },
      "execution_count": 2,
      "outputs": []
    },
    {
      "cell_type": "code",
      "source": [
        "## read spark file\n",
        "import pandas as pd\n",
        "pd.read_csv(\"/content/drive/MyDrive/Springboard_Data_Science/Big_Mountain_Case_Study/ski_resort_data.csv\")"
      ],
      "metadata": {
        "colab": {
          "base_uri": "https://localhost:8080/",
          "height": 686
        },
        "id": "sejE_q74h8YG",
        "outputId": "3bdcd921-36e8-4cd8-af44-97c9729d0660"
      },
      "execution_count": 3,
      "outputs": [
        {
          "output_type": "execute_result",
          "data": {
            "text/plain": [
              "                                  Name   Region    state  summit_elev  \\\n",
              "0                       Alyeska Resort   Alaska   Alaska         3939   \n",
              "1                  Eaglecrest Ski Area   Alaska   Alaska         2600   \n",
              "2                     Hilltop Ski Area   Alaska   Alaska         2090   \n",
              "3                     Arizona Snowbowl  Arizona  Arizona        11500   \n",
              "4                  Sunrise Park Resort  Arizona  Arizona        11100   \n",
              "..                                 ...      ...      ...          ...   \n",
              "325               Meadowlark Ski Lodge  Wyoming  Wyoming         9500   \n",
              "326          Sleeping Giant Ski Resort  Wyoming  Wyoming         7428   \n",
              "327                   Snow King Resort  Wyoming  Wyoming         7808   \n",
              "328  Snowy Range Ski & Recreation Area  Wyoming  Wyoming         9663   \n",
              "329                White Pine Ski Area  Wyoming  Wyoming         9500   \n",
              "\n",
              "     vertical_drop  base_elev  trams  fastEight  fastSixes  fastQuads  ...  \\\n",
              "0             2500        250      1        0.0          0          2  ...   \n",
              "1             1540       1200      0        0.0          0          0  ...   \n",
              "2              294       1796      0        0.0          0          0  ...   \n",
              "3             2300       9200      0        0.0          1          0  ...   \n",
              "4             1800       9200      0        NaN          0          1  ...   \n",
              "..             ...        ...    ...        ...        ...        ...  ...   \n",
              "325           1000       8500      0        NaN          0          0  ...   \n",
              "326            810       6619      0        0.0          0          0  ...   \n",
              "327           1571       6237      0        NaN          0          0  ...   \n",
              "328            990       8798      0        0.0          0          0  ...   \n",
              "329           1100       8400      0        NaN          0          0  ...   \n",
              "\n",
              "     LongestRun_mi  SkiableTerrain_ac  Snow Making_ac  daysOpenLastYear  \\\n",
              "0              1.0             1610.0           113.0             150.0   \n",
              "1              2.0              640.0            60.0              45.0   \n",
              "2              1.0               30.0            30.0             150.0   \n",
              "3              2.0              777.0           104.0             122.0   \n",
              "4              1.2              800.0            80.0             115.0   \n",
              "..             ...                ...             ...               ...   \n",
              "325            1.5              300.0             NaN               NaN   \n",
              "326            1.0              184.0            18.0              61.0   \n",
              "327            1.0              400.0           250.0             121.0   \n",
              "328            0.7               75.0            30.0             131.0   \n",
              "329            0.4              370.0             NaN               NaN   \n",
              "\n",
              "     yearsOpen  averageSnowfall  AdultWeekday  AdultWeekend  \\\n",
              "0         60.0            669.0          65.0          85.0   \n",
              "1         44.0            350.0          47.0          53.0   \n",
              "2         36.0             69.0          30.0          34.0   \n",
              "3         81.0            260.0          89.0          89.0   \n",
              "4         49.0            250.0          74.0          78.0   \n",
              "..         ...              ...           ...           ...   \n",
              "325        9.0              NaN           NaN           NaN   \n",
              "326       81.0            310.0          42.0          42.0   \n",
              "327       80.0            300.0          59.0          59.0   \n",
              "328       59.0            250.0          49.0          49.0   \n",
              "329       81.0            150.0           NaN          49.0   \n",
              "\n",
              "     projectedDaysOpen  NightSkiing_ac  \n",
              "0                150.0           550.0  \n",
              "1                 90.0             NaN  \n",
              "2                152.0            30.0  \n",
              "3                122.0             NaN  \n",
              "4                104.0            80.0  \n",
              "..                 ...             ...  \n",
              "325                NaN             NaN  \n",
              "326               77.0             NaN  \n",
              "327              123.0           110.0  \n",
              "328                NaN             NaN  \n",
              "329                NaN             NaN  \n",
              "\n",
              "[330 rows x 27 columns]"
            ],
            "text/html": [
              "\n",
              "  <div id=\"df-34cbcb22-56b7-4b1f-badc-d314b9f213b9\" class=\"colab-df-container\">\n",
              "    <div>\n",
              "<style scoped>\n",
              "    .dataframe tbody tr th:only-of-type {\n",
              "        vertical-align: middle;\n",
              "    }\n",
              "\n",
              "    .dataframe tbody tr th {\n",
              "        vertical-align: top;\n",
              "    }\n",
              "\n",
              "    .dataframe thead th {\n",
              "        text-align: right;\n",
              "    }\n",
              "</style>\n",
              "<table border=\"1\" class=\"dataframe\">\n",
              "  <thead>\n",
              "    <tr style=\"text-align: right;\">\n",
              "      <th></th>\n",
              "      <th>Name</th>\n",
              "      <th>Region</th>\n",
              "      <th>state</th>\n",
              "      <th>summit_elev</th>\n",
              "      <th>vertical_drop</th>\n",
              "      <th>base_elev</th>\n",
              "      <th>trams</th>\n",
              "      <th>fastEight</th>\n",
              "      <th>fastSixes</th>\n",
              "      <th>fastQuads</th>\n",
              "      <th>...</th>\n",
              "      <th>LongestRun_mi</th>\n",
              "      <th>SkiableTerrain_ac</th>\n",
              "      <th>Snow Making_ac</th>\n",
              "      <th>daysOpenLastYear</th>\n",
              "      <th>yearsOpen</th>\n",
              "      <th>averageSnowfall</th>\n",
              "      <th>AdultWeekday</th>\n",
              "      <th>AdultWeekend</th>\n",
              "      <th>projectedDaysOpen</th>\n",
              "      <th>NightSkiing_ac</th>\n",
              "    </tr>\n",
              "  </thead>\n",
              "  <tbody>\n",
              "    <tr>\n",
              "      <th>0</th>\n",
              "      <td>Alyeska Resort</td>\n",
              "      <td>Alaska</td>\n",
              "      <td>Alaska</td>\n",
              "      <td>3939</td>\n",
              "      <td>2500</td>\n",
              "      <td>250</td>\n",
              "      <td>1</td>\n",
              "      <td>0.0</td>\n",
              "      <td>0</td>\n",
              "      <td>2</td>\n",
              "      <td>...</td>\n",
              "      <td>1.0</td>\n",
              "      <td>1610.0</td>\n",
              "      <td>113.0</td>\n",
              "      <td>150.0</td>\n",
              "      <td>60.0</td>\n",
              "      <td>669.0</td>\n",
              "      <td>65.0</td>\n",
              "      <td>85.0</td>\n",
              "      <td>150.0</td>\n",
              "      <td>550.0</td>\n",
              "    </tr>\n",
              "    <tr>\n",
              "      <th>1</th>\n",
              "      <td>Eaglecrest Ski Area</td>\n",
              "      <td>Alaska</td>\n",
              "      <td>Alaska</td>\n",
              "      <td>2600</td>\n",
              "      <td>1540</td>\n",
              "      <td>1200</td>\n",
              "      <td>0</td>\n",
              "      <td>0.0</td>\n",
              "      <td>0</td>\n",
              "      <td>0</td>\n",
              "      <td>...</td>\n",
              "      <td>2.0</td>\n",
              "      <td>640.0</td>\n",
              "      <td>60.0</td>\n",
              "      <td>45.0</td>\n",
              "      <td>44.0</td>\n",
              "      <td>350.0</td>\n",
              "      <td>47.0</td>\n",
              "      <td>53.0</td>\n",
              "      <td>90.0</td>\n",
              "      <td>NaN</td>\n",
              "    </tr>\n",
              "    <tr>\n",
              "      <th>2</th>\n",
              "      <td>Hilltop Ski Area</td>\n",
              "      <td>Alaska</td>\n",
              "      <td>Alaska</td>\n",
              "      <td>2090</td>\n",
              "      <td>294</td>\n",
              "      <td>1796</td>\n",
              "      <td>0</td>\n",
              "      <td>0.0</td>\n",
              "      <td>0</td>\n",
              "      <td>0</td>\n",
              "      <td>...</td>\n",
              "      <td>1.0</td>\n",
              "      <td>30.0</td>\n",
              "      <td>30.0</td>\n",
              "      <td>150.0</td>\n",
              "      <td>36.0</td>\n",
              "      <td>69.0</td>\n",
              "      <td>30.0</td>\n",
              "      <td>34.0</td>\n",
              "      <td>152.0</td>\n",
              "      <td>30.0</td>\n",
              "    </tr>\n",
              "    <tr>\n",
              "      <th>3</th>\n",
              "      <td>Arizona Snowbowl</td>\n",
              "      <td>Arizona</td>\n",
              "      <td>Arizona</td>\n",
              "      <td>11500</td>\n",
              "      <td>2300</td>\n",
              "      <td>9200</td>\n",
              "      <td>0</td>\n",
              "      <td>0.0</td>\n",
              "      <td>1</td>\n",
              "      <td>0</td>\n",
              "      <td>...</td>\n",
              "      <td>2.0</td>\n",
              "      <td>777.0</td>\n",
              "      <td>104.0</td>\n",
              "      <td>122.0</td>\n",
              "      <td>81.0</td>\n",
              "      <td>260.0</td>\n",
              "      <td>89.0</td>\n",
              "      <td>89.0</td>\n",
              "      <td>122.0</td>\n",
              "      <td>NaN</td>\n",
              "    </tr>\n",
              "    <tr>\n",
              "      <th>4</th>\n",
              "      <td>Sunrise Park Resort</td>\n",
              "      <td>Arizona</td>\n",
              "      <td>Arizona</td>\n",
              "      <td>11100</td>\n",
              "      <td>1800</td>\n",
              "      <td>9200</td>\n",
              "      <td>0</td>\n",
              "      <td>NaN</td>\n",
              "      <td>0</td>\n",
              "      <td>1</td>\n",
              "      <td>...</td>\n",
              "      <td>1.2</td>\n",
              "      <td>800.0</td>\n",
              "      <td>80.0</td>\n",
              "      <td>115.0</td>\n",
              "      <td>49.0</td>\n",
              "      <td>250.0</td>\n",
              "      <td>74.0</td>\n",
              "      <td>78.0</td>\n",
              "      <td>104.0</td>\n",
              "      <td>80.0</td>\n",
              "    </tr>\n",
              "    <tr>\n",
              "      <th>...</th>\n",
              "      <td>...</td>\n",
              "      <td>...</td>\n",
              "      <td>...</td>\n",
              "      <td>...</td>\n",
              "      <td>...</td>\n",
              "      <td>...</td>\n",
              "      <td>...</td>\n",
              "      <td>...</td>\n",
              "      <td>...</td>\n",
              "      <td>...</td>\n",
              "      <td>...</td>\n",
              "      <td>...</td>\n",
              "      <td>...</td>\n",
              "      <td>...</td>\n",
              "      <td>...</td>\n",
              "      <td>...</td>\n",
              "      <td>...</td>\n",
              "      <td>...</td>\n",
              "      <td>...</td>\n",
              "      <td>...</td>\n",
              "      <td>...</td>\n",
              "    </tr>\n",
              "    <tr>\n",
              "      <th>325</th>\n",
              "      <td>Meadowlark Ski Lodge</td>\n",
              "      <td>Wyoming</td>\n",
              "      <td>Wyoming</td>\n",
              "      <td>9500</td>\n",
              "      <td>1000</td>\n",
              "      <td>8500</td>\n",
              "      <td>0</td>\n",
              "      <td>NaN</td>\n",
              "      <td>0</td>\n",
              "      <td>0</td>\n",
              "      <td>...</td>\n",
              "      <td>1.5</td>\n",
              "      <td>300.0</td>\n",
              "      <td>NaN</td>\n",
              "      <td>NaN</td>\n",
              "      <td>9.0</td>\n",
              "      <td>NaN</td>\n",
              "      <td>NaN</td>\n",
              "      <td>NaN</td>\n",
              "      <td>NaN</td>\n",
              "      <td>NaN</td>\n",
              "    </tr>\n",
              "    <tr>\n",
              "      <th>326</th>\n",
              "      <td>Sleeping Giant Ski Resort</td>\n",
              "      <td>Wyoming</td>\n",
              "      <td>Wyoming</td>\n",
              "      <td>7428</td>\n",
              "      <td>810</td>\n",
              "      <td>6619</td>\n",
              "      <td>0</td>\n",
              "      <td>0.0</td>\n",
              "      <td>0</td>\n",
              "      <td>0</td>\n",
              "      <td>...</td>\n",
              "      <td>1.0</td>\n",
              "      <td>184.0</td>\n",
              "      <td>18.0</td>\n",
              "      <td>61.0</td>\n",
              "      <td>81.0</td>\n",
              "      <td>310.0</td>\n",
              "      <td>42.0</td>\n",
              "      <td>42.0</td>\n",
              "      <td>77.0</td>\n",
              "      <td>NaN</td>\n",
              "    </tr>\n",
              "    <tr>\n",
              "      <th>327</th>\n",
              "      <td>Snow King Resort</td>\n",
              "      <td>Wyoming</td>\n",
              "      <td>Wyoming</td>\n",
              "      <td>7808</td>\n",
              "      <td>1571</td>\n",
              "      <td>6237</td>\n",
              "      <td>0</td>\n",
              "      <td>NaN</td>\n",
              "      <td>0</td>\n",
              "      <td>0</td>\n",
              "      <td>...</td>\n",
              "      <td>1.0</td>\n",
              "      <td>400.0</td>\n",
              "      <td>250.0</td>\n",
              "      <td>121.0</td>\n",
              "      <td>80.0</td>\n",
              "      <td>300.0</td>\n",
              "      <td>59.0</td>\n",
              "      <td>59.0</td>\n",
              "      <td>123.0</td>\n",
              "      <td>110.0</td>\n",
              "    </tr>\n",
              "    <tr>\n",
              "      <th>328</th>\n",
              "      <td>Snowy Range Ski &amp; Recreation Area</td>\n",
              "      <td>Wyoming</td>\n",
              "      <td>Wyoming</td>\n",
              "      <td>9663</td>\n",
              "      <td>990</td>\n",
              "      <td>8798</td>\n",
              "      <td>0</td>\n",
              "      <td>0.0</td>\n",
              "      <td>0</td>\n",
              "      <td>0</td>\n",
              "      <td>...</td>\n",
              "      <td>0.7</td>\n",
              "      <td>75.0</td>\n",
              "      <td>30.0</td>\n",
              "      <td>131.0</td>\n",
              "      <td>59.0</td>\n",
              "      <td>250.0</td>\n",
              "      <td>49.0</td>\n",
              "      <td>49.0</td>\n",
              "      <td>NaN</td>\n",
              "      <td>NaN</td>\n",
              "    </tr>\n",
              "    <tr>\n",
              "      <th>329</th>\n",
              "      <td>White Pine Ski Area</td>\n",
              "      <td>Wyoming</td>\n",
              "      <td>Wyoming</td>\n",
              "      <td>9500</td>\n",
              "      <td>1100</td>\n",
              "      <td>8400</td>\n",
              "      <td>0</td>\n",
              "      <td>NaN</td>\n",
              "      <td>0</td>\n",
              "      <td>0</td>\n",
              "      <td>...</td>\n",
              "      <td>0.4</td>\n",
              "      <td>370.0</td>\n",
              "      <td>NaN</td>\n",
              "      <td>NaN</td>\n",
              "      <td>81.0</td>\n",
              "      <td>150.0</td>\n",
              "      <td>NaN</td>\n",
              "      <td>49.0</td>\n",
              "      <td>NaN</td>\n",
              "      <td>NaN</td>\n",
              "    </tr>\n",
              "  </tbody>\n",
              "</table>\n",
              "<p>330 rows × 27 columns</p>\n",
              "</div>\n",
              "    <div class=\"colab-df-buttons\">\n",
              "\n",
              "  <div class=\"colab-df-container\">\n",
              "    <button class=\"colab-df-convert\" onclick=\"convertToInteractive('df-34cbcb22-56b7-4b1f-badc-d314b9f213b9')\"\n",
              "            title=\"Convert this dataframe to an interactive table.\"\n",
              "            style=\"display:none;\">\n",
              "\n",
              "  <svg xmlns=\"http://www.w3.org/2000/svg\" height=\"24px\" viewBox=\"0 -960 960 960\">\n",
              "    <path d=\"M120-120v-720h720v720H120Zm60-500h600v-160H180v160Zm220 220h160v-160H400v160Zm0 220h160v-160H400v160ZM180-400h160v-160H180v160Zm440 0h160v-160H620v160ZM180-180h160v-160H180v160Zm440 0h160v-160H620v160Z\"/>\n",
              "  </svg>\n",
              "    </button>\n",
              "\n",
              "  <style>\n",
              "    .colab-df-container {\n",
              "      display:flex;\n",
              "      gap: 12px;\n",
              "    }\n",
              "\n",
              "    .colab-df-convert {\n",
              "      background-color: #E8F0FE;\n",
              "      border: none;\n",
              "      border-radius: 50%;\n",
              "      cursor: pointer;\n",
              "      display: none;\n",
              "      fill: #1967D2;\n",
              "      height: 32px;\n",
              "      padding: 0 0 0 0;\n",
              "      width: 32px;\n",
              "    }\n",
              "\n",
              "    .colab-df-convert:hover {\n",
              "      background-color: #E2EBFA;\n",
              "      box-shadow: 0px 1px 2px rgba(60, 64, 67, 0.3), 0px 1px 3px 1px rgba(60, 64, 67, 0.15);\n",
              "      fill: #174EA6;\n",
              "    }\n",
              "\n",
              "    .colab-df-buttons div {\n",
              "      margin-bottom: 4px;\n",
              "    }\n",
              "\n",
              "    [theme=dark] .colab-df-convert {\n",
              "      background-color: #3B4455;\n",
              "      fill: #D2E3FC;\n",
              "    }\n",
              "\n",
              "    [theme=dark] .colab-df-convert:hover {\n",
              "      background-color: #434B5C;\n",
              "      box-shadow: 0px 1px 3px 1px rgba(0, 0, 0, 0.15);\n",
              "      filter: drop-shadow(0px 1px 2px rgba(0, 0, 0, 0.3));\n",
              "      fill: #FFFFFF;\n",
              "    }\n",
              "  </style>\n",
              "\n",
              "    <script>\n",
              "      const buttonEl =\n",
              "        document.querySelector('#df-34cbcb22-56b7-4b1f-badc-d314b9f213b9 button.colab-df-convert');\n",
              "      buttonEl.style.display =\n",
              "        google.colab.kernel.accessAllowed ? 'block' : 'none';\n",
              "\n",
              "      async function convertToInteractive(key) {\n",
              "        const element = document.querySelector('#df-34cbcb22-56b7-4b1f-badc-d314b9f213b9');\n",
              "        const dataTable =\n",
              "          await google.colab.kernel.invokeFunction('convertToInteractive',\n",
              "                                                    [key], {});\n",
              "        if (!dataTable) return;\n",
              "\n",
              "        const docLinkHtml = 'Like what you see? Visit the ' +\n",
              "          '<a target=\"_blank\" href=https://colab.research.google.com/notebooks/data_table.ipynb>data table notebook</a>'\n",
              "          + ' to learn more about interactive tables.';\n",
              "        element.innerHTML = '';\n",
              "        dataTable['output_type'] = 'display_data';\n",
              "        await google.colab.output.renderOutput(dataTable, element);\n",
              "        const docLink = document.createElement('div');\n",
              "        docLink.innerHTML = docLinkHtml;\n",
              "        element.appendChild(docLink);\n",
              "      }\n",
              "    </script>\n",
              "  </div>\n",
              "\n",
              "\n",
              "<div id=\"df-e84b86e7-94ad-48e7-825f-e7b652f74c0d\">\n",
              "  <button class=\"colab-df-quickchart\" onclick=\"quickchart('df-e84b86e7-94ad-48e7-825f-e7b652f74c0d')\"\n",
              "            title=\"Suggest charts\"\n",
              "            style=\"display:none;\">\n",
              "\n",
              "<svg xmlns=\"http://www.w3.org/2000/svg\" height=\"24px\"viewBox=\"0 0 24 24\"\n",
              "     width=\"24px\">\n",
              "    <g>\n",
              "        <path d=\"M19 3H5c-1.1 0-2 .9-2 2v14c0 1.1.9 2 2 2h14c1.1 0 2-.9 2-2V5c0-1.1-.9-2-2-2zM9 17H7v-7h2v7zm4 0h-2V7h2v10zm4 0h-2v-4h2v4z\"/>\n",
              "    </g>\n",
              "</svg>\n",
              "  </button>\n",
              "\n",
              "<style>\n",
              "  .colab-df-quickchart {\n",
              "      --bg-color: #E8F0FE;\n",
              "      --fill-color: #1967D2;\n",
              "      --hover-bg-color: #E2EBFA;\n",
              "      --hover-fill-color: #174EA6;\n",
              "      --disabled-fill-color: #AAA;\n",
              "      --disabled-bg-color: #DDD;\n",
              "  }\n",
              "\n",
              "  [theme=dark] .colab-df-quickchart {\n",
              "      --bg-color: #3B4455;\n",
              "      --fill-color: #D2E3FC;\n",
              "      --hover-bg-color: #434B5C;\n",
              "      --hover-fill-color: #FFFFFF;\n",
              "      --disabled-bg-color: #3B4455;\n",
              "      --disabled-fill-color: #666;\n",
              "  }\n",
              "\n",
              "  .colab-df-quickchart {\n",
              "    background-color: var(--bg-color);\n",
              "    border: none;\n",
              "    border-radius: 50%;\n",
              "    cursor: pointer;\n",
              "    display: none;\n",
              "    fill: var(--fill-color);\n",
              "    height: 32px;\n",
              "    padding: 0;\n",
              "    width: 32px;\n",
              "  }\n",
              "\n",
              "  .colab-df-quickchart:hover {\n",
              "    background-color: var(--hover-bg-color);\n",
              "    box-shadow: 0 1px 2px rgba(60, 64, 67, 0.3), 0 1px 3px 1px rgba(60, 64, 67, 0.15);\n",
              "    fill: var(--button-hover-fill-color);\n",
              "  }\n",
              "\n",
              "  .colab-df-quickchart-complete:disabled,\n",
              "  .colab-df-quickchart-complete:disabled:hover {\n",
              "    background-color: var(--disabled-bg-color);\n",
              "    fill: var(--disabled-fill-color);\n",
              "    box-shadow: none;\n",
              "  }\n",
              "\n",
              "  .colab-df-spinner {\n",
              "    border: 2px solid var(--fill-color);\n",
              "    border-color: transparent;\n",
              "    border-bottom-color: var(--fill-color);\n",
              "    animation:\n",
              "      spin 1s steps(1) infinite;\n",
              "  }\n",
              "\n",
              "  @keyframes spin {\n",
              "    0% {\n",
              "      border-color: transparent;\n",
              "      border-bottom-color: var(--fill-color);\n",
              "      border-left-color: var(--fill-color);\n",
              "    }\n",
              "    20% {\n",
              "      border-color: transparent;\n",
              "      border-left-color: var(--fill-color);\n",
              "      border-top-color: var(--fill-color);\n",
              "    }\n",
              "    30% {\n",
              "      border-color: transparent;\n",
              "      border-left-color: var(--fill-color);\n",
              "      border-top-color: var(--fill-color);\n",
              "      border-right-color: var(--fill-color);\n",
              "    }\n",
              "    40% {\n",
              "      border-color: transparent;\n",
              "      border-right-color: var(--fill-color);\n",
              "      border-top-color: var(--fill-color);\n",
              "    }\n",
              "    60% {\n",
              "      border-color: transparent;\n",
              "      border-right-color: var(--fill-color);\n",
              "    }\n",
              "    80% {\n",
              "      border-color: transparent;\n",
              "      border-right-color: var(--fill-color);\n",
              "      border-bottom-color: var(--fill-color);\n",
              "    }\n",
              "    90% {\n",
              "      border-color: transparent;\n",
              "      border-bottom-color: var(--fill-color);\n",
              "    }\n",
              "  }\n",
              "</style>\n",
              "\n",
              "  <script>\n",
              "    async function quickchart(key) {\n",
              "      const quickchartButtonEl =\n",
              "        document.querySelector('#' + key + ' button');\n",
              "      quickchartButtonEl.disabled = true;  // To prevent multiple clicks.\n",
              "      quickchartButtonEl.classList.add('colab-df-spinner');\n",
              "      try {\n",
              "        const charts = await google.colab.kernel.invokeFunction(\n",
              "            'suggestCharts', [key], {});\n",
              "      } catch (error) {\n",
              "        console.error('Error during call to suggestCharts:', error);\n",
              "      }\n",
              "      quickchartButtonEl.classList.remove('colab-df-spinner');\n",
              "      quickchartButtonEl.classList.add('colab-df-quickchart-complete');\n",
              "    }\n",
              "    (() => {\n",
              "      let quickchartButtonEl =\n",
              "        document.querySelector('#df-e84b86e7-94ad-48e7-825f-e7b652f74c0d button');\n",
              "      quickchartButtonEl.style.display =\n",
              "        google.colab.kernel.accessAllowed ? 'block' : 'none';\n",
              "    })();\n",
              "  </script>\n",
              "</div>\n",
              "\n",
              "    </div>\n",
              "  </div>\n"
            ],
            "application/vnd.google.colaboratory.intrinsic+json": {
              "type": "dataframe"
            }
          },
          "metadata": {},
          "execution_count": 3
        }
      ]
    },
    {
      "cell_type": "markdown",
      "source": [
        "# Create Spark Session"
      ],
      "metadata": {
        "id": "uUd7K98ai-2C"
      }
    },
    {
      "cell_type": "code",
      "source": [
        "from pyspark.sql import SparkSession"
      ],
      "metadata": {
        "id": "9dB3QqSji7UV"
      },
      "execution_count": 4,
      "outputs": []
    },
    {
      "cell_type": "code",
      "source": [
        "## init spark session\n",
        "spark = SparkSession.builder.appName('Experiment').getOrCreate()"
      ],
      "metadata": {
        "id": "4_isapomjDH-"
      },
      "execution_count": 5,
      "outputs": []
    },
    {
      "cell_type": "code",
      "source": [
        "## view spark session\n",
        "spark"
      ],
      "metadata": {
        "colab": {
          "base_uri": "https://localhost:8080/",
          "height": 219
        },
        "id": "xSTQ8RavjLS-",
        "outputId": "f9caca34-8c98-4575-ba39-734cea5f89f0"
      },
      "execution_count": 6,
      "outputs": [
        {
          "output_type": "execute_result",
          "data": {
            "text/plain": [
              "<pyspark.sql.session.SparkSession at 0x7cefaec7ec20>"
            ],
            "text/html": [
              "\n",
              "            <div>\n",
              "                <p><b>SparkSession - in-memory</b></p>\n",
              "                \n",
              "        <div>\n",
              "            <p><b>SparkContext</b></p>\n",
              "\n",
              "            <p><a href=\"http://69fda046218f:4040\">Spark UI</a></p>\n",
              "\n",
              "            <dl>\n",
              "              <dt>Version</dt>\n",
              "                <dd><code>v3.5.3</code></dd>\n",
              "              <dt>Master</dt>\n",
              "                <dd><code>local[*]</code></dd>\n",
              "              <dt>AppName</dt>\n",
              "                <dd><code>Experiment</code></dd>\n",
              "            </dl>\n",
              "        </div>\n",
              "        \n",
              "            </div>\n",
              "        "
            ]
          },
          "metadata": {},
          "execution_count": 6
        }
      ]
    },
    {
      "cell_type": "markdown",
      "source": [
        "# Read Spark CSV"
      ],
      "metadata": {
        "id": "9KxFKwFSjeSb"
      }
    },
    {
      "cell_type": "code",
      "source": [
        "## create pyspark df\n",
        "df_pyspark = spark.read.csv('/content/drive/MyDrive/Springboard_Data_Science/Big_Mountain_Case_Study/ski_resort_data.csv')"
      ],
      "metadata": {
        "id": "DSjuA1ujjQZ4"
      },
      "execution_count": 7,
      "outputs": []
    },
    {
      "cell_type": "code",
      "source": [
        "## view pyspark df\n",
        "df_pyspark"
      ],
      "metadata": {
        "colab": {
          "base_uri": "https://localhost:8080/"
        },
        "id": "mWOgvoOHjsAV",
        "outputId": "9fba662a-e3b2-40ca-a0e1-dbc8a2b96dd8"
      },
      "execution_count": 8,
      "outputs": [
        {
          "output_type": "execute_result",
          "data": {
            "text/plain": [
              "DataFrame[_c0: string, _c1: string, _c2: string, _c3: string, _c4: string, _c5: string, _c6: string, _c7: string, _c8: string, _c9: string, _c10: string, _c11: string, _c12: string, _c13: string, _c14: string, _c15: string, _c16: string, _c17: string, _c18: string, _c19: string, _c20: string, _c21: string, _c22: string, _c23: string, _c24: string, _c25: string, _c26: string]"
            ]
          },
          "metadata": {},
          "execution_count": 8
        }
      ]
    },
    {
      "cell_type": "markdown",
      "source": [
        "Summary\n",
        "* PySpark assigned `_c1` etc. as the column labels. It does this by default. We can fix this"
      ],
      "metadata": {
        "id": "_aFabWz0j-qW"
      }
    },
    {
      "cell_type": "code",
      "source": [
        "## if we use header=True, inferSchema=True\n",
        "df_pyspark = spark.read.csv('/content/drive/MyDrive/Springboard_Data_Science/Big_Mountain_Case_Study/ski_resort_data.csv',\n",
        "                            header=True,\n",
        "                            inferSchema=True)"
      ],
      "metadata": {
        "id": "sd_c-7WfkE1z"
      },
      "execution_count": 9,
      "outputs": []
    },
    {
      "cell_type": "code",
      "source": [
        "df_pyspark.show()"
      ],
      "metadata": {
        "colab": {
          "base_uri": "https://localhost:8080/"
        },
        "id": "TSo3zn4fkyaE",
        "outputId": "6d89541e-155e-46ff-ae53-dd70b17c11b5"
      },
      "execution_count": 10,
      "outputs": [
        {
          "output_type": "stream",
          "name": "stdout",
          "text": [
            "+--------------------+-------------------+----------+-----------+-------------+---------+-----+---------+---------+---------+----+------+------+-------+------------+----+------------+-------------+-----------------+--------------+----------------+---------+---------------+------------+------------+-----------------+--------------+\n",
            "|                Name|             Region|     state|summit_elev|vertical_drop|base_elev|trams|fastEight|fastSixes|fastQuads|quad|triple|double|surface|total_chairs|Runs|TerrainParks|LongestRun_mi|SkiableTerrain_ac|Snow Making_ac|daysOpenLastYear|yearsOpen|averageSnowfall|AdultWeekday|AdultWeekend|projectedDaysOpen|NightSkiing_ac|\n",
            "+--------------------+-------------------+----------+-----------+-------------+---------+-----+---------+---------+---------+----+------+------+-------+------------+----+------------+-------------+-----------------+--------------+----------------+---------+---------------+------------+------------+-----------------+--------------+\n",
            "|      Alyeska Resort|             Alaska|    Alaska|       3939|         2500|      250|    1|        0|        0|        2|   2|     0|     0|      2|           7|  76|           2|          1.0|             1610|           113|             150|       60|            669|        65.0|        85.0|              150|           550|\n",
            "| Eaglecrest Ski Area|             Alaska|    Alaska|       2600|         1540|     1200|    0|        0|        0|        0|   0|     0|     4|      0|           4|  36|           1|          2.0|              640|            60|              45|       44|            350|        47.0|        53.0|               90|          NULL|\n",
            "|    Hilltop Ski Area|             Alaska|    Alaska|       2090|          294|     1796|    0|        0|        0|        0|   0|     1|     0|      2|           3|  13|           1|          1.0|               30|            30|             150|       36|             69|        30.0|        34.0|              152|            30|\n",
            "|    Arizona Snowbowl|            Arizona|   Arizona|      11500|         2300|     9200|    0|        0|        1|        0|   2|     2|     1|      2|           8|  55|           4|          2.0|              777|           104|             122|       81|            260|        89.0|        89.0|              122|          NULL|\n",
            "| Sunrise Park Resort|            Arizona|   Arizona|      11100|         1800|     9200|    0|     NULL|        0|        1|   2|     3|     1|      0|           7|  65|           2|          1.2|              800|            80|             115|       49|            250|        74.0|        78.0|              104|            80|\n",
            "|Yosemite Ski & Sn...|Northern California|California|       7800|          600|     7200|    0|        0|        0|        0|   0|     1|     3|      1|           5|  10|           2|          0.4|               88|          NULL|             110|       84|            300|        47.0|        47.0|              107|          NULL|\n",
            "|       Bear Mountain|      Sierra Nevada|California|       8805|         1665|     7140|    0|        0|        0|        2|   1|     2|     3|      4|          12|  27|          14|          1.5|              198|           198|             122|       76|            100|        NULL|        NULL|              130|          NULL|\n",
            "|         Bear Valley|      Sierra Nevada|California|       8500|         1900|     6600|    0|        0|        1|        1|   0|     2|     4|      2|          10|  67|           2|          1.2|             1680|           100|             165|       52|            359|        NULL|        NULL|              151|          NULL|\n",
            "|Boreal Mountain R...|      Sierra Nevada|California|       7700|          500|     7200|    0|        0|        0|        1|   1|     3|     1|      2|           8|  33|           6|          1.0|              380|           200|             150|       54|            400|        49.0|        NULL|              150|           200|\n",
            "|         Dodge Ridge|      Sierra Nevada|California|       8200|         1600|     6600|    0|        0|        0|        0|   1|     2|     5|      4|          12|  67|           5|          2.0|              862|          NULL|            NULL|       69|            350|        78.0|        78.0|              140|          NULL|\n",
            "|    Donner Ski Ranch|      Sierra Nevada|California|       8012|          750|     7031|    0|        0|        0|        0|   0|     1|     5|      2|           8|  52|           2|          1.5|              505|            60|             163|       82|            400|        75.0|        75.0|              170|          NULL|\n",
            "|Heavenly Mountain...|      Sierra Nevada|California|      10067|         3500|     7170|    2|        0|        2|        7|   1|     5|     3|      8|          28|  97|           3|          5.5|             4800|          3379|             155|       64|            360|        NULL|        NULL|              157|          NULL|\n",
            "|       June Mountain|      Sierra Nevada|California|      10090|         2590|     7545|    0|     NULL|        0|        2|   0|     0|     4|      1|           7|  41|           2|          2.0|             1500|          NULL|            NULL|       58|            250|        NULL|        NULL|              128|          NULL|\n",
            "|            Kirkwood|      Sierra Nevada|California|       9800|         2000|     7800|    0|        0|        0|        2|   1|     5|     1|      3|          12|  85|           2|          2.5|             2300|           200|             200|       47|            354|        NULL|        NULL|              167|          NULL|\n",
            "|Mammoth Mountain ...|      Sierra Nevada|California|      11053|         3100|     7953|    3|        0|        2|        9|   1|     6|     4|      0|          25| 154|           7|          3.0|             3500|           700|             243|       66|            400|       149.0|       159.0|             NULL|          NULL|\n",
            "| Mt. Shasta Ski Park|      Sierra Nevada|California|       6890|         1435|     5500|    0|     NULL|        0|        0|   0|     3|     0|      1|           4|  32|           2|          1.1|              425|           225|             140|       34|            300|        49.0|        59.0|              130|          NULL|\n",
            "|       Mountain High|      Sierra Nevada|California|       8200|         1600|     6600|    0|     NULL|        0|        2|   2|     2|     5|      3|          14|  59|           1|          1.6|              290|           275|             118|       95|            108|        84.0|        84.0|              150|            73|\n",
            "|           Mt. Baldy|      Sierra Nevada|California|       8600|         2100|     6500|    0|     NULL|        0|        0|   0|     0|     4|      0|           4|  26|        NULL|          2.5|              400|            80|             175|       67|            178|        69.0|        69.0|              200|          NULL|\n",
            "|Northstar California|      Sierra Nevada|California|       8610|         2280|     6330|    2|        0|        1|        7|   1|     2|     0|      7|          20| 100|           9|          1.4|             3170|          1500|             135|       47|            350|        NULL|        NULL|              150|          NULL|\n",
            "|     Sierra-at-Tahoe|      Sierra Nevada|California|       8852|         2212|     6640|    0|     NULL|        0|        3|   0|     1|     5|      5|          14|  46|           6|          2.5|             2000|           200|             160|       73|            460|        99.0|        NULL|              144|          NULL|\n",
            "+--------------------+-------------------+----------+-----------+-------------+---------+-----+---------+---------+---------+----+------+------+-------+------------+----+------------+-------------+-----------------+--------------+----------------+---------+---------------+------------+------------+-----------------+--------------+\n",
            "only showing top 20 rows\n",
            "\n"
          ]
        }
      ]
    },
    {
      "cell_type": "code",
      "source": [
        "#dtype\n",
        "type(df_pyspark)"
      ],
      "metadata": {
        "colab": {
          "base_uri": "https://localhost:8080/",
          "height": 187
        },
        "id": "lslOE6SQkzg6",
        "outputId": "7512011d-1847-4c4d-f17a-36f1114606fd"
      },
      "execution_count": 11,
      "outputs": [
        {
          "output_type": "execute_result",
          "data": {
            "text/plain": [
              "pyspark.sql.dataframe.DataFrame"
            ],
            "text/html": [
              "<div style=\"max-width:800px; border: 1px solid var(--colab-border-color);\"><style>\n",
              "      pre.function-repr-contents {\n",
              "        overflow-x: auto;\n",
              "        padding: 8px 12px;\n",
              "        max-height: 500px;\n",
              "      }\n",
              "\n",
              "      pre.function-repr-contents.function-repr-contents-collapsed {\n",
              "        cursor: pointer;\n",
              "        max-height: 100px;\n",
              "      }\n",
              "    </style>\n",
              "    <pre style=\"white-space: initial; background:\n",
              "         var(--colab-secondary-surface-color); padding: 8px 12px;\n",
              "         border-bottom: 1px solid var(--colab-border-color);\"><b>pyspark.sql.dataframe.DataFrame</b><br/>def __init__(jdf: JavaObject, sql_ctx: Union[&#x27;SQLContext&#x27;, &#x27;SparkSession&#x27;])</pre><pre class=\"function-repr-contents function-repr-contents-collapsed\" style=\"\"><a class=\"filepath\" style=\"display:none\" href=\"#\">/usr/local/lib/python3.10/dist-packages/pyspark/sql/dataframe.py</a>A distributed collection of data grouped into named columns.\n",
              "\n",
              ".. versionadded:: 1.3.0\n",
              "\n",
              ".. versionchanged:: 3.4.0\n",
              "    Supports Spark Connect.\n",
              "\n",
              "Examples\n",
              "--------\n",
              "A :class:`DataFrame` is equivalent to a relational table in Spark SQL,\n",
              "and can be created using various functions in :class:`SparkSession`:\n",
              "\n",
              "&gt;&gt;&gt; people = spark.createDataFrame([\n",
              "...     {&quot;deptId&quot;: 1, &quot;age&quot;: 40, &quot;name&quot;: &quot;Hyukjin Kwon&quot;, &quot;gender&quot;: &quot;M&quot;, &quot;salary&quot;: 50},\n",
              "...     {&quot;deptId&quot;: 1, &quot;age&quot;: 50, &quot;name&quot;: &quot;Takuya Ueshin&quot;, &quot;gender&quot;: &quot;M&quot;, &quot;salary&quot;: 100},\n",
              "...     {&quot;deptId&quot;: 2, &quot;age&quot;: 60, &quot;name&quot;: &quot;Xinrong Meng&quot;, &quot;gender&quot;: &quot;F&quot;, &quot;salary&quot;: 150},\n",
              "...     {&quot;deptId&quot;: 3, &quot;age&quot;: 20, &quot;name&quot;: &quot;Haejoon Lee&quot;, &quot;gender&quot;: &quot;M&quot;, &quot;salary&quot;: 200}\n",
              "... ])\n",
              "\n",
              "Once created, it can be manipulated using the various domain-specific-language\n",
              "(DSL) functions defined in: :class:`DataFrame`, :class:`Column`.\n",
              "\n",
              "To select a column from the :class:`DataFrame`, use the apply method:\n",
              "\n",
              "&gt;&gt;&gt; age_col = people.age\n",
              "\n",
              "A more concrete example:\n",
              "\n",
              "&gt;&gt;&gt; # To create DataFrame using SparkSession\n",
              "... department = spark.createDataFrame([\n",
              "...     {&quot;id&quot;: 1, &quot;name&quot;: &quot;PySpark&quot;},\n",
              "...     {&quot;id&quot;: 2, &quot;name&quot;: &quot;ML&quot;},\n",
              "...     {&quot;id&quot;: 3, &quot;name&quot;: &quot;Spark SQL&quot;}\n",
              "... ])\n",
              "\n",
              "&gt;&gt;&gt; people.filter(people.age &gt; 30).join(\n",
              "...     department, people.deptId == department.id).groupBy(\n",
              "...     department.name, &quot;gender&quot;).agg({&quot;salary&quot;: &quot;avg&quot;, &quot;age&quot;: &quot;max&quot;}).show()\n",
              "+-------+------+-----------+--------+\n",
              "|   name|gender|avg(salary)|max(age)|\n",
              "+-------+------+-----------+--------+\n",
              "|     ML|     F|      150.0|      60|\n",
              "|PySpark|     M|       75.0|      50|\n",
              "+-------+------+-----------+--------+\n",
              "\n",
              "Notes\n",
              "-----\n",
              "A DataFrame should only be created as described above. It should not be directly\n",
              "created via using the constructor.</pre>\n",
              "      <script>\n",
              "      if (google.colab.kernel.accessAllowed && google.colab.files && google.colab.files.view) {\n",
              "        for (const element of document.querySelectorAll('.filepath')) {\n",
              "          element.style.display = 'block'\n",
              "          element.onclick = (event) => {\n",
              "            event.preventDefault();\n",
              "            event.stopPropagation();\n",
              "            google.colab.files.view(element.textContent, 80);\n",
              "          };\n",
              "        }\n",
              "      }\n",
              "      for (const element of document.querySelectorAll('.function-repr-contents')) {\n",
              "        element.onclick = (event) => {\n",
              "          event.preventDefault();\n",
              "          event.stopPropagation();\n",
              "          element.classList.toggle('function-repr-contents-collapsed');\n",
              "        };\n",
              "      }\n",
              "      </script>\n",
              "      </div>"
            ]
          },
          "metadata": {},
          "execution_count": 11
        }
      ]
    },
    {
      "cell_type": "code",
      "source": [
        "## head function in pyspark\n",
        "df_pyspark.head(3)"
      ],
      "metadata": {
        "colab": {
          "base_uri": "https://localhost:8080/"
        },
        "id": "nuqC70M4lA7c",
        "outputId": "e4ec536e-a2ea-4c6a-ee13-b5b1072416b5"
      },
      "execution_count": 12,
      "outputs": [
        {
          "output_type": "execute_result",
          "data": {
            "text/plain": [
              "[Row(Name='Alyeska Resort', Region='Alaska', state='Alaska', summit_elev=3939, vertical_drop=2500, base_elev=250, trams=1, fastEight=0, fastSixes=0, fastQuads=2, quad=2, triple=0, double=0, surface=2, total_chairs=7, Runs=76, TerrainParks=2, LongestRun_mi=1.0, SkiableTerrain_ac=1610, Snow Making_ac=113, daysOpenLastYear=150, yearsOpen=60, averageSnowfall=669, AdultWeekday=65.0, AdultWeekend=85.0, projectedDaysOpen=150, NightSkiing_ac=550),\n",
              " Row(Name='Eaglecrest Ski Area', Region='Alaska', state='Alaska', summit_elev=2600, vertical_drop=1540, base_elev=1200, trams=0, fastEight=0, fastSixes=0, fastQuads=0, quad=0, triple=0, double=4, surface=0, total_chairs=4, Runs=36, TerrainParks=1, LongestRun_mi=2.0, SkiableTerrain_ac=640, Snow Making_ac=60, daysOpenLastYear=45, yearsOpen=44, averageSnowfall=350, AdultWeekday=47.0, AdultWeekend=53.0, projectedDaysOpen=90, NightSkiing_ac=None),\n",
              " Row(Name='Hilltop Ski Area', Region='Alaska', state='Alaska', summit_elev=2090, vertical_drop=294, base_elev=1796, trams=0, fastEight=0, fastSixes=0, fastQuads=0, quad=0, triple=1, double=0, surface=2, total_chairs=3, Runs=13, TerrainParks=1, LongestRun_mi=1.0, SkiableTerrain_ac=30, Snow Making_ac=30, daysOpenLastYear=150, yearsOpen=36, averageSnowfall=69, AdultWeekday=30.0, AdultWeekend=34.0, projectedDaysOpen=152, NightSkiing_ac=30)]"
            ]
          },
          "metadata": {},
          "execution_count": 12
        }
      ]
    },
    {
      "cell_type": "code",
      "source": [
        "## column info --> same as df.info()\n",
        "df_pyspark.printSchema()"
      ],
      "metadata": {
        "colab": {
          "base_uri": "https://localhost:8080/"
        },
        "id": "W7-W0rEylJSq",
        "outputId": "f46bd699-9a11-4563-9e6b-4a68f749db86"
      },
      "execution_count": 13,
      "outputs": [
        {
          "output_type": "stream",
          "name": "stdout",
          "text": [
            "root\n",
            " |-- Name: string (nullable = true)\n",
            " |-- Region: string (nullable = true)\n",
            " |-- state: string (nullable = true)\n",
            " |-- summit_elev: integer (nullable = true)\n",
            " |-- vertical_drop: integer (nullable = true)\n",
            " |-- base_elev: integer (nullable = true)\n",
            " |-- trams: integer (nullable = true)\n",
            " |-- fastEight: integer (nullable = true)\n",
            " |-- fastSixes: integer (nullable = true)\n",
            " |-- fastQuads: integer (nullable = true)\n",
            " |-- quad: integer (nullable = true)\n",
            " |-- triple: integer (nullable = true)\n",
            " |-- double: integer (nullable = true)\n",
            " |-- surface: integer (nullable = true)\n",
            " |-- total_chairs: integer (nullable = true)\n",
            " |-- Runs: integer (nullable = true)\n",
            " |-- TerrainParks: integer (nullable = true)\n",
            " |-- LongestRun_mi: double (nullable = true)\n",
            " |-- SkiableTerrain_ac: integer (nullable = true)\n",
            " |-- Snow Making_ac: integer (nullable = true)\n",
            " |-- daysOpenLastYear: integer (nullable = true)\n",
            " |-- yearsOpen: integer (nullable = true)\n",
            " |-- averageSnowfall: integer (nullable = true)\n",
            " |-- AdultWeekday: double (nullable = true)\n",
            " |-- AdultWeekend: double (nullable = true)\n",
            " |-- projectedDaysOpen: integer (nullable = true)\n",
            " |-- NightSkiing_ac: integer (nullable = true)\n",
            "\n"
          ]
        }
      ]
    },
    {
      "cell_type": "markdown",
      "source": [
        "# Diving Deeper into PySpark Wrangling\n",
        "* Here we will go nuts and bolts of pyspark."
      ],
      "metadata": {
        "id": "WT2u0DYylnbc"
      }
    },
    {
      "cell_type": "markdown",
      "source": [
        "## Create pyspark session"
      ],
      "metadata": {
        "id": "vntJEA8Kl8Cn"
      }
    },
    {
      "cell_type": "code",
      "source": [
        "from pyspark.sql import SparkSession"
      ],
      "metadata": {
        "id": "Rnqx5FX_lPe7"
      },
      "execution_count": 14,
      "outputs": []
    },
    {
      "cell_type": "code",
      "source": [
        "## init session\n",
        "spark = SparkSession.builder.appName('Dataframe').getOrCreate()"
      ],
      "metadata": {
        "id": "Xmq2jvN2mCdz"
      },
      "execution_count": 15,
      "outputs": []
    },
    {
      "cell_type": "code",
      "source": [
        "## view spark session\n",
        "spark"
      ],
      "metadata": {
        "colab": {
          "base_uri": "https://localhost:8080/",
          "height": 219
        },
        "id": "lgAU4L6wmL3G",
        "outputId": "1e85a0f9-b738-4bea-b999-f322a87099e8"
      },
      "execution_count": 16,
      "outputs": [
        {
          "output_type": "execute_result",
          "data": {
            "text/plain": [
              "<pyspark.sql.session.SparkSession at 0x7cefaec7ec20>"
            ],
            "text/html": [
              "\n",
              "            <div>\n",
              "                <p><b>SparkSession - in-memory</b></p>\n",
              "                \n",
              "        <div>\n",
              "            <p><b>SparkContext</b></p>\n",
              "\n",
              "            <p><a href=\"http://69fda046218f:4040\">Spark UI</a></p>\n",
              "\n",
              "            <dl>\n",
              "              <dt>Version</dt>\n",
              "                <dd><code>v3.5.3</code></dd>\n",
              "              <dt>Master</dt>\n",
              "                <dd><code>local[*]</code></dd>\n",
              "              <dt>AppName</dt>\n",
              "                <dd><code>Experiment</code></dd>\n",
              "            </dl>\n",
              "        </div>\n",
              "        \n",
              "            </div>\n",
              "        "
            ]
          },
          "metadata": {},
          "execution_count": 16
        }
      ]
    },
    {
      "cell_type": "markdown",
      "source": [
        "# Multiple ways to read a pyspark dataset\n",
        "* If you dont set `inferSchema=True` it will by default infer all datatypes are strings."
      ],
      "metadata": {
        "id": "SIcq357LXZF3"
      }
    },
    {
      "cell_type": "markdown",
      "source": [
        "## Method 1 - `spark.read.option`"
      ],
      "metadata": {
        "id": "CY5-6k-LYS6r"
      }
    },
    {
      "cell_type": "code",
      "source": [
        "## read the dataset --> add .show() to see the df head\n",
        "df_pyspark = spark.read.option(\"header\",\"true\").csv('/content/drive/MyDrive/Springboard_Data_Science/Big_Mountain_Case_Study/ski_resort_data.csv',\n",
        "                                                    inferSchema=True)"
      ],
      "metadata": {
        "id": "iQrXwkRomNyx"
      },
      "execution_count": 17,
      "outputs": []
    },
    {
      "cell_type": "code",
      "source": [
        "## verify schema\n",
        "df_pyspark.printSchema()"
      ],
      "metadata": {
        "colab": {
          "base_uri": "https://localhost:8080/"
        },
        "id": "cIBE2b0cXl52",
        "outputId": "5d37b657-d944-4824-d73d-1464256d812d"
      },
      "execution_count": 18,
      "outputs": [
        {
          "output_type": "stream",
          "name": "stdout",
          "text": [
            "root\n",
            " |-- Name: string (nullable = true)\n",
            " |-- Region: string (nullable = true)\n",
            " |-- state: string (nullable = true)\n",
            " |-- summit_elev: integer (nullable = true)\n",
            " |-- vertical_drop: integer (nullable = true)\n",
            " |-- base_elev: integer (nullable = true)\n",
            " |-- trams: integer (nullable = true)\n",
            " |-- fastEight: integer (nullable = true)\n",
            " |-- fastSixes: integer (nullable = true)\n",
            " |-- fastQuads: integer (nullable = true)\n",
            " |-- quad: integer (nullable = true)\n",
            " |-- triple: integer (nullable = true)\n",
            " |-- double: integer (nullable = true)\n",
            " |-- surface: integer (nullable = true)\n",
            " |-- total_chairs: integer (nullable = true)\n",
            " |-- Runs: integer (nullable = true)\n",
            " |-- TerrainParks: integer (nullable = true)\n",
            " |-- LongestRun_mi: double (nullable = true)\n",
            " |-- SkiableTerrain_ac: integer (nullable = true)\n",
            " |-- Snow Making_ac: integer (nullable = true)\n",
            " |-- daysOpenLastYear: integer (nullable = true)\n",
            " |-- yearsOpen: integer (nullable = true)\n",
            " |-- averageSnowfall: integer (nullable = true)\n",
            " |-- AdultWeekday: double (nullable = true)\n",
            " |-- AdultWeekend: double (nullable = true)\n",
            " |-- projectedDaysOpen: integer (nullable = true)\n",
            " |-- NightSkiing_ac: integer (nullable = true)\n",
            "\n"
          ]
        }
      ]
    },
    {
      "cell_type": "markdown",
      "source": [
        "## Method 2 - `spark.read.csv`"
      ],
      "metadata": {
        "id": "tpY1QPieYWiO"
      }
    },
    {
      "cell_type": "code",
      "source": [
        "df_pyspark = spark.read.csv('/content/drive/MyDrive/Springboard_Data_Science/Big_Mountain_Case_Study/ski_resort_data.csv',\n",
        "                            header=True,\n",
        "                            inferSchema=True)\n",
        "# show data\n",
        "df_pyspark.show()"
      ],
      "metadata": {
        "colab": {
          "base_uri": "https://localhost:8080/"
        },
        "id": "oTw_RDX2X00r",
        "outputId": "baf7d069-9223-4a10-e898-69551ba1b51b"
      },
      "execution_count": 19,
      "outputs": [
        {
          "output_type": "stream",
          "name": "stdout",
          "text": [
            "+--------------------+-------------------+----------+-----------+-------------+---------+-----+---------+---------+---------+----+------+------+-------+------------+----+------------+-------------+-----------------+--------------+----------------+---------+---------------+------------+------------+-----------------+--------------+\n",
            "|                Name|             Region|     state|summit_elev|vertical_drop|base_elev|trams|fastEight|fastSixes|fastQuads|quad|triple|double|surface|total_chairs|Runs|TerrainParks|LongestRun_mi|SkiableTerrain_ac|Snow Making_ac|daysOpenLastYear|yearsOpen|averageSnowfall|AdultWeekday|AdultWeekend|projectedDaysOpen|NightSkiing_ac|\n",
            "+--------------------+-------------------+----------+-----------+-------------+---------+-----+---------+---------+---------+----+------+------+-------+------------+----+------------+-------------+-----------------+--------------+----------------+---------+---------------+------------+------------+-----------------+--------------+\n",
            "|      Alyeska Resort|             Alaska|    Alaska|       3939|         2500|      250|    1|        0|        0|        2|   2|     0|     0|      2|           7|  76|           2|          1.0|             1610|           113|             150|       60|            669|        65.0|        85.0|              150|           550|\n",
            "| Eaglecrest Ski Area|             Alaska|    Alaska|       2600|         1540|     1200|    0|        0|        0|        0|   0|     0|     4|      0|           4|  36|           1|          2.0|              640|            60|              45|       44|            350|        47.0|        53.0|               90|          NULL|\n",
            "|    Hilltop Ski Area|             Alaska|    Alaska|       2090|          294|     1796|    0|        0|        0|        0|   0|     1|     0|      2|           3|  13|           1|          1.0|               30|            30|             150|       36|             69|        30.0|        34.0|              152|            30|\n",
            "|    Arizona Snowbowl|            Arizona|   Arizona|      11500|         2300|     9200|    0|        0|        1|        0|   2|     2|     1|      2|           8|  55|           4|          2.0|              777|           104|             122|       81|            260|        89.0|        89.0|              122|          NULL|\n",
            "| Sunrise Park Resort|            Arizona|   Arizona|      11100|         1800|     9200|    0|     NULL|        0|        1|   2|     3|     1|      0|           7|  65|           2|          1.2|              800|            80|             115|       49|            250|        74.0|        78.0|              104|            80|\n",
            "|Yosemite Ski & Sn...|Northern California|California|       7800|          600|     7200|    0|        0|        0|        0|   0|     1|     3|      1|           5|  10|           2|          0.4|               88|          NULL|             110|       84|            300|        47.0|        47.0|              107|          NULL|\n",
            "|       Bear Mountain|      Sierra Nevada|California|       8805|         1665|     7140|    0|        0|        0|        2|   1|     2|     3|      4|          12|  27|          14|          1.5|              198|           198|             122|       76|            100|        NULL|        NULL|              130|          NULL|\n",
            "|         Bear Valley|      Sierra Nevada|California|       8500|         1900|     6600|    0|        0|        1|        1|   0|     2|     4|      2|          10|  67|           2|          1.2|             1680|           100|             165|       52|            359|        NULL|        NULL|              151|          NULL|\n",
            "|Boreal Mountain R...|      Sierra Nevada|California|       7700|          500|     7200|    0|        0|        0|        1|   1|     3|     1|      2|           8|  33|           6|          1.0|              380|           200|             150|       54|            400|        49.0|        NULL|              150|           200|\n",
            "|         Dodge Ridge|      Sierra Nevada|California|       8200|         1600|     6600|    0|        0|        0|        0|   1|     2|     5|      4|          12|  67|           5|          2.0|              862|          NULL|            NULL|       69|            350|        78.0|        78.0|              140|          NULL|\n",
            "|    Donner Ski Ranch|      Sierra Nevada|California|       8012|          750|     7031|    0|        0|        0|        0|   0|     1|     5|      2|           8|  52|           2|          1.5|              505|            60|             163|       82|            400|        75.0|        75.0|              170|          NULL|\n",
            "|Heavenly Mountain...|      Sierra Nevada|California|      10067|         3500|     7170|    2|        0|        2|        7|   1|     5|     3|      8|          28|  97|           3|          5.5|             4800|          3379|             155|       64|            360|        NULL|        NULL|              157|          NULL|\n",
            "|       June Mountain|      Sierra Nevada|California|      10090|         2590|     7545|    0|     NULL|        0|        2|   0|     0|     4|      1|           7|  41|           2|          2.0|             1500|          NULL|            NULL|       58|            250|        NULL|        NULL|              128|          NULL|\n",
            "|            Kirkwood|      Sierra Nevada|California|       9800|         2000|     7800|    0|        0|        0|        2|   1|     5|     1|      3|          12|  85|           2|          2.5|             2300|           200|             200|       47|            354|        NULL|        NULL|              167|          NULL|\n",
            "|Mammoth Mountain ...|      Sierra Nevada|California|      11053|         3100|     7953|    3|        0|        2|        9|   1|     6|     4|      0|          25| 154|           7|          3.0|             3500|           700|             243|       66|            400|       149.0|       159.0|             NULL|          NULL|\n",
            "| Mt. Shasta Ski Park|      Sierra Nevada|California|       6890|         1435|     5500|    0|     NULL|        0|        0|   0|     3|     0|      1|           4|  32|           2|          1.1|              425|           225|             140|       34|            300|        49.0|        59.0|              130|          NULL|\n",
            "|       Mountain High|      Sierra Nevada|California|       8200|         1600|     6600|    0|     NULL|        0|        2|   2|     2|     5|      3|          14|  59|           1|          1.6|              290|           275|             118|       95|            108|        84.0|        84.0|              150|            73|\n",
            "|           Mt. Baldy|      Sierra Nevada|California|       8600|         2100|     6500|    0|     NULL|        0|        0|   0|     0|     4|      0|           4|  26|        NULL|          2.5|              400|            80|             175|       67|            178|        69.0|        69.0|              200|          NULL|\n",
            "|Northstar California|      Sierra Nevada|California|       8610|         2280|     6330|    2|        0|        1|        7|   1|     2|     0|      7|          20| 100|           9|          1.4|             3170|          1500|             135|       47|            350|        NULL|        NULL|              150|          NULL|\n",
            "|     Sierra-at-Tahoe|      Sierra Nevada|California|       8852|         2212|     6640|    0|     NULL|        0|        3|   0|     1|     5|      5|          14|  46|           6|          2.5|             2000|           200|             160|       73|            460|        99.0|        NULL|              144|          NULL|\n",
            "+--------------------+-------------------+----------+-----------+-------------+---------+-----+---------+---------+---------+----+------+------+-------+------------+----+------------+-------------+-----------------+--------------+----------------+---------+---------------+------------+------------+-----------------+--------------+\n",
            "only showing top 20 rows\n",
            "\n"
          ]
        }
      ]
    },
    {
      "cell_type": "code",
      "source": [
        "## verify data schema\n",
        "df_pyspark.printSchema()"
      ],
      "metadata": {
        "colab": {
          "base_uri": "https://localhost:8080/"
        },
        "id": "Gv8sGnATYx2O",
        "outputId": "15921489-1a74-45df-8874-b517413c6ea9"
      },
      "execution_count": 20,
      "outputs": [
        {
          "output_type": "stream",
          "name": "stdout",
          "text": [
            "root\n",
            " |-- Name: string (nullable = true)\n",
            " |-- Region: string (nullable = true)\n",
            " |-- state: string (nullable = true)\n",
            " |-- summit_elev: integer (nullable = true)\n",
            " |-- vertical_drop: integer (nullable = true)\n",
            " |-- base_elev: integer (nullable = true)\n",
            " |-- trams: integer (nullable = true)\n",
            " |-- fastEight: integer (nullable = true)\n",
            " |-- fastSixes: integer (nullable = true)\n",
            " |-- fastQuads: integer (nullable = true)\n",
            " |-- quad: integer (nullable = true)\n",
            " |-- triple: integer (nullable = true)\n",
            " |-- double: integer (nullable = true)\n",
            " |-- surface: integer (nullable = true)\n",
            " |-- total_chairs: integer (nullable = true)\n",
            " |-- Runs: integer (nullable = true)\n",
            " |-- TerrainParks: integer (nullable = true)\n",
            " |-- LongestRun_mi: double (nullable = true)\n",
            " |-- SkiableTerrain_ac: integer (nullable = true)\n",
            " |-- Snow Making_ac: integer (nullable = true)\n",
            " |-- daysOpenLastYear: integer (nullable = true)\n",
            " |-- yearsOpen: integer (nullable = true)\n",
            " |-- averageSnowfall: integer (nullable = true)\n",
            " |-- AdultWeekday: double (nullable = true)\n",
            " |-- AdultWeekend: double (nullable = true)\n",
            " |-- projectedDaysOpen: integer (nullable = true)\n",
            " |-- NightSkiing_ac: integer (nullable = true)\n",
            "\n"
          ]
        }
      ]
    },
    {
      "cell_type": "code",
      "source": [
        "## dtype -- dataframe is a data structure regardless of pyspark or python\n",
        "type(df_pyspark)"
      ],
      "metadata": {
        "colab": {
          "base_uri": "https://localhost:8080/",
          "height": 187
        },
        "id": "iRT5-kvdY4uY",
        "outputId": "8651da04-04b8-4a16-d8eb-49af331ab3ef"
      },
      "execution_count": 21,
      "outputs": [
        {
          "output_type": "execute_result",
          "data": {
            "text/plain": [
              "pyspark.sql.dataframe.DataFrame"
            ],
            "text/html": [
              "<div style=\"max-width:800px; border: 1px solid var(--colab-border-color);\"><style>\n",
              "      pre.function-repr-contents {\n",
              "        overflow-x: auto;\n",
              "        padding: 8px 12px;\n",
              "        max-height: 500px;\n",
              "      }\n",
              "\n",
              "      pre.function-repr-contents.function-repr-contents-collapsed {\n",
              "        cursor: pointer;\n",
              "        max-height: 100px;\n",
              "      }\n",
              "    </style>\n",
              "    <pre style=\"white-space: initial; background:\n",
              "         var(--colab-secondary-surface-color); padding: 8px 12px;\n",
              "         border-bottom: 1px solid var(--colab-border-color);\"><b>pyspark.sql.dataframe.DataFrame</b><br/>def __init__(jdf: JavaObject, sql_ctx: Union[&#x27;SQLContext&#x27;, &#x27;SparkSession&#x27;])</pre><pre class=\"function-repr-contents function-repr-contents-collapsed\" style=\"\"><a class=\"filepath\" style=\"display:none\" href=\"#\">/usr/local/lib/python3.10/dist-packages/pyspark/sql/dataframe.py</a>A distributed collection of data grouped into named columns.\n",
              "\n",
              ".. versionadded:: 1.3.0\n",
              "\n",
              ".. versionchanged:: 3.4.0\n",
              "    Supports Spark Connect.\n",
              "\n",
              "Examples\n",
              "--------\n",
              "A :class:`DataFrame` is equivalent to a relational table in Spark SQL,\n",
              "and can be created using various functions in :class:`SparkSession`:\n",
              "\n",
              "&gt;&gt;&gt; people = spark.createDataFrame([\n",
              "...     {&quot;deptId&quot;: 1, &quot;age&quot;: 40, &quot;name&quot;: &quot;Hyukjin Kwon&quot;, &quot;gender&quot;: &quot;M&quot;, &quot;salary&quot;: 50},\n",
              "...     {&quot;deptId&quot;: 1, &quot;age&quot;: 50, &quot;name&quot;: &quot;Takuya Ueshin&quot;, &quot;gender&quot;: &quot;M&quot;, &quot;salary&quot;: 100},\n",
              "...     {&quot;deptId&quot;: 2, &quot;age&quot;: 60, &quot;name&quot;: &quot;Xinrong Meng&quot;, &quot;gender&quot;: &quot;F&quot;, &quot;salary&quot;: 150},\n",
              "...     {&quot;deptId&quot;: 3, &quot;age&quot;: 20, &quot;name&quot;: &quot;Haejoon Lee&quot;, &quot;gender&quot;: &quot;M&quot;, &quot;salary&quot;: 200}\n",
              "... ])\n",
              "\n",
              "Once created, it can be manipulated using the various domain-specific-language\n",
              "(DSL) functions defined in: :class:`DataFrame`, :class:`Column`.\n",
              "\n",
              "To select a column from the :class:`DataFrame`, use the apply method:\n",
              "\n",
              "&gt;&gt;&gt; age_col = people.age\n",
              "\n",
              "A more concrete example:\n",
              "\n",
              "&gt;&gt;&gt; # To create DataFrame using SparkSession\n",
              "... department = spark.createDataFrame([\n",
              "...     {&quot;id&quot;: 1, &quot;name&quot;: &quot;PySpark&quot;},\n",
              "...     {&quot;id&quot;: 2, &quot;name&quot;: &quot;ML&quot;},\n",
              "...     {&quot;id&quot;: 3, &quot;name&quot;: &quot;Spark SQL&quot;}\n",
              "... ])\n",
              "\n",
              "&gt;&gt;&gt; people.filter(people.age &gt; 30).join(\n",
              "...     department, people.deptId == department.id).groupBy(\n",
              "...     department.name, &quot;gender&quot;).agg({&quot;salary&quot;: &quot;avg&quot;, &quot;age&quot;: &quot;max&quot;}).show()\n",
              "+-------+------+-----------+--------+\n",
              "|   name|gender|avg(salary)|max(age)|\n",
              "+-------+------+-----------+--------+\n",
              "|     ML|     F|      150.0|      60|\n",
              "|PySpark|     M|       75.0|      50|\n",
              "+-------+------+-----------+--------+\n",
              "\n",
              "Notes\n",
              "-----\n",
              "A DataFrame should only be created as described above. It should not be directly\n",
              "created via using the constructor.</pre>\n",
              "      <script>\n",
              "      if (google.colab.kernel.accessAllowed && google.colab.files && google.colab.files.view) {\n",
              "        for (const element of document.querySelectorAll('.filepath')) {\n",
              "          element.style.display = 'block'\n",
              "          element.onclick = (event) => {\n",
              "            event.preventDefault();\n",
              "            event.stopPropagation();\n",
              "            google.colab.files.view(element.textContent, 80);\n",
              "          };\n",
              "        }\n",
              "      }\n",
              "      for (const element of document.querySelectorAll('.function-repr-contents')) {\n",
              "        element.onclick = (event) => {\n",
              "          event.preventDefault();\n",
              "          event.stopPropagation();\n",
              "          element.classList.toggle('function-repr-contents-collapsed');\n",
              "        };\n",
              "      }\n",
              "      </script>\n",
              "      </div>"
            ]
          },
          "metadata": {},
          "execution_count": 21
        }
      ]
    },
    {
      "cell_type": "markdown",
      "source": [
        "## Columns in PySpark"
      ],
      "metadata": {
        "id": "hbgeKOSdZG2F"
      }
    },
    {
      "cell_type": "code",
      "source": [
        "## columns similar to pandas\n",
        "df_pyspark.columns"
      ],
      "metadata": {
        "colab": {
          "base_uri": "https://localhost:8080/"
        },
        "id": "aioirfVgY-Hu",
        "outputId": "d3e9b46a-4654-4154-fdae-666fa5857587"
      },
      "execution_count": 22,
      "outputs": [
        {
          "output_type": "execute_result",
          "data": {
            "text/plain": [
              "['Name',\n",
              " 'Region',\n",
              " 'state',\n",
              " 'summit_elev',\n",
              " 'vertical_drop',\n",
              " 'base_elev',\n",
              " 'trams',\n",
              " 'fastEight',\n",
              " 'fastSixes',\n",
              " 'fastQuads',\n",
              " 'quad',\n",
              " 'triple',\n",
              " 'double',\n",
              " 'surface',\n",
              " 'total_chairs',\n",
              " 'Runs',\n",
              " 'TerrainParks',\n",
              " 'LongestRun_mi',\n",
              " 'SkiableTerrain_ac',\n",
              " 'Snow Making_ac',\n",
              " 'daysOpenLastYear',\n",
              " 'yearsOpen',\n",
              " 'averageSnowfall',\n",
              " 'AdultWeekday',\n",
              " 'AdultWeekend',\n",
              " 'projectedDaysOpen',\n",
              " 'NightSkiing_ac']"
            ]
          },
          "metadata": {},
          "execution_count": 22
        }
      ]
    },
    {
      "cell_type": "code",
      "source": [
        "## head in pyspark --> result is a list\n",
        "df_pyspark.head(3)"
      ],
      "metadata": {
        "colab": {
          "base_uri": "https://localhost:8080/"
        },
        "id": "Ql0zZ5ivZKut",
        "outputId": "b3a5e05d-1c87-47eb-863b-4b207108c2aa"
      },
      "execution_count": 23,
      "outputs": [
        {
          "output_type": "execute_result",
          "data": {
            "text/plain": [
              "[Row(Name='Alyeska Resort', Region='Alaska', state='Alaska', summit_elev=3939, vertical_drop=2500, base_elev=250, trams=1, fastEight=0, fastSixes=0, fastQuads=2, quad=2, triple=0, double=0, surface=2, total_chairs=7, Runs=76, TerrainParks=2, LongestRun_mi=1.0, SkiableTerrain_ac=1610, Snow Making_ac=113, daysOpenLastYear=150, yearsOpen=60, averageSnowfall=669, AdultWeekday=65.0, AdultWeekend=85.0, projectedDaysOpen=150, NightSkiing_ac=550),\n",
              " Row(Name='Eaglecrest Ski Area', Region='Alaska', state='Alaska', summit_elev=2600, vertical_drop=1540, base_elev=1200, trams=0, fastEight=0, fastSixes=0, fastQuads=0, quad=0, triple=0, double=4, surface=0, total_chairs=4, Runs=36, TerrainParks=1, LongestRun_mi=2.0, SkiableTerrain_ac=640, Snow Making_ac=60, daysOpenLastYear=45, yearsOpen=44, averageSnowfall=350, AdultWeekday=47.0, AdultWeekend=53.0, projectedDaysOpen=90, NightSkiing_ac=None),\n",
              " Row(Name='Hilltop Ski Area', Region='Alaska', state='Alaska', summit_elev=2090, vertical_drop=294, base_elev=1796, trams=0, fastEight=0, fastSixes=0, fastQuads=0, quad=0, triple=1, double=0, surface=2, total_chairs=3, Runs=13, TerrainParks=1, LongestRun_mi=1.0, SkiableTerrain_ac=30, Snow Making_ac=30, daysOpenLastYear=150, yearsOpen=36, averageSnowfall=69, AdultWeekday=30.0, AdultWeekend=34.0, projectedDaysOpen=152, NightSkiing_ac=30)]"
            ]
          },
          "metadata": {},
          "execution_count": 23
        }
      ]
    },
    {
      "cell_type": "markdown",
      "source": [
        "### Selecting Columns in PySpark\n",
        "* The key here is the `.select()` function in pyspark."
      ],
      "metadata": {
        "id": "SnJZyNL_brEC"
      }
    },
    {
      "cell_type": "code",
      "source": [
        "## selecting columns\n",
        "df_pyspark.show()"
      ],
      "metadata": {
        "colab": {
          "base_uri": "https://localhost:8080/"
        },
        "id": "2NOfqX0FbnBW",
        "outputId": "2d36943d-0ae6-4da0-cf19-9ca35ccc3480"
      },
      "execution_count": 24,
      "outputs": [
        {
          "output_type": "stream",
          "name": "stdout",
          "text": [
            "+--------------------+-------------------+----------+-----------+-------------+---------+-----+---------+---------+---------+----+------+------+-------+------------+----+------------+-------------+-----------------+--------------+----------------+---------+---------------+------------+------------+-----------------+--------------+\n",
            "|                Name|             Region|     state|summit_elev|vertical_drop|base_elev|trams|fastEight|fastSixes|fastQuads|quad|triple|double|surface|total_chairs|Runs|TerrainParks|LongestRun_mi|SkiableTerrain_ac|Snow Making_ac|daysOpenLastYear|yearsOpen|averageSnowfall|AdultWeekday|AdultWeekend|projectedDaysOpen|NightSkiing_ac|\n",
            "+--------------------+-------------------+----------+-----------+-------------+---------+-----+---------+---------+---------+----+------+------+-------+------------+----+------------+-------------+-----------------+--------------+----------------+---------+---------------+------------+------------+-----------------+--------------+\n",
            "|      Alyeska Resort|             Alaska|    Alaska|       3939|         2500|      250|    1|        0|        0|        2|   2|     0|     0|      2|           7|  76|           2|          1.0|             1610|           113|             150|       60|            669|        65.0|        85.0|              150|           550|\n",
            "| Eaglecrest Ski Area|             Alaska|    Alaska|       2600|         1540|     1200|    0|        0|        0|        0|   0|     0|     4|      0|           4|  36|           1|          2.0|              640|            60|              45|       44|            350|        47.0|        53.0|               90|          NULL|\n",
            "|    Hilltop Ski Area|             Alaska|    Alaska|       2090|          294|     1796|    0|        0|        0|        0|   0|     1|     0|      2|           3|  13|           1|          1.0|               30|            30|             150|       36|             69|        30.0|        34.0|              152|            30|\n",
            "|    Arizona Snowbowl|            Arizona|   Arizona|      11500|         2300|     9200|    0|        0|        1|        0|   2|     2|     1|      2|           8|  55|           4|          2.0|              777|           104|             122|       81|            260|        89.0|        89.0|              122|          NULL|\n",
            "| Sunrise Park Resort|            Arizona|   Arizona|      11100|         1800|     9200|    0|     NULL|        0|        1|   2|     3|     1|      0|           7|  65|           2|          1.2|              800|            80|             115|       49|            250|        74.0|        78.0|              104|            80|\n",
            "|Yosemite Ski & Sn...|Northern California|California|       7800|          600|     7200|    0|        0|        0|        0|   0|     1|     3|      1|           5|  10|           2|          0.4|               88|          NULL|             110|       84|            300|        47.0|        47.0|              107|          NULL|\n",
            "|       Bear Mountain|      Sierra Nevada|California|       8805|         1665|     7140|    0|        0|        0|        2|   1|     2|     3|      4|          12|  27|          14|          1.5|              198|           198|             122|       76|            100|        NULL|        NULL|              130|          NULL|\n",
            "|         Bear Valley|      Sierra Nevada|California|       8500|         1900|     6600|    0|        0|        1|        1|   0|     2|     4|      2|          10|  67|           2|          1.2|             1680|           100|             165|       52|            359|        NULL|        NULL|              151|          NULL|\n",
            "|Boreal Mountain R...|      Sierra Nevada|California|       7700|          500|     7200|    0|        0|        0|        1|   1|     3|     1|      2|           8|  33|           6|          1.0|              380|           200|             150|       54|            400|        49.0|        NULL|              150|           200|\n",
            "|         Dodge Ridge|      Sierra Nevada|California|       8200|         1600|     6600|    0|        0|        0|        0|   1|     2|     5|      4|          12|  67|           5|          2.0|              862|          NULL|            NULL|       69|            350|        78.0|        78.0|              140|          NULL|\n",
            "|    Donner Ski Ranch|      Sierra Nevada|California|       8012|          750|     7031|    0|        0|        0|        0|   0|     1|     5|      2|           8|  52|           2|          1.5|              505|            60|             163|       82|            400|        75.0|        75.0|              170|          NULL|\n",
            "|Heavenly Mountain...|      Sierra Nevada|California|      10067|         3500|     7170|    2|        0|        2|        7|   1|     5|     3|      8|          28|  97|           3|          5.5|             4800|          3379|             155|       64|            360|        NULL|        NULL|              157|          NULL|\n",
            "|       June Mountain|      Sierra Nevada|California|      10090|         2590|     7545|    0|     NULL|        0|        2|   0|     0|     4|      1|           7|  41|           2|          2.0|             1500|          NULL|            NULL|       58|            250|        NULL|        NULL|              128|          NULL|\n",
            "|            Kirkwood|      Sierra Nevada|California|       9800|         2000|     7800|    0|        0|        0|        2|   1|     5|     1|      3|          12|  85|           2|          2.5|             2300|           200|             200|       47|            354|        NULL|        NULL|              167|          NULL|\n",
            "|Mammoth Mountain ...|      Sierra Nevada|California|      11053|         3100|     7953|    3|        0|        2|        9|   1|     6|     4|      0|          25| 154|           7|          3.0|             3500|           700|             243|       66|            400|       149.0|       159.0|             NULL|          NULL|\n",
            "| Mt. Shasta Ski Park|      Sierra Nevada|California|       6890|         1435|     5500|    0|     NULL|        0|        0|   0|     3|     0|      1|           4|  32|           2|          1.1|              425|           225|             140|       34|            300|        49.0|        59.0|              130|          NULL|\n",
            "|       Mountain High|      Sierra Nevada|California|       8200|         1600|     6600|    0|     NULL|        0|        2|   2|     2|     5|      3|          14|  59|           1|          1.6|              290|           275|             118|       95|            108|        84.0|        84.0|              150|            73|\n",
            "|           Mt. Baldy|      Sierra Nevada|California|       8600|         2100|     6500|    0|     NULL|        0|        0|   0|     0|     4|      0|           4|  26|        NULL|          2.5|              400|            80|             175|       67|            178|        69.0|        69.0|              200|          NULL|\n",
            "|Northstar California|      Sierra Nevada|California|       8610|         2280|     6330|    2|        0|        1|        7|   1|     2|     0|      7|          20| 100|           9|          1.4|             3170|          1500|             135|       47|            350|        NULL|        NULL|              150|          NULL|\n",
            "|     Sierra-at-Tahoe|      Sierra Nevada|California|       8852|         2212|     6640|    0|     NULL|        0|        3|   0|     1|     5|      5|          14|  46|           6|          2.5|             2000|           200|             160|       73|            460|        99.0|        NULL|              144|          NULL|\n",
            "+--------------------+-------------------+----------+-----------+-------------+---------+-----+---------+---------+---------+----+------+------+-------+------------+----+------------+-------------+-----------------+--------------+----------------+---------+---------------+------------+------------+-----------------+--------------+\n",
            "only showing top 20 rows\n",
            "\n"
          ]
        }
      ]
    },
    {
      "cell_type": "code",
      "source": [
        "## lets select name column -- show() gives you entire column\n",
        "df_pyspark.select('Name').show()"
      ],
      "metadata": {
        "colab": {
          "base_uri": "https://localhost:8080/"
        },
        "id": "v8s4IQGAbw1s",
        "outputId": "68758b20-5400-41c1-fa75-c4d8962d0947"
      },
      "execution_count": 25,
      "outputs": [
        {
          "output_type": "stream",
          "name": "stdout",
          "text": [
            "+--------------------+\n",
            "|                Name|\n",
            "+--------------------+\n",
            "|      Alyeska Resort|\n",
            "| Eaglecrest Ski Area|\n",
            "|    Hilltop Ski Area|\n",
            "|    Arizona Snowbowl|\n",
            "| Sunrise Park Resort|\n",
            "|Yosemite Ski & Sn...|\n",
            "|       Bear Mountain|\n",
            "|         Bear Valley|\n",
            "|Boreal Mountain R...|\n",
            "|         Dodge Ridge|\n",
            "|    Donner Ski Ranch|\n",
            "|Heavenly Mountain...|\n",
            "|       June Mountain|\n",
            "|            Kirkwood|\n",
            "|Mammoth Mountain ...|\n",
            "| Mt. Shasta Ski Park|\n",
            "|       Mountain High|\n",
            "|           Mt. Baldy|\n",
            "|Northstar California|\n",
            "|     Sierra-at-Tahoe|\n",
            "+--------------------+\n",
            "only showing top 20 rows\n",
            "\n"
          ]
        }
      ]
    },
    {
      "cell_type": "code",
      "source": [
        "## checking type\n",
        "type(df_pyspark.select('Name'))"
      ],
      "metadata": {
        "colab": {
          "base_uri": "https://localhost:8080/",
          "height": 187
        },
        "id": "ZKl_I1QOchM_",
        "outputId": "a7d54f31-6c55-438b-a100-7a1d6c7b6f80"
      },
      "execution_count": 26,
      "outputs": [
        {
          "output_type": "execute_result",
          "data": {
            "text/plain": [
              "pyspark.sql.dataframe.DataFrame"
            ],
            "text/html": [
              "<div style=\"max-width:800px; border: 1px solid var(--colab-border-color);\"><style>\n",
              "      pre.function-repr-contents {\n",
              "        overflow-x: auto;\n",
              "        padding: 8px 12px;\n",
              "        max-height: 500px;\n",
              "      }\n",
              "\n",
              "      pre.function-repr-contents.function-repr-contents-collapsed {\n",
              "        cursor: pointer;\n",
              "        max-height: 100px;\n",
              "      }\n",
              "    </style>\n",
              "    <pre style=\"white-space: initial; background:\n",
              "         var(--colab-secondary-surface-color); padding: 8px 12px;\n",
              "         border-bottom: 1px solid var(--colab-border-color);\"><b>pyspark.sql.dataframe.DataFrame</b><br/>def __init__(jdf: JavaObject, sql_ctx: Union[&#x27;SQLContext&#x27;, &#x27;SparkSession&#x27;])</pre><pre class=\"function-repr-contents function-repr-contents-collapsed\" style=\"\"><a class=\"filepath\" style=\"display:none\" href=\"#\">/usr/local/lib/python3.10/dist-packages/pyspark/sql/dataframe.py</a>A distributed collection of data grouped into named columns.\n",
              "\n",
              ".. versionadded:: 1.3.0\n",
              "\n",
              ".. versionchanged:: 3.4.0\n",
              "    Supports Spark Connect.\n",
              "\n",
              "Examples\n",
              "--------\n",
              "A :class:`DataFrame` is equivalent to a relational table in Spark SQL,\n",
              "and can be created using various functions in :class:`SparkSession`:\n",
              "\n",
              "&gt;&gt;&gt; people = spark.createDataFrame([\n",
              "...     {&quot;deptId&quot;: 1, &quot;age&quot;: 40, &quot;name&quot;: &quot;Hyukjin Kwon&quot;, &quot;gender&quot;: &quot;M&quot;, &quot;salary&quot;: 50},\n",
              "...     {&quot;deptId&quot;: 1, &quot;age&quot;: 50, &quot;name&quot;: &quot;Takuya Ueshin&quot;, &quot;gender&quot;: &quot;M&quot;, &quot;salary&quot;: 100},\n",
              "...     {&quot;deptId&quot;: 2, &quot;age&quot;: 60, &quot;name&quot;: &quot;Xinrong Meng&quot;, &quot;gender&quot;: &quot;F&quot;, &quot;salary&quot;: 150},\n",
              "...     {&quot;deptId&quot;: 3, &quot;age&quot;: 20, &quot;name&quot;: &quot;Haejoon Lee&quot;, &quot;gender&quot;: &quot;M&quot;, &quot;salary&quot;: 200}\n",
              "... ])\n",
              "\n",
              "Once created, it can be manipulated using the various domain-specific-language\n",
              "(DSL) functions defined in: :class:`DataFrame`, :class:`Column`.\n",
              "\n",
              "To select a column from the :class:`DataFrame`, use the apply method:\n",
              "\n",
              "&gt;&gt;&gt; age_col = people.age\n",
              "\n",
              "A more concrete example:\n",
              "\n",
              "&gt;&gt;&gt; # To create DataFrame using SparkSession\n",
              "... department = spark.createDataFrame([\n",
              "...     {&quot;id&quot;: 1, &quot;name&quot;: &quot;PySpark&quot;},\n",
              "...     {&quot;id&quot;: 2, &quot;name&quot;: &quot;ML&quot;},\n",
              "...     {&quot;id&quot;: 3, &quot;name&quot;: &quot;Spark SQL&quot;}\n",
              "... ])\n",
              "\n",
              "&gt;&gt;&gt; people.filter(people.age &gt; 30).join(\n",
              "...     department, people.deptId == department.id).groupBy(\n",
              "...     department.name, &quot;gender&quot;).agg({&quot;salary&quot;: &quot;avg&quot;, &quot;age&quot;: &quot;max&quot;}).show()\n",
              "+-------+------+-----------+--------+\n",
              "|   name|gender|avg(salary)|max(age)|\n",
              "+-------+------+-----------+--------+\n",
              "|     ML|     F|      150.0|      60|\n",
              "|PySpark|     M|       75.0|      50|\n",
              "+-------+------+-----------+--------+\n",
              "\n",
              "Notes\n",
              "-----\n",
              "A DataFrame should only be created as described above. It should not be directly\n",
              "created via using the constructor.</pre>\n",
              "      <script>\n",
              "      if (google.colab.kernel.accessAllowed && google.colab.files && google.colab.files.view) {\n",
              "        for (const element of document.querySelectorAll('.filepath')) {\n",
              "          element.style.display = 'block'\n",
              "          element.onclick = (event) => {\n",
              "            event.preventDefault();\n",
              "            event.stopPropagation();\n",
              "            google.colab.files.view(element.textContent, 80);\n",
              "          };\n",
              "        }\n",
              "      }\n",
              "      for (const element of document.querySelectorAll('.function-repr-contents')) {\n",
              "        element.onclick = (event) => {\n",
              "          event.preventDefault();\n",
              "          event.stopPropagation();\n",
              "          element.classList.toggle('function-repr-contents-collapsed');\n",
              "        };\n",
              "      }\n",
              "      </script>\n",
              "      </div>"
            ]
          },
          "metadata": {},
          "execution_count": 26
        }
      ]
    },
    {
      "cell_type": "code",
      "source": [
        "## multiple column selections\n",
        "df_pyspark.select(['Name','Region']).show()"
      ],
      "metadata": {
        "colab": {
          "base_uri": "https://localhost:8080/"
        },
        "id": "FJ0IcqbEcqAA",
        "outputId": "088740d3-e72f-448a-a910-f0624282f808"
      },
      "execution_count": 27,
      "outputs": [
        {
          "output_type": "stream",
          "name": "stdout",
          "text": [
            "+--------------------+-------------------+\n",
            "|                Name|             Region|\n",
            "+--------------------+-------------------+\n",
            "|      Alyeska Resort|             Alaska|\n",
            "| Eaglecrest Ski Area|             Alaska|\n",
            "|    Hilltop Ski Area|             Alaska|\n",
            "|    Arizona Snowbowl|            Arizona|\n",
            "| Sunrise Park Resort|            Arizona|\n",
            "|Yosemite Ski & Sn...|Northern California|\n",
            "|       Bear Mountain|      Sierra Nevada|\n",
            "|         Bear Valley|      Sierra Nevada|\n",
            "|Boreal Mountain R...|      Sierra Nevada|\n",
            "|         Dodge Ridge|      Sierra Nevada|\n",
            "|    Donner Ski Ranch|      Sierra Nevada|\n",
            "|Heavenly Mountain...|      Sierra Nevada|\n",
            "|       June Mountain|      Sierra Nevada|\n",
            "|            Kirkwood|      Sierra Nevada|\n",
            "|Mammoth Mountain ...|      Sierra Nevada|\n",
            "| Mt. Shasta Ski Park|      Sierra Nevada|\n",
            "|       Mountain High|      Sierra Nevada|\n",
            "|           Mt. Baldy|      Sierra Nevada|\n",
            "|Northstar California|      Sierra Nevada|\n",
            "|     Sierra-at-Tahoe|      Sierra Nevada|\n",
            "+--------------------+-------------------+\n",
            "only showing top 20 rows\n",
            "\n"
          ]
        }
      ]
    },
    {
      "cell_type": "code",
      "source": [
        "## indexing a column the pandas method is different:\n",
        "df_pyspark['Name']"
      ],
      "metadata": {
        "colab": {
          "base_uri": "https://localhost:8080/"
        },
        "id": "tbcdfyo4c2iY",
        "outputId": "bcce049a-5dd2-4316-9533-da5841e425b8"
      },
      "execution_count": 28,
      "outputs": [
        {
          "output_type": "execute_result",
          "data": {
            "text/plain": [
              "Column<'Name'>"
            ]
          },
          "metadata": {},
          "execution_count": 28
        }
      ]
    },
    {
      "cell_type": "markdown",
      "source": [
        "### Datatypes"
      ],
      "metadata": {
        "id": "gQ_A-EGqfk4D"
      }
    },
    {
      "cell_type": "code",
      "source": [
        "## dtypes -- similar to pandas\n",
        "df_pyspark.dtypes"
      ],
      "metadata": {
        "colab": {
          "base_uri": "https://localhost:8080/"
        },
        "id": "GNyzMvtXdGN8",
        "outputId": "06d653e7-7b27-4a6e-dd75-fa926cc931ca"
      },
      "execution_count": 29,
      "outputs": [
        {
          "output_type": "execute_result",
          "data": {
            "text/plain": [
              "[('Name', 'string'),\n",
              " ('Region', 'string'),\n",
              " ('state', 'string'),\n",
              " ('summit_elev', 'int'),\n",
              " ('vertical_drop', 'int'),\n",
              " ('base_elev', 'int'),\n",
              " ('trams', 'int'),\n",
              " ('fastEight', 'int'),\n",
              " ('fastSixes', 'int'),\n",
              " ('fastQuads', 'int'),\n",
              " ('quad', 'int'),\n",
              " ('triple', 'int'),\n",
              " ('double', 'int'),\n",
              " ('surface', 'int'),\n",
              " ('total_chairs', 'int'),\n",
              " ('Runs', 'int'),\n",
              " ('TerrainParks', 'int'),\n",
              " ('LongestRun_mi', 'double'),\n",
              " ('SkiableTerrain_ac', 'int'),\n",
              " ('Snow Making_ac', 'int'),\n",
              " ('daysOpenLastYear', 'int'),\n",
              " ('yearsOpen', 'int'),\n",
              " ('averageSnowfall', 'int'),\n",
              " ('AdultWeekday', 'double'),\n",
              " ('AdultWeekend', 'double'),\n",
              " ('projectedDaysOpen', 'int'),\n",
              " ('NightSkiing_ac', 'int')]"
            ]
          },
          "metadata": {},
          "execution_count": 29
        }
      ]
    },
    {
      "cell_type": "markdown",
      "source": [
        "## Describe -- showing pyspark df stats\n"
      ],
      "metadata": {
        "id": "0psINsCgfu1l"
      }
    },
    {
      "cell_type": "code",
      "source": [
        "## .describe().show()\n",
        "df_pyspark.describe().show()"
      ],
      "metadata": {
        "colab": {
          "base_uri": "https://localhost:8080/"
        },
        "id": "Hht96DRkfoO9",
        "outputId": "cd80f81e-6117-4277-bea6-5ea1a6639152"
      },
      "execution_count": 30,
      "outputs": [
        {
          "output_type": "stream",
          "name": "stdout",
          "text": [
            "+-------+--------------------+-------+-------+------------------+------------------+------------------+-------------------+--------------------+-------------------+------------------+------------------+------------------+------------------+-----------------+-----------------+------------------+------------------+------------------+------------------+-----------------+------------------+------------------+------------------+------------------+------------------+------------------+------------------+\n",
            "|summary|                Name| Region|  state|       summit_elev|     vertical_drop|         base_elev|              trams|           fastEight|          fastSixes|         fastQuads|              quad|            triple|            double|          surface|     total_chairs|              Runs|      TerrainParks|     LongestRun_mi| SkiableTerrain_ac|   Snow Making_ac|  daysOpenLastYear|         yearsOpen|   averageSnowfall|      AdultWeekday|      AdultWeekend| projectedDaysOpen|    NightSkiing_ac|\n",
            "+-------+--------------------+-------+-------+------------------+------------------+------------------+-------------------+--------------------+-------------------+------------------+------------------+------------------+------------------+-----------------+-----------------+------------------+------------------+------------------+------------------+-----------------+------------------+------------------+------------------+------------------+------------------+------------------+------------------+\n",
            "|  count|                 330|    330|    330|               330|               330|               330|                330|                 164|                330|               330|               330|               330|               330|              330|              330|               326|               279|               325|               327|              284|               279|               329|               316|               276|               279|               283|               187|\n",
            "|   mean|                NULL|   NULL|   NULL| 4591.818181818182|1215.4272727272728|            3374.0|0.17272727272727273|0.006097560975609756|0.18484848484848485| 1.018181818181818|0.9333333333333333|               1.5|1.8333333333333333|2.621212121212121|8.266666666666667|48.214723926380366|2.8207885304659497|1.4332307692307693| 739.8012232415903|174.8732394366197|115.10394265232975| 63.65653495440729|185.31645569620252| 57.91695652173913|  64.1668100358423| 120.0530035335689|100.39572192513369|\n",
            "| stddev|                NULL|   NULL|   NULL|3735.5359340477557| 947.8645568323155|3117.1216205930086| 0.5599461151195926| 0.07808688094430302| 0.6516853120719702|2.1982936938475843| 1.312244571565391|1.6191295646465305|1.8150278899054835|2.059636344057234|5.798682727819559| 46.36407658870765| 2.008112527411169|1.1561711870934803|1816.1674405249755|261.3361254159468|35.063251462244835|109.42992785855058|136.35684224402937|26.140125536561484|24.554584068567127|31.045962548972213| 105.1696202040197|\n",
            "|    min|    49 Degrees North| Alaska| Alaska|               315|                60|                70|                  0|                   0|                  0|                 0|                 0|                 0|                 0|                0|                0|                 3|                 1|               0.0|                 8|                2|                 3|                 6|                18|              15.0|              17.0|                30|                 2|\n",
            "|    max|Yosemite Ski & Sn...|Wyoming|Wyoming|             13487|              4425|             10800|                  4|                   1|                  6|                15|                 8|                 8|                14|               15|               41|               341|                14|               6.0|             26819|             3379|               305|              2019|               669|             179.0|             179.0|               305|               650|\n",
            "+-------+--------------------+-------+-------+------------------+------------------+------------------+-------------------+--------------------+-------------------+------------------+------------------+------------------+------------------+-----------------+-----------------+------------------+------------------+------------------+------------------+-----------------+------------------+------------------+------------------+------------------+------------------+------------------+------------------+\n",
            "\n"
          ]
        }
      ]
    },
    {
      "cell_type": "markdown",
      "source": [
        "### Adding Spark DF columns"
      ],
      "metadata": {
        "id": "e1fpC-J2gHD_"
      }
    },
    {
      "cell_type": "code",
      "source": [
        "## adding columns --> column name, value assigned\n",
        "df_pyspark.withColumn('Average Ticket Price',((df_pyspark['AdultWeekday']+df_pyspark['AdultWeekend'])/2))"
      ],
      "metadata": {
        "colab": {
          "base_uri": "https://localhost:8080/"
        },
        "id": "vWXWG800fyKm",
        "outputId": "b42630f2-333c-4e39-e244-42bd73b2b504"
      },
      "execution_count": 31,
      "outputs": [
        {
          "output_type": "execute_result",
          "data": {
            "text/plain": [
              "DataFrame[Name: string, Region: string, state: string, summit_elev: int, vertical_drop: int, base_elev: int, trams: int, fastEight: int, fastSixes: int, fastQuads: int, quad: int, triple: int, double: int, surface: int, total_chairs: int, Runs: int, TerrainParks: int, LongestRun_mi: double, SkiableTerrain_ac: int, Snow Making_ac: int, daysOpenLastYear: int, yearsOpen: int, averageSnowfall: int, AdultWeekday: double, AdultWeekend: double, projectedDaysOpen: int, NightSkiing_ac: int, Average Ticket Price: double]"
            ]
          },
          "metadata": {},
          "execution_count": 31
        }
      ]
    },
    {
      "cell_type": "code",
      "source": [
        "df_pyspark.show()"
      ],
      "metadata": {
        "colab": {
          "base_uri": "https://localhost:8080/"
        },
        "id": "KAN_3iVyhgJn",
        "outputId": "4f6eae21-deea-4d1b-faea-5fb9283c3e74"
      },
      "execution_count": 32,
      "outputs": [
        {
          "output_type": "stream",
          "name": "stdout",
          "text": [
            "+--------------------+-------------------+----------+-----------+-------------+---------+-----+---------+---------+---------+----+------+------+-------+------------+----+------------+-------------+-----------------+--------------+----------------+---------+---------------+------------+------------+-----------------+--------------+\n",
            "|                Name|             Region|     state|summit_elev|vertical_drop|base_elev|trams|fastEight|fastSixes|fastQuads|quad|triple|double|surface|total_chairs|Runs|TerrainParks|LongestRun_mi|SkiableTerrain_ac|Snow Making_ac|daysOpenLastYear|yearsOpen|averageSnowfall|AdultWeekday|AdultWeekend|projectedDaysOpen|NightSkiing_ac|\n",
            "+--------------------+-------------------+----------+-----------+-------------+---------+-----+---------+---------+---------+----+------+------+-------+------------+----+------------+-------------+-----------------+--------------+----------------+---------+---------------+------------+------------+-----------------+--------------+\n",
            "|      Alyeska Resort|             Alaska|    Alaska|       3939|         2500|      250|    1|        0|        0|        2|   2|     0|     0|      2|           7|  76|           2|          1.0|             1610|           113|             150|       60|            669|        65.0|        85.0|              150|           550|\n",
            "| Eaglecrest Ski Area|             Alaska|    Alaska|       2600|         1540|     1200|    0|        0|        0|        0|   0|     0|     4|      0|           4|  36|           1|          2.0|              640|            60|              45|       44|            350|        47.0|        53.0|               90|          NULL|\n",
            "|    Hilltop Ski Area|             Alaska|    Alaska|       2090|          294|     1796|    0|        0|        0|        0|   0|     1|     0|      2|           3|  13|           1|          1.0|               30|            30|             150|       36|             69|        30.0|        34.0|              152|            30|\n",
            "|    Arizona Snowbowl|            Arizona|   Arizona|      11500|         2300|     9200|    0|        0|        1|        0|   2|     2|     1|      2|           8|  55|           4|          2.0|              777|           104|             122|       81|            260|        89.0|        89.0|              122|          NULL|\n",
            "| Sunrise Park Resort|            Arizona|   Arizona|      11100|         1800|     9200|    0|     NULL|        0|        1|   2|     3|     1|      0|           7|  65|           2|          1.2|              800|            80|             115|       49|            250|        74.0|        78.0|              104|            80|\n",
            "|Yosemite Ski & Sn...|Northern California|California|       7800|          600|     7200|    0|        0|        0|        0|   0|     1|     3|      1|           5|  10|           2|          0.4|               88|          NULL|             110|       84|            300|        47.0|        47.0|              107|          NULL|\n",
            "|       Bear Mountain|      Sierra Nevada|California|       8805|         1665|     7140|    0|        0|        0|        2|   1|     2|     3|      4|          12|  27|          14|          1.5|              198|           198|             122|       76|            100|        NULL|        NULL|              130|          NULL|\n",
            "|         Bear Valley|      Sierra Nevada|California|       8500|         1900|     6600|    0|        0|        1|        1|   0|     2|     4|      2|          10|  67|           2|          1.2|             1680|           100|             165|       52|            359|        NULL|        NULL|              151|          NULL|\n",
            "|Boreal Mountain R...|      Sierra Nevada|California|       7700|          500|     7200|    0|        0|        0|        1|   1|     3|     1|      2|           8|  33|           6|          1.0|              380|           200|             150|       54|            400|        49.0|        NULL|              150|           200|\n",
            "|         Dodge Ridge|      Sierra Nevada|California|       8200|         1600|     6600|    0|        0|        0|        0|   1|     2|     5|      4|          12|  67|           5|          2.0|              862|          NULL|            NULL|       69|            350|        78.0|        78.0|              140|          NULL|\n",
            "|    Donner Ski Ranch|      Sierra Nevada|California|       8012|          750|     7031|    0|        0|        0|        0|   0|     1|     5|      2|           8|  52|           2|          1.5|              505|            60|             163|       82|            400|        75.0|        75.0|              170|          NULL|\n",
            "|Heavenly Mountain...|      Sierra Nevada|California|      10067|         3500|     7170|    2|        0|        2|        7|   1|     5|     3|      8|          28|  97|           3|          5.5|             4800|          3379|             155|       64|            360|        NULL|        NULL|              157|          NULL|\n",
            "|       June Mountain|      Sierra Nevada|California|      10090|         2590|     7545|    0|     NULL|        0|        2|   0|     0|     4|      1|           7|  41|           2|          2.0|             1500|          NULL|            NULL|       58|            250|        NULL|        NULL|              128|          NULL|\n",
            "|            Kirkwood|      Sierra Nevada|California|       9800|         2000|     7800|    0|        0|        0|        2|   1|     5|     1|      3|          12|  85|           2|          2.5|             2300|           200|             200|       47|            354|        NULL|        NULL|              167|          NULL|\n",
            "|Mammoth Mountain ...|      Sierra Nevada|California|      11053|         3100|     7953|    3|        0|        2|        9|   1|     6|     4|      0|          25| 154|           7|          3.0|             3500|           700|             243|       66|            400|       149.0|       159.0|             NULL|          NULL|\n",
            "| Mt. Shasta Ski Park|      Sierra Nevada|California|       6890|         1435|     5500|    0|     NULL|        0|        0|   0|     3|     0|      1|           4|  32|           2|          1.1|              425|           225|             140|       34|            300|        49.0|        59.0|              130|          NULL|\n",
            "|       Mountain High|      Sierra Nevada|California|       8200|         1600|     6600|    0|     NULL|        0|        2|   2|     2|     5|      3|          14|  59|           1|          1.6|              290|           275|             118|       95|            108|        84.0|        84.0|              150|            73|\n",
            "|           Mt. Baldy|      Sierra Nevada|California|       8600|         2100|     6500|    0|     NULL|        0|        0|   0|     0|     4|      0|           4|  26|        NULL|          2.5|              400|            80|             175|       67|            178|        69.0|        69.0|              200|          NULL|\n",
            "|Northstar California|      Sierra Nevada|California|       8610|         2280|     6330|    2|        0|        1|        7|   1|     2|     0|      7|          20| 100|           9|          1.4|             3170|          1500|             135|       47|            350|        NULL|        NULL|              150|          NULL|\n",
            "|     Sierra-at-Tahoe|      Sierra Nevada|California|       8852|         2212|     6640|    0|     NULL|        0|        3|   0|     1|     5|      5|          14|  46|           6|          2.5|             2000|           200|             160|       73|            460|        99.0|        NULL|              144|          NULL|\n",
            "+--------------------+-------------------+----------+-----------+-------------+---------+-----+---------+---------+---------+----+------+------+-------+------------+----+------------+-------------+-----------------+--------------+----------------+---------+---------------+------------+------------+-----------------+--------------+\n",
            "only showing top 20 rows\n",
            "\n"
          ]
        }
      ]
    },
    {
      "cell_type": "markdown",
      "source": [
        "### Dropping Columns in pyspark"
      ],
      "metadata": {
        "id": "HOg8_xpDhzm3"
      }
    },
    {
      "cell_type": "code",
      "source": [
        "## drop columns -- assign to variable as not in place\n",
        "df_pyspark = df_pyspark.drop('trams')"
      ],
      "metadata": {
        "id": "im7y37GohtwU"
      },
      "execution_count": 33,
      "outputs": []
    },
    {
      "cell_type": "code",
      "source": [
        "## show\n",
        "df_pyspark.show()"
      ],
      "metadata": {
        "colab": {
          "base_uri": "https://localhost:8080/"
        },
        "id": "00OhFtAxizBW",
        "outputId": "09ba3e30-8c98-4ca7-f610-38e8f66ef936"
      },
      "execution_count": 34,
      "outputs": [
        {
          "output_type": "stream",
          "name": "stdout",
          "text": [
            "+--------------------+-------------------+----------+-----------+-------------+---------+---------+---------+---------+----+------+------+-------+------------+----+------------+-------------+-----------------+--------------+----------------+---------+---------------+------------+------------+-----------------+--------------+\n",
            "|                Name|             Region|     state|summit_elev|vertical_drop|base_elev|fastEight|fastSixes|fastQuads|quad|triple|double|surface|total_chairs|Runs|TerrainParks|LongestRun_mi|SkiableTerrain_ac|Snow Making_ac|daysOpenLastYear|yearsOpen|averageSnowfall|AdultWeekday|AdultWeekend|projectedDaysOpen|NightSkiing_ac|\n",
            "+--------------------+-------------------+----------+-----------+-------------+---------+---------+---------+---------+----+------+------+-------+------------+----+------------+-------------+-----------------+--------------+----------------+---------+---------------+------------+------------+-----------------+--------------+\n",
            "|      Alyeska Resort|             Alaska|    Alaska|       3939|         2500|      250|        0|        0|        2|   2|     0|     0|      2|           7|  76|           2|          1.0|             1610|           113|             150|       60|            669|        65.0|        85.0|              150|           550|\n",
            "| Eaglecrest Ski Area|             Alaska|    Alaska|       2600|         1540|     1200|        0|        0|        0|   0|     0|     4|      0|           4|  36|           1|          2.0|              640|            60|              45|       44|            350|        47.0|        53.0|               90|          NULL|\n",
            "|    Hilltop Ski Area|             Alaska|    Alaska|       2090|          294|     1796|        0|        0|        0|   0|     1|     0|      2|           3|  13|           1|          1.0|               30|            30|             150|       36|             69|        30.0|        34.0|              152|            30|\n",
            "|    Arizona Snowbowl|            Arizona|   Arizona|      11500|         2300|     9200|        0|        1|        0|   2|     2|     1|      2|           8|  55|           4|          2.0|              777|           104|             122|       81|            260|        89.0|        89.0|              122|          NULL|\n",
            "| Sunrise Park Resort|            Arizona|   Arizona|      11100|         1800|     9200|     NULL|        0|        1|   2|     3|     1|      0|           7|  65|           2|          1.2|              800|            80|             115|       49|            250|        74.0|        78.0|              104|            80|\n",
            "|Yosemite Ski & Sn...|Northern California|California|       7800|          600|     7200|        0|        0|        0|   0|     1|     3|      1|           5|  10|           2|          0.4|               88|          NULL|             110|       84|            300|        47.0|        47.0|              107|          NULL|\n",
            "|       Bear Mountain|      Sierra Nevada|California|       8805|         1665|     7140|        0|        0|        2|   1|     2|     3|      4|          12|  27|          14|          1.5|              198|           198|             122|       76|            100|        NULL|        NULL|              130|          NULL|\n",
            "|         Bear Valley|      Sierra Nevada|California|       8500|         1900|     6600|        0|        1|        1|   0|     2|     4|      2|          10|  67|           2|          1.2|             1680|           100|             165|       52|            359|        NULL|        NULL|              151|          NULL|\n",
            "|Boreal Mountain R...|      Sierra Nevada|California|       7700|          500|     7200|        0|        0|        1|   1|     3|     1|      2|           8|  33|           6|          1.0|              380|           200|             150|       54|            400|        49.0|        NULL|              150|           200|\n",
            "|         Dodge Ridge|      Sierra Nevada|California|       8200|         1600|     6600|        0|        0|        0|   1|     2|     5|      4|          12|  67|           5|          2.0|              862|          NULL|            NULL|       69|            350|        78.0|        78.0|              140|          NULL|\n",
            "|    Donner Ski Ranch|      Sierra Nevada|California|       8012|          750|     7031|        0|        0|        0|   0|     1|     5|      2|           8|  52|           2|          1.5|              505|            60|             163|       82|            400|        75.0|        75.0|              170|          NULL|\n",
            "|Heavenly Mountain...|      Sierra Nevada|California|      10067|         3500|     7170|        0|        2|        7|   1|     5|     3|      8|          28|  97|           3|          5.5|             4800|          3379|             155|       64|            360|        NULL|        NULL|              157|          NULL|\n",
            "|       June Mountain|      Sierra Nevada|California|      10090|         2590|     7545|     NULL|        0|        2|   0|     0|     4|      1|           7|  41|           2|          2.0|             1500|          NULL|            NULL|       58|            250|        NULL|        NULL|              128|          NULL|\n",
            "|            Kirkwood|      Sierra Nevada|California|       9800|         2000|     7800|        0|        0|        2|   1|     5|     1|      3|          12|  85|           2|          2.5|             2300|           200|             200|       47|            354|        NULL|        NULL|              167|          NULL|\n",
            "|Mammoth Mountain ...|      Sierra Nevada|California|      11053|         3100|     7953|        0|        2|        9|   1|     6|     4|      0|          25| 154|           7|          3.0|             3500|           700|             243|       66|            400|       149.0|       159.0|             NULL|          NULL|\n",
            "| Mt. Shasta Ski Park|      Sierra Nevada|California|       6890|         1435|     5500|     NULL|        0|        0|   0|     3|     0|      1|           4|  32|           2|          1.1|              425|           225|             140|       34|            300|        49.0|        59.0|              130|          NULL|\n",
            "|       Mountain High|      Sierra Nevada|California|       8200|         1600|     6600|     NULL|        0|        2|   2|     2|     5|      3|          14|  59|           1|          1.6|              290|           275|             118|       95|            108|        84.0|        84.0|              150|            73|\n",
            "|           Mt. Baldy|      Sierra Nevada|California|       8600|         2100|     6500|     NULL|        0|        0|   0|     0|     4|      0|           4|  26|        NULL|          2.5|              400|            80|             175|       67|            178|        69.0|        69.0|              200|          NULL|\n",
            "|Northstar California|      Sierra Nevada|California|       8610|         2280|     6330|        0|        1|        7|   1|     2|     0|      7|          20| 100|           9|          1.4|             3170|          1500|             135|       47|            350|        NULL|        NULL|              150|          NULL|\n",
            "|     Sierra-at-Tahoe|      Sierra Nevada|California|       8852|         2212|     6640|     NULL|        0|        3|   0|     1|     5|      5|          14|  46|           6|          2.5|             2000|           200|             160|       73|            460|        99.0|        NULL|              144|          NULL|\n",
            "+--------------------+-------------------+----------+-----------+-------------+---------+---------+---------+---------+----+------+------+-------+------------+----+------------+-------------+-----------------+--------------+----------------+---------+---------------+------------+------------+-----------------+--------------+\n",
            "only showing top 20 rows\n",
            "\n"
          ]
        }
      ]
    },
    {
      "cell_type": "markdown",
      "source": [
        "### Rename Columns in pyspark"
      ],
      "metadata": {
        "id": "x1HNsG1EiO_P"
      }
    },
    {
      "cell_type": "code",
      "source": [
        "## rename cols -- existing + new column\n",
        "df_pyspark = df_pyspark.withColumnRenamed('fastQuads','Quad_ChairLifts')\n",
        "df_pyspark.show()"
      ],
      "metadata": {
        "colab": {
          "base_uri": "https://localhost:8080/"
        },
        "id": "t4fU6vUPiC-w",
        "outputId": "57c405fb-7373-40a2-e488-d7a7fd6fabd5"
      },
      "execution_count": 35,
      "outputs": [
        {
          "output_type": "stream",
          "name": "stdout",
          "text": [
            "+--------------------+-------------------+----------+-----------+-------------+---------+---------+---------+---------------+----+------+------+-------+------------+----+------------+-------------+-----------------+--------------+----------------+---------+---------------+------------+------------+-----------------+--------------+\n",
            "|                Name|             Region|     state|summit_elev|vertical_drop|base_elev|fastEight|fastSixes|Quad_ChairLifts|quad|triple|double|surface|total_chairs|Runs|TerrainParks|LongestRun_mi|SkiableTerrain_ac|Snow Making_ac|daysOpenLastYear|yearsOpen|averageSnowfall|AdultWeekday|AdultWeekend|projectedDaysOpen|NightSkiing_ac|\n",
            "+--------------------+-------------------+----------+-----------+-------------+---------+---------+---------+---------------+----+------+------+-------+------------+----+------------+-------------+-----------------+--------------+----------------+---------+---------------+------------+------------+-----------------+--------------+\n",
            "|      Alyeska Resort|             Alaska|    Alaska|       3939|         2500|      250|        0|        0|              2|   2|     0|     0|      2|           7|  76|           2|          1.0|             1610|           113|             150|       60|            669|        65.0|        85.0|              150|           550|\n",
            "| Eaglecrest Ski Area|             Alaska|    Alaska|       2600|         1540|     1200|        0|        0|              0|   0|     0|     4|      0|           4|  36|           1|          2.0|              640|            60|              45|       44|            350|        47.0|        53.0|               90|          NULL|\n",
            "|    Hilltop Ski Area|             Alaska|    Alaska|       2090|          294|     1796|        0|        0|              0|   0|     1|     0|      2|           3|  13|           1|          1.0|               30|            30|             150|       36|             69|        30.0|        34.0|              152|            30|\n",
            "|    Arizona Snowbowl|            Arizona|   Arizona|      11500|         2300|     9200|        0|        1|              0|   2|     2|     1|      2|           8|  55|           4|          2.0|              777|           104|             122|       81|            260|        89.0|        89.0|              122|          NULL|\n",
            "| Sunrise Park Resort|            Arizona|   Arizona|      11100|         1800|     9200|     NULL|        0|              1|   2|     3|     1|      0|           7|  65|           2|          1.2|              800|            80|             115|       49|            250|        74.0|        78.0|              104|            80|\n",
            "|Yosemite Ski & Sn...|Northern California|California|       7800|          600|     7200|        0|        0|              0|   0|     1|     3|      1|           5|  10|           2|          0.4|               88|          NULL|             110|       84|            300|        47.0|        47.0|              107|          NULL|\n",
            "|       Bear Mountain|      Sierra Nevada|California|       8805|         1665|     7140|        0|        0|              2|   1|     2|     3|      4|          12|  27|          14|          1.5|              198|           198|             122|       76|            100|        NULL|        NULL|              130|          NULL|\n",
            "|         Bear Valley|      Sierra Nevada|California|       8500|         1900|     6600|        0|        1|              1|   0|     2|     4|      2|          10|  67|           2|          1.2|             1680|           100|             165|       52|            359|        NULL|        NULL|              151|          NULL|\n",
            "|Boreal Mountain R...|      Sierra Nevada|California|       7700|          500|     7200|        0|        0|              1|   1|     3|     1|      2|           8|  33|           6|          1.0|              380|           200|             150|       54|            400|        49.0|        NULL|              150|           200|\n",
            "|         Dodge Ridge|      Sierra Nevada|California|       8200|         1600|     6600|        0|        0|              0|   1|     2|     5|      4|          12|  67|           5|          2.0|              862|          NULL|            NULL|       69|            350|        78.0|        78.0|              140|          NULL|\n",
            "|    Donner Ski Ranch|      Sierra Nevada|California|       8012|          750|     7031|        0|        0|              0|   0|     1|     5|      2|           8|  52|           2|          1.5|              505|            60|             163|       82|            400|        75.0|        75.0|              170|          NULL|\n",
            "|Heavenly Mountain...|      Sierra Nevada|California|      10067|         3500|     7170|        0|        2|              7|   1|     5|     3|      8|          28|  97|           3|          5.5|             4800|          3379|             155|       64|            360|        NULL|        NULL|              157|          NULL|\n",
            "|       June Mountain|      Sierra Nevada|California|      10090|         2590|     7545|     NULL|        0|              2|   0|     0|     4|      1|           7|  41|           2|          2.0|             1500|          NULL|            NULL|       58|            250|        NULL|        NULL|              128|          NULL|\n",
            "|            Kirkwood|      Sierra Nevada|California|       9800|         2000|     7800|        0|        0|              2|   1|     5|     1|      3|          12|  85|           2|          2.5|             2300|           200|             200|       47|            354|        NULL|        NULL|              167|          NULL|\n",
            "|Mammoth Mountain ...|      Sierra Nevada|California|      11053|         3100|     7953|        0|        2|              9|   1|     6|     4|      0|          25| 154|           7|          3.0|             3500|           700|             243|       66|            400|       149.0|       159.0|             NULL|          NULL|\n",
            "| Mt. Shasta Ski Park|      Sierra Nevada|California|       6890|         1435|     5500|     NULL|        0|              0|   0|     3|     0|      1|           4|  32|           2|          1.1|              425|           225|             140|       34|            300|        49.0|        59.0|              130|          NULL|\n",
            "|       Mountain High|      Sierra Nevada|California|       8200|         1600|     6600|     NULL|        0|              2|   2|     2|     5|      3|          14|  59|           1|          1.6|              290|           275|             118|       95|            108|        84.0|        84.0|              150|            73|\n",
            "|           Mt. Baldy|      Sierra Nevada|California|       8600|         2100|     6500|     NULL|        0|              0|   0|     0|     4|      0|           4|  26|        NULL|          2.5|              400|            80|             175|       67|            178|        69.0|        69.0|              200|          NULL|\n",
            "|Northstar California|      Sierra Nevada|California|       8610|         2280|     6330|        0|        1|              7|   1|     2|     0|      7|          20| 100|           9|          1.4|             3170|          1500|             135|       47|            350|        NULL|        NULL|              150|          NULL|\n",
            "|     Sierra-at-Tahoe|      Sierra Nevada|California|       8852|         2212|     6640|     NULL|        0|              3|   0|     1|     5|      5|          14|  46|           6|          2.5|             2000|           200|             160|       73|            460|        99.0|        NULL|              144|          NULL|\n",
            "+--------------------+-------------------+----------+-----------+-------------+---------+---------+---------+---------------+----+------+------+-------+------------+----+------------+-------------+-----------------+--------------+----------------+---------+---------------+------------+------------+-----------------+--------------+\n",
            "only showing top 20 rows\n",
            "\n"
          ]
        }
      ]
    },
    {
      "cell_type": "markdown",
      "source": [
        "# PySpark Handling Missing Values\n",
        "* Dropping columns\n",
        "* Dropping rows\n",
        "* Various parameters in dropping functionalities\n",
        "* Handling missing values by Mean, Median, Mode"
      ],
      "metadata": {
        "id": "4wLZr0GDjOnD"
      }
    },
    {
      "cell_type": "code",
      "source": [
        "## create spark session\n",
        "from pyspark.sql import SparkSession\n",
        "spark = SparkSession.builder.appName('Practice').getOrCreate()"
      ],
      "metadata": {
        "id": "MgQiRc1tipcH"
      },
      "execution_count": 36,
      "outputs": []
    },
    {
      "cell_type": "code",
      "source": [
        "## read dataset\n",
        "df_pyspark = spark.read.csv('/content/drive/MyDrive/Colab Notebooks/Deep Learning Notebooks/BERT Sentiment Analysis Project/Tweets.csv',\n",
        "               header=True,\n",
        "               inferSchema=True)"
      ],
      "metadata": {
        "id": "HWDZ2_OKu3Cy"
      },
      "execution_count": 45,
      "outputs": []
    },
    {
      "cell_type": "code",
      "source": [
        "## show data\n",
        "df_pyspark.show()"
      ],
      "metadata": {
        "colab": {
          "base_uri": "https://localhost:8080/"
        },
        "id": "bRG2CqJGvdc7",
        "outputId": "3af47d15-9059-417c-b5de-6579651095a5"
      },
      "execution_count": 46,
      "outputs": [
        {
          "output_type": "stream",
          "name": "stdout",
          "text": [
            "+--------------------+-----------------+----------------------------+--------------+-------------------------+--------------+----------------------+---------------+-------------------+-------------+--------------------+-----------+--------------------+--------------------+--------------------+\n",
            "|            tweet_id|airline_sentiment|airline_sentiment_confidence|negativereason|negativereason_confidence|       airline|airline_sentiment_gold|           name|negativereason_gold|retweet_count|                text|tweet_coord|       tweet_created|      tweet_location|       user_timezone|\n",
            "+--------------------+-----------------+----------------------------+--------------+-------------------------+--------------+----------------------+---------------+-------------------+-------------+--------------------+-----------+--------------------+--------------------+--------------------+\n",
            "|  570306133677760513|          neutral|                         1.0|          NULL|                     NULL|Virgin America|                  NULL|        cairdin|               NULL|            0|@VirginAmerica Wh...|       NULL|2015-02-24 11:35:...|                NULL|Eastern Time (US ...|\n",
            "|  570301130888122368|         positive|                      0.3486|          NULL|                      0.0|Virgin America|                  NULL|       jnardino|               NULL|            0|@VirginAmerica pl...|       NULL|2015-02-24 11:15:...|                NULL|Pacific Time (US ...|\n",
            "|  570301083672813571|          neutral|                      0.6837|          NULL|                     NULL|Virgin America|                  NULL|     yvonnalynn|               NULL|            0|@VirginAmerica I ...|       NULL|2015-02-24 11:15:...|           Lets Play|Central Time (US ...|\n",
            "|  570301031407624196|         negative|                         1.0|    Bad Flight|                   0.7033|Virgin America|                  NULL|       jnardino|               NULL|            0|\"@VirginAmerica i...|       NULL|2015-02-24 11:15:...|                NULL|Pacific Time (US ...|\n",
            "|  570300817074462722|         negative|                         1.0|    Can't Tell|                      1.0|Virgin America|                  NULL|       jnardino|               NULL|            0|@VirginAmerica an...|       NULL|2015-02-24 11:14:...|                NULL|Pacific Time (US ...|\n",
            "|  570300767074181121|         negative|                         1.0|    Can't Tell|                   0.6842|Virgin America|                  NULL|       jnardino|               NULL|            0|@VirginAmerica se...|       NULL|                NULL|                NULL|                NULL|\n",
            "|it's really the o...|             NULL|        2015-02-24 11:14:...|          NULL|     Pacific Time (US ...|          NULL|                  NULL|           NULL|               NULL|         NULL|                NULL|       NULL|                NULL|                NULL|                NULL|\n",
            "|  570300616901320704|         positive|                      0.6745|          NULL|                      0.0|Virgin America|                  NULL|     cjmcginnis|               NULL|            0|@VirginAmerica ye...|       NULL|2015-02-24 11:13:...|    San Francisco CA|Pacific Time (US ...|\n",
            "|  570300248553349120|          neutral|                       0.634|          NULL|                     NULL|Virgin America|                  NULL|          pilot|               NULL|            0|@VirginAmerica Re...|       NULL|2015-02-24 11:12:...|         Los Angeles|Pacific Time (US ...|\n",
            "|  570299953286942721|         positive|                      0.6559|          NULL|                     NULL|Virgin America|                  NULL|       dhepburn|               NULL|            0|@virginamerica We...|       NULL|2015-02-24 11:11:...|           San Diego|Pacific Time (US ...|\n",
            "|  570295459631263746|         positive|                         1.0|          NULL|                     NULL|Virgin America|                  NULL|     YupitsTate|               NULL|            0|@VirginAmerica it...|       NULL|2015-02-24 10:53:...|         Los Angeles|Eastern Time (US ...|\n",
            "|  570294189143031808|          neutral|                      0.6769|          NULL|                      0.0|Virgin America|                  NULL|idk_but_youtube|               NULL|            0|@VirginAmerica di...|       NULL|2015-02-24 10:48:...|     1/1 loner squad|Eastern Time (US ...|\n",
            "|  570289724453216256|         positive|                         1.0|          NULL|                     NULL|Virgin America|                  NULL|   HyperCamiLax|               NULL|            0|@VirginAmerica I ...|       NULL|2015-02-24 10:30:...|                 NYC|    America/New_York|\n",
            "|  570289584061480960|         positive|                         1.0|          NULL|                     NULL|Virgin America|                  NULL|   HyperCamiLax|               NULL|            0|@VirginAmerica Th...|       NULL|2015-02-24 10:30:...|                 NYC|    America/New_York|\n",
            "|  570287408438120448|         positive|                      0.6451|          NULL|                     NULL|Virgin America|                  NULL|   mollanderson|               NULL|            0|@VirginAmerica @v...|       NULL|2015-02-24 10:21:...|                NULL|Eastern Time (US ...|\n",
            "|  570285904809598977|         positive|                         1.0|          NULL|                     NULL|Virgin America|                  NULL|       sjespers|               NULL|            0|@VirginAmerica Th...|       NULL|2015-02-24 10:15:...|   San Francisco, CA|Pacific Time (US ...|\n",
            "|  570282469121007616|         negative|                      0.6842|   Late Flight|                   0.3684|Virgin America|                  NULL|smartwatermelon|               NULL|            0|@VirginAmerica SF...|       NULL|2015-02-24 10:01:...|       palo alto, ca|Pacific Time (US ...|\n",
            "|  570277724385734656|         positive|                         1.0|          NULL|                     NULL|Virgin America|                  NULL|  ItzBrianHunty|               NULL|            0|@VirginAmerica So...|       NULL|2015-02-24 09:42:...|         west covina|Pacific Time (US ...|\n",
            "|  570276917301137409|         negative|                         1.0|    Bad Flight|                      1.0|Virgin America|                  NULL|  heatherovieda|               NULL|            0|@VirginAmerica  I...|       NULL|2015-02-24 09:39:...|this place called...|Eastern Time (US ...|\n",
            "|  570270684619923457|         positive|                         1.0|          NULL|                     NULL|Virgin America|                  NULL|   thebrandiray|               NULL|            0|I ❤️ flying @Virg...|       NULL|2015-02-24 09:15:...|Somewhere celebra...|Atlantic Time (Ca...|\n",
            "+--------------------+-----------------+----------------------------+--------------+-------------------------+--------------+----------------------+---------------+-------------------+-------------+--------------------+-----------+--------------------+--------------------+--------------------+\n",
            "only showing top 20 rows\n",
            "\n"
          ]
        }
      ]
    },
    {
      "cell_type": "markdown",
      "source": [
        "## Drop columns"
      ],
      "metadata": {
        "id": "eARxREYNvvnW"
      }
    },
    {
      "cell_type": "code",
      "source": [
        "## drop cols -- doesn't drop inplace\n",
        "df_pyspark.drop('name').show()"
      ],
      "metadata": {
        "colab": {
          "base_uri": "https://localhost:8080/"
        },
        "id": "R3e_527fvprT",
        "outputId": "72f79ec2-d5d9-4610-dfe7-cb6c2e22a07b"
      },
      "execution_count": 47,
      "outputs": [
        {
          "output_type": "stream",
          "name": "stdout",
          "text": [
            "+--------------------+-----------------+----------------------------+--------------+-------------------------+--------------+----------------------+-------------------+-------------+--------------------+-----------+--------------------+--------------------+--------------------+\n",
            "|            tweet_id|airline_sentiment|airline_sentiment_confidence|negativereason|negativereason_confidence|       airline|airline_sentiment_gold|negativereason_gold|retweet_count|                text|tweet_coord|       tweet_created|      tweet_location|       user_timezone|\n",
            "+--------------------+-----------------+----------------------------+--------------+-------------------------+--------------+----------------------+-------------------+-------------+--------------------+-----------+--------------------+--------------------+--------------------+\n",
            "|  570306133677760513|          neutral|                         1.0|          NULL|                     NULL|Virgin America|                  NULL|               NULL|            0|@VirginAmerica Wh...|       NULL|2015-02-24 11:35:...|                NULL|Eastern Time (US ...|\n",
            "|  570301130888122368|         positive|                      0.3486|          NULL|                      0.0|Virgin America|                  NULL|               NULL|            0|@VirginAmerica pl...|       NULL|2015-02-24 11:15:...|                NULL|Pacific Time (US ...|\n",
            "|  570301083672813571|          neutral|                      0.6837|          NULL|                     NULL|Virgin America|                  NULL|               NULL|            0|@VirginAmerica I ...|       NULL|2015-02-24 11:15:...|           Lets Play|Central Time (US ...|\n",
            "|  570301031407624196|         negative|                         1.0|    Bad Flight|                   0.7033|Virgin America|                  NULL|               NULL|            0|\"@VirginAmerica i...|       NULL|2015-02-24 11:15:...|                NULL|Pacific Time (US ...|\n",
            "|  570300817074462722|         negative|                         1.0|    Can't Tell|                      1.0|Virgin America|                  NULL|               NULL|            0|@VirginAmerica an...|       NULL|2015-02-24 11:14:...|                NULL|Pacific Time (US ...|\n",
            "|  570300767074181121|         negative|                         1.0|    Can't Tell|                   0.6842|Virgin America|                  NULL|               NULL|            0|@VirginAmerica se...|       NULL|                NULL|                NULL|                NULL|\n",
            "|it's really the o...|             NULL|        2015-02-24 11:14:...|          NULL|     Pacific Time (US ...|          NULL|                  NULL|               NULL|         NULL|                NULL|       NULL|                NULL|                NULL|                NULL|\n",
            "|  570300616901320704|         positive|                      0.6745|          NULL|                      0.0|Virgin America|                  NULL|               NULL|            0|@VirginAmerica ye...|       NULL|2015-02-24 11:13:...|    San Francisco CA|Pacific Time (US ...|\n",
            "|  570300248553349120|          neutral|                       0.634|          NULL|                     NULL|Virgin America|                  NULL|               NULL|            0|@VirginAmerica Re...|       NULL|2015-02-24 11:12:...|         Los Angeles|Pacific Time (US ...|\n",
            "|  570299953286942721|         positive|                      0.6559|          NULL|                     NULL|Virgin America|                  NULL|               NULL|            0|@virginamerica We...|       NULL|2015-02-24 11:11:...|           San Diego|Pacific Time (US ...|\n",
            "|  570295459631263746|         positive|                         1.0|          NULL|                     NULL|Virgin America|                  NULL|               NULL|            0|@VirginAmerica it...|       NULL|2015-02-24 10:53:...|         Los Angeles|Eastern Time (US ...|\n",
            "|  570294189143031808|          neutral|                      0.6769|          NULL|                      0.0|Virgin America|                  NULL|               NULL|            0|@VirginAmerica di...|       NULL|2015-02-24 10:48:...|     1/1 loner squad|Eastern Time (US ...|\n",
            "|  570289724453216256|         positive|                         1.0|          NULL|                     NULL|Virgin America|                  NULL|               NULL|            0|@VirginAmerica I ...|       NULL|2015-02-24 10:30:...|                 NYC|    America/New_York|\n",
            "|  570289584061480960|         positive|                         1.0|          NULL|                     NULL|Virgin America|                  NULL|               NULL|            0|@VirginAmerica Th...|       NULL|2015-02-24 10:30:...|                 NYC|    America/New_York|\n",
            "|  570287408438120448|         positive|                      0.6451|          NULL|                     NULL|Virgin America|                  NULL|               NULL|            0|@VirginAmerica @v...|       NULL|2015-02-24 10:21:...|                NULL|Eastern Time (US ...|\n",
            "|  570285904809598977|         positive|                         1.0|          NULL|                     NULL|Virgin America|                  NULL|               NULL|            0|@VirginAmerica Th...|       NULL|2015-02-24 10:15:...|   San Francisco, CA|Pacific Time (US ...|\n",
            "|  570282469121007616|         negative|                      0.6842|   Late Flight|                   0.3684|Virgin America|                  NULL|               NULL|            0|@VirginAmerica SF...|       NULL|2015-02-24 10:01:...|       palo alto, ca|Pacific Time (US ...|\n",
            "|  570277724385734656|         positive|                         1.0|          NULL|                     NULL|Virgin America|                  NULL|               NULL|            0|@VirginAmerica So...|       NULL|2015-02-24 09:42:...|         west covina|Pacific Time (US ...|\n",
            "|  570276917301137409|         negative|                         1.0|    Bad Flight|                      1.0|Virgin America|                  NULL|               NULL|            0|@VirginAmerica  I...|       NULL|2015-02-24 09:39:...|this place called...|Eastern Time (US ...|\n",
            "|  570270684619923457|         positive|                         1.0|          NULL|                     NULL|Virgin America|                  NULL|               NULL|            0|I ❤️ flying @Virg...|       NULL|2015-02-24 09:15:...|Somewhere celebra...|Atlantic Time (Ca...|\n",
            "+--------------------+-----------------+----------------------------+--------------+-------------------------+--------------+----------------------+-------------------+-------------+--------------------+-----------+--------------------+--------------------+--------------------+\n",
            "only showing top 20 rows\n",
            "\n"
          ]
        }
      ]
    },
    {
      "cell_type": "markdown",
      "source": [
        "## Dropping null values"
      ],
      "metadata": {
        "id": "7W1JhXhuwQII"
      }
    },
    {
      "cell_type": "code",
      "source": [
        "## view spark df again\n",
        "df_pyspark.show()"
      ],
      "metadata": {
        "colab": {
          "base_uri": "https://localhost:8080/"
        },
        "id": "xlo7FslHv8ik",
        "outputId": "d4b4ff24-7356-4516-cfdc-14f1da4fe151"
      },
      "execution_count": 48,
      "outputs": [
        {
          "output_type": "stream",
          "name": "stdout",
          "text": [
            "+--------------------+-----------------+----------------------------+--------------+-------------------------+--------------+----------------------+---------------+-------------------+-------------+--------------------+-----------+--------------------+--------------------+--------------------+\n",
            "|            tweet_id|airline_sentiment|airline_sentiment_confidence|negativereason|negativereason_confidence|       airline|airline_sentiment_gold|           name|negativereason_gold|retweet_count|                text|tweet_coord|       tweet_created|      tweet_location|       user_timezone|\n",
            "+--------------------+-----------------+----------------------------+--------------+-------------------------+--------------+----------------------+---------------+-------------------+-------------+--------------------+-----------+--------------------+--------------------+--------------------+\n",
            "|  570306133677760513|          neutral|                         1.0|          NULL|                     NULL|Virgin America|                  NULL|        cairdin|               NULL|            0|@VirginAmerica Wh...|       NULL|2015-02-24 11:35:...|                NULL|Eastern Time (US ...|\n",
            "|  570301130888122368|         positive|                      0.3486|          NULL|                      0.0|Virgin America|                  NULL|       jnardino|               NULL|            0|@VirginAmerica pl...|       NULL|2015-02-24 11:15:...|                NULL|Pacific Time (US ...|\n",
            "|  570301083672813571|          neutral|                      0.6837|          NULL|                     NULL|Virgin America|                  NULL|     yvonnalynn|               NULL|            0|@VirginAmerica I ...|       NULL|2015-02-24 11:15:...|           Lets Play|Central Time (US ...|\n",
            "|  570301031407624196|         negative|                         1.0|    Bad Flight|                   0.7033|Virgin America|                  NULL|       jnardino|               NULL|            0|\"@VirginAmerica i...|       NULL|2015-02-24 11:15:...|                NULL|Pacific Time (US ...|\n",
            "|  570300817074462722|         negative|                         1.0|    Can't Tell|                      1.0|Virgin America|                  NULL|       jnardino|               NULL|            0|@VirginAmerica an...|       NULL|2015-02-24 11:14:...|                NULL|Pacific Time (US ...|\n",
            "|  570300767074181121|         negative|                         1.0|    Can't Tell|                   0.6842|Virgin America|                  NULL|       jnardino|               NULL|            0|@VirginAmerica se...|       NULL|                NULL|                NULL|                NULL|\n",
            "|it's really the o...|             NULL|        2015-02-24 11:14:...|          NULL|     Pacific Time (US ...|          NULL|                  NULL|           NULL|               NULL|         NULL|                NULL|       NULL|                NULL|                NULL|                NULL|\n",
            "|  570300616901320704|         positive|                      0.6745|          NULL|                      0.0|Virgin America|                  NULL|     cjmcginnis|               NULL|            0|@VirginAmerica ye...|       NULL|2015-02-24 11:13:...|    San Francisco CA|Pacific Time (US ...|\n",
            "|  570300248553349120|          neutral|                       0.634|          NULL|                     NULL|Virgin America|                  NULL|          pilot|               NULL|            0|@VirginAmerica Re...|       NULL|2015-02-24 11:12:...|         Los Angeles|Pacific Time (US ...|\n",
            "|  570299953286942721|         positive|                      0.6559|          NULL|                     NULL|Virgin America|                  NULL|       dhepburn|               NULL|            0|@virginamerica We...|       NULL|2015-02-24 11:11:...|           San Diego|Pacific Time (US ...|\n",
            "|  570295459631263746|         positive|                         1.0|          NULL|                     NULL|Virgin America|                  NULL|     YupitsTate|               NULL|            0|@VirginAmerica it...|       NULL|2015-02-24 10:53:...|         Los Angeles|Eastern Time (US ...|\n",
            "|  570294189143031808|          neutral|                      0.6769|          NULL|                      0.0|Virgin America|                  NULL|idk_but_youtube|               NULL|            0|@VirginAmerica di...|       NULL|2015-02-24 10:48:...|     1/1 loner squad|Eastern Time (US ...|\n",
            "|  570289724453216256|         positive|                         1.0|          NULL|                     NULL|Virgin America|                  NULL|   HyperCamiLax|               NULL|            0|@VirginAmerica I ...|       NULL|2015-02-24 10:30:...|                 NYC|    America/New_York|\n",
            "|  570289584061480960|         positive|                         1.0|          NULL|                     NULL|Virgin America|                  NULL|   HyperCamiLax|               NULL|            0|@VirginAmerica Th...|       NULL|2015-02-24 10:30:...|                 NYC|    America/New_York|\n",
            "|  570287408438120448|         positive|                      0.6451|          NULL|                     NULL|Virgin America|                  NULL|   mollanderson|               NULL|            0|@VirginAmerica @v...|       NULL|2015-02-24 10:21:...|                NULL|Eastern Time (US ...|\n",
            "|  570285904809598977|         positive|                         1.0|          NULL|                     NULL|Virgin America|                  NULL|       sjespers|               NULL|            0|@VirginAmerica Th...|       NULL|2015-02-24 10:15:...|   San Francisco, CA|Pacific Time (US ...|\n",
            "|  570282469121007616|         negative|                      0.6842|   Late Flight|                   0.3684|Virgin America|                  NULL|smartwatermelon|               NULL|            0|@VirginAmerica SF...|       NULL|2015-02-24 10:01:...|       palo alto, ca|Pacific Time (US ...|\n",
            "|  570277724385734656|         positive|                         1.0|          NULL|                     NULL|Virgin America|                  NULL|  ItzBrianHunty|               NULL|            0|@VirginAmerica So...|       NULL|2015-02-24 09:42:...|         west covina|Pacific Time (US ...|\n",
            "|  570276917301137409|         negative|                         1.0|    Bad Flight|                      1.0|Virgin America|                  NULL|  heatherovieda|               NULL|            0|@VirginAmerica  I...|       NULL|2015-02-24 09:39:...|this place called...|Eastern Time (US ...|\n",
            "|  570270684619923457|         positive|                         1.0|          NULL|                     NULL|Virgin America|                  NULL|   thebrandiray|               NULL|            0|I ❤️ flying @Virg...|       NULL|2015-02-24 09:15:...|Somewhere celebra...|Atlantic Time (Ca...|\n",
            "+--------------------+-----------------+----------------------------+--------------+-------------------------+--------------+----------------------+---------------+-------------------+-------------+--------------------+-----------+--------------------+--------------------+--------------------+\n",
            "only showing top 20 rows\n",
            "\n"
          ]
        }
      ]
    },
    {
      "cell_type": "markdown",
      "source": [
        "### Drops ALL ROWS with null values"
      ],
      "metadata": {
        "id": "peU4whfDwrAa"
      }
    },
    {
      "cell_type": "code",
      "source": [
        "## null values --> options: drop, fill, replace\n",
        "df_pyspark.na.drop().show()"
      ],
      "metadata": {
        "colab": {
          "base_uri": "https://localhost:8080/"
        },
        "id": "ySMBKkj5wVC3",
        "outputId": "da34abbd-2528-4daf-d9c9-90947e9715e3"
      },
      "execution_count": 49,
      "outputs": [
        {
          "output_type": "stream",
          "name": "stdout",
          "text": [
            "+------------------+-----------------+----------------------------+----------------+-------------------------+----------+----------------------+---------------+-------------------+-------------+--------------------+--------------------+--------------------+--------------+--------------------+\n",
            "|          tweet_id|airline_sentiment|airline_sentiment_confidence|  negativereason|negativereason_confidence|   airline|airline_sentiment_gold|           name|negativereason_gold|retweet_count|                text|         tweet_coord|       tweet_created|tweet_location|       user_timezone|\n",
            "+------------------+-----------------+----------------------------+----------------+-------------------------+----------+----------------------+---------------+-------------------+-------------+--------------------+--------------------+--------------------+--------------+--------------------+\n",
            "|567778009013178368|         negative|                         1.0|Cancelled Flight|                      1.0|    United|              negative|  realmikesmith|   Cancelled Flight|            0|@united So what d...|[26.37852293, -81...|2015-02-17 12:10:...|       Chicago|Eastern Time (US ...|\n",
            "|569887533267611648|         negative|                      0.8563|     Late Flight|                   0.5938|US Airways|              negative|ConstanceSCHERE|        Late Flight|            0|@USAirways Seriou...|[39.8805621, -75....|2015-02-23 07:52:...|    Boston, MA|Atlantic Time (Ca...|\n",
            "+------------------+-----------------+----------------------------+----------------+-------------------------+----------+----------------------+---------------+-------------------+-------------+--------------------+--------------------+--------------------+--------------+--------------------+\n",
            "\n"
          ]
        }
      ]
    },
    {
      "cell_type": "markdown",
      "source": [
        "### How == \"all\" --> Drops all NULL records"
      ],
      "metadata": {
        "id": "MscrKl7oOU3p"
      }
    },
    {
      "cell_type": "code",
      "source": [
        "### how = \"any\", \"all\"\n",
        "df_pyspark.na.drop(how=\"all\").show()"
      ],
      "metadata": {
        "colab": {
          "base_uri": "https://localhost:8080/"
        },
        "id": "D7rnuGwbwlvY",
        "outputId": "9335e062-1d20-4f04-e75e-9b4bd8b89c81"
      },
      "execution_count": 50,
      "outputs": [
        {
          "output_type": "stream",
          "name": "stdout",
          "text": [
            "+--------------------+-----------------+----------------------------+--------------+-------------------------+--------------+----------------------+---------------+-------------------+-------------+--------------------+-----------+--------------------+--------------------+--------------------+\n",
            "|            tweet_id|airline_sentiment|airline_sentiment_confidence|negativereason|negativereason_confidence|       airline|airline_sentiment_gold|           name|negativereason_gold|retweet_count|                text|tweet_coord|       tweet_created|      tweet_location|       user_timezone|\n",
            "+--------------------+-----------------+----------------------------+--------------+-------------------------+--------------+----------------------+---------------+-------------------+-------------+--------------------+-----------+--------------------+--------------------+--------------------+\n",
            "|  570306133677760513|          neutral|                         1.0|          NULL|                     NULL|Virgin America|                  NULL|        cairdin|               NULL|            0|@VirginAmerica Wh...|       NULL|2015-02-24 11:35:...|                NULL|Eastern Time (US ...|\n",
            "|  570301130888122368|         positive|                      0.3486|          NULL|                      0.0|Virgin America|                  NULL|       jnardino|               NULL|            0|@VirginAmerica pl...|       NULL|2015-02-24 11:15:...|                NULL|Pacific Time (US ...|\n",
            "|  570301083672813571|          neutral|                      0.6837|          NULL|                     NULL|Virgin America|                  NULL|     yvonnalynn|               NULL|            0|@VirginAmerica I ...|       NULL|2015-02-24 11:15:...|           Lets Play|Central Time (US ...|\n",
            "|  570301031407624196|         negative|                         1.0|    Bad Flight|                   0.7033|Virgin America|                  NULL|       jnardino|               NULL|            0|\"@VirginAmerica i...|       NULL|2015-02-24 11:15:...|                NULL|Pacific Time (US ...|\n",
            "|  570300817074462722|         negative|                         1.0|    Can't Tell|                      1.0|Virgin America|                  NULL|       jnardino|               NULL|            0|@VirginAmerica an...|       NULL|2015-02-24 11:14:...|                NULL|Pacific Time (US ...|\n",
            "|  570300767074181121|         negative|                         1.0|    Can't Tell|                   0.6842|Virgin America|                  NULL|       jnardino|               NULL|            0|@VirginAmerica se...|       NULL|                NULL|                NULL|                NULL|\n",
            "|it's really the o...|             NULL|        2015-02-24 11:14:...|          NULL|     Pacific Time (US ...|          NULL|                  NULL|           NULL|               NULL|         NULL|                NULL|       NULL|                NULL|                NULL|                NULL|\n",
            "|  570300616901320704|         positive|                      0.6745|          NULL|                      0.0|Virgin America|                  NULL|     cjmcginnis|               NULL|            0|@VirginAmerica ye...|       NULL|2015-02-24 11:13:...|    San Francisco CA|Pacific Time (US ...|\n",
            "|  570300248553349120|          neutral|                       0.634|          NULL|                     NULL|Virgin America|                  NULL|          pilot|               NULL|            0|@VirginAmerica Re...|       NULL|2015-02-24 11:12:...|         Los Angeles|Pacific Time (US ...|\n",
            "|  570299953286942721|         positive|                      0.6559|          NULL|                     NULL|Virgin America|                  NULL|       dhepburn|               NULL|            0|@virginamerica We...|       NULL|2015-02-24 11:11:...|           San Diego|Pacific Time (US ...|\n",
            "|  570295459631263746|         positive|                         1.0|          NULL|                     NULL|Virgin America|                  NULL|     YupitsTate|               NULL|            0|@VirginAmerica it...|       NULL|2015-02-24 10:53:...|         Los Angeles|Eastern Time (US ...|\n",
            "|  570294189143031808|          neutral|                      0.6769|          NULL|                      0.0|Virgin America|                  NULL|idk_but_youtube|               NULL|            0|@VirginAmerica di...|       NULL|2015-02-24 10:48:...|     1/1 loner squad|Eastern Time (US ...|\n",
            "|  570289724453216256|         positive|                         1.0|          NULL|                     NULL|Virgin America|                  NULL|   HyperCamiLax|               NULL|            0|@VirginAmerica I ...|       NULL|2015-02-24 10:30:...|                 NYC|    America/New_York|\n",
            "|  570289584061480960|         positive|                         1.0|          NULL|                     NULL|Virgin America|                  NULL|   HyperCamiLax|               NULL|            0|@VirginAmerica Th...|       NULL|2015-02-24 10:30:...|                 NYC|    America/New_York|\n",
            "|  570287408438120448|         positive|                      0.6451|          NULL|                     NULL|Virgin America|                  NULL|   mollanderson|               NULL|            0|@VirginAmerica @v...|       NULL|2015-02-24 10:21:...|                NULL|Eastern Time (US ...|\n",
            "|  570285904809598977|         positive|                         1.0|          NULL|                     NULL|Virgin America|                  NULL|       sjespers|               NULL|            0|@VirginAmerica Th...|       NULL|2015-02-24 10:15:...|   San Francisco, CA|Pacific Time (US ...|\n",
            "|  570282469121007616|         negative|                      0.6842|   Late Flight|                   0.3684|Virgin America|                  NULL|smartwatermelon|               NULL|            0|@VirginAmerica SF...|       NULL|2015-02-24 10:01:...|       palo alto, ca|Pacific Time (US ...|\n",
            "|  570277724385734656|         positive|                         1.0|          NULL|                     NULL|Virgin America|                  NULL|  ItzBrianHunty|               NULL|            0|@VirginAmerica So...|       NULL|2015-02-24 09:42:...|         west covina|Pacific Time (US ...|\n",
            "|  570276917301137409|         negative|                         1.0|    Bad Flight|                      1.0|Virgin America|                  NULL|  heatherovieda|               NULL|            0|@VirginAmerica  I...|       NULL|2015-02-24 09:39:...|this place called...|Eastern Time (US ...|\n",
            "|  570270684619923457|         positive|                         1.0|          NULL|                     NULL|Virgin America|                  NULL|   thebrandiray|               NULL|            0|I ❤️ flying @Virg...|       NULL|2015-02-24 09:15:...|Somewhere celebra...|Atlantic Time (Ca...|\n",
            "+--------------------+-----------------+----------------------------+--------------+-------------------------+--------------+----------------------+---------------+-------------------+-------------+--------------------+-----------+--------------------+--------------------+--------------------+\n",
            "only showing top 20 rows\n",
            "\n"
          ]
        }
      ]
    },
    {
      "cell_type": "markdown",
      "source": [
        "### Threshold\n",
        "* This means if the **threshold value is 2, at least 2 non-null values should be present.**\n",
        "  * And so on and so forth...."
      ],
      "metadata": {
        "id": "SoBeWAAixjhn"
      }
    },
    {
      "cell_type": "code",
      "source": [
        "### threshold =\n",
        "df_pyspark.na.drop(how=\"any\",\n",
        "                   thresh=2).show()"
      ],
      "metadata": {
        "colab": {
          "base_uri": "https://localhost:8080/"
        },
        "id": "SJcjw9o3xCd5",
        "outputId": "7bb71c4c-9ca1-4b60-91dd-dde5ab224332"
      },
      "execution_count": 51,
      "outputs": [
        {
          "output_type": "stream",
          "name": "stdout",
          "text": [
            "+--------------------+-----------------+----------------------------+--------------+-------------------------+--------------+----------------------+---------------+-------------------+-------------+--------------------+-----------+--------------------+--------------------+--------------------+\n",
            "|            tweet_id|airline_sentiment|airline_sentiment_confidence|negativereason|negativereason_confidence|       airline|airline_sentiment_gold|           name|negativereason_gold|retweet_count|                text|tweet_coord|       tweet_created|      tweet_location|       user_timezone|\n",
            "+--------------------+-----------------+----------------------------+--------------+-------------------------+--------------+----------------------+---------------+-------------------+-------------+--------------------+-----------+--------------------+--------------------+--------------------+\n",
            "|  570306133677760513|          neutral|                         1.0|          NULL|                     NULL|Virgin America|                  NULL|        cairdin|               NULL|            0|@VirginAmerica Wh...|       NULL|2015-02-24 11:35:...|                NULL|Eastern Time (US ...|\n",
            "|  570301130888122368|         positive|                      0.3486|          NULL|                      0.0|Virgin America|                  NULL|       jnardino|               NULL|            0|@VirginAmerica pl...|       NULL|2015-02-24 11:15:...|                NULL|Pacific Time (US ...|\n",
            "|  570301083672813571|          neutral|                      0.6837|          NULL|                     NULL|Virgin America|                  NULL|     yvonnalynn|               NULL|            0|@VirginAmerica I ...|       NULL|2015-02-24 11:15:...|           Lets Play|Central Time (US ...|\n",
            "|  570301031407624196|         negative|                         1.0|    Bad Flight|                   0.7033|Virgin America|                  NULL|       jnardino|               NULL|            0|\"@VirginAmerica i...|       NULL|2015-02-24 11:15:...|                NULL|Pacific Time (US ...|\n",
            "|  570300817074462722|         negative|                         1.0|    Can't Tell|                      1.0|Virgin America|                  NULL|       jnardino|               NULL|            0|@VirginAmerica an...|       NULL|2015-02-24 11:14:...|                NULL|Pacific Time (US ...|\n",
            "|  570300767074181121|         negative|                         1.0|    Can't Tell|                   0.6842|Virgin America|                  NULL|       jnardino|               NULL|            0|@VirginAmerica se...|       NULL|                NULL|                NULL|                NULL|\n",
            "|it's really the o...|             NULL|        2015-02-24 11:14:...|          NULL|     Pacific Time (US ...|          NULL|                  NULL|           NULL|               NULL|         NULL|                NULL|       NULL|                NULL|                NULL|                NULL|\n",
            "|  570300616901320704|         positive|                      0.6745|          NULL|                      0.0|Virgin America|                  NULL|     cjmcginnis|               NULL|            0|@VirginAmerica ye...|       NULL|2015-02-24 11:13:...|    San Francisco CA|Pacific Time (US ...|\n",
            "|  570300248553349120|          neutral|                       0.634|          NULL|                     NULL|Virgin America|                  NULL|          pilot|               NULL|            0|@VirginAmerica Re...|       NULL|2015-02-24 11:12:...|         Los Angeles|Pacific Time (US ...|\n",
            "|  570299953286942721|         positive|                      0.6559|          NULL|                     NULL|Virgin America|                  NULL|       dhepburn|               NULL|            0|@virginamerica We...|       NULL|2015-02-24 11:11:...|           San Diego|Pacific Time (US ...|\n",
            "|  570295459631263746|         positive|                         1.0|          NULL|                     NULL|Virgin America|                  NULL|     YupitsTate|               NULL|            0|@VirginAmerica it...|       NULL|2015-02-24 10:53:...|         Los Angeles|Eastern Time (US ...|\n",
            "|  570294189143031808|          neutral|                      0.6769|          NULL|                      0.0|Virgin America|                  NULL|idk_but_youtube|               NULL|            0|@VirginAmerica di...|       NULL|2015-02-24 10:48:...|     1/1 loner squad|Eastern Time (US ...|\n",
            "|  570289724453216256|         positive|                         1.0|          NULL|                     NULL|Virgin America|                  NULL|   HyperCamiLax|               NULL|            0|@VirginAmerica I ...|       NULL|2015-02-24 10:30:...|                 NYC|    America/New_York|\n",
            "|  570289584061480960|         positive|                         1.0|          NULL|                     NULL|Virgin America|                  NULL|   HyperCamiLax|               NULL|            0|@VirginAmerica Th...|       NULL|2015-02-24 10:30:...|                 NYC|    America/New_York|\n",
            "|  570287408438120448|         positive|                      0.6451|          NULL|                     NULL|Virgin America|                  NULL|   mollanderson|               NULL|            0|@VirginAmerica @v...|       NULL|2015-02-24 10:21:...|                NULL|Eastern Time (US ...|\n",
            "|  570285904809598977|         positive|                         1.0|          NULL|                     NULL|Virgin America|                  NULL|       sjespers|               NULL|            0|@VirginAmerica Th...|       NULL|2015-02-24 10:15:...|   San Francisco, CA|Pacific Time (US ...|\n",
            "|  570282469121007616|         negative|                      0.6842|   Late Flight|                   0.3684|Virgin America|                  NULL|smartwatermelon|               NULL|            0|@VirginAmerica SF...|       NULL|2015-02-24 10:01:...|       palo alto, ca|Pacific Time (US ...|\n",
            "|  570277724385734656|         positive|                         1.0|          NULL|                     NULL|Virgin America|                  NULL|  ItzBrianHunty|               NULL|            0|@VirginAmerica So...|       NULL|2015-02-24 09:42:...|         west covina|Pacific Time (US ...|\n",
            "|  570276917301137409|         negative|                         1.0|    Bad Flight|                      1.0|Virgin America|                  NULL|  heatherovieda|               NULL|            0|@VirginAmerica  I...|       NULL|2015-02-24 09:39:...|this place called...|Eastern Time (US ...|\n",
            "|  570270684619923457|         positive|                         1.0|          NULL|                     NULL|Virgin America|                  NULL|   thebrandiray|               NULL|            0|I ❤️ flying @Virg...|       NULL|2015-02-24 09:15:...|Somewhere celebra...|Atlantic Time (Ca...|\n",
            "+--------------------+-----------------+----------------------------+--------------+-------------------------+--------------+----------------------+---------------+-------------------+-------------+--------------------+-----------+--------------------+--------------------+--------------------+\n",
            "only showing top 20 rows\n",
            "\n"
          ]
        }
      ]
    },
    {
      "cell_type": "markdown",
      "source": [
        "### Subset\n",
        "* Another param in drop\n",
        "* Drops null records in the specified `subset` list or array given."
      ],
      "metadata": {
        "id": "ru5k_XmoO5Qb"
      }
    },
    {
      "cell_type": "code",
      "source": [
        "### Subset\n",
        "df_pyspark.na.drop(how='any',\n",
        "                   #thresh=3,\n",
        "                   subset=['tweet_location']).show()"
      ],
      "metadata": {
        "id": "KNTgi-JQyBdc",
        "colab": {
          "base_uri": "https://localhost:8080/"
        },
        "outputId": "5389db5f-3e16-4046-de39-b64006754cb4"
      },
      "execution_count": 52,
      "outputs": [
        {
          "output_type": "stream",
          "name": "stdout",
          "text": [
            "+------------------+-----------------+----------------------------+--------------------+-------------------------+--------------+----------------------+---------------+-------------------+-------------+--------------------+--------------------+--------------------+--------------------+--------------------+\n",
            "|          tweet_id|airline_sentiment|airline_sentiment_confidence|      negativereason|negativereason_confidence|       airline|airline_sentiment_gold|           name|negativereason_gold|retweet_count|                text|         tweet_coord|       tweet_created|      tweet_location|       user_timezone|\n",
            "+------------------+-----------------+----------------------------+--------------------+-------------------------+--------------+----------------------+---------------+-------------------+-------------+--------------------+--------------------+--------------------+--------------------+--------------------+\n",
            "|570301083672813571|          neutral|                      0.6837|                NULL|                     NULL|Virgin America|                  NULL|     yvonnalynn|               NULL|            0|@VirginAmerica I ...|                NULL|2015-02-24 11:15:...|           Lets Play|Central Time (US ...|\n",
            "|570300616901320704|         positive|                      0.6745|                NULL|                      0.0|Virgin America|                  NULL|     cjmcginnis|               NULL|            0|@VirginAmerica ye...|                NULL|2015-02-24 11:13:...|    San Francisco CA|Pacific Time (US ...|\n",
            "|570300248553349120|          neutral|                       0.634|                NULL|                     NULL|Virgin America|                  NULL|          pilot|               NULL|            0|@VirginAmerica Re...|                NULL|2015-02-24 11:12:...|         Los Angeles|Pacific Time (US ...|\n",
            "|570299953286942721|         positive|                      0.6559|                NULL|                     NULL|Virgin America|                  NULL|       dhepburn|               NULL|            0|@virginamerica We...|                NULL|2015-02-24 11:11:...|           San Diego|Pacific Time (US ...|\n",
            "|570295459631263746|         positive|                         1.0|                NULL|                     NULL|Virgin America|                  NULL|     YupitsTate|               NULL|            0|@VirginAmerica it...|                NULL|2015-02-24 10:53:...|         Los Angeles|Eastern Time (US ...|\n",
            "|570294189143031808|          neutral|                      0.6769|                NULL|                      0.0|Virgin America|                  NULL|idk_but_youtube|               NULL|            0|@VirginAmerica di...|                NULL|2015-02-24 10:48:...|     1/1 loner squad|Eastern Time (US ...|\n",
            "|570289724453216256|         positive|                         1.0|                NULL|                     NULL|Virgin America|                  NULL|   HyperCamiLax|               NULL|            0|@VirginAmerica I ...|                NULL|2015-02-24 10:30:...|                 NYC|    America/New_York|\n",
            "|570289584061480960|         positive|                         1.0|                NULL|                     NULL|Virgin America|                  NULL|   HyperCamiLax|               NULL|            0|@VirginAmerica Th...|                NULL|2015-02-24 10:30:...|                 NYC|    America/New_York|\n",
            "|570285904809598977|         positive|                         1.0|                NULL|                     NULL|Virgin America|                  NULL|       sjespers|               NULL|            0|@VirginAmerica Th...|                NULL|2015-02-24 10:15:...|   San Francisco, CA|Pacific Time (US ...|\n",
            "|570282469121007616|         negative|                      0.6842|         Late Flight|                   0.3684|Virgin America|                  NULL|smartwatermelon|               NULL|            0|@VirginAmerica SF...|                NULL|2015-02-24 10:01:...|       palo alto, ca|Pacific Time (US ...|\n",
            "|570277724385734656|         positive|                         1.0|                NULL|                     NULL|Virgin America|                  NULL|  ItzBrianHunty|               NULL|            0|@VirginAmerica So...|                NULL|2015-02-24 09:42:...|         west covina|Pacific Time (US ...|\n",
            "|570276917301137409|         negative|                         1.0|          Bad Flight|                      1.0|Virgin America|                  NULL|  heatherovieda|               NULL|            0|@VirginAmerica  I...|                NULL|2015-02-24 09:39:...|this place called...|Eastern Time (US ...|\n",
            "|570270684619923457|         positive|                         1.0|                NULL|                     NULL|Virgin America|                  NULL|   thebrandiray|               NULL|            0|I ❤️ flying @Virg...|                NULL|2015-02-24 09:15:...|Somewhere celebra...|Atlantic Time (Ca...|\n",
            "|570267956648792064|         positive|                         1.0|                NULL|                     NULL|Virgin America|                  NULL|      JNLpierce|               NULL|            0|@VirginAmerica yo...|                NULL|2015-02-24 09:04:...|    Boston | Waltham|               Quito|\n",
            "|570259420287868928|         positive|                         1.0|                NULL|                     NULL|Virgin America|                  NULL|     ElvinaBeck|               NULL|            0|@VirginAmerica I ...|                NULL|2015-02-24 08:30:...|         Los Angeles|Pacific Time (US ...|\n",
            "|570258822297579520|          neutral|                         1.0|                NULL|                     NULL|Virgin America|                  NULL|   rjlynch21086|               NULL|            0|@VirginAmerica wi...|                NULL|2015-02-24 08:27:...|         Boston, MA |Eastern Time (US ...|\n",
            "|570256553502068736|         negative|                         1.0|Customer Service ...|                   0.3557|Virgin America|                  NULL|    ayeevickiee|               NULL|            0|@VirginAmerica yo...|                NULL|2015-02-24 08:18:...|                 714|Mountain Time (US...|\n",
            "|570217831557677057|          neutral|                      0.6854|                NULL|                     NULL|Virgin America|                  NULL|     AdamSinger|               NULL|            0|@VirginAmerica do...|                NULL|2015-02-24 05:44:...|   San Francisco, CA|Central Time (US ...|\n",
            "|570207886493782019|         negative|                         1.0|          Bad Flight|                      1.0|Virgin America|                  NULL|blackjackpro911|               NULL|            0|@VirginAmerica am...|[42.361016, -71.0...|2015-02-24 05:05:...|San Mateo, CA & L...|                NULL|\n",
            "|570124596180955136|          neutral|                       0.615|                NULL|                      0.0|Virgin America|                  NULL|TenantsUpstairs|               NULL|            0|@VirginAmerica LA...|[33.94540417, -11...|2015-02-23 23:34:...|            Brooklyn|Atlantic Time (Ca...|\n",
            "+------------------+-----------------+----------------------------+--------------------+-------------------------+--------------+----------------------+---------------+-------------------+-------------+--------------------+--------------------+--------------------+--------------------+--------------------+\n",
            "only showing top 20 rows\n",
            "\n"
          ]
        }
      ]
    },
    {
      "cell_type": "markdown",
      "source": [
        "### Filling missing values\n",
        "* Wherever there is a missing value it will fill with the string or value that you insert into `.na.fill()`"
      ],
      "metadata": {
        "id": "qadq5PCXPUIV"
      }
    },
    {
      "cell_type": "code",
      "source": [
        "## fill missing values\n",
        "df_pyspark.na.fill('Missing Values').show()"
      ],
      "metadata": {
        "id": "uYTpc_P0Ti9O",
        "colab": {
          "base_uri": "https://localhost:8080/"
        },
        "outputId": "66616788-4948-4005-f4fe-c13b3b35ed0f"
      },
      "execution_count": 54,
      "outputs": [
        {
          "output_type": "stream",
          "name": "stdout",
          "text": [
            "+--------------------+-----------------+----------------------------+--------------+-------------------------+--------------+----------------------+---------------+-------------------+-------------+--------------------+--------------+--------------------+--------------------+--------------------+\n",
            "|            tweet_id|airline_sentiment|airline_sentiment_confidence|negativereason|negativereason_confidence|       airline|airline_sentiment_gold|           name|negativereason_gold|retweet_count|                text|   tweet_coord|       tweet_created|      tweet_location|       user_timezone|\n",
            "+--------------------+-----------------+----------------------------+--------------+-------------------------+--------------+----------------------+---------------+-------------------+-------------+--------------------+--------------+--------------------+--------------------+--------------------+\n",
            "|  570306133677760513|          neutral|                         1.0|Missing Values|           Missing Values|Virgin America|        Missing Values|        cairdin|     Missing Values|            0|@VirginAmerica Wh...|Missing Values|2015-02-24 11:35:...|      Missing Values|Eastern Time (US ...|\n",
            "|  570301130888122368|         positive|                      0.3486|Missing Values|                      0.0|Virgin America|        Missing Values|       jnardino|     Missing Values|            0|@VirginAmerica pl...|Missing Values|2015-02-24 11:15:...|      Missing Values|Pacific Time (US ...|\n",
            "|  570301083672813571|          neutral|                      0.6837|Missing Values|           Missing Values|Virgin America|        Missing Values|     yvonnalynn|     Missing Values|            0|@VirginAmerica I ...|Missing Values|2015-02-24 11:15:...|           Lets Play|Central Time (US ...|\n",
            "|  570301031407624196|         negative|                         1.0|    Bad Flight|                   0.7033|Virgin America|        Missing Values|       jnardino|     Missing Values|            0|\"@VirginAmerica i...|Missing Values|2015-02-24 11:15:...|      Missing Values|Pacific Time (US ...|\n",
            "|  570300817074462722|         negative|                         1.0|    Can't Tell|                      1.0|Virgin America|        Missing Values|       jnardino|     Missing Values|            0|@VirginAmerica an...|Missing Values|2015-02-24 11:14:...|      Missing Values|Pacific Time (US ...|\n",
            "|  570300767074181121|         negative|                         1.0|    Can't Tell|                   0.6842|Virgin America|        Missing Values|       jnardino|     Missing Values|            0|@VirginAmerica se...|Missing Values|      Missing Values|      Missing Values|      Missing Values|\n",
            "|it's really the o...|   Missing Values|        2015-02-24 11:14:...|Missing Values|     Pacific Time (US ...|Missing Values|        Missing Values| Missing Values|     Missing Values|         NULL|      Missing Values|Missing Values|      Missing Values|      Missing Values|      Missing Values|\n",
            "|  570300616901320704|         positive|                      0.6745|Missing Values|                      0.0|Virgin America|        Missing Values|     cjmcginnis|     Missing Values|            0|@VirginAmerica ye...|Missing Values|2015-02-24 11:13:...|    San Francisco CA|Pacific Time (US ...|\n",
            "|  570300248553349120|          neutral|                       0.634|Missing Values|           Missing Values|Virgin America|        Missing Values|          pilot|     Missing Values|            0|@VirginAmerica Re...|Missing Values|2015-02-24 11:12:...|         Los Angeles|Pacific Time (US ...|\n",
            "|  570299953286942721|         positive|                      0.6559|Missing Values|           Missing Values|Virgin America|        Missing Values|       dhepburn|     Missing Values|            0|@virginamerica We...|Missing Values|2015-02-24 11:11:...|           San Diego|Pacific Time (US ...|\n",
            "|  570295459631263746|         positive|                         1.0|Missing Values|           Missing Values|Virgin America|        Missing Values|     YupitsTate|     Missing Values|            0|@VirginAmerica it...|Missing Values|2015-02-24 10:53:...|         Los Angeles|Eastern Time (US ...|\n",
            "|  570294189143031808|          neutral|                      0.6769|Missing Values|                      0.0|Virgin America|        Missing Values|idk_but_youtube|     Missing Values|            0|@VirginAmerica di...|Missing Values|2015-02-24 10:48:...|     1/1 loner squad|Eastern Time (US ...|\n",
            "|  570289724453216256|         positive|                         1.0|Missing Values|           Missing Values|Virgin America|        Missing Values|   HyperCamiLax|     Missing Values|            0|@VirginAmerica I ...|Missing Values|2015-02-24 10:30:...|                 NYC|    America/New_York|\n",
            "|  570289584061480960|         positive|                         1.0|Missing Values|           Missing Values|Virgin America|        Missing Values|   HyperCamiLax|     Missing Values|            0|@VirginAmerica Th...|Missing Values|2015-02-24 10:30:...|                 NYC|    America/New_York|\n",
            "|  570287408438120448|         positive|                      0.6451|Missing Values|           Missing Values|Virgin America|        Missing Values|   mollanderson|     Missing Values|            0|@VirginAmerica @v...|Missing Values|2015-02-24 10:21:...|      Missing Values|Eastern Time (US ...|\n",
            "|  570285904809598977|         positive|                         1.0|Missing Values|           Missing Values|Virgin America|        Missing Values|       sjespers|     Missing Values|            0|@VirginAmerica Th...|Missing Values|2015-02-24 10:15:...|   San Francisco, CA|Pacific Time (US ...|\n",
            "|  570282469121007616|         negative|                      0.6842|   Late Flight|                   0.3684|Virgin America|        Missing Values|smartwatermelon|     Missing Values|            0|@VirginAmerica SF...|Missing Values|2015-02-24 10:01:...|       palo alto, ca|Pacific Time (US ...|\n",
            "|  570277724385734656|         positive|                         1.0|Missing Values|           Missing Values|Virgin America|        Missing Values|  ItzBrianHunty|     Missing Values|            0|@VirginAmerica So...|Missing Values|2015-02-24 09:42:...|         west covina|Pacific Time (US ...|\n",
            "|  570276917301137409|         negative|                         1.0|    Bad Flight|                      1.0|Virgin America|        Missing Values|  heatherovieda|     Missing Values|            0|@VirginAmerica  I...|Missing Values|2015-02-24 09:39:...|this place called...|Eastern Time (US ...|\n",
            "|  570270684619923457|         positive|                         1.0|Missing Values|           Missing Values|Virgin America|        Missing Values|   thebrandiray|     Missing Values|            0|I ❤️ flying @Virg...|Missing Values|2015-02-24 09:15:...|Somewhere celebra...|Atlantic Time (Ca...|\n",
            "+--------------------+-----------------+----------------------------+--------------+-------------------------+--------------+----------------------+---------------+-------------------+-------------+--------------------+--------------+--------------------+--------------------+--------------------+\n",
            "only showing top 20 rows\n",
            "\n"
          ]
        }
      ]
    },
    {
      "cell_type": "code",
      "source": [
        "## can also specify which column to fill nulls --> example: 'negativereason'\n",
        "df_pyspark.na.fill('Missing Values', 'negativereason').show()"
      ],
      "metadata": {
        "id": "48mG3yXCTi5t",
        "colab": {
          "base_uri": "https://localhost:8080/"
        },
        "outputId": "1b1d4103-8878-43d3-daef-1c2ac5020464"
      },
      "execution_count": 55,
      "outputs": [
        {
          "output_type": "stream",
          "name": "stdout",
          "text": [
            "+--------------------+-----------------+----------------------------+--------------+-------------------------+--------------+----------------------+---------------+-------------------+-------------+--------------------+-----------+--------------------+--------------------+--------------------+\n",
            "|            tweet_id|airline_sentiment|airline_sentiment_confidence|negativereason|negativereason_confidence|       airline|airline_sentiment_gold|           name|negativereason_gold|retweet_count|                text|tweet_coord|       tweet_created|      tweet_location|       user_timezone|\n",
            "+--------------------+-----------------+----------------------------+--------------+-------------------------+--------------+----------------------+---------------+-------------------+-------------+--------------------+-----------+--------------------+--------------------+--------------------+\n",
            "|  570306133677760513|          neutral|                         1.0|Missing Values|                     NULL|Virgin America|                  NULL|        cairdin|               NULL|            0|@VirginAmerica Wh...|       NULL|2015-02-24 11:35:...|                NULL|Eastern Time (US ...|\n",
            "|  570301130888122368|         positive|                      0.3486|Missing Values|                      0.0|Virgin America|                  NULL|       jnardino|               NULL|            0|@VirginAmerica pl...|       NULL|2015-02-24 11:15:...|                NULL|Pacific Time (US ...|\n",
            "|  570301083672813571|          neutral|                      0.6837|Missing Values|                     NULL|Virgin America|                  NULL|     yvonnalynn|               NULL|            0|@VirginAmerica I ...|       NULL|2015-02-24 11:15:...|           Lets Play|Central Time (US ...|\n",
            "|  570301031407624196|         negative|                         1.0|    Bad Flight|                   0.7033|Virgin America|                  NULL|       jnardino|               NULL|            0|\"@VirginAmerica i...|       NULL|2015-02-24 11:15:...|                NULL|Pacific Time (US ...|\n",
            "|  570300817074462722|         negative|                         1.0|    Can't Tell|                      1.0|Virgin America|                  NULL|       jnardino|               NULL|            0|@VirginAmerica an...|       NULL|2015-02-24 11:14:...|                NULL|Pacific Time (US ...|\n",
            "|  570300767074181121|         negative|                         1.0|    Can't Tell|                   0.6842|Virgin America|                  NULL|       jnardino|               NULL|            0|@VirginAmerica se...|       NULL|                NULL|                NULL|                NULL|\n",
            "|it's really the o...|             NULL|        2015-02-24 11:14:...|Missing Values|     Pacific Time (US ...|          NULL|                  NULL|           NULL|               NULL|         NULL|                NULL|       NULL|                NULL|                NULL|                NULL|\n",
            "|  570300616901320704|         positive|                      0.6745|Missing Values|                      0.0|Virgin America|                  NULL|     cjmcginnis|               NULL|            0|@VirginAmerica ye...|       NULL|2015-02-24 11:13:...|    San Francisco CA|Pacific Time (US ...|\n",
            "|  570300248553349120|          neutral|                       0.634|Missing Values|                     NULL|Virgin America|                  NULL|          pilot|               NULL|            0|@VirginAmerica Re...|       NULL|2015-02-24 11:12:...|         Los Angeles|Pacific Time (US ...|\n",
            "|  570299953286942721|         positive|                      0.6559|Missing Values|                     NULL|Virgin America|                  NULL|       dhepburn|               NULL|            0|@virginamerica We...|       NULL|2015-02-24 11:11:...|           San Diego|Pacific Time (US ...|\n",
            "|  570295459631263746|         positive|                         1.0|Missing Values|                     NULL|Virgin America|                  NULL|     YupitsTate|               NULL|            0|@VirginAmerica it...|       NULL|2015-02-24 10:53:...|         Los Angeles|Eastern Time (US ...|\n",
            "|  570294189143031808|          neutral|                      0.6769|Missing Values|                      0.0|Virgin America|                  NULL|idk_but_youtube|               NULL|            0|@VirginAmerica di...|       NULL|2015-02-24 10:48:...|     1/1 loner squad|Eastern Time (US ...|\n",
            "|  570289724453216256|         positive|                         1.0|Missing Values|                     NULL|Virgin America|                  NULL|   HyperCamiLax|               NULL|            0|@VirginAmerica I ...|       NULL|2015-02-24 10:30:...|                 NYC|    America/New_York|\n",
            "|  570289584061480960|         positive|                         1.0|Missing Values|                     NULL|Virgin America|                  NULL|   HyperCamiLax|               NULL|            0|@VirginAmerica Th...|       NULL|2015-02-24 10:30:...|                 NYC|    America/New_York|\n",
            "|  570287408438120448|         positive|                      0.6451|Missing Values|                     NULL|Virgin America|                  NULL|   mollanderson|               NULL|            0|@VirginAmerica @v...|       NULL|2015-02-24 10:21:...|                NULL|Eastern Time (US ...|\n",
            "|  570285904809598977|         positive|                         1.0|Missing Values|                     NULL|Virgin America|                  NULL|       sjespers|               NULL|            0|@VirginAmerica Th...|       NULL|2015-02-24 10:15:...|   San Francisco, CA|Pacific Time (US ...|\n",
            "|  570282469121007616|         negative|                      0.6842|   Late Flight|                   0.3684|Virgin America|                  NULL|smartwatermelon|               NULL|            0|@VirginAmerica SF...|       NULL|2015-02-24 10:01:...|       palo alto, ca|Pacific Time (US ...|\n",
            "|  570277724385734656|         positive|                         1.0|Missing Values|                     NULL|Virgin America|                  NULL|  ItzBrianHunty|               NULL|            0|@VirginAmerica So...|       NULL|2015-02-24 09:42:...|         west covina|Pacific Time (US ...|\n",
            "|  570276917301137409|         negative|                         1.0|    Bad Flight|                      1.0|Virgin America|                  NULL|  heatherovieda|               NULL|            0|@VirginAmerica  I...|       NULL|2015-02-24 09:39:...|this place called...|Eastern Time (US ...|\n",
            "|  570270684619923457|         positive|                         1.0|Missing Values|                     NULL|Virgin America|                  NULL|   thebrandiray|               NULL|            0|I ❤️ flying @Virg...|       NULL|2015-02-24 09:15:...|Somewhere celebra...|Atlantic Time (Ca...|\n",
            "+--------------------+-----------------+----------------------------+--------------+-------------------------+--------------+----------------------+---------------+-------------------+-------------+--------------------+-----------+--------------------+--------------------+--------------------+\n",
            "only showing top 20 rows\n",
            "\n"
          ]
        }
      ]
    },
    {
      "cell_type": "code",
      "source": [
        "## can also specify which columns to fill nulls as a list of multiple cols\n",
        "df_pyspark.na.fill('Missing Values', ['negativereason','negativereason_confidence']).show()"
      ],
      "metadata": {
        "colab": {
          "base_uri": "https://localhost:8080/"
        },
        "id": "-kcDvsHbQSOq",
        "outputId": "e3a4ac3f-a1cb-497f-dc18-72dbaf18309f"
      },
      "execution_count": 57,
      "outputs": [
        {
          "output_type": "stream",
          "name": "stdout",
          "text": [
            "+--------------------+-----------------+----------------------------+--------------+-------------------------+--------------+----------------------+---------------+-------------------+-------------+--------------------+-----------+--------------------+--------------------+--------------------+\n",
            "|            tweet_id|airline_sentiment|airline_sentiment_confidence|negativereason|negativereason_confidence|       airline|airline_sentiment_gold|           name|negativereason_gold|retweet_count|                text|tweet_coord|       tweet_created|      tweet_location|       user_timezone|\n",
            "+--------------------+-----------------+----------------------------+--------------+-------------------------+--------------+----------------------+---------------+-------------------+-------------+--------------------+-----------+--------------------+--------------------+--------------------+\n",
            "|  570306133677760513|          neutral|                         1.0|Missing Values|           Missing Values|Virgin America|                  NULL|        cairdin|               NULL|            0|@VirginAmerica Wh...|       NULL|2015-02-24 11:35:...|                NULL|Eastern Time (US ...|\n",
            "|  570301130888122368|         positive|                      0.3486|Missing Values|                      0.0|Virgin America|                  NULL|       jnardino|               NULL|            0|@VirginAmerica pl...|       NULL|2015-02-24 11:15:...|                NULL|Pacific Time (US ...|\n",
            "|  570301083672813571|          neutral|                      0.6837|Missing Values|           Missing Values|Virgin America|                  NULL|     yvonnalynn|               NULL|            0|@VirginAmerica I ...|       NULL|2015-02-24 11:15:...|           Lets Play|Central Time (US ...|\n",
            "|  570301031407624196|         negative|                         1.0|    Bad Flight|                   0.7033|Virgin America|                  NULL|       jnardino|               NULL|            0|\"@VirginAmerica i...|       NULL|2015-02-24 11:15:...|                NULL|Pacific Time (US ...|\n",
            "|  570300817074462722|         negative|                         1.0|    Can't Tell|                      1.0|Virgin America|                  NULL|       jnardino|               NULL|            0|@VirginAmerica an...|       NULL|2015-02-24 11:14:...|                NULL|Pacific Time (US ...|\n",
            "|  570300767074181121|         negative|                         1.0|    Can't Tell|                   0.6842|Virgin America|                  NULL|       jnardino|               NULL|            0|@VirginAmerica se...|       NULL|                NULL|                NULL|                NULL|\n",
            "|it's really the o...|             NULL|        2015-02-24 11:14:...|Missing Values|     Pacific Time (US ...|          NULL|                  NULL|           NULL|               NULL|         NULL|                NULL|       NULL|                NULL|                NULL|                NULL|\n",
            "|  570300616901320704|         positive|                      0.6745|Missing Values|                      0.0|Virgin America|                  NULL|     cjmcginnis|               NULL|            0|@VirginAmerica ye...|       NULL|2015-02-24 11:13:...|    San Francisco CA|Pacific Time (US ...|\n",
            "|  570300248553349120|          neutral|                       0.634|Missing Values|           Missing Values|Virgin America|                  NULL|          pilot|               NULL|            0|@VirginAmerica Re...|       NULL|2015-02-24 11:12:...|         Los Angeles|Pacific Time (US ...|\n",
            "|  570299953286942721|         positive|                      0.6559|Missing Values|           Missing Values|Virgin America|                  NULL|       dhepburn|               NULL|            0|@virginamerica We...|       NULL|2015-02-24 11:11:...|           San Diego|Pacific Time (US ...|\n",
            "|  570295459631263746|         positive|                         1.0|Missing Values|           Missing Values|Virgin America|                  NULL|     YupitsTate|               NULL|            0|@VirginAmerica it...|       NULL|2015-02-24 10:53:...|         Los Angeles|Eastern Time (US ...|\n",
            "|  570294189143031808|          neutral|                      0.6769|Missing Values|                      0.0|Virgin America|                  NULL|idk_but_youtube|               NULL|            0|@VirginAmerica di...|       NULL|2015-02-24 10:48:...|     1/1 loner squad|Eastern Time (US ...|\n",
            "|  570289724453216256|         positive|                         1.0|Missing Values|           Missing Values|Virgin America|                  NULL|   HyperCamiLax|               NULL|            0|@VirginAmerica I ...|       NULL|2015-02-24 10:30:...|                 NYC|    America/New_York|\n",
            "|  570289584061480960|         positive|                         1.0|Missing Values|           Missing Values|Virgin America|                  NULL|   HyperCamiLax|               NULL|            0|@VirginAmerica Th...|       NULL|2015-02-24 10:30:...|                 NYC|    America/New_York|\n",
            "|  570287408438120448|         positive|                      0.6451|Missing Values|           Missing Values|Virgin America|                  NULL|   mollanderson|               NULL|            0|@VirginAmerica @v...|       NULL|2015-02-24 10:21:...|                NULL|Eastern Time (US ...|\n",
            "|  570285904809598977|         positive|                         1.0|Missing Values|           Missing Values|Virgin America|                  NULL|       sjespers|               NULL|            0|@VirginAmerica Th...|       NULL|2015-02-24 10:15:...|   San Francisco, CA|Pacific Time (US ...|\n",
            "|  570282469121007616|         negative|                      0.6842|   Late Flight|                   0.3684|Virgin America|                  NULL|smartwatermelon|               NULL|            0|@VirginAmerica SF...|       NULL|2015-02-24 10:01:...|       palo alto, ca|Pacific Time (US ...|\n",
            "|  570277724385734656|         positive|                         1.0|Missing Values|           Missing Values|Virgin America|                  NULL|  ItzBrianHunty|               NULL|            0|@VirginAmerica So...|       NULL|2015-02-24 09:42:...|         west covina|Pacific Time (US ...|\n",
            "|  570276917301137409|         negative|                         1.0|    Bad Flight|                      1.0|Virgin America|                  NULL|  heatherovieda|               NULL|            0|@VirginAmerica  I...|       NULL|2015-02-24 09:39:...|this place called...|Eastern Time (US ...|\n",
            "|  570270684619923457|         positive|                         1.0|Missing Values|           Missing Values|Virgin America|                  NULL|   thebrandiray|               NULL|            0|I ❤️ flying @Virg...|       NULL|2015-02-24 09:15:...|Somewhere celebra...|Atlantic Time (Ca...|\n",
            "+--------------------+-----------------+----------------------------+--------------+-------------------------+--------------+----------------------+---------------+-------------------+-------------+--------------------+-----------+--------------------+--------------------+--------------------+\n",
            "only showing top 20 rows\n",
            "\n"
          ]
        }
      ]
    },
    {
      "cell_type": "code",
      "source": [
        "## view entire dataset\n",
        "df_pyspark.show()"
      ],
      "metadata": {
        "colab": {
          "base_uri": "https://localhost:8080/"
        },
        "id": "Mab_5rFbQSMX",
        "outputId": "688ad9c7-1482-41b2-8ed2-6db317239643"
      },
      "execution_count": 58,
      "outputs": [
        {
          "output_type": "stream",
          "name": "stdout",
          "text": [
            "+--------------------+-----------------+----------------------------+--------------+-------------------------+--------------+----------------------+---------------+-------------------+-------------+--------------------+-----------+--------------------+--------------------+--------------------+\n",
            "|            tweet_id|airline_sentiment|airline_sentiment_confidence|negativereason|negativereason_confidence|       airline|airline_sentiment_gold|           name|negativereason_gold|retweet_count|                text|tweet_coord|       tweet_created|      tweet_location|       user_timezone|\n",
            "+--------------------+-----------------+----------------------------+--------------+-------------------------+--------------+----------------------+---------------+-------------------+-------------+--------------------+-----------+--------------------+--------------------+--------------------+\n",
            "|  570306133677760513|          neutral|                         1.0|          NULL|                     NULL|Virgin America|                  NULL|        cairdin|               NULL|            0|@VirginAmerica Wh...|       NULL|2015-02-24 11:35:...|                NULL|Eastern Time (US ...|\n",
            "|  570301130888122368|         positive|                      0.3486|          NULL|                      0.0|Virgin America|                  NULL|       jnardino|               NULL|            0|@VirginAmerica pl...|       NULL|2015-02-24 11:15:...|                NULL|Pacific Time (US ...|\n",
            "|  570301083672813571|          neutral|                      0.6837|          NULL|                     NULL|Virgin America|                  NULL|     yvonnalynn|               NULL|            0|@VirginAmerica I ...|       NULL|2015-02-24 11:15:...|           Lets Play|Central Time (US ...|\n",
            "|  570301031407624196|         negative|                         1.0|    Bad Flight|                   0.7033|Virgin America|                  NULL|       jnardino|               NULL|            0|\"@VirginAmerica i...|       NULL|2015-02-24 11:15:...|                NULL|Pacific Time (US ...|\n",
            "|  570300817074462722|         negative|                         1.0|    Can't Tell|                      1.0|Virgin America|                  NULL|       jnardino|               NULL|            0|@VirginAmerica an...|       NULL|2015-02-24 11:14:...|                NULL|Pacific Time (US ...|\n",
            "|  570300767074181121|         negative|                         1.0|    Can't Tell|                   0.6842|Virgin America|                  NULL|       jnardino|               NULL|            0|@VirginAmerica se...|       NULL|                NULL|                NULL|                NULL|\n",
            "|it's really the o...|             NULL|        2015-02-24 11:14:...|          NULL|     Pacific Time (US ...|          NULL|                  NULL|           NULL|               NULL|         NULL|                NULL|       NULL|                NULL|                NULL|                NULL|\n",
            "|  570300616901320704|         positive|                      0.6745|          NULL|                      0.0|Virgin America|                  NULL|     cjmcginnis|               NULL|            0|@VirginAmerica ye...|       NULL|2015-02-24 11:13:...|    San Francisco CA|Pacific Time (US ...|\n",
            "|  570300248553349120|          neutral|                       0.634|          NULL|                     NULL|Virgin America|                  NULL|          pilot|               NULL|            0|@VirginAmerica Re...|       NULL|2015-02-24 11:12:...|         Los Angeles|Pacific Time (US ...|\n",
            "|  570299953286942721|         positive|                      0.6559|          NULL|                     NULL|Virgin America|                  NULL|       dhepburn|               NULL|            0|@virginamerica We...|       NULL|2015-02-24 11:11:...|           San Diego|Pacific Time (US ...|\n",
            "|  570295459631263746|         positive|                         1.0|          NULL|                     NULL|Virgin America|                  NULL|     YupitsTate|               NULL|            0|@VirginAmerica it...|       NULL|2015-02-24 10:53:...|         Los Angeles|Eastern Time (US ...|\n",
            "|  570294189143031808|          neutral|                      0.6769|          NULL|                      0.0|Virgin America|                  NULL|idk_but_youtube|               NULL|            0|@VirginAmerica di...|       NULL|2015-02-24 10:48:...|     1/1 loner squad|Eastern Time (US ...|\n",
            "|  570289724453216256|         positive|                         1.0|          NULL|                     NULL|Virgin America|                  NULL|   HyperCamiLax|               NULL|            0|@VirginAmerica I ...|       NULL|2015-02-24 10:30:...|                 NYC|    America/New_York|\n",
            "|  570289584061480960|         positive|                         1.0|          NULL|                     NULL|Virgin America|                  NULL|   HyperCamiLax|               NULL|            0|@VirginAmerica Th...|       NULL|2015-02-24 10:30:...|                 NYC|    America/New_York|\n",
            "|  570287408438120448|         positive|                      0.6451|          NULL|                     NULL|Virgin America|                  NULL|   mollanderson|               NULL|            0|@VirginAmerica @v...|       NULL|2015-02-24 10:21:...|                NULL|Eastern Time (US ...|\n",
            "|  570285904809598977|         positive|                         1.0|          NULL|                     NULL|Virgin America|                  NULL|       sjespers|               NULL|            0|@VirginAmerica Th...|       NULL|2015-02-24 10:15:...|   San Francisco, CA|Pacific Time (US ...|\n",
            "|  570282469121007616|         negative|                      0.6842|   Late Flight|                   0.3684|Virgin America|                  NULL|smartwatermelon|               NULL|            0|@VirginAmerica SF...|       NULL|2015-02-24 10:01:...|       palo alto, ca|Pacific Time (US ...|\n",
            "|  570277724385734656|         positive|                         1.0|          NULL|                     NULL|Virgin America|                  NULL|  ItzBrianHunty|               NULL|            0|@VirginAmerica So...|       NULL|2015-02-24 09:42:...|         west covina|Pacific Time (US ...|\n",
            "|  570276917301137409|         negative|                         1.0|    Bad Flight|                      1.0|Virgin America|                  NULL|  heatherovieda|               NULL|            0|@VirginAmerica  I...|       NULL|2015-02-24 09:39:...|this place called...|Eastern Time (US ...|\n",
            "|  570270684619923457|         positive|                         1.0|          NULL|                     NULL|Virgin America|                  NULL|   thebrandiray|               NULL|            0|I ❤️ flying @Virg...|       NULL|2015-02-24 09:15:...|Somewhere celebra...|Atlantic Time (Ca...|\n",
            "+--------------------+-----------------+----------------------------+--------------+-------------------------+--------------+----------------------+---------------+-------------------+-------------+--------------------+-----------+--------------------+--------------------+--------------------+\n",
            "only showing top 20 rows\n",
            "\n"
          ]
        }
      ]
    },
    {
      "cell_type": "markdown",
      "source": [
        "### Imputing missing values"
      ],
      "metadata": {
        "id": "k1rEjR0xQscq"
      }
    },
    {
      "cell_type": "code",
      "source": [
        "from pyspark.sql.types import DoubleType\n",
        "\n",
        "## columns were not numeric to begin with\n",
        "# Cast the columns to DoubleType before applying the Imputer\n",
        "df_pyspark = df_pyspark.withColumn(\"airline_sentiment_confidence\", df_pyspark[\"airline_sentiment_confidence\"].cast(DoubleType()))\n",
        "df_pyspark = df_pyspark.withColumn(\"negativereason_confidence\", df_pyspark[\"negativereason_confidence\"].cast(DoubleType()))\n",
        "\n",
        "from pyspark.ml.feature import Imputer\n",
        "\n",
        "# Setup the Imputer (unchanged)\n",
        "imputer = Imputer(\n",
        "    inputCols=['airline_sentiment_confidence','negativereason_confidence'],\n",
        "    outputCols=[\"{}_imputed\".format(c) for c in ['airline_sentiment_confidence', 'negativereason_confidence']]\n",
        ").setStrategy(\"median\") ## mean, median, mode\n",
        "\n",
        "# Fit and transform the DataFrame with the casted columns\n",
        "imputer.fit(df_pyspark).transform(df_pyspark).show()"
      ],
      "metadata": {
        "colab": {
          "base_uri": "https://localhost:8080/"
        },
        "id": "ZokN1IZMRzNp",
        "outputId": "cb281e53-cce6-4102-9d43-5024a771709c"
      },
      "execution_count": 62,
      "outputs": [
        {
          "output_type": "stream",
          "name": "stdout",
          "text": [
            "+--------------------+-----------------+----------------------------+--------------+-------------------------+--------------+----------------------+---------------+-------------------+-------------+--------------------+-----------+--------------------+--------------------+--------------------+------------------------------------+---------------------------------+\n",
            "|            tweet_id|airline_sentiment|airline_sentiment_confidence|negativereason|negativereason_confidence|       airline|airline_sentiment_gold|           name|negativereason_gold|retweet_count|                text|tweet_coord|       tweet_created|      tweet_location|       user_timezone|airline_sentiment_confidence_imputed|negativereason_confidence_imputed|\n",
            "+--------------------+-----------------+----------------------------+--------------+-------------------------+--------------+----------------------+---------------+-------------------+-------------+--------------------+-----------+--------------------+--------------------+--------------------+------------------------------------+---------------------------------+\n",
            "|  570306133677760513|          neutral|                         1.0|          NULL|                     NULL|Virgin America|                  NULL|        cairdin|               NULL|            0|@VirginAmerica Wh...|       NULL|2015-02-24 11:35:...|                NULL|Eastern Time (US ...|                                 1.0|                           0.6705|\n",
            "|  570301130888122368|         positive|                      0.3486|          NULL|                      0.0|Virgin America|                  NULL|       jnardino|               NULL|            0|@VirginAmerica pl...|       NULL|2015-02-24 11:15:...|                NULL|Pacific Time (US ...|                              0.3486|                              0.0|\n",
            "|  570301083672813571|          neutral|                      0.6837|          NULL|                     NULL|Virgin America|                  NULL|     yvonnalynn|               NULL|            0|@VirginAmerica I ...|       NULL|2015-02-24 11:15:...|           Lets Play|Central Time (US ...|                              0.6837|                           0.6705|\n",
            "|  570301031407624196|         negative|                         1.0|    Bad Flight|                   0.7033|Virgin America|                  NULL|       jnardino|               NULL|            0|\"@VirginAmerica i...|       NULL|2015-02-24 11:15:...|                NULL|Pacific Time (US ...|                                 1.0|                           0.7033|\n",
            "|  570300817074462722|         negative|                         1.0|    Can't Tell|                      1.0|Virgin America|                  NULL|       jnardino|               NULL|            0|@VirginAmerica an...|       NULL|2015-02-24 11:14:...|                NULL|Pacific Time (US ...|                                 1.0|                              1.0|\n",
            "|  570300767074181121|         negative|                         1.0|    Can't Tell|                   0.6842|Virgin America|                  NULL|       jnardino|               NULL|            0|@VirginAmerica se...|       NULL|                NULL|                NULL|                NULL|                                 1.0|                           0.6842|\n",
            "|it's really the o...|             NULL|                        NULL|          NULL|                     NULL|          NULL|                  NULL|           NULL|               NULL|         NULL|                NULL|       NULL|                NULL|                NULL|                NULL|                                 1.0|                           0.6705|\n",
            "|  570300616901320704|         positive|                      0.6745|          NULL|                      0.0|Virgin America|                  NULL|     cjmcginnis|               NULL|            0|@VirginAmerica ye...|       NULL|2015-02-24 11:13:...|    San Francisco CA|Pacific Time (US ...|                              0.6745|                              0.0|\n",
            "|  570300248553349120|          neutral|                       0.634|          NULL|                     NULL|Virgin America|                  NULL|          pilot|               NULL|            0|@VirginAmerica Re...|       NULL|2015-02-24 11:12:...|         Los Angeles|Pacific Time (US ...|                               0.634|                           0.6705|\n",
            "|  570299953286942721|         positive|                      0.6559|          NULL|                     NULL|Virgin America|                  NULL|       dhepburn|               NULL|            0|@virginamerica We...|       NULL|2015-02-24 11:11:...|           San Diego|Pacific Time (US ...|                              0.6559|                           0.6705|\n",
            "|  570295459631263746|         positive|                         1.0|          NULL|                     NULL|Virgin America|                  NULL|     YupitsTate|               NULL|            0|@VirginAmerica it...|       NULL|2015-02-24 10:53:...|         Los Angeles|Eastern Time (US ...|                                 1.0|                           0.6705|\n",
            "|  570294189143031808|          neutral|                      0.6769|          NULL|                      0.0|Virgin America|                  NULL|idk_but_youtube|               NULL|            0|@VirginAmerica di...|       NULL|2015-02-24 10:48:...|     1/1 loner squad|Eastern Time (US ...|                              0.6769|                              0.0|\n",
            "|  570289724453216256|         positive|                         1.0|          NULL|                     NULL|Virgin America|                  NULL|   HyperCamiLax|               NULL|            0|@VirginAmerica I ...|       NULL|2015-02-24 10:30:...|                 NYC|    America/New_York|                                 1.0|                           0.6705|\n",
            "|  570289584061480960|         positive|                         1.0|          NULL|                     NULL|Virgin America|                  NULL|   HyperCamiLax|               NULL|            0|@VirginAmerica Th...|       NULL|2015-02-24 10:30:...|                 NYC|    America/New_York|                                 1.0|                           0.6705|\n",
            "|  570287408438120448|         positive|                      0.6451|          NULL|                     NULL|Virgin America|                  NULL|   mollanderson|               NULL|            0|@VirginAmerica @v...|       NULL|2015-02-24 10:21:...|                NULL|Eastern Time (US ...|                              0.6451|                           0.6705|\n",
            "|  570285904809598977|         positive|                         1.0|          NULL|                     NULL|Virgin America|                  NULL|       sjespers|               NULL|            0|@VirginAmerica Th...|       NULL|2015-02-24 10:15:...|   San Francisco, CA|Pacific Time (US ...|                                 1.0|                           0.6705|\n",
            "|  570282469121007616|         negative|                      0.6842|   Late Flight|                   0.3684|Virgin America|                  NULL|smartwatermelon|               NULL|            0|@VirginAmerica SF...|       NULL|2015-02-24 10:01:...|       palo alto, ca|Pacific Time (US ...|                              0.6842|                           0.3684|\n",
            "|  570277724385734656|         positive|                         1.0|          NULL|                     NULL|Virgin America|                  NULL|  ItzBrianHunty|               NULL|            0|@VirginAmerica So...|       NULL|2015-02-24 09:42:...|         west covina|Pacific Time (US ...|                                 1.0|                           0.6705|\n",
            "|  570276917301137409|         negative|                         1.0|    Bad Flight|                      1.0|Virgin America|                  NULL|  heatherovieda|               NULL|            0|@VirginAmerica  I...|       NULL|2015-02-24 09:39:...|this place called...|Eastern Time (US ...|                                 1.0|                              1.0|\n",
            "|  570270684619923457|         positive|                         1.0|          NULL|                     NULL|Virgin America|                  NULL|   thebrandiray|               NULL|            0|I ❤️ flying @Virg...|       NULL|2015-02-24 09:15:...|Somewhere celebra...|Atlantic Time (Ca...|                                 1.0|                           0.6705|\n",
            "+--------------------+-----------------+----------------------------+--------------+-------------------------+--------------+----------------------+---------------+-------------------+-------------+--------------------+-----------+--------------------+--------------------+--------------------+------------------------------------+---------------------------------+\n",
            "only showing top 20 rows\n",
            "\n"
          ]
        }
      ]
    },
    {
      "cell_type": "markdown",
      "source": [
        "# Filter Operations in PySpark\n",
        "* This includes:\n",
        "  * Filter operation\n",
        "  * &, |, ==\n",
        "  * ~\n"
      ],
      "metadata": {
        "id": "eP9pruTLZaLd"
      }
    },
    {
      "cell_type": "code",
      "source": [
        "## generate synthetic data\n",
        "import pandas as pd\n",
        "\n",
        "# Create a list of dictionaries, where each dictionary represents a row\n",
        "data = [\n",
        "    {'name': 'Alice', 'age': 25, 'experience': 3, 'salary': 60000},\n",
        "    {'name': 'Bob', 'age': 30, 'experience': 5, 'salary': 75000},\n",
        "    {'name': 'Charlie', 'age': 28, 'experience': 4, 'salary': 70000},\n",
        "    {'name': 'David', 'age': 35, 'experience': 8, 'salary': 90000},\n",
        "    {'name': 'Eve', 'age': 22, 'experience': 1, 'salary': 50000},\n",
        "    {'name': 'Frank', 'age': 40, 'experience': 12, 'salary': 110000},\n",
        "    {'name': 'Grace', 'age': 27, 'experience': 3, 'salary': 65000},\n",
        "    {'name': 'Helen', 'age': 32, 'experience': 6, 'salary': 80000}\n",
        "]\n",
        "\n",
        "# Create a pandas DataFrame from the list of dictionaries\n",
        "df = pd.DataFrame(data)\n",
        "\n",
        "# Display the DataFrame\n",
        "df.to_csv('test1.csv',index=False)"
      ],
      "metadata": {
        "id": "L_TiAnX2QSE2"
      },
      "execution_count": 66,
      "outputs": []
    },
    {
      "cell_type": "code",
      "source": [
        "## setup spark session\n",
        "from pyspark.sql import SparkSession\n",
        "\n",
        "## init session\n",
        "spark = SparkSession.builder.appName('dataframe').getOrCreate()"
      ],
      "metadata": {
        "id": "0UvFPRaqQSCR"
      },
      "execution_count": 67,
      "outputs": []
    },
    {
      "cell_type": "code",
      "source": [
        "## load dataset into spark\n",
        "data_path = '/content/test1.csv'\n",
        "df_pyspark = spark.read.csv(data_path,\n",
        "                            header=True,\n",
        "                            inferSchema=True)\n",
        "df_pyspark.show()"
      ],
      "metadata": {
        "colab": {
          "base_uri": "https://localhost:8080/"
        },
        "id": "J_3lWOwYaqjR",
        "outputId": "985c8f66-8cc5-40a2-a7ec-05f5ee63a92b"
      },
      "execution_count": 68,
      "outputs": [
        {
          "output_type": "stream",
          "name": "stdout",
          "text": [
            "+-------+---+----------+------+\n",
            "|   name|age|experience|salary|\n",
            "+-------+---+----------+------+\n",
            "|  Alice| 25|         3| 60000|\n",
            "|    Bob| 30|         5| 75000|\n",
            "|Charlie| 28|         4| 70000|\n",
            "|  David| 35|         8| 90000|\n",
            "|    Eve| 22|         1| 50000|\n",
            "|  Frank| 40|        12|110000|\n",
            "|  Grace| 27|         3| 65000|\n",
            "|  Helen| 32|         6| 80000|\n",
            "+-------+---+----------+------+\n",
            "\n"
          ]
        }
      ]
    },
    {
      "cell_type": "markdown",
      "source": [
        "## Filter Operations"
      ],
      "metadata": {
        "id": "-3KwW0odb47Y"
      }
    },
    {
      "cell_type": "code",
      "source": [
        "### salary of people less than or equal to 80,000\n",
        "df_pyspark.filter(\"Salary<=80000\").show()"
      ],
      "metadata": {
        "colab": {
          "base_uri": "https://localhost:8080/"
        },
        "id": "71AiO1nyaqfl",
        "outputId": "2a6dc914-f894-4817-a9ee-54a0bbe6bce3"
      },
      "execution_count": 71,
      "outputs": [
        {
          "output_type": "stream",
          "name": "stdout",
          "text": [
            "+-------+---+----------+------+\n",
            "|   name|age|experience|salary|\n",
            "+-------+---+----------+------+\n",
            "|  Alice| 25|         3| 60000|\n",
            "|    Bob| 30|         5| 75000|\n",
            "|Charlie| 28|         4| 70000|\n",
            "|    Eve| 22|         1| 50000|\n",
            "|  Grace| 27|         3| 65000|\n",
            "|  Helen| 32|         6| 80000|\n",
            "+-------+---+----------+------+\n",
            "\n"
          ]
        }
      ]
    },
    {
      "cell_type": "code",
      "source": [
        "## filter and select cols\n",
        "df_pyspark.filter(\"Salary<=80000\").select(['name','age']).show()"
      ],
      "metadata": {
        "colab": {
          "base_uri": "https://localhost:8080/"
        },
        "id": "bkbZQ_23aqdD",
        "outputId": "de88e6d9-8135-4e29-cbca-500ae864cfdb"
      },
      "execution_count": 72,
      "outputs": [
        {
          "output_type": "stream",
          "name": "stdout",
          "text": [
            "+-------+---+\n",
            "|   name|age|\n",
            "+-------+---+\n",
            "|  Alice| 25|\n",
            "|    Bob| 30|\n",
            "|Charlie| 28|\n",
            "|    Eve| 22|\n",
            "|  Grace| 27|\n",
            "|  Helen| 32|\n",
            "+-------+---+\n",
            "\n"
          ]
        }
      ]
    },
    {
      "cell_type": "code",
      "source": [
        "### filter on 1 conditions\n",
        "df_pyspark.filter(df_pyspark['Salary']<=80000).show()"
      ],
      "metadata": {
        "colab": {
          "base_uri": "https://localhost:8080/"
        },
        "id": "_hBKE2PvcU7f",
        "outputId": "2aa0421e-a782-4824-e7a1-f7acb88b4349"
      },
      "execution_count": 73,
      "outputs": [
        {
          "output_type": "stream",
          "name": "stdout",
          "text": [
            "+-------+---+----------+------+\n",
            "|   name|age|experience|salary|\n",
            "+-------+---+----------+------+\n",
            "|  Alice| 25|         3| 60000|\n",
            "|    Bob| 30|         5| 75000|\n",
            "|Charlie| 28|         4| 70000|\n",
            "|    Eve| 22|         1| 50000|\n",
            "|  Grace| 27|         3| 65000|\n",
            "|  Helen| 32|         6| 80000|\n",
            "+-------+---+----------+------+\n",
            "\n"
          ]
        }
      ]
    },
    {
      "cell_type": "code",
      "source": [
        "### filter on multiple conditions using &\n",
        "df_pyspark.filter((df_pyspark['Salary']<=80000) &\n",
        "                  (df_pyspark['Salary']>=70000)).show()"
      ],
      "metadata": {
        "colab": {
          "base_uri": "https://localhost:8080/"
        },
        "id": "JszddodacU5v",
        "outputId": "00155943-dc5c-4ff1-ff42-06fedb75ca68"
      },
      "execution_count": 76,
      "outputs": [
        {
          "output_type": "stream",
          "name": "stdout",
          "text": [
            "+-------+---+----------+------+\n",
            "|   name|age|experience|salary|\n",
            "+-------+---+----------+------+\n",
            "|    Bob| 30|         5| 75000|\n",
            "|Charlie| 28|         4| 70000|\n",
            "|  Helen| 32|         6| 80000|\n",
            "+-------+---+----------+------+\n",
            "\n"
          ]
        }
      ]
    },
    {
      "cell_type": "code",
      "source": [
        "### filter on multiple conditions using |\n",
        "df_pyspark.filter((df_pyspark['Salary']<=80000) |\n",
        "                  (df_pyspark['Salary']>=70000)).show()"
      ],
      "metadata": {
        "colab": {
          "base_uri": "https://localhost:8080/"
        },
        "id": "MZ1xBWDbcU3z",
        "outputId": "802f0019-520b-4fc4-df25-cca81ffd9767"
      },
      "execution_count": 78,
      "outputs": [
        {
          "output_type": "stream",
          "name": "stdout",
          "text": [
            "+-------+---+----------+------+\n",
            "|   name|age|experience|salary|\n",
            "+-------+---+----------+------+\n",
            "|  Alice| 25|         3| 60000|\n",
            "|    Bob| 30|         5| 75000|\n",
            "|Charlie| 28|         4| 70000|\n",
            "|  David| 35|         8| 90000|\n",
            "|    Eve| 22|         1| 50000|\n",
            "|  Frank| 40|        12|110000|\n",
            "|  Grace| 27|         3| 65000|\n",
            "|  Helen| 32|         6| 80000|\n",
            "+-------+---+----------+------+\n",
            "\n"
          ]
        }
      ]
    },
    {
      "cell_type": "code",
      "source": [
        "### filter on multiple conditions using inverse or NOT condition --> ~\n",
        "df_pyspark.filter(~(df_pyspark['Salary']<=80000)).show()"
      ],
      "metadata": {
        "colab": {
          "base_uri": "https://localhost:8080/"
        },
        "id": "IPPiHwaUcU1o",
        "outputId": "1ccd1d72-1ab5-4d91-f7d6-299044e305b8"
      },
      "execution_count": 80,
      "outputs": [
        {
          "output_type": "stream",
          "name": "stdout",
          "text": [
            "+-----+---+----------+------+\n",
            "| name|age|experience|salary|\n",
            "+-----+---+----------+------+\n",
            "|David| 35|         8| 90000|\n",
            "|Frank| 40|        12|110000|\n",
            "+-----+---+----------+------+\n",
            "\n"
          ]
        }
      ]
    },
    {
      "cell_type": "markdown",
      "source": [
        "# PySpark GroupBy and Aggregate Functions"
      ],
      "metadata": {
        "id": "26sVSXbAdo0_"
      }
    },
    {
      "cell_type": "code",
      "source": [],
      "metadata": {
        "id": "RvwDvDE1eeVq"
      },
      "execution_count": null,
      "outputs": []
    },
    {
      "cell_type": "code",
      "source": [
        "## generate synthetic data\n",
        "import pandas as pd\n",
        "\n",
        "# Create a list of dictionaries, where each dictionary represents a row\n",
        "data = [\n",
        "    {'name': 'Alice', 'Department': 'Data Science','salary': 60000},\n",
        "    {'name': 'Bob', 'Department':'AI', 'salary': 75000},\n",
        "    {'name': 'Charlie', 'Department': 'Computer Science', 'salary': 70000},\n",
        "    {'name': 'David', 'Department': 'Data Science','salary': 90000},\n",
        "    {'name': 'Eve', 'Department': 'AI', 'salary': 50000},\n",
        "    {'name': 'Frank', 'Department': 'Computer Science', 'salary': 110000},\n",
        "    {'name': 'Grace', 'Department': 'AI', 'salary': 65000},\n",
        "    {'name': 'Helen', 'Department': 'Data Science', 'salary': 80000}\n",
        "]\n",
        "\n",
        "# Create a pandas DataFrame from the list of dictionaries\n",
        "df = pd.DataFrame(data)\n",
        "\n",
        "# Display the DataFrame\n",
        "df.to_csv('job_synthetic_dataset.csv',index=False)"
      ],
      "metadata": {
        "id": "6li335DhepY8"
      },
      "execution_count": 82,
      "outputs": []
    },
    {
      "cell_type": "code",
      "source": [
        "## setup spark session\n",
        "from pyspark.sql import SparkSession\n",
        "\n",
        "## spark variable\n",
        "spark = SparkSession.builder.appName('Agg').getOrCreate()"
      ],
      "metadata": {
        "id": "6EmQaY1Ddayh"
      },
      "execution_count": 83,
      "outputs": []
    },
    {
      "cell_type": "code",
      "source": [
        "## spark variable\n",
        "spark"
      ],
      "metadata": {
        "colab": {
          "base_uri": "https://localhost:8080/",
          "height": 219
        },
        "id": "l6m9d1LYdawS",
        "outputId": "4dae79ae-cd42-4984-aa8c-4852ef2a39a9"
      },
      "execution_count": 84,
      "outputs": [
        {
          "output_type": "execute_result",
          "data": {
            "text/plain": [
              "<pyspark.sql.session.SparkSession at 0x7cefaec7ec20>"
            ],
            "text/html": [
              "\n",
              "            <div>\n",
              "                <p><b>SparkSession - in-memory</b></p>\n",
              "                \n",
              "        <div>\n",
              "            <p><b>SparkContext</b></p>\n",
              "\n",
              "            <p><a href=\"http://69fda046218f:4040\">Spark UI</a></p>\n",
              "\n",
              "            <dl>\n",
              "              <dt>Version</dt>\n",
              "                <dd><code>v3.5.3</code></dd>\n",
              "              <dt>Master</dt>\n",
              "                <dd><code>local[*]</code></dd>\n",
              "              <dt>AppName</dt>\n",
              "                <dd><code>Experiment</code></dd>\n",
              "            </dl>\n",
              "        </div>\n",
              "        \n",
              "            </div>\n",
              "        "
            ]
          },
          "metadata": {},
          "execution_count": 84
        }
      ]
    },
    {
      "cell_type": "code",
      "source": [
        "## read dataset\n",
        "df_pyspark = spark.read.csv('/content/job_synthetic_dataset.csv',\n",
        "                      header=True,\n",
        "                      inferSchema=True)"
      ],
      "metadata": {
        "id": "IhQs3qVJdsVL"
      },
      "execution_count": 86,
      "outputs": []
    },
    {
      "cell_type": "code",
      "source": [
        "# show data\n",
        "df_pyspark.show()"
      ],
      "metadata": {
        "colab": {
          "base_uri": "https://localhost:8080/"
        },
        "id": "OUUVj9TCdsSy",
        "outputId": "f5e888e8-afc7-45b4-9a0e-a8a5db65c5f2"
      },
      "execution_count": 87,
      "outputs": [
        {
          "output_type": "stream",
          "name": "stdout",
          "text": [
            "+-------+----------------+------+\n",
            "|   name|      Department|salary|\n",
            "+-------+----------------+------+\n",
            "|  Alice|    Data Science| 60000|\n",
            "|    Bob|              AI| 75000|\n",
            "|Charlie|Computer Science| 70000|\n",
            "|  David|    Data Science| 90000|\n",
            "|    Eve|              AI| 50000|\n",
            "|  Frank|Computer Science|110000|\n",
            "|  Grace|              AI| 65000|\n",
            "|  Helen|    Data Science| 80000|\n",
            "+-------+----------------+------+\n",
            "\n"
          ]
        }
      ]
    },
    {
      "cell_type": "code",
      "source": [
        "## schema\n",
        "df_pyspark.printSchema()"
      ],
      "metadata": {
        "colab": {
          "base_uri": "https://localhost:8080/"
        },
        "id": "R5QM2bTaf1p5",
        "outputId": "d6ee82f5-8eb3-4db0-a8b2-f86a476cb908"
      },
      "execution_count": 88,
      "outputs": [
        {
          "output_type": "stream",
          "name": "stdout",
          "text": [
            "root\n",
            " |-- name: string (nullable = true)\n",
            " |-- Department: string (nullable = true)\n",
            " |-- salary: integer (nullable = true)\n",
            "\n"
          ]
        }
      ]
    },
    {
      "cell_type": "markdown",
      "source": [
        "## GroupBy operation"
      ],
      "metadata": {
        "id": "0k6d3Hg3gBNP"
      }
    },
    {
      "cell_type": "code",
      "source": [
        "## Groupby\n",
        "### Grouped to find max salary\n",
        "df_pyspark.groupBy('Name').sum().show()"
      ],
      "metadata": {
        "colab": {
          "base_uri": "https://localhost:8080/"
        },
        "id": "FmEhvjCgf1nv",
        "outputId": "4a0d635d-4eee-4e7d-d703-913434b7e01b"
      },
      "execution_count": 94,
      "outputs": [
        {
          "output_type": "stream",
          "name": "stdout",
          "text": [
            "+-------+-----------+\n",
            "|   Name|sum(salary)|\n",
            "+-------+-----------+\n",
            "|  Grace|      65000|\n",
            "|  Helen|      80000|\n",
            "|Charlie|      70000|\n",
            "|    Bob|      75000|\n",
            "|  Alice|      60000|\n",
            "|    Eve|      50000|\n",
            "|  David|      90000|\n",
            "|  Frank|     110000|\n",
            "+-------+-----------+\n",
            "\n"
          ]
        }
      ]
    },
    {
      "cell_type": "code",
      "source": [
        "### groupby departments which gives maximum salary\n",
        "df_pyspark.groupBy('Department').sum().show()"
      ],
      "metadata": {
        "colab": {
          "base_uri": "https://localhost:8080/"
        },
        "id": "UGOFaDhYf1lP",
        "outputId": "0d854892-7495-4449-ddc1-7784de0636fe"
      },
      "execution_count": 95,
      "outputs": [
        {
          "output_type": "stream",
          "name": "stdout",
          "text": [
            "+----------------+-----------+\n",
            "|      Department|sum(salary)|\n",
            "+----------------+-----------+\n",
            "|              AI|     190000|\n",
            "|Computer Science|     180000|\n",
            "|    Data Science|     230000|\n",
            "+----------------+-----------+\n",
            "\n"
          ]
        }
      ]
    },
    {
      "cell_type": "code",
      "source": [
        "### groupby mean\n",
        "df_pyspark.groupBy('Department').mean().show()"
      ],
      "metadata": {
        "colab": {
          "base_uri": "https://localhost:8080/"
        },
        "id": "zJyd6P91f_sp",
        "outputId": "c1d78eba-1c0b-4304-b26d-feac6959c26e"
      },
      "execution_count": 96,
      "outputs": [
        {
          "output_type": "stream",
          "name": "stdout",
          "text": [
            "+----------------+------------------+\n",
            "|      Department|       avg(salary)|\n",
            "+----------------+------------------+\n",
            "|              AI|63333.333333333336|\n",
            "|Computer Science|           90000.0|\n",
            "|    Data Science| 76666.66666666667|\n",
            "+----------------+------------------+\n",
            "\n"
          ]
        }
      ]
    },
    {
      "cell_type": "code",
      "source": [
        "### how many employees in each dept\n",
        "df_pyspark.groupBy('Department').count().show()"
      ],
      "metadata": {
        "colab": {
          "base_uri": "https://localhost:8080/"
        },
        "id": "fNym9vzYf_qR",
        "outputId": "91706c3b-2ca7-49a3-87f5-1828d34ce52b"
      },
      "execution_count": 97,
      "outputs": [
        {
          "output_type": "stream",
          "name": "stdout",
          "text": [
            "+----------------+-----+\n",
            "|      Department|count|\n",
            "+----------------+-----+\n",
            "|              AI|    3|\n",
            "|Computer Science|    2|\n",
            "|    Data Science|    3|\n",
            "+----------------+-----+\n",
            "\n"
          ]
        }
      ]
    },
    {
      "cell_type": "code",
      "source": [
        "## aggregate\n",
        "df_pyspark.agg({'Salary': 'sum'}).show()"
      ],
      "metadata": {
        "colab": {
          "base_uri": "https://localhost:8080/"
        },
        "id": "0rTpC639g1L8",
        "outputId": "ff6b81be-65c8-4368-cef8-830a78648e45"
      },
      "execution_count": 98,
      "outputs": [
        {
          "output_type": "stream",
          "name": "stdout",
          "text": [
            "+-----------+\n",
            "|sum(Salary)|\n",
            "+-----------+\n",
            "|     600000|\n",
            "+-----------+\n",
            "\n"
          ]
        }
      ]
    },
    {
      "cell_type": "code",
      "source": [
        "## min salary by name\n",
        "df_pyspark.groupBy('name','department').min().show()"
      ],
      "metadata": {
        "colab": {
          "base_uri": "https://localhost:8080/"
        },
        "id": "YevmMGEUg1Jj",
        "outputId": "5b6c0d3c-94cf-4986-d9c8-23c0d6574a6a"
      },
      "execution_count": 101,
      "outputs": [
        {
          "output_type": "stream",
          "name": "stdout",
          "text": [
            "+-------+----------------+-----------+\n",
            "|   name|      department|min(salary)|\n",
            "+-------+----------------+-----------+\n",
            "|    Bob|              AI|      75000|\n",
            "|  Frank|Computer Science|     110000|\n",
            "|  David|    Data Science|      90000|\n",
            "|  Helen|    Data Science|      80000|\n",
            "|Charlie|Computer Science|      70000|\n",
            "|    Eve|              AI|      50000|\n",
            "|  Alice|    Data Science|      60000|\n",
            "|  Grace|              AI|      65000|\n",
            "+-------+----------------+-----------+\n",
            "\n"
          ]
        }
      ]
    },
    {
      "cell_type": "code",
      "source": [
        "## max salary by name\n",
        "df_pyspark.groupBy('name','department').max().show()"
      ],
      "metadata": {
        "colab": {
          "base_uri": "https://localhost:8080/"
        },
        "outputId": "f2f25f5c-d9e7-4cd2-9b1f-3bd2acaf3638",
        "id": "-REyT4qVhmQZ"
      },
      "execution_count": 102,
      "outputs": [
        {
          "output_type": "stream",
          "name": "stdout",
          "text": [
            "+-------+----------------+-----------+\n",
            "|   name|      department|max(salary)|\n",
            "+-------+----------------+-----------+\n",
            "|    Bob|              AI|      75000|\n",
            "|  Frank|Computer Science|     110000|\n",
            "|  David|    Data Science|      90000|\n",
            "|  Helen|    Data Science|      80000|\n",
            "|Charlie|Computer Science|      70000|\n",
            "|    Eve|              AI|      50000|\n",
            "|  Alice|    Data Science|      60000|\n",
            "|  Grace|              AI|      65000|\n",
            "+-------+----------------+-----------+\n",
            "\n"
          ]
        }
      ]
    },
    {
      "cell_type": "code",
      "source": [
        "## mean salary by name\n",
        "df_pyspark.groupBy('name','department').mean().show()"
      ],
      "metadata": {
        "colab": {
          "base_uri": "https://localhost:8080/"
        },
        "outputId": "845a2552-e589-43e2-e117-6042de60f4c1",
        "id": "gaGDGBdwhpej"
      },
      "execution_count": 103,
      "outputs": [
        {
          "output_type": "stream",
          "name": "stdout",
          "text": [
            "+-------+----------------+-----------+\n",
            "|   name|      department|avg(salary)|\n",
            "+-------+----------------+-----------+\n",
            "|    Bob|              AI|    75000.0|\n",
            "|  Frank|Computer Science|   110000.0|\n",
            "|  David|    Data Science|    90000.0|\n",
            "|  Helen|    Data Science|    80000.0|\n",
            "|Charlie|Computer Science|    70000.0|\n",
            "|    Eve|              AI|    50000.0|\n",
            "|  Alice|    Data Science|    60000.0|\n",
            "|  Grace|              AI|    65000.0|\n",
            "+-------+----------------+-----------+\n",
            "\n"
          ]
        }
      ]
    },
    {
      "cell_type": "code",
      "source": [],
      "metadata": {
        "id": "FIcPz25khufY"
      },
      "execution_count": null,
      "outputs": []
    },
    {
      "cell_type": "code",
      "source": [],
      "metadata": {
        "id": "4ekw9e1Vhucm"
      },
      "execution_count": null,
      "outputs": []
    },
    {
      "cell_type": "code",
      "source": [],
      "metadata": {
        "id": "OCaGsf1Whuac"
      },
      "execution_count": null,
      "outputs": []
    },
    {
      "cell_type": "code",
      "source": [],
      "metadata": {
        "id": "NpDFqt9shuX7"
      },
      "execution_count": null,
      "outputs": []
    }
  ]
}