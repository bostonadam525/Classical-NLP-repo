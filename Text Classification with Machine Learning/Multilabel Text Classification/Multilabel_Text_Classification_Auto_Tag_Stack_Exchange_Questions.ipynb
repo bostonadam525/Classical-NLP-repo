{
  "nbformat": 4,
  "nbformat_minor": 0,
  "metadata": {
    "colab": {
      "provenance": [],
      "machine_shape": "hm",
      "gpuType": "T4"
    },
    "kernelspec": {
      "name": "python3",
      "display_name": "Python 3"
    },
    "language_info": {
      "name": "python"
    },
    "accelerator": "GPU"
  },
  "cells": [
    {
      "cell_type": "markdown",
      "source": [
        "# Multilabel Text Classification - Auto Tag Stack Exchange Questions\n",
        "* Notebook by Adam Lang\n",
        "* Date: 8/9/2024\n",
        "\n",
        "# Overview\n",
        "* In this notebook we will implement Multilabel Text Classification in Machine Learning on a dataset of Stack Exchange questions.\n",
        "* The dataset has over 85,000 questions."
      ],
      "metadata": {
        "id": "uqDzFo_MMuvQ"
      }
    },
    {
      "cell_type": "code",
      "execution_count": null,
      "metadata": {
        "id": "cHjt8LosMYVi"
      },
      "outputs": [],
      "source": []
    },
    {
      "cell_type": "code",
      "source": [
        "from google.colab import drive\n",
        "drive.mount('/content/drive')"
      ],
      "metadata": {
        "colab": {
          "base_uri": "https://localhost:8080/"
        },
        "id": "Jc90nj_CNGvw",
        "outputId": "75b01641-e78d-4f01-d9d2-5d3c833f413e"
      },
      "execution_count": 1,
      "outputs": [
        {
          "output_type": "stream",
          "name": "stdout",
          "text": [
            "Mounted at /content/drive\n"
          ]
        }
      ]
    },
    {
      "cell_type": "markdown",
      "source": [
        "# Workflow\n",
        "1. Load Data\n",
        "2. Text Cleaning + Preprocessing\n",
        "3. Merge Tags with Questions\n",
        "  * 2 Datasets\n",
        "     * 1 with Tags\n",
        "     * 1 with Questions\n",
        "4. Dataset Preparation\n",
        "5. Feature Engineering with TF-IDF\n",
        "6. Model Building\n",
        "  * Naive Bayes\n",
        "  * Logistic Regression\n",
        "  * Model Building Summary\n",
        "7. Build a Final Question Tagging Pipeline"
      ],
      "metadata": {
        "id": "0UmTJrxPNOO_"
      }
    },
    {
      "cell_type": "code",
      "source": [
        "## imports\n",
        "\n",
        "# string matching\n",
        "import re\n",
        "\n",
        "# data handling\n",
        "import pandas as pd\n",
        "import numpy as np\n",
        "\n",
        "# html data\n",
        "from bs4 import BeautifulSoup\n",
        "\n",
        "# NLP tasks in spacy\n",
        "import spacy\n",
        "nlp = spacy.load('en_core_web_sm', disable=['tagger', 'parser', 'ner'])\n",
        "\n",
        "pd.set_option('display.max_colwidth', 200)"
      ],
      "metadata": {
        "id": "jvU31xOANh5A"
      },
      "execution_count": 2,
      "outputs": []
    },
    {
      "cell_type": "markdown",
      "source": [
        "## Loading Data"
      ],
      "metadata": {
        "id": "3U51YqVgOaEP"
      }
    },
    {
      "cell_type": "code",
      "source": [
        "data_path = '/content/drive/MyDrive/Colab Notebooks/Classical NLP/Questions.csv'"
      ],
      "metadata": {
        "id": "O5Sxy_vuPOt2"
      },
      "execution_count": 3,
      "outputs": []
    },
    {
      "cell_type": "code",
      "source": [
        "## load questions dataset\n",
        "questions_df = pd.read_csv(data_path, encoding='latin-1')\n",
        "\n",
        "# shape of data\n",
        "print(f\"Shape of questions data: {questions_df.shape}\")\n",
        "\n",
        "# data head\n",
        "questions_df.head()"
      ],
      "metadata": {
        "colab": {
          "base_uri": "https://localhost:8080/",
          "height": 571
        },
        "id": "qBVJlXBzOWZO",
        "outputId": "2a55c574-fd22-45bb-c096-2e7fcd61168c"
      },
      "execution_count": 4,
      "outputs": [
        {
          "output_type": "stream",
          "name": "stdout",
          "text": [
            "Shape of questions data: (85085, 6)\n"
          ]
        },
        {
          "output_type": "execute_result",
          "data": {
            "text/plain": [
              "   Id  OwnerUserId          CreationDate  Score  \\\n",
              "0   6          5.0  2010-07-19T19:14:44Z    272   \n",
              "1  21         59.0  2010-07-19T19:24:36Z      4   \n",
              "2  22         66.0  2010-07-19T19:25:39Z    208   \n",
              "3  31         13.0  2010-07-19T19:28:44Z    138   \n",
              "4  36          8.0  2010-07-19T19:31:47Z     58   \n",
              "\n",
              "                                                                Title  \\\n",
              "0                  The Two Cultures: statistics vs. machine learning?   \n",
              "1                                      Forecasting demographic census   \n",
              "2                 Bayesian and frequentist reasoning in plain English   \n",
              "3  What is the meaning of p values and t values in statistical tests?   \n",
              "4          Examples for teaching: Correlation does not mean causation   \n",
              "\n",
              "                                                                                                                                                                                                      Body  \n",
              "0  <p>Last year, I read a blog post from <a href=\"http://anyall.org/\">Brendan O'Connor</a> entitled <a href=\"http://anyall.org/blog/2008/12/statistics-vs-machine-learning-fight/\">\"Statistics vs. Mach...  \n",
              "1  <p>What are some of the ways to forecast demographic census with some validation and calibration techniques?</p>\\n\\n<p>Some of the concerns:</p>\\n\\n<ul>\\n<li>Census blocks vary in sizes as rural\\n...  \n",
              "2                                                                               <p>How would you describe in plain English the characteristics that distinguish Bayesian from Frequentist reasoning?</p>\\n  \n",
              "3  <p>After taking a statistics course and then trying to help fellow students, I noticed one subject that inspires much head-desk banging is interpreting the results of statistical hypothesis tests....  \n",
              "4  <p>There is an old saying: \"Correlation does not mean causation\". When I teach, I tend to use the following standard examples to illustrate this point:</p>\\n\\n<ol>\\n<li>number of storks and birth ...  "
            ],
            "text/html": [
              "\n",
              "  <div id=\"df-39af23fb-e439-4c43-b2e1-7cd087af184d\" class=\"colab-df-container\">\n",
              "    <div>\n",
              "<style scoped>\n",
              "    .dataframe tbody tr th:only-of-type {\n",
              "        vertical-align: middle;\n",
              "    }\n",
              "\n",
              "    .dataframe tbody tr th {\n",
              "        vertical-align: top;\n",
              "    }\n",
              "\n",
              "    .dataframe thead th {\n",
              "        text-align: right;\n",
              "    }\n",
              "</style>\n",
              "<table border=\"1\" class=\"dataframe\">\n",
              "  <thead>\n",
              "    <tr style=\"text-align: right;\">\n",
              "      <th></th>\n",
              "      <th>Id</th>\n",
              "      <th>OwnerUserId</th>\n",
              "      <th>CreationDate</th>\n",
              "      <th>Score</th>\n",
              "      <th>Title</th>\n",
              "      <th>Body</th>\n",
              "    </tr>\n",
              "  </thead>\n",
              "  <tbody>\n",
              "    <tr>\n",
              "      <th>0</th>\n",
              "      <td>6</td>\n",
              "      <td>5.0</td>\n",
              "      <td>2010-07-19T19:14:44Z</td>\n",
              "      <td>272</td>\n",
              "      <td>The Two Cultures: statistics vs. machine learning?</td>\n",
              "      <td>&lt;p&gt;Last year, I read a blog post from &lt;a href=\"http://anyall.org/\"&gt;Brendan O'Connor&lt;/a&gt; entitled &lt;a href=\"http://anyall.org/blog/2008/12/statistics-vs-machine-learning-fight/\"&gt;\"Statistics vs. Mach...</td>\n",
              "    </tr>\n",
              "    <tr>\n",
              "      <th>1</th>\n",
              "      <td>21</td>\n",
              "      <td>59.0</td>\n",
              "      <td>2010-07-19T19:24:36Z</td>\n",
              "      <td>4</td>\n",
              "      <td>Forecasting demographic census</td>\n",
              "      <td>&lt;p&gt;What are some of the ways to forecast demographic census with some validation and calibration techniques?&lt;/p&gt;\\n\\n&lt;p&gt;Some of the concerns:&lt;/p&gt;\\n\\n&lt;ul&gt;\\n&lt;li&gt;Census blocks vary in sizes as rural\\n...</td>\n",
              "    </tr>\n",
              "    <tr>\n",
              "      <th>2</th>\n",
              "      <td>22</td>\n",
              "      <td>66.0</td>\n",
              "      <td>2010-07-19T19:25:39Z</td>\n",
              "      <td>208</td>\n",
              "      <td>Bayesian and frequentist reasoning in plain English</td>\n",
              "      <td>&lt;p&gt;How would you describe in plain English the characteristics that distinguish Bayesian from Frequentist reasoning?&lt;/p&gt;\\n</td>\n",
              "    </tr>\n",
              "    <tr>\n",
              "      <th>3</th>\n",
              "      <td>31</td>\n",
              "      <td>13.0</td>\n",
              "      <td>2010-07-19T19:28:44Z</td>\n",
              "      <td>138</td>\n",
              "      <td>What is the meaning of p values and t values in statistical tests?</td>\n",
              "      <td>&lt;p&gt;After taking a statistics course and then trying to help fellow students, I noticed one subject that inspires much head-desk banging is interpreting the results of statistical hypothesis tests....</td>\n",
              "    </tr>\n",
              "    <tr>\n",
              "      <th>4</th>\n",
              "      <td>36</td>\n",
              "      <td>8.0</td>\n",
              "      <td>2010-07-19T19:31:47Z</td>\n",
              "      <td>58</td>\n",
              "      <td>Examples for teaching: Correlation does not mean causation</td>\n",
              "      <td>&lt;p&gt;There is an old saying: \"Correlation does not mean causation\". When I teach, I tend to use the following standard examples to illustrate this point:&lt;/p&gt;\\n\\n&lt;ol&gt;\\n&lt;li&gt;number of storks and birth ...</td>\n",
              "    </tr>\n",
              "  </tbody>\n",
              "</table>\n",
              "</div>\n",
              "    <div class=\"colab-df-buttons\">\n",
              "\n",
              "  <div class=\"colab-df-container\">\n",
              "    <button class=\"colab-df-convert\" onclick=\"convertToInteractive('df-39af23fb-e439-4c43-b2e1-7cd087af184d')\"\n",
              "            title=\"Convert this dataframe to an interactive table.\"\n",
              "            style=\"display:none;\">\n",
              "\n",
              "  <svg xmlns=\"http://www.w3.org/2000/svg\" height=\"24px\" viewBox=\"0 -960 960 960\">\n",
              "    <path d=\"M120-120v-720h720v720H120Zm60-500h600v-160H180v160Zm220 220h160v-160H400v160Zm0 220h160v-160H400v160ZM180-400h160v-160H180v160Zm440 0h160v-160H620v160ZM180-180h160v-160H180v160Zm440 0h160v-160H620v160Z\"/>\n",
              "  </svg>\n",
              "    </button>\n",
              "\n",
              "  <style>\n",
              "    .colab-df-container {\n",
              "      display:flex;\n",
              "      gap: 12px;\n",
              "    }\n",
              "\n",
              "    .colab-df-convert {\n",
              "      background-color: #E8F0FE;\n",
              "      border: none;\n",
              "      border-radius: 50%;\n",
              "      cursor: pointer;\n",
              "      display: none;\n",
              "      fill: #1967D2;\n",
              "      height: 32px;\n",
              "      padding: 0 0 0 0;\n",
              "      width: 32px;\n",
              "    }\n",
              "\n",
              "    .colab-df-convert:hover {\n",
              "      background-color: #E2EBFA;\n",
              "      box-shadow: 0px 1px 2px rgba(60, 64, 67, 0.3), 0px 1px 3px 1px rgba(60, 64, 67, 0.15);\n",
              "      fill: #174EA6;\n",
              "    }\n",
              "\n",
              "    .colab-df-buttons div {\n",
              "      margin-bottom: 4px;\n",
              "    }\n",
              "\n",
              "    [theme=dark] .colab-df-convert {\n",
              "      background-color: #3B4455;\n",
              "      fill: #D2E3FC;\n",
              "    }\n",
              "\n",
              "    [theme=dark] .colab-df-convert:hover {\n",
              "      background-color: #434B5C;\n",
              "      box-shadow: 0px 1px 3px 1px rgba(0, 0, 0, 0.15);\n",
              "      filter: drop-shadow(0px 1px 2px rgba(0, 0, 0, 0.3));\n",
              "      fill: #FFFFFF;\n",
              "    }\n",
              "  </style>\n",
              "\n",
              "    <script>\n",
              "      const buttonEl =\n",
              "        document.querySelector('#df-39af23fb-e439-4c43-b2e1-7cd087af184d button.colab-df-convert');\n",
              "      buttonEl.style.display =\n",
              "        google.colab.kernel.accessAllowed ? 'block' : 'none';\n",
              "\n",
              "      async function convertToInteractive(key) {\n",
              "        const element = document.querySelector('#df-39af23fb-e439-4c43-b2e1-7cd087af184d');\n",
              "        const dataTable =\n",
              "          await google.colab.kernel.invokeFunction('convertToInteractive',\n",
              "                                                    [key], {});\n",
              "        if (!dataTable) return;\n",
              "\n",
              "        const docLinkHtml = 'Like what you see? Visit the ' +\n",
              "          '<a target=\"_blank\" href=https://colab.research.google.com/notebooks/data_table.ipynb>data table notebook</a>'\n",
              "          + ' to learn more about interactive tables.';\n",
              "        element.innerHTML = '';\n",
              "        dataTable['output_type'] = 'display_data';\n",
              "        await google.colab.output.renderOutput(dataTable, element);\n",
              "        const docLink = document.createElement('div');\n",
              "        docLink.innerHTML = docLinkHtml;\n",
              "        element.appendChild(docLink);\n",
              "      }\n",
              "    </script>\n",
              "  </div>\n",
              "\n",
              "\n",
              "<div id=\"df-6310d658-b983-47fd-8c2e-761c18ed70ba\">\n",
              "  <button class=\"colab-df-quickchart\" onclick=\"quickchart('df-6310d658-b983-47fd-8c2e-761c18ed70ba')\"\n",
              "            title=\"Suggest charts\"\n",
              "            style=\"display:none;\">\n",
              "\n",
              "<svg xmlns=\"http://www.w3.org/2000/svg\" height=\"24px\"viewBox=\"0 0 24 24\"\n",
              "     width=\"24px\">\n",
              "    <g>\n",
              "        <path d=\"M19 3H5c-1.1 0-2 .9-2 2v14c0 1.1.9 2 2 2h14c1.1 0 2-.9 2-2V5c0-1.1-.9-2-2-2zM9 17H7v-7h2v7zm4 0h-2V7h2v10zm4 0h-2v-4h2v4z\"/>\n",
              "    </g>\n",
              "</svg>\n",
              "  </button>\n",
              "\n",
              "<style>\n",
              "  .colab-df-quickchart {\n",
              "      --bg-color: #E8F0FE;\n",
              "      --fill-color: #1967D2;\n",
              "      --hover-bg-color: #E2EBFA;\n",
              "      --hover-fill-color: #174EA6;\n",
              "      --disabled-fill-color: #AAA;\n",
              "      --disabled-bg-color: #DDD;\n",
              "  }\n",
              "\n",
              "  [theme=dark] .colab-df-quickchart {\n",
              "      --bg-color: #3B4455;\n",
              "      --fill-color: #D2E3FC;\n",
              "      --hover-bg-color: #434B5C;\n",
              "      --hover-fill-color: #FFFFFF;\n",
              "      --disabled-bg-color: #3B4455;\n",
              "      --disabled-fill-color: #666;\n",
              "  }\n",
              "\n",
              "  .colab-df-quickchart {\n",
              "    background-color: var(--bg-color);\n",
              "    border: none;\n",
              "    border-radius: 50%;\n",
              "    cursor: pointer;\n",
              "    display: none;\n",
              "    fill: var(--fill-color);\n",
              "    height: 32px;\n",
              "    padding: 0;\n",
              "    width: 32px;\n",
              "  }\n",
              "\n",
              "  .colab-df-quickchart:hover {\n",
              "    background-color: var(--hover-bg-color);\n",
              "    box-shadow: 0 1px 2px rgba(60, 64, 67, 0.3), 0 1px 3px 1px rgba(60, 64, 67, 0.15);\n",
              "    fill: var(--button-hover-fill-color);\n",
              "  }\n",
              "\n",
              "  .colab-df-quickchart-complete:disabled,\n",
              "  .colab-df-quickchart-complete:disabled:hover {\n",
              "    background-color: var(--disabled-bg-color);\n",
              "    fill: var(--disabled-fill-color);\n",
              "    box-shadow: none;\n",
              "  }\n",
              "\n",
              "  .colab-df-spinner {\n",
              "    border: 2px solid var(--fill-color);\n",
              "    border-color: transparent;\n",
              "    border-bottom-color: var(--fill-color);\n",
              "    animation:\n",
              "      spin 1s steps(1) infinite;\n",
              "  }\n",
              "\n",
              "  @keyframes spin {\n",
              "    0% {\n",
              "      border-color: transparent;\n",
              "      border-bottom-color: var(--fill-color);\n",
              "      border-left-color: var(--fill-color);\n",
              "    }\n",
              "    20% {\n",
              "      border-color: transparent;\n",
              "      border-left-color: var(--fill-color);\n",
              "      border-top-color: var(--fill-color);\n",
              "    }\n",
              "    30% {\n",
              "      border-color: transparent;\n",
              "      border-left-color: var(--fill-color);\n",
              "      border-top-color: var(--fill-color);\n",
              "      border-right-color: var(--fill-color);\n",
              "    }\n",
              "    40% {\n",
              "      border-color: transparent;\n",
              "      border-right-color: var(--fill-color);\n",
              "      border-top-color: var(--fill-color);\n",
              "    }\n",
              "    60% {\n",
              "      border-color: transparent;\n",
              "      border-right-color: var(--fill-color);\n",
              "    }\n",
              "    80% {\n",
              "      border-color: transparent;\n",
              "      border-right-color: var(--fill-color);\n",
              "      border-bottom-color: var(--fill-color);\n",
              "    }\n",
              "    90% {\n",
              "      border-color: transparent;\n",
              "      border-bottom-color: var(--fill-color);\n",
              "    }\n",
              "  }\n",
              "</style>\n",
              "\n",
              "  <script>\n",
              "    async function quickchart(key) {\n",
              "      const quickchartButtonEl =\n",
              "        document.querySelector('#' + key + ' button');\n",
              "      quickchartButtonEl.disabled = true;  // To prevent multiple clicks.\n",
              "      quickchartButtonEl.classList.add('colab-df-spinner');\n",
              "      try {\n",
              "        const charts = await google.colab.kernel.invokeFunction(\n",
              "            'suggestCharts', [key], {});\n",
              "      } catch (error) {\n",
              "        console.error('Error during call to suggestCharts:', error);\n",
              "      }\n",
              "      quickchartButtonEl.classList.remove('colab-df-spinner');\n",
              "      quickchartButtonEl.classList.add('colab-df-quickchart-complete');\n",
              "    }\n",
              "    (() => {\n",
              "      let quickchartButtonEl =\n",
              "        document.querySelector('#df-6310d658-b983-47fd-8c2e-761c18ed70ba button');\n",
              "      quickchartButtonEl.style.display =\n",
              "        google.colab.kernel.accessAllowed ? 'block' : 'none';\n",
              "    })();\n",
              "  </script>\n",
              "</div>\n",
              "\n",
              "    </div>\n",
              "  </div>\n"
            ],
            "application/vnd.google.colaboratory.intrinsic+json": {
              "type": "dataframe",
              "variable_name": "questions_df",
              "summary": "{\n  \"name\": \"questions_df\",\n  \"rows\": 85085,\n  \"fields\": [\n    {\n      \"column\": \"Id\",\n      \"properties\": {\n        \"dtype\": \"number\",\n        \"std\": 70656,\n        \"min\": 1,\n        \"max\": 241481,\n        \"num_unique_values\": 85085,\n        \"samples\": [\n          182860,\n          113691,\n          11232\n        ],\n        \"semantic_type\": \"\",\n        \"description\": \"\"\n      }\n    },\n    {\n      \"column\": \"OwnerUserId\",\n      \"properties\": {\n        \"dtype\": \"number\",\n        \"std\": 38425.57404103773,\n        \"min\": 5.0,\n        \"max\": 135593.0,\n        \"num_unique_values\": 38738,\n        \"samples\": [\n          108040.0,\n          48591.0,\n          31240.0\n        ],\n        \"semantic_type\": \"\",\n        \"description\": \"\"\n      }\n    },\n    {\n      \"column\": \"CreationDate\",\n      \"properties\": {\n        \"dtype\": \"object\",\n        \"num_unique_values\": 85058,\n        \"samples\": [\n          \"2016-10-04T16:18:43Z\",\n          \"2013-12-08T19:46:47Z\",\n          \"2016-08-29T00:43:05Z\"\n        ],\n        \"semantic_type\": \"\",\n        \"description\": \"\"\n      }\n    },\n    {\n      \"column\": \"Score\",\n      \"properties\": {\n        \"dtype\": \"number\",\n        \"std\": 6,\n        \"min\": -13,\n        \"max\": 435,\n        \"num_unique_values\": 141,\n        \"samples\": [\n          116,\n          118,\n          13\n        ],\n        \"semantic_type\": \"\",\n        \"description\": \"\"\n      }\n    },\n    {\n      \"column\": \"Title\",\n      \"properties\": {\n        \"dtype\": \"string\",\n        \"num_unique_values\": 85047,\n        \"samples\": [\n          \"Prediction using epsilon-Support Vector Regression\",\n          \"R: product of dummy variables when using factor in a linear regression\",\n          \"A question on Monte Carlo\"\n        ],\n        \"semantic_type\": \"\",\n        \"description\": \"\"\n      }\n    },\n    {\n      \"column\": \"Body\",\n      \"properties\": {\n        \"dtype\": \"string\",\n        \"num_unique_values\": 85076,\n        \"samples\": [\n          \"<p>I've read a paper where they compute an $F$-test for the hypothesis that the autocorrelations of two groups are equal. Specifically, they estimate the autocorrelations of two time series $x_t$ and $y_t$ via OLS:\\n$$y_t = a_1 + b_1y_{t-1} + e_t$$\\n$$x_t = a_2 + b_2x_{t-1} + e_t$$</p>\\n\\n<p>Now they test the null hypothesis that $b_1 = b_2$ with an $F$-test. My question is, how can I do that, and which particular test statistic do I have to use?</p>\\n\\n<p>Best regards,<br>\\nChristian</p>\\n\",\n          \"<p>I have been attempting to do an ARIMA modelling in SAS. The series is not stationary but when I estimate the ACF and PACF p-values I don't get appropriate answers to find out if my model is adequate or not.Can anyone help me as may be I have been choosing the wrong p and q values. year age-group members.For stationarity I have used Sas which shows me that series is stationary with constant mean and variance.<img src=\\\"http://i.stack.imgur.com/GwpIk.png\\\" alt=\\\" model showing Stationary series for members\\\"></p>\\n\\n<p>year    age-group   members</p>\\n\\n<p>1997    16to21      21.1</p>\\n\\n<p>1997    22to29      47.5</p>\\n\\n<p>1997    30to39      61.7</p>\\n\\n<p>1997    40to49      65.1</p>\\n\\n<p>1997    50to54      64.1</p>\\n\\n<p>1997    55to59      58.7</p>\\n\\n<p>1997    60to64      48.2</p>\\n\\n<p>1997    65ANDOVER   12.2</p>\\n\\n<p>1998    16to21      18.6</p>\\n\\n<p>1998    22to29      46.3</p>\\n\\n<p>1998    30to39      61.1</p>\\n\\n<p>1998    40to49      65.4</p>\\n\\n<p>1998    50to54      64</p>\\n\\n<p>1998    55to59      59</p>\\n\\n<p>1998    60to64      45.4</p>\\n\\n<p>1998    65ANDOVER   12.5</p>\\n\\n<p>1999    16to21      19.6</p>\\n\\n<p>1999    22to29      47.3</p>\\n\\n<p>1999    30to39      61.6</p>\\n\\n<p>1999    40to49      65.8</p>\\n\\n<p>1999    50to54      64.8</p>\\n\\n<p>1999    55to59      58.5</p>\\n\\n<p>1999    60to64      45.2</p>\\n\\n<p>1999    65ANDOVER   10.1</p>\\n\\n<p>2000    16to21      20.9</p>\\n\\n<p>2000    22to29      47.6</p>\\n\\n<p>2000    30to39      61.5</p>\\n\\n<p>2000    40to49      65.8</p>\\n\\n<p>2000    50to54      64.6</p>\\n\\n<p>2000    55to59      58.8</p>\\n\\n<p>2000    60to64      44</p>\\n\\n<p>2000    65ANDOVER   10.7</p>\\n\\n<p>2001    16to21      20.7</p>\\n\\n<p>2001    22to29      47.1</p>\\n\\n<p>2001    30to39      61.7</p>\\n\\n<p>2001    40to49      65.7</p>\\n\\n<p>2001    50to54      64.5</p>\\n\\n<p>2001    55to59      59.2</p>\\n\\n<p>2001    60to64      42.6</p>\\n\\n<p>2001    65ANDOVER   11.7</p>\\n\\n<p>2002    16to21      19.4</p>\\n\\n<p>2002    22to29      49.2</p>\\n\\n<p>2002    30to39      62.8</p>\\n\\n<p>2002    40to49      67.1</p>\\n\\n<p>2002    50to54      65.8</p>\\n\\n<p>2002    55to59      61.2 </p>\\n\\n<p>2002    60to64      45.2</p>\\n\\n<p>2002    65ANDOVER   10.1</p>\\n\\n<p>2003    16to21      17.3</p>\\n\\n<p>2003    22to29      45.2</p>\\n\\n<p>2003    30to39      59.7</p>\\n\\n<p>2003    40to49      65.1</p>\\n\\n<p>2003    50to54      64.9</p>\\n\\n<p>2003    55to59      59.1</p>\\n\\n<p>2003    60to64      44.5</p>\\n\\n<p>2003    65ANDOVER   10.7</p>\\n\\n<p>2004    16to21      14.1</p>\\n\\n<p>2004    22to29      44</p>\\n\\n<p>2004    30to39      60.5</p>\\n\\n<p>2004    40to49      66.2</p>\\n\\n<p>2004    50to54      66.3</p>\\n\\n<p>2004    55to59      61.4</p>\\n\\n<p>2004    60to64      45.9</p>\\n\\n<p>2004    65ANDOVER   12.1</p>\\n\\n<p>2005    16to21      11.4</p>\\n\\n<p>2005    22to29      38.7</p>\\n\\n<p>2005    30to39      56.1</p>\\n\\n<p>2005    40to49      62.3</p>\\n\\n<p>2005    50to54      63.2</p>\\n\\n<p>2005    55to59      58</p>\\n\\n<p>2005    60to64      42.7</p>\\n\\n<p>2005    65ANDOVER   6.8</p>\\n\\n<p>2006    16to21      11.7</p>\\n\\n<p>2006    22to29      38.1</p>\\n\\n<p>2006    30to39      56</p>\\n\\n<p>2006    40to49      62.1</p>\\n\\n<p>2006    50to54      62.8</p>\\n\\n<p>2006    55to59      58.8</p>\\n\\n<p>2006    60to64      44.7</p>\\n\\n<p>2006    65ANDOVER   10</p>\\n\\n<p>2007    16to21      11.4</p>\\n\\n<p>2007    22to29      36.9</p>\\n\\n<p>2007    30to39      54.8</p>\\n\\n<p>2007    40to49      60.7</p>\\n\\n<p>2007    50to54      62.3</p>\\n\\n<p>2007    55to59      58.7</p>\\n\\n<p>2007    60to64      45.1</p>\\n\\n<p>2007    65ANDOVER   10.9\\n2008    16to21      9.2</p>\\n\\n<p>2008    22to29      34.8</p>\\n\\n<p>2008    30to39      53.6</p>\\n\\n<p>2008    40to49      60</p>\\n\\n<p>2008    50to54      62.9</p>\\n\\n<p>2008    55to59      59</p>\\n\\n<p>2008    60to64      45.4</p>\\n\\n<p>2008    65ANDOVER   12.3</p>\\n\\n<p>2009    16to21      9.6</p>\\n\\n<p>2009    22to29      35.4</p>\\n\\n<p>2009    30to39      53.2</p>\\n\\n<p>2009    40to49      60.3</p>\\n\\n<p>2009    50to54      62.4</p>\\n\\n<p>2009    55to59      59.7</p>\\n\\n<p>2009    60to64      46.3</p>\\n\\n<p>2009    65ANDOVER   12.5</p>\\n\\n<p>2010    16to21      9.1</p>\\n\\n<p>2010    22to29      34.1</p>\\n\\n<p>2010    30to39      52.6</p>\\n\\n<p>2010    40to49      59.6</p>\\n\\n<p>2010    50to54      62</p>\\n\\n<p>2010    55to59      59.2</p>\\n\\n<p>2010    60to64      46.3</p>\\n\\n<p>2010    65ANDOVER   13.9</p>\\n\\n<p>2011    16to21      7.7</p>\\n\\n<p>2011    22to29      31.8</p>\\n\\n<p>2011    30to39      50.7</p>\\n\\n<p>2011    40to49      57.9</p>\\n\\n<p>2011    50to54      60.1</p>\\n\\n<p>2011    55to59      57.3</p>\\n\\n<p>2011    60to64      45</p>\\n\\n<p>2011    65ANDOVER   14.6</p>\\n\\n<p>2012    16to21      6.5</p>\\n\\n<p>2012    22to29      30.2</p>\\n\\n<p>2012    30to39      49.1</p>\\n\\n<p>2012    40to49      56.1</p>\\n\\n<p>2012    50to54      58.2</p>\\n\\n<p>2012    55to59      55.5</p>\\n\\n<p>2012    60to64      43.9</p>\\n\\n<p>2012    65ANDOVER   14.8</p>\\n\",\n          \"<p>I'm trying to make my results more intuitive, and so I want to compare the predicted values at the interquartile range. I'm trying to figure out how to get the predicted value for a given variable, keeping everything else at the median.</p>\\n\\n<p>I've tried something like this:</p>\\n\\n<pre><code>x_1 &lt;- rnorm(20)\\nx_2 &lt;- rnorm(20)\\ny &lt;- x_1 + x_2 + rnorm(20)\\nz &lt;- data.frame(y,x_1,x_2)\\nfit &lt;- lm(y~x_1 + x_2,data = z)\\npredict(fit,newdata = data.frame(x_1=c(quantile(x_1)[2],quantile(x_1)[4]), x_2=median(x_2)))\\n</code></pre>\\n\\n<p>which works, but my actual model has 10+ variables, and this starts to get ugly really quickly, so I figure there must be a better way?</p>\\n\"\n        ],\n        \"semantic_type\": \"\",\n        \"description\": \"\"\n      }\n    }\n  ]\n}"
            }
          },
          "metadata": {},
          "execution_count": 4
        }
      ]
    },
    {
      "cell_type": "markdown",
      "source": [
        "### Metadata Info\n",
        "* We can see there are 85,000 questions in the data above.\n",
        "* The metadata information:\n",
        "  * Id: Question ID\n",
        "  * OwnerUserid: User ID\n",
        "  * CreationDate: Date of posting question\n",
        "  * Score: Count of Upvotes received by the question.\n",
        "  * Title: Title of the question\n",
        "  * Body: Text body of the question\n",
        "     * Note: We can see a significant amount of html tags in the Body column which we will have to pre-process."
      ],
      "metadata": {
        "id": "DxBBfpPoP4Fr"
      }
    },
    {
      "cell_type": "code",
      "source": [
        "## load Tags dataset\n",
        "tags_df = pd.read_csv('/content/drive/MyDrive/Colab Notebooks/Classical NLP/Tags.csv')\n",
        "\n",
        "## shape of data\n",
        "print(f\"Shape of Tags data: {tags_df.shape}\")\n",
        "\n",
        "## data head\n",
        "tags_df.head()"
      ],
      "metadata": {
        "colab": {
          "base_uri": "https://localhost:8080/",
          "height": 224
        },
        "id": "8Xr5Jl1NOtb-",
        "outputId": "54e84e54-748d-4154-b187-3f07f4f293da"
      },
      "execution_count": 5,
      "outputs": [
        {
          "output_type": "stream",
          "name": "stdout",
          "text": [
            "Shape of Tags data: (244228, 2)\n"
          ]
        },
        {
          "output_type": "execute_result",
          "data": {
            "text/plain": [
              "   Id            Tag\n",
              "0   1       bayesian\n",
              "1   1          prior\n",
              "2   1    elicitation\n",
              "3   2  distributions\n",
              "4   2      normality"
            ],
            "text/html": [
              "\n",
              "  <div id=\"df-1a68ca12-da1f-4bca-b73f-fca3334a39d7\" class=\"colab-df-container\">\n",
              "    <div>\n",
              "<style scoped>\n",
              "    .dataframe tbody tr th:only-of-type {\n",
              "        vertical-align: middle;\n",
              "    }\n",
              "\n",
              "    .dataframe tbody tr th {\n",
              "        vertical-align: top;\n",
              "    }\n",
              "\n",
              "    .dataframe thead th {\n",
              "        text-align: right;\n",
              "    }\n",
              "</style>\n",
              "<table border=\"1\" class=\"dataframe\">\n",
              "  <thead>\n",
              "    <tr style=\"text-align: right;\">\n",
              "      <th></th>\n",
              "      <th>Id</th>\n",
              "      <th>Tag</th>\n",
              "    </tr>\n",
              "  </thead>\n",
              "  <tbody>\n",
              "    <tr>\n",
              "      <th>0</th>\n",
              "      <td>1</td>\n",
              "      <td>bayesian</td>\n",
              "    </tr>\n",
              "    <tr>\n",
              "      <th>1</th>\n",
              "      <td>1</td>\n",
              "      <td>prior</td>\n",
              "    </tr>\n",
              "    <tr>\n",
              "      <th>2</th>\n",
              "      <td>1</td>\n",
              "      <td>elicitation</td>\n",
              "    </tr>\n",
              "    <tr>\n",
              "      <th>3</th>\n",
              "      <td>2</td>\n",
              "      <td>distributions</td>\n",
              "    </tr>\n",
              "    <tr>\n",
              "      <th>4</th>\n",
              "      <td>2</td>\n",
              "      <td>normality</td>\n",
              "    </tr>\n",
              "  </tbody>\n",
              "</table>\n",
              "</div>\n",
              "    <div class=\"colab-df-buttons\">\n",
              "\n",
              "  <div class=\"colab-df-container\">\n",
              "    <button class=\"colab-df-convert\" onclick=\"convertToInteractive('df-1a68ca12-da1f-4bca-b73f-fca3334a39d7')\"\n",
              "            title=\"Convert this dataframe to an interactive table.\"\n",
              "            style=\"display:none;\">\n",
              "\n",
              "  <svg xmlns=\"http://www.w3.org/2000/svg\" height=\"24px\" viewBox=\"0 -960 960 960\">\n",
              "    <path d=\"M120-120v-720h720v720H120Zm60-500h600v-160H180v160Zm220 220h160v-160H400v160Zm0 220h160v-160H400v160ZM180-400h160v-160H180v160Zm440 0h160v-160H620v160ZM180-180h160v-160H180v160Zm440 0h160v-160H620v160Z\"/>\n",
              "  </svg>\n",
              "    </button>\n",
              "\n",
              "  <style>\n",
              "    .colab-df-container {\n",
              "      display:flex;\n",
              "      gap: 12px;\n",
              "    }\n",
              "\n",
              "    .colab-df-convert {\n",
              "      background-color: #E8F0FE;\n",
              "      border: none;\n",
              "      border-radius: 50%;\n",
              "      cursor: pointer;\n",
              "      display: none;\n",
              "      fill: #1967D2;\n",
              "      height: 32px;\n",
              "      padding: 0 0 0 0;\n",
              "      width: 32px;\n",
              "    }\n",
              "\n",
              "    .colab-df-convert:hover {\n",
              "      background-color: #E2EBFA;\n",
              "      box-shadow: 0px 1px 2px rgba(60, 64, 67, 0.3), 0px 1px 3px 1px rgba(60, 64, 67, 0.15);\n",
              "      fill: #174EA6;\n",
              "    }\n",
              "\n",
              "    .colab-df-buttons div {\n",
              "      margin-bottom: 4px;\n",
              "    }\n",
              "\n",
              "    [theme=dark] .colab-df-convert {\n",
              "      background-color: #3B4455;\n",
              "      fill: #D2E3FC;\n",
              "    }\n",
              "\n",
              "    [theme=dark] .colab-df-convert:hover {\n",
              "      background-color: #434B5C;\n",
              "      box-shadow: 0px 1px 3px 1px rgba(0, 0, 0, 0.15);\n",
              "      filter: drop-shadow(0px 1px 2px rgba(0, 0, 0, 0.3));\n",
              "      fill: #FFFFFF;\n",
              "    }\n",
              "  </style>\n",
              "\n",
              "    <script>\n",
              "      const buttonEl =\n",
              "        document.querySelector('#df-1a68ca12-da1f-4bca-b73f-fca3334a39d7 button.colab-df-convert');\n",
              "      buttonEl.style.display =\n",
              "        google.colab.kernel.accessAllowed ? 'block' : 'none';\n",
              "\n",
              "      async function convertToInteractive(key) {\n",
              "        const element = document.querySelector('#df-1a68ca12-da1f-4bca-b73f-fca3334a39d7');\n",
              "        const dataTable =\n",
              "          await google.colab.kernel.invokeFunction('convertToInteractive',\n",
              "                                                    [key], {});\n",
              "        if (!dataTable) return;\n",
              "\n",
              "        const docLinkHtml = 'Like what you see? Visit the ' +\n",
              "          '<a target=\"_blank\" href=https://colab.research.google.com/notebooks/data_table.ipynb>data table notebook</a>'\n",
              "          + ' to learn more about interactive tables.';\n",
              "        element.innerHTML = '';\n",
              "        dataTable['output_type'] = 'display_data';\n",
              "        await google.colab.output.renderOutput(dataTable, element);\n",
              "        const docLink = document.createElement('div');\n",
              "        docLink.innerHTML = docLinkHtml;\n",
              "        element.appendChild(docLink);\n",
              "      }\n",
              "    </script>\n",
              "  </div>\n",
              "\n",
              "\n",
              "<div id=\"df-309efdc8-b2c2-43ce-b5b9-a1d5050e644f\">\n",
              "  <button class=\"colab-df-quickchart\" onclick=\"quickchart('df-309efdc8-b2c2-43ce-b5b9-a1d5050e644f')\"\n",
              "            title=\"Suggest charts\"\n",
              "            style=\"display:none;\">\n",
              "\n",
              "<svg xmlns=\"http://www.w3.org/2000/svg\" height=\"24px\"viewBox=\"0 0 24 24\"\n",
              "     width=\"24px\">\n",
              "    <g>\n",
              "        <path d=\"M19 3H5c-1.1 0-2 .9-2 2v14c0 1.1.9 2 2 2h14c1.1 0 2-.9 2-2V5c0-1.1-.9-2-2-2zM9 17H7v-7h2v7zm4 0h-2V7h2v10zm4 0h-2v-4h2v4z\"/>\n",
              "    </g>\n",
              "</svg>\n",
              "  </button>\n",
              "\n",
              "<style>\n",
              "  .colab-df-quickchart {\n",
              "      --bg-color: #E8F0FE;\n",
              "      --fill-color: #1967D2;\n",
              "      --hover-bg-color: #E2EBFA;\n",
              "      --hover-fill-color: #174EA6;\n",
              "      --disabled-fill-color: #AAA;\n",
              "      --disabled-bg-color: #DDD;\n",
              "  }\n",
              "\n",
              "  [theme=dark] .colab-df-quickchart {\n",
              "      --bg-color: #3B4455;\n",
              "      --fill-color: #D2E3FC;\n",
              "      --hover-bg-color: #434B5C;\n",
              "      --hover-fill-color: #FFFFFF;\n",
              "      --disabled-bg-color: #3B4455;\n",
              "      --disabled-fill-color: #666;\n",
              "  }\n",
              "\n",
              "  .colab-df-quickchart {\n",
              "    background-color: var(--bg-color);\n",
              "    border: none;\n",
              "    border-radius: 50%;\n",
              "    cursor: pointer;\n",
              "    display: none;\n",
              "    fill: var(--fill-color);\n",
              "    height: 32px;\n",
              "    padding: 0;\n",
              "    width: 32px;\n",
              "  }\n",
              "\n",
              "  .colab-df-quickchart:hover {\n",
              "    background-color: var(--hover-bg-color);\n",
              "    box-shadow: 0 1px 2px rgba(60, 64, 67, 0.3), 0 1px 3px 1px rgba(60, 64, 67, 0.15);\n",
              "    fill: var(--button-hover-fill-color);\n",
              "  }\n",
              "\n",
              "  .colab-df-quickchart-complete:disabled,\n",
              "  .colab-df-quickchart-complete:disabled:hover {\n",
              "    background-color: var(--disabled-bg-color);\n",
              "    fill: var(--disabled-fill-color);\n",
              "    box-shadow: none;\n",
              "  }\n",
              "\n",
              "  .colab-df-spinner {\n",
              "    border: 2px solid var(--fill-color);\n",
              "    border-color: transparent;\n",
              "    border-bottom-color: var(--fill-color);\n",
              "    animation:\n",
              "      spin 1s steps(1) infinite;\n",
              "  }\n",
              "\n",
              "  @keyframes spin {\n",
              "    0% {\n",
              "      border-color: transparent;\n",
              "      border-bottom-color: var(--fill-color);\n",
              "      border-left-color: var(--fill-color);\n",
              "    }\n",
              "    20% {\n",
              "      border-color: transparent;\n",
              "      border-left-color: var(--fill-color);\n",
              "      border-top-color: var(--fill-color);\n",
              "    }\n",
              "    30% {\n",
              "      border-color: transparent;\n",
              "      border-left-color: var(--fill-color);\n",
              "      border-top-color: var(--fill-color);\n",
              "      border-right-color: var(--fill-color);\n",
              "    }\n",
              "    40% {\n",
              "      border-color: transparent;\n",
              "      border-right-color: var(--fill-color);\n",
              "      border-top-color: var(--fill-color);\n",
              "    }\n",
              "    60% {\n",
              "      border-color: transparent;\n",
              "      border-right-color: var(--fill-color);\n",
              "    }\n",
              "    80% {\n",
              "      border-color: transparent;\n",
              "      border-right-color: var(--fill-color);\n",
              "      border-bottom-color: var(--fill-color);\n",
              "    }\n",
              "    90% {\n",
              "      border-color: transparent;\n",
              "      border-bottom-color: var(--fill-color);\n",
              "    }\n",
              "  }\n",
              "</style>\n",
              "\n",
              "  <script>\n",
              "    async function quickchart(key) {\n",
              "      const quickchartButtonEl =\n",
              "        document.querySelector('#' + key + ' button');\n",
              "      quickchartButtonEl.disabled = true;  // To prevent multiple clicks.\n",
              "      quickchartButtonEl.classList.add('colab-df-spinner');\n",
              "      try {\n",
              "        const charts = await google.colab.kernel.invokeFunction(\n",
              "            'suggestCharts', [key], {});\n",
              "      } catch (error) {\n",
              "        console.error('Error during call to suggestCharts:', error);\n",
              "      }\n",
              "      quickchartButtonEl.classList.remove('colab-df-spinner');\n",
              "      quickchartButtonEl.classList.add('colab-df-quickchart-complete');\n",
              "    }\n",
              "    (() => {\n",
              "      let quickchartButtonEl =\n",
              "        document.querySelector('#df-309efdc8-b2c2-43ce-b5b9-a1d5050e644f button');\n",
              "      quickchartButtonEl.style.display =\n",
              "        google.colab.kernel.accessAllowed ? 'block' : 'none';\n",
              "    })();\n",
              "  </script>\n",
              "</div>\n",
              "\n",
              "    </div>\n",
              "  </div>\n"
            ],
            "application/vnd.google.colaboratory.intrinsic+json": {
              "type": "dataframe",
              "variable_name": "tags_df"
            }
          },
          "metadata": {},
          "execution_count": 5
        }
      ]
    },
    {
      "cell_type": "markdown",
      "source": [
        "There are 244,228 tags for 85,000 questions."
      ],
      "metadata": {
        "id": "Hz87trP8QxhI"
      }
    },
    {
      "cell_type": "markdown",
      "source": [
        "## Text Cleaning and Pre-processing\n",
        "\n",
        "We can define a function to clean the text data."
      ],
      "metadata": {
        "id": "ORHE57GsQ1R4"
      }
    },
    {
      "cell_type": "code",
      "source": [
        "## function to clean/pre-process data\n",
        "def cleaner(text):\n",
        "\n",
        "  # remove HTML tags\n",
        "  text = BeautifulSoup(text).get_text()\n",
        "\n",
        "  # retrieve alphabetic characters\n",
        "  text = re.sub(\"[^a-zA-Z]\", \" \", text)\n",
        "\n",
        "  # lowercase text\n",
        "  text = text.lower()\n",
        "\n",
        "  # remove extra spaces\n",
        "  text = re.sub(\"[\\s]+\", \" \", text)\n",
        "\n",
        "  # create spacy doc object\n",
        "  doc = nlp(text)\n",
        "\n",
        "  # remove stopwords and lemmatize text\n",
        "  tokens = [token.lemma_ for token in doc if (token.is_stop==False)]\n",
        "\n",
        "  # join text back together\n",
        "  return \" \".join(tokens)"
      ],
      "metadata": {
        "id": "OlthSLZgQvJj"
      },
      "execution_count": 6,
      "outputs": []
    },
    {
      "cell_type": "code",
      "source": [
        "## apply function to pre-process text\n",
        "questions_df['cleaned_text'] = questions_df['Body'].apply(cleaner)"
      ],
      "metadata": {
        "colab": {
          "base_uri": "https://localhost:8080/"
        },
        "id": "FRPQMNTVSAgS",
        "outputId": "483582b7-2114-404f-9fac-3e14690a29ba"
      },
      "execution_count": 7,
      "outputs": [
        {
          "output_type": "stream",
          "name": "stderr",
          "text": [
            "/usr/local/lib/python3.10/dist-packages/spacy/pipeline/lemmatizer.py:211: UserWarning: [W108] The rule-based lemmatizer did not find POS annotation for one or more tokens. Check that your pipeline includes components that assign token.pos, typically 'tagger'+'attribute_ruler' or 'morphologizer'.\n",
            "  warnings.warn(Warnings.W108)\n"
          ]
        }
      ]
    },
    {
      "cell_type": "code",
      "source": [
        "## view index of Body Text pre-clean\n",
        "questions_df['Body'][1]"
      ],
      "metadata": {
        "colab": {
          "base_uri": "https://localhost:8080/",
          "height": 174
        },
        "id": "OV_nOEyfSMLM",
        "outputId": "55753036-857f-49d1-de63-d5ca5bad88bc"
      },
      "execution_count": 8,
      "outputs": [
        {
          "output_type": "execute_result",
          "data": {
            "text/plain": [
              "\"<p>What are some of the ways to forecast demographic census with some validation and calibration techniques?</p>\\n\\n<p>Some of the concerns:</p>\\n\\n<ul>\\n<li>Census blocks vary in sizes as rural\\nareas are a lot larger than condensed\\nurban areas. Is there a need to account for the area size difference?</li>\\n<li>if let's say I have census data\\ndating back to 4 - 5 census periods,\\nhow far can i forecast it into the\\nfuture?</li>\\n<li>if some of the census zone change\\nlightly in boundaries, how can i\\naccount for that change?</li>\\n<li>What are the methods to validate\\ncensus forecasts? for example, if i\\nhave data for existing 5 census\\nperiods, should I model the first 3\\nand test it on the latter two? or is\\nthere another way?</li>\\n<li>what's the state of practice in\\nforecasting census data, and what are\\nsome of the state of the art methods?</li>\\n</ul>\\n\""
            ],
            "application/vnd.google.colaboratory.intrinsic+json": {
              "type": "string"
            }
          },
          "metadata": {},
          "execution_count": 8
        }
      ]
    },
    {
      "cell_type": "code",
      "source": [
        "## view index of cleaned_text post-clean\n",
        "questions_df['cleaned_text'][1]"
      ],
      "metadata": {
        "colab": {
          "base_uri": "https://localhost:8080/",
          "height": 105
        },
        "id": "2yOKcUPOST6J",
        "outputId": "3fc2ce4f-a03b-48be-a44e-dc17285647a5"
      },
      "execution_count": 9,
      "outputs": [
        {
          "output_type": "execute_result",
          "data": {
            "text/plain": [
              "'ways forecast demographic census validation calibration techniques concerns census blocks vary sizes rural areas lot larger condensed urban areas need account area size difference let s census data dating census periods far forecast future census zone change lightly boundaries account change methods validate census forecasts example data existing census periods model test way s state practice forecasting census data state art methods'"
            ],
            "application/vnd.google.colaboratory.intrinsic+json": {
              "type": "string"
            }
          },
          "metadata": {},
          "execution_count": 9
        }
      ]
    },
    {
      "cell_type": "markdown",
      "source": [
        "## Merge Tags with Questions\n",
        "\n",
        "Now we can explore the tags data."
      ],
      "metadata": {
        "id": "_VoMmlkdSpkb"
      }
    },
    {
      "cell_type": "code",
      "source": [
        "# head of tags_df\n",
        "tags_df.head()"
      ],
      "metadata": {
        "colab": {
          "base_uri": "https://localhost:8080/",
          "height": 206
        },
        "id": "VoaVua9LSoCu",
        "outputId": "617e63a5-8a06-4789-b9a3-814859eea37d"
      },
      "execution_count": 10,
      "outputs": [
        {
          "output_type": "execute_result",
          "data": {
            "text/plain": [
              "   Id            Tag\n",
              "0   1       bayesian\n",
              "1   1          prior\n",
              "2   1    elicitation\n",
              "3   2  distributions\n",
              "4   2      normality"
            ],
            "text/html": [
              "\n",
              "  <div id=\"df-f5f4e8c8-a3e7-403c-a47b-7b2f8d1688cf\" class=\"colab-df-container\">\n",
              "    <div>\n",
              "<style scoped>\n",
              "    .dataframe tbody tr th:only-of-type {\n",
              "        vertical-align: middle;\n",
              "    }\n",
              "\n",
              "    .dataframe tbody tr th {\n",
              "        vertical-align: top;\n",
              "    }\n",
              "\n",
              "    .dataframe thead th {\n",
              "        text-align: right;\n",
              "    }\n",
              "</style>\n",
              "<table border=\"1\" class=\"dataframe\">\n",
              "  <thead>\n",
              "    <tr style=\"text-align: right;\">\n",
              "      <th></th>\n",
              "      <th>Id</th>\n",
              "      <th>Tag</th>\n",
              "    </tr>\n",
              "  </thead>\n",
              "  <tbody>\n",
              "    <tr>\n",
              "      <th>0</th>\n",
              "      <td>1</td>\n",
              "      <td>bayesian</td>\n",
              "    </tr>\n",
              "    <tr>\n",
              "      <th>1</th>\n",
              "      <td>1</td>\n",
              "      <td>prior</td>\n",
              "    </tr>\n",
              "    <tr>\n",
              "      <th>2</th>\n",
              "      <td>1</td>\n",
              "      <td>elicitation</td>\n",
              "    </tr>\n",
              "    <tr>\n",
              "      <th>3</th>\n",
              "      <td>2</td>\n",
              "      <td>distributions</td>\n",
              "    </tr>\n",
              "    <tr>\n",
              "      <th>4</th>\n",
              "      <td>2</td>\n",
              "      <td>normality</td>\n",
              "    </tr>\n",
              "  </tbody>\n",
              "</table>\n",
              "</div>\n",
              "    <div class=\"colab-df-buttons\">\n",
              "\n",
              "  <div class=\"colab-df-container\">\n",
              "    <button class=\"colab-df-convert\" onclick=\"convertToInteractive('df-f5f4e8c8-a3e7-403c-a47b-7b2f8d1688cf')\"\n",
              "            title=\"Convert this dataframe to an interactive table.\"\n",
              "            style=\"display:none;\">\n",
              "\n",
              "  <svg xmlns=\"http://www.w3.org/2000/svg\" height=\"24px\" viewBox=\"0 -960 960 960\">\n",
              "    <path d=\"M120-120v-720h720v720H120Zm60-500h600v-160H180v160Zm220 220h160v-160H400v160Zm0 220h160v-160H400v160ZM180-400h160v-160H180v160Zm440 0h160v-160H620v160ZM180-180h160v-160H180v160Zm440 0h160v-160H620v160Z\"/>\n",
              "  </svg>\n",
              "    </button>\n",
              "\n",
              "  <style>\n",
              "    .colab-df-container {\n",
              "      display:flex;\n",
              "      gap: 12px;\n",
              "    }\n",
              "\n",
              "    .colab-df-convert {\n",
              "      background-color: #E8F0FE;\n",
              "      border: none;\n",
              "      border-radius: 50%;\n",
              "      cursor: pointer;\n",
              "      display: none;\n",
              "      fill: #1967D2;\n",
              "      height: 32px;\n",
              "      padding: 0 0 0 0;\n",
              "      width: 32px;\n",
              "    }\n",
              "\n",
              "    .colab-df-convert:hover {\n",
              "      background-color: #E2EBFA;\n",
              "      box-shadow: 0px 1px 2px rgba(60, 64, 67, 0.3), 0px 1px 3px 1px rgba(60, 64, 67, 0.15);\n",
              "      fill: #174EA6;\n",
              "    }\n",
              "\n",
              "    .colab-df-buttons div {\n",
              "      margin-bottom: 4px;\n",
              "    }\n",
              "\n",
              "    [theme=dark] .colab-df-convert {\n",
              "      background-color: #3B4455;\n",
              "      fill: #D2E3FC;\n",
              "    }\n",
              "\n",
              "    [theme=dark] .colab-df-convert:hover {\n",
              "      background-color: #434B5C;\n",
              "      box-shadow: 0px 1px 3px 1px rgba(0, 0, 0, 0.15);\n",
              "      filter: drop-shadow(0px 1px 2px rgba(0, 0, 0, 0.3));\n",
              "      fill: #FFFFFF;\n",
              "    }\n",
              "  </style>\n",
              "\n",
              "    <script>\n",
              "      const buttonEl =\n",
              "        document.querySelector('#df-f5f4e8c8-a3e7-403c-a47b-7b2f8d1688cf button.colab-df-convert');\n",
              "      buttonEl.style.display =\n",
              "        google.colab.kernel.accessAllowed ? 'block' : 'none';\n",
              "\n",
              "      async function convertToInteractive(key) {\n",
              "        const element = document.querySelector('#df-f5f4e8c8-a3e7-403c-a47b-7b2f8d1688cf');\n",
              "        const dataTable =\n",
              "          await google.colab.kernel.invokeFunction('convertToInteractive',\n",
              "                                                    [key], {});\n",
              "        if (!dataTable) return;\n",
              "\n",
              "        const docLinkHtml = 'Like what you see? Visit the ' +\n",
              "          '<a target=\"_blank\" href=https://colab.research.google.com/notebooks/data_table.ipynb>data table notebook</a>'\n",
              "          + ' to learn more about interactive tables.';\n",
              "        element.innerHTML = '';\n",
              "        dataTable['output_type'] = 'display_data';\n",
              "        await google.colab.output.renderOutput(dataTable, element);\n",
              "        const docLink = document.createElement('div');\n",
              "        docLink.innerHTML = docLinkHtml;\n",
              "        element.appendChild(docLink);\n",
              "      }\n",
              "    </script>\n",
              "  </div>\n",
              "\n",
              "\n",
              "<div id=\"df-8be49886-a205-4f34-89a0-8f2203f2ae65\">\n",
              "  <button class=\"colab-df-quickchart\" onclick=\"quickchart('df-8be49886-a205-4f34-89a0-8f2203f2ae65')\"\n",
              "            title=\"Suggest charts\"\n",
              "            style=\"display:none;\">\n",
              "\n",
              "<svg xmlns=\"http://www.w3.org/2000/svg\" height=\"24px\"viewBox=\"0 0 24 24\"\n",
              "     width=\"24px\">\n",
              "    <g>\n",
              "        <path d=\"M19 3H5c-1.1 0-2 .9-2 2v14c0 1.1.9 2 2 2h14c1.1 0 2-.9 2-2V5c0-1.1-.9-2-2-2zM9 17H7v-7h2v7zm4 0h-2V7h2v10zm4 0h-2v-4h2v4z\"/>\n",
              "    </g>\n",
              "</svg>\n",
              "  </button>\n",
              "\n",
              "<style>\n",
              "  .colab-df-quickchart {\n",
              "      --bg-color: #E8F0FE;\n",
              "      --fill-color: #1967D2;\n",
              "      --hover-bg-color: #E2EBFA;\n",
              "      --hover-fill-color: #174EA6;\n",
              "      --disabled-fill-color: #AAA;\n",
              "      --disabled-bg-color: #DDD;\n",
              "  }\n",
              "\n",
              "  [theme=dark] .colab-df-quickchart {\n",
              "      --bg-color: #3B4455;\n",
              "      --fill-color: #D2E3FC;\n",
              "      --hover-bg-color: #434B5C;\n",
              "      --hover-fill-color: #FFFFFF;\n",
              "      --disabled-bg-color: #3B4455;\n",
              "      --disabled-fill-color: #666;\n",
              "  }\n",
              "\n",
              "  .colab-df-quickchart {\n",
              "    background-color: var(--bg-color);\n",
              "    border: none;\n",
              "    border-radius: 50%;\n",
              "    cursor: pointer;\n",
              "    display: none;\n",
              "    fill: var(--fill-color);\n",
              "    height: 32px;\n",
              "    padding: 0;\n",
              "    width: 32px;\n",
              "  }\n",
              "\n",
              "  .colab-df-quickchart:hover {\n",
              "    background-color: var(--hover-bg-color);\n",
              "    box-shadow: 0 1px 2px rgba(60, 64, 67, 0.3), 0 1px 3px 1px rgba(60, 64, 67, 0.15);\n",
              "    fill: var(--button-hover-fill-color);\n",
              "  }\n",
              "\n",
              "  .colab-df-quickchart-complete:disabled,\n",
              "  .colab-df-quickchart-complete:disabled:hover {\n",
              "    background-color: var(--disabled-bg-color);\n",
              "    fill: var(--disabled-fill-color);\n",
              "    box-shadow: none;\n",
              "  }\n",
              "\n",
              "  .colab-df-spinner {\n",
              "    border: 2px solid var(--fill-color);\n",
              "    border-color: transparent;\n",
              "    border-bottom-color: var(--fill-color);\n",
              "    animation:\n",
              "      spin 1s steps(1) infinite;\n",
              "  }\n",
              "\n",
              "  @keyframes spin {\n",
              "    0% {\n",
              "      border-color: transparent;\n",
              "      border-bottom-color: var(--fill-color);\n",
              "      border-left-color: var(--fill-color);\n",
              "    }\n",
              "    20% {\n",
              "      border-color: transparent;\n",
              "      border-left-color: var(--fill-color);\n",
              "      border-top-color: var(--fill-color);\n",
              "    }\n",
              "    30% {\n",
              "      border-color: transparent;\n",
              "      border-left-color: var(--fill-color);\n",
              "      border-top-color: var(--fill-color);\n",
              "      border-right-color: var(--fill-color);\n",
              "    }\n",
              "    40% {\n",
              "      border-color: transparent;\n",
              "      border-right-color: var(--fill-color);\n",
              "      border-top-color: var(--fill-color);\n",
              "    }\n",
              "    60% {\n",
              "      border-color: transparent;\n",
              "      border-right-color: var(--fill-color);\n",
              "    }\n",
              "    80% {\n",
              "      border-color: transparent;\n",
              "      border-right-color: var(--fill-color);\n",
              "      border-bottom-color: var(--fill-color);\n",
              "    }\n",
              "    90% {\n",
              "      border-color: transparent;\n",
              "      border-bottom-color: var(--fill-color);\n",
              "    }\n",
              "  }\n",
              "</style>\n",
              "\n",
              "  <script>\n",
              "    async function quickchart(key) {\n",
              "      const quickchartButtonEl =\n",
              "        document.querySelector('#' + key + ' button');\n",
              "      quickchartButtonEl.disabled = true;  // To prevent multiple clicks.\n",
              "      quickchartButtonEl.classList.add('colab-df-spinner');\n",
              "      try {\n",
              "        const charts = await google.colab.kernel.invokeFunction(\n",
              "            'suggestCharts', [key], {});\n",
              "      } catch (error) {\n",
              "        console.error('Error during call to suggestCharts:', error);\n",
              "      }\n",
              "      quickchartButtonEl.classList.remove('colab-df-spinner');\n",
              "      quickchartButtonEl.classList.add('colab-df-quickchart-complete');\n",
              "    }\n",
              "    (() => {\n",
              "      let quickchartButtonEl =\n",
              "        document.querySelector('#df-8be49886-a205-4f34-89a0-8f2203f2ae65 button');\n",
              "      quickchartButtonEl.style.display =\n",
              "        google.colab.kernel.accessAllowed ? 'block' : 'none';\n",
              "    })();\n",
              "  </script>\n",
              "</div>\n",
              "\n",
              "    </div>\n",
              "  </div>\n"
            ],
            "application/vnd.google.colaboratory.intrinsic+json": {
              "type": "dataframe",
              "variable_name": "tags_df"
            }
          },
          "metadata": {},
          "execution_count": 10
        }
      ]
    },
    {
      "cell_type": "code",
      "source": [
        "# count unique tags\n",
        "len(tags_df['Tag'].unique())"
      ],
      "metadata": {
        "colab": {
          "base_uri": "https://localhost:8080/"
        },
        "id": "S0PyzK4dUbty",
        "outputId": "fc2aa868-e730-4901-e646-fd4f5e5527be"
      },
      "execution_count": 11,
      "outputs": [
        {
          "output_type": "execute_result",
          "data": {
            "text/plain": [
              "1315"
            ]
          },
          "metadata": {},
          "execution_count": 11
        }
      ]
    },
    {
      "cell_type": "code",
      "source": [
        "# value_counts of Tags\n",
        "tags_df['Tag'].value_counts()"
      ],
      "metadata": {
        "colab": {
          "base_uri": "https://localhost:8080/",
          "height": 490
        },
        "id": "2OINcD6NUn42",
        "outputId": "188d603b-68cf-459b-af8d-f32cdb9b184b"
      },
      "execution_count": 12,
      "outputs": [
        {
          "output_type": "execute_result",
          "data": {
            "text/plain": [
              "Tag\n",
              "r                            13236\n",
              "regression                   10959\n",
              "machine-learning              6089\n",
              "time-series                   5559\n",
              "probability                   4217\n",
              "                             ...  \n",
              "fmincon                          1\n",
              "netflix-prize                    1\n",
              "american-community-survey        1\n",
              "propensity                       1\n",
              "corpus-linguistics               1\n",
              "Name: count, Length: 1315, dtype: int64"
            ],
            "text/html": [
              "<div>\n",
              "<style scoped>\n",
              "    .dataframe tbody tr th:only-of-type {\n",
              "        vertical-align: middle;\n",
              "    }\n",
              "\n",
              "    .dataframe tbody tr th {\n",
              "        vertical-align: top;\n",
              "    }\n",
              "\n",
              "    .dataframe thead th {\n",
              "        text-align: right;\n",
              "    }\n",
              "</style>\n",
              "<table border=\"1\" class=\"dataframe\">\n",
              "  <thead>\n",
              "    <tr style=\"text-align: right;\">\n",
              "      <th></th>\n",
              "      <th>count</th>\n",
              "    </tr>\n",
              "    <tr>\n",
              "      <th>Tag</th>\n",
              "      <th></th>\n",
              "    </tr>\n",
              "  </thead>\n",
              "  <tbody>\n",
              "    <tr>\n",
              "      <th>r</th>\n",
              "      <td>13236</td>\n",
              "    </tr>\n",
              "    <tr>\n",
              "      <th>regression</th>\n",
              "      <td>10959</td>\n",
              "    </tr>\n",
              "    <tr>\n",
              "      <th>machine-learning</th>\n",
              "      <td>6089</td>\n",
              "    </tr>\n",
              "    <tr>\n",
              "      <th>time-series</th>\n",
              "      <td>5559</td>\n",
              "    </tr>\n",
              "    <tr>\n",
              "      <th>probability</th>\n",
              "      <td>4217</td>\n",
              "    </tr>\n",
              "    <tr>\n",
              "      <th>...</th>\n",
              "      <td>...</td>\n",
              "    </tr>\n",
              "    <tr>\n",
              "      <th>fmincon</th>\n",
              "      <td>1</td>\n",
              "    </tr>\n",
              "    <tr>\n",
              "      <th>netflix-prize</th>\n",
              "      <td>1</td>\n",
              "    </tr>\n",
              "    <tr>\n",
              "      <th>american-community-survey</th>\n",
              "      <td>1</td>\n",
              "    </tr>\n",
              "    <tr>\n",
              "      <th>propensity</th>\n",
              "      <td>1</td>\n",
              "    </tr>\n",
              "    <tr>\n",
              "      <th>corpus-linguistics</th>\n",
              "      <td>1</td>\n",
              "    </tr>\n",
              "  </tbody>\n",
              "</table>\n",
              "<p>1315 rows × 1 columns</p>\n",
              "</div><br><label><b>dtype:</b> int64</label>"
            ]
          },
          "metadata": {},
          "execution_count": 12
        }
      ]
    },
    {
      "cell_type": "code",
      "source": [
        "# lets remove \"-\" from tags\n",
        "tags_df['Tag'] = tags_df['Tag'].apply(lambda x: re.sub(\"-\", \" \", x))"
      ],
      "metadata": {
        "id": "x94vJwyZUtdf"
      },
      "execution_count": 12,
      "outputs": []
    },
    {
      "cell_type": "markdown",
      "source": [
        "Before we can merge the Tags and Questions, we neeed to group the Tags by Id"
      ],
      "metadata": {
        "id": "hj1ykhXiVvf0"
      }
    },
    {
      "cell_type": "code",
      "source": [
        "# group tags by ID\n",
        "tags_df = tags_df.groupby('Id').apply(lambda x: x['Tag'].values).reset_index(name='tags')\n",
        "\n",
        "# view df\n",
        "tags_df.head()"
      ],
      "metadata": {
        "colab": {
          "base_uri": "https://localhost:8080/",
          "height": 206
        },
        "id": "Ob5lA85_V0Vn",
        "outputId": "a8b98987-a258-46b3-ab94-d9480f0d0c24"
      },
      "execution_count": 13,
      "outputs": [
        {
          "output_type": "execute_result",
          "data": {
            "text/plain": [
              "   Id                                       tags\n",
              "0   1             [bayesian, prior, elicitation]\n",
              "1   2                 [distributions, normality]\n",
              "2   3                    [software, open-source]\n",
              "3   4  [distributions, statistical-significance]\n",
              "4   6                         [machine-learning]"
            ],
            "text/html": [
              "\n",
              "  <div id=\"df-2e53b805-d4e0-400b-8f87-f00ae5ce1fe0\" class=\"colab-df-container\">\n",
              "    <div>\n",
              "<style scoped>\n",
              "    .dataframe tbody tr th:only-of-type {\n",
              "        vertical-align: middle;\n",
              "    }\n",
              "\n",
              "    .dataframe tbody tr th {\n",
              "        vertical-align: top;\n",
              "    }\n",
              "\n",
              "    .dataframe thead th {\n",
              "        text-align: right;\n",
              "    }\n",
              "</style>\n",
              "<table border=\"1\" class=\"dataframe\">\n",
              "  <thead>\n",
              "    <tr style=\"text-align: right;\">\n",
              "      <th></th>\n",
              "      <th>Id</th>\n",
              "      <th>tags</th>\n",
              "    </tr>\n",
              "  </thead>\n",
              "  <tbody>\n",
              "    <tr>\n",
              "      <th>0</th>\n",
              "      <td>1</td>\n",
              "      <td>[bayesian, prior, elicitation]</td>\n",
              "    </tr>\n",
              "    <tr>\n",
              "      <th>1</th>\n",
              "      <td>2</td>\n",
              "      <td>[distributions, normality]</td>\n",
              "    </tr>\n",
              "    <tr>\n",
              "      <th>2</th>\n",
              "      <td>3</td>\n",
              "      <td>[software, open-source]</td>\n",
              "    </tr>\n",
              "    <tr>\n",
              "      <th>3</th>\n",
              "      <td>4</td>\n",
              "      <td>[distributions, statistical-significance]</td>\n",
              "    </tr>\n",
              "    <tr>\n",
              "      <th>4</th>\n",
              "      <td>6</td>\n",
              "      <td>[machine-learning]</td>\n",
              "    </tr>\n",
              "  </tbody>\n",
              "</table>\n",
              "</div>\n",
              "    <div class=\"colab-df-buttons\">\n",
              "\n",
              "  <div class=\"colab-df-container\">\n",
              "    <button class=\"colab-df-convert\" onclick=\"convertToInteractive('df-2e53b805-d4e0-400b-8f87-f00ae5ce1fe0')\"\n",
              "            title=\"Convert this dataframe to an interactive table.\"\n",
              "            style=\"display:none;\">\n",
              "\n",
              "  <svg xmlns=\"http://www.w3.org/2000/svg\" height=\"24px\" viewBox=\"0 -960 960 960\">\n",
              "    <path d=\"M120-120v-720h720v720H120Zm60-500h600v-160H180v160Zm220 220h160v-160H400v160Zm0 220h160v-160H400v160ZM180-400h160v-160H180v160Zm440 0h160v-160H620v160ZM180-180h160v-160H180v160Zm440 0h160v-160H620v160Z\"/>\n",
              "  </svg>\n",
              "    </button>\n",
              "\n",
              "  <style>\n",
              "    .colab-df-container {\n",
              "      display:flex;\n",
              "      gap: 12px;\n",
              "    }\n",
              "\n",
              "    .colab-df-convert {\n",
              "      background-color: #E8F0FE;\n",
              "      border: none;\n",
              "      border-radius: 50%;\n",
              "      cursor: pointer;\n",
              "      display: none;\n",
              "      fill: #1967D2;\n",
              "      height: 32px;\n",
              "      padding: 0 0 0 0;\n",
              "      width: 32px;\n",
              "    }\n",
              "\n",
              "    .colab-df-convert:hover {\n",
              "      background-color: #E2EBFA;\n",
              "      box-shadow: 0px 1px 2px rgba(60, 64, 67, 0.3), 0px 1px 3px 1px rgba(60, 64, 67, 0.15);\n",
              "      fill: #174EA6;\n",
              "    }\n",
              "\n",
              "    .colab-df-buttons div {\n",
              "      margin-bottom: 4px;\n",
              "    }\n",
              "\n",
              "    [theme=dark] .colab-df-convert {\n",
              "      background-color: #3B4455;\n",
              "      fill: #D2E3FC;\n",
              "    }\n",
              "\n",
              "    [theme=dark] .colab-df-convert:hover {\n",
              "      background-color: #434B5C;\n",
              "      box-shadow: 0px 1px 3px 1px rgba(0, 0, 0, 0.15);\n",
              "      filter: drop-shadow(0px 1px 2px rgba(0, 0, 0, 0.3));\n",
              "      fill: #FFFFFF;\n",
              "    }\n",
              "  </style>\n",
              "\n",
              "    <script>\n",
              "      const buttonEl =\n",
              "        document.querySelector('#df-2e53b805-d4e0-400b-8f87-f00ae5ce1fe0 button.colab-df-convert');\n",
              "      buttonEl.style.display =\n",
              "        google.colab.kernel.accessAllowed ? 'block' : 'none';\n",
              "\n",
              "      async function convertToInteractive(key) {\n",
              "        const element = document.querySelector('#df-2e53b805-d4e0-400b-8f87-f00ae5ce1fe0');\n",
              "        const dataTable =\n",
              "          await google.colab.kernel.invokeFunction('convertToInteractive',\n",
              "                                                    [key], {});\n",
              "        if (!dataTable) return;\n",
              "\n",
              "        const docLinkHtml = 'Like what you see? Visit the ' +\n",
              "          '<a target=\"_blank\" href=https://colab.research.google.com/notebooks/data_table.ipynb>data table notebook</a>'\n",
              "          + ' to learn more about interactive tables.';\n",
              "        element.innerHTML = '';\n",
              "        dataTable['output_type'] = 'display_data';\n",
              "        await google.colab.output.renderOutput(dataTable, element);\n",
              "        const docLink = document.createElement('div');\n",
              "        docLink.innerHTML = docLinkHtml;\n",
              "        element.appendChild(docLink);\n",
              "      }\n",
              "    </script>\n",
              "  </div>\n",
              "\n",
              "\n",
              "<div id=\"df-f3b5b7b9-ff4c-4828-bedc-0f6e140cb656\">\n",
              "  <button class=\"colab-df-quickchart\" onclick=\"quickchart('df-f3b5b7b9-ff4c-4828-bedc-0f6e140cb656')\"\n",
              "            title=\"Suggest charts\"\n",
              "            style=\"display:none;\">\n",
              "\n",
              "<svg xmlns=\"http://www.w3.org/2000/svg\" height=\"24px\"viewBox=\"0 0 24 24\"\n",
              "     width=\"24px\">\n",
              "    <g>\n",
              "        <path d=\"M19 3H5c-1.1 0-2 .9-2 2v14c0 1.1.9 2 2 2h14c1.1 0 2-.9 2-2V5c0-1.1-.9-2-2-2zM9 17H7v-7h2v7zm4 0h-2V7h2v10zm4 0h-2v-4h2v4z\"/>\n",
              "    </g>\n",
              "</svg>\n",
              "  </button>\n",
              "\n",
              "<style>\n",
              "  .colab-df-quickchart {\n",
              "      --bg-color: #E8F0FE;\n",
              "      --fill-color: #1967D2;\n",
              "      --hover-bg-color: #E2EBFA;\n",
              "      --hover-fill-color: #174EA6;\n",
              "      --disabled-fill-color: #AAA;\n",
              "      --disabled-bg-color: #DDD;\n",
              "  }\n",
              "\n",
              "  [theme=dark] .colab-df-quickchart {\n",
              "      --bg-color: #3B4455;\n",
              "      --fill-color: #D2E3FC;\n",
              "      --hover-bg-color: #434B5C;\n",
              "      --hover-fill-color: #FFFFFF;\n",
              "      --disabled-bg-color: #3B4455;\n",
              "      --disabled-fill-color: #666;\n",
              "  }\n",
              "\n",
              "  .colab-df-quickchart {\n",
              "    background-color: var(--bg-color);\n",
              "    border: none;\n",
              "    border-radius: 50%;\n",
              "    cursor: pointer;\n",
              "    display: none;\n",
              "    fill: var(--fill-color);\n",
              "    height: 32px;\n",
              "    padding: 0;\n",
              "    width: 32px;\n",
              "  }\n",
              "\n",
              "  .colab-df-quickchart:hover {\n",
              "    background-color: var(--hover-bg-color);\n",
              "    box-shadow: 0 1px 2px rgba(60, 64, 67, 0.3), 0 1px 3px 1px rgba(60, 64, 67, 0.15);\n",
              "    fill: var(--button-hover-fill-color);\n",
              "  }\n",
              "\n",
              "  .colab-df-quickchart-complete:disabled,\n",
              "  .colab-df-quickchart-complete:disabled:hover {\n",
              "    background-color: var(--disabled-bg-color);\n",
              "    fill: var(--disabled-fill-color);\n",
              "    box-shadow: none;\n",
              "  }\n",
              "\n",
              "  .colab-df-spinner {\n",
              "    border: 2px solid var(--fill-color);\n",
              "    border-color: transparent;\n",
              "    border-bottom-color: var(--fill-color);\n",
              "    animation:\n",
              "      spin 1s steps(1) infinite;\n",
              "  }\n",
              "\n",
              "  @keyframes spin {\n",
              "    0% {\n",
              "      border-color: transparent;\n",
              "      border-bottom-color: var(--fill-color);\n",
              "      border-left-color: var(--fill-color);\n",
              "    }\n",
              "    20% {\n",
              "      border-color: transparent;\n",
              "      border-left-color: var(--fill-color);\n",
              "      border-top-color: var(--fill-color);\n",
              "    }\n",
              "    30% {\n",
              "      border-color: transparent;\n",
              "      border-left-color: var(--fill-color);\n",
              "      border-top-color: var(--fill-color);\n",
              "      border-right-color: var(--fill-color);\n",
              "    }\n",
              "    40% {\n",
              "      border-color: transparent;\n",
              "      border-right-color: var(--fill-color);\n",
              "      border-top-color: var(--fill-color);\n",
              "    }\n",
              "    60% {\n",
              "      border-color: transparent;\n",
              "      border-right-color: var(--fill-color);\n",
              "    }\n",
              "    80% {\n",
              "      border-color: transparent;\n",
              "      border-right-color: var(--fill-color);\n",
              "      border-bottom-color: var(--fill-color);\n",
              "    }\n",
              "    90% {\n",
              "      border-color: transparent;\n",
              "      border-bottom-color: var(--fill-color);\n",
              "    }\n",
              "  }\n",
              "</style>\n",
              "\n",
              "  <script>\n",
              "    async function quickchart(key) {\n",
              "      const quickchartButtonEl =\n",
              "        document.querySelector('#' + key + ' button');\n",
              "      quickchartButtonEl.disabled = true;  // To prevent multiple clicks.\n",
              "      quickchartButtonEl.classList.add('colab-df-spinner');\n",
              "      try {\n",
              "        const charts = await google.colab.kernel.invokeFunction(\n",
              "            'suggestCharts', [key], {});\n",
              "      } catch (error) {\n",
              "        console.error('Error during call to suggestCharts:', error);\n",
              "      }\n",
              "      quickchartButtonEl.classList.remove('colab-df-spinner');\n",
              "      quickchartButtonEl.classList.add('colab-df-quickchart-complete');\n",
              "    }\n",
              "    (() => {\n",
              "      let quickchartButtonEl =\n",
              "        document.querySelector('#df-f3b5b7b9-ff4c-4828-bedc-0f6e140cb656 button');\n",
              "      quickchartButtonEl.style.display =\n",
              "        google.colab.kernel.accessAllowed ? 'block' : 'none';\n",
              "    })();\n",
              "  </script>\n",
              "</div>\n",
              "\n",
              "    </div>\n",
              "  </div>\n"
            ],
            "application/vnd.google.colaboratory.intrinsic+json": {
              "type": "dataframe",
              "variable_name": "tags_df",
              "summary": "{\n  \"name\": \"tags_df\",\n  \"rows\": 85085,\n  \"fields\": [\n    {\n      \"column\": \"Id\",\n      \"properties\": {\n        \"dtype\": \"number\",\n        \"std\": 70656,\n        \"min\": 1,\n        \"max\": 241481,\n        \"num_unique_values\": 85085,\n        \"samples\": [\n          113857,\n          89143,\n          105783\n        ],\n        \"semantic_type\": \"\",\n        \"description\": \"\"\n      }\n    },\n    {\n      \"column\": \"tags\",\n      \"properties\": {\n        \"dtype\": \"object\",\n        \"semantic_type\": \"\",\n        \"description\": \"\"\n      }\n    }\n  ]\n}"
            }
          },
          "metadata": {},
          "execution_count": 13
        }
      ]
    },
    {
      "cell_type": "code",
      "source": [
        "# now merge tags + questions\n",
        "df = pd.merge(questions_df, tags_df, how='inner', on='Id')"
      ],
      "metadata": {
        "id": "kdN8kc0YWOAe"
      },
      "execution_count": 14,
      "outputs": []
    },
    {
      "cell_type": "code",
      "source": [
        "## setup columns\n",
        "df = df[['Id', 'Body', 'cleaned_text', 'tags']]\n",
        "\n",
        "# print shape\n",
        "print(f\"Shape of merged df: {df.shape}\")\n",
        "\n",
        "# head of df\n",
        "df.head()"
      ],
      "metadata": {
        "colab": {
          "base_uri": "https://localhost:8080/",
          "height": 675
        },
        "id": "94CdFYATWYCq",
        "outputId": "6d9723c4-a419-4f9c-c68c-e5b3f1075b54"
      },
      "execution_count": 15,
      "outputs": [
        {
          "output_type": "stream",
          "name": "stdout",
          "text": [
            "Shape of merged df: (85085, 4)\n"
          ]
        },
        {
          "output_type": "execute_result",
          "data": {
            "text/plain": [
              "   Id  \\\n",
              "0   6   \n",
              "1  21   \n",
              "2  22   \n",
              "3  31   \n",
              "4  36   \n",
              "\n",
              "                                                                                                                                                                                                      Body  \\\n",
              "0  <p>Last year, I read a blog post from <a href=\"http://anyall.org/\">Brendan O'Connor</a> entitled <a href=\"http://anyall.org/blog/2008/12/statistics-vs-machine-learning-fight/\">\"Statistics vs. Mach...   \n",
              "1  <p>What are some of the ways to forecast demographic census with some validation and calibration techniques?</p>\\n\\n<p>Some of the concerns:</p>\\n\\n<ul>\\n<li>Census blocks vary in sizes as rural\\n...   \n",
              "2                                                                               <p>How would you describe in plain English the characteristics that distinguish Bayesian from Frequentist reasoning?</p>\\n   \n",
              "3  <p>After taking a statistics course and then trying to help fellow students, I noticed one subject that inspires much head-desk banging is interpreting the results of statistical hypothesis tests....   \n",
              "4  <p>There is an old saying: \"Correlation does not mean causation\". When I teach, I tend to use the following standard examples to illustrate this point:</p>\\n\\n<ol>\\n<li>number of storks and birth ...   \n",
              "\n",
              "                                                                                                                                                                                              cleaned_text  \\\n",
              "0  year read blog post brendan o connor entitled statistics vs machine learning fight discussed differences fields andrew gelman responded favorably simon blomberg r s fortunes package paraphrase pro...   \n",
              "1  ways forecast demographic census validation calibration techniques concerns census blocks vary sizes rural areas lot larger condensed urban areas need account area size difference let s census dat...   \n",
              "2                                                                                                                        describe plain english characteristics distinguish bayesian frequentist reasoning   \n",
              "3  taking statistics course trying help fellow students noticed subject inspires head desk banging interpreting results statistical hypothesis tests students easily learn perform calculations require...   \n",
              "4  old saying correlation mean causation teach tend use following standard examples illustrate point number storks birth rate denmark number priests america alcoholism start th century noted strong c...   \n",
              "\n",
              "                                                               tags  \n",
              "0                                                [machine-learning]  \n",
              "1                                 [forecasting, population, census]  \n",
              "2                                           [bayesian, frequentist]  \n",
              "3  [hypothesis-testing, t-test, p-value, interpretation, intuition]  \n",
              "4                                           [correlation, teaching]  "
            ],
            "text/html": [
              "\n",
              "  <div id=\"df-8911641f-29ad-4013-83b9-16ccdcef1f62\" class=\"colab-df-container\">\n",
              "    <div>\n",
              "<style scoped>\n",
              "    .dataframe tbody tr th:only-of-type {\n",
              "        vertical-align: middle;\n",
              "    }\n",
              "\n",
              "    .dataframe tbody tr th {\n",
              "        vertical-align: top;\n",
              "    }\n",
              "\n",
              "    .dataframe thead th {\n",
              "        text-align: right;\n",
              "    }\n",
              "</style>\n",
              "<table border=\"1\" class=\"dataframe\">\n",
              "  <thead>\n",
              "    <tr style=\"text-align: right;\">\n",
              "      <th></th>\n",
              "      <th>Id</th>\n",
              "      <th>Body</th>\n",
              "      <th>cleaned_text</th>\n",
              "      <th>tags</th>\n",
              "    </tr>\n",
              "  </thead>\n",
              "  <tbody>\n",
              "    <tr>\n",
              "      <th>0</th>\n",
              "      <td>6</td>\n",
              "      <td>&lt;p&gt;Last year, I read a blog post from &lt;a href=\"http://anyall.org/\"&gt;Brendan O'Connor&lt;/a&gt; entitled &lt;a href=\"http://anyall.org/blog/2008/12/statistics-vs-machine-learning-fight/\"&gt;\"Statistics vs. Mach...</td>\n",
              "      <td>year read blog post brendan o connor entitled statistics vs machine learning fight discussed differences fields andrew gelman responded favorably simon blomberg r s fortunes package paraphrase pro...</td>\n",
              "      <td>[machine-learning]</td>\n",
              "    </tr>\n",
              "    <tr>\n",
              "      <th>1</th>\n",
              "      <td>21</td>\n",
              "      <td>&lt;p&gt;What are some of the ways to forecast demographic census with some validation and calibration techniques?&lt;/p&gt;\\n\\n&lt;p&gt;Some of the concerns:&lt;/p&gt;\\n\\n&lt;ul&gt;\\n&lt;li&gt;Census blocks vary in sizes as rural\\n...</td>\n",
              "      <td>ways forecast demographic census validation calibration techniques concerns census blocks vary sizes rural areas lot larger condensed urban areas need account area size difference let s census dat...</td>\n",
              "      <td>[forecasting, population, census]</td>\n",
              "    </tr>\n",
              "    <tr>\n",
              "      <th>2</th>\n",
              "      <td>22</td>\n",
              "      <td>&lt;p&gt;How would you describe in plain English the characteristics that distinguish Bayesian from Frequentist reasoning?&lt;/p&gt;\\n</td>\n",
              "      <td>describe plain english characteristics distinguish bayesian frequentist reasoning</td>\n",
              "      <td>[bayesian, frequentist]</td>\n",
              "    </tr>\n",
              "    <tr>\n",
              "      <th>3</th>\n",
              "      <td>31</td>\n",
              "      <td>&lt;p&gt;After taking a statistics course and then trying to help fellow students, I noticed one subject that inspires much head-desk banging is interpreting the results of statistical hypothesis tests....</td>\n",
              "      <td>taking statistics course trying help fellow students noticed subject inspires head desk banging interpreting results statistical hypothesis tests students easily learn perform calculations require...</td>\n",
              "      <td>[hypothesis-testing, t-test, p-value, interpretation, intuition]</td>\n",
              "    </tr>\n",
              "    <tr>\n",
              "      <th>4</th>\n",
              "      <td>36</td>\n",
              "      <td>&lt;p&gt;There is an old saying: \"Correlation does not mean causation\". When I teach, I tend to use the following standard examples to illustrate this point:&lt;/p&gt;\\n\\n&lt;ol&gt;\\n&lt;li&gt;number of storks and birth ...</td>\n",
              "      <td>old saying correlation mean causation teach tend use following standard examples illustrate point number storks birth rate denmark number priests america alcoholism start th century noted strong c...</td>\n",
              "      <td>[correlation, teaching]</td>\n",
              "    </tr>\n",
              "  </tbody>\n",
              "</table>\n",
              "</div>\n",
              "    <div class=\"colab-df-buttons\">\n",
              "\n",
              "  <div class=\"colab-df-container\">\n",
              "    <button class=\"colab-df-convert\" onclick=\"convertToInteractive('df-8911641f-29ad-4013-83b9-16ccdcef1f62')\"\n",
              "            title=\"Convert this dataframe to an interactive table.\"\n",
              "            style=\"display:none;\">\n",
              "\n",
              "  <svg xmlns=\"http://www.w3.org/2000/svg\" height=\"24px\" viewBox=\"0 -960 960 960\">\n",
              "    <path d=\"M120-120v-720h720v720H120Zm60-500h600v-160H180v160Zm220 220h160v-160H400v160Zm0 220h160v-160H400v160ZM180-400h160v-160H180v160Zm440 0h160v-160H620v160ZM180-180h160v-160H180v160Zm440 0h160v-160H620v160Z\"/>\n",
              "  </svg>\n",
              "    </button>\n",
              "\n",
              "  <style>\n",
              "    .colab-df-container {\n",
              "      display:flex;\n",
              "      gap: 12px;\n",
              "    }\n",
              "\n",
              "    .colab-df-convert {\n",
              "      background-color: #E8F0FE;\n",
              "      border: none;\n",
              "      border-radius: 50%;\n",
              "      cursor: pointer;\n",
              "      display: none;\n",
              "      fill: #1967D2;\n",
              "      height: 32px;\n",
              "      padding: 0 0 0 0;\n",
              "      width: 32px;\n",
              "    }\n",
              "\n",
              "    .colab-df-convert:hover {\n",
              "      background-color: #E2EBFA;\n",
              "      box-shadow: 0px 1px 2px rgba(60, 64, 67, 0.3), 0px 1px 3px 1px rgba(60, 64, 67, 0.15);\n",
              "      fill: #174EA6;\n",
              "    }\n",
              "\n",
              "    .colab-df-buttons div {\n",
              "      margin-bottom: 4px;\n",
              "    }\n",
              "\n",
              "    [theme=dark] .colab-df-convert {\n",
              "      background-color: #3B4455;\n",
              "      fill: #D2E3FC;\n",
              "    }\n",
              "\n",
              "    [theme=dark] .colab-df-convert:hover {\n",
              "      background-color: #434B5C;\n",
              "      box-shadow: 0px 1px 3px 1px rgba(0, 0, 0, 0.15);\n",
              "      filter: drop-shadow(0px 1px 2px rgba(0, 0, 0, 0.3));\n",
              "      fill: #FFFFFF;\n",
              "    }\n",
              "  </style>\n",
              "\n",
              "    <script>\n",
              "      const buttonEl =\n",
              "        document.querySelector('#df-8911641f-29ad-4013-83b9-16ccdcef1f62 button.colab-df-convert');\n",
              "      buttonEl.style.display =\n",
              "        google.colab.kernel.accessAllowed ? 'block' : 'none';\n",
              "\n",
              "      async function convertToInteractive(key) {\n",
              "        const element = document.querySelector('#df-8911641f-29ad-4013-83b9-16ccdcef1f62');\n",
              "        const dataTable =\n",
              "          await google.colab.kernel.invokeFunction('convertToInteractive',\n",
              "                                                    [key], {});\n",
              "        if (!dataTable) return;\n",
              "\n",
              "        const docLinkHtml = 'Like what you see? Visit the ' +\n",
              "          '<a target=\"_blank\" href=https://colab.research.google.com/notebooks/data_table.ipynb>data table notebook</a>'\n",
              "          + ' to learn more about interactive tables.';\n",
              "        element.innerHTML = '';\n",
              "        dataTable['output_type'] = 'display_data';\n",
              "        await google.colab.output.renderOutput(dataTable, element);\n",
              "        const docLink = document.createElement('div');\n",
              "        docLink.innerHTML = docLinkHtml;\n",
              "        element.appendChild(docLink);\n",
              "      }\n",
              "    </script>\n",
              "  </div>\n",
              "\n",
              "\n",
              "<div id=\"df-fa6e4519-686d-48ae-bc9d-a144cf989be5\">\n",
              "  <button class=\"colab-df-quickchart\" onclick=\"quickchart('df-fa6e4519-686d-48ae-bc9d-a144cf989be5')\"\n",
              "            title=\"Suggest charts\"\n",
              "            style=\"display:none;\">\n",
              "\n",
              "<svg xmlns=\"http://www.w3.org/2000/svg\" height=\"24px\"viewBox=\"0 0 24 24\"\n",
              "     width=\"24px\">\n",
              "    <g>\n",
              "        <path d=\"M19 3H5c-1.1 0-2 .9-2 2v14c0 1.1.9 2 2 2h14c1.1 0 2-.9 2-2V5c0-1.1-.9-2-2-2zM9 17H7v-7h2v7zm4 0h-2V7h2v10zm4 0h-2v-4h2v4z\"/>\n",
              "    </g>\n",
              "</svg>\n",
              "  </button>\n",
              "\n",
              "<style>\n",
              "  .colab-df-quickchart {\n",
              "      --bg-color: #E8F0FE;\n",
              "      --fill-color: #1967D2;\n",
              "      --hover-bg-color: #E2EBFA;\n",
              "      --hover-fill-color: #174EA6;\n",
              "      --disabled-fill-color: #AAA;\n",
              "      --disabled-bg-color: #DDD;\n",
              "  }\n",
              "\n",
              "  [theme=dark] .colab-df-quickchart {\n",
              "      --bg-color: #3B4455;\n",
              "      --fill-color: #D2E3FC;\n",
              "      --hover-bg-color: #434B5C;\n",
              "      --hover-fill-color: #FFFFFF;\n",
              "      --disabled-bg-color: #3B4455;\n",
              "      --disabled-fill-color: #666;\n",
              "  }\n",
              "\n",
              "  .colab-df-quickchart {\n",
              "    background-color: var(--bg-color);\n",
              "    border: none;\n",
              "    border-radius: 50%;\n",
              "    cursor: pointer;\n",
              "    display: none;\n",
              "    fill: var(--fill-color);\n",
              "    height: 32px;\n",
              "    padding: 0;\n",
              "    width: 32px;\n",
              "  }\n",
              "\n",
              "  .colab-df-quickchart:hover {\n",
              "    background-color: var(--hover-bg-color);\n",
              "    box-shadow: 0 1px 2px rgba(60, 64, 67, 0.3), 0 1px 3px 1px rgba(60, 64, 67, 0.15);\n",
              "    fill: var(--button-hover-fill-color);\n",
              "  }\n",
              "\n",
              "  .colab-df-quickchart-complete:disabled,\n",
              "  .colab-df-quickchart-complete:disabled:hover {\n",
              "    background-color: var(--disabled-bg-color);\n",
              "    fill: var(--disabled-fill-color);\n",
              "    box-shadow: none;\n",
              "  }\n",
              "\n",
              "  .colab-df-spinner {\n",
              "    border: 2px solid var(--fill-color);\n",
              "    border-color: transparent;\n",
              "    border-bottom-color: var(--fill-color);\n",
              "    animation:\n",
              "      spin 1s steps(1) infinite;\n",
              "  }\n",
              "\n",
              "  @keyframes spin {\n",
              "    0% {\n",
              "      border-color: transparent;\n",
              "      border-bottom-color: var(--fill-color);\n",
              "      border-left-color: var(--fill-color);\n",
              "    }\n",
              "    20% {\n",
              "      border-color: transparent;\n",
              "      border-left-color: var(--fill-color);\n",
              "      border-top-color: var(--fill-color);\n",
              "    }\n",
              "    30% {\n",
              "      border-color: transparent;\n",
              "      border-left-color: var(--fill-color);\n",
              "      border-top-color: var(--fill-color);\n",
              "      border-right-color: var(--fill-color);\n",
              "    }\n",
              "    40% {\n",
              "      border-color: transparent;\n",
              "      border-right-color: var(--fill-color);\n",
              "      border-top-color: var(--fill-color);\n",
              "    }\n",
              "    60% {\n",
              "      border-color: transparent;\n",
              "      border-right-color: var(--fill-color);\n",
              "    }\n",
              "    80% {\n",
              "      border-color: transparent;\n",
              "      border-right-color: var(--fill-color);\n",
              "      border-bottom-color: var(--fill-color);\n",
              "    }\n",
              "    90% {\n",
              "      border-color: transparent;\n",
              "      border-bottom-color: var(--fill-color);\n",
              "    }\n",
              "  }\n",
              "</style>\n",
              "\n",
              "  <script>\n",
              "    async function quickchart(key) {\n",
              "      const quickchartButtonEl =\n",
              "        document.querySelector('#' + key + ' button');\n",
              "      quickchartButtonEl.disabled = true;  // To prevent multiple clicks.\n",
              "      quickchartButtonEl.classList.add('colab-df-spinner');\n",
              "      try {\n",
              "        const charts = await google.colab.kernel.invokeFunction(\n",
              "            'suggestCharts', [key], {});\n",
              "      } catch (error) {\n",
              "        console.error('Error during call to suggestCharts:', error);\n",
              "      }\n",
              "      quickchartButtonEl.classList.remove('colab-df-spinner');\n",
              "      quickchartButtonEl.classList.add('colab-df-quickchart-complete');\n",
              "    }\n",
              "    (() => {\n",
              "      let quickchartButtonEl =\n",
              "        document.querySelector('#df-fa6e4519-686d-48ae-bc9d-a144cf989be5 button');\n",
              "      quickchartButtonEl.style.display =\n",
              "        google.colab.kernel.accessAllowed ? 'block' : 'none';\n",
              "    })();\n",
              "  </script>\n",
              "</div>\n",
              "\n",
              "    </div>\n",
              "  </div>\n"
            ],
            "application/vnd.google.colaboratory.intrinsic+json": {
              "type": "dataframe",
              "variable_name": "df",
              "summary": "{\n  \"name\": \"df\",\n  \"rows\": 85085,\n  \"fields\": [\n    {\n      \"column\": \"Id\",\n      \"properties\": {\n        \"dtype\": \"number\",\n        \"std\": 70656,\n        \"min\": 1,\n        \"max\": 241481,\n        \"num_unique_values\": 85085,\n        \"samples\": [\n          182860,\n          113691,\n          11232\n        ],\n        \"semantic_type\": \"\",\n        \"description\": \"\"\n      }\n    },\n    {\n      \"column\": \"Body\",\n      \"properties\": {\n        \"dtype\": \"string\",\n        \"num_unique_values\": 85076,\n        \"samples\": [\n          \"<p>I've read a paper where they compute an $F$-test for the hypothesis that the autocorrelations of two groups are equal. Specifically, they estimate the autocorrelations of two time series $x_t$ and $y_t$ via OLS:\\n$$y_t = a_1 + b_1y_{t-1} + e_t$$\\n$$x_t = a_2 + b_2x_{t-1} + e_t$$</p>\\n\\n<p>Now they test the null hypothesis that $b_1 = b_2$ with an $F$-test. My question is, how can I do that, and which particular test statistic do I have to use?</p>\\n\\n<p>Best regards,<br>\\nChristian</p>\\n\",\n          \"<p>I have been attempting to do an ARIMA modelling in SAS. The series is not stationary but when I estimate the ACF and PACF p-values I don't get appropriate answers to find out if my model is adequate or not.Can anyone help me as may be I have been choosing the wrong p and q values. year age-group members.For stationarity I have used Sas which shows me that series is stationary with constant mean and variance.<img src=\\\"http://i.stack.imgur.com/GwpIk.png\\\" alt=\\\" model showing Stationary series for members\\\"></p>\\n\\n<p>year    age-group   members</p>\\n\\n<p>1997    16to21      21.1</p>\\n\\n<p>1997    22to29      47.5</p>\\n\\n<p>1997    30to39      61.7</p>\\n\\n<p>1997    40to49      65.1</p>\\n\\n<p>1997    50to54      64.1</p>\\n\\n<p>1997    55to59      58.7</p>\\n\\n<p>1997    60to64      48.2</p>\\n\\n<p>1997    65ANDOVER   12.2</p>\\n\\n<p>1998    16to21      18.6</p>\\n\\n<p>1998    22to29      46.3</p>\\n\\n<p>1998    30to39      61.1</p>\\n\\n<p>1998    40to49      65.4</p>\\n\\n<p>1998    50to54      64</p>\\n\\n<p>1998    55to59      59</p>\\n\\n<p>1998    60to64      45.4</p>\\n\\n<p>1998    65ANDOVER   12.5</p>\\n\\n<p>1999    16to21      19.6</p>\\n\\n<p>1999    22to29      47.3</p>\\n\\n<p>1999    30to39      61.6</p>\\n\\n<p>1999    40to49      65.8</p>\\n\\n<p>1999    50to54      64.8</p>\\n\\n<p>1999    55to59      58.5</p>\\n\\n<p>1999    60to64      45.2</p>\\n\\n<p>1999    65ANDOVER   10.1</p>\\n\\n<p>2000    16to21      20.9</p>\\n\\n<p>2000    22to29      47.6</p>\\n\\n<p>2000    30to39      61.5</p>\\n\\n<p>2000    40to49      65.8</p>\\n\\n<p>2000    50to54      64.6</p>\\n\\n<p>2000    55to59      58.8</p>\\n\\n<p>2000    60to64      44</p>\\n\\n<p>2000    65ANDOVER   10.7</p>\\n\\n<p>2001    16to21      20.7</p>\\n\\n<p>2001    22to29      47.1</p>\\n\\n<p>2001    30to39      61.7</p>\\n\\n<p>2001    40to49      65.7</p>\\n\\n<p>2001    50to54      64.5</p>\\n\\n<p>2001    55to59      59.2</p>\\n\\n<p>2001    60to64      42.6</p>\\n\\n<p>2001    65ANDOVER   11.7</p>\\n\\n<p>2002    16to21      19.4</p>\\n\\n<p>2002    22to29      49.2</p>\\n\\n<p>2002    30to39      62.8</p>\\n\\n<p>2002    40to49      67.1</p>\\n\\n<p>2002    50to54      65.8</p>\\n\\n<p>2002    55to59      61.2 </p>\\n\\n<p>2002    60to64      45.2</p>\\n\\n<p>2002    65ANDOVER   10.1</p>\\n\\n<p>2003    16to21      17.3</p>\\n\\n<p>2003    22to29      45.2</p>\\n\\n<p>2003    30to39      59.7</p>\\n\\n<p>2003    40to49      65.1</p>\\n\\n<p>2003    50to54      64.9</p>\\n\\n<p>2003    55to59      59.1</p>\\n\\n<p>2003    60to64      44.5</p>\\n\\n<p>2003    65ANDOVER   10.7</p>\\n\\n<p>2004    16to21      14.1</p>\\n\\n<p>2004    22to29      44</p>\\n\\n<p>2004    30to39      60.5</p>\\n\\n<p>2004    40to49      66.2</p>\\n\\n<p>2004    50to54      66.3</p>\\n\\n<p>2004    55to59      61.4</p>\\n\\n<p>2004    60to64      45.9</p>\\n\\n<p>2004    65ANDOVER   12.1</p>\\n\\n<p>2005    16to21      11.4</p>\\n\\n<p>2005    22to29      38.7</p>\\n\\n<p>2005    30to39      56.1</p>\\n\\n<p>2005    40to49      62.3</p>\\n\\n<p>2005    50to54      63.2</p>\\n\\n<p>2005    55to59      58</p>\\n\\n<p>2005    60to64      42.7</p>\\n\\n<p>2005    65ANDOVER   6.8</p>\\n\\n<p>2006    16to21      11.7</p>\\n\\n<p>2006    22to29      38.1</p>\\n\\n<p>2006    30to39      56</p>\\n\\n<p>2006    40to49      62.1</p>\\n\\n<p>2006    50to54      62.8</p>\\n\\n<p>2006    55to59      58.8</p>\\n\\n<p>2006    60to64      44.7</p>\\n\\n<p>2006    65ANDOVER   10</p>\\n\\n<p>2007    16to21      11.4</p>\\n\\n<p>2007    22to29      36.9</p>\\n\\n<p>2007    30to39      54.8</p>\\n\\n<p>2007    40to49      60.7</p>\\n\\n<p>2007    50to54      62.3</p>\\n\\n<p>2007    55to59      58.7</p>\\n\\n<p>2007    60to64      45.1</p>\\n\\n<p>2007    65ANDOVER   10.9\\n2008    16to21      9.2</p>\\n\\n<p>2008    22to29      34.8</p>\\n\\n<p>2008    30to39      53.6</p>\\n\\n<p>2008    40to49      60</p>\\n\\n<p>2008    50to54      62.9</p>\\n\\n<p>2008    55to59      59</p>\\n\\n<p>2008    60to64      45.4</p>\\n\\n<p>2008    65ANDOVER   12.3</p>\\n\\n<p>2009    16to21      9.6</p>\\n\\n<p>2009    22to29      35.4</p>\\n\\n<p>2009    30to39      53.2</p>\\n\\n<p>2009    40to49      60.3</p>\\n\\n<p>2009    50to54      62.4</p>\\n\\n<p>2009    55to59      59.7</p>\\n\\n<p>2009    60to64      46.3</p>\\n\\n<p>2009    65ANDOVER   12.5</p>\\n\\n<p>2010    16to21      9.1</p>\\n\\n<p>2010    22to29      34.1</p>\\n\\n<p>2010    30to39      52.6</p>\\n\\n<p>2010    40to49      59.6</p>\\n\\n<p>2010    50to54      62</p>\\n\\n<p>2010    55to59      59.2</p>\\n\\n<p>2010    60to64      46.3</p>\\n\\n<p>2010    65ANDOVER   13.9</p>\\n\\n<p>2011    16to21      7.7</p>\\n\\n<p>2011    22to29      31.8</p>\\n\\n<p>2011    30to39      50.7</p>\\n\\n<p>2011    40to49      57.9</p>\\n\\n<p>2011    50to54      60.1</p>\\n\\n<p>2011    55to59      57.3</p>\\n\\n<p>2011    60to64      45</p>\\n\\n<p>2011    65ANDOVER   14.6</p>\\n\\n<p>2012    16to21      6.5</p>\\n\\n<p>2012    22to29      30.2</p>\\n\\n<p>2012    30to39      49.1</p>\\n\\n<p>2012    40to49      56.1</p>\\n\\n<p>2012    50to54      58.2</p>\\n\\n<p>2012    55to59      55.5</p>\\n\\n<p>2012    60to64      43.9</p>\\n\\n<p>2012    65ANDOVER   14.8</p>\\n\",\n          \"<p>I'm trying to make my results more intuitive, and so I want to compare the predicted values at the interquartile range. I'm trying to figure out how to get the predicted value for a given variable, keeping everything else at the median.</p>\\n\\n<p>I've tried something like this:</p>\\n\\n<pre><code>x_1 &lt;- rnorm(20)\\nx_2 &lt;- rnorm(20)\\ny &lt;- x_1 + x_2 + rnorm(20)\\nz &lt;- data.frame(y,x_1,x_2)\\nfit &lt;- lm(y~x_1 + x_2,data = z)\\npredict(fit,newdata = data.frame(x_1=c(quantile(x_1)[2],quantile(x_1)[4]), x_2=median(x_2)))\\n</code></pre>\\n\\n<p>which works, but my actual model has 10+ variables, and this starts to get ugly really quickly, so I figure there must be a better way?</p>\\n\"\n        ],\n        \"semantic_type\": \"\",\n        \"description\": \"\"\n      }\n    },\n    {\n      \"column\": \"cleaned_text\",\n      \"properties\": {\n        \"dtype\": \"string\",\n        \"num_unique_values\": 85061,\n        \"samples\": [\n          \"working simulation models economic variables e e e simulation model built consideration e variable correlated e simulation model built consideration e variable uncorrelated want reduce e model variance e variable longer contributing e simulation model s variance good way estimate variance reduce sample data rd simulation model separate e simulation model built consideration e variable sample data set given sample data set drawn random values model m hoping use sample random draws models estimate e model variance contributed e variable advise\",\n          \"purpose question gather material lack memory add new ideas conditional distribution given distribution equal unconditional distribution distribution possesses lack memory property exponential distribution contains lack memory questions distribution lack memory special properties associated exponential distributions exist lack memory provide interesting examples applied helpful learners understand lack memory example\",\n          \"poor replication longitudinal parameters program box jenkins model problem program generating ar gaussian data trick haven t discovered like use validation framework martinez rivera ventosa santaularia check new time series regression method better usual ar depends arma random generation applied arma data\"\n        ],\n        \"semantic_type\": \"\",\n        \"description\": \"\"\n      }\n    },\n    {\n      \"column\": \"tags\",\n      \"properties\": {\n        \"dtype\": \"object\",\n        \"semantic_type\": \"\",\n        \"description\": \"\"\n      }\n    }\n  ]\n}"
            }
          },
          "metadata": {},
          "execution_count": 15
        }
      ]
    },
    {
      "cell_type": "markdown",
      "source": [
        "We now have > 85,000 unique questions and over 1300 tags."
      ],
      "metadata": {
        "id": "SM58XWMSW4DY"
      }
    },
    {
      "cell_type": "markdown",
      "source": [
        "## Dataset Preparation"
      ],
      "metadata": {
        "id": "v4nejbUbW8v5"
      }
    },
    {
      "cell_type": "code",
      "source": [
        "# first we need to get the frequency occurrence of each tag\n",
        "freq = {}\n",
        "for i in df['tags']:\n",
        "  for j in i:\n",
        "    if j in freq.keys():\n",
        "      freq[j] = freq[j] + 1\n",
        "    else:\n",
        "      freq[j] = 1"
      ],
      "metadata": {
        "id": "xdI5C--gW7_e"
      },
      "execution_count": 17,
      "outputs": []
    },
    {
      "cell_type": "markdown",
      "source": [
        "Now we can find the most frequent tags."
      ],
      "metadata": {
        "id": "SUkxuMsTXlSv"
      }
    },
    {
      "cell_type": "code",
      "source": [
        "# sort dictionary descending order\n",
        "freq = dict(sorted(freq.items(), key=lambda x: x[1], reverse=True))"
      ],
      "metadata": {
        "id": "VprPbm9oXnS1"
      },
      "execution_count": 18,
      "outputs": []
    },
    {
      "cell_type": "code",
      "source": [
        "#get sorted frequency\n",
        "freq.items()"
      ],
      "metadata": {
        "colab": {
          "base_uri": "https://localhost:8080/"
        },
        "id": "bzrOZlUaXzfi",
        "outputId": "944ccd99-79a2-4a60-a30f-a9ad2e289044"
      },
      "execution_count": 19,
      "outputs": [
        {
          "output_type": "execute_result",
          "data": {
            "text/plain": [
              "dict_items([('r', 13236), ('regression', 10959), ('machine-learning', 6089), ('time-series', 5559), ('probability', 4217), ('hypothesis-testing', 3869), ('self-study', 3732), ('distributions', 3501), ('logistic', 3316), ('classification', 2881), ('correlation', 2871), ('statistical-significance', 2666), ('bayesian', 2656), ('anova', 2505), ('normal-distribution', 2181), ('multiple-regression', 2054), ('mixed-model', 1998), ('clustering', 1952), ('neural-networks', 1897), ('mathematical-statistics', 1888), ('confidence-interval', 1776), ('categorical-data', 1703), ('generalized-linear-model', 1614), ('variance', 1576), ('data-visualization', 1549), ('estimation', 1533), ('forecasting', 1422), ('t-test', 1418), ('pca', 1395), ('sampling', 1363), ('cross-validation', 1344), ('repeated-measures', 1335), ('spss', 1296), ('svm', 1283), ('chi-squared', 1261), ('maximum-likelihood', 1209), ('predictive-models', 1189), ('multivariate-analysis', 1116), ('survival', 1081), ('references', 1076), ('data-transformation', 1057), ('modeling', 1055), ('p-value', 1040), ('feature-selection', 997), ('econometrics', 989), ('panel-data', 966), ('python', 955), ('data-mining', 950), ('interaction', 946), ('matlab', 941), ('linear-model', 937), ('binomial', 935), ('random-forest', 935), ('nonparametric', 922), ('arima', 917), ('least-squares', 898), ('optimization', 898), ('model-selection', 876), ('standard-deviation', 866), ('poisson', 865), ('interpretation', 860), ('sample-size', 847), ('mean', 842), ('stata', 842), ('dataset', 840), ('conditional-probability', 837), ('prediction', 832), ('multiple-comparisons', 825), ('bootstrap', 814), ('experiment-design', 780), ('random-variable', 745), ('autocorrelation', 678), ('simulation', 676), ('covariance', 666), ('multilevel-analysis', 663), ('pdf', 654), ('missing-data', 652), ('expected-value', 645), ('regression-coefficients', 643), ('factor-analysis', 642), ('mcmc', 635), ('outliers', 629), ('standard-error', 629), ('inference', 625), ('ordinal', 624), ('survey', 617), ('deep-learning', 600), ('cart', 593), ('residuals', 582), ('binary-data', 570), ('random-effects-model', 569), ('goodness-of-fit', 567), ('model', 567), ('terminology', 551), ('stochastic-processes', 530), ('nonlinear-regression', 514), ('cox-model', 510), ('monte-carlo', 504), ('proportion', 503), ('algorithms', 500), ('sas', 496), ('lasso', 490), ('normalization', 484), ('heteroscedasticity', 483), ('error', 481), ('independence', 480), ('meta-analysis', 480), ('multinomial', 480), ('k-means', 465), ('lmer', 463), ('sample', 450), ('markov-process', 445), ('scikit-learn', 440), ('multicollinearity', 438), ('text-mining', 432), ('aic', 431), ('descriptive-statistics', 430), ('spatial', 429), ('assumptions', 418), ('matrix', 413), ('likelihood', 407), ('dimensionality-reduction', 407), ('sem', 405), ('bias', 396), ('fixed-effects-model', 391), ('effect-size', 375), ('logit', 374), ('r-squared', 372), ('normality', 371), ('lme4', 371), ('convergence', 370), ('likert', 366), ('power-analysis', 365), ('glmm', 359), ('negative-binomial', 358), ('roc', 358), ('fitting', 357), ('computational-statistics', 348), ('count-data', 347), ('random-generation', 345), ('prior', 340), ('summary-statistics', 338), ('ranking', 338), ('stationarity', 337), ('natural-language', 335), ('covariance-matrix', 332), ('skewness', 325), ('kernel-trick', 321), ('gamma-distribution', 319), ('naive-bayes', 318), ('continuous-data', 317), ('regularization', 317), ('hidden-markov-model', 314), ('reliability', 314), ('power', 312), ('gaussian-process', 310), ('group-differences', 309), ('autoregressive', 307), ('biostatistics', 306), ('distance', 304), ('garch', 302), ('ancova', 300), ('causality', 300), ('standardization', 300), ('validation', 296), ('small-sample', 295), ('exponential', 295), ('quantiles', 293), ('posterior', 291), ('var', 289), ('curve-fitting', 288), ('post-hoc', 284), ('kernel-smoothing', 284), ('robust', 282), ('average', 277), ('gradient-descent', 277), ('odds-ratio', 275), ('lognormal', 275), ('median', 273), ('bayes', 273), ('seasonality', 270), ('expectation-maximization', 270), ('uniform', 268), ('cointegration', 268), ('large-data', 266), ('kolmogorov-smirnov', 266), ('wilcoxon', 266), ('discrete-data', 266), ('conv-neural-network', 264), ('gaussian-mixture', 261), ('histogram', 260), ('non-independent', 259), ('entropy', 259), ('pearson', 258), ('excel', 257), ('trend', 256), ('linear', 256), ('arma', 255), ('contingency-tables', 253), ('joint-distribution', 253), ('pattern-recognition', 253), ('manova', 252), ('cdf', 250), ('scales', 248), ('unbalanced-classes', 247), ('conditional-expectation', 245), ('unbiased-estimator', 245), ('mixture', 244), ('measurement-error', 243), ('mann-whitney-u-test', 242), ('boosting', 240), ('likelihood-ratio', 238), ('data-imputation', 238), ('hierarchical-bayesian', 237), ('k-nearest-neighbour', 236), ('central-limit-theorem', 236), ('asymptotics', 236), ('discriminant-analysis', 234), ('caret', 233), ('poisson-regression', 233), ('unsupervised-learning', 232), ('paired-comparisons', 232), ('accuracy', 231), ('permutation', 231), ('graphical-model', 231), ('psychometrics', 228), ('ridge-regression', 228), ('instrumental-variables', 227), ('image-processing', 227), ('probit', 226), ('basic-concepts', 226), ('similarities', 225), ('multiple-imputation', 223), ('distance-functions', 222), ('population', 219), ('overfitting', 217), ('predictor', 215), ('gibbs', 215), ('information-theory', 212), ('recommender-system', 206), ('feature-construction', 206), ('estimators', 205), ('degrees-of-freedom', 205), ('glmnet', 202), ('jags', 201), ('finance', 200), ('gam', 199), ('epidemiology', 198), ('beta-distribution', 198), ('proof', 198), ('moments', 198), ('notation', 196), ('linear-algebra', 193), ('model-comparison', 193), ('bayesian-network', 192), ('nonlinear', 191), ('smoothing', 191), ('supervised-learning', 191), ('approximation', 187), ('prediction-interval', 185), ('cross-correlation', 185), ('lme', 183), ('nested', 183), ('svd', 182), ('kalman-filter', 180), ('fishers-exact', 180), ('bernoulli-distribution', 179), ('precision-recall', 178), ('libsvm', 177), ('gee', 177), ('measurement', 177), ('latent-variable', 177), ('loss-functions', 176), ('contrasts', 176), ('zero-inflation', 174), ('frequency', 174), ('splines', 173), ('logarithm', 172), ('t-distribution', 172), ('auc', 172), ('censoring', 172), ('unit-root', 172), ('resampling', 171), ('kruskal-wallis', 170), ('intuition', 168), ('uncertainty', 165), ('order-statistics', 165), ('hazard', 162), ('regression-strategies', 162), ('mediation', 162), ('f-test', 162), ('weka', 162), ('graph-theory', 160), ('ensemble', 159), ('confirmatory-factor', 157), ('definition', 156), ('glmer', 156), ('parametric', 155), ('copula', 155), ('combinatorics', 155), ('polynomial', 154), ('lm', 153), ('performance', 153), ('marginal', 153), ('software', 151), ('signal-processing', 151), ('mutual-information', 150), ('weighted-regression', 150), ('propensity-scores', 148), ('bonferroni', 148), ('multi-class', 148), ('matching', 147), ('reinforcement-learning', 145), ('diagnostic', 145), ('frequentist', 144), ('non-stationary', 144), ('methodology', 142), ('genetics', 141), ('pymc', 141), ('dirichlet-distribution', 140), ('bic', 139), ('stepwise-regression', 139), ('metropolis-hastings', 138), ('gbm', 138), ('analysis', 138), ('theory', 137), ('kullback-leibler', 137), ('eigenvalues', 136), ('intraclass-correlation', 135), ('inter-rater', 134), ('paired-data', 134), ('difference-in-difference', 133), ('metric', 132), ('hierarchical', 132), ('error-propagation', 131), ('scatterplot', 131), ('multivariate-regression', 131), ('interpolation', 130), ('quantile-regression', 130), ('multidimensional-scaling', 130), ('aggregation', 128), ('mse', 128), ('reporting', 128), ('hierarchical-clustering', 128), ('weibull', 128), ('qq-plot', 127), ('multivariate-normal', 127), ('parameterization', 126), ('train', 126), ('change-point', 125), ('irt', 124), ('matrix-decomposition', 123), ('sparse', 123), ('topic-models', 123), ('bioinformatics', 123), ('bivariate', 122), ('decision-theory', 121), ('exponential-smoothing', 121), ('lags', 120), ('backpropagation', 120), ('kurtosis', 120), ('poisson-process', 119), ('state-space-models', 119), ('percentage', 119), ('randomization', 119), ('endogeneity', 118), ('ratio', 117), ('weighted-mean', 116), ('z-test', 116), ('eda', 116), ('spearman', 116), ('exponential-family', 115), ('confidence', 115), ('nlme', 114), ('statistical-learning', 114), ('probability-inequalities', 114), ('false-discovery-rate', 113), ('networks', 112), ('convolution', 112), ('markov-chain', 111), ('extreme-value', 111), ('clinical-trials', 110), ('autoencoders', 110), ('generalized-least-squares', 110), ('pls', 109), ('ecology', 109), ('boxplot', 109), ('hyperparameter', 109), ('sums-of-squares', 109), ('stratification', 109), ('learning', 108), ('teaching', 107), ('ab-test', 107), ('conjugate-prior', 106), ('sufficient-statistics', 106), ('confounding', 106), ('consistency', 106), ('treatment-effect', 105), ('ggplot2', 105), ('covariate', 104), ('bugs', 102), ('computer-vision', 102), ('online', 100), ('coefficient', 99), ('randomness', 99), ('games', 98), ('granger-causality', 98), ('weighted-sampling', 98), ('kaplan-meier', 97), ('high-dimensional', 97), ('elastic-net', 97), ('threshold', 96), ('sample-mean', 94), ('lstm', 94), ('augmented-dickey-fuller', 94), ('fisher-information', 94), ('rms', 93), ('pooling', 92), ('time-varying-covariate', 92), ('rpart', 92), ('spearman-rho', 92), ('vecm', 92), ('hypergeometric', 92), ('moving-average', 92), ('bounds', 92), ('maximum', 91), ('scores', 91), ('fourier-transform', 90), ('integral', 90), ('overdispersion', 90), ('scipy', 90), ('type-i-errors', 90), ('power-law', 89), ('residual-analysis', 89), ('mathematics', 88), ('deviance', 88), ('binning', 88), ('interval', 87), ('psychology', 87), ('tukey-hsd', 87), ('calibration', 87), ('rank-correlation', 87), ('nominal', 86), ('intercept', 86), ('model-evaluation', 86), ('information-retrieval', 85), ('cross-section', 85), ('partial-correlation', 84), ('dice', 84), ('lme4-nlme', 84), ('z-score', 84), ('genetic-algorithms', 82), ('truncation', 81), ('partitioning', 81), ('weighted-data', 81), ('quality-control', 81), ('kappa', 81), ('importance', 80), ('log-linear', 79), ('empirical', 79), ('function', 79), ('parameter-optimization', 78), ('data-preprocessing', 78), ('generalized-moments', 77), ('association-rules', 77), ('rnn', 77), ('social-network', 77), ('sensitivity', 76), ('point-estimation', 76), ('bagging', 76), ('matrix-inverse', 76), ('java', 75), ('cohens-d', 75), ('spectral-analysis', 75), ('risk', 75), ('odds', 75), ('out-of-sample', 74), ('history', 74), ('association-measure', 74), ('quadratic-form', 74), ('random-walk', 74), ('sequence-analysis', 74), ('rbm', 74), ('filter', 74), ('centering', 73), ('control', 73), ('clustered-standard-errors', 73), ('link-function', 73), ('maximum-entropy', 73), ('deep-belief-networks', 72), ('artificial-intelligence', 72), ('dirichlet-process', 72), ('rare-events', 72), ('validity', 71), ('mode', 71), ('confusion-matrix', 71), ('meta-regression', 71), ('pareto-distribution', 70), ('winbugs', 70), ('observational-study', 70), ('point-process', 70), ('method-comparison', 69), ('cluster-sample', 68), ('circular-statistics', 68), ('case-control-study', 68), ('segmentation', 68), ('shrinkage', 68), ('sequential-analysis', 67), ('mcnemar-test', 67), ('scoring', 67), ('kendall-tau', 67), ('intervention-analysis', 67), ('2sls', 66), ('fisher', 65), ('tobit-regression', 65), ('loess', 65), ('volatility-forecasting', 64), ('mgcv', 64), ('ranks', 64), ('beta-binomial', 63), ('dynamic-regression', 63), ('inferential-statistics', 63), ('stan', 63), ('mice', 62), ('delta-method', 62), ('rating', 62), ('iid', 61), ('moderation', 61), ('correspondence-analysis', 61), ('anomaly-detection', 61), ('method-of-moments', 61), ('equivalence', 61), ('relative-risk', 61), ('hausman', 60), ('euclidean', 60), ('marketing', 60), ('noise', 60), ('minimum', 60), ('efficiency', 60), ('ordered-logit', 60), ('numerical-integration', 60), ('beta-regression', 59), ('identifiability', 59), ('structural-change', 59), ('geostatistics', 58), ('vif', 58), ('signal-detection', 58), ('derivative', 58), ('traminer', 57), ('variational-bayes', 57), ('tensorflow', 57), ('growth-model', 57), ('coefficient-of-variation', 57), ('subset', 56), ('canonical-correlation', 56), ('offset', 56), ('latent-class', 56), ('spatio-temporal', 55), ('multilabel', 55), ('adjustment', 55), ('cronbachs-alpha', 55), ('white-noise', 54), ('queueing', 54), ('credible-interval', 54), ('composite', 53), ('philosophical', 53), ('statsmodels', 52), ('perceptron', 52), ('variogram', 52), ('statistical', 51), ('importance-sampling', 51), ('variability', 51), ('mgf', 51), ('nls', 50), ('penalized', 50), ('numerics', 50), ('self-organizing-maps', 50), ('weights', 50), ('word2vec', 50), ('lsa', 49), ('finite-population', 49), ('particle-filter', 49), ('amos', 49), ('nonparametric-bayes', 49), ('sensitivity-analysis', 48), ('specificity', 48), ('education', 48), ('wishart', 48), ('levenes-test', 48), ('gradient', 48), ('geometric-distribution', 47), ('eviews', 47), ('lsmeans', 47), ('fuzzy', 47), ('density-estimation', 46), ('minitab', 46), ('type-ii-errors', 46), ('robust-standard-error', 46), ('agreement-statistics', 46), ('path-model', 46), ('multivariable', 45), ('combining-p-values', 45), ('model-based-clustering', 45), ('programming', 45), ('arithmetic', 45), ('word-embeddings', 44), ('geometry', 44), ('replication', 44), ('split-plot', 44), ('gini', 44), ('microarray', 44), ('blocking', 44), ('rejection-sampling', 43), ('macroeconomics', 43), ('constrained-regression', 43), ('log-likelihood', 43), ('multiarmed-bandit', 42), ('code', 42), ('change-scores', 42), ('imbalanced', 42), ('brownian', 42), ('clogit', 42), ('conjoint-analysis', 42), ('univariate', 42), ('mixed-design', 42), ('arch', 41), ('lavaan', 41), ('application', 41), ('jmp', 41), ('conditioning', 41), ('communication', 40), ('z-statistic', 40), ('barplot', 40), ('semi-supervised', 40), ('measure-theory', 40), ('summations', 40), ('data-cleaning', 40), ('tables', 39), ('impulse-response', 39), ('demography', 39), ('generative-models', 39), ('f-distribution', 39), ('functional-data-analysis', 38), ('dlm', 38), ('sentiment-analysis', 38), ('curves', 38), ('reproducible-research', 38), ('c++', 38), ('back-transformation', 38), ('logrank', 37), ('fat-tails', 37), ('survey-weights', 37), ('umvue', 37), ('mlogit', 37), ('package', 37), ('friedman-test', 37), ('plm', 37), ('wavelet', 37), ('fractional-factorial', 37), ('uninformative-prior', 35), ('cauchy', 35), ('law-of-large-numbers', 35), ('kriging', 35), ('marginal-effect', 35), ('signed-rank-test', 34), ('lars', 34), ('bias-correction', 34), ('mathematica', 34), ('formula', 34), ('ica', 34), ('valuation', 33), ('discontinuity', 33), ('projection', 33), ('multiple-seasonalities', 33), ('hauck-donner-effect', 33), ('cosine-similarity', 33), ('rotation', 33), ('census', 32), ('heterogeneity', 32), ('dendrogram', 32), ('biplot', 32), ('cholesky', 32), ('radial-basis', 32), ('interval-censoring', 32), ('error-message', 31), ('careers', 31), ('crossover-study', 31), ('numpy', 31), ('softmax', 31), ('rule-of-thumb', 31), ('real-time', 31), ('f-statistic', 31), ('mplus', 31), ('two-way', 31), ('factor-rotation', 31), ('anderson-darling', 31), ('ecdf', 31), ('web', 31), ('parallel-computing', 30), ('piecewise-linear', 30), ('igraph', 30), ('oversampling', 30), ('range', 30), ('adaboost', 30), ('dataframe', 30), ('test-for-trend', 30), ('random-matrix', 30), ('dispersion', 30), ('inverse-gamma', 29), ('laplace-distribution', 29), ('jaccard-similarity', 29), ('e1071', 29), ('effects', 29), ('computing', 29), ('business-intelligence', 29), ('incidence-rate-ratio', 29), ('bayes-factors', 29), ('heavy-tailed', 29), ('errors-in-variables', 29), ('heckman', 28), ('neyman-pearson-lemma', 28), ('transition-matrix', 28), ('quasi-likelihood', 28), ('discriminant', 28), ('model-averaging', 28), ('frailty', 28), ('sphericity', 28), ('chemometrics', 28), ('statistical-control', 28), ('constraint', 28), ('scale-invariance', 28), ('stacking', 27), ('optimal-scaling', 27), ('vc-dimension', 27), ('social-science', 27), ('k-medoids', 27), ('moving-window', 27), ('indicator-variables', 27), ('tolerance-interval', 26), ('poisson-binomial', 26), ('conditional-random-field', 26), ('non-response', 26), ('correlated-predictors', 26), ('nnet', 26), ('apriori', 26), ('spark-mllib', 26), ('tbats', 26), ('chow-test', 26), ('segmented-regression', 26), ('coding', 25), ('total-least-squares', 25), ('profile-likelihood', 25), ('theano', 25), ('interaction-variable', 25), ('control-chart', 25), ('truncated-normal', 25), ('mad', 25), ('cosine-distance', 25), ('information', 24), ('big-data', 24), ('partial', 24), ('concordance', 24), ('jackknife', 24), ('dropout', 24), ('rapidminer', 24), ('units', 24), ('churn', 24), ('qualitative', 24), ('survey-sampling', 24), ('precision', 24), ('trimmed-mean', 24), ('time-complexity', 23), ('correlation-matrix', 23), ('probabilistic-programming', 23), ('ecm', 23), ('repeatability', 23), ('leverage', 23), ('subsampling', 23), ('funnel-plot', 23), ('convex', 23), ('dunn-test', 23), ('jeffreys-prior', 23), ('kde', 23), ('sql', 23), ('gumbel', 23), ('characteristic-function', 23), ('age', 23), ('representative', 23), ('bimodal', 22), ('skew-normal', 22), ('compositional-data', 22), ('presentation', 22), ('neuroscience', 22), ('pandas', 22), ('interactive-visualization', 22), ('neweywest', 22), ('integration', 22), ('causalimpact', 21), ('finite-mixture-model', 21), ('non-central', 21), ('synthetic-data', 21), ('paradox', 21), ('ergodic', 21), ('zero-inflated', 21), ('capture-mark-recapture', 21), ('events', 21), ('sequential-pattern-mining', 21), ('two-step-estimation', 21), ('choice', 21), ('geometric-mean', 21), ('neuroimaging', 21), ('martingale', 20), ('symmetry', 20), ('c#', 20), ('deming-regression', 20), ('optimal-stopping', 20), ('publication-bias', 20), ('familywise-error', 20), ('simpsons-paradox', 20), ('interarrival-time', 20), ('multivariate-distribution', 20), ('taylor-series', 20), ('hotelling', 20), ('failure', 20), ('average-precision', 20), ('cost-maximization', 20), ('determinant', 20), ('project-management', 20), ('mancova', 20), ('polling', 19), ('nonparametric-regression', 19), ('language-models', 19), ('matplotlib', 19), ('compression', 19), ('coverage-probability', 19), ('abc', 19), ('competing-risks', 19), ('singular', 19), ('bernoulli-process', 19), ('fraud', 19), ('box-jenkins', 19), ('nnmf', 19), ('decomposition', 19), ('xgboost', 19), ('standard', 19), ('cross-entropy', 19), ('elasticity', 19), ('database', 18), ('operations-research', 18), ('variance-decomposition', 18), ('phylogeny', 18), ('scoring-rules', 18), ('hessian', 18), ('differences', 18), ('tsne', 18), ('zipf', 18), ('pivot', 17), ('non-nested', 17), ('data-association', 17), ('cfa', 17), ('directional-statistics', 17), ('overlapping-data', 17), ('steins-phenomenon', 17), ('recurrent-events', 17), ('sign-test', 17), ('heatmap', 17), ('planned-comparisons-test', 17), ('fisher-transform', 17), ('academia', 17), ('dbscan', 17), ('tost', 17), ('proportional-hazards', 16), ('underdispersion', 16), ('open-bugs', 16), ('manifold-learning', 16), ('fuzzy-set', 16), ('one-class', 16), ('linearity', 16), ('coupon-collector-problem', 16), ('sandwich', 16), ('mape', 16), ('cramers-v', 16), ('reml', 16), ('index-decomposition', 15), ('gis', 15), ('inequality', 15), ('rbf-network', 15), ('heuristic', 15), ('gamm4', 15), ('lrt', 15), ('matrix-calculus', 15), ('dependence', 15), ('climate', 15), ('extrapolation', 15), ('rasch', 15), ('dag', 15), ('fractal', 15), ('exact-test', 15), ('mortality', 15), ('differential-equations', 15), ('transform', 14), ('data-generating-process', 14), ('bland-altman-plot', 14), ('stochastic-approximation', 14), ('elections', 14), ('collaborative', 14), ('homogeneity', 14), ('suppressor', 14), ('sgd', 14), ('recursive-model', 14), ('interquartile', 14), ('geography', 14), ('gwas', 14), ('rayleigh', 14), ('relative-distribution', 14), ('viterbi-algorithm', 14), ('pie-chart', 14), ('birthday-paradox', 13), ('semiparametric', 13), ('nonlinearity', 13), ('breusch-pagan', 13), ('discussion', 13), ('jacobian', 13), ('benchmark', 13), ('latent-semantic-indexing', 13), ('underdetermined', 13), ('explanatory', 13), ('skellam', 13), ('pcoa', 13), ('game-theory', 13), ('quasi-binomial', 13), ('distance-covariance', 13), ('cochran-mantel-haenszel', 13), ('open-source', 12), ('q-learning', 12), ('nonparametric-density', 12), ('statistical-bias', 12), ('markov-random-field', 12), ('library', 12), ('invariance', 12), ('journals', 12), ('gamlss', 12), ('order', 12), ('inverse-gaussian-distrib', 12), ('cochran-q', 12), ('two-sample', 12), ('case-cohort', 12), ('error-in-variables', 12), ('novelty-detection', 12), ('mean-shift', 12), ('growth-mixture-model', 12), ('checking', 12), ('quasi-monte-carlo', 11), ('search-theory', 11), ('information-geometry', 11), ('latex', 11), ('partial-plot', 11), ('regression-to-the-mean', 11), ('mars', 11), ('automatic-algorithms', 11), ('l-moments', 11), ('nltk', 11), ('vector-fields', 11), ('labeling', 11), ('linear-dynamical-system', 11), ('dependent', 11), ('systematic', 11), ('mase', 11), ('spurious-correlation', 11), ('network-meta-analysis', 11), ('environmental-data', 11), ('latin-hypercube', 11), ('point-mass-at-zero', 11), ('medicine', 11), ('mae', 10), ('disease', 10), ('optimal', 10), ('discrete-time', 10), ('twin', 10), ('politics', 10), ('blue', 10), ('yates-correction', 10), ('bradley-terry-model', 10), ('contrast', 10), ('baum-welch', 10), ('expectation', 10), ('condition-number', 10), ('modularity', 10), ('irls', 10), ('minimax', 10), ('counterbalancing', 10), ('dyadic-data', 10), ('topologies', 10), ('javascript', 10), ('armax', 10), ('local-statistics', 10), ('tweedie-distribution', 10), ('bayesian-optimization', 10), ('sur', 10), ('pre-training', 10), ('gambling', 10), ('minimum-variance', 10), ('torch', 10), ('gretl', 10), ('rao-blackwell', 10), ('science', 9), ('life-expectancy', 9), ('csv-file', 9), ('vowpal-wabbit', 9), ('belief-propagation', 9), ('puzzle', 9), ('rocr', 9), ('scale-construction', 9), ('approximate-inference', 9), ('car', 9), ('poker', 9), ('sweave', 9), ('ordered-probit', 9), ('starting-values', 9), ('variance-stabilizing', 9), ('scale-estimator', 9), ('scalability', 9), ('glmmlasso', 9), ('party', 9), ('elo', 9), ('down-sample', 9), ('active-learning', 9), ('ward', 9), ('multitask-learning', 9), ('population-average', 9), ('linear-programming', 9), ('schoenfeld-residuals', 9), ('products', 9), ('crostons-method', 9), ('separability', 9), ('pareto', 9), ('permutation-test', 8), ('elicitation', 8), ('randomized', 8), ('moment', 8), ('julia', 8), ('absolute-risk', 8), ('item-analysis', 8), ('score-function', 8), ('tf-idf', 8), ('parallel-analysis', 8), ('knowledge-discovery', 8), ('spatial-interaction-model', 8), ('shape', 8), ('ruby', 8), ('explanatory-models', 8), ('multinomial-logit', 8), ('fallacy', 8), ('partykit', 8), ('probability-calculus', 8), ('sigma-algebra', 8), ('in-sample', 8), ('marginal-model', 8), ('statistics-in-media', 8), ('nlmer', 8), ('latin-square', 8), ('internet', 8), ('logic', 8), ('mfcc', 8), ('prediction-limit', 8), ('numerical-models', 8), ('diffusion', 8), ('inverse-cdf', 8), ('pmml', 8), ('pivot-table', 7), ('treatment', 7), ('enrichment', 7), ('batch-normalization', 7), ('saddlepoint-approximation', 7), ('non-inferiority', 7), ('probability-generating-fn', 7), ('contextual-bandit', 7), ('max-margin', 7), ('hac', 7), ('visual-summary', 7), ('reduced-rank-regression', 7), ('lifetable', 7), ('chemistry', 7), ('runs', 7), ('identification', 7), ('lilliefors', 7), ('polr', 7), ('replicate', 7), ('courses', 7), ('gllamm', 7), ('combinatorial', 7), ('etymology', 7), ('hosmer-lemeshow-test', 7), ('musical-data-analysis', 6), ('mixed-distribution', 6), ('lorenz-curve', 6), ('likelihood-ratio-test', 6), ('astronomy', 6), ('isotonic', 6), ('phd', 6), ('ellipse', 6), ('restrictions', 6), ('missing-value', 6), ('untagged', 6), ('stochastic-ordering', 6), ('simultaneous-equation', 6), ('fiducial', 6), ('population-ecology', 6), ('blup', 6), ('gpower', 6), ('bayes-optimal-classifier', 6), ('structured-svm', 6), ('value-of-information', 6), ('community-wiki', 6), ('adagrad', 6), ('php', 6), ('coda', 6), ('gnuplot', 6), ('admissibility', 6), ('pruning', 6), ('bayesian-score', 5), ('derived-distributions', 5), ('regression-testing', 5), ('engineering-statistics', 5), ('voting-system', 5), ('hotelling-t2', 5), ('normalizing-constant', 5), ('exchangeability', 5), ('spss-modeler', 5), ('domain-adaptation', 5), ('rlm', 5), ('information-extraction', 5), ('circular', 5), ('diagnosis', 5), ('deterministic', 5), ('gamboost', 5), ('normal-approximation', 5), ('bessels-correction', 5), ('reproducibility', 5), ('google-spreadsheet', 5), ('extremal-dependence', 5), ('m-estimation', 5), ('casella-berger', 5), ('absolute-deviation', 5), ('cv.glm', 5), ('cumulants', 5), ('fisher-scoring', 5), ('monitoring', 4), ('logarithmic-series', 4), ('combining-estimates', 4), ('transportation', 4), ('design-based-inference', 4), ('forecastability', 4), ('conferences', 4), ('polychoric', 4), ('smallareaestimation', 4), ('forward-backward', 4), ('disaggregation', 4), ('d-prime', 4), ('splus', 4), ('gui', 4), ('named-entity-recognition', 4), ('gru', 4), ('pybrain', 4), ('differential-privacy', 4), ('double-blind', 4), ('improper-prior', 4), ('structured-prediction', 4), ('abbreviation', 4), ('calc', 4), ('combining-predictions', 4), ('orthogonal', 4), ('anosim', 4), ('ronald-fisher', 4), ('general-additive-model', 4), ('dropconnect', 4), ('multiple-membership', 4), ('tensor', 4), ('hmc', 4), ('quotation', 4), ('bias-node', 4), ('consulting', 4), ('compartmental-models', 4), ('algebraic-statistics', 3), ('auxiliary-variable', 3), ('multicore', 3), ('unit-information-prior', 3), ('dplyr', 3), ('cooccurrence', 3), ('slutsky-theorem', 3), ('infinite-variance', 3), ('gpu', 3), ('frequency-severity', 3), ('rademacher-complexity', 3), ('perl', 3), ('clara', 3), ('subject-specific', 3), ('sigmoid', 3), ('example', 3), ('multinomial-probit', 3), ('nnt', 3), ('empirical-likelihood', 3), ('log-loss', 3), ('rounding', 3), ('collecting-data', 3), ('chi-distribution', 3), ('complete-statistics', 3), ('dunnett', 3), ('kolmogorov-axioms', 3), ('np', 3), ('generalized-eta-squared', 3), ('ancillary-statistics', 3), ('intractable-likelihood', 3), ('optunity', 3), ('fortran', 3), ('systematic-review', 3), ('reversible-jump', 3), ('timelines', 3), ('nadaraya-watson', 3), ('crossover', 3), ('humor', 2), ('concavity', 2), ('geomarketing', 2), ('plyr', 2), ('regularity', 2), ('referee', 2), ('generator', 2), ('rough-sets', 2), ('rhadoop', 2), ('add-one-smoothing', 2), ('theta-method', 2), ('factorisation-theorem', 2), ('xorshift', 2), ('legal', 2), ('risk-difference', 2), ('oracle', 2), ('automatic-differentiation', 2), ('ipf', 2), ('model-checking', 2), ('lyapunov-exponent', 2), ('tweedie', 2), ('wald-estimator', 2), ('toeplitz', 2), ('qr', 2), ('cubic', 2), ('duan-smearing', 2), ('dic', 2), ('pitch-game', 2), ('shortest-half', 2), ('transfer-learning', 2), ('statistical-theory', 2), ('volatility', 2), ('potts-model', 2), ('calculus', 2), ('als', 2), ('bag-of-words', 2), ('approximate-randomization', 2), ('drug', 2), ('therapy', 2), ('evolutionary-algorithms', 2), ('rmr', 2), ('variance-test', 2), ('test-equating', 2), ('characterization', 2), ('2d', 1), ('protovis', 1), ('pspp', 1), ('qsar', 1), ('netflix-prize', 1), ('bnlearn', 1), ('bayesian-anova', 1), ('inliers', 1), ('auxiliary-particle-filter', 1), ('hierarchical-softmax', 1), ('law-of-total-expectation', 1), ('langevin-diffusion', 1), ('quartile', 1), ('segmented', 1), ('svmlibsm', 1), ('fused-lasso', 1), ('gmm', 1), ('american-community-survey', 1), ('mechanism-design', 1), ('representation-learning', 1), ('propensity', 1), ('mcar', 1), ('combining-models', 1), ('leave-one-out', 1), ('gmmboost', 1), ('dimensions', 1), ('fda', 1), ('corpus-linguistics', 1), ('pit', 1), ('mboost', 1), ('memm', 1), ('fmincon', 1), ('capability-certification', 1), ('mean-deviation', 1), ('mean-absolute-deviation', 1), ('doc2vec', 1), ('network-layout', 1), ('shapley-value', 1), ('adversarial-boosting', 1), ('sympy', 1), ('matconvnet', 1), ('negative-results', 1), ('hawkes', 1), ('retrospective', 1), ('ram', 1), ('replicability', 1), ('efficacy', 1), ('bands', 1), ('concept-drift', 1), ('clumping', 1), ('markov-logic-network', 1)])"
            ]
          },
          "metadata": {},
          "execution_count": 19
        }
      ]
    },
    {
      "cell_type": "code",
      "source": [
        "## what are the top 10 most frequent tags?\n",
        "common_tags = list(freq.keys())[:10]\n",
        "common_tags"
      ],
      "metadata": {
        "colab": {
          "base_uri": "https://localhost:8080/"
        },
        "id": "6uv6pGEcX3H0",
        "outputId": "2ef0f229-47fc-41e0-eb87-1a8b420110b5"
      },
      "execution_count": 20,
      "outputs": [
        {
          "output_type": "execute_result",
          "data": {
            "text/plain": [
              "['r',\n",
              " 'regression',\n",
              " 'machine-learning',\n",
              " 'time-series',\n",
              " 'probability',\n",
              " 'hypothesis-testing',\n",
              " 'self-study',\n",
              " 'distributions',\n",
              " 'logistic',\n",
              " 'classification']"
            ]
          },
          "metadata": {},
          "execution_count": 20
        }
      ]
    },
    {
      "cell_type": "markdown",
      "source": [
        "We will only be using the questions that have the top 10 tags.\n",
        "\n",
        "This is because \"rare\" appearing tags will not help the model learn/train."
      ],
      "metadata": {
        "id": "Agh4MWaZYT2T"
      }
    },
    {
      "cell_type": "code",
      "source": [
        "## extracting questions from top 10 tags\n",
        "x = []\n",
        "y = []\n",
        "\n",
        "# loop over tags\n",
        "for i in range(len(df['tags'])):\n",
        "\n",
        "  temp = []\n",
        "  for j in df['tags'][i]:\n",
        "    if j in common_tags:\n",
        "      temp.append(j)\n",
        "\n",
        "  if(len(temp)>1):\n",
        "    x.append(df['cleaned_text'][i])\n",
        "    y.append(temp)"
      ],
      "metadata": {
        "id": "D9BXNNHJYF0t"
      },
      "execution_count": 21,
      "outputs": []
    },
    {
      "cell_type": "code",
      "source": [
        "# number of questions left\n",
        "len(x)"
      ],
      "metadata": {
        "colab": {
          "base_uri": "https://localhost:8080/"
        },
        "id": "CYWxJdlMZG7z",
        "outputId": "b6bd0402-6219-4637-fdef-cd703031fabb"
      },
      "execution_count": 22,
      "outputs": [
        {
          "output_type": "execute_result",
          "data": {
            "text/plain": [
              "11106"
            ]
          },
          "metadata": {},
          "execution_count": 22
        }
      ]
    },
    {
      "cell_type": "code",
      "source": [
        "## sample questions\n",
        "x[:5]"
      ],
      "metadata": {
        "colab": {
          "base_uri": "https://localhost:8080/"
        },
        "id": "jesVKMcfZJnP",
        "outputId": "512aafbc-bd46-4188-fd8a-3a148723cd71"
      },
      "execution_count": 23,
      "outputs": [
        {
          "output_type": "execute_result",
          "data": {
            "text/plain": [
              "['recently started working tuberculosis clinic meet periodically discuss number tb cases currently treating number tests administered etc d like start modeling counts guessing unusual unfortunately ve little training time series exposure models continuous data stock prices large numbers counts influenza deal cases month mean median var distributed like image lost mists time image eaten grue ve found articles address models like d greatly appreciate hearing suggestions approaches r packages use implement approaches edit mbq s answer forced think carefully m asking got hung monthly counts lost actual focus question d like know fairly visible decline onward reflect downward trend overall number cases looks like number cases monthly reflects stable process maybe seasonality overall stable present looks like process changing overall number cases declining monthly counts wobble randomness seasonality test s real change process identify decline use trend seasonality estimate number cases upcoming months whew thanks bearing',\n",
              " 'looking better behaved distribution independent variable question reduce effect outliers',\n",
              " 'ways measure similar probability distributions methods popular different circles kolmogorov distance sup distance distribution functions kantorovich rubinstein distance maximum difference expectations w r t distributions functions lipschitz constant turns l distance distribution functions bounded lipschitz distance like k r distance functions required absolute value different advantages disadvantages convergence sense actually corresponds precisely convergence distribution convergence sense slightly stronger general particular x n frac n probability x n converges distribution kolmogorov distance limit distribution continuous pathology doesn t occur perspective elementary probability measure theory natural compares probabilities set sophisticated probabilistic perspective hand tends focus expectations probabilities perspective functional analysis distances like based duality function space appealing large set mathematical tools working things impression correct m wrong statistics kolmogorov distance usually preferred way measuring similarity distributions guess reason distributions discrete finite support particular distribution real world data kolmogorov distance model distribution easy compute k r distance slightly harder compute b l distance probably impossible practical terms question finally reasons practical theoretical favor kolmogorov distance distance statistical purposes',\n",
              " '  lab asked evaluate claim drinking water local restaurant lead concentration parts billion ppb repeated measurements follow normal distribution population standard deviation taken ppb sample measurements taken finds evidence suggest lead concentration different ppb homework question m stuck point right direction great realise hypothesis testing question null hypothesis ppb alternative equal ppb don t know sample measurements mean figures use separate hypothesis test',\n",
              " 'measure predictive power predictors time series models e g linear regression magnitude direction regression co efficients p values measure like evaluate performance predictors kalman filter']"
            ]
          },
          "metadata": {},
          "execution_count": 23
        }
      ]
    },
    {
      "cell_type": "code",
      "source": [
        "# sample tags\n",
        "y[:5]"
      ],
      "metadata": {
        "colab": {
          "base_uri": "https://localhost:8080/"
        },
        "id": "oDA9ChkuZMX5",
        "outputId": "f0b335c8-1346-4bf1-aaff-7d12658a19db"
      },
      "execution_count": 24,
      "outputs": [
        {
          "output_type": "execute_result",
          "data": {
            "text/plain": [
              "[['r', 'time-series'],\n",
              " ['regression', 'distributions'],\n",
              " ['distributions', 'probability', 'hypothesis-testing'],\n",
              " ['hypothesis-testing', 'self-study'],\n",
              " ['r', 'regression', 'time-series']]"
            ]
          },
          "metadata": {},
          "execution_count": 24
        }
      ]
    },
    {
      "cell_type": "markdown",
      "source": [
        "Since this is a multilabel classification problem, we need to transform the target variable y.\n",
        "\n",
        "To do this we will use the MultiLabelBinarizer from sklearn."
      ],
      "metadata": {
        "id": "uBtUnibxZfKv"
      }
    },
    {
      "cell_type": "code",
      "source": [
        "from sklearn.preprocessing import MultiLabelBinarizer\n",
        "#instantiate binarizer\n",
        "mlb = MultiLabelBinarizer()\n",
        "\n",
        "## fit_transform --> get labels\n",
        "y = mlb.fit_transform(y)\n",
        "y.shape"
      ],
      "metadata": {
        "colab": {
          "base_uri": "https://localhost:8080/"
        },
        "id": "QWt4KHtTZW9L",
        "outputId": "88c8120f-a83b-40ca-b24b-03a21a8410f9"
      },
      "execution_count": 25,
      "outputs": [
        {
          "output_type": "execute_result",
          "data": {
            "text/plain": [
              "(11106, 10)"
            ]
          },
          "metadata": {},
          "execution_count": 25
        }
      ]
    },
    {
      "cell_type": "code",
      "source": [
        "## sample\n",
        "y[0,:]"
      ],
      "metadata": {
        "colab": {
          "base_uri": "https://localhost:8080/"
        },
        "id": "eMjGtZ9wZ2hu",
        "outputId": "3174fe6d-03d5-4864-f33d-a8e8e752147b"
      },
      "execution_count": 26,
      "outputs": [
        {
          "output_type": "execute_result",
          "data": {
            "text/plain": [
              "array([0, 0, 0, 0, 0, 0, 1, 0, 0, 1])"
            ]
          },
          "metadata": {},
          "execution_count": 26
        }
      ]
    },
    {
      "cell_type": "code",
      "source": [
        "# classes of the multilabel binarizer\n",
        "mlb.classes_"
      ],
      "metadata": {
        "colab": {
          "base_uri": "https://localhost:8080/"
        },
        "id": "gYQa8KMOZ5is",
        "outputId": "7648ba9d-cc9f-4e32-cad4-e679a3e8f1f4"
      },
      "execution_count": 27,
      "outputs": [
        {
          "output_type": "execute_result",
          "data": {
            "text/plain": [
              "array(['classification', 'distributions', 'hypothesis-testing',\n",
              "       'logistic', 'machine-learning', 'probability', 'r', 'regression',\n",
              "       'self-study', 'time-series'], dtype=object)"
            ]
          },
          "metadata": {},
          "execution_count": 27
        }
      ]
    },
    {
      "cell_type": "markdown",
      "source": [
        "Now we are able to split dataset into traditional train and validation sets."
      ],
      "metadata": {
        "id": "J6PWQsikZ_iA"
      }
    },
    {
      "cell_type": "code",
      "source": [
        "from sklearn.model_selection import train_test_split\n",
        "\n",
        "# setup train and validation sets\n",
        "X_train, X_val, y_train, y_val = train_test_split(x, y, test_size=0.2, random_state=42, shuffle=True)"
      ],
      "metadata": {
        "id": "CmRMKA_JZ-Iw"
      },
      "execution_count": 28,
      "outputs": []
    },
    {
      "cell_type": "code",
      "source": [
        "## print the train and val sets\n",
        "print(f\"X_train len is: {len(X_train)}\")\n",
        "print()\n",
        "print(f\"X_val len is: {len(X_val)}\")\n",
        "print()\n",
        "print(f\"y_train len is: {len(y_train)}\")\n",
        "print()\n",
        "print(f\"y_val len is: {len(y_val)}\")"
      ],
      "metadata": {
        "colab": {
          "base_uri": "https://localhost:8080/"
        },
        "id": "6NGennnJaeeR",
        "outputId": "2347e276-a933-426a-8da7-36eba39bdc98"
      },
      "execution_count": 29,
      "outputs": [
        {
          "output_type": "stream",
          "name": "stdout",
          "text": [
            "X_train len is: 8884\n",
            "\n",
            "X_val len is: 2222\n",
            "\n",
            "y_train len is: 8884\n",
            "\n",
            "y_val len is: 2222\n"
          ]
        }
      ]
    },
    {
      "cell_type": "markdown",
      "source": [
        "## Feature Engineering using TF-IDF\n",
        "* This is the \"classical\" way to do this.\n",
        "* We could certainly create vector embeddings using SentenceTransformers for a more modern approach, but we will use TF-IDF for standard technique."
      ],
      "metadata": {
        "id": "M2rNI-kRa-pj"
      }
    },
    {
      "cell_type": "code",
      "source": [
        "from sklearn.feature_extraction.text import TfidfVectorizer"
      ],
      "metadata": {
        "id": "zsboYeSBa2uC"
      },
      "execution_count": 33,
      "outputs": []
    },
    {
      "cell_type": "code",
      "source": [
        "## init TFIDF --> max size of 5000\n",
        "word_vec = TfidfVectorizer(max_features=5000)\n",
        "\n",
        "# fit vectorizer on Train data\n",
        "word_vec.fit(X_train)\n",
        "\n",
        "# create TF-IDF vectors for Train set\n",
        "train_word_features = word_vec.transform(X_train)"
      ],
      "metadata": {
        "id": "65yGd7HgbOA8"
      },
      "execution_count": 34,
      "outputs": []
    },
    {
      "cell_type": "code",
      "source": [
        "## lets view the train_word_features\n",
        "train_word_features"
      ],
      "metadata": {
        "colab": {
          "base_uri": "https://localhost:8080/"
        },
        "id": "ocG9Av7Hbmwc",
        "outputId": "88c1a70f-fb36-46a0-99cd-0a2ff29b085d"
      },
      "execution_count": 35,
      "outputs": [
        {
          "output_type": "execute_result",
          "data": {
            "text/plain": [
              "<8884x5000 sparse matrix of type '<class 'numpy.float64'>'\n",
              "\twith 401787 stored elements in Compressed Sparse Row format>"
            ]
          },
          "metadata": {},
          "execution_count": 35
        }
      ]
    },
    {
      "cell_type": "markdown",
      "source": [
        "We now have a sparse matrix.\n",
        "  * 8,884 questions\n",
        "  * 5,000 features"
      ],
      "metadata": {
        "id": "rTPE25YYbr0o"
      }
    },
    {
      "cell_type": "code",
      "source": [
        "## now create TF-IDF vectors for Test/Validation set\n",
        "test_word_features = word_vec.transform(X_val)\n",
        "test_word_features"
      ],
      "metadata": {
        "colab": {
          "base_uri": "https://localhost:8080/"
        },
        "id": "sR8_Z3pEbqbk",
        "outputId": "c4cb8b74-daa5-4f5d-e23e-7fe85116d448"
      },
      "execution_count": 36,
      "outputs": [
        {
          "output_type": "execute_result",
          "data": {
            "text/plain": [
              "<2222x5000 sparse matrix of type '<class 'numpy.float64'>'\n",
              "\twith 100610 stored elements in Compressed Sparse Row format>"
            ]
          },
          "metadata": {},
          "execution_count": 36
        }
      ]
    },
    {
      "cell_type": "markdown",
      "source": [
        "We now have a sparse test matrix\n",
        "   * 2,222 questions\n",
        "   * 5,000 features"
      ],
      "metadata": {
        "id": "PghiAy4QcXZT"
      }
    },
    {
      "cell_type": "markdown",
      "source": [
        "## Build Machine Learning Models\n",
        "\n",
        "### 1. Naive Bayes - MultinomialNB"
      ],
      "metadata": {
        "id": "LPr6MpmrccnQ"
      }
    },
    {
      "cell_type": "code",
      "source": [
        "#imports\n",
        "from sklearn.multiclass import OneVsRestClassifier\n",
        "from sklearn.naive_bayes import MultinomialNB\n",
        "from sklearn.metrics import f1_score"
      ],
      "metadata": {
        "id": "-n9lXV-icVfi"
      },
      "execution_count": 37,
      "outputs": []
    },
    {
      "cell_type": "markdown",
      "source": [
        "Since a question can have multiple labels, we will use the `OneVsRestClassifier`.\n",
        "  * This helps us save time when training multiple models at once.\n",
        "  * The OvR also parallelizes the code making the models run faster as well.\n",
        "\n",
        "One-vs-rest (OvR for short, also referred to as One-vs-All or OvA) is a heuristic method for using binary classification algorithms for multi-class classification.\n",
        "\n",
        "It involves splitting the multi-class dataset into multiple binary classification problems.\n",
        "   * A binary classifier is then trained on each binary classification problem and predictions are made using the model that is the most confident.\n",
        "\n",
        "For example, given a multi-class classification problem with examples for each class ‘red,’ ‘blue,’ and ‘green‘. This could be divided into three binary classification datasets as follows:\n",
        "\n",
        "  * Binary Classification Problem 1: red vs [blue, green]\n",
        "  * Binary Classification Problem 2: blue vs [red, green]\n",
        "  * Binary Classification Problem 3: green vs [red, blue]\n",
        "\n",
        "A possible downside of this approach is that it **requires one model to be created for each class.**\n",
        "   * For example, three classes requires three models.\n",
        "   * This could be an issue for:\n",
        "      * large datasets (e.g. millions of rows), * slow models (e.g. neural networks), or\n",
        "      * very large numbers of classes (e.g. hundreds of classes)\n",
        "\n",
        "This approach requires that each model predicts a class membership probability or a probability-like score.\n",
        "  * The argmax of these scores (class index with the largest score) is then used to predict a class.\n",
        "\n",
        "Source: https://machinelearningmastery.com/one-vs-rest-and-one-vs-one-for-multi-class-classification/\n",
        "\n"
      ],
      "metadata": {
        "id": "93jlRMizdEeF"
      }
    },
    {
      "cell_type": "code",
      "source": [
        "## define the model\n",
        "nb_model = OneVsRestClassifier(MultinomialNB())"
      ],
      "metadata": {
        "id": "DppWL_F-czXl"
      },
      "execution_count": 38,
      "outputs": []
    },
    {
      "cell_type": "code",
      "source": [
        "# train model\n",
        "nb_model.fit(train_word_features, y_train)"
      ],
      "metadata": {
        "colab": {
          "base_uri": "https://localhost:8080/",
          "height": 164
        },
        "id": "GFfQ_cssehcS",
        "outputId": "0c6fa081-a602-4bf7-a051-37219f5f535c"
      },
      "execution_count": 39,
      "outputs": [
        {
          "output_type": "execute_result",
          "data": {
            "text/plain": [
              "OneVsRestClassifier(estimator=MultinomialNB())"
            ],
            "text/html": [
              "<style>#sk-container-id-1 {color: black;}#sk-container-id-1 pre{padding: 0;}#sk-container-id-1 div.sk-toggleable {background-color: white;}#sk-container-id-1 label.sk-toggleable__label {cursor: pointer;display: block;width: 100%;margin-bottom: 0;padding: 0.3em;box-sizing: border-box;text-align: center;}#sk-container-id-1 label.sk-toggleable__label-arrow:before {content: \"▸\";float: left;margin-right: 0.25em;color: #696969;}#sk-container-id-1 label.sk-toggleable__label-arrow:hover:before {color: black;}#sk-container-id-1 div.sk-estimator:hover label.sk-toggleable__label-arrow:before {color: black;}#sk-container-id-1 div.sk-toggleable__content {max-height: 0;max-width: 0;overflow: hidden;text-align: left;background-color: #f0f8ff;}#sk-container-id-1 div.sk-toggleable__content pre {margin: 0.2em;color: black;border-radius: 0.25em;background-color: #f0f8ff;}#sk-container-id-1 input.sk-toggleable__control:checked~div.sk-toggleable__content {max-height: 200px;max-width: 100%;overflow: auto;}#sk-container-id-1 input.sk-toggleable__control:checked~label.sk-toggleable__label-arrow:before {content: \"▾\";}#sk-container-id-1 div.sk-estimator input.sk-toggleable__control:checked~label.sk-toggleable__label {background-color: #d4ebff;}#sk-container-id-1 div.sk-label input.sk-toggleable__control:checked~label.sk-toggleable__label {background-color: #d4ebff;}#sk-container-id-1 input.sk-hidden--visually {border: 0;clip: rect(1px 1px 1px 1px);clip: rect(1px, 1px, 1px, 1px);height: 1px;margin: -1px;overflow: hidden;padding: 0;position: absolute;width: 1px;}#sk-container-id-1 div.sk-estimator {font-family: monospace;background-color: #f0f8ff;border: 1px dotted black;border-radius: 0.25em;box-sizing: border-box;margin-bottom: 0.5em;}#sk-container-id-1 div.sk-estimator:hover {background-color: #d4ebff;}#sk-container-id-1 div.sk-parallel-item::after {content: \"\";width: 100%;border-bottom: 1px solid gray;flex-grow: 1;}#sk-container-id-1 div.sk-label:hover label.sk-toggleable__label {background-color: #d4ebff;}#sk-container-id-1 div.sk-serial::before {content: \"\";position: absolute;border-left: 1px solid gray;box-sizing: border-box;top: 0;bottom: 0;left: 50%;z-index: 0;}#sk-container-id-1 div.sk-serial {display: flex;flex-direction: column;align-items: center;background-color: white;padding-right: 0.2em;padding-left: 0.2em;position: relative;}#sk-container-id-1 div.sk-item {position: relative;z-index: 1;}#sk-container-id-1 div.sk-parallel {display: flex;align-items: stretch;justify-content: center;background-color: white;position: relative;}#sk-container-id-1 div.sk-item::before, #sk-container-id-1 div.sk-parallel-item::before {content: \"\";position: absolute;border-left: 1px solid gray;box-sizing: border-box;top: 0;bottom: 0;left: 50%;z-index: -1;}#sk-container-id-1 div.sk-parallel-item {display: flex;flex-direction: column;z-index: 1;position: relative;background-color: white;}#sk-container-id-1 div.sk-parallel-item:first-child::after {align-self: flex-end;width: 50%;}#sk-container-id-1 div.sk-parallel-item:last-child::after {align-self: flex-start;width: 50%;}#sk-container-id-1 div.sk-parallel-item:only-child::after {width: 0;}#sk-container-id-1 div.sk-dashed-wrapped {border: 1px dashed gray;margin: 0 0.4em 0.5em 0.4em;box-sizing: border-box;padding-bottom: 0.4em;background-color: white;}#sk-container-id-1 div.sk-label label {font-family: monospace;font-weight: bold;display: inline-block;line-height: 1.2em;}#sk-container-id-1 div.sk-label-container {text-align: center;}#sk-container-id-1 div.sk-container {/* jupyter's `normalize.less` sets `[hidden] { display: none; }` but bootstrap.min.css set `[hidden] { display: none !important; }` so we also need the `!important` here to be able to override the default hidden behavior on the sphinx rendered scikit-learn.org. See: https://github.com/scikit-learn/scikit-learn/issues/21755 */display: inline-block !important;position: relative;}#sk-container-id-1 div.sk-text-repr-fallback {display: none;}</style><div id=\"sk-container-id-1\" class=\"sk-top-container\"><div class=\"sk-text-repr-fallback\"><pre>OneVsRestClassifier(estimator=MultinomialNB())</pre><b>In a Jupyter environment, please rerun this cell to show the HTML representation or trust the notebook. <br />On GitHub, the HTML representation is unable to render, please try loading this page with nbviewer.org.</b></div><div class=\"sk-container\" hidden><div class=\"sk-item sk-dashed-wrapped\"><div class=\"sk-label-container\"><div class=\"sk-label sk-toggleable\"><input class=\"sk-toggleable__control sk-hidden--visually\" id=\"sk-estimator-id-1\" type=\"checkbox\" ><label for=\"sk-estimator-id-1\" class=\"sk-toggleable__label sk-toggleable__label-arrow\">OneVsRestClassifier</label><div class=\"sk-toggleable__content\"><pre>OneVsRestClassifier(estimator=MultinomialNB())</pre></div></div></div><div class=\"sk-parallel\"><div class=\"sk-parallel-item\"><div class=\"sk-item\"><div class=\"sk-label-container\"><div class=\"sk-label sk-toggleable\"><input class=\"sk-toggleable__control sk-hidden--visually\" id=\"sk-estimator-id-2\" type=\"checkbox\" ><label for=\"sk-estimator-id-2\" class=\"sk-toggleable__label sk-toggleable__label-arrow\">estimator: MultinomialNB</label><div class=\"sk-toggleable__content\"><pre>MultinomialNB()</pre></div></div></div><div class=\"sk-serial\"><div class=\"sk-item\"><div class=\"sk-estimator sk-toggleable\"><input class=\"sk-toggleable__control sk-hidden--visually\" id=\"sk-estimator-id-3\" type=\"checkbox\" ><label for=\"sk-estimator-id-3\" class=\"sk-toggleable__label sk-toggleable__label-arrow\">MultinomialNB</label><div class=\"sk-toggleable__content\"><pre>MultinomialNB()</pre></div></div></div></div></div></div></div></div></div></div>"
            ]
          },
          "metadata": {},
          "execution_count": 39
        }
      ]
    },
    {
      "cell_type": "code",
      "source": [
        "# make predictions on train set\n",
        "train_pred_nb = nb_model.predict_proba(train_word_features)"
      ],
      "metadata": {
        "id": "ExJMAHPGemDD"
      },
      "execution_count": 40,
      "outputs": []
    },
    {
      "cell_type": "code",
      "source": [
        "## view predictions\n",
        "train_pred_nb[:5]"
      ],
      "metadata": {
        "colab": {
          "base_uri": "https://localhost:8080/"
        },
        "id": "3my7OkFHetWg",
        "outputId": "cfaa4d77-cdbb-4405-87dd-42424a5c636e"
      },
      "execution_count": 41,
      "outputs": [
        {
          "output_type": "execute_result",
          "data": {
            "text/plain": [
              "array([[0.00537031, 0.02158368, 0.02940967, 0.01889877, 0.02088131,\n",
              "        0.01230726, 0.64319103, 0.69425749, 0.03431985, 0.04530027],\n",
              "       [0.01916906, 0.0127335 , 0.04449999, 0.14621842, 0.02921426,\n",
              "        0.01538335, 0.56831804, 0.63936001, 0.02154131, 0.06418146],\n",
              "       [0.04734991, 0.15280241, 0.17844401, 0.05062134, 0.08731576,\n",
              "        0.06065591, 0.42385244, 0.17573661, 0.03356571, 0.06420911],\n",
              "       [0.00377573, 0.00875633, 0.07050085, 0.82842411, 0.00466239,\n",
              "        0.00859505, 0.75207551, 0.8483481 , 0.01382064, 0.00699011],\n",
              "       [0.00232004, 0.00700268, 0.03307907, 0.02169856, 0.00974026,\n",
              "        0.00209056, 0.79231659, 0.42939465, 0.01291017, 0.67787124]])"
            ]
          },
          "metadata": {},
          "execution_count": 41
        }
      ]
    },
    {
      "cell_type": "markdown",
      "source": [
        "Summary:\n",
        "* The predictions we get are in terms of the probabilities for each of the 10 tags or labels.\n",
        "  * We are not able to calculate the f1 score using these probabilities. We need labels for that!\n",
        "* So, we need to have a threshold value to convert these probabilities to 0 or 1.\n",
        "* We thus need to specify a threshold value for this.\n",
        "* We will select the threshold value that performs best for the train set.\n",
        "* We can start to see why deep learning may be a more optimal approach to this type of problem, but we can also see how it is important to understand this type of classification problem using classical machine learning algorithms."
      ],
      "metadata": {
        "id": "99-FVHsBe0a6"
      }
    },
    {
      "cell_type": "code",
      "source": [
        "## function to convert probs into classes or tags based on threshold value\n",
        "def classify(pred_prob, threshold):\n",
        "  y_pred_seq = []\n",
        "\n",
        "  for i in pred_prob:\n",
        "    temp=[]\n",
        "    for j in i:\n",
        "      if j>=threshold:\n",
        "        temp.append(1)\n",
        "      else:\n",
        "        temp.append(0)\n",
        "    y_pred_seq.append(temp)\n",
        "\n",
        "  return y_pred_seq"
      ],
      "metadata": {
        "id": "6Htj9O0qexee"
      },
      "execution_count": 42,
      "outputs": []
    },
    {
      "cell_type": "code",
      "source": [
        "## function for finding optimal value of threshold\n",
        "def optimal_threshold(actual, pred_prob):\n",
        "  # define threshold values\n",
        "  thresholds = np.arange(0, 0.5, 0.01)\n",
        "\n",
        "  score = []\n",
        "  for value in thresholds:\n",
        "    # get classes for each threshold\n",
        "    pred_classes = classify(pred_prob,value)\n",
        "    # get F1-score for every threshold\n",
        "    score.append(f1_score(actual, pred_classes, average='weighted'))\n",
        "\n",
        "  return thresholds[score.index(max(score))]"
      ],
      "metadata": {
        "id": "KOYsd4Q9gPxr"
      },
      "execution_count": 46,
      "outputs": []
    },
    {
      "cell_type": "code",
      "source": [
        "## now find the optimal threshold value\n",
        "print(f\"The Optimal threshold value: {optimal_threshold(y_train, train_pred_nb)}\")"
      ],
      "metadata": {
        "colab": {
          "base_uri": "https://localhost:8080/"
        },
        "id": "L68UhjBmg15l",
        "outputId": "847cc19d-061a-428d-da86-66a80dc938b8"
      },
      "execution_count": 47,
      "outputs": [
        {
          "output_type": "stream",
          "name": "stdout",
          "text": [
            "The Optimal threshold value: 0.27\n"
          ]
        }
      ]
    },
    {
      "cell_type": "code",
      "source": [
        "## getting clases using optimal threshold\n",
        "train_pred_nb_class = classify(train_pred_nb, 0.27)"
      ],
      "metadata": {
        "id": "YJuP0ogfhEnX"
      },
      "execution_count": 49,
      "outputs": []
    },
    {
      "cell_type": "code",
      "source": [
        "## output\n",
        "train_pred_nb_class[:5]"
      ],
      "metadata": {
        "colab": {
          "base_uri": "https://localhost:8080/"
        },
        "id": "DItGm9QuhXs9",
        "outputId": "5a473fd2-63ef-4cec-e13e-acd31b2ecf58"
      },
      "execution_count": 50,
      "outputs": [
        {
          "output_type": "execute_result",
          "data": {
            "text/plain": [
              "[[0, 0, 0, 0, 0, 0, 1, 1, 0, 0],\n",
              " [0, 0, 0, 0, 0, 0, 1, 1, 0, 0],\n",
              " [0, 0, 0, 0, 0, 0, 1, 0, 0, 0],\n",
              " [0, 0, 0, 1, 0, 0, 1, 1, 0, 0],\n",
              " [0, 0, 0, 0, 0, 0, 1, 1, 0, 1]]"
            ]
          },
          "metadata": {},
          "execution_count": 50
        }
      ]
    },
    {
      "cell_type": "markdown",
      "source": [
        "Above, we can see the labels."
      ],
      "metadata": {
        "id": "bp757AJwh58D"
      }
    },
    {
      "cell_type": "code",
      "source": [
        "## inverse_transform\n",
        "mlb.inverse_transform(np.array(train_pred_nb_class[:5]))"
      ],
      "metadata": {
        "colab": {
          "base_uri": "https://localhost:8080/"
        },
        "id": "XRZik3qUhdv0",
        "outputId": "62b2ce45-1d03-4905-ebae-78ab81134c35"
      },
      "execution_count": 51,
      "outputs": [
        {
          "output_type": "execute_result",
          "data": {
            "text/plain": [
              "[('r', 'regression'),\n",
              " ('r', 'regression'),\n",
              " ('r',),\n",
              " ('logistic', 'r', 'regression'),\n",
              " ('r', 'regression', 'time-series')]"
            ]
          },
          "metadata": {},
          "execution_count": 51
        }
      ]
    },
    {
      "cell_type": "markdown",
      "source": [
        "Above, we can see the actual tags that go with the labels.\n",
        "\n",
        "Now we can evaluate on the train set."
      ],
      "metadata": {
        "id": "ycHh2ZIniFSY"
      }
    },
    {
      "cell_type": "code",
      "source": [
        "## evaluate on train set - in sample prediction\n",
        "print(f\"F1-score on Train set: {f1_score(y_train, train_pred_nb_class, average='weighted')}\")"
      ],
      "metadata": {
        "colab": {
          "base_uri": "https://localhost:8080/"
        },
        "id": "KBSktuSDhkkc",
        "outputId": "d5aaa206-6489-4668-e14a-4f16adb73379"
      },
      "execution_count": 52,
      "outputs": [
        {
          "output_type": "stream",
          "name": "stdout",
          "text": [
            "F1-score on Train set: 0.7468370707407613\n"
          ]
        }
      ]
    },
    {
      "cell_type": "code",
      "source": [
        "# make predictions on validation set - out of sample prediction\n",
        "val_pred_nb = nb_model.predict_proba(test_word_features)\n",
        "\n",
        "# get the classes\n",
        "val_pred_nb_class = classify(val_pred_nb, 0.27)\n",
        "\n",
        "# Evaluate on validation set\n",
        "print(f\"F1-score on Validation Set: {f1_score(y_val, val_pred_nb_class, average='weighted')}\")"
      ],
      "metadata": {
        "colab": {
          "base_uri": "https://localhost:8080/"
        },
        "id": "BlordvzQhtZ_",
        "outputId": "8f797b07-d73f-401c-925f-a207c2593095"
      },
      "execution_count": 53,
      "outputs": [
        {
          "output_type": "stream",
          "name": "stdout",
          "text": [
            "F1-score on Validation Set: 0.6820040639074911\n"
          ]
        }
      ]
    },
    {
      "cell_type": "markdown",
      "source": [
        "Summary:\n",
        "* We can see the F1 score was higher on the training data at 0.74 and lower on the validation/test data at 0.68.\n",
        "* Let's try a Logistic Regression model and see if we can improve this."
      ],
      "metadata": {
        "id": "vdffP-OViiAB"
      }
    },
    {
      "cell_type": "markdown",
      "source": [
        "## Logistic Regression"
      ],
      "metadata": {
        "id": "1R0s14TAi1Hd"
      }
    },
    {
      "cell_type": "code",
      "source": [
        "from sklearn.linear_model import LogisticRegression"
      ],
      "metadata": {
        "id": "QzEunF3zigpf"
      },
      "execution_count": 54,
      "outputs": []
    },
    {
      "cell_type": "code",
      "source": [
        "# define model\n",
        "log_reg_model = OneVsRestClassifier(LogisticRegression())\n",
        "\n",
        "# train model\n",
        "log_reg_model.fit(train_word_features, y_train)"
      ],
      "metadata": {
        "colab": {
          "base_uri": "https://localhost:8080/",
          "height": 164
        },
        "id": "TbQAanDPi5jb",
        "outputId": "c504e377-903a-4971-dae1-4c8a5c67349a"
      },
      "execution_count": 55,
      "outputs": [
        {
          "output_type": "execute_result",
          "data": {
            "text/plain": [
              "OneVsRestClassifier(estimator=LogisticRegression())"
            ],
            "text/html": [
              "<style>#sk-container-id-2 {color: black;}#sk-container-id-2 pre{padding: 0;}#sk-container-id-2 div.sk-toggleable {background-color: white;}#sk-container-id-2 label.sk-toggleable__label {cursor: pointer;display: block;width: 100%;margin-bottom: 0;padding: 0.3em;box-sizing: border-box;text-align: center;}#sk-container-id-2 label.sk-toggleable__label-arrow:before {content: \"▸\";float: left;margin-right: 0.25em;color: #696969;}#sk-container-id-2 label.sk-toggleable__label-arrow:hover:before {color: black;}#sk-container-id-2 div.sk-estimator:hover label.sk-toggleable__label-arrow:before {color: black;}#sk-container-id-2 div.sk-toggleable__content {max-height: 0;max-width: 0;overflow: hidden;text-align: left;background-color: #f0f8ff;}#sk-container-id-2 div.sk-toggleable__content pre {margin: 0.2em;color: black;border-radius: 0.25em;background-color: #f0f8ff;}#sk-container-id-2 input.sk-toggleable__control:checked~div.sk-toggleable__content {max-height: 200px;max-width: 100%;overflow: auto;}#sk-container-id-2 input.sk-toggleable__control:checked~label.sk-toggleable__label-arrow:before {content: \"▾\";}#sk-container-id-2 div.sk-estimator input.sk-toggleable__control:checked~label.sk-toggleable__label {background-color: #d4ebff;}#sk-container-id-2 div.sk-label input.sk-toggleable__control:checked~label.sk-toggleable__label {background-color: #d4ebff;}#sk-container-id-2 input.sk-hidden--visually {border: 0;clip: rect(1px 1px 1px 1px);clip: rect(1px, 1px, 1px, 1px);height: 1px;margin: -1px;overflow: hidden;padding: 0;position: absolute;width: 1px;}#sk-container-id-2 div.sk-estimator {font-family: monospace;background-color: #f0f8ff;border: 1px dotted black;border-radius: 0.25em;box-sizing: border-box;margin-bottom: 0.5em;}#sk-container-id-2 div.sk-estimator:hover {background-color: #d4ebff;}#sk-container-id-2 div.sk-parallel-item::after {content: \"\";width: 100%;border-bottom: 1px solid gray;flex-grow: 1;}#sk-container-id-2 div.sk-label:hover label.sk-toggleable__label {background-color: #d4ebff;}#sk-container-id-2 div.sk-serial::before {content: \"\";position: absolute;border-left: 1px solid gray;box-sizing: border-box;top: 0;bottom: 0;left: 50%;z-index: 0;}#sk-container-id-2 div.sk-serial {display: flex;flex-direction: column;align-items: center;background-color: white;padding-right: 0.2em;padding-left: 0.2em;position: relative;}#sk-container-id-2 div.sk-item {position: relative;z-index: 1;}#sk-container-id-2 div.sk-parallel {display: flex;align-items: stretch;justify-content: center;background-color: white;position: relative;}#sk-container-id-2 div.sk-item::before, #sk-container-id-2 div.sk-parallel-item::before {content: \"\";position: absolute;border-left: 1px solid gray;box-sizing: border-box;top: 0;bottom: 0;left: 50%;z-index: -1;}#sk-container-id-2 div.sk-parallel-item {display: flex;flex-direction: column;z-index: 1;position: relative;background-color: white;}#sk-container-id-2 div.sk-parallel-item:first-child::after {align-self: flex-end;width: 50%;}#sk-container-id-2 div.sk-parallel-item:last-child::after {align-self: flex-start;width: 50%;}#sk-container-id-2 div.sk-parallel-item:only-child::after {width: 0;}#sk-container-id-2 div.sk-dashed-wrapped {border: 1px dashed gray;margin: 0 0.4em 0.5em 0.4em;box-sizing: border-box;padding-bottom: 0.4em;background-color: white;}#sk-container-id-2 div.sk-label label {font-family: monospace;font-weight: bold;display: inline-block;line-height: 1.2em;}#sk-container-id-2 div.sk-label-container {text-align: center;}#sk-container-id-2 div.sk-container {/* jupyter's `normalize.less` sets `[hidden] { display: none; }` but bootstrap.min.css set `[hidden] { display: none !important; }` so we also need the `!important` here to be able to override the default hidden behavior on the sphinx rendered scikit-learn.org. See: https://github.com/scikit-learn/scikit-learn/issues/21755 */display: inline-block !important;position: relative;}#sk-container-id-2 div.sk-text-repr-fallback {display: none;}</style><div id=\"sk-container-id-2\" class=\"sk-top-container\"><div class=\"sk-text-repr-fallback\"><pre>OneVsRestClassifier(estimator=LogisticRegression())</pre><b>In a Jupyter environment, please rerun this cell to show the HTML representation or trust the notebook. <br />On GitHub, the HTML representation is unable to render, please try loading this page with nbviewer.org.</b></div><div class=\"sk-container\" hidden><div class=\"sk-item sk-dashed-wrapped\"><div class=\"sk-label-container\"><div class=\"sk-label sk-toggleable\"><input class=\"sk-toggleable__control sk-hidden--visually\" id=\"sk-estimator-id-4\" type=\"checkbox\" ><label for=\"sk-estimator-id-4\" class=\"sk-toggleable__label sk-toggleable__label-arrow\">OneVsRestClassifier</label><div class=\"sk-toggleable__content\"><pre>OneVsRestClassifier(estimator=LogisticRegression())</pre></div></div></div><div class=\"sk-parallel\"><div class=\"sk-parallel-item\"><div class=\"sk-item\"><div class=\"sk-label-container\"><div class=\"sk-label sk-toggleable\"><input class=\"sk-toggleable__control sk-hidden--visually\" id=\"sk-estimator-id-5\" type=\"checkbox\" ><label for=\"sk-estimator-id-5\" class=\"sk-toggleable__label sk-toggleable__label-arrow\">estimator: LogisticRegression</label><div class=\"sk-toggleable__content\"><pre>LogisticRegression()</pre></div></div></div><div class=\"sk-serial\"><div class=\"sk-item\"><div class=\"sk-estimator sk-toggleable\"><input class=\"sk-toggleable__control sk-hidden--visually\" id=\"sk-estimator-id-6\" type=\"checkbox\" ><label for=\"sk-estimator-id-6\" class=\"sk-toggleable__label sk-toggleable__label-arrow\">LogisticRegression</label><div class=\"sk-toggleable__content\"><pre>LogisticRegression()</pre></div></div></div></div></div></div></div></div></div></div>"
            ]
          },
          "metadata": {},
          "execution_count": 55
        }
      ]
    },
    {
      "cell_type": "code",
      "source": [
        "## make predictions on Train set\n",
        "train_pred_lr = log_reg_model.predict_proba(train_word_features)"
      ],
      "metadata": {
        "id": "q7MqQM8ejDZs"
      },
      "execution_count": 56,
      "outputs": []
    },
    {
      "cell_type": "code",
      "source": [
        "## lets see results\n",
        "train_pred_lr[:5]"
      ],
      "metadata": {
        "colab": {
          "base_uri": "https://localhost:8080/"
        },
        "id": "K2lkW6r6jOYh",
        "outputId": "81160ba9-1def-4282-92d7-3ec6d9b029ed"
      },
      "execution_count": 57,
      "outputs": [
        {
          "output_type": "execute_result",
          "data": {
            "text/plain": [
              "array([[0.02648403, 0.05597941, 0.0708472 , 0.02951809, 0.07055119,\n",
              "        0.01359619, 0.80032701, 0.90344763, 0.04127528, 0.06075854],\n",
              "       [0.05794708, 0.03461913, 0.11731043, 0.12959178, 0.06727114,\n",
              "        0.04589401, 0.62469362, 0.71831553, 0.05851563, 0.12315661],\n",
              "       [0.0858301 , 0.25219549, 0.35728096, 0.05853359, 0.17848746,\n",
              "        0.09671004, 0.4998142 , 0.23757032, 0.0696606 , 0.10672391],\n",
              "       [0.01829057, 0.03623374, 0.16689767, 0.88429219, 0.0137612 ,\n",
              "        0.02886943, 0.64191141, 0.56548849, 0.03059469, 0.01584995],\n",
              "       [0.0064751 , 0.01355925, 0.29743964, 0.01964765, 0.0249428 ,\n",
              "        0.00252226, 0.86122303, 0.32877981, 0.01697299, 0.93965335]])"
            ]
          },
          "metadata": {},
          "execution_count": 57
        }
      ]
    },
    {
      "cell_type": "code",
      "source": [
        "## find optimal value\n",
        "print(f\"Optimal threshold is: {optimal_threshold(y_train, train_pred_lr)}\")"
      ],
      "metadata": {
        "colab": {
          "base_uri": "https://localhost:8080/"
        },
        "id": "LNd9-XtgjTCq",
        "outputId": "0812676b-921f-46e2-c220-be0ee33508b6"
      },
      "execution_count": 58,
      "outputs": [
        {
          "output_type": "stream",
          "name": "stdout",
          "text": [
            "Optimal threshold is: 0.32\n"
          ]
        }
      ]
    },
    {
      "cell_type": "code",
      "source": [
        "# get classes using optimal threshold\n",
        "train_pred_lr_class = classify(train_pred_lr, 0.32)\n",
        "train_pred_lr_class[:5]"
      ],
      "metadata": {
        "colab": {
          "base_uri": "https://localhost:8080/"
        },
        "id": "Osj6wKf2jptc",
        "outputId": "9ce81ea1-5e69-4408-aac8-a4468732de78"
      },
      "execution_count": 59,
      "outputs": [
        {
          "output_type": "execute_result",
          "data": {
            "text/plain": [
              "[[0, 0, 0, 0, 0, 0, 1, 1, 0, 0],\n",
              " [0, 0, 0, 0, 0, 0, 1, 1, 0, 0],\n",
              " [0, 0, 1, 0, 0, 0, 1, 0, 0, 0],\n",
              " [0, 0, 0, 1, 0, 0, 1, 1, 0, 0],\n",
              " [0, 0, 0, 0, 0, 0, 1, 1, 0, 1]]"
            ]
          },
          "metadata": {},
          "execution_count": 59
        }
      ]
    },
    {
      "cell_type": "markdown",
      "source": [
        "Above we see the logistic regression model labels."
      ],
      "metadata": {
        "id": "M6wPC0PEkQod"
      }
    },
    {
      "cell_type": "code",
      "source": [
        "# eval on train set - in sample prediction\n",
        "print(f\"F1-score on Train Set: {f1_score(y_train, train_pred_lr_class, average='weighted')}\")"
      ],
      "metadata": {
        "colab": {
          "base_uri": "https://localhost:8080/"
        },
        "id": "Mne-nEESjzJI",
        "outputId": "d6eb2039-c5d0-4d0f-ce5d-62fddef287fd"
      },
      "execution_count": 60,
      "outputs": [
        {
          "output_type": "stream",
          "name": "stdout",
          "text": [
            "F1-score on Train Set: 0.8270419004256235\n"
          ]
        }
      ]
    },
    {
      "cell_type": "code",
      "source": [
        "# make predictions on validation set - out of sample prediction\n",
        "val_pred_lr = log_reg_model.predict_proba(test_word_features)\n",
        "\n",
        "# get classes\n",
        "val_pred_lr_class = classify(val_pred_lr, 0.32)\n",
        "\n",
        "# evaluate on validation set\n",
        "print(f\"F1-score on Validation Set: {f1_score(y_val, val_pred_lr_class, average='weighted')}\")"
      ],
      "metadata": {
        "colab": {
          "base_uri": "https://localhost:8080/"
        },
        "id": "xrihCtVIj7by",
        "outputId": "572d21f9-c9a6-4c51-855d-e0830cb123bc"
      },
      "execution_count": 62,
      "outputs": [
        {
          "output_type": "stream",
          "name": "stdout",
          "text": [
            "F1-score on Validation Set: 0.753221883805125\n"
          ]
        }
      ]
    },
    {
      "cell_type": "markdown",
      "source": [
        "# Model Building Summary\n",
        "* We can see the comparision of the models below\n",
        "\n",
        "`|Model_Name          | Train Set | ValidationSet|`\n",
        "\n",
        "`|Naive Bayes         |  0.746    | 0.682        |`\n",
        "\n",
        "`|Logistic Regression  |  0.827   | 0.7532     |`"
      ],
      "metadata": {
        "id": "XmHeQBC7klyz"
      }
    },
    {
      "cell_type": "markdown",
      "source": [
        "Thus we can see that Logistic Regression is the better performing model overall."
      ],
      "metadata": {
        "id": "gc2vlJT2mc6o"
      }
    },
    {
      "cell_type": "markdown",
      "source": [
        "# Final Question Tagging Inference Pipeline"
      ],
      "metadata": {
        "id": "KyVxbCHymgby"
      }
    },
    {
      "cell_type": "code",
      "source": [
        "## create function for inference pipeline\n",
        "def tagger(question):\n",
        "  # clean text\n",
        "  cleaned_question = cleaner(question)\n",
        "\n",
        "  # feature engineering\n",
        "  vector = word_vec.transform([cleaned_question])\n",
        "\n",
        "  # predicting probabilities using logistic regression model (best model)\n",
        "  pred_prob = log_reg_model.predict_proba(vector)\n",
        "\n",
        "  # convert probabilities to classes\n",
        "  pred_class = classify(pred_prob, 0.32)\n",
        "\n",
        "  #return the transformed class tags\n",
        "  return mlb.inverse_transform(np.array(pred_class))"
      ],
      "metadata": {
        "id": "JuBxTbCakb3m"
      },
      "execution_count": 64,
      "outputs": []
    },
    {
      "cell_type": "markdown",
      "source": [
        "## Sample Question\n"
      ],
      "metadata": {
        "id": "3fyGHMmXnUku"
      }
    },
    {
      "cell_type": "code",
      "source": [
        "# lets get a random sample question from the original question set\n",
        "df.Body.sample(1)"
      ],
      "metadata": {
        "colab": {
          "base_uri": "https://localhost:8080/",
          "height": 133
        },
        "id": "bp2e2IxqnETP",
        "outputId": "d849f92b-de01-4f77-fc94-e4056153bfa0"
      },
      "execution_count": 70,
      "outputs": [
        {
          "output_type": "execute_result",
          "data": {
            "text/plain": [
              "5128    <p>I am aware of the theory of stochastic gradient descent, which is a faster way of developing linear regression. Through this we can have an '<em>optimized implementation</em>' of linear regress...\n",
              "Name: Body, dtype: object"
            ],
            "text/html": [
              "<div>\n",
              "<style scoped>\n",
              "    .dataframe tbody tr th:only-of-type {\n",
              "        vertical-align: middle;\n",
              "    }\n",
              "\n",
              "    .dataframe tbody tr th {\n",
              "        vertical-align: top;\n",
              "    }\n",
              "\n",
              "    .dataframe thead th {\n",
              "        text-align: right;\n",
              "    }\n",
              "</style>\n",
              "<table border=\"1\" class=\"dataframe\">\n",
              "  <thead>\n",
              "    <tr style=\"text-align: right;\">\n",
              "      <th></th>\n",
              "      <th>Body</th>\n",
              "    </tr>\n",
              "  </thead>\n",
              "  <tbody>\n",
              "    <tr>\n",
              "      <th>5128</th>\n",
              "      <td>&lt;p&gt;I am aware of the theory of stochastic gradient descent, which is a faster way of developing linear regression. Through this we can have an '&lt;em&gt;optimized implementation&lt;/em&gt;' of linear regress...</td>\n",
              "    </tr>\n",
              "  </tbody>\n",
              "</table>\n",
              "</div><br><label><b>dtype:</b> object</label>"
            ]
          },
          "metadata": {},
          "execution_count": 70
        }
      ]
    },
    {
      "cell_type": "code",
      "source": [
        "## lets import warnings - we will see errors from using spacy\n",
        "import warnings\n",
        "warnings.filterwarnings('ignore')"
      ],
      "metadata": {
        "id": "QRDh7atjoL2O"
      },
      "execution_count": 72,
      "outputs": []
    },
    {
      "cell_type": "code",
      "source": [
        "tagger(\"<p>I am aware of the theory of stochastic gradient descent, which is a faster way of developing linear regression. Through this we can have an '<em>optimized implementation</em>' of linear regress...\")"
      ],
      "metadata": {
        "colab": {
          "base_uri": "https://localhost:8080/"
        },
        "id": "0aPHIz06nwYy",
        "outputId": "0cd2a113-eb76-41c7-b5b0-520ff59a8d52"
      },
      "execution_count": 73,
      "outputs": [
        {
          "output_type": "execute_result",
          "data": {
            "text/plain": [
              "[('machine-learning', 'regression')]"
            ]
          },
          "metadata": {},
          "execution_count": 73
        }
      ]
    },
    {
      "cell_type": "markdown",
      "source": [
        "# Summary\n",
        "* We can see we were able to assign multiple labels to the text based on the classification model that we built."
      ],
      "metadata": {
        "id": "CAhTycqJofaH"
      }
    },
    {
      "cell_type": "code",
      "source": [],
      "metadata": {
        "id": "Rg0ny4PJoBfU"
      },
      "execution_count": null,
      "outputs": []
    }
  ]
}