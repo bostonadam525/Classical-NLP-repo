{
  "cells": [
    {
      "cell_type": "markdown",
      "id": "33bfdac7",
      "metadata": {
        "id": "33bfdac7"
      },
      "source": [
        "# Social Media Binary Text Classification using Machine Learning\n",
        "* Notebook by Adam M. Lang\n",
        "* Date: 7/1/2024\n",
        "\n",
        "## Overview\n",
        "* In this notebook we will perform binary text classification of social meda text using Machine Learning.\n",
        "* We will do the following:\n",
        "1. Exploratory Data Analysis (EDA)\n",
        "2. Text Cleaning & Normalization\n",
        "3. Create custom embeddings using a Sentence Transformers Model from HuggingFace\n",
        "4. Binary Classification with:\n",
        "  * Logistic Regression\n",
        "  * XGBoost\n",
        "  * Note:\n",
        "    * For each of the machine learning classifiers we will perform K folds cross validation and Grid Search for hyperparameter optimization and train the best fit models.\n",
        "5. We will then compare the best classifier with standard machine learning metric including confusion matrix, accuracy, precision, recall and F1 score."
      ]
    },
    {
      "cell_type": "code",
      "execution_count": null,
      "id": "17975dd4-2552-4e87-9cab-bb88464b1c62",
      "metadata": {
        "id": "17975dd4-2552-4e87-9cab-bb88464b1c62"
      },
      "outputs": [],
      "source": [
        "# import libraries\n",
        "import numpy as np\n",
        "import pandas as pd\n",
        "import matplotlib.pyplot as plt\n",
        "%matplotlib inline\n",
        "from tqdm import tqdm\n",
        "tqdm.pandas(leave=False)"
      ]
    },
    {
      "cell_type": "code",
      "source": [
        "# I used google colab so comment this out unless you are using colab\n",
        "#from google.colab import drive\n",
        "#drive.mount('/content/drive')"
      ],
      "metadata": {
        "colab": {
          "base_uri": "https://localhost:8080/"
        },
        "id": "7WfMUcSV1l4l",
        "outputId": "059f6fa7-c421-4079-dba2-45073d49dd76"
      },
      "id": "7WfMUcSV1l4l",
      "execution_count": null,
      "outputs": [
        {
          "output_type": "stream",
          "name": "stdout",
          "text": [
            "Mounted at /content/drive\n"
          ]
        }
      ]
    },
    {
      "cell_type": "code",
      "source": [
        "## set your data path\n",
        "data_path = <your data path here>"
      ],
      "metadata": {
        "id": "wYotc44f1yut"
      },
      "id": "wYotc44f1yut",
      "execution_count": null,
      "outputs": []
    },
    {
      "cell_type": "code",
      "execution_count": null,
      "id": "086b0c2a-4dc6-4ff9-8b76-455d3eb1e349",
      "metadata": {
        "id": "086b0c2a-4dc6-4ff9-8b76-455d3eb1e349"
      },
      "outputs": [],
      "source": [
        "# set random seed for reproducibility\n",
        "seed = 42\n",
        "np.random.seed(seed)"
      ]
    },
    {
      "cell_type": "code",
      "execution_count": null,
      "id": "7102196d-14e4-4f5d-847f-49c94e235f14",
      "metadata": {
        "scrolled": true,
        "colab": {
          "base_uri": "https://localhost:8080/",
          "height": 363
        },
        "id": "7102196d-14e4-4f5d-847f-49c94e235f14",
        "outputId": "cdeea17d-709e-4820-9bf7-2341285a2975"
      },
      "outputs": [
        {
          "output_type": "execute_result",
          "data": {
            "text/plain": [
              "                                                   text  target\n",
              "677   Thankyou for helping read the results for the ...   False\n",
              "1591  Congratulations on your remarkable achievement...   False\n",
              "984   This is in recognition of the amazing job you ...   False\n",
              "607   Allison, I want to thank and recognize for all...   False\n",
              "1392  John,  I want to thank you for the incredible ...   False\n",
              "1033  Guys ,everyone showed their metal today in exc...   False\n",
              "1583  Your kindness does not go unnoticed and I want...   False\n",
              "1309  Margarita, I couldn't think of a better exampl...   False\n",
              "1628  Thanks so much for all of the support as of la...   False\n",
              "271   Congratulations on your recent work anniversar...   False"
            ],
            "text/html": [
              "\n",
              "  <div id=\"df-bc2649ce-a181-49fc-82e2-c587a30792f8\" class=\"colab-df-container\">\n",
              "    <div>\n",
              "<style scoped>\n",
              "    .dataframe tbody tr th:only-of-type {\n",
              "        vertical-align: middle;\n",
              "    }\n",
              "\n",
              "    .dataframe tbody tr th {\n",
              "        vertical-align: top;\n",
              "    }\n",
              "\n",
              "    .dataframe thead th {\n",
              "        text-align: right;\n",
              "    }\n",
              "</style>\n",
              "<table border=\"1\" class=\"dataframe\">\n",
              "  <thead>\n",
              "    <tr style=\"text-align: right;\">\n",
              "      <th></th>\n",
              "      <th>text</th>\n",
              "      <th>target</th>\n",
              "    </tr>\n",
              "  </thead>\n",
              "  <tbody>\n",
              "    <tr>\n",
              "      <th>677</th>\n",
              "      <td>Thankyou for helping read the results for the ...</td>\n",
              "      <td>False</td>\n",
              "    </tr>\n",
              "    <tr>\n",
              "      <th>1591</th>\n",
              "      <td>Congratulations on your remarkable achievement...</td>\n",
              "      <td>False</td>\n",
              "    </tr>\n",
              "    <tr>\n",
              "      <th>984</th>\n",
              "      <td>This is in recognition of the amazing job you ...</td>\n",
              "      <td>False</td>\n",
              "    </tr>\n",
              "    <tr>\n",
              "      <th>607</th>\n",
              "      <td>Allison, I want to thank and recognize for all...</td>\n",
              "      <td>False</td>\n",
              "    </tr>\n",
              "    <tr>\n",
              "      <th>1392</th>\n",
              "      <td>John,  I want to thank you for the incredible ...</td>\n",
              "      <td>False</td>\n",
              "    </tr>\n",
              "    <tr>\n",
              "      <th>1033</th>\n",
              "      <td>Guys ,everyone showed their metal today in exc...</td>\n",
              "      <td>False</td>\n",
              "    </tr>\n",
              "    <tr>\n",
              "      <th>1583</th>\n",
              "      <td>Your kindness does not go unnoticed and I want...</td>\n",
              "      <td>False</td>\n",
              "    </tr>\n",
              "    <tr>\n",
              "      <th>1309</th>\n",
              "      <td>Margarita, I couldn't think of a better exampl...</td>\n",
              "      <td>False</td>\n",
              "    </tr>\n",
              "    <tr>\n",
              "      <th>1628</th>\n",
              "      <td>Thanks so much for all of the support as of la...</td>\n",
              "      <td>False</td>\n",
              "    </tr>\n",
              "    <tr>\n",
              "      <th>271</th>\n",
              "      <td>Congratulations on your recent work anniversar...</td>\n",
              "      <td>False</td>\n",
              "    </tr>\n",
              "  </tbody>\n",
              "</table>\n",
              "</div>\n",
              "    <div class=\"colab-df-buttons\">\n",
              "\n",
              "  <div class=\"colab-df-container\">\n",
              "    <button class=\"colab-df-convert\" onclick=\"convertToInteractive('df-bc2649ce-a181-49fc-82e2-c587a30792f8')\"\n",
              "            title=\"Convert this dataframe to an interactive table.\"\n",
              "            style=\"display:none;\">\n",
              "\n",
              "  <svg xmlns=\"http://www.w3.org/2000/svg\" height=\"24px\" viewBox=\"0 -960 960 960\">\n",
              "    <path d=\"M120-120v-720h720v720H120Zm60-500h600v-160H180v160Zm220 220h160v-160H400v160Zm0 220h160v-160H400v160ZM180-400h160v-160H180v160Zm440 0h160v-160H620v160ZM180-180h160v-160H180v160Zm440 0h160v-160H620v160Z\"/>\n",
              "  </svg>\n",
              "    </button>\n",
              "\n",
              "  <style>\n",
              "    .colab-df-container {\n",
              "      display:flex;\n",
              "      gap: 12px;\n",
              "    }\n",
              "\n",
              "    .colab-df-convert {\n",
              "      background-color: #E8F0FE;\n",
              "      border: none;\n",
              "      border-radius: 50%;\n",
              "      cursor: pointer;\n",
              "      display: none;\n",
              "      fill: #1967D2;\n",
              "      height: 32px;\n",
              "      padding: 0 0 0 0;\n",
              "      width: 32px;\n",
              "    }\n",
              "\n",
              "    .colab-df-convert:hover {\n",
              "      background-color: #E2EBFA;\n",
              "      box-shadow: 0px 1px 2px rgba(60, 64, 67, 0.3), 0px 1px 3px 1px rgba(60, 64, 67, 0.15);\n",
              "      fill: #174EA6;\n",
              "    }\n",
              "\n",
              "    .colab-df-buttons div {\n",
              "      margin-bottom: 4px;\n",
              "    }\n",
              "\n",
              "    [theme=dark] .colab-df-convert {\n",
              "      background-color: #3B4455;\n",
              "      fill: #D2E3FC;\n",
              "    }\n",
              "\n",
              "    [theme=dark] .colab-df-convert:hover {\n",
              "      background-color: #434B5C;\n",
              "      box-shadow: 0px 1px 3px 1px rgba(0, 0, 0, 0.15);\n",
              "      filter: drop-shadow(0px 1px 2px rgba(0, 0, 0, 0.3));\n",
              "      fill: #FFFFFF;\n",
              "    }\n",
              "  </style>\n",
              "\n",
              "    <script>\n",
              "      const buttonEl =\n",
              "        document.querySelector('#df-bc2649ce-a181-49fc-82e2-c587a30792f8 button.colab-df-convert');\n",
              "      buttonEl.style.display =\n",
              "        google.colab.kernel.accessAllowed ? 'block' : 'none';\n",
              "\n",
              "      async function convertToInteractive(key) {\n",
              "        const element = document.querySelector('#df-bc2649ce-a181-49fc-82e2-c587a30792f8');\n",
              "        const dataTable =\n",
              "          await google.colab.kernel.invokeFunction('convertToInteractive',\n",
              "                                                    [key], {});\n",
              "        if (!dataTable) return;\n",
              "\n",
              "        const docLinkHtml = 'Like what you see? Visit the ' +\n",
              "          '<a target=\"_blank\" href=https://colab.research.google.com/notebooks/data_table.ipynb>data table notebook</a>'\n",
              "          + ' to learn more about interactive tables.';\n",
              "        element.innerHTML = '';\n",
              "        dataTable['output_type'] = 'display_data';\n",
              "        await google.colab.output.renderOutput(dataTable, element);\n",
              "        const docLink = document.createElement('div');\n",
              "        docLink.innerHTML = docLinkHtml;\n",
              "        element.appendChild(docLink);\n",
              "      }\n",
              "    </script>\n",
              "  </div>\n",
              "\n",
              "\n",
              "<div id=\"df-82979afa-9c06-4c62-8aea-e8dd0c4423ed\">\n",
              "  <button class=\"colab-df-quickchart\" onclick=\"quickchart('df-82979afa-9c06-4c62-8aea-e8dd0c4423ed')\"\n",
              "            title=\"Suggest charts\"\n",
              "            style=\"display:none;\">\n",
              "\n",
              "<svg xmlns=\"http://www.w3.org/2000/svg\" height=\"24px\"viewBox=\"0 0 24 24\"\n",
              "     width=\"24px\">\n",
              "    <g>\n",
              "        <path d=\"M19 3H5c-1.1 0-2 .9-2 2v14c0 1.1.9 2 2 2h14c1.1 0 2-.9 2-2V5c0-1.1-.9-2-2-2zM9 17H7v-7h2v7zm4 0h-2V7h2v10zm4 0h-2v-4h2v4z\"/>\n",
              "    </g>\n",
              "</svg>\n",
              "  </button>\n",
              "\n",
              "<style>\n",
              "  .colab-df-quickchart {\n",
              "      --bg-color: #E8F0FE;\n",
              "      --fill-color: #1967D2;\n",
              "      --hover-bg-color: #E2EBFA;\n",
              "      --hover-fill-color: #174EA6;\n",
              "      --disabled-fill-color: #AAA;\n",
              "      --disabled-bg-color: #DDD;\n",
              "  }\n",
              "\n",
              "  [theme=dark] .colab-df-quickchart {\n",
              "      --bg-color: #3B4455;\n",
              "      --fill-color: #D2E3FC;\n",
              "      --hover-bg-color: #434B5C;\n",
              "      --hover-fill-color: #FFFFFF;\n",
              "      --disabled-bg-color: #3B4455;\n",
              "      --disabled-fill-color: #666;\n",
              "  }\n",
              "\n",
              "  .colab-df-quickchart {\n",
              "    background-color: var(--bg-color);\n",
              "    border: none;\n",
              "    border-radius: 50%;\n",
              "    cursor: pointer;\n",
              "    display: none;\n",
              "    fill: var(--fill-color);\n",
              "    height: 32px;\n",
              "    padding: 0;\n",
              "    width: 32px;\n",
              "  }\n",
              "\n",
              "  .colab-df-quickchart:hover {\n",
              "    background-color: var(--hover-bg-color);\n",
              "    box-shadow: 0 1px 2px rgba(60, 64, 67, 0.3), 0 1px 3px 1px rgba(60, 64, 67, 0.15);\n",
              "    fill: var(--button-hover-fill-color);\n",
              "  }\n",
              "\n",
              "  .colab-df-quickchart-complete:disabled,\n",
              "  .colab-df-quickchart-complete:disabled:hover {\n",
              "    background-color: var(--disabled-bg-color);\n",
              "    fill: var(--disabled-fill-color);\n",
              "    box-shadow: none;\n",
              "  }\n",
              "\n",
              "  .colab-df-spinner {\n",
              "    border: 2px solid var(--fill-color);\n",
              "    border-color: transparent;\n",
              "    border-bottom-color: var(--fill-color);\n",
              "    animation:\n",
              "      spin 1s steps(1) infinite;\n",
              "  }\n",
              "\n",
              "  @keyframes spin {\n",
              "    0% {\n",
              "      border-color: transparent;\n",
              "      border-bottom-color: var(--fill-color);\n",
              "      border-left-color: var(--fill-color);\n",
              "    }\n",
              "    20% {\n",
              "      border-color: transparent;\n",
              "      border-left-color: var(--fill-color);\n",
              "      border-top-color: var(--fill-color);\n",
              "    }\n",
              "    30% {\n",
              "      border-color: transparent;\n",
              "      border-left-color: var(--fill-color);\n",
              "      border-top-color: var(--fill-color);\n",
              "      border-right-color: var(--fill-color);\n",
              "    }\n",
              "    40% {\n",
              "      border-color: transparent;\n",
              "      border-right-color: var(--fill-color);\n",
              "      border-top-color: var(--fill-color);\n",
              "    }\n",
              "    60% {\n",
              "      border-color: transparent;\n",
              "      border-right-color: var(--fill-color);\n",
              "    }\n",
              "    80% {\n",
              "      border-color: transparent;\n",
              "      border-right-color: var(--fill-color);\n",
              "      border-bottom-color: var(--fill-color);\n",
              "    }\n",
              "    90% {\n",
              "      border-color: transparent;\n",
              "      border-bottom-color: var(--fill-color);\n",
              "    }\n",
              "  }\n",
              "</style>\n",
              "\n",
              "  <script>\n",
              "    async function quickchart(key) {\n",
              "      const quickchartButtonEl =\n",
              "        document.querySelector('#' + key + ' button');\n",
              "      quickchartButtonEl.disabled = true;  // To prevent multiple clicks.\n",
              "      quickchartButtonEl.classList.add('colab-df-spinner');\n",
              "      try {\n",
              "        const charts = await google.colab.kernel.invokeFunction(\n",
              "            'suggestCharts', [key], {});\n",
              "      } catch (error) {\n",
              "        console.error('Error during call to suggestCharts:', error);\n",
              "      }\n",
              "      quickchartButtonEl.classList.remove('colab-df-spinner');\n",
              "      quickchartButtonEl.classList.add('colab-df-quickchart-complete');\n",
              "    }\n",
              "    (() => {\n",
              "      let quickchartButtonEl =\n",
              "        document.querySelector('#df-82979afa-9c06-4c62-8aea-e8dd0c4423ed button');\n",
              "      quickchartButtonEl.style.display =\n",
              "        google.colab.kernel.accessAllowed ? 'block' : 'none';\n",
              "    })();\n",
              "  </script>\n",
              "</div>\n",
              "\n",
              "    </div>\n",
              "  </div>\n"
            ],
            "application/vnd.google.colaboratory.intrinsic+json": {
              "type": "dataframe",
              "summary": "{\n  \"name\": \"df\",\n  \"rows\": 10,\n  \"fields\": [\n    {\n      \"column\": \"text\",\n      \"properties\": {\n        \"dtype\": \"string\",\n        \"num_unique_values\": 10,\n        \"samples\": [\n          \"Thanks so much for all of the support as of late. *Some* of the highlights are: navigating our high amount of project and task requests for January, digesting the diary studies, Allianz conversations, creating aims and OKRs, Terra goal setup conversations, working with us on our PDPs, guiding us with answers on the new reflection process and always making time for us to have social catchups - there has been a lot going on!! I am pretty sure that's not even half of it \\ufffd\\ufffd. How you find time for all this with your daily commitments and meetings is beyond me \\ufffd\\ufffd  You do it all with such calm which creates a safe and enjoyable work environment for us. If we have any issues, we know straight away that we can chat with you and you can give us a level-headed chat!! I don't think any message that I write can really communicate how amazing a manager you are, but I hope you know how much we all appreciate you!! We're super lucky to have you and thanks again for all your support each day \\ufffd\\ufffd\",\n          \"Congratulations on your remarkable achievement of earning a master's degree in \\\"Leadership Behaviors that Foster Psychological Safety in the Workplace\\\"! Your dedication and hard work are truly commendable. On behalf of our Team Insights and Admin hub, I extend warm wishes for your accomplishment. You are an inspiration, mastering such a complex yet vital subject and demonstrating a profound understanding. Your ability to expand and implement a psychologically safe environment at work is truly commendable. You've set a high standard for excellence. Well done!\",\n          \"Guys ,everyone showed their metal today in exceptional circumstances .Despite working in unusual locations and this with no issue because of your previous home testing ,you contacted hundreds of suppliers and already have responses from 100 + .We are safe in our supply base and links forged to ensure customers will be well supplied .Our other partners are also aligned (CS,AP,FF) so we can focus on the important stuff.Great job.\"\n        ],\n        \"semantic_type\": \"\",\n        \"description\": \"\"\n      }\n    },\n    {\n      \"column\": \"target\",\n      \"properties\": {\n        \"dtype\": \"boolean\",\n        \"num_unique_values\": 1,\n        \"samples\": [\n          false\n        ],\n        \"semantic_type\": \"\",\n        \"description\": \"\"\n      }\n    }\n  ]\n}"
            }
          },
          "metadata": {},
          "execution_count": 5
        }
      ],
      "source": [
        "# upload data into pandas dataframe\n",
        "df = pd.read_csv(data_path)\n",
        "\n",
        "# sample 10 rows\n",
        "df.sample(10)"
      ]
    },
    {
      "cell_type": "markdown",
      "id": "c9c2c98a",
      "metadata": {
        "id": "c9c2c98a"
      },
      "source": [
        "## Exploratory Data Analysis"
      ]
    },
    {
      "cell_type": "code",
      "execution_count": null,
      "id": "be29f951",
      "metadata": {
        "colab": {
          "base_uri": "https://localhost:8080/"
        },
        "id": "be29f951",
        "outputId": "2ed0a81b-cd77-42d6-8eeb-2bfb876cf382"
      },
      "outputs": [
        {
          "output_type": "execute_result",
          "data": {
            "text/plain": [
              "array([\"Ladies, it has been a whirlwind the last 3 months of planning, organizing, pivoting ideas, gathering all the most important parts to make sure the experience is smooth and safe! Art Work, Registration, spreadsheets, vendors, shipping, and SUCCESS! Teamwork is what comes from this group and can always make sure there is so much LOVE that goes into each step! Thanks again for being Rockstar's  and making this the best team in the company! We have an award to prove it!\",\n",
              "       \"They say behind every good man is a great woman. The same can definitely be said of FE engineers and QA/Automation engineers! I'm constantly grateful for having such a strong safety net to fall back on, so felt it is only worthwhile to share my thanks given the day that's in it. I have every confidence going to production for our first customers knowing that it has been thoroughly checked by hand and is backed up by a comprehensive suite of automation tests.\",\n",
              "       'Danielle has consistently checked in on me - \"happy day 1, happy day 2 , happy day 3\" exc since I started and I\\'m so thankful! She went out of her way to make me feel seen and welcomed during my first week, whether it was directly or during a meeting to introduce me. During our first 1:1 she set expectations of the first few weeks, talked through teams I will be working with, told me my buddy and my team lead and simply asked how I was adjusting. She provided guidance, a plan and created a safe space right off the bat, thank you so much!',\n",
              "       'I want to take a moment to recognize your accomplishment of completing the BGL qualification process within your first year of joining the MBO Team. The drive and dedication it took to complete this qualification process in such a truncated timeframe displays a commitment to LM and our Navy partner that burns with the intensity of a thousands suns. Outstanding job Jaclyn!',\n",
              "       'Thank you for always being there when we needed you :)',\n",
              "       'Ray, I would like to commend your leadership to myself and the team over the last few weeks and months. Unwavering focus on security , process improvement , process and procedural enhancement and progression. We finally got to start your plan on the new team structure so we can again improve efficiency and how we work. Thanks for everything!',\n",
              "       'Congratulations Sudhanshu on winning Partner Manager of Q4 FY22 :)',\n",
              "       'Thank you for executing a stellar end-of-year team meeting, Jen! You crushed the pre-game prep by sending us all the plays we needed to learn ahead of time; you made sure our uniforms looked sharp; you ensured that our nutrition and hydration needs were met (athletes must stay hydrated after all!). Most importantly, you executed a strategic game plan, played referee when things got messy, threw a few flags, and went FAR out of your way to include those of us who weren’t able to attend in person. Your leadership is remarkable. SA is fired up and ready to break records in 2022!',\n",
              "       'I am absolutely delighted to welcome Jamie Olieslagers to our Customer Service team!! �� Jamie will be supporting our English and Dutch-speaking customers in the morning shift. Please, join me in giving Jamie a warm welcome to our Workhuman Family! Here are a few words from Jamie:  \"Hi all,  I’m Jamie new to Workhuman and happy to be here. I live now for almost 4 years in Ireland with my own family and dog. I love comedy and jokes. I am a friendly person who is always open to help others. If you need any help, please let me know. I was born in the Netherlands and lived there for 26 years. I also lived 2 years in Brazil. I love spending time with my son and have some adventure together and explore new places. My hobbies are football, boxing and walking in the nature. If you want to know more about me, just send me a message!\"',\n",
              "       'thanks for arranging to block alerting on the Dublin infrastructure systems tomorrow while I am performing system maintenance.  this should help reduce noise and interference while i am attending to some hardware upgrades.  ',\n",
              "       'Thanks for your coach and guidance on my new role, which accelerates my growth and development.',\n",
              "       'Thank you for always taking care of things with a positive attitude and a smile. Blend is lucky to have you. Thanks a million',\n",
              "       \"Thanks to each of you for your participation in the 2022.3 release! I won't do justice in this message to the hard work you each put in preparing and ultimately delivering this release it suffices to say it couldn't of happened without you! From replacing one of our dedicated intercloud links between AWS and OCI, updating and patching mission critical and legacy systems, resolving legacy security issues, scaling up our Epicor stack for our peak season to resolving shutdown issues in ECS this release was jam packed and had it all and some!!  Well done to each of you on another successful release!\",\n",
              "       \"I would like to thank the organizers of Africa Day for such superb work. Their efforts enabled many LinkedIn's members to feel seen, be a part of community and celebrated their heritage. It was a truly special moment.\",\n",
              "       'Richa, great work on driving all the changes required in OM.',\n",
              "       'Guys - Respect and thanks for all the work you have put in to putting in place the new liquid files server as a means of securely delivering personal data to clients. It is no mean feat to embrace a new product, master it and implement it. From my perspective a particular thanks for how you took on all the many security aspects of the product and ensured that we put in place the most secure config that met the business need!! Well Done! ',\n",
              "       \"Thank you for creating an outstanding Ã¢â\\x82¬â\\x80\\x9c organization wide successful employee business resource group awareness event and collaborating across LINK and the EBRGs. Your efforts to make the Festival of Color/Celebration of Spring a success are recognized as going above and beyond to advance and contribute to Merck's Diversity & Inclusion priorities. The most colorful event hosted close to 200 employees, and you helped to make them feel welcome, guided them through various activities, and provided a fun break to the workday to connect with colleagues. Connecting to the business's priorities, this event helped to create a more inclusive and community-based work environment, sharing information and supporting the multiple cultures that make up our Merck community. Sent on behalf of the RY/NJ LINK leads.\",\n",
              "       'For your overall contribution in UVT project',\n",
              "       \"Thank you for volunteering to approve IT Project Accounting Je's and to walk through the Parkwood reporting. Your assistance was much appreciated at year end!\",\n",
              "       'I would like to express a huge congratulations on passing your driving test Chinmay. I was so delighted that you shared this news with me yesterday. I can already picture all the exciting road trips you will have. Wishing you many years of safe driving. Well done!'],\n",
              "      dtype=object)"
            ]
          },
          "metadata": {},
          "execution_count": 6
        }
      ],
      "source": [
        "# let's look at a random sample of the text column\n",
        "df['text'].sample(20).values"
      ]
    },
    {
      "cell_type": "markdown",
      "id": "73c9bf3f",
      "metadata": {
        "id": "73c9bf3f"
      },
      "source": [
        "Observations:\n",
        "* The text is not \"clean\". We can see by random sampling, there are common issues such as:\n",
        "  1. Upper case and lower case -- the text is not \"normalized\" which isn't helpful for any NLP machine learning project unless we were using a transformer such as Bert-base-uncased which does not distinguish between uppercase and lowercase words.\n",
        "  2. punctuation\n",
        "  3. stop words\n",
        "  4. special characters\n",
        "  5. white space\n",
        "  6. acronyms and abbreviations and 'slang' terms\n",
        "  7. emoticons (maybe emojis too?)\n",
        "\n",
        "* If the sentence embeddings were created using the text in this manner without pre-processing or tokenization, I wonder if the embeddings are actually accurate or useful? Yes we are using SBERT sentence transformers which are great at capturing long dependencies as well as subword/wordpiece tokenization so in theory we could assume the embeddings are an accurate depiction of the vector space of our text.\n",
        "* However, some of the observations I mentioned above can increase the dimensionality of the vector space and take away from the machine learning model's ability to predict the important semantic entities in the dataset.\n",
        "\n",
        "\n",
        "Plan:\n",
        "* We should look further at the data including, checking for:\n",
        "1. Target class imbalance which can bias the machine learning model predictions.\n",
        "2. Word Frequencies in the dataset. Is the dataset dominated by stop words? Since this is a classification task we may want to think about removing them (just a thought).\n",
        "3. We could perform \"Topic Modeling\" just to get an idea of the dominant topics in the text before we make our predictions, but it's not necessary."
      ]
    },
    {
      "cell_type": "code",
      "execution_count": null,
      "id": "420dbaa9",
      "metadata": {
        "colab": {
          "base_uri": "https://localhost:8080/"
        },
        "id": "420dbaa9",
        "outputId": "e937941b-4b38-462e-9ad9-96760c0f6fc4"
      },
      "outputs": [
        {
          "output_type": "stream",
          "name": "stdout",
          "text": [
            "<class 'pandas.core.frame.DataFrame'>\n",
            "RangeIndex: 1638 entries, 0 to 1637\n",
            "Data columns (total 2 columns):\n",
            " #   Column  Non-Null Count  Dtype \n",
            "---  ------  --------------  ----- \n",
            " 0   text    1638 non-null   object\n",
            " 1   target  1638 non-null   bool  \n",
            "dtypes: bool(1), object(1)\n",
            "memory usage: 14.5+ KB\n"
          ]
        }
      ],
      "source": [
        "# df info\n",
        "df.info()"
      ]
    },
    {
      "cell_type": "code",
      "execution_count": null,
      "id": "981d0498",
      "metadata": {
        "colab": {
          "base_uri": "https://localhost:8080/"
        },
        "id": "981d0498",
        "outputId": "843a6566-42c9-420d-9cee-c6b5ccf88196"
      },
      "outputs": [
        {
          "output_type": "execute_result",
          "data": {
            "text/plain": [
              "text      0\n",
              "target    0\n",
              "dtype: int64"
            ]
          },
          "metadata": {},
          "execution_count": 8
        }
      ],
      "source": [
        "# check null values\n",
        "df.isnull().sum()"
      ]
    },
    {
      "cell_type": "code",
      "execution_count": null,
      "id": "5fd83112-d554-4521-8d5b-1dda0fcc5d61",
      "metadata": {
        "colab": {
          "base_uri": "https://localhost:8080/"
        },
        "id": "5fd83112-d554-4521-8d5b-1dda0fcc5d61",
        "outputId": "2eb946ea-133d-4c38-bb17-027a26180a3a"
      },
      "outputs": [
        {
          "output_type": "stream",
          "name": "stdout",
          "text": [
            "Shape of dataframe is: (1638, 2)\n",
            "Number of unique values are: 1638\n"
          ]
        }
      ],
      "source": [
        "# check df shape and number of unique values in text column\n",
        "print(f\"Shape of dataframe is: {df.shape}\")\n",
        "\n",
        "print(f\"Number of unique values are: {df['text'].nunique()}\")"
      ]
    },
    {
      "cell_type": "code",
      "execution_count": null,
      "id": "c038879f",
      "metadata": {
        "colab": {
          "base_uri": "https://localhost:8080/"
        },
        "id": "c038879f",
        "outputId": "c386ef0a-51c1-4a4a-c97c-34e2c7d6dc8e"
      },
      "outputs": [
        {
          "output_type": "stream",
          "name": "stdout",
          "text": [
            "target\n",
            "False    1393\n",
            "True      245\n",
            "Name: count, dtype: int64\n"
          ]
        }
      ],
      "source": [
        "# let's check the target column value_counts before we transform them\n",
        "# we know its a bool dtype but just to be sure\n",
        "print(df['target'].value_counts())"
      ]
    },
    {
      "cell_type": "markdown",
      "id": "28663b29",
      "metadata": {
        "id": "28663b29"
      },
      "source": [
        "Summary: Great, we confirmed that the Target column has just 2 bool values True and False, let's proceed with labeling them as 1 for True and 0 for False which is ideal for our binary classification prediction task."
      ]
    },
    {
      "cell_type": "code",
      "execution_count": null,
      "id": "86f6b3cb",
      "metadata": {
        "id": "86f6b3cb"
      },
      "outputs": [],
      "source": [
        "# transform target column values to 0 and 1\n",
        "df['target'] = df['target'].map({False: 0, True: 1})"
      ]
    },
    {
      "cell_type": "code",
      "execution_count": null,
      "id": "79e828c9-5a59-497b-805a-1692ae15c793",
      "metadata": {
        "colab": {
          "base_uri": "https://localhost:8080/"
        },
        "id": "79e828c9-5a59-497b-805a-1692ae15c793",
        "outputId": "42b92b07-8bfc-4e4d-becf-36fea22748f0"
      },
      "outputs": [
        {
          "output_type": "execute_result",
          "data": {
            "text/plain": [
              "target\n",
              "0    1393\n",
              "1     245\n",
              "Name: count, dtype: int64"
            ]
          },
          "metadata": {},
          "execution_count": 12
        }
      ],
      "source": [
        "# now check the target column value_counts\n",
        "df[\"target\"].value_counts()"
      ]
    },
    {
      "cell_type": "markdown",
      "source": [
        "### Plot the Target Column Value Counts\n",
        "* Let's plot this so we can see a visualization of the target class imbalance."
      ],
      "metadata": {
        "id": "f9S3vSuLArXO"
      },
      "id": "f9S3vSuLArXO"
    },
    {
      "cell_type": "code",
      "execution_count": null,
      "id": "37bc87d9",
      "metadata": {
        "colab": {
          "base_uri": "https://localhost:8080/",
          "height": 472
        },
        "id": "37bc87d9",
        "outputId": "ea9e19a5-219b-451e-a3b6-902e47758589"
      },
      "outputs": [
        {
          "output_type": "display_data",
          "data": {
            "text/plain": [
              "<Figure size 640x480 with 1 Axes>"
            ],
            "image/png": "[encoded data removed]"
          },
          "metadata": {}
        }
      ],
      "source": [
        "# plot the target class imbalance\n",
        "value_counts = df['target'].value_counts()\n",
        "value_counts.plot(kind='bar', color=['skyblue', 'salmon'])\n",
        "plt.title('Target Column Value Counts')\n",
        "plt.xticks(ticks=range(len(value_counts)), labels=['False','True'], rotation=0)\n",
        "plt.xlabel('Target')\n",
        "plt.ylabel('Count')\n",
        "plt.show();"
      ]
    },
    {
      "cell_type": "markdown",
      "id": "a127874c-6026-46dc-985d-78ab3fd0cd68",
      "metadata": {
        "id": "a127874c-6026-46dc-985d-78ab3fd0cd68"
      },
      "source": [
        "Summary:\n",
        "* This is a problem! There is significant imbalance in the target variable which can lead to significant bias in the modeling predictions.\n",
        "* Since it is unbalanced, lets upsample the less frequent class."
      ]
    },
    {
      "cell_type": "markdown",
      "id": "4c50cfc1",
      "metadata": {
        "id": "4c50cfc1"
      },
      "source": [
        "## Data Augmentation\n",
        "* I am going to take a different approach to augmenting the minority target class (1 or True).\n",
        "* The original provided code did not actually address the problem of class imbalance. The code simply separates the dataframe indices into 2 lists based on the target column values 0 or 1. Also, the code block below that uses np.random.choice is just creating an array of random indices without balancing the classes.\n",
        "\n",
        "### A better approach to upsampling would be to:\n",
        "1. Determine the size of the majority class.\n",
        "2. Use np.random.choice with replacement to sample indices from the minority class to match the size of the majority class.\n",
        "3. Concatenate the original majority class data with the upsampled minority class data to create a balanced DataFrame.\n",
        "\n",
        "* We could also use a technique like SMOTE (Synthetic Minority Over-sampling Technique) which generates synthetic examples of the minority class using the k-nearest neighbors of these cases. However, creating synthetic samples may not be ideal here."
      ]
    },
    {
      "cell_type": "code",
      "execution_count": null,
      "id": "b461b046",
      "metadata": {
        "id": "b461b046"
      },
      "outputs": [],
      "source": [
        "## import resample module from sklearn\n",
        "from sklearn.utils import resample"
      ]
    },
    {
      "cell_type": "code",
      "execution_count": null,
      "id": "dd92daed-c0e7-4231-8bd6-3927a6609fc3",
      "metadata": {
        "id": "dd92daed-c0e7-4231-8bd6-3927a6609fc3"
      },
      "outputs": [],
      "source": [
        "# Get counts of each target value\n",
        "#fifty_fifty_sample_amt = df['target'].value_counts().iloc[0]\n",
        "df_majority = df[df.target==0]\n",
        "df_minority = df[df.target==1]"
      ]
    },
    {
      "cell_type": "code",
      "execution_count": null,
      "id": "4385aea9-4db4-492b-a1ae-7c7df2358be5",
      "metadata": {
        "colab": {
          "base_uri": "https://localhost:8080/"
        },
        "id": "4385aea9-4db4-492b-a1ae-7c7df2358be5",
        "outputId": "3b190b13-7f6e-4879-ce8a-2b01429e0710"
      },
      "outputs": [
        {
          "output_type": "stream",
          "name": "stdout",
          "text": [
            "Shape of majority class: (1393, 2)\n",
            "Shape of minority class: (245, 2)\n"
          ]
        }
      ],
      "source": [
        "# Let's look at the shape of the classes\n",
        "print(f\"Shape of majority class: {df_majority.shape}\")\n",
        "print(f\"Shape of minority class: {df_minority.shape}\")"
      ]
    },
    {
      "cell_type": "code",
      "execution_count": null,
      "id": "4e4080c2",
      "metadata": {
        "id": "4e4080c2"
      },
      "outputs": [],
      "source": [
        "# Upsample minority class\n",
        "df_minority_upsampled = resample(df_minority,\n",
        "                                 replace=True, # sample with replacement\n",
        "                                 n_samples=len(df_majority), # match number in majority class\n",
        "                                 random_state=seed) # reproducible results"
      ]
    },
    {
      "cell_type": "code",
      "execution_count": null,
      "id": "ac64e8b9-1d9b-43d4-870a-d543b262df15",
      "metadata": {
        "id": "ac64e8b9-1d9b-43d4-870a-d543b262df15"
      },
      "outputs": [],
      "source": [
        "# now concatenate the new upsampled data\n",
        "df_upsampled = pd.concat([df_majority, df_minority_upsampled])"
      ]
    },
    {
      "cell_type": "code",
      "execution_count": null,
      "id": "3f04e38d-445c-4de9-b03b-56204685859f",
      "metadata": {
        "colab": {
          "base_uri": "https://localhost:8080/"
        },
        "id": "3f04e38d-445c-4de9-b03b-56204685859f",
        "outputId": "798c312e-2cb0-4a43-dc36-668146ecfca7"
      },
      "outputs": [
        {
          "output_type": "execute_result",
          "data": {
            "text/plain": [
              "target\n",
              "0    1393\n",
              "1    1393\n",
              "Name: count, dtype: int64"
            ]
          },
          "metadata": {},
          "execution_count": 22
        }
      ],
      "source": [
        "# now check the value counts\n",
        "df_upsampled[\"target\"].value_counts()"
      ]
    },
    {
      "cell_type": "markdown",
      "id": "532a5d19-c342-4441-bf39-5d39ebeaab66",
      "metadata": {
        "id": "532a5d19-c342-4441-bf39-5d39ebeaab66"
      },
      "source": [
        "Summary:\n",
        "* We have now upsampled the data using a bootstrap method (sampling with replacement)"
      ]
    },
    {
      "cell_type": "markdown",
      "id": "d4e681ec",
      "metadata": {
        "id": "d4e681ec"
      },
      "source": [
        "## EDA - Continued\n",
        "* Great, now we have upsampled the data and balanced the target prediction variables.\n",
        "* However, before I create the `train_test_split`, I want to look at 2 things:\n",
        "1. Word frequencies - as I mentioned above, I am curious as to the most frequent words in our corpus. Are they stop words? If so do we need to remove them?\n",
        "2. Text cleaning - as I mentioned above, the text is not entirely clean with noted:\n",
        "\n",
        "Upper case and lower case -- the text is not \"normalized\" which isn't helpful for any NLP machine learning project unless we were using a transformer such as Bert-base-uncased which does not distinguish between uppercase and lowercase words.\n",
        "  * punctuation\n",
        "  * stop words\n",
        "  * special characters\n",
        "  * white space\n",
        "  * acronyms and abbreviations and 'slang' terms\n",
        "  * emoticons (maybe emojis too?)\n",
        "\n",
        "\n",
        "\n",
        "#### Additional Notes I would like to share:\n",
        "* The acronyms, abbreviations and 'slang' terms as well as 'emoticons' and 'emojis' in the text could be further evaluated, as there are BERT based transformer models and even datasets or corpora to analyze, pre-process and perform text classification.\n",
        "* While I am not going to do that in this notebook, here are some example resources that could be used for this:\n",
        " * Emojis: https://towardsdatascience.com/emojis-aid-social-media-sentiment-analysis-stop-cleaning-them-out-bb32a1e5fc8e\n",
        " * Emojis: https://medium.com/@pokharelbikash981/nlp-era-analyzing-texts-with-emojis-fd1a75f81f0f\n",
        " * University of Toronto corpora of slang and urban dictionary terms used in social messages: https://www.cs.toronto.edu/~yangxu/data.html\n",
        " * Urban Dictionary Dataset: https://metatext.io/datasets/urban-dictionary-dataset\n",
        " * SOCBert: pre-trained transformer on twitter and reddit posts\n",
        "   * paper: https://aclanthology.org/2023.insights-1.5.pdf\n",
        "   * huggingface: https://huggingface.co/sarkerlab/SocBERT-base\n",
        "* Emoticon and Emoji Python library and corpus: https://github.com/NeelShah18/emot/tree/master"
      ]
    },
    {
      "cell_type": "markdown",
      "id": "33094278",
      "metadata": {
        "id": "33094278"
      },
      "source": [
        "## Word Frequencies\n",
        "* I am going to use the CountVectorizer from sklearn to get the most frequent words in the text.\n",
        "* I am going through this exercise to see what the most frequent words in the dataset are. My hypothesis is that the highest frequency are stop words. The purpose of this is to discuss whether or not to remove stop words, although I will discuss my reasons for vs. against removing stop words after this."
      ]
    },
    {
      "cell_type": "code",
      "execution_count": null,
      "id": "b8304f48",
      "metadata": {
        "id": "b8304f48"
      },
      "outputs": [],
      "source": [
        "from sklearn.feature_extraction.text import CountVectorizer"
      ]
    },
    {
      "cell_type": "code",
      "execution_count": null,
      "id": "98843a57",
      "metadata": {
        "colab": {
          "base_uri": "https://localhost:8080/"
        },
        "id": "98843a57",
        "outputId": "099792f0-590b-4ad1-e9b6-04895a3f0143"
      },
      "outputs": [
        {
          "output_type": "stream",
          "name": "stdout",
          "text": [
            "{'00': 1, '000': 10, '01405806': 1, '02': 1, '05': 1, '07901425': 7, '08': 1, '093': 1, '10': 16, '100': 52, '1000': 2, '100k': 2, '1010': 1, '10x': 1, '10years': 1, '11': 7, '110': 6, '11pm': 3, '11th': 1, '12': 19, '120': 2, '1200': 1, '125': 1, '1273': 1, '12c': 12, '12ps': 1, '13': 2, '130': 1, '1345': 1, '14': 2, '15': 9, '16': 2, '160': 1, '16th': 2, '17': 1, '18': 12, '1873': 1, '188': 3, '19': 24, '19th': 1, '1m': 1, '1s': 1, '1st': 10, '1x1': 1, '20': 18, '200': 1, '2000': 1, '2012': 1, '2017': 5, '2018': 1, '2019': 2, '2020': 19, '2021': 32, '2022': 46, '2023': 36, '2024': 10, '205': 8, '20k': 1, '21': 1, '2170': 1, '22': 15, '224': 1, '2256371a': 3, '22nd': 6, '23': 11, '24': 11, '24hrs': 1, '24r1': 1, '24x7': 1, '25': 2, '2500': 1, '26': 4, '27001': 18, '27th': 6, '28': 3, '29': 7, '29th': 1, '2fa': 4, '2m': 1, '2nd': 6, '2x': 1, '30': 7, '3000': 4, '30am': 2, '30k': 2, '30th': 1, '31': 2, '31st': 3, '33': 1, '350': 2, '3500': 1, '355ml': 1, '360': 2, '37': 3, '3am': 1, '3dx': 3, '3rd': 10, '40': 2, '400': 1, '401': 2, '403a': 5, '43': 1, '471': 1, '4am': 11, '4m': 1, '4qpf': 1, '4th': 1, '50': 22, '5000': 2, '50k': 2, '55': 2, '56': 1, '5s': 2, '5th': 2, '60': 2, '600k': 1, '60mins': 1, '60minutes': 1, '62': 1, '6290e8ba88763e9f7c937f56': 1, '66': 1, '6s': 3, '6sense': 1, '6x10': 8, '7006208407187681280': 1, '71': 4, '73062': 1, '74k': 1, '75': 5, '750': 1, '757': 1, '7e': 1, '7th': 1, '8020': 10, '84': 1, '8am': 1, '90': 5, '900': 1, '91': 1, '911': 1, '919tk': 1, '945': 1, '9466381862': 1, '947': 1, '95': 3, '99': 1, '9942': 4, '9am': 1, '9i': 1, '9pm': 1, 'a1': 1, 'a14': 1, 'aa': 1, 'aaron': 7, 'aav': 1, 'abandoned': 3, 'abbvie': 1, 'abel': 12, 'abha': 10, 'abilities': 6, 'ability': 60, 'able': 262, 'ably': 13, 'abm': 2, 'abner': 2, 'abnormal': 6, 'about': 231, 'above': 91, 'abreast': 2, 'absence': 9, 'absences': 1, 'absolute': 30, 'absolutely': 23, 'absorb': 1, 'absorbing': 1, 'abuse': 22, 'ac': 2, 'aca': 1, 'academically': 1, 'accelerate': 4, 'accelerates': 1, 'accelerating': 1, 'accent': 1, 'accenture': 11, 'accept': 4, 'acceptable': 2, 'acceptance': 2, 'accepted': 2, 'accepting': 3, 'access': 100, 'accessed': 1, 'accesses': 1, 'accessibility': 11, 'accessible': 6, 'accessing': 1, 'accident': 6, 'accidental': 5, 'accidentally': 4, 'accidently': 1, 'accidents': 9, 'acclimated': 1, 'accommodate': 3, 'accommodating': 6, 'accomplish': 5, 'accomplished': 20, 'accomplishing': 1, 'accomplishment': 7, 'accomplishments': 5, 'account': 50, 'accountability': 9, 'accountable': 4, 'accounted': 1, 'accounting': 4, 'accounts': 35, 'accrual': 1, 'accruals': 1, 'accumulate': 1, 'accumulated': 1, 'accumulating': 1, 'accuracy': 5, 'accurate': 7, 'accurately': 4, 'ace': 1, 'aced': 3, 'acheived': 1, 'achievable': 8, 'achieve': 37, 'achieved': 17, 'achievement': 19, 'achievements': 7, 'achievers': 1, 'achieves': 1, 'achieving': 16, 'achive': 1, 'aci': 1, 'acknowledge': 15, 'acknowledgement': 1, 'acknowledgment': 1, 'aco': 1, 'acquiring': 6, 'acquisition': 1, 'across': 79, 'act': 28, 'acted': 2, 'acting': 7, 'action': 82, 'actionable': 4, 'actioned': 1, 'actioning': 10, 'actions': 54, 'activate': 1, 'activated': 6, 'activation': 6, 'activations': 4, 'active': 78, 'actively': 8, 'activemq': 3, 'activities': 34, 'activity': 50, 'actor': 1, 'acts': 1, 'actual': 2, 'actually': 19, 'acumen': 1, 'ad': 11, 'adam': 10, 'adapt': 10, 'adaptability': 3, 'adapted': 5, 'adapters': 1, 'adapting': 3, 'adaptor': 2, 'adcetris': 1, 'add': 21, 'added': 17, 'addicted': 1, 'adding': 27, 'addition': 42, 'additional': 43, 'additionally': 7, 'additions': 2, 'address': 52, 'addressed': 21, 'addresses': 11, 'addressing': 17, 'adds': 2, 'adequate': 2, 'adequately': 5, 'adfs': 1, 'adhere': 1, 'adherence': 10, 'adherent': 1, 'adhering': 4, 'adhoc': 2, 'adjacent': 1, 'adjudication': 1, 'adjust': 5, 'adjusted': 2, 'adjusting': 2, 'adjustment': 1, 'adjustments': 2, 'adm': 1, 'adme': 1, 'admin': 30, 'administered': 1, 'administrative': 4, 'admins': 3, 'adminx': 3, 'admirable': 5, 'admiral': 2, 'admiration': 2, 'admire': 8, 'admired': 1, 'admirer': 2, 'admiring': 1, 'admission': 2, 'admissions': 2, 'admit': 2, 'admittedly': 1, 'admitting': 1, 'adobe': 1, 'adopt': 10, 'adopted': 1, 'adopting': 1, 'adoption': 2, 'adp': 29, 'adrian': 2, 'adriana': 1, 'adrianaâ': 1, 'adulting': 1, 'advance': 5, 'advanced': 1, 'advancement': 1, 'advancements': 2, 'advancing': 2, 'advent': 1, 'adventure': 1, 'adversity': 1, 'advertise': 1, 'advertising': 3, 'advice': 24, 'advices': 1, 'advise': 5, 'advised': 2, 'adviser': 8, 'advising': 7, 'advisor': 7, 'advocacy': 4, 'advocate': 6, 'advocated': 1, 'advocates': 1, 'advocating': 5, 'aero': 2, 'aes': 2, 'aesthetic': 1, 'aesthetically': 1, 'aesthetics': 1, 'affect': 16, 'affected': 16, 'affecting': 4, 'affects': 1, 'affinity': 1, 'afforded': 1, 'affords': 1, 'afll': 6, 'afloat': 2, 'afraid': 2, 'africa': 1, 'afs': 1, 'after': 119, 'afterhours': 1, 'afternoon': 19, 'aftership': 2, 'afterwards': 2, 'again': 225, 'against': 45, 'agat': 1, 'agency': 7, 'agenda': 12, 'agendas': 2, 'agents': 6, 'aggressive': 6, 'agi': 1, 'agile': 10, 'agility': 2, 'agin': 1, 'aging': 2, 'agitation': 1, 'ago': 19, 'agp': 1, 'agree': 4, 'agreeable': 2, 'agreed': 4, 'agreeing': 6, 'agreement': 3, 'agreements': 2, 'ah': 1, 'ahead': 33, 'ahm': 4, 'ahmad': 1, 'aht': 1, 'ai': 8, 'aib': 1, 'aid': 57, 'aidan': 9, 'aiders': 13, 'aides': 1, 'aids': 1, 'ailing': 3, 'aim': 6, 'aimee': 13, 'aims': 3, 'ain': 1, 'aine': 1, 'air': 12, 'aircraft': 1, 'airflow': 1, 'airplane': 1, 'airport': 1, 'aisle': 1, 'ajay': 1, 'ajit': 1, 'aka': 4, 'akram': 1, 'akshata': 1, 'al': 1, 'alan': 8, 'alarm': 9, 'alarms': 1, 'alas': 1, 'alba': 1, 'albeit': 2, 'albert': 2, 'alberto': 11, 'albumin': 2, 'alcoa': 1, 'alcohol': 1, 'aldt': 2, 'aleandro': 1, 'aleh': 2, 'aleks': 2, 'aleksandr': 1, 'aleksandre': 1, 'alena': 3, 'alert': 11, 'alerting': 42, 'alerts': 17, 'alex': 11, 'alexa': 1, 'alfie': 1, 'ali': 1, 'aliaksei': 1, 'alien': 1, 'alight': 1, 'align': 4, 'aligned': 22, 'aligning': 5, 'alignment': 13, 'aligns': 6, 'alike': 2, 'alina': 1, 'alison': 1, 'alive': 1, 'all': 1567, 'allan': 1, 'allen': 1, 'alleviate': 1, 'alley': 1, 'alliance': 4, 'allianz': 1, 'allies': 4, 'allison': 4, 'alllllllll': 1, 'allocation': 1, 'allot': 9, 'allotted': 1, 'allow': 54, 'allowed': 51, 'allowing': 37, 'allowlist': 5, 'allows': 25, 'allyson': 1, 'alma': 2, 'almost': 12, 'alone': 19, 'along': 60, 'alongside': 6, 'alot': 7, 'alpacas': 1, 'already': 73, 'alsco': 2, 'also': 374, 'alter': 1, 'alternative': 3, 'although': 20, 'altogether': 4, 'always': 367, 'alxn2021': 1, 'aly': 3, 'alysha': 1, 'am': 158, 'amanda': 17, 'amaze': 6, 'amazed': 4, 'amazement': 1, 'amazes': 1, 'amazing': 150, 'amazingly': 2, 'amazon': 2, 'ambassador': 2, 'ambassadors': 9, 'ambitious': 1, 'amea': 1, 'amendment': 1, 'amendments': 1, 'amends': 1, 'america': 2, 'american': 6, 'ames': 1, 'amgen': 1, 'amidst': 3, 'aml': 2, 'among': 7, 'amongst': 3, 'amount': 43, 'ample': 1, 'amplified': 1, 'amplify': 3, 'amplifying': 1, 'amr': 1, 'ams': 6, 'amy': 14, 'an': 743, 'ana': 4, 'analogies': 1, 'analogy': 1, 'analyse': 8, 'analyses': 10, 'analysing': 1, 'analysis': 25, 'analyst': 1, 'analysts': 7, 'analytic': 2, 'analytics': 6, 'analyze': 1, 'analyzing': 2, 'anaplan': 1, 'and': 8461, 'andie': 1, 'andrea': 7, 'andrei': 8, 'andrew': 4, 'andrews': 1, 'andro': 5, 'andy': 3, 'ang': 2, 'angela': 2, 'angelie': 1, 'angelou': 1, 'angie': 1, 'angle': 1, 'angles': 1, 'anh': 1, 'animals': 2, 'animations': 1, 'anisha': 1, 'ann': 7, 'anne': 3, 'annie': 1, 'anniversary': 3, 'annoy': 1, 'annoying': 1, 'annual': 11, 'annually': 1, 'annuals': 1, 'annulus': 1, 'anny': 1, 'anomalies': 1, 'anomolies': 4, 'anonymizer': 1, 'another': 68, 'anshul': 1, 'answer': 12, 'answered': 6, 'answering': 24, 'answers': 9, 'anthony': 2, 'anti': 15, 'anticipated': 4, 'antigens': 1, 'antoinette': 1, 'anton': 1, 'antonella': 1, 'antonio': 1, 'antony': 1, 'anup': 1, 'anurag': 1, 'anushri': 2, 'anxieties': 1, 'anxiety': 13, 'anxious': 1, 'any': 146, 'anymore': 1, 'anyone': 23, 'anything': 22, 'anytime': 3, 'anyway': 1, 'anz': 2, 'aoife': 1, 'aotw': 2, 'ap': 5, 'apa': 1, 'apac': 2, 'apart': 13, 'apc': 1, 'apdex': 1, 'apex': 1, 'api': 76, 'apic': 1, 'apis': 1, 'aplomb': 1, 'apoc': 1, 'apollo': 1, 'apologies': 5, 'apologize': 1, 'app': 37, 'app2': 1, 'apparent': 13, 'apparently': 1, 'appealed': 1, 'appear': 9, 'appeciated': 7, 'applaud': 10, 'applauding': 9, 'applause': 1, 'apple': 1, 'appleton': 1, 'applicable': 2, 'application': 7, 'applications': 26, 'applied': 7, 'apply': 8, 'applying': 18, 'appointment': 1, 'appraise': 1, 'appreciable': 1, 'appreciate': 537, 'appreciated': 249, 'appreciates': 5, 'appreciating': 1, 'appreciation': 26, 'appreciations': 1, 'appreciative': 16, 'apprised': 7, 'approach': 84, 'approachability': 1, 'approachable': 3, 'approached': 7, 'approaches': 3, 'approaching': 6, 'appropriate': 31, 'appropriately': 2, 'approval': 9, 'approvals': 1, 'approve': 2, 'approved': 8, 'apps': 1, 'april': 4, 'aprons': 1, 'apt': 2, 'apv': 1, 'ar': 5, 'aramark': 1, 'arann': 1, 'architect': 7, 'architecture': 8, 'archivelogs': 1, 'ard': 7, 'ardey': 1, 'arduous': 2, 'are': 920, 'area': 98, 'areas': 59, 'aren': 5, 'arena': 2, 'argentina': 1, 'arise': 1, 'aristotle': 1, 'arjun': 1, 'armoury': 6, 'army': 2, 'arnie': 3, 'arose': 2, 'around': 173, 'arrange': 2, 'arranged': 20, 'arrangement': 1, 'arranging': 19, 'arrival': 9, 'arrive': 10, 'arrived': 22, 'art': 7, 'article': 2, 'articles': 1, 'articulate': 2, 'artifacts': 1, 'artist': 1, 'artists': 1, 'arts': 1, 'artsem': 1, 'aruba': 8, 'arun': 1, 'as': 912, 'asana': 3, 'asap': 16, 'asc': 1, 'asco': 2, 'ase': 1, 'aseptic': 1, 'ashland': 4, 'ashley': 5, 'ashutosh': 1, 'asia': 2, 'asian': 2, 'aside': 5, 'asim': 2, 'ask': 42, 'asked': 54, 'asking': 22, 'asks': 13, 'aspect': 10, 'aspects': 28, 'aspiration': 1, 'aspirations': 2, 'aspire': 1, 'assassination': 1, 'assay': 2, 'assemblers': 1, 'assemblies': 1, 'assembly': 10, 'assess': 10, 'assessed': 1, 'assessment': 16, 'assessments': 13, 'asset': 38, 'assets': 23, 'assigned': 13, 'assigning': 1, 'assignment': 2, 'assignments': 2, 'assist': 29, 'assistance': 37, 'assisted': 9, 'assisting': 20, 'assists': 2, 'associate': 1, 'associated': 12, 'assortment': 1, 'assume': 2, 'assumptions': 3, 'assurance': 7, 'astonishing': 1, 'astounding': 1, 'astrid': 1, 'astronomy': 1, 'astutely': 1, 'at': 505, 'atds': 1, 'athena': 2, 'athens': 1, 'athletes': 1, 'atlassian': 1, 'atlo': 1, 'atmosphere': 5, 'atp': 9, 'atr': 1, 'attachment': 2, 'attack': 8, 'attackers': 4, 'attacks': 6, 'attempt': 14, 'attempting': 8, 'attempts': 4, 'attend': 15, 'attendance': 2, 'attended': 12, 'attendee': 1, 'attendees': 3, 'attending': 14, 'attention': 101, 'attentive': 4, 'attentiveness': 2, 'attitude': 48, 'attitudes': 1, 'attracting': 4, 'attribute': 7, 'attributed': 1, 'attributes': 4, 'attributions': 1, 'audience': 11, 'audiences': 1, 'audio': 2, 'audit': 90, 'audited': 1, 'auditor': 19, 'auditors': 9, 'audits': 28, 'audrey': 1, 'aug': 1, 'august': 10, 'augusta': 1, 'aup': 1, 'aurora': 1, 'austin': 4, 'australia': 4, 'auth': 4, 'authentic': 9, 'authentically': 3, 'authenticate': 12, 'authentication': 13, 'authenticity': 4, 'author': 1, 'authoring': 2, 'authorities': 2, 'authorized': 9, 'auto': 1, 'autobau': 2, 'autoclave': 8, 'automate': 1, 'automated': 20, 'automatically': 1, 'automation': 15, 'automations': 1, 'automotive': 1, 'autumn': 1, 'avail': 1, 'availability': 17, 'available': 53, 'avanade': 1, 'avd': 1, 'aveir': 1, 'average': 2, 'averse': 1, 'averting': 1, 'aviation': 3, 'aviso': 1, 'avod': 1, 'avoid': 15, 'avoided': 5, 'avoiding': 3, 'await': 5, 'awake': 1, 'award': 112, 'awards': 36, 'aware': 23, 'awareness': 135, 'away': 59, 'awe': 4, 'awesome': 23, 'awir': 2, 'aws': 39, 'awsras': 1, 'axl': 1, 'axspa': 2, 'az': 1, 'azd2936': 1, 'azeri': 13, 'azure': 4, 'b1': 1, 'b2': 3, 'baa': 2, 'baby': 4, 'back': 201, 'backed': 3, 'backend': 9, 'background': 23, 'backgrounds': 2, 'backing': 1, 'backlog': 18, 'backup': 6, 'backups': 1, 'bad': 18, 'badge': 4, 'badges': 18, 'bag': 3, 'bagave': 1, 'bags': 8, 'baie': 1, 'bain': 2, 'bake': 1, 'baker': 1, 'balance': 21, 'balanced': 2, 'balancing': 3, 'bali': 1, 'ball': 11, 'balloons': 1, 'balls': 1, 'bamboozled': 1, 'band': 1, 'bang': 2, 'bank': 7, 'banking': 2, 'banks': 3, 'banner': 1, 'banter': 1, 'baptism': 1, 'bar': 17, 'baraliakos': 1, 'barbz': 1, 'barceloneta': 1, 'barking': 1, 'barrier': 26, 'barriers': 6, 'barry': 1, 'base': 7, 'basecamp': 1, 'based': 27, 'baseline': 6, 'baselines': 1, 'bases': 2, 'basic': 1, 'basics': 1, 'basis': 19, 'basketball': 1, 'bass': 1, 'bastion': 8, 'bat': 4, 'batch': 11, 'batches': 6, 'batteries': 1, 'battery': 2, 'battle': 5, 'battled': 1, 'bau': 4, 'baxter': 2, 'bay': 4, 'bbr': 2, 'bbx': 1, 'bc': 1, 'bcp': 12, 'bcv': 1, 'bd': 2, 'bdr': 2, 'bdrsuccess': 1, 'bds': 1, 'be': 540, 'beach': 5, 'beacon': 3, 'beaming': 1, 'bear': 3, 'bearer': 7, 'bears': 1, 'beast': 5, 'beat': 5, 'beata': 1, 'beating': 1, 'beatings': 1, 'beaumont': 2, 'beautiful': 5, 'beautifully': 1, 'beauty': 3, 'beavering': 13, 'became': 2, 'because': 39, 'becca': 1, 'becky': 1, 'become': 41, 'becomes': 7, 'becoming': 3, 'bed': 1, 'been': 554, 'before': 75, 'began': 2, 'begin': 4, 'beginning': 8, 'behalf': 72, 'behave': 1, 'behavior': 9, 'behavioral': 4, 'behaviors': 5, 'behaviour': 8, 'behaviours': 1, 'behind': 38, 'behold': 1, 'being': 583, 'belarus': 13, 'belief': 8, 'believe': 33, 'believer': 2, 'believers': 3, 'believes': 3, 'bell': 4, 'belong': 2, 'belonging': 14, 'below': 4, 'ben': 22, 'benchmark': 4, 'beneficial': 8, 'benefit': 18, 'benefited': 1, 'benefits': 19, 'benefitted': 1, 'benzene': 8, 'bereavement': 1, 'bernadette': 1, 'bernardo': 2, 'beside': 9, 'besides': 1, 'bespoke': 1, 'best': 182, 'bet': 8, 'beth': 6, 'bethany': 1, 'bethinha': 1, 'bets': 1, 'better': 108, 'betterment': 1, 'between': 55, 'beverages': 2, 'beyond': 102, 'bff': 1, 'bgl': 1, 'bh': 1, 'bhcg': 1, 'bhm': 1, 'bi': 4, 'bias': 4, 'biases': 1, 'bid': 3, 'big': 135, 'bigger': 17, 'biggest': 7, 'bigrocksbigresults': 15, 'biker': 1, 'bill': 3, 'billed': 1, 'billy': 1, 'bind': 2, 'bingo': 2, 'bins': 2, 'biodiversity': 2, 'biogen': 3, 'biomarin': 1, 'bioremediation': 1, 'bios': 5, 'birgitta': 1, 'birst': 1, 'birth': 3, 'birthday': 1, 'bit': 53, 'bite': 2, 'bits': 7, 'biz': 2, 'black': 7, 'blah': 2, 'blake': 1, 'blame': 1, 'blanca': 4, 'blast': 1, 'blaze': 1, 'blazing': 8, 'blcokchain': 1, 'blend': 2, 'bless': 1, 'blessed': 3, 'blessings': 1, 'blinder': 3, 'blink': 1, 'blip': 1, 'blips': 1, 'block': 18, 'blocked': 2, 'blocker': 1, 'blockers': 3, 'blocking': 9, 'blog': 2, 'blood': 8, 'bloody': 1, 'blooming': 1, 'blossom': 1, 'blown': 4, 'blue': 4, 'bm': 1, 'bmc': 1, 'bms': 10, 'bny': 4, 'board': 18, 'boardroom': 1, 'boards': 1, 'boat': 2, 'boats': 1, 'bob': 1, 'bobbing': 1, 'bobby': 2, 'bobs': 6, 'boc': 7, 'body': 1, 'boeing': 2, 'bofa': 1, 'boi': 2, 'boil': 1, 'boiler': 1, 'boiling': 7, 'boise': 1, 'bold': 4, 'boldly': 1, 'bond': 1, 'bonded': 1, 'bonds': 1, 'bonk': 1, 'bonus': 8, 'boo': 1, 'book': 3, 'booking': 5, 'books': 9, 'boost': 1, 'boosting': 2, 'boot': 2, 'booth': 2, 'booths': 1, 'boots': 1, 'booz': 1, 'boring': 6, 'born': 4, 'borrow': 1, 'boss': 1, 'boston': 20, 'bot': 1, 'both': 284, 'bothersome': 1, 'bottlenecks': 1, 'bottom': 4, 'bounces': 1, 'boundaries': 4, 'bounded': 1, 'bounds': 1, 'bow': 1, 'bowls': 1, 'box': 21, 'boxed': 1, 'boxes': 6, 'boxing': 2, 'boys': 2, 'bp': 25, 'bpnz': 1, 'brady': 1, 'brahim': 1, 'brain': 8, 'brainboxes': 3, 'brainer': 1, 'brainpower': 2, 'brains': 5, 'brainstorming': 12, 'branch': 3, 'branching': 7, 'brand': 13, 'branding': 15, 'brandon': 3, 'brands': 3, 'brandy': 3, 'branson': 1, 'brasher': 1, 'brave': 2, 'bravely': 1, 'bravery': 1, 'bravo': 18, 'brazil': 4, 'brd': 1, 'breach': 19, 'breaches': 12, 'break': 18, 'breakage': 1, 'breakdown': 1, 'breaker': 1, 'breakfast': 1, 'breaking': 3, 'breakout': 2, 'breakouts': 1, 'breaks': 2, 'breath': 2, 'breathe': 2, 'breathing': 5, 'breeze': 2, 'brenda': 11, 'brendan': 4, 'brennan': 1, 'brené': 2, 'breon': 11, 'bret': 2, 'brevin': 1, 'breztri': 1, 'brgs': 1, 'brian': 28, 'brianna': 1, 'bridge': 10, 'bridges': 1, 'bridgewater': 1, 'bridging': 3, 'brie': 1, 'brief': 1, 'briefed': 1, 'briefing': 2, 'briefs': 1, 'brien': 1, 'brigham': 1, 'bright': 2, 'brighten': 1, 'brighter': 2, 'brightest': 1, 'brightly': 1, 'brilliance': 2, 'brilliant': 22, 'brilliantly': 1, 'bring': 74, 'bringing': 54, 'brings': 5, 'bringup': 1, 'brining': 1, 'brink': 1, 'british': 1, 'brittany': 1, 'broad': 7, 'broadband': 1, 'broadcasting': 1, 'broadening': 1, 'broader': 4, 'broke': 2, 'broken': 2, 'brokers': 2, 'brookdale': 1, 'brought': 26, 'brown': 2, 'browsers': 1, 'browsing': 1, 'bruna': 2, 'bruno': 6, 'brutal': 1, 'brv': 1, 'bryan': 3, 'bsi': 22, 'bt': 1, 'btw': 2, 'bu': 1, 'buchanan': 1, 'bucket': 2, 'buckling': 5, 'budapest': 1, 'buddies': 1, 'buddy': 3, 'budget': 6, 'budgets': 2, 'buffer': 5, 'bug': 23, 'bugs': 18, 'build': 32, 'building': 133, 'buildings': 10, 'builds': 2, 'built': 20, 'builtinboston': 1, 'buisness': 1, 'bulk': 3, 'bullet': 1, 'bullinger': 1, 'bummed': 1, 'bump': 1, 'bumper': 5, 'bumps': 2, 'bumpy': 4, 'bunch': 1, 'bunkering': 5, 'burden': 2, 'burdening': 8, 'burning': 5, 'burnout': 1, 'burns': 1, 'burnt': 1, 'bury': 2, 'bus': 6, 'busier': 1, 'busiest': 10, 'busily': 1, 'business': 205, 'busy': 68, 'busyness': 1, 'but': 561, 'butter': 1, 'button': 1, 'buttons': 14, 'butyl': 14, 'buy': 2, 'buyer': 1, 'buyers': 1, 'by': 399, 'byte': 1, 'c2_fp': 1, 'c3991004': 1, 'c420': 1, 'ca': 6, 'cab': 3, 'cabinet': 1, 'cabinetry': 1, 'cabinets': 1, 'cable': 6, 'cables': 1, 'caep': 1, 'caesar': 3, 'cafe': 2, 'cailte': 4, 'caique': 1, 'cairns': 1, 'caitriona': 1, 'cake': 2, 'calcs': 1, 'calculations': 2, 'caleb': 1, 'calendars': 1, 'calgary': 1, 'caliber': 1, 'call': 204, 'calla': 1, 'called': 16, 'calling': 3, 'calls': 26, 'callum': 1, 'calm': 32, 'calmed': 1, 'calming': 6, 'calmness': 5, 'cam': 2, 'camarada': 1, 'cambar': 1, 'cambridge': 3, 'came': 119, 'camera': 8, 'camle': 1, 'campaign': 17, 'campaigns': 7, 'campus': 8, 'camry': 1, 'can': 325, 'canada': 1, 'canadian': 1, 'cancellation': 3, 'cancelled': 5, 'candidate': 2, 'candidates': 3, 'candidly': 2, 'candor': 10, 'cannot': 40, 'cant': 3, 'canteen': 4, 'caoilte': 2, 'caoimhe': 1, 'cap': 1, 'capabilities': 2, 'capability': 4, 'capable': 5, 'capablity': 1, 'capacities': 1, 'capacity': 9, 'cape': 1, 'capital': 1, 'capitalize': 1, 'capitol': 1, 'cappuccinos': 2, 'captivating': 4, 'capture': 3, 'captured': 1, 'car': 5, 'cara': 1, 'carbon': 3, 'carboys': 1, 'card': 14, 'cardboard': 1, 'cardinal': 18, 'cards': 17, 'care': 84, 'career': 31, 'careers': 1, 'careful': 19, 'caregiver': 2, 'caregivers': 2, 'caren': 1, 'cares': 2, 'caretakers': 1, 'carey': 1, 'caring': 12, 'carla': 4, 'carlos': 1, 'carlosâ': 1, 'carlow': 1, 'carlson': 1, 'carmen': 1, 'carol': 1, 'carolina': 1, 'caroline': 1, 'carrie': 1, 'carried': 6, 'carrier': 2, 'carries': 5, 'carril': 1, 'carry': 12, 'carrying': 10, 'cars': 1, 'cart': 1, 'cartridges': 8, 'cascading': 1, 'case': 61, 'cases': 14, 'casey': 4, 'cash': 5, 'cashflow': 2, 'cass': 1, 'cassie': 5, 'cast': 1, 'casting': 1, 'castrol': 1, 'casual': 2, 'cat': 2, 'catalog': 5, 'catalogue': 1, 'catalogues': 7, 'catalyst': 1, 'catch': 25, 'catching': 15, 'catchups': 1, 'categories': 2, 'catering': 1, 'cath': 1, 'cathy': 2, 'cation': 7, 'cats': 1, 'caught': 11, 'cause': 16, 'caused': 27, 'causes': 3, 'causing': 1, 'cautious': 2, 'cautiously': 8, 'cb008278': 1, 'cb009919': 1, 'ccfs': 1, 'cchs': 1, 'ccps': 1, 'cctv': 2, 'cdd': 2, 'cdid': 1, 'cdkl5': 1, 'cdn': 5, 'ce': 4, 'cease': 6, 'cecile': 1, 'celebrate': 18, 'celebrated': 2, 'celebrates': 1, 'celebrating': 5, 'celebration': 8, 'celebrations': 6, 'celia': 5, 'cell': 4, 'cenca': 1, 'center': 9, 'centers': 2, 'central': 23, 'centralization': 1, 'centre': 1, 'centreon': 1, 'centric': 3, 'ceo': 8, 'ceos': 1, 'ceremony': 3, 'certain': 5, 'certainly': 32, 'certificate': 1, 'certificates': 16, 'certification': 9, 'certifications': 1, 'certified': 7, 'certify': 1, 'certs': 27, 'cf': 1, 'cft': 1, 'cglp': 6, 'cha': 1, 'chad': 1, 'chain': 24, 'chaired': 1, 'chairing': 2, 'chairs': 2, 'challenge': 63, 'challenged': 2, 'challenges': 86, 'challenging': 64, 'champ': 1, 'champagne': 2, 'champing': 1, 'champion': 9, 'championing': 8, 'champions': 5, 'chance': 13, 'chanel': 1, 'change': 49, 'changed': 7, 'changemakers': 1, 'changes': 96, 'changing': 23, 'channel': 24, 'channels': 8, 'chaos': 2, 'chapter': 8, 'chapters': 4, 'character': 1, 'characterization': 1, 'characterized': 1, 'charge': 3, 'chargeback': 8, 'chargebacks': 2, 'charger': 2, 'chargers': 1, 'charges': 3, 'charlette': 1, 'charlie': 1, 'charming': 1, 'chart': 1, 'chartering': 1, 'charts': 1, 'chasing': 9, 'chaslau': 1, 'chat': 13, 'chats': 2, 'chatted': 1, 'chatter': 2, 'chatting': 1, 'chb': 1, 'check': 46, 'checkbox': 1, 'checked': 7, 'checker': 3, 'checkers': 1, 'checking': 33, 'checklist': 18, 'checkout': 31, 'checkpoint': 1, 'checks': 11, 'cheena': 1, 'cheer': 2, 'cheered': 1, 'cheering': 1, 'cheerleader': 1, 'cheers': 43, 'chemical': 1, 'chengdu': 1, 'chep': 1, 'cherished': 1, 'cherry': 1, 'cheryl': 1, 'chesterton': 1, 'chetanya': 1, 'chew': 1, 'chicago': 1, 'chicken': 1, 'chief': 2, 'chieng': 1, 'child': 2, 'children': 2, 'chiller': 1, 'chilling': 1, 'chimed': 1, 'chin': 12, 'china': 6, 'chinmay': 1, 'chipped': 1, 'chipper': 1, 'chirag': 6, 'chirag1': 12, 'chitri': 1, 'chivis': 2, 'chocolates': 1, 'choice': 1, 'choices': 5, 'chomping': 1, 'choose': 1, 'choosing': 4, 'choosy': 3, 'chore': 8, 'chorus': 2, 'chris': 30, 'christa': 1, 'christie': 2, 'christina': 8, 'christine': 11, 'christmas': 14, 'christopher': 12, 'chro': 6, 'chuck': 2, 'chunk': 1, 'churn': 1, 'ci': 2, 'cian': 1, 'ciana': 2, 'ciciâ': 1, 'cii': 1, 'cindi': 2, 'cio': 2, 'ciona': 1, 'cip': 2, 'cipher': 7, 'circle': 2, 'circles': 2, 'circular': 9, 'circularity': 1, 'circulars': 4, 'circulating': 1, 'circulation': 5, 'circumstance': 1, 'circumstances': 16, 'circus': 1, 'cis': 3, 'cisco': 16, 'citi': 3, 'citizen': 1, 'citizens': 1, 'city': 3, 'cj': 1, 'claim': 1, 'claimant': 1, 'claims': 7, 'clair': 6, 'claire': 8, 'clare': 1, 'clarification': 2, 'clarifications': 1, 'clarified': 1, 'clarify': 2, 'clarifying': 1, 'clarity': 4, 'clashes': 1, 'class': 25, 'classes': 1, 'classification': 6, 'claus': 8, 'clean': 42, 'cleaner': 2, 'cleaning': 9, 'cleanliness': 1, 'cleanup': 6, 'clear': 34, 'cleared': 16, 'clearer': 4, 'clearing': 3, 'clearly': 12, 'cleavage': 7, 'cleur23': 1, 'cleverness': 1, 'click': 1, 'clicked': 1, 'clicking': 1, 'client': 103, 'clients': 52, 'cliff': 1, 'climate': 2, 'climb': 1, 'climbing': 1, 'clinic': 3, 'clinical': 8, 'clinics': 9, 'cliona': 4, 'clock': 5, 'clops': 1, 'close': 48, 'closed': 19, 'closely': 20, 'closeout': 7, 'closer': 8, 'closes': 1, 'closing': 33, 'closure': 4, 'clothes': 1, 'cloud': 23, 'cloudfront': 4, 'cloudwatch': 1, 'cls': 1, 'club': 2, 'cluster': 2, 'clíona': 1, 'cm': 5, 'cmems': 1, 'cmir': 1, 'cmist': 4, 'cmm': 2, 'cmo': 2, 'co': 40, 'co2': 1, 'coach': 6, 'coachdonnalouise_google': 1, 'coached': 1, 'coaches': 6, 'coaching': 18, 'coaster': 1, 'coat': 1, 'coba': 1, 'code': 45, 'codebase': 1, 'coded': 2, 'codes': 2, 'coding': 9, 'cody': 3, 'coe': 2, 'coffee': 2, 'cog': 1, 'cogs': 8, 'coined': 1, 'cold': 13, 'coleen': 2, 'colin': 7, 'collab': 16, 'collaborate': 10, 'collaborated': 9, 'collaborating': 33, 'collaboration': 81, 'collaborations': 7, 'collaborative': 11, 'collaboratively': 6, 'collaborator': 2, 'collapsed': 16, 'collating': 1, 'colleague': 20, 'colleagues': 93, 'collect': 1, 'collected': 5, 'collecting': 3, 'collection': 4, 'collections': 7, 'collective': 8, 'collectively': 8, 'collector': 1, 'colleen': 2, 'college': 3, 'collegue': 1, 'collision': 10, 'colm': 24, 'color': 5, 'colorful': 1, 'colors': 1, 'column': 1, 'com': 4, 'combination': 1, 'combined': 2, 'come': 111, 'comedian': 1, 'comedy': 1, 'comers': 1, 'comes': 49, 'comfort': 20, 'comfortable': 27, 'comfortably': 1, 'comforting': 2, 'coming': 89, 'command': 5, 'commanding': 1, 'commence': 1, 'commend': 16, 'commendable': 17, 'comment': 1, 'commentary': 2, 'comments': 17, 'commerce': 1, 'commercial': 3, 'commercials': 1, 'commissioning': 2, 'commissions': 2, 'commit': 2, 'commitment': 133, 'commitments': 6, 'committed': 12, 'committee': 4, 'committing': 1, 'committment': 6, 'commodities': 2, 'common': 2, 'comms': 13, 'communicate': 8, 'communicated': 13, 'communicates': 1, 'communicating': 33, 'communication': 35, 'communications': 41, 'communities': 2, 'community': 35, 'comp': 1, 'companies': 2, 'company': 140, 'compared': 7, 'comparing': 1, 'compassion': 7, 'compassionate': 2, 'compelling': 4, 'compensation': 2, 'competency': 1, 'competing': 2, 'competition': 6, 'competitions': 1, 'competitive': 4, 'competitors': 1, 'compiled': 1, 'compiling': 1, 'complacent': 9, 'complaint': 13, 'complaints': 1, 'complemented': 1, 'complementing': 1, 'complete': 42, 'completed': 54, 'completely': 19, 'completes': 2, 'completing': 45, 'completion': 14, 'completions': 1, 'complex': 26, 'complexity': 5, 'compliance': 78, 'compliant': 5, 'complicated': 5, 'complications': 2, 'compliment': 7, 'complimented': 1, 'compliments': 1, 'comply': 1, 'component': 29, 'componentise': 1, 'components': 15, 'comprehensive': 9, 'compressor': 1, 'compressors': 2, 'comprised': 1, 'compromised': 5, 'compromising': 1, 'computer': 3, 'concept': 14, 'concepts': 3, 'conceptual': 1, 'concern': 37, 'concerned': 13, 'concerning': 1, 'concerns': 49, 'concierge': 1, 'concise': 4, 'concluding': 2, 'conclusion': 4, 'concrete': 1, 'concurrent': 1, 'condensed': 1, 'condition': 7, 'conditions': 11, 'conduct': 2, 'conducted': 10, 'conducting': 12, 'conference': 15, 'conferences': 3, 'conferencing': 5, 'confidant': 1, 'confidence': 30, 'confident': 25, 'confidential': 10, 'confidentiality': 7, 'confidently': 8, 'config': 7, 'configurability': 1, 'configuration': 6, 'configurations': 3, 'configured': 1, 'configuring': 2, 'confirm': 21, 'conflict': 1, 'conflicting': 1, 'confluence': 5, 'conform': 1, 'confusion': 2, 'congrats': 18, 'congratulate': 8, 'congratulating': 1, 'congratulation': 1, 'congratulations': 73, 'conjunction': 1, 'connect': 12, 'connected': 22, 'connecting': 6, 'connection': 7, 'connections': 4, 'connectivity': 3, 'connie': 1, 'conor': 3, 'conquered': 6, 'cons': 10, 'consensually': 4, 'consensus': 8, 'consent': 2, 'conservation': 1, 'consider': 14, 'considerable': 3, 'considerate': 16, 'consideration': 2, 'considered': 5, 'considering': 17, 'consistency': 5, 'consistent': 14, 'consistently': 31, 'consolidating': 1, 'consolidation': 1, 'constant': 19, 'constantly': 14, 'constellation': 1, 'constituents': 1, 'constrained': 1, 'constraints': 6, 'construction': 1, 'constructive': 4, 'consult': 1, 'consultant': 7, 'consultants': 8, 'consultative': 2, 'consulting': 3, 'consumables': 4, 'consume': 4, 'consumers': 4, 'consuming': 6, 'consummate': 2, 'contact': 21, 'contacted': 10, 'contacting': 1, 'contacts': 6, 'contagious': 1, 'contain': 1, 'contained': 9, 'containers': 4, 'contemplate': 1, 'contend': 1, 'contenders': 1, 'content': 52, 'contentful': 2, 'contest': 2, 'context': 11, 'contined': 1, 'continously': 1, 'continual': 1, 'continually': 5, 'continue': 105, 'continued': 53, 'continues': 11, 'continuing': 25, 'continuity': 28, 'continuous': 32, 'continuously': 18, 'contract': 9, 'contracted': 1, 'contracting': 3, 'contracts': 3, 'contractual': 3, 'contribute': 24, 'contributed': 27, 'contributes': 1, 'contributing': 14, 'contribution': 110, 'contributions': 62, 'contributor': 5, 'control': 75, 'controlled': 12, 'controllers': 1, 'controlling': 3, 'controls': 9, 'convenient': 1, 'convention': 1, 'converging': 1, 'conversation': 30, 'conversational': 1, 'conversations': 64, 'conversion': 4, 'conversions': 3, 'convert': 3, 'converting': 1, 'convey': 1, 'conveyed': 3, 'conveying': 1, 'conveyor': 1, 'convictions': 1, 'convincing': 1, 'convos': 1, 'cook': 1, 'cookathon': 1, 'cookie': 5, 'cookies': 3, 'cooking': 1, 'cool': 6, 'coolers': 1, 'cooly': 1, 'cooper': 5, 'cooperate': 1, 'cooperates': 1, 'cooperation': 5, 'cooperative': 2, 'coordinate': 10, 'coordinated': 3, 'coordinating': 44, 'coordination': 5, 'coordinator': 1, 'coordinators': 1, 'cop': 3, 'cope': 2, 'cops': 1, 'coraçao': 1, 'cord': 1, 'core': 43, 'corewell': 1, 'corinne': 4, 'cork': 1, 'corkonian': 1, 'corner': 23, 'cornerstones': 1, 'corning': 4, 'corp': 5, 'corporate': 1, 'corporation': 1, 'corralling': 5, 'correct': 45, 'corrected': 14, 'correcting': 6, 'correction': 1, 'corrections': 1, 'corrective': 1, 'correctly': 10, 'correlated': 1, 'correlates': 1, 'correlating': 9, 'correlations': 1, 'correspondence': 7, 'corroborated': 1, 'corteva': 5, 'coshh': 9, 'cosmetic': 6, 'cost': 14, 'costly': 2, 'costs': 3, 'could': 228, 'couldn': 30, 'couldnt': 2, 'council': 4, 'councils': 1, 'counsel': 3, 'count': 20, 'counted': 1, 'counter': 1, 'counterpart': 1, 'counterparts': 1, 'counting': 4, 'countless': 4, 'countries': 4, 'country': 2, 'countryside': 1, 'counts': 3, 'couple': 33, 'coupled': 1, 'courage': 19, 'courageous': 1, 'course': 43, 'cover': 32, 'coverage': 4, 'covered': 13, 'covering': 39, 'covers': 26, 'covid': 21, 'covid19': 13, 'coworkers': 2, 'cox': 3, 'cpa': 1, 'cpc': 1, 'cpcs': 1, 'cpf': 10, 'cpq': 1, 'cpr': 13, 'cpu': 1, 'cr': 1, 'crack': 1, 'craft': 11, 'crafted': 13, 'crafting': 3, 'crafts': 1, 'crafty': 11, 'craic': 7, 'craig': 1, 'cranes': 1, 'crash': 2, 'crashes': 1, 'crates': 1, 'crazy': 9, 'create': 94, 'created': 29, 'creates': 6, 'creating': 59, 'creation': 8, 'creative': 13, 'creatively': 1, 'creatives': 1, 'creativity': 15, 'credibility': 3, 'credit': 8, 'credits': 1, 'credo': 2, 'crescendo': 1, 'crew': 13, 'crews': 1, 'crg': 2, 'crime': 3, 'criminals': 1, 'crisis': 5, 'cristian': 1, 'crital': 8, 'criteria': 4, 'critical': 133, 'critically': 2, 'criticism': 1, 'crljen': 1, 'crm': 1, 'cro': 1, 'croatia': 1, 'cron': 1, 'cropped': 2, 'cropping': 1, 'cross': 31, 'crossing': 2, 'crow': 1, 'crowd': 1, 'crucial': 7, 'crude': 1, 'crunch': 1, 'crunching': 1, 'crush': 1, 'crushed': 5, 'crushing': 1, 'crystal': 1, 'cs': 10, 'csc': 1, 'cses': 1, 'csm': 9, 'csms': 11, 'cst': 1, 'cswg': 1, 'ct': 1, 'ctc': 2, 'cts': 2, 'cuff': 1, 'cuisine': 1, 'cull': 1, 'culminating': 1, 'cultivate': 1, 'cultivated': 1, 'cultivating': 1, 'cultural': 1, 'culturally': 1, 'culture': 82, 'cultures': 7, 'cumulated': 1, 'cup': 4, 'curiosity': 1, 'curious': 3, 'currency': 3, 'current': 34, 'currently': 11, 'curtain': 1, 'curve': 4, 'cusp': 1, 'custom': 10, 'customer': 138, 'customers': 161, 'customize': 1, 'customized': 1, 'cut': 7, 'cuteness': 1, 'cutomer': 1, 'cutover': 14, 'cx': 1, 'cxo': 1, 'cyber': 61, 'cybersecurity': 22, 'cycle': 4, 'cycles': 1, 'cyclotron': 1, 'd2': 1, 'd30440953227883': 1, 'd4': 1, 'd5le': 1, 'da': 1, 'dab': 3, 'dad': 3, 'daily': 56, 'dallas': 4, 'dam': 2, 'damage': 34, 'damaged': 1, 'damaging': 1, 'dan': 7, 'dana': 4, 'dance': 3, 'dancer': 1, 'dancing': 1, 'danger': 11, 'dangerous': 1, 'dangers': 1, 'daniel': 4, 'danielle': 7, 'danijel': 6, 'daniyal': 2, 'dankie': 1, 'danny': 3, 'dante': 1, 'daria': 3, 'dark': 5, 'darkest': 1, 'darko': 7, 'darn': 1, 'darran': 6, 'darren': 2, 'dasha': 1, 'dashboard': 7, 'dashboards': 14, 'data': 344, 'database': 15, 'databases': 3, 'datalake': 1, 'dataload': 1, 'dataset': 1, 'date': 72, 'dates': 16, 'dating': 1, 'daughter': 2, 'daunting': 3, 'dave': 19, 'daveka': 1, 'david': 17, 'davide': 1, 'dawn': 4, 'day': 310, 'days': 83, 'dazzles': 1, 'db': 19, 'dba': 1, 'dbt': 5, 'dc': 2, 'dcmf': 1, 'dcs': 5, 'dd': 1, 'dd098': 1, 'ddpcr': 1, 'ddq': 2, 'de': 24, 'dead': 1, 'deadline': 8, 'deadlines': 7, 'deal': 35, 'dealer': 2, 'dealing': 10, 'dealings': 1, 'deals': 1, 'dealt': 3, 'deana': 1, 'dear': 35, 'dears': 1, 'death': 1, 'deb': 1, 'debaditya': 1, 'debate': 1, 'debating': 2, 'debbie': 2, 'debilitating': 1, 'debt': 3, 'debug': 4, 'dec': 3, 'decade': 1, 'decades': 1, 'decarbonize': 1, 'december': 10, 'decide': 3, 'decided': 6, 'deciphering': 1, 'decision': 29, 'decisions': 21, 'decisive': 1, 'decisiveness': 1, 'deck': 3, 'decks': 1, 'declan': 2, 'declined': 1, 'decommissioning': 3, 'decompress': 2, 'decorating': 1, 'decorations': 1, 'decrease': 1, 'decreases': 1, 'decryptor': 1, 'dedicate': 2, 'dedicated': 22, 'dedicating': 4, 'dedication': 164, 'deduction': 2, 'dee': 1, 'deeds': 1, 'deemed': 3, 'deep': 15, 'deepak': 1, 'deepening': 1, 'deeper': 1, 'deepest': 4, 'deeply': 9, 'defacto': 1, 'default': 2, 'defeated': 1, 'defect': 1, 'defects': 2, 'defence': 5, 'defense': 13, 'defibrillation': 13, 'define': 10, 'defined': 2, 'defines': 1, 'defining': 5, 'definitely': 14, 'definition': 2, 'definitions': 1, 'deftly': 1, 'defunct': 1, 'degraded': 1, 'degree': 9, 'dei': 14, 'deib': 1, 'delay': 2, 'delayed': 3, 'delays': 6, 'delegating': 3, 'delegation': 2, 'deleting': 1, 'deliberate': 1, 'delicate': 2, 'delicious': 1, 'delight': 15, 'delighted': 17, 'deliver': 69, 'deliverability': 1, 'deliverable': 1, 'deliverables': 14, 'delivered': 53, 'deliveries': 16, 'delivering': 41, 'delivers': 1, 'delivery': 18, 'dell': 2, 'deloitte': 1, 'delta': 1, 'demand': 10, 'demands': 2, 'demeanor': 4, 'demeanour': 1, 'demo': 21, 'demoing': 8, 'demonstrate': 26, 'demonstrated': 50, 'demonstrates': 5, 'demonstrating': 21, 'demonstration': 14, 'demonstrations': 1, 'demos': 3, 'dennis': 3, 'denver': 2, 'department': 12, 'departmental': 1, 'departments': 6, 'dependable': 2, 'dependencies': 2, 'dependency': 2, 'dependent': 2, 'deploy': 27, 'deployed': 17, 'deploying': 8, 'deployment': 34, 'deployments': 2, 'deposit': 1, 'depot': 2, 'deprecating': 1, 'depth': 3, 'derailed': 1, 'dermatology': 1, 'dermot': 40, 'dermots': 6, 'derrick': 1, 'des': 6, 'describe': 1, 'described': 2, 'describing': 8, 'desert': 1, 'deserve': 6, 'deserved': 27, 'deserves': 1, 'deserving': 2, 'design': 58, 'designed': 14, 'designer': 3, 'designers': 5, 'designops': 1, 'designs': 7, 'desire': 12, 'desired': 3, 'desiree': 2, 'desk': 23, 'desks': 8, 'desktop': 3, 'despite': 30, 'destiny': 1, 'destruction': 4, 'detail': 54, 'detailed': 25, 'detailing': 1, 'details': 34, 'detect': 1, 'detecting': 1, 'detection': 3, 'detective': 1, 'deter': 1, 'detergent': 1, 'determination': 28, 'determine': 3, 'determined': 9, 'determining': 3, 'detroit': 3, 'dev': 5, 'devangi': 1, 'develop': 18, 'developed': 38, 'developer': 1, 'developers': 3, 'developing': 31, 'development': 65, 'developments': 6, 'devices': 10, 'devil': 1, 'devilish': 1, 'devise': 1, 'devising': 1, 'devops': 2, 'devoted': 1, 'devs': 1, 'devtest': 8, 'dez': 1, 'dfct': 1, 'dg': 1, 'dha': 2, 'dhanashri': 1, 'dhasco': 6, 'diagnose': 1, 'diagnosed': 1, 'diagnostics': 2, 'dialogue': 3, 'diamond': 1, 'diana': 2, 'diane': 1, 'dianne': 1, 'diaries': 5, 'diarmuid': 1, 'diary': 1, 'dibs': 1, 'did': 241, 'didi': 1, 'didn': 70, 'didnt': 10, 'die': 4, 'diego': 1, 'diff': 1, 'differ': 1, 'difference': 33, 'different': 71, 'differentiated': 1, 'differentiating': 1, 'differentiation': 1, 'differentiator': 1, 'differentiators': 2, 'differently': 3, 'difficult': 86, 'difficulty': 1, 'dig': 24, 'digest': 1, 'digesting': 1, 'digging': 6, 'digisquad': 1, 'digital': 11, 'digitalization': 2, 'digitized': 1, 'dignity': 1, 'diligence': 20, 'diligent': 8, 'diligently': 9, 'dima': 1, 'diminishing': 1, 'dinner': 2, 'dinners': 2, 'dio': 1, 'dip': 1, 'diplomacy': 1, 'diplomatically': 1, 'diplomats': 1, 'dire': 1, 'direct': 8, 'directing': 1, 'direction': 25, 'directional': 1, 'directions': 2, 'directly': 30, 'director': 7, 'directors': 2, 'disabilities': 1, 'disability': 1, 'disadvantaged': 1, 'disappear': 7, 'disappearing': 6, 'disarming': 1, 'disaster': 7, 'disbursement': 1, 'discard': 5, 'discards': 1, 'discharge': 1, 'discipline': 25, 'disciplines': 1, 'disclose': 1, 'discomfort': 1, 'disconnect': 1, 'discontinued': 1, 'discover': 2, 'discovered': 1, 'discovering': 1, 'discovery': 8, 'discrepancies': 4, 'discretionary': 1, 'discriminators': 1, 'discuss': 23, 'discussed': 13, 'discussing': 3, 'discussion': 53, 'discussions': 28, 'disease': 2, 'dish': 1, 'dishes': 1, 'dishwashers': 1, 'disparities': 1, 'dispatched': 1, 'dispatches': 1, 'display': 3, 'displayed': 6, 'displaying': 1, 'displays': 6, 'disposal': 1, 'disposed': 1, 'disruption': 5, 'disruptions': 2, 'dissatisfaction': 1, 'distance': 8, 'distancing': 7, 'distilling': 6, 'distracted': 2, 'distractions': 2, 'distributed': 1, 'distribution': 2, 'distributions': 1, 'district': 1, 'districts': 1, 'disturbed': 6, 'disturbing': 1, 'divergent': 3, 'diverse': 14, 'diversity': 25, 'diversityequityinclusion': 1, 'divestiture': 1, 'dividends': 1, 'diving': 2, 'divisional': 4, 'divisive': 1, 'divya': 2, 'dl': 1, 'dms': 1, 'dmt': 1, 'dmz': 1, 'dna': 2, 'dns': 1, 'do': 357, 'doan': 1, 'doc': 1, 'docker': 7, 'docs': 1, 'document': 23, 'documentation': 10, 'documented': 3, 'documenting': 4, 'documents': 9, 'docusign': 1, 'does': 19, 'doesn': 8, 'dog': 12, 'doggedly': 1, 'doggedness': 1, 'dogs': 1, 'doing': 125, 'dollars': 3, 'domain': 4, 'domains': 1, 'don': 38, 'donating': 3, 'donations': 3, 'done': 485, 'donna': 11, 'dont': 9, 'donw': 1, 'donã': 1, 'door': 20, 'doors': 6, 'dose': 6, 'dotting': 1, 'double': 11, 'doubled': 1, 'doubles': 1, 'doubt': 8, 'doubts': 1, 'doug': 2, 'douglas': 2, 'dove': 1, 'down': 130, 'download': 1, 'downright': 1, 'downs': 2, 'downstream': 2, 'downtime': 2, 'downtimes': 1, 'dozen': 3, 'dozens': 2, 'dpac': 1, 'dpd': 1, 'dpia': 1, 'dr': 16, 'draft': 1, 'drafted': 1, 'drag': 1, 'dragged': 2, 'dramatic': 1, 'draw': 1, 'drawing': 3, 'drawings': 1, 'draws': 6, 'dreaded': 3, 'dream': 2, 'dreaming': 1, 'dreams': 1, 'dreamwork': 1, 'dried': 1, 'drill': 13, 'drilled': 1, 'drillers': 1, 'drilling': 1, 'drills': 4, 'drink': 1, 'drive': 37, 'driven': 5, 'driver': 4, 'drivers': 6, 'drives': 10, 'driving': 38, 'drop': 4, 'dropdown': 1, 'dropped': 11, 'drops': 7, 'dropship': 2, 'drozdowski': 1, 'drum': 1, 'drumbeat': 1, 'dry': 3, 'ds': 8, 'dsl': 1, 'dsld': 1, 'dspf': 1, 'dt': 1, 'dt1': 1, 'dual': 2, 'dublin': 35, 'dubrovnik': 1, 'ducks': 1, 'due': 69, 'duet': 1, 'dug': 1, 'dulcet': 6, 'dumb': 1, 'dumpster': 2, 'duo': 2, 'duplications': 1, 'during': 194, 'dutch': 1, 'duties': 5, 'duty': 1, 'duyn': 2, 'dv20': 1, 'dx': 2, 'dxc': 6, 'dye': 1, 'dylan': 9, 'dympa': 1, 'dympna': 5, 'dynamic': 9, 'dynamics': 1, 'dynamite': 1, 'dynamodb': 1, 'dzmitry': 1, 'e2xfcc2': 1, 'ea': 2, 'each': 255, 'eager': 2, 'eagerness': 4, 'eagle': 12, 'ear': 3, 'earlier': 13, 'early': 64, 'earn': 2, 'earned': 5, 'earnestly': 1, 'earning': 1, 'ears': 16, 'ease': 13, 'eased': 1, 'easier': 11, 'easiest': 1, 'easily': 11, 'east': 2, 'eastern': 1, 'easy': 96, 'easygoingness': 1, 'eat': 2, 'eaton': 4, 'eb': 1, 'ebrg': 1, 'ebrgs': 4, 'ec2': 8, 'ecerts': 1, 'echelon': 1, 'echelons': 1, 'ecm': 1, 'eco': 1, 'ecode': 4, 'ecomm': 4, 'ecommerce': 9, 'economic': 2, 'ecosystem': 5, 'ecr': 1, 'ecrg': 1, 'ecs': 2, 'ecstatic': 1, 'ecuador': 1, 'ed': 5, 'edc': 1, 'eddie': 2, 'edge': 1, 'edited': 2, 'edition': 4, 'edits': 2, 'edmondson': 5, 'edmonton': 1, 'edmund': 1, 'edp': 1, 'educate': 15, 'educating': 3, 'education': 5, 'educational': 6, 'edward': 2, 'edwin': 1, 'ees': 2, 'efendiyev': 6, 'effect': 3, 'effected': 1, 'effective': 18, 'effectively': 16, 'effectiveness': 3, 'effects': 1, 'efficacy': 7, 'efficiency': 20, 'efficient': 32, 'efficiently': 6, 'effort': 162, 'efforts': 220, 'efrd': 1, 'egc': 1, 'egos': 1, 'eh': 1, 'ehs': 4, 'ei': 1, 'eight': 6, 'eiic': 2, 'eileen': 3, 'einstein': 1, 'either': 5, 'elaborate': 1, 'elaina': 2, 'elaine': 3, 'elanco': 1, 'elastic': 1, 'elbow': 1, 'electric': 1, 'electrical': 2, 'elegant': 1, 'element': 9, 'elements': 10, 'elephant': 1, 'eleven': 1, 'eliana': 1, 'eligibility': 7, 'eliminated': 2, 'eliminates': 1, 'elite': 1, 'elizabeth': 3, 'ellen': 2, 'elms': 1, 'elnur': 1, 'eloquently': 1, 'els': 1, 'else': 25, 'elsewhere': 2, 'elt': 1, 'elton': 5, 'email': 29, 'emailed': 1, 'emails': 17, 'emarkter': 1, 'embark': 1, 'embarked': 2, 'embarking': 1, 'embarrassing': 1, 'embed': 1, 'embedded': 5, 'embedding': 1, 'embodies': 1, 'embodiment': 2, 'embody': 3, 'embodying': 2, 'embrace': 10, 'embraced': 2, 'embraces': 4, 'embracing': 11, 'emea': 5, 'emerged': 1, 'emergencies': 1, 'emergency': 56, 'emily': 3, 'emission': 1, 'emissions': 6, 'emma': 4, 'emmanuel': 1, 'emoji': 14, 'emotional': 1, 'emotionally': 1, 'emotions': 1, 'empathetic': 1, 'empathic': 2, 'empathy': 10, 'emphasis': 1, 'emphasize': 1, 'employee': 62, 'employees': 173, 'employer': 1, 'employers': 1, 'employment': 5, 'empowered': 5, 'empowering': 2, 'empowers': 3, 'emr': 1, 'enable': 28, 'enabled': 18, 'enablement': 2, 'enables': 6, 'enabling': 10, 'encounter': 6, 'encountered': 4, 'encounters': 1, 'encourage': 8, 'encouraged': 11, 'encouragement': 7, 'encourages': 2, 'encouraging': 23, 'encryption': 1, 'end': 95, 'enda': 12, 'endeavor': 4, 'ended': 1, 'ending': 2, 'endless': 2, 'endpoints': 11, 'ends': 2, 'enduring': 1, 'enema': 1, 'energetic': 1, 'energised': 1, 'energized': 5, 'energizing': 1, 'energy': 31, 'enforcement': 1, 'eng': 1, 'engage': 11, 'engaged': 16, 'engagement': 41, 'engagements': 2, 'engaging': 44, 'engine': 12, 'engineer': 2, 'engineering': 21, 'engineers': 9, 'engines': 1, 'english': 1, 'enhance': 3, 'enhanced': 3, 'enhancement': 15, 'enhancements': 4, 'enhances': 1, 'enhancing': 11, 'eni': 1, 'enjoy': 104, 'enjoyable': 10, 'enjoyably': 1, 'enjoyed': 38, 'enjoying': 2, 'enjoyment': 1, 'enlighten': 4, 'enoch': 1, 'enormous': 16, 'enough': 78, 'enquiries': 1, 'enriched': 3, 'enrollment': 2, 'enrollments': 1, 'ensure': 293, 'ensured': 97, 'ensures': 31, 'ensuring': 160, 'enter': 6, 'entered': 1, 'enterprise': 5, 'enterprises': 1, 'entertained': 4, 'entertainment': 1, 'enthusiasm': 22, 'enthusiast': 1, 'enthusiastic': 8, 'enthusiastically': 5, 'entir': 1, 'entire': 55, 'entirely': 1, 'entirety': 1, 'entities': 1, 'entries': 2, 'entushiasm': 1, 'env': 2, 'environment': 133, 'environmental': 23, 'environments': 18, 'envisage': 1, 'envs': 1, 'eob': 1, 'eoin': 3, 'eoq': 1, 'eoy': 1, 'ep': 1, 'epam': 25, 'epic': 2, 'epicor': 18, 'epilog': 1, 'episode': 1, 'equality': 1, 'equally': 3, 'equip': 1, 'equipment': 17, 'equipped': 4, 'equitable': 2, 'equity': 12, 'erase': 2, 'erg': 6, 'ergs': 1, 'eric': 28, 'erica': 1, 'erik': 1, 'erika': 2, 'erin': 1, 'erm': 3, 'ernest': 3, 'erps': 1, 'error': 9, 'errors': 11, 'escalate': 1, 'escalated': 6, 'escalating': 19, 'escalation': 7, 'escalations': 26, 'esco': 16, 'escorted': 1, 'eservice': 1, 'esgs': 1, 'esp': 1, 'especially': 57, 'espion': 1, 'esrd': 1, 'essential': 33, 'essra': 3, 'establish': 1, 'establishing': 6, 'estimation': 4, 'et': 1, 'etc': 37, 'ether': 14, 'ethic': 17, 'ethical': 1, 'ethics': 2, 'etiquette': 1, 'eu': 1, 'eurofins': 1, 'euromillions': 1, 'europe': 2, 'european': 2, 'ev': 1, 'eva': 1, 'evaluate': 4, 'evaluating': 1, 'evaluation': 1, 'even': 121, 'evening': 14, 'evenings': 6, 'event': 111, 'eventbrite': 1, 'events': 49, 'eventually': 10, 'ever': 33, 'every': 160, 'everybody': 3, 'everyday': 16, 'everyone': 179, 'everyones': 1, 'everything': 189, 'everyting': 1, 'eveyone': 1, 'evidence': 7, 'evident': 6, 'evolution': 1, 'evolve': 2, 'evolving': 3, 'evp': 6, 'evrim': 1, 'ewa': 2, 'ewd': 1, 'ex': 4, 'exact': 1, 'exactly': 11, 'exam': 3, 'examining': 1, 'example': 52, 'examples': 25, 'exc': 1, 'exceeded': 2, 'exceeds': 1, 'excel': 7, 'excellence': 39, 'excellent': 99, 'excellently': 2, 'excelling': 1, 'excels': 1, 'except': 10, 'exception': 2, 'exceptional': 29, 'exceptionally': 4, 'exceptions': 2, 'excerpt': 1, 'exchange': 2, 'exchanged': 1, 'excited': 29, 'excitement': 2, 'exciting': 13, 'excuse': 1, 'exec': 1, 'execute': 14, 'executed': 15, 'executing': 15, 'execution': 45, 'executions': 1, 'executive': 14, 'executives': 4, 'executor': 6, 'exelon': 1, 'exemplar': 1, 'exemplary': 3, 'exemplify': 1, 'exemplifying': 1, 'exemption': 6, 'exercise': 5, 'exercises': 8, 'exhale': 1, 'exhibit': 1, 'exhibited': 3, 'exhibiting': 1, 'exile': 7, 'exist': 1, 'existing': 19, 'expand': 2, 'expanding': 10, 'expansion': 6, 'expansions': 1, 'expect': 14, 'expectation': 2, 'expectations': 14, 'expected': 7, 'expecting': 15, 'expediting': 1, 'expeditiously': 1, 'expending': 1, 'expense': 2, 'expensing': 1, 'experience': 119, 'experienced': 16, 'experiences': 44, 'experiencing': 12, 'experiment': 1, 'experimental': 2, 'experimenting': 1, 'expert': 8, 'expertise': 97, 'expertly': 3, 'experts': 7, 'expiration': 6, 'expire': 6, 'explain': 15, 'explained': 3, 'explaining': 3, 'explanation': 5, 'explanations': 1, 'exploit': 1, 'explore': 8, 'exploring': 2, 'exposed': 7, 'exposing': 1, 'exposure': 21, 'express': 33, 'expressed': 5, 'expressing': 2, 'extend': 9, 'extended': 17, 'extending': 5, 'extensible': 2, 'extension': 1, 'extensive': 17, 'extent': 8, 'external': 31, 'externally': 2, 'extinguishers': 1, 'extinguishing': 1, 'extra': 71, 'extraction': 3, 'extraordinary': 13, 'extremely': 33, 'exudes': 1, 'eye': 56, 'eyebrows': 1, 'eyed': 10, 'eyes': 19, 'ezhilarasi': 1, 'f1': 1, 'fa': 3, 'fab': 1, 'fabulous': 1, 'face': 33, 'faced': 11, 'faces': 1, 'facilitate': 4, 'facilitated': 10, 'facilitating': 14, 'facilitation': 3, 'facilitator': 1, 'facilitators': 3, 'facilities': 37, 'facility': 13, 'facing': 11, 'fact': 14, 'facts': 1, 'fail': 6, 'failed': 2, 'failing': 2, 'failover': 2, 'failure': 4, 'failures': 3, 'fainted': 16, 'fair': 7, 'fairfield': 1, 'fairness': 3, 'fairport': 3, 'faith': 1, 'faithfully': 6, 'fake': 1, 'fall': 5, 'falling': 2, 'fallout': 5, 'false': 1, 'familiar': 1, 'familiarize': 1, 'families': 1, 'family': 26, 'famous': 2, 'fan': 1, 'fancy': 3, 'fang': 2, 'fantastic': 139, 'faqs': 1, 'far': 28, 'farber': 1, 'fascinating': 1, 'fashion': 2, 'fasolo': 1, 'fast': 27, 'fasten': 1, 'faster': 13, 'fastpak': 3, 'fate': 14, 'father': 1, 'fatigue': 1, 'faults': 10, 'faulty': 1, 'favorite': 2, 'faye': 1, 'fb': 1, 'fd': 1, 'fda': 1, 'fdb5c73edbae4548afc957d0465a9c94': 1, 'fe': 4, 'fear': 6, 'fearless': 7, 'fears': 2, 'feast': 1, 'feat': 12, 'feather': 5, 'feature': 16, 'features': 12, 'feb': 1, 'february': 2, 'fed': 6, 'federica': 2, 'feed': 3, 'feedback': 89, 'feel': 56, 'feeling': 22, 'feelings': 3, 'feels': 16, 'feet': 5, 'felicity': 1, 'fell': 3, 'fellow': 15, 'felt': 16, 'fern': 5, 'fernanda': 1, 'fest': 1, 'festival': 1, 'festive': 1, 'fetched': 1, 'fever': 1, 'few': 213, 'fewer': 4, 'ff': 4, 'fgc': 3, 'fi': 1, 'fib': 1, 'field': 9, 'fielding': 2, 'fields': 2, 'fierce': 1, 'fifteen': 1, 'fifth': 1, 'fig': 1, 'fight': 3, 'figma': 1, 'figure': 3, 'figured': 7, 'figuring': 18, 'file': 25, 'filed': 9, 'files': 17, 'filing': 3, 'fill': 5, 'filled': 6, 'filling': 2, 'filly': 1, 'filming': 1, 'filters': 1, 'final': 18, 'finalist': 2, 'finalization': 1, 'finalize': 2, 'finalized': 1, 'finalizing': 1, 'finally': 28, 'finals': 1, 'finance': 18, 'financial': 4, 'financials': 2, 'finbarr': 1, 'find': 60, 'findev': 5, 'finding': 80, 'findings': 23, 'fine': 8, 'finest': 2, 'finger': 2, 'finish': 30, 'finished': 11, 'finishing': 5, 'finishline': 1, 'fiona': 1, 'fiore': 2, 'fire': 81, 'fired': 2, 'firefight': 1, 'fires': 4, 'firewall': 9, 'firewalls': 7, 'fireworks': 1, 'firm': 14, 'firmer': 1, 'firmly': 2, 'firmware': 2, 'first': 257, 'firsthand': 2, 'firstly': 1, 'fiscal': 4, 'fish': 2, 'fishy': 1, 'fist': 1, 'fit': 9, 'fitness': 1, 'fits': 2, 'fitted': 17, 'fitzpatrick': 6, 'fiu': 2, 'five': 3, 'fix': 72, 'fixed': 3, 'fixer': 1, 'fixes': 4, 'fixing': 21, 'fla': 2, 'flag': 15, 'flagging': 13, 'flags': 2, 'flash': 1, 'flat': 15, 'flavia': 4, 'flavor': 1, 'flawless': 2, 'flaws': 1, 'fleet': 1, 'flex': 7, 'flexibility': 22, 'flexible': 4, 'flexing': 3, 'flight': 4, 'flip': 1, 'flipping': 1, 'fll': 2, 'float': 7, 'floated': 1, 'floats': 3, 'flood': 6, 'floor': 25, 'flooring': 11, 'floors': 1, 'flopping': 8, 'florida': 1, 'flourish': 2, 'flow': 12, 'flowers': 1, 'flowing': 2, 'flowmeter': 4, 'flowmeters': 4, 'flown': 1, 'flows': 1, 'flowserve': 1, 'flu': 2, 'flushing': 1, 'fly': 1, 'flying': 1, 'fmt': 1, 'fob': 2, 'focus': 102, 'focused': 47, 'focusing': 8, 'focussed': 2, 'foe': 1, 'foggy': 1, 'foiled': 5, 'fold': 1, 'folder': 1, 'folding': 1, 'folk': 1, 'folks': 132, 'follow': 59, 'followed': 16, 'following': 28, 'followng': 1, 'follows': 1, 'followup': 8, 'followups': 1, 'food': 27, 'foods': 1, 'foolish': 2, 'foot': 3, 'football': 1, 'footprint': 1, 'for': 4816, 'force': 4, 'forces': 2, 'fore': 1, 'forecast': 2, 'forecasting': 2, 'forecastpro': 2, 'forecasts': 1, 'forefront': 29, 'foreign': 1, 'foremost': 3, 'foresight': 2, 'forever': 4, 'forge': 1, 'forged': 1, 'forget': 9, 'forgetting': 1, 'forging': 2, 'forgive': 1, 'forgot': 6, 'forgotten': 2, 'fork': 1, 'form': 14, 'formally': 9, 'format': 3, 'formats': 2, 'formed': 3, 'former': 7, 'forms': 16, 'formulate': 2, 'formulating': 1, 'fort': 1, 'forth': 4, 'forths': 1, 'fortunate': 4, 'forum': 4, 'forums': 1, 'forward': 203, 'forwards': 5, 'foster': 6, 'fostered': 3, 'fostering': 19, 'fosters': 2, 'found': 86, 'foundation': 31, 'foundational': 1, 'foundations': 1, 'founded': 2, 'four': 4, 'foward': 1, 'fox': 1, 'fpga': 1, 'fractious': 1, 'frame': 22, 'framework': 7, 'frameworks': 1, 'frameworkã': 1, 'framingham': 10, 'fran': 3, 'francesca': 4, 'franchise': 2, 'francisco': 1, 'frank': 23, 'frankfurt': 1, 'frankly': 1, 'frantic': 1, 'fraud': 6, 'fraudulent': 18, 'fred': 2, 'free': 25, 'freed': 1, 'freedom': 1, 'freely': 2, 'freemium': 1, 'french': 1, 'frequent': 1, 'frequently': 9, 'fresh': 8, 'friction': 1, 'frida': 1, 'friday': 24, 'friend': 9, 'friendliness': 1, 'friendly': 22, 'friends': 11, 'friendship': 1, 'from': 614, 'front': 39, 'frontend': 1, 'frontline': 7, 'fronts': 4, 'fruit': 2, 'fruitful': 2, 'fruition': 1, 'frustrated': 7, 'frustrating': 1, 'frustration': 4, 'fsed': 1, 'fsi': 1, 'fsv': 1, 'fuel': 6, 'fulfill': 1, 'fulfilled': 1, 'fulfilling': 1, 'fulfilment': 4, 'fulfilmet': 1, 'full': 55, 'fulltime': 1, 'fully': 61, 'fumbled': 1, 'fun': 27, 'function': 13, 'functional': 7, 'functionalities': 1, 'functionality': 21, 'functioning': 1, 'functions': 5, 'fund': 2, 'fundamental': 1, 'funds': 3, 'funeral': 1, 'funnel': 2, 'fur': 1, 'furious': 1, 'furlong': 1, 'furniture': 1, 'further': 27, 'furthermore': 3, 'fuse': 1, 'fusion': 1, 'fuss': 4, 'future': 76, 'futures': 1, 'fuzzy': 1, 'fvl': 1, 'fx': 2, 'fy': 1, 'fy2023': 1, 'fy22': 3, 'fy23': 1, 'fy24': 4, 'fyi': 1, 'g105': 6, 'g600': 1, 'gaa': 12, 'gabi': 1, 'gadir': 5, 'gain': 4, 'gained': 3, 'gaining': 1, 'gains': 1, 'gaja': 1, 'galit': 1, 'gallery': 1, 'gallup': 2, 'galore': 7, 'game': 42, 'games': 8, 'gamis': 1, 'gamma': 1, 'ganesh': 1, 'gantry': 1, 'gap': 21, 'gaps': 12, 'garnett': 2, 'gartner': 2, 'gary': 2, 'gas': 1, 'gate': 2, 'gatekeeper': 1, 'gateway': 3, 'gather': 1, 'gathered': 1, 'gatherer': 1, 'gathering': 11, 'gatherings': 1, 'gav': 1, 'gave': 30, 'gavin': 1, 'gb': 3, 'gbc': 1, 'gbsg': 2, 'gc': 1, 'gcs': 1, 'gd': 1, 'gdlng': 2, 'gdpr': 8, 'ge': 12, 'gear': 1, 'gehms': 3, 'gehsms': 6, 'gem': 2, 'gemma': 1, 'gems': 1, 'gen': 2, 'gender': 3, 'general': 9, 'generally': 6, 'generate': 2, 'generated': 3, 'generating': 1, 'generation': 4, 'generator': 5, 'generators': 1, 'generic': 1, 'generosity': 1, 'generous': 3, 'generously': 1, 'genessa': 4, 'genetic': 1, 'genevieve': 1, 'geniously': 1, 'genius': 4, 'gennady': 25, 'genomic': 1, 'gently': 1, 'gents': 1, 'genuine': 12, 'genuinely': 6, 'geoff': 9, 'geoffery': 1, 'geoffrey': 1, 'geological': 1, 'geophysical': 1, 'george': 1, 'georges': 1, 'georgia': 1, 'georgie': 1, 'geovany': 1, 'ger': 2, 'gerard': 3, 'germany': 1, 'gertie': 9, 'gesture': 3, 'get': 323, 'gets': 17, 'getting': 179, 'gf': 4, 'gfa': 1, 'gforce20': 1, 'gianna': 1, 'giant': 1, 'giblin': 1, 'gif': 2, 'gift': 28, 'gifted': 1, 'gifts': 7, 'gigio': 2, 'gilbert': 1, 'gillen': 1, 'gillian': 4, 'gilson': 1, 'gimmicked': 1, 'gina': 2, 'girl': 2, 'git': 2, 'gitlab': 1, 'give': 59, 'given': 53, 'gives': 22, 'giving': 58, 'gl': 1, 'glad': 8, 'glance': 1, 'gland': 6, 'glass': 3, 'glen': 8, 'glenda': 5, 'glights': 1, 'gliknik': 1, 'glimpsing': 1, 'glint': 1, 'glitches': 3, 'global': 40, 'globally': 13, 'globe': 1, 'globodesk': 1, 'globoforce': 45, 'globostar': 1, 'globostars': 2, 'globotrack': 1, 'globouniversity': 5, 'glocal': 1, 'gloria': 2, 'glorious': 1, 'glory': 1, 'glt': 1, 'glue': 1, 'glycol': 6, 'gmd': 1, 'go': 104, 'goal': 13, 'goals': 26, 'god': 3, 'godinova': 2, 'goes': 27, 'goggles': 1, 'goin': 1, 'going': 128, 'gokak': 1, 'gold': 2, 'golden': 2, 'gom': 1, 'gone': 34, 'gong': 1, 'gonna': 1, 'good': 180, 'goodbye': 2, 'goods': 1, 'google': 9, 'gordon': 2, 'gos': 1, 'gosh': 2, 'got': 85, 'gotos': 1, 'gotten': 4, 'governance': 10, 'government': 1, 'gp': 1, 'gpm': 1, 'gpo': 1, 'gptw': 4, 'gpv': 1, 'grabbing': 1, 'grace': 9, 'graced': 1, 'graceful': 1, 'gracias': 1, 'grading': 1, 'gradual': 1, 'graduate': 1, 'graduation': 1, 'grady': 1, 'graham': 7, 'grainne': 1, 'grand': 1, 'grant': 3, 'granted': 1, 'graph': 1, 'grasp': 9, 'grateful': 78, 'gratifying': 1, 'gratitude': 78, 'gray': 1, 'grease': 1, 'great': 650, 'greater': 3, 'greatest': 1, 'greatly': 65, 'greatness': 6, 'greedy': 1, 'greek': 1, 'green': 3, 'greener': 1, 'greet': 1, 'greeted': 6, 'greg': 8, 'grid': 8, 'grit': 1, 'groom': 1, 'ground': 14, 'grounded': 1, 'groundwater': 1, 'groundwork': 2, 'group': 77, 'groups': 23, 'groupsã': 1, 'grow': 49, 'growing': 14, 'grown': 1, 'grows': 1, 'growth': 43, 'grs': 3, 'grzeg': 10, 'gs': 2, 'gsa': 1, 'gsk': 3, 'gtin': 1, 'gtins': 1, 'gtm': 1, 'gtw': 1, 'guarantees': 5, 'guard': 9, 'guarded': 13, 'guardian': 1, 'guarding': 1, 'guess': 1, 'guests': 5, 'gui': 2, 'guid': 1, 'guidance': 54, 'guide': 8, 'guided': 15, 'guidelines': 1, 'guides': 3, 'guiding': 21, 'guild': 1, 'guilherme': 2, 'guillermo': 1, 'guimin': 1, 'gulfstream': 1, 'guns': 4, 'guru': 1, 'gush': 1, 'gut': 1, 'guy': 2, 'guys': 122, 'gvii': 1, 'gw': 2, 'gw2': 2, 'gwes': 8, 'gwo': 7, 'gwp': 7, 'gws': 2, 'gx': 1, 'gyroscopic': 1, 'gznb': 1, 'h2': 2, 'h2smr': 1, 'ha': 2, 'habit': 1, 'habits': 15, 'hackathon': 3, 'hacker': 1, 'hackers': 1, 'had': 386, 'hadn': 24, 'hai': 1, 'haji': 8, 'hakuna': 1, 'half': 24, 'halfway': 1, 'hallmark': 1, 'ham': 2, 'hammer': 1, 'hand': 51, 'handed': 2, 'handedly': 3, 'handholding': 1, 'handle': 11, 'handled': 15, 'handlers': 1, 'handling': 39, 'handover': 3, 'hands': 60, 'hangar': 1, 'hanna': 1, 'happen': 40, 'happened': 25, 'happening': 10, 'happens': 1, 'happiest': 1, 'happily': 1, 'happiness': 1, 'happy': 46, 'harassment': 10, 'harbors': 2, 'hard': 181, 'hardening': 2, 'harder': 1, 'hardest': 1, 'hardly': 1, 'hardware': 15, 'hardwork': 1, 'hardworking': 2, 'hari': 3, 'harish': 1, 'harjinder': 1, 'harm': 4, 'harmony': 1, 'harness': 1, 'harnessing': 1, 'harry': 1, 'harshada': 1, 'hartford': 1, 'harvey': 1, 'has': 470, 'hasn': 5, 'hasnt': 4, 'hat': 9, 'hate': 1, 'hats': 3, 'hauled': 1, 'havas': 2, 'have': 1311, 'haven': 2, 'haves': 1, 'having': 98, 'hazard': 22, 'hazardous': 23, 'hazards': 27, 'hazel': 1, 'hba': 2, 'hc': 1, 'hc2': 1, 'hce': 3, 'hcps': 6, 'hdipt': 1, 'hds': 2, 'he': 87, 'head': 23, 'headcount': 1, 'headed': 1, 'header': 9, 'headquarters': 10, 'heads': 4, 'headwinds': 1, 'health': 73, 'healthcare': 5, 'healthier': 1, 'healthy': 22, 'heap': 6, 'hear': 9, 'heard': 11, 'hearing': 9, 'heart': 15, 'heartbeat': 1, 'heartfelt': 2, 'hearts': 3, 'heartwarming': 1, 'heaters': 1, 'heather': 5, 'heavily': 5, 'heavy': 2, 'heck': 1, 'hectic': 2, 'hector': 1, 'hee': 1, 'hefty': 4, 'heights': 1, 'heinz': 1, 'heitor': 1, 'held': 10, 'helicopter': 1, 'helium': 1, 'hell': 1, 'hello': 12, 'helm': 4, 'help': 544, 'helpdesk': 14, 'helped': 168, 'helpful': 49, 'helping': 221, 'helps': 43, 'heme': 1, 'hemi': 3, 'henning': 1, 'her': 133, 'herculean': 2, 'herday': 1, 'here': 79, 'heres': 2, 'heritage': 9, 'heritages': 1, 'hermann': 1, 'hernandez': 1, 'heroes': 1, 'heroic': 1, 'herself': 2, 'hesitant': 3, 'hesitate': 17, 'hesitated': 1, 'hesitation': 10, 'hetal': 1, 'hex': 1, 'hexagon': 2, 'hey': 26, 'hhmi': 1, 'hi': 169, 'hiccups': 1, 'hiding': 10, 'hierarchy': 11, 'high': 116, 'higher': 3, 'highest': 12, 'highlight': 14, 'highlighted': 16, 'highlighting': 19, 'highlights': 2, 'highly': 28, 'hiking': 2, 'hilarious': 1, 'hill': 1, 'hillary': 4, 'hills': 2, 'him': 47, 'hire': 13, 'hires': 11, 'hiring': 4, 'his': 102, 'hispanic': 4, 'historic': 1, 'historical': 3, 'history': 9, 'hit': 14, 'hitch': 5, 'hitting': 27, 'hln': 1, 'hm': 1, 'hmb': 1, 'hobbies': 1, 'hoc': 2, 'hold': 8, 'holden': 1, 'holders': 3, 'holding': 2, 'hole': 1, 'holiday': 15, 'holidays': 12, 'holistic': 2, 'holistically': 1, 'holly': 2, 'home': 82, 'homeless': 1, 'homemade': 1, 'homework': 1, 'honest': 14, 'honestly': 11, 'honesty': 4, 'hong': 1, 'honor': 1, 'honorary': 1, 'honored': 3, 'honorees': 1, 'honoured': 1, 'hood': 2, 'hooked': 1, 'hoops': 2, 'hootsuite': 1, 'hop': 4, 'hope': 43, 'hopefully': 12, 'hopes': 2, 'hoping': 4, 'hopping': 4, 'horizons': 1, 'horns': 1, 'horticulturist': 1, 'hose': 9, 'hoses': 9, 'hospital': 3, 'hospitality': 3, 'hospitals': 2, 'host': 4, 'hosted': 11, 'hosting': 17, 'hot': 5, 'hotel': 9, 'hotels': 2, 'hotsy': 1, 'hour': 24, 'hours': 89, 'house': 6, 'household': 1, 'houston': 3, 'hover': 1, 'hovering': 1, 'how': 436, 'however': 30, 'hps': 2, 'hq': 2, 'hr': 15, 'hrlt': 3, 'hrs': 1, 'hsse': 15, 'htmls': 1, 'hts': 1, 'http': 2, 'https': 5, 'hub': 10, 'hubs': 1, 'huddle': 2, 'huddles': 1, 'huge': 95, 'hugely': 18, 'hugh': 1, 'hughen': 1, 'hughes': 1, 'hughly': 1, 'huh': 1, 'hui': 2, 'human': 32, 'humane': 1, 'humanitas': 1, 'humanity': 7, 'humanize': 1, 'humans': 48, 'humble': 3, 'humbled': 2, 'humbly': 1, 'humiliated': 4, 'humility': 2, 'humorous': 1, 'humour': 1, 'hundred': 1, 'hundreds': 10, 'hung': 1, 'hunger': 1, 'hunt': 1, 'hunting': 7, 'huntsville': 1, 'hurdles': 3, 'hurricane': 9, 'hurry': 1, 'husband': 4, 'hvala': 1, 'hvbr': 1, 'hx': 12, 'hxsp': 1, 'hybrid': 1, 'hydrated': 1, 'hydration': 1, 'hypercare': 1, 'hypersonic': 2, 'ia': 3, 'iam': 2, 'ian': 1, 'iass': 1, 'ibm': 21, 'ibrahim': 1, 'ic': 6, 'icann': 1, 'ice': 1, 'icertis': 1, 'icing': 2, 'icon': 2, 'iconnect': 2, 'id': 5, 'idaho': 1, 'idea': 25, 'ideal': 1, 'ideas': 50, 'ideate': 1, 'ideating': 1, 'ideation': 3, 'idempotent': 1, 'identification': 3, 'identified': 57, 'identifies': 1, 'identify': 21, 'identifying': 30, 'idmaic': 1, 'idp': 1, 'ids': 4, 'ie': 1, 'if': 127, 'ifrs': 1, 'ignite': 13, 'ignore': 10, 'ihar': 2, 'ii': 2, 'ilex': 1, 'illiminate': 1, 'illuminated': 1, 'illustrating': 3, 'im': 15, 'image': 4, 'images': 1, 'imagination': 12, 'imaginative': 1, 'imagine': 3, 'imagined': 7, 'imex': 1, 'imjudo': 2, 'immediate': 9, 'immediately': 50, 'immense': 7, 'immensely': 9, 'immerse': 1, 'immunization': 1, 'immunizations': 1, 'impact': 97, 'impacted': 20, 'impactful': 6, 'impacting': 2, 'impacts': 12, 'impeccable': 3, 'impediments': 1, 'imperative': 2, 'imperatives': 1, 'implement': 42, 'implementation': 54, 'implementations': 6, 'implemented': 29, 'implementing': 37, 'implications': 1, 'import': 3, 'importance': 33, 'important': 324, 'importantly': 49, 'imposed': 1, 'impossible': 5, 'impress': 1, 'impressed': 45, 'impressive': 23, 'improve': 77, 'improved': 6, 'improvement': 41, 'improvements': 39, 'improves': 1, 'improving': 21, 'impulse': 1, 'ims': 1, 'in': 3307, 'inaccurate': 1, 'inadvertently': 2, 'inaugural': 1, 'inbox': 9, 'incident': 28, 'incidents': 28, 'incl': 1, 'include': 22, 'included': 12, 'includes': 10, 'including': 36, 'inclusion': 45, 'inclusive': 20, 'inclusivity': 7, 'incoming': 2, 'inconvenience': 1, 'incorporate': 3, 'incorporated': 2, 'incorporating': 1, 'incorrect': 5, 'increase': 19, 'increased': 10, 'increases': 1, 'increasing': 15, 'incredible': 68, 'incredibly': 38, 'incremental': 8, 'incursion': 1, 'incursions': 1, 'indeed': 2, 'indentify': 7, 'independence': 1, 'independent': 10, 'independently': 3, 'indept': 1, 'index': 1, 'india': 5, 'indian': 1, 'indicated': 1, 'indicates': 1, 'indication': 1, 'indicators': 1, 'individual': 25, 'individually': 6, 'individuals': 13, 'induction': 52, 'industrial': 1, 'industry': 4, 'inefficiency': 1, 'infamous': 10, 'infant': 1, 'infected': 14, 'infections': 3, 'infectious': 2, 'infinity': 2, 'influance': 1, 'influence': 12, 'influenced': 1, 'influencer': 1, 'influencers': 2, 'influx': 1, 'info': 4, 'inform': 2, 'information': 115, 'informative': 8, 'informed': 31, 'informs': 1, 'infosec': 250, 'infra': 2, 'infrastructure': 76, 'infrastrucutre': 1, 'infuse': 1, 'ing': 15, 'ingestion': 8, 'ingrid': 1, 'inherent': 3, 'inheritance': 1, 'initial': 19, 'initially': 2, 'initiate': 1, 'initiating': 2, 'initiative': 85, 'initiatives': 30, 'inject': 1, 'injections': 1, 'injuries': 23, 'injury': 4, 'ink': 1, 'inlet': 5, 'innately': 1, 'inner': 1, 'innovate': 3, 'innovation': 48, 'innovations': 3, 'innovative': 17, 'inoperable': 10, 'input': 66, 'inputs': 6, 'inputted': 1, 'inquiries': 2, 'ins': 2, 'insane': 1, 'insanely': 1, 'inside': 4, 'insight': 23, 'insightful': 8, 'insights': 27, 'insignificant': 1, 'insofar': 1, 'insource': 1, 'inspecting': 1, 'inspection': 14, 'inspiration': 7, 'inspirational': 2, 'inspire': 12, 'inspired': 12, 'inspires': 2, 'inspiring': 14, 'instagram': 1, 'install': 1, 'installation': 2, 'installations': 4, 'installed': 1, 'installing': 1, 'instance': 3, 'instances': 9, 'instantaneous': 8, 'instead': 27, 'instilled': 1, 'instilling': 1, 'instinct': 1, 'instinctive': 1, 'instincts': 3, 'institute': 1, 'institution': 1, 'instruction': 14, 'instructions': 1, 'instrument': 1, 'instrumental': 18, 'insulation': 10, 'insurance': 1, 'intact': 2, 'integral': 2, 'integrated': 11, 'integrating': 2, 'integration': 18, 'integrations': 1, 'integrity': 18, 'intel': 3, 'intel18a': 1, 'intellectual': 1, 'intelligent': 1, 'intended': 4, 'intense': 1, 'intensely': 1, 'intensity': 2, 'intensive': 1, 'intent': 3, 'intention': 2, 'interact': 2, 'interacting': 1, 'interaction': 9, 'interactions': 4, 'interactive': 3, 'intercloud': 1, 'interco': 2, 'intercompany': 2, 'intercultural': 1, 'interest': 16, 'interested': 3, 'interesting': 5, 'interests': 16, 'interface': 1, 'interference': 1, 'interim': 3, 'interms': 1, 'internal': 27, 'internally': 9, 'internals': 1, 'international': 6, 'internet': 1, 'internets': 2, 'internships': 1, 'interpretations': 1, 'interrupt': 1, 'interrupted': 2, 'interruptions': 1, 'intervention': 9, 'interventions': 7, 'interview': 6, 'interviewed': 1, 'interviewing': 1, 'interviews': 2, 'intimate': 1, 'into': 295, 'intricacies': 2, 'intricate': 1, 'intro': 15, 'introduce': 2, 'introduced': 4, 'introduction': 2, 'introductions': 1, 'intuitive': 2, 'intune': 3, 'inundated': 1, 'invaluabe': 1, 'invaluable': 34, 'inventoried': 7, 'inventory': 4, 'invest': 3, 'invested': 9, 'investigate': 29, 'investigated': 2, 'investigating': 40, 'investigation': 9, 'investigations': 4, 'investigative': 1, 'investigators': 1, 'investing': 2, 'investment': 8, 'investments': 1, 'invigorated': 1, 'invincible': 1, 'invite': 2, 'invited': 1, 'invoice': 4, 'invoiced': 1, 'invoices': 2, 'involved': 44, 'involvement': 13, 'involving': 11, 'io': 1, 'iocl': 3, 'ios': 1, 'iot': 1, 'ip': 4, 'ipr': 1, 'ips': 1, 'ips3': 1, 'ipsen': 8, 'iq': 20, 'ira': 1, 'irad': 1, 'iraq': 1, 'ireland': 4, 'irina': 5, 'iris': 6, 'irish': 2, 'iron': 1, 'irreplaceable': 1, 'irresponsible': 1, 'iryna': 1, 'is': 1296, 'isentress': 1, 'ish': 5, 'isha': 6, 'island': 1, 'islander': 1, 'isn': 9, 'iso': 48, 'iso27001': 13, 'isobutane': 7, 'isobutylene': 7, 'isolated': 13, 'isolation': 6, 'isopropyl': 7, 'isp': 1, 'isr': 1, 'israel': 2, 'israelâ': 1, 'issue': 201, 'issues': 166, 'ist': 1, 'it': 1642, 'items': 16, 'iterate': 1, 'iterating': 1, 'iterations': 3, 'itl': 1, 'ito': 1, 'itr': 1, 'its': 134, 'itself': 23, 'itâ': 1, 'iv': 1, 'ivan': 1, 'ive': 1, 'ivy': 1, 'iwona': 2, 'iyengar': 3, 'iâ': 1, 'jack': 9, 'jackson': 3, 'jaclyn': 1, 'jacob': 4, 'jacqueline': 1, 'jaime': 1, 'jake': 2, 'jam': 2, 'jamaica': 1, 'jamaican': 1, 'jamal': 6, 'jamar': 1, 'james': 3, 'jamesley': 4, 'jamf': 3, 'jamie': 19, 'jan': 2, 'jane': 1, 'jani': 13, 'janine': 10, 'janitor': 1, 'janssen': 1, 'january': 11, 'jar': 1, 'jasmine': 1, 'jason': 18, 'jasonâ': 1, 'jatin': 1, 'jaume': 1, 'java': 3, 'javascript': 1, 'jay': 1, 'jdk': 1, 'jds': 1, 'je': 1, 'jealous': 1, 'jean': 2, 'jeco': 1, 'jeff': 9, 'jen': 7, 'jenkins': 5, 'jenn': 2, 'jenna': 3, 'jenne': 1, 'jennifer': 2, 'jenny': 2, 'jeopardy': 1, 'jerry': 1, 'jerzy': 1, 'jess': 14, 'jesse': 7, 'jessica': 10, 'jet': 1, 'jewish': 1, 'jfkgeo': 1, 'jiachuan': 1, 'jidong': 2, 'jill': 1, 'jillian': 15, 'jim': 23, 'jimmy': 2, 'jims': 1, 'jin': 1, 'jira': 10, 'jj': 1, 'jl': 1, 'jll': 12, 'jmx': 1, 'jnj': 3, 'joanna': 1, 'joanne': 1, 'joao': 1, 'job': 248, 'jobs': 13, 'jobâ': 1, 'jocelyn': 1, 'joe': 5, 'joel': 3, 'john': 19, 'johnny': 3, 'johns': 1, 'johnson': 4, 'join': 29, 'joined': 44, 'joiner': 1, 'joining': 19, 'joins': 3, 'joint': 3, 'joke': 3, 'jokes': 4, 'jon': 3, 'jonathan': 3, 'jordan': 1, 'jose': 9, 'josephine': 2, 'josh': 10, 'joshua': 3, 'josie': 1, 'journey': 48, 'jovial': 1, 'joy': 11, 'joyce': 4, 'joyful': 1, 'jozef': 1, 'jp': 2, 'jpg': 1, 'jr': 1, 'juan': 1, 'juanita': 1, 'judgement': 3, 'judging': 1, 'judith': 7, 'juggle': 3, 'juggled': 1, 'juggling': 6, 'julia': 4, 'julian': 3, 'julie': 2, 'julius': 1, 'july': 10, 'jump': 10, 'jumped': 32, 'jumping': 56, 'jun': 6, 'junction': 4, 'juncture': 1, 'june': 6, 'juneteenth': 2, 'juniper': 1, 'junit': 1, 'juniverse': 1, 'just': 388, 'justice': 2, 'justification': 1, 'justin': 3, 'k01': 1, 'k02': 1, 'kafeel': 6, 'kafka': 2, 'kaizen': 4, 'kamal': 2, 'karen': 2, 'kat': 5, 'kate': 3, 'katerina': 2, 'kathleen': 5, 'kathryn': 1, 'katia': 1, 'katie': 3, 'katrina': 1, 'katrine': 4, 'katy': 4, 'katya': 9, 'kaushal': 2, 'kawther': 1, 'kay': 1, 'kayleigh': 1, 'kecia': 3, 'kedar': 1, 'kee': 1, 'keelin': 6, 'keen': 22, 'keenly': 1, 'keep': 286, 'keeper': 1, 'keeping': 239, 'keeps': 14, 'keith': 2, 'kelly': 6, 'kellye': 3, 'kelvin': 1, 'kendall': 1, 'kept': 67, 'kera': 1, 'kev': 6, 'kevin': 22, 'kevy': 1, 'key': 105, 'keyboard': 1, 'keys': 2, 'keyway': 1, 'keywords': 1, 'khatri': 1, 'khazzan': 10, 'kick': 16, 'kicking': 3, 'kickoff': 3, 'kidding': 1, 'kiddos': 1, 'kids': 1, 'kilkenny': 1, 'kill': 1, 'killed': 1, 'kilo': 7, 'kim': 9, 'kimia': 1, 'kind': 28, 'kindly': 1, 'kindness': 24, 'kinds': 9, 'king': 1, 'kiran': 3, 'kit': 1, 'kla': 1, 'klas': 1, 'knew': 34, 'knife': 1, 'knock': 1, 'knocked': 2, 'knocking': 8, 'know': 266, 'knowing': 27, 'knowledgable': 1, 'knowledge': 148, 'knowledgeable': 5, 'known': 9, 'knows': 28, 'kog': 1, 'kohler': 7, 'kols': 2, 'kong': 1, 'korea': 2, 'kostas': 1, 'koumila': 1, 'kpi': 1, 'kpis': 1, 'kpmg': 1, 'kraft': 1, 'kri': 1, 'kris': 1, 'krishna': 2, 'kristen': 2, 'kristin': 1, 'kristine': 1, 'krzysztof': 4, 'ks': 1, 'kts': 1, 'kudos': 10, 'kunal': 2, 'kyc': 3, 'kyle': 1, 'l1': 1, 'l2': 1, 'l3': 1, 'l41': 1, 'lab': 22, 'labels': 1, 'labor': 8, 'laboratory': 1, 'labs': 5, 'lack': 1, 'lacking': 1, 'ladies': 24, 'lads': 3, 'lakshmanan': 8, 'lamesh': 1, 'land': 1, 'landed': 1, 'landing': 3, 'landmines': 1, 'landon': 2, 'landscape': 6, 'lane': 4, 'lanes': 2, 'language': 12, 'languages': 2, 'laps': 3, 'laptop': 7, 'large': 19, 'larger': 6, 'largest': 6, 'laser': 7, 'lasers': 2, 'lashawn': 2, 'last': 296, 'lasting': 2, 'lastly': 2, 'late': 30, 'lately': 16, 'later': 5, 'lateral': 1, 'latest': 36, 'latin': 1, 'latitude': 1, 'latter': 1, 'laugh': 3, 'laughed': 1, 'laughter': 2, 'launch': 55, 'launched': 4, 'launches': 3, 'launching': 7, 'launchpad': 1, 'laundry': 2, 'laura': 15, 'laurels': 1, 'lauren': 7, 'laurie': 1, 'laury': 4, 'law': 2, 'laws': 5, 'lay': 5, 'layer': 1, 'layoffs': 1, 'layout': 3, 'lays': 1, 'lazard': 1, 'lazy': 1, 'lca': 1, 'lcc': 1, 'lcsw': 1, 'ldar': 12, 'lead': 81, 'leader': 70, 'leaders': 27, 'leadership': 176, 'leading': 82, 'leads': 15, 'leak': 32, 'leaked': 9, 'leaks': 2, 'lean': 4, 'leandro': 1, 'leanne': 2, 'learn': 67, 'learned': 30, 'learner': 2, 'learners': 1, 'learning': 68, 'learnings': 11, 'learnt': 2, 'least': 26, 'leave': 45, 'leaver': 12, 'leaves': 1, 'leaving': 15, 'lecture': 2, 'led': 64, 'ledger': 1, 'lee': 13, 'leena': 2, 'left': 37, 'leg': 4, 'legacy': 4, 'legal': 29, 'legend': 1, 'legendary': 2, 'legitimately': 1, 'legrand': 1, 'leigh': 1, 'len': 1, 'lend': 4, 'lending': 4, 'length': 1, 'lengthy': 1, 'lens': 5, 'lent': 8, 'leo': 4, 'leon': 1, 'leozi': 1, 'leslie': 4, 'less': 23, 'lessons': 13, 'let': 51, 'lets': 5, 'letting': 10, 'leukemia': 1, 'levant': 1, 'level': 75, 'level2': 1, 'levels': 25, 'lever': 1, 'leverage': 13, 'leveraged': 2, 'leveraging': 1, 'levers': 2, 'lexi': 1, 'lgbtq': 4, 'lgbtqia': 1, 'lhm': 1, 'liaising': 1, 'liaison': 1, 'liam': 45, 'lianna': 1, 'liberated': 7, 'liberation': 7, 'library': 1, 'lie': 2, 'liera': 1, 'lies': 1, 'life': 66, 'lifecycle': 2, 'lift': 8, 'lifter': 1, 'liftoff': 1, 'lifts': 1, 'light': 11, 'lighting': 4, 'lightning': 1, 'lights': 10, 'lija': 2, 'like': 260, 'likelihood': 5, 'likeliness': 1, 'likely': 6, 'likes': 2, 'liletta': 1, 'liliana': 4, 'lilly': 2, 'limerick': 1, 'limit': 10, 'limitations': 1, 'limited': 12, 'limits': 3, 'lina': 1, 'lincoln': 1, 'linda': 3, 'lindsey': 2, 'line': 77, 'lined': 2, 'linens': 1, 'lines': 5, 'lingqi': 1, 'linguist': 1, 'lining': 1, 'link': 7, 'linked': 1, 'linkedin': 10, 'linking': 1, 'links': 3, 'linnane': 1, 'linux': 8, 'liquid': 6, 'liquidfiles': 7, 'liquidity': 2, 'liran': 1, 'lisa': 13, 'list': 27, 'listed': 2, 'listen': 13, 'listened': 3, 'listening': 12, 'listens': 1, 'listing': 1, 'lists': 3, 'lit': 1, 'literally': 12, 'litter': 1, 'little': 54, 'liu': 1, 'live': 55, 'lived': 3, 'liverpool': 1, 'lives': 6, 'living': 19, 'liz': 2, 'liza': 28, 'lizette': 1, 'll': 22, 'llc': 1, 'llms': 1, 'lm': 7, 'ln18': 1, 'loa': 1, 'load': 11, 'loaded': 10, 'loading': 1, 'loads': 1, 'loan': 1, 'loaney': 1, 'loaniq': 1, 'loans': 1, 'lobby': 1, 'local': 21, 'locally': 1, 'located': 2, 'locating': 1, 'location': 7, 'locations': 6, 'lock': 3, 'lockdown': 1, 'locked': 11, 'lockheed': 5, 'locking': 10, 'log': 14, 'log4j': 5, 'logged': 3, 'logging': 21, 'logic': 10, 'logistic': 1, 'logistical': 1, 'logistics': 20, 'logons': 9, 'logs': 13, 'lol': 5, 'london': 2, 'long': 72, 'longer': 22, 'longest': 1, 'longevity': 1, 'longstanding': 2, 'lonnie': 5, 'look': 111, 'looked': 15, 'looking': 133, 'lookng': 1, 'lookout': 1, 'looks': 10, 'loop': 12, 'looping': 9, 'lorene': 1, 'lori': 3, 'lose': 1, 'losing': 1, 'loss': 11, 'losses': 1, 'lost': 18, 'lot': 138, 'lots': 37, 'lottery': 1, 'louie': 2, 'louis': 1, 'louise': 15, 'love': 42, 'loved': 21, 'lovely': 14, 'loves': 4, 'low': 16, 'lowest': 1, 'ls': 1, 'lsm': 2, 'lsms': 1, 'lt': 3, 'lt38007': 7, 'lubna': 1, 'lucas': 4, 'luck': 6, 'lucky': 20, 'luis': 1, 'luisa': 1, 'luka': 4, 'lukasz': 2, 'luke': 2, 'lunar': 1, 'lunch': 4, 'lunches': 2, 'luxury': 7, 'lv': 6, 'lvd': 1, 'lvl': 1, 'lyn': 1, 'lyndi': 1, 'lynette': 4, 'lynn': 3, 'lynsey': 3, 'lyon': 8, 'm365': 4, 'ma': 1, 'mabi': 1, 'mac': 5, 'macdonald': 1, 'machine': 25, 'machines': 35, 'mackesy': 1, 'macs': 6, 'macy': 1, 'mad': 11, 'made': 184, 'madison': 1, 'madness': 1, 'maghnus': 1, 'magic': 7, 'magician': 1, 'magnificent': 4, 'magnifying': 1, 'magnitude': 1, 'mahmud': 1, 'mahoney': 1, 'mail': 37, 'mailed': 9, 'mailer': 1, 'mails': 6, 'main': 34, 'mainer': 1, 'mainline': 1, 'maintain': 31, 'maintained': 14, 'maintaining': 120, 'maintenance': 29, 'maith': 1, 'major': 46, 'majority': 5, 'make': 257, 'maker': 1, 'makers': 2, 'makes': 36, 'making': 206, 'makings': 1, 'malaysia': 1, 'malfunctioned': 1, 'malicious': 3, 'mallinckrodt': 1, 'malvern': 1, 'malware': 14, 'mam': 1, 'mammoth': 1, 'man': 5, 'manage': 24, 'manageable': 1, 'managed': 51, 'management': 113, 'manager': 64, 'managerial': 2, 'managers': 6, 'manages': 2, 'managing': 42, 'manassas': 1, 'mandela': 1, 'mando': 8, 'manger': 1, 'mani': 1, 'mania': 1, 'manifest': 2, 'manipulation': 1, 'manner': 59, 'manning': 1, 'manohar': 1, 'manoj': 1, 'manon': 1, 'manpower': 1, 'manpreet': 1, 'mantra': 1, 'manu': 2, 'manual': 12, 'manually': 3, 'manuel': 1, 'manufactures': 1, 'manufacturing': 4, 'manulife': 1, 'many': 348, 'map': 4, 'mapp': 1, 'mapping': 2, 'mar': 1, 'marathon': 2, 'marc': 2, 'march': 2, 'marcin': 1, 'marcos': 4, 'marcus': 1, 'marcy': 2, 'mardakan': 4, 'marek': 1, 'margarita': 1, 'marginalized': 1, 'maria': 6, 'marie': 4, 'marielena': 1, 'marine': 7, 'mario': 1, 'marisa': 14, 'marissa': 2, 'mariya': 1, 'mark': 41, 'marked': 6, 'market': 18, 'marketing': 15, 'marketplace': 1, 'markets': 2, 'marking': 1, 'marks': 1, 'marlene': 1, 'marqeta': 1, 'marriott': 1, 'marshal': 4, 'marshalls': 13, 'marshals': 3, 'mart': 1, 'martin': 22, 'martina': 2, 'marvelled': 1, 'marvellous': 1, 'marvels': 8, 'marvin': 1, 'mary': 11, 'marykay': 1, 'mas': 5, 'mascot': 1, 'masha': 1, 'mask': 22, 'masks': 1, 'massages': 1, 'masses': 1, 'massive': 33, 'massively': 1, 'master': 9, 'mastercard': 1, 'masterclass': 1, 'mastered': 5, 'masterful': 3, 'masterfully': 4, 'mastering': 1, 'mastery': 1, 'mat': 2, 'matata': 1, 'match': 2, 'matched': 1, 'matches': 2, 'matching': 1, 'material': 14, 'materials': 29, 'maternity': 4, 'mates': 4, 'matrices': 1, 'matrix': 2, 'matrixone': 1, 'matt': 8, 'matter': 29, 'mattered': 1, 'matters': 6, 'matthew': 1, 'matthias': 1, 'maturity': 4, 'maura': 3, 'maureen': 1, 'max': 1, 'maximize': 2, 'maximizing': 1, 'maximum': 2, 'maxine': 3, 'maxx': 1, 'may': 66, 'maya': 1, 'maybe': 5, 'mba': 1, 'mbo': 1, 'mbr': 1, 'mc': 1, 'mcardle': 1, 'mcare': 2, 'mcbrg': 1, 'mcconnell': 1, 'mccormack': 2, 'mcdaid': 1, 'mckinsey': 1, 'md2': 5, 'md8': 1, 'mds': 2, 'me': 507, 'meal': 1, 'meals': 2, 'mean': 15, 'meaning': 3, 'meaningful': 7, 'means': 19, 'meant': 19, 'measurable': 5, 'measure': 3, 'measured': 6, 'measures': 41, 'meaty': 1, 'mecap': 1, 'mechanics': 1, 'mechanisms': 5, 'medford': 1, 'media': 6, 'mediation': 1, 'medical': 9, 'medication': 1, 'medicine': 2, 'medicines': 1, 'meditation': 3, 'mediterranean': 1, 'meenakshi': 1, 'meet': 64, 'meeting': 92, 'meetings': 46, 'mega': 1, 'megan': 12, 'meghan': 3, 'mehreen': 1, 'meisha': 4, 'melanie': 1, 'melissa': 34, 'mellon': 4, 'melvin': 2, 'member': 33, 'member_desktop': 1, 'members': 73, 'memorable': 3, 'memorial': 1, 'memories': 1, 'memory': 2, 'mental': 18, 'mentally': 1, 'mentee': 3, 'mentees': 1, 'mention': 14, 'mentioned': 6, 'mentor': 14, 'mentoring': 6, 'mentors': 1, 'mentorship': 14, 'menu': 1, 'mer': 1, 'meraki': 3, 'mercer': 2, 'merch': 3, 'merchandise': 8, 'merchandising': 1, 'merchant': 2, 'merck': 13, 'mere': 1, 'merged': 1, 'merges': 2, 'merging': 1, 'merit': 1, 'merry': 1, 'mes': 1, 'mesh': 2, 'mess': 4, 'message': 26, 'messaged': 2, 'messages': 12, 'messaging': 7, 'messed': 1, 'messy': 5, 'met': 26, 'meta': 5, 'metadata': 1, 'metal': 1, 'metals': 7, 'metaphor': 2, 'methanol': 5, 'method': 9, 'methodically': 1, 'methodology': 3, 'methods': 2, 'meticulous': 1, 'meticulously': 1, 'metric': 1, 'metrics': 13, 'meu': 1, 'mexico': 1, 'mezâ': 1, 'meâ': 1, 'mfa': 5, 'mfc': 1, 'mgmt': 1, 'mhhs': 1, 'miami': 1, 'mica': 1, 'micaiah': 1, 'michael': 9, 'michaela': 1, 'michal': 1, 'michelle': 29, 'michigan': 3, 'mick': 1, 'micro': 1, 'microaggressions': 1, 'microsite': 1, 'microsites': 8, 'mid': 12, 'middle': 7, 'midnight': 2, 'midst': 2, 'midwest': 1, 'mig': 1, 'might': 37, 'mighty': 3, 'migrate': 5, 'migrated': 3, 'migrating': 4, 'migration': 18, 'migrations': 4, 'migrator': 1, 'miguel': 8, 'mihika': 1, 'mihirana': 1, 'mike': 20, 'mikhail': 1, 'milan': 1, 'mile': 18, 'miles': 3, 'milestone': 15, 'milestones': 3, 'military': 1, 'mill': 2, 'million': 41, 'millions': 6, 'mim': 1, 'mind': 36, 'minded': 3, 'mindedness': 2, 'mindful': 2, 'mindfulness': 1, 'minding': 1, 'minds': 10, 'mindset': 17, 'mine': 2, 'minerva': 1, 'mini': 1, 'minimal': 19, 'minimize': 13, 'minimized': 1, 'minimizing': 3, 'minimum': 7, 'minions': 1, 'minor': 11, 'minsun': 4, 'minus': 1, 'minute': 38, 'minutes': 30, 'mirela': 1, 'mirfie': 1, 'miro': 2, 'mirror': 1, 'misconceptions': 1, 'miss': 11, 'missed': 5, 'misses': 6, 'missing': 6, 'mission': 12, 'missoula': 1, 'mistake': 2, 'mistakes': 10, 'misuse': 3, 'mitdc': 1, 'mitigants': 1, 'mitigate': 18, 'mitigated': 2, 'mitigating': 6, 'mitigation': 18, 'mix': 3, 'mixed': 1, 'mixer': 1, 'mixing': 3, 'mkre': 1, 'mmd': 1, 'mmr': 1, 'mo': 5, 'mobile': 7, 'mobility': 2, 'mobilize': 1, 'mobillica': 6, 'mock': 1, 'mocked': 1, 'modals': 2, 'mode': 11, 'model': 15, 'modeling': 2, 'modelling': 3, 'models': 1, 'modern': 25, 'modernization': 1, 'modernize': 3, 'module': 8, 'modules': 5, 'moh': 1, 'mohd': 12, 'mohith': 1, 'mom': 1, 'moment': 82, 'momentous': 1, 'moments': 23, 'momentsateaton': 2, 'momentum': 3, 'momma': 1, 'moms': 1, 'mon': 1, 'monarch': 1, 'monday': 15, 'money': 1, 'monica': 1, 'monitor': 3, 'monitoring': 30, 'monolithic': 1, 'month': 105, 'monthly': 8, 'months': 131, 'monty': 2, 'monumental': 3, 'mood': 1, 'moodtracker': 2, 'moore': 1, 'mopping': 1, 'morale': 1, 'morales': 1, 'more': 291, 'moreover': 1, 'morgan': 9, 'morgana': 1, 'morning': 60, 'mornings': 8, 'morocco': 1, 'most': 145, 'mostly': 6, 'mother': 2, 'motion': 1, 'motions': 1, 'motivate': 2, 'motivated': 1, 'motivates': 1, 'motivating': 2, 'motivation': 11, 'motivational': 1, 'motivations': 1, 'motors': 4, 'motto': 1, 'mountain': 4, 'mountains': 1, 'mouse': 2, 'move': 44, 'moved': 10, 'movement': 2, 'moves': 2, 'movies': 1, 'moving': 49, 'mps': 1, 'mqv': 4, 'ms': 17, 'msc': 1, 'msd': 7, 'msk': 3, 'mtg': 1, 'mtgs': 1, 'much': 618, 'mucosal': 1, 'muddy': 1, 'muhsina': 1, 'multi': 3, 'multicultural': 1, 'multifaceted': 2, 'multiple': 70, 'multitude': 5, 'murnane': 1, 'murphy': 1, 'mush': 1, 'music': 3, 'muslims': 1, 'must': 16, 'mutual': 2, 'mutually': 2, 'mw': 1, 'mwi': 1, 'my': 408, 'myk': 1, 'myriad': 3, 'myself': 59, 'mysterious': 2, 'mythology': 1, 'na': 2, 'nadine': 2, 'nadir': 6, 'nadzey': 1, 'naed': 1, 'nailed': 2, 'nam': 3, 'name': 15, 'named': 2, 'names': 4, 'namt': 2, 'nancy': 2, 'naomi': 2, 'nappy': 1, 'narmin': 1, 'narrative': 10, 'narrow': 1, 'nasty': 2, 'natalia': 1, 'natalini': 1, 'natallia': 1, 'natig': 1, 'national': 4, 'nationwide': 1, 'native': 2, 'natural': 4, 'naturally': 4, 'nature': 19, 'nautical': 1, 'nav': 1, 'naveen': 2, 'navigate': 10, 'navigated': 3, 'navigating': 14, 'navigation': 2, 'navy': 2, 'nb': 1, 'nda': 9, 'neac': 1, 'neal': 1, 'near': 21, 'nearing': 1, 'nearly': 11, 'neat': 2, 'nebula': 5, 'necessarily': 4, 'necessary': 33, 'need': 100, 'needed': 170, 'needing': 3, 'needle': 1, 'needless': 7, 'needs': 39, 'negative': 8, 'negatively': 2, 'negotiate': 1, 'negotiated': 2, 'negotiating': 2, 'negotiation': 3, 'negotiations': 1, 'negotiator': 1, 'neha': 5, 'neighbourhood': 8, 'neil': 3, 'neill': 1, 'nerves': 3, 'nervous': 2, 'nessus': 8, 'net': 21, 'netflix': 1, 'netherlands': 1, 'network': 41, 'networking': 8, 'networks': 2, 'neutral': 1, 'never': 98, 'new': 444, 'newbie': 15, 'newbies': 1, 'newcomer': 1, 'newer': 5, 'newest': 9, 'newly': 22, 'newport': 1, 'news': 12, 'newsletter': 1, 'next': 95, 'ngfw': 2, 'nh': 1, 'nhp': 1, 'nhs': 3, 'niall': 8, 'niamh': 5, 'nic': 2, 'nice': 18, 'nicely': 6, 'nicer': 2, 'nicest': 1, 'nicholas': 1, 'nick': 9, 'nickname': 1, 'nicky': 1, 'nicole': 2, 'nicu': 1, 'night': 57, 'nightmare': 1, 'nights': 3, 'nightshift': 4, 'nikki': 1, 'nilson': 1, 'nina': 2, 'nine': 1, 'ninja': 1, 'nist': 5, 'nj': 1, 'nlp': 2, 'no': 165, 'noah': 2, 'node': 5, 'noel': 1, 'noels': 1, 'noemiâ': 1, 'noise': 6, 'nolbas': 1, 'nominated': 1, 'nomination': 2, 'nominations': 1, 'non': 8, 'none': 13, 'nora': 1, 'nordic': 2, 'noreen': 2, 'normal': 31, 'normally': 8, 'norman': 1, 'norms': 1, 'north': 7, 'nos': 1, 'noshing': 1, 'not': 481, 'notably': 7, 'notation': 3, 'notch': 3, 'note': 37, 'noted': 17, 'notes': 4, 'nothing': 35, 'notice': 20, 'noticeable': 1, 'noticed': 20, 'noticing': 6, 'notifications': 1, 'notify': 1, 'nous': 1, 'nov': 2, 'nova': 1, 'novel': 11, 'now': 179, 'npi': 1, 'npmm': 1, 'nps': 2, 'nr': 2, 'nre': 1, 'ns': 1, 'nsbe': 1, 'nsr': 1, 'ntb': 1, 'nuance': 1, 'nuanced': 3, 'nuances': 3, 'nudges': 2, 'nuggets': 3, 'number': 43, 'numbers': 10, 'numerous': 22, 'nurse': 2, 'nurses': 1, 'nursing': 1, 'nurture': 5, 'nut': 1, 'nutrition': 1, 'nuvance': 1, 'nuvs': 7, 'nyc': 1, 'nycu': 1, 'obfuscation': 3, 'object': 2, 'objectives': 8, 'objects': 1, 'obligations': 1, 'obliging': 2, 'obo': 2, 'obrigada': 1, 'observability': 1, 'observation': 8, 'observations': 3, 'observe': 1, 'observed': 6, 'obstacle': 3, 'obstacles': 9, 'obtained': 1, 'obtaining': 3, 'obvious': 18, 'obviously': 4, 'occasion': 4, 'occasionally': 1, 'occasions': 17, 'occur': 3, 'occurred': 1, 'occurrence': 1, 'occurrences': 1, 'occurring': 9, 'ochsner': 1, 'oci': 5, 'oct': 1, 'october': 6, 'odd': 5, 'odm': 1, 'odq': 1, 'oee': 1, 'of': 3791, 'off': 153, 'offboarding': 1, 'offenders': 6, 'offending': 7, 'offer': 14, 'offered': 8, 'offering': 13, 'offerings': 1, 'offers': 3, 'office': 131, 'officer': 7, 'offices': 17, 'offline': 3, 'offs': 1, 'offshore': 5, 'offsite': 17, 'often': 17, 'og': 1, 'og0': 1, 'ognyan': 2, 'oh': 1, 'ohio': 1, 'ohiohealth': 1, 'ohs': 1, 'oid': 1, 'oil': 3, 'oiled': 1, 'oils': 1, 'oim': 6, 'ojt': 1, 'ok': 22, 'okay': 1, 'okr': 3, 'okrs': 1, 'okta': 1, 'olathe': 1, 'old': 15, 'older': 1, 'oleg': 11, 'olga': 2, 'olieslagers': 1, 'olink': 1, 'olivia': 3, 'ollie': 1, 'om': 1, 'omar': 2, 'omero': 1, 'ominously': 1, 'omissions': 1, 'omkar': 1, 'omnichannel': 1, 'oms': 11, 'on': 2030, 'onboard': 14, 'onboarded': 6, 'onboarding': 114, 'oncall': 1, 'once': 68, 'oncology': 1, 'one': 382, 'oneadp': 2, 'onedrive': 2, 'onelm': 1, 'onerous': 6, 'ones': 19, 'oneteamonedream': 2, 'ongoing': 29, 'online': 12, 'only': 197, 'onr': 1, 'onshore': 8, 'onsite': 60, 'onto': 9, 'onward': 1, 'ooh': 1, 'ooo': 2, 'oos': 1, 'opeex': 1, 'open': 36, 'opened': 1, 'openet': 1, 'opening': 9, 'openly': 3, 'openness': 10, 'opens': 11, 'opentext': 1, 'operate': 16, 'operates': 2, 'operating': 26, 'operation': 48, 'operational': 38, 'operations': 77, 'operators': 1, 'opex': 2, 'ophelia': 1, 'opinion': 8, 'opinions': 3, 'opportunities': 35, 'opportunity': 97, 'ops': 13, 'optimal': 1, 'optimism': 2, 'optimization': 3, 'optimizations': 1, 'optimize': 5, 'optimizely': 1, 'optimizing': 1, 'option': 1, 'options': 6, 'optum': 1, 'or': 234, 'oracle': 14, 'oragh': 5, 'oral': 10, 'oran': 2, 'orator': 1, 'orchestration': 1, 'order': 39, 'ordered': 5, 'orders': 17, 'ordinate': 7, 'ordinated': 1, 'ordinating': 9, 'ordination': 2, 'org': 19, 'organic': 3, 'organisation': 50, 'organisational': 1, 'organise': 2, 'organised': 1, 'organising': 22, 'organization': 45, 'organizational': 2, 'organize': 4, 'organized': 10, 'organizers': 2, 'organizing': 13, 'organon': 5, 'orientation': 7, 'oriented': 1, 'origin': 2, 'original': 6, 'originally': 1, 'origination': 1, 'orion': 2, 'orlagh': 12, 'orlando': 1, 'ornagizing': 1, 'orr': 1, 'orrp': 1, 'ors': 1, 'oscar': 6, 'ot': 1, 'otc': 1, 'other': 160, 'others': 98, 'otherwise': 2, 'our': 2207, 'ours': 5, 'ourselves': 10, 'out': 594, 'outage': 5, 'outbound': 2, 'outbox': 2, 'outcome': 13, 'outcomes': 28, 'outdoors': 1, 'outliers': 1, 'outline': 9, 'outlined': 1, 'outlines': 1, 'outlook': 2, 'outreach': 1, 'outs': 1, 'outset': 1, 'outside': 22, 'outstanding': 59, 'outward': 3, 'over': 333, 'overal': 1, 'overall': 50, 'overarching': 1, 'overcame': 1, 'overcome': 12, 'overcoming': 3, 'overdue': 28, 'overhaul': 1, 'overhead': 4, 'overload': 1, 'overlook': 1, 'overlooked': 2, 'overly': 3, 'overpressure': 1, 'oversaw': 1, 'overseeing': 3, 'oversight': 14, 'overview': 4, 'overwhelmed': 2, 'overwhelming': 2, 'overwhelmingly': 1, 'owe': 2, 'owen': 3, 'own': 61, 'owned': 2, 'owner': 11, 'owners': 11, 'ownership': 27, 'owning': 6, 'owns': 1, 'p1': 1, 'p2p': 1, 'pablo': 8, 'pace': 4, 'paced': 2, 'pacific': 1, 'pack': 11, 'package': 7, 'packages': 1, 'packed': 4, 'packets': 1, 'pad': 1, 'padlock': 1, 'padraig': 3, 'page': 6, 'pages': 7, 'paid': 13, 'pain': 3, 'painstaking': 1, 'painting': 1, 'pair': 10, 'pairs': 1, 'pallet': 1, 'pallets': 1, 'pandemic': 3, 'pandey': 1, 'panel': 9, 'panels': 1, 'pangbourne': 10, 'panic': 10, 'panipat': 3, 'paper': 1, 'papers': 1, 'paperwork': 10, 'paradigm': 2, 'parallel': 2, 'parameters': 1, 'paramount': 4, 'parents': 1, 'paris': 2, 'parish': 1, 'parity': 2, 'park': 9, 'parking': 4, 'parks': 2, 'parkwest': 1, 'parkwood': 1, 'part': 388, 'partial': 1, 'participant': 2, 'participants': 67, 'participate': 10, 'participated': 5, 'participating': 26, 'participation': 23, 'particular': 15, 'particularly': 21, 'parties': 8, 'partly': 1, 'partner': 54, 'partnering': 18, 'partners': 35, 'partnership': 54, 'partnerships': 2, 'parts': 45, 'party': 20, 'pass': 4, 'passed': 9, 'passing': 3, 'passion': 33, 'passionate': 2, 'password': 2, 'passwords': 3, 'past': 116, 'pastries': 1, 'patch': 1, 'patched': 24, 'patches': 11, 'patching': 20, 'path': 12, 'paths': 3, 'patick': 1, 'patience': 51, 'patient': 41, 'patiently': 11, 'patients': 20, 'patio': 1, 'patrice': 1, 'patrick': 5, 'pattern': 2, 'patterns': 4, 'patty': 1, 'paul': 7, 'paula': 1, 'paulâ': 1, 'pave': 1, 'paved': 1, 'pavel': 1, 'pavels': 1, 'paving': 2, 'paxlovid': 1, 'pay': 9, 'paycheck': 1, 'payment': 12, 'payments': 15, 'payoff': 1, 'payroll': 7, 'payslip': 2, 'payslips': 1, 'pbwm': 1, 'pc': 1, 'pca': 1, 'pcc': 2, 'pci': 7, 'pcis': 1, 'pcts': 1, 'pdps': 1, 'pdr': 2, 'pdx': 1, 'peace': 6, 'peaceful': 1, 'peak': 1, 'peaking': 2, 'peaks': 1, 'pearse': 2, 'ped': 1, 'pedestals': 1, 'pedestrian': 5, 'peek': 10, 'peer': 16, 'peers': 7, 'pels': 1, 'pen': 17, 'penalties': 2, 'penalty': 1, 'pending': 1, 'pension': 1, 'people': 191, 'peoples': 12, 'peoria': 1, 'peppering': 1, 'pepsi': 8, 'pepsico': 4, 'per': 14, 'percentage': 1, 'pere': 1, 'perfect': 15, 'perfection': 1, 'perfectly': 4, 'perform': 38, 'performance': 56, 'performances': 2, 'performed': 11, 'performer': 1, 'performing': 11, 'perhaps': 1, 'period': 37, 'periods': 1, 'permanent': 2, 'permission': 1, 'permissions': 9, 'permit': 4, 'permits': 3, 'persefoni': 1, 'perseverance': 8, 'persevere': 1, 'persevered': 2, 'persistence': 7, 'persistent': 5, 'persistently': 1, 'person': 43, 'persona': 2, 'personable': 1, 'personal': 74, 'personality': 2, 'personalized': 2, 'personally': 21, 'personnel': 1, 'perspective': 20, 'perspectives': 8, 'persuasion': 1, 'pertinent': 1, 'pet': 2, 'peter': 21, 'petrofac': 1, 'pf': 10, 'pf347': 1, 'pfd': 2, 'pfe': 1, 'pfizer': 5, 'pfizerworks': 1, 'pfs': 2, 'pgp': 1, 'pgs': 1, 'ph': 2, 'pharma': 3, 'pharmaceutical': 1, 'pharmacy': 1, 'phase': 22, 'phased': 11, 'phases': 2, 'phd': 1, 'phenom': 1, 'phenomenal': 7, 'phenotypic': 1, 'phieng': 1, 'phil': 1, 'philip': 1, 'phillip': 1, 'philly': 1, 'philosophy': 1, 'phish': 8, 'phishes': 1, 'phishing': 27, 'phny': 1, 'phoenix': 6, 'phone': 17, 'photo': 5, 'photos': 7, 'phrase': 6, 'phycological': 1, 'physical': 12, 'physically': 2, 'physiological': 10, 'pick': 17, 'picked': 5, 'picking': 5, 'pickup': 1, 'picnic': 1, 'pics': 1, 'picture': 13, 'pictures': 11, 'pids': 1, 'pie': 3, 'piece': 25, 'pieced': 1, 'pieces': 7, 'pii': 94, 'pillar': 2, 'pilot': 1, 'piloting': 1, 'pimwadee': 2, 'pin': 2, 'pinch': 2, 'pioneer': 1, 'pioneered': 5, 'piotr': 1, 'pipe': 1, 'pipeline': 12, 'pipelines': 14, 'pirics': 1, 'pit': 5, 'pitching': 2, 'pitfalls': 1, 'pivot': 5, 'pivotal': 6, 'pivoted': 2, 'pivoting': 13, 'pivots': 1, 'piyush': 1, 'pizza': 1, 'place': 167, 'placed': 5, 'placements': 1, 'places': 2, 'plagiarising': 1, 'plain': 1, 'plan': 94, 'planet': 2, 'planned': 13, 'planner': 2, 'planning': 66, 'plans': 34, 'plant': 13, 'planted': 1, 'planting': 1, 'plants': 2, 'plastics': 1, 'plate': 8, 'plateau': 1, 'plates': 6, 'platform': 75, 'platforms': 3, 'play': 27, 'playbooks': 1, 'played': 39, 'player': 20, 'players': 4, 'playing': 4, 'plays': 2, 'plaza': 1, 'plcs': 5, 'ple': 1, 'pleasant': 1, 'please': 39, 'pleased': 10, 'pleases': 1, 'pleasing': 1, 'pleasure': 45, 'plenty': 5, 'plethora': 4, 'plots': 10, 'plug': 1, 'plugging': 1, 'plugs': 5, 'plumbing': 1, 'plunge': 1, 'plus': 12, 'pluton': 1, 'pm': 7, 'pms': 2, 'po': 5, 'poc': 3, 'pod': 15, 'podcast': 2, 'podcasts': 1, 'pods': 1, 'poe': 1, 'point': 39, 'point32health': 2, 'pointed': 2, 'pointing': 3, 'points': 13, 'poise': 3, 'poland': 1, 'poles': 2, 'polices': 1, 'policies': 25, 'policy': 26, 'polished': 2, 'polishing': 1, 'politeness': 1, 'political': 6, 'pooja': 2, 'pool': 1, 'pools': 1, 'poor': 2, 'pop': 3, 'popped': 1, 'population': 2, 'populations': 1, 'port': 1, 'portal': 1, 'portals': 1, 'portfolio': 6, 'pos': 1, 'posed': 1, 'posing': 2, 'position': 25, 'positioned': 1, 'positioning': 3, 'positions': 2, 'positive': 96, 'positively': 4, 'positivity': 6, 'possess': 1, 'possibilities': 3, 'possible': 114, 'possibly': 7, 'post': 14, 'posted': 8, 'poster': 1, 'posting': 16, 'posts': 16, 'posture': 136, 'pot': 1, 'potential': 85, 'potentially': 32, 'potluck': 1, 'pouncing': 1, 'pound': 1, 'powder': 6, 'power': 21, 'powered': 1, 'powerful': 3, 'powerhouse': 2, 'powering': 1, 'ppe': 19, 'ppl': 1, 'pr': 1, 'pr2818822': 1, 'pr2877159': 1, 'pr2923206': 1, 'prabhanjana': 1, 'practical': 7, 'practically': 1, 'practice': 28, 'practiced': 1, 'practices': 72, 'practicing': 1, 'practitioner': 1, 'pragmatic': 8, 'praise': 1, 'praises': 2, 'praiseworthy': 1, 'praying': 1, 'pre': 18, 'preceptors': 1, 'precise': 15, 'precision': 1, 'predictable': 1, 'predictions': 1, 'preeminent': 1, 'preferred': 2, 'preforming': 1, 'premeeting': 1, 'premise': 1, 'premises': 7, 'premium': 2, 'prep': 19, 'preparation': 30, 'preparations': 21, 'prepare': 35, 'prepared': 35, 'preparedness': 1, 'prepares': 1, 'preparing': 21, 'preperations': 1, 'prepped': 1, 'prepping': 1, 'prepress': 1, 'preprod': 13, 'prescribed': 1, 'presence': 7, 'present': 48, 'presentation': 45, 'presentations': 6, 'presented': 23, 'presenter': 1, 'presenters': 1, 'presenting': 19, 'presents': 1, 'preserve': 8, 'press': 2, 'pressing': 1, 'pressure': 28, 'pressured': 1, 'pressurised': 7, 'prestigious': 2, 'presumptive': 1, 'pretty': 9, 'prevent': 22, 'preventative': 1, 'prevented': 11, 'preventing': 4, 'prevention': 1, 'preview': 7, 'previous': 17, 'previously': 3, 'price': 2, 'pricing': 6, 'pride': 22, 'primary': 16, 'prime': 1, 'principals': 10, 'principle': 13, 'principles': 1, 'print': 1, 'printed': 16, 'printer': 1, 'printers': 13, 'printing': 6, 'prior': 7, 'priorities': 23, 'prioritise': 1, 'prioritization': 6, 'prioritize': 7, 'prioritized': 5, 'prioritizes': 1, 'prioritizing': 4, 'priority': 22, 'prisma': 1, 'pristine': 1, 'pritzker': 1, 'privacy': 45, 'private': 4, 'privelage': 5, 'privilege': 23, 'privileged': 1, 'privileges': 1, 'priya': 1, 'prize': 6, 'prizes': 1, 'pro': 16, 'proactive': 25, 'proactively': 22, 'proactiveness': 1, 'proactivity': 2, 'probably': 11, 'problem': 58, 'problematic': 1, 'problems': 34, 'procedural': 6, 'procedure': 2, 'procedures': 26, 'proceed': 6, 'proceeded': 6, 'process': 300, 'processed': 5, 'processes': 65, 'processing': 28, 'processor': 6, 'proclamation': 1, 'procos': 1, 'procured': 1, 'procurement': 8, 'prod': 17, 'produce': 6, 'produced': 2, 'producers': 1, 'produceâ': 1, 'producing': 10, 'product': 92, 'production': 79, 'productive': 7, 'productivity': 9, 'productize': 1, 'products': 19, 'professional': 40, 'professionalism': 28, 'professionally': 5, 'professionals': 1, 'proficiently': 1, 'profile': 3, 'profiles': 2, 'profitable': 1, 'profound': 4, 'profoundly': 1, 'program': 85, 'programmatic': 2, 'programmatically': 1, 'programme': 13, 'programmed': 5, 'programmes': 1, 'programming': 4, 'programs': 9, 'progress': 39, 'progressed': 3, 'progressing': 5, 'progression': 7, 'prohibiting': 1, 'proiritisation': 4, 'project': 168, 'projectaristotle': 1, 'projections': 1, 'projects': 51, 'proman': 4, 'prominently': 1, 'promise': 2, 'promising': 2, 'promo': 3, 'promote': 11, 'promoted': 4, 'promoter': 2, 'promoting': 8, 'promotion': 3, 'promotional': 2, 'promotions': 1, 'prompt': 8, 'prompted': 1, 'promptly': 5, 'promptness': 3, 'prontos': 1, 'proof': 3, 'propel': 1, 'propelled': 1, 'proper': 6, 'properly': 9, 'properties': 1, 'proposal': 6, 'proposals': 2, 'proposed': 1, 'proposing': 1, 'propositions': 1, 'proprietary': 9, 'proquad': 1, 'prosil': 4, 'prospective': 2, 'prospects': 7, 'prosperous': 1, 'protect': 83, 'protected': 36, 'protecting': 23, 'protection': 37, 'protects': 10, 'protocol': 1, 'protocols': 12, 'prototype': 13, 'proud': 55, 'prouder': 1, 'prove': 8, 'proved': 4, 'proven': 7, 'proves': 1, 'provide': 91, 'provided': 71, 'provider': 2, 'providers': 1, 'provides': 9, 'providing': 82, 'proving': 8, 'provision': 9, 'provisional': 1, 'provisioning': 1, 'provoking': 3, 'prowess': 1, 'prs': 1, 'prudential': 2, 'ps': 1, 'pscm': 1, 'psp': 1, 'psr': 1, 'psupport': 1, 'psv': 11, 'psychological': 47, 'psychologically': 9, 'psychologicalsafety': 1, 'ptl': 3, 'pto': 4, 'ptp': 2, 'pub': 1, 'public': 1, 'published': 5, 'publishing': 7, 'puds': 1, 'pull': 26, 'pulled': 48, 'pulling': 15, 'pulls': 1, 'pulse': 9, 'pump': 14, 'pun': 1, 'punches': 1, 'punished': 4, 'purchase': 2, 'purchasing': 1, 'pure': 3, 'purification': 1, 'purple': 1, 'purpose': 4, 'purposeful': 1, 'pursuing': 2, 'pursuit': 2, 'push': 23, 'pushed': 27, 'pushing': 25, 'put': 190, 'puts': 3, 'putting': 55, 'puzzled': 1, 'puzzler': 4, 'puzzling': 1, 'pvm': 1, 'pvxr': 1, 'pw': 18, 'pxs': 1, 'q1': 3, 'q2': 5, 'q3': 33, 'q4': 9, 'qa': 9, 'qas': 2, 'qbl': 1, 'qbpc': 1, 'qbwm': 1, 'qc': 2, 'qcing': 1, 'ql': 2, 'qm': 2, 'qtp': 1, 'qtr': 1, 'qtrs': 1, 'quaility': 1, 'qualification': 3, 'qualifications': 1, 'qualified': 2, 'qualify': 1, 'qualities': 3, 'quality': 129, 'qualtrics': 3, 'quantities': 1, 'quantity': 1, 'quarantined': 1, 'quarter': 11, 'quarterly': 5, 'que': 1, 'queen': 1, 'queried': 1, 'queries': 18, 'query': 12, 'quest': 1, 'question': 33, 'questioned': 1, 'questionnaire': 5, 'questionnaires': 1, 'questions': 86, 'queue': 25, 'queuing': 1, 'quick': 173, 'quickbooks': 1, 'quicken': 1, 'quicker': 1, 'quickly': 164, 'quiet': 4, 'quieter': 1, 'quietly': 1, 'quintessential': 1, 'quit': 1, 'quite': 50, 'quiz': 9, 'quizzes': 1, 'quo': 3, 'quote': 6, 'quotient': 1, 'r1': 1, 'r1t': 6, 'r2': 1, 'rabbeca': 1, 'race': 2, 'rachel': 5, 'rachida': 1, 'raci': 2, 'rack': 1, 'racks': 1, 'radar': 2, 'radek': 1, 'radical': 7, 'raffle': 3, 'rahsaan': 1, 'rahul': 2, 'rai': 1, 'raibh': 1, 'railroad': 1, 'rain': 9, 'rainbow': 4, 'raise': 10, 'raised': 17, 'raising': 12, 'raj': 1, 'rajesh': 1, 'rajiv': 2, 'rakesh': 8, 'rallied': 4, 'rallying': 5, 'ralph': 1, 'ramadan': 2, 'rambo': 1, 'ramifications': 2, 'ramil': 3, 'ramp': 5, 'ramped': 1, 'ramping': 1, 'ramps': 8, 'ran': 21, 'range': 3, 'ranjith': 1, 'ranked': 1, 'rant': 1, 'rapid': 9, 'rapidly': 1, 'rapport': 1, 'rare': 8, 'rarely': 1, 'rate': 8, 'rather': 6, 'rating': 2, 'raven': 1, 'ravi': 1, 'ravikanth': 1, 'raw': 1, 'ray': 17, 'rays': 1, 'razor': 1, 'rbcm': 1, 'rc': 2, 'rca': 1, 'rcas': 1, 'rda': 1, 're': 147, 'reach': 25, 'reached': 20, 'reaching': 18, 'react': 2, 'reacted': 1, 'reacting': 3, 'reaction': 1, 'reactions': 1, 'reactive': 12, 'read': 35, 'readily': 2, 'readiness': 4, 'ready': 61, 'reagents': 1, 'real': 43, 'realisation': 1, 'realise': 2, 'realised': 1, 'realising': 2, 'reality': 4, 'realize': 16, 'realized': 3, 'really': 312, 'realm': 1, 'rearranging': 1, 'reason': 21, 'reasonable': 2, 'reasons': 12, 'reassurance': 1, 'reassure': 1, 'reassured': 2, 'reassuring': 13, 'rebate': 3, 'rebecca': 1, 'rebounding': 1, 'rebranded': 1, 'rebuilds': 1, 'recalculating': 1, 'recall': 7, 'recap': 2, 'receipt': 1, 'receive': 14, 'received': 20, 'receiving': 2, 'recent': 88, 'recently': 112, 'receptical': 1, 'reception': 17, 'recertification': 7, 'recharge': 1, 'recipients': 1, 'reclassification': 1, 'recognise': 62, 'recognised': 13, 'recognising': 1, 'recognition': 52, 'recognitions': 2, 'recognize': 176, 'recognized': 17, 'recognizes': 1, 'recognizing': 17, 'recommend': 1, 'recommendations': 4, 'recommended': 1, 'recommending': 9, 'recon': 1, 'reconciled': 1, 'reconciliation': 2, 'reconciliations': 1, 'reconnecting': 1, 'reconvening': 1, 'record': 6, 'recordable': 4, 'recorded': 4, 'recording': 3, 'records': 6, 'recover': 2, 'recovered': 1, 'recovering': 1, 'recovery': 7, 'recreate': 1, 'recreating': 2, 'recruited': 1, 'recruiters': 1, 'recruiting': 1, 'recruitment': 3, 'rectify': 3, 'red': 10, 'redemption': 3, 'redemptions': 1, 'redo': 1, 'redshift': 3, 'reduce': 20, 'reduced': 4, 'reduces': 9, 'reducing': 13, 'reduction': 7, 'redundancy': 1, 'redundant': 3, 'refactor': 4, 'refactoring': 1, 'refer': 3, 'referee': 1, 'reference': 6, 'references': 1, 'refined': 1, 'refinement': 1, 'refinements': 1, 'refining': 2, 'reflect': 9, 'reflected': 1, 'reflecting': 3, 'reflection': 9, 'reflections': 1, 'reflective': 1, 'reflects': 2, 'reflexes': 5, 'refresh': 2, 'refresher': 1, 'refreshing': 6, 'refugee': 1, 'refusing': 1, 'regan': 1, 'regard': 2, 'regarded': 1, 'regarding': 25, 'regardless': 18, 'regards': 30, 'regex': 2, 'regime': 8, 'regina': 2, 'regine': 1, 'region': 29, 'regional': 4, 'regions': 3, 'registered': 1, 'registrants': 2, 'registration': 6, 'regraph': 1, 'regress': 1, 'regression': 5, 'regrouping': 1, 'regular': 17, 'regularly': 16, 'regulatory': 2, 'reid': 1, 'reigns': 1, 'reimagined': 1, 'reimagining': 2, 'reimporting': 1, 'reinforced': 1, 'reinforces': 11, 'reinforcing': 9, 'reins': 1, 'reinstall': 4, 'reinstalled': 1, 'reinstate': 4, 'reinstated': 7, 'reinstatement': 5, 'reinsurance': 1, 'reinventing': 1, 'reiterate': 1, 'rej': 1, 'rejected': 1, 'rejoiced': 1, 'relatable': 4, 'relate': 1, 'related': 54, 'relates': 4, 'relating': 2, 'relation': 3, 'relational': 1, 'relationship': 26, 'relationships': 13, 'relative': 1, 'relax': 9, 'relaxation': 1, 'relaxed': 15, 'relaying': 1, 'release': 147, 'released': 38, 'releases': 5, 'releasing': 2, 'relentless': 2, 'relentlessly': 6, 'relevant': 10, 'reliability': 7, 'relied': 2, 'relief': 10, 'relies': 1, 'religion': 1, 'relishing': 1, 'relocate': 1, 'relocating': 1, 'relocation': 1, 'reluctant': 1, 'rely': 21, 'relying': 1, 'remain': 13, 'remained': 14, 'remaining': 29, 'remains': 3, 'remarkable': 9, 'remarking': 1, 'remarks': 1, 'remediate': 8, 'remediated': 2, 'remediating': 9, 'remediation': 4, 'remediations': 1, 'remedied': 1, 'remedy': 2, 'remember': 14, 'remembered': 2, 'remind': 2, 'reminded': 13, 'reminder': 11, 'reminders': 4, 'reminding': 2, 'remiss': 1, 'remit': 9, 'remodel': 1, 'remote': 58, 'remotely': 6, 'removal': 11, 'remove': 10, 'removed': 5, 'removing': 30, 'rendered': 1, 'renewal': 5, 'reoccurance': 1, 'reoccurs': 1, 'reopen': 1, 'reopening': 8, 'rep': 2, 'repair': 20, 'repaired': 1, 'repairing': 6, 'repay': 1, 'repeat': 11, 'repeatable': 1, 'repeated': 2, 'repeating': 1, 'replace': 1, 'replacement': 13, 'replacing': 3, 'replica': 1, 'replicated': 2, 'replication': 2, 'replies': 2, 'report': 61, 'reported': 19, 'reporting': 40, 'reports': 35, 'repos': 1, 'representation': 5, 'representatives': 1, 'represented': 2, 'representing': 5, 'reprioritization': 1, 'reproduce': 1, 'reproducible': 1, 'reps': 1, 'repsonse': 8, 'repurposed': 1, 'reputation': 4, 'reqs': 1, 'request': 42, 'requested': 12, 'requesting': 5, 'requests': 55, 'require': 4, 'required': 61, 'requirement': 13, 'requirements': 22, 'requires': 6, 'requiring': 1, 'requirments': 4, 'rerun': 1, 'res': 1, 'rescind': 7, 'rescue': 3, 'rescuing': 1, 'research': 62, 'researching': 4, 'reseller': 2, 'reservations': 1, 'reserve': 1, 'reshapes': 1, 'residence': 7, 'resignation': 1, 'resilia': 2, 'resilience': 15, 'resiliency': 9, 'resilient': 2, 'resillience': 1, 'resistance': 1, 'resolution': 18, 'resolutions': 1, 'resolve': 54, 'resolved': 12, 'resolver': 1, 'resolving': 15, 'resonated': 2, 'resonates': 1, 'resorts': 1, 'resounding': 1, 'resource': 11, 'resourceful': 1, 'resourcefulness': 6, 'resources': 11, 'resourcing': 1, 'respect': 46, 'respected': 1, 'respectful': 10, 'respectfully': 1, 'respecting': 1, 'respective': 4, 'respects': 1, 'respond': 10, 'responded': 11, 'respondence': 1, 'responders': 6, 'responding': 24, 'responds': 1, 'response': 69, 'responses': 11, 'responsibilities': 17, 'responsibility': 11, 'responsible': 21, 'responsive': 13, 'responsiveness': 12, 'rest': 40, 'restacking': 8, 'restart': 6, 'restarted': 6, 'restarting': 1, 'restaurant': 1, 'resting': 1, 'restore': 4, 'restoring': 1, 'restriction': 1, 'restrictions': 3, 'restrictive': 1, 'restructure': 6, 'resubmitting': 1, 'result': 37, 'resulted': 8, 'resulting': 5, 'results': 60, 'retail': 1, 'retain': 6, 'retaining': 4, 'retention': 4, 'retesting': 1, 'retired': 2, 'retiree': 1, 'retirement': 1, 'retro': 4, 'retrospective': 2, 'return': 17, 'returned': 1, 'returning': 1, 'returns': 1, 'reusability': 1, 'reusable': 3, 'revamping': 2, 'revealed': 9, 'revenue': 11, 'reversal': 1, 'reverse': 5, 'reverted': 1, 'review': 109, 'reviewed': 3, 'reviewer': 1, 'reviewers': 2, 'reviewing': 45, 'reviews': 17, 'revising': 5, 'revisions': 3, 'revisit': 1, 'revolutionising': 1, 'reward': 1, 'rewarding': 2, 'rewards': 3, 'reworking': 2, 'rex': 4, 'rfp': 5, 'rh850': 1, 'rhapsody': 1, 'rhona': 1, 'ric': 1, 'ricci': 1, 'rich': 8, 'richa': 1, 'richard': 2, 'richer': 1, 'richie': 4, 'rick': 5, 'ricky': 12, 'rid': 2, 'ride': 3, 'riding': 2, 'riff': 1, 'right': 169, 'rights': 7, 'rigidity': 10, 'rigor': 1, 'rigorous': 23, 'rigorously': 5, 'rihanna': 1, 'rina': 1, 'ring': 1, 'ripple': 2, 'risen': 1, 'rishab': 2, 'risk': 99, 'risks': 41, 'risky': 1, 'rita': 1, 'river': 2, 'rlus': 2, 'rma': 1, 'rms': 2, 'ro': 4, 'road': 14, 'roadblock': 1, 'roadblocks': 4, 'roadmap': 3, 'roaster': 1, 'rob': 3, 'robert': 7, 'roberta': 1, 'roberto': 3, 'robin': 1, 'robot': 1, 'robust': 34, 'robustness': 1, 'robyn': 15, 'rock': 24, 'rocked': 1, 'rocket': 1, 'rocking': 2, 'rocks': 6, 'rockstar': 9, 'rog': 2, 'rogerio': 4, 'rohan': 1, 'rohit': 5, 'roi': 3, 'role': 84, 'roles': 11, 'roll': 20, 'rolled': 3, 'roller': 1, 'rollercoaster': 1, 'rolling': 8, 'rollout': 2, 'ron': 3, 'ronan': 2, 'roof': 1, 'room': 26, 'rooms': 4, 'roopali': 1, 'root': 6, 'rooting': 1, 'roots': 3, 'rope': 1, 'ropes': 2, 'rory': 1, 'rosa': 2, 'rosalind': 2, 'rosana': 4, 'rosanna': 1, 'rose': 4, 'roseanna': 4, 'rosely': 2, 'rosette': 1, 'roshni': 1, 'rosita': 1, 'roster': 1, 'rotate': 1, 'rotation': 2, 'rouge': 1, 'rough': 3, 'roughly': 1, 'round': 6, 'roundedness': 1, 'rounds': 3, 'route': 4, 'routes': 2, 'routine': 14, 'routinely': 1, 'routing': 1, 'rovi': 1, 'row': 2, 'rowing': 1, 'rpb': 1, 'rr': 1, 'rs': 1, 'rsace': 1, 'rse': 1, 'rsm': 7, 'rtc': 1, 'rtl': 1, 'rto': 1, 'rtpm': 1, 'rtq': 2, 'ruben': 1, 'ruchi': 1, 'rudyâ': 1, 'rui': 1, 'rule': 1, 'rules': 15, 'ruling': 1, 'rumble': 1, 'rumbler': 2, 'rumbling': 1, 'rumours': 1, 'run': 53, 'runners': 3, 'runnig': 4, 'running': 50, 'runs': 2, 'runway': 1, 'rural': 1, 'rush': 1, 'rushabh': 1, 'rushed': 1, 'rushing': 1, 'russ': 1, 'russia': 14, 'ruth': 1, 'rwd': 1, 'ry': 1, 'ryan': 2, 's1': 1, 's3': 1, 'sa': 2, 'sa360': 2, 'saas': 1, 'sabrina': 1, 'sacrifice': 1, 'sacrifices': 1, 'sacrificing': 1, 'sad': 4, 'sadie': 1, 'safe': 488, 'safeguard': 1, 'safeguarding': 4, 'safely': 51, 'safer': 35, 'safetly': 5, 'safety': 507, 'safo': 2, 'saftey': 3, 'sage': 1, 'sage300': 1, 'sai': 2, 'said': 28, 'sailing': 3, 'sainath': 1, 'saint': 1, 'sake': 6, 'salamat': 1, 'sale': 2, 'sales': 24, 'salesdemo': 1, 'salesforce': 18, 'salmonella': 1, 'sam': 3, 'samaritan': 1, 'same': 45, 'sameday': 1, 'sameer': 2, 'sami': 2, 'saml': 1, 'sample': 1, 'samples': 11, 'sampling': 1, 'san': 1, 'sandbox': 6, 'sandeep': 1, 'sandra': 1, 'sane': 1, 'sanitising': 1, 'sanitization': 5, 'sanitized': 1, 'sanity': 2, 'sanjay': 1, 'sanofi': 9, 'santa': 10, 'santander': 4, 'sap': 5, 'sara': 15, 'sarah': 16, 'saraâ': 1, 'sas': 1, 'sasha': 2, 'saswata': 1, 'sat': 7, 'satellite': 2, 'satisfaciton': 1, 'satisfaction': 5, 'satisfied': 4, 'satisfy': 4, 'saturday': 68, 'save': 2, 'saved': 7, 'saver': 1, 'saves': 2, 'saving': 17, 'savings': 3, 'savior': 1, 'savvy': 1, 'saw': 39, 'say': 289, 'saydrick': 1, 'saying': 7, 'says': 1, 'sb': 1, 'sba': 1, 'sbs': 1, 'sc': 1, 'scalability': 2, 'scalable': 6, 'scale': 10, 'scaled': 1, 'scales': 4, 'scaling': 3, 'scams': 5, 'scan': 10, 'scanned': 12, 'scanning': 2, 'scans': 4, 'scare': 13, 'scares': 7, 'scary': 1, 'scavenger': 1, 'scenario': 1, 'scenarios': 6, 'scene': 17, 'scenes': 27, 'schedule': 31, 'scheduled': 14, 'scheduler': 2, 'schedules': 3, 'scheduling': 4, 'schneider': 3, 'school': 2, 'schweitzer': 1, 'science': 2, 'scientist': 1, 'scientists': 1, 'scissors': 1, 'scones': 1, 'scope': 24, 'scopes': 1, 'score': 5, 'scored': 1, 'scores': 1, 'scot': 1, 'scotch': 2, 'scotland': 1, 'scott': 5, 'scratch': 1, 'screen': 1, 'screening': 1, 'scribe': 2, 'script': 5, 'scripted': 6, 'scripting': 2, 'scripts': 4, 'scroll': 2, 'scrolling': 1, 'scrubbing': 1, 'scrum': 3, 'scrutinized': 1, 'scrutiny': 1, 'sct': 1, 'scupper': 1, 'sdat': 1, 'sdb': 5, 'sea': 2, 'seal': 13, 'seamless': 13, 'seamlessly': 3, 'sean': 6, 'seanez': 1, 'search': 2, 'searched': 1, 'searching': 1, 'season': 8, 'seasoned': 1, 'seat': 2, 'seats': 1, 'second': 20, 'secondly': 1, 'seconds': 3, 'secret': 4, 'secretly': 1, 'secrets': 1, 'section': 94, 'sector': 1, 'secure': 222, 'secured': 5, 'securely': 7, 'securing': 7, 'security': 758, 'see': 195, 'seeds': 1, 'seeing': 27, 'seek': 2, 'seeking': 11, 'seem': 4, 'seemed': 6, 'seemingly': 7, 'seems': 5, 'seen': 30, 'sees': 1, 'segment': 1, 'segmented': 1, 'seismic': 6, 'seit': 1, 'seizing': 5, 'selected': 6, 'selecting': 3, 'selection': 2, 'selector': 4, 'selenium': 4, 'self': 22, 'selfishly': 1, 'selflessly': 1, 'sell': 1, 'selling': 4, 'selpercatinib': 1, 'selves': 9, 'send': 42, 'sender': 10, 'sending': 5, 'senior': 11, 'sensation': 1, 'sense': 47, 'sensible': 1, 'sensitive': 44, 'sensitively': 1, 'sensor': 1, 'sent': 16, 'senthil': 1, 'sentinel': 2, 'seo': 5, 'separate': 4, 'sept': 2, 'september': 7, 'sergey': 2, 'series': 8, 'serious': 19, 'seriously': 19, 'seriousness': 2, 'serological': 2, 'serrano': 2, 'servant': 2, 'servantleader': 1, 'serve': 10, 'served': 2, 'server': 37, 'servers': 10, 'serves': 2, 'service': 68, 'serviced': 8, 'servicenow': 3, 'services': 32, 'servicing': 4, 'serving': 5, 'ses': 1, 'sesh': 1, 'session': 114, 'sessions': 30, 'set': 78, 'setbacks': 2, 'seth': 1, 'sets': 15, 'setting': 66, 'settings': 4, 'settle': 3, 'settles': 1, 'setup': 24, 'seven': 1, 'several': 53, 'severity': 9, 'sexual': 1, 'sf': 1, 'sfm': 2, 'sgi': 1, 'sh': 2, 'shadow': 2, 'shadowing': 3, 'shafeeq': 1, 'shah': 1, 'shai': 1, 'shakespeare': 1, 'shakespearean': 1, 'shakey': 1, 'shaky': 2, 'shall': 1, 'shane': 23, 'shape': 18, 'shapes': 1, 'shaping': 6, 'sharanya': 1, 'share': 86, 'shared': 23, 'sharepoint': 1, 'shares': 3, 'sharing': 76, 'sharon': 1, 'sharp': 1, 'shashank': 1, 'shave': 1, 'shawn': 3, 'she': 133, 'shed': 8, 'shedding': 1, 'sheena': 3, 'sheer': 1, 'sheet': 7, 'sheets': 22, 'shelby': 1, 'shelley': 1, 'shellie': 1, 'shelly': 4, 'sheltered': 1, 'sheltering': 9, 'shepherd': 2, 'shepherding': 1, 'shera': 1, 'sheri': 2, 'sherrie': 1, 'sherry': 1, 'shield': 1, 'shielded': 1, 'shielding': 1, 'shift': 30, 'shifted': 1, 'shifting': 2, 'shifts': 2, 'shikhar': 1, 'shine': 9, 'shined': 1, 'shines': 11, 'shining': 3, 'ship': 16, 'shipment': 2, 'shipments': 2, 'shipped': 1, 'shipping': 18, 'ships': 1, 'shone': 3, 'shooting': 7, 'shore': 1, 'short': 62, 'shortage': 3, 'shorter': 1, 'shorthanded': 1, 'shortlisted': 1, 'shortly': 3, 'shot': 2, 'shotgun': 1, 'should': 61, 'shoulder': 1, 'shoulders': 1, 'shout': 30, 'shouting': 1, 'shoutout': 3, 'show': 62, 'showcase': 7, 'showcases': 2, 'showcasing': 2, 'showed': 72, 'shower': 1, 'showers': 1, 'showing': 33, 'shown': 40, 'shows': 15, 'shrm': 1, 'shruthi': 1, 'shut': 6, 'shutdown': 4, 'shutting': 1, 'shy': 3, 'shying': 1, 'si': 3, 'sick': 6, 'sickness': 1, 'sidd': 3, 'siddharth': 1, 'side': 66, 'sidekicks': 1, 'sides': 1, 'siemens': 2, 'sighting': 1, 'sign': 7, 'signage': 1, 'signature': 10, 'signed': 4, 'significance': 94, 'significant': 76, 'significantly': 18, 'signing': 6, 'signs': 17, 'sigrecon': 1, 'silent': 1, 'silly': 1, 'simian': 1, 'similar': 7, 'simon': 1, 'simone': 4, 'simple': 22, 'simplifying': 1, 'simply': 12, 'simran': 1, 'simultaneous': 1, 'simultaneously': 3, 'since': 60, 'sincere': 14, 'sincerely': 8, 'sincerest': 1, 'sinead': 2, 'sing': 1, 'singing': 2, 'single': 33, 'singleton': 1, 'siobhan': 4, 'sir': 2, 'sirleaf': 1, 'sis': 1, 'sisters': 1, 'sisyphean': 1, 'sit': 3, 'site': 68, 'sites': 7, 'sitr': 1, 'sitter': 1, 'sitting': 5, 'situation': 82, 'situational': 7, 'situations': 25, 'sivance': 4, 'six': 10, 'size': 2, 'sizes': 1, 'sizing': 1, 'sj': 1, 'skeleton': 1, 'skeptical': 1, 'sketches': 1, 'skilful': 1, 'skill': 19, 'skilled': 1, 'skillfully': 1, 'skilling': 1, 'skills': 42, 'skillset': 4, 'skillup': 4, 'skimps': 1, 'sku': 2, 'sky': 4, 'skype': 2, 'sla': 4, 'slack': 39, 'slagging': 1, 'slas': 1, 'slate': 1, 'slated': 1, 'sleep': 6, 'sleeping': 4, 'sleeves': 6, 'slid': 1, 'slide': 6, 'slides': 4, 'slight': 10, 'slightly': 4, 'sligo': 1, 'slipped': 1, 'slls': 1, 'slogan': 3, 'slot': 1, 'slots': 1, 'slow': 3, 'slt': 2, 'slurry': 1, 'sm': 2, 'small': 39, 'smart': 14, 'smartcalc': 1, 'smash': 1, 'sme': 2, 'smell': 12, 'smi': 1, 'smidge': 1, 'smile': 16, 'smiled': 1, 'smiles': 1, 'smiling': 6, 'smo': 4, 'smoke': 3, 'smooth': 30, 'smoother': 4, 'smoothest': 24, 'smoothing': 1, 'smoothly': 24, 'sms': 1, 'smvs': 1, 'snacks': 2, 'snafu': 1, 'snag': 1, 'snags': 1, 'snapshot': 2, 'sneaking': 1, 'snippet': 1, 'snowstorm': 1, 'so': 914, 'soak': 1, 'soared': 1, 'soc': 1, 'socal': 4, 'social': 27, 'socially': 1, 'society': 2, 'socks': 1, 'sod': 2, 'soft': 4, 'software': 14, 'soil': 2, 'solace': 1, 'solar': 1, 'sold': 1, 'solely': 1, 'solenis': 1, 'soli': 3, 'soliciting': 1, 'solid': 19, 'solidifying': 1, 'solo': 2, 'solution': 100, 'solutioning': 1, 'solutions': 63, 'solve': 10, 'solved': 6, 'solver': 1, 'solving': 14, 'some': 283, 'somebody': 1, 'somehow': 1, 'someone': 40, 'something': 49, 'sometime': 1, 'sometimes': 25, 'somewhat': 1, 'somewhere': 2, 'son': 2, 'song': 1, 'sonja': 1, 'sonopo': 1, 'sons': 1, 'sonya': 6, 'soo': 2, 'soon': 21, 'sooner': 4, 'soooo': 1, 'sooooo': 1, 'sorry': 5, 'sort': 2, 'sorted': 4, 'sorting': 13, 'soto': 1, 'sought': 1, 'souls': 2, 'sound': 6, 'sounded': 1, 'sounding': 1, 'soundproof': 1, 'soup': 1, 'source': 3, 'sources': 3, 'sourcing': 4, 'south': 2, 'southern': 1, 'souvenirs': 1, 'sow': 1, 'sows': 1, 'soybean': 1, 'sp2': 1, 'space': 93, 'spaces': 4, 'spacious': 1, 'span': 2, 'spanish': 1, 'spare': 2, 'spares': 1, 'spark': 13, 'sparked': 2, 'sparkly': 1, 'sparrow': 1, 'spas': 1, 'speak': 18, 'speaker': 6, 'speakers': 2, 'speaking': 30, 'speaks': 7, 'spear': 8, 'spearheaded': 4, 'spec': 1, 'special': 28, 'specialist': 11, 'specializing': 1, 'specially': 8, 'specialty': 2, 'specific': 13, 'specifically': 13, 'specs': 2, 'spectacular': 4, 'spectrum': 1, 'speed': 33, 'speeds': 1, 'speedy': 2, 'spend': 4, 'spending': 2, 'spends': 1, 'spent': 28, 'spikes': 1, 'spill': 1, 'spin': 1, 'spindle': 4, 'spinner': 1, 'spinning': 5, 'spinoff': 1, 'spins': 1, 'spirit': 7, 'spirits': 2, 'spite': 1, 'split': 11, 'splitter': 4, 'splitters': 4, 'splunk': 19, 'spoke': 16, 'spoken': 1, 'sponsor': 4, 'sponsors': 1, 'sponsorship': 2, 'spontaneous': 1, 'spoon': 1, 'sportsmanship': 1, 'spot': 116, 'spotlight': 3, 'spotted': 11, 'spotting': 14, 'spouse': 1, 'spraying': 1, 'spread': 17, 'spreading': 10, 'spreadsheet': 1, 'spreadsheets': 5, 'spring': 3, 'sprint': 18, 'sprints': 3, 'sprite': 1, 'sprung': 1, 'sps': 1, 'spy': 1, 'sql': 6, 'squad': 4, 'squads': 4, 'squeaky': 1, 'squealed': 1, 'squeeze': 2, 'sres': 1, 'srf': 1, 'srm': 6, 'srms': 1, 'ssh': 8, 'ssl': 1, 'sso': 9, 'ssrs': 1, 'st': 4, 'stability': 6, 'stable': 1, 'stacey': 2, 'stack': 16, 'stacking': 1, 'staff': 84, 'staffed': 1, 'staffing': 3, 'stage': 17, 'staged': 1, 'staggering': 2, 'stake': 3, 'stakeholder': 5, 'stakeholders': 30, 'stalling': 1, 'stampede': 1, 'stance': 4, 'stand': 5, 'standard': 35, 'standardisation': 1, 'standards': 38, 'standby': 10, 'standing': 9, 'stands': 3, 'standups': 3, 'staples': 8, 'star': 6, 'staring': 1, 'stars': 3, 'start': 49, 'started': 53, 'starters': 8, 'starting': 17, 'starts': 8, 'startup': 2, 'stat': 1, 'state': 11, 'stated': 1, 'statement': 27, 'statements': 6, 'static': 1, 'station': 2, 'stationary': 1, 'statistical': 2, 'stats': 1, 'status': 21, 'stay': 33, 'stayed': 22, 'staying': 29, 'stays': 2, 'steadfast': 2, 'steady': 2, 'steal': 1, 'stealth': 1, 'steel': 2, 'steer': 2, 'steering': 22, 'steinbaugh': 1, 'stellar': 4, 'step': 69, 'steph': 1, 'stephanie': 4, 'stephen': 5, 'stephenâ': 1, 'stepped': 39, 'stepping': 32, 'steps': 45, 'steve': 12, 'steward': 1, 'stick': 13, 'sticking': 5, 'sticky': 1, 'still': 81, 'sting': 1, 'stl': 2, 'stock': 5, 'stocked': 1, 'stone': 4, 'stood': 8, 'stop': 16, 'stopped': 2, 'stops': 7, 'storage': 1, 'store': 15, 'stored': 1, 'stores': 1, 'stories': 17, 'storing': 1, 'storm': 9, 'story': 19, 'storytelling': 5, 'stos': 1, 'stp': 1, 'straggling': 1, 'straight': 35, 'straightened': 2, 'strange': 1, 'stranger': 2, 'strategic': 23, 'strategically': 3, 'strategies': 6, 'strategy': 31, 'stray': 2, 'stream': 18, 'streaming': 1, 'streamline': 4, 'streamlined': 3, 'streamlining': 3, 'streams': 3, 'streets': 2, 'strength': 12, 'strengthen': 7, 'strengthening': 1, 'strengthens': 1, 'strengths': 6, 'stress': 15, 'stressed': 1, 'stressful': 18, 'stretch': 5, 'stretched': 1, 'stretching': 1, 'strictly': 1, 'stride': 11, 'strides': 2, 'strike': 2, 'striking': 1, 'string': 1, 'strive': 3, 'strived': 1, 'striving': 2, 'stroma': 1, 'strong': 48, 'stronger': 6, 'strongly': 2, 'struck': 2, 'structs': 1, 'structural': 1, 'structure': 9, 'structured': 7, 'structuring': 1, 'struggled': 1, 'struggles': 1, 'struggling': 4, 'stuck': 29, 'student': 1, 'students': 2, 'studied': 1, 'studies': 5, 'study': 16, 'studying': 1, 'stuff': 7, 'stumble': 1, 'stumbled': 2, 'stumbler': 1, 'stumbling': 1, 'stupendous': 1, 'stupid': 1, 'style': 11, 'styled': 1, 'styles': 4, 'sub': 4, 'subaccount': 1, 'subdomain': 1, 'subh': 2, 'subject': 11, 'subjects': 1, 'submission': 2, 'submissions': 5, 'submit': 11, 'submitted': 3, 'submitting': 1, 'subscription': 1, 'subsea': 1, 'subsequent': 11, 'subsequently': 12, 'substantial': 8, 'subtle': 12, 'succeed': 4, 'succeeded': 1, 'succeful': 1, 'success': 144, 'successes': 2, 'successful': 84, 'successfully': 51, 'succession': 1, 'succinct': 1, 'succinctly': 1, 'such': 197, 'suddenly': 1, 'sudhanshu': 1, 'sudhir': 1, 'suffia': 2, 'suffices': 1, 'sufficient': 2, 'suggest': 2, 'suggested': 9, 'suggesting': 5, 'suggestion': 2, 'suggestions': 10, 'suhag': 1, 'suitable': 1, 'suite': 3, 'sulfur': 2, 'sum': 1, 'summarising': 1, 'summary': 3, 'summer': 3, 'summit': 4, 'summits': 1, 'sums': 1, 'sun': 1, 'sunday': 7, 'sunil': 2, 'sunlight': 1, 'suns': 1, 'super': 35, 'superb': 4, 'superday': 1, 'superhero': 6, 'superior': 1, 'supermom': 1, 'superstar': 1, 'supervised': 1, 'supervision': 1, 'supervisors': 1, 'supplied': 2, 'supplier': 19, 'suppliers': 34, 'supplies': 1, 'supply': 23, 'support': 507, 'supported': 33, 'supporting': 115, 'supportive': 25, 'supports': 4, 'supposed': 5, 'sure': 196, 'surface': 1, 'surfaced': 2, 'surgeons': 1, 'surpassed': 1, 'surprise': 10, 'surprised': 2, 'surprises': 1, 'surprisingly': 1, 'surround': 1, 'surrounding': 1, 'surroundings': 2, 'surveillance': 6, 'survey': 30, 'surveying': 1, 'surveyor': 1, 'survival': 1, 'survived': 1, 'surviving': 1, 'survivor': 1, 'susan': 2, 'susana': 3, 'suspend': 1, 'suspicions': 1, 'suspicious': 10, 'sustain': 3, 'sustainability': 15, 'sustainable': 10, 'sustained': 1, 'sustaining': 8, 'susy': 1, 'suzanne': 1, 'suzy': 1, 'svb': 1, 'svod': 1, 'svs': 1, 'swabbing': 1, 'swag': 1, 'swamped': 2, 'swap': 1, 'swapping': 1, 'swat': 9, 'swatch': 1, 'sweat': 8, 'sweep': 1, 'sweeping': 7, 'swept': 1, 'swetha': 1, 'swift': 13, 'swiftly': 7, 'swiftness': 1, 'swimming': 1, 'swing': 1, 'switch': 7, 'switched': 1, 'switches': 13, 'switzerland': 1, 'sy23': 1, 'symbia': 1, 'sync': 1, 'synchub': 1, 'syncing': 1, 'syndicate': 1, 'syndication': 1, 'synergy': 1, 'synthelytics': 1, 'system': 86, 'systematically': 4, 'systems': 74, 't0rp': 1, 't201': 7, 't4': 1, 'ta': 4, 'table': 8, 'tableau': 1, 'tables': 1, 'tablet': 1, 'tabletop': 7, 'tablets': 1, 'tackle': 11, 'tackled': 1, 'tackling': 3, 'tactical': 1, 'tactics': 3, 'tafilah': 1, 'tag': 4, 'tagging': 1, 'tail': 2, 'tailor': 1, 'tailored': 1, 'tailoring': 1, 'take': 181, 'takeaways': 1, 'takeda': 2, 'taken': 51, 'takes': 57, 'taking': 313, 'talend': 1, 'talent': 14, 'talented': 8, 'talents': 5, 'talk': 28, 'talked': 6, 'talking': 24, 'talks': 1, 'talos': 1, 'talt': 1, 'tam': 2, 'tampering': 5, 'tangible': 2, 'tania': 1, 'tank': 1, 'tanks': 2, 'tanya': 2, 'tap': 1, 'taped': 3, 'tapestry': 1, 'taping': 4, 'tapped': 2, 'tara': 7, 'tardy': 2, 'target': 15, 'targeted': 7, 'targeting': 1, 'targets': 5, 'tarun': 1, 'task': 67, 'tasked': 2, 'tasking': 1, 'tasks': 45, 'taste': 1, 'tasting': 1, 'tatsiana': 1, 'taught': 5, 'tax': 7, 'taxes': 1, 'tbt': 6, 'tcmis': 1, 'tea': 1, 'teach': 4, 'teacher': 3, 'teaching': 10, 'teachings': 1, 'team': 1479, 'teaming': 1, 'teamlincoln': 1, 'teammate': 2, 'teammates': 11, 'teams': 132, 'teamwork': 57, 'tears': 7, 'tech': 16, 'techies': 1, 'technical': 65, 'technically': 4, 'technician': 2, 'technicians': 1, 'technip': 1, 'techniques': 3, 'technological': 1, 'technologies': 8, 'technology': 30, 'tel': 1, 'telecom': 1, 'television': 1, 'tell': 16, 'telling': 1, 'template': 2, 'templates': 12, 'tempo': 1, 'tempting': 1, 'tenacity': 14, 'tenant': 1, 'tens': 1, 'tensor': 1, 'tenure': 2, 'tenured': 8, 'teoâ': 1, 'tepaske': 1, 'teresa': 1, 'term': 17, 'terminals': 1, 'terminated': 2, 'terminating': 1, 'termination': 10, 'terminations': 4, 'terms': 13, 'terra': 12, 'terraform': 2, 'terri': 9, 'terrible': 9, 'terrific': 1, 'territory': 7, 'terror': 1, 'terry': 2, 'tert': 14, 'test': 89, 'testable': 1, 'testament': 15, 'tested': 26, 'tester': 9, 'testers': 9, 'testing': 103, 'testings': 1, 'tests': 35, 'testutils': 8, 'tete': 2, 'tex': 5, 'texas': 1, 'text': 3, 'texts': 1, 'tfmc': 1, 'th': 1, 'tha': 1, 'than': 59, 'thank': 2090, 'thanked': 2, 'thankful': 17, 'thankfully': 7, 'thanking': 7, 'thankless': 1, 'thanks': 1014, 'thanksgiving': 2, 'thankyou': 8, 'that': 1642, 'the': 9310, 'theere': 1, 'theft': 2, 'their': 286, 'theirs': 1, 'them': 286, 'theme': 4, 'themes': 1, 'themselves': 15, 'then': 92, 'therapeutic': 1, 'therapy': 1, 'there': 291, 'thereby': 6, 'therefore': 1, 'theresa': 1, 'thermofisher': 1, 'these': 266, 'they': 258, 'thiago': 1, 'thick': 1, 'thin': 1, 'thing': 36, 'things': 150, 'think': 61, 'thinking': 62, 'thinks': 1, 'third': 7, 'thirsty': 2, 'this': 1881, 'thomasina': 2, 'thorough': 16, 'thoroughly': 7, 'thoroughness': 19, 'those': 93, 'though': 20, 'thought': 57, 'thoughtful': 18, 'thoughtfully': 3, 'thoughtfulness': 2, 'thoughts': 8, 'thousand': 1, 'thousands': 4, 'threat': 16, 'threatened': 1, 'threatening': 1, 'threats': 25, 'three': 18, 'threshold': 2, 'threw': 6, 'thrilled': 5, 'thrive': 12, 'thriving': 2, 'throttle': 1, 'through': 328, 'throughout': 91, 'throughput': 4, 'throw': 2, 'thrown': 7, 'throws': 1, 'thru': 6, 'thrust': 1, 'thursday': 3, 'thus': 1, 'thwart': 2, 'tibco': 1, 'ticked': 8, 'ticket': 26, 'tickets': 35, 'tides': 2, 'tidy': 2, 'tie': 1, 'tied': 1, 'tier': 11, 'tiffany': 3, 'tight': 12, 'tightening': 1, 'tightly': 2, 'tile': 1, 'tilson': 1, 'tim': 5, 'time': 640, 'timeframe': 4, 'timeless': 5, 'timeline': 7, 'timelines': 16, 'timeliness': 2, 'timely': 50, 'times': 76, 'timesheets': 1, 'timezone': 1, 'timing': 1, 'timu': 1, 'tiny': 1, 'tip': 1, 'tipping': 1, 'tips': 5, 'tired': 6, 'tireless': 7, 'tirelessly': 5, 'tirrill': 2, 'tisha': 1, 'tissues': 1, 'title': 2, 'titles': 1, 'tj': 1, 'tjc': 2, 'tko': 1, 'tl': 1, 'tla': 1, 'tls': 2, 'tms': 1, 'tnps': 1, 'tns': 1, 'tnt': 1, 'to': 7929, 'toby': 1, 'today': 169, 'todays': 17, 'todd': 1, 'toes': 3, 'togafâ': 1, 'together': 184, 'togethers': 1, 'toil': 2, 'toilets': 1, 'token': 3, 'told': 8, 'tom': 5, 'tomcat': 1, 'tomfoolery': 1, 'tomorrow': 4, 'ton': 7, 'tone': 5, 'tones': 6, 'tonic': 1, 'tonight': 8, 'tonnes': 1, 'tony': 6, 'too': 40, 'took': 183, 'tool': 14, 'tooling': 2, 'tools': 20, 'toothache': 1, 'top': 73, 'topic': 11, 'topical': 1, 'topics': 12, 'topped': 1, 'torch': 1, 'total': 8, 'totales': 1, 'totally': 3, 'totals': 1, 'totalsource': 1, 'touches': 1, 'touching': 3, 'touchpoint': 1, 'tough': 24, 'toughest': 1, 'tour': 7, 'tournament': 5, 'tours': 1, 'tout': 1, 'toward': 10, 'towards': 32, 'tower': 16, 'town': 5, 'townhall': 3, 'tpg': 1, 'tq': 8, 'tr': 1, 'tracey': 5, 'traci': 3, 'track': 21, 'trackable': 2, 'tracker': 2, 'tracking': 19, 'trade': 1, 'trademark': 1, 'trading': 1, 'traditional': 1, 'traffic': 12, 'trafficking': 1, 'trail': 8, 'trailing': 1, 'trails': 1, 'train': 12, 'trained': 32, 'trainer': 3, 'trainers': 1, 'training': 173, 'trainings': 3, 'trait': 1, 'traits': 2, 'trajectory': 1, 'tranches': 1, 'transaction': 1, 'transactions': 12, 'transcribe': 1, 'transfer': 3, 'transfers': 2, 'transform': 1, 'transformation': 12, 'transformational': 3, 'transformations': 1, 'transformative': 1, 'transformed': 1, 'transforming': 2, 'transition': 29, 'transitioned': 2, 'transitioning': 3, 'transitions': 2, 'translate': 2, 'translated': 5, 'translating': 1, 'translation': 2, 'translations': 1, 'transmission': 2, 'transparency': 8, 'transparent': 2, 'transporter': 2, 'trap': 1, 'trapeze': 1, 'trapped': 3, 'trash': 5, 'travel': 20, 'traveled': 1, 'traveling': 4, 'travelling': 10, 'treasury': 1, 'treat': 6, 'treated': 3, 'treatment': 3, 'treats': 7, 'trekking': 1, 'tremendous': 42, 'tremendously': 3, 'tremondous': 1, 'trenches': 6, 'trend': 2, 'trending': 1, 'trends': 1, 'trepidation': 1, 'triage': 2, 'triaging': 1, 'trial': 3, 'tribes': 1, 'tribute': 1, 'tricia': 8, 'tricks': 2, 'tricky': 16, 'tridion': 1, 'tried': 3, 'trigger': 4, 'triggered': 1, 'triggers': 1, 'trio': 1, 'trip': 15, 'trips': 1, 'triumphs': 1, 'trivia': 6, 'trl6': 1, 'trojan': 1, 'troops': 3, 'trophy': 3, 'trouble': 7, 'troubles': 1, 'troubleshoot': 5, 'troubleshooting': 5, 'troublesome': 1, 'troubling': 1, 'troy': 6, 'trs': 2, 'trsa': 1, 'truck': 3, 'trucking': 1, 'true': 52, 'truely': 1, 'truest': 1, 'truly': 110, 'truncated': 1, 'trust': 22, 'trusted': 1, 'trusting': 2, 'truth': 1, 'truthfully': 9, 'try': 8, 'trying': 23, 'ts': 7, 'tsa': 17, 'tsb': 1, 'tt': 1, 'ttec': 4, 'tts': 1, 'ttt': 1, 'tty': 1, 'tu': 1, 'tuas': 1, 'tuesday': 4, 'tune': 1, 'tuned': 1, 'tuning': 2, 'tunnel': 1, 'turbulent': 1, 'turn': 34, 'turnaround': 28, 'turned': 25, 'turning': 19, 'turnout': 1, 'turnover': 10, 'turns': 14, 'tv': 1, 'tweaking': 2, 'tweaks': 3, 'twelve': 1, 'twice': 2, 'twisting': 1, 'twists': 2, 'twitter': 2, 'two': 55, 'tyler': 9, 'type': 17, 'types': 17, 'typical': 1, 'typically': 11, 'tâ': 1, 'uat': 7, 'ucb': 1, 'uf': 1, 'ufns': 1, 'ugly': 1, 'uhg': 1, 'ui': 2, 'uk': 3, 'ukraine': 23, 'ulad': 24, 'ultimately': 15, 'umbrella': 1, 'un': 1, 'unable': 13, 'unassuming': 1, 'unauthorized': 5, 'unavoidable': 1, 'unaware': 1, 'unbelievable': 2, 'unblocked': 1, 'uncertain': 1, 'uncertainty': 9, 'uncomfortable': 1, 'unconditional': 1, 'unconscious': 2, 'uncover': 1, 'uncovered': 3, 'uncovering': 2, 'under': 66, 'undergoing': 6, 'underpins': 1, 'underrepresented': 1, 'understand': 82, 'understanding': 83, 'understands': 2, 'understated': 1, 'understatement': 1, 'understood': 7, 'undertaken': 1, 'undertaking': 3, 'underway': 6, 'underwriting': 1, 'undesirable': 8, 'undeterred': 1, 'undoubtedly': 6, 'unease': 2, 'unending': 1, 'unexpected': 5, 'unexpectedly': 2, 'unfamiliar': 8, 'unfolding': 7, 'unforeseen': 1, 'unfortunately': 14, 'unified': 1, 'uniforms': 1, 'union': 2, 'unique': 24, 'uniquely': 2, 'uniqueness': 5, 'unit': 13, 'unite': 1, 'united': 2, 'uniting': 1, 'units': 10, 'unity': 2, 'universally': 1, 'universe': 1, 'unknown': 1, 'unknowns': 1, 'unleashed': 1, 'unlike': 2, 'unlikely': 1, 'unlock': 1, 'unlocking': 2, 'unmatched': 3, 'unmute': 1, 'unnecessary': 3, 'unnoticed': 22, 'unpack': 1, 'unparalleled': 2, 'unphased': 1, 'unplanned': 2, 'unpopular': 7, 'unprompted': 8, 'unravelled': 1, 'unrest': 6, 'unsafe': 10, 'unscheduled': 1, 'unseen': 1, 'unsettles': 1, 'unsettling': 1, 'unsociable': 1, 'unspecified': 1, 'unsung': 1, 'unsurmountable': 1, 'unsustainability': 1, 'until': 44, 'unturned': 15, 'unusual': 11, 'unwavering': 23, 'unwind': 1, 'unyielding': 1, 'up': 744, 'upbeat': 1, 'upcoming': 22, 'update': 49, 'updated': 29, 'updates': 51, 'updating': 9, 'upgrade': 37, 'upgraded': 5, 'upgrades': 20, 'upgrading': 1, 'upholding': 10, 'uplevel': 1, 'uplift': 2, 'uplifting': 1, 'upload': 2, 'uploading': 1, 'uploads': 1, 'upmost': 1, 'upon': 24, 'upped': 13, 'upper': 3, 'upright': 1, 'ups': 15, 'upset': 3, 'upsets': 8, 'upskill': 1, 'upskilling': 2, 'upstream': 1, 'upward': 1, 'upwards': 2, 'urgency': 30, 'urgent': 25, 'urgently': 3, 'url': 1, 'us': 762, 'usa': 1, 'usability': 2, 'usable': 9, 'usage': 11, 'usd': 1, 'use': 78, 'used': 23, 'useful': 8, 'user': 29, 'username': 2, 'users': 41, 'uservoice': 1, 'uses': 2, 'usgaap': 1, 'using': 44, 'usual': 2, 'usually': 8, 'utility': 1, 'utilization': 1, 'utilized': 1, 'utilizing': 1, 'utm_medium': 1, 'utm_source': 1, 'utmost': 4, 'utter': 1, 'uvt': 1, 'uw': 2, 'uwv': 1, 'ux': 5, 'v2': 2, 'vaa': 1, 'vaageesh': 1, 'vaca': 1, 'vacation': 8, 'vacay': 1, 'vaccine': 1, 'vadim': 7, 'vahagn': 1, 'val': 1, 'valentina': 1, 'valerie': 1, 'valid': 1, 'validate': 3, 'validates': 1, 'validating': 1, 'validation': 13, 'valleys': 1, 'valuable': 49, 'value': 73, 'valued': 20, 'values': 30, 'valuing': 1, 'valves': 1, 'van': 2, 'vanessa': 1, 'vanish': 1, 'vanja': 1, 'variable': 1, 'variables': 1, 'variance': 1, 'variants': 2, 'variation': 2, 'variations': 1, 'varied': 1, 'variety': 6, 'various': 37, 'varun': 2, 'varying': 2, 'vault': 1, 'vdk': 2, 've': 221, 'veeam': 1, 'vegetable': 1, 'vehicle': 2, 'velocity': 1, 'vendor': 15, 'vendors': 21, 'verification': 11, 'verified': 6, 'verify': 15, 'verifying': 14, 'vernova': 2, 'veronica': 2, 'versatile': 1, 'versed': 1, 'version': 9, 'versions': 1, 'versus': 2, 'very': 538, 'vessel': 2, 'veteran': 3, 'via': 14, 'viabilities': 1, 'viable': 1, 'vibrant': 2, 'victor': 2, 'victory': 2, 'video': 30, 'videos': 4, 'view': 26, 'vigilance': 5, 'vigilant': 16, 'vigor': 1, 'vigour': 1, 'viii': 1, 'vikram': 2, 'village': 8, 'villar': 1, 'vinay': 1, 'vinod': 1, 'violations': 3, 'vip': 3, 'viral': 2, 'virginia': 3, 'virtual': 11, 'virtualization': 1, 'virtually': 5, 'virus': 6, 'visibility': 15, 'visible': 6, 'vision': 31, 'visit': 11, 'visited': 1, 'visitlm': 1, 'visitor': 1, 'visitors': 4, 'visits': 2, 'visual': 5, 'visually': 4, 'visuals': 3, 'vital': 28, 'vitro': 1, 'vivo': 1, 'vlad': 1, 'vm': 1, 'vmi': 1, 'vms': 16, 'vmware': 1, 'voc': 4, 'voe': 1, 'voice': 16, 'voices': 6, 'void': 1, 'voila': 1, 'volatile': 1, 'volatility': 1, 'volha': 2, 'volume': 10, 'volumes': 17, 'volunteer': 2, 'volunteered': 4, 'volunteering': 4, 'volunteers': 1, 'vp': 2, 'vpn': 6, 'vs': 5, 'vsre': 1, 'vulenerabilities': 3, 'vulnerabilities': 25, 'vulnerability': 74, 'vulnerable': 20, 'vxt': 3, 'w10': 1, 'w2': 18, 'waf': 5, 'waffle': 1, 'wagner': 1, 'wahoo': 1, 'wait': 8, 'waiting': 2, 'wake': 1, 'walk': 18, 'walked': 13, 'walking': 11, 'walks': 3, 'walkthrough': 1, 'wall': 1, 'wandering': 1, 'wang': 1, 'want': 158, 'wanted': 364, 'wanting': 2, 'wants': 2, 'war': 2, 'warden': 7, 'wardens': 13, 'warehouse': 4, 'warm': 5, 'warmest': 10, 'warming': 1, 'warmth': 1, 'warned': 1, 'warning': 10, 'warriors': 1, 'was': 1227, 'wash': 2, 'wasn': 17, 'wastage': 1, 'waste': 5, 'wasted': 1, 'watch': 13, 'watched': 1, 'watchful': 2, 'watching': 5, 'water': 21, 'watered': 6, 'waterfall': 1, 'waters': 3, 'watson': 1, 'wave': 3, 'wavering': 1, 'waves': 1, 'waxing': 5, 'way': 241, 'wayne': 2, 'ways': 54, 'wbau': 1, 'wd40': 1, 'we': 1774, 'weakness': 1, 'wealth': 2, 'weapon': 9, 'wear': 1, 'wearing': 7, 'weather': 15, 'weatherbys': 1, 'weaved': 2, 'web': 9, 'webcast': 1, 'webex': 2, 'webinar': 3, 'website': 2, 'wednesday': 3, 'weeding': 1, 'weeds': 9, 'week': 325, 'weekend': 33, 'weekenders': 1, 'weekends': 14, 'weekly': 10, 'weeks': 146, 'wei': 3, 'weighing': 1, 'weight': 3, 'weird': 1, 'welcome': 29, 'welcomed': 5, 'welcoming': 8, 'weld': 1, 'welfare': 1, 'well': 489, 'wellbeing': 8, 'wellness': 4, 'wells': 2, 'wendy': 7, 'went': 93, 'were': 589, 'weren': 3, 'wes': 6, 'weselina': 1, 'wesley': 3, 'wesome': 1, 'west': 16, 'western': 2, 'westinghouse': 1, 'weston': 1, 'westport': 1, 'wet': 5, 'weâ': 1, 'wf': 1, 'wfc': 1, 'wfh': 3, 'wgd': 1, 'wh': 25, 'what': 381, 'whatever': 2, 'whats': 5, 'whatsapp': 2, 'whc4t': 1, 'whct': 1, 'wheel': 1, 'when': 409, 'whenever': 19, 'where': 130, 'wherever': 4, 'wherewithal': 1, 'whether': 34, 'whew': 1, 'whfreeoccupationaltherapists': 1, 'which': 236, 'while': 274, 'whilst': 15, 'whinnovation': 1, 'whiq': 7, 'whirlwind': 6, 'white': 2, 'whiting': 1, 'whitnei': 1, 'whitney': 1, 'whl': 2, 'whls': 1, 'who': 140, 'whole': 48, 'wholeheartedly': 3, 'wholly': 1, 'whom': 2, 'whose': 1, 'why': 27, 'wi': 3, 'wickets': 1, 'wide': 12, 'widen': 1, 'wider': 11, 'widespread': 2, 'widget': 1, 'wield': 1, 'wiifm': 1, 'wiki': 1, 'wild': 2, 'wiliness': 1, 'will': 277, 'williams': 1, 'willing': 38, 'willingly': 1, 'willingness': 58, 'win': 25, 'window': 2, 'windows': 5, 'windscreen': 1, 'wine': 1, 'winery': 1, 'wing': 1, 'winner': 5, 'winners': 1, 'winning': 14, 'wins': 2, 'wip': 3, 'wipe': 2, 'wiped': 1, 'wiping': 1, 'wire': 2, 'wires': 4, 'wisconsin': 1, 'wisdom': 1, 'wise': 1, 'wish': 20, 'wishes': 5, 'wishing': 6, 'wit': 1, 'with': 1937, 'within': 98, 'without': 194, 'witness': 2, 'witnessed': 2, 'witnessing': 1, 'wits': 1, 'wizardly': 1, 'wizards': 5, 'wmhd': 1, 'wns': 1, 'woah': 1, 'wobbled': 1, 'woes': 10, 'woke': 1, 'woman': 1, 'women': 13, 'won': 5, 'wonder': 1, 'wonderful': 42, 'wonderfully': 2, 'wonders': 1, 'wood': 2, 'woohoo': 1, 'word': 11, 'words': 25, 'wordsmithing': 1, 'work': 998, 'workable': 1, 'workarounds': 1, 'workday': 9, 'worked': 76, 'worker': 4, 'workers': 8, 'workflow': 5, 'workflows': 7, 'workforce': 2, 'workgroup': 2, 'workhuman': 185, 'workhumans': 3, 'working': 323, 'workings': 1, 'worklist': 1, 'worklists': 1, 'workload': 20, 'workloads': 4, 'workplace': 55, 'works': 15, 'workshare': 1, 'workshop': 14, 'workshops': 5, 'workspace': 1, 'workspaces': 2, 'workstream': 3, 'workstreams': 5, 'world': 51, 'worley': 1, 'worn': 1, 'worried': 14, 'worries': 5, 'worry': 7, 'worrying': 1, 'worst': 1, 'worth': 9, 'worthwhile': 3, 'worthy': 2, 'wos': 1, 'would': 280, 'wouldn': 10, 'wouldnt': 5, 'wove': 1, 'woven': 2, 'wow': 16, 'wowed': 1, 'wrangling': 1, 'wrap': 3, 'wraps': 1, 'write': 8, 'writeup': 1, 'writing': 22, 'written': 8, 'wrong': 11, 'wrongs': 2, 'wrote': 5, 'wrt': 1, 'wwcma': 1, 'www': 2, 'xiaolei': 1, 'xineohp': 1, 'xiuli': 1, 'xoxo': 1, 'xss': 2, 'xx': 3, 'ya': 2, 'yahoo': 1, 'yahor': 1, 'yan': 1, 'yasser': 3, 'yauhen': 1, 'yauheni': 1, 'ye': 12, 'year': 236, 'yearly': 9, 'years': 90, 'yearâ': 1, 'yee': 3, 'yeezys': 1, 'yeoman': 1, 'yes': 9, 'yesterday': 47, 'yet': 30, 'yi': 2, 'yield': 1, 'yikes': 1, 'yo': 1, 'yoga': 3, 'yong': 13, 'yos': 5, 'yoshida': 1, 'yosjob': 1, 'you': 6149, 'your': 2674, 'yours': 11, 'yourself': 78, 'yourselves': 4, 'yous': 1, 'yousra': 2, 'youth': 2, 'youuu': 1, 'youâ': 1, 'ytd': 1, 'yui': 1, 'yujie': 1, 'yulia': 1, 'yuliya': 2, 'yura': 1, 'yurkouskaya': 1, 'yury': 6, 'yvonne': 32, 'zeal': 1, 'zealand': 1, 'zero': 14, 'zeus': 2, 'zeynab': 1, 'zf3': 1, 'zhaneta': 1, 'zhennaa': 1, 'zinc': 1, 'zip': 2, 'zithromax': 1, 'zoe': 3, 'zone': 9, 'zones': 1, 'zoom': 7, 'zurich': 1, 'zv': 1}\n"
          ]
        }
      ],
      "source": [
        "# instantiate the count vectorizer\n",
        "vectorizer = CountVectorizer()\n",
        "\n",
        "# fit and transform the text column\n",
        "X = vectorizer.fit_transform(df_upsampled['text'])\n",
        "\n",
        "# sum up the counts of each vocabulary word\n",
        "word_counts = X.sum(axis=0)\n",
        "\n",
        "# Map from integer feature name to original token string\n",
        "words = vectorizer.get_feature_names_out()\n",
        "\n",
        "# create a dictionary of words and their counts\n",
        "word_freq = {words[i]: word_counts[0,i] for i in range(len(words))}\n",
        "\n",
        "# print word_freq\n",
        "print(word_freq)"
      ]
    },
    {
      "cell_type": "code",
      "execution_count": null,
      "id": "d4c18057",
      "metadata": {
        "colab": {
          "base_uri": "https://localhost:8080/"
        },
        "id": "d4c18057",
        "outputId": "129daa78-34b6-4ed7-ed50-6b053aa9f59c"
      },
      "outputs": [
        {
          "output_type": "stream",
          "name": "stdout",
          "text": [
            "{'00': 1, 'locating': 1, 'locally': 1, 'lobby': 1, 'loans': 1, 'loaniq': 1, 'loaney': 1, 'loan': 1, 'loads': 1, 'loading': 1, 'loa': 1, 'ln18': 1, 'llms': 1, 'llc': 1, 'lizette': 1, 'liverpool': 1, 'liu': 1, 'litter': 1, 'lockdown': 1, 'lit': 1, 'logistic': 1, 'longest': 1, 'lvd': 1, 'lunar': 1, 'luisa': 1, 'luis': 1, 'lubna': 1, 'lsms': 1, 'ls': 1, 'lowest': 1, 'louis': 1, 'lottery': 1, 'losses': 1, 'losing': 1, 'lose': 1, 'lorene': 1, 'lookout': 1, 'lookng': 1, 'longevity': 1, 'logistical': 1, 'listing': 1, 'listens': 1, 'liran': 1, 'liaising': 1, 'lhm': 1, 'lgbtqia': 1, 'lexi': 1, 'leveraging': 1, 'lever': 1, 'level2': 1, 'levant': 1, 'leukemia': 1, 'leozi': 1, 'leon': 1, 'lengthy': 1, 'length': 1, 'len': 1, 'leigh': 1, 'legrand': 1, 'legitimately': 1, 'liaison': 1, 'lianna': 1, 'library': 1, 'liera': 1, 'linnane': 1, 'linking': 1, 'linked': 1, 'lining': 1, 'linguist': 1, 'lingqi': 1, 'linens': 1, 'lincoln': 1, 'lvl': 1, 'lina': 1, 'limerick': 1, 'liletta': 1, 'likeliness': 1, 'lightning': 1, 'lifts': 1, 'liftoff': 1, 'lifter': 1, 'lies': 1, 'limitations': 1, 'lyn': 1, 'lyndi': 1, 'ma': 1, 'marvellous': 1, 'marvelled': 1, 'mart': 1, 'marriott': 1, 'marqeta': 1, 'marlene': 1, 'marks': 1, 'marking': 1, 'marketplace': 1, 'mariya': 1, 'mario': 1, 'marielena': 1, 'marginalized': 1, 'margarita': 1, 'marek': 1, 'marcus': 1, 'marcin': 1, 'marvin': 1, 'marykay': 1, 'mascot': 1, 'masha': 1, 'max': 1, 'maureen': 1, 'matthias': 1, 'matthew': 1, 'mattered': 1, 'matrixone': 1, 'matrices': 1, 'matching': 1, 'mar': 1, 'matched': 1, 'mastery': 1, 'mastering': 1, 'masterclass': 1, 'mastercard': 1, 'massively': 1, 'masses': 1, 'massages': 1, 'masks': 1, 'matata': 1, 'legend': 1, 'mapp': 1, 'manufactures': 1, 'maker': 1, 'maith': 1, 'mainline': 1, 'mainer': 1, 'mailer': 1, 'mahoney': 1, 'mahmud': 1, 'magnitude': 1, 'magnifying': 1, 'magician': 1, 'maghnus': 1, 'madness': 1, 'madison': 1, 'macy': 1, 'mackesy': 1, 'macdonald': 1, 'mabi': 1, 'makings': 1, 'malaysia': 1, 'malfunctioned': 1, 'mallinckrodt': 1, 'manuel': 1, 'mantra': 1, 'manpreet': 1, 'manpower': 1, 'manon': 1, 'manoj': 1, 'manohar': 1, 'manning': 1, 'manulife': 1, 'manipulation': 1, 'mani': 1, 'manger': 1, 'mandela': 1, 'manassas': 1, 'manageable': 1, 'mammoth': 1, 'mam': 1, 'malvern': 1, 'mania': 1, 'ledger': 1, 'leaves': 1, 'learners': 1, 'jill': 1, 'jiachuan': 1, 'jfkgeo': 1, 'jewish': 1, 'jet': 1, 'jerzy': 1, 'jerry': 1, 'jeopardy': 1, 'jenne': 1, 'jeco': 1, 'jealous': 1, 'je': 1, 'jds': 1, 'jdk': 1, 'jay': 1, 'javascript': 1, 'jaume': 1, 'jims': 1, 'jin': 1, 'jj': 1, 'jl': 1, 'judging': 1, 'juanita': 1, 'juan': 1, 'jr': 1, 'jpg': 1, 'jozef': 1, 'joyful': 1, 'jovial': 1, 'jatin': 1, 'josie': 1, 'joiner': 1, 'johns': 1, 'jocelyn': 1, 'jobâ': 1, 'joao': 1, 'joanne': 1, 'joanna': 1, 'jmx': 1, 'jordan': 1, 'juggled': 1, 'jasonâ': 1, 'jar': 1, 'isr': 1, 'isp': 1, 'islander': 1, 'island': 1, 'isentress': 1, 'iryna': 1, 'irresponsible': 1, 'irreplaceable': 1, 'iron': 1, 'iraq': 1, 'irad': 1, 'ira': 1, 'ips3': 1, 'ips': 1, 'ipr': 1, 'iot': 1, 'ios': 1, 'israelâ': 1, 'ist': 1, 'iterate': 1, 'iterating': 1, 'janssen': 1, 'janitor': 1, 'jane': 1, 'jamar': 1, 'jamaican': 1, 'jamaica': 1, 'jaime': 1, 'jacqueline': 1, 'jasmine': 1, 'jaclyn': 1, 'ivy': 1, 'ive': 1, 'ivan': 1, 'iv': 1, 'itâ': 1, 'itr': 1, 'ito': 1, 'itl': 1, 'iâ': 1, 'maximizing': 1, 'julius': 1, 'juniper': 1, 'lack': 1, 'laboratory': 1, 'labels': 1, 'l41': 1, 'l3': 1, 'l2': 1, 'l1': 1, 'kyle': 1, 'kts': 1, 'ks': 1, 'kristine': 1, 'kristin': 1, 'kris': 1, 'kri': 1, 'kraft': 1, 'kpmg': 1, 'kpis': 1, 'lacking': 1, 'lamesh': 1, 'land': 1, 'landed': 1, 'leandro': 1, 'lcsw': 1, 'lcc': 1, 'lca': 1, 'lazy': 1, 'lazard': 1, 'lays': 1, 'layoffs': 1, 'kpi': 1, 'layer': 1, 'laurels': 1, 'launchpad': 1, 'laughed': 1, 'latter': 1, 'latitude': 1, 'latin': 1, 'lateral': 1, 'landmines': 1, 'laurie': 1, 'juncture': 1, 'koumila': 1, 'kong': 1, 'kendall': 1, 'kelvin': 1, 'keeper': 1, 'keenly': 1, 'kee': 1, 'kedar': 1, 'kayleigh': 1, 'kay': 1, 'kawther': 1, 'katrina': 1, 'katia': 1, 'kathryn': 1, 'k02': 1, 'k01': 1, 'justification': 1, 'juniverse': 1, 'junit': 1, 'kera': 1, 'kevy': 1, 'keyboard': 1, 'keyway': 1, 'kog': 1, 'knowledgable': 1, 'knock': 1, 'knife': 1, 'klas': 1, 'kla': 1, 'kit': 1, 'king': 1, 'kostas': 1, 'kindly': 1, 'killed': 1, 'kill': 1, 'kilkenny': 1, 'kids': 1, 'kiddos': 1, 'kidding': 1, 'zurich': 1, 'keywords': 1, 'kimia': 1, 'maxx': 1, 'maya': 1, 'mba': 1, 'ohiohealth': 1, 'ohio': 1, 'oh': 1, 'og0': 1, 'og': 1, 'offs': 1, 'offerings': 1, 'offboarding': 1, 'oee': 1, 'odq': 1, 'odm': 1, 'oct': 1, 'ochsner': 1, 'occurrences': 1, 'occurrence': 1, 'occurred': 1, 'occasionally': 1, 'ohs': 1, 'oid': 1, 'oiled': 1, 'oils': 1, 'onelm': 1, 'oncology': 1, 'oncall': 1, 'omnichannel': 1, 'omkar': 1, 'omissions': 1, 'ominously': 1, 'omero': 1, 'obtained': 1, 'om': 1, 'olink': 1, 'olieslagers': 1, 'older': 1, 'olathe': 1, 'okta': 1, 'okrs': 1, 'okay': 1, 'ojt': 1, 'ollie': 1, 'onr': 1, 'observe': 1, 'obrigada': 1, 'noshing': 1, 'nos': 1, 'norms': 1, 'norman': 1, 'nora': 1, 'nominations': 1, 'nominated': 1, 'nolbas': 1, 'noemiâ': 1, 'noels': 1, 'noel': 1, 'nj': 1, 'ninja': 1, 'nine': 1, 'nilson': 1, 'nikki': 1, 'nightmare': 1, 'noticeable': 1, 'notifications': 1, 'notify': 1, 'nous': 1, 'obligations': 1, 'objects': 1, 'nycu': 1, 'nyc': 1, 'nuvance': 1, 'nutrition': 1, 'nut': 1, 'nursing': 1, 'observability': 1, 'nurses': 1, 'ntb': 1, 'nsr': 1, 'nsbe': 1, 'ns': 1, 'nre': 1, 'npmm': 1, 'npi': 1, 'nova': 1, 'nuance': 1, 'nicu': 1, 'onward': 1, 'oos': 1, 'papers': 1, 'paper': 1, 'panels': 1, 'pandey': 1, 'pallets': 1, 'pallet': 1, 'pairs': 1, 'painting': 1, 'painstaking': 1, 'padlock': 1, 'pad': 1, 'packets': 1, 'packages': 1, 'pacific': 1, 'p2p': 1, 'p1': 1, 'owns': 1, 'parameters': 1, 'parents': 1, 'parish': 1, 'parkwest': 1, 'payoff': 1, 'paycheck': 1, 'paxlovid': 1, 'pavels': 1, 'pavel': 1, 'paved': 1, 'pave': 1, 'paulâ': 1, 'overwhelmingly': 1, 'paula': 1, 'patrice': 1, 'patio': 1, 'patick': 1, 'patch': 1, 'pastries': 1, 'partly': 1, 'partial': 1, 'parkwood': 1, 'patty': 1, 'ooh': 1, 'oversaw': 1, 'overlook': 1, 'organised': 1, 'organisational': 1, 'ordinated': 1, 'orchestration': 1, 'orator': 1, 'optum': 1, 'option': 1, 'optimizing': 1, 'optimizely': 1, 'optimizations': 1, 'optimal': 1, 'ophelia': 1, 'operators': 1, 'opentext': 1, 'openet': 1, 'opened': 1, 'opeex': 1, 'oriented': 1, 'originally': 1, 'origination': 1, 'orlando': 1, 'overload': 1, 'overhaul': 1, 'overcame': 1, 'overarching': 1, 'overal': 1, 'outset': 1, 'outs': 1, 'outreach': 1, 'overpressure': 1, 'outlines': 1, 'outliers': 1, 'outdoors': 1, 'otc': 1, 'ot': 1, 'ors': 1, 'orrp': 1, 'orr': 1, 'ornagizing': 1, 'outlined': 1, 'io': 1, 'nicky': 1, 'nicholas': 1, 'microsite': 1, 'microaggressions': 1, 'micro': 1, 'mick': 1, 'michal': 1, 'michaela': 1, 'micaiah': 1, 'mica': 1, 'miami': 1, 'mhhs': 1, 'mgmt': 1, 'mfc': 1, 'meâ': 1, 'mezâ': 1, 'mexico': 1, 'meu': 1, 'metric': 1, 'midwest': 1, 'mig': 1, 'migrator': 1, 'mihika': 1, 'mitdc': 1, 'missoula': 1, 'misconceptions': 1, 'mirror': 1, 'mirfie': 1, 'mirela': 1, 'minus': 1, 'minions': 1, 'meticulously': 1, 'minimized': 1, 'minerva': 1, 'minding': 1, 'mindfulness': 1, 'mim': 1, 'military': 1, 'milan': 1, 'mikhail': 1, 'mihirana': 1, 'mini': 1, 'mitigants': 1, 'meticulous': 1, 'metal': 1, 'medicines': 1, 'medication': 1, 'mediation': 1, 'medford': 1, 'mechanics': 1, 'mecap': 1, 'meaty': 1, 'meal': 1, 'md8': 1, 'mckinsey': 1, 'mcdaid': 1, 'mcconnell': 1, 'mcbrg': 1, 'mcardle': 1, 'mc': 1, 'mbr': 1, 'mbo': 1, 'mediterranean': 1, 'meenakshi': 1, 'mega': 1, 'mehreen': 1, 'metadata': 1, 'messed': 1, 'mes': 1, 'merry': 1, 'merit': 1, 'merging': 1, 'merged': 1, 'mere': 1, 'methodically': 1, 'merchandising': 1, 'menu': 1, 'mentors': 1, 'mentees': 1, 'mentally': 1, 'memories': 1, 'memorial': 1, 'member_desktop': 1, 'melanie': 1, 'mer': 1, 'nickname': 1, 'mixed': 1, 'mkre': 1, 'natig': 1, 'natallia': 1, 'natalini': 1, 'natalia': 1, 'narrow': 1, 'narmin': 1, 'nappy': 1, 'naed': 1, 'nadzey': 1, 'mythology': 1, 'myk': 1, 'mwi': 1, 'mw': 1, 'muslims': 1, 'mush': 1, 'murphy': 1, 'murnane': 1, 'nationwide': 1, 'nautical': 1, 'nav': 1, 'nb': 1, 'nicest': 1, 'nhp': 1, 'nh': 1, 'newsletter': 1, 'newport': 1, 'newcomer': 1, 'newbies': 1, 'neutral': 1, 'multicultural': 1, 'netherlands': 1, 'neill': 1, 'negotiator': 1, 'negotiations': 1, 'negotiate': 1, 'needle': 1, 'nearing': 1, 'neal': 1, 'neac': 1, 'netflix': 1, 'mixer': 1, 'muhsina': 1, 'mucosal': 1, 'monica': 1, 'money': 1, 'monarch': 1, 'mon': 1, 'moms': 1, 'momma': 1, 'momentous': 1, 'mom': 1, 'mohith': 1, 'moh': 1, 'modernization': 1, 'models': 1, 'mocked': 1, 'mock': 1, 'mobilize': 1, 'mmr': 1, 'mmd': 1, 'monolithic': 1, 'mood': 1, 'moore': 1, 'mopping': 1, 'mtgs': 1, 'mtg': 1, 'msc': 1, 'mps': 1, 'movies': 1, 'mountains': 1, 'motto': 1, 'motivations': 1, 'muddy': 1, 'motivational': 1, 'motivated': 1, 'motions': 1, 'motion': 1, 'morocco': 1, 'morgana': 1, 'moreover': 1, 'morales': 1, 'morale': 1, 'motivates': 1, 'invoiced': 1, 'invited': 1, 'invincible': 1, 'fly': 1, 'flushing': 1, 'flowserve': 1, 'flows': 1, 'flown': 1, 'flowers': 1, 'florida': 1, 'floors': 1, 'floated': 1, 'flipping': 1, 'flip': 1, 'fleet': 1, 'flaws': 1, 'flavor': 1, 'flash': 1, 'fixer': 1, 'fitness': 1, 'flying': 1, 'fmt': 1, 'foe': 1, 'foggy': 1, 'fork': 1, 'forgive': 1, 'forgetting': 1, 'forged': 1, 'forge': 1, 'foreign': 1, 'forecasts': 1, 'fore': 1, 'fist': 1, 'footprint': 1, 'foods': 1, 'followups': 1, 'follows': 1, 'followng': 1, 'folk': 1, 'folding': 1, 'folder': 1, 'fold': 1, 'football': 1, 'formulating': 1, 'fishy': 1, 'firmer': 1, 'festival': 1, 'fest': 1, 'fernanda': 1, 'felicity': 1, 'feb': 1, 'feast': 1, 'fdb5c73edbae4548afc957d0465a9c94': 1, 'fda': 1, 'fd': 1, 'fb': 1, 'faye': 1, 'faulty': 1, 'fatigue': 1, 'father': 1, 'fasten': 1, 'fasolo': 1, 'fascinating': 1, 'festive': 1, 'fetched': 1, 'fever': 1, 'fi': 1, 'fireworks': 1, 'firefight': 1, 'fiona': 1, 'finishline': 1, 'finbarr': 1, 'finals': 1, 'finalizing': 1, 'finalized': 1, 'firstly': 1, 'finalization': 1, 'filming': 1, 'filly': 1, 'figma': 1, 'fig': 1, 'fifth': 1, 'fifteen': 1, 'fierce': 1, 'fib': 1, 'filters': 1, 'farber': 1, 'fort': 1, 'forums': 1, 'ganesh': 1, 'gamma': 1, 'gamis': 1, 'gallery': 1, 'galit': 1, 'gaja': 1, 'gains': 1, 'gaining': 1, 'gabi': 1, 'g600': 1, 'fyi': 1, 'fy23': 1, 'fy2023': 1, 'fy': 1, 'fvl': 1, 'fuzzy': 1, 'futures': 1, 'gantry': 1, 'gas': 1, 'gatekeeper': 1, 'gather': 1, 'genetic': 1, 'generously': 1, 'generosity': 1, 'generic': 1, 'generators': 1, 'generating': 1, 'gems': 1, 'gemma': 1, 'fusion': 1, 'gear': 1, 'gcs': 1, 'gc': 1, 'gbc': 1, 'gavin': 1, 'gav': 1, 'gatherings': 1, 'gatherer': 1, 'gathered': 1, 'gd': 1, 'forths': 1, 'fuse': 1, 'furlong': 1, 'frequent': 1, 'french': 1, 'freemium': 1, 'freedom': 1, 'freed': 1, 'frantic': 1, 'frankly': 1, 'frankfurt': 1, 'francisco': 1, 'frameworkã': 1, 'frameworks': 1, 'fractious': 1, 'fpga': 1, 'fox': 1, 'foward': 1, 'foundations': 1, 'foundational': 1, 'friction': 1, 'frida': 1, 'friendliness': 1, 'friendship': 1, 'furious': 1, 'fur': 1, 'funeral': 1, 'fundamental': 1, 'functioning': 1, 'functionalities': 1, 'fumbled': 1, 'fulltime': 1, 'furniture': 1, 'fulfilmet': 1, 'fulfilled': 1, 'fulfill': 1, 'fsv': 1, 'fsi': 1, 'fsed': 1, 'frustrating': 1, 'fruition': 1, 'frontend': 1, 'fulfilling': 1, 'genevieve': 1, 'faqs': 1, 'families': 1, 'energised': 1, 'energetic': 1, 'enema': 1, 'enduring': 1, 'ended': 1, 'encryption': 1, 'encounters': 1, 'emr': 1, 'employers': 1, 'employer': 1, 'emphasize': 1, 'emphasis': 1, 'empathetic': 1, 'emotions': 1, 'emotionally': 1, 'emotional': 1, 'emmanuel': 1, 'energizing': 1, 'enforcement': 1, 'eng': 1, 'engines': 1, 'envisage': 1, 'entushiasm': 1, 'entities': 1, 'entirety': 1, 'entirely': 1, 'entir': 1, 'enthusiast': 1, 'entertainment': 1, 'emission': 1, 'enterprises': 1, 'enrollments': 1, 'enquiries': 1, 'enoch': 1, 'enjoyment': 1, 'enjoyably': 1, 'eni': 1, 'enhances': 1, 'english': 1, 'entered': 1, 'envs': 1, 'emergencies': 1, 'embodies': 1, 'elaborate': 1, 'einstein': 1, 'ei': 1, 'eh': 1, 'egos': 1, 'egc': 1, 'efrd': 1, 'effects': 1, 'effected': 1, 'edwin': 1, 'edp': 1, 'edmund': 1, 'edmonton': 1, 'edge': 1, 'edc': 1, 'ecuador': 1, 'ecstatic': 1, 'elanco': 1, 'elastic': 1, 'elbow': 1, 'electric': 1, 'embedding': 1, 'embed': 1, 'embarrassing': 1, 'embarking': 1, 'embark': 1, 'emarkter': 1, 'emailed': 1, 'elt': 1, 'emerged': 1, 'els': 1, 'elnur': 1, 'elms': 1, 'elite': 1, 'eliminates': 1, 'eliana': 1, 'eleven': 1, 'elephant': 1, 'elegant': 1, 'eloquently': 1, 'fan': 1, 'eob': 1, 'eoy': 1, 'experiment': 1, 'expensing': 1, 'expending': 1, 'expeditiously': 1, 'expediting': 1, 'expansions': 1, 'exist': 1, 'exhibiting': 1, 'exhibit': 1, 'exhale': 1, 'exemplifying': 1, 'exemplify': 1, 'exemplar': 1, 'exelon': 1, 'executions': 1, 'exec': 1, 'excuse': 1, 'experimenting': 1, 'explanations': 1, 'exploit': 1, 'exposing': 1, 'familiarize': 1, 'familiar': 1, 'false': 1, 'fake': 1, 'faith': 1, 'fairfield': 1, 'facts': 1, 'facilitator': 1, 'exchanged': 1, 'faces': 1, 'fab': 1, 'f1': 1, 'ezhilarasi': 1, 'eyebrows': 1, 'exudes': 1, 'extinguishing': 1, 'extinguishers': 1, 'extension': 1, 'fabulous': 1, 'eoq': 1, 'excerpt': 1, 'excelling': 1, 'esrd': 1, 'espion': 1, 'esp': 1, 'esgs': 1, 'eservice': 1, 'escorted': 1, 'escalate': 1, 'erps': 1, 'erin': 1, 'erik': 1, 'erica': 1, 'ergs': 1, 'equip': 1, 'equality': 1, 'episode': 1, 'epilog': 1, 'ep': 1, 'establish': 1, 'et': 1, 'ethical': 1, 'etiquette': 1, 'exceeds': 1, 'exc': 1, 'examining': 1, 'exact': 1, 'ewd': 1, 'evrim': 1, 'evolution': 1, 'eveyone': 1, 'excels': 1, 'everyting': 1, 'eventbrite': 1, 'evaluation': 1, 'evaluating': 1, 'eva': 1, 'ev': 1, 'euromillions': 1, 'eurofins': 1, 'eu': 1, 'everyones': 1, 'payslips': 1, 'geniously': 1, 'gently': 1, 'ideate': 1, 'ideal': 1, 'idaho': 1, 'icertis': 1, 'ice': 1, 'icann': 1, 'ibrahim': 1, 'iass': 1, 'ian': 1, 'hypercare': 1, 'hydration': 1, 'hydrated': 1, 'hybrid': 1, 'hxsp': 1, 'hvbr': 1, 'hvala': 1, 'hurry': 1, 'ideating': 1, 'idempotent': 1, 'identifies': 1, 'idmaic': 1, 'improves': 1, 'impress': 1, 'imposed': 1, 'implications': 1, 'imperatives': 1, 'impediments': 1, 'immunizations': 1, 'immunization': 1, 'huntsville': 1, 'immerse': 1, 'imaginative': 1, 'images': 1, 'illuminated': 1, 'illiminate': 1, 'ilex': 1, 'ifrs': 1, 'ie': 1, 'idp': 1, 'imex': 1, 'impulse': 1, 'hunt': 1, 'hung': 1, 'horns': 1, 'horizons': 1, 'hootsuite': 1, 'hooked': 1, 'honoured': 1, 'honorees': 1, 'honorary': 1, 'honor': 1, 'hong': 1, 'homework': 1, 'homemade': 1, 'homeless': 1, 'holistically': 1, 'hole': 1, 'holden': 1, 'hobbies': 1, 'hmb': 1, 'horticulturist': 1, 'hotsy': 1, 'household': 1, 'hover': 1, 'hundred': 1, 'humour': 1, 'humorous': 1, 'humbly': 1, 'humanize': 1, 'humanitas': 1, 'humane': 1, 'huh': 1, 'hunger': 1, 'hughly': 1, 'hughen': 1, 'hugh': 1, 'huddles': 1, 'hubs': 1, 'hts': 1, 'htmls': 1, 'hrs': 1, 'hovering': 1, 'hughes': 1, 'hm': 1, 'ims': 1, 'inaugural': 1, 'interacting': 1, 'intensive': 1, 'intensely': 1, 'intense': 1, 'intelligent': 1, 'intellectual': 1, 'intel18a': 1, 'integrations': 1, 'insurance': 1, 'instrument': 1, 'instructions': 1, 'institution': 1, 'institute': 1, 'instinctive': 1, 'instinct': 1, 'instilling': 1, 'instilled': 1, 'intercloud': 1, 'intercultural': 1, 'interface': 1, 'interference': 1, 'invigorated': 1, 'investments': 1, 'investigators': 1, 'investigative': 1, 'invaluabe': 1, 'inundated': 1, 'introductions': 1, 'intricate': 1, 'installing': 1, 'intimate': 1, 'interviewed': 1, 'interruptions': 1, 'interrupt': 1, 'interpretations': 1, 'internships': 1, 'internet': 1, 'internals': 1, 'interms': 1, 'interviewing': 1, 'inaccurate': 1, 'installed': 1, 'instagram': 1, 'infant': 1, 'inefficiency': 1, 'industrial': 1, 'indicators': 1, 'indication': 1, 'indicates': 1, 'indicated': 1, 'indian': 1, 'index': 1, 'indept': 1, 'independence': 1, 'incursions': 1, 'incursion': 1, 'increases': 1, 'incorporating': 1, 'inconvenience': 1, 'incl': 1, 'influance': 1, 'influenced': 1, 'influencer': 1, 'influx': 1, 'inspecting': 1, 'insource': 1, 'insofar': 1, 'insignificant': 1, 'insanely': 1, 'insane': 1, 'inputted': 1, 'inner': 1, 'install': 1, 'innately': 1, 'injections': 1, 'inject': 1, 'initiate': 1, 'inheritance': 1, 'ingrid': 1, 'infuse': 1, 'infrastrucutre': 1, 'informs': 1, 'ink': 1, 'genomic': 1, 'hln': 1, 'hill': 1, 'graduation': 1, 'graduate': 1, 'gradual': 1, 'grading': 1, 'gracias': 1, 'graceful': 1, 'graced': 1, 'grabbing': 1, 'gpv': 1, 'gpo': 1, 'gpm': 1, 'gp': 1, 'government': 1, 'gotos': 1, 'gos': 1, 'goods': 1, 'gonna': 1, 'grady': 1, 'grainne': 1, 'grand': 1, 'granted': 1, 'gtin': 1, 'gsa': 1, 'grows': 1, 'grown': 1, 'groupsã': 1, 'groundwater': 1, 'grounded': 1, 'groom': 1, 'gong': 1, 'grit': 1, 'greener': 1, 'greek': 1, 'greedy': 1, 'greatest': 1, 'grease': 1, 'gray': 1, 'gratifying': 1, 'graph': 1, 'greet': 1, 'gtins': 1, 'gom': 1, 'goin': 1, 'gifted': 1, 'giblin': 1, 'giant': 1, 'gianna': 1, 'gforce20': 1, 'gfa': 1, 'germany': 1, 'geovany': 1, 'georgie': 1, 'georgia': 1, 'georges': 1, 'george': 1, 'geophysical': 1, 'geological': 1, 'geoffrey': 1, 'geoffery': 1, 'gents': 1, 'gilbert': 1, 'gillen': 1, 'gilson': 1, 'gimmicked': 1, 'goggles': 1, 'gmd': 1, 'glue': 1, 'glt': 1, 'glory': 1, 'glorious': 1, 'glocal': 1, 'globotrack': 1, 'gokak': 1, 'globostar': 1, 'globe': 1, 'glint': 1, 'glimpsing': 1, 'gliknik': 1, 'glights': 1, 'glance': 1, 'gl': 1, 'gitlab': 1, 'globodesk': 1, 'historic': 1, 'gtm': 1, 'guardian': 1, 'heck': 1, 'heaters': 1, 'heartwarming': 1, 'heartbeat': 1, 'healthier': 1, 'headwinds': 1, 'headed': 1, 'headcount': 1, 'hdipt': 1, 'hc2': 1, 'hc': 1, 'hazel': 1, 'haves': 1, 'hauled': 1, 'hate': 1, 'harvey': 1, 'hartford': 1, 'hector': 1, 'hee': 1, 'heights': 1, 'heinz': 1, 'hilarious': 1, 'hiccups': 1, 'hhmi': 1, 'hex': 1, 'hetal': 1, 'hesitated': 1, 'heroic': 1, 'heroes': 1, 'harshada': 1, 'hernandez': 1, 'heritages': 1, 'herday': 1, 'henning': 1, 'heme': 1, 'hell': 1, 'helium': 1, 'helicopter': 1, 'heitor': 1, 'hermann': 1, 'gtw': 1, 'harry': 1, 'harness': 1, 'habit': 1, 'h2smr': 1, 'gznb': 1, 'gyroscopic': 1, 'gx': 1, 'gvii': 1, 'gut': 1, 'gush': 1, 'guru': 1, 'gulfstream': 1, 'guimin': 1, 'guillermo': 1, 'guild': 1, 'guidelines': 1, 'guid': 1, 'guess': 1, 'guarding': 1, 'hacker': 1, 'hackers': 1, 'hai': 1, 'hakuna': 1, 'harmony': 1, 'harjinder': 1, 'harish': 1, 'hardwork': 1, 'hardly': 1, 'hardest': 1, 'harder': 1, 'happiness': 1, 'harnessing': 1, 'happily': 1, 'happens': 1, 'hanna': 1, 'hangar': 1, 'handlers': 1, 'handholding': 1, 'hammer': 1, 'hallmark': 1, 'halfway': 1, 'happiest': 1, 'pbwm': 1, 'pc': 1, 'pca': 1, 'tailoring': 1, 'tailored': 1, 'tailor': 1, 'tagging': 1, 'tafilah': 1, 'tactical': 1, 'tackled': 1, 'tablets': 1, 'tablet': 1, 'tables': 1, 'tableau': 1, 't4': 1, 't0rp': 1, 'synthelytics': 1, 'synergy': 1, 'syndication': 1, 'syndicate': 1, 'takeaways': 1, 'talend': 1, 'talks': 1, 'talos': 1, 'techies': 1, 'teamlincoln': 1, 'teaming': 1, 'teachings': 1, 'tea': 1, 'tcmis': 1, 'taxes': 1, 'tatsiana': 1, 'syncing': 1, 'tasting': 1, 'tasking': 1, 'tarun': 1, 'targeting': 1, 'tapestry': 1, 'tap': 1, 'tank': 1, 'tania': 1, 'talt': 1, 'taste': 1, 'technicians': 1, 'synchub': 1, 'symbia': 1, 'suspend': 1, 'survivor': 1, 'surviving': 1, 'survived': 1, 'survival': 1, 'surveyor': 1, 'surveying': 1, 'surrounding': 1, 'surround': 1, 'surprisingly': 1, 'surprises': 1, 'surpassed': 1, 'surgeons': 1, 'surface': 1, 'supplies': 1, 'supervisors': 1, 'supervision': 1, 'suspicions': 1, 'sustained': 1, 'susy': 1, 'suzanne': 1, 'sy23': 1, 'switzerland': 1, 'switched': 1, 'swing': 1, 'swimming': 1, 'swiftness': 1, 'swetha': 1, 'swept': 1, 'sync': 1, 'sweep': 1, 'swapping': 1, 'swap': 1, 'swag': 1, 'swabbing': 1, 'svs': 1, 'svod': 1, 'svb': 1, 'suzy': 1, 'swatch': 1, 'supervised': 1, 'technip': 1, 'tel': 1, 'tko': 1, 'tj': 1, 'titles': 1, 'tissues': 1, 'tisha': 1, 'tipping': 1, 'tip': 1, 'tiny': 1, 'timu': 1, 'timing': 1, 'timezone': 1, 'timesheets': 1, 'tilson': 1, 'tile': 1, 'tightening': 1, 'tied': 1, 'tie': 1, 'tl': 1, 'tla': 1, 'tms': 1, 'tnps': 1, 'totalsource': 1, 'totals': 1, 'totales': 1, 'torch': 1, 'topped': 1, 'topical': 1, 'toothache': 1, 'tonnes': 1, 'tibco': 1, 'tonic': 1, 'tomcat': 1, 'toilets': 1, 'togethers': 1, 'togafâ': 1, 'todd': 1, 'toby': 1, 'tnt': 1, 'tns': 1, 'tomfoolery': 1, 'technological': 1, 'thus': 1, 'throws': 1, 'testings': 1, 'testable': 1, 'terror': 1, 'terrific': 1, 'terminating': 1, 'terminals': 1, 'teresa': 1, 'tepaske': 1, 'teoâ': 1, 'tensor': 1, 'tens': 1, 'tenant': 1, 'tempting': 1, 'tempo': 1, 'telling': 1, 'television': 1, 'telecom': 1, 'texas': 1, 'texts': 1, 'tfmc': 1, 'th': 1, 'throttle': 1, 'threatening': 1, 'threatened': 1, 'thousand': 1, 'thinks': 1, 'thin': 1, 'thick': 1, 'thiago': 1, 'thrust': 1, 'thermofisher': 1, 'therefore': 1, 'therapy': 1, 'therapeutic': 1, 'themes': 1, 'theirs': 1, 'theere': 1, 'thankless': 1, 'tha': 1, 'theresa': 1, 'touches': 1, 'superstar': 1, 'superior': 1, 'spectrum': 1, 'specializing': 1, 'spec': 1, 'spas': 1, 'sparrow': 1, 'sparkly': 1, 'spares': 1, 'spanish': 1, 'spacious': 1, 'sp2': 1, 'soybean': 1, 'sows': 1, 'sow': 1, 'souvenirs': 1, 'southern': 1, 'soup': 1, 'soundproof': 1, 'speeds': 1, 'spends': 1, 'spikes': 1, 'spill': 1, 'squeaky': 1, 'spy': 1, 'sps': 1, 'sprung': 1, 'sprite': 1, 'spreadsheet': 1, 'spraying': 1, 'spouse': 1, 'sounding': 1, 'sportsmanship': 1, 'spontaneous': 1, 'sponsors': 1, 'spoken': 1, 'spite': 1, 'spins': 1, 'spinoff': 1, 'spinner': 1, 'spin': 1, 'spoon': 1, 'squealed': 1, 'sounded': 1, 'soto': 1, 'soared': 1, 'soak': 1, 'snowstorm': 1, 'snippet': 1, 'sneaking': 1, 'snags': 1, 'snag': 1, 'snafu': 1, 'smvs': 1, 'sms': 1, 'smoothing': 1, 'smiles': 1, 'smiled': 1, 'smidge': 1, 'smi': 1, 'smash': 1, 'smartcalc': 1, 'soc': 1, 'socially': 1, 'socks': 1, 'solace': 1, 'sooooo': 1, 'soooo': 1, 'sons': 1, 'sonopo': 1, 'sonja': 1, 'song': 1, 'somewhat': 1, 'sometime': 1, 'sought': 1, 'somehow': 1, 'solver': 1, 'solutioning': 1, 'solidifying': 1, 'soliciting': 1, 'solenis': 1, 'solely': 1, 'sold': 1, 'solar': 1, 'somebody': 1, 'supermom': 1, 'sres': 1, 'srms': 1, 'subjects': 1, 'subdomain': 1, 'subaccount': 1, 'styled': 1, 'stupid': 1, 'stupendous': 1, 'stumbling': 1, 'stumbler': 1, 'stumble': 1, 'studying': 1, 'studied': 1, 'student': 1, 'struggles': 1, 'struggled': 1, 'structuring': 1, 'structural': 1, 'structs': 1, 'submitting': 1, 'subscription': 1, 'subsea': 1, 'succeeded': 1, 'superday': 1, 'suns': 1, 'sunlight': 1, 'sun': 1, 'sums': 1, 'summits': 1, 'summarising': 1, 'sum': 1, 'stroma': 1, 'suitable': 1, 'suffices': 1, 'sudhir': 1, 'sudhanshu': 1, 'suddenly': 1, 'succinctly': 1, 'succinct': 1, 'succession': 1, 'succeful': 1, 'suhag': 1, 'srf': 1, 'strived': 1, 'striking': 1, 'stealth': 1, 'steal': 1, 'stats': 1, 'stationary': 1, 'static': 1, 'stated': 1, 'stat': 1, 'staring': 1, 'standardisation': 1, 'stampede': 1, 'stalling': 1, 'staged': 1, 'staffed': 1, 'stacking': 1, 'stable': 1, 'ssrs': 1, 'ssl': 1, 'steinbaugh': 1, 'steph': 1, 'stephenâ': 1, 'steward': 1, 'strictly': 1, 'stretching': 1, 'stretched': 1, 'stressed': 1, 'strengthens': 1, 'strengthening': 1, 'streaming': 1, 'strange': 1, 'string': 1, 'straggling': 1, 'stos': 1, 'storing': 1, 'stores': 1, 'stored': 1, 'storage': 1, 'stocked': 1, 'sting': 1, 'sticky': 1, 'stp': 1, 'slurry': 1, 'touchpoint': 1, 'tours': 1, 'weselina': 1, 'welfare': 1, 'weld': 1, 'weird': 1, 'weighing': 1, 'weekenders': 1, 'weeding': 1, 'webcast': 1, 'weatherbys': 1, 'wear': 1, 'weakness': 1, 'wd40': 1, 'wbau': 1, 'waves': 1, 'wavering': 1, 'watson': 1, 'waterfall': 1, 'wesome': 1, 'westinghouse': 1, 'weston': 1, 'westport': 1, 'wickets': 1, 'whose': 1, 'wholly': 1, 'whls': 1, 'whitney': 1, 'whitnei': 1, 'whiting': 1, 'whinnovation': 1, 'watched': 1, 'whfreeoccupationaltherapists': 1, 'wherewithal': 1, 'wheel': 1, 'whct': 1, 'whc4t': 1, 'wgd': 1, 'wfc': 1, 'wf': 1, 'weâ': 1, 'whew': 1, 'widen': 1, 'wasted': 1, 'warriors': 1, 'vlad': 1, 'vivo': 1, 'vitro': 1, 'visitor': 1, 'visitlm': 1, 'visited': 1, 'virtualization': 1, 'vinod': 1, 'vinay': 1, 'villar': 1, 'viii': 1, 'vigour': 1, 'vigor': 1, 'viable': 1, 'viabilities': 1, 'versions': 1, 'versed': 1, 'vm': 1, 'vmi': 1, 'vmware': 1, 'voe': 1, 'warned': 1, 'warmth': 1, 'warming': 1, 'wang': 1, 'wandering': 1, 'wall': 1, 'walkthrough': 1, 'wake': 1, 'wastage': 1, 'wahoo': 1, 'waffle': 1, 'w10': 1, 'vsre': 1, 'volunteers': 1, 'volatility': 1, 'volatile': 1, 'voila': 1, 'void': 1, 'wagner': 1, 'versatile': 1, 'widget': 1, 'wiifm': 1, 'yield': 1, 'yeoman': 1, 'yeezys': 1, 'yearâ': 1, 'yauheni': 1, 'yauhen': 1, 'yan': 1, 'yahor': 1, 'yahoo': 1, 'xoxo': 1, 'xiuli': 1, 'xineohp': 1, 'xiaolei': 1, 'wwcma': 1, 'wrt': 1, 'writeup': 1, 'wraps': 1, 'yikes': 1, 'yo': 1, 'yoshida': 1, 'yosjob': 1, 'zones': 1, 'zithromax': 1, 'zinc': 1, 'zhennaa': 1, 'zhaneta': 1, 'zf3': 1, 'zeynab': 1, 'zealand': 1, 'wrangling': 1, 'zeal': 1, 'yura': 1, 'yulia': 1, 'yujie': 1, 'yui': 1, 'ytd': 1, 'youâ': 1, 'youuu': 1, 'yous': 1, 'yurkouskaya': 1, 'wield': 1, 'wowed': 1, 'wos': 1, 'wits': 1, 'witnessing': 1, 'wit': 1, 'wise': 1, 'wisdom': 1, 'wisconsin': 1, 'wiping': 1, 'wiped': 1, 'winners': 1, 'wing': 1, 'winery': 1, 'wine': 1, 'windscreen': 1, 'willingly': 1, 'williams': 1, 'wiliness': 1, 'wiki': 1, 'wizardly': 1, 'wmhd': 1, 'wns': 1, 'woah': 1, 'worst': 1, 'worrying': 1, 'worn': 1, 'worley': 1, 'workspace': 1, 'workshare': 1, 'worklists': 1, 'worklist': 1, 'wove': 1, 'workings': 1, 'workable': 1, 'wordsmithing': 1, 'woohoo': 1, 'wonders': 1, 'wonder': 1, 'woman': 1, 'woke': 1, 'wobbled': 1, 'workarounds': 1, 'toughest': 1, 'velocity': 1, 'veeam': 1, 'tune': 1, 'tuas': 1, 'tu': 1, 'tty': 1, 'ttt': 1, 'tts': 1, 'tt': 1, 'tsb': 1, 'truth': 1, 'trusted': 1, 'truncated': 1, 'truest': 1, 'truely': 1, 'trucking': 1, 'trsa': 1, 'troubling': 1, 'troublesome': 1, 'tuned': 1, 'tunnel': 1, 'turbulent': 1, 'turnout': 1, 'uncomfortable': 1, 'uncertain': 1, 'unblocked': 1, 'unaware': 1, 'unavoidable': 1, 'unassuming': 1, 'un': 1, 'umbrella': 1, 'troubles': 1, 'uhg': 1, 'ufns': 1, 'uf': 1, 'ucb': 1, 'tâ': 1, 'typical': 1, 'twisting': 1, 'twelve': 1, 'tv': 1, 'ugly': 1, 'unconditional': 1, 'trojan': 1, 'triumphs': 1, 'transform': 1, 'transcribe': 1, 'transaction': 1, 'tranches': 1, 'trajectory': 1, 'trait': 1, 'trainers': 1, 'trails': 1, 'trailing': 1, 'trafficking': 1, 'traditional': 1, 'trading': 1, 'trademark': 1, 'trade': 1, 'tr': 1, 'tpg': 1, 'tout': 1, 'transformations': 1, 'transformative': 1, 'transformed': 1, 'translating': 1, 'trips': 1, 'trio': 1, 'triggers': 1, 'triggered': 1, 'tridion': 1, 'tribute': 1, 'tribes': 1, 'triaging': 1, 'trl6': 1, 'trepidation': 1, 'trending': 1, 'tremondous': 1, 'trekking': 1, 'treasury': 1, 'traveled': 1, 'trapeze': 1, 'trap': 1, 'translations': 1, 'trends': 1, 'vegetable': 1, 'uncover': 1, 'underrepresented': 1, 'vaageesh': 1, 'vaa': 1, 'uwv': 1, 'uvt': 1, 'utter': 1, 'utm_source': 1, 'utm_medium': 1, 'utilizing': 1, 'utilized': 1, 'utilization': 1, 'utility': 1, 'usgaap': 1, 'uservoice': 1, 'usd': 1, 'usa': 1, 'url': 1, 'upward': 1, 'vaca': 1, 'vacay': 1, 'vaccine': 1, 'vahagn': 1, 'vault': 1, 'varied': 1, 'variations': 1, 'variance': 1, 'variables': 1, 'variable': 1, 'vanja': 1, 'vanish': 1, 'upstream': 1, 'vanessa': 1, 'valuing': 1, 'valleys': 1, 'validating': 1, 'validates': 1, 'valid': 1, 'valerie': 1, 'valentina': 1, 'val': 1, 'valves': 1, 'underpins': 1, 'upskill': 1, 'upmost': 1, 'unlikely': 1, 'unleashed': 1, 'unknowns': 1, 'unknown': 1, 'universe': 1, 'universally': 1, 'uniting': 1, 'unite': 1, 'uniforms': 1, 'unified': 1, 'unforeseen': 1, 'unending': 1, 'undeterred': 1, 'underwriting': 1, 'undertaken': 1, 'understatement': 1, 'understated': 1, 'unlock': 1, 'unmute': 1, 'unpack': 1, 'unphased': 1, 'uploads': 1, 'uploading': 1, 'uplifting': 1, 'uplevel': 1, 'upgrading': 1, 'upbeat': 1, 'unyielding': 1, 'unwind': 1, 'upright': 1, 'unsustainability': 1, 'unsung': 1, 'unspecified': 1, 'unsociable': 1, 'unsettling': 1, 'unsettles': 1, 'unseen': 1, 'unscheduled': 1, 'unravelled': 1, 'unsurmountable': 1, 'ecrg': 1, 'slots': 1, 'slls': 1, 'questioned': 1, 'quest': 1, 'queried': 1, 'queen': 1, 'que': 1, 'quarantined': 1, 'quantity': 1, 'quantities': 1, 'qualify': 1, 'qualifications': 1, 'quaility': 1, 'qtrs': 1, 'qtr': 1, 'qtp': 1, 'qcing': 1, 'qbwm': 1, 'qbpc': 1, 'questionnaires': 1, 'queuing': 1, 'quickbooks': 1, 'quicken': 1, 'railroad': 1, 'raibh': 1, 'rai': 1, 'rahsaan': 1, 'radek': 1, 'racks': 1, 'rack': 1, 'rachida': 1, 'qbl': 1, 'rabbeca': 1, 'r1': 1, 'quotient': 1, 'quizzes': 1, 'quit': 1, 'quintessential': 1, 'quietly': 1, 'quieter': 1, 'quicker': 1, 'r2': 1, 'raj': 1, 'pxs': 1, 'pvm': 1, 'providers': 1, 'proves': 1, 'prouder': 1, 'protocol': 1, 'prosperous': 1, 'proquad': 1, 'propositions': 1, 'proposing': 1, 'proposed': 1, 'properties': 1, 'propelled': 1, 'propel': 1, 'prontos': 1, 'prompted': 1, 'promotions': 1, 'prominently': 1, 'projections': 1, 'provisional': 1, 'provisioning': 1, 'prowess': 1, 'prs': 1, 'puzzling': 1, 'puzzled': 1, 'purposeful': 1, 'purple': 1, 'purification': 1, 'purchasing': 1, 'punches': 1, 'pun': 1, 'pvxr': 1, 'pulls': 1, 'public': 1, 'pub': 1, 'psychologicalsafety': 1, 'psupport': 1, 'psr': 1, 'psp': 1, 'pscm': 1, 'ps': 1, 'puds': 1, 'projectaristotle': 1, 'rajesh': 1, 'rambo': 1, 'refined': 1, 'references': 1, 'referee': 1, 'refactoring': 1, 'redundancy': 1, 'redo': 1, 'redemptions': 1, 'recruiting': 1, 'recruiters': 1, 'recruited': 1, 'recreate': 1, 'recovering': 1, 'recovered': 1, 'reconvening': 1, 'reconnecting': 1, 'reconciliations': 1, 'reconciled': 1, 'refinement': 1, 'refinements': 1, 'reflected': 1, 'reflections': 1, 'reinstalled': 1, 'reins': 1, 'reinforced': 1, 'reimporting': 1, 'reimagined': 1, 'reigns': 1, 'reid': 1, 'regrouping': 1, 'recon': 1, 'regress': 1, 'registered': 1, 'regine': 1, 'regarded': 1, 'regan': 1, 'refusing': 1, 'refugee': 1, 'refresher': 1, 'reflective': 1, 'regraph': 1, 'ralph': 1, 'recommended': 1, 'recognizes': 1, 'rcas': 1, 'rca': 1, 'rbcm': 1, 'razor': 1, 'rays': 1, 'raw': 1, 'ravikanth': 1, 'ravi': 1, 'raven': 1, 'rarely': 1, 'rapport': 1, 'rapidly': 1, 'rant': 1, 'ranked': 1, 'ranjith': 1, 'ramping': 1, 'ramped': 1, 'rda': 1, 'reacted': 1, 'reaction': 1, 'reactions': 1, 'recognising': 1, 'reclassification': 1, 'recipients': 1, 'recharge': 1, 'receptical': 1, 'receipt': 1, 'recalculating': 1, 'rebuilds': 1, 'recommend': 1, 'rebranded': 1, 'rebecca': 1, 'reassure': 1, 'reassurance': 1, 'rearranging': 1, 'realm': 1, 'realised': 1, 'realisation': 1, 'reagents': 1, 'rebounding': 1, 'reinsurance': 1, 'prohibiting': 1, 'programmatically': 1, 'pirics': 1, 'pipe': 1, 'piotr': 1, 'pioneer': 1, 'piloting': 1, 'pilot': 1, 'pieced': 1, 'pids': 1, 'pics': 1, 'picnic': 1, 'pickup': 1, 'phycological': 1, 'phny': 1, 'phishes': 1, 'philosophy': 1, 'philly': 1, 'phillip': 1, 'pitfalls': 1, 'pivots': 1, 'piyush': 1, 'pizza': 1, 'pluton': 1, 'plunge': 1, 'plumbing': 1, 'plugging': 1, 'plug': 1, 'pleasing': 1, 'pleases': 1, 'pleasant': 1, 'philip': 1, 'ple': 1, 'playbooks': 1, 'plateau': 1, 'plastics': 1, 'planting': 1, 'planted': 1, 'plain': 1, 'plagiarising': 1, 'placements': 1, 'plaza': 1, 'podcasts': 1, 'phil': 1, 'phenotypic': 1, 'pere': 1, 'percentage': 1, 'peppering': 1, 'peoria': 1, 'pension': 1, 'pending': 1, 'penalty': 1, 'pels': 1, 'pedestals': 1, 'ped': 1, 'peaks': 1, 'peak': 1, 'peaceful': 1, 'pdx': 1, 'pdps': 1, 'pcts': 1, 'pcis': 1, 'perfection': 1, 'performer': 1, 'perhaps': 1, 'periods': 1, 'phenom': 1, 'phd': 1, 'pharmacy': 1, 'pharmaceutical': 1, 'pgs': 1, 'pgp': 1, 'pfizerworks': 1, 'pfe': 1, 'phieng': 1, 'pf347': 1, 'pertinent': 1, 'persuasion': 1, 'personnel': 1, 'personable': 1, 'persistently': 1, 'persevere': 1, 'persefoni': 1, 'permission': 1, 'petrofac': 1, 'programmes': 1, 'pods': 1, 'poland': 1, 'print': 1, 'principles': 1, 'prime': 1, 'prevention': 1, 'preventative': 1, 'presumptive': 1, 'pressured': 1, 'pressing': 1, 'presents': 1, 'presenters': 1, 'presenter': 1, 'prescribed': 1, 'prepress': 1, 'prepping': 1, 'prepped': 1, 'preperations': 1, 'prepares': 1, 'printer': 1, 'prioritise': 1, 'prioritizes': 1, 'prisma': 1, 'profoundly': 1, 'profitable': 1, 'proficiently': 1, 'professionals': 1, 'productize': 1, 'produceâ': 1, 'producers': 1, 'procured': 1, 'preparedness': 1, 'procos': 1, 'problematic': 1, 'proactiveness': 1, 'prizes': 1, 'priya': 1, 'privileges': 1, 'privileged': 1, 'pritzker': 1, 'pristine': 1, 'proclamation': 1, 'poe': 1, 'premise': 1, 'preforming': 1, 'potluck': 1, 'pot': 1, 'poster': 1, 'possess': 1, 'positioned': 1, 'posed': 1, 'pos': 1, 'portals': 1, 'portal': 1, 'port': 1, 'populations': 1, 'popped': 1, 'pools': 1, 'pool': 1, 'politeness': 1, 'polishing': 1, 'polices': 1, 'pouncing': 1, 'pound': 1, 'powered': 1, 'powering': 1, 'preeminent': 1, 'predictions': 1, 'predictable': 1, 'precision': 1, 'preceptors': 1, 'praying': 1, 'praiseworthy': 1, 'praise': 1, 'premeeting': 1, 'practitioner': 1, 'practiced': 1, 'practically': 1, 'prabhanjana': 1, 'pr2923206': 1, 'pr2877159': 1, 'pr2818822': 1, 'pr': 1, 'ppl': 1, 'practicing': 1, 'slot': 1, 'reinventing': 1, 'rej': 1, 'sees': 1, 'seeds': 1, 'sector': 1, 'secrets': 1, 'secretly': 1, 'secondly': 1, 'seats': 1, 'seasoned': 1, 'searching': 1, 'searched': 1, 'seanez': 1, 'sdat': 1, 'scupper': 1, 'sct': 1, 'scrutiny': 1, 'scrutinized': 1, 'scrubbing': 1, 'segment': 1, 'segmented': 1, 'seit': 1, 'selfishly': 1, 'shafeeq': 1, 'sgi': 1, 'sf': 1, 'sexual': 1, 'seven': 1, 'settles': 1, 'seth': 1, 'sesh': 1, 'scrolling': 1, 'ses': 1, 'senthil': 1, 'sensor': 1, 'sensitively': 1, 'sensible': 1, 'sensation': 1, 'selpercatinib': 1, 'sell': 1, 'selflessly': 1, 'servantleader': 1, 'shah': 1, 'screening': 1, 'scratch': 1, 'saver': 1, 'satisfaciton': 1, 'saswata': 1, 'sas': 1, 'saraâ': 1, 'sanjay': 1, 'sanitized': 1, 'sanitising': 1, 'sane': 1, 'sandra': 1, 'sandeep': 1, 'san': 1, 'sampling': 1, 'sample': 1, 'saml': 1, 'sameday': 1, 'samaritan': 1, 'savior': 1, 'savvy': 1, 'saydrick': 1, 'says': 1, 'scotland': 1, 'scot': 1, 'scores': 1, 'scored': 1, 'scopes': 1, 'scones': 1, 'scissors': 1, 'scientists': 1, 'screen': 1, 'scientist': 1, 'scenario': 1, 'scavenger': 1, 'scary': 1, 'scaled': 1, 'sc': 1, 'sbs': 1, 'sba': 1, 'sb': 1, 'schweitzer': 1, 'salmonella': 1, 'shai': 1, 'shakespearean': 1, 'sis': 1, 'sirleaf': 1, 'singleton': 1, 'sing': 1, 'sincerest': 1, 'simultaneous': 1, 'simran': 1, 'simplifying': 1, 'simon': 1, 'simian': 1, 'silly': 1, 'silent': 1, 'sigrecon': 1, 'signage': 1, 'sighting': 1, 'sides': 1, 'sidekicks': 1, 'sisters': 1, 'sisyphean': 1, 'sitr': 1, 'sitter': 1, 'slipped': 1, 'sligo': 1, 'slid': 1, 'slated': 1, 'slate': 1, 'slas': 1, 'slagging': 1, 'skimps': 1, 'siddharth': 1, 'skilling': 1, 'skilled': 1, 'skilful': 1, 'sketches': 1, 'skeptical': 1, 'skeleton': 1, 'sj': 1, 'sizing': 1, 'sizes': 1, 'skillfully': 1, 'shakespeare': 1, 'sickness': 1, 'shutting': 1, 'shera': 1, 'shepherding': 1, 'sheltered': 1, 'shellie': 1, 'shelley': 1, 'shelby': 1, 'sheer': 1, 'shedding': 1, 'shave': 1, 'shashank': 1, 'sharp': 1, 'sharon': 1, 'sharepoint': 1, 'sharanya': 1, 'shapes': 1, 'shall': 1, 'shakey': 1, 'sherrie': 1, 'sherry': 1, 'shield': 1, 'shielded': 1, 'shruthi': 1, 'shrm': 1, 'showers': 1, 'shower': 1, 'shouting': 1, 'shoulders': 1, 'shoulder': 1, 'shotgun': 1, 'shying': 1, 'shortlisted': 1, 'shorter': 1, 'shore': 1, 'ships': 1, 'shipped': 1, 'shined': 1, 'shikhar': 1, 'shifted': 1, 'shielding': 1, 'shorthanded': 1, 'reiterate': 1, 'salesdemo': 1, 'saint': 1, 'respects': 1, 'respecting': 1, 'respectfully': 1, 'respected': 1, 'resourcing': 1, 'resourceful': 1, 'resounding': 1, 'resorts': 1, 'resonates': 1, 'resolver': 1, 'resolutions': 1, 'resistance': 1, 'resillience': 1, 'resignation': 1, 'reshapes': 1, 'reserve': 1, 'reservations': 1, 'respondence': 1, 'responds': 1, 'restarting': 1, 'restaurant': 1, 'revolutionising': 1, 'revisit': 1, 'reviewer': 1, 'reverted': 1, 'reversal': 1, 'reusability': 1, 'returns': 1, 'returning': 1, 'rescuing': 1, 'returned': 1, 'retiree': 1, 'retesting': 1, 'retail': 1, 'resubmitting': 1, 'restrictive': 1, 'restriction': 1, 'restoring': 1, 'resting': 1, 'retirement': 1, 'reward': 1, 'res': 1, 'requiring': 1, 'remarks': 1, 'remarking': 1, 'relying': 1, 'reluctant': 1, 'relocation': 1, 'relocating': 1, 'relocate': 1, 'relishing': 1, 'religion': 1, 'relies': 1, 'relaying': 1, 'relaxation': 1, 'relative': 1, 'relational': 1, 'relate': 1, 'rejoiced': 1, 'rejected': 1, 'remediations': 1, 'remedied': 1, 'remiss': 1, 'remodel': 1, 'reqs': 1, 'repurposed': 1, 'reps': 1, 'reproducible': 1, 'reproduce': 1, 'reprioritization': 1, 'representatives': 1, 'repos': 1, 'rerun': 1, 'replica': 1, 'repeating': 1, 'repeatable': 1, 'repay': 1, 'repaired': 1, 'reopen': 1, 'reoccurs': 1, 'reoccurance': 1, 'rendered': 1, 'replace': 1, 'salamat': 1, 'rh850': 1, 'rhona': 1, 'rumours': 1, 'rumbling': 1, 'rumble': 1, 'ruling': 1, 'rule': 1, 'rui': 1, 'rudyâ': 1, 'ruchi': 1, 'ruben': 1, 'rtpm': 1, 'rto': 1, 'rtl': 1, 'rtc': 1, 'rse': 1, 'rsace': 1, 'rs': 1, 'rr': 1, 'runway': 1, 'rural': 1, 'rush': 1, 'rushabh': 1, 'sainath': 1, 'sage300': 1, 'sage': 1, 'safeguard': 1, 'sadie': 1, 'sacrificing': 1, 'sacrifices': 1, 'sacrifice': 1, 'rpb': 1, 'sabrina': 1, 's3': 1, 's1': 1, 'ry': 1, 'rwd': 1, 'ruth': 1, 'russ': 1, 'rushing': 1, 'rushed': 1, 'saas': 1, 'rhapsody': 1, 'rowing': 1, 'routing': 1, 'robin': 1, 'roberta': 1, 'roaster': 1, 'roadblock': 1, 'rma': 1, 'rita': 1, 'risky': 1, 'risen': 1, 'ring': 1, 'rina': 1, 'rihanna': 1, 'rigor': 1, 'riff': 1, 'richer': 1, 'richa': 1, 'ricci': 1, 'ric': 1, 'robot': 1, 'robustness': 1, 'rocked': 1, 'rocket': 1, 'routinely': 1, 'roundedness': 1, 'roughly': 1, 'rouge': 1, 'rotate': 1, 'roster': 1, 'rosita': 1, 'roshni': 1, 'rovi': 1, 'rosette': 1, 'rory': 1, 'rope': 1, 'rooting': 1, 'roopali': 1, 'roof': 1, 'rollercoaster': 1, 'roller': 1, 'rohan': 1, 'rosanna': 1, 'ecr': 1, 'khatri': 1, 'zv': 1, 'booths': 1, 'councils': 1, 'affords': 1, 'counted': 1, 'counter': 1, 'counterparts': 1, 'afforded': 1, 'countryside': 1, 'affinity': 1, 'affects': 1, 'boots': 1, 'coupled': 1, 'aesthetics': 1, 'aesthetically': 1, 'aesthetic': 1, 'boost': 1, 'automations': 1, 'cpa': 1, 'cpc': 1, 'cpcs': 1, 'cpq': 1, 'advocates': 1, 'courageous': 1, 'africa': 1, 'booz': 1, 'afs': 1, 'cord': 1, 'corewell': 1, 'cork': 1, 'corkonian': 1, 'bounded': 1, 'cornerstones': 1, 'corporate': 1, 'bounces': 1, 'corporation': 1, 'bottlenecks': 1, 'bothersome': 1, 'correction': 1, 'corrections': 1, 'corrective': 1, 'agat': 1, 'correlated': 1, 'correlates': 1, 'correlations': 1, 'bot': 1, 'corroborated': 1, 'boss': 1, 'borrow': 1, 'afterhours': 1, 'advocated': 1, 'coraçao': 1, 'cpu': 1, 'crack': 1, 'crews': 1, 'advancement': 1, 'advanced': 1, 'body': 1, 'criminals': 1, 'avanade': 1, 'avd': 1, 'cristian': 1, 'adulting': 1, 'adrianaâ': 1, 'bofa': 1, 'adriana': 1, 'crljen': 1, 'crm': 1, 'cro': 1, 'croatia': 1, 'cron': 1, 'adopting': 1, 'cropping': 1, 'adopted': 1, 'crow': 1, 'crowd': 1, 'criticism': 1, 'crescendo': 1, 'credits': 1, 'advent': 1, 'automotive': 1, 'boo': 1, 'crafts': 1, 'bonk': 1, 'autumn': 1, 'craig': 1, 'cranes': 1, 'crashes': 1, 'bonds': 1, 'crates': 1, 'bonded': 1, 'bond': 1, 'advices': 1, 'boldly': 1, 'boise': 1, 'advertise': 1, 'creatively': 1, 'avail': 1, 'boiler': 1, 'creatives': 1, 'boil': 1, 'adversity': 1, 'adventure': 1, 'cr': 1, 'cops': 1, 'automatically': 1, 'bounds': 1, 'al': 1, 'akshata': 1, 'brd': 1, 'akram': 1, 'ajit': 1, 'ajay': 1, 'aisle': 1, 'bravery': 1, 'airport': 1, 'consolidating': 1, 'conservation': 1, 'consolidation': 1, 'airflow': 1, 'bravely': 1, 'aircraft': 1, 'constellation': 1, 'constituents': 1, 'constrained': 1, 'construction': 1, 'consult': 1, 'contacting': 1, 'contagious': 1, 'airplane': 1, 'breakage': 1, 'breakdown': 1, 'alarms': 1, 'aug': 1, 'configurability': 1, 'configured': 1, 'conflict': 1, 'conflicting': 1, 'conform': 1, 'breakouts': 1, 'aleksandre': 1, 'breakfast': 1, 'augusta': 1, 'congratulating': 1, 'congratulation': 1, 'conjunction': 1, 'aleksandr': 1, 'aup': 1, 'aleandro': 1, 'aurora': 1, 'breaker': 1, 'alcohol': 1, 'alcoa': 1, 'connie': 1, 'alba': 1, 'alas': 1, 'contain': 1, 'brasher': 1, 'aine': 1, 'branson': 1, 'converting': 1, 'convey': 1, 'conveying': 1, 'conveyor': 1, 'convictions': 1, 'convincing': 1, 'convos': 1, 'cook': 1, 'agitation': 1, 'cookathon': 1, 'cooking': 1, 'boxed': 1, 'coolers': 1, 'cooly': 1, 'agin': 1, 'cooperate': 1, 'cooperates': 1, 'automate': 1, 'bowls': 1, 'agi': 1, 'bow': 1, 'coordinator': 1, 'coordinators': 1, 'bpnz': 1, 'crude': 1, 'agp': 1, 'brady': 1, 'ain': 1, 'contemplate': 1, 'contend': 1, 'contenders': 1, 'author': 1, 'contined': 1, 'continously': 1, 'continual': 1, 'aids': 1, 'aides': 1, 'aib': 1, 'contracted': 1, 'auto': 1, 'aht': 1, 'ahmad': 1, 'ah': 1, 'contributes': 1, 'brainer': 1, 'controllers': 1, 'convenient': 1, 'convention': 1, 'converging': 1, 'brahim': 1, 'conversational': 1, 'alexa': 1, 'crunch': 1, 'aveir': 1, 'accumulate': 1, 'declined': 1, 'accruals': 1, 'accrual': 1, 'decorating': 1, 'decorations': 1, 'decrease': 1, 'decreases': 1, 'decryptor': 1, 'accounted': 1, 'accumulated': 1, 'dee': 1, 'deepak': 1, 'deepening': 1, 'deeper': 1, 'birthday': 1, 'defacto': 1, 'birst': 1, 'birgitta': 1, 'defeated': 1, 'defect': 1, 'awsras': 1, 'deeds': 1, 'decks': 1, 'accumulating': 1, 'decisiveness': 1, 'dealings': 1, 'blast': 1, 'deals': 1, 'aci': 1, 'deana': 1, 'dears': 1, 'death': 1, 'deb': 1, 'achive': 1, 'achieves': 1, 'achievers': 1, 'debaditya': 1, 'blame': 1, 'debate': 1, 'blake': 1, 'acheived': 1, 'debilitating': 1, 'decade': 1, 'decades': 1, 'decarbonize': 1, 'ace': 1, 'deciphering': 1, 'decisive': 1, 'accomplishing': 1, 'acknowledgement': 1, 'defines': 1, 'acclimated': 1, 'billed': 1, 'demonstrations': 1, 'absorb': 1, 'departmental': 1, 'biker': 1, 'absences': 1, 'az': 1, 'biases': 1, 'deposit': 1, 'deprecating': 1, 'absorbing': 1, 'derailed': 1, 'derrick': 1, 'azd2936': 1, 'describe': 1, 'desert': 1, 'deserves': 1, 'bhm': 1, 'designops': 1, 'bhcg': 1, 'b1': 1, 'bh': 1, 'dermatology': 1, 'aca': 1, 'academically': 1, 'accelerates': 1, 'definitions': 1, 'deftly': 1, 'defunct': 1, 'biomarin': 1, 'degraded': 1, 'accidently': 1, 'deib': 1, 'axl': 1, 'deleting': 1, 'deliberate': 1, 'delicious': 1, 'accessing': 1, 'deliverability': 1, 'deliverable': 1, 'billy': 1, 'accesses': 1, 'accessed': 1, 'delivers': 1, 'deloitte': 1, 'delta': 1, 'accent': 1, 'demeanour': 1, 'accelerating': 1, 'bioremediation': 1, 'acknowledgment': 1, 'aco': 1, 'blaze': 1, 'administered': 1, 'adme': 1, 'adm': 1, 'cumulated': 1, 'curiosity': 1, 'adjustment': 1, 'averse': 1, 'curtain': 1, 'bmc': 1, 'cusp': 1, 'culturally': 1, 'bm': 1, 'customized': 1, 'averting': 1, 'cuteness': 1, 'adjudication': 1, 'cutomer': 1, 'cx': 1, 'cxo': 1, 'adjacent': 1, 'cycles': 1, 'cyclotron': 1, 'customize': 1, 'cultural': 1, 'cultivating': 1, 'cultivated': 1, 'crush': 1, 'crushing': 1, 'bobbing': 1, 'crystal': 1, 'adobe': 1, 'admitting': 1, 'csc': 1, 'bob': 1, 'cses': 1, 'boats': 1, 'admittedly': 1, 'cst': 1, 'cswg': 1, 'ct': 1, 'admiring': 1, 'admired': 1, 'cuff': 1, 'cuisine': 1, 'boards': 1, 'cull': 1, 'culminating': 1, 'cultivate': 1, 'boardroom': 1, 'd2': 1, 'adherent': 1, 'd30440953227883': 1, 'd4': 1, 'blips': 1, 'acumen': 1, 'blip': 1, 'acts': 1, 'dating': 1, 'blink': 1, 'actor': 1, 'daveka': 1, 'blessings': 1, 'davide': 1, 'activate': 1, 'bless': 1, 'dazzles': 1, 'dba': 1, 'blcokchain': 1, 'actioned': 1, 'dcmf': 1, 'awake': 1, 'dd': 1, 'dd098': 1, 'ddpcr': 1, 'acquisition': 1, 'dead': 1, 'dataset': 1, 'crunching': 1, 'dataload': 1, 'adapters': 1, 'd5le': 1, 'da': 1, 'adhere': 1, 'blossom': 1, 'damaged': 1, 'damaging': 1, 'blooming': 1, 'dancer': 1, 'adfs': 1, 'bloody': 1, 'dancing': 1, 'aviso': 1, 'dangerous': 1, 'dangers': 1, 'avod': 1, 'dankie': 1, 'addicted': 1, 'dante': 1, 'adcetris': 1, 'darkest': 1, 'darn': 1, 'dasha': 1, 'blocker': 1, 'datalake': 1, 'confidant': 1, 'alfie': 1, 'ali': 1, 'champing': 1, 'apologize': 1, 'chanel': 1, 'apollo': 1, 'changemakers': 1, 'apoc': 1, 'aplomb': 1, 'button': 1, 'associate': 1, 'character': 1, 'buyer': 1, 'characterization': 1, 'apic': 1, 'characterized': 1, 'chargers': 1, 'charlette': 1, 'butter': 1, 'charlie': 1, 'charming': 1, 'chart': 1, 'chartering': 1, 'apex': 1, 'apis': 1, 'champ': 1, 'buyers': 1, 'app2': 1, 'cabinet': 1, 'appleton': 1, 'apple': 1, 'centralization': 1, 'centre': 1, 'centreon': 1, 'ceos': 1, 'applause': 1, 'certificate': 1, 'certifications': 1, 'certify': 1, 'c420': 1, 'cf': 1, 'cft': 1, 'assigning': 1, 'cha': 1, 'chad': 1, 'c3991004': 1, 'chaired': 1, 'appealed': 1, 'apparently': 1, 'c2_fp': 1, 'byte': 1, 'charts': 1, 'appointment': 1, 'apdex': 1, 'chaslau': 1, 'anxieties': 1, 'cheryl': 1, 'chesterton': 1, 'chetanya': 1, 'chew': 1, 'chicago': 1, 'chicken': 1, 'astonishing': 1, 'anurag': 1, 'chieng': 1, 'cherry': 1, 'anup': 1, 'chiller': 1, 'antonio': 1, 'chilling': 1, 'chimed': 1, 'astounding': 1, 'chinmay': 1, 'chipped': 1, 'chipper': 1, 'astrid': 1, 'antonella': 1, 'antony': 1, 'burnout': 1, 'anxious': 1, 'cherished': 1, 'assortment': 1, 'apa': 1, 'chatted': 1, 'busyness': 1, 'chatting': 1, 'chb': 1, 'checkbox': 1, 'busily': 1, 'checkers': 1, 'aoife': 1, 'checkpoint': 1, 'cheena': 1, 'anyway': 1, 'cheered': 1, 'cheering': 1, 'busier': 1, 'cheerleader': 1, 'burnt': 1, 'chemical': 1, 'chengdu': 1, 'anymore': 1, 'burns': 1, 'chep': 1, 'apc': 1, 'cenca': 1, 'cabinetry': 1, 'appraise': 1, 'artist': 1, 'caren': 1, 'calmed': 1, 'caretakers': 1, 'carey': 1, 'artifacts': 1, 'articles': 1, 'callum': 1, 'carlos': 1, 'carlosâ': 1, 'careers': 1, 'arrangement': 1, 'aspiration': 1, 'carlson': 1, 'carmen': 1, 'carol': 1, 'arjun': 1, 'carolina': 1, 'caroline': 1, 'carrie': 1, 'aristotle': 1, 'arise': 1, 'carlow': 1, 'artists': 1, 'arts': 1, 'camarada': 1, 'canadian': 1, 'ashutosh': 1, 'canada': 1, 'camry': 1, 'aseptic': 1, 'ase': 1, 'caoimhe': 1, 'asc': 1, 'cap': 1, 'capablity': 1, 'capacities': 1, 'cape': 1, 'arun': 1, 'capital': 1, 'camle': 1, 'artsem': 1, 'capitalize': 1, 'capitol': 1, 'captured': 1, 'cara': 1, 'carboys': 1, 'cardboard': 1, 'cambar': 1, 'carril': 1, 'argentina': 1, 'cars': 1, 'cart': 1, 'cb008278': 1, 'caitriona': 1, 'approvals': 1, 'cb009919': 1, 'ccfs': 1, 'assemblers': 1, 'cchs': 1, 'cairns': 1, 'caique': 1, 'ccps': 1, 'assemblies': 1, 'approachability': 1, 'cdid': 1, 'cdkl5': 1, 'caep': 1, 'cecile': 1, 'appreciations': 1, 'appreciating': 1, 'assessed': 1, 'celebrates': 1, 'appreciable': 1, 'cables': 1, 'cabinets': 1, 'causing': 1, 'chitri': 1, 'cats': 1, 'calcs': 1, 'calla': 1, 'aspire': 1, 'cascading': 1, 'assassination': 1, 'cass': 1, 'caliber': 1, 'calgary': 1, 'cast': 1, 'ardey': 1, 'casting': 1, 'castrol': 1, 'calendars': 1, 'archivelogs': 1, 'catalogue': 1, 'catalyst': 1, 'caleb': 1, 'arann': 1, 'aramark': 1, 'catchups': 1, 'catering': 1, 'cath': 1, 'apv': 1, 'aprons': 1, 'apps': 1, 'anton': 1, 'chocolates': 1, 'astronomy': 1, 'commerce': 1, 'commercials': 1, 'brightest': 1, 'committing': 1, 'brighten': 1, 'amgen': 1, 'communicates': 1, 'ames': 1, 'amends': 1, 'amendments': 1, 'comment': 1, 'amendment': 1, 'ambitious': 1, 'brigham': 1, 'attributed': 1, 'comp': 1, 'brien': 1, 'comparing': 1, 'briefs': 1, 'competency': 1, 'amazes': 1, 'competitions': 1, 'amea': 1, 'ample': 1, 'amplified': 1, 'commence': 1, 'collating': 1, 'analyst': 1, 'collect': 1, 'attendee': 1, 'analysing': 1, 'collector': 1, 'collegue': 1, 'analogy': 1, 'attitudes': 1, 'colorful': 1, 'analogies': 1, 'colors': 1, 'column': 1, 'combination': 1, 'comedian': 1, 'brilliantly': 1, 'amr': 1, 'amplifying': 1, 'comedy': 1, 'comers': 1, 'comfortably': 1, 'brightly': 1, 'commanding': 1, 'competitors': 1, 'compiled': 1, 'compiling': 1, 'amazement': 1, 'compressor': 1, 'comprised': 1, 'allen': 1, 'breztri': 1, 'compromising': 1, 'brevin': 1, 'allan': 1, 'alive': 1, 'conceptual': 1, 'alison': 1, 'alina': 1, 'concerning': 1, 'concierge': 1, 'audiences': 1, 'concrete': 1, 'audited': 1, 'concurrent': 1, 'condensed': 1, 'alight': 1, 'alien': 1, 'aliaksei': 1, 'brennan': 1, 'audrey': 1, 'alleviate': 1, 'bringup': 1, 'componentise': 1, 'comply': 1, 'complaints': 1, 'complemented': 1, 'briefed': 1, 'complementing': 1, 'brief': 1, 'alysha': 1, 'alxn2021': 1, 'alter': 1, 'alpacas': 1, 'completions': 1, 'brie': 1, 'allyson': 1, 'bridgewater': 1, 'allotted': 1, 'bridges': 1, 'allocation': 1, 'alllllllll': 1, 'attributions': 1, 'brianna': 1, 'allianz': 1, 'complimented': 1, 'brgs': 1, 'compliments': 1, 'alley': 1, 'bgl': 1, 'brining': 1, 'anaplan': 1, 'citizen': 1, 'citizens': 1, 'athletes': 1, 'atlassian': 1, 'cj': 1, 'anonymizer': 1, 'claim': 1, 'claimant': 1, 'atlo': 1, 'atr': 1, 'anshul': 1, 'clare': 1, 'buddies': 1, 'anomalies': 1, 'clarified': 1, 'anny': 1, 'clarifying': 1, 'budapest': 1, 'clashes': 1, 'annulus': 1, 'classes': 1, 'annuals': 1, 'clarifications': 1, 'circus': 1, 'circumstance': 1, 'athens': 1, 'choice': 1, 'astutely': 1, 'bunch': 1, 'chomping': 1, 'choose': 1, 'antoinette': 1, 'christa': 1, 'bump': 1, 'antigens': 1, 'atds': 1, 'bummed': 1, 'bullinger': 1, 'chunk': 1, 'churn': 1, 'cian': 1, 'ciciâ': 1, 'cii': 1, 'bullet': 1, 'buisness': 1, 'ciona': 1, 'builtinboston': 1, 'circularity': 1, 'circulating': 1, 'annually': 1, 'annoying': 1, 'buchanan': 1, 'bu': 1, 'angie': 1, 'clíona': 1, 'cmems': 1, 'angelou': 1, 'cmir': 1, 'angelie': 1, 'co2': 1, 'coachdonnalouise_google': 1, 'coached': 1, 'coaster': 1, 'coat': 1, 'andrews': 1, 'coba': 1, 'codebase': 1, 'broadening': 1, 'broadcasting': 1, 'broadband': 1, 'brittany': 1, 'andie': 1, 'cog': 1, 'coined': 1, 'british': 1, 'brink': 1, 'cls': 1, 'analyze': 1, 'cloudwatch': 1, 'clothes': 1, 'cleanliness': 1, 'annoy': 1, 'bt': 1, 'annie': 1, 'brv': 1, 'cleur23': 1, 'cleverness': 1, 'click': 1, 'brutal': 1, 'clicked': 1, 'clicking': 1, 'cliff': 1, 'climb': 1, 'climbing': 1, 'browsing': 1, 'browsers': 1, 'clops': 1, 'anisha': 1, 'animations': 1, 'closes': 1, 'anh': 1, 'angles': 1, 'brookdale': 1, 'angle': 1, 'destiny': 1, 'counterpart': 1, 'diplomacy': 1, 'diagnose': 1, '9am': 1, 'backups': 1, 'bcv': 1, 'bass': 1, '3am': 1, 'backing': 1, 'duplications': 1, 'bethinha': 1, '9i': 1, 'dhanashri': 1, '1273': 1, 'dns': 1, '125': 1, '1200': 1, 'dreams': 1, 'dutch': 1, '62': 1, 'baselines': 1, 'diagnosed': 1, '99': 1, 'diane': 1, 'docs': 1, 'dreamwork': 1, 'discovering': 1, 'balls': 1, 'bds': 1, 'diamond': 1, 'dumb': 1, 'benefited': 1, 'barceloneta': 1, '900': 1, 'bdrsuccess': 1, '12ps': 1, 'barbz': 1, 'doc': 1, 'bamboozled': 1, 'band': 1, 'doan': 1, 'duty': 1, 'disarming': 1, '400': 1, 'drawings': 1, 'digisquad': 1, '84': 1, 'dmt': 1, 'baraliakos': 1, 'becky': 1, 'dympa': 1, '9pm': 1, 'devising': 1, 'devise': 1, '60mins': 1, 'disadvantaged': 1, 'draw': 1, 'devilish': 1, 'dynamics': 1, 'dynamite': 1, 'dramatic': 1, '2018': 1, 'disclose': 1, 'devoted': 1, '2500': 1, 'dreaming': 1, 'discretionary': 1, 'dv20': 1, 'bc': 1, 'dg': 1, 'benefitted': 1, 'discriminators': 1, 'dmz': 1, 'disbursement': 1, 'dfct': 1, 'dye': 1, 'donw': 1, 'bets': 1, '60minutes': 1, 'donã': 1, 'devs': 1, '8am': 1, '11th': 1, 'dez': 1, '355ml': 1, 'dianne': 1, 'bali': 1, '945': 1, 'barry': 1, 'differentiator': 1, '1x1': 1, 'basketball': 1, 'dsl': 1, '91': 1, '1873': 1, 'discharge': 1, 'differ': 1, 'dsld': 1, 'balloons': 1, '29th': 1, '200': 1, '7006208407187681280': 1, '66': 1, 'dspf': 1, '2x': 1, 'discomfort': 1, '911': 1, 'drumbeat': 1, 'bed': 1, 'differentiation': 1, 'dropdown': 1, 'dogs': 1, 'basics': 1, '6sense': 1, 'beaming': 1, '1s': 1, 'diff': 1, '1m': 1, 'doggedness': 1, '919tk': 1, 'differentiating': 1, 'drozdowski': 1, 'doggedly': 1, 'differentiated': 1, 'drum': 1, '2m': 1, '19th': 1, 'devil': 1, 'diego': 1, 'dt': 1, 'basecamp': 1, '1345': 1, 'dibs': 1, 'digest': 1, '33': 1, '2012': 1, 'drilled': 1, 'diary': 1, 'dug': 1, 'bethany': 1, 'bears': 1, 'diarmuid': 1, 'dried': 1, '130': 1, 'barking': 1, 'digesting': 1, '3500': 1, 'duet': 1, 'behave': 1, 'ducks': 1, '2000': 1, '9466381862': 1, '17': 1, 'domains': 1, '160': 1, 'disconnect': 1, '6290e8ba88763e9f7c937f56': 1, 'difficulty': 1, 'discontinued': 1, '30th': 1, 'drink': 1, 'discards': 1, 'drilling': 1, '947': 1, 'didi': 1, 'drillers': 1, 'docusign': 1, 'discovered': 1, 'dubrovnik': 1, 'dt1': 1, 'a1': 1, 'beata': 1, 'disability': 1, 'easygoingness': 1, '7th': 1, 'districts': 1, 'directing': 1, 'district': 1, '05': 1, '02': 1, '74k': 1, 'battled': 1, '01405806': 1, 'detergent': 1, 'distributions': 1, 'doubled': 1, 'distributed': 1, 'displaying': 1, '24r1': 1, 'diminishing': 1, 'dispatches': 1, 'dima': 1, 'eastern': 1, 'dpac': 1, '471': 1, '4m': 1, 'earning': 1, 'behold': 1, '4qpf': 1, 'eased': 1, 'disturbing': 1, '4th': 1, '093': 1, 'easiest': 1, 'directional': 1, 'baptism': 1, 'dishwashers': 1, 'disparities': 1, '08': 1, 'downtimes': 1, 'deter': 1, 'dire': 1, 'downright': 1, '20k': 1, 'dio': 1, 'bake': 1, 'detailing': 1, 'disposed': 1, 'echelon': 1, 'dove': 1, 'echelons': 1, '750': 1, 'ecm': 1, 'beautifully': 1, 'dip': 1, 'eco': 1, 'dissatisfaction': 1, '757': 1, 'diplomats': 1, 'diplomatically': 1, 'banner': 1, 'ecerts': 1, 'diversityequityinclusion': 1, 'disposal': 1, 'baker': 1, 'detective': 1, '24hrs': 1, 'eb': 1, 'doubles': 1, 'banter': 1, '56': 1, '21': 1, 'abbvie': 1, 'basic': 1, 'detecting': 1, 'detect': 1, '2170': 1, '224': 1, 'download': 1, 'ebrg': 1, 'batteries': 1, 'doubts': 1, '7e': 1, 'dpd': 1, 'dispatched': 1, 'divisive': 1, '1010': 1, 'bereavement': 1, 'bff': 1, 'beatings': 1, 'devangi': 1, 'bagave': 1, '10x': 1, 'digitized': 1, 'aav': 1, 'developer': 1, 'bernadette': 1, '10years': 1, 'disabilities': 1, 'behaviours': 1, 'dividends': 1, 'beating': 1, 'aa': 1, 'bbx': 1, 'becca': 1, 'e2xfcc2': 1, '600k': 1, 'bespoke': 1, 'drafted': 1, 'dl': 1, 'drag': 1, 'a14': 1, 'dzmitry': 1, 'dynamodb': 1, 'betterment': 1, 'dms': 1, 'draft': 1, 'dotting': 1, 'disciplines': 1, 'dpia': 1, 'earnestly': 1, 'dignity': 1, '73062': 1, 'divestiture': 1, 'besides': 1, 'baie': 1, 'dishes': 1, 'dish': 1, '24x7': 1, '43': 1, 'subh': 2, 'suggestion': 2, 'serrano': 2, 'broke': 2, 'america': 2, 'procedure': 2, 'exchange': 2, 'sufficient': 2, 'colleen': 2, '25': 2, 'profiles': 2, 'medicine': 2, 'makers': 2, 'serological': 2, 'exception': 2, 'march': 2, 'matrix': 2, 'marc': 2, 'bright': 2, 'submission': 2, 'coleen': 2, 'collaborator': 2, 'mat': 2, 'window': 2, 'comforting': 2, 'proactivity': 2, 'expectation': 2, 'strongly': 2, 'melvin': 2, 'communities': 2, 'struck': 2, 'servant': 2, 'exceptions': 2, 'doug': 2, 'sentinel': 2, 'witness': 2, 'brilliance': 2, 'stumbled': 2, 'ang': 2, 'matches': 2, 'ewa': 2, 'broken': 2, 'suggest': 2, 'expand': 2, 'supplied': 2, 'sunil': 2, 'marathon': 2, 'seriousness': 2, 'rollout': 2, 'commissioning': 2, 'combined': 2, 'mccormack': 2, 'commentary': 2, 'exceeded': 2, 'maximum': 2, 'ronan': 2, 'analyzing': 2, 'mapping': 2, 'wire': 2, 'manu': 2, 'mds': 2, 'bases': 2, 'sergey': 2, 'match': 2, 'coe': 2, 'wipe': 2, 'wins': 2, 'marissa': 2, 'selection': 2, 'coffee': 2, 'markets': 2, 'sulfur': 2, 'successes': 2, 'meals': 2, 'suffia': 2, 'sept': 2, 'common': 2, 'commodities': 2, 'brighter': 2, 'aml': 2, 'managerial': 2, 'excitement': 2, 'manages': 2, 'martina': 2, 'commit': 2, 'coded': 2, 'codes': 2, 'became': 2, 'produced': 2, 'mcare': 2, 'students': 2, 'excellently': 2, 'analytic': 2, 'witnessed': 2, 'manifest': 2, 'commissions': 2, 'maximize': 2, 'attentiveness': 2, 'marcy': 2, 'viral': 2, 'ambassador': 2, 'laughter': 2, 'template': 2, 'famous': 2, 'fang': 2, 'lastly': 2, 'lasting': 2, 'tenure': 2, 'lashawn': 2, 'lasers': 2, 'purchase': 2, 'scribe': 2, 'languages': 2, 'lanes': 2, 'landon': 2, 'fashion': 2, 'pursuing': 2, 'pursuit': 2, 'terminated': 2, 'western': 2, 'kunal': 2, 'consultative': 2, 'scripting': 2, 'consideration': 2, 'laundry': 2, 'diving': 2, 'whatever': 2, 'aleh': 2, 'rotation': 2, 'leena': 2, 'lecture': 2, 'aldt': 2, 'learnt': 2, 'learner': 2, 'albumin': 2, 'albert': 2, 'kristen': 2, 'leanne': 2, 'leaks': 2, 'teammate': 2, 'ptp': 2, 'albeit': 2, 'technician': 2, 'divya': 2, 'falling': 2, 'consent': 2, 'law': 2, 'scroll': 2, 'resilia': 2, 'legendary': 2, 'krishna': 2, 'terraform': 2, 'qm': 2, 'keith': 2, 'february': 2, 'believer': 2, 'federica': 2, 'brainpower': 2, 'agreements': 2, 'kaushal': 2, 'qualified': 2, 'thirsty': 2, 'thomasina': 2, 'katerina': 2, 'karen': 2, 'kamal': 2, 'kafka': 2, 'autobau': 2, 'justice': 2, 'wells': 2, 'juneteenth': 2, 'routes': 2, 'thoughtfulness': 2, '50k': 2, 'theft': 2, 'ql': 2, 'keys': 2, 'scotch': 2, 'brave': 2, '5000': 2, 'korea': 2, 'kols': 2, 'favorite': 2, 'distribution': 2, 'terry': 2, 'knocked': 2, 'distractions': 2, 'consummate': 2, 'distracted': 2, 'contest': 2, 'tete': 2, 'reseller': 2, 'authoring': 2, 'fears': 2, 'qas': 2, 'thanked': 2, 'authorities': 2, 'qc': 2, 'thanksgiving': 2, 'contentful': 2, 'aleks': 2, 'tasked': 2, 'failover': 2, 'alsco': 2, 'widespread': 2, 'promise': 2, 'swamped': 2, 'promising': 2, 'seek': 2, 'alma': 2, 'promoter': 2, 'longstanding': 2, 'promotional': 2, 'london': 2, '31': 2, 'complications': 2, 'exploring': 2, 'resonated': 2, 'proposals': 2, 'expressing': 2, 'located': 2, 'whom': 2, 'attendance': 2, 'extensible': 2, 'completes': 2, 'louie': 2, 'susan': 2, 'began': 2, 'companies': 2, 'surfaced': 2, 'ropes': 2, 'compassionate': 2, 'amazon': 2, 'amazingly': 2, 'compensation': 2, 'surprised': 2, 'expense': 2, 'competing': 2, 'compressors': 2, 'wild': 2, 'lunches': 2, '30am': 2, 'luke': 2, 'lukasz': 2, 'rosa': 2, 'surroundings': 2, 'experimental': 2, '30k': 2, 'rosalind': 2, 'lsm': 2, 'briefing': 2, '350': 2, 'externally': 2, 'whl': 2, 'sea': 2, 'lifecycle': 2, 'tanks': 2, 'lie': 2, 'breeze': 2, 'tanya': 2, 'breathe': 2, 'sa360': 2, 'levers': 2, '401': 2, 'tangible': 2, 'leveraged': 2, 'breath': 2, 'prudential': 2, 'whatsapp': 2, 'confusion': 2, 'tardy': 2, 'breaks': 2, 'resilient': 2, 'breakout': 2, 'failed': 2, 'failing': 2, 'tapped': 2, 'programmatic': 2, 'tam': 2, 'dna': 2, 'liz': 2, 'bret': 2, '360': 2, 'alike': 2, 'prospective': 2, 'white': 2, 'listed': 2, 'tail': 2, 'liquidity': 2, 'audio': 2, 'lija': 2, 'concluding': 2, 'brené': 2, 'lined': 2, 'lindsey': 2, 'conduct': 2, 'takeda': 2, 'search': 2, 'lilly': 2, 'likes': 2, '40': 2, 'provider': 2, 'seat': 2, 'rosely': 2, 'mistake': 2, 'cmo': 2, 'youth': 2, 'ordination': 2, 'riding': 2, 'solo': 2, 'embodiment': 2, 'cctv': 2, 'oran': 2, 'embodying': 2, 'cdd': 2, 'cafe': 2, 'organise': 2, 'yousra': 2, 'places': 2, 'optimism': 2, 'shot': 2, 'somewhere': 2, 'son': 2, 'planet': 2, 'opex': 2, 'rid': 2, 'planner': 2, 'soo': 2, 'embraced': 2, 'operates': 2, 'appropriately': 2, 'organizational': 2, 'outlook': 2, 'categories': 2, 'cathy': 2, 'elsewhere': 2, 'apt': 2, 'outbox': 2, 'outbound': 2, 'calculations': 2, 'ea': 2, 'otherwise': 2, 'pivoted': 2, 'society': 2, 'cake': 2, 'sod': 2, 'soil': 2, 'orion': 2, 'cautious': 2, 'pitching': 2, 'origin': 2, 'approve': 2, 'organizers': 2, 'embarked': 2, 'assay': 2, 'celebrated': 2, 'sort': 2, '120': 2, 'enablement': 2, 'chairing': 2, 'bdr': 2, 'chairs': 2, 'shifts': 2, 'speakers': 2, 'shifting': 2, 'assignment': 2, 'challenged': 2, 'specialty': 2, 'ognyan': 2, 'specs': 2, 'champagne': 2, 'buy': 2, 'encourages': 2, '13': 2, 'pms': 2, 'speedy': 2, 'spending': 2, 'podcast': 2, 'reworking': 2, 'sheri': 2, 'assignments': 2, 'bd': 2, 'yi': 2, 'dumpster': 2, 'plants': 2, 'ooo': 2, 'souls': 2, 'dx': 2, 'oneteamonedream': 2, 'shipments': 2, 'duyn': 2, 'onedrive': 2, 'oneadp': 2, 'centers': 2, 'south': 2, 'shipment': 2, 'applicable': 2, 'richard': 2, 'empathic': 2, 'omar': 2, 'olga': 2, 'plays': 2, 'span': 2, 'spare': 2, 'duo': 2, 'sparked': 2, 'empowering': 2, 'eager': 2, 'snapshot': 2, 'ellen': 2, 'pinch': 2, 'asim': 2, 'pearse': 2, 'cappuccinos': 2, 'peaking': 2, 'phases': 2, 'river': 2, 'pdr': 2, 'siemens': 2, 'pcc': 2, 'battery': 2, 'rlus': 2, 'edward': 2, 'ees': 2, 'cam': 2, 'size': 2, 'paving': 2, 'caregiver': 2, 'caregivers': 2, 'cares': 2, 'pattern': 2, 'eat': 2, 'rishab': 2, 'payslip': 2, 'edits': 2, 'penalties': 2, 'edited': 2, 'asian': 2, 'economic': 2, 'asia': 2, 'candidate': 2, 'personalized': 2, 'personality': 2, 'persona': 2, 'pfd': 2, 'candidly': 2, 'persevered': 2, 'ecs': 2, 'permanent': 2, 'caoilte': 2, 'asco': 2, 'performances': 2, 'pfs': 2, 'rms': 2, 'sinead': 2, 'capabilities': 2, 'singing': 2, 'ph': 2, 'eddie': 2, 'sir': 2, 'articulate': 2, 'assists': 2, 'article': 2, 'password': 2, 'showcasing': 2, 'arduous': 2, 'paced': 2, 'showcases': 2, 'cashflow': 2, '1000': 2, 'pillar': 2, '100k': 2, 'owned': 2, 'owe': 2, 'sme': 2, 'overwhelming': 2, 'earn': 2, 'yuliya': 2, 'bbr': 2, 'overlooked': 2, 'casual': 2, 'cat': 2, 'eliminated': 2, 'pimwadee': 2, 'pin': 2, 'snacks': 2, 'overwhelmed': 2, 'electrical': 2, 'zeus': 2, 'arena': 2, 'passionate': 2, 'sku': 2, 'skype': 2, 'partnerships': 2, 'arrange': 2, 'arose': 2, 'physically': 2, 'ripple': 2, 'army': 2, 'participant': 2, 'east': 2, 'parks': 2, 'parity': 2, 'paris': 2, 'eiic': 2, 'parallel': 2, 'paradigm': 2, 'carrier': 2, 'baxter': 2, 'slt': 2, 'elaina': 2, 'sm': 2, 'aspirations': 2, 'zip': 2, 'angela': 2, 'obo': 2, 'ending': 2, 'steer': 2, 'praises': 2, 'retrospective': 2, 'modeling': 2, 'modals': 2, '2019': 2, 'mobility': 2, 'budgets': 2, 'clarification': 2, 'dragged': 2, 'momentsateaton': 2, 'preferred': 2, 'workgroup': 2, 'clarify': 2, 'science': 2, 'workforce': 2, 'stl': 2, 'bucket': 2, 'premium': 2, 'miro': 2, 'shadow': 2, 'stopped': 2, 'mitigated': 2, 'sh': 2, 'steel': 2, 'erika': 2, 'ciana': 2, 'equitable': 2, 'motivate': 2, 'workspaces': 2, 'cindi': 2, 'mother': 2, 'erase': 2, 'cio': 2, 'anthony': 2, 'station': 2, 'shaky': 2, 'cip': 2, 'circle': 2, 'circles': 2, 'statistical': 2, 'moodtracker': 2, 'monty': 2, 'stays': 2, 'builds': 2, 'steadfast': 2, 'steady': 2, 'dream': 2, 'athena': 2, 'attachment': 2, 'sfm': 2, 'retired': 2, 'animals': 2, 'brown': 2, 'methods': 2, 'metaphor': 2, 'messaged': 2, 'strides': 2, 'mesh': 2, 'strike': 2, 'merges': 2, 'club': 2, 'prestigious': 2, 'cluster': 2, 'price': 2, 'mercer': 2, 'serves': 2, 'douglas': 2, 'evolve': 2, 'served': 2, 'brokers': 2, 'cmm': 2, 'striving': 2, 'memory': 2, 'merchant': 2, 'wonderfully': 2, 'wood': 2, 'setbacks': 2, 'cleaner': 2, 'beaumont': 2, 'mine': 2, 'ethics': 2, 'btw': 2, 'mindful': 2, 'mindedness': 2, 'dozens': 2, 'mill': 2, 'straightened': 2, 'stranger': 2, 'europe': 2, 'stray': 2, 'european': 2, 'midst': 2, 'midnight': 2, 'downtime': 2, 'bruna': 2, 'downstream': 2, 'downs': 2, 'climate': 2, 'streets': 2, 'press': 2, 'motivating': 2, 'ci': 2, 'mouse': 2, 'startup': 2, 'polished': 2, '16th': 2, 'noreen': 2, 'nordic': 2, 'chatter': 2, 'nomination': 2, 'assume': 2, 'pooja': 2, 'www': 2, 'noah': 2, 'chats': 2, 'aotw': 2, 'poor': 2, 'nina': 2, 'anz': 2, 'nicole': 2, 'cheer': 2, 'nicer': 2, 'population': 2, 'nic': 2, 'wrongs': 2, 'bury': 2, 'nlp': 2, 'apac': 2, 'engineer': 2, 'sponsorship': 2, 'object': 2, 'endless': 2, 'point32health': 2, 'chaos': 2, 'pointed': 2, 'ends': 2, 'nurse': 2, 'shepherd': 2, 'nudges': 2, 'chargebacks': 2, 'charger': 2, 'nr': 2, 'nps': 2, '14': 2, 'spirits': 2, 'rewarding': 2, 'nov': 2, 'dual': 2, '16': 2, 'poles': 2, 'ya': 2, 'engagements': 2, 'xss': 2, 'enjoying': 2, 'obliging': 2, 'ngfw': 2, 'enrollment': 2, 'naomi': 2, 'nancy': 2, 'namt': 2, 'named': 2, 'rog': 2, 'nailed': 2, 'chivis': 2, 'revamping': 2, 'nadine': 2, 'na': 2, 'env': 2, 'mysterious': 2, 'mutual': 2, 'chorus': 2, 'bumps': 2, 'multifaceted': 2, 'epic': 2, 'christie': 2, 'powerhouse': 2, 'chuck': 2, 'moves': 2, 'movement': 2, 'mutually': 2, 'nasty': 2, 'entries': 2, 'native': 2, 'posing': 2, 'networks': 2, 'positions': 2, 'nervous': 2, 'dropship': 2, 'negotiating': 2, 'negotiated': 2, 'rocking': 2, 'negatively': 2, 'anushri': 2, 'chief': 2, 'burden': 2, 'woven': 2, 'neat': 2, 'stacey': 2, 'reviewers': 2, 'child': 2, 'children': 2, 'navy': 2, 'navigation': 2, 'naveen': 2, 'worthy': 2, 'staggering': 2, 'squeeze': 2, 'agreeable': 2, 'configuring': 2, 'pet': 2, 'integrating': 2, 'unity': 2, 'integral': 2, 'intact': 2, 'wayne': 2, 'fla': 2, 'advised': 2, 'replies': 2, 'freely': 2, 'united': 2, 'uniquely': 2, 'flags': 2, 'union': 2, 'replication': 2, 'rating': 2, 'flawless': 2, 'acted': 2, 'hectic': 2, 'interact': 2, 'intention': 2, 'unlocking': 2, 'intensity': 2, 'vp': 2, 'runs': 2, 'ddq': 2, 'fiu': 2, 'heartfelt': 2, 'dealer': 2, 'crash': 2, 'sameer': 2, 'sami': 2, 'heavy': 2, 'unlike': 2, 'unparalleled': 2, 'dc': 2, 'herculean': 2, 'rc': 2, 'recover': 2, 'crg': 2, 'ins': 2, 'inquiries': 2, 'understands': 2, 'hexagon': 2, 'boeing': 2, 'highlights': 2, 'uncovering': 2, 'hiking': 2, 'daughter': 2, 'hills': 2, 'unconscious': 2, 'fll': 2, 'trackable': 2, 'advancements': 2, 'recreating': 2, 'installation': 2, 'tracker': 2, 'inspires': 2, 'heres': 2, 'replicated': 2, 'blend': 2, 'advancing': 2, 'fred': 2, 'inspirational': 2, 'boi': 2, 'remedy': 2, 'unease': 2, 'herself': 2, 'credo': 2, 'unexpectedly': 2, 'franchise': 2, 'volunteer': 2, 'interco': 2, 'boot': 2, 'investigated': 2, 'ham': 2, 'decompress': 2, 'handed': 2, 'boosting': 2, 'scalability': 2, 'rajiv': 2, 'upload': 2, 'uplift': 2, 'intuitive': 2, 'diagnostics': 2, 'sale': 2, 'introduction': 2, 'declan': 2, 'harbors': 2, 'bite': 2, 'awir': 2, 'reflects': 2, 'gws': 2, 'deduction': 2, 'upwards': 2, 'h2': 2, 'invoices': 2, 'backgrounds': 2, 'ha': 2, 'invite': 2, 'toil': 2, 'investing': 2, 'dedicate': 2, 'fund': 2, 'upskilling': 2, 'dha': 2, 'volha': 2, 'refining': 2, 'aes': 2, 'blah': 2, 'debating': 2, 'fish': 2, 'havas': 2, 'haven': 2, 'discover': 2, 'internets': 2, 'fruitful': 2, 'fits': 2, 'remediated': 2, 'hba': 2, 'hds': 2, 'intercompany': 2, 'unplanned': 2, 'fruit': 2, 'introduce': 2, 'debbie': 2, 'interrupted': 2, 'firmly': 2, 'hardening': 2, 'intricacies': 2, 'aero': 2, 'ramadan': 2, 'biz': 2, 'firsthand': 2, 'interviews': 2, 'hardworking': 2, 'firmware': 2, 'diana': 2, 'ramifications': 2, 'tooling': 2, 'wealth': 2, 'coworkers': 2, 'fired': 2, 'repeated': 2, 'initiating': 2, 'boat': 2, 'admiration': 2, 'triage': 2, 'admiral': 2, 'reminding': 2, 'reasonable': 2, 'huddle': 2, 'imperative': 2, 'hui': 2, 'dam': 2, 'average': 2, 'impacting': 2, 'tricks': 2, 'dinners': 2, 'foolish': 2, 'humbled': 2, 'trend': 2, 'rumbler': 2, 'daniyal': 2, 'sanity': 2, 'blog': 2, 'tuning': 2, 'additions': 2, 'hps': 2, 'adequate': 2, 'hq': 2, 'wash': 2, 'adds': 2, 'ctc': 2, 'cts': 2, 'http': 2, 'admirer': 2, 'inadvertently': 2, 'admission': 2, 'satellite': 2, 'digitalization': 2, 'hypersonic': 2, 'iam': 2, 'adjustments': 2, 'forging': 2, 'sasha': 2, 'bain': 2, 'forgotten': 2, 'icing': 2, 'iconnect': 2, 'julie': 2, 'trs': 2, 'recap': 2, 'adjusting': 2, 'adjusted': 2, 'icon': 2, 'humility': 2, 'adhoc': 2, 'ii': 2, 'imjudo': 2, 'reassured': 2, 'trusting': 2, 'formulate': 2, 'wanting': 2, 'receiving': 2, 'ihar': 2, 'forces': 2, 'formats': 2, 'wants': 2, 'forecast': 2, 'war': 2, 'forecasting': 2, 'forecastpro': 2, 'dinner': 2, 'traits': 2, 'recognitions': 2, 'fosters': 2, 'inform': 2, 'holistic': 2, 'holly': 2, 'blocked': 2, 'remind': 2, 'influencers': 2, 'ui': 2, 'cropped': 2, 'waiting': 2, 'rtq': 2, 'darren': 2, 'infinity': 2, 'infectious': 2, 'transforming': 2, 'adaptor': 2, 'transitioned': 2, 'adoption': 2, 'transfers': 2, 'actual': 2, 'unbelievable': 2, 'initially': 2, 'critically': 2, 'differentiators': 2, 'remembered': 2, 'flowing': 2, 'hoc': 2, 'flourish': 2, 'react': 2, 'adrian': 2, 'balanced': 2, 'infra': 2, 'holding': 2, 'reconciliation': 2, 'admissions': 2, 'crossing': 2, 'flu': 2, 'translation': 2, 'transmission': 2, 'bernardo': 2, 'transparent': 2, 'realise': 2, 'incorporated': 2, 'save': 2, 'hospitals': 2, 'incoming': 2, 'twice': 2, 'admit': 2, 'hotels': 2, 'tweaking': 2, 'realising': 2, 'transporter': 2, 'hood': 2, 'directions': 2, 'indeed': 2, 'founded': 2, 'hoops': 2, 'transitions': 2, 'bobby': 2, 'translate': 2, 'hopes': 2, 'focussed': 2, 'saves': 2, 'rep': 2, 'fob': 2, 'watchful': 2, 'readily': 2, 'twitter': 2, 'twists': 2, 'directors': 2, 'refresh': 2, 'foresight': 2, 'gold': 2, 'delicate': 2, 'regulatory': 2, 'ryan': 2, 'banking': 2, 'bingo': 2, 'bind': 2, 'throw': 2, 'gigio': 2, 'depot': 2, 'finalist': 2, 'deployments': 2, 'accepted': 2, 'gina': 2, 'girl': 2, 'git': 2, 'dell': 2, 'acceptance': 2, 'jan': 2, 'gallup': 2, 'acceptable': 2, 'gosh': 2, 'disease': 2, 'abreast': 2, 'versus': 2, 'boxing': 2, 'timeliness': 2, 'jam': 2, 'school': 2, 'financials': 2, 'registrants': 2, 'victor': 2, 'aftership': 2, 'josephine': 2, 'uw': 2, 'biodiversity': 2, 'thriving': 2, 'delay': 2, 'afterwards': 2, 'website': 2, 'iwona': 2, 'vibrant': 2, 'scanning': 2, 'v2': 2, 'vessel': 2, 'finalize': 2, '60': 2, 'axspa': 2, 'jake': 2, 'delegation': 2, 'gif': 2, 'beverages': 2, 'gordon': 2, 'gate': 2, 'demands': 2, 'godinova': 2, 'jean': 2, 'cope': 2, 'variants': 2, 'variation': 2, 'fields': 2, 'jenn': 2, 'visits': 2, 'jimmy': 2, 'thwart': 2, 'agility': 2, 'scheduler': 2, 'jidong': 2, 'cooperative': 2, 'jennifer': 2, 'jenny': 2, 'varun': 2, 'varying': 2, 'globostars': 2, 'gloria': 2, 'tides': 2, 'tidy': 2, 'denver': 2, '5s': 2, 'ac': 2, 'fielding': 2, 'garnett': 2, 'veronica': 2, 'vernova': 2, 'agendas': 2, 'goodbye': 2, 'filling': 2, 'tightly': 2, 'belong': 2, 'van': 2, 'aging': 2, 'dependent': 2, 'relied': 2, 'ger': 2, 'dependency': 2, 'dependable': 2, 'row': 2, 'vehicle': 2, 'golden': 2, 'country': 2, 'vdk': 2, 'reimagining': 2, 'gary': 2, 'gartner': 2, '5th': 2, 'sa': 2, 'dependencies': 2, 'boys': 2, 'bins': 2, 'afraid': 2, 'couldnt': 2, 'gbsg': 2, 'jp': 2, 'uses': 2, 'tls': 2, 'afloat': 2, 'vikram': 2, 'finest': 2, 'bang': 2, 'regex': 2, 'tjc': 2, 'radar': 2, 'usual': 2, 'represented': 2, 'defined': 2, 'disruptions': 2, 'gs': 2, 'abm': 2, 'abner': 2, 'israel': 2, 'threshold': 2, 'rahul': 2, 'costly': 2, 'finger': 2, 'desiree': 2, 'gw2': 2, 'gw': 2, 'guy': 2, 'gdlng': 2, 'baa': 2, 'funnel': 2, 'gem': 2, 'guilherme': 2, 'fiore': 2, 'usability': 2, 'gen': 2, '55': 2, 'booth': 2, 'irish': 2, 'generate': 2, 'default': 2, 'gui': 2, 'regard': 2, 'weaved': 2, 'devops': 2, 'defects': 2, 'username': 2, 'title': 2, 'safo': 2, 'regina': 2, 'sai': 2, 'releasing': 2, 'relentless': 2, 'deserving': 2, 'race': 2, 'definition': 2, 'groundwork': 2, 'victory': 2, 'relating': 2, 'raci': 2, 'fx': 2, 'described': 2, 'tirrill': 2, 'webex': 2, 'daria': 3, 'gender': 3, 'violations': 3, 'minimizing': 3, 'truck': 3, 'standups': 3, 'ernest': 3, 'glitches': 3, 'humble': 3, 'powerful': 3, 'cis': 3, 'gesture': 3, 'msk': 3, 'momentum': 3, 'citi': 3, 'stars': 3, 'danny': 3, 'permits': 3, 'generated': 3, 'ia': 3, 'drawing': 3, 'avoiding': 3, 'stands': 3, 'dance': 3, 'bryan': 3, 'myriad': 3, 'eoin': 3, 'modelling': 3, 'slogan': 3, 'strategically': 3, 'honored': 3, 'blockers': 3, 'clearing': 3, 'miles': 3, 'music': 3, 'anne': 3, 'multi': 3, 'aviation': 3, 'choosy': 3, 'gehms': 3, 'gerard': 3, 'city': 3, 'vip': 3, 'shares': 3, 'eileen': 3, 'minded': 3, 'modernize': 3, 'desktop': 3, 'buddy': 3, 'candidates': 3, 'milestones': 3, 'cant': 3, 'equally': 3, 'virginia': 3, 'mix': 3, 'veteran': 3, 'pharma': 3, 'hurdles': 3, 'gateway': 3, 'bulk': 3, 'roadmap': 3, 'sidd': 3, 'formed': 3, 'houston': 3, 'effectiveness': 3, 'zoe': 3, 'walks': 3, 'designer': 3, 'asana': 3, 'bag': 3, 'misuse': 3, 'relation': 3, 'rob': 3, 'hrlt': 3, 'detection': 3, 'depth': 3, 'gb': 3, 'monumental': 3, 'dad': 3, 'effect': 3, 'fostered': 3, 'paths': 3, 'essra': 3, 'si': 3, 'arnie': 3, 'dab': 3, 'educating': 3, 'simultaneously': 3, 'shadowing': 3, 'shy': 3, 'desired': 3, 'hospital': 3, 'glass': 3, 'abandoned': 3, 'passing': 3, 'generous': 3, 'erm': 3, 'mixing': 3, 'hospitality': 3, 'passwords': 3, 'dreaded': 3, 'format': 3, 'carbon': 3, 'cambridge': 3, 'workstream': 3, 'sit': 3, 'workhumans': 3, 'monitor': 3, 'bid': 3, 'panipat': 3, 'tweaks': 3, 'b2': 3, 'capture': 3, 'platforms': 3, 'dennis': 3, 'hce': 3, '95': 3, 'pointing': 3, 'refer': 3, 'obfuscation': 3, 'soli': 3, 'organic': 3, 'accommodate': 3, 'regions': 3, 'hats': 3, 'observations': 3, 'dozen': 3, 'ride': 3, 'poc': 3, 'obtaining': 3, 'grs': 3, 'debt': 3, 'occur': 3, 'approaches': 3, 'yasser': 3, 'nuggets': 3, 'redundant': 3, 'notation': 3, 'notch': 3, 'causes': 3, 'xx': 3, '11pm': 3, 'greater': 3, 'unmatched': 3, 'sam': 3, 'unnecessary': 3, 'rewards': 3, 'charges': 3, 'green': 3, 'dealt': 3, 'biogen': 3, 'poise': 3, 'charge': 3, 'nuanced': 3, 'fy22': 3, 'nuances': 3, 'dec': 3, 'remains': 3, 'aced': 3, 'yee': 3, 'furthermore': 3, 'shortly': 3, 'olivia': 3, 'ceremony': 3, 'birth': 3, 'guides': 3, 'centric': 3, 'hackathon': 3, 'yoga': 3, 'openly': 3, 'shortage': 3, 'shining': 3, 'emily': 3, 'deemed': 3, 'sources': 3, 'funds': 3, 'urgently': 3, 'source': 3, 'shone': 3, 'upset': 3, 'hearts': 3, 'opinions': 3, 'cab': 3, 'hari': 3, 'gsk': 3, 'decide': 3, 'embody': 3, 'approachable': 3, 'dialogue': 3, 'offers': 3, 'offline': 3, 'reflecting': 3, 'sailing': 3, 'deck': 3, 'caesar': 3, 'optimization': 3, 'empowers': 3, 'handover': 3, 'oil': 3, 'upper': 3, 'decommissioning': 3, 'handedly': 3, 'okr': 3, 'reusable': 3, 'delayed': 3, 'redshift': 3, 'pie': 3, 'fran': 3, 'reviewed': 3, 'historical': 3, 'uncovered': 3, 'shawn': 3, 'determining': 3, 'needing': 3, 'staffing': 3, 'daunting': 3, 'detroit': 3, 'negotiation': 3, 'activemq': 3, 'sheena': 3, 'neil': 3, 'nerves': 3, 'smoke': 3, 'owen': 3, 'possibilities': 3, 'navigated': 3, 'god': 3, 'padraig': 3, 'adapting': 3, 'calling': 3, 'nam': 3, 'slow': 3, 'adaptability': 3, 'pandemic': 3, 'demos': 3, 'uk': 3, 'databases': 3, 'elaine': 3, 'saftey': 3, 'holders': 3, 'differently': 3, 'bear': 3, 'worthwhile': 3, 'bill': 3, 'stake': 3, 'pain': 3, 'determine': 3, 'higher': 3, 'positioning': 3, 'recording': 3, 'wrap': 3, 'sprints': 3, 'visuals': 3, 'nights': 3, 'spring': 3, 'gained': 3, 'pop': 3, 'hemi': 3, 'checker': 3, 'developers': 3, 'rectify': 3, 'assumptions': 3, 'enhanced': 3, 'grant': 3, 'roberto': 3, 'enhance': 3, 'redemption': 3, 'backed': 3, 'spotlight': 3, 'shoutout': 3, 'vulenerabilities': 3, 'delegating': 3, 'accepting': 3, 'vxt': 3, 'undertaking': 3, 'blinder': 3, 'blessed': 3, 'enriched': 3, 'runners': 3, 'overseeing': 3, 'revisions': 3, 'beacon': 3, 'overly': 3, 'hesitant': 3, 'dry': 3, 'nhs': 3, 'overcoming': 3, 'anytime': 3, 'ear': 3, 'elizabeth': 3, 'validate': 3, 'outward': 3, '188': 3, 'recruitment': 3, 'obstacle': 3, 'fell': 3, 'ideation': 3, 'extraction': 3, 'intune': 3, 'concepts': 3, 'computer': 3, 'wholeheartedly': 3, 'documented': 3, 'cox': 3, 'wi': 3, '31st': 3, 'logged': 3, 'lived': 3, 'proof': 3, 'promptness': 3, 'bridging': 3, 'promotion': 3, 'explaining': 3, 'promo': 3, 'interim': 3, 'book': 3, 'explained': 3, 'lori': 3, 'interested': 3, 'ramil': 3, 'alternative': 3, '37': 3, 'lists': 3, 'facilitators': 3, 'configurations': 3, 'counsel': 3, 'provoking': 3, 'facilitation': 3, 'scaling': 3, 'cancellation': 3, 'seamlessly': 3, 'conferences': 3, '3dx': 3, 'tackling': 3, 'iocl': 3, 'limits': 3, 'linda': 3, 'toes': 3, 'fa': 3, 'links': 3, 'token': 3, 'seconds': 3, 'listened': 3, 'tactics': 3, 'invest': 3, 'counts': 3, 'sustain': 3, 'totally': 3, 'susana': 3, 'flexing': 3, 'amidst': 3, 'exhibited': 3, 'summer': 3, 'summary': 3, 'selecting': 3, 'amongst': 3, 'replacing': 3, 'commercial': 3, 'suite': 3, 'malicious': 3, 'crime': 3, 'manually': 3, 'donating': 3, 'trainer': 3, 'donations': 3, 'innovations': 3, 'exemplary': 3, 'innovate': 3, 'floats': 3, 'waters': 3, 'trainings': 3, 'ron': 3, 'profile': 3, 'roots': 3, 'dollars': 3, 'range': 3, 'aly': 3, 'expertly': 3, 'interactive': 3, 'crafting': 3, 'lt': 3, 'intent': 3, 'five': 3, '6s': 3, 'fixed': 3, 'intel': 3, 'lynn': 3, 'lynsey': 3, 'progressed': 3, 'touching': 3, 'townhall': 3, 'advertising': 3, 'instincts': 3, 'traci': 3, 'instance': 3, 'wave': 3, 'becoming': 3, 'credibility': 3, 'taped': 3, 'raffle': 3, 'alena': 3, 'breaking': 3, 'branch': 3, 'rounds': 3, 'jon': 3, 'joke': 3, 'joint': 3, 'joins': 3, 'brandon': 3, 'schneider': 3, 'kicking': 3, 'kickoff': 3, 'contracting': 3, 'rescue': 3, 'ailing': 3, 'johnny': 3, 'joel': 3, 'text': 3, 'kiran': 3, 'q1': 3, 'brands': 3, 'cookies': 3, 'fgc': 3, 'aims': 3, 'wesley': 3, 'contracts': 3, 'kellye': 3, 'jonathan': 3, 'julian': 3, 'juggle': 3, 'feelings': 3, 'thoughtfully': 3, 'judgement': 3, 'qualtrics': 3, 'justin': 3, 'controlling': 3, 'conversions': 3, 'convert': 3, 'banks': 3, 'qualities': 3, 'kate': 3, 'conveyed': 3, 'brainboxes': 3, 'katie': 3, 'weren': 3, 'qualification': 3, 'agreement': 3, 'kecia': 3, 'feed': 3, 'joshua': 3, 'contractual': 3, 'jnj': 3, 'savings': 3, 'brandy': 3, 'believers': 3, 'jamf': 3, 'james': 3, 'considerable': 3, 'quo': 3, 'scrum': 3, 'layout': 3, 'rough': 3, 'conor': 3, 'techniques': 3, 'jackson': 3, 'launches': 3, 'discussing': 3, 'wednesday': 3, 'connectivity': 3, 'teacher': 3, 'fairport': 3, 'ptl': 3, 'fairness': 3, 'webinar': 3, 'iterations': 3, 'failures': 3, 'costs': 3, 'iyengar': 3, 'laugh': 3, 'wei': 3, 'fancy': 3, 'schedules': 3, 'display': 3, 'puts': 3, 'coordinated': 3, 'consulting': 3, 'fight': 3, 'kyc': 3, 'authentically': 3, 'figure': 3, 'cop': 3, 'fastpak': 3, 'jenna': 3, 'believes': 3, 'lads': 3, 'divergent': 3, 'tiffany': 3, 'landing': 3, 'weight': 3, 'filing': 3, 'laps': 3, 'wfh': 3, 'pure': 3, 'java': 3, 'thursday': 3, '28': 3, 'lock': 3, 'amplify': 3, 'mentee': 3, 'import': 3, 'memorable': 3, 'beauty': 3, 'realized': 3, 'tremendously': 3, 'meghan': 3, 'andy': 3, 'meditation': 3, 'treatment': 3, 'treated': 3, 'restrictions': 3, 'roi': 3, 'evolving': 3, 'exam': 3, 'trapped': 3, 'meaning': 3, 'incorporate': 3, 'cody': 3, 'independently': 3, 'maxine': 3, 'rolled': 3, 'maura': 3, 'transitioning': 3, 'infections': 3, 'collecting': 3, 'masterful': 3, 'attendees': 3, 'measure': 3, 'submitted': 3, 'trial': 3, 'adminx': 3, 'migrated': 3, 'settle': 3, 'mighty': 3, 'identification': 3, 'foremost': 3, 'trophy': 3, 'troops': 3, 'streamlined': 3, 'streamlining': 3, 'michigan': 3, 'streams': 3, 'currency': 3, 'curious': 3, 'strive': 3, 'clinic': 3, 'rebate': 3, 'methodology': 3, 'servicenow': 3, 'imagine': 3, 'everybody': 3, 'previously': 3, 'tried': 3, '2256371a': 3, 'admins': 3, 'foot': 3, 'merch': 3, 'impeccable': 3, 'meraki': 3, 'illustrating': 3, 'college': 3, 'anniversary': 3, 'reacting': 3, 'inherent': 3, 'balancing': 3, 'marshals': 3, 'transfer': 3, 'transformational': 3, 'wip': 3, 'retro': 4, 'purpose': 4, 'lane': 4, 'workloads': 4, 'pace': 4, 'quiet': 4, 'accelerate': 4, 'anomolies': 4, 'positively': 4, 'corinne': 4, 'forth': 4, 'casey': 4, 'brazil': 4, 'smoother': 4, 'ana': 4, 'visually': 4, 'demeanor': 4, 'bell': 4, 'overview': 4, 'corning': 4, 'santander': 4, 'punished': 4, 'smo': 4, 'packed': 4, 'reputation': 4, 'bay': 4, 'parking': 4, 'preventing': 4, 'naturally': 4, 'bau': 4, 'force': 4, 'puzzler': 4, 'paramount': 4, 'natural': 4, 'administrative': 4, 'consumers': 4, 'trigger': 4, 'consume': 4, 'consumables': 4, 'krzysztof': 4, 'mess': 4, 'terminations': 4, 'humiliated': 4, 'dallas': 4, 'recordable': 4, 'visitors': 4, 'cloudfront': 4, 'constructive': 4, 'auth': 4, 'manufacturing': 4, 'baby': 4, 'recorded': 4, 'boundaries': 4, 'accept': 4, 'closure': 4, 'below': 4, 'cmist': 4, 'rooms': 4, 'lean': 4, 'soft': 4, 'activations': 4, 'reminders': 4, 'driver': 4, 'accidentally': 4, 'teach': 4, 'financial': 4, 'marshal': 4, 'technically': 4, 'fy24': 4, 'superb': 4, 'organize': 4, 'ttec': 4, 'satisfied': 4, 'mellon': 4, 'utmost': 4, 'leg': 4, 'legacy': 4, 'regional': 4, 'circulars': 4, 'failure': 4, 'lend': 4, 'pto': 4, 'aka': 4, 'jacob': 4, 'wires': 4, 'timeframe': 4, 'overhead': 4, 'national': 4, 'gotten': 4, 'bottom': 4, 'launched': 4, 'fortunate': 4, 'jamesley': 4, 'dana': 4, 'gptw': 4, 'scans': 4, 'scripts': 4, 'forum': 4, 'eagerness': 4, 'laury': 4, 'gain': 4, 'stephanie': 4, 'bat': 4, 'australia': 4, 'austin': 4, 'divisional': 4, 'com': 4, 'consensually': 4, 'april': 4, 'stellar': 4, 'socal': 4, 'rogerio': 4, 'ehs': 4, 'connections': 4, 'lending': 4, 'genessa': 4, 'azure': 4, 'sad': 4, 'capability': 4, 'genius': 4, 'pepsico': 4, 'blue': 4, 'hiring': 4, 'streamline': 4, 'marcos': 4, 'siobhan': 4, 'joyce': 4, 'blown': 4, 'katrine': 4, 'katy': 4, 'edition': 4, 'videos': 4, 'evaluate': 4, 'agreed': 4, 'ebrgs': 4, 'ids': 4, 'drop': 4, 'relates': 4, 'injury': 4, 'captivating': 4, 'perfectly': 4, 'selector': 4, 'kaizen': 4, 'hispanic': 4, 'agree': 4, 'thousands': 4, 'migrating': 4, 'julia': 4, 'ro': 4, 'junction': 4, 'ecode': 4, 'require': 4, 'mardakan': 4, 'wellness': 4, 'attackers': 4, 'signed': 4, 'necessarily': 4, 'destruction': 4, 'conversion': 4, 'simone': 4, 'criteria': 4, 'permit': 4, 'francesca': 4, 'clearer': 4, 'forever': 4, 'canteen': 4, 'generation': 4, 'settings': 4, 'route': 4, 'curve': 4, 'ashland': 4, 'containers': 4, '71': 4, 'worker': 4, 'carla': 4, 'clarity': 4, 'attempts': 4, 'skillset': 4, 'skillup': 4, 'ecomm': 4, 'researching': 4, 'ff': 4, 'scheduling': 4, 'entertained': 4, 'safeguarding': 4, 'sky': 4, 'pass': 4, 'sla': 4, 'reinstate': 4, 'fe': 4, 'sleeping': 4, 'shutdown': 4, 'reinstall': 4, 'slides': 4, 'servicing': 4, 'slightly': 4, 'authenticity': 4, 'selenium': 4, 'map': 4, 'fewer': 4, 'husband': 4, 'johnson': 4, 'image': 4, 'warehouse': 4, 'requirments': 4, 'hillary': 4, 'st': 4, 'bi': 4, 'retention': 4, 'retaining': 4, 'gf': 4, 'relatable': 4, 'bny': 4, 'theme': 4, 'sivance': 4, 'ahm': 4, 'jokes': 4, 'eaton': 4, 'cycle': 4, 'bias': 4, 'throughput': 4, 'minsun': 4, 'adhering': 4, 'cup': 4, 'patterns': 4, 'stone': 4, 'estimation': 4, 'executives': 4, 'gillian': 4, 'cliona': 4, 'cailte': 4, 'lgbtq': 4, 'leo': 4, 'fiscal': 4, 'hasnt': 4, 'frustration': 4, 'succeed': 4, 'maturity': 4, 'endeavor': 4, 'promoted': 4, 'styles': 4, 'spindle': 4, 'separate': 4, 'fronts': 4, 'hop': 4, 'chapters': 4, 'sub': 4, 'begin': 4, 'advocacy': 4, 'blanca': 4, 'refactor': 4, 'rosana': 4, 'proman': 4, 'flexible': 4, 'altogether': 4, 'mates': 4, 'maternity': 4, 'industry': 4, 'hoping': 4, 'badge': 4, 'rose': 4, 'rex': 4, 'awe': 4, 'squad': 4, 'introduced': 4, 'roadblocks': 4, 'private': 4, 'plethora': 4, 'encountered': 4, 'spearheaded': 4, 'accurately': 4, 'systematically': 4, 'alliance': 4, 'readiness': 4, 'loves': 4, 'meisha': 4, 'documenting': 4, 'harm': 4, 'allies': 4, 'spectacular': 4, 'allison': 4, 'debug': 4, 'restore': 4, 'hopping': 4, 'spend': 4, 'occasion': 4, 'obviously': 4, 'mqv': 4, 'migrations': 4, 'ta': 4, 'bumpy': 4, 'domain': 4, 'hefty': 4, 'm365': 4, 'die': 4, 'stance': 4, 'programming': 4, 'fixes': 4, 'helm': 4, 'compelling': 4, 'attributes': 4, 'info': 4, 'magnificent': 4, 'honesty': 4, 'bold': 4, 'enhancements': 4, 'actionable': 4, 'flavia': 4, 'supports': 4, 'nightshift': 4, 'flowmeters': 4, 'flowmeter': 4, 'respective': 4, 'attentive': 4, '2fa': 4, 'installations': 4, 'profound': 4, 'runnig': 4, 'remediation': 4, 'collection': 4, 'drills': 4, 'heads': 4, 'interactions': 4, 'exceptionally': 4, 'volunteered': 4, 'choosing': 4, 'volunteering': 4, 'lucas': 4, 'proiritisation': 4, 'names': 4, 'amazed': 4, 'luka': 4, 'four': 4, 'seem': 4, 'intended': 4, 'splitters': 4, 'notes': 4, 'lunch': 4, 'sponsor': 4, 'masterfully': 4, 'recommendations': 4, 'shelly': 4, '3000': 4, 'selling': 4, 'reduced': 4, 'competitive': 4, 'lynette': 4, 'splitter': 4, 'fulfilment': 4, 'roseanna': 4, 'reality': 4, 'yourselves': 4, 'voc': 4, 'andrew': 4, 'discrepancies': 4, 'sourcing': 4, 'fires': 4, 'dawn': 4, 'affecting': 4, 'dedicating': 4, 'traveling': 4, 'struggling': 4, 'accounting': 4, 'invoice': 4, 'scales': 4, 'behavioral': 4, 'players': 4, 'benchmark': 4, 'align': 4, 'conclusion': 4, 'enlighten': 4, 'committee': 4, 'flight': 4, 'proved': 4, 'rainbow': 4, 'guns': 4, 'lighting': 4, 'deepest': 4, 'wherever': 4, 'ex': 4, 'accountable': 4, 'facilitate': 4, 'richie': 4, 'summit': 4, 'cell': 4, 'emma': 4, 'counting': 4, 'countless': 4, 'countries': 4, 'ip': 4, 'brendan': 4, '26': 4, 'liliana': 4, 'ireland': 4, 'sooner': 4, 'broader': 4, 'tuesday': 4, 'squads': 4, 'prioritizing': 4, 'playing': 4, 'inventory': 4, 'fuss': 4, 'anticipated': 4, 'taping': 4, 'equipped': 4, 'tomorrow': 4, 'host': 4, 'prosil': 4, 'motors': 4, '9942': 4, 'born': 4, 'rallied': 4, 'mountain': 4, 'leslie': 4, 'inside': 4, 'tag': 4, 'satisfy': 4, 'sorted': 4, 'concise': 4, 'coverage': 4, 'marie': 4, 'secret': 4, 'spaces': 4, 'investigations': 4, 'embraces': 4, 'council': 4, 'daniel': 4, 'attracting': 4, 'ce': 4, 'pivot': 5, 'representation': 5, 'quarterly': 5, 'seems': 5, 'bunkering': 5, 'programmed': 5, 'beat': 5, 'placed': 5, 'representing': 5, 'seizing': 5, 'behaviors': 5, 'breathing': 5, 'reverse': 5, 'pit': 5, 'regression': 5, 'removed': 5, 'bios': 5, 'rachel': 5, 'sdb': 5, 'scams': 5, 'burning': 5, 'progressing': 5, 'processed': 5, 'await': 5, 'sending': 5, 'pfizer': 5, 'releases': 5, 'scott': 5, 'requesting': 5, 'buckling': 5, 'sap': 5, 'photo': 5, 'safetly': 5, 'po': 5, 'serving': 5, 'sanitization': 5, 'plcs': 5, 'rfp': 5, 'picked': 5, 'rohit': 5, 'atmosphere': 5, 'buffer': 5, 'plugs': 5, 'privelage': 5, 'resulting': 5, 'plenty': 5, 'picking': 5, 'renewal': 5, 'rallying': 5, 'secured': 5, 'reinstatement': 5, 'professionally': 5, 'questionnaire': 5, 'promptly': 5, 'published': 5, 'rick': 5, 'pioneered': 5, 'brains': 5, 'battle': 5, 'reflexes': 5, 'satisfaction': 5, 'brings': 5, 'calmness': 5, 'beast': 5, 'aside': 5, 'seo': 5, 'script': 5, 'revising': 5, 'bumper': 5, 'avoided': 5, 'booking': 5, 'ramp': 5, 'rigorously': 5, 'score': 5, 'prioritized': 5, 'q2': 5, 'beautiful': 5, 'beach': 5, 'compromised': 5, '75': 5, 'gadir': 5, 'dev': 5, 'visual': 5, 'nebula': 5, 'virtually': 5, 'stakeholder': 5, 'tips': 5, 'choices': 5, 'stand': 5, 'man': 5, 'multitude': 5, 'generator': 5, 'corteva': 5, 'designers': 5, 'vigilance': 5, 'tirelessly': 5, 'ish': 5, 'glenda': 5, 'suggesting': 5, 'globouniversity': 5, 'command': 5, 'demonstrates': 5, 'circulation': 5, 'modules': 5, 'tampering': 5, 'accidental': 5, 'stephen': 5, 'irina': 5, 'ux': 5, 'majority': 5, 'tom': 5, 'functions': 5, 'corralling': 5, 'discard': 5, 'nurture': 5, 'spinning': 5, 'cancelled': 5, 'cooper': 5, 'cooperation': 5, 'watching': 5, 'foiled': 5, 'waste': 5, 'md2': 5, 'warm': 5, 'coordination': 5, 'ap': 5, 'jenkins': 5, 'node': 5, 'nist': 5, 'spreadsheets': 5, 'forwards': 5, 'mac': 5, 'niamh': 5, '90': 5, 'waf': 5, 'vs': 5, 'newer': 5, 'corp': 5, 'diaries': 5, 'tim': 5, 'supposed': 5, 'timeless': 5, 'neha': 5, 'mo': 5, 'tone': 5, 'accomplish': 5, 'methanol': 5, 'submissions': 5, 'meta': 5, 'messy': 5, 'adapted': 5, 'tracey': 5, 'dark': 5, 'hot': 5, 'cm': 5, 'advance': 5, 'https': 5, 'adequately': 5, 'crisis': 5, 'id': 5, 'inlet': 5, 'adjust': 5, 'andro': 5, 'troubleshooting': 5, 'troubleshoot': 5, 'mechanisms': 5, 'admirable': 5, 'maybe': 5, 'measurable': 5, 'impossible': 5, 'india': 5, 'crushed': 5, 'translated': 5, 'trash': 5, 'studies': 5, 'stretch': 5, 'unauthorized': 5, 'hitch': 5, 'collected': 5, 'sticking': 5, 'defining': 5, 'defence': 5, 'guarantees': 5, 'missed': 5, 'color': 5, 'stock': 5, 'accomplishments': 5, 'guests': 5, 'accuracy': 5, 'upgraded': 5, 'storytelling': 5, 'hasn': 5, 'advocating': 5, 'waxing': 5, 'mas': 5, 'interesting': 5, 'heather': 5, 'heavily': 5, 'migrate': 5, 'dcs': 5, 'uniqueness': 5, 'dbt': 5, 'unexpected': 5, 'advise': 5, 'tournament': 5, 'town': 5, 'mfa': 5, 'clock': 5, 'mastered': 5, 'healthcare': 5, 'finishing': 5, 'incorrect': 5, 'elton': 5, 'employment': 5, 'labs': 5, 'duties': 5, 'wizards': 5, 'findev': 5, 'yos': 5, 'talents': 5, 'organon': 5, 'wishes': 5, 'knowledgeable': 5, 'tex': 5, 'patrick': 5, 'sitting': 5, 'continually': 5, 'emea': 5, 'oragh': 5, 'winner': 5, 'cdn': 5, 'dympna': 5, 'embedded': 5, 'car': 5, 'optimize': 5, 'lens': 5, 'enterprise': 5, 'ordered': 5, 'ours': 5, 'outage': 5, 'ar': 5, 'enthusiastically': 5, 'lay': 5, 'participated': 5, 'laws': 5, 'driven': 5, 'carries': 5, 'worries': 5, 'workstreams': 5, 'lines': 5, 'aren': 5, 'wrote': 5, '2017': 5, 'energized': 5, 'cash': 5, 'considered': 5, 'cassie': 5, 'workshops': 5, 'consistency': 5, 'aligning': 5, 'workflow': 5, 'catalog': 5, 'later': 5, 'taught': 5, 'won': 5, 'empowered': 5, 'lockheed': 5, 'exercise': 5, 'wouldnt': 5, 'appreciates': 5, 'fallout': 5, 'wet': 5, 'kat': 5, 'likelihood': 5, 'complexity': 5, 'offshore': 5, 'education': 5, 'feather': 5, 'edmondson': 5, 'persistent': 5, 'ed': 5, 'ashley': 5, 'feet': 5, 'fern': 5, 'disruption': 5, 'odd': 5, 'thrilled': 5, 'oci': 5, 'joe': 5, 'welcomed': 5, 'champions': 5, 'apologies': 5, 'ecosystem': 5, 'fill': 5, 'cookie': 5, 'confluence': 5, 'log4j': 5, 'fall': 5, 'conferencing': 5, 'either': 5, 'celia': 5, 'capable': 5, 'targets': 5, 'earned': 5, 'allowlist': 5, 'lonnie': 5, 'lets': 5, 'contributor': 5, 'celebrating': 5, 'sorry': 5, 'complicated': 5, 'explanation': 5, 'pedestrian': 5, 'expressed': 5, 'extending': 5, 'compliant': 5, '403a': 5, 'whats': 5, 'certain': 5, 'kathleen': 5, 'lol': 5, 'windows': 5, 'connecting': 6, 'inputs': 6, 'individually': 6, 'conquered': 6, 'tbt': 6, 'bobs': 6, 'boxes': 6, 'scalable': 6, 'rather': 6, 'kelly': 6, 'thereby': 6, 'keelin': 6, 'r1t': 6, 'correcting': 6, 'quote': 6, 'agreeing': 6, 'jamal': 6, 'agents': 6, 'aggressive': 6, 'kafeel': 6, 'june': 6, 'jun': 6, 'juggling': 6, 'threw': 6, 'scenarios': 6, 'thru': 6, 'tired': 6, 'creates': 6, 'cosmetic': 6, 'boring': 6, 'scripted': 6, 'advocate': 6, 'international': 6, 'interview': 6, 'tony': 6, 'largest': 6, 'larger': 6, 'landscape': 6, 'tones': 6, 'constraints': 6, 'consuming': 6, 'contacts': 6, 'iris': 6, 'aim': 6, 'afll': 6, 'kev': 6, 'isha': 6, 'isolation': 6, 'cool': 6, 'accident': 6, 'improved': 6, 'exemption': 6, 'baseline': 6, 'root': 6, 'responders': 6, 'expansion': 6, '2nd': 6, 'expiration': 6, 'resourcefulness': 6, 'expire': 6, 'barriers': 6, 'whirlwind': 6, 'fail': 6, 'executor': 6, 'faithfully': 6, 'fear': 6, 'round': 6, 'distilling': 6, 'wes': 6, 'fed': 6, 'requires': 6, 'displays': 6, 'displayed': 6, 'filled': 6, 'fitzpatrick': 6, 'flood': 6, 'watered': 6, 'disturbed': 6, '27th': 6, 'restart': 6, 'restarted': 6, 'educational': 6, 'efendiyev': 6, 'efficiently': 6, 'eight': 6, 'yury': 6, '110': 6, 'dxc': 6, 'emissions': 6, 'enables': 6, 'encounter': 6, 'dulcet': 6, 'enter': 6, 'rocks': 6, 'drivers': 6, 'erg': 6, 'draws': 6, 'escalated': 6, 'establishing': 6, 'retain': 6, 'evenings': 6, '22nd': 6, 'evident': 6, 'restructure': 6, 'evp': 6, 'dose': 6, 'wishing': 6, 'doors': 6, 'disappearing': 6, 'repairing': 6, 'remotely': 6, 'forgot': 6, 'registration': 6, 'accommodating': 6, 'sake': 6, 'refreshing': 6, 'decided': 6, 'reference': 6, 'unrest': 6, 'hcps': 6, 'heap': 6, 'acquiring': 6, 'undoubtedly': 6, 'activated': 6, 'underway': 6, 'activation': 6, 'records': 6, 'undergoing': 6, 'record': 6, 'sandbox': 6, 'darran': 6, 'house': 6, 'danijel': 6, 'ic': 6, 'troy': 6, 'trivia': 6, 'impactful': 6, 'implementations': 6, 'trenches': 6, 'greeted': 6, 'treat': 6, 'greatness': 6, 'accessible': 6, 'digging': 6, 'foster': 6, 'fraud': 6, 'vpn': 6, 'beth': 6, 'fuel': 6, 'voices': 6, 'backup': 6, 'dhasco': 6, 'developments': 6, 'g105': 6, 'relentlessly': 6, 'visible': 6, 'virus': 6, 'gehsms': 6, 'generally': 6, 'abilities': 6, 'genuinely': 6, 'deserve': 6, 'des': 6, 'abnormal': 6, 'dermots': 6, 'verified': 6, 'gland': 6, 'departments': 6, 'variety': 6, 'glycol': 6, 'delays': 6, 'configuration': 6, 'batches': 6, 'classification': 6, 'procedural': 6, 'smiling': 6, 'matters': 6, 'collaboratively': 6, 'prize': 6, 'analytics': 6, 'oscar': 6, 'original': 6, 'prioritization': 6, 'owning': 6, 'measured': 6, 'media': 6, 'coaches': 6, 'pivotal': 6, 'coach': 6, 'approaching': 6, 'stronger': 6, 'mentioned': 6, 'mentoring': 6, 'pricing': 6, 'printing': 6, 'solved': 6, 'proceed': 6, 'proceeded': 6, 'macs': 6, 'mails': 6, 'superhero': 6, 'american': 6, 'phrase': 6, 'committment': 6, 'seismic': 6, 'managers': 6, 'selected': 6, 'page': 6, 'commitments': 6, 'produce': 6, 'sleeves': 6, 'slide': 6, 'shut': 6, 'armoury': 6, 'marked': 6, 'ams': 6, 'processor': 6, 'carried': 6, 'maria': 6, 'options': 6, 'cease': 6, 'strengths': 6, 'speaker': 6, 'mostly': 6, 'chro': 6, 'star': 6, 'powder': 6, 'offenders': 6, 'nadir': 6, 'chirag': 6, 'china': 6, 'statements': 6, 'stability': 6, 'observed': 6, 'positivity': 6, 'srm': 6, 'portfolio': 6, 'sql': 6, 'bus': 6, 'nicely': 6, 'political': 6, 'noise': 6, 'october': 6, 'cglp': 6, 'oim': 6, 'shaping': 6, 'sonya': 6, 'bruno': 6, 'presentations': 6, 'cable': 6, 'attacks': 6, 'celebrations': 6, 'strategies': 6, 'millions': 6, 'cleanup': 6, 'plates': 6, 'sound': 6, 'onerous': 6, 'misses': 6, 'missing': 6, 'mitigating': 6, 'budget': 6, 'onboarded': 6, 'clair': 6, 'mobillica': 6, 'answered': 6, 'ca': 6, 'competition': 6, 'lv': 6, 'noticing': 6, 'calming': 6, 'talked': 6, 'phoenix': 6, 'alongside': 6, 'likely': 6, 'proposal': 6, 'aligns': 6, 'sleep': 6, 'sean': 6, 'lives': 6, 'amaze': 6, 'locations': 6, 'surveillance': 6, 'sick': 6, 'proper': 6, 'liquid': 6, 'luck': 6, 'signing': 6, 'peace': 6, 'seemed': 6, 'launching': 7, 'mobile': 7, 'claims': 7, 'bits': 7, 'docker': 7, 'accurate': 7, 'experts': 7, 'lauren': 7, 'black': 7, 'achievements': 7, 'stops': 7, 'minimum': 7, 'gwo': 7, 'gwp': 7, 'exposed': 7, 'applied': 7, 'whiq': 7, 'peers': 7, 'confidentiality': 7, 'premises': 7, 'prospects': 7, 'liquidfiles': 7, 'accomplishment': 7, 'application': 7, 'tabletop': 7, 'laser': 7, '29': 7, '30': 7, 't201': 7, 'apprised': 7, 'closeout': 7, 'rights': 7, 'pressurised': 7, 'understood': 7, 'strengthen': 7, 'consultant': 7, 'progression': 7, 'shooting': 7, 'recovery': 7, 'becomes': 7, 'exile': 7, '11': 7, 'base': 7, 'unfolding': 7, 'middle': 7, 'ann': 7, 'acting': 7, 'lm': 7, 'eligibility': 7, 'deadlines': 7, 'robert': 7, 'presence': 7, 'expected': 7, 'sign': 7, 'fair': 7, 'cleavage': 7, 'unpopular': 7, 'laptop': 7, 'reduction': 7, 'condition': 7, 'graham': 7, 'aaron': 7, 'figured': 7, 'targeted': 7, 'bank': 7, 'functional': 7, 'changed': 7, 'assurance': 7, 'frustrated': 7, 'wearing': 7, 'firewalls': 7, 'frontline': 7, 'tara': 7, 'similar': 7, 'framework': 7, 'needless': 7, 'liberated': 7, 'sheet': 7, 'checked': 7, 'former': 7, 'config': 7, 'warden': 7, 'flex': 7, 'nuvs': 7, 'rsm': 7, 'float': 7, 'north': 7, 'notably': 7, 'disaster': 7, 'director': 7, 'disappear': 7, 'liberation': 7, 'certified': 7, 'possibly': 7, 'reliability': 7, 'appeciated': 7, 'link': 7, 'vadim': 7, 'residence': 7, 'metals': 7, 'cipher': 7, '07901425': 7, 'practical': 7, 'publishing': 7, 'campaigns': 7, 'fearless': 7, 'efficacy': 7, 'reinstated': 7, 'biggest': 7, 'galore': 7, 'tears': 7, 'rescind': 7, 'gifts': 7, 'speaks': 7, 'distancing': 7, 'msd': 7, 'tax': 7, 'wendy': 7, 'designs': 7, 'offending': 7, 'connection': 7, 'zoom': 7, 'persistence': 7, 'proven': 7, 'pm': 7, 'officer': 7, 'preview': 7, 'immense': 7, 'uat': 7, 'escalation': 7, 'compliment': 7, 'paul': 7, 'workflows': 7, 'collections': 7, 'dashboard': 7, 'boiling': 7, 'analysts': 7, 'among': 7, 'ard': 7, 'inspiration': 7, 'catalogues': 7, 'showcase': 7, 'architect': 7, 'branching': 7, 'collaborations': 7, 'photos': 7, 'attribute': 7, 'correspondence': 7, 'evidence': 7, 'boc': 7, 'cation': 7, 'situational': 7, 'payroll': 7, 'crucial': 7, 'colin': 7, 'saying': 7, 'september': 7, 'tour': 7, 'craic': 7, 'marine': 7, 'thoroughly': 7, 'inventoried': 7, 'ton': 7, 'encouragement': 7, 'art': 7, 'sweeping': 7, 'bearer': 7, 'swiftly': 7, 'drops': 7, 'worry': 7, 'alot': 7, 'pieces': 7, 'interventions': 7, 'judith': 7, 'isobutane': 7, 'isobutylene': 7, 'pages': 7, 'radical': 7, 'switch': 7, 'productive': 7, 'isopropyl': 7, 'advisor': 7, 'advising': 7, 'package': 7, 'tireless': 7, 'third': 7, 'stuff': 7, 'sunday': 7, 'indentify': 7, 'prior': 7, 'saved': 7, 'securely': 7, 'recall': 7, 'structured': 7, 'sites': 7, 'luxury': 7, 'cut': 7, 'pci': 7, 'hunting': 7, 'phenomenal': 7, 'humanity': 7, 'cultures': 7, 'ordinate': 7, 'recertification': 7, 'dan': 7, 'seemingly': 7, 'approached': 7, 'territory': 7, 'danielle': 7, 'kohler': 7, 'additionally': 7, 'location': 7, 'jesse': 7, 'messaging': 7, 'darko': 7, 'ts': 7, 'sat': 7, 'trouble': 7, 'spirit': 7, 'thanking': 7, 'agency': 7, 'thrown': 7, 'timeline': 7, 'lt38007': 7, 'inclusivity': 7, 'broad': 7, 'andrea': 7, 'treats': 7, 'imagined': 7, 'meaningful': 7, 'excel': 7, 'thankfully': 7, 'scares': 7, 'compared': 7, 'kilo': 7, 'prioritize': 7, 'securing': 7, 'magic': 7, 'compassion': 7, 'orientation': 7, 'jen': 7, 'parties': 8, 'objectives': 8, 'written': 8, 'encourage': 8, 'chargeback': 8, 'write': 8, 'flopping': 8, 'channels': 8, 'discovery': 8, 'observation': 8, 'fine': 8, '6x10': 8, 'beneficial': 8, 'chapter': 8, 'repsonse': 8, 'workers': 8, 'enthusiastic': 8, 'approved': 8, 'doubt': 8, 'explore': 8, 'apply': 8, 'beginning': 8, 'onshore': 8, 'cautiously': 8, 'plate': 8, 'extent': 8, 'expert': 8, 'aruba': 8, 'bastion': 8, 'celebration': 8, 'restacking': 8, 'camera': 8, 'exercises': 8, 'opinion': 8, 'rolling': 8, 'doesn': 8, 'championing': 8, 'behaviour': 8, 'resulted': 8, 'welcoming': 8, 'ec2': 8, 'specially': 8, 'perseverance': 8, 'wellbeing': 8, 'distance': 8, 'cartridges': 8, 'rich': 8, 'pepsi': 8, 'offered': 8, 'spear': 8, 'sincerely': 8, 'belief': 8, 'pablo': 8, 'campus': 8, '205': 8, 'architecture': 8, 'ceo': 8, 'phish': 8, 'ds': 8, 'proving': 8, 'reopening': 8, 'ingestion': 8, 'crital': 8, 'matt': 8, 'trail': 8, 'insightful': 8, 'credit': 8, 'instantaneous': 8, 'informative': 8, 'creation': 8, 'collective': 8, 'rate': 8, 'collectively': 8, 'rare': 8, 'adviser': 8, 'bonus': 8, 'ramps': 8, 'tq': 8, 'total': 8, 'incremental': 8, 'cogs': 8, 'undesirable': 8, 'microsites': 8, 'preserve': 8, 'clinical': 8, 'actively': 8, 'closer': 8, 'hold': 8, 'transparency': 8, 'serviced': 8, 'benzene': 8, 'blood': 8, 'try': 8, 'tricia': 8, 'admire': 8, 'andrei': 8, 'series': 8, 'merchandise': 8, 'analyse': 8, 'substantial': 8, 'marvels': 8, 'consultants': 8, 'labor': 8, 'table': 8, 'lakshmanan': 8, 'tenured': 8, 'linux': 8, 'alan': 8, 'knocking': 8, 'consensus': 8, 'season': 8, 'talented': 8, 'prove': 8, 'lent': 8, 'congratulate': 8, 'lift': 8, 'confidently': 8, 'technologies': 8, 'testutils': 8, 'thankyou': 8, 'ai': 8, 'tonight': 8, 'rakesh': 8, 'procurement': 8, 'told': 8, 'investment': 8, 'ipsen': 8, 'mando': 8, 'communicate': 8, 'ticked': 8, 'lyon': 8, 'sustaining': 8, 'autoclave': 8, 'thoughts': 8, 'brain': 8, 'sweat': 8, 'promoting': 8, 'prompt': 8, 'attempting': 8, 'unfamiliar': 8, 'perspectives': 8, 'deadline': 8, 'games': 8, 'shed': 8, 'posted': 8, 'gdpr': 8, 'chore': 8, 'desks': 8, 'negative': 8, 'blazing': 8, 'staples': 8, 'describing': 8, 'starters': 8, 'starts': 8, 'deploying': 8, 'glad': 8, 'christina': 8, 'burdening': 8, 'devtest': 8, 'neighbourhood': 8, 'focusing': 8, 'direct': 8, 'normally': 8, 'followup': 8, 'non': 8, 'diligent': 8, 'bags': 8, 'wait': 8, 'niall': 8, 'fresh': 8, 'bet': 8, 'remediate': 8, 'ssh': 8, 'networking': 8, 'nessus': 8, 'glen': 8, 'mornings': 8, 'village': 8, 'claire': 8, 'useful': 8, 'stood': 8, 'regime': 8, 'haji': 8, 'usually': 8, 'gwes': 8, 'claus': 8, 'grid': 8, 'greg': 8, 'upsets': 8, 'guide': 8, 'module': 8, 'pragmatic': 8, 'achievable': 8, 'vacation': 8, 'unprompted': 8, 'miguel': 8, 'demoing': 8, 'monthly': 8, 'attack': 8, 'sso': 9, 'terri': 9, 'authentic': 9, 'accountability': 9, 'tester': 9, 'testers': 9, 'terrible': 9, 'shine': 9, 'tyler': 9, 'web': 9, 'alarm': 9, 'updating': 9, 'storm': 9, 'zone': 9, 'uncertainty': 9, 'auditors': 9, 'severity': 9, 'sheltering': 9, 'weapon': 9, 'authorized': 9, 'yes': 9, 'truthfully': 9, 'selves': 9, 'appear': 9, 'workday': 9, 'absence': 9, 'version': 9, 'rockstar': 9, 'applauding': 9, 'worth': 9, 'atp': 9, 'standing': 9, 'accidents': 9, 'suggested': 9, 'ambassadors': 9, '15': 9, 'yearly': 9, 'arrival': 9, 'usable': 9, 'swat': 9, 'backend': 9, 'assisted': 9, 'answers': 9, 'structure': 9, 'approval': 9, 'allot': 9, 'weeds': 9, 'aidan': 9, 'sanofi': 9, 'ecommerce': 9, 'logons': 9, 'fit': 9, 'engineers': 9, 'hoses': 9, 'relax': 9, 'hose': 9, 'hear': 9, 'looping': 9, 'provides': 9, 'provision': 9, 'master': 9, 'determined': 9, 'reinforcing': 9, 'hearing': 9, 'interaction': 9, 'jose': 9, 'hotel': 9, 'opening': 9, 'onto': 9, 'general': 9, 'beside': 9, 'hat': 9, 'medical': 9, 'remit': 9, 'certification': 9, 'coding': 9, 'jeff': 9, 'psychologically': 9, 'properly': 9, 'center': 9, 'remediating': 9, 'remarkable': 9, 'proprietary': 9, 'books': 9, 'collaborated': 9, 'firewall': 9, 'header': 9, 'geoff': 9, 'contained': 9, 'reflection': 9, 'instances': 9, 'frequently': 9, 'forget': 9, 'kim': 9, 'heritage': 9, 'error': 9, 'panel': 9, 'mailed': 9, 'quiz': 9, 'park': 9, 'formally': 9, 'passed': 9, 'rain': 9, 'contract': 9, 'rapid': 9, 'kinds': 9, 'katya': 9, 'friend': 9, 'pay': 9, 'ordinating': 9, 'pulse': 9, 'reflect': 9, 'permissions': 9, 'csm': 9, 'reduces': 9, 'capacity': 9, 'known': 9, 'crazy': 9, 'qa': 9, 'recommending': 9, 'controls': 9, 'blocking': 9, 'complacent': 9, 'diligently': 9, 'outline': 9, 'q4': 9, 'gertie': 9, 'history': 9, 'dynamic': 9, 'newest': 9, 'nda': 9, 'investigation': 9, 'immediate': 9, 'element': 9, 'coshh': 9, 'resiliency': 9, 'jack': 9, 'grace': 9, 'degree': 9, 'correlating': 9, 'documents': 9, 'behavior': 9, 'google': 9, 'cleaning': 9, 'isn': 9, 'grasp': 9, 'nick': 9, 'leaked': 9, 'deeply': 9, 'invested': 9, 'intervention': 9, 'field': 9, 'chasing': 9, 'dont': 9, 'inbox': 9, 'occurring': 9, 'champion': 9, 'circular': 9, 'internally': 9, 'hurricane': 9, 'guard': 9, 'comprehensive': 9, 'programs': 9, 'obstacles': 9, 'dylan': 9, 'revealed': 9, 'filed': 9, 'extend': 9, 'clinics': 9, 'morgan': 9, 'michael': 9, 'immensely': 9, 'productivity': 9, 'pretty': 9, 'method': 9, 'custom': 10, 'surprise': 10, 'warmest': 10, 'letting': 10, 'cs': 10, 'turnover': 10, 'six': 10, 'scale': 10, '8020': 10, 'raise': 10, 'teaching': 10, 'scan': 10, 'eyed': 10, 'servers': 10, 'khazzan': 10, 'facilitated': 10, '3rd': 10, 'adopt': 10, 'infamous': 10, 'arrive': 10, 'adam': 10, 'adapt': 10, 'principals': 10, 'independent': 10, '2024': 10, 'serve': 10, 'buildings': 10, 'confidential': 10, 'warning': 10, 'linkedin': 10, 'protects': 10, 'aspect': 10, 'kudos': 10, 'plots': 10, 'termination': 10, 'pleased': 10, 'except': 10, 'looks': 10, 'physiological': 10, 'travelling': 10, 'expanding': 10, 'loaded': 10, 'logic': 10, 'locking': 10, 'bridge': 10, 'assembly': 10, 'assess': 10, 'producing': 10, 'faults': 10, 'hub': 10, 'woes': 10, 'eventually': 10, 'adherence': 10, 'increased': 10, 'includes': 10, 'cons': 10, 'suspicious': 10, 'weekly': 10, 'candor': 10, 'hundreds': 10, 'contacted': 10, 'lights': 10, 'sustainable': 10, 'august': 10, 'limit': 10, 'sender': 10, 'conducted': 10, 'busiest': 10, 'pf': 10, 'signature': 10, 'peek': 10, 'applaud': 10, 'ignore': 10, 'upholding': 10, 'mistakes': 10, 'december': 10, 'analyses': 10, 'oral': 10, 'solve': 10, 'devices': 10, 'happening': 10, 'enjoyable': 10, 'josh': 10, 'spreading': 10, '1st': 10, 'collision': 10, 'july': 10, 'navigate': 10, 'dealing': 10, 'wouldn': 10, 'empathy': 10, 'enabling': 10, 'jira': 10, 'governance': 10, 'collaborate': 10, 'headquarters': 10, 'respectful': 10, 'agile': 10, 'jessica': 10, 'respond': 10, 'openness': 10, 'correctly': 10, 'unsafe': 10, 'relief': 10, 'relevant': 10, 'remove': 10, 'coordinate': 10, 'elements': 10, 'janine': 10, 'demand': 10, 'abha': 10, 'drives': 10, 'narrative': 10, 'standby': 10, 'hesitation': 10, 'framingham': 10, 'pair': 10, 'carrying': 10, 'pangbourne': 10, 'panic': 10, 'harassment': 10, 'paperwork': 10, '000': 10, 'hiding': 10, 'rigidity': 10, 'participate': 10, 'inoperable': 10, 'slight': 10, 'embrace': 10, 'jump': 10, 'define': 10, 'minds': 10, 'documentation': 10, 'numbers': 10, 'insulation': 10, 'organized': 10, 'toward': 10, 'red': 10, 'held': 10, 'volume': 10, 'moved': 10, 'units': 10, 'ourselves': 10, 'santa': 10, 'didnt': 10, 'suggestions': 10, 'actioning': 10, 'bms': 10, 'grzeg': 10, 'cpf': 10, 'usage': 11, 'checks': 11, 'annual': 11, 'danger': 11, 'spotted': 11, 'hires': 11, '4am': 11, 'learnings': 11, 'state': 11, 'motivation': 11, 'currently': 11, 'faced': 11, 'christine': 11, 'accessibility': 11, 'mode': 11, 'facing': 11, 'alert': 11, 'miss': 11, 'alex': 11, 'handle': 11, 'accenture': 11, 'light': 11, 'minor': 11, 'nearly': 11, 'virtual': 11, 'tackle': 11, 'loss': 11, 'submit': 11, 'subsequent': 11, 'typically': 11, 'flooring': 11, 'mary': 11, 'honestly': 11, 'performing': 11, 'performed': 11, 'caught': 11, 'friends': 11, 'owners': 11, 'mad': 11, 'patiently': 11, 'pack': 11, 'ad': 11, 'patches': 11, 'hierarchy': 11, 'walking': 11, 'heard': 11, 'shines': 11, 'subject': 11, 'visit': 11, 'split': 11, 'novel': 11, 'addresses': 11, 'load': 11, 'verification': 11, 'stride': 11, 'specialist': 11, 'unusual': 11, 'locked': 11, 'oleg': 11, 'oms': 11, 'finished': 11, 'pictures': 11, 'digital': 11, 'opens': 11, 'hosted': 11, 'style': 11, 'phased': 11, 'collaborative': 11, 'gathering': 11, 'owner': 11, 'conditions': 11, 'wider': 11, 'tier': 11, 'easily': 11, 'resources': 11, 'quarter': 11, 'revenue': 11, 'senior': 11, 'encouraged': 11, 'easier': 11, 'prevented': 11, 'yours': 11, 'reminder': 11, 'removal': 11, 'promote': 11, 'seeking': 11, 'responded': 11, 'roles': 11, 'responses': 11, 'double': 11, 'errors': 11, 'responsibility': 11, 'repeat': 11, 'january': 11, 'donna': 11, 'word': 11, 'ball': 11, 'continues': 11, 'csms': 11, 'probably': 11, 'resource': 11, 'context': 11, '23': 11, 'alberto': 11, 'craft': 11, 'engage': 11, 'crafty': 11, 'exactly': 11, 'psv': 11, 'dropped': 11, 'teammates': 11, 'wrong': 11, 'breon': 11, '24': 11, 'involving': 11, 'reinforces': 11, 'integrated': 11, 'brenda': 11, 'endpoints': 11, 'enhancing': 11, 'batch': 11, 'samples': 11, 'embracing': 11, 'joy': 11, 'topic': 11, 'audience': 11, 'messages': 12, 'protocols': 12, 'brainstorming': 12, 'holidays': 12, 'agenda': 12, 'almost': 12, 'payment': 12, 'hopefully': 12, 'peoples': 12, 'strength': 12, 'topics': 12, 'mid': 12, 'authenticate': 12, 'simply': 12, 'department': 12, 'flow': 12, 'loop': 12, 'breaches': 12, 'requested': 12, 'clearly': 12, 'tight': 12, 'caring': 12, 'overcome': 12, 'desire': 12, 'ye': 12, 'controlled': 12, 'enda': 12, 'hello': 12, 'online': 12, 'ge': 12, 'orlagh': 12, 'subtle': 12, 'subsequently': 12, 'thrive': 12, 'gaa': 12, 'jll': 12, 'engine': 12, 'gaps': 12, '18': 12, 'manual': 12, 'query': 12, 'genuine': 12, 'committed': 12, 'path': 12, 'scanned': 12, 'influence': 12, 'transformation': 12, 'raising': 12, 'transactions': 12, 'highest': 12, 'train': 12, 'traffic': 12, 'reactive': 12, '12c': 12, 'carry': 12, 'megan': 12, 'equity': 12, 'inspire': 12, 'smell': 12, 'inspired': 12, 'reasons': 12, 'terra': 12, 'abel': 12, 'wide': 12, 'connect': 12, 'answer': 12, 'pipeline': 12, 'chin': 12, 'attended': 12, 'impacts': 12, 'language': 12, 'ldar': 12, 'eagle': 12, 'mission': 12, 'literally': 12, 'chirag1': 12, 'limited': 12, 'christopher': 12, 'hx': 12, 'mohd': 12, 'included': 12, 'news': 12, 'experiencing': 12, 'listening': 12, 'steve': 12, 'physical': 12, 'air': 12, 'imagination': 12, 'features': 12, 'dog': 12, 'feat': 12, 'leaver': 12, 'resolved': 12, 'conducting': 12, 'plus': 12, 'ricky': 12, 'bcp': 12, 'templates': 12, 'associated': 12, 'responsiveness': 12, 'reminded': 13, 'reassuring': 13, 'terms': 13, 'comms': 13, 'ease': 13, 'spark': 13, 'communicated': 13, 'isolated': 13, 'beavering': 13, 'crew': 13, 'points': 13, 'lisa': 13, 'faster': 13, 'paid': 13, 'outcome': 13, 'ably': 13, 'ignite': 13, 'relationships': 13, 'extraordinary': 13, 'ops': 13, 'involvement': 13, 'defense': 13, 'defibrillation': 13, 'crafted': 13, 'jobs': 13, 'lee': 13, 'principle': 13, 'printers': 13, 'preprod': 13, 'lessons': 13, 'facility': 13, 'reducing': 13, 'covered': 13, 'marshalls': 13, 'sorting': 13, 'organizing': 13, 'remain': 13, 'leverage': 13, 'function': 13, 'iso27001': 13, 'offering': 13, 'recognised': 13, 'cold': 13, 'unit': 13, 'creative': 13, 'drill': 13, 'swift': 13, 'guarded': 13, 'covid19': 13, 'pivoting': 13, 'azeri': 13, 'globally': 13, 'watch': 13, 'earlier': 13, 'cpr': 13, 'discussed': 13, 'requirement': 13, 'assessments': 13, 'plant': 13, 'authentication': 13, 'metrics': 13, 'yong': 13, 'apparent': 13, 'planned': 13, 'complaint': 13, 'women': 13, 'upped': 13, 'asks': 13, 'prototype': 13, 'none': 13, 'flagging': 13, 'logs': 13, 'switches': 13, 'belarus': 13, 'goal': 13, 'exciting': 13, 'seamless': 13, 'chat': 13, 'seal': 13, 'minimize': 13, 'apart': 13, 'picture': 13, 'aimee': 13, 'programme': 13, 'replacement': 13, 'aiders': 13, 'unable': 13, 'individuals': 13, 'wardens': 13, 'chance': 13, 'specifically': 13, 'scare': 13, 'jani': 13, 'assigned': 13, 'concerned': 13, 'specific': 13, 'merck': 13, 'responsive': 13, 'brand': 13, 'anxiety': 13, 'hire': 13, 'walked': 13, 'listen': 13, 'validation': 13, 'stick': 13, 'alignment': 13, 'navigating': 14, 'via': 14, 'mentor': 14, 'zero': 14, 'spotting': 14, 'mentorship': 14, 'tool': 14, 'mention': 14, 'deliverables': 14, 'onboard': 14, 'verifying': 14, 'designed': 14, 'corrected': 14, 'belonging': 14, 'cost': 14, 'remember': 14, 'ground': 14, 'dei': 14, 'jess': 14, 'definitely': 14, 'remained': 14, 'christmas': 14, 'emoji': 14, 'routine': 14, 'russia': 14, 'growing': 14, 'demonstration': 14, 'offer': 14, 'contributing': 14, 'material': 14, 'log': 14, 'execute': 14, 'constantly': 14, 'firm': 14, 'completion': 14, 'tert': 14, 'evening': 14, 'sincere': 14, 'pipelines': 14, 'honest': 14, 'per': 14, 'dashboards': 14, 'card': 14, 'scheduled': 14, 'ether': 14, 'form': 14, 'infected': 14, 'hit': 14, 'lovely': 14, 'turns': 14, 'weekends': 14, 'executive': 14, 'attempt': 14, 'cutover': 14, 'facilitating': 14, 'fact': 14, 'consider': 14, 'attending': 14, 'road': 14, 'diverse': 14, 'talent': 14, 'post': 14, 'fate': 14, 'buttons': 14, 'butyl': 14, 'consistent': 14, 'tenacity': 14, 'expectations': 14, 'expect': 14, 'concept': 14, 'winning': 14, 'maintained': 14, 'highlight': 14, 'pump': 14, 'oracle': 14, 'instruction': 14, 'marisa': 14, 'worried': 14, 'oversight': 14, 'amy': 14, 'software': 14, 'unfortunately': 14, 'receive': 14, 'inspiring': 14, 'malware': 14, 'solving': 14, 'cases': 14, 'smart': 14, 'helpdesk': 14, 'keeps': 14, 'workshop': 14, 'inspection': 14, 'expecting': 15, 'sets': 15, 'intro': 15, 'pod': 15, 'fellow': 15, 'leaving': 15, 'avoid': 15, 'visibility': 15, 'marketing': 15, 'hr': 15, 'educate': 15, 'newbie': 15, 'im': 15, 'guided': 15, 'ups': 15, 'executing': 15, 'components': 15, 'hsse': 15, 'habits': 15, 'whilst': 15, 'robyn': 15, 'enhancement': 15, 'target': 15, 'precise': 15, 'relaxed': 15, 'trip': 15, 'leads': 15, 'acknowledge': 15, 'bigrocksbigresults': 15, 'laura': 15, 'conference': 15, 'deep': 15, 'explain': 15, 'catching': 15, 'delight': 15, 'name': 15, 'heart': 15, 'monday': 15, 'model': 15, 'anti': 15, 'works': 15, 'attend': 15, 'louise': 15, 'milestone': 15, 'testament': 15, 'ultimately': 15, 'verify': 15, 'old': 15, 'executed': 15, 'perfect': 15, 'mean': 15, 'vendor': 15, 'branding': 15, 'rules': 15, 'hardware': 15, 'increasing': 15, 'stress': 15, 'database': 15, 'holiday': 15, 'payments': 15, 'jillian': 15, 'sustainability': 15, 'pulling': 15, 'ing': 15, 'resolving': 15, 'weather': 15, 'resilience': 15, 'handled': 15, '22': 15, 'automation': 15, 'shows': 15, 'looked': 15, 'flag': 15, 'flat': 15, 'unturned': 15, 'sara': 15, 'particular': 15, 'themselves': 15, 'creativity': 15, 'store': 15, 'highlighted': 16, 'kick': 16, 'dates': 16, 'achieving': 16, 'circumstances': 16, 'collapsed': 16, 'timelines': 16, 'stop': 16, 'tricky': 16, 'interests': 16, 'commend': 16, 'items': 16, 'lately': 16, 'thorough': 16, 'cleared': 16, 'cisco': 16, 'tower': 16, 'tell': 16, 'interest': 16, 'considerate': 16, 'threat': 16, 'low': 16, 'tech': 16, 'study': 16, 'collab': 16, 'affected': 16, 'west': 16, 'sarah': 16, 'operate': 16, 'printed': 16, 'primary': 16, 'regularly': 16, 'followed': 16, 'enormous': 16, 'posting': 16, 'esco': 16, 'cause': 16, 'ship': 16, 'everyday': 16, 'spoke': 16, 'asap': 16, 'posts': 16, 'wow': 16, '10': 16, 'ears': 16, 'engaged': 16, 'appreciative': 16, 'realize': 16, 'smile': 16, 'peer': 16, 'effectively': 16, 'felt': 16, 'feels': 16, 'vigilant': 16, 'certificates': 16, 'affect': 16, 'feature': 16, 'vms': 16, 'must': 16, 'called': 16, 'voice': 16, 'experienced': 16, 'forms': 16, 'fainted': 16, 'dr': 16, 'sent': 16, 'pro': 16, 'stack': 16, 'deliveries': 16, 'assessment': 16, 'bar': 17, 'emails': 17, 'comments': 17, 'deployed': 17, 'occasions': 17, 'gets': 17, 'tsa': 17, 'commendable': 17, 'addressing': 17, 'ray': 17, 'volumes': 17, 'phone': 17, 'recognizing': 17, 'equipment': 17, 'thankful': 17, 'raised': 17, 'fitted': 17, 'innovative': 17, 'often': 17, 'achieved': 17, 'offsite': 17, 'offices': 17, 'added': 17, 'campaign': 17, 'type': 17, 'ethic': 17, 'extended': 17, 'reviews': 17, 'amanda': 17, 'pen': 17, 'stage': 17, 'term': 17, 'delighted': 17, 'extensive': 17, 'ms': 17, 'considering': 17, 'reception': 17, 'starting': 17, 'prod': 17, 'orders': 17, 'todays': 17, 'recognized': 17, 'cards': 17, 'scene': 17, 'saving': 17, 'previous': 17, 'alerts': 17, 'bigger': 17, 'regular': 17, 'responsibilities': 17, 'hesitate': 17, 'david': 17, 'availability': 17, 'return': 17, 'signs': 17, 'pick': 17, 'noted': 17, 'wasn': 17, 'spread': 17, 'mindset': 17, 'stories': 17, 'files': 17, 'types': 17, 'hosting': 17, 'salesforce': 18, 'integrity': 18, 'environments': 18, 'cardinal': 18, 'epicor': 18, 'block': 18, 'partnering': 18, 'walk': 18, 'thoughtful': 18, '20': 18, 'instrumental': 18, 'lost': 18, 'w2': 18, 'fraudulent': 18, 'significantly': 18, 'board': 18, 'three': 18, 'regardless': 18, 'integration': 18, 'market': 18, 'reaching': 18, 'figuring': 18, 'pw': 18, 'obvious': 18, 'stressful': 18, 'mitigation': 18, 'shape': 18, 'queries': 18, 'bugs': 18, 'finance': 18, 'mitigate': 18, 'pre': 18, 'stream': 18, 'migration': 18, 'congrats': 18, 'delivery': 18, 'bravo': 18, 'mile': 18, 'nice': 18, 'sprint': 18, 'break': 18, 'effective': 18, 'resolution': 18, 'checklist': 18, 'celebrate': 18, 'backlog': 18, 'bad': 18, 'develop': 18, 'mental': 18, '27001': 18, 'applying': 18, 'shipping': 18, 'badges': 18, 'continuously': 18, 'benefit': 18, 'enabled': 18, 'final': 18, 'coaching': 18, 'hugely': 18, 'speak': 18, 'jason': 18, 'seriously': 19, 'constant': 19, 'existing': 19, 'products': 19, 'does': 19, 'serious': 19, 'auditor': 19, 'escalating': 19, 'completely': 19, 'presenting': 19, 'breach': 19, 'whenever': 19, 'prep': 19, 'increase': 19, 'tracking': 19, 'ppe': 19, '2020': 19, 'alone': 19, 'initial': 19, 'living': 19, 'turning': 19, 'eyes': 19, 'careful': 19, 'large': 19, 'meant': 19, 'afternoon': 19, 'dave': 19, 'solid': 19, 'db': 19, 'closed': 19, 'ago': 19, '12': 19, 'reported': 19, 'joining': 19, 'achievement': 19, 'jamie': 19, 'benefits': 19, 'john': 19, 'means': 19, 'ones': 19, 'story': 19, 'minimal': 19, 'splunk': 19, 'org': 19, 'actually': 19, 'supplier': 19, 'thoroughness': 19, 'fostering': 19, 'arranging': 19, 'skill': 19, 'nature': 19, 'courage': 19, 'highlighting': 19, 'basis': 19, 'assisting': 20, 'boston': 20, 'player': 20, 'accomplished': 20, 'workload': 20, 'colleague': 20, 'iq': 20, 'door': 20, 'repair': 20, 'patients': 20, 'efficiency': 20, 'valued': 20, 'built': 20, 'count': 20, 'tools': 20, 'noticed': 20, 'upgrades': 20, 'notice': 20, 'wish': 20, 'mike': 20, 'second': 20, 'inclusive': 20, 'travel': 20, 'impacted': 20, 'roll': 20, 'automated': 20, 'closely': 20, 'diligence': 20, 'though': 20, 'vulnerable': 20, 'reduce': 20, 'although': 20, 'perspective': 20, 'logistics': 20, 'arranged': 20, 'received': 20, 'reached': 20, 'patching': 20, 'lucky': 20, 'party': 20, 'comfort': 20, 'water': 21, 'fixing': 21, 'vendors': 21, 'status': 21, 'confirm': 21, 'responsible': 21, 'guiding': 21, 'peter': 21, 'preparations': 21, 'decisions': 21, 'ibm': 21, 'preparing': 21, 'near': 21, 'identify': 21, 'demonstrating': 21, 'exposure': 21, 'improving': 21, 'loved': 21, 'personally': 21, 'box': 21, 'demo': 21, 'track': 21, 'contact': 21, 'particularly': 21, 'net': 21, 'add': 21, 'covid': 21, 'local': 21, 'functionality': 21, 'addressed': 21, 'rely': 21, 'logging': 21, 'gap': 21, 'engineering': 21, 'reason': 21, 'soon': 21, 'ran': 21, 'balance': 21, 'power': 21, 'unnoticed': 22, 'simple': 22, 'martin': 22, 'newly': 22, 'stayed': 22, 'requirements': 22, 'priority': 22, 'pride': 22, 'anything': 22, 'outside': 22, 'll': 22, 'feeling': 22, 'lab': 22, 'dedicated': 22, 'include': 22, 'steering': 22, 'self': 22, 'brilliant': 22, 'arrived': 22, 'mask': 22, 'kevin': 22, 'healthy': 22, 'proactively': 22, 'prevent': 22, 'abuse': 22, 'gives': 22, 'ben': 22, 'asking': 22, 'phase': 22, 'trust': 22, 'numerous': 22, 'friendly': 22, 'hazard': 22, 'upcoming': 22, 'flexibility': 22, 'longer': 22, 'cybersecurity': 22, '50': 22, 'keen': 22, 'organising': 22, 'aligned': 22, 'bsi': 22, 'connected': 22, 'frame': 22, 'ok': 22, 'writing': 22, 'enthusiasm': 22, 'sheets': 22, 'background': 23, 'encouraging': 23, 'insight': 23, 'corner': 23, 'rigorous': 23, 'awesome': 23, 'itself': 23, 'environmental': 23, 'jim': 23, 'protecting': 23, 'push': 23, 'aware': 23, 'injuries': 23, 'used': 23, 'shared': 23, 'desk': 23, 'trying': 23, 'central': 23, 'head': 23, 'hazardous': 23, 'unwavering': 23, 'cloud': 23, 'shane': 23, 'assets': 23, 'changing': 23, 'discuss': 23, 'bug': 23, 'absolutely': 23, 'less': 23, 'findings': 23, 'strategic': 23, 'privilege': 23, 'impressive': 23, 'presented': 23, 'groups': 23, 'moments': 23, 'participation': 23, 'priorities': 23, 'supply': 23, 'document': 23, 'anyone': 23, 'ukraine': 23, 'frank': 23, 'unique': 24, '19': 24, 'friday': 24, 'ulad': 24, 'manage': 24, 'advice': 24, 'dig': 24, 'smoothest': 24, 'tough': 24, 'sales': 24, 'hour': 24, 'de': 24, 'contribute': 24, 'smoothly': 24, 'colm': 24, 'patched': 24, 'upon': 24, 'answering': 24, 'ladies': 24, 'talking': 24, 'half': 24, 'chain': 24, 'kindness': 24, 'rock': 24, 'setup': 24, 'responding': 24, 'scope': 24, 'channel': 24, 'hadn': 24, 'class': 25, 'analysis': 25, 'supportive': 25, 'situations': 25, 'urgent': 25, 'modern': 25, 'happened': 25, 'sometimes': 25, 'threats': 25, 'vulnerabilities': 25, 'regarding': 25, 'else': 25, 'epam': 25, 'catch': 25, 'gennady': 25, 'detailed': 25, 'free': 25, 'machine': 25, 'win': 25, 'diversity': 25, 'individual': 25, 'wh': 25, 'confident': 25, 'bp': 25, 'continuing': 25, 'words': 25, 'levels': 25, 'pushing': 25, 'position': 25, 'queue': 25, 'idea': 25, 'turned': 25, 'file': 25, 'reach': 25, 'piece': 25, 'policies': 25, 'direction': 25, 'examples': 25, 'floor': 25, 'discipline': 25, 'proactive': 25, 'allows': 25, 'covers': 26, 'ticket': 26, 'escalations': 26, 'appreciation': 26, 'operating': 26, 'complex': 26, 'met': 26, 'family': 26, 'applications': 26, 'barrier': 26, 'message': 26, 'procedures': 26, 'least': 26, 'relationship': 26, 'view': 26, 'policy': 26, 'room': 26, 'tested': 26, 'brought': 26, 'participating': 26, 'goals': 26, 'pull': 26, 'demonstrate': 26, 'hey': 26, 'calls': 26, 'statement': 27, 'deserved': 27, 'leaders': 27, 'based': 27, 'pushed': 27, 'deploy': 27, 'why': 27, 'goes': 27, 'knowing': 27, 'instead': 27, 'certs': 27, 'hitting': 27, 'seeing': 27, 'phishing': 27, 'contributed': 27, 'adding': 27, 'ownership': 27, 'insights': 27, 'play': 27, 'list': 27, 'social': 27, 'fun': 27, 'comfortable': 27, 'further': 27, 'fast': 27, 'internal': 27, 'scenes': 27, 'food': 27, 'caused': 27, 'hazards': 27, 'act': 28, 'incidents': 28, 'following': 28, 'gift': 28, 'incident': 28, 'far': 28, 'determination': 28, 'finally': 28, 'discussions': 28, 'turnaround': 28, 'enable': 28, 'vital': 28, 'eric': 28, 'highly': 28, 'talk': 28, 'practice': 28, 'pressure': 28, 'special': 28, 'kind': 28, 'brian': 28, 'said': 28, 'spent': 28, 'knows': 28, 'outcomes': 28, 'liza': 28, 'audits': 28, 'overdue': 28, 'continuity': 28, 'processing': 28, 'professionalism': 28, 'aspects': 28, 'matter': 29, 'excited': 29, 'adp': 29, 'created': 29, 'forefront': 29, 'legal': 29, 'assist': 29, 'user': 29, 'join': 29, 'staying': 29, 'exceptional': 29, 'materials': 29, 'region': 29, 'implemented': 29, 'investigate': 29, 'welcome': 29, 'component': 29, 'transition': 29, 'updated': 29, 'stuck': 29, 'ongoing': 29, 'michelle': 29, 'decision': 29, 'email': 29, 'maintenance': 29, 'remaining': 29, 'despite': 30, 'sessions': 30, 'initiatives': 30, 'identifying': 30, 'stakeholders': 30, 'urgency': 30, 'monitoring': 30, 'directly': 30, 'learned': 30, 'smooth': 30, 'minutes': 30, 'gave': 30, 'finish': 30, 'technology': 30, 'survey': 30, 'late': 30, 'shift': 30, 'chris': 30, 'preparation': 30, 'shout': 30, 'seen': 30, 'admin': 30, 'regards': 30, 'conversation': 30, 'speaking': 30, 'values': 30, 'confidence': 30, 'video': 30, 'yet': 30, 'removing': 30, 'couldn': 30, 'however': 30, 'absolute': 30, 'maintain': 31, 'vision': 31, 'cross': 31, 'strategy': 31, 'normal': 31, 'appropriate': 31, 'schedule': 31, 'ensures': 31, 'energy': 31, 'external': 31, 'consistently': 31, 'career': 31, 'foundation': 31, 'checkout': 31, 'informed': 31, 'developing': 31, 'calm': 32, 'potentially': 32, 'certainly': 32, 'jumped': 32, 'trained': 32, 'efficient': 32, 'leak': 32, 'services': 32, 'human': 32, 'cover': 32, 'continuous': 32, 'stepping': 32, 'yvonne': 32, 'towards': 32, '2021': 32, 'build': 32, 'single': 33, 'massive': 33, 'showing': 33, 'passion': 33, 'importance': 33, 'difference': 33, 'checking': 33, 'communicating': 33, 'member': 33, 'believe': 33, 'ahead': 33, 'ever': 33, 'express': 33, 'q3': 33, 'question': 33, 'extremely': 33, 'closing': 33, 'collaborating': 33, 'face': 33, 'essential': 33, 'stay': 33, 'couple': 33, 'speed': 33, 'necessary': 33, 'weekend': 33, 'supported': 33, 'deployment': 34, 'damage': 34, 'current': 34, 'details': 34, 'gone': 34, 'problems': 34, 'melissa': 34, 'activities': 34, 'suppliers': 34, 'main': 34, 'invaluable': 34, 'turn': 34, 'robust': 34, 'knew': 34, 'whether': 34, 'clear': 34, 'plans': 34, 'reports': 35, 'read': 35, 'tickets': 35, 'safer': 35, 'communication': 35, 'straight': 35, 'partners': 35, 'deal': 35, 'dublin': 35, 'prepared': 35, 'prepare': 35, 'super': 35, 'opportunities': 35, 'standard': 35, 'nothing': 35, 'tests': 35, 'community': 35, 'machines': 35, 'accounts': 35, 'dear': 35, 'including': 36, 'makes': 36, '2023': 36, 'thing': 36, 'protected': 36, 'open': 36, 'latest': 36, 'awards': 36, 'mind': 36, 'lots': 37, 'allowing': 37, 'upgrade': 37, 'might': 37, 'mail': 37, 'achieve': 37, 'app': 37, 'implementing': 37, 'note': 37, 'result': 37, 'drive': 37, 'etc': 37, 'protection': 37, 'server': 37, 'facilities': 37, 'various': 37, 'period': 37, 'left': 37, 'assistance': 37, 'concern': 37, 'willing': 38, 'released': 38, 'enjoyed': 38, 'driving': 38, 'don': 38, 'developed': 38, 'incredibly': 38, 'operational': 38, 'asset': 38, 'minute': 38, 'behind': 38, 'standards': 38, 'perform': 38, 'slack': 39, 'covering': 39, 'order': 39, 'front': 39, 'aws': 39, 'needs': 39, 'saw': 39, 'small': 39, 'excellence': 39, 'progress': 39, 'point': 39, 'improvements': 39, 'stepped': 39, 'handling': 39, 'please': 39, 'because': 39, 'played': 39, 'co': 40, 'reporting': 40, 'rest': 40, 'someone': 40, 'happen': 40, 'shown': 40, 'too': 40, 'investigating': 40, 'dermot': 40, 'cannot': 40, 'professional': 40, 'global': 40, 'network': 41, 'users': 41, 'measures': 41, 'engagement': 41, 'delivering': 41, 'million': 41, 'patient': 41, 'become': 41, 'mark': 41, 'risks': 41, 'improvement': 41, 'communications': 41, 'wonderful': 42, 'skills': 42, 'implement': 42, 'game': 42, 'ask': 42, 'tremendous': 42, 'alerting': 42, 'request': 42, 'addition': 42, 'complete': 42, 'love': 42, 'send': 42, 'clean': 42, 'managing': 42, 'real': 43, 'course': 43, 'growth': 43, 'cheers': 43, 'core': 43, 'helps': 43, 'additional': 43, 'person': 43, 'number': 43, 'hope': 43, 'amount': 43, 'experiences': 44, 'coordinating': 44, 'joined': 44, 'using': 44, 'until': 44, 'move': 44, 'engaging': 44, 'involved': 44, 'sensitive': 44, 'liam': 45, 'steps': 45, 'against': 45, 'tasks': 45, 'completing': 45, 'globoforce': 45, 'organization': 45, 'leave': 45, 'parts': 45, 'correct': 45, 'execution': 45, 'privacy': 45, 'presentation': 45, 'impressed': 45, 'same': 45, 'reviewing': 45, 'inclusion': 45, 'code': 45, 'pleasure': 45, '2022': 46, 'happy': 46, 'check': 46, 'respect': 46, 'meetings': 46, 'major': 46, 'yesterday': 47, 'psychological': 47, 'sense': 47, 'him': 47, 'focused': 47, 'strong': 48, 'pulled': 48, 'iso': 48, 'humans': 48, 'attitude': 48, 'present': 48, 'close': 48, 'innovation': 48, 'journey': 48, 'whole': 48, 'operation': 48, 'grow': 49, 'moving': 49, 'valuable': 49, 'something': 49, 'events': 49, 'change': 49, 'start': 49, 'concerns': 49, 'importantly': 49, 'update': 49, 'comes': 49, 'helpful': 49, 'demonstrated': 50, 'immediately': 50, 'account': 50, 'ideas': 50, 'activity': 50, 'running': 50, 'timely': 50, 'overall': 50, 'quite': 50, 'organisation': 50, 'world': 51, 'patience': 51, 'updates': 51, 'let': 51, 'taken': 51, 'safely': 51, 'successfully': 51, 'managed': 51, 'allowed': 51, 'projects': 51, 'hand': 51, 'clients': 52, 'induction': 52, 'true': 52, '100': 52, 'address': 52, 'content': 52, 'recognition': 52, 'example': 52, 'delivered': 53, 'bit': 53, 'several': 53, 'given': 53, 'continued': 53, 'run': 53, 'available': 53, 'started': 53, 'discussion': 53, 'related': 54, 'bringing': 54, 'partner': 54, 'implementation': 54, 'allow': 54, 'partnership': 54, 'asked': 54, 'resolve': 54, 'completed': 54, 'actions': 54, 'ways': 54, 'detail': 54, 'guidance': 54, 'little': 54, 'launch': 55, 'entire': 55, 'workplace': 55, 'requests': 55, 'live': 55, 'full': 55, 'two': 55, 'between': 55, 'putting': 55, 'proud': 55, 'jumping': 56, 'eye': 56, 'feel': 56, 'daily': 56, 'emergency': 56, 'performance': 56, 'night': 57, 'thought': 57, 'takes': 57, 'especially': 57, 'teamwork': 57, 'identified': 57, 'aid': 57, 'design': 58, 'remote': 58, 'giving': 58, 'problem': 58, 'willingness': 58, 'away': 59, 'creating': 59, 'myself': 59, 'areas': 59, 'manner': 59, 'give': 59, 'outstanding': 59, 'than': 59, 'follow': 59, 'since': 60, 'onsite': 60, 'ability': 60, 'morning': 60, 'results': 60, 'along': 60, 'hands': 60, 'find': 60, 'cyber': 61, 'required': 61, 'case': 61, 'should': 61, 'fully': 61, 'ready': 61, 'report': 61, 'own': 61, 'think': 61, 'short': 62, 'contributions': 62, 'recognise': 62, 'research': 62, 'employee': 62, 'show': 62, 'thinking': 62, 'solutions': 63, 'challenge': 63, 'conversations': 64, 'led': 64, 'meet': 64, 'challenging': 64, 'early': 64, 'manager': 64, 'development': 65, 'processes': 65, 'greatly': 65, 'technical': 65, 'may': 66, 'input': 66, 'planning': 66, 'setting': 66, 'life': 66, 'side': 66, 'under': 66, 'learn': 67, 'task': 67, 'participants': 67, 'kept': 67, 'busy': 68, 'service': 68, 'incredible': 68, 'once': 68, 'learning': 68, 'saturday': 68, 'site': 68, 'another': 68, 'deliver': 69, 'due': 69, 'step': 69, 'response': 69, 'didn': 70, 'multiple': 70, 'leader': 70, 'extra': 71, 'provided': 71, 'different': 71, 'behalf': 72, 'showed': 72, 'practices': 72, 'fix': 72, 'long': 72, 'date': 72, 'health': 73, 'top': 73, 'value': 73, 'congratulations': 73, 'already': 73, 'members': 73, 'vulnerability': 74, 'bring': 74, 'systems': 74, 'personal': 74, 'control': 75, 'before': 75, 'level': 75, 'platform': 75, 'significant': 76, 'future': 76, 'api': 76, 'times': 76, 'worked': 76, 'sharing': 76, 'infrastructure': 76, 'operations': 77, 'line': 77, 'group': 77, 'improve': 77, 'yourself': 78, 'gratitude': 78, 'grateful': 78, 'active': 78, 'use': 78, 'enough': 78, 'set': 78, 'compliance': 78, 'here': 79, 'production': 79, 'across': 79, 'finding': 80, 'lead': 81, 'collaboration': 81, 'fire': 81, 'still': 81, 'understand': 82, 'culture': 82, 'leading': 82, 'home': 82, 'moment': 82, 'action': 82, 'situation': 82, 'providing': 82, 'understanding': 83, 'days': 83, 'protect': 83, 'care': 84, 'successful': 84, 'approach': 84, 'staff': 84, 'role': 84, 'potential': 85, 'initiative': 85, 'program': 85, 'got': 85, 'questions': 86, 'share': 86, 'challenges': 86, 'found': 86, 'difficult': 86, 'system': 86, 'he': 87, 'recent': 88, 'coming': 89, 'hours': 89, 'feedback': 89, 'test': 89, 'years': 90, 'audit': 90, 'provide': 91, 'above': 91, 'throughout': 91, 'then': 92, 'product': 92, 'meeting': 92, 'space': 93, 'those': 93, 'colleagues': 93, 'went': 93, 'plan': 94, 'pii': 94, 'section': 94, 'create': 94, 'significance': 94, 'end': 95, 'next': 95, 'huge': 95, 'changes': 96, 'positive': 96, 'easy': 96, 'expertise': 97, 'impact': 97, 'ensured': 97, 'opportunity': 97, 'others': 98, 'having': 98, 'within': 98, 'area': 98, 'never': 98, 'risk': 99, 'excellent': 99, 'access': 100, 'solution': 100, 'need': 100, 'attention': 101, 'beyond': 102, 'his': 102, 'focus': 102, 'testing': 103, 'client': 103, 'go': 104, 'enjoy': 104, 'key': 105, 'continue': 105, 'month': 105, 'better': 108, 'review': 109, 'truly': 110, 'contribution': 110, 'come': 111, 'look': 111, 'event': 111, 'award': 112, 'recently': 112, 'management': 113, 'session': 114, 'onboarding': 114, 'possible': 114, 'information': 115, 'supporting': 115, 'spot': 116, 'high': 116, 'past': 116, 'experience': 119, 'after': 119, 'came': 119, 'maintaining': 120, 'even': 121, 'guys': 122, 'doing': 125, 'if': 127, 'going': 128, 'quality': 129, 'down': 130, 'where': 130, 'months': 131, 'office': 131, 'teams': 132, 'folks': 132, 'looking': 133, 'environment': 133, 'she': 133, 'her': 133, 'building': 133, 'critical': 133, 'commitment': 133, 'its': 134, 'awareness': 135, 'big': 135, 'posture': 136, 'lot': 138, 'customer': 138, 'fantastic': 139, 'company': 140, 'who': 140, 'success': 144, 'most': 145, 'weeks': 146, 'any': 146, 're': 147, 'release': 147, 'knowledge': 148, 'amazing': 150, 'things': 150, 'off': 153, 'am': 158, 'want': 158, 'every': 160, 'ensuring': 160, 'other': 160, 'customers': 161, 'effort': 162, 'dedication': 164, 'quickly': 164, 'no': 165, 'issues': 166, 'place': 167, 'helped': 168, 'project': 168, 'right': 169, 'today': 169, 'hi': 169, 'needed': 170, 'quick': 173, 'employees': 173, 'around': 173, 'training': 173, 'leadership': 176, 'recognize': 176, 'everyone': 179, 'getting': 179, 'now': 179, 'good': 180, 'hard': 181, 'take': 181, 'best': 182, 'took': 183, 'together': 184, 'made': 184, 'workhuman': 185, 'everything': 189, 'put': 190, 'people': 191, 'during': 194, 'without': 194, 'see': 195, 'sure': 196, 'such': 197, 'only': 197, 'issue': 201, 'back': 201, 'forward': 203, 'call': 204, 'business': 205, 'making': 206, 'few': 213, 'efforts': 220, 'helping': 221, 've': 221, 'secure': 222, 'again': 225, 'could': 228, 'about': 231, 'or': 234, 'which': 236, 'year': 236, 'keeping': 239, 'did': 241, 'way': 241, 'job': 248, 'appreciated': 249, 'infosec': 250, 'each': 255, 'make': 257, 'first': 257, 'they': 258, 'like': 260, 'able': 262, 'know': 266, 'these': 266, 'while': 274, 'will': 277, 'would': 280, 'some': 283, 'both': 284, 'their': 286, 'them': 286, 'keep': 286, 'say': 289, 'more': 291, 'there': 291, 'ensure': 293, 'into': 295, 'last': 296, 'process': 300, 'day': 310, 'really': 312, 'taking': 313, 'working': 323, 'get': 323, 'important': 324, 'can': 325, 'week': 325, 'through': 328, 'over': 333, 'data': 344, 'many': 348, 'do': 357, 'wanted': 364, 'always': 367, 'also': 374, 'what': 381, 'one': 382, 'had': 386, 'just': 388, 'part': 388, 'by': 399, 'my': 408, 'when': 409, 'how': 436, 'new': 444, 'has': 470, 'not': 481, 'done': 485, 'safe': 488, 'well': 489, 'at': 505, 'me': 507, 'safety': 507, 'support': 507, 'appreciate': 537, 'very': 538, 'be': 540, 'help': 544, 'been': 554, 'but': 561, 'being': 583, 'were': 589, 'out': 594, 'from': 614, 'much': 618, 'time': 640, 'great': 650, 'an': 743, 'up': 744, 'security': 758, 'us': 762, 'as': 912, 'so': 914, 'are': 920, 'work': 998, 'thanks': 1014, 'was': 1227, 'is': 1296, 'have': 1311, 'team': 1479, 'all': 1567, 'that': 1642, 'it': 1642, 'we': 1774, 'this': 1881, 'with': 1937, 'on': 2030, 'thank': 2090, 'our': 2207, 'your': 2674, 'in': 3307, 'of': 3791, 'for': 4816, 'you': 6149, 'to': 7929, 'and': 8461, 'the': 9310}\n"
          ]
        }
      ],
      "source": [
        "## sort the dictionary by values\n",
        "keys = list(word_freq.keys())\n",
        "values = list(word_freq.values())\n",
        "sorted_value_index = np.argsort(values)\n",
        "sorted_dict = {keys[i]: values[i] for i in sorted_value_index}\n",
        "\n",
        "\n",
        "# print the sorted dictionary\n",
        "print(sorted_dict)"
      ]
    },
    {
      "cell_type": "code",
      "execution_count": null,
      "id": "803bf45d",
      "metadata": {
        "colab": {
          "base_uri": "https://localhost:8080/",
          "height": 718
        },
        "id": "803bf45d",
        "outputId": "75b51045-5555-4f10-99a9-03e41117771a"
      },
      "outputs": [
        {
          "output_type": "display_data",
          "data": {
            "text/plain": [
              "<Figure size 1200x800 with 1 Axes>"
            ],
            "image/png": "[encoded data removed]"
          },
          "metadata": {}
        }
      ],
      "source": [
        "# plot the top 30 words\n",
        "plt.figure(figsize=(12, 8))\n",
        "plt.barh(list(sorted_dict.keys())[-30:], list(sorted_dict.values())[-30:], color='skyblue')\n",
        "plt.xlabel('Word Count')\n",
        "plt.ylabel('Word')\n",
        "plt.title('Top 30 Words')\n",
        "plt.show();"
      ]
    },
    {
      "cell_type": "markdown",
      "id": "e759adab",
      "metadata": {
        "id": "e759adab"
      },
      "source": [
        "Summary:\n",
        "* The purpose of this exercise was to show that stop words dominate the dataset.\n",
        "* It appears that the top 30 words are mostly stop words which was my hypothesis and no surprise to me (or anyone for that matter). The question is whether or not to remove the stop words now? I think it could be debated as to whether or not you should remove the stop words when building a text classification model.\n",
        "* Removing stop words as a preprocessing step is often **not advised** when using the Sentence Transformers library (as stated in the documentation). Why? The transformer-based embedding models that we are using need the full sentence context in order to create accurate embeddings (hence the reason for using them). Also, the sentence transformers library does automatically ignore the stop words by default to use the attention mechanism to focus on the important words in each sentence. Therefore, I am going to leave the stop words in."
      ]
    },
    {
      "cell_type": "markdown",
      "id": "2755d6ea",
      "metadata": {
        "id": "2755d6ea"
      },
      "source": [
        "## Clean Text\n",
        "* A function I wrote to clean the text.\n",
        "* We will then use it to clean the text."
      ]
    },
    {
      "cell_type": "code",
      "execution_count": null,
      "id": "afc18d1c",
      "metadata": {
        "id": "afc18d1c"
      },
      "outputs": [],
      "source": [
        "import re\n",
        "\n",
        "# clean text function\n",
        "def clean_text(text):\n",
        "    # lower case the text - normalize the case\n",
        "    text = text.lower()\n",
        "\n",
        "    # remove punctuation\n",
        "    text = re.sub('[!\"#$%&()*+,-./:;<=>?@[\\]^_`{|}~\\n]', ' ', text)\n",
        "\n",
        "    # replace hyphen with blank space\n",
        "    text = re.sub('-', ' ', text)\n",
        "\n",
        "    # replace double blank spaces\n",
        "    text = re.sub('  ', ' ', text)\n",
        "\n",
        "    return text"
      ]
    },
    {
      "cell_type": "code",
      "source": [
        "## head of df_upsampled\n",
        "df_upsampled.head()"
      ],
      "metadata": {
        "colab": {
          "base_uri": "https://localhost:8080/",
          "height": 206
        },
        "id": "h0gMU6XRK-7f",
        "outputId": "e6cea351-1385-46bf-90a1-3f78862cfd3c"
      },
      "id": "h0gMU6XRK-7f",
      "execution_count": null,
      "outputs": [
        {
          "output_type": "execute_result",
          "data": {
            "text/plain": [
              "                                                 text  target\n",
              "5   Omkar, Bryan and Weselina were professional to...       0\n",
              "9   Thank you, John, for keeping us running the la...       0\n",
              "11  Great job guys getting the pump pulled, repair...       0\n",
              "12  Thank you for your effort in the cleaning, rea...       0\n",
              "16  I can't thank you both enough for your efforts...       0"
            ],
            "text/html": [
              "\n",
              "  <div id=\"df-49169926-22b2-4440-87ce-8fa6f155cac5\" class=\"colab-df-container\">\n",
              "    <div>\n",
              "<style scoped>\n",
              "    .dataframe tbody tr th:only-of-type {\n",
              "        vertical-align: middle;\n",
              "    }\n",
              "\n",
              "    .dataframe tbody tr th {\n",
              "        vertical-align: top;\n",
              "    }\n",
              "\n",
              "    .dataframe thead th {\n",
              "        text-align: right;\n",
              "    }\n",
              "</style>\n",
              "<table border=\"1\" class=\"dataframe\">\n",
              "  <thead>\n",
              "    <tr style=\"text-align: right;\">\n",
              "      <th></th>\n",
              "      <th>text</th>\n",
              "      <th>target</th>\n",
              "    </tr>\n",
              "  </thead>\n",
              "  <tbody>\n",
              "    <tr>\n",
              "      <th>5</th>\n",
              "      <td>Omkar, Bryan and Weselina were professional to...</td>\n",
              "      <td>0</td>\n",
              "    </tr>\n",
              "    <tr>\n",
              "      <th>9</th>\n",
              "      <td>Thank you, John, for keeping us running the la...</td>\n",
              "      <td>0</td>\n",
              "    </tr>\n",
              "    <tr>\n",
              "      <th>11</th>\n",
              "      <td>Great job guys getting the pump pulled, repair...</td>\n",
              "      <td>0</td>\n",
              "    </tr>\n",
              "    <tr>\n",
              "      <th>12</th>\n",
              "      <td>Thank you for your effort in the cleaning, rea...</td>\n",
              "      <td>0</td>\n",
              "    </tr>\n",
              "    <tr>\n",
              "      <th>16</th>\n",
              "      <td>I can't thank you both enough for your efforts...</td>\n",
              "      <td>0</td>\n",
              "    </tr>\n",
              "  </tbody>\n",
              "</table>\n",
              "</div>\n",
              "    <div class=\"colab-df-buttons\">\n",
              "\n",
              "  <div class=\"colab-df-container\">\n",
              "    <button class=\"colab-df-convert\" onclick=\"convertToInteractive('df-49169926-22b2-4440-87ce-8fa6f155cac5')\"\n",
              "            title=\"Convert this dataframe to an interactive table.\"\n",
              "            style=\"display:none;\">\n",
              "\n",
              "  <svg xmlns=\"http://www.w3.org/2000/svg\" height=\"24px\" viewBox=\"0 -960 960 960\">\n",
              "    <path d=\"M120-120v-720h720v720H120Zm60-500h600v-160H180v160Zm220 220h160v-160H400v160Zm0 220h160v-160H400v160ZM180-400h160v-160H180v160Zm440 0h160v-160H620v160ZM180-180h160v-160H180v160Zm440 0h160v-160H620v160Z\"/>\n",
              "  </svg>\n",
              "    </button>\n",
              "\n",
              "  <style>\n",
              "    .colab-df-container {\n",
              "      display:flex;\n",
              "      gap: 12px;\n",
              "    }\n",
              "\n",
              "    .colab-df-convert {\n",
              "      background-color: #E8F0FE;\n",
              "      border: none;\n",
              "      border-radius: 50%;\n",
              "      cursor: pointer;\n",
              "      display: none;\n",
              "      fill: #1967D2;\n",
              "      height: 32px;\n",
              "      padding: 0 0 0 0;\n",
              "      width: 32px;\n",
              "    }\n",
              "\n",
              "    .colab-df-convert:hover {\n",
              "      background-color: #E2EBFA;\n",
              "      box-shadow: 0px 1px 2px rgba(60, 64, 67, 0.3), 0px 1px 3px 1px rgba(60, 64, 67, 0.15);\n",
              "      fill: #174EA6;\n",
              "    }\n",
              "\n",
              "    .colab-df-buttons div {\n",
              "      margin-bottom: 4px;\n",
              "    }\n",
              "\n",
              "    [theme=dark] .colab-df-convert {\n",
              "      background-color: #3B4455;\n",
              "      fill: #D2E3FC;\n",
              "    }\n",
              "\n",
              "    [theme=dark] .colab-df-convert:hover {\n",
              "      background-color: #434B5C;\n",
              "      box-shadow: 0px 1px 3px 1px rgba(0, 0, 0, 0.15);\n",
              "      filter: drop-shadow(0px 1px 2px rgba(0, 0, 0, 0.3));\n",
              "      fill: #FFFFFF;\n",
              "    }\n",
              "  </style>\n",
              "\n",
              "    <script>\n",
              "      const buttonEl =\n",
              "        document.querySelector('#df-49169926-22b2-4440-87ce-8fa6f155cac5 button.colab-df-convert');\n",
              "      buttonEl.style.display =\n",
              "        google.colab.kernel.accessAllowed ? 'block' : 'none';\n",
              "\n",
              "      async function convertToInteractive(key) {\n",
              "        const element = document.querySelector('#df-49169926-22b2-4440-87ce-8fa6f155cac5');\n",
              "        const dataTable =\n",
              "          await google.colab.kernel.invokeFunction('convertToInteractive',\n",
              "                                                    [key], {});\n",
              "        if (!dataTable) return;\n",
              "\n",
              "        const docLinkHtml = 'Like what you see? Visit the ' +\n",
              "          '<a target=\"_blank\" href=https://colab.research.google.com/notebooks/data_table.ipynb>data table notebook</a>'\n",
              "          + ' to learn more about interactive tables.';\n",
              "        element.innerHTML = '';\n",
              "        dataTable['output_type'] = 'display_data';\n",
              "        await google.colab.output.renderOutput(dataTable, element);\n",
              "        const docLink = document.createElement('div');\n",
              "        docLink.innerHTML = docLinkHtml;\n",
              "        element.appendChild(docLink);\n",
              "      }\n",
              "    </script>\n",
              "  </div>\n",
              "\n",
              "\n",
              "<div id=\"df-0aa5bddf-3316-4375-8444-36f80bcdcb0f\">\n",
              "  <button class=\"colab-df-quickchart\" onclick=\"quickchart('df-0aa5bddf-3316-4375-8444-36f80bcdcb0f')\"\n",
              "            title=\"Suggest charts\"\n",
              "            style=\"display:none;\">\n",
              "\n",
              "<svg xmlns=\"http://www.w3.org/2000/svg\" height=\"24px\"viewBox=\"0 0 24 24\"\n",
              "     width=\"24px\">\n",
              "    <g>\n",
              "        <path d=\"M19 3H5c-1.1 0-2 .9-2 2v14c0 1.1.9 2 2 2h14c1.1 0 2-.9 2-2V5c0-1.1-.9-2-2-2zM9 17H7v-7h2v7zm4 0h-2V7h2v10zm4 0h-2v-4h2v4z\"/>\n",
              "    </g>\n",
              "</svg>\n",
              "  </button>\n",
              "\n",
              "<style>\n",
              "  .colab-df-quickchart {\n",
              "      --bg-color: #E8F0FE;\n",
              "      --fill-color: #1967D2;\n",
              "      --hover-bg-color: #E2EBFA;\n",
              "      --hover-fill-color: #174EA6;\n",
              "      --disabled-fill-color: #AAA;\n",
              "      --disabled-bg-color: #DDD;\n",
              "  }\n",
              "\n",
              "  [theme=dark] .colab-df-quickchart {\n",
              "      --bg-color: #3B4455;\n",
              "      --fill-color: #D2E3FC;\n",
              "      --hover-bg-color: #434B5C;\n",
              "      --hover-fill-color: #FFFFFF;\n",
              "      --disabled-bg-color: #3B4455;\n",
              "      --disabled-fill-color: #666;\n",
              "  }\n",
              "\n",
              "  .colab-df-quickchart {\n",
              "    background-color: var(--bg-color);\n",
              "    border: none;\n",
              "    border-radius: 50%;\n",
              "    cursor: pointer;\n",
              "    display: none;\n",
              "    fill: var(--fill-color);\n",
              "    height: 32px;\n",
              "    padding: 0;\n",
              "    width: 32px;\n",
              "  }\n",
              "\n",
              "  .colab-df-quickchart:hover {\n",
              "    background-color: var(--hover-bg-color);\n",
              "    box-shadow: 0 1px 2px rgba(60, 64, 67, 0.3), 0 1px 3px 1px rgba(60, 64, 67, 0.15);\n",
              "    fill: var(--button-hover-fill-color);\n",
              "  }\n",
              "\n",
              "  .colab-df-quickchart-complete:disabled,\n",
              "  .colab-df-quickchart-complete:disabled:hover {\n",
              "    background-color: var(--disabled-bg-color);\n",
              "    fill: var(--disabled-fill-color);\n",
              "    box-shadow: none;\n",
              "  }\n",
              "\n",
              "  .colab-df-spinner {\n",
              "    border: 2px solid var(--fill-color);\n",
              "    border-color: transparent;\n",
              "    border-bottom-color: var(--fill-color);\n",
              "    animation:\n",
              "      spin 1s steps(1) infinite;\n",
              "  }\n",
              "\n",
              "  @keyframes spin {\n",
              "    0% {\n",
              "      border-color: transparent;\n",
              "      border-bottom-color: var(--fill-color);\n",
              "      border-left-color: var(--fill-color);\n",
              "    }\n",
              "    20% {\n",
              "      border-color: transparent;\n",
              "      border-left-color: var(--fill-color);\n",
              "      border-top-color: var(--fill-color);\n",
              "    }\n",
              "    30% {\n",
              "      border-color: transparent;\n",
              "      border-left-color: var(--fill-color);\n",
              "      border-top-color: var(--fill-color);\n",
              "      border-right-color: var(--fill-color);\n",
              "    }\n",
              "    40% {\n",
              "      border-color: transparent;\n",
              "      border-right-color: var(--fill-color);\n",
              "      border-top-color: var(--fill-color);\n",
              "    }\n",
              "    60% {\n",
              "      border-color: transparent;\n",
              "      border-right-color: var(--fill-color);\n",
              "    }\n",
              "    80% {\n",
              "      border-color: transparent;\n",
              "      border-right-color: var(--fill-color);\n",
              "      border-bottom-color: var(--fill-color);\n",
              "    }\n",
              "    90% {\n",
              "      border-color: transparent;\n",
              "      border-bottom-color: var(--fill-color);\n",
              "    }\n",
              "  }\n",
              "</style>\n",
              "\n",
              "  <script>\n",
              "    async function quickchart(key) {\n",
              "      const quickchartButtonEl =\n",
              "        document.querySelector('#' + key + ' button');\n",
              "      quickchartButtonEl.disabled = true;  // To prevent multiple clicks.\n",
              "      quickchartButtonEl.classList.add('colab-df-spinner');\n",
              "      try {\n",
              "        const charts = await google.colab.kernel.invokeFunction(\n",
              "            'suggestCharts', [key], {});\n",
              "      } catch (error) {\n",
              "        console.error('Error during call to suggestCharts:', error);\n",
              "      }\n",
              "      quickchartButtonEl.classList.remove('colab-df-spinner');\n",
              "      quickchartButtonEl.classList.add('colab-df-quickchart-complete');\n",
              "    }\n",
              "    (() => {\n",
              "      let quickchartButtonEl =\n",
              "        document.querySelector('#df-0aa5bddf-3316-4375-8444-36f80bcdcb0f button');\n",
              "      quickchartButtonEl.style.display =\n",
              "        google.colab.kernel.accessAllowed ? 'block' : 'none';\n",
              "    })();\n",
              "  </script>\n",
              "</div>\n",
              "\n",
              "    </div>\n",
              "  </div>\n"
            ],
            "application/vnd.google.colaboratory.intrinsic+json": {
              "type": "dataframe",
              "variable_name": "df_upsampled",
              "summary": "{\n  \"name\": \"df_upsampled\",\n  \"rows\": 2786,\n  \"fields\": [\n    {\n      \"column\": \"text\",\n      \"properties\": {\n        \"dtype\": \"string\",\n        \"num_unique_values\": 1638,\n        \"samples\": [\n          \"Thank you Adam for your flexibility and willingness to be the CTC for an ITL weekend 2nd shift with very little notice to cover for a CTC that couldn't make it because of a family emergency. Your help on a weekend to enable the lab to keep operating and not lose a shift is very much appreciated by your coworkers, the test team, and overall lab team. THANK YOU!\",\n          \"Hi folks , I just wanted to say thanks for taking part in the 'Spot The PII' section of the InfoSec onboarding last week and being active participants in the induction call - being able to recognize and appreciate the significance of this data is an important part of maintaining our security posture!\",\n          \"My fellow delivery leads, I want to say a big thank you for the effort you've put into preparing and delivering the Radical Candor workshop to our Engineering teams over the last few months. This is such an important initiative that can have a major impact on how we work and how we develop as individuals and as teams. Trust and psychological safety are at the core of building a world-class team. Radical candor as a framework can help us all grow by improving how we give feedback to one another. From the level of engagement in every session I could feel the energy and enthusiasm for embracing the learnings and practices of Radical Candor. The feedback from the teams has been so positive and I would like to share just a small part of it: 'I genuinely am looking at how I give feedback differently now. I now understand the importance of being honest the impact it can have.', 'I really enjoyed this course. It was very useful, interesting and fun. I learned useful things for myself and for teamwork. Thanks a lot!!!', 'The session inspired me to explore Radical candor deeper'... I really enjoyed collaborating with you on delivering the workshop and I look forward to seeing the next steps on this journey for our teams and the organisation. Thank you all!\"\n        ],\n        \"semantic_type\": \"\",\n        \"description\": \"\"\n      }\n    },\n    {\n      \"column\": \"target\",\n      \"properties\": {\n        \"dtype\": \"number\",\n        \"std\": 0,\n        \"min\": 0,\n        \"max\": 1,\n        \"num_unique_values\": 2,\n        \"samples\": [\n          1,\n          0\n        ],\n        \"semantic_type\": \"\",\n        \"description\": \"\"\n      }\n    }\n  ]\n}"
            }
          },
          "metadata": {},
          "execution_count": 28
        }
      ]
    },
    {
      "cell_type": "code",
      "source": [
        "## check df_upsampled\n",
        "df_upsampled[['text']].sample(20)"
      ],
      "metadata": {
        "colab": {
          "base_uri": "https://localhost:8080/",
          "height": 677
        },
        "id": "zvDSiWiIGDxZ",
        "outputId": "4d83e50b-bb56-4b9b-dede-b9a34dc8ecc4"
      },
      "id": "zvDSiWiIGDxZ",
      "execution_count": null,
      "outputs": [
        {
          "output_type": "execute_result",
          "data": {
            "text/plain": [
              "                                                   text\n",
              "1293  Thanks Martin with all your help to create and...\n",
              "1297  Hi folks , I just wanted to say thanks for tak...\n",
              "1011  Thanks so much for your help over the past few...\n",
              "1292  Jillian! Thanks a million for your help with w...\n",
              "619   Hi Stephanie, just wanted to drop you a quick ...\n",
              "1611  Thanks Darko for quickly remediating an issue ...\n",
              "1085  Mig - HUGE thank you for troubleshooting Seism...\n",
              "20    Liza recently joined our API team and already ...\n",
              "302   Dear Galit, This week's multi-COE visit to EII...\n",
              "467   Glenda has done an impressive job of learning ...\n",
              "1070  Dave - I’ve really enjoyed partnering with you...\n",
              "17    Sonya, thank you for your support in the Envir...\n",
              "3     Thank you for the leadership you continue to p...\n",
              "1007  Liam & Dermot just a thank you from the helpde...\n",
              "475   Recognition for being fast paced and always ma...\n",
              "765   Thank you Nancy for pitching in for NGFW when ...\n",
              "113   Good job over the past few weeks working in eq...\n",
              "1044  Thank you both for getting together to create ...\n",
              "1172  Not only do you safeguard Moodtracker by catch...\n",
              "420   Thank you Ranjith, Suhag for participating in ..."
            ],
            "text/html": [
              "\n",
              "  <div id=\"df-b1cb8a4f-f01c-4e99-aed4-2604f15be606\" class=\"colab-df-container\">\n",
              "    <div>\n",
              "<style scoped>\n",
              "    .dataframe tbody tr th:only-of-type {\n",
              "        vertical-align: middle;\n",
              "    }\n",
              "\n",
              "    .dataframe tbody tr th {\n",
              "        vertical-align: top;\n",
              "    }\n",
              "\n",
              "    .dataframe thead th {\n",
              "        text-align: right;\n",
              "    }\n",
              "</style>\n",
              "<table border=\"1\" class=\"dataframe\">\n",
              "  <thead>\n",
              "    <tr style=\"text-align: right;\">\n",
              "      <th></th>\n",
              "      <th>text</th>\n",
              "    </tr>\n",
              "  </thead>\n",
              "  <tbody>\n",
              "    <tr>\n",
              "      <th>1293</th>\n",
              "      <td>Thanks Martin with all your help to create and...</td>\n",
              "    </tr>\n",
              "    <tr>\n",
              "      <th>1297</th>\n",
              "      <td>Hi folks , I just wanted to say thanks for tak...</td>\n",
              "    </tr>\n",
              "    <tr>\n",
              "      <th>1011</th>\n",
              "      <td>Thanks so much for your help over the past few...</td>\n",
              "    </tr>\n",
              "    <tr>\n",
              "      <th>1292</th>\n",
              "      <td>Jillian! Thanks a million for your help with w...</td>\n",
              "    </tr>\n",
              "    <tr>\n",
              "      <th>619</th>\n",
              "      <td>Hi Stephanie, just wanted to drop you a quick ...</td>\n",
              "    </tr>\n",
              "    <tr>\n",
              "      <th>1611</th>\n",
              "      <td>Thanks Darko for quickly remediating an issue ...</td>\n",
              "    </tr>\n",
              "    <tr>\n",
              "      <th>1085</th>\n",
              "      <td>Mig - HUGE thank you for troubleshooting Seism...</td>\n",
              "    </tr>\n",
              "    <tr>\n",
              "      <th>20</th>\n",
              "      <td>Liza recently joined our API team and already ...</td>\n",
              "    </tr>\n",
              "    <tr>\n",
              "      <th>302</th>\n",
              "      <td>Dear Galit, This week's multi-COE visit to EII...</td>\n",
              "    </tr>\n",
              "    <tr>\n",
              "      <th>467</th>\n",
              "      <td>Glenda has done an impressive job of learning ...</td>\n",
              "    </tr>\n",
              "    <tr>\n",
              "      <th>1070</th>\n",
              "      <td>Dave - I’ve really enjoyed partnering with you...</td>\n",
              "    </tr>\n",
              "    <tr>\n",
              "      <th>17</th>\n",
              "      <td>Sonya, thank you for your support in the Envir...</td>\n",
              "    </tr>\n",
              "    <tr>\n",
              "      <th>3</th>\n",
              "      <td>Thank you for the leadership you continue to p...</td>\n",
              "    </tr>\n",
              "    <tr>\n",
              "      <th>1007</th>\n",
              "      <td>Liam &amp; Dermot just a thank you from the helpde...</td>\n",
              "    </tr>\n",
              "    <tr>\n",
              "      <th>475</th>\n",
              "      <td>Recognition for being fast paced and always ma...</td>\n",
              "    </tr>\n",
              "    <tr>\n",
              "      <th>765</th>\n",
              "      <td>Thank you Nancy for pitching in for NGFW when ...</td>\n",
              "    </tr>\n",
              "    <tr>\n",
              "      <th>113</th>\n",
              "      <td>Good job over the past few weeks working in eq...</td>\n",
              "    </tr>\n",
              "    <tr>\n",
              "      <th>1044</th>\n",
              "      <td>Thank you both for getting together to create ...</td>\n",
              "    </tr>\n",
              "    <tr>\n",
              "      <th>1172</th>\n",
              "      <td>Not only do you safeguard Moodtracker by catch...</td>\n",
              "    </tr>\n",
              "    <tr>\n",
              "      <th>420</th>\n",
              "      <td>Thank you Ranjith, Suhag for participating in ...</td>\n",
              "    </tr>\n",
              "  </tbody>\n",
              "</table>\n",
              "</div>\n",
              "    <div class=\"colab-df-buttons\">\n",
              "\n",
              "  <div class=\"colab-df-container\">\n",
              "    <button class=\"colab-df-convert\" onclick=\"convertToInteractive('df-b1cb8a4f-f01c-4e99-aed4-2604f15be606')\"\n",
              "            title=\"Convert this dataframe to an interactive table.\"\n",
              "            style=\"display:none;\">\n",
              "\n",
              "  <svg xmlns=\"http://www.w3.org/2000/svg\" height=\"24px\" viewBox=\"0 -960 960 960\">\n",
              "    <path d=\"M120-120v-720h720v720H120Zm60-500h600v-160H180v160Zm220 220h160v-160H400v160Zm0 220h160v-160H400v160ZM180-400h160v-160H180v160Zm440 0h160v-160H620v160ZM180-180h160v-160H180v160Zm440 0h160v-160H620v160Z\"/>\n",
              "  </svg>\n",
              "    </button>\n",
              "\n",
              "  <style>\n",
              "    .colab-df-container {\n",
              "      display:flex;\n",
              "      gap: 12px;\n",
              "    }\n",
              "\n",
              "    .colab-df-convert {\n",
              "      background-color: #E8F0FE;\n",
              "      border: none;\n",
              "      border-radius: 50%;\n",
              "      cursor: pointer;\n",
              "      display: none;\n",
              "      fill: #1967D2;\n",
              "      height: 32px;\n",
              "      padding: 0 0 0 0;\n",
              "      width: 32px;\n",
              "    }\n",
              "\n",
              "    .colab-df-convert:hover {\n",
              "      background-color: #E2EBFA;\n",
              "      box-shadow: 0px 1px 2px rgba(60, 64, 67, 0.3), 0px 1px 3px 1px rgba(60, 64, 67, 0.15);\n",
              "      fill: #174EA6;\n",
              "    }\n",
              "\n",
              "    .colab-df-buttons div {\n",
              "      margin-bottom: 4px;\n",
              "    }\n",
              "\n",
              "    [theme=dark] .colab-df-convert {\n",
              "      background-color: #3B4455;\n",
              "      fill: #D2E3FC;\n",
              "    }\n",
              "\n",
              "    [theme=dark] .colab-df-convert:hover {\n",
              "      background-color: #434B5C;\n",
              "      box-shadow: 0px 1px 3px 1px rgba(0, 0, 0, 0.15);\n",
              "      filter: drop-shadow(0px 1px 2px rgba(0, 0, 0, 0.3));\n",
              "      fill: #FFFFFF;\n",
              "    }\n",
              "  </style>\n",
              "\n",
              "    <script>\n",
              "      const buttonEl =\n",
              "        document.querySelector('#df-b1cb8a4f-f01c-4e99-aed4-2604f15be606 button.colab-df-convert');\n",
              "      buttonEl.style.display =\n",
              "        google.colab.kernel.accessAllowed ? 'block' : 'none';\n",
              "\n",
              "      async function convertToInteractive(key) {\n",
              "        const element = document.querySelector('#df-b1cb8a4f-f01c-4e99-aed4-2604f15be606');\n",
              "        const dataTable =\n",
              "          await google.colab.kernel.invokeFunction('convertToInteractive',\n",
              "                                                    [key], {});\n",
              "        if (!dataTable) return;\n",
              "\n",
              "        const docLinkHtml = 'Like what you see? Visit the ' +\n",
              "          '<a target=\"_blank\" href=https://colab.research.google.com/notebooks/data_table.ipynb>data table notebook</a>'\n",
              "          + ' to learn more about interactive tables.';\n",
              "        element.innerHTML = '';\n",
              "        dataTable['output_type'] = 'display_data';\n",
              "        await google.colab.output.renderOutput(dataTable, element);\n",
              "        const docLink = document.createElement('div');\n",
              "        docLink.innerHTML = docLinkHtml;\n",
              "        element.appendChild(docLink);\n",
              "      }\n",
              "    </script>\n",
              "  </div>\n",
              "\n",
              "\n",
              "<div id=\"df-9ee3cccd-835c-4029-9b62-5b885cc66b0b\">\n",
              "  <button class=\"colab-df-quickchart\" onclick=\"quickchart('df-9ee3cccd-835c-4029-9b62-5b885cc66b0b')\"\n",
              "            title=\"Suggest charts\"\n",
              "            style=\"display:none;\">\n",
              "\n",
              "<svg xmlns=\"http://www.w3.org/2000/svg\" height=\"24px\"viewBox=\"0 0 24 24\"\n",
              "     width=\"24px\">\n",
              "    <g>\n",
              "        <path d=\"M19 3H5c-1.1 0-2 .9-2 2v14c0 1.1.9 2 2 2h14c1.1 0 2-.9 2-2V5c0-1.1-.9-2-2-2zM9 17H7v-7h2v7zm4 0h-2V7h2v10zm4 0h-2v-4h2v4z\"/>\n",
              "    </g>\n",
              "</svg>\n",
              "  </button>\n",
              "\n",
              "<style>\n",
              "  .colab-df-quickchart {\n",
              "      --bg-color: #E8F0FE;\n",
              "      --fill-color: #1967D2;\n",
              "      --hover-bg-color: #E2EBFA;\n",
              "      --hover-fill-color: #174EA6;\n",
              "      --disabled-fill-color: #AAA;\n",
              "      --disabled-bg-color: #DDD;\n",
              "  }\n",
              "\n",
              "  [theme=dark] .colab-df-quickchart {\n",
              "      --bg-color: #3B4455;\n",
              "      --fill-color: #D2E3FC;\n",
              "      --hover-bg-color: #434B5C;\n",
              "      --hover-fill-color: #FFFFFF;\n",
              "      --disabled-bg-color: #3B4455;\n",
              "      --disabled-fill-color: #666;\n",
              "  }\n",
              "\n",
              "  .colab-df-quickchart {\n",
              "    background-color: var(--bg-color);\n",
              "    border: none;\n",
              "    border-radius: 50%;\n",
              "    cursor: pointer;\n",
              "    display: none;\n",
              "    fill: var(--fill-color);\n",
              "    height: 32px;\n",
              "    padding: 0;\n",
              "    width: 32px;\n",
              "  }\n",
              "\n",
              "  .colab-df-quickchart:hover {\n",
              "    background-color: var(--hover-bg-color);\n",
              "    box-shadow: 0 1px 2px rgba(60, 64, 67, 0.3), 0 1px 3px 1px rgba(60, 64, 67, 0.15);\n",
              "    fill: var(--button-hover-fill-color);\n",
              "  }\n",
              "\n",
              "  .colab-df-quickchart-complete:disabled,\n",
              "  .colab-df-quickchart-complete:disabled:hover {\n",
              "    background-color: var(--disabled-bg-color);\n",
              "    fill: var(--disabled-fill-color);\n",
              "    box-shadow: none;\n",
              "  }\n",
              "\n",
              "  .colab-df-spinner {\n",
              "    border: 2px solid var(--fill-color);\n",
              "    border-color: transparent;\n",
              "    border-bottom-color: var(--fill-color);\n",
              "    animation:\n",
              "      spin 1s steps(1) infinite;\n",
              "  }\n",
              "\n",
              "  @keyframes spin {\n",
              "    0% {\n",
              "      border-color: transparent;\n",
              "      border-bottom-color: var(--fill-color);\n",
              "      border-left-color: var(--fill-color);\n",
              "    }\n",
              "    20% {\n",
              "      border-color: transparent;\n",
              "      border-left-color: var(--fill-color);\n",
              "      border-top-color: var(--fill-color);\n",
              "    }\n",
              "    30% {\n",
              "      border-color: transparent;\n",
              "      border-left-color: var(--fill-color);\n",
              "      border-top-color: var(--fill-color);\n",
              "      border-right-color: var(--fill-color);\n",
              "    }\n",
              "    40% {\n",
              "      border-color: transparent;\n",
              "      border-right-color: var(--fill-color);\n",
              "      border-top-color: var(--fill-color);\n",
              "    }\n",
              "    60% {\n",
              "      border-color: transparent;\n",
              "      border-right-color: var(--fill-color);\n",
              "    }\n",
              "    80% {\n",
              "      border-color: transparent;\n",
              "      border-right-color: var(--fill-color);\n",
              "      border-bottom-color: var(--fill-color);\n",
              "    }\n",
              "    90% {\n",
              "      border-color: transparent;\n",
              "      border-bottom-color: var(--fill-color);\n",
              "    }\n",
              "  }\n",
              "</style>\n",
              "\n",
              "  <script>\n",
              "    async function quickchart(key) {\n",
              "      const quickchartButtonEl =\n",
              "        document.querySelector('#' + key + ' button');\n",
              "      quickchartButtonEl.disabled = true;  // To prevent multiple clicks.\n",
              "      quickchartButtonEl.classList.add('colab-df-spinner');\n",
              "      try {\n",
              "        const charts = await google.colab.kernel.invokeFunction(\n",
              "            'suggestCharts', [key], {});\n",
              "      } catch (error) {\n",
              "        console.error('Error during call to suggestCharts:', error);\n",
              "      }\n",
              "      quickchartButtonEl.classList.remove('colab-df-spinner');\n",
              "      quickchartButtonEl.classList.add('colab-df-quickchart-complete');\n",
              "    }\n",
              "    (() => {\n",
              "      let quickchartButtonEl =\n",
              "        document.querySelector('#df-9ee3cccd-835c-4029-9b62-5b885cc66b0b button');\n",
              "      quickchartButtonEl.style.display =\n",
              "        google.colab.kernel.accessAllowed ? 'block' : 'none';\n",
              "    })();\n",
              "  </script>\n",
              "</div>\n",
              "\n",
              "    </div>\n",
              "  </div>\n"
            ],
            "application/vnd.google.colaboratory.intrinsic+json": {
              "type": "dataframe",
              "summary": "{\n  \"name\": \"df_upsampled[['text']]\",\n  \"rows\": 20,\n  \"fields\": [\n    {\n      \"column\": \"text\",\n      \"properties\": {\n        \"dtype\": \"string\",\n        \"num_unique_values\": 20,\n        \"samples\": [\n          \"Thanks Martin with all your help to create and implement certificates for the Dublin and Boston firewalls. I had asked you to create templates and find certs that would disappear into the ether! These certs will allow the organisation to have a better grasp on the data leaving the premises and mitigate against any security breaches.\",\n          \"Thank you both for getting together to create and test an \\\"off-line\\\" build for our new mac books! This gives us the ability to build macs from any remote location while we are away from the office, while still keeping security and policies at the forefront. Thank you both.\",\n          \"Thank you Nancy for pitching in for NGFW when the team was short staffed specifically during weekends. Appreciate your zeal and enthusiasm to learn and grow towards ngfw cross skilling !!\"\n        ],\n        \"semantic_type\": \"\",\n        \"description\": \"\"\n      }\n    }\n  ]\n}"
            }
          },
          "metadata": {},
          "execution_count": 29
        }
      ]
    },
    {
      "cell_type": "markdown",
      "source": [
        "### Now apply the clean_text function"
      ],
      "metadata": {
        "id": "c9UB_MSCE7ku"
      },
      "id": "c9UB_MSCE7ku"
    },
    {
      "cell_type": "code",
      "source": [
        "## apply the clean_text function to the text column and createa new column\n",
        "df_upsampled['cleaned_text'] = df_upsampled['text'].apply(clean_text)\n"
      ],
      "metadata": {
        "id": "wsZyMOd1KuhY"
      },
      "id": "wsZyMOd1KuhY",
      "execution_count": null,
      "outputs": []
    },
    {
      "cell_type": "code",
      "source": [
        "## print head of df_upsampled\n",
        "df_upsampled.head()"
      ],
      "metadata": {
        "colab": {
          "base_uri": "https://localhost:8080/",
          "height": 206
        },
        "id": "Btr4qZKdLQe4",
        "outputId": "cc726d84-458c-4fc6-ca83-d897e4ab2c9c"
      },
      "id": "Btr4qZKdLQe4",
      "execution_count": null,
      "outputs": [
        {
          "output_type": "execute_result",
          "data": {
            "text/plain": [
              "                                                 text  target  \\\n",
              "5   Omkar, Bryan and Weselina were professional to...       0   \n",
              "9   Thank you, John, for keeping us running the la...       0   \n",
              "11  Great job guys getting the pump pulled, repair...       0   \n",
              "12  Thank you for your effort in the cleaning, rea...       0   \n",
              "16  I can't thank you both enough for your efforts...       0   \n",
              "\n",
              "                                         cleaned_text  \n",
              "5   omkar bryan and weselina were professional to ...  \n",
              "9   thank you john for keeping us running the last...  \n",
              "11  great job guys getting the pump pulled repaire...  \n",
              "12  thank you for your effort in the cleaning rear...  \n",
              "16  i can't thank you both enough for your efforts...  "
            ],
            "text/html": [
              "\n",
              "  <div id=\"df-099a8bab-cef5-4cc5-ad6c-9d76e928235d\" class=\"colab-df-container\">\n",
              "    <div>\n",
              "<style scoped>\n",
              "    .dataframe tbody tr th:only-of-type {\n",
              "        vertical-align: middle;\n",
              "    }\n",
              "\n",
              "    .dataframe tbody tr th {\n",
              "        vertical-align: top;\n",
              "    }\n",
              "\n",
              "    .dataframe thead th {\n",
              "        text-align: right;\n",
              "    }\n",
              "</style>\n",
              "<table border=\"1\" class=\"dataframe\">\n",
              "  <thead>\n",
              "    <tr style=\"text-align: right;\">\n",
              "      <th></th>\n",
              "      <th>text</th>\n",
              "      <th>target</th>\n",
              "      <th>cleaned_text</th>\n",
              "    </tr>\n",
              "  </thead>\n",
              "  <tbody>\n",
              "    <tr>\n",
              "      <th>5</th>\n",
              "      <td>Omkar, Bryan and Weselina were professional to...</td>\n",
              "      <td>0</td>\n",
              "      <td>omkar bryan and weselina were professional to ...</td>\n",
              "    </tr>\n",
              "    <tr>\n",
              "      <th>9</th>\n",
              "      <td>Thank you, John, for keeping us running the la...</td>\n",
              "      <td>0</td>\n",
              "      <td>thank you john for keeping us running the last...</td>\n",
              "    </tr>\n",
              "    <tr>\n",
              "      <th>11</th>\n",
              "      <td>Great job guys getting the pump pulled, repair...</td>\n",
              "      <td>0</td>\n",
              "      <td>great job guys getting the pump pulled repaire...</td>\n",
              "    </tr>\n",
              "    <tr>\n",
              "      <th>12</th>\n",
              "      <td>Thank you for your effort in the cleaning, rea...</td>\n",
              "      <td>0</td>\n",
              "      <td>thank you for your effort in the cleaning rear...</td>\n",
              "    </tr>\n",
              "    <tr>\n",
              "      <th>16</th>\n",
              "      <td>I can't thank you both enough for your efforts...</td>\n",
              "      <td>0</td>\n",
              "      <td>i can't thank you both enough for your efforts...</td>\n",
              "    </tr>\n",
              "  </tbody>\n",
              "</table>\n",
              "</div>\n",
              "    <div class=\"colab-df-buttons\">\n",
              "\n",
              "  <div class=\"colab-df-container\">\n",
              "    <button class=\"colab-df-convert\" onclick=\"convertToInteractive('df-099a8bab-cef5-4cc5-ad6c-9d76e928235d')\"\n",
              "            title=\"Convert this dataframe to an interactive table.\"\n",
              "            style=\"display:none;\">\n",
              "\n",
              "  <svg xmlns=\"http://www.w3.org/2000/svg\" height=\"24px\" viewBox=\"0 -960 960 960\">\n",
              "    <path d=\"M120-120v-720h720v720H120Zm60-500h600v-160H180v160Zm220 220h160v-160H400v160Zm0 220h160v-160H400v160ZM180-400h160v-160H180v160Zm440 0h160v-160H620v160ZM180-180h160v-160H180v160Zm440 0h160v-160H620v160Z\"/>\n",
              "  </svg>\n",
              "    </button>\n",
              "\n",
              "  <style>\n",
              "    .colab-df-container {\n",
              "      display:flex;\n",
              "      gap: 12px;\n",
              "    }\n",
              "\n",
              "    .colab-df-convert {\n",
              "      background-color: #E8F0FE;\n",
              "      border: none;\n",
              "      border-radius: 50%;\n",
              "      cursor: pointer;\n",
              "      display: none;\n",
              "      fill: #1967D2;\n",
              "      height: 32px;\n",
              "      padding: 0 0 0 0;\n",
              "      width: 32px;\n",
              "    }\n",
              "\n",
              "    .colab-df-convert:hover {\n",
              "      background-color: #E2EBFA;\n",
              "      box-shadow: 0px 1px 2px rgba(60, 64, 67, 0.3), 0px 1px 3px 1px rgba(60, 64, 67, 0.15);\n",
              "      fill: #174EA6;\n",
              "    }\n",
              "\n",
              "    .colab-df-buttons div {\n",
              "      margin-bottom: 4px;\n",
              "    }\n",
              "\n",
              "    [theme=dark] .colab-df-convert {\n",
              "      background-color: #3B4455;\n",
              "      fill: #D2E3FC;\n",
              "    }\n",
              "\n",
              "    [theme=dark] .colab-df-convert:hover {\n",
              "      background-color: #434B5C;\n",
              "      box-shadow: 0px 1px 3px 1px rgba(0, 0, 0, 0.15);\n",
              "      filter: drop-shadow(0px 1px 2px rgba(0, 0, 0, 0.3));\n",
              "      fill: #FFFFFF;\n",
              "    }\n",
              "  </style>\n",
              "\n",
              "    <script>\n",
              "      const buttonEl =\n",
              "        document.querySelector('#df-099a8bab-cef5-4cc5-ad6c-9d76e928235d button.colab-df-convert');\n",
              "      buttonEl.style.display =\n",
              "        google.colab.kernel.accessAllowed ? 'block' : 'none';\n",
              "\n",
              "      async function convertToInteractive(key) {\n",
              "        const element = document.querySelector('#df-099a8bab-cef5-4cc5-ad6c-9d76e928235d');\n",
              "        const dataTable =\n",
              "          await google.colab.kernel.invokeFunction('convertToInteractive',\n",
              "                                                    [key], {});\n",
              "        if (!dataTable) return;\n",
              "\n",
              "        const docLinkHtml = 'Like what you see? Visit the ' +\n",
              "          '<a target=\"_blank\" href=https://colab.research.google.com/notebooks/data_table.ipynb>data table notebook</a>'\n",
              "          + ' to learn more about interactive tables.';\n",
              "        element.innerHTML = '';\n",
              "        dataTable['output_type'] = 'display_data';\n",
              "        await google.colab.output.renderOutput(dataTable, element);\n",
              "        const docLink = document.createElement('div');\n",
              "        docLink.innerHTML = docLinkHtml;\n",
              "        element.appendChild(docLink);\n",
              "      }\n",
              "    </script>\n",
              "  </div>\n",
              "\n",
              "\n",
              "<div id=\"df-8302c35c-c5c9-4e8a-8008-50d0a8ca27e8\">\n",
              "  <button class=\"colab-df-quickchart\" onclick=\"quickchart('df-8302c35c-c5c9-4e8a-8008-50d0a8ca27e8')\"\n",
              "            title=\"Suggest charts\"\n",
              "            style=\"display:none;\">\n",
              "\n",
              "<svg xmlns=\"http://www.w3.org/2000/svg\" height=\"24px\"viewBox=\"0 0 24 24\"\n",
              "     width=\"24px\">\n",
              "    <g>\n",
              "        <path d=\"M19 3H5c-1.1 0-2 .9-2 2v14c0 1.1.9 2 2 2h14c1.1 0 2-.9 2-2V5c0-1.1-.9-2-2-2zM9 17H7v-7h2v7zm4 0h-2V7h2v10zm4 0h-2v-4h2v4z\"/>\n",
              "    </g>\n",
              "</svg>\n",
              "  </button>\n",
              "\n",
              "<style>\n",
              "  .colab-df-quickchart {\n",
              "      --bg-color: #E8F0FE;\n",
              "      --fill-color: #1967D2;\n",
              "      --hover-bg-color: #E2EBFA;\n",
              "      --hover-fill-color: #174EA6;\n",
              "      --disabled-fill-color: #AAA;\n",
              "      --disabled-bg-color: #DDD;\n",
              "  }\n",
              "\n",
              "  [theme=dark] .colab-df-quickchart {\n",
              "      --bg-color: #3B4455;\n",
              "      --fill-color: #D2E3FC;\n",
              "      --hover-bg-color: #434B5C;\n",
              "      --hover-fill-color: #FFFFFF;\n",
              "      --disabled-bg-color: #3B4455;\n",
              "      --disabled-fill-color: #666;\n",
              "  }\n",
              "\n",
              "  .colab-df-quickchart {\n",
              "    background-color: var(--bg-color);\n",
              "    border: none;\n",
              "    border-radius: 50%;\n",
              "    cursor: pointer;\n",
              "    display: none;\n",
              "    fill: var(--fill-color);\n",
              "    height: 32px;\n",
              "    padding: 0;\n",
              "    width: 32px;\n",
              "  }\n",
              "\n",
              "  .colab-df-quickchart:hover {\n",
              "    background-color: var(--hover-bg-color);\n",
              "    box-shadow: 0 1px 2px rgba(60, 64, 67, 0.3), 0 1px 3px 1px rgba(60, 64, 67, 0.15);\n",
              "    fill: var(--button-hover-fill-color);\n",
              "  }\n",
              "\n",
              "  .colab-df-quickchart-complete:disabled,\n",
              "  .colab-df-quickchart-complete:disabled:hover {\n",
              "    background-color: var(--disabled-bg-color);\n",
              "    fill: var(--disabled-fill-color);\n",
              "    box-shadow: none;\n",
              "  }\n",
              "\n",
              "  .colab-df-spinner {\n",
              "    border: 2px solid var(--fill-color);\n",
              "    border-color: transparent;\n",
              "    border-bottom-color: var(--fill-color);\n",
              "    animation:\n",
              "      spin 1s steps(1) infinite;\n",
              "  }\n",
              "\n",
              "  @keyframes spin {\n",
              "    0% {\n",
              "      border-color: transparent;\n",
              "      border-bottom-color: var(--fill-color);\n",
              "      border-left-color: var(--fill-color);\n",
              "    }\n",
              "    20% {\n",
              "      border-color: transparent;\n",
              "      border-left-color: var(--fill-color);\n",
              "      border-top-color: var(--fill-color);\n",
              "    }\n",
              "    30% {\n",
              "      border-color: transparent;\n",
              "      border-left-color: var(--fill-color);\n",
              "      border-top-color: var(--fill-color);\n",
              "      border-right-color: var(--fill-color);\n",
              "    }\n",
              "    40% {\n",
              "      border-color: transparent;\n",
              "      border-right-color: var(--fill-color);\n",
              "      border-top-color: var(--fill-color);\n",
              "    }\n",
              "    60% {\n",
              "      border-color: transparent;\n",
              "      border-right-color: var(--fill-color);\n",
              "    }\n",
              "    80% {\n",
              "      border-color: transparent;\n",
              "      border-right-color: var(--fill-color);\n",
              "      border-bottom-color: var(--fill-color);\n",
              "    }\n",
              "    90% {\n",
              "      border-color: transparent;\n",
              "      border-bottom-color: var(--fill-color);\n",
              "    }\n",
              "  }\n",
              "</style>\n",
              "\n",
              "  <script>\n",
              "    async function quickchart(key) {\n",
              "      const quickchartButtonEl =\n",
              "        document.querySelector('#' + key + ' button');\n",
              "      quickchartButtonEl.disabled = true;  // To prevent multiple clicks.\n",
              "      quickchartButtonEl.classList.add('colab-df-spinner');\n",
              "      try {\n",
              "        const charts = await google.colab.kernel.invokeFunction(\n",
              "            'suggestCharts', [key], {});\n",
              "      } catch (error) {\n",
              "        console.error('Error during call to suggestCharts:', error);\n",
              "      }\n",
              "      quickchartButtonEl.classList.remove('colab-df-spinner');\n",
              "      quickchartButtonEl.classList.add('colab-df-quickchart-complete');\n",
              "    }\n",
              "    (() => {\n",
              "      let quickchartButtonEl =\n",
              "        document.querySelector('#df-8302c35c-c5c9-4e8a-8008-50d0a8ca27e8 button');\n",
              "      quickchartButtonEl.style.display =\n",
              "        google.colab.kernel.accessAllowed ? 'block' : 'none';\n",
              "    })();\n",
              "  </script>\n",
              "</div>\n",
              "\n",
              "    </div>\n",
              "  </div>\n"
            ],
            "application/vnd.google.colaboratory.intrinsic+json": {
              "type": "dataframe",
              "variable_name": "df_upsampled",
              "summary": "{\n  \"name\": \"df_upsampled\",\n  \"rows\": 2786,\n  \"fields\": [\n    {\n      \"column\": \"text\",\n      \"properties\": {\n        \"dtype\": \"string\",\n        \"num_unique_values\": 1638,\n        \"samples\": [\n          \"Thank you Adam for your flexibility and willingness to be the CTC for an ITL weekend 2nd shift with very little notice to cover for a CTC that couldn't make it because of a family emergency. Your help on a weekend to enable the lab to keep operating and not lose a shift is very much appreciated by your coworkers, the test team, and overall lab team. THANK YOU!\",\n          \"Hi folks , I just wanted to say thanks for taking part in the 'Spot The PII' section of the InfoSec onboarding last week and being active participants in the induction call - being able to recognize and appreciate the significance of this data is an important part of maintaining our security posture!\",\n          \"My fellow delivery leads, I want to say a big thank you for the effort you've put into preparing and delivering the Radical Candor workshop to our Engineering teams over the last few months. This is such an important initiative that can have a major impact on how we work and how we develop as individuals and as teams. Trust and psychological safety are at the core of building a world-class team. Radical candor as a framework can help us all grow by improving how we give feedback to one another. From the level of engagement in every session I could feel the energy and enthusiasm for embracing the learnings and practices of Radical Candor. The feedback from the teams has been so positive and I would like to share just a small part of it: 'I genuinely am looking at how I give feedback differently now. I now understand the importance of being honest the impact it can have.', 'I really enjoyed this course. It was very useful, interesting and fun. I learned useful things for myself and for teamwork. Thanks a lot!!!', 'The session inspired me to explore Radical candor deeper'... I really enjoyed collaborating with you on delivering the workshop and I look forward to seeing the next steps on this journey for our teams and the organisation. Thank you all!\"\n        ],\n        \"semantic_type\": \"\",\n        \"description\": \"\"\n      }\n    },\n    {\n      \"column\": \"target\",\n      \"properties\": {\n        \"dtype\": \"number\",\n        \"std\": 0,\n        \"min\": 0,\n        \"max\": 1,\n        \"num_unique_values\": 2,\n        \"samples\": [\n          1,\n          0\n        ],\n        \"semantic_type\": \"\",\n        \"description\": \"\"\n      }\n    },\n    {\n      \"column\": \"cleaned_text\",\n      \"properties\": {\n        \"dtype\": \"string\",\n        \"num_unique_values\": 1635,\n        \"samples\": [\n          \"michael thanks a lot with the help with environment this week starting from investigation of the major release deployments failures and ending adding with jmx remote settings for web servers i think now we have much more understanding about deployment and definitely much more visibility on servers java memory monitoring \",\n          \"i'm grateful for this incredible team of cross functional colleagues that recently came together to successfully action a number of time sensitive requests for two important launches for juniper networks and their juniverse awards platform thank you for supporting the qa issues uat script and plan changes full platform scope rr yos celebrations  and urgent remediation to ensure a successful uat kickoff this week for pfizer thank you for taking on the challenges of planned unplanned jira escalations reactions to global program reach and important award activity and then working through an updated invoice process to name a few appreciate your dedication to the continued success of pfizer's bravo program as they move forward in their success journey thank you \"\n        ],\n        \"semantic_type\": \"\",\n        \"description\": \"\"\n      }\n    }\n  ]\n}"
            }
          },
          "metadata": {},
          "execution_count": 31
        }
      ]
    },
    {
      "cell_type": "markdown",
      "source": [
        "### Create a new dataframe with the cleaned_text column"
      ],
      "metadata": {
        "id": "ndoGTfpQFCVz"
      },
      "id": "ndoGTfpQFCVz"
    },
    {
      "cell_type": "code",
      "source": [
        "## create a new dataframe with the cleaned_text column\n",
        "new_df = df_upsampled[['target','cleaned_text']]\n",
        "new_df.head()"
      ],
      "metadata": {
        "colab": {
          "base_uri": "https://localhost:8080/",
          "height": 206
        },
        "id": "SZxYvcpTMibw",
        "outputId": "089cdd9d-67fa-45a8-9a6c-a9a22f30d1a7"
      },
      "id": "SZxYvcpTMibw",
      "execution_count": null,
      "outputs": [
        {
          "output_type": "execute_result",
          "data": {
            "text/plain": [
              "    target                                       cleaned_text\n",
              "5        0  omkar bryan and weselina were professional to ...\n",
              "9        0  thank you john for keeping us running the last...\n",
              "11       0  great job guys getting the pump pulled repaire...\n",
              "12       0  thank you for your effort in the cleaning rear...\n",
              "16       0  i can't thank you both enough for your efforts..."
            ],
            "text/html": [
              "\n",
              "  <div id=\"df-b7f6977a-0f46-4206-9e11-d735a5b4c6cd\" class=\"colab-df-container\">\n",
              "    <div>\n",
              "<style scoped>\n",
              "    .dataframe tbody tr th:only-of-type {\n",
              "        vertical-align: middle;\n",
              "    }\n",
              "\n",
              "    .dataframe tbody tr th {\n",
              "        vertical-align: top;\n",
              "    }\n",
              "\n",
              "    .dataframe thead th {\n",
              "        text-align: right;\n",
              "    }\n",
              "</style>\n",
              "<table border=\"1\" class=\"dataframe\">\n",
              "  <thead>\n",
              "    <tr style=\"text-align: right;\">\n",
              "      <th></th>\n",
              "      <th>target</th>\n",
              "      <th>cleaned_text</th>\n",
              "    </tr>\n",
              "  </thead>\n",
              "  <tbody>\n",
              "    <tr>\n",
              "      <th>5</th>\n",
              "      <td>0</td>\n",
              "      <td>omkar bryan and weselina were professional to ...</td>\n",
              "    </tr>\n",
              "    <tr>\n",
              "      <th>9</th>\n",
              "      <td>0</td>\n",
              "      <td>thank you john for keeping us running the last...</td>\n",
              "    </tr>\n",
              "    <tr>\n",
              "      <th>11</th>\n",
              "      <td>0</td>\n",
              "      <td>great job guys getting the pump pulled repaire...</td>\n",
              "    </tr>\n",
              "    <tr>\n",
              "      <th>12</th>\n",
              "      <td>0</td>\n",
              "      <td>thank you for your effort in the cleaning rear...</td>\n",
              "    </tr>\n",
              "    <tr>\n",
              "      <th>16</th>\n",
              "      <td>0</td>\n",
              "      <td>i can't thank you both enough for your efforts...</td>\n",
              "    </tr>\n",
              "  </tbody>\n",
              "</table>\n",
              "</div>\n",
              "    <div class=\"colab-df-buttons\">\n",
              "\n",
              "  <div class=\"colab-df-container\">\n",
              "    <button class=\"colab-df-convert\" onclick=\"convertToInteractive('df-b7f6977a-0f46-4206-9e11-d735a5b4c6cd')\"\n",
              "            title=\"Convert this dataframe to an interactive table.\"\n",
              "            style=\"display:none;\">\n",
              "\n",
              "  <svg xmlns=\"http://www.w3.org/2000/svg\" height=\"24px\" viewBox=\"0 -960 960 960\">\n",
              "    <path d=\"M120-120v-720h720v720H120Zm60-500h600v-160H180v160Zm220 220h160v-160H400v160Zm0 220h160v-160H400v160ZM180-400h160v-160H180v160Zm440 0h160v-160H620v160ZM180-180h160v-160H180v160Zm440 0h160v-160H620v160Z\"/>\n",
              "  </svg>\n",
              "    </button>\n",
              "\n",
              "  <style>\n",
              "    .colab-df-container {\n",
              "      display:flex;\n",
              "      gap: 12px;\n",
              "    }\n",
              "\n",
              "    .colab-df-convert {\n",
              "      background-color: #E8F0FE;\n",
              "      border: none;\n",
              "      border-radius: 50%;\n",
              "      cursor: pointer;\n",
              "      display: none;\n",
              "      fill: #1967D2;\n",
              "      height: 32px;\n",
              "      padding: 0 0 0 0;\n",
              "      width: 32px;\n",
              "    }\n",
              "\n",
              "    .colab-df-convert:hover {\n",
              "      background-color: #E2EBFA;\n",
              "      box-shadow: 0px 1px 2px rgba(60, 64, 67, 0.3), 0px 1px 3px 1px rgba(60, 64, 67, 0.15);\n",
              "      fill: #174EA6;\n",
              "    }\n",
              "\n",
              "    .colab-df-buttons div {\n",
              "      margin-bottom: 4px;\n",
              "    }\n",
              "\n",
              "    [theme=dark] .colab-df-convert {\n",
              "      background-color: #3B4455;\n",
              "      fill: #D2E3FC;\n",
              "    }\n",
              "\n",
              "    [theme=dark] .colab-df-convert:hover {\n",
              "      background-color: #434B5C;\n",
              "      box-shadow: 0px 1px 3px 1px rgba(0, 0, 0, 0.15);\n",
              "      filter: drop-shadow(0px 1px 2px rgba(0, 0, 0, 0.3));\n",
              "      fill: #FFFFFF;\n",
              "    }\n",
              "  </style>\n",
              "\n",
              "    <script>\n",
              "      const buttonEl =\n",
              "        document.querySelector('#df-b7f6977a-0f46-4206-9e11-d735a5b4c6cd button.colab-df-convert');\n",
              "      buttonEl.style.display =\n",
              "        google.colab.kernel.accessAllowed ? 'block' : 'none';\n",
              "\n",
              "      async function convertToInteractive(key) {\n",
              "        const element = document.querySelector('#df-b7f6977a-0f46-4206-9e11-d735a5b4c6cd');\n",
              "        const dataTable =\n",
              "          await google.colab.kernel.invokeFunction('convertToInteractive',\n",
              "                                                    [key], {});\n",
              "        if (!dataTable) return;\n",
              "\n",
              "        const docLinkHtml = 'Like what you see? Visit the ' +\n",
              "          '<a target=\"_blank\" href=https://colab.research.google.com/notebooks/data_table.ipynb>data table notebook</a>'\n",
              "          + ' to learn more about interactive tables.';\n",
              "        element.innerHTML = '';\n",
              "        dataTable['output_type'] = 'display_data';\n",
              "        await google.colab.output.renderOutput(dataTable, element);\n",
              "        const docLink = document.createElement('div');\n",
              "        docLink.innerHTML = docLinkHtml;\n",
              "        element.appendChild(docLink);\n",
              "      }\n",
              "    </script>\n",
              "  </div>\n",
              "\n",
              "\n",
              "<div id=\"df-861f00bc-52e0-4d9d-98c6-571761fa957f\">\n",
              "  <button class=\"colab-df-quickchart\" onclick=\"quickchart('df-861f00bc-52e0-4d9d-98c6-571761fa957f')\"\n",
              "            title=\"Suggest charts\"\n",
              "            style=\"display:none;\">\n",
              "\n",
              "<svg xmlns=\"http://www.w3.org/2000/svg\" height=\"24px\"viewBox=\"0 0 24 24\"\n",
              "     width=\"24px\">\n",
              "    <g>\n",
              "        <path d=\"M19 3H5c-1.1 0-2 .9-2 2v14c0 1.1.9 2 2 2h14c1.1 0 2-.9 2-2V5c0-1.1-.9-2-2-2zM9 17H7v-7h2v7zm4 0h-2V7h2v10zm4 0h-2v-4h2v4z\"/>\n",
              "    </g>\n",
              "</svg>\n",
              "  </button>\n",
              "\n",
              "<style>\n",
              "  .colab-df-quickchart {\n",
              "      --bg-color: #E8F0FE;\n",
              "      --fill-color: #1967D2;\n",
              "      --hover-bg-color: #E2EBFA;\n",
              "      --hover-fill-color: #174EA6;\n",
              "      --disabled-fill-color: #AAA;\n",
              "      --disabled-bg-color: #DDD;\n",
              "  }\n",
              "\n",
              "  [theme=dark] .colab-df-quickchart {\n",
              "      --bg-color: #3B4455;\n",
              "      --fill-color: #D2E3FC;\n",
              "      --hover-bg-color: #434B5C;\n",
              "      --hover-fill-color: #FFFFFF;\n",
              "      --disabled-bg-color: #3B4455;\n",
              "      --disabled-fill-color: #666;\n",
              "  }\n",
              "\n",
              "  .colab-df-quickchart {\n",
              "    background-color: var(--bg-color);\n",
              "    border: none;\n",
              "    border-radius: 50%;\n",
              "    cursor: pointer;\n",
              "    display: none;\n",
              "    fill: var(--fill-color);\n",
              "    height: 32px;\n",
              "    padding: 0;\n",
              "    width: 32px;\n",
              "  }\n",
              "\n",
              "  .colab-df-quickchart:hover {\n",
              "    background-color: var(--hover-bg-color);\n",
              "    box-shadow: 0 1px 2px rgba(60, 64, 67, 0.3), 0 1px 3px 1px rgba(60, 64, 67, 0.15);\n",
              "    fill: var(--button-hover-fill-color);\n",
              "  }\n",
              "\n",
              "  .colab-df-quickchart-complete:disabled,\n",
              "  .colab-df-quickchart-complete:disabled:hover {\n",
              "    background-color: var(--disabled-bg-color);\n",
              "    fill: var(--disabled-fill-color);\n",
              "    box-shadow: none;\n",
              "  }\n",
              "\n",
              "  .colab-df-spinner {\n",
              "    border: 2px solid var(--fill-color);\n",
              "    border-color: transparent;\n",
              "    border-bottom-color: var(--fill-color);\n",
              "    animation:\n",
              "      spin 1s steps(1) infinite;\n",
              "  }\n",
              "\n",
              "  @keyframes spin {\n",
              "    0% {\n",
              "      border-color: transparent;\n",
              "      border-bottom-color: var(--fill-color);\n",
              "      border-left-color: var(--fill-color);\n",
              "    }\n",
              "    20% {\n",
              "      border-color: transparent;\n",
              "      border-left-color: var(--fill-color);\n",
              "      border-top-color: var(--fill-color);\n",
              "    }\n",
              "    30% {\n",
              "      border-color: transparent;\n",
              "      border-left-color: var(--fill-color);\n",
              "      border-top-color: var(--fill-color);\n",
              "      border-right-color: var(--fill-color);\n",
              "    }\n",
              "    40% {\n",
              "      border-color: transparent;\n",
              "      border-right-color: var(--fill-color);\n",
              "      border-top-color: var(--fill-color);\n",
              "    }\n",
              "    60% {\n",
              "      border-color: transparent;\n",
              "      border-right-color: var(--fill-color);\n",
              "    }\n",
              "    80% {\n",
              "      border-color: transparent;\n",
              "      border-right-color: var(--fill-color);\n",
              "      border-bottom-color: var(--fill-color);\n",
              "    }\n",
              "    90% {\n",
              "      border-color: transparent;\n",
              "      border-bottom-color: var(--fill-color);\n",
              "    }\n",
              "  }\n",
              "</style>\n",
              "\n",
              "  <script>\n",
              "    async function quickchart(key) {\n",
              "      const quickchartButtonEl =\n",
              "        document.querySelector('#' + key + ' button');\n",
              "      quickchartButtonEl.disabled = true;  // To prevent multiple clicks.\n",
              "      quickchartButtonEl.classList.add('colab-df-spinner');\n",
              "      try {\n",
              "        const charts = await google.colab.kernel.invokeFunction(\n",
              "            'suggestCharts', [key], {});\n",
              "      } catch (error) {\n",
              "        console.error('Error during call to suggestCharts:', error);\n",
              "      }\n",
              "      quickchartButtonEl.classList.remove('colab-df-spinner');\n",
              "      quickchartButtonEl.classList.add('colab-df-quickchart-complete');\n",
              "    }\n",
              "    (() => {\n",
              "      let quickchartButtonEl =\n",
              "        document.querySelector('#df-861f00bc-52e0-4d9d-98c6-571761fa957f button');\n",
              "      quickchartButtonEl.style.display =\n",
              "        google.colab.kernel.accessAllowed ? 'block' : 'none';\n",
              "    })();\n",
              "  </script>\n",
              "</div>\n",
              "\n",
              "    </div>\n",
              "  </div>\n"
            ],
            "application/vnd.google.colaboratory.intrinsic+json": {
              "type": "dataframe",
              "variable_name": "new_df",
              "summary": "{\n  \"name\": \"new_df\",\n  \"rows\": 2786,\n  \"fields\": [\n    {\n      \"column\": \"target\",\n      \"properties\": {\n        \"dtype\": \"number\",\n        \"std\": 0,\n        \"min\": 0,\n        \"max\": 1,\n        \"num_unique_values\": 2,\n        \"samples\": [\n          1,\n          0\n        ],\n        \"semantic_type\": \"\",\n        \"description\": \"\"\n      }\n    },\n    {\n      \"column\": \"cleaned_text\",\n      \"properties\": {\n        \"dtype\": \"string\",\n        \"num_unique_values\": 1635,\n        \"samples\": [\n          \"michael thanks a lot with the help with environment this week starting from investigation of the major release deployments failures and ending adding with jmx remote settings for web servers i think now we have much more understanding about deployment and definitely much more visibility on servers java memory monitoring \",\n          \"i'm grateful for this incredible team of cross functional colleagues that recently came together to successfully action a number of time sensitive requests for two important launches for juniper networks and their juniverse awards platform thank you for supporting the qa issues uat script and plan changes full platform scope rr yos celebrations  and urgent remediation to ensure a successful uat kickoff this week for pfizer thank you for taking on the challenges of planned unplanned jira escalations reactions to global program reach and important award activity and then working through an updated invoice process to name a few appreciate your dedication to the continued success of pfizer's bravo program as they move forward in their success journey thank you \"\n        ],\n        \"semantic_type\": \"\",\n        \"description\": \"\"\n      }\n    }\n  ]\n}"
            }
          },
          "metadata": {},
          "execution_count": 32
        }
      ]
    },
    {
      "cell_type": "code",
      "source": [
        "## new_df - check value_counts for target\n",
        "new_df.target.value_counts()"
      ],
      "metadata": {
        "colab": {
          "base_uri": "https://localhost:8080/"
        },
        "id": "UAqquwMxMvdw",
        "outputId": "7f483067-33db-454e-f880-2b39e6244ea1"
      },
      "id": "UAqquwMxMvdw",
      "execution_count": null,
      "outputs": [
        {
          "output_type": "execute_result",
          "data": {
            "text/plain": [
              "target\n",
              "0    1393\n",
              "1    1393\n",
              "Name: count, dtype: int64"
            ]
          },
          "metadata": {},
          "execution_count": 33
        }
      ]
    },
    {
      "cell_type": "code",
      "source": [
        "## new_df - check dimensions\n",
        "new_df.info()"
      ],
      "metadata": {
        "colab": {
          "base_uri": "https://localhost:8080/"
        },
        "id": "uDCJ7nCHM0sW",
        "outputId": "7370d752-0eed-48a8-8021-1f98f34418f6"
      },
      "id": "uDCJ7nCHM0sW",
      "execution_count": null,
      "outputs": [
        {
          "output_type": "stream",
          "name": "stdout",
          "text": [
            "<class 'pandas.core.frame.DataFrame'>\n",
            "Index: 2786 entries, 5 to 62\n",
            "Data columns (total 2 columns):\n",
            " #   Column        Non-Null Count  Dtype \n",
            "---  ------        --------------  ----- \n",
            " 0   target        2786 non-null   int64 \n",
            " 1   cleaned_text  2786 non-null   object\n",
            "dtypes: int64(1), object(1)\n",
            "memory usage: 65.3+ KB\n"
          ]
        }
      ]
    },
    {
      "cell_type": "markdown",
      "id": "33df6213",
      "metadata": {
        "id": "33df6213"
      },
      "source": [
        "## Feature Engineering\n",
        "* Now that we have cleaned the text we will create the train_test_split.\n",
        "* We wil do this before creating custom embeddings to prevent \"data leakage\"."
      ]
    },
    {
      "cell_type": "code",
      "execution_count": null,
      "id": "296af1b4",
      "metadata": {
        "id": "296af1b4"
      },
      "outputs": [],
      "source": [
        "# import train_test_split\n",
        "from sklearn.model_selection import train_test_split\n",
        "\n",
        "\n",
        "\n",
        "## setup X and y features\n",
        "X = new_df.drop('target',axis=1)\n",
        "y = new_df['target']"
      ]
    },
    {
      "cell_type": "code",
      "source": [
        "## quick check of X\n",
        "print(X[0:10])"
      ],
      "metadata": {
        "colab": {
          "base_uri": "https://localhost:8080/"
        },
        "id": "tfw7ontQNlQb",
        "outputId": "a21b872c-0835-457f-ec9d-449e73a1742c"
      },
      "id": "tfw7ontQNlQb",
      "execution_count": null,
      "outputs": [
        {
          "output_type": "stream",
          "name": "stdout",
          "text": [
            "                                         cleaned_text\n",
            "5   omkar bryan and weselina were professional to ...\n",
            "9   thank you john for keeping us running the last...\n",
            "11  great job guys getting the pump pulled repaire...\n",
            "12  thank you for your effort in the cleaning rear...\n",
            "16  i can't thank you both enough for your efforts...\n",
            "19  sara had a great catch while admitting a patie...\n",
            "23  thank you didi for always being helpful and in...\n",
            "25  great job identifying id theft today and savin...\n",
            "27  justin seen me struggling taking a pallet of p...\n",
            "28  great job identifying id theft today and savin...\n"
          ]
        }
      ]
    },
    {
      "cell_type": "code",
      "source": [
        "## quick check of y\n",
        "print(y[0:10])"
      ],
      "metadata": {
        "colab": {
          "base_uri": "https://localhost:8080/"
        },
        "id": "LbYA7Jx5N_zb",
        "outputId": "4b8ea463-d2f0-4d27-fb23-6e2e5b236174"
      },
      "id": "LbYA7Jx5N_zb",
      "execution_count": null,
      "outputs": [
        {
          "output_type": "stream",
          "name": "stdout",
          "text": [
            "5     0\n",
            "9     0\n",
            "11    0\n",
            "12    0\n",
            "16    0\n",
            "19    0\n",
            "23    0\n",
            "25    0\n",
            "27    0\n",
            "28    0\n",
            "Name: target, dtype: int64\n"
          ]
        }
      ]
    },
    {
      "cell_type": "code",
      "execution_count": null,
      "id": "d671b5ed",
      "metadata": {
        "id": "d671b5ed"
      },
      "outputs": [],
      "source": [
        "# create train_test_split\n",
        "X_train, X_test, y_train, y_test = train_test_split(X, y, test_size=0.2, random_state=seed, stratify=y)\n",
        "\n"
      ]
    },
    {
      "cell_type": "code",
      "execution_count": null,
      "id": "93984051",
      "metadata": {
        "colab": {
          "base_uri": "https://localhost:8080/"
        },
        "id": "93984051",
        "outputId": "6f7ddb79-f3cd-4cbd-b50e-8ada0d04d4b3"
      },
      "outputs": [
        {
          "output_type": "stream",
          "name": "stdout",
          "text": [
            "Shape of X_train: (2228, 1)\n",
            "Shape of X_test: (558, 1)\n",
            "Shape of y_train: (2228,)\n",
            "Shape of y_text: (558,)\n"
          ]
        }
      ],
      "source": [
        "# shape of train and test\n",
        "print(f\"Shape of X_train: {X_train.shape}\")\n",
        "print(f\"Shape of X_test: {X_test.shape}\")\n",
        "print(f\"Shape of y_train: {y_train.shape}\")\n",
        "print(f\"Shape of y_text: {y_test.shape}\")"
      ]
    },
    {
      "cell_type": "markdown",
      "id": "bfef39a9",
      "metadata": {
        "id": "bfef39a9"
      },
      "source": [
        "## Embeddings\n",
        "* I am going to recreate the embeddings now that we have upsampled the target data class and done some additional EDA as well as text cleaning.\n",
        "* I am going to take a different approach to creating the embeddings using batching. I am going to write a function to do this.\n",
        "* **Note for the code below to work you need a HuggingFace token.**"
      ]
    },
    {
      "cell_type": "code",
      "source": [
        "# import libraries\n",
        "from transformers import AutoModel, AutoTokenizer\n",
        "from tqdm import tqdm\n",
        "from typing import List\n",
        "import torch"
      ],
      "metadata": {
        "id": "pna6oOkIG_p9"
      },
      "id": "pna6oOkIG_p9",
      "execution_count": null,
      "outputs": []
    },
    {
      "cell_type": "code",
      "source": [
        "# Load tokenizer and model from HuggingFace\n",
        "tokenizer = AutoTokenizer.from_pretrained(\"sentence-transformers/paraphrase-mpnet-base-v2\")\n",
        "model = AutoModel.from_pretrained(\"sentence-transformers/paraphrase-mpnet-base-v2\")\n",
        "\n",
        "# Move model to GPU if available - setup device agnostic code\n",
        "device = torch.device(\"cuda\" if torch.cuda.is_available() else \"cpu\")\n",
        "model = model.to(device)\n"
      ],
      "metadata": {
        "colab": {
          "base_uri": "https://localhost:8080/",
          "height": 264,
          "referenced_widgets": [
            "5f6391a7d94f4e43b56702ceeb5a8fc8",
            "63aa92826f0345c58309c9ff45660055",
            "f27731d7cf7e45ea9698f84527b46801",
            "231e7b4ef55846a4908d26dac26da27b",
            "380710b6a2d348e1afaa28ac9ef23a2f",
            "95d0bfb8b08a4d538be7ebb477811c16",
            "0b24fbd6e419473ab262b00db37808cd",
            "9477bfa6fb174eacb8aaa22f22ed60e1",
            "68b3b995cdba487f8b51a87c2a345a11",
            "a3e609d1a33749acaa1d75bf5bca847a",
            "ee1c5d3254904d6fb2080d11e9f7c5c5",
            "9053cad8f138414b9c81933de2fca19c",
            "b3d80480af5e4bc8aa4cdd231000adf5",
            "e405792c2e6b4b14952ddd57f96b6423",
            "3d0ef7a38ad5402c80d9be5e61739f0d",
            "0afc746cc6b146e8937273d7a8637fa4",
            "091a8ee10cd2406186d2f43a4ee3f690",
            "4c7e551b28cd47b2bd6fdd550ec69a9a",
            "b6c55e1b2a4c44fbaa242dcc1a048336",
            "9010bb42083245b3a0df842a9dab2bee",
            "8d3459155d84412c8062334f279eedd2",
            "6a349f907ad440229266b40ab235a4df",
            "70486a70c41749dbba17cea8f05efb72",
            "659917bf7caa48848abd8aa48560f9b8",
            "c6907a579ab7431280fc24672c51e758",
            "2a590202f9384cb29ceeaba2b9c64a96",
            "7eb714f70d994b3aa5728364e839a49f",
            "15eb8b23908149c99682ced135b398b5",
            "44d6c154b8154dbd8abc2ff702f07e1f",
            "9de832e791b24186aa386aa93fb7bd9a",
            "ca9b38806f384508a806fa99f89edf22",
            "fbdc0ce9c0b24b4baecb6dfebd6dbec5",
            "cb415a40a10f418f86627515a36f4ba8",
            "b7193342ed7a484b9b3e328729ac1234",
            "2c3b93a99d3143d1a7aa3508058fa64a",
            "1a9b2e6b1eda4b88886c8ba57d5e02c6",
            "9b36622ab659435eac6e9c0c93e6034c",
            "0f056d7ea02f4eb2a0cf5a64b9d17157",
            "16c39532dde14911ad49b30ab50b514d",
            "e8cc0af182a140ae8bb48546958fb5aa",
            "c036e2ac8cf7441a9ee1b70032462451",
            "1ea6ed93f68748239b32331079d203c4",
            "0f7bfd24f73b43bda73b3e6c70be9faa",
            "4f6f80198c62498482f08f450f1c507d",
            "e91b83158abc4b6ea858bc9eaf36435e",
            "35224ddc64d74d4893e2b1c15b0ac8c7",
            "00397e934b8d41bc9f97f93c48b13aae",
            "2b6f50a93e134cbaa56e5d1db1dd03e0",
            "d580731688484f1e8d6b0f4f15fdedc0",
            "0f425fb4b633455a8055e238d238f6eb",
            "ebcb1d34b9e94796ac613ace65408d17",
            "abeaa0c281cf4e81a50414af3fc66c45",
            "670424eb9a834bb1af3aae667bbe2033",
            "b2e5161449a547628a1a2c63ee284dda",
            "c4e50968c21d4c7a9fe3e00be60ef671",
            "265a2df018214b1b853ca5bfa234df73",
            "022f409ab9b445bb96b669de30d24d25",
            "6236e10d3ed1409b8acab45bbb367196",
            "fb67fc50ee0749be85a5009ee43ab769",
            "83d7c033bfa143d4ad4150b2334814df",
            "9d8911814dcc4c9d964955c42cfae4fe",
            "4b672aaeaeb54103847724da94f36200",
            "eda29d1d7471462b91a561951ef3f053",
            "20447f65df8c45e5a3aaee2bb92343d8",
            "8524432ae26d4c62b325623ea44b8625",
            "f39784da21234ccb8c40de9ebc59478c"
          ]
        },
        "id": "mjP3n4b-HDnl",
        "outputId": "749c4502-1aa8-43e9-e2c0-1c4546edb53d"
      },
      "id": "mjP3n4b-HDnl",
      "execution_count": null,
      "outputs": [
        {
          "output_type": "display_data",
          "data": {
            "text/plain": [
              "tokenizer_config.json:   0%|          | 0.00/1.19k [00:00<?, ?B/s]"
            ],
            "application/vnd.jupyter.widget-view+json": {
              "version_major": 2,
              "version_minor": 0,
              "model_id": "5f6391a7d94f4e43b56702ceeb5a8fc8"
            }
          },
          "metadata": {}
        },
        {
          "output_type": "stream",
          "name": "stderr",
          "text": [
            "/usr/local/lib/python3.10/dist-packages/huggingface_hub/file_download.py:1132: FutureWarning: `resume_download` is deprecated and will be removed in version 1.0.0. Downloads always resume when possible. If you want to force a new download, use `force_download=True`.\n",
            "  warnings.warn(\n"
          ]
        },
        {
          "output_type": "display_data",
          "data": {
            "text/plain": [
              "config.json:   0%|          | 0.00/594 [00:00<?, ?B/s]"
            ],
            "application/vnd.jupyter.widget-view+json": {
              "version_major": 2,
              "version_minor": 0,
              "model_id": "9053cad8f138414b9c81933de2fca19c"
            }
          },
          "metadata": {}
        },
        {
          "output_type": "display_data",
          "data": {
            "text/plain": [
              "vocab.txt:   0%|          | 0.00/232k [00:00<?, ?B/s]"
            ],
            "application/vnd.jupyter.widget-view+json": {
              "version_major": 2,
              "version_minor": 0,
              "model_id": "70486a70c41749dbba17cea8f05efb72"
            }
          },
          "metadata": {}
        },
        {
          "output_type": "display_data",
          "data": {
            "text/plain": [
              "tokenizer.json:   0%|          | 0.00/466k [00:00<?, ?B/s]"
            ],
            "application/vnd.jupyter.widget-view+json": {
              "version_major": 2,
              "version_minor": 0,
              "model_id": "b7193342ed7a484b9b3e328729ac1234"
            }
          },
          "metadata": {}
        },
        {
          "output_type": "display_data",
          "data": {
            "text/plain": [
              "special_tokens_map.json:   0%|          | 0.00/239 [00:00<?, ?B/s]"
            ],
            "application/vnd.jupyter.widget-view+json": {
              "version_major": 2,
              "version_minor": 0,
              "model_id": "e91b83158abc4b6ea858bc9eaf36435e"
            }
          },
          "metadata": {}
        },
        {
          "output_type": "display_data",
          "data": {
            "text/plain": [
              "model.safetensors:   0%|          | 0.00/438M [00:00<?, ?B/s]"
            ],
            "application/vnd.jupyter.widget-view+json": {
              "version_major": 2,
              "version_minor": 0,
              "model_id": "265a2df018214b1b853ca5bfa234df73"
            }
          },
          "metadata": {}
        }
      ]
    },
    {
      "cell_type": "code",
      "execution_count": null,
      "id": "86df2500",
      "metadata": {
        "id": "86df2500"
      },
      "outputs": [],
      "source": [
        "## function to create embeddings\n",
        "def create_embeddings(texts: List[str], batch_size: int):\n",
        "    all_embeddings = []\n",
        "    print(f\"Total number of records: {len(texts)}\")\n",
        "    print(f\"Num batches: {(len(texts) // batch_size) + 1}\")\n",
        "\n",
        "    # Extract embeddings for the texts in batches\n",
        "    for start_index in tqdm(range(0, len(texts), batch_size)):\n",
        "        batch_texts = texts[start_index:start_index + batch_size]\n",
        "\n",
        "        # Generate tokens and move input tensors to GPU\n",
        "        inputs = tokenizer(batch_texts, return_tensors=\"pt\", padding=True, truncation=True, max_length=128)\n",
        "        inputs = {key: value.to(device) for key, value in inputs.items()}\n",
        "\n",
        "        # Extract the embeddings. no_grad because the gradient does not need to be computed\n",
        "        # since this is not a learning task\n",
        "        with torch.no_grad():\n",
        "            outputs = model(**inputs)\n",
        "\n",
        "        # Get the last hidden stated and pool them into a mean vector calculated across the sequence length dimension\n",
        "        # This will reduce the output vector from [batch_size, sequence_length, hidden_layer_size]\n",
        "        # to [batch_size, hidden_layer_size] thereby generating the embeddings for all the sequences in the batch\n",
        "        last_hidden_states = outputs.last_hidden_state\n",
        "        embeddings = torch.mean(last_hidden_states, dim=1).cpu().tolist()\n",
        "\n",
        "        # Append to the embeddings list\n",
        "        all_embeddings.extend(embeddings)\n",
        "\n",
        "    return all_embeddings"
      ]
    },
    {
      "cell_type": "markdown",
      "id": "643d86c2",
      "metadata": {
        "id": "643d86c2"
      },
      "source": [
        "## Create Embeddings"
      ]
    },
    {
      "cell_type": "markdown",
      "source": [
        "* Here we will apply the **create_embeddings** functions"
      ],
      "metadata": {
        "id": "p97YSF0LH20S"
      },
      "id": "p97YSF0LH20S"
    },
    {
      "cell_type": "code",
      "execution_count": null,
      "id": "55379c80",
      "metadata": {
        "colab": {
          "base_uri": "https://localhost:8080/"
        },
        "id": "55379c80",
        "outputId": "3bfed0b7-716e-4801-b916-2f401361e37e"
      },
      "outputs": [
        {
          "output_type": "stream",
          "name": "stdout",
          "text": [
            "Total number of records: 2228\n",
            "Num batches: 9\n"
          ]
        },
        {
          "output_type": "stream",
          "name": "stderr",
          "text": [
            "100%|██████████| 9/9 [16:44<00:00, 111.61s/it]\n"
          ]
        },
        {
          "output_type": "stream",
          "name": "stdout",
          "text": [
            "Total number of records: 558\n",
            "Num batches: 3\n"
          ]
        },
        {
          "output_type": "stream",
          "name": "stderr",
          "text": [
            "100%|██████████| 3/3 [04:56<00:00, 98.88s/it]\n"
          ]
        }
      ],
      "source": [
        "# Create embeddings for the training and test set\n",
        "## train set embeddings\n",
        "train_embeddings = create_embeddings(texts=X_train[\"cleaned_text\"].tolist(), batch_size=256)\n",
        "train_embeddings_df = pd.DataFrame(train_embeddings)\n",
        "\n",
        "## test set embeddings\n",
        "test_embeddings = create_embeddings(texts=X_test[\"cleaned_text\"].tolist(), batch_size=256)\n",
        "test_embeddings_df = pd.DataFrame(test_embeddings)"
      ]
    },
    {
      "cell_type": "code",
      "execution_count": null,
      "id": "d73b926b",
      "metadata": {
        "colab": {
          "base_uri": "https://localhost:8080/"
        },
        "id": "d73b926b",
        "outputId": "f3de1468-7c8c-41f8-bf33-107b1d5119d5"
      },
      "outputs": [
        {
          "output_type": "stream",
          "name": "stdout",
          "text": [
            "Counter({0: 1114, 1: 1114})\n"
          ]
        }
      ],
      "source": [
        "## lets get the class counts\n",
        "from collections import Counter\n",
        "\n",
        "# get class counts\n",
        "print(Counter(y_train))"
      ]
    },
    {
      "cell_type": "markdown",
      "id": "7658e34c",
      "metadata": {
        "id": "7658e34c"
      },
      "source": [
        "## Modeling\n",
        "* Now we can build the Text Classification Models"
      ]
    },
    {
      "cell_type": "markdown",
      "id": "9215c8b5",
      "metadata": {
        "id": "9215c8b5"
      },
      "source": [
        "### Model 1: Logistic Regression\n",
        "- First we will perform grid search and cross validation to find the best hyperparameters.\n",
        "- Then we will fit a logistic regression model with these parameters."
      ]
    },
    {
      "cell_type": "code",
      "execution_count": null,
      "id": "f2321bcc-e626-49be-8881-7e3458e30f41",
      "metadata": {
        "id": "f2321bcc-e626-49be-8881-7e3458e30f41"
      },
      "outputs": [],
      "source": [
        "# import libraries\n",
        "from sklearn.linear_model import LogisticRegression\n",
        "from sklearn.model_selection import GridSearchCV\n",
        "from sklearn.model_selection import RepeatedStratifiedKFold"
      ]
    },
    {
      "cell_type": "markdown",
      "id": "ce0d4931",
      "metadata": {
        "id": "ce0d4931"
      },
      "source": [
        "### Note about hyperparameters:\n",
        "* **Regularization** is a technique used to **avoid overfitting in machine learning models.** It does this by adding a penalty term to the objective function (also called the loss function or error function) that the model is trying to minimize.\n",
        "* The objective function measures the error or difference between the predicted output of the model and the true output.\n",
        "* In logistic regression, the objective function is typically the cross-entropy loss, which measures the difference between the predicted probability of the positive class and the true label (1 or 0).\n",
        "* If we add a penalty term to the objective function, **regularization helps to reduce the complexity of the model and prevent it from overfitting or memorizing the training data.**\n",
        "* The penalty term is a hyperparameter that controls the strength of the regularization. A higher value for the penalty term leads to stronger regularization and a simpler model, while a lower value allows the model to be more complex.\n",
        "* Some of the parameters that we will search in GridSearch below are:\n",
        "    * **penalty:** L2 is also known as Ridge regularization. It adds a penalty to the objective function which is equal to the square of coefficients. All model coefficients will then be close to zero but not equal to zero. This is better than L1 or Lasso regularization because it is less prone to overfitting.\n",
        "    * **solvers:** These are the various solvers available in sklearn, we will test out a few of the most common ones.\n",
        "    * The \"C\" hyperparameters are represented by the 'c_vals' params below. These are different values that control the strength of the regularization. A small value of C (e.g. 0.01) will result in stronger regularization and a more \"simple\" model, whereas a larger value of C (e.g. 1.0) will result in weaker regularization and a more \"complex\" model."
      ]
    },
    {
      "cell_type": "code",
      "execution_count": null,
      "id": "86466263-a928-4f3f-9502-b3a303d51815",
      "metadata": {
        "id": "86466263-a928-4f3f-9502-b3a303d51815"
      },
      "outputs": [],
      "source": [
        "# high regularization for interpretability and sparseness\n",
        "logisticRegr = LogisticRegression()\n",
        "\n",
        "# solvers\n",
        "solvers = ['newton-cg', 'lbfgs', 'liblinear']\n",
        "penalty = ['l2']\n",
        "cross_vals = [100, 50, 10, 1.0, 0.1, 0.01]"
      ]
    },
    {
      "cell_type": "code",
      "execution_count": null,
      "id": "4d1f822e",
      "metadata": {
        "colab": {
          "base_uri": "https://localhost:8080/",
          "height": 118
        },
        "id": "4d1f822e",
        "outputId": "1a49056e-a144-4a60-d9f5-ccbba71c89a3"
      },
      "outputs": [
        {
          "output_type": "execute_result",
          "data": {
            "text/plain": [
              "GridSearchCV(cv=RepeatedStratifiedKFold(n_repeats=3, n_splits=10, random_state=42),\n",
              "             error_score=0, estimator=LogisticRegression(), n_jobs=-1,\n",
              "             param_grid={'C': [100, 50, 10, 1.0, 0.1, 0.01], 'penalty': ['l2'],\n",
              "                         'solver': ['newton-cg', 'lbfgs', 'liblinear']},\n",
              "             scoring='accuracy')"
            ],
            "text/html": [
              "<style>#sk-container-id-1 {color: black;background-color: white;}#sk-container-id-1 pre{padding: 0;}#sk-container-id-1 div.sk-toggleable {background-color: white;}#sk-container-id-1 label.sk-toggleable__label {cursor: pointer;display: block;width: 100%;margin-bottom: 0;padding: 0.3em;box-sizing: border-box;text-align: center;}#sk-container-id-1 label.sk-toggleable__label-arrow:before {content: \"▸\";float: left;margin-right: 0.25em;color: #696969;}#sk-container-id-1 label.sk-toggleable__label-arrow:hover:before {color: black;}#sk-container-id-1 div.sk-estimator:hover label.sk-toggleable__label-arrow:before {color: black;}#sk-container-id-1 div.sk-toggleable__content {max-height: 0;max-width: 0;overflow: hidden;text-align: left;background-color: #f0f8ff;}#sk-container-id-1 div.sk-toggleable__content pre {margin: 0.2em;color: black;border-radius: 0.25em;background-color: #f0f8ff;}#sk-container-id-1 input.sk-toggleable__control:checked~div.sk-toggleable__content {max-height: 200px;max-width: 100%;overflow: auto;}#sk-container-id-1 input.sk-toggleable__control:checked~label.sk-toggleable__label-arrow:before {content: \"▾\";}#sk-container-id-1 div.sk-estimator input.sk-toggleable__control:checked~label.sk-toggleable__label {background-color: #d4ebff;}#sk-container-id-1 div.sk-label input.sk-toggleable__control:checked~label.sk-toggleable__label {background-color: #d4ebff;}#sk-container-id-1 input.sk-hidden--visually {border: 0;clip: rect(1px 1px 1px 1px);clip: rect(1px, 1px, 1px, 1px);height: 1px;margin: -1px;overflow: hidden;padding: 0;position: absolute;width: 1px;}#sk-container-id-1 div.sk-estimator {font-family: monospace;background-color: #f0f8ff;border: 1px dotted black;border-radius: 0.25em;box-sizing: border-box;margin-bottom: 0.5em;}#sk-container-id-1 div.sk-estimator:hover {background-color: #d4ebff;}#sk-container-id-1 div.sk-parallel-item::after {content: \"\";width: 100%;border-bottom: 1px solid gray;flex-grow: 1;}#sk-container-id-1 div.sk-label:hover label.sk-toggleable__label {background-color: #d4ebff;}#sk-container-id-1 div.sk-serial::before {content: \"\";position: absolute;border-left: 1px solid gray;box-sizing: border-box;top: 0;bottom: 0;left: 50%;z-index: 0;}#sk-container-id-1 div.sk-serial {display: flex;flex-direction: column;align-items: center;background-color: white;padding-right: 0.2em;padding-left: 0.2em;position: relative;}#sk-container-id-1 div.sk-item {position: relative;z-index: 1;}#sk-container-id-1 div.sk-parallel {display: flex;align-items: stretch;justify-content: center;background-color: white;position: relative;}#sk-container-id-1 div.sk-item::before, #sk-container-id-1 div.sk-parallel-item::before {content: \"\";position: absolute;border-left: 1px solid gray;box-sizing: border-box;top: 0;bottom: 0;left: 50%;z-index: -1;}#sk-container-id-1 div.sk-parallel-item {display: flex;flex-direction: column;z-index: 1;position: relative;background-color: white;}#sk-container-id-1 div.sk-parallel-item:first-child::after {align-self: flex-end;width: 50%;}#sk-container-id-1 div.sk-parallel-item:last-child::after {align-self: flex-start;width: 50%;}#sk-container-id-1 div.sk-parallel-item:only-child::after {width: 0;}#sk-container-id-1 div.sk-dashed-wrapped {border: 1px dashed gray;margin: 0 0.4em 0.5em 0.4em;box-sizing: border-box;padding-bottom: 0.4em;background-color: white;}#sk-container-id-1 div.sk-label label {font-family: monospace;font-weight: bold;display: inline-block;line-height: 1.2em;}#sk-container-id-1 div.sk-label-container {text-align: center;}#sk-container-id-1 div.sk-container {/* jupyter's `normalize.less` sets `[hidden] { display: none; }` but bootstrap.min.css set `[hidden] { display: none !important; }` so we also need the `!important` here to be able to override the default hidden behavior on the sphinx rendered scikit-learn.org. See: https://github.com/scikit-learn/scikit-learn/issues/21755 */display: inline-block !important;position: relative;}#sk-container-id-1 div.sk-text-repr-fallback {display: none;}</style><div id=\"sk-container-id-1\" class=\"sk-top-container\"><div class=\"sk-text-repr-fallback\"><pre>GridSearchCV(cv=RepeatedStratifiedKFold(n_repeats=3, n_splits=10, random_state=42),\n",
              "             error_score=0, estimator=LogisticRegression(), n_jobs=-1,\n",
              "             param_grid={&#x27;C&#x27;: [100, 50, 10, 1.0, 0.1, 0.01], &#x27;penalty&#x27;: [&#x27;l2&#x27;],\n",
              "                         &#x27;solver&#x27;: [&#x27;newton-cg&#x27;, &#x27;lbfgs&#x27;, &#x27;liblinear&#x27;]},\n",
              "             scoring=&#x27;accuracy&#x27;)</pre><b>In a Jupyter environment, please rerun this cell to show the HTML representation or trust the notebook. <br />On GitHub, the HTML representation is unable to render, please try loading this page with nbviewer.org.</b></div><div class=\"sk-container\" hidden><div class=\"sk-item sk-dashed-wrapped\"><div class=\"sk-label-container\"><div class=\"sk-label sk-toggleable\"><input class=\"sk-toggleable__control sk-hidden--visually\" id=\"sk-estimator-id-1\" type=\"checkbox\" ><label for=\"sk-estimator-id-1\" class=\"sk-toggleable__label sk-toggleable__label-arrow\">GridSearchCV</label><div class=\"sk-toggleable__content\"><pre>GridSearchCV(cv=RepeatedStratifiedKFold(n_repeats=3, n_splits=10, random_state=42),\n",
              "             error_score=0, estimator=LogisticRegression(), n_jobs=-1,\n",
              "             param_grid={&#x27;C&#x27;: [100, 50, 10, 1.0, 0.1, 0.01], &#x27;penalty&#x27;: [&#x27;l2&#x27;],\n",
              "                         &#x27;solver&#x27;: [&#x27;newton-cg&#x27;, &#x27;lbfgs&#x27;, &#x27;liblinear&#x27;]},\n",
              "             scoring=&#x27;accuracy&#x27;)</pre></div></div></div><div class=\"sk-parallel\"><div class=\"sk-parallel-item\"><div class=\"sk-item\"><div class=\"sk-label-container\"><div class=\"sk-label sk-toggleable\"><input class=\"sk-toggleable__control sk-hidden--visually\" id=\"sk-estimator-id-2\" type=\"checkbox\" ><label for=\"sk-estimator-id-2\" class=\"sk-toggleable__label sk-toggleable__label-arrow\">estimator: LogisticRegression</label><div class=\"sk-toggleable__content\"><pre>LogisticRegression()</pre></div></div></div><div class=\"sk-serial\"><div class=\"sk-item\"><div class=\"sk-estimator sk-toggleable\"><input class=\"sk-toggleable__control sk-hidden--visually\" id=\"sk-estimator-id-3\" type=\"checkbox\" ><label for=\"sk-estimator-id-3\" class=\"sk-toggleable__label sk-toggleable__label-arrow\">LogisticRegression</label><div class=\"sk-toggleable__content\"><pre>LogisticRegression()</pre></div></div></div></div></div></div></div></div></div></div>"
            ]
          },
          "metadata": {},
          "execution_count": 53
        }
      ],
      "source": [
        "# setup gridsearch\n",
        "grid = dict(solver=solvers,penalty=penalty,C=cross_vals)\n",
        "cross_val = RepeatedStratifiedKFold(n_splits=10, n_repeats=3, random_state=seed)\n",
        "\n",
        "\n",
        "\n",
        "# perform gridsearch\n",
        "log_reg_grid = GridSearchCV(estimator=logisticRegr, param_grid=grid, n_jobs=-1, cv=cross_val, scoring='accuracy',error_score=0)\n",
        "\n",
        "# fit the model\n",
        "log_reg_grid.fit(train_embeddings_df, y_train)"
      ]
    },
    {
      "cell_type": "markdown",
      "source": [
        "## Summarize Results and find best hyperparameters"
      ],
      "metadata": {
        "id": "vzdMRO49YaJC"
      },
      "id": "vzdMRO49YaJC"
    },
    {
      "cell_type": "code",
      "execution_count": null,
      "id": "4933aabf-bd30-4de8-bda9-838ee7353916",
      "metadata": {
        "colab": {
          "base_uri": "https://localhost:8080/"
        },
        "id": "4933aabf-bd30-4de8-bda9-838ee7353916",
        "outputId": "7590baea-231c-4df1-eec7-61d294bf334a"
      },
      "outputs": [
        {
          "output_type": "stream",
          "name": "stdout",
          "text": [
            "The best hyperparameters are:  0.9504874829986937 {'C': 100, 'penalty': 'l2', 'solver': 'liblinear'}\n",
            "Mean: 0.9494418185001142, Stdev: 0.014105510018838707, Param: {'C': 100, 'penalty': 'l2', 'solver': 'newton-cg'}\n",
            "Mean: 0.9497394255241787, Stdev: 0.013941606687813106, Param: {'C': 100, 'penalty': 'l2', 'solver': 'lbfgs'}\n",
            "Mean: 0.9504874829986937, Stdev: 0.014277045402624429, Param: {'C': 100, 'penalty': 'l2', 'solver': 'liblinear'}\n",
            "Mean: 0.949889575674329, Stdev: 0.013972677803365708, Param: {'C': 50, 'penalty': 'l2', 'solver': 'newton-cg'}\n",
            "Mean: 0.9501885293365114, Stdev: 0.014034071198843976, Param: {'C': 50, 'penalty': 'l2', 'solver': 'lbfgs'}\n",
            "Mean: 0.9500377058673024, Stdev: 0.014889483010117801, Param: {'C': 50, 'penalty': 'l2', 'solver': 'liblinear'}\n",
            "Mean: 0.9501878560174525, Stdev: 0.014871791191018396, Param: {'C': 10, 'penalty': 'l2', 'solver': 'newton-cg'}\n",
            "Mean: 0.9501878560174525, Stdev: 0.014871791191018396, Param: {'C': 10, 'penalty': 'l2', 'solver': 'lbfgs'}\n",
            "Mean: 0.949740098843238, Stdev: 0.013939041417736378, Param: {'C': 10, 'penalty': 'l2', 'solver': 'liblinear'}\n",
            "Mean: 0.9275959816318561, Stdev: 0.014696038007218753, Param: {'C': 1.0, 'penalty': 'l2', 'solver': 'newton-cg'}\n",
            "Mean: 0.9275959816318561, Stdev: 0.014696038007218753, Param: {'C': 1.0, 'penalty': 'l2', 'solver': 'lbfgs'}\n",
            "Mean: 0.9271509177338775, Stdev: 0.015302809256196448, Param: {'C': 1.0, 'penalty': 'l2', 'solver': 'liblinear'}\n",
            "Mean: 0.9017162902813128, Stdev: 0.01816241623502827, Param: {'C': 0.1, 'penalty': 'l2', 'solver': 'newton-cg'}\n",
            "Mean: 0.9017162902813128, Stdev: 0.01816241623502827, Param: {'C': 0.1, 'penalty': 'l2', 'solver': 'lbfgs'}\n",
            "Mean: 0.8993192744313822, Stdev: 0.018080075519892155, Param: {'C': 0.1, 'penalty': 'l2', 'solver': 'liblinear'}\n",
            "Mean: 0.8701450329253021, Stdev: 0.017853191352917686, Param: {'C': 0.01, 'penalty': 'l2', 'solver': 'newton-cg'}\n",
            "Mean: 0.8701450329253021, Stdev: 0.017853191352917686, Param: {'C': 0.01, 'penalty': 'l2', 'solver': 'lbfgs'}\n",
            "Mean: 0.8667077391292638, Stdev: 0.018165104523990633, Param: {'C': 0.01, 'penalty': 'l2', 'solver': 'liblinear'}\n"
          ]
        }
      ],
      "source": [
        "#logisticRegr.fit(train_embs, train[\"target\"])\n",
        "\n",
        "## Summarize results and find best hyperparameters\n",
        "print(\"The best hyperparameters are: \", log_reg_grid.best_score_, log_reg_grid.best_params_)\n",
        "means = log_reg_grid.cv_results_['mean_test_score']\n",
        "stds = log_reg_grid.cv_results_['std_test_score']\n",
        "params = log_reg_grid.cv_results_['params']\n",
        "## loop through the params\n",
        "for mean, stdev, param in zip(means, stds, params):\n",
        "    print(f\"Mean: {mean}, Stdev: {stdev}, Param: {param}\")"
      ]
    },
    {
      "cell_type": "markdown",
      "id": "53869ad9",
      "metadata": {
        "id": "53869ad9"
      },
      "source": [
        "## Fit the best Logistic Regression Model"
      ]
    },
    {
      "cell_type": "code",
      "execution_count": null,
      "id": "fa8cb94d",
      "metadata": {
        "colab": {
          "base_uri": "https://localhost:8080/",
          "height": 75
        },
        "id": "fa8cb94d",
        "outputId": "aef7923b-c9ef-47b3-b632-91115cc3a7cd"
      },
      "outputs": [
        {
          "output_type": "execute_result",
          "data": {
            "text/plain": [
              "LogisticRegression(C=100, solver='liblinear')"
            ],
            "text/html": [
              "<style>#sk-container-id-2 {color: black;background-color: white;}#sk-container-id-2 pre{padding: 0;}#sk-container-id-2 div.sk-toggleable {background-color: white;}#sk-container-id-2 label.sk-toggleable__label {cursor: pointer;display: block;width: 100%;margin-bottom: 0;padding: 0.3em;box-sizing: border-box;text-align: center;}#sk-container-id-2 label.sk-toggleable__label-arrow:before {content: \"▸\";float: left;margin-right: 0.25em;color: #696969;}#sk-container-id-2 label.sk-toggleable__label-arrow:hover:before {color: black;}#sk-container-id-2 div.sk-estimator:hover label.sk-toggleable__label-arrow:before {color: black;}#sk-container-id-2 div.sk-toggleable__content {max-height: 0;max-width: 0;overflow: hidden;text-align: left;background-color: #f0f8ff;}#sk-container-id-2 div.sk-toggleable__content pre {margin: 0.2em;color: black;border-radius: 0.25em;background-color: #f0f8ff;}#sk-container-id-2 input.sk-toggleable__control:checked~div.sk-toggleable__content {max-height: 200px;max-width: 100%;overflow: auto;}#sk-container-id-2 input.sk-toggleable__control:checked~label.sk-toggleable__label-arrow:before {content: \"▾\";}#sk-container-id-2 div.sk-estimator input.sk-toggleable__control:checked~label.sk-toggleable__label {background-color: #d4ebff;}#sk-container-id-2 div.sk-label input.sk-toggleable__control:checked~label.sk-toggleable__label {background-color: #d4ebff;}#sk-container-id-2 input.sk-hidden--visually {border: 0;clip: rect(1px 1px 1px 1px);clip: rect(1px, 1px, 1px, 1px);height: 1px;margin: -1px;overflow: hidden;padding: 0;position: absolute;width: 1px;}#sk-container-id-2 div.sk-estimator {font-family: monospace;background-color: #f0f8ff;border: 1px dotted black;border-radius: 0.25em;box-sizing: border-box;margin-bottom: 0.5em;}#sk-container-id-2 div.sk-estimator:hover {background-color: #d4ebff;}#sk-container-id-2 div.sk-parallel-item::after {content: \"\";width: 100%;border-bottom: 1px solid gray;flex-grow: 1;}#sk-container-id-2 div.sk-label:hover label.sk-toggleable__label {background-color: #d4ebff;}#sk-container-id-2 div.sk-serial::before {content: \"\";position: absolute;border-left: 1px solid gray;box-sizing: border-box;top: 0;bottom: 0;left: 50%;z-index: 0;}#sk-container-id-2 div.sk-serial {display: flex;flex-direction: column;align-items: center;background-color: white;padding-right: 0.2em;padding-left: 0.2em;position: relative;}#sk-container-id-2 div.sk-item {position: relative;z-index: 1;}#sk-container-id-2 div.sk-parallel {display: flex;align-items: stretch;justify-content: center;background-color: white;position: relative;}#sk-container-id-2 div.sk-item::before, #sk-container-id-2 div.sk-parallel-item::before {content: \"\";position: absolute;border-left: 1px solid gray;box-sizing: border-box;top: 0;bottom: 0;left: 50%;z-index: -1;}#sk-container-id-2 div.sk-parallel-item {display: flex;flex-direction: column;z-index: 1;position: relative;background-color: white;}#sk-container-id-2 div.sk-parallel-item:first-child::after {align-self: flex-end;width: 50%;}#sk-container-id-2 div.sk-parallel-item:last-child::after {align-self: flex-start;width: 50%;}#sk-container-id-2 div.sk-parallel-item:only-child::after {width: 0;}#sk-container-id-2 div.sk-dashed-wrapped {border: 1px dashed gray;margin: 0 0.4em 0.5em 0.4em;box-sizing: border-box;padding-bottom: 0.4em;background-color: white;}#sk-container-id-2 div.sk-label label {font-family: monospace;font-weight: bold;display: inline-block;line-height: 1.2em;}#sk-container-id-2 div.sk-label-container {text-align: center;}#sk-container-id-2 div.sk-container {/* jupyter's `normalize.less` sets `[hidden] { display: none; }` but bootstrap.min.css set `[hidden] { display: none !important; }` so we also need the `!important` here to be able to override the default hidden behavior on the sphinx rendered scikit-learn.org. See: https://github.com/scikit-learn/scikit-learn/issues/21755 */display: inline-block !important;position: relative;}#sk-container-id-2 div.sk-text-repr-fallback {display: none;}</style><div id=\"sk-container-id-2\" class=\"sk-top-container\"><div class=\"sk-text-repr-fallback\"><pre>LogisticRegression(C=100, solver=&#x27;liblinear&#x27;)</pre><b>In a Jupyter environment, please rerun this cell to show the HTML representation or trust the notebook. <br />On GitHub, the HTML representation is unable to render, please try loading this page with nbviewer.org.</b></div><div class=\"sk-container\" hidden><div class=\"sk-item\"><div class=\"sk-estimator sk-toggleable\"><input class=\"sk-toggleable__control sk-hidden--visually\" id=\"sk-estimator-id-4\" type=\"checkbox\" checked><label for=\"sk-estimator-id-4\" class=\"sk-toggleable__label sk-toggleable__label-arrow\">LogisticRegression</label><div class=\"sk-toggleable__content\"><pre>LogisticRegression(C=100, solver=&#x27;liblinear&#x27;)</pre></div></div></div></div></div>"
            ]
          },
          "metadata": {},
          "execution_count": 55
        }
      ],
      "source": [
        "## Fit the best model\n",
        "log_reg_best = LogisticRegression(**log_reg_grid.best_params_)\n",
        "log_reg_best.fit(train_embeddings_df, y_train)"
      ]
    },
    {
      "cell_type": "markdown",
      "id": "8f3a5766",
      "metadata": {
        "id": "8f3a5766"
      },
      "source": [
        "## Predict on Test set for Logistic Regression"
      ]
    },
    {
      "cell_type": "code",
      "execution_count": null,
      "id": "688a3888-8770-461f-bd7d-4b9e536595df",
      "metadata": {
        "id": "688a3888-8770-461f-bd7d-4b9e536595df"
      },
      "outputs": [],
      "source": [
        "#preds = logisticRegr.predict(test_embs)\n",
        "\n",
        "\n",
        "# predict on test set\n",
        "log_reg_preds = log_reg_best.predict(test_embeddings_df)\n",
        "log_reg_pred_probs = log_reg_best.predict_proba(test_embeddings_df)\n",
        "log_reg_probs = log_reg_pred_probs[:,1]"
      ]
    },
    {
      "cell_type": "markdown",
      "id": "37647ffe",
      "metadata": {
        "id": "37647ffe"
      },
      "source": [
        "## Evaluation Metrics for Logistic Regression"
      ]
    },
    {
      "cell_type": "code",
      "execution_count": null,
      "id": "1d6ffac5-1c8d-4216-a6dc-b11411e8cd35",
      "metadata": {
        "colab": {
          "base_uri": "https://localhost:8080/"
        },
        "id": "1d6ffac5-1c8d-4216-a6dc-b11411e8cd35",
        "outputId": "e4e1569f-ee3c-4cd9-8d4f-501dfef339d1"
      },
      "outputs": [
        {
          "output_type": "stream",
          "name": "stdout",
          "text": [
            "Confusion Matrix for best Logistic Regression Model\n",
            "\n",
            "[[253  26]\n",
            " [  0 279]]\n"
          ]
        }
      ],
      "source": [
        "# imports\n",
        "from sklearn.metrics import classification_report, confusion_matrix\n",
        "\n",
        "\n",
        "# print confusion matrix\n",
        "log_reg_conf_mat = confusion_matrix(y_test, log_reg_preds)\n",
        "# print raw confusion matrix\n",
        "print('Confusion Matrix for best Logistic Regression Model\\n')\n",
        "print(log_reg_conf_mat)"
      ]
    },
    {
      "cell_type": "code",
      "execution_count": null,
      "id": "1425f887",
      "metadata": {
        "colab": {
          "base_uri": "https://localhost:8080/",
          "height": 718
        },
        "id": "1425f887",
        "outputId": "7b491754-9472-4e2a-b35c-07985772b3d6"
      },
      "outputs": [
        {
          "output_type": "display_data",
          "data": {
            "text/plain": [
              "<Figure size 1200x800 with 2 Axes>"
            ],
            "image/png": "[encoded data removed]"
          },
          "metadata": {}
        }
      ],
      "source": [
        "## visualize the confusion matrix\n",
        "import seaborn as sns\n",
        "plt.figure(figsize=(12, 8))\n",
        "sns.heatmap(log_reg_conf_mat, annot=True, fmt='d', cmap='coolwarm', xticklabels=['False', 'True'], yticklabels=['False', 'True'])\n",
        "plt.xlabel('Predicted')\n",
        "plt.ylabel('Actual')\n",
        "plt.title('Confusion Matrix for Best Logistic Regression Model')\n",
        "plt.show();"
      ]
    },
    {
      "cell_type": "markdown",
      "source": [
        "# Summary of Confusion Matrix for Logistic Regression Model\n",
        "* True Negatives (False): 253\n",
        "* True Positives (True): 279\n",
        "--------------------------------\n",
        "* False Positives: 26\n",
        "* False Negatives: 0\n",
        "--------------------------------\n",
        "* Thus we can concluded that the Logistic Regression model classified 279 of the messages as True or related to Safety or Security and 253 of the messages as False or not related.\n",
        "* There were 26 false positives so it would be interesting to look closer at these to see why they were classified as false positive.\n"
      ],
      "metadata": {
        "id": "41jgiJQhcn75"
      },
      "id": "41jgiJQhcn75"
    },
    {
      "cell_type": "code",
      "execution_count": null,
      "id": "a7f3ae5f",
      "metadata": {
        "colab": {
          "base_uri": "https://localhost:8080/"
        },
        "id": "a7f3ae5f",
        "outputId": "4e1b6214-4971-4ac1-8ad0-adc6c48f4876"
      },
      "outputs": [
        {
          "output_type": "stream",
          "name": "stdout",
          "text": [
            "Classification Report for Best Logistic Regression Model\n",
            "\n",
            "              precision    recall  f1-score   support\n",
            "\n",
            "       False       1.00      0.91      0.95       279\n",
            "        True       0.91      1.00      0.96       279\n",
            "\n",
            "    accuracy                           0.95       558\n",
            "   macro avg       0.96      0.95      0.95       558\n",
            "weighted avg       0.96      0.95      0.95       558\n",
            "\n"
          ]
        }
      ],
      "source": [
        "## print classification report for Logistic Regression\n",
        "target_names = ['False', 'True']\n",
        "print('Classification Report for Best Logistic Regression Model\\n')\n",
        "## print the classification report\n",
        "print(classification_report(y_test, log_reg_preds, target_names=target_names))"
      ]
    },
    {
      "cell_type": "markdown",
      "source": [
        "# Summary of Classification Report for Best Logistic Regression Model\n",
        "* The overall model accuracy (or how often the model is correct overall) was 0.95 or 95%.\n",
        "* The precision which shows us how often the model is correct when predicting the target class was 100% for predicting False and 91% for predicting True.\n",
        "* The recall which shows us how well our model can find all objects in the target class was 91% for False and 100% for True. **This makes complete sense as there is a 'precision-recall trade-off' that often occurs with one being higher than the other.\n",
        "* The F1 score or harmonic mean of both the precision and accuracy was similar for both classes at 95% for False and 96% for True.\n",
        "* Overall it seems this model performed quite well on performing the binary classification."
      ],
      "metadata": {
        "id": "pkiIPRjYd5xP"
      },
      "id": "pkiIPRjYd5xP"
    },
    {
      "cell_type": "code",
      "execution_count": null,
      "id": "71bef944",
      "metadata": {
        "colab": {
          "base_uri": "https://localhost:8080/"
        },
        "id": "71bef944",
        "outputId": "1e43f87f-63e4-45f0-8523-7e813dd8ba59"
      },
      "outputs": [
        {
          "output_type": "execute_result",
          "data": {
            "text/plain": [
              "0.953405017921147"
            ]
          },
          "metadata": {},
          "execution_count": 60
        }
      ],
      "source": [
        "# score the model\n",
        "lr_score = log_reg_best.score(test_embeddings_df, y_test)\n",
        "lr_score"
      ]
    },
    {
      "cell_type": "markdown",
      "source": [
        "# Summary of Logistic Regression Model\n",
        "* We can say that the model did pretty well overall with an accuracy of 95% and the F1 score for both classes False and True was 95% and 96% respectively.\n",
        "* There were more true positives or 1 predicted for classifying the text as \"Safety or Security\" than true negatives. There were 26 false positives and no false negatives. It would be prudent to take a closer look at these false positives and understand why this happened.\n",
        "\n"
      ],
      "metadata": {
        "id": "2e7zp-S6blFe"
      },
      "id": "2e7zp-S6blFe"
    },
    {
      "cell_type": "markdown",
      "id": "5391a64a",
      "metadata": {
        "id": "5391a64a"
      },
      "source": [
        "## Model 2: XGBoost\n",
        "* We want to use a classifier model to perform classification on our text.\n",
        "* I am going to use the `RandomizedSearchCV` instead of `GridSearchCV` because of the time and amount of GPUs it will take to perform a full gridsearch."
      ]
    },
    {
      "cell_type": "code",
      "execution_count": null,
      "id": "b5884856-e7e3-4f11-bca3-0c6dd0088b8d",
      "metadata": {
        "id": "b5884856-e7e3-4f11-bca3-0c6dd0088b8d"
      },
      "outputs": [],
      "source": [
        "import xgboost as xgb\n",
        "from sklearn.model_selection import RandomizedSearchCV"
      ]
    },
    {
      "cell_type": "code",
      "source": [
        "# Move model to GPU if available - setup device agnostic code\n",
        "device = torch.device(\"cuda\" if torch.cuda.is_available() else \"cpu\")"
      ],
      "metadata": {
        "id": "Bi2Yesnbx-Oc"
      },
      "id": "Bi2Yesnbx-Oc",
      "execution_count": null,
      "outputs": []
    },
    {
      "cell_type": "markdown",
      "source": [
        "### Train XGBoost Classifier\n",
        "* First I am going to create a custom callback class to use with XGBoost so I know how long it took to train the model. XGBoost does not have built in callbacks to do this which is why I am creating a custom class."
      ],
      "metadata": {
        "id": "9UwM8nn4ySc6"
      },
      "id": "9UwM8nn4ySc6"
    },
    {
      "cell_type": "code",
      "source": [
        "from tqdm import tqdm\n",
        "from xgboost.callback import TrainingCallback\n",
        "\n",
        "# Creating a custom callback to integrate tqdm progress bar with XGBoost\n",
        "class TQDMCallback(TrainingCallback):\n",
        "    def __init__(self, verbose=True):\n",
        "        self.verbose = verbose\n",
        "\n",
        "    def before_training(self, model):\n",
        "        self.pbar = tqdm(total=model.attr('num_boost_round'), disable=not self.verbose)\n",
        "        return model\n",
        "\n",
        "    def after_iteration(self, model, epoch, evals_log):\n",
        "        self.pbar.update(1)\n",
        "        return False\n",
        "\n",
        "    def after_training(self, model):\n",
        "        self.pbar.close()\n",
        "        return model\n",
        "\n"
      ],
      "metadata": {
        "id": "v0cvS_6c2_Zc"
      },
      "id": "v0cvS_6c2_Zc",
      "execution_count": null,
      "outputs": []
    },
    {
      "cell_type": "code",
      "source": [
        "# Initialize the XGBoost Classifier Model with early stopping\n",
        "xgb_clf = xgb.XGBClassifier(objective='binary:logistic',\n",
        "                            random_state=seed,\n",
        "                            device=device,\n",
        "                            eval_metric='logloss',\n",
        "                            early_stopping_rounds=10,\n",
        "                            callbacks=[TQDMCallback()],\n",
        "                            use_label_encoder=False)\n",
        "\n",
        "# Define the hyperparameters and values to search\n",
        "param_dist = {\n",
        "    'max_depth': [3, 5, 7, 9],\n",
        "    'n_estimators': [50, 100, 150, 200],\n",
        "    'learning_rate': [0.01, 0.1, 0.2, 0.3],\n",
        "\n",
        "}\n",
        "\n",
        "# Setup randomized search instead of grid search for efficiency\n",
        "xgb_random = RandomizedSearchCV(estimator=xgb_clf, param_distributions=param_dist, n_iter=10, scoring='accuracy', n_jobs=-1, cv=cross_val, verbose=3, random_state=seed)\n"
      ],
      "metadata": {
        "id": "y4xYKR_uCj8x"
      },
      "id": "y4xYKR_uCj8x",
      "execution_count": null,
      "outputs": []
    },
    {
      "cell_type": "code",
      "source": [
        "# Fit the XGBoost model\n",
        "xgb_random.fit(train_embeddings_df, y_train, eval_set=[(train_embeddings_df, y_train)], verbose=False)\n",
        "\n",
        "# Summarize results and find best hyperparameters\n",
        "print(\"The best hyperparameters are: \", xgb_random.best_score_, xgb_random.best_params_)\n",
        "print(\"The best learning rate is: \", xgb_random.best_params_['learning_rate'])\n",
        "print(\"The best max depth is:\", xgb_random.best_params_['max_depth'])\n",
        "print(\"The best n_estimators are: \", xgb_random.best_params_['n_estimators'])"
      ],
      "metadata": {
        "colab": {
          "base_uri": "https://localhost:8080/"
        },
        "id": "x8d4mCPU42ln",
        "outputId": "a2ff73b8-5c02-4ec4-c2ba-f8635f0c7e35"
      },
      "id": "x8d4mCPU42ln",
      "execution_count": null,
      "outputs": [
        {
          "output_type": "stream",
          "name": "stdout",
          "text": [
            "Fitting 30 folds for each of 10 candidates, totalling 300 fits\n"
          ]
        },
        {
          "output_type": "stream",
          "name": "stderr",
          "text": [
            "\r0it [00:00, ?it/s]/usr/local/lib/python3.10/dist-packages/xgboost/core.py:160: UserWarning: [03:03:44] WARNING: /workspace/src/context.cc:44: No visible GPU is found, setting device to CPU.\n",
            "  warnings.warn(smsg, UserWarning)\n",
            "100it [00:21,  4.72it/s]\n"
          ]
        },
        {
          "output_type": "stream",
          "name": "stdout",
          "text": [
            "The best hyperparameters are:  0.9808568658344442 {'n_estimators': 100, 'max_depth': 7, 'learning_rate': 0.1}\n",
            "The best learning rate is:  0.1\n",
            "The best max depth is: 7\n",
            "The best n_estimators are:  100\n"
          ]
        }
      ]
    },
    {
      "cell_type": "code",
      "source": [
        "## define the best params for the classifier fit below\n",
        "best_max_depth = xgb_random.best_params_['max_depth']\n",
        "best_n_estimators = xgb_random.best_params_['n_estimators']\n",
        "best_learning_rate = xgb_random.best_params_['learning_rate']"
      ],
      "metadata": {
        "id": "mgRnaxMa13ml"
      },
      "id": "mgRnaxMa13ml",
      "execution_count": null,
      "outputs": []
    },
    {
      "cell_type": "code",
      "source": [
        "print(best_max_depth)\n",
        "print(best_n_estimators)\n",
        "print(best_learning_rate)"
      ],
      "metadata": {
        "colab": {
          "base_uri": "https://localhost:8080/"
        },
        "id": "fahPxiup_SGa",
        "outputId": "05122233-5391-4452-ee79-80cdd41e01ff"
      },
      "id": "fahPxiup_SGa",
      "execution_count": null,
      "outputs": [
        {
          "output_type": "stream",
          "name": "stdout",
          "text": [
            "7\n",
            "100\n",
            "0.1\n"
          ]
        }
      ]
    },
    {
      "cell_type": "markdown",
      "source": [
        "### Now fit the best XGBoost Model"
      ],
      "metadata": {
        "id": "1r7ALiZM_aMm"
      },
      "id": "1r7ALiZM_aMm"
    },
    {
      "cell_type": "code",
      "execution_count": null,
      "id": "25b1c113",
      "metadata": {
        "colab": {
          "base_uri": "https://localhost:8080/",
          "height": 248
        },
        "id": "25b1c113",
        "outputId": "fea2b76f-3ce2-4c1b-ca66-42c51231b610"
      },
      "outputs": [
        {
          "output_type": "execute_result",
          "data": {
            "text/plain": [
              "XGBClassifier(base_score=None, booster=None, callbacks=None,\n",
              "              colsample_bylevel=None, colsample_bynode=None,\n",
              "              colsample_bytree=None, device=None, early_stopping_rounds=None,\n",
              "              enable_categorical=False, eta=0.1, eval_metric='logloss',\n",
              "              feature_types=None, gamma=None, grow_policy=None,\n",
              "              importance_type=None, interaction_constraints=None,\n",
              "              learning_rate=None, max_bin=None, max_cat_threshold=None,\n",
              "              max_cat_to_onehot=None, max_delta_step=None, max_depth=7,\n",
              "              max_leaves=None, min_child_weight=None, missing=nan,\n",
              "              monotone_constraints=None, multi_strategy=None, n_estimators=100,\n",
              "              n_jobs=None, num_parallel_tree=None, ...)"
            ],
            "text/html": [
              "<style>#sk-container-id-3 {color: black;background-color: white;}#sk-container-id-3 pre{padding: 0;}#sk-container-id-3 div.sk-toggleable {background-color: white;}#sk-container-id-3 label.sk-toggleable__label {cursor: pointer;display: block;width: 100%;margin-bottom: 0;padding: 0.3em;box-sizing: border-box;text-align: center;}#sk-container-id-3 label.sk-toggleable__label-arrow:before {content: \"▸\";float: left;margin-right: 0.25em;color: #696969;}#sk-container-id-3 label.sk-toggleable__label-arrow:hover:before {color: black;}#sk-container-id-3 div.sk-estimator:hover label.sk-toggleable__label-arrow:before {color: black;}#sk-container-id-3 div.sk-toggleable__content {max-height: 0;max-width: 0;overflow: hidden;text-align: left;background-color: #f0f8ff;}#sk-container-id-3 div.sk-toggleable__content pre {margin: 0.2em;color: black;border-radius: 0.25em;background-color: #f0f8ff;}#sk-container-id-3 input.sk-toggleable__control:checked~div.sk-toggleable__content {max-height: 200px;max-width: 100%;overflow: auto;}#sk-container-id-3 input.sk-toggleable__control:checked~label.sk-toggleable__label-arrow:before {content: \"▾\";}#sk-container-id-3 div.sk-estimator input.sk-toggleable__control:checked~label.sk-toggleable__label {background-color: #d4ebff;}#sk-container-id-3 div.sk-label input.sk-toggleable__control:checked~label.sk-toggleable__label {background-color: #d4ebff;}#sk-container-id-3 input.sk-hidden--visually {border: 0;clip: rect(1px 1px 1px 1px);clip: rect(1px, 1px, 1px, 1px);height: 1px;margin: -1px;overflow: hidden;padding: 0;position: absolute;width: 1px;}#sk-container-id-3 div.sk-estimator {font-family: monospace;background-color: #f0f8ff;border: 1px dotted black;border-radius: 0.25em;box-sizing: border-box;margin-bottom: 0.5em;}#sk-container-id-3 div.sk-estimator:hover {background-color: #d4ebff;}#sk-container-id-3 div.sk-parallel-item::after {content: \"\";width: 100%;border-bottom: 1px solid gray;flex-grow: 1;}#sk-container-id-3 div.sk-label:hover label.sk-toggleable__label {background-color: #d4ebff;}#sk-container-id-3 div.sk-serial::before {content: \"\";position: absolute;border-left: 1px solid gray;box-sizing: border-box;top: 0;bottom: 0;left: 50%;z-index: 0;}#sk-container-id-3 div.sk-serial {display: flex;flex-direction: column;align-items: center;background-color: white;padding-right: 0.2em;padding-left: 0.2em;position: relative;}#sk-container-id-3 div.sk-item {position: relative;z-index: 1;}#sk-container-id-3 div.sk-parallel {display: flex;align-items: stretch;justify-content: center;background-color: white;position: relative;}#sk-container-id-3 div.sk-item::before, #sk-container-id-3 div.sk-parallel-item::before {content: \"\";position: absolute;border-left: 1px solid gray;box-sizing: border-box;top: 0;bottom: 0;left: 50%;z-index: -1;}#sk-container-id-3 div.sk-parallel-item {display: flex;flex-direction: column;z-index: 1;position: relative;background-color: white;}#sk-container-id-3 div.sk-parallel-item:first-child::after {align-self: flex-end;width: 50%;}#sk-container-id-3 div.sk-parallel-item:last-child::after {align-self: flex-start;width: 50%;}#sk-container-id-3 div.sk-parallel-item:only-child::after {width: 0;}#sk-container-id-3 div.sk-dashed-wrapped {border: 1px dashed gray;margin: 0 0.4em 0.5em 0.4em;box-sizing: border-box;padding-bottom: 0.4em;background-color: white;}#sk-container-id-3 div.sk-label label {font-family: monospace;font-weight: bold;display: inline-block;line-height: 1.2em;}#sk-container-id-3 div.sk-label-container {text-align: center;}#sk-container-id-3 div.sk-container {/* jupyter's `normalize.less` sets `[hidden] { display: none; }` but bootstrap.min.css set `[hidden] { display: none !important; }` so we also need the `!important` here to be able to override the default hidden behavior on the sphinx rendered scikit-learn.org. See: https://github.com/scikit-learn/scikit-learn/issues/21755 */display: inline-block !important;position: relative;}#sk-container-id-3 div.sk-text-repr-fallback {display: none;}</style><div id=\"sk-container-id-3\" class=\"sk-top-container\"><div class=\"sk-text-repr-fallback\"><pre>XGBClassifier(base_score=None, booster=None, callbacks=None,\n",
              "              colsample_bylevel=None, colsample_bynode=None,\n",
              "              colsample_bytree=None, device=None, early_stopping_rounds=None,\n",
              "              enable_categorical=False, eta=0.1, eval_metric=&#x27;logloss&#x27;,\n",
              "              feature_types=None, gamma=None, grow_policy=None,\n",
              "              importance_type=None, interaction_constraints=None,\n",
              "              learning_rate=None, max_bin=None, max_cat_threshold=None,\n",
              "              max_cat_to_onehot=None, max_delta_step=None, max_depth=7,\n",
              "              max_leaves=None, min_child_weight=None, missing=nan,\n",
              "              monotone_constraints=None, multi_strategy=None, n_estimators=100,\n",
              "              n_jobs=None, num_parallel_tree=None, ...)</pre><b>In a Jupyter environment, please rerun this cell to show the HTML representation or trust the notebook. <br />On GitHub, the HTML representation is unable to render, please try loading this page with nbviewer.org.</b></div><div class=\"sk-container\" hidden><div class=\"sk-item\"><div class=\"sk-estimator sk-toggleable\"><input class=\"sk-toggleable__control sk-hidden--visually\" id=\"sk-estimator-id-5\" type=\"checkbox\" checked><label for=\"sk-estimator-id-5\" class=\"sk-toggleable__label sk-toggleable__label-arrow\">XGBClassifier</label><div class=\"sk-toggleable__content\"><pre>XGBClassifier(base_score=None, booster=None, callbacks=None,\n",
              "              colsample_bylevel=None, colsample_bynode=None,\n",
              "              colsample_bytree=None, device=None, early_stopping_rounds=None,\n",
              "              enable_categorical=False, eta=0.1, eval_metric=&#x27;logloss&#x27;,\n",
              "              feature_types=None, gamma=None, grow_policy=None,\n",
              "              importance_type=None, interaction_constraints=None,\n",
              "              learning_rate=None, max_bin=None, max_cat_threshold=None,\n",
              "              max_cat_to_onehot=None, max_delta_step=None, max_depth=7,\n",
              "              max_leaves=None, min_child_weight=None, missing=nan,\n",
              "              monotone_constraints=None, multi_strategy=None, n_estimators=100,\n",
              "              n_jobs=None, num_parallel_tree=None, ...)</pre></div></div></div></div></div>"
            ]
          },
          "metadata": {},
          "execution_count": 70
        }
      ],
      "source": [
        "## fit the final best XGBoost model\n",
        "xgb_best = xgb.XGBClassifier(max_depth=best_max_depth, n_estimators=best_n_estimators,\n",
        "                             eta=best_learning_rate,\n",
        "                             objective='binary:logistic',\n",
        "                             eval_metric='logloss',\n",
        "                             random_state=seed)\n",
        "\n",
        "\n",
        "\n",
        "# fit the best model\n",
        "xgb_best.fit(train_embeddings_df, y_train)"
      ]
    },
    {
      "cell_type": "markdown",
      "id": "90b6e027",
      "metadata": {
        "id": "90b6e027"
      },
      "source": [
        "## Fit on test set for XGBoost Model"
      ]
    },
    {
      "cell_type": "code",
      "execution_count": null,
      "id": "bab449c0",
      "metadata": {
        "id": "bab449c0"
      },
      "outputs": [],
      "source": [
        "# predict on test set\n",
        "xgb_preds = xgb_best.predict(test_embeddings_df)\n",
        "xgb_pred_probs = xgb_best.predict_proba(test_embeddings_df)\n",
        "xgb_probs = xgb_pred_probs[:,1]\n",
        "\n"
      ]
    },
    {
      "cell_type": "markdown",
      "id": "ccfc0907",
      "metadata": {
        "id": "ccfc0907"
      },
      "source": [
        "## Evaluation Metrics for XGBoost"
      ]
    },
    {
      "cell_type": "code",
      "execution_count": null,
      "metadata": {
        "colab": {
          "base_uri": "https://localhost:8080/"
        },
        "id": "NilP3f5h1euJ",
        "outputId": "57e4bc84-c49d-454c-faa7-a748bf7b9cbb"
      },
      "outputs": [
        {
          "output_type": "stream",
          "name": "stdout",
          "text": [
            "Confusion Matrix for best Logistic Regression Model\n",
            "\n",
            "[[272   7]\n",
            " [  0 279]]\n"
          ]
        }
      ],
      "source": [
        "# print confusion matrix\n",
        "conf_mat_xgb = confusion_matrix(y_test, xgb_preds)\n",
        "# print raw confusion matrix\n",
        "print('Confusion Matrix for best Logistic Regression Model\\n')\n",
        "print(conf_mat_xgb)"
      ],
      "id": "NilP3f5h1euJ"
    },
    {
      "cell_type": "code",
      "source": [
        "## visualize the confusion matrix for xgboost classifier\n",
        "plt.figure(figsize=(12, 8))\n",
        "sns.heatmap(conf_mat_xgb, annot=True, fmt='d', cmap='Spectral', xticklabels=['False', 'True'], yticklabels=['False', 'True'])\n",
        "plt.xlabel('Predicted')\n",
        "plt.ylabel('Actual')\n",
        "plt.title('Confusion Matrix for Best XGBoost Classifier Model')\n",
        "plt.show();"
      ],
      "metadata": {
        "colab": {
          "base_uri": "https://localhost:8080/",
          "height": 718
        },
        "id": "7ximFBfkAPua",
        "outputId": "4e628c8a-8732-4ce7-e19b-32f344e9c660"
      },
      "id": "7ximFBfkAPua",
      "execution_count": null,
      "outputs": [
        {
          "output_type": "display_data",
          "data": {
            "text/plain": [
              "<Figure size 1200x800 with 2 Axes>"
            ],
            "image/png": "[encoded data removed]"
          },
          "metadata": {}
        }
      ]
    },
    {
      "cell_type": "markdown",
      "source": [
        "# Summary of Confusion Matrix for XGBoost Classifier Model\n",
        "* True Negatives (False): 272\n",
        "* True Positives (True): 279\n",
        "--------------------------------\n",
        "* False Positives: 7\n",
        "* False Negatives: 0\n",
        "--------------------------------\n",
        "* Thus we can concluded that the XGBoost model classified 279 of the messages as True or related to Safety or Security which was the exact same number of True positives that the Logistic Regression Model classified.\n",
        "* The XGBoost model also classified 272 True Negatives as compared to the 253 True Negatives by the Logistic Regression Model as False or not related. So the XGBoost model performed better here.\n",
        "* Compared to the Logistic Regression model, the XGBoost model had significantly less false positives with only 7 compared to 26 false positives with the Logistic Regression model so it would be interesting to see what those 7 false positives were. But, this is a good sign that the XGBoost model performed better on the dataset.\n",
        "* Both models XGBoost and Logistic Regression had zero false negatives.\n"
      ],
      "metadata": {
        "id": "er3huhAqBTxi"
      },
      "id": "er3huhAqBTxi"
    },
    {
      "cell_type": "code",
      "execution_count": null,
      "id": "2fab0bdd",
      "metadata": {
        "colab": {
          "base_uri": "https://localhost:8080/"
        },
        "id": "2fab0bdd",
        "outputId": "eb034e68-9292-4428-effb-84e5543afa58"
      },
      "outputs": [
        {
          "output_type": "stream",
          "name": "stdout",
          "text": [
            "Classification Report for Best Logistic Regression Model\n",
            "\n",
            "              precision    recall  f1-score   support\n",
            "\n",
            "       False       1.00      0.97      0.99       279\n",
            "        True       0.98      1.00      0.99       279\n",
            "\n",
            "    accuracy                           0.99       558\n",
            "   macro avg       0.99      0.99      0.99       558\n",
            "weighted avg       0.99      0.99      0.99       558\n",
            "\n"
          ]
        }
      ],
      "source": [
        "## print classification report for Logistic Regression\n",
        "target_names = ['False', 'True']\n",
        "print('Classification Report for Best Logistic Regression Model\\n')\n",
        "## print the classification report\n",
        "print(classification_report(y_test, xgb_preds, target_names=target_names))"
      ]
    },
    {
      "cell_type": "markdown",
      "source": [
        "# Summary of Classification Report for Best XGBoost Model (and comparision to the Logistic Regression Model)\n",
        "* The overall model accuracy (or how often the model is correct overall) was 0.99 or 99% as compared to the Logistic Regression model which was 0.95 or 95%.\n",
        "* The precision which shows us how often the model is correct when predicting the target class was 100% for predicting False which was the same result for Logistic Regression and 98% for predicting True as compared to only 91% for predicting True for the Logistic Regression Model.\n",
        "* The recall which shows us how well our model can find all objects in the target class was 97% for False and 100% for True. Again the recall was better for the XGBoost model. **This makes complete sense as there is a 'precision-recall trade-off' that often occurs with one being higher than the other.\n",
        "* The F1 score or harmonic mean of both the precision and accuracy was the same for both classes at 99% which is near perfect text classification as compared to the Logistic Regression model which had F1 scores of 95% for False and 96% for True."
      ],
      "metadata": {
        "id": "v9yKuKR6CvHp"
      },
      "id": "v9yKuKR6CvHp"
    },
    {
      "cell_type": "code",
      "execution_count": null,
      "id": "41a12731",
      "metadata": {
        "colab": {
          "base_uri": "https://localhost:8080/"
        },
        "id": "41a12731",
        "outputId": "bdc95404-a346-4ceb-e691-a053642c53ea"
      },
      "outputs": [
        {
          "output_type": "execute_result",
          "data": {
            "text/plain": [
              "0.9874551971326165"
            ]
          },
          "metadata": {},
          "execution_count": 75
        }
      ],
      "source": [
        "# score the model\n",
        "xgb_score = xgb_best.score(test_embeddings_df, y_test)\n",
        "xgb_score"
      ]
    },
    {
      "cell_type": "markdown",
      "id": "bfcb938e",
      "metadata": {
        "id": "bfcb938e"
      },
      "source": [
        "## Compare Error Ratio between models"
      ]
    },
    {
      "cell_type": "code",
      "execution_count": null,
      "id": "77834664-6a39-4488-8809-1a757efaec21",
      "metadata": {
        "colab": {
          "base_uri": "https://localhost:8080/"
        },
        "id": "77834664-6a39-4488-8809-1a757efaec21",
        "outputId": "72124c03-3d5d-4f66-9c25-bf1de3ed6ff9"
      },
      "outputs": [
        {
          "output_type": "execute_result",
          "data": {
            "text/plain": [
              "3.714285714285728"
            ]
          },
          "metadata": {},
          "execution_count": 76
        }
      ],
      "source": [
        "## calculate the error ratio between models using the built-in mean accuracy score from sklearn\n",
        "error_ratio = (1-lr_score) / (1-xgb_score)\n",
        "error_ratio"
      ]
    },
    {
      "cell_type": "markdown",
      "id": "29e76b11-3e57-48c9-8e34-d0aa672e650b",
      "metadata": {
        "id": "29e76b11-3e57-48c9-8e34-d0aa672e650b"
      },
      "source": [
        "# Overall Summary\n",
        "* The XGBoost model overall performed much better than Logistic Regression with a final mean accuracy score of 98.7% compared to Logistic Regression which was 95.3%.\n",
        "* The XGBoost model also was able to classify the same number of True positives as the Logistic Regression model and was better at classifying the True Negatives than the Logistic Regression model.\n",
        "* It would be interesting to compare the XGBoost model to other classifiers or even a transformer BERT based model, but I do feel based on these observations that the XGBoost model really is the best model for the classification task as proven by the evaluation metrics.\n"
      ]
    }
  ],
  "metadata": {
    "kernelspec": {
      "display_name": "Python 3",
      "name": "python3"
    },
    "language_info": {
      "codemirror_mode": {
        "name": "ipython",
        "version": 3
      },
      "file_extension": ".py",
      "mimetype": "text/x-python",
      "name": "python",
      "nbconvert_exporter": "python",
      "pygments_lexer": "ipython3",
      "version": "3.12.3"
    },
    "colab": {
      "provenance": [],
      "gpuType": "T4"
    },
    "accelerator": "GPU",
    "widgets": {
      "application/vnd.jupyter.widget-state+json": {
        "5f6391a7d94f4e43b56702ceeb5a8fc8": {
          "model_module": "@jupyter-widgets/controls",
          "model_name": "HBoxModel",
          "model_module_version": "1.5.0",
          "state": {
            "_dom_classes": [],
            "_model_module": "@jupyter-widgets/controls",
            "_model_module_version": "1.5.0",
            "_model_name": "HBoxModel",
            "_view_count": null,
            "_view_module": "@jupyter-widgets/controls",
            "_view_module_version": "1.5.0",
            "_view_name": "HBoxView",
            "box_style": "",
            "children": [
              "IPY_MODEL_63aa92826f0345c58309c9ff45660055",
              "IPY_MODEL_f27731d7cf7e45ea9698f84527b46801",
              "IPY_MODEL_231e7b4ef55846a4908d26dac26da27b"
            ],
            "layout": "IPY_MODEL_380710b6a2d348e1afaa28ac9ef23a2f"
          }
        },
        "63aa92826f0345c58309c9ff45660055": {
          "model_module": "@jupyter-widgets/controls",
          "model_name": "HTMLModel",
          "model_module_version": "1.5.0",
          "state": {
            "_dom_classes": [],
            "_model_module": "@jupyter-widgets/controls",
            "_model_module_version": "1.5.0",
            "_model_name": "HTMLModel",
            "_view_count": null,
            "_view_module": "@jupyter-widgets/controls",
            "_view_module_version": "1.5.0",
            "_view_name": "HTMLView",
            "description": "",
            "description_tooltip": null,
            "layout": "IPY_MODEL_95d0bfb8b08a4d538be7ebb477811c16",
            "placeholder": "​",
            "style": "IPY_MODEL_0b24fbd6e419473ab262b00db37808cd",
            "value": "tokenizer_config.json: 100%"
          }
        },
        "f27731d7cf7e45ea9698f84527b46801": {
          "model_module": "@jupyter-widgets/controls",
          "model_name": "FloatProgressModel",
          "model_module_version": "1.5.0",
          "state": {
            "_dom_classes": [],
            "_model_module": "@jupyter-widgets/controls",
            "_model_module_version": "1.5.0",
            "_model_name": "FloatProgressModel",
            "_view_count": null,
            "_view_module": "@jupyter-widgets/controls",
            "_view_module_version": "1.5.0",
            "_view_name": "ProgressView",
            "bar_style": "success",
            "description": "",
            "description_tooltip": null,
            "layout": "IPY_MODEL_9477bfa6fb174eacb8aaa22f22ed60e1",
            "max": 1193,
            "min": 0,
            "orientation": "horizontal",
            "style": "IPY_MODEL_68b3b995cdba487f8b51a87c2a345a11",
            "value": 1193
          }
        },
        "231e7b4ef55846a4908d26dac26da27b": {
          "model_module": "@jupyter-widgets/controls",
          "model_name": "HTMLModel",
          "model_module_version": "1.5.0",
          "state": {
            "_dom_classes": [],
            "_model_module": "@jupyter-widgets/controls",
            "_model_module_version": "1.5.0",
            "_model_name": "HTMLModel",
            "_view_count": null,
            "_view_module": "@jupyter-widgets/controls",
            "_view_module_version": "1.5.0",
            "_view_name": "HTMLView",
            "description": "",
            "description_tooltip": null,
            "layout": "IPY_MODEL_a3e609d1a33749acaa1d75bf5bca847a",
            "placeholder": "​",
            "style": "IPY_MODEL_ee1c5d3254904d6fb2080d11e9f7c5c5",
            "value": " 1.19k/1.19k [00:00&lt;00:00, 62.1kB/s]"
          }
        },
        "380710b6a2d348e1afaa28ac9ef23a2f": {
          "model_module": "@jupyter-widgets/base",
          "model_name": "LayoutModel",
          "model_module_version": "1.2.0",
          "state": {
            "_model_module": "@jupyter-widgets/base",
            "_model_module_version": "1.2.0",
            "_model_name": "LayoutModel",
            "_view_count": null,
            "_view_module": "@jupyter-widgets/base",
            "_view_module_version": "1.2.0",
            "_view_name": "LayoutView",
            "align_content": null,
            "align_items": null,
            "align_self": null,
            "border": null,
            "bottom": null,
            "display": null,
            "flex": null,
            "flex_flow": null,
            "grid_area": null,
            "grid_auto_columns": null,
            "grid_auto_flow": null,
            "grid_auto_rows": null,
            "grid_column": null,
            "grid_gap": null,
            "grid_row": null,
            "grid_template_areas": null,
            "grid_template_columns": null,
            "grid_template_rows": null,
            "height": null,
            "justify_content": null,
            "justify_items": null,
            "left": null,
            "margin": null,
            "max_height": null,
            "max_width": null,
            "min_height": null,
            "min_width": null,
            "object_fit": null,
            "object_position": null,
            "order": null,
            "overflow": null,
            "overflow_x": null,
            "overflow_y": null,
            "padding": null,
            "right": null,
            "top": null,
            "visibility": null,
            "width": null
          }
        },
        "95d0bfb8b08a4d538be7ebb477811c16": {
          "model_module": "@jupyter-widgets/base",
          "model_name": "LayoutModel",
          "model_module_version": "1.2.0",
          "state": {
            "_model_module": "@jupyter-widgets/base",
            "_model_module_version": "1.2.0",
            "_model_name": "LayoutModel",
            "_view_count": null,
            "_view_module": "@jupyter-widgets/base",
            "_view_module_version": "1.2.0",
            "_view_name": "LayoutView",
            "align_content": null,
            "align_items": null,
            "align_self": null,
            "border": null,
            "bottom": null,
            "display": null,
            "flex": null,
            "flex_flow": null,
            "grid_area": null,
            "grid_auto_columns": null,
            "grid_auto_flow": null,
            "grid_auto_rows": null,
            "grid_column": null,
            "grid_gap": null,
            "grid_row": null,
            "grid_template_areas": null,
            "grid_template_columns": null,
            "grid_template_rows": null,
            "height": null,
            "justify_content": null,
            "justify_items": null,
            "left": null,
            "margin": null,
            "max_height": null,
            "max_width": null,
            "min_height": null,
            "min_width": null,
            "object_fit": null,
            "object_position": null,
            "order": null,
            "overflow": null,
            "overflow_x": null,
            "overflow_y": null,
            "padding": null,
            "right": null,
            "top": null,
            "visibility": null,
            "width": null
          }
        },
        "0b24fbd6e419473ab262b00db37808cd": {
          "model_module": "@jupyter-widgets/controls",
          "model_name": "DescriptionStyleModel",
          "model_module_version": "1.5.0",
          "state": {
            "_model_module": "@jupyter-widgets/controls",
            "_model_module_version": "1.5.0",
            "_model_name": "DescriptionStyleModel",
            "_view_count": null,
            "_view_module": "@jupyter-widgets/base",
            "_view_module_version": "1.2.0",
            "_view_name": "StyleView",
            "description_width": ""
          }
        },
        "9477bfa6fb174eacb8aaa22f22ed60e1": {
          "model_module": "@jupyter-widgets/base",
          "model_name": "LayoutModel",
          "model_module_version": "1.2.0",
          "state": {
            "_model_module": "@jupyter-widgets/base",
            "_model_module_version": "1.2.0",
            "_model_name": "LayoutModel",
            "_view_count": null,
            "_view_module": "@jupyter-widgets/base",
            "_view_module_version": "1.2.0",
            "_view_name": "LayoutView",
            "align_content": null,
            "align_items": null,
            "align_self": null,
            "border": null,
            "bottom": null,
            "display": null,
            "flex": null,
            "flex_flow": null,
            "grid_area": null,
            "grid_auto_columns": null,
            "grid_auto_flow": null,
            "grid_auto_rows": null,
            "grid_column": null,
            "grid_gap": null,
            "grid_row": null,
            "grid_template_areas": null,
            "grid_template_columns": null,
            "grid_template_rows": null,
            "height": null,
            "justify_content": null,
            "justify_items": null,
            "left": null,
            "margin": null,
            "max_height": null,
            "max_width": null,
            "min_height": null,
            "min_width": null,
            "object_fit": null,
            "object_position": null,
            "order": null,
            "overflow": null,
            "overflow_x": null,
            "overflow_y": null,
            "padding": null,
            "right": null,
            "top": null,
            "visibility": null,
            "width": null
          }
        },
        "68b3b995cdba487f8b51a87c2a345a11": {
          "model_module": "@jupyter-widgets/controls",
          "model_name": "ProgressStyleModel",
          "model_module_version": "1.5.0",
          "state": {
            "_model_module": "@jupyter-widgets/controls",
            "_model_module_version": "1.5.0",
            "_model_name": "ProgressStyleModel",
            "_view_count": null,
            "_view_module": "@jupyter-widgets/base",
            "_view_module_version": "1.2.0",
            "_view_name": "StyleView",
            "bar_color": null,
            "description_width": ""
          }
        },
        "a3e609d1a33749acaa1d75bf5bca847a": {
          "model_module": "@jupyter-widgets/base",
          "model_name": "LayoutModel",
          "model_module_version": "1.2.0",
          "state": {
            "_model_module": "@jupyter-widgets/base",
            "_model_module_version": "1.2.0",
            "_model_name": "LayoutModel",
            "_view_count": null,
            "_view_module": "@jupyter-widgets/base",
            "_view_module_version": "1.2.0",
            "_view_name": "LayoutView",
            "align_content": null,
            "align_items": null,
            "align_self": null,
            "border": null,
            "bottom": null,
            "display": null,
            "flex": null,
            "flex_flow": null,
            "grid_area": null,
            "grid_auto_columns": null,
            "grid_auto_flow": null,
            "grid_auto_rows": null,
            "grid_column": null,
            "grid_gap": null,
            "grid_row": null,
            "grid_template_areas": null,
            "grid_template_columns": null,
            "grid_template_rows": null,
            "height": null,
            "justify_content": null,
            "justify_items": null,
            "left": null,
            "margin": null,
            "max_height": null,
            "max_width": null,
            "min_height": null,
            "min_width": null,
            "object_fit": null,
            "object_position": null,
            "order": null,
            "overflow": null,
            "overflow_x": null,
            "overflow_y": null,
            "padding": null,
            "right": null,
            "top": null,
            "visibility": null,
            "width": null
          }
        },
        "ee1c5d3254904d6fb2080d11e9f7c5c5": {
          "model_module": "@jupyter-widgets/controls",
          "model_name": "DescriptionStyleModel",
          "model_module_version": "1.5.0",
          "state": {
            "_model_module": "@jupyter-widgets/controls",
            "_model_module_version": "1.5.0",
            "_model_name": "DescriptionStyleModel",
            "_view_count": null,
            "_view_module": "@jupyter-widgets/base",
            "_view_module_version": "1.2.0",
            "_view_name": "StyleView",
            "description_width": ""
          }
        },
        "9053cad8f138414b9c81933de2fca19c": {
          "model_module": "@jupyter-widgets/controls",
          "model_name": "HBoxModel",
          "model_module_version": "1.5.0",
          "state": {
            "_dom_classes": [],
            "_model_module": "@jupyter-widgets/controls",
            "_model_module_version": "1.5.0",
            "_model_name": "HBoxModel",
            "_view_count": null,
            "_view_module": "@jupyter-widgets/controls",
            "_view_module_version": "1.5.0",
            "_view_name": "HBoxView",
            "box_style": "",
            "children": [
              "IPY_MODEL_b3d80480af5e4bc8aa4cdd231000adf5",
              "IPY_MODEL_e405792c2e6b4b14952ddd57f96b6423",
              "IPY_MODEL_3d0ef7a38ad5402c80d9be5e61739f0d"
            ],
            "layout": "IPY_MODEL_0afc746cc6b146e8937273d7a8637fa4"
          }
        },
        "b3d80480af5e4bc8aa4cdd231000adf5": {
          "model_module": "@jupyter-widgets/controls",
          "model_name": "HTMLModel",
          "model_module_version": "1.5.0",
          "state": {
            "_dom_classes": [],
            "_model_module": "@jupyter-widgets/controls",
            "_model_module_version": "1.5.0",
            "_model_name": "HTMLModel",
            "_view_count": null,
            "_view_module": "@jupyter-widgets/controls",
            "_view_module_version": "1.5.0",
            "_view_name": "HTMLView",
            "description": "",
            "description_tooltip": null,
            "layout": "IPY_MODEL_091a8ee10cd2406186d2f43a4ee3f690",
            "placeholder": "​",
            "style": "IPY_MODEL_4c7e551b28cd47b2bd6fdd550ec69a9a",
            "value": "config.json: 100%"
          }
        },
        "e405792c2e6b4b14952ddd57f96b6423": {
          "model_module": "@jupyter-widgets/controls",
          "model_name": "FloatProgressModel",
          "model_module_version": "1.5.0",
          "state": {
            "_dom_classes": [],
            "_model_module": "@jupyter-widgets/controls",
            "_model_module_version": "1.5.0",
            "_model_name": "FloatProgressModel",
            "_view_count": null,
            "_view_module": "@jupyter-widgets/controls",
            "_view_module_version": "1.5.0",
            "_view_name": "ProgressView",
            "bar_style": "success",
            "description": "",
            "description_tooltip": null,
            "layout": "IPY_MODEL_b6c55e1b2a4c44fbaa242dcc1a048336",
            "max": 594,
            "min": 0,
            "orientation": "horizontal",
            "style": "IPY_MODEL_9010bb42083245b3a0df842a9dab2bee",
            "value": 594
          }
        },
        "3d0ef7a38ad5402c80d9be5e61739f0d": {
          "model_module": "@jupyter-widgets/controls",
          "model_name": "HTMLModel",
          "model_module_version": "1.5.0",
          "state": {
            "_dom_classes": [],
            "_model_module": "@jupyter-widgets/controls",
            "_model_module_version": "1.5.0",
            "_model_name": "HTMLModel",
            "_view_count": null,
            "_view_module": "@jupyter-widgets/controls",
            "_view_module_version": "1.5.0",
            "_view_name": "HTMLView",
            "description": "",
            "description_tooltip": null,
            "layout": "IPY_MODEL_8d3459155d84412c8062334f279eedd2",
            "placeholder": "​",
            "style": "IPY_MODEL_6a349f907ad440229266b40ab235a4df",
            "value": " 594/594 [00:00&lt;00:00, 38.3kB/s]"
          }
        },
        "0afc746cc6b146e8937273d7a8637fa4": {
          "model_module": "@jupyter-widgets/base",
          "model_name": "LayoutModel",
          "model_module_version": "1.2.0",
          "state": {
            "_model_module": "@jupyter-widgets/base",
            "_model_module_version": "1.2.0",
            "_model_name": "LayoutModel",
            "_view_count": null,
            "_view_module": "@jupyter-widgets/base",
            "_view_module_version": "1.2.0",
            "_view_name": "LayoutView",
            "align_content": null,
            "align_items": null,
            "align_self": null,
            "border": null,
            "bottom": null,
            "display": null,
            "flex": null,
            "flex_flow": null,
            "grid_area": null,
            "grid_auto_columns": null,
            "grid_auto_flow": null,
            "grid_auto_rows": null,
            "grid_column": null,
            "grid_gap": null,
            "grid_row": null,
            "grid_template_areas": null,
            "grid_template_columns": null,
            "grid_template_rows": null,
            "height": null,
            "justify_content": null,
            "justify_items": null,
            "left": null,
            "margin": null,
            "max_height": null,
            "max_width": null,
            "min_height": null,
            "min_width": null,
            "object_fit": null,
            "object_position": null,
            "order": null,
            "overflow": null,
            "overflow_x": null,
            "overflow_y": null,
            "padding": null,
            "right": null,
            "top": null,
            "visibility": null,
            "width": null
          }
        },
        "091a8ee10cd2406186d2f43a4ee3f690": {
          "model_module": "@jupyter-widgets/base",
          "model_name": "LayoutModel",
          "model_module_version": "1.2.0",
          "state": {
            "_model_module": "@jupyter-widgets/base",
            "_model_module_version": "1.2.0",
            "_model_name": "LayoutModel",
            "_view_count": null,
            "_view_module": "@jupyter-widgets/base",
            "_view_module_version": "1.2.0",
            "_view_name": "LayoutView",
            "align_content": null,
            "align_items": null,
            "align_self": null,
            "border": null,
            "bottom": null,
            "display": null,
            "flex": null,
            "flex_flow": null,
            "grid_area": null,
            "grid_auto_columns": null,
            "grid_auto_flow": null,
            "grid_auto_rows": null,
            "grid_column": null,
            "grid_gap": null,
            "grid_row": null,
            "grid_template_areas": null,
            "grid_template_columns": null,
            "grid_template_rows": null,
            "height": null,
            "justify_content": null,
            "justify_items": null,
            "left": null,
            "margin": null,
            "max_height": null,
            "max_width": null,
            "min_height": null,
            "min_width": null,
            "object_fit": null,
            "object_position": null,
            "order": null,
            "overflow": null,
            "overflow_x": null,
            "overflow_y": null,
            "padding": null,
            "right": null,
            "top": null,
            "visibility": null,
            "width": null
          }
        },
        "4c7e551b28cd47b2bd6fdd550ec69a9a": {
          "model_module": "@jupyter-widgets/controls",
          "model_name": "DescriptionStyleModel",
          "model_module_version": "1.5.0",
          "state": {
            "_model_module": "@jupyter-widgets/controls",
            "_model_module_version": "1.5.0",
            "_model_name": "DescriptionStyleModel",
            "_view_count": null,
            "_view_module": "@jupyter-widgets/base",
            "_view_module_version": "1.2.0",
            "_view_name": "StyleView",
            "description_width": ""
          }
        },
        "b6c55e1b2a4c44fbaa242dcc1a048336": {
          "model_module": "@jupyter-widgets/base",
          "model_name": "LayoutModel",
          "model_module_version": "1.2.0",
          "state": {
            "_model_module": "@jupyter-widgets/base",
            "_model_module_version": "1.2.0",
            "_model_name": "LayoutModel",
            "_view_count": null,
            "_view_module": "@jupyter-widgets/base",
            "_view_module_version": "1.2.0",
            "_view_name": "LayoutView",
            "align_content": null,
            "align_items": null,
            "align_self": null,
            "border": null,
            "bottom": null,
            "display": null,
            "flex": null,
            "flex_flow": null,
            "grid_area": null,
            "grid_auto_columns": null,
            "grid_auto_flow": null,
            "grid_auto_rows": null,
            "grid_column": null,
            "grid_gap": null,
            "grid_row": null,
            "grid_template_areas": null,
            "grid_template_columns": null,
            "grid_template_rows": null,
            "height": null,
            "justify_content": null,
            "justify_items": null,
            "left": null,
            "margin": null,
            "max_height": null,
            "max_width": null,
            "min_height": null,
            "min_width": null,
            "object_fit": null,
            "object_position": null,
            "order": null,
            "overflow": null,
            "overflow_x": null,
            "overflow_y": null,
            "padding": null,
            "right": null,
            "top": null,
            "visibility": null,
            "width": null
          }
        },
        "9010bb42083245b3a0df842a9dab2bee": {
          "model_module": "@jupyter-widgets/controls",
          "model_name": "ProgressStyleModel",
          "model_module_version": "1.5.0",
          "state": {
            "_model_module": "@jupyter-widgets/controls",
            "_model_module_version": "1.5.0",
            "_model_name": "ProgressStyleModel",
            "_view_count": null,
            "_view_module": "@jupyter-widgets/base",
            "_view_module_version": "1.2.0",
            "_view_name": "StyleView",
            "bar_color": null,
            "description_width": ""
          }
        },
        "8d3459155d84412c8062334f279eedd2": {
          "model_module": "@jupyter-widgets/base",
          "model_name": "LayoutModel",
          "model_module_version": "1.2.0",
          "state": {
            "_model_module": "@jupyter-widgets/base",
            "_model_module_version": "1.2.0",
            "_model_name": "LayoutModel",
            "_view_count": null,
            "_view_module": "@jupyter-widgets/base",
            "_view_module_version": "1.2.0",
            "_view_name": "LayoutView",
            "align_content": null,
            "align_items": null,
            "align_self": null,
            "border": null,
            "bottom": null,
            "display": null,
            "flex": null,
            "flex_flow": null,
            "grid_area": null,
            "grid_auto_columns": null,
            "grid_auto_flow": null,
            "grid_auto_rows": null,
            "grid_column": null,
            "grid_gap": null,
            "grid_row": null,
            "grid_template_areas": null,
            "grid_template_columns": null,
            "grid_template_rows": null,
            "height": null,
            "justify_content": null,
            "justify_items": null,
            "left": null,
            "margin": null,
            "max_height": null,
            "max_width": null,
            "min_height": null,
            "min_width": null,
            "object_fit": null,
            "object_position": null,
            "order": null,
            "overflow": null,
            "overflow_x": null,
            "overflow_y": null,
            "padding": null,
            "right": null,
            "top": null,
            "visibility": null,
            "width": null
          }
        },
        "6a349f907ad440229266b40ab235a4df": {
          "model_module": "@jupyter-widgets/controls",
          "model_name": "DescriptionStyleModel",
          "model_module_version": "1.5.0",
          "state": {
            "_model_module": "@jupyter-widgets/controls",
            "_model_module_version": "1.5.0",
            "_model_name": "DescriptionStyleModel",
            "_view_count": null,
            "_view_module": "@jupyter-widgets/base",
            "_view_module_version": "1.2.0",
            "_view_name": "StyleView",
            "description_width": ""
          }
        },
        "70486a70c41749dbba17cea8f05efb72": {
          "model_module": "@jupyter-widgets/controls",
          "model_name": "HBoxModel",
          "model_module_version": "1.5.0",
          "state": {
            "_dom_classes": [],
            "_model_module": "@jupyter-widgets/controls",
            "_model_module_version": "1.5.0",
            "_model_name": "HBoxModel",
            "_view_count": null,
            "_view_module": "@jupyter-widgets/controls",
            "_view_module_version": "1.5.0",
            "_view_name": "HBoxView",
            "box_style": "",
            "children": [
              "IPY_MODEL_659917bf7caa48848abd8aa48560f9b8",
              "IPY_MODEL_c6907a579ab7431280fc24672c51e758",
              "IPY_MODEL_2a590202f9384cb29ceeaba2b9c64a96"
            ],
            "layout": "IPY_MODEL_7eb714f70d994b3aa5728364e839a49f"
          }
        },
        "659917bf7caa48848abd8aa48560f9b8": {
          "model_module": "@jupyter-widgets/controls",
          "model_name": "HTMLModel",
          "model_module_version": "1.5.0",
          "state": {
            "_dom_classes": [],
            "_model_module": "@jupyter-widgets/controls",
            "_model_module_version": "1.5.0",
            "_model_name": "HTMLModel",
            "_view_count": null,
            "_view_module": "@jupyter-widgets/controls",
            "_view_module_version": "1.5.0",
            "_view_name": "HTMLView",
            "description": "",
            "description_tooltip": null,
            "layout": "IPY_MODEL_15eb8b23908149c99682ced135b398b5",
            "placeholder": "​",
            "style": "IPY_MODEL_44d6c154b8154dbd8abc2ff702f07e1f",
            "value": "vocab.txt: 100%"
          }
        },
        "c6907a579ab7431280fc24672c51e758": {
          "model_module": "@jupyter-widgets/controls",
          "model_name": "FloatProgressModel",
          "model_module_version": "1.5.0",
          "state": {
            "_dom_classes": [],
            "_model_module": "@jupyter-widgets/controls",
            "_model_module_version": "1.5.0",
            "_model_name": "FloatProgressModel",
            "_view_count": null,
            "_view_module": "@jupyter-widgets/controls",
            "_view_module_version": "1.5.0",
            "_view_name": "ProgressView",
            "bar_style": "success",
            "description": "",
            "description_tooltip": null,
            "layout": "IPY_MODEL_9de832e791b24186aa386aa93fb7bd9a",
            "max": 231536,
            "min": 0,
            "orientation": "horizontal",
            "style": "IPY_MODEL_ca9b38806f384508a806fa99f89edf22",
            "value": 231536
          }
        },
        "2a590202f9384cb29ceeaba2b9c64a96": {
          "model_module": "@jupyter-widgets/controls",
          "model_name": "HTMLModel",
          "model_module_version": "1.5.0",
          "state": {
            "_dom_classes": [],
            "_model_module": "@jupyter-widgets/controls",
            "_model_module_version": "1.5.0",
            "_model_name": "HTMLModel",
            "_view_count": null,
            "_view_module": "@jupyter-widgets/controls",
            "_view_module_version": "1.5.0",
            "_view_name": "HTMLView",
            "description": "",
            "description_tooltip": null,
            "layout": "IPY_MODEL_fbdc0ce9c0b24b4baecb6dfebd6dbec5",
            "placeholder": "​",
            "style": "IPY_MODEL_cb415a40a10f418f86627515a36f4ba8",
            "value": " 232k/232k [00:00&lt;00:00, 6.96MB/s]"
          }
        },
        "7eb714f70d994b3aa5728364e839a49f": {
          "model_module": "@jupyter-widgets/base",
          "model_name": "LayoutModel",
          "model_module_version": "1.2.0",
          "state": {
            "_model_module": "@jupyter-widgets/base",
            "_model_module_version": "1.2.0",
            "_model_name": "LayoutModel",
            "_view_count": null,
            "_view_module": "@jupyter-widgets/base",
            "_view_module_version": "1.2.0",
            "_view_name": "LayoutView",
            "align_content": null,
            "align_items": null,
            "align_self": null,
            "border": null,
            "bottom": null,
            "display": null,
            "flex": null,
            "flex_flow": null,
            "grid_area": null,
            "grid_auto_columns": null,
            "grid_auto_flow": null,
            "grid_auto_rows": null,
            "grid_column": null,
            "grid_gap": null,
            "grid_row": null,
            "grid_template_areas": null,
            "grid_template_columns": null,
            "grid_template_rows": null,
            "height": null,
            "justify_content": null,
            "justify_items": null,
            "left": null,
            "margin": null,
            "max_height": null,
            "max_width": null,
            "min_height": null,
            "min_width": null,
            "object_fit": null,
            "object_position": null,
            "order": null,
            "overflow": null,
            "overflow_x": null,
            "overflow_y": null,
            "padding": null,
            "right": null,
            "top": null,
            "visibility": null,
            "width": null
          }
        },
        "15eb8b23908149c99682ced135b398b5": {
          "model_module": "@jupyter-widgets/base",
          "model_name": "LayoutModel",
          "model_module_version": "1.2.0",
          "state": {
            "_model_module": "@jupyter-widgets/base",
            "_model_module_version": "1.2.0",
            "_model_name": "LayoutModel",
            "_view_count": null,
            "_view_module": "@jupyter-widgets/base",
            "_view_module_version": "1.2.0",
            "_view_name": "LayoutView",
            "align_content": null,
            "align_items": null,
            "align_self": null,
            "border": null,
            "bottom": null,
            "display": null,
            "flex": null,
            "flex_flow": null,
            "grid_area": null,
            "grid_auto_columns": null,
            "grid_auto_flow": null,
            "grid_auto_rows": null,
            "grid_column": null,
            "grid_gap": null,
            "grid_row": null,
            "grid_template_areas": null,
            "grid_template_columns": null,
            "grid_template_rows": null,
            "height": null,
            "justify_content": null,
            "justify_items": null,
            "left": null,
            "margin": null,
            "max_height": null,
            "max_width": null,
            "min_height": null,
            "min_width": null,
            "object_fit": null,
            "object_position": null,
            "order": null,
            "overflow": null,
            "overflow_x": null,
            "overflow_y": null,
            "padding": null,
            "right": null,
            "top": null,
            "visibility": null,
            "width": null
          }
        },
        "44d6c154b8154dbd8abc2ff702f07e1f": {
          "model_module": "@jupyter-widgets/controls",
          "model_name": "DescriptionStyleModel",
          "model_module_version": "1.5.0",
          "state": {
            "_model_module": "@jupyter-widgets/controls",
            "_model_module_version": "1.5.0",
            "_model_name": "DescriptionStyleModel",
            "_view_count": null,
            "_view_module": "@jupyter-widgets/base",
            "_view_module_version": "1.2.0",
            "_view_name": "StyleView",
            "description_width": ""
          }
        },
        "9de832e791b24186aa386aa93fb7bd9a": {
          "model_module": "@jupyter-widgets/base",
          "model_name": "LayoutModel",
          "model_module_version": "1.2.0",
          "state": {
            "_model_module": "@jupyter-widgets/base",
            "_model_module_version": "1.2.0",
            "_model_name": "LayoutModel",
            "_view_count": null,
            "_view_module": "@jupyter-widgets/base",
            "_view_module_version": "1.2.0",
            "_view_name": "LayoutView",
            "align_content": null,
            "align_items": null,
            "align_self": null,
            "border": null,
            "bottom": null,
            "display": null,
            "flex": null,
            "flex_flow": null,
            "grid_area": null,
            "grid_auto_columns": null,
            "grid_auto_flow": null,
            "grid_auto_rows": null,
            "grid_column": null,
            "grid_gap": null,
            "grid_row": null,
            "grid_template_areas": null,
            "grid_template_columns": null,
            "grid_template_rows": null,
            "height": null,
            "justify_content": null,
            "justify_items": null,
            "left": null,
            "margin": null,
            "max_height": null,
            "max_width": null,
            "min_height": null,
            "min_width": null,
            "object_fit": null,
            "object_position": null,
            "order": null,
            "overflow": null,
            "overflow_x": null,
            "overflow_y": null,
            "padding": null,
            "right": null,
            "top": null,
            "visibility": null,
            "width": null
          }
        },
        "ca9b38806f384508a806fa99f89edf22": {
          "model_module": "@jupyter-widgets/controls",
          "model_name": "ProgressStyleModel",
          "model_module_version": "1.5.0",
          "state": {
            "_model_module": "@jupyter-widgets/controls",
            "_model_module_version": "1.5.0",
            "_model_name": "ProgressStyleModel",
            "_view_count": null,
            "_view_module": "@jupyter-widgets/base",
            "_view_module_version": "1.2.0",
            "_view_name": "StyleView",
            "bar_color": null,
            "description_width": ""
          }
        },
        "fbdc0ce9c0b24b4baecb6dfebd6dbec5": {
          "model_module": "@jupyter-widgets/base",
          "model_name": "LayoutModel",
          "model_module_version": "1.2.0",
          "state": {
            "_model_module": "@jupyter-widgets/base",
            "_model_module_version": "1.2.0",
            "_model_name": "LayoutModel",
            "_view_count": null,
            "_view_module": "@jupyter-widgets/base",
            "_view_module_version": "1.2.0",
            "_view_name": "LayoutView",
            "align_content": null,
            "align_items": null,
            "align_self": null,
            "border": null,
            "bottom": null,
            "display": null,
            "flex": null,
            "flex_flow": null,
            "grid_area": null,
            "grid_auto_columns": null,
            "grid_auto_flow": null,
            "grid_auto_rows": null,
            "grid_column": null,
            "grid_gap": null,
            "grid_row": null,
            "grid_template_areas": null,
            "grid_template_columns": null,
            "grid_template_rows": null,
            "height": null,
            "justify_content": null,
            "justify_items": null,
            "left": null,
            "margin": null,
            "max_height": null,
            "max_width": null,
            "min_height": null,
            "min_width": null,
            "object_fit": null,
            "object_position": null,
            "order": null,
            "overflow": null,
            "overflow_x": null,
            "overflow_y": null,
            "padding": null,
            "right": null,
            "top": null,
            "visibility": null,
            "width": null
          }
        },
        "cb415a40a10f418f86627515a36f4ba8": {
          "model_module": "@jupyter-widgets/controls",
          "model_name": "DescriptionStyleModel",
          "model_module_version": "1.5.0",
          "state": {
            "_model_module": "@jupyter-widgets/controls",
            "_model_module_version": "1.5.0",
            "_model_name": "DescriptionStyleModel",
            "_view_count": null,
            "_view_module": "@jupyter-widgets/base",
            "_view_module_version": "1.2.0",
            "_view_name": "StyleView",
            "description_width": ""
          }
        },
        "b7193342ed7a484b9b3e328729ac1234": {
          "model_module": "@jupyter-widgets/controls",
          "model_name": "HBoxModel",
          "model_module_version": "1.5.0",
          "state": {
            "_dom_classes": [],
            "_model_module": "@jupyter-widgets/controls",
            "_model_module_version": "1.5.0",
            "_model_name": "HBoxModel",
            "_view_count": null,
            "_view_module": "@jupyter-widgets/controls",
            "_view_module_version": "1.5.0",
            "_view_name": "HBoxView",
            "box_style": "",
            "children": [
              "IPY_MODEL_2c3b93a99d3143d1a7aa3508058fa64a",
              "IPY_MODEL_1a9b2e6b1eda4b88886c8ba57d5e02c6",
              "IPY_MODEL_9b36622ab659435eac6e9c0c93e6034c"
            ],
            "layout": "IPY_MODEL_0f056d7ea02f4eb2a0cf5a64b9d17157"
          }
        },
        "2c3b93a99d3143d1a7aa3508058fa64a": {
          "model_module": "@jupyter-widgets/controls",
          "model_name": "HTMLModel",
          "model_module_version": "1.5.0",
          "state": {
            "_dom_classes": [],
            "_model_module": "@jupyter-widgets/controls",
            "_model_module_version": "1.5.0",
            "_model_name": "HTMLModel",
            "_view_count": null,
            "_view_module": "@jupyter-widgets/controls",
            "_view_module_version": "1.5.0",
            "_view_name": "HTMLView",
            "description": "",
            "description_tooltip": null,
            "layout": "IPY_MODEL_16c39532dde14911ad49b30ab50b514d",
            "placeholder": "​",
            "style": "IPY_MODEL_e8cc0af182a140ae8bb48546958fb5aa",
            "value": "tokenizer.json: 100%"
          }
        },
        "1a9b2e6b1eda4b88886c8ba57d5e02c6": {
          "model_module": "@jupyter-widgets/controls",
          "model_name": "FloatProgressModel",
          "model_module_version": "1.5.0",
          "state": {
            "_dom_classes": [],
            "_model_module": "@jupyter-widgets/controls",
            "_model_module_version": "1.5.0",
            "_model_name": "FloatProgressModel",
            "_view_count": null,
            "_view_module": "@jupyter-widgets/controls",
            "_view_module_version": "1.5.0",
            "_view_name": "ProgressView",
            "bar_style": "success",
            "description": "",
            "description_tooltip": null,
            "layout": "IPY_MODEL_c036e2ac8cf7441a9ee1b70032462451",
            "max": 466166,
            "min": 0,
            "orientation": "horizontal",
            "style": "IPY_MODEL_1ea6ed93f68748239b32331079d203c4",
            "value": 466166
          }
        },
        "9b36622ab659435eac6e9c0c93e6034c": {
          "model_module": "@jupyter-widgets/controls",
          "model_name": "HTMLModel",
          "model_module_version": "1.5.0",
          "state": {
            "_dom_classes": [],
            "_model_module": "@jupyter-widgets/controls",
            "_model_module_version": "1.5.0",
            "_model_name": "HTMLModel",
            "_view_count": null,
            "_view_module": "@jupyter-widgets/controls",
            "_view_module_version": "1.5.0",
            "_view_name": "HTMLView",
            "description": "",
            "description_tooltip": null,
            "layout": "IPY_MODEL_0f7bfd24f73b43bda73b3e6c70be9faa",
            "placeholder": "​",
            "style": "IPY_MODEL_4f6f80198c62498482f08f450f1c507d",
            "value": " 466k/466k [00:00&lt;00:00, 21.7MB/s]"
          }
        },
        "0f056d7ea02f4eb2a0cf5a64b9d17157": {
          "model_module": "@jupyter-widgets/base",
          "model_name": "LayoutModel",
          "model_module_version": "1.2.0",
          "state": {
            "_model_module": "@jupyter-widgets/base",
            "_model_module_version": "1.2.0",
            "_model_name": "LayoutModel",
            "_view_count": null,
            "_view_module": "@jupyter-widgets/base",
            "_view_module_version": "1.2.0",
            "_view_name": "LayoutView",
            "align_content": null,
            "align_items": null,
            "align_self": null,
            "border": null,
            "bottom": null,
            "display": null,
            "flex": null,
            "flex_flow": null,
            "grid_area": null,
            "grid_auto_columns": null,
            "grid_auto_flow": null,
            "grid_auto_rows": null,
            "grid_column": null,
            "grid_gap": null,
            "grid_row": null,
            "grid_template_areas": null,
            "grid_template_columns": null,
            "grid_template_rows": null,
            "height": null,
            "justify_content": null,
            "justify_items": null,
            "left": null,
            "margin": null,
            "max_height": null,
            "max_width": null,
            "min_height": null,
            "min_width": null,
            "object_fit": null,
            "object_position": null,
            "order": null,
            "overflow": null,
            "overflow_x": null,
            "overflow_y": null,
            "padding": null,
            "right": null,
            "top": null,
            "visibility": null,
            "width": null
          }
        },
        "16c39532dde14911ad49b30ab50b514d": {
          "model_module": "@jupyter-widgets/base",
          "model_name": "LayoutModel",
          "model_module_version": "1.2.0",
          "state": {
            "_model_module": "@jupyter-widgets/base",
            "_model_module_version": "1.2.0",
            "_model_name": "LayoutModel",
            "_view_count": null,
            "_view_module": "@jupyter-widgets/base",
            "_view_module_version": "1.2.0",
            "_view_name": "LayoutView",
            "align_content": null,
            "align_items": null,
            "align_self": null,
            "border": null,
            "bottom": null,
            "display": null,
            "flex": null,
            "flex_flow": null,
            "grid_area": null,
            "grid_auto_columns": null,
            "grid_auto_flow": null,
            "grid_auto_rows": null,
            "grid_column": null,
            "grid_gap": null,
            "grid_row": null,
            "grid_template_areas": null,
            "grid_template_columns": null,
            "grid_template_rows": null,
            "height": null,
            "justify_content": null,
            "justify_items": null,
            "left": null,
            "margin": null,
            "max_height": null,
            "max_width": null,
            "min_height": null,
            "min_width": null,
            "object_fit": null,
            "object_position": null,
            "order": null,
            "overflow": null,
            "overflow_x": null,
            "overflow_y": null,
            "padding": null,
            "right": null,
            "top": null,
            "visibility": null,
            "width": null
          }
        },
        "e8cc0af182a140ae8bb48546958fb5aa": {
          "model_module": "@jupyter-widgets/controls",
          "model_name": "DescriptionStyleModel",
          "model_module_version": "1.5.0",
          "state": {
            "_model_module": "@jupyter-widgets/controls",
            "_model_module_version": "1.5.0",
            "_model_name": "DescriptionStyleModel",
            "_view_count": null,
            "_view_module": "@jupyter-widgets/base",
            "_view_module_version": "1.2.0",
            "_view_name": "StyleView",
            "description_width": ""
          }
        },
        "c036e2ac8cf7441a9ee1b70032462451": {
          "model_module": "@jupyter-widgets/base",
          "model_name": "LayoutModel",
          "model_module_version": "1.2.0",
          "state": {
            "_model_module": "@jupyter-widgets/base",
            "_model_module_version": "1.2.0",
            "_model_name": "LayoutModel",
            "_view_count": null,
            "_view_module": "@jupyter-widgets/base",
            "_view_module_version": "1.2.0",
            "_view_name": "LayoutView",
            "align_content": null,
            "align_items": null,
            "align_self": null,
            "border": null,
            "bottom": null,
            "display": null,
            "flex": null,
            "flex_flow": null,
            "grid_area": null,
            "grid_auto_columns": null,
            "grid_auto_flow": null,
            "grid_auto_rows": null,
            "grid_column": null,
            "grid_gap": null,
            "grid_row": null,
            "grid_template_areas": null,
            "grid_template_columns": null,
            "grid_template_rows": null,
            "height": null,
            "justify_content": null,
            "justify_items": null,
            "left": null,
            "margin": null,
            "max_height": null,
            "max_width": null,
            "min_height": null,
            "min_width": null,
            "object_fit": null,
            "object_position": null,
            "order": null,
            "overflow": null,
            "overflow_x": null,
            "overflow_y": null,
            "padding": null,
            "right": null,
            "top": null,
            "visibility": null,
            "width": null
          }
        },
        "1ea6ed93f68748239b32331079d203c4": {
          "model_module": "@jupyter-widgets/controls",
          "model_name": "ProgressStyleModel",
          "model_module_version": "1.5.0",
          "state": {
            "_model_module": "@jupyter-widgets/controls",
            "_model_module_version": "1.5.0",
            "_model_name": "ProgressStyleModel",
            "_view_count": null,
            "_view_module": "@jupyter-widgets/base",
            "_view_module_version": "1.2.0",
            "_view_name": "StyleView",
            "bar_color": null,
            "description_width": ""
          }
        },
        "0f7bfd24f73b43bda73b3e6c70be9faa": {
          "model_module": "@jupyter-widgets/base",
          "model_name": "LayoutModel",
          "model_module_version": "1.2.0",
          "state": {
            "_model_module": "@jupyter-widgets/base",
            "_model_module_version": "1.2.0",
            "_model_name": "LayoutModel",
            "_view_count": null,
            "_view_module": "@jupyter-widgets/base",
            "_view_module_version": "1.2.0",
            "_view_name": "LayoutView",
            "align_content": null,
            "align_items": null,
            "align_self": null,
            "border": null,
            "bottom": null,
            "display": null,
            "flex": null,
            "flex_flow": null,
            "grid_area": null,
            "grid_auto_columns": null,
            "grid_auto_flow": null,
            "grid_auto_rows": null,
            "grid_column": null,
            "grid_gap": null,
            "grid_row": null,
            "grid_template_areas": null,
            "grid_template_columns": null,
            "grid_template_rows": null,
            "height": null,
            "justify_content": null,
            "justify_items": null,
            "left": null,
            "margin": null,
            "max_height": null,
            "max_width": null,
            "min_height": null,
            "min_width": null,
            "object_fit": null,
            "object_position": null,
            "order": null,
            "overflow": null,
            "overflow_x": null,
            "overflow_y": null,
            "padding": null,
            "right": null,
            "top": null,
            "visibility": null,
            "width": null
          }
        },
        "4f6f80198c62498482f08f450f1c507d": {
          "model_module": "@jupyter-widgets/controls",
          "model_name": "DescriptionStyleModel",
          "model_module_version": "1.5.0",
          "state": {
            "_model_module": "@jupyter-widgets/controls",
            "_model_module_version": "1.5.0",
            "_model_name": "DescriptionStyleModel",
            "_view_count": null,
            "_view_module": "@jupyter-widgets/base",
            "_view_module_version": "1.2.0",
            "_view_name": "StyleView",
            "description_width": ""
          }
        },
        "e91b83158abc4b6ea858bc9eaf36435e": {
          "model_module": "@jupyter-widgets/controls",
          "model_name": "HBoxModel",
          "model_module_version": "1.5.0",
          "state": {
            "_dom_classes": [],
            "_model_module": "@jupyter-widgets/controls",
            "_model_module_version": "1.5.0",
            "_model_name": "HBoxModel",
            "_view_count": null,
            "_view_module": "@jupyter-widgets/controls",
            "_view_module_version": "1.5.0",
            "_view_name": "HBoxView",
            "box_style": "",
            "children": [
              "IPY_MODEL_35224ddc64d74d4893e2b1c15b0ac8c7",
              "IPY_MODEL_00397e934b8d41bc9f97f93c48b13aae",
              "IPY_MODEL_2b6f50a93e134cbaa56e5d1db1dd03e0"
            ],
            "layout": "IPY_MODEL_d580731688484f1e8d6b0f4f15fdedc0"
          }
        },
        "35224ddc64d74d4893e2b1c15b0ac8c7": {
          "model_module": "@jupyter-widgets/controls",
          "model_name": "HTMLModel",
          "model_module_version": "1.5.0",
          "state": {
            "_dom_classes": [],
            "_model_module": "@jupyter-widgets/controls",
            "_model_module_version": "1.5.0",
            "_model_name": "HTMLModel",
            "_view_count": null,
            "_view_module": "@jupyter-widgets/controls",
            "_view_module_version": "1.5.0",
            "_view_name": "HTMLView",
            "description": "",
            "description_tooltip": null,
            "layout": "IPY_MODEL_0f425fb4b633455a8055e238d238f6eb",
            "placeholder": "​",
            "style": "IPY_MODEL_ebcb1d34b9e94796ac613ace65408d17",
            "value": "special_tokens_map.json: 100%"
          }
        },
        "00397e934b8d41bc9f97f93c48b13aae": {
          "model_module": "@jupyter-widgets/controls",
          "model_name": "FloatProgressModel",
          "model_module_version": "1.5.0",
          "state": {
            "_dom_classes": [],
            "_model_module": "@jupyter-widgets/controls",
            "_model_module_version": "1.5.0",
            "_model_name": "FloatProgressModel",
            "_view_count": null,
            "_view_module": "@jupyter-widgets/controls",
            "_view_module_version": "1.5.0",
            "_view_name": "ProgressView",
            "bar_style": "success",
            "description": "",
            "description_tooltip": null,
            "layout": "IPY_MODEL_abeaa0c281cf4e81a50414af3fc66c45",
            "max": 239,
            "min": 0,
            "orientation": "horizontal",
            "style": "IPY_MODEL_670424eb9a834bb1af3aae667bbe2033",
            "value": 239
          }
        },
        "2b6f50a93e134cbaa56e5d1db1dd03e0": {
          "model_module": "@jupyter-widgets/controls",
          "model_name": "HTMLModel",
          "model_module_version": "1.5.0",
          "state": {
            "_dom_classes": [],
            "_model_module": "@jupyter-widgets/controls",
            "_model_module_version": "1.5.0",
            "_model_name": "HTMLModel",
            "_view_count": null,
            "_view_module": "@jupyter-widgets/controls",
            "_view_module_version": "1.5.0",
            "_view_name": "HTMLView",
            "description": "",
            "description_tooltip": null,
            "layout": "IPY_MODEL_b2e5161449a547628a1a2c63ee284dda",
            "placeholder": "​",
            "style": "IPY_MODEL_c4e50968c21d4c7a9fe3e00be60ef671",
            "value": " 239/239 [00:00&lt;00:00, 13.4kB/s]"
          }
        },
        "d580731688484f1e8d6b0f4f15fdedc0": {
          "model_module": "@jupyter-widgets/base",
          "model_name": "LayoutModel",
          "model_module_version": "1.2.0",
          "state": {
            "_model_module": "@jupyter-widgets/base",
            "_model_module_version": "1.2.0",
            "_model_name": "LayoutModel",
            "_view_count": null,
            "_view_module": "@jupyter-widgets/base",
            "_view_module_version": "1.2.0",
            "_view_name": "LayoutView",
            "align_content": null,
            "align_items": null,
            "align_self": null,
            "border": null,
            "bottom": null,
            "display": null,
            "flex": null,
            "flex_flow": null,
            "grid_area": null,
            "grid_auto_columns": null,
            "grid_auto_flow": null,
            "grid_auto_rows": null,
            "grid_column": null,
            "grid_gap": null,
            "grid_row": null,
            "grid_template_areas": null,
            "grid_template_columns": null,
            "grid_template_rows": null,
            "height": null,
            "justify_content": null,
            "justify_items": null,
            "left": null,
            "margin": null,
            "max_height": null,
            "max_width": null,
            "min_height": null,
            "min_width": null,
            "object_fit": null,
            "object_position": null,
            "order": null,
            "overflow": null,
            "overflow_x": null,
            "overflow_y": null,
            "padding": null,
            "right": null,
            "top": null,
            "visibility": null,
            "width": null
          }
        },
        "0f425fb4b633455a8055e238d238f6eb": {
          "model_module": "@jupyter-widgets/base",
          "model_name": "LayoutModel",
          "model_module_version": "1.2.0",
          "state": {
            "_model_module": "@jupyter-widgets/base",
            "_model_module_version": "1.2.0",
            "_model_name": "LayoutModel",
            "_view_count": null,
            "_view_module": "@jupyter-widgets/base",
            "_view_module_version": "1.2.0",
            "_view_name": "LayoutView",
            "align_content": null,
            "align_items": null,
            "align_self": null,
            "border": null,
            "bottom": null,
            "display": null,
            "flex": null,
            "flex_flow": null,
            "grid_area": null,
            "grid_auto_columns": null,
            "grid_auto_flow": null,
            "grid_auto_rows": null,
            "grid_column": null,
            "grid_gap": null,
            "grid_row": null,
            "grid_template_areas": null,
            "grid_template_columns": null,
            "grid_template_rows": null,
            "height": null,
            "justify_content": null,
            "justify_items": null,
            "left": null,
            "margin": null,
            "max_height": null,
            "max_width": null,
            "min_height": null,
            "min_width": null,
            "object_fit": null,
            "object_position": null,
            "order": null,
            "overflow": null,
            "overflow_x": null,
            "overflow_y": null,
            "padding": null,
            "right": null,
            "top": null,
            "visibility": null,
            "width": null
          }
        },
        "ebcb1d34b9e94796ac613ace65408d17": {
          "model_module": "@jupyter-widgets/controls",
          "model_name": "DescriptionStyleModel",
          "model_module_version": "1.5.0",
          "state": {
            "_model_module": "@jupyter-widgets/controls",
            "_model_module_version": "1.5.0",
            "_model_name": "DescriptionStyleModel",
            "_view_count": null,
            "_view_module": "@jupyter-widgets/base",
            "_view_module_version": "1.2.0",
            "_view_name": "StyleView",
            "description_width": ""
          }
        },
        "abeaa0c281cf4e81a50414af3fc66c45": {
          "model_module": "@jupyter-widgets/base",
          "model_name": "LayoutModel",
          "model_module_version": "1.2.0",
          "state": {
            "_model_module": "@jupyter-widgets/base",
            "_model_module_version": "1.2.0",
            "_model_name": "LayoutModel",
            "_view_count": null,
            "_view_module": "@jupyter-widgets/base",
            "_view_module_version": "1.2.0",
            "_view_name": "LayoutView",
            "align_content": null,
            "align_items": null,
            "align_self": null,
            "border": null,
            "bottom": null,
            "display": null,
            "flex": null,
            "flex_flow": null,
            "grid_area": null,
            "grid_auto_columns": null,
            "grid_auto_flow": null,
            "grid_auto_rows": null,
            "grid_column": null,
            "grid_gap": null,
            "grid_row": null,
            "grid_template_areas": null,
            "grid_template_columns": null,
            "grid_template_rows": null,
            "height": null,
            "justify_content": null,
            "justify_items": null,
            "left": null,
            "margin": null,
            "max_height": null,
            "max_width": null,
            "min_height": null,
            "min_width": null,
            "object_fit": null,
            "object_position": null,
            "order": null,
            "overflow": null,
            "overflow_x": null,
            "overflow_y": null,
            "padding": null,
            "right": null,
            "top": null,
            "visibility": null,
            "width": null
          }
        },
        "670424eb9a834bb1af3aae667bbe2033": {
          "model_module": "@jupyter-widgets/controls",
          "model_name": "ProgressStyleModel",
          "model_module_version": "1.5.0",
          "state": {
            "_model_module": "@jupyter-widgets/controls",
            "_model_module_version": "1.5.0",
            "_model_name": "ProgressStyleModel",
            "_view_count": null,
            "_view_module": "@jupyter-widgets/base",
            "_view_module_version": "1.2.0",
            "_view_name": "StyleView",
            "bar_color": null,
            "description_width": ""
          }
        },
        "b2e5161449a547628a1a2c63ee284dda": {
          "model_module": "@jupyter-widgets/base",
          "model_name": "LayoutModel",
          "model_module_version": "1.2.0",
          "state": {
            "_model_module": "@jupyter-widgets/base",
            "_model_module_version": "1.2.0",
            "_model_name": "LayoutModel",
            "_view_count": null,
            "_view_module": "@jupyter-widgets/base",
            "_view_module_version": "1.2.0",
            "_view_name": "LayoutView",
            "align_content": null,
            "align_items": null,
            "align_self": null,
            "border": null,
            "bottom": null,
            "display": null,
            "flex": null,
            "flex_flow": null,
            "grid_area": null,
            "grid_auto_columns": null,
            "grid_auto_flow": null,
            "grid_auto_rows": null,
            "grid_column": null,
            "grid_gap": null,
            "grid_row": null,
            "grid_template_areas": null,
            "grid_template_columns": null,
            "grid_template_rows": null,
            "height": null,
            "justify_content": null,
            "justify_items": null,
            "left": null,
            "margin": null,
            "max_height": null,
            "max_width": null,
            "min_height": null,
            "min_width": null,
            "object_fit": null,
            "object_position": null,
            "order": null,
            "overflow": null,
            "overflow_x": null,
            "overflow_y": null,
            "padding": null,
            "right": null,
            "top": null,
            "visibility": null,
            "width": null
          }
        },
        "c4e50968c21d4c7a9fe3e00be60ef671": {
          "model_module": "@jupyter-widgets/controls",
          "model_name": "DescriptionStyleModel",
          "model_module_version": "1.5.0",
          "state": {
            "_model_module": "@jupyter-widgets/controls",
            "_model_module_version": "1.5.0",
            "_model_name": "DescriptionStyleModel",
            "_view_count": null,
            "_view_module": "@jupyter-widgets/base",
            "_view_module_version": "1.2.0",
            "_view_name": "StyleView",
            "description_width": ""
          }
        },
        "265a2df018214b1b853ca5bfa234df73": {
          "model_module": "@jupyter-widgets/controls",
          "model_name": "HBoxModel",
          "model_module_version": "1.5.0",
          "state": {
            "_dom_classes": [],
            "_model_module": "@jupyter-widgets/controls",
            "_model_module_version": "1.5.0",
            "_model_name": "HBoxModel",
            "_view_count": null,
            "_view_module": "@jupyter-widgets/controls",
            "_view_module_version": "1.5.0",
            "_view_name": "HBoxView",
            "box_style": "",
            "children": [
              "IPY_MODEL_022f409ab9b445bb96b669de30d24d25",
              "IPY_MODEL_6236e10d3ed1409b8acab45bbb367196",
              "IPY_MODEL_fb67fc50ee0749be85a5009ee43ab769"
            ],
            "layout": "IPY_MODEL_83d7c033bfa143d4ad4150b2334814df"
          }
        },
        "022f409ab9b445bb96b669de30d24d25": {
          "model_module": "@jupyter-widgets/controls",
          "model_name": "HTMLModel",
          "model_module_version": "1.5.0",
          "state": {
            "_dom_classes": [],
            "_model_module": "@jupyter-widgets/controls",
            "_model_module_version": "1.5.0",
            "_model_name": "HTMLModel",
            "_view_count": null,
            "_view_module": "@jupyter-widgets/controls",
            "_view_module_version": "1.5.0",
            "_view_name": "HTMLView",
            "description": "",
            "description_tooltip": null,
            "layout": "IPY_MODEL_9d8911814dcc4c9d964955c42cfae4fe",
            "placeholder": "​",
            "style": "IPY_MODEL_4b672aaeaeb54103847724da94f36200",
            "value": "model.safetensors: 100%"
          }
        },
        "6236e10d3ed1409b8acab45bbb367196": {
          "model_module": "@jupyter-widgets/controls",
          "model_name": "FloatProgressModel",
          "model_module_version": "1.5.0",
          "state": {
            "_dom_classes": [],
            "_model_module": "@jupyter-widgets/controls",
            "_model_module_version": "1.5.0",
            "_model_name": "FloatProgressModel",
            "_view_count": null,
            "_view_module": "@jupyter-widgets/controls",
            "_view_module_version": "1.5.0",
            "_view_name": "ProgressView",
            "bar_style": "success",
            "description": "",
            "description_tooltip": null,
            "layout": "IPY_MODEL_eda29d1d7471462b91a561951ef3f053",
            "max": 437971872,
            "min": 0,
            "orientation": "horizontal",
            "style": "IPY_MODEL_20447f65df8c45e5a3aaee2bb92343d8",
            "value": 437971872
          }
        },
        "fb67fc50ee0749be85a5009ee43ab769": {
          "model_module": "@jupyter-widgets/controls",
          "model_name": "HTMLModel",
          "model_module_version": "1.5.0",
          "state": {
            "_dom_classes": [],
            "_model_module": "@jupyter-widgets/controls",
            "_model_module_version": "1.5.0",
            "_model_name": "HTMLModel",
            "_view_count": null,
            "_view_module": "@jupyter-widgets/controls",
            "_view_module_version": "1.5.0",
            "_view_name": "HTMLView",
            "description": "",
            "description_tooltip": null,
            "layout": "IPY_MODEL_8524432ae26d4c62b325623ea44b8625",
            "placeholder": "​",
            "style": "IPY_MODEL_f39784da21234ccb8c40de9ebc59478c",
            "value": " 438M/438M [00:02&lt;00:00, 252MB/s]"
          }
        },
        "83d7c033bfa143d4ad4150b2334814df": {
          "model_module": "@jupyter-widgets/base",
          "model_name": "LayoutModel",
          "model_module_version": "1.2.0",
          "state": {
            "_model_module": "@jupyter-widgets/base",
            "_model_module_version": "1.2.0",
            "_model_name": "LayoutModel",
            "_view_count": null,
            "_view_module": "@jupyter-widgets/base",
            "_view_module_version": "1.2.0",
            "_view_name": "LayoutView",
            "align_content": null,
            "align_items": null,
            "align_self": null,
            "border": null,
            "bottom": null,
            "display": null,
            "flex": null,
            "flex_flow": null,
            "grid_area": null,
            "grid_auto_columns": null,
            "grid_auto_flow": null,
            "grid_auto_rows": null,
            "grid_column": null,
            "grid_gap": null,
            "grid_row": null,
            "grid_template_areas": null,
            "grid_template_columns": null,
            "grid_template_rows": null,
            "height": null,
            "justify_content": null,
            "justify_items": null,
            "left": null,
            "margin": null,
            "max_height": null,
            "max_width": null,
            "min_height": null,
            "min_width": null,
            "object_fit": null,
            "object_position": null,
            "order": null,
            "overflow": null,
            "overflow_x": null,
            "overflow_y": null,
            "padding": null,
            "right": null,
            "top": null,
            "visibility": null,
            "width": null
          }
        },
        "9d8911814dcc4c9d964955c42cfae4fe": {
          "model_module": "@jupyter-widgets/base",
          "model_name": "LayoutModel",
          "model_module_version": "1.2.0",
          "state": {
            "_model_module": "@jupyter-widgets/base",
            "_model_module_version": "1.2.0",
            "_model_name": "LayoutModel",
            "_view_count": null,
            "_view_module": "@jupyter-widgets/base",
            "_view_module_version": "1.2.0",
            "_view_name": "LayoutView",
            "align_content": null,
            "align_items": null,
            "align_self": null,
            "border": null,
            "bottom": null,
            "display": null,
            "flex": null,
            "flex_flow": null,
            "grid_area": null,
            "grid_auto_columns": null,
            "grid_auto_flow": null,
            "grid_auto_rows": null,
            "grid_column": null,
            "grid_gap": null,
            "grid_row": null,
            "grid_template_areas": null,
            "grid_template_columns": null,
            "grid_template_rows": null,
            "height": null,
            "justify_content": null,
            "justify_items": null,
            "left": null,
            "margin": null,
            "max_height": null,
            "max_width": null,
            "min_height": null,
            "min_width": null,
            "object_fit": null,
            "object_position": null,
            "order": null,
            "overflow": null,
            "overflow_x": null,
            "overflow_y": null,
            "padding": null,
            "right": null,
            "top": null,
            "visibility": null,
            "width": null
          }
        },
        "4b672aaeaeb54103847724da94f36200": {
          "model_module": "@jupyter-widgets/controls",
          "model_name": "DescriptionStyleModel",
          "model_module_version": "1.5.0",
          "state": {
            "_model_module": "@jupyter-widgets/controls",
            "_model_module_version": "1.5.0",
            "_model_name": "DescriptionStyleModel",
            "_view_count": null,
            "_view_module": "@jupyter-widgets/base",
            "_view_module_version": "1.2.0",
            "_view_name": "StyleView",
            "description_width": ""
          }
        },
        "eda29d1d7471462b91a561951ef3f053": {
          "model_module": "@jupyter-widgets/base",
          "model_name": "LayoutModel",
          "model_module_version": "1.2.0",
          "state": {
            "_model_module": "@jupyter-widgets/base",
            "_model_module_version": "1.2.0",
            "_model_name": "LayoutModel",
            "_view_count": null,
            "_view_module": "@jupyter-widgets/base",
            "_view_module_version": "1.2.0",
            "_view_name": "LayoutView",
            "align_content": null,
            "align_items": null,
            "align_self": null,
            "border": null,
            "bottom": null,
            "display": null,
            "flex": null,
            "flex_flow": null,
            "grid_area": null,
            "grid_auto_columns": null,
            "grid_auto_flow": null,
            "grid_auto_rows": null,
            "grid_column": null,
            "grid_gap": null,
            "grid_row": null,
            "grid_template_areas": null,
            "grid_template_columns": null,
            "grid_template_rows": null,
            "height": null,
            "justify_content": null,
            "justify_items": null,
            "left": null,
            "margin": null,
            "max_height": null,
            "max_width": null,
            "min_height": null,
            "min_width": null,
            "object_fit": null,
            "object_position": null,
            "order": null,
            "overflow": null,
            "overflow_x": null,
            "overflow_y": null,
            "padding": null,
            "right": null,
            "top": null,
            "visibility": null,
            "width": null
          }
        },
        "20447f65df8c45e5a3aaee2bb92343d8": {
          "model_module": "@jupyter-widgets/controls",
          "model_name": "ProgressStyleModel",
          "model_module_version": "1.5.0",
          "state": {
            "_model_module": "@jupyter-widgets/controls",
            "_model_module_version": "1.5.0",
            "_model_name": "ProgressStyleModel",
            "_view_count": null,
            "_view_module": "@jupyter-widgets/base",
            "_view_module_version": "1.2.0",
            "_view_name": "StyleView",
            "bar_color": null,
            "description_width": ""
          }
        },
        "8524432ae26d4c62b325623ea44b8625": {
          "model_module": "@jupyter-widgets/base",
          "model_name": "LayoutModel",
          "model_module_version": "1.2.0",
          "state": {
            "_model_module": "@jupyter-widgets/base",
            "_model_module_version": "1.2.0",
            "_model_name": "LayoutModel",
            "_view_count": null,
            "_view_module": "@jupyter-widgets/base",
            "_view_module_version": "1.2.0",
            "_view_name": "LayoutView",
            "align_content": null,
            "align_items": null,
            "align_self": null,
            "border": null,
            "bottom": null,
            "display": null,
            "flex": null,
            "flex_flow": null,
            "grid_area": null,
            "grid_auto_columns": null,
            "grid_auto_flow": null,
            "grid_auto_rows": null,
            "grid_column": null,
            "grid_gap": null,
            "grid_row": null,
            "grid_template_areas": null,
            "grid_template_columns": null,
            "grid_template_rows": null,
            "height": null,
            "justify_content": null,
            "justify_items": null,
            "left": null,
            "margin": null,
            "max_height": null,
            "max_width": null,
            "min_height": null,
            "min_width": null,
            "object_fit": null,
            "object_position": null,
            "order": null,
            "overflow": null,
            "overflow_x": null,
            "overflow_y": null,
            "padding": null,
            "right": null,
            "top": null,
            "visibility": null,
            "width": null
          }
        },
        "f39784da21234ccb8c40de9ebc59478c": {
          "model_module": "@jupyter-widgets/controls",
          "model_name": "DescriptionStyleModel",
          "model_module_version": "1.5.0",
          "state": {
            "_model_module": "@jupyter-widgets/controls",
            "_model_module_version": "1.5.0",
            "_model_name": "DescriptionStyleModel",
            "_view_count": null,
            "_view_module": "@jupyter-widgets/base",
            "_view_module_version": "1.2.0",
            "_view_name": "StyleView",
            "description_width": ""
          }
        }
      }
    }
  },
  "nbformat": 4,
  "nbformat_minor": 5
}