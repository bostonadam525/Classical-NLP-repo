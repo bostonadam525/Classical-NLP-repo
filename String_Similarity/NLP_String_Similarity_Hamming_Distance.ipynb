{
  "nbformat": 4,
  "nbformat_minor": 0,
  "metadata": {
    "colab": {
      "provenance": []
    },
    "kernelspec": {
      "name": "python3",
      "display_name": "Python 3"
    },
    "language_info": {
      "name": "python"
    }
  },
  "cells": [
    {
      "cell_type": "markdown",
      "source": [
        "# String Similarity - Hamming Distance\n",
        "* Notebook by Adam Lang\n",
        "* Date: 4/5/2024\n",
        "* In this notebook we will go over the NLP string similarity algorithm and Python implementation of the Hamming Distance.\n",
        "\n",
        "# Hamming Distance\n",
        "* Number of positions in which 2 strings are different\n",
        "* Example 1:\n",
        "    * Test\n",
        "    * Text\n",
        "        * Compare difference of each string\n",
        "        * Calculation: 0 + 0 + 1 + 0\n",
        "        * 1 is the difference seen between S and X.\n",
        "        * **Hamming Distance = 1**\n",
        "* Example 2:\n",
        "    * Taken\n",
        "    * Table\n",
        "      * Calculation: 0 + 0 + 1 + 1 + 1\n",
        "      * **Hamming Distance = 3**\n",
        "\n",
        "* Hamming Distance can be Zero to any integer\n",
        "* Normalized Hamming Distance Calculation\n",
        "      * `(Hamming distance) / len(string) = normalized hamming distance`\n",
        "      * Example hamming distance for \"Taken\" vs. \"Table = 3/5\n",
        "      * Recall that:\n",
        "          * 3 is hamming distance\n",
        "          * 5 is len(string)\n",
        "\n",
        "* General Rules\n",
        "    1. Lesser the hamming distance = more similarity\n",
        "    2. Greater haming distance = less similarity\n",
        "    3. **Classical implementation of Hamming Distance ONLY handles strings of the SAME length**\n",
        "    4. `Padding` can be added at prefix or suffix to make strings of the same length."
      ],
      "metadata": {
        "id": "6SzghhI9_UtI"
      }
    },
    {
      "cell_type": "markdown",
      "source": [
        "# Implementation of Hamming Distance"
      ],
      "metadata": {
        "id": "pyONNRPAB2FD"
      }
    },
    {
      "cell_type": "code",
      "execution_count": 1,
      "metadata": {
        "id": "Ljz29E0L_KEh"
      },
      "outputs": [],
      "source": [
        "# importing libraries\n",
        "from scipy.spatial import distance"
      ]
    },
    {
      "cell_type": "code",
      "source": [
        "# define 2 strings to compare\n",
        "string_1 = 'table'\n",
        "string_2 = 'taken'"
      ],
      "metadata": {
        "id": "QoKemzKwB_Hr"
      },
      "execution_count": 14,
      "outputs": []
    },
    {
      "cell_type": "code",
      "source": [
        "# compute normalized hamming distance\n",
        "hamming_distance = distance.hamming(list(string_1), list(string_2))\n",
        "print('Normalized Hamming Distance b/w', string_1, 'and', string_2, 'is:', hamming_distance)\n",
        "\n"
      ],
      "metadata": {
        "colab": {
          "base_uri": "https://localhost:8080/"
        },
        "id": "oVvN_DOZCHij",
        "outputId": "b811c8b9-d74a-4a30-8763-5efe04a06373"
      },
      "execution_count": 15,
      "outputs": [
        {
          "output_type": "stream",
          "name": "stdout",
          "text": [
            "Normalized Hamming Distance b/w table and taken is: 0.6\n"
          ]
        }
      ]
    },
    {
      "cell_type": "code",
      "source": [
        "# original hamming distance\n",
        "print('Hamming distance b/w', string_1, 'and', string_2, 'is:', hamming_distance * len(string_1))"
      ],
      "metadata": {
        "colab": {
          "base_uri": "https://localhost:8080/"
        },
        "id": "LxCwcYpyCZ4a",
        "outputId": "cda3fb65-9acd-4c9e-8d67-45f4d302e66a"
      },
      "execution_count": 16,
      "outputs": [
        {
          "output_type": "stream",
          "name": "stdout",
          "text": [
            "Hamming distance b/w table and taken is: 3.0\n"
          ]
        }
      ]
    },
    {
      "cell_type": "code",
      "source": [],
      "metadata": {
        "id": "-qEgY7OOCsBN"
      },
      "execution_count": null,
      "outputs": []
    }
  ]
}