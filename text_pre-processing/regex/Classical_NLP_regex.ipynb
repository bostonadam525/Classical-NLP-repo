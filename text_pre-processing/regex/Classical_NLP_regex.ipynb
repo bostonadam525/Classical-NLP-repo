{
  "nbformat": 4,
  "nbformat_minor": 0,
  "metadata": {
    "colab": {
      "provenance": []
    },
    "kernelspec": {
      "name": "python3",
      "display_name": "Python 3"
    },
    "language_info": {
      "name": "python"
    }
  },
  "cells": [
    {
      "cell_type": "markdown",
      "source": [
        "# Classical NLP - regex\n",
        "* Notebook by Adam Lang\n",
        "* Date: 6/26/2024\n",
        "* Classical NLP techniques for regex in Python."
      ],
      "metadata": {
        "id": "kS-N4iIu4Tj6"
      }
    },
    {
      "cell_type": "markdown",
      "source": [
        "## re module in python\n",
        "* Typical workflow:\n",
        "1. import re\n",
        "2. pattern creation\n",
        "3. compile pattern (optional depending on workflow and goal)\n",
        "4. Match the pattern using re.<function>\n",
        "   * findall() --> returns string\n",
        "   * finditer() --> returns generator\n",
        "   * match() --> beginning of string match --> only 1 match\n",
        "   * search() --> ANY location where string matches\n",
        "   * ...etc....\n",
        "\n",
        "5. There are also methods to operate on a string\n",
        "  * split() - splits string based on pattern\n",
        "  * sub() - replaces all instances of the string based on your pattern"
      ],
      "metadata": {
        "id": "ydIo1Lue4goy"
      }
    },
    {
      "cell_type": "code",
      "execution_count": 1,
      "metadata": {
        "id": "RLHrXj944Q0x"
      },
      "outputs": [],
      "source": [
        "## import re\n",
        "import re"
      ]
    },
    {
      "cell_type": "code",
      "source": [
        "# test string\n",
        "test_string = '123abc456789abc123ABC'"
      ],
      "metadata": {
        "id": "TOitAVNg5Dy9"
      },
      "execution_count": 2,
      "outputs": []
    },
    {
      "cell_type": "markdown",
      "source": [
        "#### `finditer()` - returns the generator object"
      ],
      "metadata": {
        "id": "zLpovz7T--U4"
      }
    },
    {
      "cell_type": "code",
      "source": [
        "# search for abc pattern\n",
        "pattern = re.compile(r\"abc\")\n",
        "\n",
        "matches = pattern.finditer(test_string)\n",
        "\n",
        "# iterate over\n",
        "for i in matches:\n",
        "  print(i)"
      ],
      "metadata": {
        "colab": {
          "base_uri": "https://localhost:8080/"
        },
        "id": "JiMSHppt5Dvg",
        "outputId": "4e309362-9f34-49ee-96df-ae5d7c076394"
      },
      "execution_count": 18,
      "outputs": [
        {
          "output_type": "stream",
          "name": "stdout",
          "text": [
            "<re.Match object; span=(3, 6), match='abc'>\n",
            "<re.Match object; span=(12, 15), match='abc'>\n"
          ]
        }
      ]
    },
    {
      "cell_type": "markdown",
      "source": [
        "* We returned 2 matches.\n",
        "* We have the span for the start and end of the characters, and the matches.\n",
        "* `re.compile` --> compiles the expression to use later in the same program.\n",
        "* `re.finditer` --> returns output in a string instead of a list"
      ],
      "metadata": {
        "id": "H_ta7lkP5YaW"
      }
    },
    {
      "cell_type": "code",
      "source": [
        "## do this without using compile\n",
        "matches = re.finditer(r\"abc\", test_string)\n",
        "\n",
        "for i in matches:\n",
        "  print(i)"
      ],
      "metadata": {
        "colab": {
          "base_uri": "https://localhost:8080/"
        },
        "id": "31jdzsxG5DsZ",
        "outputId": "f7552eeb-2380-4c01-92a1-d009f8de60e9"
      },
      "execution_count": 17,
      "outputs": [
        {
          "output_type": "stream",
          "name": "stdout",
          "text": [
            "<re.Match object; span=(3, 6), match='abc'>\n",
            "<re.Match object; span=(12, 15), match='abc'>\n"
          ]
        }
      ]
    },
    {
      "cell_type": "markdown",
      "source": [
        "### What is \"r\"\n",
        "* r is a \"raw string\"\n",
        "  * A raw string will print the pattern \"as is\" including any special characters so if there is a \\n or \\t it will be printed.\n",
        "  * If we don't use the 'r', then it won't print the extact or raw string."
      ],
      "metadata": {
        "id": "mmD-C1Px7RYx"
      }
    },
    {
      "cell_type": "code",
      "source": [
        "a = r\"\\tHello\"\n",
        "b = \"\\nHello\"\n",
        "c = r\"\\nHello \\n how \\n are \\t\"\n",
        "print(a)\n",
        "print(b)\n",
        "print(c)"
      ],
      "metadata": {
        "colab": {
          "base_uri": "https://localhost:8080/"
        },
        "id": "_PVEcgHI5Dpf",
        "outputId": "1087fc51-f827-4e44-c0c4-2025b261141e"
      },
      "execution_count": 8,
      "outputs": [
        {
          "output_type": "stream",
          "name": "stdout",
          "text": [
            "\\tHello\n",
            "\n",
            "Hello\n",
            "\\nHello \\n how \\n are \\t\n"
          ]
        }
      ]
    },
    {
      "cell_type": "markdown",
      "source": [
        "## Methods to search for matches"
      ],
      "metadata": {
        "id": "MQYUrlBq4jTp"
      }
    },
    {
      "cell_type": "code",
      "source": [
        "## finditer - returns generator objects\n",
        "matches = pattern.finditer(test_string)\n",
        "\n",
        "for i in matches:\n",
        "  print(i)"
      ],
      "metadata": {
        "colab": {
          "base_uri": "https://localhost:8080/"
        },
        "id": "SDVBdHUk4lG8",
        "outputId": "2861416d-069f-46fe-d140-9a3f972699c2"
      },
      "execution_count": 16,
      "outputs": [
        {
          "output_type": "stream",
          "name": "stdout",
          "text": [
            "<re.Match object; span=(3, 6), match='abc'>\n",
            "<re.Match object; span=(12, 15), match='abc'>\n"
          ]
        }
      ]
    },
    {
      "cell_type": "code",
      "source": [
        "## findall - returns string ONLY\n",
        "matches = pattern.findall(test_string)\n",
        "\n",
        "for i in matches:\n",
        "  print(i)"
      ],
      "metadata": {
        "colab": {
          "base_uri": "https://localhost:8080/"
        },
        "id": "s0baA9bJ_Phe",
        "outputId": "ffe6221a-59ef-4dbc-c859-eb2300d11f0a"
      },
      "execution_count": 15,
      "outputs": [
        {
          "output_type": "stream",
          "name": "stdout",
          "text": [
            "abc\n",
            "abc\n"
          ]
        }
      ]
    },
    {
      "cell_type": "code",
      "source": [
        "## match - ONLY beginning of string match\n",
        "matches = pattern.match(test_string)\n",
        "print(matches)"
      ],
      "metadata": {
        "colab": {
          "base_uri": "https://localhost:8080/"
        },
        "id": "YuMc6MhR_PdB",
        "outputId": "9159ca04-47df-41b9-c227-04cbcb0d3214"
      },
      "execution_count": 20,
      "outputs": [
        {
          "output_type": "stream",
          "name": "stdout",
          "text": [
            "None\n"
          ]
        }
      ]
    },
    {
      "cell_type": "code",
      "source": [
        "## now if we change the pattern to find the beginning of original string\n",
        "pattern = re.compile(r\"123\")\n",
        "matches = pattern.match(test_string)\n",
        "\n",
        "\n",
        "print(matches)"
      ],
      "metadata": {
        "colab": {
          "base_uri": "https://localhost:8080/"
        },
        "id": "gSzX0L2n_PZ9",
        "outputId": "60af9d4a-267c-4866-be21-74eb531c9097"
      },
      "execution_count": 21,
      "outputs": [
        {
          "output_type": "stream",
          "name": "stdout",
          "text": [
            "<re.Match object; span=(0, 3), match='123'>\n"
          ]
        }
      ]
    },
    {
      "cell_type": "markdown",
      "source": [
        "* It returned 1 match at the beginning of the orignal string"
      ],
      "metadata": {
        "id": "ZJohUM6wAtXG"
      }
    },
    {
      "cell_type": "code",
      "source": [
        "## search --> any location where there is a match\n",
        "pattern = re.compile(r\"abc\")\n",
        "matches = pattern.search(test_string)\n",
        "\n",
        "print(matches)"
      ],
      "metadata": {
        "colab": {
          "base_uri": "https://localhost:8080/"
        },
        "id": "tGZaXfQTA9VA",
        "outputId": "cfcd8c0e-7877-43cc-9583-376cf42bf219"
      },
      "execution_count": 22,
      "outputs": [
        {
          "output_type": "stream",
          "name": "stdout",
          "text": [
            "<re.Match object; span=(3, 6), match='abc'>\n"
          ]
        }
      ]
    },
    {
      "cell_type": "code",
      "source": [],
      "metadata": {
        "id": "GHzzUFJTA9Sn"
      },
      "execution_count": null,
      "outputs": []
    },
    {
      "cell_type": "markdown",
      "source": [
        "## Methods on a match object\n",
        "* group\n",
        "* start\n",
        "* end\n",
        "* span"
      ],
      "metadata": {
        "id": "APbyS_qA4l7r"
      }
    },
    {
      "cell_type": "code",
      "source": [
        "import re\n",
        "\n",
        "test_string = '123abc456789abc123ABC'"
      ],
      "metadata": {
        "id": "OYyqU7kt4ntJ"
      },
      "execution_count": 23,
      "outputs": []
    },
    {
      "cell_type": "markdown",
      "source": [
        "`span()` method"
      ],
      "metadata": {
        "id": "d59aoDxMCitJ"
      }
    },
    {
      "cell_type": "code",
      "source": [
        "## span method\n",
        "pattern = re.compile(r\"abc\")\n",
        "matches = pattern.finditer(test_string)\n",
        "\n",
        "# loop through this\n",
        "for m in matches:\n",
        "  print(m.span()) ## span returns a tuple of the spans"
      ],
      "metadata": {
        "colab": {
          "base_uri": "https://localhost:8080/"
        },
        "id": "ncDxEvlcB6zu",
        "outputId": "9f610f82-d0c5-46f1-b456-f6824310ab92"
      },
      "execution_count": 27,
      "outputs": [
        {
          "output_type": "stream",
          "name": "stdout",
          "text": [
            "(3, 6)\n",
            "(12, 15)\n"
          ]
        }
      ]
    },
    {
      "cell_type": "markdown",
      "source": [
        "`start()` and `end()` methods"
      ],
      "metadata": {
        "id": "8YBP64VdClX0"
      }
    },
    {
      "cell_type": "code",
      "source": [
        "## span start and end\n",
        "matches = pattern.finditer(test_string)\n",
        "\n",
        "for m in matches:\n",
        "  print(m.span(), m.start(), m.end())"
      ],
      "metadata": {
        "colab": {
          "base_uri": "https://localhost:8080/"
        },
        "id": "f377p4FeB6vr",
        "outputId": "e3183fd2-18db-424d-a6ed-1575a9f5da6e"
      },
      "execution_count": 28,
      "outputs": [
        {
          "output_type": "stream",
          "name": "stdout",
          "text": [
            "(3, 6) 3 6\n",
            "(12, 15) 12 15\n"
          ]
        }
      ]
    },
    {
      "cell_type": "markdown",
      "source": [
        "`group()` method\n",
        "* You can also call the index of the grouping using an integer parameter"
      ],
      "metadata": {
        "id": "b7TEa3pfC0_A"
      }
    },
    {
      "cell_type": "code",
      "source": [
        "matches = pattern.finditer(test_string)\n",
        "\n",
        "for m in matches:\n",
        "  print(m.group(0))"
      ],
      "metadata": {
        "colab": {
          "base_uri": "https://localhost:8080/"
        },
        "id": "2zfdTX-nB6tO",
        "outputId": "89c3799b-8a21-4155-c0dc-94d3f3e9066a"
      },
      "execution_count": 30,
      "outputs": [
        {
          "output_type": "stream",
          "name": "stdout",
          "text": [
            "abc\n",
            "abc\n"
          ]
        }
      ]
    },
    {
      "cell_type": "code",
      "source": [],
      "metadata": {
        "id": "TcNIdnkVDBYw"
      },
      "execution_count": null,
      "outputs": []
    },
    {
      "cell_type": "markdown",
      "source": [
        "## Meta characters\n",
        "* These are special characters: . ^ $ * + ? { } [ ] \\ | ( )\n",
        "\n",
        "`.` any character (except newline character)\n",
        "\n",
        "`^` Starts with (\"^hello\")\n",
        "\n",
        "`$` Ends with (\"world$\")\n",
        "\n",
        "`*` Zero or more occurrences (\"aix*\")\n",
        "\n",
        "`+` One or more occurrences (\"aix+\")\n",
        "\n",
        "`{}` Exactly the specified number of occurrences \"al{2}\"\n",
        "\n",
        "`[]` A set of characters \"[a-m]\"\n",
        "\n",
        "`\\` Special sequence (or escape special characters) \"\\d\"\n",
        "\n",
        "`|` Either or \"falls|stays\"\n",
        "\n",
        "`()` Capture and group\n"
      ],
      "metadata": {
        "id": "6ZCdD44m4ozG"
      }
    },
    {
      "cell_type": "code",
      "source": [
        "## looking for the \".\"\n",
        "test_string = '123abc456789abc123ABC'\n",
        "\n",
        "\n",
        "pattern = re.compile(r\".\")\n",
        "matches = pattern.finditer(test_string)\n",
        "\n",
        "for m in matches:\n",
        "  print(m)"
      ],
      "metadata": {
        "colab": {
          "base_uri": "https://localhost:8080/"
        },
        "id": "LANApGLX4pzk",
        "outputId": "63fa350f-ea46-420e-c632-a67ed048c7f6"
      },
      "execution_count": 32,
      "outputs": [
        {
          "output_type": "stream",
          "name": "stdout",
          "text": [
            "<re.Match object; span=(0, 1), match='1'>\n",
            "<re.Match object; span=(1, 2), match='2'>\n",
            "<re.Match object; span=(2, 3), match='3'>\n",
            "<re.Match object; span=(3, 4), match='a'>\n",
            "<re.Match object; span=(4, 5), match='b'>\n",
            "<re.Match object; span=(5, 6), match='c'>\n",
            "<re.Match object; span=(6, 7), match='4'>\n",
            "<re.Match object; span=(7, 8), match='5'>\n",
            "<re.Match object; span=(8, 9), match='6'>\n",
            "<re.Match object; span=(9, 10), match='7'>\n",
            "<re.Match object; span=(10, 11), match='8'>\n",
            "<re.Match object; span=(11, 12), match='9'>\n",
            "<re.Match object; span=(12, 13), match='a'>\n",
            "<re.Match object; span=(13, 14), match='b'>\n",
            "<re.Match object; span=(14, 15), match='c'>\n",
            "<re.Match object; span=(15, 16), match='1'>\n",
            "<re.Match object; span=(16, 17), match='2'>\n",
            "<re.Match object; span=(17, 18), match='3'>\n",
            "<re.Match object; span=(18, 19), match='A'>\n",
            "<re.Match object; span=(19, 20), match='B'>\n",
            "<re.Match object; span=(20, 21), match='C'>\n"
          ]
        }
      ]
    },
    {
      "cell_type": "markdown",
      "source": [
        "This is a problem! Using the \".\" alone looks for every character except new line."
      ],
      "metadata": {
        "id": "NxM3xpLDbWAP"
      }
    },
    {
      "cell_type": "code",
      "source": [
        "## lets update the string with the \".\"\n",
        "test_string = '123abc456789abc123ABC.'\n",
        "\n",
        "# we need to escape the . in order to find it --> new line pattern\n",
        "pattern = re.compile(r\"\\.\")\n",
        "matches = pattern.finditer(test_string)\n",
        "\n",
        "for m in matches:\n",
        "  print(m)"
      ],
      "metadata": {
        "colab": {
          "base_uri": "https://localhost:8080/"
        },
        "id": "3BCND0-qbcIb",
        "outputId": "c7f3aa04-67cf-4dbb-c165-236a239e3abf"
      },
      "execution_count": 33,
      "outputs": [
        {
          "output_type": "stream",
          "name": "stdout",
          "text": [
            "<re.Match object; span=(21, 22), match='.'>\n"
          ]
        }
      ]
    },
    {
      "cell_type": "markdown",
      "source": [
        "Aha! Now we have found the \".\" by itself."
      ],
      "metadata": {
        "id": "hzKf2Yx2bw50"
      }
    },
    {
      "cell_type": "code",
      "source": [
        "## now what about the \"^\" -- this is the start of the line\n",
        "pattern = re.compile(r\"^123\") # finds the 123 at the start of our string\n",
        "matches = pattern.finditer(test_string)\n",
        "\n",
        "for m in matches:\n",
        "  print(m)"
      ],
      "metadata": {
        "colab": {
          "base_uri": "https://localhost:8080/"
        },
        "id": "hdA9wtA9bcGe",
        "outputId": "bb0782a7-c7f0-4105-ce7c-ce6d28eaaf0d"
      },
      "execution_count": 34,
      "outputs": [
        {
          "output_type": "stream",
          "name": "stdout",
          "text": [
            "<re.Match object; span=(0, 3), match='123'>\n"
          ]
        }
      ]
    },
    {
      "cell_type": "code",
      "source": [
        "## now match for the end of a string using the \"$\"\n",
        "pattern = re.compile(r\"[A-Z]+.$\")\n",
        "matches = pattern.finditer(test_string)\n",
        "\n",
        "for m in matches:\n",
        "  print(m)"
      ],
      "metadata": {
        "colab": {
          "base_uri": "https://localhost:8080/"
        },
        "id": "BOuJn9iWbcDo",
        "outputId": "5abe4563-4c7f-4459-e046-406af6ce0e9d"
      },
      "execution_count": 40,
      "outputs": [
        {
          "output_type": "stream",
          "name": "stdout",
          "text": [
            "<re.Match object; span=(18, 22), match='ABC.'>\n"
          ]
        }
      ]
    },
    {
      "cell_type": "code",
      "source": [],
      "metadata": {
        "id": "uJVXxtk2bcA4"
      },
      "execution_count": null,
      "outputs": []
    },
    {
      "cell_type": "markdown",
      "source": [
        "## More special sequences\n",
        "* Note: The capital pattern is the opposite of the small case character.\n",
        "* \\d : Matches any decimal digit; [0-9]\n",
        "* \\D : Matches any non-digit character;\n",
        "* \\s : Matches any whitespace character; (space \" \" tab \"\\t\" newline \"\\n\"\n",
        "* \\S : Matches any non-whitespace character;\n",
        "* \\w : Matches any alphanumeric (word) character; [a-zA-Z0-9_].\n",
        "* \\W : Matches any non-alphanumeric character;\n",
        "* \\b : Matches where the specified characters are at the beginning or end of a word.\n",
        "* \\B : Matches where the specified characters are present, but NOT at beginning."
      ],
      "metadata": {
        "id": "UW1tmOkV4q49"
      }
    },
    {
      "cell_type": "code",
      "source": [
        "# new test string\n",
        "test_string = 'hello 123_ heyho hohey'"
      ],
      "metadata": {
        "id": "VbSeII9G4sGR"
      },
      "execution_count": 41,
      "outputs": []
    },
    {
      "cell_type": "code",
      "source": [
        "# pattern\n",
        "pattern = re.compile(r'\\d')\n",
        "matches = pattern.finditer(test_string)\n",
        "for m in matches:\n",
        "  print(m)"
      ],
      "metadata": {
        "colab": {
          "base_uri": "https://localhost:8080/"
        },
        "id": "I05iTLFOdwl5",
        "outputId": "d37a3a79-5279-46cd-b9b7-12c5d6a667e2"
      },
      "execution_count": 42,
      "outputs": [
        {
          "output_type": "stream",
          "name": "stdout",
          "text": [
            "<re.Match object; span=(6, 7), match='1'>\n",
            "<re.Match object; span=(7, 8), match='2'>\n",
            "<re.Match object; span=(8, 9), match='3'>\n"
          ]
        }
      ]
    },
    {
      "cell_type": "code",
      "source": [
        "## \\D now....Finds all characters except 1, 2, 3\n",
        "pattern = re.compile(r\"\\D\")\n",
        "matches = pattern.finditer(test_string)\n",
        "for m in matches:\n",
        "  print(m)"
      ],
      "metadata": {
        "colab": {
          "base_uri": "https://localhost:8080/"
        },
        "id": "wZpiuCufdwjt",
        "outputId": "9bb14286-1e3c-4505-e7f0-0c015ef089ce"
      },
      "execution_count": 43,
      "outputs": [
        {
          "output_type": "stream",
          "name": "stdout",
          "text": [
            "<re.Match object; span=(0, 1), match='h'>\n",
            "<re.Match object; span=(1, 2), match='e'>\n",
            "<re.Match object; span=(2, 3), match='l'>\n",
            "<re.Match object; span=(3, 4), match='l'>\n",
            "<re.Match object; span=(4, 5), match='o'>\n",
            "<re.Match object; span=(5, 6), match=' '>\n",
            "<re.Match object; span=(9, 10), match='_'>\n",
            "<re.Match object; span=(10, 11), match=' '>\n",
            "<re.Match object; span=(11, 12), match='h'>\n",
            "<re.Match object; span=(12, 13), match='e'>\n",
            "<re.Match object; span=(13, 14), match='y'>\n",
            "<re.Match object; span=(14, 15), match='h'>\n",
            "<re.Match object; span=(15, 16), match='o'>\n",
            "<re.Match object; span=(16, 17), match=' '>\n",
            "<re.Match object; span=(17, 18), match='h'>\n",
            "<re.Match object; span=(18, 19), match='o'>\n",
            "<re.Match object; span=(19, 20), match='h'>\n",
            "<re.Match object; span=(20, 21), match='e'>\n",
            "<re.Match object; span=(21, 22), match='y'>\n"
          ]
        }
      ]
    },
    {
      "cell_type": "code",
      "source": [
        "## whitespace --> \\s\n",
        "pattern = re.compile(r\"\\s\")\n",
        "matches = pattern.finditer(test_string)\n",
        "for m in matches:\n",
        "  print(m)"
      ],
      "metadata": {
        "colab": {
          "base_uri": "https://localhost:8080/"
        },
        "id": "jc1x1JktdwhS",
        "outputId": "3a81a65e-3318-47c0-e62b-f2f7eecf0215"
      },
      "execution_count": 44,
      "outputs": [
        {
          "output_type": "stream",
          "name": "stdout",
          "text": [
            "<re.Match object; span=(5, 6), match=' '>\n",
            "<re.Match object; span=(10, 11), match=' '>\n",
            "<re.Match object; span=(16, 17), match=' '>\n"
          ]
        }
      ]
    },
    {
      "cell_type": "code",
      "source": [
        "## now opposite of whitespace --> \\S (any non-whitespace character)\n",
        "pattern = re.compile(r\"\\S\")\n",
        "matches = pattern.finditer(test_string)\n",
        "for m in matches:\n",
        "  print(m)"
      ],
      "metadata": {
        "colab": {
          "base_uri": "https://localhost:8080/"
        },
        "id": "2S1uUy90dwej",
        "outputId": "7b3e2544-a518-4e3c-cb28-2f295a903c50"
      },
      "execution_count": 45,
      "outputs": [
        {
          "output_type": "stream",
          "name": "stdout",
          "text": [
            "<re.Match object; span=(0, 1), match='h'>\n",
            "<re.Match object; span=(1, 2), match='e'>\n",
            "<re.Match object; span=(2, 3), match='l'>\n",
            "<re.Match object; span=(3, 4), match='l'>\n",
            "<re.Match object; span=(4, 5), match='o'>\n",
            "<re.Match object; span=(6, 7), match='1'>\n",
            "<re.Match object; span=(7, 8), match='2'>\n",
            "<re.Match object; span=(8, 9), match='3'>\n",
            "<re.Match object; span=(9, 10), match='_'>\n",
            "<re.Match object; span=(11, 12), match='h'>\n",
            "<re.Match object; span=(12, 13), match='e'>\n",
            "<re.Match object; span=(13, 14), match='y'>\n",
            "<re.Match object; span=(14, 15), match='h'>\n",
            "<re.Match object; span=(15, 16), match='o'>\n",
            "<re.Match object; span=(17, 18), match='h'>\n",
            "<re.Match object; span=(18, 19), match='o'>\n",
            "<re.Match object; span=(19, 20), match='h'>\n",
            "<re.Match object; span=(20, 21), match='e'>\n",
            "<re.Match object; span=(21, 22), match='y'>\n"
          ]
        }
      ]
    },
    {
      "cell_type": "code",
      "source": [
        "## \\b --> beginning or end of word\n",
        "pattern = re.compile(r'\\bhey')\n",
        "matches = pattern.findall(test_string)\n",
        "for m in matches:\n",
        "  print(m)"
      ],
      "metadata": {
        "colab": {
          "base_uri": "https://localhost:8080/"
        },
        "id": "TMHvEnGTe5wk",
        "outputId": "19bbcbec-107e-49d0-ccd1-32be5f7ccd91"
      },
      "execution_count": 47,
      "outputs": [
        {
          "output_type": "stream",
          "name": "stdout",
          "text": [
            "hey\n"
          ]
        }
      ]
    },
    {
      "cell_type": "code",
      "source": [
        "## \\B --> opposite --> where characters are present but not at beginning\n",
        "pattern = re.compile(r'\\Bhey')\n",
        "matches = pattern.finditer(test_string)\n",
        "for m in matches:\n",
        "  print(m)"
      ],
      "metadata": {
        "colab": {
          "base_uri": "https://localhost:8080/"
        },
        "id": "EZIEScNOe5uA",
        "outputId": "15d77c06-b03c-42fe-84f1-95c8286a6c83"
      },
      "execution_count": 48,
      "outputs": [
        {
          "output_type": "stream",
          "name": "stdout",
          "text": [
            "<re.Match object; span=(19, 22), match='hey'>\n"
          ]
        }
      ]
    },
    {
      "cell_type": "markdown",
      "source": [
        "This result shows us 'hey' but it is obviously not at the beginning of the word."
      ],
      "metadata": {
        "id": "r-b-W0D2fmyI"
      }
    },
    {
      "cell_type": "code",
      "source": [],
      "metadata": {
        "id": "Nkgn6fw-e5rf"
      },
      "execution_count": null,
      "outputs": []
    },
    {
      "cell_type": "markdown",
      "source": [
        "## Sets\n",
        "* This is what the `[ ]` is used for, to find a set of a regex pattern.\n",
        "* Ranges are commonly used such as: `[a-z]` or `[A-Z]` or `[0-9]`"
      ],
      "metadata": {
        "id": "ShlqMD2N4tVI"
      }
    },
    {
      "cell_type": "code",
      "source": [
        "test_string = 'hello 123_'\n",
        "\n",
        "pattern = re.compile(r\"[helo]+\")\n",
        "matches = pattern.findall(test_string)\n",
        "\n",
        "print(matches)"
      ],
      "metadata": {
        "colab": {
          "base_uri": "https://localhost:8080/"
        },
        "id": "K5msgvX04uCX",
        "outputId": "eb269ebc-5648-471c-f505-b3c0c250769a"
      },
      "execution_count": 54,
      "outputs": [
        {
          "output_type": "stream",
          "name": "stdout",
          "text": [
            "['hello']\n"
          ]
        }
      ]
    },
    {
      "cell_type": "code",
      "source": [
        "# numbers\n",
        "pattern = re.compile(r\"[0-9]\")\n",
        "matches = pattern.findall(test_string)\n",
        "print(matches)"
      ],
      "metadata": {
        "colab": {
          "base_uri": "https://localhost:8080/"
        },
        "id": "doRUTG23ggVQ",
        "outputId": "fccb68ff-f179-413e-c9ff-8f22b94f9c85"
      },
      "execution_count": 56,
      "outputs": [
        {
          "output_type": "stream",
          "name": "stdout",
          "text": [
            "['1', '2', '3']\n"
          ]
        }
      ]
    },
    {
      "cell_type": "code",
      "source": [
        "## back to back regex matching\n",
        "test_string = 'helloHELLO 123-_'\n",
        "\n",
        "pattern = re.compile(r\"[a-zA-Z0-9]\")\n",
        "matches = pattern.finditer(test_string)\n",
        "for m in matches:\n",
        "  print(m)"
      ],
      "metadata": {
        "colab": {
          "base_uri": "https://localhost:8080/"
        },
        "id": "3M3iz_d4ggQw",
        "outputId": "17bcba10-5212-4853-c01e-1d4e34a5ab4a"
      },
      "execution_count": 57,
      "outputs": [
        {
          "output_type": "stream",
          "name": "stdout",
          "text": [
            "<re.Match object; span=(0, 1), match='h'>\n",
            "<re.Match object; span=(1, 2), match='e'>\n",
            "<re.Match object; span=(2, 3), match='l'>\n",
            "<re.Match object; span=(3, 4), match='l'>\n",
            "<re.Match object; span=(4, 5), match='o'>\n",
            "<re.Match object; span=(5, 6), match='H'>\n",
            "<re.Match object; span=(6, 7), match='E'>\n",
            "<re.Match object; span=(7, 8), match='L'>\n",
            "<re.Match object; span=(8, 9), match='L'>\n",
            "<re.Match object; span=(9, 10), match='O'>\n",
            "<re.Match object; span=(11, 12), match='1'>\n",
            "<re.Match object; span=(12, 13), match='2'>\n",
            "<re.Match object; span=(13, 14), match='3'>\n"
          ]
        }
      ]
    },
    {
      "cell_type": "markdown",
      "source": [
        "## Quantifier\n",
        "* : 0 or more\n",
        "* `+` : 1 or more\n",
        "* `?` : 0 or 1, --> optional character\n",
        "* {4} : exact number match\n",
        "* {4,6} : range numbers (min, max)"
      ],
      "metadata": {
        "id": "1tx_P-DU4uYO"
      }
    },
    {
      "cell_type": "code",
      "source": [
        "test_string = 'hello_123'\n",
        "\n",
        "# this finds all digits, zero or more\n",
        "pattern = re.compile(r'\\d*')\n",
        "matches = pattern.finditer(test_string)\n",
        "for m in matches:\n",
        "  print(m)"
      ],
      "metadata": {
        "colab": {
          "base_uri": "https://localhost:8080/"
        },
        "id": "_bJDINNi4vJV",
        "outputId": "e8c16a62-d035-48de-9f77-83a01e6668c8"
      },
      "execution_count": 58,
      "outputs": [
        {
          "output_type": "stream",
          "name": "stdout",
          "text": [
            "<re.Match object; span=(0, 0), match=''>\n",
            "<re.Match object; span=(1, 1), match=''>\n",
            "<re.Match object; span=(2, 2), match=''>\n",
            "<re.Match object; span=(3, 3), match=''>\n",
            "<re.Match object; span=(4, 4), match=''>\n",
            "<re.Match object; span=(5, 5), match=''>\n",
            "<re.Match object; span=(6, 9), match='123'>\n",
            "<re.Match object; span=(9, 9), match=''>\n"
          ]
        }
      ]
    },
    {
      "cell_type": "code",
      "source": [
        "## now looking for 1 or more\n",
        "pattern = re.compile(r'\\d+')\n",
        "matches = pattern.finditer(test_string)\n",
        "for m in matches:\n",
        "  print(m)"
      ],
      "metadata": {
        "colab": {
          "base_uri": "https://localhost:8080/"
        },
        "id": "SuT0wZXShPyA",
        "outputId": "8535a970-7bdf-42b0-e34a-0c85a3797bd5"
      },
      "execution_count": 59,
      "outputs": [
        {
          "output_type": "stream",
          "name": "stdout",
          "text": [
            "<re.Match object; span=(6, 9), match='123'>\n"
          ]
        }
      ]
    },
    {
      "cell_type": "code",
      "source": [
        "## using the '?' we can search with logic of something may or may not be there such as this\n",
        "test_string = 'hello_123'\n",
        "\n",
        "pattern = re.compile(r'_?\\d')\n",
        "matches = pattern.finditer(test_string)\n",
        "for m in matches:\n",
        "  print(m)"
      ],
      "metadata": {
        "colab": {
          "base_uri": "https://localhost:8080/"
        },
        "id": "7fEkdBxqhPvp",
        "outputId": "782c25fc-0a11-4e2e-9c1d-b8d4a70f413f"
      },
      "execution_count": 61,
      "outputs": [
        {
          "output_type": "stream",
          "name": "stdout",
          "text": [
            "<re.Match object; span=(5, 7), match='_1'>\n",
            "<re.Match object; span=(7, 9), match='_2'>\n",
            "<re.Match object; span=(9, 11), match='_3'>\n"
          ]
        }
      ]
    },
    {
      "cell_type": "code",
      "source": [
        "## looking for a specific range of digits\n",
        "pattern = re.compile(r'\\d{1,3}')\n",
        "matches = pattern.finditer(test_string)\n",
        "for m in matches:\n",
        "  print(m)"
      ],
      "metadata": {
        "colab": {
          "base_uri": "https://localhost:8080/"
        },
        "id": "BHcCWYmXhPsy",
        "outputId": "189d4367-5f9c-441c-86c2-a9aee82fc797"
      },
      "execution_count": 64,
      "outputs": [
        {
          "output_type": "stream",
          "name": "stdout",
          "text": [
            "<re.Match object; span=(6, 7), match='1'>\n",
            "<re.Match object; span=(8, 9), match='2'>\n",
            "<re.Match object; span=(10, 11), match='3'>\n"
          ]
        }
      ]
    },
    {
      "cell_type": "markdown",
      "source": [
        "### Now an example using Date strings\n",
        "* Notice the different date formats.\n",
        "* Without using the Python `datetime` module this would be using regex."
      ],
      "metadata": {
        "id": "vLziwbHyjf5V"
      }
    },
    {
      "cell_type": "code",
      "source": [
        "dates = \"\"\"\n",
        "hello\n",
        "01.04.2020\n",
        "\n",
        "2020.04.01\n",
        "\n",
        "2020-04-01\n",
        "2020-05-23\n",
        "2020-06-11\n",
        "2020-07-11\n",
        "2020-08-11\n",
        "\n",
        "2020/04/02\n",
        "\n",
        "2020_04_04\n",
        "2020_04_04\n",
        "\"\"\""
      ],
      "metadata": {
        "id": "wSVMaJFRjC4I"
      },
      "execution_count": 67,
      "outputs": []
    },
    {
      "cell_type": "code",
      "source": [
        "## new pattern match\n",
        "pattern = re.compile(r'\\d\\d\\d\\d.\\d\\d.\\d\\d')\n",
        "matches = pattern.finditer(dates)\n",
        "for m in matches:\n",
        "  print(m)"
      ],
      "metadata": {
        "colab": {
          "base_uri": "https://localhost:8080/"
        },
        "id": "nFuDC9cqjC1v",
        "outputId": "bbaf4c64-bdb5-4c1a-a80c-196b0329f47c"
      },
      "execution_count": 68,
      "outputs": [
        {
          "output_type": "stream",
          "name": "stdout",
          "text": [
            "<re.Match object; span=(19, 29), match='2020.04.01'>\n",
            "<re.Match object; span=(31, 41), match='2020-04-01'>\n",
            "<re.Match object; span=(42, 52), match='2020-05-23'>\n",
            "<re.Match object; span=(53, 63), match='2020-06-11'>\n",
            "<re.Match object; span=(64, 74), match='2020-07-11'>\n",
            "<re.Match object; span=(75, 85), match='2020-08-11'>\n",
            "<re.Match object; span=(87, 97), match='2020/04/02'>\n",
            "<re.Match object; span=(99, 109), match='2020_04_04'>\n",
            "<re.Match object; span=(110, 120), match='2020_04_04'>\n"
          ]
        }
      ]
    },
    {
      "cell_type": "markdown",
      "source": [
        "Summary:\n",
        "* Notice it did not find all date formats."
      ],
      "metadata": {
        "id": "1GfDZO0akqJA"
      }
    },
    {
      "cell_type": "code",
      "source": [
        "## change format to precisely find the \"-\"\n",
        "pattern = re.compile(r'\\d\\d\\d\\d-\\d\\d-\\d\\d')\n",
        "matches = pattern.finditer(dates)\n",
        "for m in matches:\n",
        "  print(m)"
      ],
      "metadata": {
        "colab": {
          "base_uri": "https://localhost:8080/"
        },
        "id": "tIngZZAQkGe4",
        "outputId": "0729e30e-c235-41be-a6d8-b1b0ba9b28c9"
      },
      "execution_count": 70,
      "outputs": [
        {
          "output_type": "stream",
          "name": "stdout",
          "text": [
            "<re.Match object; span=(31, 41), match='2020-04-01'>\n",
            "<re.Match object; span=(42, 52), match='2020-05-23'>\n",
            "<re.Match object; span=(53, 63), match='2020-06-11'>\n",
            "<re.Match object; span=(64, 74), match='2020-07-11'>\n",
            "<re.Match object; span=(75, 85), match='2020-08-11'>\n"
          ]
        }
      ]
    },
    {
      "cell_type": "code",
      "source": [
        "## To make this more flexible we can use a set []\n",
        "pattern = re.compile(r'[0-9]{4}[-/.][0-9]{2}[-/.][0-9]{2}')\n",
        "matches = pattern.finditer(dates)\n",
        "for m in matches:\n",
        "  print(m)"
      ],
      "metadata": {
        "colab": {
          "base_uri": "https://localhost:8080/"
        },
        "id": "lYP6hpu4kGcD",
        "outputId": "163790bd-dbce-4a19-9687-a97588be26fc"
      },
      "execution_count": 73,
      "outputs": [
        {
          "output_type": "stream",
          "name": "stdout",
          "text": [
            "<re.Match object; span=(19, 29), match='2020.04.01'>\n",
            "<re.Match object; span=(31, 41), match='2020-04-01'>\n",
            "<re.Match object; span=(42, 52), match='2020-05-23'>\n",
            "<re.Match object; span=(53, 63), match='2020-06-11'>\n",
            "<re.Match object; span=(64, 74), match='2020-07-11'>\n",
            "<re.Match object; span=(75, 85), match='2020-08-11'>\n",
            "<re.Match object; span=(87, 97), match='2020/04/02'>\n"
          ]
        }
      ]
    },
    {
      "cell_type": "code",
      "source": [
        "## now lets say we only want month of may, june, july\n",
        "pattern = re.compile(r'\\d\\d\\d\\d[-/]0[5-7][-/]\\d\\d')\n",
        "\n",
        "matches = pattern.finditer(dates)\n",
        "for m in matches:\n",
        "  print(m)"
      ],
      "metadata": {
        "colab": {
          "base_uri": "https://localhost:8080/"
        },
        "id": "m6ZArUjSkGYu",
        "outputId": "eb781e19-c6a3-471b-a2c1-a40bce00e162"
      },
      "execution_count": 76,
      "outputs": [
        {
          "output_type": "stream",
          "name": "stdout",
          "text": [
            "<re.Match object; span=(42, 52), match='2020-05-23'>\n",
            "<re.Match object; span=(53, 63), match='2020-06-11'>\n",
            "<re.Match object; span=(64, 74), match='2020-07-11'>\n"
          ]
        }
      ]
    },
    {
      "cell_type": "code",
      "source": [
        "## let's simplify this\n",
        "pattern = re.compile(r'\\d{4}[-/]0[5-7][-/]\\d{2}') #finds 4 digits, may-july, 2 digits\n",
        "\n",
        "matches = pattern.finditer(dates)\n",
        "for m in matches:\n",
        "  print(m)"
      ],
      "metadata": {
        "colab": {
          "base_uri": "https://localhost:8080/"
        },
        "id": "64MKlW3erjH0",
        "outputId": "3b028fc5-af0b-437e-b5b8-fbad0fe9cd06"
      },
      "execution_count": 77,
      "outputs": [
        {
          "output_type": "stream",
          "name": "stdout",
          "text": [
            "<re.Match object; span=(42, 52), match='2020-05-23'>\n",
            "<re.Match object; span=(53, 63), match='2020-06-11'>\n",
            "<re.Match object; span=(64, 74), match='2020-07-11'>\n"
          ]
        }
      ]
    },
    {
      "cell_type": "code",
      "source": [],
      "metadata": {
        "id": "-rDHBI_grjE7"
      },
      "execution_count": null,
      "outputs": []
    },
    {
      "cell_type": "code",
      "source": [],
      "metadata": {
        "id": "ekDR2OXlrjB0"
      },
      "execution_count": null,
      "outputs": []
    },
    {
      "cell_type": "code",
      "source": [],
      "metadata": {
        "id": "zqXfZh_jri5z"
      },
      "execution_count": null,
      "outputs": []
    },
    {
      "cell_type": "markdown",
      "source": [
        "## Conditions"
      ],
      "metadata": {
        "id": "DWNia8ZS4v9v"
      }
    },
    {
      "cell_type": "code",
      "source": [
        "## new string\n",
        "my_string = \"\"\"\n",
        "hello world\n",
        "1223\n",
        "2020-05-20\n",
        "Mr Simpson\n",
        "Mrs Simpson\n",
        "Mr. Brown\n",
        "Ms Smith\n",
        "Mr. T\n",
        "pythonengineer@gmail.com\n",
        "Python-engineer@gmx.de\n",
        "python-engineer123@my-domain.org\n",
        "\n",
        "\n",
        "\"\"\""
      ],
      "metadata": {
        "id": "6mRUN-n04wu3"
      },
      "execution_count": 85,
      "outputs": []
    },
    {
      "cell_type": "code",
      "source": [
        "## create pattern\n",
        "pattern = re.compile(r'(Mr|Ms|Mrs)\\.?\\s\\w+')\n",
        "matches = pattern.finditer(my_string)\n",
        "for m in matches:\n",
        "  print(m)"
      ],
      "metadata": {
        "colab": {
          "base_uri": "https://localhost:8080/"
        },
        "id": "lYcGnMFCr7T-",
        "outputId": "898aa867-8e32-4d72-ff17-8a4397ee9f33"
      },
      "execution_count": 84,
      "outputs": [
        {
          "output_type": "stream",
          "name": "stdout",
          "text": [
            "<re.Match object; span=(29, 39), match='Mr Simpson'>\n",
            "<re.Match object; span=(40, 51), match='Mrs Simpson'>\n",
            "<re.Match object; span=(52, 61), match='Mr. Brown'>\n",
            "<re.Match object; span=(62, 70), match='Ms Smith'>\n",
            "<re.Match object; span=(71, 76), match='Mr. T'>\n"
          ]
        }
      ]
    },
    {
      "cell_type": "markdown",
      "source": [
        "### Extracting only the emails from the text `my_string` above"
      ],
      "metadata": {
        "id": "NnG0QmXDtiDq"
      }
    },
    {
      "cell_type": "code",
      "source": [
        "pattern = re.compile(r'([a-zA-Z0-9-]+)@([a-zA-Z-]+)\\.([a-zA-Z]+)')"
      ],
      "metadata": {
        "id": "oE2FnFtur7RM"
      },
      "execution_count": 101,
      "outputs": []
    },
    {
      "cell_type": "code",
      "source": [
        "matches = pattern.finditer(my_string)\n",
        "for m in matches:\n",
        "  print(m)"
      ],
      "metadata": {
        "colab": {
          "base_uri": "https://localhost:8080/"
        },
        "id": "JHE_Hvqfr7OX",
        "outputId": "1d096023-9671-48da-8d02-9b3ec4e3fb4e"
      },
      "execution_count": 102,
      "outputs": [
        {
          "output_type": "stream",
          "name": "stdout",
          "text": [
            "<re.Match object; span=(77, 101), match='pythonengineer@gmail.com'>\n",
            "<re.Match object; span=(102, 124), match='Python-engineer@gmx.de'>\n",
            "<re.Match object; span=(125, 157), match='python-engineer123@my-domain.org'>\n"
          ]
        }
      ]
    },
    {
      "cell_type": "code",
      "source": [],
      "metadata": {
        "id": "J8ttNsVFr7LG"
      },
      "execution_count": null,
      "outputs": []
    },
    {
      "cell_type": "markdown",
      "source": [
        "## Grouping\n",
        "* Grouping allows us to separate each regex pattern into separate components."
      ],
      "metadata": {
        "id": "KwDHiMJW4xna"
      }
    },
    {
      "cell_type": "code",
      "source": [
        "pattern = re.compile(r'([a-zA-Z0-9-]+)@([a-zA-Z-]+)\\.([a-zA-Z]+)')"
      ],
      "metadata": {
        "id": "zKsEgBBS4yo8"
      },
      "execution_count": 103,
      "outputs": []
    },
    {
      "cell_type": "code",
      "source": [
        "matches = pattern.finditer(my_string)\n",
        "for m in matches:\n",
        "  print(m.group(0))\n",
        "  print(m.group(1))\n",
        "  print(m.group(2))\n",
        "  print(m.group(3))"
      ],
      "metadata": {
        "colab": {
          "base_uri": "https://localhost:8080/"
        },
        "id": "iyKxPFCzvxyZ",
        "outputId": "613ff1b1-9e6e-4c57-b561-9a6ec0585323"
      },
      "execution_count": 106,
      "outputs": [
        {
          "output_type": "stream",
          "name": "stdout",
          "text": [
            "pythonengineer@gmail.com\n",
            "pythonengineer\n",
            "gmail\n",
            "com\n",
            "Python-engineer@gmx.de\n",
            "Python-engineer\n",
            "gmx\n",
            "de\n",
            "python-engineer123@my-domain.org\n",
            "python-engineer123\n",
            "my-domain\n",
            "org\n"
          ]
        }
      ]
    },
    {
      "cell_type": "code",
      "source": [],
      "metadata": {
        "id": "FA8lruLKvxu6"
      },
      "execution_count": null,
      "outputs": []
    },
    {
      "cell_type": "code",
      "source": [],
      "metadata": {
        "id": "lC5-PLaavxmK"
      },
      "execution_count": null,
      "outputs": []
    },
    {
      "cell_type": "markdown",
      "source": [
        "## Modification\n",
        "* `split()` --> splits into a list\n",
        "* `sub()` --> finds all substrings where regex matches and replaces with different string."
      ],
      "metadata": {
        "id": "6YLEMWPS4y_t"
      }
    },
    {
      "cell_type": "markdown",
      "source": [
        "### Split method"
      ],
      "metadata": {
        "id": "w7vXYREXxj2h"
      }
    },
    {
      "cell_type": "code",
      "source": [
        "# new test string\n",
        "test_string = '123abc456789abc123ABC'"
      ],
      "metadata": {
        "id": "xc-xknHE4z-F"
      },
      "execution_count": 108,
      "outputs": []
    },
    {
      "cell_type": "code",
      "source": [
        "pattern = re.compile(r'abc')\n",
        "\n",
        "splitted = pattern.split(test_string)\n",
        "print(splitted) #prints a list"
      ],
      "metadata": {
        "colab": {
          "base_uri": "https://localhost:8080/"
        },
        "id": "UgjmqHG_w82S",
        "outputId": "3ad07e2c-6ab7-4370-a84e-1e83d9d0abc2"
      },
      "execution_count": 111,
      "outputs": [
        {
          "output_type": "stream",
          "name": "stdout",
          "text": [
            "['123', '456789', '123ABC']\n"
          ]
        }
      ]
    },
    {
      "cell_type": "markdown",
      "source": [
        "### Sub method"
      ],
      "metadata": {
        "id": "OOF11X9Lxl16"
      }
    },
    {
      "cell_type": "code",
      "source": [
        "test_string = 'hello world, you are the best world'"
      ],
      "metadata": {
        "id": "YCs7HlFlw8ze"
      },
      "execution_count": 112,
      "outputs": []
    },
    {
      "cell_type": "code",
      "source": [
        "pattern = re.compile(r'world')\n",
        "## add 'planet' to replace this\n",
        "subbed_string = pattern.sub('planet',test_string)\n",
        "print(subbed_string)"
      ],
      "metadata": {
        "colab": {
          "base_uri": "https://localhost:8080/"
        },
        "id": "XSFsw-6Nw8vH",
        "outputId": "70eb9e72-12f6-4d5c-9981-5db6254cdd5d"
      },
      "execution_count": 113,
      "outputs": [
        {
          "output_type": "stream",
          "name": "stdout",
          "text": [
            "hello planet, you are the best planet\n"
          ]
        }
      ]
    },
    {
      "cell_type": "code",
      "source": [
        "## another sub method with urls\n",
        "urls = \"\"\"\n",
        "hello\n",
        "2020-05-20\n",
        "http://python-engineer.com\n",
        "https://www.python-engineer.com\n",
        "http://www.pyeng.net\n",
        "\n",
        "\"\"\"\n"
      ],
      "metadata": {
        "id": "F6O3TDS_w8sM"
      },
      "execution_count": 120,
      "outputs": []
    },
    {
      "cell_type": "code",
      "source": [
        "pattern = re.compile(r'https?://(www\\.)?([a-zA-Z-]+)\\.[a-zA-Z]+')\n",
        "matches = pattern.finditer(urls)\n",
        "for m in matches:\n",
        "  print(m)"
      ],
      "metadata": {
        "colab": {
          "base_uri": "https://localhost:8080/"
        },
        "id": "aWHA2gQZw8mK",
        "outputId": "e99cdd5b-e4f7-4bc4-efc8-1b97a972ae1d"
      },
      "execution_count": 125,
      "outputs": [
        {
          "output_type": "stream",
          "name": "stdout",
          "text": [
            "<re.Match object; span=(18, 44), match='http://python-engineer.com'>\n",
            "<re.Match object; span=(45, 76), match='https://www.python-engineer.com'>\n",
            "<re.Match object; span=(77, 97), match='http://www.pyeng.net'>\n"
          ]
        }
      ]
    },
    {
      "cell_type": "code",
      "source": [
        "## now replace the domain of the string\n",
        "\n",
        "\n",
        "subbed_urls = pattern.sub(\"hello\", urls)\n",
        "print(subbed_urls)"
      ],
      "metadata": {
        "colab": {
          "base_uri": "https://localhost:8080/"
        },
        "id": "YN4ya5FiySvQ",
        "outputId": "6901b6f6-0d73-4626-ca3b-8ac0cefb4e87"
      },
      "execution_count": 126,
      "outputs": [
        {
          "output_type": "stream",
          "name": "stdout",
          "text": [
            "\n",
            "hello\n",
            "2020-05-20\n",
            "hello\n",
            "hello\n",
            "hello\n",
            "\n",
            "\n"
          ]
        }
      ]
    },
    {
      "cell_type": "code",
      "source": [],
      "metadata": {
        "id": "NWDYoojUySsp"
      },
      "execution_count": null,
      "outputs": []
    },
    {
      "cell_type": "code",
      "source": [],
      "metadata": {
        "id": "fBvzeaEgySov"
      },
      "execution_count": null,
      "outputs": []
    },
    {
      "cell_type": "markdown",
      "source": [
        "## Compilation flags\n",
        "* ASCII, A : Makes several escapes like \\w, \\b, \\s and \\d match only on ASCII characters\n",
        "* DOTALL, S : Makes . match any char, including newlines.\n",
        "* IGNORECASE, I : Do case-insensitive matches.\n",
        "* LOCALE, L : Do a local-aware match.\n",
        "* MULTILINE, M : Multi-line matching, affecting ^ and $.\n",
        "* VERBOSE, X (for 'extended') : Enable verbose REs, which can be organized."
      ],
      "metadata": {
        "id": "aITl4RmO40xQ"
      }
    },
    {
      "cell_type": "code",
      "source": [
        "## IGNORECASE compilation flag is very common\n",
        "my_string = \"Hello World\"\n",
        "pattern = re.compile(r'world', re.I)\n",
        "matches = pattern.finditer(my_string)\n",
        "for m in matches:\n",
        "  print(m)"
      ],
      "metadata": {
        "colab": {
          "base_uri": "https://localhost:8080/"
        },
        "id": "vVcq0DAr43NF",
        "outputId": "7e6b9d2c-e4eb-4795-efff-73507c1d6376"
      },
      "execution_count": 129,
      "outputs": [
        {
          "output_type": "stream",
          "name": "stdout",
          "text": [
            "<re.Match object; span=(6, 11), match='World'>\n"
          ]
        }
      ]
    },
    {
      "cell_type": "markdown",
      "source": [
        "summary: We used `re.I` to ignore the case sensitivity of the string."
      ],
      "metadata": {
        "id": "L3OzxAFN0mmV"
      }
    },
    {
      "cell_type": "code",
      "source": [],
      "metadata": {
        "id": "76c6CYOn0aHA"
      },
      "execution_count": null,
      "outputs": []
    }
  ]
}