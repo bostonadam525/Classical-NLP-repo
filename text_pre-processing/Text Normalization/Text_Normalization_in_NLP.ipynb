{
  "nbformat": 4,
  "nbformat_minor": 0,
  "metadata": {
    "colab": {
      "provenance": []
    },
    "kernelspec": {
      "name": "python3",
      "display_name": "Python 3"
    },
    "language_info": {
      "name": "python"
    }
  },
  "cells": [
    {
      "cell_type": "markdown",
      "source": [
        "# Text Normalization in NLP\n",
        "* Notebook by Adam Lang\n",
        "* Date: 3/18/2024\n",
        "\n",
        "# NLP Normalization - Overview\n",
        "* Morpheme = base of a word\n",
        "* Structure of a token in NLP\n",
        "    * prefix-morepheme-suffix\n",
        "    *Example: `Antinationalist: Anti + national + ist`\n",
        "    * 'national' is the morpheme here.\n",
        "* Normalization is the NLP process of converting a token into its base form which is a morpheme.\n",
        "\n",
        "## Why do we need Text Normalization in NLP?\n",
        "* Reduces data dimensionality\n",
        "* Text cleaning\n",
        "\n",
        "## What are the common methods for Text Normalization in NLP?\n",
        "1. Stemming\n",
        "    * Elementary rule based process removes the inflectional forms from a token.\n",
        "    * Example: \"laughing\", \"laughed\", \"laughs\", \"laugh\" ====> \"laugh\"\n",
        "    * Not ideal because it will normalize text to non-normal words\n",
        "\n",
        "2. Lemmatization\n",
        "    * Systematic process for reducing tokens to its lemma.\n",
        "    * Produces a root word or lemma.\n",
        "    * Examples:\n",
        "        a) am, are, is ==> be\n",
        "        b) running, ran, run, rans ==> run\n",
        "    * Running, 'verb' ==> run\n",
        "    * Running, 'noun' ==> running\n",
        "    * More meaningful technique than `Stemming` as it produces more meaningful words.\n",
        "\n",
        "\n",
        "# Implementing Text Normalization in Python - spaCy\n",
        "\n",
        "## Lemmatization"
      ],
      "metadata": {
        "id": "uJBnmMG5Oyow"
      }
    },
    {
      "cell_type": "markdown",
      "source": [
        "### Example 1"
      ],
      "metadata": {
        "id": "DtbteOUwQ91M"
      }
    },
    {
      "cell_type": "code",
      "execution_count": 1,
      "metadata": {
        "id": "BuvONnCVOsHl"
      },
      "outputs": [],
      "source": [
        "# define a string to test\n",
        "text = \"The sky is clear and the stars are twinkling.\""
      ]
    },
    {
      "cell_type": "code",
      "source": [
        "import spacy"
      ],
      "metadata": {
        "id": "zBfRJUACQekq"
      },
      "execution_count": 2,
      "outputs": []
    },
    {
      "cell_type": "code",
      "source": [
        "# load spacy model\n",
        "nlp = spacy.load('en_core_web_sm')"
      ],
      "metadata": {
        "id": "u2FwiIyEQfcF"
      },
      "execution_count": 3,
      "outputs": []
    },
    {
      "cell_type": "code",
      "source": [
        "# create nlp doc object\n",
        "doc = nlp(text)"
      ],
      "metadata": {
        "id": "NRmFJPt1QiGJ"
      },
      "execution_count": 4,
      "outputs": []
    },
    {
      "cell_type": "code",
      "source": [
        "# lemmatize text\n",
        "[(token.text, token.lemma_) for token in doc]"
      ],
      "metadata": {
        "colab": {
          "base_uri": "https://localhost:8080/"
        },
        "id": "uppGmsQJQkXl",
        "outputId": "08999171-da10-420a-ceed-7376c76ff197"
      },
      "execution_count": 5,
      "outputs": [
        {
          "output_type": "execute_result",
          "data": {
            "text/plain": [
              "[('The', 'the'),\n",
              " ('sky', 'sky'),\n",
              " ('is', 'be'),\n",
              " ('clear', 'clear'),\n",
              " ('and', 'and'),\n",
              " ('the', 'the'),\n",
              " ('stars', 'star'),\n",
              " ('are', 'be'),\n",
              " ('twinkling', 'twinkle'),\n",
              " ('.', '.')]"
            ]
          },
          "metadata": {},
          "execution_count": 5
        }
      ]
    },
    {
      "cell_type": "markdown",
      "source": [
        "summary:\n",
        "* above we can see the text on the left and the lemma result on the right.\n",
        "* this is ideal for question-answer problems."
      ],
      "metadata": {
        "id": "32VJ7WuYQ00Y"
      }
    },
    {
      "cell_type": "markdown",
      "source": [
        "### Example 2"
      ],
      "metadata": {
        "id": "qvFVA5gpRAyg"
      }
    },
    {
      "cell_type": "code",
      "source": [
        "text = \"The moon looks beautiful at night. It's hard to resist its beauty.\"\n",
        "\n",
        "# Creating doc object\n",
        "doc = nlp(text)\n",
        "\n",
        "# lemmatizing the text with list comprehension\n",
        "[(token.text, token.lemma_) for token in doc]"
      ],
      "metadata": {
        "colab": {
          "base_uri": "https://localhost:8080/"
        },
        "id": "VkThn4MCQqFP",
        "outputId": "17574346-b49a-4dfb-a8d2-711ef905adb4"
      },
      "execution_count": 6,
      "outputs": [
        {
          "output_type": "execute_result",
          "data": {
            "text/plain": [
              "[('The', 'the'),\n",
              " ('moon', 'moon'),\n",
              " ('looks', 'look'),\n",
              " ('beautiful', 'beautiful'),\n",
              " ('at', 'at'),\n",
              " ('night', 'night'),\n",
              " ('.', '.'),\n",
              " ('It', 'it'),\n",
              " (\"'s\", 'be'),\n",
              " ('hard', 'hard'),\n",
              " ('to', 'to'),\n",
              " ('resist', 'resist'),\n",
              " ('its', 'its'),\n",
              " ('beauty', 'beauty'),\n",
              " ('.', '.')]"
            ]
          },
          "metadata": {},
          "execution_count": 6
        }
      ]
    },
    {
      "cell_type": "markdown",
      "source": [
        "summary: we can again see the lemmatiztaion technique applied."
      ],
      "metadata": {
        "id": "CfoPcrbpRW4m"
      }
    },
    {
      "cell_type": "code",
      "source": [],
      "metadata": {
        "id": "_caBt-AAROUK"
      },
      "execution_count": null,
      "outputs": []
    },
    {
      "cell_type": "markdown",
      "source": [
        "# Lemmatization Exercise\n",
        "* We will use the text file called `Switzerland.txt` to lemmatize the text."
      ],
      "metadata": {
        "id": "gbFMsrXkR4NO"
      }
    },
    {
      "cell_type": "code",
      "source": [
        "# import file\n",
        "file = open('/content/drive/MyDrive/Colab Notebooks/Classical NLP/switzerland.txt', mode='r', encoding='utf-8')\n",
        "\n",
        "# read file into text variable\n",
        "text = file.read()\n",
        "\n",
        "# close file\n",
        "file.close()\n",
        "\n"
      ],
      "metadata": {
        "id": "qTp-8ASYR_KD"
      },
      "execution_count": 7,
      "outputs": []
    },
    {
      "cell_type": "code",
      "source": [
        "# print file to make sure that we have loaded\n",
        "print(text)"
      ],
      "metadata": {
        "colab": {
          "base_uri": "https://localhost:8080/"
        },
        "id": "b4wauxbHSmYG",
        "outputId": "a790c37b-50fc-4ba5-cd25-5efee82c5acb"
      },
      "execution_count": 11,
      "outputs": [
        {
          "output_type": "stream",
          "name": "stdout",
          "text": [
            "Switzerland, officially the Swiss Confederation, is a country situated in the confluence of Western, Central, and Southern Europe. It is a federal republic composed of 26 cantons, with federal authorities based in Bern. Switzerland is a landlocked country bordered by Italy to the south, France to the west, Germany to the north, and Austria and Liechtenstein to the east. It is geographically divided among the Swiss Plateau, the Alps, and the Jura, spanning a total area of 41,285 km2 (15,940 sq mi), and land area of 39,997 km2 (15,443 sq mi). While the Alps occupy the greater part of the territory, the Swiss population of approximately 8.5 million is concentrated mostly on the plateau, where the largest cities and economic centres are located, among them Zürich, Geneva and Basel, where multiple international organisations are domiciled (such as FIFA, the UN's second-largest Office, and the Bank for International Settlements) and where the main international airports of Switzerland are.\n",
            "\n"
          ]
        }
      ]
    },
    {
      "cell_type": "code",
      "source": [
        "# create a spacy doc object\n",
        "doc = nlp(text)"
      ],
      "metadata": {
        "id": "xol1nbqkSrNV"
      },
      "execution_count": 12,
      "outputs": []
    },
    {
      "cell_type": "code",
      "source": [
        "# lemmatize text using list comprehension\n",
        "[(token.text, token.lemma_) for token in doc]"
      ],
      "metadata": {
        "colab": {
          "base_uri": "https://localhost:8080/"
        },
        "id": "Nuqv8tYbS1p1",
        "outputId": "bb6b6118-7dc7-42eb-e3a3-22639a09bc65"
      },
      "execution_count": 13,
      "outputs": [
        {
          "output_type": "execute_result",
          "data": {
            "text/plain": [
              "[('Switzerland', 'Switzerland'),\n",
              " (',', ','),\n",
              " ('officially', 'officially'),\n",
              " ('the', 'the'),\n",
              " ('Swiss', 'Swiss'),\n",
              " ('Confederation', 'Confederation'),\n",
              " (',', ','),\n",
              " ('is', 'be'),\n",
              " ('a', 'a'),\n",
              " ('country', 'country'),\n",
              " ('situated', 'situate'),\n",
              " ('in', 'in'),\n",
              " ('the', 'the'),\n",
              " ('confluence', 'confluence'),\n",
              " ('of', 'of'),\n",
              " ('Western', 'western'),\n",
              " (',', ','),\n",
              " ('Central', 'central'),\n",
              " (',', ','),\n",
              " ('and', 'and'),\n",
              " ('Southern', 'Southern'),\n",
              " ('Europe', 'Europe'),\n",
              " ('.', '.'),\n",
              " ('It', 'it'),\n",
              " ('is', 'be'),\n",
              " ('a', 'a'),\n",
              " ('federal', 'federal'),\n",
              " ('republic', 'republic'),\n",
              " ('composed', 'compose'),\n",
              " ('of', 'of'),\n",
              " ('26', '26'),\n",
              " ('cantons', 'canton'),\n",
              " (',', ','),\n",
              " ('with', 'with'),\n",
              " ('federal', 'federal'),\n",
              " ('authorities', 'authority'),\n",
              " ('based', 'base'),\n",
              " ('in', 'in'),\n",
              " ('Bern', 'Bern'),\n",
              " ('.', '.'),\n",
              " ('Switzerland', 'Switzerland'),\n",
              " ('is', 'be'),\n",
              " ('a', 'a'),\n",
              " ('landlocked', 'landlocked'),\n",
              " ('country', 'country'),\n",
              " ('bordered', 'border'),\n",
              " ('by', 'by'),\n",
              " ('Italy', 'Italy'),\n",
              " ('to', 'to'),\n",
              " ('the', 'the'),\n",
              " ('south', 'south'),\n",
              " (',', ','),\n",
              " ('France', 'France'),\n",
              " ('to', 'to'),\n",
              " ('the', 'the'),\n",
              " ('west', 'west'),\n",
              " (',', ','),\n",
              " ('Germany', 'Germany'),\n",
              " ('to', 'to'),\n",
              " ('the', 'the'),\n",
              " ('north', 'north'),\n",
              " (',', ','),\n",
              " ('and', 'and'),\n",
              " ('Austria', 'Austria'),\n",
              " ('and', 'and'),\n",
              " ('Liechtenstein', 'Liechtenstein'),\n",
              " ('to', 'to'),\n",
              " ('the', 'the'),\n",
              " ('east', 'east'),\n",
              " ('.', '.'),\n",
              " ('It', 'it'),\n",
              " ('is', 'be'),\n",
              " ('geographically', 'geographically'),\n",
              " ('divided', 'divide'),\n",
              " ('among', 'among'),\n",
              " ('the', 'the'),\n",
              " ('Swiss', 'Swiss'),\n",
              " ('Plateau', 'Plateau'),\n",
              " (',', ','),\n",
              " ('the', 'the'),\n",
              " ('Alps', 'Alps'),\n",
              " (',', ','),\n",
              " ('and', 'and'),\n",
              " ('the', 'the'),\n",
              " ('Jura', 'Jura'),\n",
              " (',', ','),\n",
              " ('spanning', 'span'),\n",
              " ('a', 'a'),\n",
              " ('total', 'total'),\n",
              " ('area', 'area'),\n",
              " ('of', 'of'),\n",
              " ('41,285', '41,285'),\n",
              " ('km2', 'km2'),\n",
              " ('(', '('),\n",
              " ('15,940', '15,940'),\n",
              " ('sq', 'sq'),\n",
              " ('mi', 'mi'),\n",
              " (')', ')'),\n",
              " (',', ','),\n",
              " ('and', 'and'),\n",
              " ('land', 'land'),\n",
              " ('area', 'area'),\n",
              " ('of', 'of'),\n",
              " ('39,997', '39,997'),\n",
              " ('km2', 'km2'),\n",
              " ('(', '('),\n",
              " ('15,443', '15,443'),\n",
              " ('sq', 'sq'),\n",
              " ('mi', 'mi'),\n",
              " (')', ')'),\n",
              " ('.', '.'),\n",
              " ('While', 'while'),\n",
              " ('the', 'the'),\n",
              " ('Alps', 'Alps'),\n",
              " ('occupy', 'occupy'),\n",
              " ('the', 'the'),\n",
              " ('greater', 'great'),\n",
              " ('part', 'part'),\n",
              " ('of', 'of'),\n",
              " ('the', 'the'),\n",
              " ('territory', 'territory'),\n",
              " (',', ','),\n",
              " ('the', 'the'),\n",
              " ('Swiss', 'swiss'),\n",
              " ('population', 'population'),\n",
              " ('of', 'of'),\n",
              " ('approximately', 'approximately'),\n",
              " ('8.5', '8.5'),\n",
              " ('million', 'million'),\n",
              " ('is', 'be'),\n",
              " ('concentrated', 'concentrate'),\n",
              " ('mostly', 'mostly'),\n",
              " ('on', 'on'),\n",
              " ('the', 'the'),\n",
              " ('plateau', 'plateau'),\n",
              " (',', ','),\n",
              " ('where', 'where'),\n",
              " ('the', 'the'),\n",
              " ('largest', 'large'),\n",
              " ('cities', 'city'),\n",
              " ('and', 'and'),\n",
              " ('economic', 'economic'),\n",
              " ('centres', 'centre'),\n",
              " ('are', 'be'),\n",
              " ('located', 'locate'),\n",
              " (',', ','),\n",
              " ('among', 'among'),\n",
              " ('them', 'they'),\n",
              " ('Zürich', 'Zürich'),\n",
              " (',', ','),\n",
              " ('Geneva', 'Geneva'),\n",
              " ('and', 'and'),\n",
              " ('Basel', 'Basel'),\n",
              " (',', ','),\n",
              " ('where', 'where'),\n",
              " ('multiple', 'multiple'),\n",
              " ('international', 'international'),\n",
              " ('organisations', 'organisation'),\n",
              " ('are', 'be'),\n",
              " ('domiciled', 'domicile'),\n",
              " ('(', '('),\n",
              " ('such', 'such'),\n",
              " ('as', 'as'),\n",
              " ('FIFA', 'FIFA'),\n",
              " (',', ','),\n",
              " ('the', 'the'),\n",
              " ('UN', 'UN'),\n",
              " (\"'s\", \"'s\"),\n",
              " ('second', 'second'),\n",
              " ('-', '-'),\n",
              " ('largest', 'large'),\n",
              " ('Office', 'office'),\n",
              " (',', ','),\n",
              " ('and', 'and'),\n",
              " ('the', 'the'),\n",
              " ('Bank', 'Bank'),\n",
              " ('for', 'for'),\n",
              " ('International', 'International'),\n",
              " ('Settlements', 'Settlements'),\n",
              " (')', ')'),\n",
              " ('and', 'and'),\n",
              " ('where', 'where'),\n",
              " ('the', 'the'),\n",
              " ('main', 'main'),\n",
              " ('international', 'international'),\n",
              " ('airports', 'airport'),\n",
              " ('of', 'of'),\n",
              " ('Switzerland', 'Switzerland'),\n",
              " ('are', 'be'),\n",
              " ('.', '.'),\n",
              " ('\\n', '\\n')]"
            ]
          },
          "metadata": {},
          "execution_count": 13
        }
      ]
    },
    {
      "cell_type": "markdown",
      "source": [
        "summary:\n",
        "* We can see the full lemmatization of the text file above.\n",
        "* Obviously there are other libraries for doing this such as NLTK and Gensim but this is the easiest and most simplest method."
      ],
      "metadata": {
        "id": "PIp-tzJaS-45"
      }
    },
    {
      "cell_type": "code",
      "source": [],
      "metadata": {
        "id": "mEd0Bv4VS7E1"
      },
      "execution_count": null,
      "outputs": []
    }
  ]
}