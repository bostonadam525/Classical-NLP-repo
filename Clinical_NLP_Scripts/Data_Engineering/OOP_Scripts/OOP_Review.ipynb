{
 "cells": [
  {
   "cell_type": "markdown",
   "metadata": {},
   "source": [
    "# OOP Review in Python\n",
    "* Notebook by Adam Lang\n",
    "* Date: 12/18/2024\n",
    "\n",
    "# Overview\n",
    "* Review of OOP in Python."
   ]
  },
  {
   "cell_type": "markdown",
   "metadata": {},
   "source": [
    "# Classes and Objects\n",
    "* OOP uses \"objects\" to design applications and computer programs. "
   ]
  },
  {
   "cell_type": "code",
   "execution_count": 1,
   "metadata": {},
   "outputs": [
    {
     "name": "stdout",
     "output_type": "stream",
     "text": [
      "<class '__main__.Car'>\n",
      "<class '__main__.Car'>\n"
     ]
    }
   ],
   "source": [
    "### A class is a blue print for creating objects, attributes, methods. \n",
    "class Car: \n",
    "    pass \n",
    "\n",
    "audi = Car()\n",
    "bmw = Car()\n",
    "\n",
    "\n",
    "print(type(audi))\n",
    "print(type(bmw))"
   ]
  },
  {
   "cell_type": "code",
   "execution_count": 2,
   "metadata": {},
   "outputs": [
    {
     "name": "stdout",
     "output_type": "stream",
     "text": [
      "<__main__.Car object at 0x109318e60>\n",
      "<__main__.Car object at 0x109318e90>\n"
     ]
    }
   ],
   "source": [
    "## print each instance\n",
    "print(audi)\n",
    "print(bmw)"
   ]
  },
  {
   "cell_type": "code",
   "execution_count": 3,
   "metadata": {},
   "outputs": [
    {
     "name": "stdout",
     "output_type": "stream",
     "text": [
      "4\n"
     ]
    }
   ],
   "source": [
    "audi.windows=4 \n",
    "print(audi.windows)"
   ]
  },
  {
   "cell_type": "code",
   "execution_count": 4,
   "metadata": {},
   "outputs": [
    {
     "ename": "AttributeError",
     "evalue": "'Car' object has no attribute 'windows'",
     "output_type": "error",
     "traceback": [
      "\u001b[0;31m---------------------------------------------------------------------------\u001b[0m",
      "\u001b[0;31mAttributeError\u001b[0m                            Traceback (most recent call last)",
      "Cell \u001b[0;32mIn[4], line 3\u001b[0m\n\u001b[1;32m      1\u001b[0m tata\u001b[38;5;241m=\u001b[39mCar()\n\u001b[1;32m      2\u001b[0m tata\u001b[38;5;241m.\u001b[39mdoors\u001b[38;5;241m=\u001b[39m\u001b[38;5;241m4\u001b[39m\n\u001b[0;32m----> 3\u001b[0m \u001b[38;5;28mprint\u001b[39m(tata\u001b[38;5;241m.\u001b[39mwindows)\n",
      "\u001b[0;31mAttributeError\u001b[0m: 'Car' object has no attribute 'windows'"
     ]
    }
   ],
   "source": [
    "tata=Car()\n",
    "tata.doors=4\n",
    "print(tata.windows)"
   ]
  },
  {
   "cell_type": "code",
   "execution_count": 5,
   "metadata": {},
   "outputs": [
    {
     "data": {
      "text/plain": [
       "['__class__',\n",
       " '__delattr__',\n",
       " '__dict__',\n",
       " '__dir__',\n",
       " '__doc__',\n",
       " '__eq__',\n",
       " '__format__',\n",
       " '__ge__',\n",
       " '__getattribute__',\n",
       " '__getstate__',\n",
       " '__gt__',\n",
       " '__hash__',\n",
       " '__init__',\n",
       " '__init_subclass__',\n",
       " '__le__',\n",
       " '__lt__',\n",
       " '__module__',\n",
       " '__ne__',\n",
       " '__new__',\n",
       " '__reduce__',\n",
       " '__reduce_ex__',\n",
       " '__repr__',\n",
       " '__setattr__',\n",
       " '__sizeof__',\n",
       " '__str__',\n",
       " '__subclasshook__',\n",
       " '__weakref__',\n",
       " 'doors']"
      ]
     },
     "execution_count": 5,
     "metadata": {},
     "output_type": "execute_result"
    }
   ],
   "source": [
    "## all built-in methods in a class via `dir()`\n",
    "dir(tata)"
   ]
  },
  {
   "cell_type": "code",
   "execution_count": 8,
   "metadata": {},
   "outputs": [
    {
     "name": "stdout",
     "output_type": "stream",
     "text": [
      "<__main__.Dog object at 0x109582840>\n",
      "Buddy\n",
      "10\n"
     ]
    }
   ],
   "source": [
    "### Instance variable and methods\n",
    "class Dog: \n",
    "    ## constructor method\n",
    "    def __init__(self, name, age):\n",
    "        # instance variable\n",
    "        self.name = name \n",
    "        self.age = age \n",
    "\n",
    "## create objects \n",
    "dog1=Dog(\"Buddy\",10)\n",
    "print(dog1)\n",
    "print(dog1.name)\n",
    "print(dog1.age)"
   ]
  },
  {
   "cell_type": "code",
   "execution_count": 10,
   "metadata": {},
   "outputs": [
    {
     "name": "stdout",
     "output_type": "stream",
     "text": [
      "Lucy\n",
      "2\n"
     ]
    }
   ],
   "source": [
    "## another instance\n",
    "dog2 = Dog(\"Lucy\",2)\n",
    "print(dog2.name)\n",
    "print(dog2.age)"
   ]
  },
  {
   "cell_type": "code",
   "execution_count": 15,
   "metadata": {},
   "outputs": [
    {
     "name": "stdout",
     "output_type": "stream",
     "text": [
      "Buddy says woof!\n",
      "Lucy says woof!\n"
     ]
    }
   ],
   "source": [
    "## class with instance methods \n",
    "class Dog: \n",
    "    def __init__(self,name,age):\n",
    "        self.name=name \n",
    "        self.age=age \n",
    "\n",
    "    # instance method\n",
    "    def bark(self):\n",
    "        print(f\"{self.name} says woof!\")\n",
    "\n",
    "\n",
    "\n",
    "## create instance of class\n",
    "dog1=Dog(\"Buddy\", 3)\n",
    "dog2=Dog(\"Lucy\",2)\n",
    "\n",
    "## access the method of the class\n",
    "dog1.bark()\n",
    "dog2.bark()"
   ]
  },
  {
   "cell_type": "code",
   "execution_count": 16,
   "metadata": {},
   "outputs": [
    {
     "name": "stdout",
     "output_type": "stream",
     "text": [
      "5000\n"
     ]
    }
   ],
   "source": [
    "### Modeling a Bank Account \n",
    "\n",
    "## define a class for bank account\n",
    "class BankAccount:\n",
    "    def __init__(self, owner, balance=0):\n",
    "        self.owner = owner \n",
    "        self.balance = balance \n",
    "\n",
    "\n",
    "    def deposit(self, amount):\n",
    "        self.balance+=amount \n",
    "        print(f\"{amount} is deposited. New balance is {self.balance}\")\n",
    "\n",
    "\n",
    "    def withdraw(self, amount):\n",
    "        if amount>self.balance:\n",
    "            print(\"Insufficent funds!\")\n",
    "\n",
    "        else: \n",
    "            self.balance-=amount\n",
    "            print(f\"{amount} is withdrawn. New Balance is {self.balance}\")\n",
    "\n",
    "\n",
    "\n",
    "    def get_balance(self):\n",
    "        return self.balance \n",
    "    \n",
    "\n",
    "### create an account\n",
    "account=BankAccount(\"Tom\", 5000)\n",
    "print(account.balance)"
   ]
  },
  {
   "cell_type": "code",
   "execution_count": 17,
   "metadata": {},
   "outputs": [
    {
     "name": "stdout",
     "output_type": "stream",
     "text": [
      "100 is deposited. New balance is 5100\n"
     ]
    }
   ],
   "source": [
    "## call instance methods\n",
    "account.deposit(100)"
   ]
  },
  {
   "cell_type": "code",
   "execution_count": 18,
   "metadata": {},
   "outputs": [
    {
     "name": "stdout",
     "output_type": "stream",
     "text": [
      "300 is withdrawn. New Balance is 4800\n"
     ]
    }
   ],
   "source": [
    "## withdraw money\n",
    "account.withdraw(300)"
   ]
  },
  {
   "cell_type": "code",
   "execution_count": 19,
   "metadata": {},
   "outputs": [
    {
     "name": "stdout",
     "output_type": "stream",
     "text": [
      "4800\n"
     ]
    }
   ],
   "source": [
    "## get balance\n",
    "print(account.get_balance())"
   ]
  },
  {
   "cell_type": "markdown",
   "metadata": {},
   "source": [
    "# Class Inheritance\n",
    "* Class inherits attributes and methods from another class."
   ]
  },
  {
   "cell_type": "code",
   "execution_count": 20,
   "metadata": {},
   "outputs": [],
   "source": [
    "### Single inheritance\n",
    "## parent class \n",
    "class Car: \n",
    "    def __init__(self, windows, doors, enginetype):\n",
    "        self.windows=windows \n",
    "        self.doors=doors \n",
    "        self.enginetype=enginetype\n",
    "\n",
    "\n",
    "    def drive(self):\n",
    "        print(f\"The person will drive the {self.enginetype} car.\")"
   ]
  },
  {
   "cell_type": "code",
   "execution_count": 23,
   "metadata": {},
   "outputs": [
    {
     "name": "stdout",
     "output_type": "stream",
     "text": [
      "The person will drive the petrol car.\n"
     ]
    }
   ],
   "source": [
    "## create a new instance of class Car\n",
    "car1=Car(4,4,\"petrol\")\n",
    "car1.drive()"
   ]
  },
  {
   "cell_type": "code",
   "execution_count": 24,
   "metadata": {},
   "outputs": [],
   "source": [
    "## new class Tesla inherits from car\n",
    "class Tesla(Car):\n",
    "    def __init__(self, windows, doors, enginetype,is_selfdriving):\n",
    "        super().__init__(windows, doors, enginetype) #call parent classes constructor __init__()\n",
    "        self.is_selfdriving=is_selfdriving\n",
    "\n",
    "    def selfdriving(self):\n",
    "        print(f\"Tesla supports self driving: {self.is_selfdriving}\")"
   ]
  },
  {
   "cell_type": "code",
   "execution_count": 25,
   "metadata": {},
   "outputs": [
    {
     "name": "stdout",
     "output_type": "stream",
     "text": [
      "Tesla supports self driving: True\n"
     ]
    }
   ],
   "source": [
    "## create class instances\n",
    "tesla1=Tesla(4,5,\"electric\",True)\n",
    "tesla1.selfdriving()"
   ]
  },
  {
   "cell_type": "code",
   "execution_count": 26,
   "metadata": {},
   "outputs": [
    {
     "name": "stdout",
     "output_type": "stream",
     "text": [
      "The person will drive the electric car.\n"
     ]
    }
   ],
   "source": [
    "## call drive\n",
    "tesla1.drive()"
   ]
  },
  {
   "cell_type": "markdown",
   "metadata": {},
   "source": [
    "## Multiple Inheritance\n",
    "* When a class inherits from more than 1 base class."
   ]
  },
  {
   "cell_type": "code",
   "execution_count": 38,
   "metadata": {},
   "outputs": [],
   "source": [
    "## Base Class 1\n",
    "class Animal: \n",
    "    def __init__(self, name):\n",
    "        self.name=name \n",
    "\n",
    "    def speak(self): \n",
    "        print(\"Subclass must implement this method.\")\n",
    "\n",
    "\n",
    "## Base Class 2\n",
    "class Pet:\n",
    "    def __init__(self, owner):\n",
    "        self.owner=owner \n",
    "\n",
    "\n",
    "\n",
    "### Derived class \n",
    "class Dog(Animal, Pet): \n",
    "    def __init__(self,name,owner):\n",
    "        Animal.__init__(self,name) ## instead of using Super()\n",
    "        Pet.__init__(self,owner) ## instead of using Super()\n",
    "        \n",
    "\n",
    "    def speak(self):\n",
    "        return f\"{self.name} say woof!\"\n",
    "    \n",
    "    def bio(self):\n",
    "        return f\"{self.name} is owned by {self.owner} \""
   ]
  },
  {
   "cell_type": "code",
   "execution_count": 39,
   "metadata": {},
   "outputs": [
    {
     "name": "stdout",
     "output_type": "stream",
     "text": [
      "Buddy say woof!\n",
      "Owner:Tom\n"
     ]
    }
   ],
   "source": [
    "## create object\n",
    "dog=Dog(\"Buddy\",\"Tom\")\n",
    "print(dog.speak())\n",
    "print(f\"Owner:{dog.owner}\")"
   ]
  },
  {
   "cell_type": "code",
   "execution_count": 40,
   "metadata": {},
   "outputs": [
    {
     "name": "stdout",
     "output_type": "stream",
     "text": [
      "Lucy is owned by Bubba \n"
     ]
    }
   ],
   "source": [
    "## create object \n",
    "dog2=Dog(\"Lucy\",\"Bubba\")\n",
    "print(dog2.bio())"
   ]
  },
  {
   "cell_type": "markdown",
   "metadata": {},
   "source": [
    "# Polymorphism (aka \"multiple forms\")\n",
    "* This is a concept in OOP that allows objects of different classes to be treated as objects of a common superclass. \n",
    "* It provides a way to perform a single action in different/multiple forms. \n",
    "* Polymorphism is typically achieved through a method of overriding and interfaces."
   ]
  },
  {
   "cell_type": "markdown",
   "metadata": {},
   "source": [
    "### Method Overriding \n",
    "* Allows a child class to provide a specific implementation of a method that is already defined in its parents class."
   ]
  },
  {
   "cell_type": "code",
   "execution_count": 47,
   "metadata": {},
   "outputs": [
    {
     "name": "stdout",
     "output_type": "stream",
     "text": [
      "Woof!\n",
      "I eat cats\n",
      "Meow!\n",
      "I eat dogs\n",
      "Woof!\n",
      "I eat cats\n"
     ]
    }
   ],
   "source": [
    "## Base Class creation\n",
    "class Animal:\n",
    "    def speak(self):\n",
    "        return \"Sound of the animal\"\n",
    "    \n",
    "    def eat(self):\n",
    "        return \"I eat meat\"\n",
    "    \n",
    "## Derived Class 1\n",
    "class Dog(Animal):\n",
    "    ## child class has its own implementation of parent\n",
    "    def speak(self):\n",
    "        return \"Woof!\"\n",
    "    \n",
    "    def eat(self):\n",
    "        return \"I eat cats\"\n",
    "    \n",
    "## Derived Class 2\n",
    "class Cat(Animal):\n",
    "    ## child class has its own implementation of parent\n",
    "    def speak(self):\n",
    "        return \"Meow!\"\n",
    "    \n",
    "    def eat(self):\n",
    "        return \"I eat dogs\"\n",
    "    \n",
    "\n",
    "## Function that demonstrate polymorphism\n",
    "def animal_speak(animal):\n",
    "    print(animal.speak())\n",
    "\n",
    "def animal_eat(animal):\n",
    "    print(animal.eat())\n",
    "\n",
    "    \n",
    "## create instance of Dog \n",
    "dog=Dog()\n",
    "cat=Cat()\n",
    "print(dog.speak()) ## these will override the parent class\n",
    "print(dog.eat())\n",
    "print(cat.speak())\n",
    "print(cat.eat())\n",
    "animal_speak(dog) ## using the dog's speak method\n",
    "animal_eat(dog)"
   ]
  },
  {
   "cell_type": "code",
   "execution_count": 49,
   "metadata": {},
   "outputs": [
    {
     "name": "stdout",
     "output_type": "stream",
     "text": [
      "The area is 20\n",
      "The area is 28.259999999999998\n"
     ]
    }
   ],
   "source": [
    "### Polymorphism with functions and methods\n",
    "## base class \n",
    "class Shape:\n",
    "    def area(self):\n",
    "        return \"The area of the figure\" \n",
    "    \n",
    "\n",
    "\n",
    "## Derived class 1 \n",
    "class Rectangle(Shape):\n",
    "    def __init__(self, width, height): \n",
    "        self.width=width\n",
    "        self.height=height \n",
    "\n",
    "    ## overrides area in parent Shape class\n",
    "    def area(self):\n",
    "        return self.width * self.height\n",
    "    \n",
    "## Derived class 2\n",
    "class Circle(Shape):\n",
    "    def __init__(self, radius):\n",
    "        self.radius=radius \n",
    "\n",
    "    def area(self):\n",
    "        return 3.14*self.radius * self.radius\n",
    "    \n",
    "## Function that demonstrates polymorphism\n",
    "\n",
    "def print_area(shape):\n",
    "    print(f\"The area is {shape.area()}\")\n",
    "\n",
    "\n",
    "## create objects of class\n",
    "rectangle=Rectangle(4,5)\n",
    "circle=Circle(3)\n",
    "\n",
    "\n",
    "print_area(rectangle)\n",
    "print_area(circle)"
   ]
  },
  {
   "cell_type": "markdown",
   "metadata": {},
   "source": [
    "### Polymorphism with Abstract Base Classes\n",
    "* Abstract Base Classes (ABCs) are used to define common methods for a group of related objects.\n",
    "* They can enforce that derived classes implement particular methods, promotng consistency across different implementations."
   ]
  },
  {
   "cell_type": "code",
   "execution_count": 51,
   "metadata": {},
   "outputs": [
    {
     "name": "stdout",
     "output_type": "stream",
     "text": [
      "Car engine started.\n"
     ]
    }
   ],
   "source": [
    "## Polymorphism with Abstract Base Classes\n",
    "from abc import ABC, abstractmethod #decorator \n",
    "\n",
    "## Define abstract class \n",
    "class Vehicle(ABC):\n",
    "    @abstractmethod \n",
    "    def start_engine(self):\n",
    "        pass \n",
    "\n",
    "## Derived class 1\n",
    "class Car(Vehicle):\n",
    "    def start_engine(self):\n",
    "        return \"Car engine started.\"\n",
    "    \n",
    "\n",
    "## Derived class 2 \n",
    "class Motorcycle(Vehicle):\n",
    "    def start_engine(self):\n",
    "        return \"Motorcycle engine started!\"\n",
    "\n",
    "\n",
    "## function to define polymorphism \n",
    "def start_vehicle(vehicle):\n",
    "    print(vehicle.start_engine())\n",
    "\n",
    "### create objects of Car and Motorcycle\n",
    "car=Car()\n",
    "motorcycle=Motorcycle()\n",
    "\n",
    "\n",
    "\n",
    "start_vehicle(car)"
   ]
  },
  {
   "cell_type": "markdown",
   "metadata": {},
   "source": [
    "# Encapsulation and Abstraction\n",
    "* These help in designing robust, maintainable, and reusable code. \n",
    "* Encapsulation involves bundling data and methods that operate within a single unit.\n",
    "* Abstraction involves hiding complex implementation details and exposing only the necessary features. \n",
    "\n",
    "## Encapsulation\n",
    "* The concept of wrapping data (variables) and methods (functions) together as a single unit.\n",
    "* It restricts direct access to some of the object's components which is a means of preventing accidental interference and misuse of the data."
   ]
  },
  {
   "cell_type": "code",
   "execution_count": 69,
   "metadata": {},
   "outputs": [
    {
     "data": {
      "text/plain": [
       "'Tom'"
      ]
     },
     "execution_count": 69,
     "metadata": {},
     "output_type": "execute_result"
    }
   ],
   "source": [
    "### Encapsulation with Getter and Setter Methods\n",
    "### Public, protected, private variables or access modifiers\n",
    "\n",
    "class Person:\n",
    "    def __init__(self, name, age):\n",
    "        self.name=name  ## public variables \n",
    "        self.age=age   ## public variable \n",
    "\n",
    "def get_name(person):\n",
    "    return person.name\n",
    "\n",
    "\n",
    "person=Person(\"Tom\", 34)\n",
    "#print(person.name)\n",
    "get_name(person)"
   ]
  },
  {
   "cell_type": "code",
   "execution_count": 56,
   "metadata": {},
   "outputs": [
    {
     "data": {
      "text/plain": [
       "['__class__',\n",
       " '__delattr__',\n",
       " '__dict__',\n",
       " '__dir__',\n",
       " '__doc__',\n",
       " '__eq__',\n",
       " '__format__',\n",
       " '__ge__',\n",
       " '__getattribute__',\n",
       " '__getstate__',\n",
       " '__gt__',\n",
       " '__hash__',\n",
       " '__init__',\n",
       " '__init_subclass__',\n",
       " '__le__',\n",
       " '__lt__',\n",
       " '__module__',\n",
       " '__ne__',\n",
       " '__new__',\n",
       " '__reduce__',\n",
       " '__reduce_ex__',\n",
       " '__repr__',\n",
       " '__setattr__',\n",
       " '__sizeof__',\n",
       " '__str__',\n",
       " '__subclasshook__',\n",
       " '__weakref__',\n",
       " 'age',\n",
       " 'name']"
      ]
     },
     "execution_count": 56,
     "metadata": {},
     "output_type": "execute_result"
    }
   ],
   "source": [
    "dir(person)"
   ]
  },
  {
   "cell_type": "code",
   "execution_count": 70,
   "metadata": {},
   "outputs": [
    {
     "ename": "AttributeError",
     "evalue": "'Person' object has no attribute '__name'",
     "output_type": "error",
     "traceback": [
      "\u001b[0;31m---------------------------------------------------------------------------\u001b[0m",
      "\u001b[0;31mAttributeError\u001b[0m                            Traceback (most recent call last)",
      "Cell \u001b[0;32mIn[70], line 13\u001b[0m\n\u001b[1;32m     11\u001b[0m \u001b[38;5;66;03m## create object\u001b[39;00m\n\u001b[1;32m     12\u001b[0m person\u001b[38;5;241m=\u001b[39mPerson(\u001b[38;5;124m\"\u001b[39m\u001b[38;5;124mTom\u001b[39m\u001b[38;5;124m\"\u001b[39m,\u001b[38;5;241m44\u001b[39m,\u001b[38;5;124m\"\u001b[39m\u001b[38;5;124mmale\u001b[39m\u001b[38;5;124m\"\u001b[39m)\n\u001b[0;32m---> 13\u001b[0m get_name(person)\n",
      "Cell \u001b[0;32mIn[70], line 8\u001b[0m, in \u001b[0;36mget_name\u001b[0;34m(person)\u001b[0m\n\u001b[1;32m      7\u001b[0m \u001b[38;5;28;01mdef\u001b[39;00m \u001b[38;5;21mget_name\u001b[39m(person):\n\u001b[0;32m----> 8\u001b[0m     \u001b[38;5;28;01mreturn\u001b[39;00m person\u001b[38;5;241m.\u001b[39m__name\n",
      "\u001b[0;31mAttributeError\u001b[0m: 'Person' object has no attribute '__name'"
     ]
    }
   ],
   "source": [
    "class Person:\n",
    "    def __init__(self, name, age, gender):\n",
    "        self.__name=name  ## private variables can't be accessed from outside class\n",
    "        self.__age=age   ## private variable can't be accessed from outside class\n",
    "        self.gender=gender ##public variable\n",
    "\n",
    "def get_name(person):\n",
    "    return person.__name\n",
    "\n",
    "\n",
    "## create object\n",
    "person=Person(\"Tom\",44,\"male\")\n",
    "get_name(person) ## can't access this!"
   ]
  },
  {
   "cell_type": "code",
   "execution_count": 71,
   "metadata": {},
   "outputs": [
    {
     "data": {
      "text/plain": [
       "['_Person__age',\n",
       " '_Person__name',\n",
       " '__class__',\n",
       " '__delattr__',\n",
       " '__dict__',\n",
       " '__dir__',\n",
       " '__doc__',\n",
       " '__eq__',\n",
       " '__format__',\n",
       " '__ge__',\n",
       " '__getattribute__',\n",
       " '__getstate__',\n",
       " '__gt__',\n",
       " '__hash__',\n",
       " '__init__',\n",
       " '__init_subclass__',\n",
       " '__le__',\n",
       " '__lt__',\n",
       " '__module__',\n",
       " '__ne__',\n",
       " '__new__',\n",
       " '__reduce__',\n",
       " '__reduce_ex__',\n",
       " '__repr__',\n",
       " '__setattr__',\n",
       " '__sizeof__',\n",
       " '__str__',\n",
       " '__subclasshook__',\n",
       " '__weakref__',\n",
       " 'gender']"
      ]
     },
     "execution_count": 71,
     "metadata": {},
     "output_type": "execute_result"
    }
   ],
   "source": [
    "## create object\n",
    "person=Person(\"Tom\",44,\"male\")\n",
    "dir(person)"
   ]
  },
  {
   "cell_type": "markdown",
   "metadata": {},
   "source": [
    "We can't see the private variables! --> they are at the top, the public are at bottom."
   ]
  },
  {
   "cell_type": "code",
   "execution_count": 72,
   "metadata": {},
   "outputs": [
    {
     "name": "stdout",
     "output_type": "stream",
     "text": [
      "Tom\n"
     ]
    }
   ],
   "source": [
    "class Person:\n",
    "    def __init__(self, name, age, gender):\n",
    "        self._name=name  ## protected variable --> single _ --> can't use outside the class but can from derived class\n",
    "        self._age=age   ## protected variable --> single _\n",
    "        self.gender=gender ##public variable\n",
    "\n",
    "\n",
    "## derived class\n",
    "class Employee(Person):\n",
    "    def __init__(self, name, age, gender):\n",
    "        super().__init__(name,age,gender)\n",
    "\n",
    "\n",
    "\n",
    "## define employee\n",
    "employee=Employee(\"Tom\", 44, \"Male\")\n",
    "print(employee._name)"
   ]
  },
  {
   "cell_type": "code",
   "execution_count": 73,
   "metadata": {},
   "outputs": [
    {
     "name": "stdout",
     "output_type": "stream",
     "text": [
      "Tom\n",
      "44\n",
      "44\n",
      "Age cannot be negative.\n"
     ]
    }
   ],
   "source": [
    "## encapsulation with Getter and Setter method\n",
    "class Person:\n",
    "    def __init__(self,name,age):\n",
    "        self.__name=name ## private access modifier or variable\n",
    "        self.__age=age   ## private variable \n",
    "\n",
    "    ## getter method for name \n",
    "    def get_name(self):\n",
    "        return self.__name\n",
    "    \n",
    "    ## setter method for name \n",
    "    def set_name(self, name):\n",
    "        self.__name=name \n",
    "\n",
    "    ## getter method for age\n",
    "    def get_age(self):\n",
    "        return self.__age \n",
    "    \n",
    "    ## setter method for age -- with conditions\n",
    "    def set_age(self, age):\n",
    "        if age > 0:\n",
    "            self.__age = age \n",
    "        else: \n",
    "            print(\"Age cannot be negative.\")\n",
    "\n",
    "\n",
    "\n",
    "## create object \n",
    "person=Person(\"Tom\", 44)\n",
    "\n",
    "## Access and modify private variables using getter and setter \n",
    "\n",
    "print(person.get_name())\n",
    "print(person.get_age())\n",
    "\n",
    "\n",
    "person.set_age(44)\n",
    "print(person.get_age())\n",
    "\n",
    "person.set_age(-5)\n",
    "    "
   ]
  },
  {
   "cell_type": "markdown",
   "metadata": {},
   "source": [
    "# Abstraction\n",
    "* This is the concept of hiding the complex implementation details and showing ONLY the necessary features of an object. \n",
    "* This helps in reducing programming complexity and effort."
   ]
  },
  {
   "cell_type": "code",
   "execution_count": 75,
   "metadata": {},
   "outputs": [
    {
     "name": "stdout",
     "output_type": "stream",
     "text": [
      "Car engine started!\n",
      "The vehicle is used for driving.\n"
     ]
    }
   ],
   "source": [
    "from abc import ABC, abstractmethod\n",
    "\n",
    "## Abstract base class --\n",
    "class Vehicle(ABC):\n",
    "    def drive(self):\n",
    "        print(\"The vehicle is used for driving.\")\n",
    "\n",
    "    @abstractmethod ## 1 functionality is available here\n",
    "    def start_engine(self):\n",
    "        pass \n",
    "\n",
    "## child class inherits parent class Vehicle\n",
    "## to use this method we need to create our own definition\n",
    "class Car(Vehicle):\n",
    "    def start_engine(self):\n",
    "        print(\"Car engine started!\")\n",
    "\n",
    "\n",
    "## function to demonstrate abstraction \n",
    "def operate_vehicle(vehicle):\n",
    "    vehicle.start_engine()\n",
    "    vehicle.drive()\n",
    "\n",
    "\n",
    "## create instance of class Car\n",
    "car=Car()\n",
    "operate_vehicle(car)"
   ]
  },
  {
   "cell_type": "markdown",
   "metadata": {},
   "source": [
    "# Magic Methods\n",
    "* Also known as \"dunder\" methods or \"double underscore methods\".\n",
    "* These are special methods that start and end with double underscores. \n",
    "* These methods enable you to define the behavior of objects for built-in operations such as arithmetic, comparisons and more. \n",
    "\n",
    "## What they are\n",
    "* These are predefined methods that you can OVERRIDE to change the behavior of objects. \n",
    "* Some examples are:\n",
    "    * `__init__`: initializes a new instance of a class (constructor).\n",
    "    * `__str__`: returns a string representation of an object. \n",
    "    * `__repr__`: returns an official string representation of an object.\n",
    "    * `__len__`: returns the length of an object.\n",
    "    * `__getitem__`: gets an item from a container.\n",
    "    * `__setitem__`: sets an item in a container. "
   ]
  },
  {
   "cell_type": "code",
   "execution_count": 76,
   "metadata": {},
   "outputs": [
    {
     "data": {
      "text/plain": [
       "['__class__',\n",
       " '__delattr__',\n",
       " '__dict__',\n",
       " '__dir__',\n",
       " '__doc__',\n",
       " '__eq__',\n",
       " '__format__',\n",
       " '__ge__',\n",
       " '__getattribute__',\n",
       " '__getstate__',\n",
       " '__gt__',\n",
       " '__hash__',\n",
       " '__init__',\n",
       " '__init_subclass__',\n",
       " '__le__',\n",
       " '__lt__',\n",
       " '__module__',\n",
       " '__ne__',\n",
       " '__new__',\n",
       " '__reduce__',\n",
       " '__reduce_ex__',\n",
       " '__repr__',\n",
       " '__setattr__',\n",
       " '__sizeof__',\n",
       " '__str__',\n",
       " '__subclasshook__',\n",
       " '__weakref__']"
      ]
     },
     "execution_count": 76,
     "metadata": {},
     "output_type": "execute_result"
    }
   ],
   "source": [
    "## create class\n",
    "class Person:\n",
    "    pass \n",
    "\n",
    "\n",
    "## create object \n",
    "person=Person()\n",
    "dir(person)"
   ]
  },
  {
   "cell_type": "markdown",
   "metadata": {},
   "source": [
    "These are all magic methods above."
   ]
  },
  {
   "cell_type": "code",
   "execution_count": 77,
   "metadata": {},
   "outputs": [
    {
     "name": "stdout",
     "output_type": "stream",
     "text": [
      "<__main__.Person object at 0x10a5a2810>\n"
     ]
    }
   ],
   "source": [
    "print(person)"
   ]
  },
  {
   "cell_type": "markdown",
   "metadata": {},
   "source": [
    "This above is the `__str__` object"
   ]
  },
  {
   "cell_type": "code",
   "execution_count": 78,
   "metadata": {},
   "outputs": [
    {
     "name": "stdout",
     "output_type": "stream",
     "text": [
      "<__main__.Person object at 0x1095898e0>\n"
     ]
    }
   ],
   "source": [
    "## basic methods\n",
    "class Person:\n",
    "    def __init__(self,name,age):\n",
    "        self.name=name \n",
    "        self.age=age \n",
    "\n",
    "\n",
    "## object defined\n",
    "person=Person(\"Tom\",44)\n",
    "print(person)\n"
   ]
  },
  {
   "cell_type": "markdown",
   "metadata": {},
   "source": [
    "Let's say now we want to overried the Person object above."
   ]
  },
  {
   "cell_type": "code",
   "execution_count": 81,
   "metadata": {},
   "outputs": [
    {
     "name": "stdout",
     "output_type": "stream",
     "text": [
      "Tom, 44 years old.\n",
      "<__main__.Person object at 0x10958b3e0>\n"
     ]
    }
   ],
   "source": [
    "## basic methods\n",
    "class Person:\n",
    "    def __init__(self,name,age):\n",
    "        self.name=name \n",
    "        self.age=age \n",
    "\n",
    "    ## changes string functionality\n",
    "    def __str__(self):\n",
    "        return f\"{self.name}, {self.age} years old.\"\n",
    "    \n",
    "\n",
    "    ## repr --> official string representation of an object\n",
    "    def __repr(self):\n",
    "        return f\"Person(name={self.name}, age={self.age})\"\n",
    "\n",
    "## object defined\n",
    "person=Person(\"Tom\",44)\n",
    "print(person)\n",
    "print(repr(person))\n"
   ]
  },
  {
   "cell_type": "markdown",
   "metadata": {},
   "source": [
    "# Operator Overloading\n",
    "* This allows you to define the behavior of operators (+, -, *, etc.) for custom objects. \n",
    "* You are able to do this by overriding specific magic methods in your class. "
   ]
  },
  {
   "cell_type": "markdown",
   "metadata": {},
   "source": [
    "#### common operator overloading magic methods\n",
    "* `__add__(self, other)`: Adds two objects using the + operator \n",
    "* `__sub__(self, other)`: Subtracts two objects using the - operator. \n",
    "* `__mul__(self, other)`: Multiplies two objects using the * operator. \n",
    "* `__truediv__(self, other)`: Divides two objects using the / operator. \n",
    "* `__eq__(self, other)`: Checks if two objects are equal using the == operator. \n",
    "* `__lt__(self, other)`: Checks if one object is less than another using the < operator. \n",
    "* `__gt__(self, other)`: Checks if one object is greater than another using the > operator. "
   ]
  },
  {
   "cell_type": "code",
   "execution_count": 86,
   "metadata": {},
   "outputs": [
    {
     "name": "stdout",
     "output_type": "stream",
     "text": [
      "Vector(6, 8)\n",
      "Vector(-2, -2)\n",
      "Vector(6, 9)\n"
     ]
    }
   ],
   "source": [
    "## Mathematical operation for vectors\n",
    "class Vector:\n",
    "    def __init__(self, x, y):\n",
    "        self.x=x \n",
    "        self.y=y \n",
    "\n",
    "    ## all methods below are overriding everything\n",
    "    \n",
    "    def __add__(self, other):\n",
    "        return Vector(self.x + other.x, self.y + other.y) # other is just another vector\n",
    "    \n",
    "    def __sub__(self, other):\n",
    "        return Vector(self.x - other.x, self.y - other.y) #other is another vector \n",
    "    \n",
    "    def __mul__(self, other):\n",
    "        return Vector(self.x * other, self.y * other) # other is another vector \n",
    "    \n",
    "    def __eq__(self, other):\n",
    "        return self.x == other.x and self.y == other.y \n",
    "    \n",
    "    ## represent entire string\n",
    "    def __repr__(self):\n",
    "        return f\"Vector({self.x}, {self.y})\"\n",
    "    \n",
    "## create objects of the Vector class \n",
    "v1=Vector(2,3)  ## coordinates x,y\n",
    "v2=Vector(4,5)  ## coordinates x,y\n",
    "\n",
    "print(v1+v2)\n",
    "print(v1-v2)\n",
    "print(v1*3)"
   ]
  },
  {
   "cell_type": "markdown",
   "metadata": {},
   "source": [
    "### Summary\n",
    "* We were able to override operators with the above Class."
   ]
  },
  {
   "cell_type": "code",
   "execution_count": 87,
   "metadata": {},
   "outputs": [
    {
     "name": "stdout",
     "output_type": "stream",
     "text": [
      "6 + 8i\n",
      "-2 + -2i\n",
      "-7 + 22i\n",
      "0.5609756097560976 + 0.04878048780487805i\n",
      "False\n"
     ]
    }
   ],
   "source": [
    "## class that can override complex numbers\n",
    "class ComplexNumber:\n",
    "    def __init__(self, real, imag):\n",
    "        self.real = real\n",
    "        self.imag = imag\n",
    "\n",
    "    def __add__(self, other):\n",
    "        return ComplexNumber(self.real + other.real, self.imag + other.imag)\n",
    "\n",
    "    def __sub__(self, other):\n",
    "        return ComplexNumber(self.real - other.real, self.imag - other.imag)\n",
    "\n",
    "    def __mul__(self, other):\n",
    "        real = self.real * other.real - self.imag * other.imag\n",
    "        imag = self.real * other.imag + self.imag * other.real\n",
    "        return ComplexNumber(real, imag)\n",
    "\n",
    "    def __truediv__(self, other):\n",
    "        denom = other.real ** 2 + other.imag ** 2\n",
    "        real = (self.real * other.real + self.imag * other.imag) / denom\n",
    "        imag = (self.imag * other.real - self.real * other.imag) / denom\n",
    "        return ComplexNumber(real, imag)\n",
    "\n",
    "    def __eq__(self, other):\n",
    "        return self.real == other.real and self.imag == other.imag\n",
    "\n",
    "    def __repr__(self):\n",
    "        return f\"ComplexNumber({self.real}, {self.imag})\"\n",
    "\n",
    "    def __str__(self):\n",
    "        return f\"{self.real} + {self.imag}i\"\n",
    "\n",
    "# Example usage\n",
    "c1 = ComplexNumber(2, 3)\n",
    "c2 = ComplexNumber(4, 5)\n",
    "\n",
    "print(c1 + c2)\n",
    "print(c1 - c2)\n",
    "print(c1 * c2)\n",
    "print(c1 / c2)\n",
    "print(c1 == c2)"
   ]
  },
  {
   "cell_type": "code",
   "execution_count": null,
   "metadata": {},
   "outputs": [],
   "source": []
  }
 ],
 "metadata": {
  "kernelspec": {
   "display_name": "base",
   "language": "python",
   "name": "python3"
  },
  "language_info": {
   "codemirror_mode": {
    "name": "ipython",
    "version": 3
   },
   "file_extension": ".py",
   "mimetype": "text/x-python",
   "name": "python",
   "nbconvert_exporter": "python",
   "pygments_lexer": "ipython3",
   "version": "3.12.2"
  }
 },
 "nbformat": 4,
 "nbformat_minor": 2
}
