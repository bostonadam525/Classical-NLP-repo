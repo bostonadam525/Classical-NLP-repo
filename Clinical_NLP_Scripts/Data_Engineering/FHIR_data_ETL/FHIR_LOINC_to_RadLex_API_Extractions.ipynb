{
 "cells": [
  {
   "cell_type": "markdown",
   "metadata": {},
   "source": [
    "# FHIR LOINC to RadLex and RadLex to LOINC API JSON data extractions"
   ]
  },
  {
   "cell_type": "markdown",
   "metadata": {},
   "source": [
    "### Introduction\n",
    "* Notebook by Adam Lang\n",
    "* This is a demo of a project I completed at Nuance/Microsoft in 2023.\n",
    "\n",
    "\n",
    "In this notebook I wrote Python code to extract JSON data from the HL7-FHIR LOINC-Radlex mappings that I had pulled down from the LOINC website. I needed to extract the tokens for mapping them to EHR user interface strings as well as real world data strings."
   ]
  },
  {
   "cell_type": "markdown",
   "metadata": {},
   "source": [
    "LOINC Terminology Service using HL7® FHIR®\n",
    "- LOINC provides APIs for programmatically mapping FHIR to LOINC terminology sets and concepts. \n",
    "- Link: https://loinc.org/fhir/\n",
    "\n",
    "\n",
    "We will use the LOINC to RadLex and RadLex to LOINC Concept Mappings to extract the \"display\" JSON value object to obtain the LOINC/RadLex terminology standards."
   ]
  },
  {
   "cell_type": "markdown",
   "metadata": {},
   "source": [
    "### Step 1 - Install libraries"
   ]
  },
  {
   "cell_type": "code",
   "execution_count": 1,
   "metadata": {},
   "outputs": [
    {
     "name": "stdout",
     "output_type": "stream",
     "text": [
      "Requirement already satisfied: requests in c:\\users\\langadam\\appdata\\local\\programs\\python\\python311\\lib\\site-packages (2.31.0)\n",
      "Requirement already satisfied: charset-normalizer<4,>=2 in c:\\users\\langadam\\appdata\\local\\programs\\python\\python311\\lib\\site-packages (from requests) (3.1.0)\n",
      "Requirement already satisfied: idna<4,>=2.5 in c:\\users\\langadam\\appdata\\local\\programs\\python\\python311\\lib\\site-packages (from requests) (3.4)\n",
      "Requirement already satisfied: urllib3<3,>=1.21.1 in c:\\users\\langadam\\appdata\\local\\programs\\python\\python311\\lib\\site-packages (from requests) (2.0.3)\n",
      "Requirement already satisfied: certifi>=2017.4.17 in c:\\users\\langadam\\appdata\\local\\programs\\python\\python311\\lib\\site-packages (from requests) (2023.5.7)\n"
     ]
    },
    {
     "name": "stderr",
     "output_type": "stream",
     "text": [
      "\n",
      "[notice] A new release of pip available: 22.3.1 -> 23.3.1\n",
      "[notice] To update, run: python.exe -m pip install --upgrade pip\n"
     ]
    },
    {
     "name": "stdout",
     "output_type": "stream",
     "text": [
      "Requirement already satisfied: pandas in c:\\users\\langadam\\appdata\\local\\programs\\python\\python311\\lib\\site-packages (2.0.1)\n",
      "Requirement already satisfied: python-dateutil>=2.8.2 in c:\\users\\langadam\\appdata\\roaming\\python\\python311\\site-packages (from pandas) (2.8.2)\n",
      "Requirement already satisfied: pytz>=2020.1 in c:\\users\\langadam\\appdata\\local\\programs\\python\\python311\\lib\\site-packages (from pandas) (2023.3)\n",
      "Requirement already satisfied: tzdata>=2022.1 in c:\\users\\langadam\\appdata\\local\\programs\\python\\python311\\lib\\site-packages (from pandas) (2023.3)\n",
      "Requirement already satisfied: numpy>=1.21.0 in c:\\users\\langadam\\appdata\\local\\programs\\python\\python311\\lib\\site-packages (from pandas) (1.24.3)\n",
      "Requirement already satisfied: six>=1.5 in c:\\users\\langadam\\appdata\\roaming\\python\\python311\\site-packages (from python-dateutil>=2.8.2->pandas) (1.16.0)\n"
     ]
    },
    {
     "name": "stderr",
     "output_type": "stream",
     "text": [
      "\n",
      "[notice] A new release of pip available: 22.3.1 -> 23.3.1\n",
      "[notice] To update, run: python.exe -m pip install --upgrade pip\n"
     ]
    }
   ],
   "source": [
    "!pip install requests\n",
    "!pip install pandas\n"
   ]
  },
  {
   "cell_type": "markdown",
   "metadata": {},
   "source": [
    "### Step 2 - Import the required libraries and fetch the JSON data"
   ]
  },
  {
   "cell_type": "code",
   "execution_count": 2,
   "metadata": {},
   "outputs": [],
   "source": [
    "import requests\n",
    "import pandas as pd\n",
    "import json\n",
    "\n",
    "\n"
   ]
  },
  {
   "cell_type": "markdown",
   "metadata": {},
   "source": [
    "# Extraction for LOINC Parts and RadLex ID codes\n",
    "\n",
    "We will do the following:\n",
    "- import libraries\n",
    "- read in JSON data from file\n",
    "- check if JSON data loaded\n",
    "- loop through the JSON structures and extract the sub elements of the JSON methods that we need for our dataset to a list.\n",
    "- Export this to a CSV."
   ]
  },
  {
   "cell_type": "code",
   "execution_count": 4,
   "metadata": {},
   "outputs": [],
   "source": [
    "#import libraries\n",
    "import json\n",
    "import pandas as pd"
   ]
  },
  {
   "cell_type": "code",
   "execution_count": 5,
   "metadata": {},
   "outputs": [],
   "source": [
    "# Read JSON data from file\n",
    "with open(\"FHIR_loincParts_to_radlex.json\", \"r\") as file:\n",
    "    data = json.load(file)"
   ]
  },
  {
   "cell_type": "code",
   "execution_count": 18,
   "metadata": {},
   "outputs": [
    {
     "name": "stdout",
     "output_type": "stream",
     "text": [
      "{\n",
      "    \"resourceType\": \"Bundle\",\n",
      "    \"id\": \"81ff758a-8a23-467b-a516-0798d8615723\",\n",
      "    \"meta\": {\n",
      "        \"lastUpdated\": \"2023-08-22T17:49:43.890+00:00\"\n",
      "    },\n",
      "    \"type\": \"searchset\",\n",
      "    \"total\": 6\n",
      "}\n"
     ]
    }
   ],
   "source": [
    "# Get first 5 key-value pairs from the dictionary\n",
    "first_five_items = list(data.items())[:5]\n",
    "\n",
    "# Convert the data back to a dictionary\n",
    "first_five_dict = dict(first_five_items)\n",
    "\n",
    "# Convert the data back to a JSON string with indentation\n",
    "json_string = json.dumps(first_five_dict, indent=4)\n",
    "\n",
    "# Print the JSON string\n",
    "print(json_string)"
   ]
  },
  {
   "cell_type": "code",
   "execution_count": null,
   "metadata": {},
   "outputs": [],
   "source": []
  },
  {
   "cell_type": "code",
   "execution_count": 19,
   "metadata": {},
   "outputs": [],
   "source": [
    "#create list to store values\n",
    "\n",
    "display_values = []\n",
    "\n",
    "# Loop through each group in the JSON data\n",
    "\n",
    "for group in data.get(\"entry\", []):\n",
    "    for element in group.get(\"resource\", {}).get(\"group\", []):\n",
    "        for sub_element in element.get(\"element\", []):\n",
    "            code = sub_element.get(\"code\")\n",
    "            display = sub_element.get(\"display\")\n",
    "            # Loop through each target in the element\n",
    "            for target in sub_element.get(\"target\", []):\n",
    "                # Extract the \"code\" value for the target\n",
    "                target_code = target.get(\"code\")\n",
    "                # Extract the \"display\" value for the target\n",
    "                target_display = target.get(\"display\")\n",
    "                # Append the extracted data to the list\n",
    "                display_values.append({\"display\": display, \"RID code\": code, \"LP code\": target_code})\n"
   ]
  },
  {
   "cell_type": "code",
   "execution_count": 20,
   "metadata": {},
   "outputs": [],
   "source": [
    "# Create a DataFrame from the list of dictionaries\n",
    "df = pd.DataFrame(display_values)\n"
   ]
  },
  {
   "cell_type": "code",
   "execution_count": 21,
   "metadata": {},
   "outputs": [
    {
     "name": "stdout",
     "output_type": "stream",
     "text": [
      "         display    RID code   LP code\n",
      "0             US  LP207608-3  RID10326\n",
      "1        Doppler  LP207609-1  RID10375\n",
      "2             IV  LP200078-6  RID11160\n",
      "3         Pelvis  LP199998-8   RID2507\n",
      "4  Penis vessels  LP208051-5  RID49825\n",
      "5              W  LP200088-5  RID49853\n",
      "6    Vasodilator  LP432424-2  RID50652\n",
      "7             NM  LP208891-4  RID10330\n",
      "8         Tl-201  LP208673-6  RID11753\n",
      "9          Views  LP221404-9  RID49567\n"
     ]
    }
   ],
   "source": [
    "print(df[0:10])"
   ]
  },
  {
   "cell_type": "code",
   "execution_count": 22,
   "metadata": {},
   "outputs": [
    {
     "name": "stdout",
     "output_type": "stream",
     "text": [
      "                       display   \n",
      "0                      1 level  \\\n",
      "1                       1 or 2   \n",
      "2                    1.5H post   \n",
      "3       10 degree caudal angle   \n",
      "4     10 degree cephalic angle   \n",
      "...                        ...   \n",
      "1093              true lateral   \n",
      "1094                    tunnel   \n",
      "1095                   upright   \n",
      "1096                   vessels   \n",
      "1097        {Imaging modality}   \n",
      "\n",
      "                                               RID code   \n",
      "0     LP264232-2, LP264232-2, LP264232-2, LP264232-2...  \\\n",
      "1     LP263793-4, LP263793-4, LP263793-4, LP263793-4...   \n",
      "2     LP248916-1, LP248916-1, LP248916-1, LP248916-1...   \n",
      "3     LP220544-3, LP220544-3, LP220544-3, LP220544-3...   \n",
      "4     LP220545-0, LP220545-0, LP220545-0, LP220545-0...   \n",
      "...                                                 ...   \n",
      "1093  LP220609-4, LP220609-4, LP220609-4, LP220609-4...   \n",
      "1094  LP220610-2, LP220610-2, LP220610-2, LP220610-2...   \n",
      "1095  LP220611-0, LP220611-0, LP220611-0, LP220611-0...   \n",
      "1096                                         LP200035-6   \n",
      "1097  LP263423-8, LP263423-8, LP263423-8, LP263423-8...   \n",
      "\n",
      "                                                LP code  \n",
      "0     RID49781, RID49781, RID49781, RID49781, RID497...  \n",
      "1     RID49658, RID49658, RID49658, RID49658, RID496...  \n",
      "2     RID50245, RID50245, RID50245, RID50245, RID502...  \n",
      "3     RID50087, RID50087, RID50087, RID50087, RID500...  \n",
      "4     RID50090, RID50090, RID50090, RID50090, RID500...  \n",
      "...                                                 ...  \n",
      "1093  RID50126, RID50126, RID50126, RID50126, RID501...  \n",
      "1094  RID45787, RID45787, RID45787, RID45787, RID457...  \n",
      "1095  RID10455, RID10455, RID10455, RID10455, RID104...  \n",
      "1096                                           RID39545  \n",
      "1097  RID10311, RID10311, RID10311, RID10311, RID103...  \n",
      "\n",
      "[1098 rows x 3 columns]\n"
     ]
    }
   ],
   "source": [
    "# Group by \"display\" and aggregate \"RID code\" and \"LP code\" values\n",
    "agg_df = df.groupby(\"display\").agg({\"RID code\": ', '.join, \"LP code\": ', '.join}).reset_index()\n",
    "\n",
    "# Rename the columns\n",
    "agg_df.columns = [\"display\", \"RID code\", \"LP code\"]\n",
    "\n",
    "# Display the resulting DataFrame\n",
    "print(agg_df)\n"
   ]
  },
  {
   "cell_type": "code",
   "execution_count": 11,
   "metadata": {},
   "outputs": [
    {
     "name": "stdout",
     "output_type": "stream",
     "text": [
      "                    display   \n",
      "0                   1 level  \\\n",
      "1                    1 or 2   \n",
      "2                 1.5H post   \n",
      "3    10 degree caudal angle   \n",
      "4  10 degree cephalic angle   \n",
      "5                  10M post   \n",
      "6                  15M post   \n",
      "7                   18F-FDG   \n",
      "8                   18F-NaF   \n",
      "9                   1H post   \n",
      "\n",
      "                                            RID code   \n",
      "0  LP264232-2, LP264232-2, LP264232-2, LP264232-2...  \\\n",
      "1  LP263793-4, LP263793-4, LP263793-4, LP263793-4...   \n",
      "2  LP248916-1, LP248916-1, LP248916-1, LP248916-1...   \n",
      "3  LP220544-3, LP220544-3, LP220544-3, LP220544-3...   \n",
      "4  LP220545-0, LP220545-0, LP220545-0, LP220545-0...   \n",
      "5  LP248205-9, LP248205-9, LP248205-9, LP248205-9...   \n",
      "6  LP248917-9, LP248917-9, LP248917-9, LP248917-9...   \n",
      "7  LP231799-0, LP231799-0, LP231799-0, LP231799-0...   \n",
      "8  LP212086-5, LP212086-5, LP212086-5, LP212086-5...   \n",
      "9  LP248919-5, LP248919-5, LP248919-5, LP248919-5...   \n",
      "\n",
      "                                             LP code  \n",
      "0  RID49781, RID49781, RID49781, RID49781, RID497...  \n",
      "1  RID49658, RID49658, RID49658, RID49658, RID496...  \n",
      "2  RID50245, RID50245, RID50245, RID50245, RID502...  \n",
      "3  RID50087, RID50087, RID50087, RID50087, RID500...  \n",
      "4  RID50090, RID50090, RID50090, RID50090, RID500...  \n",
      "5  RID50265, RID50265, RID50265, RID50265, RID502...  \n",
      "6  RID50246, RID50246, RID50246, RID50246, RID502...  \n",
      "7  RID11701, RID11701, RID11701, RID11701, RID117...  \n",
      "8  RID45804, RID45804, RID45804, RID45804, RID458...  \n",
      "9  RID50247, RID50247, RID50247, RID50247, RID502...  \n"
     ]
    }
   ],
   "source": [
    "#print first few rows\n",
    "print(agg_df[0:10])"
   ]
  },
  {
   "cell_type": "markdown",
   "metadata": {},
   "source": [
    "### To CSV"
   ]
  },
  {
   "cell_type": "code",
   "execution_count": 23,
   "metadata": {},
   "outputs": [],
   "source": [
    "### To CSV\n",
    "df.to_csv('FHIR_loincParts_to_radlex_codes_extracted.csv', index=False)"
   ]
  },
  {
   "cell_type": "code",
   "execution_count": null,
   "metadata": {},
   "outputs": [],
   "source": []
  }
 ],
 "metadata": {
  "kernelspec": {
   "display_name": "Python 3",
   "language": "python",
   "name": "python3"
  },
  "language_info": {
   "codemirror_mode": {
    "name": "ipython",
    "version": 3
   },
   "file_extension": ".py",
   "mimetype": "text/x-python",
   "name": "python",
   "nbconvert_exporter": "python",
   "pygments_lexer": "ipython3",
   "version": "3.11.2"
  },
  "orig_nbformat": 4
 },
 "nbformat": 4,
 "nbformat_minor": 2
}
