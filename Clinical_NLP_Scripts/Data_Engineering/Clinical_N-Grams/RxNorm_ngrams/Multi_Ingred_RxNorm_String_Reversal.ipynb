{
 "cells": [
  {
   "cell_type": "markdown",
   "id": "e554b74e-c4b9-4e4c-a6cb-abf16fe76568",
   "metadata": {},
   "source": [
    "# Multi-ingredient Medications - RxNorm String Reversal"
   ]
  },
  {
   "cell_type": "markdown",
   "id": "467ffc01-35c4-43bf-940c-12d74136fb09",
   "metadata": {},
   "source": [
    "### Background\n",
    "* Notebook by Adam Lang\n",
    "* This is a demo of the data engineering and NLP text manipulation I did with RxNorm data while at Nuance/Microsoft in 2022."
   ]
  },
  {
   "cell_type": "markdown",
   "id": "27356cb9-791e-4e9f-a61d-1d0f4f5ec6b7",
   "metadata": {},
   "source": [
    "- RxNorm alphabetizes multi-ingredient medications.<br>\n",
    "- Problem with this is that most drug ontologies, EHR's and clinicians will voice some of these medications non-alphabetized.<br>\n",
    "- Currently the NLU model does not recognize any reverse order of these alphabetized strings.<br>\n",
    "- Therefore, our goal is to reverse these multi-ingedient strings of 2 and 3 ingredients as these are the most common."
   ]
  },
  {
   "cell_type": "markdown",
   "id": "044672ff-de30-43fd-aaed-814e3b2cd795",
   "metadata": {},
   "source": [
    "### Import modules"
   ]
  },
  {
   "cell_type": "code",
   "execution_count": 14,
   "id": "13f61a9b-f5df-47ff-894f-1fd2b4cf9098",
   "metadata": {},
   "outputs": [],
   "source": [
    "import pandas as pd\n",
    "import numpy as np"
   ]
  },
  {
   "cell_type": "markdown",
   "id": "46873b30-2d7e-40ff-83e5-a7f14d6da6e3",
   "metadata": {},
   "source": [
    "### Data Upload"
   ]
  },
  {
   "cell_type": "code",
   "execution_count": 3,
   "id": "79550a55-4841-4d11-af9e-d36bf7bdb901",
   "metadata": {},
   "outputs": [
    {
     "data": {
      "text/html": [
       "<div>\n",
       "<style scoped>\n",
       "    .dataframe tbody tr th:only-of-type {\n",
       "        vertical-align: middle;\n",
       "    }\n",
       "\n",
       "    .dataframe tbody tr th {\n",
       "        vertical-align: top;\n",
       "    }\n",
       "\n",
       "    .dataframe thead th {\n",
       "        text-align: right;\n",
       "    }\n",
       "</style>\n",
       "<table border=\"1\" class=\"dataframe\">\n",
       "  <thead>\n",
       "    <tr style=\"text-align: right;\">\n",
       "      <th></th>\n",
       "      <th>RxNorm_Multi_Ingredient_Drugs</th>\n",
       "    </tr>\n",
       "  </thead>\n",
       "  <tbody>\n",
       "    <tr>\n",
       "      <th>0</th>\n",
       "      <td>17-alpha-hydroxyprogesterone estradiol</td>\n",
       "    </tr>\n",
       "    <tr>\n",
       "      <th>1</th>\n",
       "      <td>2-phenylphenol chlorocresol clorophene</td>\n",
       "    </tr>\n",
       "    <tr>\n",
       "      <th>2</th>\n",
       "      <td>4-aminobenzoate salicylic acid</td>\n",
       "    </tr>\n",
       "    <tr>\n",
       "      <th>3</th>\n",
       "      <td>4-aminobenzoic acid arginine</td>\n",
       "    </tr>\n",
       "    <tr>\n",
       "      <th>4</th>\n",
       "      <td>4-aminobenzoic acid methoxsalen</td>\n",
       "    </tr>\n",
       "  </tbody>\n",
       "</table>\n",
       "</div>"
      ],
      "text/plain": [
       "            RxNorm_Multi_Ingredient_Drugs\n",
       "0  17-alpha-hydroxyprogesterone estradiol\n",
       "1  2-phenylphenol chlorocresol clorophene\n",
       "2          4-aminobenzoate salicylic acid\n",
       "3            4-aminobenzoic acid arginine\n",
       "4         4-aminobenzoic acid methoxsalen"
      ]
     },
     "execution_count": 3,
     "metadata": {},
     "output_type": "execute_result"
    }
   ],
   "source": [
    "#upload excel file with RxNorm multi-ingredient medications\n",
    "df_rxnorm = pd.read_excel('AB_BA_Drugs_FLOR-34700.xlsx',sheet_name = 'RxNorm_Multi_List')\n",
    "\n",
    "#df head\n",
    "df_rxnorm.head()"
   ]
  },
  {
   "cell_type": "code",
   "execution_count": 4,
   "id": "ce761c3a-bac3-485a-b049-2d915726cfe1",
   "metadata": {},
   "outputs": [
    {
     "data": {
      "text/plain": [
       "<bound method DataFrame.count of                           RxNorm_Multi_Ingredient_Drugs\n",
       "0                17-alpha-hydroxyprogesterone estradiol\n",
       "1                2-phenylphenol chlorocresol clorophene\n",
       "2                        4-aminobenzoate salicylic acid\n",
       "3                          4-aminobenzoic acid arginine\n",
       "4                       4-aminobenzoic acid methoxsalen\n",
       "...                                                 ...\n",
       "3762                          vitamin B6 zinc gluconate\n",
       "3763                         vitamin B6 zinc picolinate\n",
       "3764  white sweet clover pollen extract yellow sweet...\n",
       "3765                             witch hazel zinc oxide\n",
       "3766                             yohimbine zinc sulfate\n",
       "\n",
       "[3767 rows x 1 columns]>"
      ]
     },
     "execution_count": 4,
     "metadata": {},
     "output_type": "execute_result"
    }
   ],
   "source": [
    "#number values?\n",
    "df_rxnorm.count"
   ]
  },
  {
   "cell_type": "markdown",
   "id": "d6680ab5-6024-4ce2-8232-98775c585e9b",
   "metadata": {},
   "source": [
    "Full list of mult-ingredient RxNorm medications now uploaded. "
   ]
  },
  {
   "cell_type": "markdown",
   "id": "b6166377-cd3d-4af7-adf6-d56d2c091c50",
   "metadata": {},
   "source": [
    "### Make new dataframe with copy of original column"
   ]
  },
  {
   "cell_type": "code",
   "execution_count": 5,
   "id": "95674334-1b55-4e03-bf4b-ba90371ae1c9",
   "metadata": {},
   "outputs": [
    {
     "data": {
      "text/html": [
       "<div>\n",
       "<style scoped>\n",
       "    .dataframe tbody tr th:only-of-type {\n",
       "        vertical-align: middle;\n",
       "    }\n",
       "\n",
       "    .dataframe tbody tr th {\n",
       "        vertical-align: top;\n",
       "    }\n",
       "\n",
       "    .dataframe thead th {\n",
       "        text-align: right;\n",
       "    }\n",
       "</style>\n",
       "<table border=\"1\" class=\"dataframe\">\n",
       "  <thead>\n",
       "    <tr style=\"text-align: right;\">\n",
       "      <th></th>\n",
       "      <th>RxNorm_Multi_Ingredient_Drugs</th>\n",
       "      <th>A</th>\n",
       "    </tr>\n",
       "  </thead>\n",
       "  <tbody>\n",
       "    <tr>\n",
       "      <th>0</th>\n",
       "      <td>17-alpha-hydroxyprogesterone estradiol</td>\n",
       "      <td>17-alpha-hydroxyprogesterone estradiol</td>\n",
       "    </tr>\n",
       "    <tr>\n",
       "      <th>1</th>\n",
       "      <td>2-phenylphenol chlorocresol clorophene</td>\n",
       "      <td>2-phenylphenol chlorocresol clorophene</td>\n",
       "    </tr>\n",
       "    <tr>\n",
       "      <th>2</th>\n",
       "      <td>4-aminobenzoate salicylic acid</td>\n",
       "      <td>4-aminobenzoate salicylic acid</td>\n",
       "    </tr>\n",
       "    <tr>\n",
       "      <th>3</th>\n",
       "      <td>4-aminobenzoic acid arginine</td>\n",
       "      <td>4-aminobenzoic acid arginine</td>\n",
       "    </tr>\n",
       "    <tr>\n",
       "      <th>4</th>\n",
       "      <td>4-aminobenzoic acid methoxsalen</td>\n",
       "      <td>4-aminobenzoic acid methoxsalen</td>\n",
       "    </tr>\n",
       "  </tbody>\n",
       "</table>\n",
       "</div>"
      ],
      "text/plain": [
       "            RxNorm_Multi_Ingredient_Drugs  \\\n",
       "0  17-alpha-hydroxyprogesterone estradiol   \n",
       "1  2-phenylphenol chlorocresol clorophene   \n",
       "2          4-aminobenzoate salicylic acid   \n",
       "3            4-aminobenzoic acid arginine   \n",
       "4         4-aminobenzoic acid methoxsalen   \n",
       "\n",
       "                                        A  \n",
       "0  17-alpha-hydroxyprogesterone estradiol  \n",
       "1  2-phenylphenol chlorocresol clorophene  \n",
       "2          4-aminobenzoate salicylic acid  \n",
       "3            4-aminobenzoic acid arginine  \n",
       "4         4-aminobenzoic acid methoxsalen  "
      ]
     },
     "execution_count": 5,
     "metadata": {},
     "output_type": "execute_result"
    }
   ],
   "source": [
    "df_rxnorm['A'] = df_rxnorm['RxNorm_Multi_Ingredient_Drugs']\n",
    "\n",
    "df_rxnorm.head()"
   ]
  },
  {
   "cell_type": "code",
   "execution_count": 6,
   "id": "45e81502-ddab-4710-8387-902cf5a64300",
   "metadata": {},
   "outputs": [
    {
     "data": {
      "text/html": [
       "<div>\n",
       "<style scoped>\n",
       "    .dataframe tbody tr th:only-of-type {\n",
       "        vertical-align: middle;\n",
       "    }\n",
       "\n",
       "    .dataframe tbody tr th {\n",
       "        vertical-align: top;\n",
       "    }\n",
       "\n",
       "    .dataframe thead th {\n",
       "        text-align: right;\n",
       "    }\n",
       "</style>\n",
       "<table border=\"1\" class=\"dataframe\">\n",
       "  <thead>\n",
       "    <tr style=\"text-align: right;\">\n",
       "      <th></th>\n",
       "      <th>RxNorm_Multi_Ingredient_Drugs</th>\n",
       "      <th>A</th>\n",
       "    </tr>\n",
       "  </thead>\n",
       "  <tbody>\n",
       "    <tr>\n",
       "      <th>0</th>\n",
       "      <td>17-alpha-hydroxyprogesterone estradiol</td>\n",
       "      <td>17-alpha-hydroxyprogesterone estradiol</td>\n",
       "    </tr>\n",
       "    <tr>\n",
       "      <th>1</th>\n",
       "      <td>2-phenylphenol chlorocresol clorophene</td>\n",
       "      <td>2-phenylphenol chlorocresol clorophene</td>\n",
       "    </tr>\n",
       "    <tr>\n",
       "      <th>2</th>\n",
       "      <td>4-aminobenzoate salicylic acid</td>\n",
       "      <td>4-aminobenzoate salicylic acid</td>\n",
       "    </tr>\n",
       "    <tr>\n",
       "      <th>3</th>\n",
       "      <td>4-aminobenzoic acid arginine</td>\n",
       "      <td>4-aminobenzoic acid arginine</td>\n",
       "    </tr>\n",
       "    <tr>\n",
       "      <th>4</th>\n",
       "      <td>4-aminobenzoic acid methoxsalen</td>\n",
       "      <td>4-aminobenzoic acid methoxsalen</td>\n",
       "    </tr>\n",
       "  </tbody>\n",
       "</table>\n",
       "</div>"
      ],
      "text/plain": [
       "            RxNorm_Multi_Ingredient_Drugs  \\\n",
       "0  17-alpha-hydroxyprogesterone estradiol   \n",
       "1  2-phenylphenol chlorocresol clorophene   \n",
       "2          4-aminobenzoate salicylic acid   \n",
       "3            4-aminobenzoic acid arginine   \n",
       "4         4-aminobenzoic acid methoxsalen   \n",
       "\n",
       "                                        A  \n",
       "0  17-alpha-hydroxyprogesterone estradiol  \n",
       "1  2-phenylphenol chlorocresol clorophene  \n",
       "2          4-aminobenzoate salicylic acid  \n",
       "3            4-aminobenzoic acid arginine  \n",
       "4         4-aminobenzoic acid methoxsalen  "
      ]
     },
     "execution_count": 6,
     "metadata": {},
     "output_type": "execute_result"
    }
   ],
   "source": [
    "#make into pandas df\n",
    "df_rxnorm = pd.DataFrame(df_rxnorm)\n",
    "\n",
    "df_rxnorm.head()"
   ]
  },
  {
   "cell_type": "markdown",
   "id": "a93e265b-1fb1-43e7-bb07-93d060e48b51",
   "metadata": {},
   "source": [
    "# 2 Ingredient Medications"
   ]
  },
  {
   "cell_type": "markdown",
   "id": "6dbd1d87-4ab0-4cde-9e29-86c6f64c2651",
   "metadata": {},
   "source": [
    "### Make separate dataframes based on number of strings - 2 strings only"
   ]
  },
  {
   "cell_type": "code",
   "execution_count": 7,
   "id": "d165520f-8ecd-4718-b8e5-3a7efa1294fe",
   "metadata": {
    "tags": []
   },
   "outputs": [
    {
     "data": {
      "text/html": [
       "<div>\n",
       "<style scoped>\n",
       "    .dataframe tbody tr th:only-of-type {\n",
       "        vertical-align: middle;\n",
       "    }\n",
       "\n",
       "    .dataframe tbody tr th {\n",
       "        vertical-align: top;\n",
       "    }\n",
       "\n",
       "    .dataframe thead th {\n",
       "        text-align: right;\n",
       "    }\n",
       "</style>\n",
       "<table border=\"1\" class=\"dataframe\">\n",
       "  <thead>\n",
       "    <tr style=\"text-align: right;\">\n",
       "      <th></th>\n",
       "      <th>A</th>\n",
       "    </tr>\n",
       "  </thead>\n",
       "  <tbody>\n",
       "    <tr>\n",
       "      <th>0</th>\n",
       "      <td>17-alpha-hydroxyprogesterone estradiol</td>\n",
       "    </tr>\n",
       "    <tr>\n",
       "      <th>1</th>\n",
       "      <td>2-phenylphenol chlorocresol clorophene</td>\n",
       "    </tr>\n",
       "    <tr>\n",
       "      <th>2</th>\n",
       "      <td>4-aminobenzoate salicylic acid</td>\n",
       "    </tr>\n",
       "    <tr>\n",
       "      <th>3</th>\n",
       "      <td>4-aminobenzoic acid arginine</td>\n",
       "    </tr>\n",
       "    <tr>\n",
       "      <th>4</th>\n",
       "      <td>4-aminobenzoic acid methoxsalen</td>\n",
       "    </tr>\n",
       "  </tbody>\n",
       "</table>\n",
       "</div>"
      ],
      "text/plain": [
       "                                        A\n",
       "0  17-alpha-hydroxyprogesterone estradiol\n",
       "1  2-phenylphenol chlorocresol clorophene\n",
       "2          4-aminobenzoate salicylic acid\n",
       "3            4-aminobenzoic acid arginine\n",
       "4         4-aminobenzoic acid methoxsalen"
      ]
     },
     "execution_count": 7,
     "metadata": {},
     "output_type": "execute_result"
    }
   ],
   "source": [
    "#make a new df\n",
    "df_two_strings = df_rxnorm['A']\n",
    "\n",
    "#pandas df\n",
    "df_two_strings = pd.DataFrame(df_two_strings)\n",
    "\n",
    "#print head\n",
    "df_two_strings.head()\n",
    "\n"
   ]
  },
  {
   "cell_type": "code",
   "execution_count": 11,
   "id": "cb856a61-e511-43ba-aa47-d1339faf1be1",
   "metadata": {},
   "outputs": [
    {
     "data": {
      "text/plain": [
       "<bound method DataFrame.info of                                                       A\n",
       "0                17-alpha-hydroxyprogesterone estradiol\n",
       "1                2-phenylphenol chlorocresol clorophene\n",
       "2                        4-aminobenzoate salicylic acid\n",
       "3                          4-aminobenzoic acid arginine\n",
       "4                       4-aminobenzoic acid methoxsalen\n",
       "...                                                 ...\n",
       "3762                          vitamin B6 zinc gluconate\n",
       "3763                         vitamin B6 zinc picolinate\n",
       "3764  white sweet clover pollen extract yellow sweet...\n",
       "3765                             witch hazel zinc oxide\n",
       "3766                             yohimbine zinc sulfate\n",
       "\n",
       "[3767 rows x 1 columns]>"
      ]
     },
     "execution_count": 11,
     "metadata": {},
     "output_type": "execute_result"
    }
   ],
   "source": [
    "df_two_strings.info"
   ]
  },
  {
   "cell_type": "code",
   "execution_count": 12,
   "id": "4971ad90-5a89-4a0c-b06e-c3c6cc1b3f7c",
   "metadata": {},
   "outputs": [
    {
     "name": "stdout",
     "output_type": "stream",
     "text": [
      "['17-alpha-hydroxyprogesterone estradiol', '4-cymene chlorproethazine', '5-hydroxytryptophan melatonin', '5-methyl-8-hydroxyquinoline tilbroquinol', 'abacavir lamivudine', 'acebutolol hydrochlorothiazide', 'acebutolol mefruside', 'acebutolol nifedipine', 'acemetacin chlorzoxazone', 'aceprometazine meprobamate', 'acetaminophen adiphenine', 'acetaminophen aspirin', 'acetaminophen benzhydrocodone', 'acetaminophen bromelains', 'acetaminophen brompheniramine', 'acetaminophen buclizine', 'acetaminophen butabarbital', 'acetaminophen butalbital', 'acetaminophen caffeine', 'acetaminophen carbidopa', 'acetaminophen carisoprodol', 'acetaminophen chlormezanone', 'acetaminophen chlorpheniramine', 'acetaminophen chlorzoxazone', 'acetaminophen codeine', 'acetaminophen dexbrompheniramine', 'acetaminophen dextromethorphan', 'acetaminophen diclofenac', 'acetaminophen dihydrocodeine', 'acetaminophen dihydroergotamine', 'acetaminophen dimenhydrinate', 'acetaminophen diphenhydramine', 'acetaminophen dipyrone', 'acetaminophen domperidone', 'acetaminophen doxylamine', 'acetaminophen fursultiamin', 'acetaminophen guaifenesin', 'acetaminophen hydrocodone', 'acetaminophen ibuprofen', 'acetaminophen isometheptene', 'acetaminophen ketoprofen', 'acetaminophen melatonin', 'acetaminophen meperidine', 'acetaminophen mephenesin', 'acetaminophen meprobamate', 'acetaminophen methionine', 'acetaminophen methocarbamol', 'acetaminophen metoclopramide', 'acetaminophen naproxen', 'acetaminophen orphenadrine', 'acetaminophen oxycodone', 'acetaminophen pamabrom', 'acetaminophen pentazocine', 'acetaminophen phenobarbital', 'acetaminophen phenylephrine', 'acetaminophen phenylpropanolamine', 'acetaminophen phenyltoloxamine', 'acetaminophen piroxicam', 'acetaminophen promethazine', 'acetaminophen propoxyphene', 'acetaminophen propyphenazone', 'acetaminophen pseudoephedrine', 'acetaminophen pyrilamine', 'acetaminophen racemethionine', 'acetaminophen salicylamide', 'acetaminophen scopolamine', 'acetaminophen styramate', 'acetaminophen thiamine', 'acetaminophen thiocolchicoside', 'acetaminophen tolperisone', 'acetaminophen tramadol', 'acetiamine aspirin', 'acetone ethanol', 'acetylcarnitine thioctate', 'acetylcarnitine tyrosine', 'acetylcysteine cefuroxime', 'aclidinium formoterol', 'aconite lactose', 'acriflavine benzocaine', 'acrivastine pseudoephedrine', 'acyclovir hydrocortisone', 'acyclovir lidocaine', 'adenine glucose', 'adiphenine phenobarbital', 'adrenalone tetracaine', 'ajmalicine almitrine', 'ajmaline almitrine', 'ajmaline dihydroergocristine', 'albuterol ambroxol', 'albuterol guaifenesin', 'albuterol ipratropium', 'alcloxa chloroxylenol', 'aldioxa chloroxylenol', 'alendronate cholecalciferol', 'algestone estradiol', 'aliskiren amlodipine', 'aliskiren hydrochlorothiazide', 'aliskiren valsartan', 'allantoin benzalkonium', 'allantoin benzethonium', 'allantoin benzocaine', 'allantoin camphor', 'allantoin chloroxylenol', 'allantoin dimethicone', 'allantoin diphenhydramine', 'allantoin dyclonine', 'allantoin glycerin', 'allantoin hyaluronate', 'allantoin ichthammol', 'allantoin lidocaine', 'allantoin menthol', 'allantoin petrolatum', 'allantoin pramoxine', 'allantoin sulfadiazine', 'allantoin thymol', 'allobarbital aminopyrine', 'alloin phenolphthalein', 'allopurinol benzbromarone', 'allopurinol colchicine', 'allopurinol lesinurad', 'allopurinol probenecid', 'alogliptin metformin', 'alogliptin pioglitazone', 'alprazolam sulpiride', 'althiazide spironolactone', 'alverine simethicone', 'ambroxol amoxicillin', 'ambroxol ampicillin', 'ambroxol cefadroxil', 'ambroxol cephalexin', 'ambroxol chlophedianol', 'ambroxol clenbuterol', 'ambroxol clobutinol', 'ambroxol doxycycline', 'ambroxol theophylline', 'amiloride bendroflumethiazide', 'amiloride bumetanide', 'amiloride cyclopenthiazide', 'amiloride furosemide', 'amiloride hydrochlorothiazide', 'amiloride metolazone', 'amiloride trichlormethiazide', 'aminacrine lidocaine', 'aminophylline ephedrine', 'aminophylline guaifenesin', 'aminophylline phenobarbital', 'aminophylline promethazine', 'aminophylline quinine', 'aminoquinuride tetracaine', 'amitriptyline chlordiazepoxide', 'amitriptyline perphenazine', 'amlodipine atorvastatin', 'amlodipine benazepril', 'amlodipine celecoxib', 'amlodipine olmesartan', 'amlodipine perindopril', 'amlodipine telmisartan', 'amlodipine valsartan', 'amobarbital ephedrine', 'amobarbital secobarbital', 'amoxicillin bromhexine', 'amoxicillin brovanexine', 'amoxicillin carbocysteine', 'amoxicillin clavulanate', 'amoxicillin clonixin', 'amoxicillin diclofenac', 'amoxicillin floxacillin', 'amoxicillin nystatin', 'amoxicillin piroxicam', 'amoxicillin probenecid', 'amoxicillin sulbactam', 'amoxicillin sulfinpyrazone', 'amphetamine dextroamphetamine', 'amphetamine phenobarbital', 'ampicillin bromhexine', 'ampicillin brovanexine', 'ampicillin carbocysteine', 'ampicillin cloxacillin', 'ampicillin diclofenac', 'ampicillin dicloxacillin', 'ampicillin floxacillin', 'ampicillin probenecid', 'ampicillin sulbactam', 'amylase lipase', 'amylase papain', 'amylase protease', 'amylocaine lindane', 'amylocaine trichloroacetaldehyde', 'anethole choline', 'anisotropine dipyrone', 'anisotropine phenobarbital', 'antazoline naphazoline', 'antazoline tetrahydrozoline', 'antazoline xylometazoline', 'anthralin urea', 'antipyrine benzocaine', 'antipyrine caffeine', 'antipyrine ephedrine', 'antipyrine lidocaine', 'antipyrine phenylephrine', 'arginine malate', 'artemether lumefantrine', 'articaine epinephrine', 'aspirin butalbital', 'aspirin caffeine', 'aspirin carbidopa', 'aspirin carisoprodol', 'aspirin chlormezanone', 'aspirin chlorpheniramine', 'aspirin codeine', 'aspirin cyclizine', 'aspirin diphenhydramine', 'aspirin dipyridamole', 'aspirin glycine', 'aspirin hydrocodone', 'aspirin isosorbide', 'aspirin menthol', 'aspirin meprobamate', 'aspirin methocarbamol', 'aspirin methylprednisolone', 'aspirin nafronyl', 'aspirin omeprazole', 'aspirin oxycodone', 'aspirin papain', 'aspirin pentazocine', 'aspirin phenobarbital', 'aspirin phenylephrine', 'aspirin phenylpropanolamine', 'aspirin phenyltoloxamine', 'aspirin propoxyphene', 'aspirin pseudoephedrine', 'aspirin pyridinolcarbamate', 'aspirin quinine', 'aspirin sulfur', 'astemizole clorazepate', 'astemizole dexamethasone', 'atazanavir cobicistat', 'atenolol bendroflumethiazide', 'atenolol chlorthalidone', 'atenolol nifedipine', 'atorvastatin ezetimibe', 'atovaquone proguanil', 'atropine chlorpheniramine', 'atropine difenoxin', 'atropine diphenoxylate', 'atropine edrophonium', 'atropine hydrocortisone', 'atropine hydromorphone', 'atropine ictasol', 'atropine meperidine', 'atropine morphine', 'atropine neostigmine', 'atropine phenobarbital', 'atropine pralidoxime', 'atropine prednisolone', 'attapulgite morphine', 'attapulgite pectin', 'avibactam ceftazidime', 'azatadine pseudoephedrine', 'azelastine fluticasone', 'azilsartan chlorthalidone', 'azintamide scopolamine', 'bacitracin lidocaine', 'bacitracin pramoxine', 'bacitracin tixocortol', 'bamethan escin', 'bamethan niacin', 'bamethan troxerutin', 'barbital pyrilamine', 'beclomethasone clioquinol', 'benactyzine benorilate', 'benactyzine meprobamate', 'benazepril hydrochlorothiazide', 'benazepril spironolactone', 'bendroflumethiazide clonidine', 'bendroflumethiazide meprobamate', 'bendroflumethiazide nadolol', 'bendroflumethiazide potassium', 'bendroflumethiazide propranolol', 'bendroflumethiazide reserpine', 'bendroflumethiazide spironolactone', 'bendroflumethiazide timolol', 'benoxinate fluorescein', 'benserazide levodopa', 'benzalkonium benzethonium', 'benzalkonium benzocaine', 'benzalkonium camphor', 'benzalkonium cetrimide', 'benzalkonium chlorhexidine', 'benzalkonium chloroxylenol', 'benzalkonium dimethicone', 'benzalkonium ethanol', 'benzalkonium glycerin', 'benzalkonium idoxuridine', 'benzalkonium lidocaine', 'benzalkonium menthol', 'benzalkonium polyethylenes', 'benzalkonium pramoxine', 'benzalkonium tolnaftate', 'benzalkonium tyloxapol', 'benzalkonium urea', 'benzethonium benzocaine', 'benzethonium chlorhexidine', 'benzethonium dimethicone', 'benzethonium dyclonine', 'benzethonium lidocaine', 'benzethonium menthol', 'benzethonium thymol', 'benzoate caffeine', 'benzoate codeine', 'benzoate guaiacolsulfonate', 'benzoate phenylacetate', 'benzocaine butetamate', 'benzocaine calamine', 'benzocaine cetylpyridinium', 'benzocaine chloramphenicol', 'benzocaine chlorhexidine', 'benzocaine chloroxylenol', 'benzocaine dequalinium', 'benzocaine dextromethorphan', 'benzocaine diosmin', 'benzocaine docusate', 'benzocaine ephedrine', 'benzocaine ethacridine', 'benzocaine ethanol', 'benzocaine glycerin', 'benzocaine hexylresorcinol', 'benzocaine ichthammol', 'benzocaine lindane', 'benzocaine menthol', 'benzocaine methylbenzethonium', 'benzocaine methylcellulose', 'benzocaine oxyquinoline', 'benzocaine pectin', 'benzocaine petrolatum', 'benzocaine phenol', 'benzocaine phenylephrine', 'benzocaine phenylpropanolamine', 'benzocaine povidone-iodine', 'benzocaine pyrilamine', 'benzocaine resorcinol', 'benzocaine salicylamide', 'benzocaine sulfur', 'benzocaine tetracaine', 'benzocaine triclosan', 'benzocaine trimethobenzamide', 'benzocaine tyrothricin', 'benzoxiquine ichthammol', 'benzoxonium lidocaine', 'benzthiazide reserpine', 'benzthiazide triamterene', 'benzydamine bromhexine', 'benzydamine cetylpyridinium', 'benzydamine dipyrone', 'benzydamine hexetidine', 'benzylparaben propylparaben', 'beta-alanine oxazepam', 'betaine protease', 'betamethasone calcipotriene', 'betamethasone clioquinol', 'betamethasone clotrimazole', 'betamethasone diphenylpyraline', 'betamethasone fusidate', 'betamethasone gentamicin', 'betamethasone loratadine', 'betamethasone neomycin', 'betamethasone sulfacetamide', 'betamethasone terfenadine', 'betaxolol pilocarpine', 'bifonazole diphenhydramine', 'bifonazole urea', 'biotin panthenol', 'bisacodyl casanthranol', 'bisacodyl docusate', 'bisacodyl simethicone', 'bisdequalinium prednisolone', 'bismuth naphazoline', 'bismuth pectin', 'bisoprolol hydrochlorothiazide', 'brimonidine brinzolamide', 'brimonidine timolol', 'bromazepam trimebutine', 'bromazepam veralipride', 'bromelains papain', 'bromelains trypsin', 'bromhexine butetamate', 'bromhexine cefaclor', 'bromhexine cephalexin', 'bromhexine chlophedianol', 'bromhexine erythromycin', 'bromhexine fenoterol', 'bromhexine fominoben', 'bromhexine guaifenesin', 'bromhexine metaproterenol', 'bromhexine oxeladin', 'bromhexine oxytetracycline', 'bromodiphenhydramine codeine', 'brompheniramine codeine', 'brompheniramine dextromethorphan', 'brompheniramine diphenhydramine', 'brompheniramine phenylephrine', 'brompheniramine phenylpropanolamine', 'brompheniramine pseudoephedrine', 'budesonide formoterol', 'buflomedil diosmin', 'bumetanide potassium', 'bupivacaine epinephrine', 'bupivacaine lidocaine', 'bupivacaine meloxicam', 'buprenorphine naloxone', 'bupropion naltrexone', 'butabarbital homatropine', 'butabarbital meprobamate', 'butabarbital methamphetamine', 'butacaine oleate', 'butalamine papaverine', 'butamben nitromersol', 'butamben tyrothricin', 'butetamate helicin', 'buthiazide metipranolol', 'buthiazide reserpine', 'buthiazide spironolactone', 'cafedrine theodrenaline', 'caffeine chlorphenoxamine', 'caffeine choline', 'caffeine dihydroergocryptine', 'caffeine dimenhydrinate', 'caffeine dipyrone', 'caffeine ergotamine', 'caffeine ethenzamide', 'caffeine glucose', 'caffeine hordenine', 'caffeine meclizine', 'caffeine nitroglycerin', 'caffeine phenobarbital', 'caffeine phenylephrine', 'caffeine phenylpropanolamine', 'caffeine procaine', 'caffeine propyphenazone', 'calamine diphenhydramine', 'calamine phenol', 'calamine pramoxine', 'calamine resorcinol', 'camphor capsaicin', 'camphor chloroxylenol', 'camphor levomenthol', 'camphor lidocaine', 'camphor menthol', 'camphor methylnicotinate', 'camphor parachlorophenol', 'camphor petrolatum', 'camphor phenol', 'camphor thymol', 'camphor turpentine', 'camylofine dipyrone', 'canagliflozin metformin', 'candesartan hydrochlorothiazide', 'cannabinol dronabinol', 'capsaicin histamine', 'capsaicin lidocaine', 'capsaicin menthol', 'capsaicin methylnicotinate', 'capsaicin turpentine', 'captopril hydrochlorothiazide', 'caramiphen phenylpropanolamine', 'carbetapentane chlorpheniramine', 'carbetapentane diphenhydramine', 'carbetapentane guaifenesin', 'carbetapentane phenylephrine', 'carbetapentane pseudoephedrine', 'carbetapentane pyrilamine', 'carbidopa levodopa', 'carbinoxamine phenylephrine', 'carbinoxamine pseudoephedrine', 'carbocysteine oxolamine', 'carbocysteine sobrerol', 'carbomer mannitol', 'carboxymethylcellulose casanthranol', 'carboxymethylcellulose docusate', 'carboxymethylcellulose glycerin', 'carboxymethylcellulose hypromellose', 'carboxymethylcellulose povidone', 'carisoprodol diclofenac', 'carisoprodol ibuprofen', 'carisoprodol naproxen', 'carisoprodol piroxicam', 'casanthranol docusate', 'casirivimab imdevimab', 'catalase orgotein', 'cedazuridine decitabine', 'ceftolozane tazobactam', 'cellulose methylcellulose', 'cetirizine pseudoephedrine', 'cetrimide chlorhexidine', 'cetrimide dimethicone', 'cetrimide lidocaine', 'cetrimides chlorhexidine', 'cetrimonium chlorhexidine', 'cetylpyridinium diphenhydramine', 'cetylpyridinium domiphen', 'cetylpyridinium dyclonine', 'cetylpyridinium lidocaine', 'cetylpyridinium menthol', 'cetylpyridinium pholcodine', 'cetylpyridinium tyrothricin', 'charcoal simethicone', 'chenodeoxycholate ursodeoxycholate', 'chlophedianol chlorcyclizine', 'chlophedianol dexbrompheniramine', 'chlophedianol guaifenesin', 'chlophedianol pseudoephedrine', 'chlophedianol pyrilamine', 'chlophedianol thonzylamine', 'chlophedianol triprolidine', 'chloramphenicol collagenase', 'chloramphenicol dexamethasone', 'chloramphenicol hydrocortisone', 'chloramphenicol ictasol', 'chloramphenicol idoxuridine', 'chloramphenicol naphazoline', 'chloramphenicol neomycin', 'chloramphenicol oxyphenbutazone', 'chloramphenicol prednisolone', 'chloramphenicol prednisone', 'chlorcyclizine codeine', 'chlorcyclizine hydrocortisone', 'chlorcyclizine phenylephrine', 'chlorcyclizine pseudoephedrine', 'chlordiazepoxide clidinium', 'chlordiazepoxide desipramine', 'chlordiazepoxide methscopolamine', 'chlordiazepoxide pentaerythritol', 'chlorhexidine chlorobutanol', 'chlorhexidine climbazole', 'chlorhexidine dexpanthenol', 'chlorhexidine ethanol', 'chlorhexidine felypressin', 'chlorhexidine glycerin', 'chlorhexidine hydrocortisone', 'chlorhexidine ketoconazole', 'chlorhexidine lidocaine', 'chlorhexidine miconazole', 'chlorhexidine neomycin', 'chlorhexidine phenol', 'chlorhexidine phenylephrine', 'chlorhexidine simethicone', 'chlorhexidine tetracaine', 'chlorhexidine tolnaftate', 'chlormadinone mestranol', 'chlormezanone dipyrone', 'chlorobutanol pyrogallol', 'chlorocresol clorophene', 'chlorophyllin thymol', 'chloroquine primaquine', 'chloroquine proguanil', 'chlorotheophylline diphenhydramine', 'chlorothiazide methyldopa', 'chlorothiazide reserpine', 'chloroxylenol ethanol', 'chloroxylenol ketoconazole', 'chloroxylenol lidocaine', 'chloroxylenol menthol', 'chloroxylenol petrolatum', 'chloroxylenol pramoxine', 'chloroxylenol triclosan', 'chloroxylenol undecylenate', 'chlorpheniramine codeine', 'chlorpheniramine dextromethorphan', 'chlorpheniramine ephedrine', 'chlorpheniramine guaifenesin', 'chlorpheniramine hydrocodone', 'chlorpheniramine methscopolamine', 'chlorpheniramine phenylephrine', 'chlorpheniramine phenylpropanolamine', 'chlorpheniramine pseudoephedrine', 'chlorpheniramine pyrilamine', 'chlorpromazine dipyrone', 'chlorpropamide metformin', 'chlorpropamide phenformin', 'chlorquinaldol diflucortolone', 'chlorquinaldol hydrocortisone', 'chlorquinaldol promestriene', 'chlortetracycline triamcinolone', 'chlorthalidone clonidine', 'chlorthalidone metoprolol', 'chlorthalidone oxprenolol', 'chlorthalidone reserpine', 'chlorthalidone triamterene', 'chlorzoxazone clonixin', 'chlorzoxazone flufenamate', 'chlorzoxazone ibuprofen', 'chlorzoxazone ketoprofen', 'chlorzoxazone piroxicam', 'cholecalciferol glucosamine', 'cholecalciferol glucose', 'cholecalciferol inulin', 'cholecalciferol levocarnitine', 'cholecalciferol menatetrenone', 'choline cysteine', 'choline dexpanthenol', 'choline diphenhydramine', 'choline glycerin', 'choline inositol', 'choline methionine', 'choline procaine', 'choline thiamine', 'chymosin lactase', 'chymotrypsin trypsin', 'cilastatin imipenem', 'cilazapril hydrochlorothiazide', 'cinnarizine dihydroergocristine', 'cinnarizine dihydroergotamine', 'cinnarizine dimenhydrinate', 'cinnarizine heptaminol', 'cinnarizine vincamine', 'cinnarizine xanthinol', 'ciprofloxacin dexamethasone', 'ciprofloxacin fluocinolone', 'ciprofloxacin hydrocortisone', 'cisapride simethicone', 'citicoline nimodipine', 'citiolone silymarin', 'clavulanate ticarcillin', 'clemastine clocortolone', 'clemastine dexamethasone', 'clemastine phenylpropanolamine', 'clindamycin glucose', 'clindamycin tretinoin', 'clioquinol dexamethasone', 'clioquinol flumethasone', 'clioquinol fluocinolone', 'clioquinol fluocinonide', 'clioquinol hydrocortisone', 'clioquinol phthalylsulfathiazole', 'clioquinol triamcinolone', 'clobetasone neomycin', 'clobutinol metaproterenol', 'clofexamide clofezone', 'clonidine cyclothiazide', 'clonixin cyclobenzaprine', 'clonixin ergotamine', 'clonixin propinox', 'clonixin scopolamine', 'clopamide pindolol', 'clopamide reserpine', 'clorazepate domperidone', 'clorazepate mazindol', 'clorazepate sulpiride', 'clorsulon ivermectin', 'clostebol neomycin', 'clotrimazole dexamethasone', 'clotrimazole hexamidine', 'clotrimazole hydrocortisone', 'clotrimazole urea', 'cobamamide cyproheptadine', 'cobicistat darunavir', 'cocaine epinephrine', 'cocaine homatropine', 'codeine diclofenac', 'codeine diphenhydramine', 'codeine ephedrine', 'codeine ethylmorphine', 'codeine guaiacolsulfonate', 'codeine guaifenesin', 'codeine ibuprofen', 'codeine kaolin', 'codeine papaverine', 'codeine phenylephrine', 'codeine potassium', 'codeine promethazine', 'codeine propyphenazone', 'codeine pseudoephedrine', 'codeine pyrilamine', 'colchicine podophyllin', 'colchicine probenecid', 'colistin furazolidone', 'collagen tretinoin', 'conivaptan glucose', 'coumarin rutin', 'coumarin troxerutin', 'cresol formaldehyde', 'cromolyn xylometazoline', 'crotamiton fluocinolone', 'crotamiton hydrocortisone', 'cryptenamine methyclothiazide', 'cyclamate saccharin', 'cyclandelate etofylline', 'cyclizine dipipanone', 'cyclizine morphine', 'cycloadiphenine propyphenazone', 'cyclobenzaprine nimesulide', 'cyclomethycaine diphenhydramine', 'cyclonium ibuprofen', 'cyclopenthiazide oxprenolol', 'cyclopentolate phenylephrine', 'cyclophosphamide mannitol', 'cyclothiazide triamterene', 'cyproheptadine dexamethasone', 'cysteine methionine', 'cytarabine daunorubicin', 'dalfopristin quinupristin', 'dalteparin dihydroergotamine', 'danthron docusate', 'danthron pantothenate', 'dapagliflozin metformin', 'dapagliflozin saxagliptin', 'dapsone pyrimethamine', 'daratumumab hyaluronidase', 'deanol heptaminol', 'dehydrocholate docusate', 'dehydrocholate homatropine', 'dehydrocholate papaverine', 'dehydrosanol triamterene', 'demelverin trihexyphenidyl', 'deoxyribonucleases plasmin', 'dequalinium dibunate', 'dequalinium hexetidine', 'dequalinium tetracaine', 'dequalinium tyrothricin', 'deserpidine hydrochlorothiazide', 'deserpidine methyclothiazide', 'desloratadine pseudoephedrine', 'dexamethasone hypromellose', 'dexamethasone indomethacin', 'dexamethasone lidocaine', 'dexamethasone neomycin', 'dexamethasone oxytetracycline', 'dexamethasone phenylephrine', 'dexamethasone terfenadine', 'dexamethasone theophylline', 'dexamethasone tobramycin', 'dexamethasone tramazoline', 'dexbrompheniramine phenylephrine', 'dexbrompheniramine pseudoephedrine', 'dexbrompheniramine pyrilamine', 'dexchlorpheniramine phenylephrine', 'dexchlorpheniramine pseudoephedrine', 'dexmethylphenidate serdexmethylphenidate', 'dexpanthenol procaine', 'dextran phenylbutazone', 'dextromethorphan diphenhydramine', 'dextromethorphan doxylamine', 'dextromethorphan ephedrine', 'dextromethorphan guaiacolsulfonate', 'dextromethorphan guaifenesin', 'dextromethorphan hexylresorcinol', 'dextromethorphan menthol', 'dextromethorphan methoxyphenamine', 'dextromethorphan phenylephrine', 'dextromethorphan phenylpropanolamine', 'dextromethorphan promethazine', 'dextromethorphan pseudoephedrine', 'dextromethorphan pyrilamine', 'dextromethorphan quinidine', 'dextromethorphan triprolidine', 'diazepam fenproporex', 'diazepam hyoscyamine', 'diazepam isopropamide', 'diazepam octylonium', 'diazepam scopolamine', 'diazepam sulpiride', 'dibucaine hydrocortisone', 'dibucaine phenylbutazone', 'dibucaine policresulen', 'dibucaine prednisolone', 'dibunate guaiacolsulfonate', 'dibunate guaifenesin', 'dichlorodifluoromethane trichlorofluoromethane', 'dichlorodifluoromethane trichlorotrifluoroethane', 'diclofenac fluorouracil', 'diclofenac misoprostol', 'diclofenac pridinol', 'diclofenac troxerutin', 'dicyclomine phenobarbital', 'dienogest estradiol', 'diethylstilbestrol methyltestosterone', 'diflucortolone isoconazole', 'dihydralazine oxprenolol', 'dihydralazine propranolol', 'dihydrocodeine guaifenesin', 'dihydrocodeine phenylephrine', 'dihydrocodeine phenyltoloxamine', 'dihydroergocristine lomifylline', 'dihydroergotamine etilefrine', 'dihydroergotamine propyphenazone', 'dihydroergotamine troxerutin', 'diisopromine sorbitol', 'di-isopropylammonium procaine', 'diloxanide metronidazole', 'diltiazem enalapril', 'diltiazem hydrochlorothiazide', 'dimenhydrinate niacin', 'dimethicone glycerin', 'dimethicone lanolin', 'dimethicone menthol', 'dimethicone methylnicotinate', 'dimethicone petrolatum', 'dimethicone pipenzolate', 'dimethicone pramoxine', 'dimethicone triclosan', 'dimethindene phenylephrine', 'diosmin hesperidin', 'diperodon hydrocortisone', 'diphenhydramine guaifenesin', 'diphenhydramine hydrocortisone', 'diphenhydramine ibuprofen', 'diphenhydramine levomenthol', 'diphenhydramine lidocaine', 'diphenhydramine menthol', 'diphenhydramine methaqualone', 'diphenhydramine naphazoline', 'diphenhydramine naproxen', 'diphenhydramine niacin', 'diphenhydramine pentaerythritol', 'diphenhydramine phenol', 'diphenhydramine phenylephrine', 'diphenhydramine pramoxine', 'diphenhydramine pseudoephedrine', 'diphenhydramine pyrilamine', 'diphenhydramine resorcinol', 'diphenhydramine tripelennamine', 'dipivefrin levobunolol', 'dipropizine guaifenesin', 'dipyrone homatropine', 'dipyrone papaverine', 'dipyrone pramiverine', 'dipyrone propinox', 'dipyrone propoxyphene', 'dipyrone scopolamine', 'dipyrone tiemonium', 'dipyrone trospium', 'docosahexaenoate eicosapentaenoate', 'docosahexaenoate phosphatidylserine', 'docusate glycerin', 'docusate phenolphthalein', 'docusate piperazine', 'docusate sorbitol', 'docusate spermaceti', 'dolutegravir lamivudine', 'dolutegravir rilpivirine', 'domiphen lidocaine', 'domperidone ranitidine', 'domperidone simethicone', 'donepezil memantine', 'dorzolamide timolol', 'doxylamine phenylephrine', 'doxylamine pseudoephedrine', 'doxylamine pyridoxine', 'droperidol fentanyl', 'drospirenone estetrol', 'drospirenone estradiol', 'dutasteride tamsulosin', 'dyclonine glycerin', 'dyclonine menthol', 'dyclonine phenol', 'dydrogesterone estradiol', 'dyphylline guaifenesin', 'econazole hydrocortisone', 'econazole triamcinolone', 'elbasvir grazoprevir', 'emodepside praziquantel', 'empagliflozin linagliptin', 'empagliflozin metformin', 'enalapril felodipine', 'enalapril hydrochlorothiazide', 'ephedrine ethylmorphine', 'ephedrine guaifenesin', 'ephedrine phenobarbital', 'ephedrine pholcodine', 'ephedrine secobarbital', 'ephedrine theophylline', 'epinephrine etidocaine', 'epinephrine fluorouracil', 'epinephrine guanethidine', 'epinephrine lidocaine', 'epinephrine mepivacaine', 'epinephrine pilocarpine', 'epinephrine prilocaine', 'eprinomectin praziquantel', 'eprosartan hydrochlorothiazide', 'ergonovine oxytocin', 'ergotamine propyphenazone', 'ertugliflozin metformin', 'ertugliflozin sitagliptin', 'erythromycin isotretinoin', 'erythromycin sulfisoxazole', 'erythromycin tretinoin', 'escin nylidrin', 'esomeprazole naproxen', 'estradiol estriol', 'estradiol estrone', 'estradiol fluprednidene', 'estradiol hexachlorophene', 'estradiol levonorgestrel', 'estradiol medroxyprogesterone', 'estradiol norethindrone', 'estradiol norgestimate', 'estradiol oxytetracycline', 'estradiol prasterone', 'estradiol prednisolone', 'estradiol progesterone', 'estradiol testosterone', 'estradiol trenbolone', 'estradiol tyrothricin', 'estrogens testosterone', 'estrone progesterone', 'estrone testosterone', 'estropipate medroxyprogesterone', 'ethacridine lidocaine', 'ethambutol isoniazid', 'ethamivan hexobendine', 'ethanol glucose', 'ethanol lidocaine', 'ethanol menthol', 'ethanol povidone-iodine', 'ethanol resorcinol', 'ethanol triclosan', 'ethanolamine framycetin', 'ethosuximide quinacrine', 'ethynodiol mestranol', 'ethynodiol quinestrol', 'etofenamate niacin', 'etofylline theophylline', 'eucalyptol thymol', 'eugenol guaiacol', 'ezetimibe rosuvastatin', 'ezetimibe simvastatin', 'famotidine ibuprofen', 'felodipine metoprolol', 'felodipine ramipril', 'felypressin prilocaine', 'fenbutrazate phenmetrazine', 'fenofibrate pantethine', 'fenofibrate simvastatin', 'fentanyl ropivacaine', 'fexofenadine pseudoephedrine', 'fibrinogen thrombin', 'finasteride tadalafil', 'flavoxate propyphenazone', 'florfenicol flunixin', 'florfenicol sulfacetamide', 'flumethasone liothyronine', 'flumethasone neomycin', 'flunarizine nicergoline', 'flunixin oxytetracycline', 'fluocinolone lidocaine', 'fluocinolone neomycin', 'fluocinonide neomycin', 'fluocortolone lidocaine', 'fluorescein proparacaine', 'fluorometholone neomycin', 'fluorometholone sulfacetamide', 'fluorometholone tetrahydrozoline', 'fluorometholone tobramycin', 'fluoxetine olanzapine', 'fluphenazine nortriptyline', 'fluprednidene miconazole', 'flurandrenolide neomycin', 'fluticasone salmeterol', 'fluticasone vilanterol', 'formaldehyde glutaral', 'formaldehyde lidocaine', 'formaldehyde methanol', 'formoterol glycopyrronium', 'formoterol mometasone', 'fosinopril hydrochlorothiazide', 'framycetin gramicidin', 'framycetin hydrocortisone', 'framycetin naphazoline', 'furosemide penbutolol', 'furosemide potassium', 'furosemide spironolactone', 'furosemide triamterene', 'fusidate hydrocortisone', 'gamma-linolenate linoleate', 'gentamicin hydrocortisone', 'gentamicin prednisolone', 'glecaprevir pibrentasvir', 'glimepiride pioglitazone', 'glimepiride rosiglitazone', 'glipizide metformin', 'glucosamine methylsulfonylmethane', 'glucosamine potassium', 'glucosamine S-adenosylmethionine', 'glucose lidocaine', 'glutamine tyrosine', 'glyburide metformin', 'glyburide phenformin', 'glycerin hypromellose', 'glycerin lidocaine', 'glycerin lysine', 'glycerin naphazoline', 'glycerin paraffin', 'glycerin petrolatum', 'glycerin phenol', 'glycerin phenylephrine', 'glycerin pramoxine', 'glycerin thymol', 'glycine licorice', 'glycolate lactate', 'glycolate pyruvate', 'glycopyrronium indacaterol', 'glycopyrronium neostigmine', 'glycopyrronium phenobarbital', 'guaiacolsulfonate guaifenesin', 'guaiacolsulfonate hydrocodone', 'guaiacolsulfonate morphine', 'guaiacolsulfonate phenylephrine', 'guaiacolsulfonate zipeprol', 'guaifenesin hydrocodone', 'guaifenesin hydromorphone', 'guaifenesin menthol', 'guaifenesin noscapine', 'guaifenesin oxtriphylline', 'guaifenesin phenylephrine', 'guaifenesin phenylpropanolamine', 'guaifenesin pseudoephedrine', 'guaifenesin pyrilamine', 'guaifenesin terbutaline', 'guaifenesin theophylline', 'guanethidine hydrochlorothiazide', 'halcinonide neomycin', 'halobetasol tazarotene', 'halometasone triclosan', 'helium oxygen', 'hematoporphyrin procaine', 'heparinoids hyaluronidase', 'heparinoids laureth-4', 'heparinoids polidocanol', 'hesperidin rutin', 'hexylresorcinol menthol', 'hexylresorcinol polidocanol', 'histamine menthol', 'homatropine hydrocodone', 'homatropine ibuprofen', 'homatropine phenobarbital', 'homatropine scopolamine', 'homatropine simethicone', 'hyaluronate lidocaine', 'hyaluronate mecobalamin', 'hyaluronate pilocarpine', 'hyaluronate urea', 'hyaluronidase rituximab', 'hyaluronidase trastuzumab', 'hydralazine hydrochlorothiazide', 'hydralazine reserpine', 'hydrochlorothiazide irbesartan', 'hydrochlorothiazide labetalol', 'hydrochlorothiazide lisinopril', 'hydrochlorothiazide losartan', 'hydrochlorothiazide mepindolol', 'hydrochlorothiazide methyldopa', 'hydrochlorothiazide metoprolol', 'hydrochlorothiazide moexipril', 'hydrochlorothiazide olmesartan', 'hydrochlorothiazide pindolol', 'hydrochlorothiazide propranolol', 'hydrochlorothiazide quinapril', 'hydrochlorothiazide ramipril', 'hydrochlorothiazide reserpine', 'hydrochlorothiazide sotalol', 'hydrochlorothiazide spironolactone', 'hydrochlorothiazide telmisartan', 'hydrochlorothiazide timolol', 'hydrochlorothiazide triamterene', 'hydrochlorothiazide valsartan', 'hydrochlorothiazide verapamil', 'hydrocodone ibuprofen', 'hydrocodone phenylephrine', 'hydrocodone phenylpropanolamine', 'hydrocodone phenyltoloxamine', 'hydrocodone pseudoephedrine', 'hydrocortisone ictasol', 'hydrocortisone iodoquinol', 'hydrocortisone ketoconazole', 'hydrocortisone lactate', 'hydrocortisone lidocaine', 'hydrocortisone miconazole', 'hydrocortisone neomycin', 'hydrocortisone nystatin', 'hydrocortisone oxytetracycline', 'hydrocortisone phenol', 'hydrocortisone pramoxine', 'hydrocortisone sulfacetamide', 'hydrocortisone tretinoin', 'hydroflumethiazide reserpine', 'hydroflumethiazide spironolactone', 'hydrotalcite simethicone', 'hydroxocobalamin ibuprofen', 'hydroxyzine labetalol', 'hydroxyzine meclizine', 'hydroxyzine oxyphencyclimine', 'hydroxyzine pentaerythritol', 'hyoscyamine methenamine', 'hyoscyamine papaverine', 'hyoscyamine phenobarbital', 'hyoscyamine phenyltoloxamine', 'hypromellose naphazoline', 'hypromellose phenylephrine', 'hypromellose tetrahydrozoline', 'ibuprofen levomenthol', 'ibuprofen lidocaine', 'ibuprofen menthol', 'ibuprofen methocarbamol', 'ibuprofen niacin', 'ibuprofen oxycodone', 'ibuprofen phenylephrine', 'ibuprofen pseudoephedrine', 'ibuprofen pseudoisocytidine', 'ibuprofen scopolamine', 'ibuprofen tolperisone', 'idebenone nimodipine', 'idoxuridine prednisolone', 'ifosfamide mesna', 'imidacloprid moxidectin', 'indapamide perindopril', 'indomethacin methocarbamol', 'indomethacin polidocanol', 'indomethacin thiamine', 'inositol niacin', 'iodine lactate', 'iodoquinol metronidazole', 'iodoquinol simethicone', 'isomyrtol pholcodine', 'isoniazid rifampin', 'isopropamide prochlorperazine', 'isopropamide trifluoperazine', 'isoproterenol phenylephrine', 'isothipendyl pipazethate', 'itraconazole secnidazole', 'ivacaftor lumacaftor', 'ivacaftor tezacaftor', 'ivermectin praziquantel', 'ivermectin pyrantel', 'kaolin pectin', 'ketoconazole phytosphingosine', 'ketoconazole secnidazole', 'ketoprofen lidocaine', 'ketoprofen tulathromycin', 'ketorolac phenylephrine', 'ketotifen theophylline', 'lactase rennet', 'lactate pramoxine', 'lactate urea', 'lamivudine stavudine', 'lamivudine zidovudine', 'lanolin petrolatum', 'lanolin silicones', 'latanoprost netarsudil', 'latanoprost timolol', 'lauromacrogols urea', 'ledipasvir sofosbuvir', 'leucine phenylalanine', 'levocarnitine ubidecarenone', 'levocetirizine loratadine', 'levomenthol lidocaine', 'levonordefrin mepivacaine', 'levonorgestrel promestriene', 'levothyroxine liothyronine', 'licorice undecylenate', 'lidocaine lindane', 'lidocaine menthol', 'lidocaine methylbenzethonium', 'lidocaine methylprednisolone', 'lidocaine neomycin', 'lidocaine nitromersol', 'lidocaine norepinephrine', 'lidocaine oxytetracycline', 'lidocaine petrolatum', 'lidocaine phenol', 'lidocaine phenylbutazone', 'lidocaine phenylephrine', 'lidocaine povidone-iodine', 'lidocaine pramoxine', 'lidocaine prilocaine', 'lidocaine ruscogenin', 'lidocaine tetracaine', 'lidocaine triamcinolone', 'lidocaine tribenoside', 'lidocaine tyrothricin', 'linagliptin metformin', 'lincomycin niacin', 'linoleate ricinoleate', 'lipase simethicone', 'liver,desiccated phenobarbital', 'loperamide neomycin', 'loperamide simethicone', 'lopinavir ritonavir', 'loratadine povidone', 'loratadine pseudoephedrine', 'lovastatin niacin', 'lutein zeaxanthin', 'lyapolate niacin', 'lysine phenylalanine', 'lysine proline', 'magaldrate simethicone', 'mannitol mecobalamin', 'mannitol menthol', 'mannitol phenobarbital', 'mannitol sorbitol', 'mazindol tiratricol', 'mebendazole tinidazole', 'meclizine niacin', 'mefruside methyldopa', 'mefruside nifedipine', 'mefruside reserpine', 'melatonin pyridoxine', 'melatonin theanine', 'melatonin threonine', 'melatonin tryptophan', 'melitracen periciazine', 'menthol panthenol', 'menthol pectin', 'menthol petrolatum', 'menthol phenol', 'menthol pramoxine', 'menthol simethicone', 'menthol sulfur', 'meperidine promethazine', 'mephenesin phenylbutazone', 'mephobarbital phenytoin', 'mepivacaine norepinephrine', 'mepivacaine polidocanol', 'meprobamate pentaerythritol', 'meprobamate theophylline', 'meprobamate tridihexethyl', 'meprobamate trihexyphenidyl', 'mequinol tretinoin', 'meropenem vaborbactam', 'mersalyl theophylline', 'mestranol norethindrone', 'mestranol norethynodrel', 'metformin pioglitazone', 'metformin repaglinide', 'metformin ropinirole', 'metformin rosiglitazone', 'metformin saxagliptin', 'metformin sitagliptin', 'methacycline muramidase', 'methapyrilene pyrilamine', 'methenamine phenazopyridine', 'methenamine sulfur', 'methionine silymarin', 'methocarbamol methylnicotinate', 'methscopolamine phenylephrine', 'methscopolamine pseudoephedrine', 'methyclothiazide pargyline', 'methyclothiazide reserpine', 'methyclothiazide triamterene', 'methylparaben propylparaben', 'methylprednisolone neomycin', 'methylsulfonylmethane molybdenum', 'metoclopramide pancreatin', 'metoclopramide simethicone', 'metolazone triamterene', 'metoprolol nifedipine', 'metronidazole nystatin', 'metronidazole scopolamine', 'metronidazole spiramycin', 'miconazole tinidazole', 'miconazole triclosan', 'misoprostol naproxen', 'morphine naltrexone', 'moxidectin praziquantel', 'mucins xylitol', 'myrtol oxytetracycline', 'naftazone rutin', 'nalidixate phenazopyridine', 'naloxone oxycodone', 'naloxone pentazocine', 'naloxone tilidine', 'naltrexone oxycodone', 'naphazoline neomycin', 'naphazoline pheniramine', 'naphazoline phenylephrine', 'naproxen pseudoephedrine', 'naproxen sumatriptan', 'naproxen thiamine', 'naratriptan sumatriptan', 'nebivolol valsartan', 'neomycin prednisolone', 'neomycin triamcinolone', 'neostigmine pilocarpine', 'netupitant palonosetron', 'niacin niacinamide', 'niacin pantethine', 'niacin pentaerythritol', 'niacin pentifylline', 'niacin pentylenetetrazole', 'niacin pheniramine', 'niacin riboflavin', 'niacin simvastatin', 'niacinamide potassium', 'niacinamide prednisolone', 'niacinamide prothionamide', 'niacinamide riboflavin', 'nicardipine pyrithioxin', 'nifurzide pectin', 'nimesulide orphenadrine', 'nitrofurantoin sulfadiazine', 'nitrofurantoin sulfamethizole', 'nitrofurantoin tetracaine', 'nitrogen oxygen', 'norfenefrine octodrine', 'norfenefrine pentylenetetrazole', 'norfenefrine pholedrine', 'normethadone oxilofrine', 'nortriptyline perphenazine', 'noscapine theophylline', 'nystatin oxytetracycline', 'nystatin tetracycline', 'nystatin tolnaftate', 'nystatin triamcinolone', 'olanzapine samidorphan', 'oleate polidocanol', 'olodaterol tiotropium', 'ormetoprim sulfadimethoxine', 'orphenadrine piroxicam', 'orphenadrine propyphenazone', 'ouabain phenobarbital', 'oxeladin reproterol', 'oxygen xenon-133', 'oxymetazoline tetracaine', 'oxyphencyclimine phenobarbital', 'oxyquinoline prednisolone', 'oxyquinoline tetracaine', 'oxytetracycline prednisolone', 'pancreatin simethicone', 'papain urea', 'papaveretum scopolamine', 'penbutolol piretanide', 'pentaerythritol phenobarbital', 'pentaerythritol propranolol', 'pentobarbital phenytoin', 'petrolatum resorcinol', 'phenazopyridine sulfamethizole', 'phenazopyridine sulfamethoxazole', 'phenazopyridine sulfanilylurea', 'phenazopyridine sulfisoxazole', 'phenazopyridine terizidone', 'pheniramine phenylephrine', 'phenobarbital phenytoin', 'phenobarbital pipenzolate', 'phenobarbital propantheline', 'phenol resorcinol', 'phentermine topiramate', 'phenylbutazone salicylamide', 'phenylephrine pramoxine', 'phenylephrine prednisolone', 'phenylephrine promethazine', 'phenylephrine pyrilamine', 'phenylephrine scopolamine', 'phenylephrine sulfacetamide', 'phenylephrine thonzylamine', 'phenylephrine triprolidine', 'phenylephrine tropicamide', 'phloroglucinol trimethobenzamide', 'phloroglucinol trimethoxybenzene', 'phloroglucinol trimethylphloroglucinol', 'pholcodine pseudoephedrine', 'phosphorus potassium', 'p-hydroxyamphetamine tropicamide', 'physostigmine pilocarpine', 'pilocarpine timolol', 'pipenzolate simethicone', 'piperacillin tazobactam', 'pirenzepine ranitidine', 'piretanide ramipril', 'piroxicam prednisone', 'polidocanol urea', 'polythiazide prazosin', 'polythiazide reserpine', 'povidone tetrahydrozoline', 'praziquantel pyrantel', 'prednisolone rifamycins', 'prednisolone sulfacetamide', 'prednisolone trimeprazine', 'pridinol rofecoxib', 'proglumide sulpiride', 'promethazine pseudoephedrine', 'pseudoephedrine pyrilamine', 'pseudoephedrine terfenadine', 'pseudoephedrine tripelennamine', 'pseudoephedrine triprolidine', 'pyridoxal tyrosine', 'pyrimethamine sulfadiazine', 'pyrimethamine sulfadoxine', 'pyrvinium thiabendazole', 'quercetin resveratrol', 'quinethazone reserpine', 'quinidine verapamil', 'reserpine trichlormethiazide', 'reserpine xipamide', 'resorcinol sulfur', 'riboflavin ubidecarenone', 'rifampin trimethoprim', 'ruscogenin trimebutine', 'rutin vincamine', 'sacubitril valsartan', 'sarolaner selamectin', 'silicones simethicone', 'silicones starch', 'simvastatin sitagliptin', 'sofosbuvir velpatasvir', 'streptodornase streptokinase', 'sulfacetamide sulfur', 'sulfadiazine tetroxoprim', 'sulfadiazine trimethoprim', 'sulfaethidole sulfamethizole', 'sulfalene trimethoprim', 'sulfamerazine trimethoprim', 'sulfamethazine trimethoprim', 'sulfamethoxazole trimethoprim', 'sulfametrole trimethoprim', 'sulfamoxole trimethoprim', 'tegafur uracil', 'terbutaline theophylline', 'tetracaine tricarbaurinium', 'tetracaine tyrothricin', 'thiamine thioctate', 'tiletamine zolazepam', 'tipiracil trifluridine', 'tolnaftate triacetin', 'tolnaftate triclosan', 'trandolapril verapamil', 'tranylcypromine trifluoperazine', 'tretinoin urea', 'triamcinolone urea', 'triamterene xipamide', 'triclosan undecylenate', 'troxerutin vincamine', 'umeclidinium vilanterol']\n"
     ]
    }
   ],
   "source": [
    "#filter out only 2 ingrdient medications\n",
    "two_string_list = []\n",
    "for text in df_two_strings.A:\n",
    "    number = len(text.split()) #split by default does it by space, and strip removes spaces at both ends of the string\n",
    "    if number == 2:\n",
    "        #this string contains less than two words\n",
    "        two_string_list.append(text)\n",
    "        \n",
    "#print list\n",
    "print(two_string_list)"
   ]
  },
  {
   "cell_type": "code",
   "execution_count": 17,
   "id": "1cddbbef-168e-4e3f-b36a-65b1a3daef51",
   "metadata": {},
   "outputs": [
    {
     "data": {
      "text/plain": [
       "0         17-alpha-hydroxyprogesterone estradiol\n",
       "1                      4-cymene chlorproethazine\n",
       "2                  5-hydroxytryptophan melatonin\n",
       "3       5-methyl-8-hydroxyquinoline tilbroquinol\n",
       "4                            abacavir lamivudine\n",
       "                          ...                   \n",
       "1427                          triamcinolone urea\n",
       "1428                        triamterene xipamide\n",
       "1429                      triclosan undecylenate\n",
       "1430                        troxerutin vincamine\n",
       "1431                     umeclidinium vilanterol\n",
       "Length: 1432, dtype: object"
      ]
     },
     "execution_count": 17,
     "metadata": {},
     "output_type": "execute_result"
    }
   ],
   "source": [
    "#Convert the list to a series or array and then assign:\n",
    "\n",
    "se = pd.Series(two_string_list)\n",
    "se"
   ]
  },
  {
   "cell_type": "code",
   "execution_count": 19,
   "id": "6dee0b2f-02b1-42b8-9f75-e42d5ee7b1cc",
   "metadata": {},
   "outputs": [
    {
     "data": {
      "text/html": [
       "<div>\n",
       "<style scoped>\n",
       "    .dataframe tbody tr th:only-of-type {\n",
       "        vertical-align: middle;\n",
       "    }\n",
       "\n",
       "    .dataframe tbody tr th {\n",
       "        vertical-align: top;\n",
       "    }\n",
       "\n",
       "    .dataframe thead th {\n",
       "        text-align: right;\n",
       "    }\n",
       "</style>\n",
       "<table border=\"1\" class=\"dataframe\">\n",
       "  <thead>\n",
       "    <tr style=\"text-align: right;\">\n",
       "      <th></th>\n",
       "      <th>2_string_meds</th>\n",
       "    </tr>\n",
       "  </thead>\n",
       "  <tbody>\n",
       "    <tr>\n",
       "      <th>0</th>\n",
       "      <td>17-alpha-hydroxyprogesterone estradiol</td>\n",
       "    </tr>\n",
       "    <tr>\n",
       "      <th>1</th>\n",
       "      <td>4-cymene chlorproethazine</td>\n",
       "    </tr>\n",
       "    <tr>\n",
       "      <th>2</th>\n",
       "      <td>5-hydroxytryptophan melatonin</td>\n",
       "    </tr>\n",
       "    <tr>\n",
       "      <th>3</th>\n",
       "      <td>5-methyl-8-hydroxyquinoline tilbroquinol</td>\n",
       "    </tr>\n",
       "    <tr>\n",
       "      <th>4</th>\n",
       "      <td>abacavir lamivudine</td>\n",
       "    </tr>\n",
       "  </tbody>\n",
       "</table>\n",
       "</div>"
      ],
      "text/plain": [
       "                              2_string_meds\n",
       "0    17-alpha-hydroxyprogesterone estradiol\n",
       "1                 4-cymene chlorproethazine\n",
       "2             5-hydroxytryptophan melatonin\n",
       "3  5-methyl-8-hydroxyquinoline tilbroquinol\n",
       "4                       abacavir lamivudine"
      ]
     },
     "execution_count": 19,
     "metadata": {},
     "output_type": "execute_result"
    }
   ],
   "source": [
    "#make new df for filter\n",
    "\n",
    "df_filter_2_strings = pd.DataFrame(se,columns=['2_string_meds'])\n",
    "\n",
    "df_filter_2_strings.head()"
   ]
  },
  {
   "cell_type": "code",
   "execution_count": 20,
   "id": "27ec7c10-183e-4a71-8479-28a0e6a83b45",
   "metadata": {},
   "outputs": [
    {
     "data": {
      "text/plain": [
       "<bound method DataFrame.count of                                  2_string_meds\n",
       "0       17-alpha-hydroxyprogesterone estradiol\n",
       "1                    4-cymene chlorproethazine\n",
       "2                5-hydroxytryptophan melatonin\n",
       "3     5-methyl-8-hydroxyquinoline tilbroquinol\n",
       "4                          abacavir lamivudine\n",
       "...                                        ...\n",
       "1427                        triamcinolone urea\n",
       "1428                      triamterene xipamide\n",
       "1429                    triclosan undecylenate\n",
       "1430                      troxerutin vincamine\n",
       "1431                   umeclidinium vilanterol\n",
       "\n",
       "[1432 rows x 1 columns]>"
      ]
     },
     "execution_count": 20,
     "metadata": {},
     "output_type": "execute_result"
    }
   ],
   "source": [
    "#count number of 2 med strings\n",
    "df_filter_2_strings.count"
   ]
  },
  {
   "cell_type": "markdown",
   "id": "136c7bc9-91f4-4b88-9c9d-a1c4bdf3c415",
   "metadata": {},
   "source": [
    "### Before running reversal script: Output list/text file of 2 ingredient meds only"
   ]
  },
  {
   "cell_type": "code",
   "execution_count": 21,
   "id": "4598fd1c-37e8-408d-afff-0778064aab4f",
   "metadata": {},
   "outputs": [],
   "source": [
    "#print to csv\n",
    "df_filter_2_strings.to_csv('2_ingred_RxNorm_Meds',index=False,sep='\\t',encoding='utf-8')"
   ]
  },
  {
   "cell_type": "markdown",
   "id": "15a74942-b846-45bf-bccd-ca68136b20a8",
   "metadata": {},
   "source": [
    "### Run reversal script"
   ]
  },
  {
   "cell_type": "code",
   "execution_count": 22,
   "id": "c977389c-12b0-4905-a5e2-907cc2e49dea",
   "metadata": {},
   "outputs": [
    {
     "data": {
      "text/html": [
       "<div>\n",
       "<style scoped>\n",
       "    .dataframe tbody tr th:only-of-type {\n",
       "        vertical-align: middle;\n",
       "    }\n",
       "\n",
       "    .dataframe tbody tr th {\n",
       "        vertical-align: top;\n",
       "    }\n",
       "\n",
       "    .dataframe thead th {\n",
       "        text-align: right;\n",
       "    }\n",
       "</style>\n",
       "<table border=\"1\" class=\"dataframe\">\n",
       "  <thead>\n",
       "    <tr style=\"text-align: right;\">\n",
       "      <th></th>\n",
       "      <th>2_string_meds</th>\n",
       "      <th>2_Reversed</th>\n",
       "    </tr>\n",
       "  </thead>\n",
       "  <tbody>\n",
       "    <tr>\n",
       "      <th>0</th>\n",
       "      <td>17-alpha-hydroxyprogesterone estradiol</td>\n",
       "      <td>estradiol 17-alpha-hydroxyprogesterone</td>\n",
       "    </tr>\n",
       "    <tr>\n",
       "      <th>1</th>\n",
       "      <td>4-cymene chlorproethazine</td>\n",
       "      <td>chlorproethazine 4-cymene</td>\n",
       "    </tr>\n",
       "    <tr>\n",
       "      <th>2</th>\n",
       "      <td>5-hydroxytryptophan melatonin</td>\n",
       "      <td>melatonin 5-hydroxytryptophan</td>\n",
       "    </tr>\n",
       "    <tr>\n",
       "      <th>3</th>\n",
       "      <td>5-methyl-8-hydroxyquinoline tilbroquinol</td>\n",
       "      <td>tilbroquinol 5-methyl-8-hydroxyquinoline</td>\n",
       "    </tr>\n",
       "    <tr>\n",
       "      <th>4</th>\n",
       "      <td>abacavir lamivudine</td>\n",
       "      <td>lamivudine abacavir</td>\n",
       "    </tr>\n",
       "  </tbody>\n",
       "</table>\n",
       "</div>"
      ],
      "text/plain": [
       "                              2_string_meds  \\\n",
       "0    17-alpha-hydroxyprogesterone estradiol   \n",
       "1                 4-cymene chlorproethazine   \n",
       "2             5-hydroxytryptophan melatonin   \n",
       "3  5-methyl-8-hydroxyquinoline tilbroquinol   \n",
       "4                       abacavir lamivudine   \n",
       "\n",
       "                                 2_Reversed  \n",
       "0    estradiol 17-alpha-hydroxyprogesterone  \n",
       "1                 chlorproethazine 4-cymene  \n",
       "2             melatonin 5-hydroxytryptophan  \n",
       "3  tilbroquinol 5-methyl-8-hydroxyquinoline  \n",
       "4                       lamivudine abacavir  "
      ]
     },
     "execution_count": 22,
     "metadata": {},
     "output_type": "execute_result"
    }
   ],
   "source": [
    "#run reversal script and create new column for 2 ingredient meds only\n",
    "#one way to do this\n",
    "df_filter_2_strings['2_Reversed'] = df_filter_2_strings['2_string_meds'].str.split().apply(lambda x: ' '.join(x[::-1]))\n",
    "\n",
    "df_filter_2_strings.head()"
   ]
  },
  {
   "cell_type": "code",
   "execution_count": 23,
   "id": "98ea6144-4bf3-4259-88b4-d5bd4b463fb9",
   "metadata": {},
   "outputs": [
    {
     "data": {
      "text/plain": [
       "<bound method DataFrame.count of                                  2_string_meds  \\\n",
       "0       17-alpha-hydroxyprogesterone estradiol   \n",
       "1                    4-cymene chlorproethazine   \n",
       "2                5-hydroxytryptophan melatonin   \n",
       "3     5-methyl-8-hydroxyquinoline tilbroquinol   \n",
       "4                          abacavir lamivudine   \n",
       "...                                        ...   \n",
       "1427                        triamcinolone urea   \n",
       "1428                      triamterene xipamide   \n",
       "1429                    triclosan undecylenate   \n",
       "1430                      troxerutin vincamine   \n",
       "1431                   umeclidinium vilanterol   \n",
       "\n",
       "                                    2_Reversed  \n",
       "0       estradiol 17-alpha-hydroxyprogesterone  \n",
       "1                    chlorproethazine 4-cymene  \n",
       "2                melatonin 5-hydroxytryptophan  \n",
       "3     tilbroquinol 5-methyl-8-hydroxyquinoline  \n",
       "4                          lamivudine abacavir  \n",
       "...                                        ...  \n",
       "1427                        urea triamcinolone  \n",
       "1428                      xipamide triamterene  \n",
       "1429                    undecylenate triclosan  \n",
       "1430                      vincamine troxerutin  \n",
       "1431                   vilanterol umeclidinium  \n",
       "\n",
       "[1432 rows x 2 columns]>"
      ]
     },
     "execution_count": 23,
     "metadata": {},
     "output_type": "execute_result"
    }
   ],
   "source": [
    "#count them\n",
    "df_filter_2_strings.count"
   ]
  },
  {
   "cell_type": "markdown",
   "id": "2c4e9c1e-6fbc-43fd-ba68-fc7393ad571e",
   "metadata": {},
   "source": [
    "### Create separate df and then output a file so you can diff them"
   ]
  },
  {
   "cell_type": "code",
   "execution_count": 28,
   "id": "52d35f3b-1cd7-449d-8d36-69438863880b",
   "metadata": {},
   "outputs": [
    {
     "data": {
      "text/html": [
       "<div>\n",
       "<style scoped>\n",
       "    .dataframe tbody tr th:only-of-type {\n",
       "        vertical-align: middle;\n",
       "    }\n",
       "\n",
       "    .dataframe tbody tr th {\n",
       "        vertical-align: top;\n",
       "    }\n",
       "\n",
       "    .dataframe thead th {\n",
       "        text-align: right;\n",
       "    }\n",
       "</style>\n",
       "<table border=\"1\" class=\"dataframe\">\n",
       "  <thead>\n",
       "    <tr style=\"text-align: right;\">\n",
       "      <th></th>\n",
       "      <th>2_Reversed</th>\n",
       "    </tr>\n",
       "  </thead>\n",
       "  <tbody>\n",
       "    <tr>\n",
       "      <th>0</th>\n",
       "      <td>estradiol 17-alpha-hydroxyprogesterone</td>\n",
       "    </tr>\n",
       "    <tr>\n",
       "      <th>1</th>\n",
       "      <td>chlorproethazine 4-cymene</td>\n",
       "    </tr>\n",
       "    <tr>\n",
       "      <th>2</th>\n",
       "      <td>melatonin 5-hydroxytryptophan</td>\n",
       "    </tr>\n",
       "    <tr>\n",
       "      <th>3</th>\n",
       "      <td>tilbroquinol 5-methyl-8-hydroxyquinoline</td>\n",
       "    </tr>\n",
       "    <tr>\n",
       "      <th>4</th>\n",
       "      <td>lamivudine abacavir</td>\n",
       "    </tr>\n",
       "  </tbody>\n",
       "</table>\n",
       "</div>"
      ],
      "text/plain": [
       "                                 2_Reversed\n",
       "0    estradiol 17-alpha-hydroxyprogesterone\n",
       "1                 chlorproethazine 4-cymene\n",
       "2             melatonin 5-hydroxytryptophan\n",
       "3  tilbroquinol 5-methyl-8-hydroxyquinoline\n",
       "4                       lamivudine abacavir"
      ]
     },
     "execution_count": 28,
     "metadata": {},
     "output_type": "execute_result"
    }
   ],
   "source": [
    "#make new df for reversed strings\n",
    "\n",
    "df_filter_2_strings_rev = pd.DataFrame(df_filter_2_strings['2_Reversed'])\n",
    "\n",
    "df_filter_2_strings_rev.head()"
   ]
  },
  {
   "cell_type": "code",
   "execution_count": 29,
   "id": "231e884f-c9b4-46c8-b85e-1fbf167d99af",
   "metadata": {},
   "outputs": [
    {
     "data": {
      "text/plain": [
       "<bound method DataFrame.count of                                     2_Reversed\n",
       "0       estradiol 17-alpha-hydroxyprogesterone\n",
       "1                    chlorproethazine 4-cymene\n",
       "2                melatonin 5-hydroxytryptophan\n",
       "3     tilbroquinol 5-methyl-8-hydroxyquinoline\n",
       "4                          lamivudine abacavir\n",
       "...                                        ...\n",
       "1427                        urea triamcinolone\n",
       "1428                      xipamide triamterene\n",
       "1429                    undecylenate triclosan\n",
       "1430                      vincamine troxerutin\n",
       "1431                   vilanterol umeclidinium\n",
       "\n",
       "[1432 rows x 1 columns]>"
      ]
     },
     "execution_count": 29,
     "metadata": {},
     "output_type": "execute_result"
    }
   ],
   "source": [
    "df_filter_2_strings_rev.count"
   ]
  },
  {
   "cell_type": "markdown",
   "id": "ac00286a-2cd6-4ee1-b6c1-645c34c81702",
   "metadata": {},
   "source": [
    "### Output reversal list to file"
   ]
  },
  {
   "cell_type": "code",
   "execution_count": 30,
   "id": "0ba7a195-11b6-4985-b14e-4d91560ac339",
   "metadata": {},
   "outputs": [],
   "source": [
    "#print to csv\n",
    "df_filter_2_strings_rev.to_csv('2_meds_REVERSED',index=False,sep='\\t',encoding='utf-8')"
   ]
  },
  {
   "cell_type": "code",
   "execution_count": null,
   "id": "b345a662-22f1-437e-9053-20f7c4de1e09",
   "metadata": {},
   "outputs": [],
   "source": []
  },
  {
   "cell_type": "markdown",
   "id": "e2a380f5-4120-4945-92c8-3202683068dd",
   "metadata": {},
   "source": [
    "### View df rxnorm"
   ]
  },
  {
   "cell_type": "code",
   "execution_count": 7,
   "id": "4c0b122c-3b1c-4b82-b87a-4e4a74010b5a",
   "metadata": {},
   "outputs": [
    {
     "data": {
      "text/html": [
       "<div>\n",
       "<style scoped>\n",
       "    .dataframe tbody tr th:only-of-type {\n",
       "        vertical-align: middle;\n",
       "    }\n",
       "\n",
       "    .dataframe tbody tr th {\n",
       "        vertical-align: top;\n",
       "    }\n",
       "\n",
       "    .dataframe thead th {\n",
       "        text-align: right;\n",
       "    }\n",
       "</style>\n",
       "<table border=\"1\" class=\"dataframe\">\n",
       "  <thead>\n",
       "    <tr style=\"text-align: right;\">\n",
       "      <th></th>\n",
       "      <th>RxNorm_Multi_Ingredient_Drugs</th>\n",
       "      <th>A</th>\n",
       "    </tr>\n",
       "  </thead>\n",
       "  <tbody>\n",
       "    <tr>\n",
       "      <th>0</th>\n",
       "      <td>17-alpha-hydroxyprogesterone estradiol</td>\n",
       "      <td>17-alpha-hydroxyprogesterone estradiol</td>\n",
       "    </tr>\n",
       "    <tr>\n",
       "      <th>1</th>\n",
       "      <td>2-phenylphenol chlorocresol clorophene</td>\n",
       "      <td>2-phenylphenol chlorocresol clorophene</td>\n",
       "    </tr>\n",
       "    <tr>\n",
       "      <th>2</th>\n",
       "      <td>4-aminobenzoate salicylic acid</td>\n",
       "      <td>4-aminobenzoate salicylic acid</td>\n",
       "    </tr>\n",
       "    <tr>\n",
       "      <th>3</th>\n",
       "      <td>4-aminobenzoic acid arginine</td>\n",
       "      <td>4-aminobenzoic acid arginine</td>\n",
       "    </tr>\n",
       "    <tr>\n",
       "      <th>4</th>\n",
       "      <td>4-aminobenzoic acid methoxsalen</td>\n",
       "      <td>4-aminobenzoic acid methoxsalen</td>\n",
       "    </tr>\n",
       "  </tbody>\n",
       "</table>\n",
       "</div>"
      ],
      "text/plain": [
       "            RxNorm_Multi_Ingredient_Drugs  \\\n",
       "0  17-alpha-hydroxyprogesterone estradiol   \n",
       "1  2-phenylphenol chlorocresol clorophene   \n",
       "2          4-aminobenzoate salicylic acid   \n",
       "3            4-aminobenzoic acid arginine   \n",
       "4         4-aminobenzoic acid methoxsalen   \n",
       "\n",
       "                                        A  \n",
       "0  17-alpha-hydroxyprogesterone estradiol  \n",
       "1  2-phenylphenol chlorocresol clorophene  \n",
       "2          4-aminobenzoate salicylic acid  \n",
       "3            4-aminobenzoic acid arginine  \n",
       "4         4-aminobenzoic acid methoxsalen  "
      ]
     },
     "execution_count": 7,
     "metadata": {},
     "output_type": "execute_result"
    }
   ],
   "source": [
    "#view\n",
    "df_rxnorm.head()"
   ]
  },
  {
   "cell_type": "markdown",
   "id": "da27dda7-eb5c-4178-9e57-fda5351eb6c8",
   "metadata": {},
   "source": [
    "# 3 ingredient medications"
   ]
  },
  {
   "cell_type": "markdown",
   "id": "246f733a-580e-4b12-ad14-67a37f1135db",
   "metadata": {},
   "source": [
    "### Make separate dataframes based on number of strings - 3 strings only"
   ]
  },
  {
   "cell_type": "code",
   "execution_count": 8,
   "id": "04bcb9af-f019-4a43-86af-ee385217cf06",
   "metadata": {},
   "outputs": [],
   "source": [
    "#make a new df\n",
    "df_three_strings = df_rxnorm['A']"
   ]
  },
  {
   "cell_type": "code",
   "execution_count": 9,
   "id": "5eba58e8-d5ec-46e4-b928-d10b01315647",
   "metadata": {},
   "outputs": [],
   "source": [
    "#make a pandas df\n",
    "df_three_strings = pd.DataFrame(df_three_strings)"
   ]
  },
  {
   "cell_type": "code",
   "execution_count": 10,
   "id": "10d5720c-33d8-41a5-ad3a-2e5e54a678d8",
   "metadata": {},
   "outputs": [
    {
     "data": {
      "text/html": [
       "<div>\n",
       "<style scoped>\n",
       "    .dataframe tbody tr th:only-of-type {\n",
       "        vertical-align: middle;\n",
       "    }\n",
       "\n",
       "    .dataframe tbody tr th {\n",
       "        vertical-align: top;\n",
       "    }\n",
       "\n",
       "    .dataframe thead th {\n",
       "        text-align: right;\n",
       "    }\n",
       "</style>\n",
       "<table border=\"1\" class=\"dataframe\">\n",
       "  <thead>\n",
       "    <tr style=\"text-align: right;\">\n",
       "      <th></th>\n",
       "      <th>A</th>\n",
       "    </tr>\n",
       "  </thead>\n",
       "  <tbody>\n",
       "    <tr>\n",
       "      <th>0</th>\n",
       "      <td>17-alpha-hydroxyprogesterone estradiol</td>\n",
       "    </tr>\n",
       "    <tr>\n",
       "      <th>1</th>\n",
       "      <td>2-phenylphenol chlorocresol clorophene</td>\n",
       "    </tr>\n",
       "    <tr>\n",
       "      <th>2</th>\n",
       "      <td>4-aminobenzoate salicylic acid</td>\n",
       "    </tr>\n",
       "    <tr>\n",
       "      <th>3</th>\n",
       "      <td>4-aminobenzoic acid arginine</td>\n",
       "    </tr>\n",
       "    <tr>\n",
       "      <th>4</th>\n",
       "      <td>4-aminobenzoic acid methoxsalen</td>\n",
       "    </tr>\n",
       "  </tbody>\n",
       "</table>\n",
       "</div>"
      ],
      "text/plain": [
       "                                        A\n",
       "0  17-alpha-hydroxyprogesterone estradiol\n",
       "1  2-phenylphenol chlorocresol clorophene\n",
       "2          4-aminobenzoate salicylic acid\n",
       "3            4-aminobenzoic acid arginine\n",
       "4         4-aminobenzoic acid methoxsalen"
      ]
     },
     "execution_count": 10,
     "metadata": {},
     "output_type": "execute_result"
    }
   ],
   "source": [
    "#print head\n",
    "df_three_strings.head()"
   ]
  },
  {
   "cell_type": "code",
   "execution_count": 11,
   "id": "41424cb2-d535-4473-a7e3-cb2bb4090271",
   "metadata": {},
   "outputs": [
    {
     "data": {
      "text/plain": [
       "<bound method DataFrame.info of                                                       A\n",
       "0                17-alpha-hydroxyprogesterone estradiol\n",
       "1                2-phenylphenol chlorocresol clorophene\n",
       "2                        4-aminobenzoate salicylic acid\n",
       "3                          4-aminobenzoic acid arginine\n",
       "4                       4-aminobenzoic acid methoxsalen\n",
       "...                                                 ...\n",
       "3762                          vitamin B6 zinc gluconate\n",
       "3763                         vitamin B6 zinc picolinate\n",
       "3764  white sweet clover pollen extract yellow sweet...\n",
       "3765                             witch hazel zinc oxide\n",
       "3766                             yohimbine zinc sulfate\n",
       "\n",
       "[3767 rows x 1 columns]>"
      ]
     },
     "execution_count": 11,
     "metadata": {},
     "output_type": "execute_result"
    }
   ],
   "source": [
    "#get df info\n",
    "df_three_strings.info"
   ]
  },
  {
   "cell_type": "code",
   "execution_count": 12,
   "id": "5d14bb3f-1fda-4387-a4fe-981ce45c9507",
   "metadata": {},
   "outputs": [],
   "source": [
    "#filter out only 3 ingrdient medications\n",
    "three_string_list = []\n",
    "for text in df_three_strings.A:\n",
    "    number_three = len(text.split()) #split by default does it by space, and strip removes spaces at both ends of the string\n",
    "    if number_three == 3:\n",
    "        #this string contains 3 words\n",
    "        three_string_list.append(text)"
   ]
  },
  {
   "cell_type": "code",
   "execution_count": 13,
   "id": "a1837920-ae1b-4fb3-a3d3-f1a13a241203",
   "metadata": {},
   "outputs": [
    {
     "name": "stdout",
     "output_type": "stream",
     "text": [
      "['2-phenylphenol chlorocresol clorophene', '4-aminobenzoate salicylic acid', '4-aminobenzoic acid arginine', '4-aminobenzoic acid methoxsalen', '5-hydroxytryptophan vitamin B6', 'abacavir dolutegravir lamivudine', 'abacavir lamivudine zidovudine', 'acetaminophen ambroxol oxatomide', 'acetaminophen antipyrine caffeine', 'acetaminophen aspirin caffeine', 'acetaminophen aspirin codeine', 'acetaminophen aspirin diphenhydramine', 'acetaminophen aspirin phenylpropanolamine', 'acetaminophen aspirin salicylamide', 'acetaminophen brompheniramine phenylpropanolamine', 'acetaminophen brompheniramine pseudoephedrine', 'acetaminophen butalbital caffeine', 'acetaminophen butalbital codeine', 'acetaminophen caffeine chlorpheniramine', 'acetaminophen caffeine codeine', 'acetaminophen caffeine dihydrocodeine', 'acetaminophen caffeine homatropine', 'acetaminophen caffeine isometheptene', 'acetaminophen caffeine phenylephrine', 'acetaminophen caffeine phenyltoloxamine', 'acetaminophen caffeine pyrilamine', 'acetaminophen caffeine salicylamide', 'acetaminophen calcium carbonate', 'acetaminophen chlophedianol pyrilamine', 'acetaminophen chlorpheniramine codeine', 'acetaminophen chlorpheniramine dextromethorphan', 'acetaminophen chlorpheniramine guaifenesin', 'acetaminophen chlorpheniramine phenylephrine', 'acetaminophen chlorpheniramine phenylpropanolamine', 'acetaminophen chlorpheniramine pseudoephedrine', 'acetaminophen chlorpheniramine salicylamide', 'acetaminophen cinnamedrine pamabrom', 'acetaminophen clemastine phenylpropanolamine', 'acetaminophen clemastine pseudoephedrine', 'acetaminophen codeine pseudoephedrine', 'acetaminophen dexbrompheniramine phenylephrine', 'acetaminophen dexbrompheniramine pseudoephedrine', 'acetaminophen dexchlorpheniramine pseudoephedrine', 'acetaminophen dextromethorphan diphenhydramine', 'acetaminophen dextromethorphan doxylamine', 'acetaminophen dextromethorphan guaifenesin', 'acetaminophen dextromethorphan phenylephrine', 'acetaminophen dextromethorphan phenylpropanolamine', 'acetaminophen dextromethorphan pseudoephedrine', 'acetaminophen dextromethorphan triprolidine', 'acetaminophen dichloralphenazone isometheptene', 'acetaminophen dihydrocodeine salicylamide', 'acetaminophen diphenhydramine phenylephrine', 'acetaminophen diphenhydramine phenylpropanolamine', 'acetaminophen diphenhydramine pseudoephedrine', 'acetaminophen doxylamine phenylephrine', 'acetaminophen doxylamine pseudoephedrine', 'acetaminophen doxylamine salicylamide', 'acetaminophen ephedrine guaifenesin', 'acetaminophen guaifenesin phenylephrine', 'acetaminophen guaifenesin pseudoephedrine', 'acetaminophen loratadine pseudoephedrine', 'acetaminophen magnesium salicylate', 'acetaminophen pamabrom pyrilamine', 'acetaminophen pheniramine phenylephrine', 'acetaminophen phenylephrine pyrilamine', 'acetaminophen phenylpropanolamine phenyltoloxamine', 'acetaminophen phenyltoloxamine salicylamide', 'acetaminophen pseudoephedrine triprolidine', 'acetaminophen salicylic acid', 'acetic acid benzocaine', 'acetic acid desonide', 'acetic acid hydrocortisone', 'acetic acid oxyquinoline', 'acetic acid pyrethrins', 'acetylcarnitine carnosine ubidecarenone', 'acetylene nitrogen oxygen', 'acexamic acid cetrimonium', 'acexamic acid chlorhexidine', 'acexamic acid neomycin', 'activated charcoal methenamine', 'activated charcoal papaverine', 'activated charcoal simethicone', 'activated charcoal sorbitol', 'adapalene benzoyl peroxide', 'adipic acid ammonium', 'alanine glutamate glycine', 'albuterol ketotifen theophylline', 'alginic acid carboxymethylcellulose', 'alginic acid cimetidine', 'aliskiren amlodipine hydrochlorothiazide', 'allantoin aminacrine sulfanilamide', 'allantoin aminacrine sulfisoxazole', 'allantoin benzalkonium lidocaine', 'allantoin benzethonium lidocaine', 'allantoin camphor menthol', 'allantoin camphor phenol', 'allantoin chlorocresol neomycin', 'allantoin clioquinol phenol', 'allantoin coal tar', 'allantoin colloidal oatmeal', 'allantoin dimethicone menthol', 'allantoin hexachlorophene squalene', 'allantoin lidocaine menthol', 'allantoin lidocaine petrolatum', 'allantoin zinc oxide', 'aloe polysaccharide iodoquinol', 'alpha tocopherol cholecalciferol', 'alpha tocopherol levomenthol', 'alpha-D-galactosidase enzyme lactase', 'alum, potassium lidocaine', 'aluminum acetate benzethonium', 'aluminum acetotartrate nonoxynol-9', 'aluminum chlorohydrate neomycin', 'aluminum hydroxide carbenoxolone', 'aluminum hydroxide simethicone', 'aluminum hydroxide theophylline', 'aluminum oxide simethicone', 'aluminum oxide triclosan', 'aluminum sulfate lidocaine', 'alverine karaya gum', 'amdinocillin pivoxil pivampicillin', 'amiloride atenolol hydrochlorothiazide', 'amiloride furosemide indapamide', 'amiloride hydrochlorothiazide methyldopa', 'amiloride hydrochlorothiazide timolol', 'aminobutyrate phenobarbital phenytoin', 'aminohydroxybutyric acid pyrithioxin', 'aminophylline amobarbital ephedrine', 'aminophylline ephedrine phenobarbital', 'aminophylline papaverine phenobarbital', 'aminophylline potassium iodide', 'amitriptyline diazepam perphenazine', 'amlodipine hydrochlorothiazide olmesartan', 'amlodipine hydrochlorothiazide valsartan', 'ammonia camphor menthol', 'ammonium chloride betaine', 'ammonium chloride caffeine', 'ammonium chloride diphenhydramine', 'ammonium chloride ephedrine', 'ammonium chloride guaifenesin', 'ammonium chloride ipecac', 'ammonium chloride isoaminile', 'amoxicillin omeprazole rifabutin', 'amphotericin B tetracycline', 'amphotericin B triamcinolone', 'amprenavir vitamin E', 'amyl salicylate hexylnicotinate', 'amylase lipase protease', 'amylase papain protease', 'anethole trithione choline', 'anthralin salicylic acid', 'antipyrine benzocaine phenylephrine', 'antipyrine benzocaine urea', 'antipyrine caffeine quinine', 'antipyrine meprobamate papaverine', 'aprobarbital butabarbital phenobarbital', 'arginine calcium carbonate', 'ascorbic acid aspirin', 'ascorbic acid biotin', 'ascorbic acid bromelains', 'ascorbic acid clioquinol', 'ascorbic acid collagen', 'ascorbic acid dequalinium', 'ascorbic acid glucose', 'ascorbic acid hesperidin', 'ascorbic acid hyaluronate', 'ascorbic acid inositol', 'ascorbic acid menthol', 'ascorbic acid niacin', 'ascorbic acid niacinamide', 'ascorbic acid phenol', 'ascorbic acid phenylpropanolamine', 'ascorbic acid piroxicam', 'ascorbic acid quercetin', 'ascorbic acid quinine', 'ascorbic acid resveratrol', 'ascorbic acid riboflavin', 'ascorbic acid rutin', 'ascorbic acid thiamine', 'ascorbic acid tyrothricin', 'ascorbic acid ubiquinol', 'ascorbic acid vincamine', 'aspirin butalbital caffeine', 'aspirin caffeine chlorpheniramine', 'aspirin caffeine cinnamedrine', 'aspirin caffeine codeine', 'aspirin caffeine dihydrocodeine', 'aspirin caffeine hydrocodone', 'aspirin caffeine orphenadrine', 'aspirin caffeine propoxyphene', 'aspirin caffeine quinine', 'aspirin caffeine salicylamide', 'aspirin calcium carbonate', 'aspirin carisoprodol codeine', 'aspirin chlorpheniramine dextromethorphan', 'aspirin chlorpheniramine phenylephrine', 'aspirin chlorpheniramine phenylpropanolamine', 'aspirin chlorpheniramine pseudoephedrine', 'aspirin dextromethorphan phenylephrine', 'aspirin diphenhydramine phenylpropanolamine', 'aspirin ethoheptazine meprobamate', 'aspirin lithium quinine', 'aspirin papaverine phenobarbital', 'aspirin promethazine pseudoephedrine', 'astemizole cetrimide oxymetazoline', 'atenolol chlorthalidone hydralazine', 'atoltivimab maftivimab odesivimab', 'atropine carzenide dipyrone', 'atropine chlorpheniramine ephedrine', 'atropine chlorpheniramine phenylpropanolamine', 'atropine epinephrine tyramine', 'atropine hyoscyamine scopolamine', 'atropine kaolin phenobarbital', 'atropine nitroglycerin theobromine', 'attapulgite salicylic acid', 'Bacillus coagulans inulin', 'Bacillus subtilis inulin', 'bacitracin benzocaine tyrothricin', 'bacitracin diperodon neomycin', 'bacitracin hydrocortisone neomycin', 'bacitracin lidocaine neomycin', 'bacitracin polymyxin B', 'belladonna alkaloids caffeine', 'belladonna alkaloids opium', 'belladonna alkaloids phenobarbital', 'belladonna alkaloids simethicone', 'bempedoic acid ezetimibe', 'bendroflumethiazide potassium chloride', 'bendroflumethiazide Rauwolfia preparation', 'benphothiamine vitamin B6', 'bentonite sulfur triclosan', 'benzalkonium benzocaine camphor', 'benzalkonium benzocaine hexylresorcinol', 'benzalkonium benzocaine menthol', 'benzalkonium benzyl alcohol', 'benzalkonium boric acid', 'benzalkonium chloroxylenol hydrocortisone', 'benzalkonium chloroxylenol pramoxine', 'benzalkonium idoxuridine lidocaine', 'benzalkonium lidocaine urea', 'benzalkonium menthol petrolatum', 'benzalkonium mepivacaine polidocanol', 'benzalkonium pantothenic acid', 'benzalkonium polyaminopropyl biguanide', 'benzalkonium salicylic acid', 'benzethonium benzocaine menthol', 'benzethonium diphenhydramine hydrocortisone', 'benzethonium polidocanol urea', 'benzoate salicylic acid', 'benzocaine benzyl benzoate', 'benzocaine boric acid', 'benzocaine butamben tetracaine', 'benzocaine calamine camphor', 'benzocaine camphor phenol', 'benzocaine cetalkonium chloride', 'benzocaine cetylpyridinium menthol', 'benzocaine cetylpyridinium sulfachrysoidine', 'benzocaine chloroxylenol hydrocortisone', 'benzocaine clove oil', 'benzocaine dequalinium tyrothricin', 'benzocaine dextromethorphan glycerin', 'benzocaine dextromethorphan menthol', 'benzocaine ethanol methylbenzethonium', 'benzocaine glycerin menthol', 'benzocaine isopropyl alcohol', 'benzocaine lapyrium tyrothricin', 'benzocaine licorice menthol', 'benzocaine lidocaine tetracaine', 'benzocaine magnesium sulfate', 'benzocaine methyl salicylate', 'benzocaine nitrofurazone tyrothricin', 'benzocaine phenylephrine phenylpropanolamine', 'benzocaine salicylic acid', 'benzocaine tannic acid', 'benzocaine zinc chloride', 'benzocaine zinc oxide', 'benzocaine zinc sulfate', 'benzocaine zirconium oxide', 'benzoyl peroxide clindamycin', 'benzoyl peroxide erythromycin', 'benzoyl peroxide hydrocortisone', 'benzoyl peroxide miconazole', 'benzoyl peroxide oxyquinoline', 'benzoyl peroxide sulfur', 'benzoyl peroxide tretinoin', 'benzyl alcohol lidocaine', 'benzyl alcohol menthol', 'benzyl alcohol pramoxine', 'benzyl benzoate monosulfiram', 'benzyl benzoate permethrin', 'betaine glutamate methylcellulose', 'betaine pepsin A', 'betamethasone betamethasone acetate', 'betamethasone clotrimazole gentamicin', 'betamethasone hydroquinone tretinoin', 'betamethasone magnesium trisilicate', 'betamethasone salicylic acid', 'bioallethrin piperonyl butoxide', 'biotin calcium carbonate', 'biotin chromium picolinate', 'biotin dicalcium phosphate', 'biotin zinc pyrithione', 'bisacodyl tannic acid', 'bismuth aluminate docusate', 'bismuth camphocarbonate guaifenesin', 'bismuth carbonate simethicone', 'bismuth hydroxide pectin', 'bismuth subcarbonate morphine', 'bismuth subgallate hydrocortisone', 'bismuth subgallate phthalylsulfathiazole', 'bismuth subsalicylate kaolin', 'borage oil gamma-linolenate', 'boric acid oleate', 'boric acid phenol', 'boric acid phenylephrine', 'boron calcium carbonate', 'brilliant green lactate', 'bromazepam clebopride simethicone', 'bromazepam domperidone simethicone', 'bromelains papain trypsin', 'bromhexine penicillin V', 'bromhexine sulfadiazine tetroxoprim', 'brompheniramine carbetapentane phenylephrine', 'brompheniramine chlophedianol phenylephrine', 'brompheniramine chlophedianol pseudoephedrine', 'brompheniramine codeine guaifenesin', 'brompheniramine codeine phenylephrine', 'brompheniramine codeine phenylpropanolamine', 'brompheniramine codeine pseudoephedrine', 'brompheniramine dextromethorphan guaifenesin', 'brompheniramine dextromethorphan phenylephrine', 'brompheniramine dextromethorphan phenylpropanolamine', 'brompheniramine dextromethorphan pseudoephedrine', 'brompheniramine dihydrocodeine phenylephrine', 'brompheniramine dihydrocodeine pseudoephedrine', 'brompheniramine diphenhydramine phenylephrine', 'brompheniramine guaifenesin hydrocodone', 'brompheniramine guaifenesin phenylephrine', 'brompheniramine guaifenesin phenylpropanolamine', 'brompheniramine guaifenesin pseudoephedrine', 'brompheniramine hydrocodone phenylephrine', 'brompheniramine hydrocodone pseudoephedrine', 'brompheniramine phenylephrine phenylpropanolamine', 'brompheniramine phenylephrine phenyltoloxamine', 'buclizine hydroxyzine niacin', 'buclizine vitamin B6', 'budesonide formoterol glycopyrronium', 'bumetanide potassium chloride', 'butabarbital epinephrine theophylline', 'butabarbital hyoscyamine phenazopyridine', 'butabarbital phenobarbital secobarbital', 'butafosfan vitamin B12', 'butalbital caffeine codeine', 'buthiazide dihydralazine metipranolol', 'buzepide metiodide haloperidol', 'caffeine carzenide propyphenazone', 'caffeine dimenhydrinate ergotamine', 'caffeine dimenhydrinate scopolamine', 'caffeine diphenhydramine ergotamine', 'caffeine dipyrone ergotamine', 'caffeine ergotamine ibuprofen', 'caffeine magnesium salicylate', 'calamine camphor diphenhydramine', 'calamine camphor pramoxine', 'calamine peanut oil', 'calamine zinc oxide', 'calcium ascorbate potassium', 'calcium carbonate cholecalciferol', 'calcium carbonate docosahexaenoate', 'calcium carbonate ergocalciferol', 'calcium carbonate glycine', 'calcium carbonate kaolin', 'calcium carbonate monofluorophosphate', 'calcium carbonate pectin', 'calcium carbonate phenobarbital', 'calcium carbonate phenytoin', 'calcium carbonate prasterone', 'calcium carbonate psyllium', 'calcium carbonate pyroglutamate', 'calcium carbonate risedronate', 'calcium carbonate simethicone', 'calcium citrate cholecalciferol', 'calcium citrate ergocalciferol', 'calcium citrate glutamate', 'calcium creosotate iodine', 'calcium glycerophosphate monofluorophosphate', 'calcium iodide codeine', 'calcium iodide isoproterenol', 'calcium lactate niacin', 'calcium lactate thiamine', 'calcium phosphate cholecalciferol', 'calcium phosphate gamboge', 'calcium phosphate melatonin', 'calcium phosphate phosphorus', 'calcium phosphate prasterone', 'calcium pyruvate dihydroxyacetone', 'camphor capsaicin menthol', 'camphor Capsicum extract', 'camphor eucalyptol menthol', 'camphor eugenol menthol', 'camphor histamine menthol', 'camphor menthol niacin', 'camphor menthol petrolatum', 'camphor menthol phenol', 'camphor menthol tetracaine', 'camphor menthol turpentine', 'camphor methyl salicylate', 'camphor peppermint oil', 'capsaicin histamine menthol', 'capsaicin lidocaine menthol', 'capsaicin menthol methylnicotinate', 'capsaicin methyl salicylate', 'capsaicin trolamine salicylate', 'Capsicum extract lidocaine', 'Capsicum extract menthol', 'Capsicum oleoresin menthol', 'Capsicum oleoresin methylnicotinate', 'Capsicum oleoresin turpentine', 'carbetapentane carbinoxamine phenylephrine', 'carbetapentane chlorpheniramine phenylephrine', 'carbetapentane dexchlorpheniramine phenylephrine', 'carbetapentane diphenhydramine phenylephrine', 'carbetapentane guaiacolsulfonate phenylephrine', 'carbetapentane guaifenesin phenylephrine', 'carbetapentane guaifenesin pseudoephedrine', 'carbetapentane phenylephrine pyrilamine', 'carbetapentane pseudoephedrine pyrilamine', 'carbidopa entacapone levodopa', 'carbinoxamine dextromethorphan phenylephrine', 'carbinoxamine dextromethorphan pseudoephedrine', 'carbinoxamine guaifenesin pseudoephedrine', 'carbinoxamine hydrocodone phenylephrine', 'carbinoxamine hydrocodone pseudoephedrine', 'carbinoxamine methscopolamine pseudoephedrine', 'carbinoxamine pseudoephedrine scopolamine', 'carbon dioxide helium', 'carbon dioxide nitrogen', 'carbon dioxide oxygen', 'carboxymethylcellulose casanthranol docusate', 'carboxymethylcellulose danthron poloxamer', 'carboxymethylcellulose docusate phenolphthalein', 'carisoprodol dexamethasone ibuprofen', 'carisoprodol dexamethasone tenoxicam', 'carnitine racemethionine thiamine', 'cascara sagrada dehydrocholate', 'cascara sagrada phenolphthalein', 'catalase superoxide dismutase', 'cetrimide diphenhydramine moroxydine', 'cetrimide lidocaine menthol', 'cetrimonium lidocaine tyrothricin', 'cetylpyridinium chloroxylenol triacetin', 'cetylpyridinium sodium fluoride', 'cetylpyridinium zinc chloride', 'chitosan chromium picolinate', 'chlophedianol chlorcyclizine phenylephrine', 'chlophedianol chlorcyclizine pseudoephedrine', 'chlophedianol chlorpheniramine phenylephrine', 'chlophedianol chlorpheniramine pseudoephedrine', 'chlophedianol dexbrompheniramine phenylephrine', 'chlophedianol dexbrompheniramine pseudoephedrine', 'chlophedianol dexchlorpheniramine pseudoephedrine', 'chlophedianol guaifenesin phenylephrine', 'chlophedianol guaifenesin pseudoephedrine', 'chlophedianol phenylephrine pyrilamine', 'chlophedianol phenylephrine thonzylamine', 'chlophedianol phenylephrine triprolidine', 'chlophedianol pseudoephedrine pyrilamine', 'chlophedianol pseudoephedrine triprolidine', 'chloramphenicol deoxyribonucleases plasmin', 'chloramphenicol naphazoline neomycin', 'chlorcyclizine codeine phenylephrine', 'chlorcyclizine codeine pseudoephedrine', 'chlorhexidine coal tar', 'chlorhexidine didecyldimethylammonium chloride', 'chlorhexidine hydrocortisone ketoconazole', 'chlorhexidine isopropyl alcohol', 'chlorhexidine lidocaine pramoxine', 'chlorhexidine muramidase tetracaine', 'chlorhexidine salicyloyl phytosphingosine', 'chlorhexidine silver sulfadiazine', 'chlorhexidine sodium fluoride', 'chlorhexidine sodium nitrite', 'chlormadinone ethinyl estradiol', 'chlorobutanol tannic acid', 'chlorophyll papain urea', 'chlorophyllin soybean oil', 'chlorothen methapyrilene pyrilamine', 'chloroxylenol coal tar', 'chloroxylenol copper sulfate', 'chloroxylenol hydrocortisone pramoxine', 'chloroxylenol iodine menthol', 'chloroxylenol isopropyl alcohol', 'chloroxylenol resorcinol sulfur', 'chloroxylenol salicylic acid', 'chlorpheniramine codeine phenylephrine', 'chlorpheniramine codeine phenylpropanolamine', 'chlorpheniramine codeine pseudoephedrine', 'chlorpheniramine dextromethorphan guaifenesin', 'chlorpheniramine dextromethorphan methscopolamine', 'chlorpheniramine dextromethorphan phenylephrine', 'chlorpheniramine dextromethorphan phenylpropanolamine', 'chlorpheniramine dextromethorphan pseudoephedrine', 'chlorpheniramine dextromethorphan scopolamine', 'chlorpheniramine dihydrocodeine phenylephrine', 'chlorpheniramine dihydrocodeine pseudoephedrine', 'chlorpheniramine ephedrine guaifenesin', 'chlorpheniramine guaifenesin phenylephrine', 'chlorpheniramine guaifenesin phenylpropanolamine', 'chlorpheniramine guaifenesin pseudoephedrine', 'chlorpheniramine hydrocodone phenylephrine', 'chlorpheniramine hydrocodone pseudoephedrine', 'chlorpheniramine hydrocortisone pyrilamine', 'chlorpheniramine ibuprofen phenylephrine', 'chlorpheniramine ibuprofen pseudoephedrine', 'chlorpheniramine methscopolamine phenylephrine', 'chlorpheniramine methscopolamine phenylpropanolamine', 'chlorpheniramine methscopolamine pseudoephedrine', 'chlorpheniramine phenindamine phenylpropanolamine', 'chlorpheniramine phenylephrine phenylpropanolamine', 'chlorpheniramine phenylephrine phenyltoloxamine', 'chlorpheniramine phenylephrine pyrilamine', 'chlorpheniramine phenylephrine scopolamine', 'chlorpheniramine phenylpropanolamine pseudoephedrine', 'chlorpheniramine phenylpropanolamine pyrilamine', 'chlorpheniramine phenyltoloxamine pseudoephedrine', 'chlorpheniramine pseudoephedrine scopolamine', 'chlortetracycline demeclocycline tetracycline', 'chlorthalidone hydralazine oxprenolol', 'chlorzoxazone flufenamic acid', 'cholecalciferol chromium picolinate', 'cholecalciferol docosahexaenoate eicosapentaenoate', 'cholecalciferol folic acid', 'cholecalciferol Limosilactobacillus reuteri', 'cholecalciferol sodium fluoride', 'cholecalciferol tricalcium phosphate', 'cholecalciferol vitamin A', 'cholecalciferol vitamin E', 'cholecalciferol vitamin K2', 'cholestyramine resin diclofenac', 'choline diphenhydramine phenylephrine', 'choline glutamine inositol', 'choline guaifenesin phenylephrine', 'choline inositol niacin', 'choline magnesium salicylate', 'choline polyethylene glycols', 'chondroitin sulfates glucosamine', 'chondroitin sulfates hyaluronate', 'chondroitin sulfates papain', 'chromic chloride niacin', 'chromium picolinate gamboge', 'chromium picolinate inulin', 'chromium picolinate levocarnitine', 'chromium picolinate niacin', 'chromium polynicotinate thioctate', 'chymosin pepsin A', 'chymotrypsin papain trypsin', 'cilastatin imipenem relebactam', 'cinnarizine dobesilic acid', 'clemizolpenicillin penicillin G', 'climbazole piroctone olamine', 'clioquinol hydrocortisone pramoxine', 'clioquinol zinc oxide', 'clocortolone salicylic acid', 'clofibrate nicotinyl alcohol', 'clonidine hydrochlorothiazide triamterene', 'clonixin cyproheptadine ergotamine', 'clopamide dihydroergocristine reserpine', 'clotrimazole gentamicin mometasone', 'clotrimazole hexamidine prednisolone', 'clotrimazole phenylethyl alcohol', 'clotrimazole zinc oxide', 'coal tar fluocinolone', 'coal tar hydrocortisone', 'coal tar lecithin', 'coal tar menthol', 'coal tar pyrithione', 'coal tar sulfur', 'coal tar triamcinolone', 'cobalamins vitamin B12', 'cobamamide folic acid', 'cobamamide vitamin B12', 'cocoa butter phenylephrine', 'codeine dexbrompheniramine pseudoephedrine', 'codeine dexchlorpheniramine phenylephrine', 'codeine diphenhydramine phenylephrine', 'codeine ephedrine guaifenesin', 'codeine Erysimum preparation', 'codeine guaifenesin pheniramine', 'codeine guaifenesin phenylephrine', 'codeine guaifenesin phenylpropanolamine', 'codeine guaifenesin promethazine', 'codeine guaifenesin pseudoephedrine', 'codeine iodinated glycerol', 'codeine pheniramine phenylephrine', 'codeine phenylephrine promethazine', 'codeine phenylephrine pseudoephedrine', 'codeine phenylephrine pyrilamine', 'codeine phenylephrine triprolidine', 'codeine phenylpropanolamine promethazine', 'codeine potassium citrate', 'codeine pseudoephedrine pyrilamine', 'codeine pseudoephedrine triprolidine', 'codeine terpin hydrate', 'colloidal oatmeal menthol', 'corticotropin zinc hydroxide', 'cyclobenzaprine magnesium oxide', 'cyproheptadine vitamin B12', 'cyproterone ethinyl estradiol', 'cysteine vitamin B6', 'cystine vitamin B6', 'danthron docusate pantothenate', 'danthron pantothenic acid', 'danthron poloxamer 188', 'dapagliflozin metformin saxagliptin', 'dapsone ferrous oxalate', 'dapsone isoniazid prothionamide', 'decamethrin piperonyl butoxide', 'dehydrocholate dimethicone pancreatin', 'dehydrocholate docusate phenolphthalein', 'dehydrocholate homatropine phenobarbital', 'dehydrocholate pepsin A', 'deoxycholate pepsin A', 'dequalinium polidocanol prednisolone', 'desogestrel ethinyl estradiol', 'desoximetasone salicylic acid', 'dexamethasone neomycin thiabendazole', 'dexamethasone sodium phosphate', 'dexbrompheniramine dextromethorphan phenylephrine', 'dexbrompheniramine dextromethorphan pseudoephedrine', 'dexbrompheniramine guaifenesin pseudoephedrine', 'dexbrompheniramine hydrocodone phenylephrine', 'dexbrompheniramine phenylephrine pyrilamine', 'dexchlorpheniramine dextromethorphan phenylephrine', 'dexchlorpheniramine dextromethorphan pseudoephedrine', 'dexchlorpheniramine guaifenesin pseudoephedrine', 'dexchlorpheniramine hydrocodone phenylephrine', 'dexchlorpheniramine methscopolamine phenylephrine', 'dexchlorpheniramine methscopolamine pseudoephedrine', 'dexchlorpheniramine pseudoephedrine pyrilamine', 'dexpanthenol diphenhydramine lidocaine', 'dexpanthenol salicylic acid', 'dexpanthenol zinc oxide', 'dextran 70 hypromellose', 'dextran sodium chloride', 'dextromethorphan diphenhydramine phenylephrine', 'dextromethorphan doxylamine phenylephrine', 'dextromethorphan doxylamine pseudoephedrine', 'dextromethorphan guaiacolsulfonate guaifenesin', 'dextromethorphan guaiacolsulfonate phenylephrine', 'dextromethorphan guaifenesin phenylephrine', 'dextromethorphan guaifenesin phenylpropanolamine', 'dextromethorphan guaifenesin pseudoephedrine', 'dextromethorphan menthol phenylephrine', 'dextromethorphan pheniramine phenylephrine', 'dextromethorphan phenylephrine pyrilamine', 'dextromethorphan phenylephrine thonzylamine', 'dextromethorphan phenylephrine triprolidine', 'dextromethorphan potassium iodide', 'dextromethorphan pseudoephedrine pyrilamine', 'dextromethorphan pseudoephedrine triprolidine', 'dextromethorphan terpin hydrate', 'diazepam diethylpropion fenproporex', 'diazepam metoclopramide simethicone', 'dicalcium phosphate prasterone', 'dichlorodifluoromethane ethyl chloride', 'dichlorotetrafluoroethane ethyl chloride', 'dienogest ethinyl estradiol', 'diethylamine salicylate myrtecaine', 'difebarbamate febarbamate phenobarbital', 'diflucortolone salicylic acid', 'dihydralazine hydrochlorothiazide reserpine', 'dihydrocodeine guaifenesin phenylephrine', 'dihydrocodeine guaifenesin pseudoephedrine', 'dihydrocodeine phenylephrine pyrilamine', 'dihydroergocornine dihydroergocristine dihydroergocryptine', 'dihydrostreptomycin penicillin G', 'dihydroxybutyl ether propinox', 'dihydroxybutyl ether simethicone', 'di-isopropylammonium orotic acid', 'dimenhydrinate niacin pentylenetetrazole', 'dimethicone magnesium citrate', 'dimethicone menthol pramoxine', 'dimethicone mineral oil', 'dimethicone titanium dioxide', 'dimethicone zinc oxide', 'dimethyl sulfoxide fluocinolone', 'diphenhydramine fomocain tyrothricin', 'diphenhydramine hydrocodone phenylephrine', 'diphenhydramine magnesium salicylate', 'diphenhydramine oxeladin salicylamide', 'diphenhydramine zinc acetate', 'diphenhydramine zinc oxide', 'dipropizine guaiacol ethylglycolate', 'dipyrone homatropine papaverine', 'disofenin stannous chloride', 'dobesilic acid flunarizine', 'dobesilic acid lidocaine', 'docosaenoic acid eicosapentaenoate', 'docosahexaenoate eicosapentaenoate phytosterols', 'docusate ferrous fumarate', 'docusate sennoside B', 'docusate sennosides, USP', 'dodecyl sulfate lanolin', 'dodecyl sulfate oxyquinoline', 'dodecylbenzenesulfonic acid lactate', 'dornase alfa streptokinase', 'doxylamine vitamin B6', 'drospirenone ethinyl estradiol', 'D-transallethrin piperonyl butoxide', 'dyclonine menthol pectin', 'dyphylline potassium iodide', 'econazole zinc oxide', 'elagolix estradiol norethindrone', 'elexacaftor ivacaftor tezacaftor', 'empagliflozin linagliptin metformin', 'emtricitabine tenofovir alafenamide', 'emtricitabine tenofovir disoproxil', 'enrofloxacin silver sulfadiazine', 'ensulizole zinc oxide', 'ephedrine guaiacolsulfonic acid', 'ephedrine guaifenesin noscapine', 'ephedrine guaifenesin theophylline', 'ephedrine hydroxyzine theophylline', 'ephedrine phenobarbital theophylline', 'ephedrine potassium iodide', 'ephedrine sodium iodide', 'ephedrine tolu balsam', 'epinephrine lidocaine tetracaine', 'epinephrine zinc chloride', 'ergocalciferol vitamin A', 'ergotamine hyoscyamine phenobarbital', 'erythromycin zinc acetate', 'estradiol estriol levonorgestrel', 'estradiol estriol norethindrone', 'estradiol norethindrone relugolix', 'estriol Lactobacillus acidophilus', 'estriol thymol urea', 'ethambutol isoniazid rifampin', 'ethamivan etofylline hexobendine', 'ethamivan heptaminol norfenefrine', 'ethanol hydrogen peroxide', 'ethanol isopropyl alcohol', 'ethanol resorcinol sulfur', 'ethanol salicylic acid', 'ethinyl estradiol ethisterone', 'ethinyl estradiol ethynodiol', 'ethinyl estradiol etonogestrel', 'ethinyl estradiol fluoxymesterone', 'ethinyl estradiol gestodene', 'ethinyl estradiol levonorgestrel', 'ethinyl estradiol lynestrenol', 'ethinyl estradiol methyltestosterone', 'ethinyl estradiol norelgestromin', 'ethinyl estradiol norethindrone', 'ethinyl estradiol norgestimate', 'ethinyl estradiol norgestrel', 'ethinyl estradiol norgestrienone', 'ethinyl estradiol segesterone', 'ethylmorphine terpin hydrate', 'eucalyptol guaiacol ethylglycolate', 'Eucalyptus oil menthol', 'febantel praziquantel pyrantel', 'fentanyl sodium chloride', 'ferrous fumarate thiamine', 'ferrous sulfate phenolphthalein', 'florfenicol mometasone terbinafine', 'flumethasone salicylic acid', 'fluocinolone hydroquinone tretinoin', 'fluocinolone zinc pyrithione', 'fluocortolone salicylic acid', 'fluprednidene salicylic acid', 'fluticasone umeclidinium vilanterol', 'folic acid inositol', 'formaldehyde glutaral glyoxal', 'formaldehyde isopropyl alcohol', 'formaldehyde malachite green', 'formaldehyde salicylic acid', 'formaldehyde sodium fluoride', 'fructooligosaccharide Lactobacillus acidophilus', 'furosemide potassium chloride', 'gamma-aminobutyrate vitamin B6', 'gamma-linolenate vitamin E', 'gentamicin hydrocortisone miconazole', 'gluconolactone magnesium carbonate', 'glucosamine hyaluronate methylsulfonylmethane', 'glucose potassium chloride', 'glucose sodium chloride', 'glutamate magnesium citrate', 'glutamate vitamin B6', 'glutamate zinc chloride', 'glycerin hypromellose naphazoline', 'glycerin hypromellose phenylephrine', 'glycerin lactate petrolatum', 'glycerin lidocaine phenylephrine', 'glycerin polysorbate 80', 'glycerin propylene glycol', 'glycerin salicylic acid', 'glycerin sodium chloride', 'glycine isoleucine ubidecarenone', 'glycine magnesium chloride', 'glycine sodium chloride', 'glycol salicylate menthol', 'glycol salicylate niacin', 'gonadorelin thyrotropin-releasing hormone', 'greater celandine silymarin', 'guaiacol methyl salicylate', 'guaiacolsulfonate hydrocodone pseudoephedrine', 'guaiacolsulfonate sodium citrate', 'guaiacolsulfonic acid hydrocodone', 'guaiazulene pantothenic acid', 'guaiazulene pentosan polysulfate', 'guaifenesin hydrocodone phenindamine', 'guaifenesin hydrocodone phenylephrine', 'guaifenesin hydrocodone pseudoephedrine', 'guaifenesin phenobarbital theophylline', 'guaifenesin phenylephrine phenylpropanolamine', 'guaifenesin phenylephrine pseudoephedrine', 'guaifenesin phenylephrine pyrilamine', 'guaifenesin phenylpropanolamine pseudoephedrine', 'guaifenesin pseudoephedrine theophylline', 'helium nitrogen oxygen', 'heparinoids salicylic acid', 'heptaminol inositol rutin', 'heptanoic acid iodine', 'heptanoic acid lactate', 'hexachlorophene hydrocortisone menthol', 'hexetidine niflumic acid', 'histidine zinc sulfate', 'homatropine iodoquinol phthalylsulfacetamide', 'homatropine opium pectin', 'hyaluronidase pertuzumab trastuzumab', 'hydralazine hydrochlorothiazide metoprolol', 'hydralazine hydrochlorothiazide reserpine', 'hydralazine isosorbide dinitrate', 'hydrochlorothiazide potassium chloride', 'hydrochlorothiazide triamterene verapamil', 'hydrocodone phenylephrine pyrilamine', 'hydrocodone pseudoephedrine triprolidine', 'hydrocortisone lactate urea', 'hydrocortisone lidocaine pramoxine', 'hydrocortisone natamycin neomycin', 'hydrocortisone polymyxin B', 'hydrocortisone potassium oxyquinolone', 'hydrocortisone zinc sulfate', 'hydrogen peroxide lactate', 'hydrogen peroxide menthol', 'hydrogen peroxide povidone-iodine', 'hydroxyethyl cellulose povidone', 'ibuprofen vitamin B12', 'ichthammol zinc oxide', 'ictasol salicylic acid', 'idebenone vitamin E', 'inositol phytic acid', 'inositol vitamin B6', 'insulin degludec liraglutide', 'insulin glargine lixisenatide', 'inulin Lacticaseibacillus rhamnosus', 'iodinated glycerol theophylline', 'iodine isopropyl alcohol', 'iodine methyl salicylate', 'iodine potassium gluconate', 'iodine potassium iodide', 'iodine sodium chloride', 'iodine sodium iodide', 'iodoform zinc oxide', 'iodophors isopropyl alcohol', 'iodoquinol papaverine phthalylsulfathiazole', 'iodoquinol papaverine succinylsulfathiazole', 'isoflupredone neomycin tetracaine', 'isoleucine leucine valine', 'isoniazid pyrazinamide rifampin', 'isoniazid vitamin B6', 'isopropyl alcohol povidone-iodine', 'isosorbide dinitrate verapamil', 'ivermectin praziquantel pyrantel', 'kaolin paregoric pectin', 'kaolin salicylic acid', 'kaolin zinc oxide', 'lactase Lactobacillus acidophilus', 'lactate pepsin A', 'lactate salicylic acid', 'lactate zinc gluconate', 'Lactobacillus acidophilus pectin', 'lactose magnesium phosphate', 'lamivudine nevirapine stavudine', 'lamivudine nevirapine zidovudine', 'lamivudine tenofovir disoproxil', 'lanolin mineral oil', 'lanolin zinc oxide', 'lecithin phosphatidylethanolamines phosphatidylinositols', 'levocarnitine picolinic acid', 'levothyroxine potassium iodide', 'lidocaine magnesium sulfate', 'lidocaine polymyxin B', 'lidocaine rifamycin SV', 'lidocaine sodium chloride', 'lidocaine zinc oxide', 'lidocaine zinc sulfate', 'linoleate sunflower oil', 'loperamide phthalylsulfacetamide phthalylsulfathiazole', 'loteprednol etabonate tobramycin', 'lufenuron milbemycin oxime', 'lycopene vitamin E', 'lysine niacinamide thiamine', 'lysine zinc oxide', 'magnesium chloride tubocurarine', 'magnesium hydroxide simethicone', 'magnesium oxide pyridoxine', 'magnesium salicylate phenyltoloxamine', 'magnesium sulfate peptones', 'magnesium sulfate phenolphthalein', 'malic acid xylitol', 'mebendazole niclosamide tinidazole', 'mechlorethamine terpin hydrate', 'meclizine vitamin B6', 'mecobalamin vitamin B12', 'meglumine benzoate polysorbates', 'melatonin vitamin B12', 'melatonin vitamin B6', 'menthol menthyl salicylate', 'menthol methyl salicylate', 'menthol peppermint oil', 'menthol Peruvian balsam', 'menthol petrolatum pramoxine', 'menthol prednisolone thymol', 'menthol salicylic acid', 'menthol selenium sulfide', 'menthol sodium chloride', 'menthol trolamine salicylate', 'menthol witch hazel', 'menthol zinc oxide', 'menthol zinc pyrithione', 'mephobarbital phenobarbital phenytoin', 'meradimate titanium dioxide', 'merbromin penicillin G', 'methacholine methyl salicylate', 'methenamine potassium phosphate', 'methenamine salicylic acid', 'methenamine sodium phosphate', 'methyl salicylate niacin', 'methyl salicylate turpentine', 'methylene blue naphazoline', 'methylnicotinate phenylbutazone piperazine', 'methyltestosterone pemoline yohimbine', 'metoclopramide pancreatin simethicone', 'metoclopramide papain simethicone', 'miconazole salicylic acid', 'miconazole zinc oxide', 'milbemycin oxime praziquantel', 'milbemycin oxime spinosad', 'mineral oil petrolatum', 'mineral oil phenolphthalein', 'mineral oil tetracaine', 'mometasone orbifloxacin posaconazole', 'mometasone salicylic acid', 'monofluorophosphate potassium nitrate', 'monofluorophosphate silicon dioxide', 'monofluorophosphate sodium fluoride', 'moxidectin pyrantel sarolaner', 'muramidase vitamin B6', 'naphazoline phenylephrine pyrilamine', 'naphazoline polyethylene glycols', 'naphazoline polysorbate 20', 'naphazoline polysorbate 80', 'naphazoline zinc sulfate', 'neomycin polymyxin B', 'neomycin propionic acid', 'niacin niacinamide phenobarbital', 'niacin procaine salicylamide', 'niacin riboflavin thiamine', 'niacin vitamin B6', 'niacin zinc citrate', 'niacinamide potassium iodide', 'niacinamide quinine thiamine', 'niacinamide salicylic acid', 'niacinamide vitamin B6', 'niflumic acid orphenadrine', 'nitrazepam oxazepam scopolamine', 'nitric oxide nitrogen', 'nitrofurantoin phenazopyridine sulfadiazine', 'nitrofurantoin vitamin B6', 'novobiocin penicillin G', 'ombitasvir paritaprevir ritonavir', 'omeprazole sodium bicarbonate', 'oxazepam pancreatin simethicone', 'oxyquinoline potassium sulfate', 'oxyquinoline sodium tartrate', 'oxytetracycline phenazopyridine sulfamethizole', 'oxytetracycline polymyxin B', 'pancreatin pepsin A', 'pancreatin vitamin B6', 'pangamic acid procaine', 'panthenol salicylic acid', 'panthenol zinc pyrithione', 'pantothenate vitamin B6', 'pantothenic acid simethicone', 'pantothenic acid thiophene', 'pentosan polysulfate urea', 'pentoxifylline procyanidolic oligomer', 'Peruvian balsam trypsin', 'petrolatum salicylic acid', 'petrolatum vitamin E', 'petrolatum zinc oxide', 'phenazopyridine sulfamethoxazole trimethoprim', 'pheniramine phenylpropanolamine pyrilamine', 'pheniramine phenyltoloxamine pyrilamine', 'phenobarbital sodium nitrite', 'phenol scarlet red', 'phenol tannic acid', 'phenol zinc oxide', 'phenolphthalein sennosides, USP', 'phenylehrine zinc sulfate', 'phenylephrine phenylpropanolamine pseudoephedrine', 'phenylephrine polyvinyl alcohol', 'phenylephrine prednisolone sulfacetamide', 'phenylephrine sulfated mucopolysaccharides', 'phenylephrine witch hazel', 'phenylephrine zinc oxide', 'phenylephrine zinc sulfate', 'phytosphingosine salicylic acid', 'piperonyl butoxide pyrethrins', 'piroxicam vitamin B12', 'podophyllin salicylic acid', 'polidocanol prednisolone promethazine', 'polidocanol zinc oxide', 'poloxamer 407 simethicone', 'polymyxin B triamcinolone', 'polymyxin B trimethoprim', 'polyoxyethylene ether sulfur', 'polyvinyl alcohol povidone', 'potassium iodide theophylline', 'povidone propylene glycol', 'pramoxine salicyloyl phytosphingosine', 'pramoxine zinc acetate', 'pramoxine zinc oxide', 'pramoxine zinc sulfate', 'prednisolone salicylic acid', 'prednisolone zinc oxide', 'propionic acid undecylenate', 'psyllium sennosides, USP', 'pyridoxine vitamin B12', 'quinine vitamin E', 'racepinephrine zinc chloride', 'resorcinol sulfur triclosan', 'riboflavin vitamin B6', 'salicylamide vitamin B12', 'salicylic acid sulfur', 'salicylic acid triamcinolone', 'salicylic acid trichloroacetaldehyde', 'salicylic acid triclosan', 'salicylic acid undecylenate', 'salicylic acid urea', 'sodium chloride urea', 'sodium fluoride triclosan', 'sodium fluoride xylitol', 'sofosbuvir velpatasvir voxilaprevir', 'starch zinc oxide', 'sulfabenzamide sulfacetamide sulfathiazole', 'sulfacetamide vitamin B6', 'sulfadiazine sulfamerazine sulfamethazine', 'sulfur zinc oxide', 'sulfur zinc pyrithione', 'talc zinc oxide', 'taurine vitamin B6', 'tetrahydrozoline zinc sulfate', 'thiamine vitamin B12', 'thiamine vitamin B6', 'thioctate vitamin B12', 'tocotrienols vitamin E', 'triclosan vitamin E', 'triclosan zinc oxide', 'troxerutin vitamin E', 'tryptophan vitamin B6', 'ubidecarenone vitamin E', 'urea vitamin E', 'yohimbine zinc sulfate']\n"
     ]
    }
   ],
   "source": [
    "#print list\n",
    "print(three_string_list)\n"
   ]
  },
  {
   "cell_type": "markdown",
   "id": "c44ac69b-9406-44e5-abb6-0988afe74b4e",
   "metadata": {},
   "source": [
    "### #Convert the list to a series or array and then assign:"
   ]
  },
  {
   "cell_type": "code",
   "execution_count": 14,
   "id": "43bf8c6c-06e8-47a1-8ec5-5cfdef7ab8d8",
   "metadata": {},
   "outputs": [
    {
     "data": {
      "text/plain": [
       "0       2-phenylphenol chlorocresol clorophene\n",
       "1               4-aminobenzoate salicylic acid\n",
       "2                 4-aminobenzoic acid arginine\n",
       "3              4-aminobenzoic acid methoxsalen\n",
       "4               5-hydroxytryptophan vitamin B6\n",
       "                         ...                  \n",
       "1072                      troxerutin vitamin E\n",
       "1073                     tryptophan vitamin B6\n",
       "1074                   ubidecarenone vitamin E\n",
       "1075                            urea vitamin E\n",
       "1076                    yohimbine zinc sulfate\n",
       "Length: 1077, dtype: object"
      ]
     },
     "execution_count": 14,
     "metadata": {},
     "output_type": "execute_result"
    }
   ],
   "source": [
    "se_three = pd.Series(three_string_list)\n",
    "se_three"
   ]
  },
  {
   "cell_type": "markdown",
   "id": "74cfd0dc-c794-4325-8d73-06461a568e08",
   "metadata": {},
   "source": [
    "### Make new df for filter"
   ]
  },
  {
   "cell_type": "code",
   "execution_count": 15,
   "id": "b415f44e-4750-4105-9bef-5c31e6127636",
   "metadata": {},
   "outputs": [
    {
     "data": {
      "text/html": [
       "<div>\n",
       "<style scoped>\n",
       "    .dataframe tbody tr th:only-of-type {\n",
       "        vertical-align: middle;\n",
       "    }\n",
       "\n",
       "    .dataframe tbody tr th {\n",
       "        vertical-align: top;\n",
       "    }\n",
       "\n",
       "    .dataframe thead th {\n",
       "        text-align: right;\n",
       "    }\n",
       "</style>\n",
       "<table border=\"1\" class=\"dataframe\">\n",
       "  <thead>\n",
       "    <tr style=\"text-align: right;\">\n",
       "      <th></th>\n",
       "      <th>3_string_meds</th>\n",
       "    </tr>\n",
       "  </thead>\n",
       "  <tbody>\n",
       "    <tr>\n",
       "      <th>0</th>\n",
       "      <td>2-phenylphenol chlorocresol clorophene</td>\n",
       "    </tr>\n",
       "    <tr>\n",
       "      <th>1</th>\n",
       "      <td>4-aminobenzoate salicylic acid</td>\n",
       "    </tr>\n",
       "    <tr>\n",
       "      <th>2</th>\n",
       "      <td>4-aminobenzoic acid arginine</td>\n",
       "    </tr>\n",
       "    <tr>\n",
       "      <th>3</th>\n",
       "      <td>4-aminobenzoic acid methoxsalen</td>\n",
       "    </tr>\n",
       "    <tr>\n",
       "      <th>4</th>\n",
       "      <td>5-hydroxytryptophan vitamin B6</td>\n",
       "    </tr>\n",
       "  </tbody>\n",
       "</table>\n",
       "</div>"
      ],
      "text/plain": [
       "                            3_string_meds\n",
       "0  2-phenylphenol chlorocresol clorophene\n",
       "1          4-aminobenzoate salicylic acid\n",
       "2            4-aminobenzoic acid arginine\n",
       "3         4-aminobenzoic acid methoxsalen\n",
       "4          5-hydroxytryptophan vitamin B6"
      ]
     },
     "execution_count": 15,
     "metadata": {},
     "output_type": "execute_result"
    }
   ],
   "source": [
    "df_filter_3_strings = pd.DataFrame(se_three,columns=['3_string_meds'])\n",
    "\n",
    "df_filter_3_strings.head()\n"
   ]
  },
  {
   "cell_type": "markdown",
   "id": "b8665cde-1f99-436f-b3a8-256d1c65aec1",
   "metadata": {},
   "source": [
    "### Count number of 3 med strings"
   ]
  },
  {
   "cell_type": "code",
   "execution_count": 17,
   "id": "c6b4930a-4756-47d9-a719-ff6f1dd9806b",
   "metadata": {},
   "outputs": [
    {
     "data": {
      "text/plain": [
       "<bound method DataFrame.count of                                3_string_meds\n",
       "0     2-phenylphenol chlorocresol clorophene\n",
       "1             4-aminobenzoate salicylic acid\n",
       "2               4-aminobenzoic acid arginine\n",
       "3            4-aminobenzoic acid methoxsalen\n",
       "4             5-hydroxytryptophan vitamin B6\n",
       "...                                      ...\n",
       "1072                    troxerutin vitamin E\n",
       "1073                   tryptophan vitamin B6\n",
       "1074                 ubidecarenone vitamin E\n",
       "1075                          urea vitamin E\n",
       "1076                  yohimbine zinc sulfate\n",
       "\n",
       "[1077 rows x 1 columns]>"
      ]
     },
     "execution_count": 17,
     "metadata": {},
     "output_type": "execute_result"
    }
   ],
   "source": [
    "#count num of 3 med strings\n",
    "df_filter_3_strings.count\n"
   ]
  },
  {
   "cell_type": "markdown",
   "id": "fd15b84b-21c0-4cea-8556-4d225a64be01",
   "metadata": {},
   "source": [
    "# Before running reversal script: Output list/text file of 3 ingredient meds only"
   ]
  },
  {
   "cell_type": "code",
   "execution_count": 18,
   "id": "1b4f14fe-b26b-4e9e-aaf8-cca64fd62562",
   "metadata": {},
   "outputs": [],
   "source": [
    "#print to csv\n",
    "df_filter_3_strings.to_csv('3_ingred_RxNorm_Meds',index=False,sep='\\t',encoding='utf-8')"
   ]
  },
  {
   "cell_type": "markdown",
   "id": "1c6b3c18-5914-472b-86de-925319f78d59",
   "metadata": {},
   "source": [
    "# Run reversal script for 3 ingredient meds"
   ]
  },
  {
   "cell_type": "code",
   "execution_count": 19,
   "id": "692012d0-f5c2-4bc8-8e26-72bf8fe651ff",
   "metadata": {},
   "outputs": [
    {
     "data": {
      "text/html": [
       "<div>\n",
       "<style scoped>\n",
       "    .dataframe tbody tr th:only-of-type {\n",
       "        vertical-align: middle;\n",
       "    }\n",
       "\n",
       "    .dataframe tbody tr th {\n",
       "        vertical-align: top;\n",
       "    }\n",
       "\n",
       "    .dataframe thead th {\n",
       "        text-align: right;\n",
       "    }\n",
       "</style>\n",
       "<table border=\"1\" class=\"dataframe\">\n",
       "  <thead>\n",
       "    <tr style=\"text-align: right;\">\n",
       "      <th></th>\n",
       "      <th>3_string_meds</th>\n",
       "      <th>3_Reversed</th>\n",
       "    </tr>\n",
       "  </thead>\n",
       "  <tbody>\n",
       "    <tr>\n",
       "      <th>0</th>\n",
       "      <td>2-phenylphenol chlorocresol clorophene</td>\n",
       "      <td>clorophene chlorocresol 2-phenylphenol</td>\n",
       "    </tr>\n",
       "    <tr>\n",
       "      <th>1</th>\n",
       "      <td>4-aminobenzoate salicylic acid</td>\n",
       "      <td>acid salicylic 4-aminobenzoate</td>\n",
       "    </tr>\n",
       "    <tr>\n",
       "      <th>2</th>\n",
       "      <td>4-aminobenzoic acid arginine</td>\n",
       "      <td>arginine acid 4-aminobenzoic</td>\n",
       "    </tr>\n",
       "    <tr>\n",
       "      <th>3</th>\n",
       "      <td>4-aminobenzoic acid methoxsalen</td>\n",
       "      <td>methoxsalen acid 4-aminobenzoic</td>\n",
       "    </tr>\n",
       "    <tr>\n",
       "      <th>4</th>\n",
       "      <td>5-hydroxytryptophan vitamin B6</td>\n",
       "      <td>B6 vitamin 5-hydroxytryptophan</td>\n",
       "    </tr>\n",
       "  </tbody>\n",
       "</table>\n",
       "</div>"
      ],
      "text/plain": [
       "                            3_string_meds  \\\n",
       "0  2-phenylphenol chlorocresol clorophene   \n",
       "1          4-aminobenzoate salicylic acid   \n",
       "2            4-aminobenzoic acid arginine   \n",
       "3         4-aminobenzoic acid methoxsalen   \n",
       "4          5-hydroxytryptophan vitamin B6   \n",
       "\n",
       "                               3_Reversed  \n",
       "0  clorophene chlorocresol 2-phenylphenol  \n",
       "1          acid salicylic 4-aminobenzoate  \n",
       "2            arginine acid 4-aminobenzoic  \n",
       "3         methoxsalen acid 4-aminobenzoic  \n",
       "4          B6 vitamin 5-hydroxytryptophan  "
      ]
     },
     "execution_count": 19,
     "metadata": {},
     "output_type": "execute_result"
    }
   ],
   "source": [
    "#run reversal script and create new column for 3 ingredient meds only\n",
    "#one way to do this\n",
    "df_filter_3_strings['3_Reversed'] = df_filter_3_strings['3_string_meds'].str.split().apply(lambda x: ' '.join(x[::-1]))\n",
    "\n",
    "df_filter_3_strings.head()\n"
   ]
  },
  {
   "cell_type": "code",
   "execution_count": 20,
   "id": "9001f46b-ab13-4046-a0e7-8bde6682e8a9",
   "metadata": {},
   "outputs": [
    {
     "data": {
      "text/plain": [
       "<bound method DataFrame.count of                                3_string_meds  \\\n",
       "0     2-phenylphenol chlorocresol clorophene   \n",
       "1             4-aminobenzoate salicylic acid   \n",
       "2               4-aminobenzoic acid arginine   \n",
       "3            4-aminobenzoic acid methoxsalen   \n",
       "4             5-hydroxytryptophan vitamin B6   \n",
       "...                                      ...   \n",
       "1072                    troxerutin vitamin E   \n",
       "1073                   tryptophan vitamin B6   \n",
       "1074                 ubidecarenone vitamin E   \n",
       "1075                          urea vitamin E   \n",
       "1076                  yohimbine zinc sulfate   \n",
       "\n",
       "                                  3_Reversed  \n",
       "0     clorophene chlorocresol 2-phenylphenol  \n",
       "1             acid salicylic 4-aminobenzoate  \n",
       "2               arginine acid 4-aminobenzoic  \n",
       "3            methoxsalen acid 4-aminobenzoic  \n",
       "4             B6 vitamin 5-hydroxytryptophan  \n",
       "...                                      ...  \n",
       "1072                    E vitamin troxerutin  \n",
       "1073                   B6 vitamin tryptophan  \n",
       "1074                 E vitamin ubidecarenone  \n",
       "1075                          E vitamin urea  \n",
       "1076                  sulfate zinc yohimbine  \n",
       "\n",
       "[1077 rows x 2 columns]>"
      ]
     },
     "execution_count": 20,
     "metadata": {},
     "output_type": "execute_result"
    }
   ],
   "source": [
    "#count them\n",
    "df_filter_3_strings.count"
   ]
  },
  {
   "cell_type": "markdown",
   "id": "fae0ad48-5ccc-4004-a4f8-6e687f65f3df",
   "metadata": {},
   "source": [
    "# Create separate df and then output a file so you can diff them"
   ]
  },
  {
   "cell_type": "code",
   "execution_count": 21,
   "id": "d32d275b-db96-4548-9236-c3d498de4629",
   "metadata": {},
   "outputs": [
    {
     "data": {
      "text/html": [
       "<div>\n",
       "<style scoped>\n",
       "    .dataframe tbody tr th:only-of-type {\n",
       "        vertical-align: middle;\n",
       "    }\n",
       "\n",
       "    .dataframe tbody tr th {\n",
       "        vertical-align: top;\n",
       "    }\n",
       "\n",
       "    .dataframe thead th {\n",
       "        text-align: right;\n",
       "    }\n",
       "</style>\n",
       "<table border=\"1\" class=\"dataframe\">\n",
       "  <thead>\n",
       "    <tr style=\"text-align: right;\">\n",
       "      <th></th>\n",
       "      <th>3_Reversed</th>\n",
       "    </tr>\n",
       "  </thead>\n",
       "  <tbody>\n",
       "    <tr>\n",
       "      <th>0</th>\n",
       "      <td>clorophene chlorocresol 2-phenylphenol</td>\n",
       "    </tr>\n",
       "    <tr>\n",
       "      <th>1</th>\n",
       "      <td>acid salicylic 4-aminobenzoate</td>\n",
       "    </tr>\n",
       "    <tr>\n",
       "      <th>2</th>\n",
       "      <td>arginine acid 4-aminobenzoic</td>\n",
       "    </tr>\n",
       "    <tr>\n",
       "      <th>3</th>\n",
       "      <td>methoxsalen acid 4-aminobenzoic</td>\n",
       "    </tr>\n",
       "    <tr>\n",
       "      <th>4</th>\n",
       "      <td>B6 vitamin 5-hydroxytryptophan</td>\n",
       "    </tr>\n",
       "  </tbody>\n",
       "</table>\n",
       "</div>"
      ],
      "text/plain": [
       "                               3_Reversed\n",
       "0  clorophene chlorocresol 2-phenylphenol\n",
       "1          acid salicylic 4-aminobenzoate\n",
       "2            arginine acid 4-aminobenzoic\n",
       "3         methoxsalen acid 4-aminobenzoic\n",
       "4          B6 vitamin 5-hydroxytryptophan"
      ]
     },
     "execution_count": 21,
     "metadata": {},
     "output_type": "execute_result"
    }
   ],
   "source": [
    "#make new df for reversed strings\n",
    "df_filter_3_strings_rev = pd.DataFrame(df_filter_3_strings['3_Reversed'])\n",
    "\n",
    "df_filter_3_strings_rev.head()\n"
   ]
  },
  {
   "cell_type": "code",
   "execution_count": 22,
   "id": "ab826f00-16de-4bc6-bf43-5fa8aa17d787",
   "metadata": {},
   "outputs": [
    {
     "data": {
      "text/plain": [
       "<bound method DataFrame.count of                                   3_Reversed\n",
       "0     clorophene chlorocresol 2-phenylphenol\n",
       "1             acid salicylic 4-aminobenzoate\n",
       "2               arginine acid 4-aminobenzoic\n",
       "3            methoxsalen acid 4-aminobenzoic\n",
       "4             B6 vitamin 5-hydroxytryptophan\n",
       "...                                      ...\n",
       "1072                    E vitamin troxerutin\n",
       "1073                   B6 vitamin tryptophan\n",
       "1074                 E vitamin ubidecarenone\n",
       "1075                          E vitamin urea\n",
       "1076                  sulfate zinc yohimbine\n",
       "\n",
       "[1077 rows x 1 columns]>"
      ]
     },
     "execution_count": 22,
     "metadata": {},
     "output_type": "execute_result"
    }
   ],
   "source": [
    "#count them\n",
    "df_filter_3_strings_rev.count"
   ]
  },
  {
   "cell_type": "markdown",
   "id": "651fe415-ad62-460d-8cce-a064ae377daa",
   "metadata": {},
   "source": [
    "# Output reversal list to file"
   ]
  },
  {
   "cell_type": "code",
   "execution_count": 23,
   "id": "183be964-c796-43ab-9400-2f85eb067033",
   "metadata": {},
   "outputs": [],
   "source": [
    "#print to csv\n",
    "df_filter_3_strings_rev.to_csv('3_meds_REVERSED',index=False,sep='\\t',encoding='utf-8')"
   ]
  },
  {
   "cell_type": "code",
   "execution_count": null,
   "id": "69e6afbf-215f-470d-8b20-936167f913fa",
   "metadata": {},
   "outputs": [],
   "source": []
  },
  {
   "cell_type": "markdown",
   "id": "3f34772b-a581-48b5-a651-741ff427420d",
   "metadata": {},
   "source": [
    "# 3 ingredient permutations"
   ]
  },
  {
   "cell_type": "code",
   "execution_count": 158,
   "id": "d11d7dc5-f2a5-4f79-a007-395daf978c3a",
   "metadata": {},
   "outputs": [
    {
     "data": {
      "text/html": [
       "<div>\n",
       "<style scoped>\n",
       "    .dataframe tbody tr th:only-of-type {\n",
       "        vertical-align: middle;\n",
       "    }\n",
       "\n",
       "    .dataframe tbody tr th {\n",
       "        vertical-align: top;\n",
       "    }\n",
       "\n",
       "    .dataframe thead th {\n",
       "        text-align: right;\n",
       "    }\n",
       "</style>\n",
       "<table border=\"1\" class=\"dataframe\">\n",
       "  <thead>\n",
       "    <tr style=\"text-align: right;\">\n",
       "      <th></th>\n",
       "      <th>RxNorm_Multi_Ingredient_Drugs</th>\n",
       "      <th>A</th>\n",
       "    </tr>\n",
       "  </thead>\n",
       "  <tbody>\n",
       "    <tr>\n",
       "      <th>0</th>\n",
       "      <td>17-alpha-hydroxyprogesterone estradiol</td>\n",
       "      <td>17-alpha-hydroxyprogesterone estradiol</td>\n",
       "    </tr>\n",
       "    <tr>\n",
       "      <th>1</th>\n",
       "      <td>2-phenylphenol chlorocresol clorophene</td>\n",
       "      <td>2-phenylphenol chlorocresol clorophene</td>\n",
       "    </tr>\n",
       "    <tr>\n",
       "      <th>2</th>\n",
       "      <td>4-aminobenzoate salicylic acid</td>\n",
       "      <td>4-aminobenzoate salicylic acid</td>\n",
       "    </tr>\n",
       "    <tr>\n",
       "      <th>3</th>\n",
       "      <td>4-aminobenzoic acid arginine</td>\n",
       "      <td>4-aminobenzoic acid arginine</td>\n",
       "    </tr>\n",
       "    <tr>\n",
       "      <th>4</th>\n",
       "      <td>4-aminobenzoic acid methoxsalen</td>\n",
       "      <td>4-aminobenzoic acid methoxsalen</td>\n",
       "    </tr>\n",
       "    <tr>\n",
       "      <th>5</th>\n",
       "      <td>4-aminobenzoic acid salicylic acid</td>\n",
       "      <td>4-aminobenzoic acid salicylic acid</td>\n",
       "    </tr>\n",
       "    <tr>\n",
       "      <th>6</th>\n",
       "      <td>4-cymene chlorproethazine</td>\n",
       "      <td>4-cymene chlorproethazine</td>\n",
       "    </tr>\n",
       "    <tr>\n",
       "      <th>7</th>\n",
       "      <td>5-hydroxytryptophan magnesium oxide melatonin ...</td>\n",
       "      <td>5-hydroxytryptophan magnesium oxide melatonin ...</td>\n",
       "    </tr>\n",
       "    <tr>\n",
       "      <th>8</th>\n",
       "      <td>5-hydroxytryptophan melatonin</td>\n",
       "      <td>5-hydroxytryptophan melatonin</td>\n",
       "    </tr>\n",
       "    <tr>\n",
       "      <th>9</th>\n",
       "      <td>5-hydroxytryptophan vitamin B6</td>\n",
       "      <td>5-hydroxytryptophan vitamin B6</td>\n",
       "    </tr>\n",
       "    <tr>\n",
       "      <th>10</th>\n",
       "      <td>5-methyl-8-hydroxyquinoline tilbroquinol</td>\n",
       "      <td>5-methyl-8-hydroxyquinoline tilbroquinol</td>\n",
       "    </tr>\n",
       "    <tr>\n",
       "      <th>11</th>\n",
       "      <td>6-O-palmitoylascorbic acid alpha tocopherol le...</td>\n",
       "      <td>6-O-palmitoylascorbic acid alpha tocopherol le...</td>\n",
       "    </tr>\n",
       "    <tr>\n",
       "      <th>12</th>\n",
       "      <td>abacavir dolutegravir lamivudine</td>\n",
       "      <td>abacavir dolutegravir lamivudine</td>\n",
       "    </tr>\n",
       "    <tr>\n",
       "      <th>13</th>\n",
       "      <td>abacavir lamivudine</td>\n",
       "      <td>abacavir lamivudine</td>\n",
       "    </tr>\n",
       "    <tr>\n",
       "      <th>14</th>\n",
       "      <td>abacavir lamivudine zidovudine</td>\n",
       "      <td>abacavir lamivudine zidovudine</td>\n",
       "    </tr>\n",
       "    <tr>\n",
       "      <th>15</th>\n",
       "      <td>acebutolol hydrochlorothiazide</td>\n",
       "      <td>acebutolol hydrochlorothiazide</td>\n",
       "    </tr>\n",
       "    <tr>\n",
       "      <th>16</th>\n",
       "      <td>acebutolol mefruside</td>\n",
       "      <td>acebutolol mefruside</td>\n",
       "    </tr>\n",
       "    <tr>\n",
       "      <th>17</th>\n",
       "      <td>acebutolol nifedipine</td>\n",
       "      <td>acebutolol nifedipine</td>\n",
       "    </tr>\n",
       "    <tr>\n",
       "      <th>18</th>\n",
       "      <td>acellular pertussis vaccine, inactivated dipht...</td>\n",
       "      <td>acellular pertussis vaccine, inactivated dipht...</td>\n",
       "    </tr>\n",
       "    <tr>\n",
       "      <th>19</th>\n",
       "      <td>acellular pertussis vaccine, inactivated dipht...</td>\n",
       "      <td>acellular pertussis vaccine, inactivated dipht...</td>\n",
       "    </tr>\n",
       "    <tr>\n",
       "      <th>20</th>\n",
       "      <td>acellular pertussis vaccine, inactivated dipht...</td>\n",
       "      <td>acellular pertussis vaccine, inactivated dipht...</td>\n",
       "    </tr>\n",
       "    <tr>\n",
       "      <th>21</th>\n",
       "      <td>acellular pertussis vaccine, inactivated dipht...</td>\n",
       "      <td>acellular pertussis vaccine, inactivated dipht...</td>\n",
       "    </tr>\n",
       "    <tr>\n",
       "      <th>22</th>\n",
       "      <td>acemetacin chlorzoxazone</td>\n",
       "      <td>acemetacin chlorzoxazone</td>\n",
       "    </tr>\n",
       "    <tr>\n",
       "      <th>23</th>\n",
       "      <td>aceprometazine meprobamate</td>\n",
       "      <td>aceprometazine meprobamate</td>\n",
       "    </tr>\n",
       "    <tr>\n",
       "      <th>24</th>\n",
       "      <td>acetaminophen adiphenine</td>\n",
       "      <td>acetaminophen adiphenine</td>\n",
       "    </tr>\n",
       "    <tr>\n",
       "      <th>25</th>\n",
       "      <td>acetaminophen aluminum acetate chlorpheniramin...</td>\n",
       "      <td>acetaminophen aluminum acetate chlorpheniramin...</td>\n",
       "    </tr>\n",
       "    <tr>\n",
       "      <th>26</th>\n",
       "      <td>acetaminophen ambroxol oxatomide</td>\n",
       "      <td>acetaminophen ambroxol oxatomide</td>\n",
       "    </tr>\n",
       "    <tr>\n",
       "      <th>27</th>\n",
       "      <td>acetaminophen antipyrine caffeine</td>\n",
       "      <td>acetaminophen antipyrine caffeine</td>\n",
       "    </tr>\n",
       "    <tr>\n",
       "      <th>28</th>\n",
       "      <td>acetaminophen ascorbic acid eucalyptol</td>\n",
       "      <td>acetaminophen ascorbic acid eucalyptol</td>\n",
       "    </tr>\n",
       "    <tr>\n",
       "      <th>29</th>\n",
       "      <td>acetaminophen aspirin</td>\n",
       "      <td>acetaminophen aspirin</td>\n",
       "    </tr>\n",
       "  </tbody>\n",
       "</table>\n",
       "</div>"
      ],
      "text/plain": [
       "                        RxNorm_Multi_Ingredient_Drugs  \\\n",
       "0              17-alpha-hydroxyprogesterone estradiol   \n",
       "1              2-phenylphenol chlorocresol clorophene   \n",
       "2                      4-aminobenzoate salicylic acid   \n",
       "3                        4-aminobenzoic acid arginine   \n",
       "4                     4-aminobenzoic acid methoxsalen   \n",
       "5                  4-aminobenzoic acid salicylic acid   \n",
       "6                           4-cymene chlorproethazine   \n",
       "7   5-hydroxytryptophan magnesium oxide melatonin ...   \n",
       "8                       5-hydroxytryptophan melatonin   \n",
       "9                      5-hydroxytryptophan vitamin B6   \n",
       "10           5-methyl-8-hydroxyquinoline tilbroquinol   \n",
       "11  6-O-palmitoylascorbic acid alpha tocopherol le...   \n",
       "12                   abacavir dolutegravir lamivudine   \n",
       "13                                abacavir lamivudine   \n",
       "14                     abacavir lamivudine zidovudine   \n",
       "15                     acebutolol hydrochlorothiazide   \n",
       "16                               acebutolol mefruside   \n",
       "17                              acebutolol nifedipine   \n",
       "18  acellular pertussis vaccine, inactivated dipht...   \n",
       "19  acellular pertussis vaccine, inactivated dipht...   \n",
       "20  acellular pertussis vaccine, inactivated dipht...   \n",
       "21  acellular pertussis vaccine, inactivated dipht...   \n",
       "22                           acemetacin chlorzoxazone   \n",
       "23                         aceprometazine meprobamate   \n",
       "24                           acetaminophen adiphenine   \n",
       "25  acetaminophen aluminum acetate chlorpheniramin...   \n",
       "26                   acetaminophen ambroxol oxatomide   \n",
       "27                  acetaminophen antipyrine caffeine   \n",
       "28             acetaminophen ascorbic acid eucalyptol   \n",
       "29                              acetaminophen aspirin   \n",
       "\n",
       "                                                    A  \n",
       "0              17-alpha-hydroxyprogesterone estradiol  \n",
       "1              2-phenylphenol chlorocresol clorophene  \n",
       "2                      4-aminobenzoate salicylic acid  \n",
       "3                        4-aminobenzoic acid arginine  \n",
       "4                     4-aminobenzoic acid methoxsalen  \n",
       "5                  4-aminobenzoic acid salicylic acid  \n",
       "6                           4-cymene chlorproethazine  \n",
       "7   5-hydroxytryptophan magnesium oxide melatonin ...  \n",
       "8                       5-hydroxytryptophan melatonin  \n",
       "9                      5-hydroxytryptophan vitamin B6  \n",
       "10           5-methyl-8-hydroxyquinoline tilbroquinol  \n",
       "11  6-O-palmitoylascorbic acid alpha tocopherol le...  \n",
       "12                   abacavir dolutegravir lamivudine  \n",
       "13                                abacavir lamivudine  \n",
       "14                     abacavir lamivudine zidovudine  \n",
       "15                     acebutolol hydrochlorothiazide  \n",
       "16                               acebutolol mefruside  \n",
       "17                              acebutolol nifedipine  \n",
       "18  acellular pertussis vaccine, inactivated dipht...  \n",
       "19  acellular pertussis vaccine, inactivated dipht...  \n",
       "20  acellular pertussis vaccine, inactivated dipht...  \n",
       "21  acellular pertussis vaccine, inactivated dipht...  \n",
       "22                           acemetacin chlorzoxazone  \n",
       "23                         aceprometazine meprobamate  \n",
       "24                           acetaminophen adiphenine  \n",
       "25  acetaminophen aluminum acetate chlorpheniramin...  \n",
       "26                   acetaminophen ambroxol oxatomide  \n",
       "27                  acetaminophen antipyrine caffeine  \n",
       "28             acetaminophen ascorbic acid eucalyptol  \n",
       "29                              acetaminophen aspirin  "
      ]
     },
     "execution_count": 158,
     "metadata": {},
     "output_type": "execute_result"
    }
   ],
   "source": [
    "df_rxnorm.head(30)"
   ]
  },
  {
   "cell_type": "code",
   "execution_count": 157,
   "id": "10f317af-700f-42a8-802c-8d84dec6c1c1",
   "metadata": {},
   "outputs": [
    {
     "data": {
      "text/html": [
       "<div>\n",
       "<style scoped>\n",
       "    .dataframe tbody tr th:only-of-type {\n",
       "        vertical-align: middle;\n",
       "    }\n",
       "\n",
       "    .dataframe tbody tr th {\n",
       "        vertical-align: top;\n",
       "    }\n",
       "\n",
       "    .dataframe thead th {\n",
       "        text-align: right;\n",
       "    }\n",
       "</style>\n",
       "<table border=\"1\" class=\"dataframe\">\n",
       "  <thead>\n",
       "    <tr style=\"text-align: right;\">\n",
       "      <th></th>\n",
       "      <th>A</th>\n",
       "    </tr>\n",
       "  </thead>\n",
       "  <tbody>\n",
       "    <tr>\n",
       "      <th>16</th>\n",
       "      <td>acebutolol mefruside</td>\n",
       "    </tr>\n",
       "    <tr>\n",
       "      <th>17</th>\n",
       "      <td>acebutolol nifedipine</td>\n",
       "    </tr>\n",
       "    <tr>\n",
       "      <th>18</th>\n",
       "      <td>acellular pertussis vaccine, inactivated dipht...</td>\n",
       "    </tr>\n",
       "  </tbody>\n",
       "</table>\n",
       "</div>"
      ],
      "text/plain": [
       "                                                    A\n",
       "16                               acebutolol mefruside\n",
       "17                              acebutolol nifedipine\n",
       "18  acellular pertussis vaccine, inactivated dipht..."
      ]
     },
     "execution_count": 157,
     "metadata": {},
     "output_type": "execute_result"
    }
   ],
   "source": [
    "df_test = pd.DataFrame(df_rxnorm.A[16:19])\n",
    "\n",
    "df_test"
   ]
  },
  {
   "cell_type": "markdown",
   "id": "0541c5bf-a376-4f70-a503-ddd6dd858670",
   "metadata": {},
   "source": [
    "# Permutations of 3 ingredients"
   ]
  },
  {
   "cell_type": "code",
   "execution_count": 11,
   "id": "837d7f91-2632-48eb-9a9b-6ac40d072efb",
   "metadata": {},
   "outputs": [
    {
     "name": "stdout",
     "output_type": "stream",
     "text": [
      "NACL with KCL\n",
      "NACL KCL with\n",
      "with NACL KCL\n",
      "with KCL NACL\n",
      "KCL NACL with\n",
      "KCL with NACL\n"
     ]
    }
   ],
   "source": [
    "from itertools import permutations\n",
    "def calculate_permutations(my_string):\n",
    "\n",
    "   my_list = my_string.split()\n",
    "\n",
    "   permutes = permutations(my_list)\n",
    "\n",
    "   for i in permutes:\n",
    "\n",
    "      permute_list = i\n",
    "      print(' '.join(i))\n",
    "\n",
    "      #print()\n",
    "\n",
    "  \n",
    "\n",
    "my_string = \"NACL with KCL\"\n",
    "\n",
    "calculate_permutations(my_string)\n"
   ]
  },
  {
   "cell_type": "code",
   "execution_count": null,
   "id": "a824b2f5-5cad-4bb4-97ac-486a827644e7",
   "metadata": {},
   "outputs": [],
   "source": []
  },
  {
   "cell_type": "code",
   "execution_count": null,
   "id": "5b474e0c-803d-46aa-aad7-530f860f4c88",
   "metadata": {},
   "outputs": [],
   "source": []
  },
  {
   "cell_type": "markdown",
   "id": "64f3e4cc-156a-4ee8-9b37-4519f24cabc3",
   "metadata": {},
   "source": [
    "# Test area"
   ]
  },
  {
   "cell_type": "code",
   "execution_count": 196,
   "id": "194ee3c5-7920-43cb-9bf6-72a3fb6c96d9",
   "metadata": {},
   "outputs": [
    {
     "data": {
      "text/html": [
       "<div>\n",
       "<style scoped>\n",
       "    .dataframe tbody tr th:only-of-type {\n",
       "        vertical-align: middle;\n",
       "    }\n",
       "\n",
       "    .dataframe tbody tr th {\n",
       "        vertical-align: top;\n",
       "    }\n",
       "\n",
       "    .dataframe thead th {\n",
       "        text-align: right;\n",
       "    }\n",
       "</style>\n",
       "<table border=\"1\" class=\"dataframe\">\n",
       "  <thead>\n",
       "    <tr style=\"text-align: right;\">\n",
       "      <th></th>\n",
       "      <th>3_string_meds</th>\n",
       "      <th>3_Reversed</th>\n",
       "    </tr>\n",
       "  </thead>\n",
       "  <tbody>\n",
       "    <tr>\n",
       "      <th>0</th>\n",
       "      <td>2-phenylphenol chlorocresol clorophene</td>\n",
       "      <td>clorophene chlorocresol 2-phenylphenol</td>\n",
       "    </tr>\n",
       "    <tr>\n",
       "      <th>1</th>\n",
       "      <td>4-aminobenzoate salicylic acid</td>\n",
       "      <td>acid salicylic 4-aminobenzoate</td>\n",
       "    </tr>\n",
       "    <tr>\n",
       "      <th>2</th>\n",
       "      <td>4-aminobenzoic acid arginine</td>\n",
       "      <td>arginine acid 4-aminobenzoic</td>\n",
       "    </tr>\n",
       "    <tr>\n",
       "      <th>3</th>\n",
       "      <td>4-aminobenzoic acid methoxsalen</td>\n",
       "      <td>methoxsalen acid 4-aminobenzoic</td>\n",
       "    </tr>\n",
       "    <tr>\n",
       "      <th>4</th>\n",
       "      <td>5-hydroxytryptophan vitamin B6</td>\n",
       "      <td>B6 vitamin 5-hydroxytryptophan</td>\n",
       "    </tr>\n",
       "  </tbody>\n",
       "</table>\n",
       "</div>"
      ],
      "text/plain": [
       "                            3_string_meds  \\\n",
       "0  2-phenylphenol chlorocresol clorophene   \n",
       "1          4-aminobenzoate salicylic acid   \n",
       "2            4-aminobenzoic acid arginine   \n",
       "3         4-aminobenzoic acid methoxsalen   \n",
       "4          5-hydroxytryptophan vitamin B6   \n",
       "\n",
       "                               3_Reversed  \n",
       "0  clorophene chlorocresol 2-phenylphenol  \n",
       "1          acid salicylic 4-aminobenzoate  \n",
       "2            arginine acid 4-aminobenzoic  \n",
       "3         methoxsalen acid 4-aminobenzoic  \n",
       "4          B6 vitamin 5-hydroxytryptophan  "
      ]
     },
     "execution_count": 196,
     "metadata": {},
     "output_type": "execute_result"
    }
   ],
   "source": [
    "df_filter_3_strings.head()"
   ]
  },
  {
   "cell_type": "code",
   "execution_count": 198,
   "id": "77cc8e7a-0ef3-49c2-a7f3-d87c44438050",
   "metadata": {},
   "outputs": [
    {
     "data": {
      "text/plain": [
       "0    2-phenylphenol chlorocresol clorophene\n",
       "1            4-aminobenzoate salicylic acid\n",
       "2              4-aminobenzoic acid arginine\n",
       "3           4-aminobenzoic acid methoxsalen\n",
       "4            5-hydroxytryptophan vitamin B6\n",
       "Name: 3_string_meds, dtype: object"
      ]
     },
     "execution_count": 198,
     "metadata": {},
     "output_type": "execute_result"
    }
   ],
   "source": [
    "df_test = df_filter_3_strings['3_string_meds']\n",
    "\n",
    "df_test.head()"
   ]
  },
  {
   "cell_type": "code",
   "execution_count": 199,
   "id": "6891de07-dcd6-4d5c-8f55-1b6411d11d80",
   "metadata": {},
   "outputs": [
    {
     "data": {
      "text/html": [
       "<div>\n",
       "<style scoped>\n",
       "    .dataframe tbody tr th:only-of-type {\n",
       "        vertical-align: middle;\n",
       "    }\n",
       "\n",
       "    .dataframe tbody tr th {\n",
       "        vertical-align: top;\n",
       "    }\n",
       "\n",
       "    .dataframe thead th {\n",
       "        text-align: right;\n",
       "    }\n",
       "</style>\n",
       "<table border=\"1\" class=\"dataframe\">\n",
       "  <thead>\n",
       "    <tr style=\"text-align: right;\">\n",
       "      <th></th>\n",
       "      <th>3_string_meds</th>\n",
       "    </tr>\n",
       "  </thead>\n",
       "  <tbody>\n",
       "    <tr>\n",
       "      <th>0</th>\n",
       "      <td>2-phenylphenol chlorocresol clorophene</td>\n",
       "    </tr>\n",
       "    <tr>\n",
       "      <th>1</th>\n",
       "      <td>4-aminobenzoate salicylic acid</td>\n",
       "    </tr>\n",
       "    <tr>\n",
       "      <th>2</th>\n",
       "      <td>4-aminobenzoic acid arginine</td>\n",
       "    </tr>\n",
       "    <tr>\n",
       "      <th>3</th>\n",
       "      <td>4-aminobenzoic acid methoxsalen</td>\n",
       "    </tr>\n",
       "    <tr>\n",
       "      <th>4</th>\n",
       "      <td>5-hydroxytryptophan vitamin B6</td>\n",
       "    </tr>\n",
       "    <tr>\n",
       "      <th>...</th>\n",
       "      <td>...</td>\n",
       "    </tr>\n",
       "    <tr>\n",
       "      <th>1072</th>\n",
       "      <td>troxerutin vitamin E</td>\n",
       "    </tr>\n",
       "    <tr>\n",
       "      <th>1073</th>\n",
       "      <td>tryptophan vitamin B6</td>\n",
       "    </tr>\n",
       "    <tr>\n",
       "      <th>1074</th>\n",
       "      <td>ubidecarenone vitamin E</td>\n",
       "    </tr>\n",
       "    <tr>\n",
       "      <th>1075</th>\n",
       "      <td>urea vitamin E</td>\n",
       "    </tr>\n",
       "    <tr>\n",
       "      <th>1076</th>\n",
       "      <td>yohimbine zinc sulfate</td>\n",
       "    </tr>\n",
       "  </tbody>\n",
       "</table>\n",
       "<p>1077 rows × 1 columns</p>\n",
       "</div>"
      ],
      "text/plain": [
       "                               3_string_meds\n",
       "0     2-phenylphenol chlorocresol clorophene\n",
       "1             4-aminobenzoate salicylic acid\n",
       "2               4-aminobenzoic acid arginine\n",
       "3            4-aminobenzoic acid methoxsalen\n",
       "4             5-hydroxytryptophan vitamin B6\n",
       "...                                      ...\n",
       "1072                    troxerutin vitamin E\n",
       "1073                   tryptophan vitamin B6\n",
       "1074                 ubidecarenone vitamin E\n",
       "1075                          urea vitamin E\n",
       "1076                  yohimbine zinc sulfate\n",
       "\n",
       "[1077 rows x 1 columns]"
      ]
     },
     "execution_count": 199,
     "metadata": {},
     "output_type": "execute_result"
    }
   ],
   "source": [
    "df_test = pd.DataFrame(df_test)\n",
    "\n",
    "df_test"
   ]
  },
  {
   "cell_type": "code",
   "execution_count": 200,
   "id": "4677577f-4244-424b-b0fc-d9b3794dbfee",
   "metadata": {},
   "outputs": [
    {
     "name": "stdout",
     "output_type": "stream",
     "text": [
      "<class 'pandas.core.frame.DataFrame'>\n",
      "RangeIndex: 1077 entries, 0 to 1076\n",
      "Data columns (total 1 columns):\n",
      " #   Column         Non-Null Count  Dtype \n",
      "---  ------         --------------  ----- \n",
      " 0   3_string_meds  1077 non-null   object\n",
      "dtypes: object(1)\n",
      "memory usage: 8.5+ KB\n"
     ]
    }
   ],
   "source": [
    "df_test.info()"
   ]
  },
  {
   "cell_type": "markdown",
   "id": "aa1f3f48-f0c8-4c5a-ba5b-0b803c8fde78",
   "metadata": {},
   "source": [
    "# **Permutation function**"
   ]
  },
  {
   "cell_type": "code",
   "execution_count": 201,
   "id": "e7ac0dfa-a795-4ca3-9a21-b0e97fcf9ea7",
   "metadata": {},
   "outputs": [],
   "source": [
    "from itertools import permutations\n",
    "def three_perms(x):\n",
    "\n",
    "   my_list = x.split()\n",
    "\n",
    "   permutes = permutations(my_list)\n",
    "\n",
    "   for i in permutes:\n",
    "\n",
    "      permute_list = i\n",
    "      print(' '.join(i))\n",
    "\n",
    "      #print()\n"
   ]
  },
  {
   "cell_type": "code",
   "execution_count": 185,
   "id": "a61448b6-9a84-4fa8-905c-0f8fdbb00930",
   "metadata": {},
   "outputs": [
    {
     "data": {
      "text/html": [
       "<div>\n",
       "<style scoped>\n",
       "    .dataframe tbody tr th:only-of-type {\n",
       "        vertical-align: middle;\n",
       "    }\n",
       "\n",
       "    .dataframe tbody tr th {\n",
       "        vertical-align: top;\n",
       "    }\n",
       "\n",
       "    .dataframe thead th {\n",
       "        text-align: right;\n",
       "    }\n",
       "</style>\n",
       "<table border=\"1\" class=\"dataframe\">\n",
       "  <thead>\n",
       "    <tr style=\"text-align: right;\">\n",
       "      <th></th>\n",
       "      <th>3_string_meds</th>\n",
       "    </tr>\n",
       "  </thead>\n",
       "  <tbody>\n",
       "    <tr>\n",
       "      <th>11</th>\n",
       "      <td>acetaminophen aspirin diphenhydramine</td>\n",
       "    </tr>\n",
       "    <tr>\n",
       "      <th>12</th>\n",
       "      <td>acetaminophen aspirin phenylpropanolamine</td>\n",
       "    </tr>\n",
       "    <tr>\n",
       "      <th>13</th>\n",
       "      <td>acetaminophen aspirin salicylamide</td>\n",
       "    </tr>\n",
       "    <tr>\n",
       "      <th>14</th>\n",
       "      <td>acetaminophen brompheniramine phenylpropanolamine</td>\n",
       "    </tr>\n",
       "    <tr>\n",
       "      <th>15</th>\n",
       "      <td>acetaminophen brompheniramine pseudoephedrine</td>\n",
       "    </tr>\n",
       "  </tbody>\n",
       "</table>\n",
       "</div>"
      ],
      "text/plain": [
       "                                        3_string_meds\n",
       "11              acetaminophen aspirin diphenhydramine\n",
       "12          acetaminophen aspirin phenylpropanolamine\n",
       "13                 acetaminophen aspirin salicylamide\n",
       "14  acetaminophen brompheniramine phenylpropanolamine\n",
       "15      acetaminophen brompheniramine pseudoephedrine"
      ]
     },
     "execution_count": 185,
     "metadata": {},
     "output_type": "execute_result"
    }
   ],
   "source": [
    "df_test"
   ]
  },
  {
   "cell_type": "markdown",
   "id": "0f07239b-3873-4e3f-a38b-8ad16ba2fc1d",
   "metadata": {},
   "source": [
    "### Reverse all strings in file"
   ]
  },
  {
   "cell_type": "code",
   "execution_count": null,
   "id": "b7e5292d-a2d5-4511-82de-235ec2e08515",
   "metadata": {},
   "outputs": [],
   "source": []
  },
  {
   "cell_type": "markdown",
   "id": "6d86aa5d-9e75-4f39-b2d3-a59e166052a9",
   "metadata": {},
   "source": [
    "Process for this:<br>\n",
    "1. Split the string<br>\n",
    "2. Reverse the string<br>\n",
    "3. Join the string<br>"
   ]
  },
  {
   "cell_type": "code",
   "execution_count": 30,
   "id": "187f50f4-446a-4100-90c6-851f46a7efdc",
   "metadata": {
    "tags": []
   },
   "outputs": [
    {
     "data": {
      "text/html": [
       "<div>\n",
       "<style scoped>\n",
       "    .dataframe tbody tr th:only-of-type {\n",
       "        vertical-align: middle;\n",
       "    }\n",
       "\n",
       "    .dataframe tbody tr th {\n",
       "        vertical-align: top;\n",
       "    }\n",
       "\n",
       "    .dataframe thead th {\n",
       "        text-align: right;\n",
       "    }\n",
       "</style>\n",
       "<table border=\"1\" class=\"dataframe\">\n",
       "  <thead>\n",
       "    <tr style=\"text-align: right;\">\n",
       "      <th></th>\n",
       "      <th>RxNorm_Multi_Ingredient_Drugs</th>\n",
       "    </tr>\n",
       "  </thead>\n",
       "  <tbody>\n",
       "    <tr>\n",
       "      <th>0</th>\n",
       "      <td>17-alpha-hydroxyprogesterone estradiol</td>\n",
       "    </tr>\n",
       "    <tr>\n",
       "      <th>1</th>\n",
       "      <td>2-phenylphenol chlorocresol clorophene</td>\n",
       "    </tr>\n",
       "    <tr>\n",
       "      <th>2</th>\n",
       "      <td>4-aminobenzoate salicylic acid</td>\n",
       "    </tr>\n",
       "    <tr>\n",
       "      <th>3</th>\n",
       "      <td>4-aminobenzoic acid arginine</td>\n",
       "    </tr>\n",
       "    <tr>\n",
       "      <th>4</th>\n",
       "      <td>4-aminobenzoic acid methoxsalen</td>\n",
       "    </tr>\n",
       "  </tbody>\n",
       "</table>\n",
       "</div>"
      ],
      "text/plain": [
       "            RxNorm_Multi_Ingredient_Drugs\n",
       "0  17-alpha-hydroxyprogesterone estradiol\n",
       "1  2-phenylphenol chlorocresol clorophene\n",
       "2          4-aminobenzoate salicylic acid\n",
       "3            4-aminobenzoic acid arginine\n",
       "4         4-aminobenzoic acid methoxsalen"
      ]
     },
     "execution_count": 30,
     "metadata": {},
     "output_type": "execute_result"
    }
   ],
   "source": [
    "df_rxnorm = pd.DataFrame(df_rxnorm)\n",
    "\n",
    "df_rxnorm.head()"
   ]
  },
  {
   "cell_type": "markdown",
   "id": "6ad70ad7-7670-4484-a6bf-624e1c9cb59b",
   "metadata": {},
   "source": [
    "### Run reversal script"
   ]
  },
  {
   "cell_type": "code",
   "execution_count": 35,
   "id": "4200a13d-6261-45ce-81ee-41a9e2a4640b",
   "metadata": {},
   "outputs": [
    {
     "data": {
      "text/html": [
       "<div>\n",
       "<style scoped>\n",
       "    .dataframe tbody tr th:only-of-type {\n",
       "        vertical-align: middle;\n",
       "    }\n",
       "\n",
       "    .dataframe tbody tr th {\n",
       "        vertical-align: top;\n",
       "    }\n",
       "\n",
       "    .dataframe thead th {\n",
       "        text-align: right;\n",
       "    }\n",
       "</style>\n",
       "<table border=\"1\" class=\"dataframe\">\n",
       "  <thead>\n",
       "    <tr style=\"text-align: right;\">\n",
       "      <th></th>\n",
       "      <th>RxNorm_Multi_Ingredient_Drugs</th>\n",
       "      <th>A</th>\n",
       "      <th>B</th>\n",
       "    </tr>\n",
       "  </thead>\n",
       "  <tbody>\n",
       "    <tr>\n",
       "      <th>0</th>\n",
       "      <td>17-alpha-hydroxyprogesterone estradiol</td>\n",
       "      <td>17-alpha-hydroxyprogesterone estradiol</td>\n",
       "      <td>estradiol 17-alpha-hydroxyprogesterone</td>\n",
       "    </tr>\n",
       "    <tr>\n",
       "      <th>1</th>\n",
       "      <td>2-phenylphenol chlorocresol clorophene</td>\n",
       "      <td>2-phenylphenol chlorocresol clorophene</td>\n",
       "      <td>clorophene chlorocresol 2-phenylphenol</td>\n",
       "    </tr>\n",
       "    <tr>\n",
       "      <th>2</th>\n",
       "      <td>4-aminobenzoate salicylic acid</td>\n",
       "      <td>4-aminobenzoate salicylic acid</td>\n",
       "      <td>acid salicylic 4-aminobenzoate</td>\n",
       "    </tr>\n",
       "    <tr>\n",
       "      <th>3</th>\n",
       "      <td>4-aminobenzoic acid arginine</td>\n",
       "      <td>4-aminobenzoic acid arginine</td>\n",
       "      <td>arginine acid 4-aminobenzoic</td>\n",
       "    </tr>\n",
       "    <tr>\n",
       "      <th>4</th>\n",
       "      <td>4-aminobenzoic acid methoxsalen</td>\n",
       "      <td>4-aminobenzoic acid methoxsalen</td>\n",
       "      <td>methoxsalen acid 4-aminobenzoic</td>\n",
       "    </tr>\n",
       "  </tbody>\n",
       "</table>\n",
       "</div>"
      ],
      "text/plain": [
       "            RxNorm_Multi_Ingredient_Drugs  \\\n",
       "0  17-alpha-hydroxyprogesterone estradiol   \n",
       "1  2-phenylphenol chlorocresol clorophene   \n",
       "2          4-aminobenzoate salicylic acid   \n",
       "3            4-aminobenzoic acid arginine   \n",
       "4         4-aminobenzoic acid methoxsalen   \n",
       "\n",
       "                                        A  \\\n",
       "0  17-alpha-hydroxyprogesterone estradiol   \n",
       "1  2-phenylphenol chlorocresol clorophene   \n",
       "2          4-aminobenzoate salicylic acid   \n",
       "3            4-aminobenzoic acid arginine   \n",
       "4         4-aminobenzoic acid methoxsalen   \n",
       "\n",
       "                                        B  \n",
       "0  estradiol 17-alpha-hydroxyprogesterone  \n",
       "1  clorophene chlorocresol 2-phenylphenol  \n",
       "2          acid salicylic 4-aminobenzoate  \n",
       "3            arginine acid 4-aminobenzoic  \n",
       "4         methoxsalen acid 4-aminobenzoic  "
      ]
     },
     "execution_count": 35,
     "metadata": {},
     "output_type": "execute_result"
    }
   ],
   "source": [
    "#one way to do this\n",
    "df_rxnorm['B'] = df_rxnorm.A.str.split().apply(lambda x: ' '.join(x[::-1]))\n",
    "df_rxnorm.head()"
   ]
  },
  {
   "cell_type": "code",
   "execution_count": 36,
   "id": "b5af288f-6162-4a72-81fd-847d098d1def",
   "metadata": {},
   "outputs": [
    {
     "name": "stdout",
     "output_type": "stream",
     "text": [
      "0                  estradiol 17-alpha-hydroxyprogesterone\n",
      "1                  clorophene chlorocresol 2-phenylphenol\n",
      "2                          acid salicylic 4-aminobenzoate\n",
      "3                            arginine acid 4-aminobenzoic\n",
      "4                         methoxsalen acid 4-aminobenzoic\n",
      "                              ...                        \n",
      "3762                            gluconate zinc B6 vitamin\n",
      "3763                           picolinate zinc B6 vitamin\n",
      "3764    extract pollen clover sweet yellow extract pol...\n",
      "3765                               oxide zinc hazel witch\n",
      "3766                               sulfate zinc yohimbine\n",
      "Name: B, Length: 3767, dtype: object\n"
     ]
    }
   ],
   "source": [
    "print(df_rxnorm['B'])"
   ]
  }
 ],
 "metadata": {
  "kernelspec": {
   "display_name": "Python 3",
   "language": "python",
   "name": "python3"
  },
  "language_info": {
   "codemirror_mode": {
    "name": "ipython",
    "version": 3
   },
   "file_extension": ".py",
   "mimetype": "text/x-python",
   "name": "python",
   "nbconvert_exporter": "python",
   "pygments_lexer": "ipython3",
   "version": "3.8.8"
  }
 },
 "nbformat": 4,
 "nbformat_minor": 5
}
