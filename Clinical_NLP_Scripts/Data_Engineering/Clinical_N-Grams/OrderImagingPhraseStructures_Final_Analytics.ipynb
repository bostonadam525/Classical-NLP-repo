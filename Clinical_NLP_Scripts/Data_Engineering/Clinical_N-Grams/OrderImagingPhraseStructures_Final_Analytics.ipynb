{
 "cells": [
  {
   "cell_type": "markdown",
   "metadata": {},
   "source": [
    "# OrderImaging Phrase Structures Final Analytics"
   ]
  },
  {
   "cell_type": "markdown",
   "metadata": {},
   "source": [
    "#### Overview\n",
    "- Notebook by Adam Lang\n",
    "- This is a demo of work I completed while at Nuance/Microsoft in 2023.\n",
    "- The purpose of this notebook is to complete the analysis of the OrderImaging phrase patterns that were done in the previous notebook."
   ]
  },
  {
   "cell_type": "markdown",
   "metadata": {},
   "source": [
    "# Part 1: Duplicate/Overlapping patterns seen in NLU model + Core n-grams"
   ]
  },
  {
   "cell_type": "markdown",
   "metadata": {},
   "source": [
    "### 1. Import libraries"
   ]
  },
  {
   "cell_type": "code",
   "execution_count": 3,
   "metadata": {},
   "outputs": [],
   "source": [
    "#import libraries\n",
    "import pandas as pd"
   ]
  },
  {
   "cell_type": "markdown",
   "metadata": {},
   "source": [
    "### 2. Load excel files into pandas"
   ]
  },
  {
   "cell_type": "code",
   "execution_count": 4,
   "metadata": {},
   "outputs": [],
   "source": [
    "#load data\n",
    "df1 = pd.read_excel(\"sample_pattern_transformed_data.xlsx\", sheet_name=\"sample_pattern_transformed_data\")\n",
    "df2 = pd.read_excel(\"sample_pattern_transformed_data.xlsx\", sheet_name=\"Comparison_Tab\")"
   ]
  },
  {
   "cell_type": "code",
   "execution_count": 5,
   "metadata": {},
   "outputs": [
    {
     "data": {
      "text/html": [
       "<div>\n",
       "<style scoped>\n",
       "    .dataframe tbody tr th:only-of-type {\n",
       "        vertical-align: middle;\n",
       "    }\n",
       "\n",
       "    .dataframe tbody tr th {\n",
       "        vertical-align: top;\n",
       "    }\n",
       "\n",
       "    .dataframe thead th {\n",
       "        text-align: right;\n",
       "    }\n",
       "</style>\n",
       "<table border=\"1\" class=\"dataframe\">\n",
       "  <thead>\n",
       "    <tr style=\"text-align: right;\">\n",
       "      <th></th>\n",
       "      <th>Index</th>\n",
       "      <th>number_of_samples_in_NLU_model</th>\n",
       "      <th>Phrase_Samples_with_original_entities</th>\n",
       "      <th>Phrase_Samples_with_new_entities</th>\n",
       "      <th>ordered_entities</th>\n",
       "      <th>entity_pattern</th>\n",
       "      <th>number_of_entities_used</th>\n",
       "    </tr>\n",
       "  </thead>\n",
       "  <tbody>\n",
       "    <tr>\n",
       "      <th>0</th>\n",
       "      <td>0</td>\n",
       "      <td>38</td>\n",
       "      <td>(ORDER_ACTION, ORDER_TYPE_SECRET, FOR_SECRET, ...</td>\n",
       "      <td>ORDER_ACTION, ORDER_TYPE_SECRET, FOR_SECRET, M...</td>\n",
       "      <td>MODALITY BODY_REGION CONTRAST_MODIFIER</td>\n",
       "      <td>MBC</td>\n",
       "      <td>3</td>\n",
       "    </tr>\n",
       "    <tr>\n",
       "      <th>1</th>\n",
       "      <td>1</td>\n",
       "      <td>35</td>\n",
       "      <td>(ORDER_ACTION, ORDER_TYPE_SECRET, FOR_SECRET, ...</td>\n",
       "      <td>ORDER_ACTION, ORDER_TYPE_SECRET, FOR_SECRET, M...</td>\n",
       "      <td>MODALITY BODY_REGION</td>\n",
       "      <td>MB</td>\n",
       "      <td>2</td>\n",
       "    </tr>\n",
       "    <tr>\n",
       "      <th>2</th>\n",
       "      <td>2</td>\n",
       "      <td>31</td>\n",
       "      <td>(ORDER_ACTION, MODALITY, PRIORITY)</td>\n",
       "      <td>ORDER_ACTION, MODALITY, PRIORITY</td>\n",
       "      <td>MODALITY PRIORITY</td>\n",
       "      <td>MPr</td>\n",
       "      <td>2</td>\n",
       "    </tr>\n",
       "    <tr>\n",
       "      <th>3</th>\n",
       "      <td>3</td>\n",
       "      <td>29</td>\n",
       "      <td>(ORDER_ACTION, ORDER_TYPE_SECRET, FOR_SECRET, ...</td>\n",
       "      <td>ORDER_ACTION, ORDER_TYPE_SECRET, FOR_SECRET, M...</td>\n",
       "      <td>MODALITY BODY_REGION PRIORITY</td>\n",
       "      <td>MBPr</td>\n",
       "      <td>3</td>\n",
       "    </tr>\n",
       "    <tr>\n",
       "      <th>4</th>\n",
       "      <td>4</td>\n",
       "      <td>28</td>\n",
       "      <td>(ORDER_ACTION, MODALITY, FOR_SECRET, BODY_REGION)</td>\n",
       "      <td>ORDER_ACTION, MODALITY, FOR_SECRET, BODY_REGION</td>\n",
       "      <td>MODALITY BODY_REGION</td>\n",
       "      <td>MB</td>\n",
       "      <td>2</td>\n",
       "    </tr>\n",
       "  </tbody>\n",
       "</table>\n",
       "</div>"
      ],
      "text/plain": [
       "   Index  number_of_samples_in_NLU_model   \n",
       "0      0                              38  \\\n",
       "1      1                              35   \n",
       "2      2                              31   \n",
       "3      3                              29   \n",
       "4      4                              28   \n",
       "\n",
       "               Phrase_Samples_with_original_entities   \n",
       "0  (ORDER_ACTION, ORDER_TYPE_SECRET, FOR_SECRET, ...  \\\n",
       "1  (ORDER_ACTION, ORDER_TYPE_SECRET, FOR_SECRET, ...   \n",
       "2                 (ORDER_ACTION, MODALITY, PRIORITY)   \n",
       "3  (ORDER_ACTION, ORDER_TYPE_SECRET, FOR_SECRET, ...   \n",
       "4  (ORDER_ACTION, MODALITY, FOR_SECRET, BODY_REGION)   \n",
       "\n",
       "                    Phrase_Samples_with_new_entities   \n",
       "0  ORDER_ACTION, ORDER_TYPE_SECRET, FOR_SECRET, M...  \\\n",
       "1  ORDER_ACTION, ORDER_TYPE_SECRET, FOR_SECRET, M...   \n",
       "2                   ORDER_ACTION, MODALITY, PRIORITY   \n",
       "3  ORDER_ACTION, ORDER_TYPE_SECRET, FOR_SECRET, M...   \n",
       "4    ORDER_ACTION, MODALITY, FOR_SECRET, BODY_REGION   \n",
       "\n",
       "                         ordered_entities entity_pattern   \n",
       "0  MODALITY BODY_REGION CONTRAST_MODIFIER            MBC  \\\n",
       "1                    MODALITY BODY_REGION             MB   \n",
       "2                       MODALITY PRIORITY            MPr   \n",
       "3           MODALITY BODY_REGION PRIORITY           MBPr   \n",
       "4                    MODALITY BODY_REGION             MB   \n",
       "\n",
       "   number_of_entities_used  \n",
       "0                        3  \n",
       "1                        2  \n",
       "2                        2  \n",
       "3                        3  \n",
       "4                        2  "
      ]
     },
     "execution_count": 5,
     "metadata": {},
     "output_type": "execute_result"
    }
   ],
   "source": [
    "#check df1\n",
    "df1.head()"
   ]
  },
  {
   "cell_type": "code",
   "execution_count": 6,
   "metadata": {},
   "outputs": [
    {
     "data": {
      "text/plain": [
       "Index(['Index', 'number_of_samples_in_NLU_model',\n",
       "       'Phrase_Samples_with_original_entities',\n",
       "       'Phrase_Samples_with_new_entities', 'ordered_entities',\n",
       "       'entity_pattern', 'number_of_entities_used'],\n",
       "      dtype='object')"
      ]
     },
     "execution_count": 6,
     "metadata": {},
     "output_type": "execute_result"
    }
   ],
   "source": [
    "#df1 columns - review columns in dataframe\n",
    "df1.columns"
   ]
  },
  {
   "cell_type": "code",
   "execution_count": 7,
   "metadata": {},
   "outputs": [
    {
     "name": "stdout",
     "output_type": "stream",
     "text": [
      "<class 'pandas.core.frame.DataFrame'>\n",
      "RangeIndex: 2220 entries, 0 to 2219\n",
      "Data columns (total 7 columns):\n",
      " #   Column                                 Non-Null Count  Dtype \n",
      "---  ------                                 --------------  ----- \n",
      " 0   Index                                  2220 non-null   int64 \n",
      " 1   number_of_samples_in_NLU_model         2220 non-null   int64 \n",
      " 2   Phrase_Samples_with_original_entities  2220 non-null   object\n",
      " 3   Phrase_Samples_with_new_entities       2220 non-null   object\n",
      " 4   ordered_entities                       2220 non-null   object\n",
      " 5   entity_pattern                         2220 non-null   object\n",
      " 6   number_of_entities_used                2220 non-null   int64 \n",
      "dtypes: int64(3), object(4)\n",
      "memory usage: 121.5+ KB\n"
     ]
    }
   ],
   "source": [
    "#df1 info\n",
    "df1.info()"
   ]
  },
  {
   "cell_type": "code",
   "execution_count": 8,
   "metadata": {},
   "outputs": [
    {
     "data": {
      "text/html": [
       "<div>\n",
       "<style scoped>\n",
       "    .dataframe tbody tr th:only-of-type {\n",
       "        vertical-align: middle;\n",
       "    }\n",
       "\n",
       "    .dataframe tbody tr th {\n",
       "        vertical-align: top;\n",
       "    }\n",
       "\n",
       "    .dataframe thead th {\n",
       "        text-align: right;\n",
       "    }\n",
       "</style>\n",
       "<table border=\"1\" class=\"dataframe\">\n",
       "  <thead>\n",
       "    <tr style=\"text-align: right;\">\n",
       "      <th></th>\n",
       "      <th>transformed_pattern</th>\n",
       "      <th>entity_pattern_count</th>\n",
       "      <th>Sample Count</th>\n",
       "    </tr>\n",
       "  </thead>\n",
       "  <tbody>\n",
       "    <tr>\n",
       "      <th>0</th>\n",
       "      <td>BMPPC</td>\n",
       "      <td>5</td>\n",
       "      <td>3</td>\n",
       "    </tr>\n",
       "    <tr>\n",
       "      <th>1</th>\n",
       "      <td>BMPPPC</td>\n",
       "      <td>6</td>\n",
       "      <td>3</td>\n",
       "    </tr>\n",
       "    <tr>\n",
       "      <th>2</th>\n",
       "      <td>BMPPPV</td>\n",
       "      <td>6</td>\n",
       "      <td>37</td>\n",
       "    </tr>\n",
       "    <tr>\n",
       "      <th>3</th>\n",
       "      <td>BMPPPVC</td>\n",
       "      <td>7</td>\n",
       "      <td>3</td>\n",
       "    </tr>\n",
       "    <tr>\n",
       "      <th>4</th>\n",
       "      <td>BMPPVC</td>\n",
       "      <td>6</td>\n",
       "      <td>3</td>\n",
       "    </tr>\n",
       "    <tr>\n",
       "      <th>5</th>\n",
       "      <td>BMPVC</td>\n",
       "      <td>5</td>\n",
       "      <td>3</td>\n",
       "    </tr>\n",
       "    <tr>\n",
       "      <th>6</th>\n",
       "      <td>BMPrC</td>\n",
       "      <td>4</td>\n",
       "      <td>6</td>\n",
       "    </tr>\n",
       "    <tr>\n",
       "      <th>7</th>\n",
       "      <td>BMPrP</td>\n",
       "      <td>4</td>\n",
       "      <td>28</td>\n",
       "    </tr>\n",
       "    <tr>\n",
       "      <th>8</th>\n",
       "      <td>BMPrPP</td>\n",
       "      <td>5</td>\n",
       "      <td>29</td>\n",
       "    </tr>\n",
       "    <tr>\n",
       "      <th>9</th>\n",
       "      <td>BMPrPPP</td>\n",
       "      <td>6</td>\n",
       "      <td>26</td>\n",
       "    </tr>\n",
       "  </tbody>\n",
       "</table>\n",
       "</div>"
      ],
      "text/plain": [
       "  transformed_pattern  entity_pattern_count  Sample Count\n",
       "0               BMPPC                     5             3\n",
       "1              BMPPPC                     6             3\n",
       "2              BMPPPV                     6            37\n",
       "3             BMPPPVC                     7             3\n",
       "4              BMPPVC                     6             3\n",
       "5               BMPVC                     5             3\n",
       "6               BMPrC                     4             6\n",
       "7               BMPrP                     4            28\n",
       "8              BMPrPP                     5            29\n",
       "9             BMPrPPP                     6            26"
      ]
     },
     "execution_count": 8,
     "metadata": {},
     "output_type": "execute_result"
    }
   ],
   "source": [
    "#df2\n",
    "df2.head(10)"
   ]
  },
  {
   "cell_type": "code",
   "execution_count": 9,
   "metadata": {},
   "outputs": [
    {
     "name": "stdout",
     "output_type": "stream",
     "text": [
      "<class 'pandas.core.frame.DataFrame'>\n",
      "RangeIndex: 92 entries, 0 to 91\n",
      "Data columns (total 3 columns):\n",
      " #   Column                Non-Null Count  Dtype \n",
      "---  ------                --------------  ----- \n",
      " 0   transformed_pattern   92 non-null     object\n",
      " 1   entity_pattern_count  92 non-null     int64 \n",
      " 2   Sample Count          92 non-null     int64 \n",
      "dtypes: int64(2), object(1)\n",
      "memory usage: 2.3+ KB\n"
     ]
    }
   ],
   "source": [
    "#df2 info\n",
    "df2.info()"
   ]
  },
  {
   "cell_type": "markdown",
   "metadata": {},
   "source": [
    "### 3. Filter and select the relevant columns from df2"
   ]
  },
  {
   "cell_type": "code",
   "execution_count": 10,
   "metadata": {},
   "outputs": [],
   "source": [
    "#filter and select relevant columns\n",
    "filtered_df2 = df2[df2['transformed_pattern'].isin(df1['entity_pattern'])][['transformed_pattern', 'Sample Count']]"
   ]
  },
  {
   "cell_type": "code",
   "execution_count": 11,
   "metadata": {},
   "outputs": [
    {
     "data": {
      "text/html": [
       "<div>\n",
       "<style scoped>\n",
       "    .dataframe tbody tr th:only-of-type {\n",
       "        vertical-align: middle;\n",
       "    }\n",
       "\n",
       "    .dataframe tbody tr th {\n",
       "        vertical-align: top;\n",
       "    }\n",
       "\n",
       "    .dataframe thead th {\n",
       "        text-align: right;\n",
       "    }\n",
       "</style>\n",
       "<table border=\"1\" class=\"dataframe\">\n",
       "  <thead>\n",
       "    <tr style=\"text-align: right;\">\n",
       "      <th></th>\n",
       "      <th>transformed_pattern</th>\n",
       "      <th>Sample Count</th>\n",
       "    </tr>\n",
       "  </thead>\n",
       "  <tbody>\n",
       "    <tr>\n",
       "      <th>0</th>\n",
       "      <td>BMPPC</td>\n",
       "      <td>3</td>\n",
       "    </tr>\n",
       "    <tr>\n",
       "      <th>1</th>\n",
       "      <td>BMPPPC</td>\n",
       "      <td>3</td>\n",
       "    </tr>\n",
       "    <tr>\n",
       "      <th>2</th>\n",
       "      <td>BMPPPV</td>\n",
       "      <td>37</td>\n",
       "    </tr>\n",
       "    <tr>\n",
       "      <th>3</th>\n",
       "      <td>BMPPPVC</td>\n",
       "      <td>3</td>\n",
       "    </tr>\n",
       "    <tr>\n",
       "      <th>4</th>\n",
       "      <td>BMPPVC</td>\n",
       "      <td>3</td>\n",
       "    </tr>\n",
       "  </tbody>\n",
       "</table>\n",
       "</div>"
      ],
      "text/plain": [
       "  transformed_pattern  Sample Count\n",
       "0               BMPPC             3\n",
       "1              BMPPPC             3\n",
       "2              BMPPPV            37\n",
       "3             BMPPPVC             3\n",
       "4              BMPPVC             3"
      ]
     },
     "execution_count": 11,
     "metadata": {},
     "output_type": "execute_result"
    }
   ],
   "source": [
    "#view filtered df2\n",
    "filtered_df2.head()"
   ]
  },
  {
   "cell_type": "markdown",
   "metadata": {},
   "source": [
    "### 4. Merge df1 with the filtered_df2 based on common column \"entity_pattern\""
   ]
  },
  {
   "cell_type": "code",
   "execution_count": 12,
   "metadata": {},
   "outputs": [
    {
     "data": {
      "text/html": [
       "<div>\n",
       "<style scoped>\n",
       "    .dataframe tbody tr th:only-of-type {\n",
       "        vertical-align: middle;\n",
       "    }\n",
       "\n",
       "    .dataframe tbody tr th {\n",
       "        vertical-align: top;\n",
       "    }\n",
       "\n",
       "    .dataframe thead th {\n",
       "        text-align: right;\n",
       "    }\n",
       "</style>\n",
       "<table border=\"1\" class=\"dataframe\">\n",
       "  <thead>\n",
       "    <tr style=\"text-align: right;\">\n",
       "      <th></th>\n",
       "      <th>Index</th>\n",
       "      <th>number_of_samples_in_NLU_model</th>\n",
       "      <th>Phrase_Samples_with_original_entities</th>\n",
       "      <th>Phrase_Samples_with_new_entities</th>\n",
       "      <th>ordered_entities</th>\n",
       "      <th>entity_pattern</th>\n",
       "      <th>number_of_entities_used</th>\n",
       "      <th>transformed_pattern</th>\n",
       "      <th>Sample Count</th>\n",
       "    </tr>\n",
       "  </thead>\n",
       "  <tbody>\n",
       "    <tr>\n",
       "      <th>0</th>\n",
       "      <td>27</td>\n",
       "      <td>18</td>\n",
       "      <td>(ORDER_ACTION, ORDER_TYPE_SECRET, FOR_SECRET, ...</td>\n",
       "      <td>ORDER_ACTION, ORDER_TYPE_SECRET, FOR_SECRET, P...</td>\n",
       "      <td>PRIORITY MODALITY BODY_REGION CONTRAST_MODIFIER</td>\n",
       "      <td>PrMBC</td>\n",
       "      <td>4</td>\n",
       "      <td>PrMBC</td>\n",
       "      <td>31</td>\n",
       "    </tr>\n",
       "    <tr>\n",
       "      <th>1</th>\n",
       "      <td>35</td>\n",
       "      <td>17</td>\n",
       "      <td>(ORDER_ACTION, ORDER_TYPE_SECRET, FOR_SECRET, ...</td>\n",
       "      <td>ORDER_ACTION, ORDER_TYPE_SECRET, FOR_SECRET, M...</td>\n",
       "      <td>PRIORITY MODALITY BODY_REGION CONTRAST_MODIFIER</td>\n",
       "      <td>PrMBC</td>\n",
       "      <td>4</td>\n",
       "      <td>PrMBC</td>\n",
       "      <td>31</td>\n",
       "    </tr>\n",
       "    <tr>\n",
       "      <th>2</th>\n",
       "      <td>45</td>\n",
       "      <td>17</td>\n",
       "      <td>(ORDER_ACTION, FOR_SECRET, PATIENT_SECRET, PRI...</td>\n",
       "      <td>ORDER_ACTION, FOR_SECRET, PATIENT_SECRET, PRIO...</td>\n",
       "      <td>PRIORITY MODALITY BODY_REGION CONTRAST_MODIFIER</td>\n",
       "      <td>PrMBC</td>\n",
       "      <td>4</td>\n",
       "      <td>PrMBC</td>\n",
       "      <td>31</td>\n",
       "    </tr>\n",
       "    <tr>\n",
       "      <th>3</th>\n",
       "      <td>47</td>\n",
       "      <td>16</td>\n",
       "      <td>(ORDER_ACTION, A_AN_SECRET, PRIORITY, MODALITY...</td>\n",
       "      <td>ORDER_ACTION, A_AN_SECRET, PRIORITY, MODALITY,...</td>\n",
       "      <td>PRIORITY MODALITY BODY_REGION CONTRAST_MODIFIER</td>\n",
       "      <td>PrMBC</td>\n",
       "      <td>4</td>\n",
       "      <td>PrMBC</td>\n",
       "      <td>31</td>\n",
       "    </tr>\n",
       "    <tr>\n",
       "      <th>4</th>\n",
       "      <td>51</td>\n",
       "      <td>16</td>\n",
       "      <td>(ORDER_ACTION, FOR_SECRET, MY_THE_THIS_SECRET,...</td>\n",
       "      <td>ORDER_ACTION, FOR_SECRET, MY_THE_THIS_SECRET, ...</td>\n",
       "      <td>PRIORITY MODALITY BODY_REGION CONTRAST_MODIFIER</td>\n",
       "      <td>PrMBC</td>\n",
       "      <td>4</td>\n",
       "      <td>PrMBC</td>\n",
       "      <td>31</td>\n",
       "    </tr>\n",
       "  </tbody>\n",
       "</table>\n",
       "</div>"
      ],
      "text/plain": [
       "   Index  number_of_samples_in_NLU_model   \n",
       "0     27                              18  \\\n",
       "1     35                              17   \n",
       "2     45                              17   \n",
       "3     47                              16   \n",
       "4     51                              16   \n",
       "\n",
       "               Phrase_Samples_with_original_entities   \n",
       "0  (ORDER_ACTION, ORDER_TYPE_SECRET, FOR_SECRET, ...  \\\n",
       "1  (ORDER_ACTION, ORDER_TYPE_SECRET, FOR_SECRET, ...   \n",
       "2  (ORDER_ACTION, FOR_SECRET, PATIENT_SECRET, PRI...   \n",
       "3  (ORDER_ACTION, A_AN_SECRET, PRIORITY, MODALITY...   \n",
       "4  (ORDER_ACTION, FOR_SECRET, MY_THE_THIS_SECRET,...   \n",
       "\n",
       "                    Phrase_Samples_with_new_entities   \n",
       "0  ORDER_ACTION, ORDER_TYPE_SECRET, FOR_SECRET, P...  \\\n",
       "1  ORDER_ACTION, ORDER_TYPE_SECRET, FOR_SECRET, M...   \n",
       "2  ORDER_ACTION, FOR_SECRET, PATIENT_SECRET, PRIO...   \n",
       "3  ORDER_ACTION, A_AN_SECRET, PRIORITY, MODALITY,...   \n",
       "4  ORDER_ACTION, FOR_SECRET, MY_THE_THIS_SECRET, ...   \n",
       "\n",
       "                                  ordered_entities entity_pattern   \n",
       "0  PRIORITY MODALITY BODY_REGION CONTRAST_MODIFIER          PrMBC  \\\n",
       "1  PRIORITY MODALITY BODY_REGION CONTRAST_MODIFIER          PrMBC   \n",
       "2  PRIORITY MODALITY BODY_REGION CONTRAST_MODIFIER          PrMBC   \n",
       "3  PRIORITY MODALITY BODY_REGION CONTRAST_MODIFIER          PrMBC   \n",
       "4  PRIORITY MODALITY BODY_REGION CONTRAST_MODIFIER          PrMBC   \n",
       "\n",
       "   number_of_entities_used transformed_pattern  Sample Count  \n",
       "0                        4               PrMBC            31  \n",
       "1                        4               PrMBC            31  \n",
       "2                        4               PrMBC            31  \n",
       "3                        4               PrMBC            31  \n",
       "4                        4               PrMBC            31  "
      ]
     },
     "execution_count": 12,
     "metadata": {},
     "output_type": "execute_result"
    }
   ],
   "source": [
    "#merge based on common column\n",
    "merged_df = pd.merge(df1, filtered_df2, how='inner', left_on='entity_pattern', right_on='transformed_pattern')\n",
    "\n",
    "\n",
    "#head\n",
    "merged_df.head()"
   ]
  },
  {
   "cell_type": "markdown",
   "metadata": {},
   "source": [
    "### 5. Drop extra 'transformed_pattern' column and rename 'Sample Count' to match 'entity_pattern"
   ]
  },
  {
   "cell_type": "code",
   "execution_count": 13,
   "metadata": {},
   "outputs": [],
   "source": [
    "merged_df.drop(columns=['transformed_pattern'], inplace=True)\n",
    "merged_df.rename(columns={'Sample_Count': 'transformed_pattern'}, inplace=True)"
   ]
  },
  {
   "cell_type": "markdown",
   "metadata": {},
   "source": [
    "### 6. Final dataframe"
   ]
  },
  {
   "cell_type": "code",
   "execution_count": 14,
   "metadata": {},
   "outputs": [
    {
     "name": "stdout",
     "output_type": "stream",
     "text": [
      "<class 'pandas.core.frame.DataFrame'>\n",
      "RangeIndex: 1518 entries, 0 to 1517\n",
      "Data columns (total 8 columns):\n",
      " #   Column                                 Non-Null Count  Dtype \n",
      "---  ------                                 --------------  ----- \n",
      " 0   Index                                  1518 non-null   int64 \n",
      " 1   number_of_samples_in_NLU_model         1518 non-null   int64 \n",
      " 2   Phrase_Samples_with_original_entities  1518 non-null   object\n",
      " 3   Phrase_Samples_with_new_entities       1518 non-null   object\n",
      " 4   ordered_entities                       1518 non-null   object\n",
      " 5   entity_pattern                         1518 non-null   object\n",
      " 6   number_of_entities_used                1518 non-null   int64 \n",
      " 7   Sample Count                           1518 non-null   int64 \n",
      "dtypes: int64(4), object(4)\n",
      "memory usage: 95.0+ KB\n"
     ]
    }
   ],
   "source": [
    "#print df\n",
    "merged_df.info()"
   ]
  },
  {
   "cell_type": "markdown",
   "metadata": {},
   "source": [
    "### 7. To csv"
   ]
  },
  {
   "cell_type": "code",
   "execution_count": 15,
   "metadata": {},
   "outputs": [],
   "source": [
    "#to csv\n",
    "merged_df.to_csv('sample_duplicate_patterns_df.csv', index=True)"
   ]
  },
  {
   "cell_type": "markdown",
   "metadata": {},
   "source": [
    "# Part 2: NLU samples not in core list\n",
    "- The purpose of this portion of the notebook is to find what string patterns or NLU samples are not in the core list of samples."
   ]
  },
  {
   "cell_type": "markdown",
   "metadata": {},
   "source": [
    "### 1. Import libraries"
   ]
  },
  {
   "cell_type": "code",
   "execution_count": 17,
   "metadata": {},
   "outputs": [],
   "source": [
    "#import libraries\n",
    "import pandas as pd"
   ]
  },
  {
   "cell_type": "markdown",
   "metadata": {},
   "source": [
    "### 2. Load data from excel to pandas"
   ]
  },
  {
   "cell_type": "code",
   "execution_count": 16,
   "metadata": {},
   "outputs": [],
   "source": [
    "#load data\n",
    "df3 = pd.read_excel(\"sample_pattern_transformed_data.xlsx\", sheet_name=\"sample_pattern_transformed_data\")\n",
    "df4 = pd.read_excel(\"sample_pattern_transformed_data.xlsx\", sheet_name=\"Comparison_Tab\")"
   ]
  },
  {
   "cell_type": "code",
   "execution_count": 17,
   "metadata": {},
   "outputs": [
    {
     "data": {
      "text/html": [
       "<div>\n",
       "<style scoped>\n",
       "    .dataframe tbody tr th:only-of-type {\n",
       "        vertical-align: middle;\n",
       "    }\n",
       "\n",
       "    .dataframe tbody tr th {\n",
       "        vertical-align: top;\n",
       "    }\n",
       "\n",
       "    .dataframe thead th {\n",
       "        text-align: right;\n",
       "    }\n",
       "</style>\n",
       "<table border=\"1\" class=\"dataframe\">\n",
       "  <thead>\n",
       "    <tr style=\"text-align: right;\">\n",
       "      <th></th>\n",
       "      <th>Index</th>\n",
       "      <th>number_of_samples_in_NLU_model</th>\n",
       "      <th>Phrase_Samples_with_original_entities</th>\n",
       "      <th>Phrase_Samples_with_new_entities</th>\n",
       "      <th>ordered_entities</th>\n",
       "      <th>entity_pattern</th>\n",
       "      <th>number_of_entities_used</th>\n",
       "    </tr>\n",
       "  </thead>\n",
       "  <tbody>\n",
       "    <tr>\n",
       "      <th>0</th>\n",
       "      <td>0</td>\n",
       "      <td>38</td>\n",
       "      <td>(ORDER_ACTION, ORDER_TYPE_SECRET, FOR_SECRET, ...</td>\n",
       "      <td>ORDER_ACTION, ORDER_TYPE_SECRET, FOR_SECRET, M...</td>\n",
       "      <td>MODALITY BODY_REGION CONTRAST_MODIFIER</td>\n",
       "      <td>MBC</td>\n",
       "      <td>3</td>\n",
       "    </tr>\n",
       "    <tr>\n",
       "      <th>1</th>\n",
       "      <td>1</td>\n",
       "      <td>35</td>\n",
       "      <td>(ORDER_ACTION, ORDER_TYPE_SECRET, FOR_SECRET, ...</td>\n",
       "      <td>ORDER_ACTION, ORDER_TYPE_SECRET, FOR_SECRET, M...</td>\n",
       "      <td>MODALITY BODY_REGION</td>\n",
       "      <td>MB</td>\n",
       "      <td>2</td>\n",
       "    </tr>\n",
       "    <tr>\n",
       "      <th>2</th>\n",
       "      <td>2</td>\n",
       "      <td>31</td>\n",
       "      <td>(ORDER_ACTION, MODALITY, PRIORITY)</td>\n",
       "      <td>ORDER_ACTION, MODALITY, PRIORITY</td>\n",
       "      <td>MODALITY PRIORITY</td>\n",
       "      <td>MPr</td>\n",
       "      <td>2</td>\n",
       "    </tr>\n",
       "    <tr>\n",
       "      <th>3</th>\n",
       "      <td>3</td>\n",
       "      <td>29</td>\n",
       "      <td>(ORDER_ACTION, ORDER_TYPE_SECRET, FOR_SECRET, ...</td>\n",
       "      <td>ORDER_ACTION, ORDER_TYPE_SECRET, FOR_SECRET, M...</td>\n",
       "      <td>MODALITY BODY_REGION PRIORITY</td>\n",
       "      <td>MBPr</td>\n",
       "      <td>3</td>\n",
       "    </tr>\n",
       "    <tr>\n",
       "      <th>4</th>\n",
       "      <td>4</td>\n",
       "      <td>28</td>\n",
       "      <td>(ORDER_ACTION, MODALITY, FOR_SECRET, BODY_REGION)</td>\n",
       "      <td>ORDER_ACTION, MODALITY, FOR_SECRET, BODY_REGION</td>\n",
       "      <td>MODALITY BODY_REGION</td>\n",
       "      <td>MB</td>\n",
       "      <td>2</td>\n",
       "    </tr>\n",
       "  </tbody>\n",
       "</table>\n",
       "</div>"
      ],
      "text/plain": [
       "   Index  number_of_samples_in_NLU_model   \n",
       "0      0                              38  \\\n",
       "1      1                              35   \n",
       "2      2                              31   \n",
       "3      3                              29   \n",
       "4      4                              28   \n",
       "\n",
       "               Phrase_Samples_with_original_entities   \n",
       "0  (ORDER_ACTION, ORDER_TYPE_SECRET, FOR_SECRET, ...  \\\n",
       "1  (ORDER_ACTION, ORDER_TYPE_SECRET, FOR_SECRET, ...   \n",
       "2                 (ORDER_ACTION, MODALITY, PRIORITY)   \n",
       "3  (ORDER_ACTION, ORDER_TYPE_SECRET, FOR_SECRET, ...   \n",
       "4  (ORDER_ACTION, MODALITY, FOR_SECRET, BODY_REGION)   \n",
       "\n",
       "                    Phrase_Samples_with_new_entities   \n",
       "0  ORDER_ACTION, ORDER_TYPE_SECRET, FOR_SECRET, M...  \\\n",
       "1  ORDER_ACTION, ORDER_TYPE_SECRET, FOR_SECRET, M...   \n",
       "2                   ORDER_ACTION, MODALITY, PRIORITY   \n",
       "3  ORDER_ACTION, ORDER_TYPE_SECRET, FOR_SECRET, M...   \n",
       "4    ORDER_ACTION, MODALITY, FOR_SECRET, BODY_REGION   \n",
       "\n",
       "                         ordered_entities entity_pattern   \n",
       "0  MODALITY BODY_REGION CONTRAST_MODIFIER            MBC  \\\n",
       "1                    MODALITY BODY_REGION             MB   \n",
       "2                       MODALITY PRIORITY            MPr   \n",
       "3           MODALITY BODY_REGION PRIORITY           MBPr   \n",
       "4                    MODALITY BODY_REGION             MB   \n",
       "\n",
       "   number_of_entities_used  \n",
       "0                        3  \n",
       "1                        2  \n",
       "2                        2  \n",
       "3                        3  \n",
       "4                        2  "
      ]
     },
     "execution_count": 17,
     "metadata": {},
     "output_type": "execute_result"
    }
   ],
   "source": [
    "#check df3 - full dataset\n",
    "df3.head()"
   ]
  },
  {
   "cell_type": "code",
   "execution_count": 18,
   "metadata": {},
   "outputs": [
    {
     "data": {
      "text/plain": [
       "Index(['Index', 'number_of_samples_in_NLU_model',\n",
       "       'Phrase_Samples_with_original_entities',\n",
       "       'Phrase_Samples_with_new_entities', 'ordered_entities',\n",
       "       'entity_pattern', 'number_of_entities_used'],\n",
       "      dtype='object')"
      ]
     },
     "execution_count": 18,
     "metadata": {},
     "output_type": "execute_result"
    }
   ],
   "source": [
    "#df3 columns\n",
    "df3.columns"
   ]
  },
  {
   "cell_type": "code",
   "execution_count": 19,
   "metadata": {},
   "outputs": [
    {
     "name": "stdout",
     "output_type": "stream",
     "text": [
      "<class 'pandas.core.frame.DataFrame'>\n",
      "RangeIndex: 2220 entries, 0 to 2219\n",
      "Data columns (total 7 columns):\n",
      " #   Column                                 Non-Null Count  Dtype \n",
      "---  ------                                 --------------  ----- \n",
      " 0   Index                                  2220 non-null   int64 \n",
      " 1   number_of_samples_in_NLU_model         2220 non-null   int64 \n",
      " 2   Phrase_Samples_with_original_entities  2220 non-null   object\n",
      " 3   Phrase_Samples_with_new_entities       2220 non-null   object\n",
      " 4   ordered_entities                       2220 non-null   object\n",
      " 5   entity_pattern                         2220 non-null   object\n",
      " 6   number_of_entities_used                2220 non-null   int64 \n",
      "dtypes: int64(3), object(4)\n",
      "memory usage: 121.5+ KB\n"
     ]
    }
   ],
   "source": [
    "#df3 info\n",
    "df3.info()"
   ]
  },
  {
   "cell_type": "code",
   "execution_count": 20,
   "metadata": {},
   "outputs": [
    {
     "data": {
      "text/html": [
       "<div>\n",
       "<style scoped>\n",
       "    .dataframe tbody tr th:only-of-type {\n",
       "        vertical-align: middle;\n",
       "    }\n",
       "\n",
       "    .dataframe tbody tr th {\n",
       "        vertical-align: top;\n",
       "    }\n",
       "\n",
       "    .dataframe thead th {\n",
       "        text-align: right;\n",
       "    }\n",
       "</style>\n",
       "<table border=\"1\" class=\"dataframe\">\n",
       "  <thead>\n",
       "    <tr style=\"text-align: right;\">\n",
       "      <th></th>\n",
       "      <th>transformed_pattern</th>\n",
       "      <th>entity_pattern_count</th>\n",
       "      <th>Sample Count</th>\n",
       "    </tr>\n",
       "  </thead>\n",
       "  <tbody>\n",
       "    <tr>\n",
       "      <th>0</th>\n",
       "      <td>BMPPC</td>\n",
       "      <td>5</td>\n",
       "      <td>3</td>\n",
       "    </tr>\n",
       "    <tr>\n",
       "      <th>1</th>\n",
       "      <td>BMPPPC</td>\n",
       "      <td>6</td>\n",
       "      <td>3</td>\n",
       "    </tr>\n",
       "    <tr>\n",
       "      <th>2</th>\n",
       "      <td>BMPPPV</td>\n",
       "      <td>6</td>\n",
       "      <td>37</td>\n",
       "    </tr>\n",
       "    <tr>\n",
       "      <th>3</th>\n",
       "      <td>BMPPPVC</td>\n",
       "      <td>7</td>\n",
       "      <td>3</td>\n",
       "    </tr>\n",
       "    <tr>\n",
       "      <th>4</th>\n",
       "      <td>BMPPVC</td>\n",
       "      <td>6</td>\n",
       "      <td>3</td>\n",
       "    </tr>\n",
       "  </tbody>\n",
       "</table>\n",
       "</div>"
      ],
      "text/plain": [
       "  transformed_pattern  entity_pattern_count  Sample Count\n",
       "0               BMPPC                     5             3\n",
       "1              BMPPPC                     6             3\n",
       "2              BMPPPV                     6            37\n",
       "3             BMPPPVC                     7             3\n",
       "4              BMPPVC                     6             3"
      ]
     },
     "execution_count": 20,
     "metadata": {},
     "output_type": "execute_result"
    }
   ],
   "source": [
    "#df4 head\n",
    "df4.head()"
   ]
  },
  {
   "cell_type": "code",
   "execution_count": 21,
   "metadata": {},
   "outputs": [
    {
     "name": "stdout",
     "output_type": "stream",
     "text": [
      "<class 'pandas.core.frame.DataFrame'>\n",
      "RangeIndex: 92 entries, 0 to 91\n",
      "Data columns (total 3 columns):\n",
      " #   Column                Non-Null Count  Dtype \n",
      "---  ------                --------------  ----- \n",
      " 0   transformed_pattern   92 non-null     object\n",
      " 1   entity_pattern_count  92 non-null     int64 \n",
      " 2   Sample Count          92 non-null     int64 \n",
      "dtypes: int64(2), object(1)\n",
      "memory usage: 2.3+ KB\n"
     ]
    }
   ],
   "source": [
    "#df4 info\n",
    "df4.info()"
   ]
  },
  {
   "cell_type": "markdown",
   "metadata": {},
   "source": [
    "### 3. Filter and select the relevant columns from df4"
   ]
  },
  {
   "cell_type": "code",
   "execution_count": 22,
   "metadata": {},
   "outputs": [],
   "source": [
    "#filter and select relevant columns\n",
    "filtered_df4 = df4[df4['transformed_pattern'].isin(df3['entity_pattern'])][['transformed_pattern', 'Sample Count']]"
   ]
  },
  {
   "cell_type": "code",
   "execution_count": 23,
   "metadata": {},
   "outputs": [
    {
     "data": {
      "text/html": [
       "<div>\n",
       "<style scoped>\n",
       "    .dataframe tbody tr th:only-of-type {\n",
       "        vertical-align: middle;\n",
       "    }\n",
       "\n",
       "    .dataframe tbody tr th {\n",
       "        vertical-align: top;\n",
       "    }\n",
       "\n",
       "    .dataframe thead th {\n",
       "        text-align: right;\n",
       "    }\n",
       "</style>\n",
       "<table border=\"1\" class=\"dataframe\">\n",
       "  <thead>\n",
       "    <tr style=\"text-align: right;\">\n",
       "      <th></th>\n",
       "      <th>transformed_pattern</th>\n",
       "      <th>Sample Count</th>\n",
       "    </tr>\n",
       "  </thead>\n",
       "  <tbody>\n",
       "    <tr>\n",
       "      <th>0</th>\n",
       "      <td>BMPPC</td>\n",
       "      <td>3</td>\n",
       "    </tr>\n",
       "    <tr>\n",
       "      <th>1</th>\n",
       "      <td>BMPPPC</td>\n",
       "      <td>3</td>\n",
       "    </tr>\n",
       "    <tr>\n",
       "      <th>2</th>\n",
       "      <td>BMPPPV</td>\n",
       "      <td>37</td>\n",
       "    </tr>\n",
       "    <tr>\n",
       "      <th>3</th>\n",
       "      <td>BMPPPVC</td>\n",
       "      <td>3</td>\n",
       "    </tr>\n",
       "    <tr>\n",
       "      <th>4</th>\n",
       "      <td>BMPPVC</td>\n",
       "      <td>3</td>\n",
       "    </tr>\n",
       "  </tbody>\n",
       "</table>\n",
       "</div>"
      ],
      "text/plain": [
       "  transformed_pattern  Sample Count\n",
       "0               BMPPC             3\n",
       "1              BMPPPC             3\n",
       "2              BMPPPV            37\n",
       "3             BMPPPVC             3\n",
       "4              BMPPVC             3"
      ]
     },
     "execution_count": 23,
     "metadata": {},
     "output_type": "execute_result"
    }
   ],
   "source": [
    "#view filtered df4\n",
    "filtered_df4.head()"
   ]
  },
  {
   "cell_type": "code",
   "execution_count": 24,
   "metadata": {},
   "outputs": [
    {
     "name": "stdout",
     "output_type": "stream",
     "text": [
      "<class 'pandas.core.frame.DataFrame'>\n",
      "RangeIndex: 92 entries, 0 to 91\n",
      "Data columns (total 2 columns):\n",
      " #   Column               Non-Null Count  Dtype \n",
      "---  ------               --------------  ----- \n",
      " 0   transformed_pattern  92 non-null     object\n",
      " 1   Sample Count         92 non-null     int64 \n",
      "dtypes: int64(1), object(1)\n",
      "memory usage: 1.6+ KB\n"
     ]
    }
   ],
   "source": [
    "#filtered_df4 info\n",
    "filtered_df4.info()"
   ]
  },
  {
   "cell_type": "markdown",
   "metadata": {},
   "source": [
    "### 4. Merge df3 with filtered_df4 based on common column entity_pattern"
   ]
  },
  {
   "cell_type": "code",
   "execution_count": 25,
   "metadata": {},
   "outputs": [],
   "source": [
    "#merge based on common column\n",
    "merged_df_NLU = pd.merge(df3, filtered_df4, how='inner', left_on='entity_pattern', right_on='transformed_pattern')"
   ]
  },
  {
   "cell_type": "code",
   "execution_count": 26,
   "metadata": {},
   "outputs": [
    {
     "data": {
      "text/html": [
       "<div>\n",
       "<style scoped>\n",
       "    .dataframe tbody tr th:only-of-type {\n",
       "        vertical-align: middle;\n",
       "    }\n",
       "\n",
       "    .dataframe tbody tr th {\n",
       "        vertical-align: top;\n",
       "    }\n",
       "\n",
       "    .dataframe thead th {\n",
       "        text-align: right;\n",
       "    }\n",
       "</style>\n",
       "<table border=\"1\" class=\"dataframe\">\n",
       "  <thead>\n",
       "    <tr style=\"text-align: right;\">\n",
       "      <th></th>\n",
       "      <th>Index</th>\n",
       "      <th>number_of_samples_in_NLU_model</th>\n",
       "      <th>Phrase_Samples_with_original_entities</th>\n",
       "      <th>Phrase_Samples_with_new_entities</th>\n",
       "      <th>ordered_entities</th>\n",
       "      <th>entity_pattern</th>\n",
       "      <th>number_of_entities_used</th>\n",
       "      <th>transformed_pattern</th>\n",
       "      <th>Sample Count</th>\n",
       "    </tr>\n",
       "  </thead>\n",
       "  <tbody>\n",
       "    <tr>\n",
       "      <th>0</th>\n",
       "      <td>27</td>\n",
       "      <td>18</td>\n",
       "      <td>(ORDER_ACTION, ORDER_TYPE_SECRET, FOR_SECRET, ...</td>\n",
       "      <td>ORDER_ACTION, ORDER_TYPE_SECRET, FOR_SECRET, P...</td>\n",
       "      <td>PRIORITY MODALITY BODY_REGION CONTRAST_MODIFIER</td>\n",
       "      <td>PrMBC</td>\n",
       "      <td>4</td>\n",
       "      <td>PrMBC</td>\n",
       "      <td>31</td>\n",
       "    </tr>\n",
       "    <tr>\n",
       "      <th>1</th>\n",
       "      <td>35</td>\n",
       "      <td>17</td>\n",
       "      <td>(ORDER_ACTION, ORDER_TYPE_SECRET, FOR_SECRET, ...</td>\n",
       "      <td>ORDER_ACTION, ORDER_TYPE_SECRET, FOR_SECRET, M...</td>\n",
       "      <td>PRIORITY MODALITY BODY_REGION CONTRAST_MODIFIER</td>\n",
       "      <td>PrMBC</td>\n",
       "      <td>4</td>\n",
       "      <td>PrMBC</td>\n",
       "      <td>31</td>\n",
       "    </tr>\n",
       "    <tr>\n",
       "      <th>2</th>\n",
       "      <td>45</td>\n",
       "      <td>17</td>\n",
       "      <td>(ORDER_ACTION, FOR_SECRET, PATIENT_SECRET, PRI...</td>\n",
       "      <td>ORDER_ACTION, FOR_SECRET, PATIENT_SECRET, PRIO...</td>\n",
       "      <td>PRIORITY MODALITY BODY_REGION CONTRAST_MODIFIER</td>\n",
       "      <td>PrMBC</td>\n",
       "      <td>4</td>\n",
       "      <td>PrMBC</td>\n",
       "      <td>31</td>\n",
       "    </tr>\n",
       "    <tr>\n",
       "      <th>3</th>\n",
       "      <td>47</td>\n",
       "      <td>16</td>\n",
       "      <td>(ORDER_ACTION, A_AN_SECRET, PRIORITY, MODALITY...</td>\n",
       "      <td>ORDER_ACTION, A_AN_SECRET, PRIORITY, MODALITY,...</td>\n",
       "      <td>PRIORITY MODALITY BODY_REGION CONTRAST_MODIFIER</td>\n",
       "      <td>PrMBC</td>\n",
       "      <td>4</td>\n",
       "      <td>PrMBC</td>\n",
       "      <td>31</td>\n",
       "    </tr>\n",
       "    <tr>\n",
       "      <th>4</th>\n",
       "      <td>51</td>\n",
       "      <td>16</td>\n",
       "      <td>(ORDER_ACTION, FOR_SECRET, MY_THE_THIS_SECRET,...</td>\n",
       "      <td>ORDER_ACTION, FOR_SECRET, MY_THE_THIS_SECRET, ...</td>\n",
       "      <td>PRIORITY MODALITY BODY_REGION CONTRAST_MODIFIER</td>\n",
       "      <td>PrMBC</td>\n",
       "      <td>4</td>\n",
       "      <td>PrMBC</td>\n",
       "      <td>31</td>\n",
       "    </tr>\n",
       "  </tbody>\n",
       "</table>\n",
       "</div>"
      ],
      "text/plain": [
       "   Index  number_of_samples_in_NLU_model   \n",
       "0     27                              18  \\\n",
       "1     35                              17   \n",
       "2     45                              17   \n",
       "3     47                              16   \n",
       "4     51                              16   \n",
       "\n",
       "               Phrase_Samples_with_original_entities   \n",
       "0  (ORDER_ACTION, ORDER_TYPE_SECRET, FOR_SECRET, ...  \\\n",
       "1  (ORDER_ACTION, ORDER_TYPE_SECRET, FOR_SECRET, ...   \n",
       "2  (ORDER_ACTION, FOR_SECRET, PATIENT_SECRET, PRI...   \n",
       "3  (ORDER_ACTION, A_AN_SECRET, PRIORITY, MODALITY...   \n",
       "4  (ORDER_ACTION, FOR_SECRET, MY_THE_THIS_SECRET,...   \n",
       "\n",
       "                    Phrase_Samples_with_new_entities   \n",
       "0  ORDER_ACTION, ORDER_TYPE_SECRET, FOR_SECRET, P...  \\\n",
       "1  ORDER_ACTION, ORDER_TYPE_SECRET, FOR_SECRET, M...   \n",
       "2  ORDER_ACTION, FOR_SECRET, PATIENT_SECRET, PRIO...   \n",
       "3  ORDER_ACTION, A_AN_SECRET, PRIORITY, MODALITY,...   \n",
       "4  ORDER_ACTION, FOR_SECRET, MY_THE_THIS_SECRET, ...   \n",
       "\n",
       "                                  ordered_entities entity_pattern   \n",
       "0  PRIORITY MODALITY BODY_REGION CONTRAST_MODIFIER          PrMBC  \\\n",
       "1  PRIORITY MODALITY BODY_REGION CONTRAST_MODIFIER          PrMBC   \n",
       "2  PRIORITY MODALITY BODY_REGION CONTRAST_MODIFIER          PrMBC   \n",
       "3  PRIORITY MODALITY BODY_REGION CONTRAST_MODIFIER          PrMBC   \n",
       "4  PRIORITY MODALITY BODY_REGION CONTRAST_MODIFIER          PrMBC   \n",
       "\n",
       "   number_of_entities_used transformed_pattern  Sample Count  \n",
       "0                        4               PrMBC            31  \n",
       "1                        4               PrMBC            31  \n",
       "2                        4               PrMBC            31  \n",
       "3                        4               PrMBC            31  \n",
       "4                        4               PrMBC            31  "
      ]
     },
     "execution_count": 26,
     "metadata": {},
     "output_type": "execute_result"
    }
   ],
   "source": [
    "#head\n",
    "merged_df_NLU.head()"
   ]
  },
  {
   "cell_type": "code",
   "execution_count": 27,
   "metadata": {},
   "outputs": [
    {
     "name": "stdout",
     "output_type": "stream",
     "text": [
      "<class 'pandas.core.frame.DataFrame'>\n",
      "RangeIndex: 1518 entries, 0 to 1517\n",
      "Data columns (total 9 columns):\n",
      " #   Column                                 Non-Null Count  Dtype \n",
      "---  ------                                 --------------  ----- \n",
      " 0   Index                                  1518 non-null   int64 \n",
      " 1   number_of_samples_in_NLU_model         1518 non-null   int64 \n",
      " 2   Phrase_Samples_with_original_entities  1518 non-null   object\n",
      " 3   Phrase_Samples_with_new_entities       1518 non-null   object\n",
      " 4   ordered_entities                       1518 non-null   object\n",
      " 5   entity_pattern                         1518 non-null   object\n",
      " 6   number_of_entities_used                1518 non-null   int64 \n",
      " 7   transformed_pattern                    1518 non-null   object\n",
      " 8   Sample Count                           1518 non-null   int64 \n",
      "dtypes: int64(4), object(5)\n",
      "memory usage: 106.9+ KB\n"
     ]
    }
   ],
   "source": [
    "#merged_df_NLU info\n",
    "merged_df_NLU.info()"
   ]
  },
  {
   "cell_type": "markdown",
   "metadata": {},
   "source": [
    "### 5. Drop extra 'transformed_pattern' column and rename 'Sample Count' to match entity_pattern"
   ]
  },
  {
   "cell_type": "code",
   "execution_count": 28,
   "metadata": {},
   "outputs": [],
   "source": [
    "merged_df_NLU.drop(columns=['transformed_pattern'], inplace=True)\n",
    "merged_df_NLU.rename(columns={'Sample_Count': 'transformed_pattern'}, inplace=True)"
   ]
  },
  {
   "cell_type": "markdown",
   "metadata": {},
   "source": [
    "### 6. Final Dataframe"
   ]
  },
  {
   "cell_type": "code",
   "execution_count": 29,
   "metadata": {},
   "outputs": [
    {
     "name": "stdout",
     "output_type": "stream",
     "text": [
      "<class 'pandas.core.frame.DataFrame'>\n",
      "RangeIndex: 1518 entries, 0 to 1517\n",
      "Data columns (total 8 columns):\n",
      " #   Column                                 Non-Null Count  Dtype \n",
      "---  ------                                 --------------  ----- \n",
      " 0   Index                                  1518 non-null   int64 \n",
      " 1   number_of_samples_in_NLU_model         1518 non-null   int64 \n",
      " 2   Phrase_Samples_with_original_entities  1518 non-null   object\n",
      " 3   Phrase_Samples_with_new_entities       1518 non-null   object\n",
      " 4   ordered_entities                       1518 non-null   object\n",
      " 5   entity_pattern                         1518 non-null   object\n",
      " 6   number_of_entities_used                1518 non-null   int64 \n",
      " 7   Sample Count                           1518 non-null   int64 \n",
      "dtypes: int64(4), object(4)\n",
      "memory usage: 95.0+ KB\n"
     ]
    }
   ],
   "source": [
    "#merged_df_NLU info\n",
    "merged_df_NLU.info()"
   ]
  },
  {
   "cell_type": "markdown",
   "metadata": {},
   "source": [
    "### 7. To CSV"
   ]
  },
  {
   "cell_type": "code",
   "execution_count": 30,
   "metadata": {},
   "outputs": [],
   "source": [
    "#to csv\n",
    "merged_df_NLU.to_csv('sample_pattern_NLU_not_in_core_df.csv', index=True)"
   ]
  },
  {
   "cell_type": "code",
   "execution_count": null,
   "metadata": {},
   "outputs": [],
   "source": []
  }
 ],
 "metadata": {
  "kernelspec": {
   "display_name": "Python 3",
   "language": "python",
   "name": "python3"
  },
  "language_info": {
   "codemirror_mode": {
    "name": "ipython",
    "version": 3
   },
   "file_extension": ".py",
   "mimetype": "text/x-python",
   "name": "python",
   "nbconvert_exporter": "python",
   "pygments_lexer": "ipython3",
   "version": "3.11.2"
  },
  "orig_nbformat": 4
 },
 "nbformat": 4,
 "nbformat_minor": 2
}
