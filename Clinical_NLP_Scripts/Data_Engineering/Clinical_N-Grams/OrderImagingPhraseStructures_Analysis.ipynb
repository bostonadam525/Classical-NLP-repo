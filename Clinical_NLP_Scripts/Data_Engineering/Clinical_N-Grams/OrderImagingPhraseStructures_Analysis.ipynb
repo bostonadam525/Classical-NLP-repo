{
 "cells": [
  {
   "cell_type": "markdown",
   "metadata": {},
   "source": [
    "# OrderImaging intent Phrase Structures Analysis"
   ]
  },
  {
   "cell_type": "markdown",
   "metadata": {},
   "source": [
    "* By Adam Lang\n",
    "* Demo of work I completed while at Nuance/Microsoft in 2022-2023.\n",
    "\n",
    "- This notebook was used for a phrase structure analysis of the \"OrderImaging\" radiology ontology and natural language understanding model.\n",
    "- I used Python in this notebook.\n",
    "- This is what I did:\n",
    "\n",
    "1. I had a large file of tagged string patterns. For example an NLU phrase will have a BODY_REGION, MODALITY, and VIEW_STRING in the phrase.\n",
    "2. I used this code to loop through each row and pull specific entities I was looking for out into a new column.\n",
    "3. Then I tagged the entities with a 1 letter code. For example \"MODALITY\" became \"M\".\n",
    "4. Then I transformed the entities that were tagged into the original ordered pattern.\n",
    "5. Then I counted the patterns to see how many tagged entities were present, so if there was \"MBC\" that is 3.\n",
    "6. Final Analysis of outcomes.\n",
    "7. Exported 2 separate dataframes with results to CSV files."
   ]
  },
  {
   "cell_type": "markdown",
   "metadata": {},
   "source": [
    "### pip install then import necessary libraries into VS Code jupyter notebook"
   ]
  },
  {
   "cell_type": "code",
   "execution_count": 36,
   "metadata": {},
   "outputs": [
    {
     "name": "stdout",
     "output_type": "stream",
     "text": [
      "Requirement already satisfied: pandas in c:\\users\\langadam\\appdata\\local\\programs\\python\\python311\\lib\\site-packages (2.0.1)\n",
      "Requirement already satisfied: python-dateutil>=2.8.2 in c:\\users\\langadam\\appdata\\roaming\\python\\python311\\site-packages (from pandas) (2.8.2)\n",
      "Requirement already satisfied: pytz>=2020.1 in c:\\users\\langadam\\appdata\\local\\programs\\python\\python311\\lib\\site-packages (from pandas) (2023.3)\n",
      "Requirement already satisfied: tzdata>=2022.1 in c:\\users\\langadam\\appdata\\local\\programs\\python\\python311\\lib\\site-packages (from pandas) (2023.3)\n",
      "Requirement already satisfied: numpy>=1.21.0 in c:\\users\\langadam\\appdata\\local\\programs\\python\\python311\\lib\\site-packages (from pandas) (1.24.3)\n",
      "Requirement already satisfied: six>=1.5 in c:\\users\\langadam\\appdata\\roaming\\python\\python311\\site-packages (from python-dateutil>=2.8.2->pandas) (1.16.0)\n"
     ]
    },
    {
     "name": "stderr",
     "output_type": "stream",
     "text": [
      "\n",
      "[notice] A new release of pip available: 22.3.1 -> 23.3.1\n",
      "[notice] To update, run: python.exe -m pip install --upgrade pip\n"
     ]
    },
    {
     "name": "stdout",
     "output_type": "stream",
     "text": [
      "Requirement already satisfied: numpy in c:\\users\\langadam\\appdata\\local\\programs\\python\\python311\\lib\\site-packages (1.24.3)\n"
     ]
    },
    {
     "name": "stderr",
     "output_type": "stream",
     "text": [
      "\n",
      "[notice] A new release of pip available: 22.3.1 -> 23.3.1\n",
      "[notice] To update, run: python.exe -m pip install --upgrade pip\n"
     ]
    },
    {
     "name": "stdout",
     "output_type": "stream",
     "text": [
      "Collecting matplotlib\n",
      "  Downloading matplotlib-3.8.1-cp311-cp311-win_amd64.whl (7.6 MB)\n",
      "     ---------------------------------------- 7.6/7.6 MB 32.6 MB/s eta 0:00:00\n",
      "Collecting contourpy>=1.0.1\n",
      "  Downloading contourpy-1.2.0-cp311-cp311-win_amd64.whl (187 kB)\n",
      "     ---------------------------------------- 187.6/187.6 kB ? eta 0:00:00\n",
      "Collecting cycler>=0.10\n",
      "  Downloading cycler-0.12.1-py3-none-any.whl (8.3 kB)\n",
      "Collecting fonttools>=4.22.0\n",
      "  Downloading fonttools-4.44.0-cp311-cp311-win_amd64.whl (2.1 MB)\n",
      "     ---------------------------------------- 2.1/2.1 MB 45.5 MB/s eta 0:00:00\n",
      "Collecting kiwisolver>=1.3.1\n",
      "  Downloading kiwisolver-1.4.5-cp311-cp311-win_amd64.whl (56 kB)\n",
      "     ---------------------------------------- 56.1/56.1 kB 2.9 MB/s eta 0:00:00\n",
      "Requirement already satisfied: numpy<2,>=1.21 in c:\\users\\langadam\\appdata\\local\\programs\\python\\python311\\lib\\site-packages (from matplotlib) (1.24.3)\n",
      "Requirement already satisfied: packaging>=20.0 in c:\\users\\langadam\\appdata\\roaming\\python\\python311\\site-packages (from matplotlib) (23.0)\n",
      "Requirement already satisfied: pillow>=8 in c:\\users\\langadam\\appdata\\local\\programs\\python\\python311\\lib\\site-packages (from matplotlib) (10.0.0)\n",
      "Collecting pyparsing>=2.3.1\n",
      "  Downloading pyparsing-3.1.1-py3-none-any.whl (103 kB)\n",
      "     -------------------------------------- 103.1/103.1 kB 6.2 MB/s eta 0:00:00\n",
      "Requirement already satisfied: python-dateutil>=2.7 in c:\\users\\langadam\\appdata\\roaming\\python\\python311\\site-packages (from matplotlib) (2.8.2)\n",
      "Requirement already satisfied: six>=1.5 in c:\\users\\langadam\\appdata\\roaming\\python\\python311\\site-packages (from python-dateutil>=2.7->matplotlib) (1.16.0)\n",
      "Installing collected packages: pyparsing, kiwisolver, fonttools, cycler, contourpy, matplotlib\n",
      "Successfully installed contourpy-1.2.0 cycler-0.12.1 fonttools-4.44.0 kiwisolver-1.4.5 matplotlib-3.8.1 pyparsing-3.1.1\n"
     ]
    },
    {
     "name": "stderr",
     "output_type": "stream",
     "text": [
      "\n",
      "[notice] A new release of pip available: 22.3.1 -> 23.3.1\n",
      "[notice] To update, run: python.exe -m pip install --upgrade pip\n"
     ]
    }
   ],
   "source": [
    "# install libraries\n",
    "!pip install pandas\n",
    "!pip install numpy\n",
    "!pip install matplotlib"
   ]
  },
  {
   "cell_type": "code",
   "execution_count": 37,
   "metadata": {},
   "outputs": [],
   "source": [
    "#import libraries\n",
    "import pandas as pd\n",
    "import numpy as np\n",
    "import matplotlib.pyplot as plt"
   ]
  },
  {
   "cell_type": "markdown",
   "metadata": {},
   "source": [
    "## Pattern Recognition Task"
   ]
  },
  {
   "cell_type": "markdown",
   "metadata": {},
   "source": [
    "### 1. Data Preprocessing:\n",
    "Load dataset and create a new column to store the extracted patterns."
   ]
  },
  {
   "cell_type": "code",
   "execution_count": 9,
   "metadata": {},
   "outputs": [],
   "source": [
    "import pandas as pd\n",
    "\n",
    "# Load your dataset\n",
    "data = pd.read_excel('dmvaOrderImaging_Phrase_Structures_w_out_values.xlsx')\n",
    "\n"
   ]
  },
  {
   "cell_type": "code",
   "execution_count": 10,
   "metadata": {},
   "outputs": [
    {
     "data": {
      "text/html": [
       "<div>\n",
       "<style scoped>\n",
       "    .dataframe tbody tr th:only-of-type {\n",
       "        vertical-align: middle;\n",
       "    }\n",
       "\n",
       "    .dataframe tbody tr th {\n",
       "        vertical-align: top;\n",
       "    }\n",
       "\n",
       "    .dataframe thead th {\n",
       "        text-align: right;\n",
       "    }\n",
       "</style>\n",
       "<table border=\"1\" class=\"dataframe\">\n",
       "  <thead>\n",
       "    <tr style=\"text-align: right;\">\n",
       "      <th></th>\n",
       "      <th>Phrase_Samples</th>\n",
       "    </tr>\n",
       "  </thead>\n",
       "  <tbody>\n",
       "    <tr>\n",
       "      <th>0</th>\n",
       "      <td>ORDER_ACTION, ORDER_TYPE_SECRET, FOR_SECRET, M...</td>\n",
       "    </tr>\n",
       "    <tr>\n",
       "      <th>1</th>\n",
       "      <td>ORDER_ACTION, ORDER_TYPE_SECRET, FOR_SECRET, M...</td>\n",
       "    </tr>\n",
       "    <tr>\n",
       "      <th>2</th>\n",
       "      <td>ORDER_ACTION, MODALITY, PRIORITY</td>\n",
       "    </tr>\n",
       "    <tr>\n",
       "      <th>3</th>\n",
       "      <td>ORDER_ACTION, ORDER_TYPE_SECRET, FOR_SECRET, M...</td>\n",
       "    </tr>\n",
       "    <tr>\n",
       "      <th>4</th>\n",
       "      <td>ORDER_ACTION, MODALITY, FOR_SECRET, BODY_REGION</td>\n",
       "    </tr>\n",
       "  </tbody>\n",
       "</table>\n",
       "</div>"
      ],
      "text/plain": [
       "                                      Phrase_Samples\n",
       "0  ORDER_ACTION, ORDER_TYPE_SECRET, FOR_SECRET, M...\n",
       "1  ORDER_ACTION, ORDER_TYPE_SECRET, FOR_SECRET, M...\n",
       "2                   ORDER_ACTION, MODALITY, PRIORITY\n",
       "3  ORDER_ACTION, ORDER_TYPE_SECRET, FOR_SECRET, M...\n",
       "4    ORDER_ACTION, MODALITY, FOR_SECRET, BODY_REGION"
      ]
     },
     "execution_count": 10,
     "metadata": {},
     "output_type": "execute_result"
    }
   ],
   "source": [
    "#window into the data with the head() function\n",
    "data.head()"
   ]
  },
  {
   "cell_type": "code",
   "execution_count": 11,
   "metadata": {},
   "outputs": [
    {
     "data": {
      "text/html": [
       "<div>\n",
       "<style scoped>\n",
       "    .dataframe tbody tr th:only-of-type {\n",
       "        vertical-align: middle;\n",
       "    }\n",
       "\n",
       "    .dataframe tbody tr th {\n",
       "        vertical-align: top;\n",
       "    }\n",
       "\n",
       "    .dataframe thead th {\n",
       "        text-align: right;\n",
       "    }\n",
       "</style>\n",
       "<table border=\"1\" class=\"dataframe\">\n",
       "  <thead>\n",
       "    <tr style=\"text-align: right;\">\n",
       "      <th></th>\n",
       "      <th>Phrase_Samples</th>\n",
       "    </tr>\n",
       "  </thead>\n",
       "  <tbody>\n",
       "    <tr>\n",
       "      <th>count</th>\n",
       "      <td>2220</td>\n",
       "    </tr>\n",
       "    <tr>\n",
       "      <th>unique</th>\n",
       "      <td>2220</td>\n",
       "    </tr>\n",
       "    <tr>\n",
       "      <th>top</th>\n",
       "      <td>ORDER_ACTION, ORDER_TYPE_SECRET, FOR_SECRET, M...</td>\n",
       "    </tr>\n",
       "    <tr>\n",
       "      <th>freq</th>\n",
       "      <td>1</td>\n",
       "    </tr>\n",
       "  </tbody>\n",
       "</table>\n",
       "</div>"
      ],
      "text/plain": [
       "                                           Phrase_Samples\n",
       "count                                                2220\n",
       "unique                                               2220\n",
       "top     ORDER_ACTION, ORDER_TYPE_SECRET, FOR_SECRET, M...\n",
       "freq                                                    1"
      ]
     },
     "execution_count": 11,
     "metadata": {},
     "output_type": "execute_result"
    }
   ],
   "source": [
    "#describe dataset\n",
    "data.describe()"
   ]
  },
  {
   "cell_type": "markdown",
   "metadata": {},
   "source": [
    "### Create test dataframe"
   ]
  },
  {
   "cell_type": "code",
   "execution_count": 16,
   "metadata": {},
   "outputs": [
    {
     "data": {
      "text/html": [
       "<div>\n",
       "<style scoped>\n",
       "    .dataframe tbody tr th:only-of-type {\n",
       "        vertical-align: middle;\n",
       "    }\n",
       "\n",
       "    .dataframe tbody tr th {\n",
       "        vertical-align: top;\n",
       "    }\n",
       "\n",
       "    .dataframe thead th {\n",
       "        text-align: right;\n",
       "    }\n",
       "</style>\n",
       "<table border=\"1\" class=\"dataframe\">\n",
       "  <thead>\n",
       "    <tr style=\"text-align: right;\">\n",
       "      <th></th>\n",
       "      <th>Phrase_Samples</th>\n",
       "    </tr>\n",
       "  </thead>\n",
       "  <tbody>\n",
       "    <tr>\n",
       "      <th>0</th>\n",
       "      <td>ORDER_ACTION, ORDER_TYPE_SECRET, FOR_SECRET, M...</td>\n",
       "    </tr>\n",
       "    <tr>\n",
       "      <th>1</th>\n",
       "      <td>ORDER_ACTION, ORDER_TYPE_SECRET, FOR_SECRET, M...</td>\n",
       "    </tr>\n",
       "    <tr>\n",
       "      <th>2</th>\n",
       "      <td>ORDER_ACTION, MODALITY, PRIORITY</td>\n",
       "    </tr>\n",
       "    <tr>\n",
       "      <th>3</th>\n",
       "      <td>ORDER_ACTION, ORDER_TYPE_SECRET, FOR_SECRET, M...</td>\n",
       "    </tr>\n",
       "    <tr>\n",
       "      <th>4</th>\n",
       "      <td>ORDER_ACTION, MODALITY, FOR_SECRET, BODY_REGION</td>\n",
       "    </tr>\n",
       "  </tbody>\n",
       "</table>\n",
       "</div>"
      ],
      "text/plain": [
       "                                      Phrase_Samples\n",
       "0  ORDER_ACTION, ORDER_TYPE_SECRET, FOR_SECRET, M...\n",
       "1  ORDER_ACTION, ORDER_TYPE_SECRET, FOR_SECRET, M...\n",
       "2                   ORDER_ACTION, MODALITY, PRIORITY\n",
       "3  ORDER_ACTION, ORDER_TYPE_SECRET, FOR_SECRET, M...\n",
       "4    ORDER_ACTION, MODALITY, FOR_SECRET, BODY_REGION"
      ]
     },
     "execution_count": 16,
     "metadata": {},
     "output_type": "execute_result"
    }
   ],
   "source": [
    "#copy existing dataframe\n",
    "data_test = data.copy()\n",
    "\n",
    "#head\n",
    "data_test.head()"
   ]
  },
  {
   "cell_type": "code",
   "execution_count": 17,
   "metadata": {},
   "outputs": [
    {
     "data": {
      "text/html": [
       "<div>\n",
       "<style scoped>\n",
       "    .dataframe tbody tr th:only-of-type {\n",
       "        vertical-align: middle;\n",
       "    }\n",
       "\n",
       "    .dataframe tbody tr th {\n",
       "        vertical-align: top;\n",
       "    }\n",
       "\n",
       "    .dataframe thead th {\n",
       "        text-align: right;\n",
       "    }\n",
       "</style>\n",
       "<table border=\"1\" class=\"dataframe\">\n",
       "  <thead>\n",
       "    <tr style=\"text-align: right;\">\n",
       "      <th></th>\n",
       "      <th>Phrase_Samples</th>\n",
       "    </tr>\n",
       "  </thead>\n",
       "  <tbody>\n",
       "    <tr>\n",
       "      <th>0</th>\n",
       "      <td>ORDER_ACTION, ORDER_TYPE_SECRET, FOR_SECRET, M...</td>\n",
       "    </tr>\n",
       "    <tr>\n",
       "      <th>1</th>\n",
       "      <td>ORDER_ACTION, ORDER_TYPE_SECRET, FOR_SECRET, M...</td>\n",
       "    </tr>\n",
       "    <tr>\n",
       "      <th>2</th>\n",
       "      <td>ORDER_ACTION, MODALITY, PRIORITY</td>\n",
       "    </tr>\n",
       "    <tr>\n",
       "      <th>3</th>\n",
       "      <td>ORDER_ACTION, ORDER_TYPE_SECRET, FOR_SECRET, M...</td>\n",
       "    </tr>\n",
       "    <tr>\n",
       "      <th>4</th>\n",
       "      <td>ORDER_ACTION, MODALITY, FOR_SECRET, BODY_REGION</td>\n",
       "    </tr>\n",
       "    <tr>\n",
       "      <th>5</th>\n",
       "      <td>ORDER_ACTION, PRIORITY, MODALITY, FOR_SECRET, ...</td>\n",
       "    </tr>\n",
       "    <tr>\n",
       "      <th>6</th>\n",
       "      <td>ORDER_ACTION, A_AN_SECRET, MODALITY, FOR_SECRE...</td>\n",
       "    </tr>\n",
       "    <tr>\n",
       "      <th>7</th>\n",
       "      <td>ORDER_ACTION, A_AN_SECRET, MODALITY, FOR_SECRE...</td>\n",
       "    </tr>\n",
       "    <tr>\n",
       "      <th>8</th>\n",
       "      <td>ORDER_ACTION, MODALITY, FOR_SECRET, BODY_REGIO...</td>\n",
       "    </tr>\n",
       "    <tr>\n",
       "      <th>9</th>\n",
       "      <td>ORDER_ACTION, A_AN_SECRET, PRIORITY, MODALITY,...</td>\n",
       "    </tr>\n",
       "  </tbody>\n",
       "</table>\n",
       "</div>"
      ],
      "text/plain": [
       "                                      Phrase_Samples\n",
       "0  ORDER_ACTION, ORDER_TYPE_SECRET, FOR_SECRET, M...\n",
       "1  ORDER_ACTION, ORDER_TYPE_SECRET, FOR_SECRET, M...\n",
       "2                   ORDER_ACTION, MODALITY, PRIORITY\n",
       "3  ORDER_ACTION, ORDER_TYPE_SECRET, FOR_SECRET, M...\n",
       "4    ORDER_ACTION, MODALITY, FOR_SECRET, BODY_REGION\n",
       "5  ORDER_ACTION, PRIORITY, MODALITY, FOR_SECRET, ...\n",
       "6  ORDER_ACTION, A_AN_SECRET, MODALITY, FOR_SECRE...\n",
       "7  ORDER_ACTION, A_AN_SECRET, MODALITY, FOR_SECRE...\n",
       "8  ORDER_ACTION, MODALITY, FOR_SECRET, BODY_REGIO...\n",
       "9  ORDER_ACTION, A_AN_SECRET, PRIORITY, MODALITY,..."
      ]
     },
     "execution_count": 17,
     "metadata": {},
     "output_type": "execute_result"
    }
   ],
   "source": [
    "#Create sample of data_test dataframe for analysis\n",
    "data_test = data_test[0:10]\n",
    "\n",
    "\n",
    "#head\n",
    "data_test.head(11)"
   ]
  },
  {
   "cell_type": "markdown",
   "metadata": {},
   "source": [
    "### 2. Pattern Extraction:\n",
    "In this code, I wrote a function \"extract_ordered_entities\" that extracts the entities based on the predefined order and joins them in the order they appear within the row. Then, the transform_entities_to_pattern function transforms the ordered entities into the corresponding pattern based on the desired mapping structure.\n",
    "\n",
    "This way, regardless of the order in which the entities appear in each row, the code will maintain and utilize that order for further processing."
   ]
  },
  {
   "cell_type": "code",
   "execution_count": 18,
   "metadata": {},
   "outputs": [],
   "source": [
    "#import libraries\n",
    "import re\n",
    "import pandas as pd"
   ]
  },
  {
   "cell_type": "code",
   "execution_count": 19,
   "metadata": {},
   "outputs": [],
   "source": [
    "#entity order established as a list\n",
    "entity_order = ['MODALITY', 'BODY_REGION', 'PRIORITY','VIEW_STRING','VIEW_POSITION','CONTRAST_MODIFIER']"
   ]
  },
  {
   "cell_type": "code",
   "execution_count": 20,
   "metadata": {},
   "outputs": [],
   "source": [
    "#define function to extract ordered entities from dataframe row\n",
    "def extract_ordered_entities(row):\n",
    "    entities = re.findall(r'\\b(' + '|'.join(entity_order) + r')\\b', row)\n",
    "    return ' '.join(entities)  # Join the extracted entities in the order they appear"
   ]
  },
  {
   "cell_type": "code",
   "execution_count": 21,
   "metadata": {},
   "outputs": [
    {
     "data": {
      "text/plain": [
       "Index(['Phrase_Samples'], dtype='object')"
      ]
     },
     "execution_count": 21,
     "metadata": {},
     "output_type": "execute_result"
    }
   ],
   "source": [
    "#review columns in the dataframe\n",
    "data_test.columns"
   ]
  },
  {
   "cell_type": "code",
   "execution_count": 22,
   "metadata": {},
   "outputs": [],
   "source": [
    "#extract ordered entities from text column\n",
    "data['ordered_entities'] = data['Phrase_Samples'].apply(extract_ordered_entities)"
   ]
  },
  {
   "cell_type": "code",
   "execution_count": 23,
   "metadata": {},
   "outputs": [
    {
     "data": {
      "text/html": [
       "<div>\n",
       "<style scoped>\n",
       "    .dataframe tbody tr th:only-of-type {\n",
       "        vertical-align: middle;\n",
       "    }\n",
       "\n",
       "    .dataframe tbody tr th {\n",
       "        vertical-align: top;\n",
       "    }\n",
       "\n",
       "    .dataframe thead th {\n",
       "        text-align: right;\n",
       "    }\n",
       "</style>\n",
       "<table border=\"1\" class=\"dataframe\">\n",
       "  <thead>\n",
       "    <tr style=\"text-align: right;\">\n",
       "      <th></th>\n",
       "      <th>Phrase_Samples</th>\n",
       "      <th>ordered_entities</th>\n",
       "    </tr>\n",
       "  </thead>\n",
       "  <tbody>\n",
       "    <tr>\n",
       "      <th>0</th>\n",
       "      <td>ORDER_ACTION, ORDER_TYPE_SECRET, FOR_SECRET, M...</td>\n",
       "      <td>MODALITY BODY_REGION CONTRAST_MODIFIER</td>\n",
       "    </tr>\n",
       "    <tr>\n",
       "      <th>1</th>\n",
       "      <td>ORDER_ACTION, ORDER_TYPE_SECRET, FOR_SECRET, M...</td>\n",
       "      <td>MODALITY BODY_REGION</td>\n",
       "    </tr>\n",
       "    <tr>\n",
       "      <th>2</th>\n",
       "      <td>ORDER_ACTION, MODALITY, PRIORITY</td>\n",
       "      <td>MODALITY PRIORITY</td>\n",
       "    </tr>\n",
       "    <tr>\n",
       "      <th>3</th>\n",
       "      <td>ORDER_ACTION, ORDER_TYPE_SECRET, FOR_SECRET, M...</td>\n",
       "      <td>MODALITY BODY_REGION PRIORITY</td>\n",
       "    </tr>\n",
       "    <tr>\n",
       "      <th>4</th>\n",
       "      <td>ORDER_ACTION, MODALITY, FOR_SECRET, BODY_REGION</td>\n",
       "      <td>MODALITY BODY_REGION</td>\n",
       "    </tr>\n",
       "    <tr>\n",
       "      <th>5</th>\n",
       "      <td>ORDER_ACTION, PRIORITY, MODALITY, FOR_SECRET, ...</td>\n",
       "      <td>PRIORITY MODALITY BODY_REGION</td>\n",
       "    </tr>\n",
       "    <tr>\n",
       "      <th>6</th>\n",
       "      <td>ORDER_ACTION, A_AN_SECRET, MODALITY, FOR_SECRE...</td>\n",
       "      <td>MODALITY BODY_REGION</td>\n",
       "    </tr>\n",
       "    <tr>\n",
       "      <th>7</th>\n",
       "      <td>ORDER_ACTION, A_AN_SECRET, MODALITY, FOR_SECRE...</td>\n",
       "      <td>MODALITY BODY_REGION PRIORITY</td>\n",
       "    </tr>\n",
       "    <tr>\n",
       "      <th>8</th>\n",
       "      <td>ORDER_ACTION, MODALITY, FOR_SECRET, BODY_REGIO...</td>\n",
       "      <td>MODALITY BODY_REGION PRIORITY</td>\n",
       "    </tr>\n",
       "    <tr>\n",
       "      <th>9</th>\n",
       "      <td>ORDER_ACTION, A_AN_SECRET, PRIORITY, MODALITY,...</td>\n",
       "      <td>PRIORITY MODALITY BODY_REGION</td>\n",
       "    </tr>\n",
       "  </tbody>\n",
       "</table>\n",
       "</div>"
      ],
      "text/plain": [
       "                                      Phrase_Samples   \n",
       "0  ORDER_ACTION, ORDER_TYPE_SECRET, FOR_SECRET, M...  \\\n",
       "1  ORDER_ACTION, ORDER_TYPE_SECRET, FOR_SECRET, M...   \n",
       "2                   ORDER_ACTION, MODALITY, PRIORITY   \n",
       "3  ORDER_ACTION, ORDER_TYPE_SECRET, FOR_SECRET, M...   \n",
       "4    ORDER_ACTION, MODALITY, FOR_SECRET, BODY_REGION   \n",
       "5  ORDER_ACTION, PRIORITY, MODALITY, FOR_SECRET, ...   \n",
       "6  ORDER_ACTION, A_AN_SECRET, MODALITY, FOR_SECRE...   \n",
       "7  ORDER_ACTION, A_AN_SECRET, MODALITY, FOR_SECRE...   \n",
       "8  ORDER_ACTION, MODALITY, FOR_SECRET, BODY_REGIO...   \n",
       "9  ORDER_ACTION, A_AN_SECRET, PRIORITY, MODALITY,...   \n",
       "\n",
       "                         ordered_entities  \n",
       "0  MODALITY BODY_REGION CONTRAST_MODIFIER  \n",
       "1                    MODALITY BODY_REGION  \n",
       "2                       MODALITY PRIORITY  \n",
       "3           MODALITY BODY_REGION PRIORITY  \n",
       "4                    MODALITY BODY_REGION  \n",
       "5           PRIORITY MODALITY BODY_REGION  \n",
       "6                    MODALITY BODY_REGION  \n",
       "7           MODALITY BODY_REGION PRIORITY  \n",
       "8           MODALITY BODY_REGION PRIORITY  \n",
       "9           PRIORITY MODALITY BODY_REGION  "
      ]
     },
     "execution_count": 23,
     "metadata": {},
     "output_type": "execute_result"
    }
   ],
   "source": [
    "#view outcome\n",
    "data.head(10)"
   ]
  },
  {
   "cell_type": "markdown",
   "metadata": {},
   "source": [
    "Summary: Above we can see the column \"Phrase_Samples\" was looped over and the entities that I wanted to extract were pulled into a new column \"ordered_entities.\""
   ]
  },
  {
   "cell_type": "markdown",
   "metadata": {},
   "source": [
    "### 3. Entity to Pattern Transformation:\n",
    "Create dictionary to map entities to desired pattern symbols. Then, use the str.translate() method to transform the extracted pattern."
   ]
  },
  {
   "cell_type": "code",
   "execution_count": 24,
   "metadata": {},
   "outputs": [],
   "source": [
    "# This dictionary maps entities to their corresponding pattern symbols\n",
    "entity_to_pattern = {\n",
    "    'MODALITY': 'M',\n",
    "    'BODY_REGION': 'B',\n",
    "    'CONTRAST_MODIFIER': 'C',\n",
    "\t'PRIORITY': 'Pr',\n",
    "\t'VIEW_POSITION': 'P',\n",
    "\t'VIEW_STRING':'V'\n",
    "}"
   ]
  },
  {
   "cell_type": "markdown",
   "metadata": {},
   "source": [
    "### 4. Transform entities to original pattern"
   ]
  },
  {
   "cell_type": "code",
   "execution_count": 25,
   "metadata": {},
   "outputs": [],
   "source": [
    "#define function to transform entities to original string pattern\n",
    "def transform_entities_to_pattern(ordered_entities):\n",
    "    pattern = ''.join([entity_to_pattern[entity] for entity in ordered_entities.split()])\n",
    "    return pattern"
   ]
  },
  {
   "cell_type": "code",
   "execution_count": 26,
   "metadata": {},
   "outputs": [],
   "source": [
    "#add ordered_entities column to data\n",
    "data['transformed_pattern'] = data['ordered_entities'].apply(transform_entities_to_pattern)"
   ]
  },
  {
   "cell_type": "markdown",
   "metadata": {},
   "source": [
    "### 5. Count patterns"
   ]
  },
  {
   "cell_type": "code",
   "execution_count": 27,
   "metadata": {},
   "outputs": [],
   "source": [
    "# Define a function to count the number of entity to pattern letters in a string\n",
    "def count_entity_patterns(s):\n",
    "    return sum(1 for c in s if c in entity_to_pattern.values())\n"
   ]
  },
  {
   "cell_type": "code",
   "execution_count": 28,
   "metadata": {},
   "outputs": [],
   "source": [
    "# Apply the function to each row in the dataframe\n",
    "data[\"entity_pattern_count\"] = data[\"transformed_pattern\"].apply(lambda x: count_entity_patterns(x))"
   ]
  },
  {
   "cell_type": "code",
   "execution_count": 29,
   "metadata": {},
   "outputs": [
    {
     "data": {
      "text/html": [
       "<div>\n",
       "<style scoped>\n",
       "    .dataframe tbody tr th:only-of-type {\n",
       "        vertical-align: middle;\n",
       "    }\n",
       "\n",
       "    .dataframe tbody tr th {\n",
       "        vertical-align: top;\n",
       "    }\n",
       "\n",
       "    .dataframe thead th {\n",
       "        text-align: right;\n",
       "    }\n",
       "</style>\n",
       "<table border=\"1\" class=\"dataframe\">\n",
       "  <thead>\n",
       "    <tr style=\"text-align: right;\">\n",
       "      <th></th>\n",
       "      <th>Phrase_Samples</th>\n",
       "      <th>ordered_entities</th>\n",
       "      <th>transformed_pattern</th>\n",
       "      <th>entity_pattern_count</th>\n",
       "    </tr>\n",
       "  </thead>\n",
       "  <tbody>\n",
       "    <tr>\n",
       "      <th>0</th>\n",
       "      <td>ORDER_ACTION, ORDER_TYPE_SECRET, FOR_SECRET, M...</td>\n",
       "      <td>MODALITY BODY_REGION CONTRAST_MODIFIER</td>\n",
       "      <td>MBC</td>\n",
       "      <td>3</td>\n",
       "    </tr>\n",
       "    <tr>\n",
       "      <th>1</th>\n",
       "      <td>ORDER_ACTION, ORDER_TYPE_SECRET, FOR_SECRET, M...</td>\n",
       "      <td>MODALITY BODY_REGION</td>\n",
       "      <td>MB</td>\n",
       "      <td>2</td>\n",
       "    </tr>\n",
       "    <tr>\n",
       "      <th>2</th>\n",
       "      <td>ORDER_ACTION, MODALITY, PRIORITY</td>\n",
       "      <td>MODALITY PRIORITY</td>\n",
       "      <td>MPr</td>\n",
       "      <td>2</td>\n",
       "    </tr>\n",
       "    <tr>\n",
       "      <th>3</th>\n",
       "      <td>ORDER_ACTION, ORDER_TYPE_SECRET, FOR_SECRET, M...</td>\n",
       "      <td>MODALITY BODY_REGION PRIORITY</td>\n",
       "      <td>MBPr</td>\n",
       "      <td>3</td>\n",
       "    </tr>\n",
       "    <tr>\n",
       "      <th>4</th>\n",
       "      <td>ORDER_ACTION, MODALITY, FOR_SECRET, BODY_REGION</td>\n",
       "      <td>MODALITY BODY_REGION</td>\n",
       "      <td>MB</td>\n",
       "      <td>2</td>\n",
       "    </tr>\n",
       "    <tr>\n",
       "      <th>5</th>\n",
       "      <td>ORDER_ACTION, PRIORITY, MODALITY, FOR_SECRET, ...</td>\n",
       "      <td>PRIORITY MODALITY BODY_REGION</td>\n",
       "      <td>PrMB</td>\n",
       "      <td>3</td>\n",
       "    </tr>\n",
       "    <tr>\n",
       "      <th>6</th>\n",
       "      <td>ORDER_ACTION, A_AN_SECRET, MODALITY, FOR_SECRE...</td>\n",
       "      <td>MODALITY BODY_REGION</td>\n",
       "      <td>MB</td>\n",
       "      <td>2</td>\n",
       "    </tr>\n",
       "    <tr>\n",
       "      <th>7</th>\n",
       "      <td>ORDER_ACTION, A_AN_SECRET, MODALITY, FOR_SECRE...</td>\n",
       "      <td>MODALITY BODY_REGION PRIORITY</td>\n",
       "      <td>MBPr</td>\n",
       "      <td>3</td>\n",
       "    </tr>\n",
       "    <tr>\n",
       "      <th>8</th>\n",
       "      <td>ORDER_ACTION, MODALITY, FOR_SECRET, BODY_REGIO...</td>\n",
       "      <td>MODALITY BODY_REGION PRIORITY</td>\n",
       "      <td>MBPr</td>\n",
       "      <td>3</td>\n",
       "    </tr>\n",
       "    <tr>\n",
       "      <th>9</th>\n",
       "      <td>ORDER_ACTION, A_AN_SECRET, PRIORITY, MODALITY,...</td>\n",
       "      <td>PRIORITY MODALITY BODY_REGION</td>\n",
       "      <td>PrMB</td>\n",
       "      <td>3</td>\n",
       "    </tr>\n",
       "  </tbody>\n",
       "</table>\n",
       "</div>"
      ],
      "text/plain": [
       "                                      Phrase_Samples   \n",
       "0  ORDER_ACTION, ORDER_TYPE_SECRET, FOR_SECRET, M...  \\\n",
       "1  ORDER_ACTION, ORDER_TYPE_SECRET, FOR_SECRET, M...   \n",
       "2                   ORDER_ACTION, MODALITY, PRIORITY   \n",
       "3  ORDER_ACTION, ORDER_TYPE_SECRET, FOR_SECRET, M...   \n",
       "4    ORDER_ACTION, MODALITY, FOR_SECRET, BODY_REGION   \n",
       "5  ORDER_ACTION, PRIORITY, MODALITY, FOR_SECRET, ...   \n",
       "6  ORDER_ACTION, A_AN_SECRET, MODALITY, FOR_SECRE...   \n",
       "7  ORDER_ACTION, A_AN_SECRET, MODALITY, FOR_SECRE...   \n",
       "8  ORDER_ACTION, MODALITY, FOR_SECRET, BODY_REGIO...   \n",
       "9  ORDER_ACTION, A_AN_SECRET, PRIORITY, MODALITY,...   \n",
       "\n",
       "                         ordered_entities transformed_pattern   \n",
       "0  MODALITY BODY_REGION CONTRAST_MODIFIER                 MBC  \\\n",
       "1                    MODALITY BODY_REGION                  MB   \n",
       "2                       MODALITY PRIORITY                 MPr   \n",
       "3           MODALITY BODY_REGION PRIORITY                MBPr   \n",
       "4                    MODALITY BODY_REGION                  MB   \n",
       "5           PRIORITY MODALITY BODY_REGION                PrMB   \n",
       "6                    MODALITY BODY_REGION                  MB   \n",
       "7           MODALITY BODY_REGION PRIORITY                MBPr   \n",
       "8           MODALITY BODY_REGION PRIORITY                MBPr   \n",
       "9           PRIORITY MODALITY BODY_REGION                PrMB   \n",
       "\n",
       "   entity_pattern_count  \n",
       "0                     3  \n",
       "1                     2  \n",
       "2                     2  \n",
       "3                     3  \n",
       "4                     2  \n",
       "5                     3  \n",
       "6                     2  \n",
       "7                     3  \n",
       "8                     3  \n",
       "9                     3  "
      ]
     },
     "execution_count": 29,
     "metadata": {},
     "output_type": "execute_result"
    }
   ],
   "source": [
    "#view outcome\n",
    "data.head(10)"
   ]
  },
  {
   "cell_type": "markdown",
   "metadata": {},
   "source": [
    "### 6. Analysis"
   ]
  },
  {
   "cell_type": "code",
   "execution_count": 30,
   "metadata": {},
   "outputs": [
    {
     "data": {
      "text/plain": [
       "count     2220\n",
       "unique     115\n",
       "top         MB\n",
       "freq        49\n",
       "Name: transformed_pattern, dtype: object"
      ]
     },
     "execution_count": 30,
     "metadata": {},
     "output_type": "execute_result"
    }
   ],
   "source": [
    "#analysis of transformed patterns\n",
    "data.transformed_pattern.describe()"
   ]
  },
  {
   "cell_type": "markdown",
   "metadata": {},
   "source": [
    "### Plot outcome with matplotlib"
   ]
  },
  {
   "cell_type": "code",
   "execution_count": 46,
   "metadata": {},
   "outputs": [
    {
     "data": {
      "image/png": "[encoded data removed]",
      "text/plain": [
       "<Figure size 1000x600 with 1 Axes>"
      ]
     },
     "metadata": {},
     "output_type": "display_data"
    }
   ],
   "source": [
    "# Get value counts for top 5 patterns found in the data\n",
    "value_counts = data.transformed_pattern.value_counts().head(5)\n",
    "\n",
    "# Create bar graph\n",
    "plt.figure(figsize=(10, 6))\n",
    "bars = plt.bar(value_counts.index, value_counts.values)\n",
    "\n",
    "# Label the axes\n",
    "plt.title('Top 5 Transformed Patterns')\n",
    "plt.xlabel('Transformed Patterns')\n",
    "plt.ylabel('Counts')\n",
    "\n",
    "# Label the bars with their respective values\n",
    "for bar in bars:\n",
    "    yval = bar.get_height()\n",
    "    plt.text(bar.get_x() + bar.get_width()/2.0, yval, int(yval), va='bottom') # va: vertical alignment\n",
    "\n",
    "# Show the plot\n",
    "plt.show()"
   ]
  },
  {
   "cell_type": "code",
   "execution_count": 52,
   "metadata": {},
   "outputs": [
    {
     "data": {
      "text/html": [
       "<div>\n",
       "<style scoped>\n",
       "    .dataframe tbody tr th:only-of-type {\n",
       "        vertical-align: middle;\n",
       "    }\n",
       "\n",
       "    .dataframe tbody tr th {\n",
       "        vertical-align: top;\n",
       "    }\n",
       "\n",
       "    .dataframe thead th {\n",
       "        text-align: right;\n",
       "    }\n",
       "</style>\n",
       "<table border=\"1\" class=\"dataframe\">\n",
       "  <thead>\n",
       "    <tr style=\"text-align: right;\">\n",
       "      <th></th>\n",
       "      <th>count</th>\n",
       "    </tr>\n",
       "    <tr>\n",
       "      <th>transformed_pattern</th>\n",
       "      <th></th>\n",
       "    </tr>\n",
       "  </thead>\n",
       "  <tbody>\n",
       "    <tr>\n",
       "      <th>MB</th>\n",
       "      <td>49</td>\n",
       "    </tr>\n",
       "    <tr>\n",
       "      <th>MBPr</th>\n",
       "      <td>48</td>\n",
       "    </tr>\n",
       "    <tr>\n",
       "      <th>PrMB</th>\n",
       "      <td>46</td>\n",
       "    </tr>\n",
       "    <tr>\n",
       "      <th>BM</th>\n",
       "      <td>42</td>\n",
       "    </tr>\n",
       "    <tr>\n",
       "      <th>BMVVPPP</th>\n",
       "      <td>38</td>\n",
       "    </tr>\n",
       "  </tbody>\n",
       "</table>\n",
       "</div>"
      ],
      "text/plain": [
       "                     count\n",
       "transformed_pattern       \n",
       "MB                      49\n",
       "MBPr                    48\n",
       "PrMB                    46\n",
       "BM                      42\n",
       "BMVVPPP                 38"
      ]
     },
     "execution_count": 52,
     "metadata": {},
     "output_type": "execute_result"
    }
   ],
   "source": [
    "#create new dataframe called sample_pattern_count\n",
    "sample_pattern_count = pd.DataFrame(data.transformed_pattern.value_counts())\n",
    "\n",
    "#head of df\n",
    "sample_pattern_count.head()"
   ]
  },
  {
   "cell_type": "code",
   "execution_count": 55,
   "metadata": {},
   "outputs": [
    {
     "data": {
      "text/html": [
       "<div>\n",
       "<style scoped>\n",
       "    .dataframe tbody tr th:only-of-type {\n",
       "        vertical-align: middle;\n",
       "    }\n",
       "\n",
       "    .dataframe tbody tr th {\n",
       "        vertical-align: top;\n",
       "    }\n",
       "\n",
       "    .dataframe thead th {\n",
       "        text-align: right;\n",
       "    }\n",
       "</style>\n",
       "<table border=\"1\" class=\"dataframe\">\n",
       "  <thead>\n",
       "    <tr style=\"text-align: right;\">\n",
       "      <th></th>\n",
       "      <th>count</th>\n",
       "    </tr>\n",
       "    <tr>\n",
       "      <th>transformed_pattern</th>\n",
       "      <th></th>\n",
       "    </tr>\n",
       "  </thead>\n",
       "  <tbody>\n",
       "    <tr>\n",
       "      <th>MB</th>\n",
       "      <td>49</td>\n",
       "    </tr>\n",
       "    <tr>\n",
       "      <th>MBPr</th>\n",
       "      <td>48</td>\n",
       "    </tr>\n",
       "    <tr>\n",
       "      <th>PrMB</th>\n",
       "      <td>46</td>\n",
       "    </tr>\n",
       "    <tr>\n",
       "      <th>BM</th>\n",
       "      <td>42</td>\n",
       "    </tr>\n",
       "    <tr>\n",
       "      <th>BMVVPPP</th>\n",
       "      <td>38</td>\n",
       "    </tr>\n",
       "  </tbody>\n",
       "</table>\n",
       "</div>"
      ],
      "text/plain": [
       "                     count\n",
       "transformed_pattern       \n",
       "MB                      49\n",
       "MBPr                    48\n",
       "PrMB                    46\n",
       "BM                      42\n",
       "BMVVPPP                 38"
      ]
     },
     "execution_count": 55,
     "metadata": {},
     "output_type": "execute_result"
    }
   ],
   "source": [
    "#create new column to include counts of each pattern\n",
    "sample_pattern_count = pd.DataFrame(data.transformed_pattern.value_counts())\n",
    "\n",
    "\n",
    "#head df\n",
    "sample_pattern_count.head()\n"
   ]
  },
  {
   "cell_type": "markdown",
   "metadata": {},
   "source": [
    "### 7. Export to CSV"
   ]
  },
  {
   "cell_type": "code",
   "execution_count": 56,
   "metadata": {},
   "outputs": [],
   "source": [
    "#Export sample_pattern_count dataframe to csv\n",
    "sample_pattern_count.to_csv('sample_pattern_count.csv', index=True)"
   ]
  },
  {
   "cell_type": "code",
   "execution_count": 114,
   "metadata": {},
   "outputs": [],
   "source": [
    "#export file sample_pattern_transformed to csv - this was for another analysis\n",
    "#data.to_csv('sample_pattern_transformed_data.csv', index=True)"
   ]
  },
  {
   "cell_type": "code",
   "execution_count": null,
   "metadata": {},
   "outputs": [],
   "source": []
  }
 ],
 "metadata": {
  "kernelspec": {
   "display_name": "Python 3",
   "language": "python",
   "name": "python3"
  },
  "language_info": {
   "codemirror_mode": {
    "name": "ipython",
    "version": 3
   },
   "file_extension": ".py",
   "mimetype": "text/x-python",
   "name": "python",
   "nbconvert_exporter": "python",
   "pygments_lexer": "ipython3",
   "version": "3.11.2"
  },
  "orig_nbformat": 4
 },
 "nbformat": 4,
 "nbformat_minor": 2
}
